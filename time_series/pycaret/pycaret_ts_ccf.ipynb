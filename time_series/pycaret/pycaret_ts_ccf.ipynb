{
  "nbformat": 4,
  "nbformat_minor": 0,
  "metadata": {
    "colab": {
      "name": "pycaret_ts_ccf.ipynb",
      "provenance": [],
      "authorship_tag": "ABX9TyOZ04kS7PHUBBdCipvb0uAP",
      "include_colab_link": true
    },
    "kernelspec": {
      "name": "python3",
      "display_name": "Python 3"
    },
    "language_info": {
      "name": "python"
    },
    "widgets": {
      "application/vnd.jupyter.widget-state+json": {
        "3500184601ce44e8a9f1c6fda41beb29": {
          "model_module": "@jupyter-widgets/controls",
          "model_name": "IntProgressModel",
          "model_module_version": "1.5.0",
          "state": {
            "_view_name": "ProgressView",
            "style": "IPY_MODEL_b784bc1e5c1346b5b612f62fa0d5f516",
            "_dom_classes": [],
            "description": "Processing: ",
            "_model_name": "IntProgressModel",
            "bar_style": "",
            "max": 3,
            "_view_module": "@jupyter-widgets/controls",
            "_model_module_version": "1.5.0",
            "value": 3,
            "_view_count": null,
            "_view_module_version": "1.5.0",
            "orientation": "horizontal",
            "min": 0,
            "description_tooltip": null,
            "_model_module": "@jupyter-widgets/controls",
            "layout": "IPY_MODEL_8558d222811b4cc5bce47f3fd533f8cd"
          }
        },
        "b784bc1e5c1346b5b612f62fa0d5f516": {
          "model_module": "@jupyter-widgets/controls",
          "model_name": "ProgressStyleModel",
          "model_module_version": "1.5.0",
          "state": {
            "_view_name": "StyleView",
            "_model_name": "ProgressStyleModel",
            "description_width": "",
            "_view_module": "@jupyter-widgets/base",
            "_model_module_version": "1.5.0",
            "_view_count": null,
            "_view_module_version": "1.2.0",
            "bar_color": null,
            "_model_module": "@jupyter-widgets/controls"
          }
        },
        "8558d222811b4cc5bce47f3fd533f8cd": {
          "model_module": "@jupyter-widgets/base",
          "model_name": "LayoutModel",
          "model_module_version": "1.2.0",
          "state": {
            "_view_name": "LayoutView",
            "grid_template_rows": null,
            "right": null,
            "justify_content": null,
            "_view_module": "@jupyter-widgets/base",
            "overflow": null,
            "_model_module_version": "1.2.0",
            "_view_count": null,
            "flex_flow": null,
            "width": null,
            "min_width": null,
            "border": null,
            "align_items": null,
            "bottom": null,
            "_model_module": "@jupyter-widgets/base",
            "top": null,
            "grid_column": null,
            "overflow_y": null,
            "overflow_x": null,
            "grid_auto_flow": null,
            "grid_area": null,
            "grid_template_columns": null,
            "flex": null,
            "_model_name": "LayoutModel",
            "justify_items": null,
            "grid_row": null,
            "max_height": null,
            "align_content": null,
            "visibility": null,
            "align_self": null,
            "height": null,
            "min_height": null,
            "padding": null,
            "grid_auto_rows": null,
            "grid_gap": null,
            "max_width": null,
            "order": null,
            "_view_module_version": "1.2.0",
            "grid_template_areas": null,
            "object_position": null,
            "object_fit": null,
            "grid_auto_columns": null,
            "margin": null,
            "display": null,
            "left": null
          }
        }
      }
    }
  },
  "cells": [
    {
      "cell_type": "markdown",
      "metadata": {
        "id": "view-in-github",
        "colab_type": "text"
      },
      "source": [
        "<a href=\"https://colab.research.google.com/github/ngupta23/medium_articles/blob/main/time_series/pycaret/pycaret_ts_ccf.ipynb\" target=\"_parent\"><img src=\"https://colab.research.google.com/assets/colab-badge.svg\" alt=\"Open In Colab\"/></a>"
      ]
    },
    {
      "cell_type": "code",
      "execution_count": 1,
      "metadata": {
        "colab": {
          "base_uri": "https://localhost:8080/"
        },
        "id": "KMoWdoQdUJgV",
        "outputId": "dcf76070-9767-4ed3-e7a8-5b9b345b9880"
      },
      "outputs": [
        {
          "output_type": "stream",
          "name": "stdout",
          "text": [
            "\n",
            "System:\n",
            "    python: 3.7.12 (default, Jan 15 2022, 18:48:18)  [GCC 7.5.0]\n",
            "executable: /usr/bin/python3\n",
            "   machine: Linux-5.4.144+-x86_64-with-Ubuntu-18.04-bionic\n",
            "\n",
            "Python dependencies:\n",
            "          pip: 21.1.3\n",
            "   setuptools: 57.4.0\n",
            "      pycaret: 3.0.0\n",
            "      sklearn: 1.0.2\n",
            "       sktime: 0.10.1\n",
            "  statsmodels: 0.12.2\n",
            "        numpy: 1.21.5\n",
            "        scipy: 1.7.3\n",
            "       pandas: 1.3.5\n",
            "   matplotlib: 3.2.2\n",
            "       plotly: 5.5.0\n",
            "       joblib: 1.0.1\n",
            "        numba: 0.55.1\n",
            "       mlflow: 1.23.1\n",
            "     lightgbm: 3.3.2\n",
            "      xgboost: 0.90\n",
            "     pmdarima: 1.8.5\n",
            "        tbats: Installed but version unavailable\n",
            "      prophet: Not installed\n",
            "      tsfresh: Not installed\n"
          ]
        }
      ],
      "source": [
        "def what_is_installed():\n",
        "    import pycaret\n",
        "    from pycaret import show_versions\n",
        "    show_versions()\n",
        "\n",
        "try:\n",
        "    what_is_installed()\n",
        "except:\n",
        "    !pip install pycaret-ts-alpha\n",
        "    what_is_installed()"
      ]
    },
    {
      "cell_type": "code",
      "source": [
        "import numpy as np\n",
        "import pandas as pd\n",
        "from pycaret.datasets import get_data\n",
        "from pycaret.time_series import TSForecastingExperiment"
      ],
      "metadata": {
        "colab": {
          "base_uri": "https://localhost:8080/"
        },
        "id": "lKEExQBnUKju",
        "outputId": "99937d6c-1204-43ba-d91d-1d548249bd7a"
      },
      "execution_count": 2,
      "outputs": [
        {
          "output_type": "stream",
          "name": "stderr",
          "text": [
            "/usr/local/lib/python3.7/dist-packages/distributed/config.py:20: YAMLLoadWarning: calling yaml.load() without Loader=... is deprecated, as the default Loader is unsafe. Please read https://msg.pyyaml.org/load for full details.\n",
            "  defaults = yaml.load(f)\n"
          ]
        }
      ]
    },
    {
      "cell_type": "code",
      "source": [
        "#### Exogenous variables ----\n",
        "data = pd.DataFrame({'a': np.random.randn(200), 'b': np.random.randn(200), 'c': np.random.randn(200)})\n",
        "\n",
        "#### Produce dependent variable based on exogenous variables ----\n",
        "# NOTE: Only dependent on 'a' and 'c' but not 'b'\n",
        "data['y'] = data['a'].shift(4) + data['c'].shift(8)\n",
        "data.dropna(inplace=True)\n",
        "data.shape"
      ],
      "metadata": {
        "colab": {
          "base_uri": "https://localhost:8080/"
        },
        "id": "Gr4K_htyUdot",
        "outputId": "e2c02367-9641-46fb-d220-8ece240358d0"
      },
      "execution_count": 3,
      "outputs": [
        {
          "output_type": "execute_result",
          "data": {
            "text/plain": [
              "(192, 4)"
            ]
          },
          "metadata": {},
          "execution_count": 3
        }
      ]
    },
    {
      "cell_type": "code",
      "source": [
        "#### Create Time Series Forecasting Experiment ----\n",
        "exp = TSForecastingExperiment()\n",
        "global_plot_settings = {\"renderer\": \"colab\"}\n",
        "exp.setup(data=data, target=\"y\", seasonal_period=1, fh=8, fig_kwargs=global_plot_settings, session_id=42)"
      ],
      "metadata": {
        "colab": {
          "base_uri": "https://localhost:8080/",
          "height": 913,
          "referenced_widgets": [
            "3500184601ce44e8a9f1c6fda41beb29",
            "b784bc1e5c1346b5b612f62fa0d5f516",
            "8558d222811b4cc5bce47f3fd533f8cd"
          ]
        },
        "id": "8FjPIxGKUoAs",
        "outputId": "507e0765-5cf5-4773-a6b9-7c65c56230c2"
      },
      "execution_count": 4,
      "outputs": [
        {
          "output_type": "display_data",
          "data": {
            "text/html": [
              "\n",
              "  <div id=\"df-1c83f7eb-a577-43a2-9337-b6848a81a26d\">\n",
              "    <div class=\"colab-df-container\">\n",
              "      <div>\n",
              "<style scoped>\n",
              "    .dataframe tbody tr th:only-of-type {\n",
              "        vertical-align: middle;\n",
              "    }\n",
              "\n",
              "    .dataframe tbody tr th {\n",
              "        vertical-align: top;\n",
              "    }\n",
              "\n",
              "    .dataframe thead th {\n",
              "        text-align: right;\n",
              "    }\n",
              "</style>\n",
              "<table border=\"1\" class=\"dataframe\">\n",
              "  <thead>\n",
              "    <tr style=\"text-align: right;\">\n",
              "      <th></th>\n",
              "      <th>Description</th>\n",
              "      <th>Value</th>\n",
              "    </tr>\n",
              "  </thead>\n",
              "  <tbody>\n",
              "    <tr>\n",
              "      <th>0</th>\n",
              "      <td>session_id</td>\n",
              "      <td>42</td>\n",
              "    </tr>\n",
              "    <tr>\n",
              "      <th>1</th>\n",
              "      <td>Target</td>\n",
              "      <td>y</td>\n",
              "    </tr>\n",
              "    <tr>\n",
              "      <th>2</th>\n",
              "      <td>Original Data</td>\n",
              "      <td>(192, 4)</td>\n",
              "    </tr>\n",
              "    <tr>\n",
              "      <th>3</th>\n",
              "      <td>Missing Values</td>\n",
              "      <td>False</td>\n",
              "    </tr>\n",
              "    <tr>\n",
              "      <th>4</th>\n",
              "      <td>Approach</td>\n",
              "      <td>Univariate</td>\n",
              "    </tr>\n",
              "    <tr>\n",
              "      <th>5</th>\n",
              "      <td>Exogenous Variables</td>\n",
              "      <td>Present</td>\n",
              "    </tr>\n",
              "    <tr>\n",
              "      <th>6</th>\n",
              "      <td>Transformed Train Target</td>\n",
              "      <td>(184,)</td>\n",
              "    </tr>\n",
              "    <tr>\n",
              "      <th>7</th>\n",
              "      <td>Transformed Test Target</td>\n",
              "      <td>(8,)</td>\n",
              "    </tr>\n",
              "    <tr>\n",
              "      <th>8</th>\n",
              "      <td>Transformed Train Exogenous</td>\n",
              "      <td>(184, 3)</td>\n",
              "    </tr>\n",
              "    <tr>\n",
              "      <th>9</th>\n",
              "      <td>Transformed Test Exogenous</td>\n",
              "      <td>(8, 3)</td>\n",
              "    </tr>\n",
              "    <tr>\n",
              "      <th>10</th>\n",
              "      <td>Fold Generator</td>\n",
              "      <td>ExpandingWindowSplitter</td>\n",
              "    </tr>\n",
              "    <tr>\n",
              "      <th>11</th>\n",
              "      <td>Fold Number</td>\n",
              "      <td>3</td>\n",
              "    </tr>\n",
              "    <tr>\n",
              "      <th>12</th>\n",
              "      <td>Enforce Prediction Interval</td>\n",
              "      <td>False</td>\n",
              "    </tr>\n",
              "    <tr>\n",
              "      <th>13</th>\n",
              "      <td>Seasonal Period(s) Tested</td>\n",
              "      <td>1</td>\n",
              "    </tr>\n",
              "    <tr>\n",
              "      <th>14</th>\n",
              "      <td>Seasonality Present</td>\n",
              "      <td>False</td>\n",
              "    </tr>\n",
              "    <tr>\n",
              "      <th>15</th>\n",
              "      <td>Seasonalities Detected</td>\n",
              "      <td>[1]</td>\n",
              "    </tr>\n",
              "    <tr>\n",
              "      <th>16</th>\n",
              "      <td>Primary Seasonality</td>\n",
              "      <td>1</td>\n",
              "    </tr>\n",
              "    <tr>\n",
              "      <th>17</th>\n",
              "      <td>Target Strictly Positive</td>\n",
              "      <td>False</td>\n",
              "    </tr>\n",
              "    <tr>\n",
              "      <th>18</th>\n",
              "      <td>Target White Noise</td>\n",
              "      <td>Yes</td>\n",
              "    </tr>\n",
              "    <tr>\n",
              "      <th>19</th>\n",
              "      <td>Recommended d</td>\n",
              "      <td>0</td>\n",
              "    </tr>\n",
              "    <tr>\n",
              "      <th>20</th>\n",
              "      <td>Recommended Seasonal D</td>\n",
              "      <td>0</td>\n",
              "    </tr>\n",
              "    <tr>\n",
              "      <th>21</th>\n",
              "      <td>CPU Jobs</td>\n",
              "      <td>-1</td>\n",
              "    </tr>\n",
              "    <tr>\n",
              "      <th>22</th>\n",
              "      <td>Use GPU</td>\n",
              "      <td>False</td>\n",
              "    </tr>\n",
              "    <tr>\n",
              "      <th>23</th>\n",
              "      <td>Log Experiment</td>\n",
              "      <td>False</td>\n",
              "    </tr>\n",
              "    <tr>\n",
              "      <th>24</th>\n",
              "      <td>Experiment Name</td>\n",
              "      <td>ts-default-name</td>\n",
              "    </tr>\n",
              "    <tr>\n",
              "      <th>25</th>\n",
              "      <td>USI</td>\n",
              "      <td>932d</td>\n",
              "    </tr>\n",
              "    <tr>\n",
              "      <th>26</th>\n",
              "      <td>Imputation Type</td>\n",
              "      <td>simple</td>\n",
              "    </tr>\n",
              "  </tbody>\n",
              "</table>\n",
              "</div>\n",
              "      <button class=\"colab-df-convert\" onclick=\"convertToInteractive('df-1c83f7eb-a577-43a2-9337-b6848a81a26d')\"\n",
              "              title=\"Convert this dataframe to an interactive table.\"\n",
              "              style=\"display:none;\">\n",
              "        \n",
              "  <svg xmlns=\"http://www.w3.org/2000/svg\" height=\"24px\"viewBox=\"0 0 24 24\"\n",
              "       width=\"24px\">\n",
              "    <path d=\"M0 0h24v24H0V0z\" fill=\"none\"/>\n",
              "    <path d=\"M18.56 5.44l.94 2.06.94-2.06 2.06-.94-2.06-.94-.94-2.06-.94 2.06-2.06.94zm-11 1L8.5 8.5l.94-2.06 2.06-.94-2.06-.94L8.5 2.5l-.94 2.06-2.06.94zm10 10l.94 2.06.94-2.06 2.06-.94-2.06-.94-.94-2.06-.94 2.06-2.06.94z\"/><path d=\"M17.41 7.96l-1.37-1.37c-.4-.4-.92-.59-1.43-.59-.52 0-1.04.2-1.43.59L10.3 9.45l-7.72 7.72c-.78.78-.78 2.05 0 2.83L4 21.41c.39.39.9.59 1.41.59.51 0 1.02-.2 1.41-.59l7.78-7.78 2.81-2.81c.8-.78.8-2.07 0-2.86zM5.41 20L4 18.59l7.72-7.72 1.47 1.35L5.41 20z\"/>\n",
              "  </svg>\n",
              "      </button>\n",
              "      \n",
              "  <style>\n",
              "    .colab-df-container {\n",
              "      display:flex;\n",
              "      flex-wrap:wrap;\n",
              "      gap: 12px;\n",
              "    }\n",
              "\n",
              "    .colab-df-convert {\n",
              "      background-color: #E8F0FE;\n",
              "      border: none;\n",
              "      border-radius: 50%;\n",
              "      cursor: pointer;\n",
              "      display: none;\n",
              "      fill: #1967D2;\n",
              "      height: 32px;\n",
              "      padding: 0 0 0 0;\n",
              "      width: 32px;\n",
              "    }\n",
              "\n",
              "    .colab-df-convert:hover {\n",
              "      background-color: #E2EBFA;\n",
              "      box-shadow: 0px 1px 2px rgba(60, 64, 67, 0.3), 0px 1px 3px 1px rgba(60, 64, 67, 0.15);\n",
              "      fill: #174EA6;\n",
              "    }\n",
              "\n",
              "    [theme=dark] .colab-df-convert {\n",
              "      background-color: #3B4455;\n",
              "      fill: #D2E3FC;\n",
              "    }\n",
              "\n",
              "    [theme=dark] .colab-df-convert:hover {\n",
              "      background-color: #434B5C;\n",
              "      box-shadow: 0px 1px 3px 1px rgba(0, 0, 0, 0.15);\n",
              "      filter: drop-shadow(0px 1px 2px rgba(0, 0, 0, 0.3));\n",
              "      fill: #FFFFFF;\n",
              "    }\n",
              "  </style>\n",
              "\n",
              "      <script>\n",
              "        const buttonEl =\n",
              "          document.querySelector('#df-1c83f7eb-a577-43a2-9337-b6848a81a26d button.colab-df-convert');\n",
              "        buttonEl.style.display =\n",
              "          google.colab.kernel.accessAllowed ? 'block' : 'none';\n",
              "\n",
              "        async function convertToInteractive(key) {\n",
              "          const element = document.querySelector('#df-1c83f7eb-a577-43a2-9337-b6848a81a26d');\n",
              "          const dataTable =\n",
              "            await google.colab.kernel.invokeFunction('convertToInteractive',\n",
              "                                                     [key], {});\n",
              "          if (!dataTable) return;\n",
              "\n",
              "          const docLinkHtml = 'Like what you see? Visit the ' +\n",
              "            '<a target=\"_blank\" href=https://colab.research.google.com/notebooks/data_table.ipynb>data table notebook</a>'\n",
              "            + ' to learn more about interactive tables.';\n",
              "          element.innerHTML = '';\n",
              "          dataTable['output_type'] = 'display_data';\n",
              "          await google.colab.output.renderOutput(dataTable, element);\n",
              "          const docLink = document.createElement('div');\n",
              "          docLink.innerHTML = docLinkHtml;\n",
              "          element.appendChild(docLink);\n",
              "        }\n",
              "      </script>\n",
              "    </div>\n",
              "  </div>\n",
              "  "
            ],
            "text/plain": [
              "                    Description                    Value\n",
              "0                    session_id                       42\n",
              "1                        Target                        y\n",
              "2                 Original Data                 (192, 4)\n",
              "3                Missing Values                    False\n",
              "4                      Approach               Univariate\n",
              "5           Exogenous Variables                  Present\n",
              "6      Transformed Train Target                   (184,)\n",
              "7       Transformed Test Target                     (8,)\n",
              "8   Transformed Train Exogenous                 (184, 3)\n",
              "9    Transformed Test Exogenous                   (8, 3)\n",
              "10               Fold Generator  ExpandingWindowSplitter\n",
              "11                  Fold Number                        3\n",
              "12  Enforce Prediction Interval                    False\n",
              "13    Seasonal Period(s) Tested                        1\n",
              "14          Seasonality Present                    False\n",
              "15       Seasonalities Detected                      [1]\n",
              "16          Primary Seasonality                        1\n",
              "17     Target Strictly Positive                    False\n",
              "18           Target White Noise                      Yes\n",
              "19                Recommended d                        0\n",
              "20       Recommended Seasonal D                        0\n",
              "21                     CPU Jobs                       -1\n",
              "22                      Use GPU                    False\n",
              "23               Log Experiment                    False\n",
              "24              Experiment Name          ts-default-name\n",
              "25                          USI                     932d\n",
              "26              Imputation Type                   simple"
            ]
          },
          "metadata": {}
        },
        {
          "output_type": "execute_result",
          "data": {
            "text/plain": [
              "<pycaret.internal.pycaret_experiment.time_series_experiment.TSForecastingExperiment at 0x7ffaf66a2c50>"
            ]
          },
          "metadata": {},
          "execution_count": 4
        }
      ]
    },
    {
      "cell_type": "code",
      "source": [
        "exp.plot_model(plot=\"acf\")"
      ],
      "metadata": {
        "colab": {
          "base_uri": "https://localhost:8080/",
          "height": 542
        },
        "id": "MPUrCzubV0jH",
        "outputId": "6c990150-be7d-46d3-a159-9f452959056c"
      },
      "execution_count": 5,
      "outputs": [
        {
          "output_type": "display_data",
          "data": {
            "text/html": [
              "<html>\n",
              "<head><meta charset=\"utf-8\" /></head>\n",
              "<body>\n",
              "    <div>            <script src=\"https://cdnjs.cloudflare.com/ajax/libs/mathjax/2.7.5/MathJax.js?config=TeX-AMS-MML_SVG\"></script><script type=\"text/javascript\">if (window.MathJax) {MathJax.Hub.Config({SVG: {font: \"STIX-Web\"}});}</script>                <script type=\"text/javascript\">window.PlotlyConfig = {MathJaxConfig: 'local'};</script>\n",
              "        <script src=\"https://cdn.plot.ly/plotly-2.8.3.min.js\"></script>                <div id=\"678d17b4-e7a9-454b-92a0-76569db076aa\" class=\"plotly-graph-div\" style=\"height:525px; width:100%;\"></div>            <script type=\"text/javascript\">                                    window.PLOTLYENV=window.PLOTLYENV || {};                                    if (document.getElementById(\"678d17b4-e7a9-454b-92a0-76569db076aa\")) {                    Plotly.newPlot(                        \"678d17b4-e7a9-454b-92a0-76569db076aa\",                        [{\"marker\":{\"color\":\"#1f77b4\",\"size\":10},\"mode\":\"markers\",\"name\":\"ACF\",\"x\":[0,1,2,3,4,5,6,7,8,9,10,11,12,13,14,15,16,17,18,19,20,21,22,23,24,25,26,27,28,29,30,31,32,33,34,35,36,37,38,39,40],\"y\":[1.0,0.007908431914038,0.06239004161161779,-0.030541975417837257,0.043820994381798054,-0.11927453655665621,-0.045432220828889286,-0.017844919627913684,-0.0654030744098451,0.09843582151847997,-0.0030197768301591455,0.0033239870813788837,-0.11770079383801516,0.08487812079450498,-0.15219562484712365,-0.031824397216530166,0.04758728666430951,0.002591437242041936,0.02894528434687443,0.009411962877399267,-0.09829696188536667,0.015981102293792893,0.013923686105445237,-0.0021786396214851012,0.020192121362916704,-0.032429788382030304,0.015964224341331205,-0.040088004402391804,0.026717672071602167,0.0465861643983589,0.010360596869121132,0.03937284778953103,-0.008006271648584992,-0.051702774512687684,0.019456014800773004,0.05785984898088684,-0.16002033135656565,0.012206419110534711,0.021106963074703385,0.07666956034475456,-0.11522622746709353],\"type\":\"scattergl\"},{\"line\":{\"color\":\"#3f3f3f\"},\"mode\":\"lines\",\"name\":\"Lag1\",\"x\":[0,0],\"y\":[0,1.0],\"type\":\"scattergl\"},{\"line\":{\"color\":\"#3f3f3f\"},\"mode\":\"lines\",\"name\":\"Lag2\",\"x\":[1,1],\"y\":[0,0.007908431914038],\"type\":\"scattergl\"},{\"line\":{\"color\":\"#3f3f3f\"},\"mode\":\"lines\",\"name\":\"Lag3\",\"x\":[2,2],\"y\":[0,0.06239004161161779],\"type\":\"scattergl\"},{\"line\":{\"color\":\"#3f3f3f\"},\"mode\":\"lines\",\"name\":\"Lag4\",\"x\":[3,3],\"y\":[0,-0.030541975417837257],\"type\":\"scattergl\"},{\"line\":{\"color\":\"#3f3f3f\"},\"mode\":\"lines\",\"name\":\"Lag5\",\"x\":[4,4],\"y\":[0,0.043820994381798054],\"type\":\"scattergl\"},{\"line\":{\"color\":\"#3f3f3f\"},\"mode\":\"lines\",\"name\":\"Lag6\",\"x\":[5,5],\"y\":[0,-0.11927453655665621],\"type\":\"scattergl\"},{\"line\":{\"color\":\"#3f3f3f\"},\"mode\":\"lines\",\"name\":\"Lag7\",\"x\":[6,6],\"y\":[0,-0.045432220828889286],\"type\":\"scattergl\"},{\"line\":{\"color\":\"#3f3f3f\"},\"mode\":\"lines\",\"name\":\"Lag8\",\"x\":[7,7],\"y\":[0,-0.017844919627913684],\"type\":\"scattergl\"},{\"line\":{\"color\":\"#3f3f3f\"},\"mode\":\"lines\",\"name\":\"Lag9\",\"x\":[8,8],\"y\":[0,-0.0654030744098451],\"type\":\"scattergl\"},{\"line\":{\"color\":\"#3f3f3f\"},\"mode\":\"lines\",\"name\":\"Lag10\",\"x\":[9,9],\"y\":[0,0.09843582151847997],\"type\":\"scattergl\"},{\"line\":{\"color\":\"#3f3f3f\"},\"mode\":\"lines\",\"name\":\"Lag11\",\"x\":[10,10],\"y\":[0,-0.0030197768301591455],\"type\":\"scattergl\"},{\"line\":{\"color\":\"#3f3f3f\"},\"mode\":\"lines\",\"name\":\"Lag12\",\"x\":[11,11],\"y\":[0,0.0033239870813788837],\"type\":\"scattergl\"},{\"line\":{\"color\":\"#3f3f3f\"},\"mode\":\"lines\",\"name\":\"Lag13\",\"x\":[12,12],\"y\":[0,-0.11770079383801516],\"type\":\"scattergl\"},{\"line\":{\"color\":\"#3f3f3f\"},\"mode\":\"lines\",\"name\":\"Lag14\",\"x\":[13,13],\"y\":[0,0.08487812079450498],\"type\":\"scattergl\"},{\"line\":{\"color\":\"#3f3f3f\"},\"mode\":\"lines\",\"name\":\"Lag15\",\"x\":[14,14],\"y\":[0,-0.15219562484712365],\"type\":\"scattergl\"},{\"line\":{\"color\":\"#3f3f3f\"},\"mode\":\"lines\",\"name\":\"Lag16\",\"x\":[15,15],\"y\":[0,-0.031824397216530166],\"type\":\"scattergl\"},{\"line\":{\"color\":\"#3f3f3f\"},\"mode\":\"lines\",\"name\":\"Lag17\",\"x\":[16,16],\"y\":[0,0.04758728666430951],\"type\":\"scattergl\"},{\"line\":{\"color\":\"#3f3f3f\"},\"mode\":\"lines\",\"name\":\"Lag18\",\"x\":[17,17],\"y\":[0,0.002591437242041936],\"type\":\"scattergl\"},{\"line\":{\"color\":\"#3f3f3f\"},\"mode\":\"lines\",\"name\":\"Lag19\",\"x\":[18,18],\"y\":[0,0.02894528434687443],\"type\":\"scattergl\"},{\"line\":{\"color\":\"#3f3f3f\"},\"mode\":\"lines\",\"name\":\"Lag20\",\"x\":[19,19],\"y\":[0,0.009411962877399267],\"type\":\"scattergl\"},{\"line\":{\"color\":\"#3f3f3f\"},\"mode\":\"lines\",\"name\":\"Lag21\",\"x\":[20,20],\"y\":[0,-0.09829696188536667],\"type\":\"scattergl\"},{\"line\":{\"color\":\"#3f3f3f\"},\"mode\":\"lines\",\"name\":\"Lag22\",\"x\":[21,21],\"y\":[0,0.015981102293792893],\"type\":\"scattergl\"},{\"line\":{\"color\":\"#3f3f3f\"},\"mode\":\"lines\",\"name\":\"Lag23\",\"x\":[22,22],\"y\":[0,0.013923686105445237],\"type\":\"scattergl\"},{\"line\":{\"color\":\"#3f3f3f\"},\"mode\":\"lines\",\"name\":\"Lag24\",\"x\":[23,23],\"y\":[0,-0.0021786396214851012],\"type\":\"scattergl\"},{\"line\":{\"color\":\"#3f3f3f\"},\"mode\":\"lines\",\"name\":\"Lag25\",\"x\":[24,24],\"y\":[0,0.020192121362916704],\"type\":\"scattergl\"},{\"line\":{\"color\":\"#3f3f3f\"},\"mode\":\"lines\",\"name\":\"Lag26\",\"x\":[25,25],\"y\":[0,-0.032429788382030304],\"type\":\"scattergl\"},{\"line\":{\"color\":\"#3f3f3f\"},\"mode\":\"lines\",\"name\":\"Lag27\",\"x\":[26,26],\"y\":[0,0.015964224341331205],\"type\":\"scattergl\"},{\"line\":{\"color\":\"#3f3f3f\"},\"mode\":\"lines\",\"name\":\"Lag28\",\"x\":[27,27],\"y\":[0,-0.040088004402391804],\"type\":\"scattergl\"},{\"line\":{\"color\":\"#3f3f3f\"},\"mode\":\"lines\",\"name\":\"Lag29\",\"x\":[28,28],\"y\":[0,0.026717672071602167],\"type\":\"scattergl\"},{\"line\":{\"color\":\"#3f3f3f\"},\"mode\":\"lines\",\"name\":\"Lag30\",\"x\":[29,29],\"y\":[0,0.0465861643983589],\"type\":\"scattergl\"},{\"line\":{\"color\":\"#3f3f3f\"},\"mode\":\"lines\",\"name\":\"Lag31\",\"x\":[30,30],\"y\":[0,0.010360596869121132],\"type\":\"scattergl\"},{\"line\":{\"color\":\"#3f3f3f\"},\"mode\":\"lines\",\"name\":\"Lag32\",\"x\":[31,31],\"y\":[0,0.03937284778953103],\"type\":\"scattergl\"},{\"line\":{\"color\":\"#3f3f3f\"},\"mode\":\"lines\",\"name\":\"Lag33\",\"x\":[32,32],\"y\":[0,-0.008006271648584992],\"type\":\"scattergl\"},{\"line\":{\"color\":\"#3f3f3f\"},\"mode\":\"lines\",\"name\":\"Lag34\",\"x\":[33,33],\"y\":[0,-0.051702774512687684],\"type\":\"scattergl\"},{\"line\":{\"color\":\"#3f3f3f\"},\"mode\":\"lines\",\"name\":\"Lag35\",\"x\":[34,34],\"y\":[0,0.019456014800773004],\"type\":\"scattergl\"},{\"line\":{\"color\":\"#3f3f3f\"},\"mode\":\"lines\",\"name\":\"Lag36\",\"x\":[35,35],\"y\":[0,0.05785984898088684],\"type\":\"scattergl\"},{\"line\":{\"color\":\"#3f3f3f\"},\"mode\":\"lines\",\"name\":\"Lag37\",\"x\":[36,36],\"y\":[0,-0.16002033135656565],\"type\":\"scattergl\"},{\"line\":{\"color\":\"#3f3f3f\"},\"mode\":\"lines\",\"name\":\"Lag38\",\"x\":[37,37],\"y\":[0,0.012206419110534711],\"type\":\"scattergl\"},{\"line\":{\"color\":\"#3f3f3f\"},\"mode\":\"lines\",\"name\":\"Lag39\",\"x\":[38,38],\"y\":[0,0.021106963074703385],\"type\":\"scattergl\"},{\"line\":{\"color\":\"#3f3f3f\"},\"mode\":\"lines\",\"name\":\"Lag40\",\"x\":[39,39],\"y\":[0,0.07666956034475456],\"type\":\"scattergl\"},{\"line\":{\"color\":\"#3f3f3f\"},\"mode\":\"lines\",\"name\":\"Lag41\",\"x\":[40,40],\"y\":[0,-0.11522622746709353],\"type\":\"scattergl\"},{\"line\":{\"color\":\"rgba(255,255,255,0)\"},\"mode\":\"lines\",\"name\":\"UC\",\"x\":[0,1,2,3,4,5,6,7,8,9,10,11,12,13,14,15,16,17,18,19,20,21,22,23,24,25,26,27,28,29,30,31,32,33,34,35,36,37,38,39,40],\"y\":[0.0,0.14144821675952146,0.14145706312048578,0.14200655107863225,0.14213791617582516,0.14240796177676368,0.1443928681256226,0.1446785927464167,0.14472262326392493,0.14531278392531682,0.1466408430630718,0.14664208725637456,0.1466435947404807,0.14852169360509665,0.14948904563122836,0.15255775000452554,0.15269051760738717,0.15298696210300058,0.1529878403580948,0.1530973716579373,0.15310894799625357,0.15436640986246905,0.15439950841907904,0.15442462856515835,0.15442524352721196,0.15447805962273087,0.154614211938407,0.1546471877031673,0.15485496120292294,0.15494716266086378,0.1552271465457189,0.15524098149199927,0.15544064699285656,0.15544889747778493,0.15579257820730116,0.15584118402147268,0.1562703938528827,0.1595151571812464,0.15953384437610243,0.15958970651933302,0.16032495941682398],\"type\":\"scattergl\"},{\"fill\":\"tonexty\",\"fillcolor\":\"rgba(32, 146, 230,0.3)\",\"line\":{\"color\":\"rgba(255,255,255,0)\"},\"mode\":\"lines\",\"name\":\"LC\",\"x\":[0,1,2,3,4,5,6,7,8,9,10,11,12,13,14,15,16,17,18,19,20,21,22,23,24,25,26,27,28,29,30,31,32,33,34,35,36,37,38,39,40],\"y\":[0.0,-0.14144821675952146,-0.14145706312048578,-0.14200655107863225,-0.14213791617582514,-0.14240796177676368,-0.1443928681256226,-0.1446785927464167,-0.14472262326392493,-0.14531278392531682,-0.1466408430630718,-0.14664208725637456,-0.1466435947404807,-0.14852169360509665,-0.14948904563122836,-0.15255775000452554,-0.15269051760738717,-0.15298696210300058,-0.1529878403580948,-0.1530973716579373,-0.15310894799625357,-0.15436640986246905,-0.15439950841907904,-0.15442462856515835,-0.15442524352721196,-0.15447805962273087,-0.154614211938407,-0.1546471877031673,-0.15485496120292294,-0.15494716266086378,-0.1552271465457189,-0.15524098149199927,-0.15544064699285656,-0.15544889747778493,-0.15579257820730116,-0.15584118402147268,-0.1562703938528827,-0.1595151571812464,-0.15953384437610243,-0.15958970651933302,-0.16032495941682395],\"type\":\"scattergl\"},{\"line\":{\"color\":\"#3f3f3f\"},\"mode\":\"lines\",\"name\":\"\",\"x\":[0,41],\"y\":[0,0],\"type\":\"scattergl\"}],                        {\"template\":{\"data\":{\"barpolar\":[{\"marker\":{\"line\":{\"color\":\"rgb(237,237,237)\",\"width\":0.5},\"pattern\":{\"fillmode\":\"overlay\",\"size\":10,\"solidity\":0.2}},\"type\":\"barpolar\"}],\"bar\":[{\"error_x\":{\"color\":\"rgb(51,51,51)\"},\"error_y\":{\"color\":\"rgb(51,51,51)\"},\"marker\":{\"line\":{\"color\":\"rgb(237,237,237)\",\"width\":0.5},\"pattern\":{\"fillmode\":\"overlay\",\"size\":10,\"solidity\":0.2}},\"type\":\"bar\"}],\"carpet\":[{\"aaxis\":{\"endlinecolor\":\"rgb(51,51,51)\",\"gridcolor\":\"white\",\"linecolor\":\"white\",\"minorgridcolor\":\"white\",\"startlinecolor\":\"rgb(51,51,51)\"},\"baxis\":{\"endlinecolor\":\"rgb(51,51,51)\",\"gridcolor\":\"white\",\"linecolor\":\"white\",\"minorgridcolor\":\"white\",\"startlinecolor\":\"rgb(51,51,51)\"},\"type\":\"carpet\"}],\"choropleth\":[{\"colorbar\":{\"outlinewidth\":0,\"tickcolor\":\"rgb(237,237,237)\",\"ticklen\":6,\"ticks\":\"inside\"},\"type\":\"choropleth\"}],\"contourcarpet\":[{\"colorbar\":{\"outlinewidth\":0,\"tickcolor\":\"rgb(237,237,237)\",\"ticklen\":6,\"ticks\":\"inside\"},\"type\":\"contourcarpet\"}],\"contour\":[{\"colorbar\":{\"outlinewidth\":0,\"tickcolor\":\"rgb(237,237,237)\",\"ticklen\":6,\"ticks\":\"inside\"},\"colorscale\":[[0,\"rgb(20,44,66)\"],[1,\"rgb(90,179,244)\"]],\"type\":\"contour\"}],\"heatmapgl\":[{\"colorbar\":{\"outlinewidth\":0,\"tickcolor\":\"rgb(237,237,237)\",\"ticklen\":6,\"ticks\":\"inside\"},\"colorscale\":[[0,\"rgb(20,44,66)\"],[1,\"rgb(90,179,244)\"]],\"type\":\"heatmapgl\"}],\"heatmap\":[{\"colorbar\":{\"outlinewidth\":0,\"tickcolor\":\"rgb(237,237,237)\",\"ticklen\":6,\"ticks\":\"inside\"},\"colorscale\":[[0,\"rgb(20,44,66)\"],[1,\"rgb(90,179,244)\"]],\"type\":\"heatmap\"}],\"histogram2dcontour\":[{\"colorbar\":{\"outlinewidth\":0,\"tickcolor\":\"rgb(237,237,237)\",\"ticklen\":6,\"ticks\":\"inside\"},\"colorscale\":[[0,\"rgb(20,44,66)\"],[1,\"rgb(90,179,244)\"]],\"type\":\"histogram2dcontour\"}],\"histogram2d\":[{\"colorbar\":{\"outlinewidth\":0,\"tickcolor\":\"rgb(237,237,237)\",\"ticklen\":6,\"ticks\":\"inside\"},\"colorscale\":[[0,\"rgb(20,44,66)\"],[1,\"rgb(90,179,244)\"]],\"type\":\"histogram2d\"}],\"histogram\":[{\"marker\":{\"pattern\":{\"fillmode\":\"overlay\",\"size\":10,\"solidity\":0.2}},\"type\":\"histogram\"}],\"mesh3d\":[{\"colorbar\":{\"outlinewidth\":0,\"tickcolor\":\"rgb(237,237,237)\",\"ticklen\":6,\"ticks\":\"inside\"},\"type\":\"mesh3d\"}],\"parcoords\":[{\"line\":{\"colorbar\":{\"outlinewidth\":0,\"tickcolor\":\"rgb(237,237,237)\",\"ticklen\":6,\"ticks\":\"inside\"}},\"type\":\"parcoords\"}],\"pie\":[{\"automargin\":true,\"type\":\"pie\"}],\"scatter3d\":[{\"line\":{\"colorbar\":{\"outlinewidth\":0,\"tickcolor\":\"rgb(237,237,237)\",\"ticklen\":6,\"ticks\":\"inside\"}},\"marker\":{\"colorbar\":{\"outlinewidth\":0,\"tickcolor\":\"rgb(237,237,237)\",\"ticklen\":6,\"ticks\":\"inside\"}},\"type\":\"scatter3d\"}],\"scattercarpet\":[{\"marker\":{\"colorbar\":{\"outlinewidth\":0,\"tickcolor\":\"rgb(237,237,237)\",\"ticklen\":6,\"ticks\":\"inside\"}},\"type\":\"scattercarpet\"}],\"scattergeo\":[{\"marker\":{\"colorbar\":{\"outlinewidth\":0,\"tickcolor\":\"rgb(237,237,237)\",\"ticklen\":6,\"ticks\":\"inside\"}},\"type\":\"scattergeo\"}],\"scattergl\":[{\"marker\":{\"colorbar\":{\"outlinewidth\":0,\"tickcolor\":\"rgb(237,237,237)\",\"ticklen\":6,\"ticks\":\"inside\"}},\"type\":\"scattergl\"}],\"scattermapbox\":[{\"marker\":{\"colorbar\":{\"outlinewidth\":0,\"tickcolor\":\"rgb(237,237,237)\",\"ticklen\":6,\"ticks\":\"inside\"}},\"type\":\"scattermapbox\"}],\"scatterpolargl\":[{\"marker\":{\"colorbar\":{\"outlinewidth\":0,\"tickcolor\":\"rgb(237,237,237)\",\"ticklen\":6,\"ticks\":\"inside\"}},\"type\":\"scatterpolargl\"}],\"scatterpolar\":[{\"marker\":{\"colorbar\":{\"outlinewidth\":0,\"tickcolor\":\"rgb(237,237,237)\",\"ticklen\":6,\"ticks\":\"inside\"}},\"type\":\"scatterpolar\"}],\"scatter\":[{\"marker\":{\"colorbar\":{\"outlinewidth\":0,\"tickcolor\":\"rgb(237,237,237)\",\"ticklen\":6,\"ticks\":\"inside\"}},\"type\":\"scatter\"}],\"scatterternary\":[{\"marker\":{\"colorbar\":{\"outlinewidth\":0,\"tickcolor\":\"rgb(237,237,237)\",\"ticklen\":6,\"ticks\":\"inside\"}},\"type\":\"scatterternary\"}],\"surface\":[{\"colorbar\":{\"outlinewidth\":0,\"tickcolor\":\"rgb(237,237,237)\",\"ticklen\":6,\"ticks\":\"inside\"},\"colorscale\":[[0,\"rgb(20,44,66)\"],[1,\"rgb(90,179,244)\"]],\"type\":\"surface\"}],\"table\":[{\"cells\":{\"fill\":{\"color\":\"rgb(237,237,237)\"},\"line\":{\"color\":\"white\"}},\"header\":{\"fill\":{\"color\":\"rgb(217,217,217)\"},\"line\":{\"color\":\"white\"}},\"type\":\"table\"}]},\"layout\":{\"annotationdefaults\":{\"arrowhead\":0,\"arrowwidth\":1},\"autotypenumbers\":\"strict\",\"coloraxis\":{\"colorbar\":{\"outlinewidth\":0,\"tickcolor\":\"rgb(237,237,237)\",\"ticklen\":6,\"ticks\":\"inside\"}},\"colorscale\":{\"sequential\":[[0,\"rgb(20,44,66)\"],[1,\"rgb(90,179,244)\"]],\"sequentialminus\":[[0,\"rgb(20,44,66)\"],[1,\"rgb(90,179,244)\"]]},\"colorway\":[\"#F8766D\",\"#A3A500\",\"#00BF7D\",\"#00B0F6\",\"#E76BF3\"],\"font\":{\"color\":\"rgb(51,51,51)\"},\"geo\":{\"bgcolor\":\"white\",\"lakecolor\":\"white\",\"landcolor\":\"rgb(237,237,237)\",\"showlakes\":true,\"showland\":true,\"subunitcolor\":\"white\"},\"hoverlabel\":{\"align\":\"left\"},\"hovermode\":\"closest\",\"paper_bgcolor\":\"white\",\"plot_bgcolor\":\"rgb(237,237,237)\",\"polar\":{\"angularaxis\":{\"gridcolor\":\"white\",\"linecolor\":\"white\",\"showgrid\":true,\"tickcolor\":\"rgb(51,51,51)\",\"ticks\":\"outside\"},\"bgcolor\":\"rgb(237,237,237)\",\"radialaxis\":{\"gridcolor\":\"white\",\"linecolor\":\"white\",\"showgrid\":true,\"tickcolor\":\"rgb(51,51,51)\",\"ticks\":\"outside\"}},\"scene\":{\"xaxis\":{\"backgroundcolor\":\"rgb(237,237,237)\",\"gridcolor\":\"white\",\"gridwidth\":2,\"linecolor\":\"white\",\"showbackground\":true,\"showgrid\":true,\"tickcolor\":\"rgb(51,51,51)\",\"ticks\":\"outside\",\"zerolinecolor\":\"white\"},\"yaxis\":{\"backgroundcolor\":\"rgb(237,237,237)\",\"gridcolor\":\"white\",\"gridwidth\":2,\"linecolor\":\"white\",\"showbackground\":true,\"showgrid\":true,\"tickcolor\":\"rgb(51,51,51)\",\"ticks\":\"outside\",\"zerolinecolor\":\"white\"},\"zaxis\":{\"backgroundcolor\":\"rgb(237,237,237)\",\"gridcolor\":\"white\",\"gridwidth\":2,\"linecolor\":\"white\",\"showbackground\":true,\"showgrid\":true,\"tickcolor\":\"rgb(51,51,51)\",\"ticks\":\"outside\",\"zerolinecolor\":\"white\"}},\"shapedefaults\":{\"fillcolor\":\"black\",\"line\":{\"width\":0},\"opacity\":0.3},\"ternary\":{\"aaxis\":{\"gridcolor\":\"white\",\"linecolor\":\"white\",\"showgrid\":true,\"tickcolor\":\"rgb(51,51,51)\",\"ticks\":\"outside\"},\"baxis\":{\"gridcolor\":\"white\",\"linecolor\":\"white\",\"showgrid\":true,\"tickcolor\":\"rgb(51,51,51)\",\"ticks\":\"outside\"},\"bgcolor\":\"rgb(237,237,237)\",\"caxis\":{\"gridcolor\":\"white\",\"linecolor\":\"white\",\"showgrid\":true,\"tickcolor\":\"rgb(51,51,51)\",\"ticks\":\"outside\"}},\"xaxis\":{\"automargin\":true,\"gridcolor\":\"white\",\"linecolor\":\"white\",\"showgrid\":true,\"tickcolor\":\"rgb(51,51,51)\",\"ticks\":\"outside\",\"title\":{\"standoff\":15},\"zerolinecolor\":\"white\"},\"yaxis\":{\"automargin\":true,\"gridcolor\":\"white\",\"linecolor\":\"white\",\"showgrid\":true,\"tickcolor\":\"rgb(51,51,51)\",\"ticks\":\"outside\",\"title\":{\"standoff\":15},\"zerolinecolor\":\"white\"}}},\"xaxis\":{\"range\":[-1,42]},\"yaxis\":{\"zerolinecolor\":\"#000000\"},\"title\":{\"text\":\"Autocorrelation (ACF) | y\"},\"showlegend\":false},                        {\"responsive\": true}                    ).then(function(){\n",
              "                            \n",
              "var gd = document.getElementById('678d17b4-e7a9-454b-92a0-76569db076aa');\n",
              "var x = new MutationObserver(function (mutations, observer) {{\n",
              "        var display = window.getComputedStyle(gd).display;\n",
              "        if (!display || display === 'none') {{\n",
              "            console.log([gd, 'removed!']);\n",
              "            Plotly.purge(gd);\n",
              "            observer.disconnect();\n",
              "        }}\n",
              "}});\n",
              "\n",
              "// Listen for the removal of the full notebook cells\n",
              "var notebookContainer = gd.closest('#notebook-container');\n",
              "if (notebookContainer) {{\n",
              "    x.observe(notebookContainer, {childList: true});\n",
              "}}\n",
              "\n",
              "// Listen for the clearing of the current output cell\n",
              "var outputEl = gd.closest('.output');\n",
              "if (outputEl) {{\n",
              "    x.observe(outputEl, {childList: true});\n",
              "}}\n",
              "\n",
              "                        })                };                            </script>        </div>\n",
              "</body>\n",
              "</html>"
            ]
          },
          "metadata": {}
        }
      ]
    },
    {
      "cell_type": "markdown",
      "source": [
        "**Not much to go by in terms of forecasting y just by itself (without exogenous variables)**"
      ],
      "metadata": {
        "id": "Euaf-WStV3_W"
      }
    },
    {
      "cell_type": "code",
      "source": [
        "exp.plot_model(plot=\"ccf\")"
      ],
      "metadata": {
        "colab": {
          "base_uri": "https://localhost:8080/",
          "height": 542
        },
        "id": "4CCoXxUXU8qU",
        "outputId": "810accab-1b85-45dd-8db6-a95113834169"
      },
      "execution_count": 6,
      "outputs": [
        {
          "output_type": "display_data",
          "data": {
            "text/html": [
              "<html>\n",
              "<head><meta charset=\"utf-8\" /></head>\n",
              "<body>\n",
              "    <div>            <script src=\"https://cdnjs.cloudflare.com/ajax/libs/mathjax/2.7.5/MathJax.js?config=TeX-AMS-MML_SVG\"></script><script type=\"text/javascript\">if (window.MathJax) {MathJax.Hub.Config({SVG: {font: \"STIX-Web\"}});}</script>                <script type=\"text/javascript\">window.PlotlyConfig = {MathJaxConfig: 'local'};</script>\n",
              "        <script src=\"https://cdn.plot.ly/plotly-2.8.3.min.js\"></script>                <div id=\"f8b1704f-a884-473b-ba28-f8cfc576c9e0\" class=\"plotly-graph-div\" style=\"height:525px; width:100%;\"></div>            <script type=\"text/javascript\">                                    window.PLOTLYENV=window.PLOTLYENV || {};                                    if (document.getElementById(\"f8b1704f-a884-473b-ba28-f8cfc576c9e0\")) {                    Plotly.newPlot(                        \"f8b1704f-a884-473b-ba28-f8cfc576c9e0\",                        [{\"line\":{\"color\":\"#3f3f3f\"},\"mode\":\"lines\",\"name\":\"CCF\",\"x\":[0,0],\"y\":[0,0.9999999999999999],\"type\":\"scattergl\",\"xaxis\":\"x\",\"yaxis\":\"y\",\"showlegend\":false},{\"line\":{\"color\":\"#3f3f3f\"},\"mode\":\"lines\",\"name\":\"CCF\",\"x\":[1,1],\"y\":[0,0.007908431914037999],\"type\":\"scattergl\",\"xaxis\":\"x\",\"yaxis\":\"y\",\"showlegend\":false},{\"line\":{\"color\":\"#3f3f3f\"},\"mode\":\"lines\",\"name\":\"CCF\",\"x\":[2,2],\"y\":[0,0.06239004161161778],\"type\":\"scattergl\",\"xaxis\":\"x\",\"yaxis\":\"y\",\"showlegend\":false},{\"line\":{\"color\":\"#3f3f3f\"},\"mode\":\"lines\",\"name\":\"CCF\",\"x\":[3,3],\"y\":[0,-0.03054197541783725],\"type\":\"scattergl\",\"xaxis\":\"x\",\"yaxis\":\"y\",\"showlegend\":false},{\"line\":{\"color\":\"#3f3f3f\"},\"mode\":\"lines\",\"name\":\"CCF\",\"x\":[4,4],\"y\":[0,0.04382099438179805],\"type\":\"scattergl\",\"xaxis\":\"x\",\"yaxis\":\"y\",\"showlegend\":false},{\"line\":{\"color\":\"#3f3f3f\"},\"mode\":\"lines\",\"name\":\"CCF\",\"x\":[5,5],\"y\":[0,-0.1192745365566562],\"type\":\"scattergl\",\"xaxis\":\"x\",\"yaxis\":\"y\",\"showlegend\":false},{\"line\":{\"color\":\"#3f3f3f\"},\"mode\":\"lines\",\"name\":\"CCF\",\"x\":[6,6],\"y\":[0,-0.04543222082888928],\"type\":\"scattergl\",\"xaxis\":\"x\",\"yaxis\":\"y\",\"showlegend\":false},{\"line\":{\"color\":\"#3f3f3f\"},\"mode\":\"lines\",\"name\":\"CCF\",\"x\":[7,7],\"y\":[0,-0.01784491962791368],\"type\":\"scattergl\",\"xaxis\":\"x\",\"yaxis\":\"y\",\"showlegend\":false},{\"line\":{\"color\":\"#3f3f3f\"},\"mode\":\"lines\",\"name\":\"CCF\",\"x\":[8,8],\"y\":[0,-0.06540307440984508],\"type\":\"scattergl\",\"xaxis\":\"x\",\"yaxis\":\"y\",\"showlegend\":false},{\"line\":{\"color\":\"#3f3f3f\"},\"mode\":\"lines\",\"name\":\"CCF\",\"x\":[9,9],\"y\":[0,0.09843582151847996],\"type\":\"scattergl\",\"xaxis\":\"x\",\"yaxis\":\"y\",\"showlegend\":false},{\"line\":{\"color\":\"#3f3f3f\"},\"mode\":\"lines\",\"name\":\"CCF\",\"x\":[10,10],\"y\":[0,-0.003019776830159145],\"type\":\"scattergl\",\"xaxis\":\"x\",\"yaxis\":\"y\",\"showlegend\":false},{\"line\":{\"color\":\"#3f3f3f\"},\"mode\":\"lines\",\"name\":\"CCF\",\"x\":[11,11],\"y\":[0,0.0033239870813788833],\"type\":\"scattergl\",\"xaxis\":\"x\",\"yaxis\":\"y\",\"showlegend\":false},{\"line\":{\"color\":\"#3f3f3f\"},\"mode\":\"lines\",\"name\":\"CCF\",\"x\":[12,12],\"y\":[0,-0.11770079383801514],\"type\":\"scattergl\",\"xaxis\":\"x\",\"yaxis\":\"y\",\"showlegend\":false},{\"line\":{\"color\":\"#3f3f3f\"},\"mode\":\"lines\",\"name\":\"CCF\",\"x\":[13,13],\"y\":[0,0.08487812079450496],\"type\":\"scattergl\",\"xaxis\":\"x\",\"yaxis\":\"y\",\"showlegend\":false},{\"line\":{\"color\":\"#3f3f3f\"},\"mode\":\"lines\",\"name\":\"CCF\",\"x\":[14,14],\"y\":[0,-0.15219562484712365],\"type\":\"scattergl\",\"xaxis\":\"x\",\"yaxis\":\"y\",\"showlegend\":false},{\"line\":{\"color\":\"#3f3f3f\"},\"mode\":\"lines\",\"name\":\"CCF\",\"x\":[15,15],\"y\":[0,-0.031824397216530166],\"type\":\"scattergl\",\"xaxis\":\"x\",\"yaxis\":\"y\",\"showlegend\":false},{\"line\":{\"color\":\"#3f3f3f\"},\"mode\":\"lines\",\"name\":\"CCF\",\"x\":[16,16],\"y\":[0,0.0475872866643095],\"type\":\"scattergl\",\"xaxis\":\"x\",\"yaxis\":\"y\",\"showlegend\":false},{\"line\":{\"color\":\"#3f3f3f\"},\"mode\":\"lines\",\"name\":\"CCF\",\"x\":[17,17],\"y\":[0,0.0025914372420419354],\"type\":\"scattergl\",\"xaxis\":\"x\",\"yaxis\":\"y\",\"showlegend\":false},{\"line\":{\"color\":\"#3f3f3f\"},\"mode\":\"lines\",\"name\":\"CCF\",\"x\":[18,18],\"y\":[0,0.028945284346874423],\"type\":\"scattergl\",\"xaxis\":\"x\",\"yaxis\":\"y\",\"showlegend\":false},{\"line\":{\"color\":\"#3f3f3f\"},\"mode\":\"lines\",\"name\":\"CCF\",\"x\":[19,19],\"y\":[0,0.009411962877399266],\"type\":\"scattergl\",\"xaxis\":\"x\",\"yaxis\":\"y\",\"showlegend\":false},{\"line\":{\"color\":\"#3f3f3f\"},\"mode\":\"lines\",\"name\":\"CCF\",\"x\":[20,20],\"y\":[0,-0.09829696188536666],\"type\":\"scattergl\",\"xaxis\":\"x\",\"yaxis\":\"y\",\"showlegend\":false},{\"line\":{\"color\":\"#3f3f3f\"},\"mode\":\"lines\",\"name\":\"CCF\",\"x\":[21,21],\"y\":[0,0.015981102293792893],\"type\":\"scattergl\",\"xaxis\":\"x\",\"yaxis\":\"y\",\"showlegend\":false},{\"line\":{\"color\":\"#3f3f3f\"},\"mode\":\"lines\",\"name\":\"CCF\",\"x\":[22,22],\"y\":[0,0.013923686105445233],\"type\":\"scattergl\",\"xaxis\":\"x\",\"yaxis\":\"y\",\"showlegend\":false},{\"line\":{\"color\":\"#3f3f3f\"},\"mode\":\"lines\",\"name\":\"CCF\",\"x\":[23,23],\"y\":[0,-0.002178639621485101],\"type\":\"scattergl\",\"xaxis\":\"x\",\"yaxis\":\"y\",\"showlegend\":false},{\"line\":{\"color\":\"#3f3f3f\"},\"mode\":\"lines\",\"name\":\"CCF\",\"x\":[24,24],\"y\":[0,0.0201921213629167],\"type\":\"scattergl\",\"xaxis\":\"x\",\"yaxis\":\"y\",\"showlegend\":false},{\"line\":{\"color\":\"#3f3f3f\"},\"mode\":\"lines\",\"name\":\"CCF\",\"x\":[25,25],\"y\":[0,-0.0324297883820303],\"type\":\"scattergl\",\"xaxis\":\"x\",\"yaxis\":\"y\",\"showlegend\":false},{\"line\":{\"color\":\"#3f3f3f\"},\"mode\":\"lines\",\"name\":\"CCF\",\"x\":[26,26],\"y\":[0,0.015964224341331202],\"type\":\"scattergl\",\"xaxis\":\"x\",\"yaxis\":\"y\",\"showlegend\":false},{\"line\":{\"color\":\"#3f3f3f\"},\"mode\":\"lines\",\"name\":\"CCF\",\"x\":[27,27],\"y\":[0,-0.040088004402391804],\"type\":\"scattergl\",\"xaxis\":\"x\",\"yaxis\":\"y\",\"showlegend\":false},{\"line\":{\"color\":\"#3f3f3f\"},\"mode\":\"lines\",\"name\":\"CCF\",\"x\":[28,28],\"y\":[0,0.026717672071602163],\"type\":\"scattergl\",\"xaxis\":\"x\",\"yaxis\":\"y\",\"showlegend\":false},{\"line\":{\"color\":\"#3f3f3f\"},\"mode\":\"lines\",\"name\":\"CCF\",\"x\":[29,29],\"y\":[0,0.046586164398358894],\"type\":\"scattergl\",\"xaxis\":\"x\",\"yaxis\":\"y\",\"showlegend\":false},{\"line\":{\"color\":\"#3f3f3f\"},\"mode\":\"lines\",\"name\":\"CCF\",\"x\":[30,30],\"y\":[0,0.01036059686912113],\"type\":\"scattergl\",\"xaxis\":\"x\",\"yaxis\":\"y\",\"showlegend\":false},{\"line\":{\"color\":\"#3f3f3f\"},\"mode\":\"lines\",\"name\":\"CCF\",\"x\":[31,31],\"y\":[0,0.039372847789531026],\"type\":\"scattergl\",\"xaxis\":\"x\",\"yaxis\":\"y\",\"showlegend\":false},{\"line\":{\"color\":\"#3f3f3f\"},\"mode\":\"lines\",\"name\":\"CCF\",\"x\":[32,32],\"y\":[0,-0.00800627164858499],\"type\":\"scattergl\",\"xaxis\":\"x\",\"yaxis\":\"y\",\"showlegend\":false},{\"line\":{\"color\":\"#3f3f3f\"},\"mode\":\"lines\",\"name\":\"CCF\",\"x\":[33,33],\"y\":[0,-0.05170277451268768],\"type\":\"scattergl\",\"xaxis\":\"x\",\"yaxis\":\"y\",\"showlegend\":false},{\"line\":{\"color\":\"#3f3f3f\"},\"mode\":\"lines\",\"name\":\"CCF\",\"x\":[34,34],\"y\":[0,0.019456014800773],\"type\":\"scattergl\",\"xaxis\":\"x\",\"yaxis\":\"y\",\"showlegend\":false},{\"line\":{\"color\":\"#3f3f3f\"},\"mode\":\"lines\",\"name\":\"CCF\",\"x\":[35,35],\"y\":[0,0.057859848980886835],\"type\":\"scattergl\",\"xaxis\":\"x\",\"yaxis\":\"y\",\"showlegend\":false},{\"line\":{\"color\":\"#3f3f3f\"},\"mode\":\"lines\",\"name\":\"CCF\",\"x\":[36,36],\"y\":[0,-0.16002033135656563],\"type\":\"scattergl\",\"xaxis\":\"x\",\"yaxis\":\"y\",\"showlegend\":false},{\"line\":{\"color\":\"#3f3f3f\"},\"mode\":\"lines\",\"name\":\"CCF\",\"x\":[37,37],\"y\":[0,0.01220641911053471],\"type\":\"scattergl\",\"xaxis\":\"x\",\"yaxis\":\"y\",\"showlegend\":false},{\"line\":{\"color\":\"#3f3f3f\"},\"mode\":\"lines\",\"name\":\"CCF\",\"x\":[38,38],\"y\":[0,0.021106963074703382],\"type\":\"scattergl\",\"xaxis\":\"x\",\"yaxis\":\"y\",\"showlegend\":false},{\"line\":{\"color\":\"#3f3f3f\"},\"mode\":\"lines\",\"name\":\"CCF\",\"x\":[39,39],\"y\":[0,0.07666956034475454],\"type\":\"scattergl\",\"xaxis\":\"x\",\"yaxis\":\"y\",\"showlegend\":false},{\"line\":{\"color\":\"#3f3f3f\"},\"mode\":\"lines\",\"name\":\"CCF\",\"x\":[40,40],\"y\":[0,-0.1152262274670935],\"type\":\"scattergl\",\"xaxis\":\"x\",\"yaxis\":\"y\",\"showlegend\":false},{\"marker\":{\"color\":\"#1f77b4\",\"size\":6},\"mode\":\"markers\",\"name\":\"CCF\",\"x\":[0,1,2,3,4,5,6,7,8,9,10,11,12,13,14,15,16,17,18,19,20,21,22,23,24,25,26,27,28,29,30,31,32,33,34,35,36,37,38,39,40],\"y\":[0.9999999999999999,0.007908431914037999,0.06239004161161778,-0.03054197541783725,0.04382099438179805,-0.1192745365566562,-0.04543222082888928,-0.01784491962791368,-0.06540307440984508,0.09843582151847996,-0.003019776830159145,0.0033239870813788833,-0.11770079383801514,0.08487812079450496,-0.15219562484712365,-0.031824397216530166,0.0475872866643095,0.0025914372420419354,0.028945284346874423,0.009411962877399266,-0.09829696188536666,0.015981102293792893,0.013923686105445233,-0.002178639621485101,0.0201921213629167,-0.0324297883820303,0.015964224341331202,-0.040088004402391804,0.026717672071602163,0.046586164398358894,0.01036059686912113,0.039372847789531026,-0.00800627164858499,-0.05170277451268768,0.019456014800773,0.057859848980886835,-0.16002033135656563,0.01220641911053471,0.021106963074703382,0.07666956034475454,-0.1152262274670935],\"type\":\"scattergl\",\"xaxis\":\"x\",\"yaxis\":\"y\",\"showlegend\":false},{\"line\":{\"color\":\"#3f3f3f\"},\"mode\":\"lines\",\"name\":\"CCF\",\"x\":[0,0],\"y\":[0,0.10021183524113553],\"type\":\"scattergl\",\"xaxis\":\"x2\",\"yaxis\":\"y2\",\"showlegend\":false},{\"line\":{\"color\":\"#3f3f3f\"},\"mode\":\"lines\",\"name\":\"CCF\",\"x\":[1,1],\"y\":[0,-0.1366793582729338],\"type\":\"scattergl\",\"xaxis\":\"x2\",\"yaxis\":\"y2\",\"showlegend\":false},{\"line\":{\"color\":\"#3f3f3f\"},\"mode\":\"lines\",\"name\":\"CCF\",\"x\":[2,2],\"y\":[0,-0.03203265577237284],\"type\":\"scattergl\",\"xaxis\":\"x2\",\"yaxis\":\"y2\",\"showlegend\":false},{\"line\":{\"color\":\"#3f3f3f\"},\"mode\":\"lines\",\"name\":\"CCF\",\"x\":[3,3],\"y\":[0,0.032511343573104194],\"type\":\"scattergl\",\"xaxis\":\"x2\",\"yaxis\":\"y2\",\"showlegend\":false},{\"line\":{\"color\":\"#3f3f3f\"},\"mode\":\"lines\",\"name\":\"CCF\",\"x\":[4,4],\"y\":[0,0.6439692856774403],\"type\":\"scattergl\",\"xaxis\":\"x2\",\"yaxis\":\"y2\",\"showlegend\":false},{\"line\":{\"color\":\"#3f3f3f\"},\"mode\":\"lines\",\"name\":\"CCF\",\"x\":[5,5],\"y\":[0,-0.06453269217005825],\"type\":\"scattergl\",\"xaxis\":\"x2\",\"yaxis\":\"y2\",\"showlegend\":false},{\"line\":{\"color\":\"#3f3f3f\"},\"mode\":\"lines\",\"name\":\"CCF\",\"x\":[6,6],\"y\":[0,0.01932163828173404],\"type\":\"scattergl\",\"xaxis\":\"x2\",\"yaxis\":\"y2\",\"showlegend\":false},{\"line\":{\"color\":\"#3f3f3f\"},\"mode\":\"lines\",\"name\":\"CCF\",\"x\":[7,7],\"y\":[0,-0.057303997725635554],\"type\":\"scattergl\",\"xaxis\":\"x2\",\"yaxis\":\"y2\",\"showlegend\":false},{\"line\":{\"color\":\"#3f3f3f\"},\"mode\":\"lines\",\"name\":\"CCF\",\"x\":[8,8],\"y\":[0,0.0008143424488942721],\"type\":\"scattergl\",\"xaxis\":\"x2\",\"yaxis\":\"y2\",\"showlegend\":false},{\"line\":{\"color\":\"#3f3f3f\"},\"mode\":\"lines\",\"name\":\"CCF\",\"x\":[9,9],\"y\":[0,-0.06191193487434359],\"type\":\"scattergl\",\"xaxis\":\"x2\",\"yaxis\":\"y2\",\"showlegend\":false},{\"line\":{\"color\":\"#3f3f3f\"},\"mode\":\"lines\",\"name\":\"CCF\",\"x\":[10,10],\"y\":[0,0.049819159632392335],\"type\":\"scattergl\",\"xaxis\":\"x2\",\"yaxis\":\"y2\",\"showlegend\":false},{\"line\":{\"color\":\"#3f3f3f\"},\"mode\":\"lines\",\"name\":\"CCF\",\"x\":[11,11],\"y\":[0,0.042593501102952035],\"type\":\"scattergl\",\"xaxis\":\"x2\",\"yaxis\":\"y2\",\"showlegend\":false},{\"line\":{\"color\":\"#3f3f3f\"},\"mode\":\"lines\",\"name\":\"CCF\",\"x\":[12,12],\"y\":[0,0.04242369292120603],\"type\":\"scattergl\",\"xaxis\":\"x2\",\"yaxis\":\"y2\",\"showlegend\":false},{\"line\":{\"color\":\"#3f3f3f\"},\"mode\":\"lines\",\"name\":\"CCF\",\"x\":[13,13],\"y\":[0,0.09099517470512476],\"type\":\"scattergl\",\"xaxis\":\"x2\",\"yaxis\":\"y2\",\"showlegend\":false},{\"line\":{\"color\":\"#3f3f3f\"},\"mode\":\"lines\",\"name\":\"CCF\",\"x\":[14,14],\"y\":[0,0.033630658832389894],\"type\":\"scattergl\",\"xaxis\":\"x2\",\"yaxis\":\"y2\",\"showlegend\":false},{\"line\":{\"color\":\"#3f3f3f\"},\"mode\":\"lines\",\"name\":\"CCF\",\"x\":[15,15],\"y\":[0,0.04490876320424157],\"type\":\"scattergl\",\"xaxis\":\"x2\",\"yaxis\":\"y2\",\"showlegend\":false},{\"line\":{\"color\":\"#3f3f3f\"},\"mode\":\"lines\",\"name\":\"CCF\",\"x\":[16,16],\"y\":[0,-0.036800168508265896],\"type\":\"scattergl\",\"xaxis\":\"x2\",\"yaxis\":\"y2\",\"showlegend\":false},{\"line\":{\"color\":\"#3f3f3f\"},\"mode\":\"lines\",\"name\":\"CCF\",\"x\":[17,17],\"y\":[0,-0.17550445802596346],\"type\":\"scattergl\",\"xaxis\":\"x2\",\"yaxis\":\"y2\",\"showlegend\":false},{\"line\":{\"color\":\"#3f3f3f\"},\"mode\":\"lines\",\"name\":\"CCF\",\"x\":[18,18],\"y\":[0,-0.11495250630058898],\"type\":\"scattergl\",\"xaxis\":\"x2\",\"yaxis\":\"y2\",\"showlegend\":false},{\"line\":{\"color\":\"#3f3f3f\"},\"mode\":\"lines\",\"name\":\"CCF\",\"x\":[19,19],\"y\":[0,-0.049675766901458085],\"type\":\"scattergl\",\"xaxis\":\"x2\",\"yaxis\":\"y2\",\"showlegend\":false},{\"line\":{\"color\":\"#3f3f3f\"},\"mode\":\"lines\",\"name\":\"CCF\",\"x\":[20,20],\"y\":[0,0.051869686303843594],\"type\":\"scattergl\",\"xaxis\":\"x2\",\"yaxis\":\"y2\",\"showlegend\":false},{\"line\":{\"color\":\"#3f3f3f\"},\"mode\":\"lines\",\"name\":\"CCF\",\"x\":[21,21],\"y\":[0,-0.0626661917294394],\"type\":\"scattergl\",\"xaxis\":\"x2\",\"yaxis\":\"y2\",\"showlegend\":false},{\"line\":{\"color\":\"#3f3f3f\"},\"mode\":\"lines\",\"name\":\"CCF\",\"x\":[22,22],\"y\":[0,0.019125557312814977],\"type\":\"scattergl\",\"xaxis\":\"x2\",\"yaxis\":\"y2\",\"showlegend\":false},{\"line\":{\"color\":\"#3f3f3f\"},\"mode\":\"lines\",\"name\":\"CCF\",\"x\":[23,23],\"y\":[0,-0.060890467753922504],\"type\":\"scattergl\",\"xaxis\":\"x2\",\"yaxis\":\"y2\",\"showlegend\":false},{\"line\":{\"color\":\"#3f3f3f\"},\"mode\":\"lines\",\"name\":\"CCF\",\"x\":[24,24],\"y\":[0,-0.07843181985364099],\"type\":\"scattergl\",\"xaxis\":\"x2\",\"yaxis\":\"y2\",\"showlegend\":false},{\"line\":{\"color\":\"#3f3f3f\"},\"mode\":\"lines\",\"name\":\"CCF\",\"x\":[25,25],\"y\":[0,-0.00707091135205992],\"type\":\"scattergl\",\"xaxis\":\"x2\",\"yaxis\":\"y2\",\"showlegend\":false},{\"line\":{\"color\":\"#3f3f3f\"},\"mode\":\"lines\",\"name\":\"CCF\",\"x\":[26,26],\"y\":[0,0.03882661890929479],\"type\":\"scattergl\",\"xaxis\":\"x2\",\"yaxis\":\"y2\",\"showlegend\":false},{\"line\":{\"color\":\"#3f3f3f\"},\"mode\":\"lines\",\"name\":\"CCF\",\"x\":[27,27],\"y\":[0,-0.01391257414289003],\"type\":\"scattergl\",\"xaxis\":\"x2\",\"yaxis\":\"y2\",\"showlegend\":false},{\"line\":{\"color\":\"#3f3f3f\"},\"mode\":\"lines\",\"name\":\"CCF\",\"x\":[28,28],\"y\":[0,-0.017581496957260866],\"type\":\"scattergl\",\"xaxis\":\"x2\",\"yaxis\":\"y2\",\"showlegend\":false},{\"line\":{\"color\":\"#3f3f3f\"},\"mode\":\"lines\",\"name\":\"CCF\",\"x\":[29,29],\"y\":[0,0.08167046477721919],\"type\":\"scattergl\",\"xaxis\":\"x2\",\"yaxis\":\"y2\",\"showlegend\":false},{\"line\":{\"color\":\"#3f3f3f\"},\"mode\":\"lines\",\"name\":\"CCF\",\"x\":[30,30],\"y\":[0,0.0017207113467126484],\"type\":\"scattergl\",\"xaxis\":\"x2\",\"yaxis\":\"y2\",\"showlegend\":false},{\"line\":{\"color\":\"#3f3f3f\"},\"mode\":\"lines\",\"name\":\"CCF\",\"x\":[31,31],\"y\":[0,0.05546158333130972],\"type\":\"scattergl\",\"xaxis\":\"x2\",\"yaxis\":\"y2\",\"showlegend\":false},{\"line\":{\"color\":\"#3f3f3f\"},\"mode\":\"lines\",\"name\":\"CCF\",\"x\":[32,32],\"y\":[0,0.028791489941037533],\"type\":\"scattergl\",\"xaxis\":\"x2\",\"yaxis\":\"y2\",\"showlegend\":false},{\"line\":{\"color\":\"#3f3f3f\"},\"mode\":\"lines\",\"name\":\"CCF\",\"x\":[33,33],\"y\":[0,0.09216667189036071],\"type\":\"scattergl\",\"xaxis\":\"x2\",\"yaxis\":\"y2\",\"showlegend\":false},{\"line\":{\"color\":\"#3f3f3f\"},\"mode\":\"lines\",\"name\":\"CCF\",\"x\":[34,34],\"y\":[0,-0.08462867882885834],\"type\":\"scattergl\",\"xaxis\":\"x2\",\"yaxis\":\"y2\",\"showlegend\":false},{\"line\":{\"color\":\"#3f3f3f\"},\"mode\":\"lines\",\"name\":\"CCF\",\"x\":[35,35],\"y\":[0,0.06513304182195585],\"type\":\"scattergl\",\"xaxis\":\"x2\",\"yaxis\":\"y2\",\"showlegend\":false},{\"line\":{\"color\":\"#3f3f3f\"},\"mode\":\"lines\",\"name\":\"CCF\",\"x\":[36,36],\"y\":[0,-0.006714871856603692],\"type\":\"scattergl\",\"xaxis\":\"x2\",\"yaxis\":\"y2\",\"showlegend\":false},{\"line\":{\"color\":\"#3f3f3f\"},\"mode\":\"lines\",\"name\":\"CCF\",\"x\":[37,37],\"y\":[0,-0.035894554501916594],\"type\":\"scattergl\",\"xaxis\":\"x2\",\"yaxis\":\"y2\",\"showlegend\":false},{\"line\":{\"color\":\"#3f3f3f\"},\"mode\":\"lines\",\"name\":\"CCF\",\"x\":[38,38],\"y\":[0,0.04872365083615409],\"type\":\"scattergl\",\"xaxis\":\"x2\",\"yaxis\":\"y2\",\"showlegend\":false},{\"line\":{\"color\":\"#3f3f3f\"},\"mode\":\"lines\",\"name\":\"CCF\",\"x\":[39,39],\"y\":[0,0.031205880718100213],\"type\":\"scattergl\",\"xaxis\":\"x2\",\"yaxis\":\"y2\",\"showlegend\":false},{\"line\":{\"color\":\"#3f3f3f\"},\"mode\":\"lines\",\"name\":\"CCF\",\"x\":[40,40],\"y\":[0,-0.12096956556550431],\"type\":\"scattergl\",\"xaxis\":\"x2\",\"yaxis\":\"y2\",\"showlegend\":false},{\"marker\":{\"color\":\"#1f77b4\",\"size\":6},\"mode\":\"markers\",\"name\":\"CCF\",\"x\":[0,1,2,3,4,5,6,7,8,9,10,11,12,13,14,15,16,17,18,19,20,21,22,23,24,25,26,27,28,29,30,31,32,33,34,35,36,37,38,39,40],\"y\":[0.10021183524113553,-0.1366793582729338,-0.03203265577237284,0.032511343573104194,0.6439692856774403,-0.06453269217005825,0.01932163828173404,-0.057303997725635554,0.0008143424488942721,-0.06191193487434359,0.049819159632392335,0.042593501102952035,0.04242369292120603,0.09099517470512476,0.033630658832389894,0.04490876320424157,-0.036800168508265896,-0.17550445802596346,-0.11495250630058898,-0.049675766901458085,0.051869686303843594,-0.0626661917294394,0.019125557312814977,-0.060890467753922504,-0.07843181985364099,-0.00707091135205992,0.03882661890929479,-0.01391257414289003,-0.017581496957260866,0.08167046477721919,0.0017207113467126484,0.05546158333130972,0.028791489941037533,0.09216667189036071,-0.08462867882885834,0.06513304182195585,-0.006714871856603692,-0.035894554501916594,0.04872365083615409,0.031205880718100213,-0.12096956556550431],\"type\":\"scattergl\",\"xaxis\":\"x2\",\"yaxis\":\"y2\",\"showlegend\":false},{\"line\":{\"color\":\"#3f3f3f\"},\"mode\":\"lines\",\"name\":\"CCF\",\"x\":[0,0],\"y\":[0,-0.056361330434370555],\"type\":\"scattergl\",\"xaxis\":\"x3\",\"yaxis\":\"y3\",\"showlegend\":false},{\"line\":{\"color\":\"#3f3f3f\"},\"mode\":\"lines\",\"name\":\"CCF\",\"x\":[1,1],\"y\":[0,0.062053330213769735],\"type\":\"scattergl\",\"xaxis\":\"x3\",\"yaxis\":\"y3\",\"showlegend\":false},{\"line\":{\"color\":\"#3f3f3f\"},\"mode\":\"lines\",\"name\":\"CCF\",\"x\":[2,2],\"y\":[0,-0.060323437936074524],\"type\":\"scattergl\",\"xaxis\":\"x3\",\"yaxis\":\"y3\",\"showlegend\":false},{\"line\":{\"color\":\"#3f3f3f\"},\"mode\":\"lines\",\"name\":\"CCF\",\"x\":[3,3],\"y\":[0,0.14217603862525982],\"type\":\"scattergl\",\"xaxis\":\"x3\",\"yaxis\":\"y3\",\"showlegend\":false},{\"line\":{\"color\":\"#3f3f3f\"},\"mode\":\"lines\",\"name\":\"CCF\",\"x\":[4,4],\"y\":[0,-0.04977609707318073],\"type\":\"scattergl\",\"xaxis\":\"x3\",\"yaxis\":\"y3\",\"showlegend\":false},{\"line\":{\"color\":\"#3f3f3f\"},\"mode\":\"lines\",\"name\":\"CCF\",\"x\":[5,5],\"y\":[0,-0.17346058969644637],\"type\":\"scattergl\",\"xaxis\":\"x3\",\"yaxis\":\"y3\",\"showlegend\":false},{\"line\":{\"color\":\"#3f3f3f\"},\"mode\":\"lines\",\"name\":\"CCF\",\"x\":[6,6],\"y\":[0,0.15430631523476573],\"type\":\"scattergl\",\"xaxis\":\"x3\",\"yaxis\":\"y3\",\"showlegend\":false},{\"line\":{\"color\":\"#3f3f3f\"},\"mode\":\"lines\",\"name\":\"CCF\",\"x\":[7,7],\"y\":[0,0.032629339777009214],\"type\":\"scattergl\",\"xaxis\":\"x3\",\"yaxis\":\"y3\",\"showlegend\":false},{\"line\":{\"color\":\"#3f3f3f\"},\"mode\":\"lines\",\"name\":\"CCF\",\"x\":[8,8],\"y\":[0,-0.04451503276548679],\"type\":\"scattergl\",\"xaxis\":\"x3\",\"yaxis\":\"y3\",\"showlegend\":false},{\"line\":{\"color\":\"#3f3f3f\"},\"mode\":\"lines\",\"name\":\"CCF\",\"x\":[9,9],\"y\":[0,-0.003204531427282194],\"type\":\"scattergl\",\"xaxis\":\"x3\",\"yaxis\":\"y3\",\"showlegend\":false},{\"line\":{\"color\":\"#3f3f3f\"},\"mode\":\"lines\",\"name\":\"CCF\",\"x\":[10,10],\"y\":[0,0.08282101577240242],\"type\":\"scattergl\",\"xaxis\":\"x3\",\"yaxis\":\"y3\",\"showlegend\":false},{\"line\":{\"color\":\"#3f3f3f\"},\"mode\":\"lines\",\"name\":\"CCF\",\"x\":[11,11],\"y\":[0,0.09409136247066463],\"type\":\"scattergl\",\"xaxis\":\"x3\",\"yaxis\":\"y3\",\"showlegend\":false},{\"line\":{\"color\":\"#3f3f3f\"},\"mode\":\"lines\",\"name\":\"CCF\",\"x\":[12,12],\"y\":[0,0.19202981870513744],\"type\":\"scattergl\",\"xaxis\":\"x3\",\"yaxis\":\"y3\",\"showlegend\":false},{\"line\":{\"color\":\"#3f3f3f\"},\"mode\":\"lines\",\"name\":\"CCF\",\"x\":[13,13],\"y\":[0,0.04206578025775379],\"type\":\"scattergl\",\"xaxis\":\"x3\",\"yaxis\":\"y3\",\"showlegend\":false},{\"line\":{\"color\":\"#3f3f3f\"},\"mode\":\"lines\",\"name\":\"CCF\",\"x\":[14,14],\"y\":[0,-0.04003219298375782],\"type\":\"scattergl\",\"xaxis\":\"x3\",\"yaxis\":\"y3\",\"showlegend\":false},{\"line\":{\"color\":\"#3f3f3f\"},\"mode\":\"lines\",\"name\":\"CCF\",\"x\":[15,15],\"y\":[0,0.05407184481818731],\"type\":\"scattergl\",\"xaxis\":\"x3\",\"yaxis\":\"y3\",\"showlegend\":false},{\"line\":{\"color\":\"#3f3f3f\"},\"mode\":\"lines\",\"name\":\"CCF\",\"x\":[16,16],\"y\":[0,-0.04056954409244165],\"type\":\"scattergl\",\"xaxis\":\"x3\",\"yaxis\":\"y3\",\"showlegend\":false},{\"line\":{\"color\":\"#3f3f3f\"},\"mode\":\"lines\",\"name\":\"CCF\",\"x\":[17,17],\"y\":[0,0.03761265089266691],\"type\":\"scattergl\",\"xaxis\":\"x3\",\"yaxis\":\"y3\",\"showlegend\":false},{\"line\":{\"color\":\"#3f3f3f\"},\"mode\":\"lines\",\"name\":\"CCF\",\"x\":[18,18],\"y\":[0,-0.0028654983578813627],\"type\":\"scattergl\",\"xaxis\":\"x3\",\"yaxis\":\"y3\",\"showlegend\":false},{\"line\":{\"color\":\"#3f3f3f\"},\"mode\":\"lines\",\"name\":\"CCF\",\"x\":[19,19],\"y\":[0,0.11516387428312566],\"type\":\"scattergl\",\"xaxis\":\"x3\",\"yaxis\":\"y3\",\"showlegend\":false},{\"line\":{\"color\":\"#3f3f3f\"},\"mode\":\"lines\",\"name\":\"CCF\",\"x\":[20,20],\"y\":[0,0.014181678037766541],\"type\":\"scattergl\",\"xaxis\":\"x3\",\"yaxis\":\"y3\",\"showlegend\":false},{\"line\":{\"color\":\"#3f3f3f\"},\"mode\":\"lines\",\"name\":\"CCF\",\"x\":[21,21],\"y\":[0,-0.042076721040675884],\"type\":\"scattergl\",\"xaxis\":\"x3\",\"yaxis\":\"y3\",\"showlegend\":false},{\"line\":{\"color\":\"#3f3f3f\"},\"mode\":\"lines\",\"name\":\"CCF\",\"x\":[22,22],\"y\":[0,0.1274812570434466],\"type\":\"scattergl\",\"xaxis\":\"x3\",\"yaxis\":\"y3\",\"showlegend\":false},{\"line\":{\"color\":\"#3f3f3f\"},\"mode\":\"lines\",\"name\":\"CCF\",\"x\":[23,23],\"y\":[0,-0.021358069732738776],\"type\":\"scattergl\",\"xaxis\":\"x3\",\"yaxis\":\"y3\",\"showlegend\":false},{\"line\":{\"color\":\"#3f3f3f\"},\"mode\":\"lines\",\"name\":\"CCF\",\"x\":[24,24],\"y\":[0,-0.0679976608781844],\"type\":\"scattergl\",\"xaxis\":\"x3\",\"yaxis\":\"y3\",\"showlegend\":false},{\"line\":{\"color\":\"#3f3f3f\"},\"mode\":\"lines\",\"name\":\"CCF\",\"x\":[25,25],\"y\":[0,-0.07339977613702711],\"type\":\"scattergl\",\"xaxis\":\"x3\",\"yaxis\":\"y3\",\"showlegend\":false},{\"line\":{\"color\":\"#3f3f3f\"},\"mode\":\"lines\",\"name\":\"CCF\",\"x\":[26,26],\"y\":[0,-0.1138297393153418],\"type\":\"scattergl\",\"xaxis\":\"x3\",\"yaxis\":\"y3\",\"showlegend\":false},{\"line\":{\"color\":\"#3f3f3f\"},\"mode\":\"lines\",\"name\":\"CCF\",\"x\":[27,27],\"y\":[0,0.01700798167339637],\"type\":\"scattergl\",\"xaxis\":\"x3\",\"yaxis\":\"y3\",\"showlegend\":false},{\"line\":{\"color\":\"#3f3f3f\"},\"mode\":\"lines\",\"name\":\"CCF\",\"x\":[28,28],\"y\":[0,0.06801488617711728],\"type\":\"scattergl\",\"xaxis\":\"x3\",\"yaxis\":\"y3\",\"showlegend\":false},{\"line\":{\"color\":\"#3f3f3f\"},\"mode\":\"lines\",\"name\":\"CCF\",\"x\":[29,29],\"y\":[0,-0.040983202152744036],\"type\":\"scattergl\",\"xaxis\":\"x3\",\"yaxis\":\"y3\",\"showlegend\":false},{\"line\":{\"color\":\"#3f3f3f\"},\"mode\":\"lines\",\"name\":\"CCF\",\"x\":[30,30],\"y\":[0,0.02919669716899804],\"type\":\"scattergl\",\"xaxis\":\"x3\",\"yaxis\":\"y3\",\"showlegend\":false},{\"line\":{\"color\":\"#3f3f3f\"},\"mode\":\"lines\",\"name\":\"CCF\",\"x\":[31,31],\"y\":[0,0.11943217690584793],\"type\":\"scattergl\",\"xaxis\":\"x3\",\"yaxis\":\"y3\",\"showlegend\":false},{\"line\":{\"color\":\"#3f3f3f\"},\"mode\":\"lines\",\"name\":\"CCF\",\"x\":[32,32],\"y\":[0,-0.11876586096197453],\"type\":\"scattergl\",\"xaxis\":\"x3\",\"yaxis\":\"y3\",\"showlegend\":false},{\"line\":{\"color\":\"#3f3f3f\"},\"mode\":\"lines\",\"name\":\"CCF\",\"x\":[33,33],\"y\":[0,0.004645319113045811],\"type\":\"scattergl\",\"xaxis\":\"x3\",\"yaxis\":\"y3\",\"showlegend\":false},{\"line\":{\"color\":\"#3f3f3f\"},\"mode\":\"lines\",\"name\":\"CCF\",\"x\":[34,34],\"y\":[0,-0.029481493761147448],\"type\":\"scattergl\",\"xaxis\":\"x3\",\"yaxis\":\"y3\",\"showlegend\":false},{\"line\":{\"color\":\"#3f3f3f\"},\"mode\":\"lines\",\"name\":\"CCF\",\"x\":[35,35],\"y\":[0,-0.023803764755322983],\"type\":\"scattergl\",\"xaxis\":\"x3\",\"yaxis\":\"y3\",\"showlegend\":false},{\"line\":{\"color\":\"#3f3f3f\"},\"mode\":\"lines\",\"name\":\"CCF\",\"x\":[36,36],\"y\":[0,-0.07628101282259053],\"type\":\"scattergl\",\"xaxis\":\"x3\",\"yaxis\":\"y3\",\"showlegend\":false},{\"line\":{\"color\":\"#3f3f3f\"},\"mode\":\"lines\",\"name\":\"CCF\",\"x\":[37,37],\"y\":[0,0.015583399960947217],\"type\":\"scattergl\",\"xaxis\":\"x3\",\"yaxis\":\"y3\",\"showlegend\":false},{\"line\":{\"color\":\"#3f3f3f\"},\"mode\":\"lines\",\"name\":\"CCF\",\"x\":[38,38],\"y\":[0,0.05845028057390203],\"type\":\"scattergl\",\"xaxis\":\"x3\",\"yaxis\":\"y3\",\"showlegend\":false},{\"line\":{\"color\":\"#3f3f3f\"},\"mode\":\"lines\",\"name\":\"CCF\",\"x\":[39,39],\"y\":[0,-0.15585230761028634],\"type\":\"scattergl\",\"xaxis\":\"x3\",\"yaxis\":\"y3\",\"showlegend\":false},{\"line\":{\"color\":\"#3f3f3f\"},\"mode\":\"lines\",\"name\":\"CCF\",\"x\":[40,40],\"y\":[0,0.026700034388534927],\"type\":\"scattergl\",\"xaxis\":\"x3\",\"yaxis\":\"y3\",\"showlegend\":false},{\"marker\":{\"color\":\"#1f77b4\",\"size\":6},\"mode\":\"markers\",\"name\":\"CCF\",\"x\":[0,1,2,3,4,5,6,7,8,9,10,11,12,13,14,15,16,17,18,19,20,21,22,23,24,25,26,27,28,29,30,31,32,33,34,35,36,37,38,39,40],\"y\":[-0.056361330434370555,0.062053330213769735,-0.060323437936074524,0.14217603862525982,-0.04977609707318073,-0.17346058969644637,0.15430631523476573,0.032629339777009214,-0.04451503276548679,-0.003204531427282194,0.08282101577240242,0.09409136247066463,0.19202981870513744,0.04206578025775379,-0.04003219298375782,0.05407184481818731,-0.04056954409244165,0.03761265089266691,-0.0028654983578813627,0.11516387428312566,0.014181678037766541,-0.042076721040675884,0.1274812570434466,-0.021358069732738776,-0.0679976608781844,-0.07339977613702711,-0.1138297393153418,0.01700798167339637,0.06801488617711728,-0.040983202152744036,0.02919669716899804,0.11943217690584793,-0.11876586096197453,0.004645319113045811,-0.029481493761147448,-0.023803764755322983,-0.07628101282259053,0.015583399960947217,0.05845028057390203,-0.15585230761028634,0.026700034388534927],\"type\":\"scattergl\",\"xaxis\":\"x3\",\"yaxis\":\"y3\",\"showlegend\":false},{\"line\":{\"color\":\"#3f3f3f\"},\"mode\":\"lines\",\"name\":\"CCF\",\"x\":[0,0],\"y\":[0,-0.02311959500968497],\"type\":\"scattergl\",\"xaxis\":\"x4\",\"yaxis\":\"y4\",\"showlegend\":false},{\"line\":{\"color\":\"#3f3f3f\"},\"mode\":\"lines\",\"name\":\"CCF\",\"x\":[1,1],\"y\":[0,-0.08157238543467443],\"type\":\"scattergl\",\"xaxis\":\"x4\",\"yaxis\":\"y4\",\"showlegend\":false},{\"line\":{\"color\":\"#3f3f3f\"},\"mode\":\"lines\",\"name\":\"CCF\",\"x\":[2,2],\"y\":[0,-0.003918848797809111],\"type\":\"scattergl\",\"xaxis\":\"x4\",\"yaxis\":\"y4\",\"showlegend\":false},{\"line\":{\"color\":\"#3f3f3f\"},\"mode\":\"lines\",\"name\":\"CCF\",\"x\":[3,3],\"y\":[0,-0.1380628521996742],\"type\":\"scattergl\",\"xaxis\":\"x4\",\"yaxis\":\"y4\",\"showlegend\":false},{\"line\":{\"color\":\"#3f3f3f\"},\"mode\":\"lines\",\"name\":\"CCF\",\"x\":[4,4],\"y\":[0,-0.0515822972152613],\"type\":\"scattergl\",\"xaxis\":\"x4\",\"yaxis\":\"y4\",\"showlegend\":false},{\"line\":{\"color\":\"#3f3f3f\"},\"mode\":\"lines\",\"name\":\"CCF\",\"x\":[5,5],\"y\":[0,0.08265976991890704],\"type\":\"scattergl\",\"xaxis\":\"x4\",\"yaxis\":\"y4\",\"showlegend\":false},{\"line\":{\"color\":\"#3f3f3f\"},\"mode\":\"lines\",\"name\":\"CCF\",\"x\":[6,6],\"y\":[0,0.08791413796486498],\"type\":\"scattergl\",\"xaxis\":\"x4\",\"yaxis\":\"y4\",\"showlegend\":false},{\"line\":{\"color\":\"#3f3f3f\"},\"mode\":\"lines\",\"name\":\"CCF\",\"x\":[7,7],\"y\":[0,-0.013788216663840773],\"type\":\"scattergl\",\"xaxis\":\"x4\",\"yaxis\":\"y4\",\"showlegend\":false},{\"line\":{\"color\":\"#3f3f3f\"},\"mode\":\"lines\",\"name\":\"CCF\",\"x\":[8,8],\"y\":[0,0.6602230978740733],\"type\":\"scattergl\",\"xaxis\":\"x4\",\"yaxis\":\"y4\",\"showlegend\":false},{\"line\":{\"color\":\"#3f3f3f\"},\"mode\":\"lines\",\"name\":\"CCF\",\"x\":[9,9],\"y\":[0,0.09034985448495592],\"type\":\"scattergl\",\"xaxis\":\"x4\",\"yaxis\":\"y4\",\"showlegend\":false},{\"line\":{\"color\":\"#3f3f3f\"},\"mode\":\"lines\",\"name\":\"CCF\",\"x\":[10,10],\"y\":[0,0.032170476313381005],\"type\":\"scattergl\",\"xaxis\":\"x4\",\"yaxis\":\"y4\",\"showlegend\":false},{\"line\":{\"color\":\"#3f3f3f\"},\"mode\":\"lines\",\"name\":\"CCF\",\"x\":[11,11],\"y\":[0,0.01586994882629253],\"type\":\"scattergl\",\"xaxis\":\"x4\",\"yaxis\":\"y4\",\"showlegend\":false},{\"line\":{\"color\":\"#3f3f3f\"},\"mode\":\"lines\",\"name\":\"CCF\",\"x\":[12,12],\"y\":[0,0.0358705316831017],\"type\":\"scattergl\",\"xaxis\":\"x4\",\"yaxis\":\"y4\",\"showlegend\":false},{\"line\":{\"color\":\"#3f3f3f\"},\"mode\":\"lines\",\"name\":\"CCF\",\"x\":[13,13],\"y\":[0,-0.0993002152403118],\"type\":\"scattergl\",\"xaxis\":\"x4\",\"yaxis\":\"y4\",\"showlegend\":false},{\"line\":{\"color\":\"#3f3f3f\"},\"mode\":\"lines\",\"name\":\"CCF\",\"x\":[14,14],\"y\":[0,-0.10680917431293262],\"type\":\"scattergl\",\"xaxis\":\"x4\",\"yaxis\":\"y4\",\"showlegend\":false},{\"line\":{\"color\":\"#3f3f3f\"},\"mode\":\"lines\",\"name\":\"CCF\",\"x\":[15,15],\"y\":[0,-0.0730688573817276],\"type\":\"scattergl\",\"xaxis\":\"x4\",\"yaxis\":\"y4\",\"showlegend\":false},{\"line\":{\"color\":\"#3f3f3f\"},\"mode\":\"lines\",\"name\":\"CCF\",\"x\":[16,16],\"y\":[0,-0.12695592648665294],\"type\":\"scattergl\",\"xaxis\":\"x4\",\"yaxis\":\"y4\",\"showlegend\":false},{\"line\":{\"color\":\"#3f3f3f\"},\"mode\":\"lines\",\"name\":\"CCF\",\"x\":[17,17],\"y\":[0,0.05703656363893234],\"type\":\"scattergl\",\"xaxis\":\"x4\",\"yaxis\":\"y4\",\"showlegend\":false},{\"line\":{\"color\":\"#3f3f3f\"},\"mode\":\"lines\",\"name\":\"CCF\",\"x\":[18,18],\"y\":[0,-0.036292649591864075],\"type\":\"scattergl\",\"xaxis\":\"x4\",\"yaxis\":\"y4\",\"showlegend\":false},{\"line\":{\"color\":\"#3f3f3f\"},\"mode\":\"lines\",\"name\":\"CCF\",\"x\":[19,19],\"y\":[0,-0.03340744555540897],\"type\":\"scattergl\",\"xaxis\":\"x4\",\"yaxis\":\"y4\",\"showlegend\":false},{\"line\":{\"color\":\"#3f3f3f\"},\"mode\":\"lines\",\"name\":\"CCF\",\"x\":[20,20],\"y\":[0,-0.10756269550457614],\"type\":\"scattergl\",\"xaxis\":\"x4\",\"yaxis\":\"y4\",\"showlegend\":false},{\"line\":{\"color\":\"#3f3f3f\"},\"mode\":\"lines\",\"name\":\"CCF\",\"x\":[21,21],\"y\":[0,0.2694619977972432],\"type\":\"scattergl\",\"xaxis\":\"x4\",\"yaxis\":\"y4\",\"showlegend\":false},{\"line\":{\"color\":\"#3f3f3f\"},\"mode\":\"lines\",\"name\":\"CCF\",\"x\":[22,22],\"y\":[0,-0.06799524638013137],\"type\":\"scattergl\",\"xaxis\":\"x4\",\"yaxis\":\"y4\",\"showlegend\":false},{\"line\":{\"color\":\"#3f3f3f\"},\"mode\":\"lines\",\"name\":\"CCF\",\"x\":[23,23],\"y\":[0,0.007556397641237762],\"type\":\"scattergl\",\"xaxis\":\"x4\",\"yaxis\":\"y4\",\"showlegend\":false},{\"line\":{\"color\":\"#3f3f3f\"},\"mode\":\"lines\",\"name\":\"CCF\",\"x\":[24,24],\"y\":[0,0.010980533835539973],\"type\":\"scattergl\",\"xaxis\":\"x4\",\"yaxis\":\"y4\",\"showlegend\":false},{\"line\":{\"color\":\"#3f3f3f\"},\"mode\":\"lines\",\"name\":\"CCF\",\"x\":[25,25],\"y\":[0,0.07524435719735613],\"type\":\"scattergl\",\"xaxis\":\"x4\",\"yaxis\":\"y4\",\"showlegend\":false},{\"line\":{\"color\":\"#3f3f3f\"},\"mode\":\"lines\",\"name\":\"CCF\",\"x\":[26,26],\"y\":[0,0.034722588006470115],\"type\":\"scattergl\",\"xaxis\":\"x4\",\"yaxis\":\"y4\",\"showlegend\":false},{\"line\":{\"color\":\"#3f3f3f\"},\"mode\":\"lines\",\"name\":\"CCF\",\"x\":[27,27],\"y\":[0,0.08339642387734833],\"type\":\"scattergl\",\"xaxis\":\"x4\",\"yaxis\":\"y4\",\"showlegend\":false},{\"line\":{\"color\":\"#3f3f3f\"},\"mode\":\"lines\",\"name\":\"CCF\",\"x\":[28,28],\"y\":[0,-0.04244724688975883],\"type\":\"scattergl\",\"xaxis\":\"x4\",\"yaxis\":\"y4\",\"showlegend\":false},{\"line\":{\"color\":\"#3f3f3f\"},\"mode\":\"lines\",\"name\":\"CCF\",\"x\":[29,29],\"y\":[0,0.03810397705586675],\"type\":\"scattergl\",\"xaxis\":\"x4\",\"yaxis\":\"y4\",\"showlegend\":false},{\"line\":{\"color\":\"#3f3f3f\"},\"mode\":\"lines\",\"name\":\"CCF\",\"x\":[30,30],\"y\":[0,-0.010149557964873082],\"type\":\"scattergl\",\"xaxis\":\"x4\",\"yaxis\":\"y4\",\"showlegend\":false},{\"line\":{\"color\":\"#3f3f3f\"},\"mode\":\"lines\",\"name\":\"CCF\",\"x\":[31,31],\"y\":[0,0.008510861384721695],\"type\":\"scattergl\",\"xaxis\":\"x4\",\"yaxis\":\"y4\",\"showlegend\":false},{\"line\":{\"color\":\"#3f3f3f\"},\"mode\":\"lines\",\"name\":\"CCF\",\"x\":[32,32],\"y\":[0,0.04320732997594688],\"type\":\"scattergl\",\"xaxis\":\"x4\",\"yaxis\":\"y4\",\"showlegend\":false},{\"line\":{\"color\":\"#3f3f3f\"},\"mode\":\"lines\",\"name\":\"CCF\",\"x\":[33,33],\"y\":[0,-0.10572341034870425],\"type\":\"scattergl\",\"xaxis\":\"x4\",\"yaxis\":\"y4\",\"showlegend\":false},{\"line\":{\"color\":\"#3f3f3f\"},\"mode\":\"lines\",\"name\":\"CCF\",\"x\":[34,34],\"y\":[0,0.0012880091991146927],\"type\":\"scattergl\",\"xaxis\":\"x4\",\"yaxis\":\"y4\",\"showlegend\":false},{\"line\":{\"color\":\"#3f3f3f\"},\"mode\":\"lines\",\"name\":\"CCF\",\"x\":[35,35],\"y\":[0,-0.07761321379598864],\"type\":\"scattergl\",\"xaxis\":\"x4\",\"yaxis\":\"y4\",\"showlegend\":false},{\"line\":{\"color\":\"#3f3f3f\"},\"mode\":\"lines\",\"name\":\"CCF\",\"x\":[36,36],\"y\":[0,-0.024833295810987505],\"type\":\"scattergl\",\"xaxis\":\"x4\",\"yaxis\":\"y4\",\"showlegend\":false},{\"line\":{\"color\":\"#3f3f3f\"},\"mode\":\"lines\",\"name\":\"CCF\",\"x\":[37,37],\"y\":[0,-0.01911750209879371],\"type\":\"scattergl\",\"xaxis\":\"x4\",\"yaxis\":\"y4\",\"showlegend\":false},{\"line\":{\"color\":\"#3f3f3f\"},\"mode\":\"lines\",\"name\":\"CCF\",\"x\":[38,38],\"y\":[0,0.07818763936525441],\"type\":\"scattergl\",\"xaxis\":\"x4\",\"yaxis\":\"y4\",\"showlegend\":false},{\"line\":{\"color\":\"#3f3f3f\"},\"mode\":\"lines\",\"name\":\"CCF\",\"x\":[39,39],\"y\":[0,-0.005585798626413448],\"type\":\"scattergl\",\"xaxis\":\"x4\",\"yaxis\":\"y4\",\"showlegend\":false},{\"line\":{\"color\":\"#3f3f3f\"},\"mode\":\"lines\",\"name\":\"CCF\",\"x\":[40,40],\"y\":[0,-0.020266777350776716],\"type\":\"scattergl\",\"xaxis\":\"x4\",\"yaxis\":\"y4\",\"showlegend\":false},{\"marker\":{\"color\":\"#1f77b4\",\"size\":6},\"mode\":\"markers\",\"name\":\"CCF\",\"x\":[0,1,2,3,4,5,6,7,8,9,10,11,12,13,14,15,16,17,18,19,20,21,22,23,24,25,26,27,28,29,30,31,32,33,34,35,36,37,38,39,40],\"y\":[-0.02311959500968497,-0.08157238543467443,-0.003918848797809111,-0.1380628521996742,-0.0515822972152613,0.08265976991890704,0.08791413796486498,-0.013788216663840773,0.6602230978740733,0.09034985448495592,0.032170476313381005,0.01586994882629253,0.0358705316831017,-0.0993002152403118,-0.10680917431293262,-0.0730688573817276,-0.12695592648665294,0.05703656363893234,-0.036292649591864075,-0.03340744555540897,-0.10756269550457614,0.2694619977972432,-0.06799524638013137,0.007556397641237762,0.010980533835539973,0.07524435719735613,0.034722588006470115,0.08339642387734833,-0.04244724688975883,0.03810397705586675,-0.010149557964873082,0.008510861384721695,0.04320732997594688,-0.10572341034870425,0.0012880091991146927,-0.07761321379598864,-0.024833295810987505,-0.01911750209879371,0.07818763936525441,-0.005585798626413448,-0.020266777350776716],\"type\":\"scattergl\",\"xaxis\":\"x4\",\"yaxis\":\"y4\",\"showlegend\":false}],                        {\"template\":{\"data\":{\"barpolar\":[{\"marker\":{\"line\":{\"color\":\"rgb(237,237,237)\",\"width\":0.5},\"pattern\":{\"fillmode\":\"overlay\",\"size\":10,\"solidity\":0.2}},\"type\":\"barpolar\"}],\"bar\":[{\"error_x\":{\"color\":\"rgb(51,51,51)\"},\"error_y\":{\"color\":\"rgb(51,51,51)\"},\"marker\":{\"line\":{\"color\":\"rgb(237,237,237)\",\"width\":0.5},\"pattern\":{\"fillmode\":\"overlay\",\"size\":10,\"solidity\":0.2}},\"type\":\"bar\"}],\"carpet\":[{\"aaxis\":{\"endlinecolor\":\"rgb(51,51,51)\",\"gridcolor\":\"white\",\"linecolor\":\"white\",\"minorgridcolor\":\"white\",\"startlinecolor\":\"rgb(51,51,51)\"},\"baxis\":{\"endlinecolor\":\"rgb(51,51,51)\",\"gridcolor\":\"white\",\"linecolor\":\"white\",\"minorgridcolor\":\"white\",\"startlinecolor\":\"rgb(51,51,51)\"},\"type\":\"carpet\"}],\"choropleth\":[{\"colorbar\":{\"outlinewidth\":0,\"tickcolor\":\"rgb(237,237,237)\",\"ticklen\":6,\"ticks\":\"inside\"},\"type\":\"choropleth\"}],\"contourcarpet\":[{\"colorbar\":{\"outlinewidth\":0,\"tickcolor\":\"rgb(237,237,237)\",\"ticklen\":6,\"ticks\":\"inside\"},\"type\":\"contourcarpet\"}],\"contour\":[{\"colorbar\":{\"outlinewidth\":0,\"tickcolor\":\"rgb(237,237,237)\",\"ticklen\":6,\"ticks\":\"inside\"},\"colorscale\":[[0,\"rgb(20,44,66)\"],[1,\"rgb(90,179,244)\"]],\"type\":\"contour\"}],\"heatmapgl\":[{\"colorbar\":{\"outlinewidth\":0,\"tickcolor\":\"rgb(237,237,237)\",\"ticklen\":6,\"ticks\":\"inside\"},\"colorscale\":[[0,\"rgb(20,44,66)\"],[1,\"rgb(90,179,244)\"]],\"type\":\"heatmapgl\"}],\"heatmap\":[{\"colorbar\":{\"outlinewidth\":0,\"tickcolor\":\"rgb(237,237,237)\",\"ticklen\":6,\"ticks\":\"inside\"},\"colorscale\":[[0,\"rgb(20,44,66)\"],[1,\"rgb(90,179,244)\"]],\"type\":\"heatmap\"}],\"histogram2dcontour\":[{\"colorbar\":{\"outlinewidth\":0,\"tickcolor\":\"rgb(237,237,237)\",\"ticklen\":6,\"ticks\":\"inside\"},\"colorscale\":[[0,\"rgb(20,44,66)\"],[1,\"rgb(90,179,244)\"]],\"type\":\"histogram2dcontour\"}],\"histogram2d\":[{\"colorbar\":{\"outlinewidth\":0,\"tickcolor\":\"rgb(237,237,237)\",\"ticklen\":6,\"ticks\":\"inside\"},\"colorscale\":[[0,\"rgb(20,44,66)\"],[1,\"rgb(90,179,244)\"]],\"type\":\"histogram2d\"}],\"histogram\":[{\"marker\":{\"pattern\":{\"fillmode\":\"overlay\",\"size\":10,\"solidity\":0.2}},\"type\":\"histogram\"}],\"mesh3d\":[{\"colorbar\":{\"outlinewidth\":0,\"tickcolor\":\"rgb(237,237,237)\",\"ticklen\":6,\"ticks\":\"inside\"},\"type\":\"mesh3d\"}],\"parcoords\":[{\"line\":{\"colorbar\":{\"outlinewidth\":0,\"tickcolor\":\"rgb(237,237,237)\",\"ticklen\":6,\"ticks\":\"inside\"}},\"type\":\"parcoords\"}],\"pie\":[{\"automargin\":true,\"type\":\"pie\"}],\"scatter3d\":[{\"line\":{\"colorbar\":{\"outlinewidth\":0,\"tickcolor\":\"rgb(237,237,237)\",\"ticklen\":6,\"ticks\":\"inside\"}},\"marker\":{\"colorbar\":{\"outlinewidth\":0,\"tickcolor\":\"rgb(237,237,237)\",\"ticklen\":6,\"ticks\":\"inside\"}},\"type\":\"scatter3d\"}],\"scattercarpet\":[{\"marker\":{\"colorbar\":{\"outlinewidth\":0,\"tickcolor\":\"rgb(237,237,237)\",\"ticklen\":6,\"ticks\":\"inside\"}},\"type\":\"scattercarpet\"}],\"scattergeo\":[{\"marker\":{\"colorbar\":{\"outlinewidth\":0,\"tickcolor\":\"rgb(237,237,237)\",\"ticklen\":6,\"ticks\":\"inside\"}},\"type\":\"scattergeo\"}],\"scattergl\":[{\"marker\":{\"colorbar\":{\"outlinewidth\":0,\"tickcolor\":\"rgb(237,237,237)\",\"ticklen\":6,\"ticks\":\"inside\"}},\"type\":\"scattergl\"}],\"scattermapbox\":[{\"marker\":{\"colorbar\":{\"outlinewidth\":0,\"tickcolor\":\"rgb(237,237,237)\",\"ticklen\":6,\"ticks\":\"inside\"}},\"type\":\"scattermapbox\"}],\"scatterpolargl\":[{\"marker\":{\"colorbar\":{\"outlinewidth\":0,\"tickcolor\":\"rgb(237,237,237)\",\"ticklen\":6,\"ticks\":\"inside\"}},\"type\":\"scatterpolargl\"}],\"scatterpolar\":[{\"marker\":{\"colorbar\":{\"outlinewidth\":0,\"tickcolor\":\"rgb(237,237,237)\",\"ticklen\":6,\"ticks\":\"inside\"}},\"type\":\"scatterpolar\"}],\"scatter\":[{\"marker\":{\"colorbar\":{\"outlinewidth\":0,\"tickcolor\":\"rgb(237,237,237)\",\"ticklen\":6,\"ticks\":\"inside\"}},\"type\":\"scatter\"}],\"scatterternary\":[{\"marker\":{\"colorbar\":{\"outlinewidth\":0,\"tickcolor\":\"rgb(237,237,237)\",\"ticklen\":6,\"ticks\":\"inside\"}},\"type\":\"scatterternary\"}],\"surface\":[{\"colorbar\":{\"outlinewidth\":0,\"tickcolor\":\"rgb(237,237,237)\",\"ticklen\":6,\"ticks\":\"inside\"},\"colorscale\":[[0,\"rgb(20,44,66)\"],[1,\"rgb(90,179,244)\"]],\"type\":\"surface\"}],\"table\":[{\"cells\":{\"fill\":{\"color\":\"rgb(237,237,237)\"},\"line\":{\"color\":\"white\"}},\"header\":{\"fill\":{\"color\":\"rgb(217,217,217)\"},\"line\":{\"color\":\"white\"}},\"type\":\"table\"}]},\"layout\":{\"annotationdefaults\":{\"arrowhead\":0,\"arrowwidth\":1},\"autotypenumbers\":\"strict\",\"coloraxis\":{\"colorbar\":{\"outlinewidth\":0,\"tickcolor\":\"rgb(237,237,237)\",\"ticklen\":6,\"ticks\":\"inside\"}},\"colorscale\":{\"sequential\":[[0,\"rgb(20,44,66)\"],[1,\"rgb(90,179,244)\"]],\"sequentialminus\":[[0,\"rgb(20,44,66)\"],[1,\"rgb(90,179,244)\"]]},\"colorway\":[\"#F8766D\",\"#A3A500\",\"#00BF7D\",\"#00B0F6\",\"#E76BF3\"],\"font\":{\"color\":\"rgb(51,51,51)\"},\"geo\":{\"bgcolor\":\"white\",\"lakecolor\":\"white\",\"landcolor\":\"rgb(237,237,237)\",\"showlakes\":true,\"showland\":true,\"subunitcolor\":\"white\"},\"hoverlabel\":{\"align\":\"left\"},\"hovermode\":\"closest\",\"paper_bgcolor\":\"white\",\"plot_bgcolor\":\"rgb(237,237,237)\",\"polar\":{\"angularaxis\":{\"gridcolor\":\"white\",\"linecolor\":\"white\",\"showgrid\":true,\"tickcolor\":\"rgb(51,51,51)\",\"ticks\":\"outside\"},\"bgcolor\":\"rgb(237,237,237)\",\"radialaxis\":{\"gridcolor\":\"white\",\"linecolor\":\"white\",\"showgrid\":true,\"tickcolor\":\"rgb(51,51,51)\",\"ticks\":\"outside\"}},\"scene\":{\"xaxis\":{\"backgroundcolor\":\"rgb(237,237,237)\",\"gridcolor\":\"white\",\"gridwidth\":2,\"linecolor\":\"white\",\"showbackground\":true,\"showgrid\":true,\"tickcolor\":\"rgb(51,51,51)\",\"ticks\":\"outside\",\"zerolinecolor\":\"white\"},\"yaxis\":{\"backgroundcolor\":\"rgb(237,237,237)\",\"gridcolor\":\"white\",\"gridwidth\":2,\"linecolor\":\"white\",\"showbackground\":true,\"showgrid\":true,\"tickcolor\":\"rgb(51,51,51)\",\"ticks\":\"outside\",\"zerolinecolor\":\"white\"},\"zaxis\":{\"backgroundcolor\":\"rgb(237,237,237)\",\"gridcolor\":\"white\",\"gridwidth\":2,\"linecolor\":\"white\",\"showbackground\":true,\"showgrid\":true,\"tickcolor\":\"rgb(51,51,51)\",\"ticks\":\"outside\",\"zerolinecolor\":\"white\"}},\"shapedefaults\":{\"fillcolor\":\"black\",\"line\":{\"width\":0},\"opacity\":0.3},\"ternary\":{\"aaxis\":{\"gridcolor\":\"white\",\"linecolor\":\"white\",\"showgrid\":true,\"tickcolor\":\"rgb(51,51,51)\",\"ticks\":\"outside\"},\"baxis\":{\"gridcolor\":\"white\",\"linecolor\":\"white\",\"showgrid\":true,\"tickcolor\":\"rgb(51,51,51)\",\"ticks\":\"outside\"},\"bgcolor\":\"rgb(237,237,237)\",\"caxis\":{\"gridcolor\":\"white\",\"linecolor\":\"white\",\"showgrid\":true,\"tickcolor\":\"rgb(51,51,51)\",\"ticks\":\"outside\"}},\"xaxis\":{\"automargin\":true,\"gridcolor\":\"white\",\"linecolor\":\"white\",\"showgrid\":true,\"tickcolor\":\"rgb(51,51,51)\",\"ticks\":\"outside\",\"title\":{\"standoff\":15},\"zerolinecolor\":\"white\"},\"yaxis\":{\"automargin\":true,\"gridcolor\":\"white\",\"linecolor\":\"white\",\"showgrid\":true,\"tickcolor\":\"rgb(51,51,51)\",\"ticks\":\"outside\",\"title\":{\"standoff\":15},\"zerolinecolor\":\"white\"}}},\"xaxis\":{\"anchor\":\"y\",\"domain\":[0.0,0.2125],\"range\":[-1,42]},\"yaxis\":{\"anchor\":\"x\",\"domain\":[0.0,1.0],\"range\":[-1.1,1.1],\"zerolinecolor\":\"#000000\"},\"xaxis2\":{\"anchor\":\"y2\",\"domain\":[0.2625,0.475],\"range\":[-1,42]},\"yaxis2\":{\"anchor\":\"x2\",\"domain\":[0.0,1.0],\"range\":[-1.1,1.1],\"zerolinecolor\":\"#000000\"},\"xaxis3\":{\"anchor\":\"y3\",\"domain\":[0.525,0.7375],\"range\":[-1,42]},\"yaxis3\":{\"anchor\":\"x3\",\"domain\":[0.0,1.0],\"range\":[-1.1,1.1],\"zerolinecolor\":\"#000000\"},\"xaxis4\":{\"anchor\":\"y4\",\"domain\":[0.7875,1.0],\"range\":[-1,42]},\"yaxis4\":{\"anchor\":\"x4\",\"domain\":[0.0,1.0],\"range\":[-1.1,1.1],\"zerolinecolor\":\"#000000\"},\"annotations\":[{\"font\":{\"size\":16},\"showarrow\":false,\"text\":\"y vs. y\",\"x\":0.10625,\"xanchor\":\"center\",\"xref\":\"paper\",\"y\":1.0,\"yanchor\":\"bottom\",\"yref\":\"paper\"},{\"font\":{\"size\":16},\"showarrow\":false,\"text\":\"y vs. a\",\"x\":0.36875,\"xanchor\":\"center\",\"xref\":\"paper\",\"y\":1.0,\"yanchor\":\"bottom\",\"yref\":\"paper\"},{\"font\":{\"size\":16},\"showarrow\":false,\"text\":\"y vs. b\",\"x\":0.6312500000000001,\"xanchor\":\"center\",\"xref\":\"paper\",\"y\":1.0,\"yanchor\":\"bottom\",\"yref\":\"paper\"},{\"font\":{\"size\":16},\"showarrow\":false,\"text\":\"y vs. c\",\"x\":0.89375,\"xanchor\":\"center\",\"xref\":\"paper\",\"y\":1.0,\"yanchor\":\"bottom\",\"yref\":\"paper\"}],\"title\":{\"text\":\"Cross Correlation Plot(s)\"},\"showlegend\":false},                        {\"responsive\": true}                    ).then(function(){\n",
              "                            \n",
              "var gd = document.getElementById('f8b1704f-a884-473b-ba28-f8cfc576c9e0');\n",
              "var x = new MutationObserver(function (mutations, observer) {{\n",
              "        var display = window.getComputedStyle(gd).display;\n",
              "        if (!display || display === 'none') {{\n",
              "            console.log([gd, 'removed!']);\n",
              "            Plotly.purge(gd);\n",
              "            observer.disconnect();\n",
              "        }}\n",
              "}});\n",
              "\n",
              "// Listen for the removal of the full notebook cells\n",
              "var notebookContainer = gd.closest('#notebook-container');\n",
              "if (notebookContainer) {{\n",
              "    x.observe(notebookContainer, {childList: true});\n",
              "}}\n",
              "\n",
              "// Listen for the clearing of the current output cell\n",
              "var outputEl = gd.closest('.output');\n",
              "if (outputEl) {{\n",
              "    x.observe(outputEl, {childList: true});\n",
              "}}\n",
              "\n",
              "                        })                };                            </script>        </div>\n",
              "</body>\n",
              "</html>"
            ]
          },
          "metadata": {}
        }
      ]
    },
    {
      "cell_type": "markdown",
      "source": [
        "**The relation 'y vs. a', and 'y vs. c' is clearly visible from the CCF plot. Also, the lack of relation 'y vs. b' is also visible.**\n",
        "\n",
        "**Interestingly, the relation 'y vs. y' is the same as the ACF plot (users should check the values to compare for themselves).**\n",
        "\n",
        "**From a modeling perspective, modelers should use 'a' and 'c' to model 'y' but not 'b' as it does not contain useful information.**"
      ],
      "metadata": {
        "id": "R7ydZ7jtVj58"
      }
    }
  ]
}