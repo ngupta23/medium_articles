{
  "nbformat": 4,
  "nbformat_minor": 0,
  "metadata": {
    "colab": {
      "name": "pycaret_ts_multi_step_forecasts.ipynb",
      "provenance": [],
      "include_colab_link": true
    },
    "kernelspec": {
      "name": "python3",
      "display_name": "Python 3"
    },
    "language_info": {
      "name": "python"
    },
    "widgets": {
      "application/vnd.jupyter.widget-state+json": {
        "3a84d867286f44908437694dd4c0a00a": {
          "model_module": "@jupyter-widgets/controls",
          "model_name": "HBoxModel",
          "model_module_version": "1.5.0",
          "state": {
            "_dom_classes": [],
            "_model_module": "@jupyter-widgets/controls",
            "_model_module_version": "1.5.0",
            "_model_name": "HBoxModel",
            "_view_count": null,
            "_view_module": "@jupyter-widgets/controls",
            "_view_module_version": "1.5.0",
            "_view_name": "HBoxView",
            "box_style": "",
            "children": [
              "IPY_MODEL_97f531b2bde04a699ed73f7385177081",
              "IPY_MODEL_1e08a49759de4421916fd797b2679962",
              "IPY_MODEL_deba23cced634a9384de8dfe949724e3"
            ],
            "layout": "IPY_MODEL_e5c0ac1ce778421ea86d3a20909c98dc"
          }
        },
        "97f531b2bde04a699ed73f7385177081": {
          "model_module": "@jupyter-widgets/controls",
          "model_name": "HTMLModel",
          "model_module_version": "1.5.0",
          "state": {
            "_dom_classes": [],
            "_model_module": "@jupyter-widgets/controls",
            "_model_module_version": "1.5.0",
            "_model_name": "HTMLModel",
            "_view_count": null,
            "_view_module": "@jupyter-widgets/controls",
            "_view_module_version": "1.5.0",
            "_view_name": "HTMLView",
            "description": "",
            "description_tooltip": null,
            "layout": "IPY_MODEL_8b010672dce64b589100f4be1d7c7df6",
            "placeholder": "​",
            "style": "IPY_MODEL_89642b76afa940f9affba21092432d48",
            "value": "Processing: 100%"
          }
        },
        "1e08a49759de4421916fd797b2679962": {
          "model_module": "@jupyter-widgets/controls",
          "model_name": "FloatProgressModel",
          "model_module_version": "1.5.0",
          "state": {
            "_dom_classes": [],
            "_model_module": "@jupyter-widgets/controls",
            "_model_module_version": "1.5.0",
            "_model_name": "FloatProgressModel",
            "_view_count": null,
            "_view_module": "@jupyter-widgets/controls",
            "_view_module_version": "1.5.0",
            "_view_name": "ProgressView",
            "bar_style": "",
            "description": "",
            "description_tooltip": null,
            "layout": "IPY_MODEL_0caae0e110cc4dd9b2a36e44343ac9e9",
            "max": 4,
            "min": 0,
            "orientation": "horizontal",
            "style": "IPY_MODEL_90defa7f2d054ab2be6a5f49ffecc780",
            "value": 4
          }
        },
        "deba23cced634a9384de8dfe949724e3": {
          "model_module": "@jupyter-widgets/controls",
          "model_name": "HTMLModel",
          "model_module_version": "1.5.0",
          "state": {
            "_dom_classes": [],
            "_model_module": "@jupyter-widgets/controls",
            "_model_module_version": "1.5.0",
            "_model_name": "HTMLModel",
            "_view_count": null,
            "_view_module": "@jupyter-widgets/controls",
            "_view_module_version": "1.5.0",
            "_view_name": "HTMLView",
            "description": "",
            "description_tooltip": null,
            "layout": "IPY_MODEL_ecd665bc760e45d8a977d600bc3114a1",
            "placeholder": "​",
            "style": "IPY_MODEL_3fe22a71bd9344df801349c6d10d6d9a",
            "value": " 4/4 [00:08&lt;00:00,  2.01s/it]"
          }
        },
        "e5c0ac1ce778421ea86d3a20909c98dc": {
          "model_module": "@jupyter-widgets/base",
          "model_name": "LayoutModel",
          "model_module_version": "1.2.0",
          "state": {
            "_model_module": "@jupyter-widgets/base",
            "_model_module_version": "1.2.0",
            "_model_name": "LayoutModel",
            "_view_count": null,
            "_view_module": "@jupyter-widgets/base",
            "_view_module_version": "1.2.0",
            "_view_name": "LayoutView",
            "align_content": null,
            "align_items": null,
            "align_self": null,
            "border": null,
            "bottom": null,
            "display": null,
            "flex": null,
            "flex_flow": null,
            "grid_area": null,
            "grid_auto_columns": null,
            "grid_auto_flow": null,
            "grid_auto_rows": null,
            "grid_column": null,
            "grid_gap": null,
            "grid_row": null,
            "grid_template_areas": null,
            "grid_template_columns": null,
            "grid_template_rows": null,
            "height": null,
            "justify_content": null,
            "justify_items": null,
            "left": null,
            "margin": null,
            "max_height": null,
            "max_width": null,
            "min_height": null,
            "min_width": null,
            "object_fit": null,
            "object_position": null,
            "order": null,
            "overflow": null,
            "overflow_x": null,
            "overflow_y": null,
            "padding": null,
            "right": null,
            "top": null,
            "visibility": null,
            "width": null
          }
        },
        "8b010672dce64b589100f4be1d7c7df6": {
          "model_module": "@jupyter-widgets/base",
          "model_name": "LayoutModel",
          "model_module_version": "1.2.0",
          "state": {
            "_model_module": "@jupyter-widgets/base",
            "_model_module_version": "1.2.0",
            "_model_name": "LayoutModel",
            "_view_count": null,
            "_view_module": "@jupyter-widgets/base",
            "_view_module_version": "1.2.0",
            "_view_name": "LayoutView",
            "align_content": null,
            "align_items": null,
            "align_self": null,
            "border": null,
            "bottom": null,
            "display": null,
            "flex": null,
            "flex_flow": null,
            "grid_area": null,
            "grid_auto_columns": null,
            "grid_auto_flow": null,
            "grid_auto_rows": null,
            "grid_column": null,
            "grid_gap": null,
            "grid_row": null,
            "grid_template_areas": null,
            "grid_template_columns": null,
            "grid_template_rows": null,
            "height": null,
            "justify_content": null,
            "justify_items": null,
            "left": null,
            "margin": null,
            "max_height": null,
            "max_width": null,
            "min_height": null,
            "min_width": null,
            "object_fit": null,
            "object_position": null,
            "order": null,
            "overflow": null,
            "overflow_x": null,
            "overflow_y": null,
            "padding": null,
            "right": null,
            "top": null,
            "visibility": null,
            "width": null
          }
        },
        "89642b76afa940f9affba21092432d48": {
          "model_module": "@jupyter-widgets/controls",
          "model_name": "DescriptionStyleModel",
          "model_module_version": "1.5.0",
          "state": {
            "_model_module": "@jupyter-widgets/controls",
            "_model_module_version": "1.5.0",
            "_model_name": "DescriptionStyleModel",
            "_view_count": null,
            "_view_module": "@jupyter-widgets/base",
            "_view_module_version": "1.2.0",
            "_view_name": "StyleView",
            "description_width": ""
          }
        },
        "0caae0e110cc4dd9b2a36e44343ac9e9": {
          "model_module": "@jupyter-widgets/base",
          "model_name": "LayoutModel",
          "model_module_version": "1.2.0",
          "state": {
            "_model_module": "@jupyter-widgets/base",
            "_model_module_version": "1.2.0",
            "_model_name": "LayoutModel",
            "_view_count": null,
            "_view_module": "@jupyter-widgets/base",
            "_view_module_version": "1.2.0",
            "_view_name": "LayoutView",
            "align_content": null,
            "align_items": null,
            "align_self": null,
            "border": null,
            "bottom": null,
            "display": null,
            "flex": null,
            "flex_flow": null,
            "grid_area": null,
            "grid_auto_columns": null,
            "grid_auto_flow": null,
            "grid_auto_rows": null,
            "grid_column": null,
            "grid_gap": null,
            "grid_row": null,
            "grid_template_areas": null,
            "grid_template_columns": null,
            "grid_template_rows": null,
            "height": null,
            "justify_content": null,
            "justify_items": null,
            "left": null,
            "margin": null,
            "max_height": null,
            "max_width": null,
            "min_height": null,
            "min_width": null,
            "object_fit": null,
            "object_position": null,
            "order": null,
            "overflow": null,
            "overflow_x": null,
            "overflow_y": null,
            "padding": null,
            "right": null,
            "top": null,
            "visibility": null,
            "width": null
          }
        },
        "90defa7f2d054ab2be6a5f49ffecc780": {
          "model_module": "@jupyter-widgets/controls",
          "model_name": "ProgressStyleModel",
          "model_module_version": "1.5.0",
          "state": {
            "_model_module": "@jupyter-widgets/controls",
            "_model_module_version": "1.5.0",
            "_model_name": "ProgressStyleModel",
            "_view_count": null,
            "_view_module": "@jupyter-widgets/base",
            "_view_module_version": "1.2.0",
            "_view_name": "StyleView",
            "bar_color": null,
            "description_width": ""
          }
        },
        "ecd665bc760e45d8a977d600bc3114a1": {
          "model_module": "@jupyter-widgets/base",
          "model_name": "LayoutModel",
          "model_module_version": "1.2.0",
          "state": {
            "_model_module": "@jupyter-widgets/base",
            "_model_module_version": "1.2.0",
            "_model_name": "LayoutModel",
            "_view_count": null,
            "_view_module": "@jupyter-widgets/base",
            "_view_module_version": "1.2.0",
            "_view_name": "LayoutView",
            "align_content": null,
            "align_items": null,
            "align_self": null,
            "border": null,
            "bottom": null,
            "display": null,
            "flex": null,
            "flex_flow": null,
            "grid_area": null,
            "grid_auto_columns": null,
            "grid_auto_flow": null,
            "grid_auto_rows": null,
            "grid_column": null,
            "grid_gap": null,
            "grid_row": null,
            "grid_template_areas": null,
            "grid_template_columns": null,
            "grid_template_rows": null,
            "height": null,
            "justify_content": null,
            "justify_items": null,
            "left": null,
            "margin": null,
            "max_height": null,
            "max_width": null,
            "min_height": null,
            "min_width": null,
            "object_fit": null,
            "object_position": null,
            "order": null,
            "overflow": null,
            "overflow_x": null,
            "overflow_y": null,
            "padding": null,
            "right": null,
            "top": null,
            "visibility": null,
            "width": null
          }
        },
        "3fe22a71bd9344df801349c6d10d6d9a": {
          "model_module": "@jupyter-widgets/controls",
          "model_name": "DescriptionStyleModel",
          "model_module_version": "1.5.0",
          "state": {
            "_model_module": "@jupyter-widgets/controls",
            "_model_module_version": "1.5.0",
            "_model_name": "DescriptionStyleModel",
            "_view_count": null,
            "_view_module": "@jupyter-widgets/base",
            "_view_module_version": "1.2.0",
            "_view_name": "StyleView",
            "description_width": ""
          }
        }
      }
    }
  },
  "cells": [
    {
      "cell_type": "markdown",
      "metadata": {
        "id": "view-in-github",
        "colab_type": "text"
      },
      "source": [
        "<a href=\"https://colab.research.google.com/github/ngupta23/medium_articles/blob/main/time_series/pycaret/pycaret_ts_multi_step_forecasts.ipynb\" target=\"_parent\"><img src=\"https://colab.research.google.com/assets/colab-badge.svg\" alt=\"Open In Colab\"/></a>"
      ]
    },
    {
      "cell_type": "code",
      "execution_count": 1,
      "metadata": {
        "id": "t8V4L0hP1xB_"
      },
      "outputs": [],
      "source": [
        "try:\n",
        "  import pycaret\n",
        "except:\n",
        "  !pip install --pre pycaret"
      ]
    },
    {
      "cell_type": "code",
      "source": [
        "# Only enable critical logging (Optional)\n",
        "import os\n",
        "os.environ[\"PYCARET_CUSTOM_LOGGING_LEVEL\"] = \"CRITICAL\""
      ],
      "metadata": {
        "id": "PRcSQKlLEvOp"
      },
      "execution_count": 2,
      "outputs": []
    },
    {
      "cell_type": "code",
      "source": [
        "import numpy as np\n",
        "from pycaret.datasets import get_data\n",
        "from pycaret.time_series import TSForecastingExperiment"
      ],
      "metadata": {
        "colab": {
          "base_uri": "https://localhost:8080/",
          "height": 34
        },
        "id": "65QirkvF15cR",
        "outputId": "fb30e53c-a146-4886-df6b-049e62560b7c"
      },
      "execution_count": 3,
      "outputs": [
        {
          "output_type": "stream",
          "name": "stderr",
          "text": [
            "INFO:logs:Soft dependency imported: prophet: 1.0\n"
          ]
        }
      ]
    },
    {
      "cell_type": "markdown",
      "source": [
        "## Get Data"
      ],
      "metadata": {
        "id": "-dhXS0H8G6S1"
      }
    },
    {
      "cell_type": "code",
      "source": [
        "y = get_data(\"airline\")"
      ],
      "metadata": {
        "colab": {
          "base_uri": "https://localhost:8080/",
          "height": 139
        },
        "id": "wzUktvlb3xOy",
        "outputId": "4c972d21-48ec-4ec4-885b-e30dca91c497"
      },
      "execution_count": 4,
      "outputs": [
        {
          "output_type": "display_data",
          "data": {
            "text/plain": [
              "Period\n",
              "1949-01    112.0\n",
              "1949-02    118.0\n",
              "1949-03    132.0\n",
              "1949-04    129.0\n",
              "1949-05    121.0\n",
              "Freq: M, Name: Number of airline passengers, dtype: float64"
            ]
          },
          "metadata": {}
        }
      ]
    },
    {
      "cell_type": "markdown",
      "source": [
        "## Setup experiment with a forecast horizon"
      ],
      "metadata": {
        "id": "UEWgLSurHAX0"
      }
    },
    {
      "cell_type": "code",
      "source": [
        "# fh = 3rd year from the end of the data\n",
        "# 3rd year is the 25th month to 36th month in the future (note numpy is left inclusive and right exclusive)\n",
        "\n",
        "exp = TSForecastingExperiment()\n",
        "exp.setup(data=y, fh=np.arange(25,37), session_id=42)"
      ],
      "metadata": {
        "colab": {
          "base_uri": "https://localhost:8080/",
          "height": 882
        },
        "id": "T_UGFXsW3ztX",
        "outputId": "51225134-97c9-400c-895d-ca91311b17e3"
      },
      "execution_count": 5,
      "outputs": [
        {
          "output_type": "display_data",
          "data": {
            "text/plain": [
              "<pandas.io.formats.style.Styler at 0x7f1fd3db8a10>"
            ],
            "text/html": [
              "<style type=\"text/css\">\n",
              "#T_f8189_row13_col1 {\n",
              "  background-color: lightgreen;\n",
              "}\n",
              "</style>\n",
              "<table id=\"T_f8189_\" class=\"dataframe\">\n",
              "  <thead>\n",
              "    <tr>\n",
              "      <th class=\"blank level0\" >&nbsp;</th>\n",
              "      <th class=\"col_heading level0 col0\" >Description</th>\n",
              "      <th class=\"col_heading level0 col1\" >Value</th>\n",
              "    </tr>\n",
              "  </thead>\n",
              "  <tbody>\n",
              "    <tr>\n",
              "      <th id=\"T_f8189_level0_row0\" class=\"row_heading level0 row0\" >0</th>\n",
              "      <td id=\"T_f8189_row0_col0\" class=\"data row0 col0\" >session_id</td>\n",
              "      <td id=\"T_f8189_row0_col1\" class=\"data row0 col1\" >42</td>\n",
              "    </tr>\n",
              "    <tr>\n",
              "      <th id=\"T_f8189_level0_row1\" class=\"row_heading level0 row1\" >1</th>\n",
              "      <td id=\"T_f8189_row1_col0\" class=\"data row1 col0\" >Target</td>\n",
              "      <td id=\"T_f8189_row1_col1\" class=\"data row1 col1\" >Number of airline passengers</td>\n",
              "    </tr>\n",
              "    <tr>\n",
              "      <th id=\"T_f8189_level0_row2\" class=\"row_heading level0 row2\" >2</th>\n",
              "      <td id=\"T_f8189_row2_col0\" class=\"data row2 col0\" >Approach</td>\n",
              "      <td id=\"T_f8189_row2_col1\" class=\"data row2 col1\" >Univariate</td>\n",
              "    </tr>\n",
              "    <tr>\n",
              "      <th id=\"T_f8189_level0_row3\" class=\"row_heading level0 row3\" >3</th>\n",
              "      <td id=\"T_f8189_row3_col0\" class=\"data row3 col0\" >Exogenous Variables</td>\n",
              "      <td id=\"T_f8189_row3_col1\" class=\"data row3 col1\" >Not Present</td>\n",
              "    </tr>\n",
              "    <tr>\n",
              "      <th id=\"T_f8189_level0_row4\" class=\"row_heading level0 row4\" >4</th>\n",
              "      <td id=\"T_f8189_row4_col0\" class=\"data row4 col0\" >Original data shape</td>\n",
              "      <td id=\"T_f8189_row4_col1\" class=\"data row4 col1\" >(144, 1)</td>\n",
              "    </tr>\n",
              "    <tr>\n",
              "      <th id=\"T_f8189_level0_row5\" class=\"row_heading level0 row5\" >5</th>\n",
              "      <td id=\"T_f8189_row5_col0\" class=\"data row5 col0\" >Transformed data shape</td>\n",
              "      <td id=\"T_f8189_row5_col1\" class=\"data row5 col1\" >(144, 1)</td>\n",
              "    </tr>\n",
              "    <tr>\n",
              "      <th id=\"T_f8189_level0_row6\" class=\"row_heading level0 row6\" >6</th>\n",
              "      <td id=\"T_f8189_row6_col0\" class=\"data row6 col0\" >Transformed train set shape</td>\n",
              "      <td id=\"T_f8189_row6_col1\" class=\"data row6 col1\" >(108, 1)</td>\n",
              "    </tr>\n",
              "    <tr>\n",
              "      <th id=\"T_f8189_level0_row7\" class=\"row_heading level0 row7\" >7</th>\n",
              "      <td id=\"T_f8189_row7_col0\" class=\"data row7 col0\" >Transformed test set shape</td>\n",
              "      <td id=\"T_f8189_row7_col1\" class=\"data row7 col1\" >(12, 1)</td>\n",
              "    </tr>\n",
              "    <tr>\n",
              "      <th id=\"T_f8189_level0_row8\" class=\"row_heading level0 row8\" >8</th>\n",
              "      <td id=\"T_f8189_row8_col0\" class=\"data row8 col0\" >Rows with missing values</td>\n",
              "      <td id=\"T_f8189_row8_col1\" class=\"data row8 col1\" >0.0%</td>\n",
              "    </tr>\n",
              "    <tr>\n",
              "      <th id=\"T_f8189_level0_row9\" class=\"row_heading level0 row9\" >9</th>\n",
              "      <td id=\"T_f8189_row9_col0\" class=\"data row9 col0\" >Fold Generator</td>\n",
              "      <td id=\"T_f8189_row9_col1\" class=\"data row9 col1\" >ExpandingWindowSplitter</td>\n",
              "    </tr>\n",
              "    <tr>\n",
              "      <th id=\"T_f8189_level0_row10\" class=\"row_heading level0 row10\" >10</th>\n",
              "      <td id=\"T_f8189_row10_col0\" class=\"data row10 col0\" >Fold Number</td>\n",
              "      <td id=\"T_f8189_row10_col1\" class=\"data row10 col1\" >3</td>\n",
              "    </tr>\n",
              "    <tr>\n",
              "      <th id=\"T_f8189_level0_row11\" class=\"row_heading level0 row11\" >11</th>\n",
              "      <td id=\"T_f8189_row11_col0\" class=\"data row11 col0\" >Enforce Prediction Interval</td>\n",
              "      <td id=\"T_f8189_row11_col1\" class=\"data row11 col1\" >False</td>\n",
              "    </tr>\n",
              "    <tr>\n",
              "      <th id=\"T_f8189_level0_row12\" class=\"row_heading level0 row12\" >12</th>\n",
              "      <td id=\"T_f8189_row12_col0\" class=\"data row12 col0\" >Seasonal Period(s) Tested</td>\n",
              "      <td id=\"T_f8189_row12_col1\" class=\"data row12 col1\" >12</td>\n",
              "    </tr>\n",
              "    <tr>\n",
              "      <th id=\"T_f8189_level0_row13\" class=\"row_heading level0 row13\" >13</th>\n",
              "      <td id=\"T_f8189_row13_col0\" class=\"data row13 col0\" >Seasonality Present</td>\n",
              "      <td id=\"T_f8189_row13_col1\" class=\"data row13 col1\" >True</td>\n",
              "    </tr>\n",
              "    <tr>\n",
              "      <th id=\"T_f8189_level0_row14\" class=\"row_heading level0 row14\" >14</th>\n",
              "      <td id=\"T_f8189_row14_col0\" class=\"data row14 col0\" >Seasonalities Detected</td>\n",
              "      <td id=\"T_f8189_row14_col1\" class=\"data row14 col1\" >[12]</td>\n",
              "    </tr>\n",
              "    <tr>\n",
              "      <th id=\"T_f8189_level0_row15\" class=\"row_heading level0 row15\" >15</th>\n",
              "      <td id=\"T_f8189_row15_col0\" class=\"data row15 col0\" >Primary Seasonality</td>\n",
              "      <td id=\"T_f8189_row15_col1\" class=\"data row15 col1\" >12</td>\n",
              "    </tr>\n",
              "    <tr>\n",
              "      <th id=\"T_f8189_level0_row16\" class=\"row_heading level0 row16\" >16</th>\n",
              "      <td id=\"T_f8189_row16_col0\" class=\"data row16 col0\" >Target Strictly Positive</td>\n",
              "      <td id=\"T_f8189_row16_col1\" class=\"data row16 col1\" >True</td>\n",
              "    </tr>\n",
              "    <tr>\n",
              "      <th id=\"T_f8189_level0_row17\" class=\"row_heading level0 row17\" >17</th>\n",
              "      <td id=\"T_f8189_row17_col0\" class=\"data row17 col0\" >Target White Noise</td>\n",
              "      <td id=\"T_f8189_row17_col1\" class=\"data row17 col1\" >No</td>\n",
              "    </tr>\n",
              "    <tr>\n",
              "      <th id=\"T_f8189_level0_row18\" class=\"row_heading level0 row18\" >18</th>\n",
              "      <td id=\"T_f8189_row18_col0\" class=\"data row18 col0\" >Recommended d</td>\n",
              "      <td id=\"T_f8189_row18_col1\" class=\"data row18 col1\" >1</td>\n",
              "    </tr>\n",
              "    <tr>\n",
              "      <th id=\"T_f8189_level0_row19\" class=\"row_heading level0 row19\" >19</th>\n",
              "      <td id=\"T_f8189_row19_col0\" class=\"data row19 col0\" >Recommended Seasonal D</td>\n",
              "      <td id=\"T_f8189_row19_col1\" class=\"data row19 col1\" >1</td>\n",
              "    </tr>\n",
              "    <tr>\n",
              "      <th id=\"T_f8189_level0_row20\" class=\"row_heading level0 row20\" >20</th>\n",
              "      <td id=\"T_f8189_row20_col0\" class=\"data row20 col0\" >Preprocess</td>\n",
              "      <td id=\"T_f8189_row20_col1\" class=\"data row20 col1\" >False</td>\n",
              "    </tr>\n",
              "    <tr>\n",
              "      <th id=\"T_f8189_level0_row21\" class=\"row_heading level0 row21\" >21</th>\n",
              "      <td id=\"T_f8189_row21_col0\" class=\"data row21 col0\" >CPU Jobs</td>\n",
              "      <td id=\"T_f8189_row21_col1\" class=\"data row21 col1\" >-1</td>\n",
              "    </tr>\n",
              "    <tr>\n",
              "      <th id=\"T_f8189_level0_row22\" class=\"row_heading level0 row22\" >22</th>\n",
              "      <td id=\"T_f8189_row22_col0\" class=\"data row22 col0\" >Use GPU</td>\n",
              "      <td id=\"T_f8189_row22_col1\" class=\"data row22 col1\" >False</td>\n",
              "    </tr>\n",
              "    <tr>\n",
              "      <th id=\"T_f8189_level0_row23\" class=\"row_heading level0 row23\" >23</th>\n",
              "      <td id=\"T_f8189_row23_col0\" class=\"data row23 col0\" >Log Experiment</td>\n",
              "      <td id=\"T_f8189_row23_col1\" class=\"data row23 col1\" >False</td>\n",
              "    </tr>\n",
              "    <tr>\n",
              "      <th id=\"T_f8189_level0_row24\" class=\"row_heading level0 row24\" >24</th>\n",
              "      <td id=\"T_f8189_row24_col0\" class=\"data row24 col0\" >Experiment Name</td>\n",
              "      <td id=\"T_f8189_row24_col1\" class=\"data row24 col1\" >ts-default-name</td>\n",
              "    </tr>\n",
              "    <tr>\n",
              "      <th id=\"T_f8189_level0_row25\" class=\"row_heading level0 row25\" >25</th>\n",
              "      <td id=\"T_f8189_row25_col0\" class=\"data row25 col0\" >USI</td>\n",
              "      <td id=\"T_f8189_row25_col1\" class=\"data row25 col1\" >1929</td>\n",
              "    </tr>\n",
              "  </tbody>\n",
              "</table>\n"
            ]
          },
          "metadata": {}
        },
        {
          "output_type": "execute_result",
          "data": {
            "text/plain": [
              "<pycaret.time_series.forecasting.oop.TSForecastingExperiment at 0x7f1fd5013150>"
            ]
          },
          "metadata": {},
          "execution_count": 5
        }
      ]
    },
    {
      "cell_type": "markdown",
      "source": [
        "## Check correctness of setup"
      ],
      "metadata": {
        "id": "h7UHoPuFHEIl"
      }
    },
    {
      "cell_type": "code",
      "source": [
        "#### Check Train-Test Split ----\n",
        "exp.plot_model(plot=\"train_test_split\")\n",
        "\n",
        "#### Check cross-validation setup  ----\n",
        "exp.plot_model(plot=\"cv\")"
      ],
      "metadata": {
        "colab": {
          "base_uri": "https://localhost:8080/",
          "height": 1000
        },
        "id": "mEKW3Ck24Fq_",
        "outputId": "593f3105-1239-45bd-bf66-ab28fb37e402"
      },
      "execution_count": 6,
      "outputs": [
        {
          "output_type": "display_data",
          "data": {
            "text/html": [
              "<html>\n",
              "<head><meta charset=\"utf-8\" /></head>\n",
              "<body>\n",
              "    <div>            <script src=\"https://cdnjs.cloudflare.com/ajax/libs/mathjax/2.7.5/MathJax.js?config=TeX-AMS-MML_SVG\"></script><script type=\"text/javascript\">if (window.MathJax) {MathJax.Hub.Config({SVG: {font: \"STIX-Web\"}});}</script>                <script type=\"text/javascript\">window.PlotlyConfig = {MathJaxConfig: 'local'};</script>\n",
              "        <script src=\"https://cdn.plot.ly/plotly-2.8.3.min.js\"></script>                <div id=\"62a9074e-a9e8-4e4b-bebe-41bc5ef4e7a4\" class=\"plotly-graph-div\" style=\"height:525px; width:100%;\"></div>            <script type=\"text/javascript\">                                    window.PLOTLYENV=window.PLOTLYENV || {};                                    if (document.getElementById(\"62a9074e-a9e8-4e4b-bebe-41bc5ef4e7a4\")) {                    Plotly.newPlot(                        \"62a9074e-a9e8-4e4b-bebe-41bc5ef4e7a4\",                        [{\"line\":{\"color\":\"rgb(31, 119, 180)\",\"width\":2},\"marker\":{\"color\":\"rgb(31, 119, 180)\",\"size\":5},\"mode\":\"lines+markers\",\"name\":\"Train (original)\",\"x\":[\"1949-01-01T00:00:00\",\"1949-02-01T00:00:00\",\"1949-03-01T00:00:00\",\"1949-04-01T00:00:00\",\"1949-05-01T00:00:00\",\"1949-06-01T00:00:00\",\"1949-07-01T00:00:00\",\"1949-08-01T00:00:00\",\"1949-09-01T00:00:00\",\"1949-10-01T00:00:00\",\"1949-11-01T00:00:00\",\"1949-12-01T00:00:00\",\"1950-01-01T00:00:00\",\"1950-02-01T00:00:00\",\"1950-03-01T00:00:00\",\"1950-04-01T00:00:00\",\"1950-05-01T00:00:00\",\"1950-06-01T00:00:00\",\"1950-07-01T00:00:00\",\"1950-08-01T00:00:00\",\"1950-09-01T00:00:00\",\"1950-10-01T00:00:00\",\"1950-11-01T00:00:00\",\"1950-12-01T00:00:00\",\"1951-01-01T00:00:00\",\"1951-02-01T00:00:00\",\"1951-03-01T00:00:00\",\"1951-04-01T00:00:00\",\"1951-05-01T00:00:00\",\"1951-06-01T00:00:00\",\"1951-07-01T00:00:00\",\"1951-08-01T00:00:00\",\"1951-09-01T00:00:00\",\"1951-10-01T00:00:00\",\"1951-11-01T00:00:00\",\"1951-12-01T00:00:00\",\"1952-01-01T00:00:00\",\"1952-02-01T00:00:00\",\"1952-03-01T00:00:00\",\"1952-04-01T00:00:00\",\"1952-05-01T00:00:00\",\"1952-06-01T00:00:00\",\"1952-07-01T00:00:00\",\"1952-08-01T00:00:00\",\"1952-09-01T00:00:00\",\"1952-10-01T00:00:00\",\"1952-11-01T00:00:00\",\"1952-12-01T00:00:00\",\"1953-01-01T00:00:00\",\"1953-02-01T00:00:00\",\"1953-03-01T00:00:00\",\"1953-04-01T00:00:00\",\"1953-05-01T00:00:00\",\"1953-06-01T00:00:00\",\"1953-07-01T00:00:00\",\"1953-08-01T00:00:00\",\"1953-09-01T00:00:00\",\"1953-10-01T00:00:00\",\"1953-11-01T00:00:00\",\"1953-12-01T00:00:00\",\"1954-01-01T00:00:00\",\"1954-02-01T00:00:00\",\"1954-03-01T00:00:00\",\"1954-04-01T00:00:00\",\"1954-05-01T00:00:00\",\"1954-06-01T00:00:00\",\"1954-07-01T00:00:00\",\"1954-08-01T00:00:00\",\"1954-09-01T00:00:00\",\"1954-10-01T00:00:00\",\"1954-11-01T00:00:00\",\"1954-12-01T00:00:00\",\"1955-01-01T00:00:00\",\"1955-02-01T00:00:00\",\"1955-03-01T00:00:00\",\"1955-04-01T00:00:00\",\"1955-05-01T00:00:00\",\"1955-06-01T00:00:00\",\"1955-07-01T00:00:00\",\"1955-08-01T00:00:00\",\"1955-09-01T00:00:00\",\"1955-10-01T00:00:00\",\"1955-11-01T00:00:00\",\"1955-12-01T00:00:00\",\"1956-01-01T00:00:00\",\"1956-02-01T00:00:00\",\"1956-03-01T00:00:00\",\"1956-04-01T00:00:00\",\"1956-05-01T00:00:00\",\"1956-06-01T00:00:00\",\"1956-07-01T00:00:00\",\"1956-08-01T00:00:00\",\"1956-09-01T00:00:00\",\"1956-10-01T00:00:00\",\"1956-11-01T00:00:00\",\"1956-12-01T00:00:00\",\"1957-01-01T00:00:00\",\"1957-02-01T00:00:00\",\"1957-03-01T00:00:00\",\"1957-04-01T00:00:00\",\"1957-05-01T00:00:00\",\"1957-06-01T00:00:00\",\"1957-07-01T00:00:00\",\"1957-08-01T00:00:00\",\"1957-09-01T00:00:00\",\"1957-10-01T00:00:00\",\"1957-11-01T00:00:00\",\"1957-12-01T00:00:00\",\"1960-01-01T00:00:00\",\"1960-02-01T00:00:00\",\"1960-03-01T00:00:00\",\"1960-04-01T00:00:00\",\"1960-05-01T00:00:00\",\"1960-06-01T00:00:00\",\"1960-07-01T00:00:00\",\"1960-08-01T00:00:00\",\"1960-09-01T00:00:00\",\"1960-10-01T00:00:00\",\"1960-11-01T00:00:00\",\"1960-12-01T00:00:00\"],\"y\":[112.0,118.0,132.0,129.0,121.0,135.0,148.0,148.0,136.0,119.0,104.0,118.0,115.0,126.0,141.0,135.0,125.0,149.0,170.0,170.0,158.0,133.0,114.0,140.0,145.0,150.0,178.0,163.0,172.0,178.0,199.0,199.0,184.0,162.0,146.0,166.0,171.0,180.0,193.0,181.0,183.0,218.0,230.0,242.0,209.0,191.0,172.0,194.0,196.0,196.0,236.0,235.0,229.0,243.0,264.0,272.0,237.0,211.0,180.0,201.0,204.0,188.0,235.0,227.0,234.0,264.0,302.0,293.0,259.0,229.0,203.0,229.0,242.0,233.0,267.0,269.0,270.0,315.0,364.0,347.0,312.0,274.0,237.0,278.0,284.0,277.0,317.0,313.0,318.0,374.0,413.0,405.0,355.0,306.0,271.0,306.0,315.0,301.0,356.0,348.0,355.0,422.0,465.0,467.0,404.0,347.0,305.0,336.0,null,null,null,null,null,null,null,null,null,null,null,null],\"type\":\"scattergl\",\"xaxis\":\"x\",\"yaxis\":\"y\"},{\"line\":{\"color\":\"rgb(255, 127, 14)\",\"width\":2},\"marker\":{\"color\":\"rgb(255, 127, 14)\",\"size\":5},\"mode\":\"lines+markers\",\"name\":\"Test (original)\",\"x\":[\"1949-01-01T00:00:00\",\"1949-02-01T00:00:00\",\"1949-03-01T00:00:00\",\"1949-04-01T00:00:00\",\"1949-05-01T00:00:00\",\"1949-06-01T00:00:00\",\"1949-07-01T00:00:00\",\"1949-08-01T00:00:00\",\"1949-09-01T00:00:00\",\"1949-10-01T00:00:00\",\"1949-11-01T00:00:00\",\"1949-12-01T00:00:00\",\"1950-01-01T00:00:00\",\"1950-02-01T00:00:00\",\"1950-03-01T00:00:00\",\"1950-04-01T00:00:00\",\"1950-05-01T00:00:00\",\"1950-06-01T00:00:00\",\"1950-07-01T00:00:00\",\"1950-08-01T00:00:00\",\"1950-09-01T00:00:00\",\"1950-10-01T00:00:00\",\"1950-11-01T00:00:00\",\"1950-12-01T00:00:00\",\"1951-01-01T00:00:00\",\"1951-02-01T00:00:00\",\"1951-03-01T00:00:00\",\"1951-04-01T00:00:00\",\"1951-05-01T00:00:00\",\"1951-06-01T00:00:00\",\"1951-07-01T00:00:00\",\"1951-08-01T00:00:00\",\"1951-09-01T00:00:00\",\"1951-10-01T00:00:00\",\"1951-11-01T00:00:00\",\"1951-12-01T00:00:00\",\"1952-01-01T00:00:00\",\"1952-02-01T00:00:00\",\"1952-03-01T00:00:00\",\"1952-04-01T00:00:00\",\"1952-05-01T00:00:00\",\"1952-06-01T00:00:00\",\"1952-07-01T00:00:00\",\"1952-08-01T00:00:00\",\"1952-09-01T00:00:00\",\"1952-10-01T00:00:00\",\"1952-11-01T00:00:00\",\"1952-12-01T00:00:00\",\"1953-01-01T00:00:00\",\"1953-02-01T00:00:00\",\"1953-03-01T00:00:00\",\"1953-04-01T00:00:00\",\"1953-05-01T00:00:00\",\"1953-06-01T00:00:00\",\"1953-07-01T00:00:00\",\"1953-08-01T00:00:00\",\"1953-09-01T00:00:00\",\"1953-10-01T00:00:00\",\"1953-11-01T00:00:00\",\"1953-12-01T00:00:00\",\"1954-01-01T00:00:00\",\"1954-02-01T00:00:00\",\"1954-03-01T00:00:00\",\"1954-04-01T00:00:00\",\"1954-05-01T00:00:00\",\"1954-06-01T00:00:00\",\"1954-07-01T00:00:00\",\"1954-08-01T00:00:00\",\"1954-09-01T00:00:00\",\"1954-10-01T00:00:00\",\"1954-11-01T00:00:00\",\"1954-12-01T00:00:00\",\"1955-01-01T00:00:00\",\"1955-02-01T00:00:00\",\"1955-03-01T00:00:00\",\"1955-04-01T00:00:00\",\"1955-05-01T00:00:00\",\"1955-06-01T00:00:00\",\"1955-07-01T00:00:00\",\"1955-08-01T00:00:00\",\"1955-09-01T00:00:00\",\"1955-10-01T00:00:00\",\"1955-11-01T00:00:00\",\"1955-12-01T00:00:00\",\"1956-01-01T00:00:00\",\"1956-02-01T00:00:00\",\"1956-03-01T00:00:00\",\"1956-04-01T00:00:00\",\"1956-05-01T00:00:00\",\"1956-06-01T00:00:00\",\"1956-07-01T00:00:00\",\"1956-08-01T00:00:00\",\"1956-09-01T00:00:00\",\"1956-10-01T00:00:00\",\"1956-11-01T00:00:00\",\"1956-12-01T00:00:00\",\"1957-01-01T00:00:00\",\"1957-02-01T00:00:00\",\"1957-03-01T00:00:00\",\"1957-04-01T00:00:00\",\"1957-05-01T00:00:00\",\"1957-06-01T00:00:00\",\"1957-07-01T00:00:00\",\"1957-08-01T00:00:00\",\"1957-09-01T00:00:00\",\"1957-10-01T00:00:00\",\"1957-11-01T00:00:00\",\"1957-12-01T00:00:00\",\"1960-01-01T00:00:00\",\"1960-02-01T00:00:00\",\"1960-03-01T00:00:00\",\"1960-04-01T00:00:00\",\"1960-05-01T00:00:00\",\"1960-06-01T00:00:00\",\"1960-07-01T00:00:00\",\"1960-08-01T00:00:00\",\"1960-09-01T00:00:00\",\"1960-10-01T00:00:00\",\"1960-11-01T00:00:00\",\"1960-12-01T00:00:00\"],\"y\":[null,null,null,null,null,null,null,null,null,null,null,null,null,null,null,null,null,null,null,null,null,null,null,null,null,null,null,null,null,null,null,null,null,null,null,null,null,null,null,null,null,null,null,null,null,null,null,null,null,null,null,null,null,null,null,null,null,null,null,null,null,null,null,null,null,null,null,null,null,null,null,null,null,null,null,null,null,null,null,null,null,null,null,null,null,null,null,null,null,null,null,null,null,null,null,null,null,null,null,null,null,null,null,null,null,null,null,null,417.0,391.0,419.0,461.0,472.0,535.0,622.0,606.0,508.0,461.0,390.0,432.0],\"type\":\"scattergl\",\"xaxis\":\"x\",\"yaxis\":\"y\"}],                        {\"template\":{\"data\":{\"barpolar\":[{\"marker\":{\"line\":{\"color\":\"rgb(237,237,237)\",\"width\":0.5},\"pattern\":{\"fillmode\":\"overlay\",\"size\":10,\"solidity\":0.2}},\"type\":\"barpolar\"}],\"bar\":[{\"error_x\":{\"color\":\"rgb(51,51,51)\"},\"error_y\":{\"color\":\"rgb(51,51,51)\"},\"marker\":{\"line\":{\"color\":\"rgb(237,237,237)\",\"width\":0.5},\"pattern\":{\"fillmode\":\"overlay\",\"size\":10,\"solidity\":0.2}},\"type\":\"bar\"}],\"carpet\":[{\"aaxis\":{\"endlinecolor\":\"rgb(51,51,51)\",\"gridcolor\":\"white\",\"linecolor\":\"white\",\"minorgridcolor\":\"white\",\"startlinecolor\":\"rgb(51,51,51)\"},\"baxis\":{\"endlinecolor\":\"rgb(51,51,51)\",\"gridcolor\":\"white\",\"linecolor\":\"white\",\"minorgridcolor\":\"white\",\"startlinecolor\":\"rgb(51,51,51)\"},\"type\":\"carpet\"}],\"choropleth\":[{\"colorbar\":{\"outlinewidth\":0,\"tickcolor\":\"rgb(237,237,237)\",\"ticklen\":6,\"ticks\":\"inside\"},\"type\":\"choropleth\"}],\"contourcarpet\":[{\"colorbar\":{\"outlinewidth\":0,\"tickcolor\":\"rgb(237,237,237)\",\"ticklen\":6,\"ticks\":\"inside\"},\"type\":\"contourcarpet\"}],\"contour\":[{\"colorbar\":{\"outlinewidth\":0,\"tickcolor\":\"rgb(237,237,237)\",\"ticklen\":6,\"ticks\":\"inside\"},\"colorscale\":[[0,\"rgb(20,44,66)\"],[1,\"rgb(90,179,244)\"]],\"type\":\"contour\"}],\"heatmapgl\":[{\"colorbar\":{\"outlinewidth\":0,\"tickcolor\":\"rgb(237,237,237)\",\"ticklen\":6,\"ticks\":\"inside\"},\"colorscale\":[[0,\"rgb(20,44,66)\"],[1,\"rgb(90,179,244)\"]],\"type\":\"heatmapgl\"}],\"heatmap\":[{\"colorbar\":{\"outlinewidth\":0,\"tickcolor\":\"rgb(237,237,237)\",\"ticklen\":6,\"ticks\":\"inside\"},\"colorscale\":[[0,\"rgb(20,44,66)\"],[1,\"rgb(90,179,244)\"]],\"type\":\"heatmap\"}],\"histogram2dcontour\":[{\"colorbar\":{\"outlinewidth\":0,\"tickcolor\":\"rgb(237,237,237)\",\"ticklen\":6,\"ticks\":\"inside\"},\"colorscale\":[[0,\"rgb(20,44,66)\"],[1,\"rgb(90,179,244)\"]],\"type\":\"histogram2dcontour\"}],\"histogram2d\":[{\"colorbar\":{\"outlinewidth\":0,\"tickcolor\":\"rgb(237,237,237)\",\"ticklen\":6,\"ticks\":\"inside\"},\"colorscale\":[[0,\"rgb(20,44,66)\"],[1,\"rgb(90,179,244)\"]],\"type\":\"histogram2d\"}],\"histogram\":[{\"marker\":{\"pattern\":{\"fillmode\":\"overlay\",\"size\":10,\"solidity\":0.2}},\"type\":\"histogram\"}],\"mesh3d\":[{\"colorbar\":{\"outlinewidth\":0,\"tickcolor\":\"rgb(237,237,237)\",\"ticklen\":6,\"ticks\":\"inside\"},\"type\":\"mesh3d\"}],\"parcoords\":[{\"line\":{\"colorbar\":{\"outlinewidth\":0,\"tickcolor\":\"rgb(237,237,237)\",\"ticklen\":6,\"ticks\":\"inside\"}},\"type\":\"parcoords\"}],\"pie\":[{\"automargin\":true,\"type\":\"pie\"}],\"scatter3d\":[{\"line\":{\"colorbar\":{\"outlinewidth\":0,\"tickcolor\":\"rgb(237,237,237)\",\"ticklen\":6,\"ticks\":\"inside\"}},\"marker\":{\"colorbar\":{\"outlinewidth\":0,\"tickcolor\":\"rgb(237,237,237)\",\"ticklen\":6,\"ticks\":\"inside\"}},\"type\":\"scatter3d\"}],\"scattercarpet\":[{\"marker\":{\"colorbar\":{\"outlinewidth\":0,\"tickcolor\":\"rgb(237,237,237)\",\"ticklen\":6,\"ticks\":\"inside\"}},\"type\":\"scattercarpet\"}],\"scattergeo\":[{\"marker\":{\"colorbar\":{\"outlinewidth\":0,\"tickcolor\":\"rgb(237,237,237)\",\"ticklen\":6,\"ticks\":\"inside\"}},\"type\":\"scattergeo\"}],\"scattergl\":[{\"marker\":{\"colorbar\":{\"outlinewidth\":0,\"tickcolor\":\"rgb(237,237,237)\",\"ticklen\":6,\"ticks\":\"inside\"}},\"type\":\"scattergl\"}],\"scattermapbox\":[{\"marker\":{\"colorbar\":{\"outlinewidth\":0,\"tickcolor\":\"rgb(237,237,237)\",\"ticklen\":6,\"ticks\":\"inside\"}},\"type\":\"scattermapbox\"}],\"scatterpolargl\":[{\"marker\":{\"colorbar\":{\"outlinewidth\":0,\"tickcolor\":\"rgb(237,237,237)\",\"ticklen\":6,\"ticks\":\"inside\"}},\"type\":\"scatterpolargl\"}],\"scatterpolar\":[{\"marker\":{\"colorbar\":{\"outlinewidth\":0,\"tickcolor\":\"rgb(237,237,237)\",\"ticklen\":6,\"ticks\":\"inside\"}},\"type\":\"scatterpolar\"}],\"scatter\":[{\"marker\":{\"colorbar\":{\"outlinewidth\":0,\"tickcolor\":\"rgb(237,237,237)\",\"ticklen\":6,\"ticks\":\"inside\"}},\"type\":\"scatter\"}],\"scatterternary\":[{\"marker\":{\"colorbar\":{\"outlinewidth\":0,\"tickcolor\":\"rgb(237,237,237)\",\"ticklen\":6,\"ticks\":\"inside\"}},\"type\":\"scatterternary\"}],\"surface\":[{\"colorbar\":{\"outlinewidth\":0,\"tickcolor\":\"rgb(237,237,237)\",\"ticklen\":6,\"ticks\":\"inside\"},\"colorscale\":[[0,\"rgb(20,44,66)\"],[1,\"rgb(90,179,244)\"]],\"type\":\"surface\"}],\"table\":[{\"cells\":{\"fill\":{\"color\":\"rgb(237,237,237)\"},\"line\":{\"color\":\"white\"}},\"header\":{\"fill\":{\"color\":\"rgb(217,217,217)\"},\"line\":{\"color\":\"white\"}},\"type\":\"table\"}]},\"layout\":{\"annotationdefaults\":{\"arrowhead\":0,\"arrowwidth\":1},\"autotypenumbers\":\"strict\",\"coloraxis\":{\"colorbar\":{\"outlinewidth\":0,\"tickcolor\":\"rgb(237,237,237)\",\"ticklen\":6,\"ticks\":\"inside\"}},\"colorscale\":{\"sequential\":[[0,\"rgb(20,44,66)\"],[1,\"rgb(90,179,244)\"]],\"sequentialminus\":[[0,\"rgb(20,44,66)\"],[1,\"rgb(90,179,244)\"]]},\"colorway\":[\"#F8766D\",\"#A3A500\",\"#00BF7D\",\"#00B0F6\",\"#E76BF3\"],\"font\":{\"color\":\"rgb(51,51,51)\"},\"geo\":{\"bgcolor\":\"white\",\"lakecolor\":\"white\",\"landcolor\":\"rgb(237,237,237)\",\"showlakes\":true,\"showland\":true,\"subunitcolor\":\"white\"},\"hoverlabel\":{\"align\":\"left\"},\"hovermode\":\"closest\",\"paper_bgcolor\":\"white\",\"plot_bgcolor\":\"rgb(237,237,237)\",\"polar\":{\"angularaxis\":{\"gridcolor\":\"white\",\"linecolor\":\"white\",\"showgrid\":true,\"tickcolor\":\"rgb(51,51,51)\",\"ticks\":\"outside\"},\"bgcolor\":\"rgb(237,237,237)\",\"radialaxis\":{\"gridcolor\":\"white\",\"linecolor\":\"white\",\"showgrid\":true,\"tickcolor\":\"rgb(51,51,51)\",\"ticks\":\"outside\"}},\"scene\":{\"xaxis\":{\"backgroundcolor\":\"rgb(237,237,237)\",\"gridcolor\":\"white\",\"gridwidth\":2,\"linecolor\":\"white\",\"showbackground\":true,\"showgrid\":true,\"tickcolor\":\"rgb(51,51,51)\",\"ticks\":\"outside\",\"zerolinecolor\":\"white\"},\"yaxis\":{\"backgroundcolor\":\"rgb(237,237,237)\",\"gridcolor\":\"white\",\"gridwidth\":2,\"linecolor\":\"white\",\"showbackground\":true,\"showgrid\":true,\"tickcolor\":\"rgb(51,51,51)\",\"ticks\":\"outside\",\"zerolinecolor\":\"white\"},\"zaxis\":{\"backgroundcolor\":\"rgb(237,237,237)\",\"gridcolor\":\"white\",\"gridwidth\":2,\"linecolor\":\"white\",\"showbackground\":true,\"showgrid\":true,\"tickcolor\":\"rgb(51,51,51)\",\"ticks\":\"outside\",\"zerolinecolor\":\"white\"}},\"shapedefaults\":{\"fillcolor\":\"black\",\"line\":{\"width\":0},\"opacity\":0.3},\"ternary\":{\"aaxis\":{\"gridcolor\":\"white\",\"linecolor\":\"white\",\"showgrid\":true,\"tickcolor\":\"rgb(51,51,51)\",\"ticks\":\"outside\"},\"baxis\":{\"gridcolor\":\"white\",\"linecolor\":\"white\",\"showgrid\":true,\"tickcolor\":\"rgb(51,51,51)\",\"ticks\":\"outside\"},\"bgcolor\":\"rgb(237,237,237)\",\"caxis\":{\"gridcolor\":\"white\",\"linecolor\":\"white\",\"showgrid\":true,\"tickcolor\":\"rgb(51,51,51)\",\"ticks\":\"outside\"}},\"xaxis\":{\"automargin\":true,\"gridcolor\":\"white\",\"linecolor\":\"white\",\"showgrid\":true,\"tickcolor\":\"rgb(51,51,51)\",\"ticks\":\"outside\",\"title\":{\"standoff\":15},\"zerolinecolor\":\"white\"},\"yaxis\":{\"automargin\":true,\"gridcolor\":\"white\",\"linecolor\":\"white\",\"showgrid\":true,\"tickcolor\":\"rgb(51,51,51)\",\"ticks\":\"outside\",\"title\":{\"standoff\":15},\"zerolinecolor\":\"white\"}}},\"xaxis\":{\"anchor\":\"y\",\"domain\":[0.0,1.0]},\"yaxis\":{\"anchor\":\"x\",\"domain\":[0.0,1.0]},\"annotations\":[{\"font\":{\"size\":16},\"showarrow\":false,\"text\":\"Number of airline passengers\",\"x\":0.5,\"xanchor\":\"center\",\"xref\":\"paper\",\"y\":1.0,\"yanchor\":\"bottom\",\"yref\":\"paper\"}],\"title\":{\"text\":\"Time Series | Target = Number of airline passengers\"},\"showlegend\":true},                        {\"responsive\": true}                    ).then(function(){\n",
              "                            \n",
              "var gd = document.getElementById('62a9074e-a9e8-4e4b-bebe-41bc5ef4e7a4');\n",
              "var x = new MutationObserver(function (mutations, observer) {{\n",
              "        var display = window.getComputedStyle(gd).display;\n",
              "        if (!display || display === 'none') {{\n",
              "            console.log([gd, 'removed!']);\n",
              "            Plotly.purge(gd);\n",
              "            observer.disconnect();\n",
              "        }}\n",
              "}});\n",
              "\n",
              "// Listen for the removal of the full notebook cells\n",
              "var notebookContainer = gd.closest('#notebook-container');\n",
              "if (notebookContainer) {{\n",
              "    x.observe(notebookContainer, {childList: true});\n",
              "}}\n",
              "\n",
              "// Listen for the clearing of the current output cell\n",
              "var outputEl = gd.closest('.output');\n",
              "if (outputEl) {{\n",
              "    x.observe(outputEl, {childList: true});\n",
              "}}\n",
              "\n",
              "                        })                };                            </script>        </div>\n",
              "</body>\n",
              "</html>"
            ]
          },
          "metadata": {}
        },
        {
          "output_type": "display_data",
          "data": {
            "text/html": [
              "<html>\n",
              "<head><meta charset=\"utf-8\" /></head>\n",
              "<body>\n",
              "    <div>            <script src=\"https://cdnjs.cloudflare.com/ajax/libs/mathjax/2.7.5/MathJax.js?config=TeX-AMS-MML_SVG\"></script><script type=\"text/javascript\">if (window.MathJax) {MathJax.Hub.Config({SVG: {font: \"STIX-Web\"}});}</script>                <script type=\"text/javascript\">window.PlotlyConfig = {MathJaxConfig: 'local'};</script>\n",
              "        <script src=\"https://cdn.plot.ly/plotly-2.8.3.min.js\"></script>                <div id=\"fb3ae7ff-7cae-40f1-973c-06c7d290e7cf\" class=\"plotly-graph-div\" style=\"height:525px; width:100%;\"></div>            <script type=\"text/javascript\">                                    window.PLOTLYENV=window.PLOTLYENV || {};                                    if (document.getElementById(\"fb3ae7ff-7cae-40f1-973c-06c7d290e7cf\")) {                    Plotly.newPlot(                        \"fb3ae7ff-7cae-40f1-973c-06c7d290e7cf\",                        [{\"hoverinfo\":\"skip\",\"line\":{\"color\":\"#C0C0C0\"},\"mode\":\"lines+markers\",\"name\":\"Unchanged\",\"x\":[\"1949-01-01T00:00:00\",\"1949-02-01T00:00:00\"],\"y\":[\"2\",\"2\"],\"type\":\"scattergl\",\"showlegend\":false},{\"hoverinfo\":\"skip\",\"line\":{\"color\":\"#C0C0C0\"},\"mode\":\"lines+markers\",\"name\":\"Unchanged\",\"x\":[\"1949-02-01T00:00:00\",\"1949-03-01T00:00:00\"],\"y\":[\"2\",\"2\"],\"type\":\"scattergl\",\"showlegend\":false},{\"hoverinfo\":\"skip\",\"line\":{\"color\":\"#C0C0C0\"},\"mode\":\"lines+markers\",\"name\":\"Unchanged\",\"x\":[\"1949-03-01T00:00:00\",\"1949-04-01T00:00:00\"],\"y\":[\"2\",\"2\"],\"type\":\"scattergl\",\"showlegend\":false},{\"hoverinfo\":\"skip\",\"line\":{\"color\":\"#C0C0C0\"},\"mode\":\"lines+markers\",\"name\":\"Unchanged\",\"x\":[\"1949-04-01T00:00:00\",\"1949-05-01T00:00:00\"],\"y\":[\"2\",\"2\"],\"type\":\"scattergl\",\"showlegend\":false},{\"hoverinfo\":\"skip\",\"line\":{\"color\":\"#C0C0C0\"},\"mode\":\"lines+markers\",\"name\":\"Unchanged\",\"x\":[\"1949-05-01T00:00:00\",\"1949-06-01T00:00:00\"],\"y\":[\"2\",\"2\"],\"type\":\"scattergl\",\"showlegend\":false},{\"hoverinfo\":\"skip\",\"line\":{\"color\":\"#C0C0C0\"},\"mode\":\"lines+markers\",\"name\":\"Unchanged\",\"x\":[\"1949-06-01T00:00:00\",\"1949-07-01T00:00:00\"],\"y\":[\"2\",\"2\"],\"type\":\"scattergl\",\"showlegend\":false},{\"hoverinfo\":\"skip\",\"line\":{\"color\":\"#C0C0C0\"},\"mode\":\"lines+markers\",\"name\":\"Unchanged\",\"x\":[\"1949-07-01T00:00:00\",\"1949-08-01T00:00:00\"],\"y\":[\"2\",\"2\"],\"type\":\"scattergl\",\"showlegend\":false},{\"hoverinfo\":\"skip\",\"line\":{\"color\":\"#C0C0C0\"},\"mode\":\"lines+markers\",\"name\":\"Unchanged\",\"x\":[\"1949-08-01T00:00:00\",\"1949-09-01T00:00:00\"],\"y\":[\"2\",\"2\"],\"type\":\"scattergl\",\"showlegend\":false},{\"hoverinfo\":\"skip\",\"line\":{\"color\":\"#C0C0C0\"},\"mode\":\"lines+markers\",\"name\":\"Unchanged\",\"x\":[\"1949-09-01T00:00:00\",\"1949-10-01T00:00:00\"],\"y\":[\"2\",\"2\"],\"type\":\"scattergl\",\"showlegend\":false},{\"hoverinfo\":\"skip\",\"line\":{\"color\":\"#C0C0C0\"},\"mode\":\"lines+markers\",\"name\":\"Unchanged\",\"x\":[\"1949-10-01T00:00:00\",\"1949-11-01T00:00:00\"],\"y\":[\"2\",\"2\"],\"type\":\"scattergl\",\"showlegend\":false},{\"hoverinfo\":\"skip\",\"line\":{\"color\":\"#C0C0C0\"},\"mode\":\"lines+markers\",\"name\":\"Unchanged\",\"x\":[\"1949-11-01T00:00:00\",\"1949-12-01T00:00:00\"],\"y\":[\"2\",\"2\"],\"type\":\"scattergl\",\"showlegend\":false},{\"hoverinfo\":\"skip\",\"line\":{\"color\":\"#C0C0C0\"},\"mode\":\"lines+markers\",\"name\":\"Unchanged\",\"x\":[\"1949-12-01T00:00:00\",\"1950-01-01T00:00:00\"],\"y\":[\"2\",\"2\"],\"type\":\"scattergl\",\"showlegend\":false},{\"hoverinfo\":\"skip\",\"line\":{\"color\":\"#C0C0C0\"},\"mode\":\"lines+markers\",\"name\":\"Unchanged\",\"x\":[\"1950-01-01T00:00:00\",\"1950-02-01T00:00:00\"],\"y\":[\"2\",\"2\"],\"type\":\"scattergl\",\"showlegend\":false},{\"hoverinfo\":\"skip\",\"line\":{\"color\":\"#C0C0C0\"},\"mode\":\"lines+markers\",\"name\":\"Unchanged\",\"x\":[\"1950-02-01T00:00:00\",\"1950-03-01T00:00:00\"],\"y\":[\"2\",\"2\"],\"type\":\"scattergl\",\"showlegend\":false},{\"hoverinfo\":\"skip\",\"line\":{\"color\":\"#C0C0C0\"},\"mode\":\"lines+markers\",\"name\":\"Unchanged\",\"x\":[\"1950-03-01T00:00:00\",\"1950-04-01T00:00:00\"],\"y\":[\"2\",\"2\"],\"type\":\"scattergl\",\"showlegend\":false},{\"hoverinfo\":\"skip\",\"line\":{\"color\":\"#C0C0C0\"},\"mode\":\"lines+markers\",\"name\":\"Unchanged\",\"x\":[\"1950-04-01T00:00:00\",\"1950-05-01T00:00:00\"],\"y\":[\"2\",\"2\"],\"type\":\"scattergl\",\"showlegend\":false},{\"hoverinfo\":\"skip\",\"line\":{\"color\":\"#C0C0C0\"},\"mode\":\"lines+markers\",\"name\":\"Unchanged\",\"x\":[\"1950-05-01T00:00:00\",\"1950-06-01T00:00:00\"],\"y\":[\"2\",\"2\"],\"type\":\"scattergl\",\"showlegend\":false},{\"hoverinfo\":\"skip\",\"line\":{\"color\":\"#C0C0C0\"},\"mode\":\"lines+markers\",\"name\":\"Unchanged\",\"x\":[\"1950-06-01T00:00:00\",\"1950-07-01T00:00:00\"],\"y\":[\"2\",\"2\"],\"type\":\"scattergl\",\"showlegend\":false},{\"hoverinfo\":\"skip\",\"line\":{\"color\":\"#C0C0C0\"},\"mode\":\"lines+markers\",\"name\":\"Unchanged\",\"x\":[\"1950-07-01T00:00:00\",\"1950-08-01T00:00:00\"],\"y\":[\"2\",\"2\"],\"type\":\"scattergl\",\"showlegend\":false},{\"hoverinfo\":\"skip\",\"line\":{\"color\":\"#C0C0C0\"},\"mode\":\"lines+markers\",\"name\":\"Unchanged\",\"x\":[\"1950-08-01T00:00:00\",\"1950-09-01T00:00:00\"],\"y\":[\"2\",\"2\"],\"type\":\"scattergl\",\"showlegend\":false},{\"hoverinfo\":\"skip\",\"line\":{\"color\":\"#C0C0C0\"},\"mode\":\"lines+markers\",\"name\":\"Unchanged\",\"x\":[\"1950-09-01T00:00:00\",\"1950-10-01T00:00:00\"],\"y\":[\"2\",\"2\"],\"type\":\"scattergl\",\"showlegend\":false},{\"hoverinfo\":\"skip\",\"line\":{\"color\":\"#C0C0C0\"},\"mode\":\"lines+markers\",\"name\":\"Unchanged\",\"x\":[\"1950-10-01T00:00:00\",\"1950-11-01T00:00:00\"],\"y\":[\"2\",\"2\"],\"type\":\"scattergl\",\"showlegend\":false},{\"hoverinfo\":\"skip\",\"line\":{\"color\":\"#C0C0C0\"},\"mode\":\"lines+markers\",\"name\":\"Unchanged\",\"x\":[\"1950-11-01T00:00:00\",\"1950-12-01T00:00:00\"],\"y\":[\"2\",\"2\"],\"type\":\"scattergl\",\"showlegend\":false},{\"hoverinfo\":\"skip\",\"line\":{\"color\":\"#C0C0C0\"},\"mode\":\"lines+markers\",\"name\":\"Unchanged\",\"x\":[\"1950-12-01T00:00:00\",\"1951-01-01T00:00:00\"],\"y\":[\"2\",\"2\"],\"type\":\"scattergl\",\"showlegend\":false},{\"hoverinfo\":\"skip\",\"line\":{\"color\":\"#C0C0C0\"},\"mode\":\"lines+markers\",\"name\":\"Unchanged\",\"x\":[\"1951-01-01T00:00:00\",\"1951-02-01T00:00:00\"],\"y\":[\"2\",\"2\"],\"type\":\"scattergl\",\"showlegend\":false},{\"hoverinfo\":\"skip\",\"line\":{\"color\":\"#C0C0C0\"},\"mode\":\"lines+markers\",\"name\":\"Unchanged\",\"x\":[\"1951-02-01T00:00:00\",\"1951-03-01T00:00:00\"],\"y\":[\"2\",\"2\"],\"type\":\"scattergl\",\"showlegend\":false},{\"hoverinfo\":\"skip\",\"line\":{\"color\":\"#C0C0C0\"},\"mode\":\"lines+markers\",\"name\":\"Unchanged\",\"x\":[\"1951-03-01T00:00:00\",\"1951-04-01T00:00:00\"],\"y\":[\"2\",\"2\"],\"type\":\"scattergl\",\"showlegend\":false},{\"hoverinfo\":\"skip\",\"line\":{\"color\":\"#C0C0C0\"},\"mode\":\"lines+markers\",\"name\":\"Unchanged\",\"x\":[\"1951-04-01T00:00:00\",\"1951-05-01T00:00:00\"],\"y\":[\"2\",\"2\"],\"type\":\"scattergl\",\"showlegend\":false},{\"hoverinfo\":\"skip\",\"line\":{\"color\":\"#C0C0C0\"},\"mode\":\"lines+markers\",\"name\":\"Unchanged\",\"x\":[\"1951-05-01T00:00:00\",\"1951-06-01T00:00:00\"],\"y\":[\"2\",\"2\"],\"type\":\"scattergl\",\"showlegend\":false},{\"hoverinfo\":\"skip\",\"line\":{\"color\":\"#C0C0C0\"},\"mode\":\"lines+markers\",\"name\":\"Unchanged\",\"x\":[\"1951-06-01T00:00:00\",\"1951-07-01T00:00:00\"],\"y\":[\"2\",\"2\"],\"type\":\"scattergl\",\"showlegend\":false},{\"hoverinfo\":\"skip\",\"line\":{\"color\":\"#C0C0C0\"},\"mode\":\"lines+markers\",\"name\":\"Unchanged\",\"x\":[\"1951-07-01T00:00:00\",\"1951-08-01T00:00:00\"],\"y\":[\"2\",\"2\"],\"type\":\"scattergl\",\"showlegend\":false},{\"hoverinfo\":\"skip\",\"line\":{\"color\":\"#C0C0C0\"},\"mode\":\"lines+markers\",\"name\":\"Unchanged\",\"x\":[\"1951-08-01T00:00:00\",\"1951-09-01T00:00:00\"],\"y\":[\"2\",\"2\"],\"type\":\"scattergl\",\"showlegend\":false},{\"hoverinfo\":\"skip\",\"line\":{\"color\":\"#C0C0C0\"},\"mode\":\"lines+markers\",\"name\":\"Unchanged\",\"x\":[\"1951-09-01T00:00:00\",\"1951-10-01T00:00:00\"],\"y\":[\"2\",\"2\"],\"type\":\"scattergl\",\"showlegend\":false},{\"hoverinfo\":\"skip\",\"line\":{\"color\":\"#C0C0C0\"},\"mode\":\"lines+markers\",\"name\":\"Unchanged\",\"x\":[\"1951-10-01T00:00:00\",\"1951-11-01T00:00:00\"],\"y\":[\"2\",\"2\"],\"type\":\"scattergl\",\"showlegend\":false},{\"hoverinfo\":\"skip\",\"line\":{\"color\":\"#C0C0C0\"},\"mode\":\"lines+markers\",\"name\":\"Unchanged\",\"x\":[\"1951-11-01T00:00:00\",\"1951-12-01T00:00:00\"],\"y\":[\"2\",\"2\"],\"type\":\"scattergl\",\"showlegend\":false},{\"hoverinfo\":\"skip\",\"line\":{\"color\":\"#C0C0C0\"},\"mode\":\"lines+markers\",\"name\":\"Unchanged\",\"x\":[\"1951-12-01T00:00:00\",\"1952-01-01T00:00:00\"],\"y\":[\"2\",\"2\"],\"type\":\"scattergl\",\"showlegend\":false},{\"hoverinfo\":\"skip\",\"line\":{\"color\":\"#C0C0C0\"},\"mode\":\"lines+markers\",\"name\":\"Unchanged\",\"x\":[\"1952-01-01T00:00:00\",\"1952-02-01T00:00:00\"],\"y\":[\"2\",\"2\"],\"type\":\"scattergl\",\"showlegend\":false},{\"hoverinfo\":\"skip\",\"line\":{\"color\":\"#C0C0C0\"},\"mode\":\"lines+markers\",\"name\":\"Unchanged\",\"x\":[\"1952-02-01T00:00:00\",\"1952-03-01T00:00:00\"],\"y\":[\"2\",\"2\"],\"type\":\"scattergl\",\"showlegend\":false},{\"hoverinfo\":\"skip\",\"line\":{\"color\":\"#C0C0C0\"},\"mode\":\"lines+markers\",\"name\":\"Unchanged\",\"x\":[\"1952-03-01T00:00:00\",\"1952-04-01T00:00:00\"],\"y\":[\"2\",\"2\"],\"type\":\"scattergl\",\"showlegend\":false},{\"hoverinfo\":\"skip\",\"line\":{\"color\":\"#C0C0C0\"},\"mode\":\"lines+markers\",\"name\":\"Unchanged\",\"x\":[\"1952-04-01T00:00:00\",\"1952-05-01T00:00:00\"],\"y\":[\"2\",\"2\"],\"type\":\"scattergl\",\"showlegend\":false},{\"hoverinfo\":\"skip\",\"line\":{\"color\":\"#C0C0C0\"},\"mode\":\"lines+markers\",\"name\":\"Unchanged\",\"x\":[\"1952-05-01T00:00:00\",\"1952-06-01T00:00:00\"],\"y\":[\"2\",\"2\"],\"type\":\"scattergl\",\"showlegend\":false},{\"hoverinfo\":\"skip\",\"line\":{\"color\":\"#C0C0C0\"},\"mode\":\"lines+markers\",\"name\":\"Unchanged\",\"x\":[\"1952-06-01T00:00:00\",\"1952-07-01T00:00:00\"],\"y\":[\"2\",\"2\"],\"type\":\"scattergl\",\"showlegend\":false},{\"hoverinfo\":\"skip\",\"line\":{\"color\":\"#C0C0C0\"},\"mode\":\"lines+markers\",\"name\":\"Unchanged\",\"x\":[\"1952-07-01T00:00:00\",\"1952-08-01T00:00:00\"],\"y\":[\"2\",\"2\"],\"type\":\"scattergl\",\"showlegend\":false},{\"hoverinfo\":\"skip\",\"line\":{\"color\":\"#C0C0C0\"},\"mode\":\"lines+markers\",\"name\":\"Unchanged\",\"x\":[\"1952-08-01T00:00:00\",\"1952-09-01T00:00:00\"],\"y\":[\"2\",\"2\"],\"type\":\"scattergl\",\"showlegend\":false},{\"hoverinfo\":\"skip\",\"line\":{\"color\":\"#C0C0C0\"},\"mode\":\"lines+markers\",\"name\":\"Unchanged\",\"x\":[\"1952-09-01T00:00:00\",\"1952-10-01T00:00:00\"],\"y\":[\"2\",\"2\"],\"type\":\"scattergl\",\"showlegend\":false},{\"hoverinfo\":\"skip\",\"line\":{\"color\":\"#C0C0C0\"},\"mode\":\"lines+markers\",\"name\":\"Unchanged\",\"x\":[\"1952-10-01T00:00:00\",\"1952-11-01T00:00:00\"],\"y\":[\"2\",\"2\"],\"type\":\"scattergl\",\"showlegend\":false},{\"hoverinfo\":\"skip\",\"line\":{\"color\":\"#C0C0C0\"},\"mode\":\"lines+markers\",\"name\":\"Unchanged\",\"x\":[\"1952-11-01T00:00:00\",\"1952-12-01T00:00:00\"],\"y\":[\"2\",\"2\"],\"type\":\"scattergl\",\"showlegend\":false},{\"hoverinfo\":\"skip\",\"line\":{\"color\":\"#C0C0C0\"},\"mode\":\"lines+markers\",\"name\":\"Unchanged\",\"x\":[\"1952-12-01T00:00:00\",\"1953-01-01T00:00:00\"],\"y\":[\"2\",\"2\"],\"type\":\"scattergl\",\"showlegend\":false},{\"hoverinfo\":\"skip\",\"line\":{\"color\":\"#C0C0C0\"},\"mode\":\"lines+markers\",\"name\":\"Unchanged\",\"x\":[\"1953-01-01T00:00:00\",\"1953-02-01T00:00:00\"],\"y\":[\"2\",\"2\"],\"type\":\"scattergl\",\"showlegend\":false},{\"hoverinfo\":\"skip\",\"line\":{\"color\":\"#C0C0C0\"},\"mode\":\"lines+markers\",\"name\":\"Unchanged\",\"x\":[\"1953-02-01T00:00:00\",\"1953-03-01T00:00:00\"],\"y\":[\"2\",\"2\"],\"type\":\"scattergl\",\"showlegend\":false},{\"hoverinfo\":\"skip\",\"line\":{\"color\":\"#C0C0C0\"},\"mode\":\"lines+markers\",\"name\":\"Unchanged\",\"x\":[\"1953-03-01T00:00:00\",\"1953-04-01T00:00:00\"],\"y\":[\"2\",\"2\"],\"type\":\"scattergl\",\"showlegend\":false},{\"hoverinfo\":\"skip\",\"line\":{\"color\":\"#C0C0C0\"},\"mode\":\"lines+markers\",\"name\":\"Unchanged\",\"x\":[\"1953-04-01T00:00:00\",\"1953-05-01T00:00:00\"],\"y\":[\"2\",\"2\"],\"type\":\"scattergl\",\"showlegend\":false},{\"hoverinfo\":\"skip\",\"line\":{\"color\":\"#C0C0C0\"},\"mode\":\"lines+markers\",\"name\":\"Unchanged\",\"x\":[\"1953-05-01T00:00:00\",\"1953-06-01T00:00:00\"],\"y\":[\"2\",\"2\"],\"type\":\"scattergl\",\"showlegend\":false},{\"hoverinfo\":\"skip\",\"line\":{\"color\":\"#C0C0C0\"},\"mode\":\"lines+markers\",\"name\":\"Unchanged\",\"x\":[\"1953-06-01T00:00:00\",\"1953-07-01T00:00:00\"],\"y\":[\"2\",\"2\"],\"type\":\"scattergl\",\"showlegend\":false},{\"hoverinfo\":\"skip\",\"line\":{\"color\":\"#C0C0C0\"},\"mode\":\"lines+markers\",\"name\":\"Unchanged\",\"x\":[\"1953-07-01T00:00:00\",\"1953-08-01T00:00:00\"],\"y\":[\"2\",\"2\"],\"type\":\"scattergl\",\"showlegend\":false},{\"hoverinfo\":\"skip\",\"line\":{\"color\":\"#C0C0C0\"},\"mode\":\"lines+markers\",\"name\":\"Unchanged\",\"x\":[\"1953-08-01T00:00:00\",\"1953-09-01T00:00:00\"],\"y\":[\"2\",\"2\"],\"type\":\"scattergl\",\"showlegend\":false},{\"hoverinfo\":\"skip\",\"line\":{\"color\":\"#C0C0C0\"},\"mode\":\"lines+markers\",\"name\":\"Unchanged\",\"x\":[\"1953-09-01T00:00:00\",\"1953-10-01T00:00:00\"],\"y\":[\"2\",\"2\"],\"type\":\"scattergl\",\"showlegend\":false},{\"hoverinfo\":\"skip\",\"line\":{\"color\":\"#C0C0C0\"},\"mode\":\"lines+markers\",\"name\":\"Unchanged\",\"x\":[\"1953-10-01T00:00:00\",\"1953-11-01T00:00:00\"],\"y\":[\"2\",\"2\"],\"type\":\"scattergl\",\"showlegend\":false},{\"hoverinfo\":\"skip\",\"line\":{\"color\":\"#C0C0C0\"},\"mode\":\"lines+markers\",\"name\":\"Unchanged\",\"x\":[\"1953-11-01T00:00:00\",\"1953-12-01T00:00:00\"],\"y\":[\"2\",\"2\"],\"type\":\"scattergl\",\"showlegend\":false},{\"hoverinfo\":\"skip\",\"line\":{\"color\":\"#C0C0C0\"},\"mode\":\"lines+markers\",\"name\":\"Unchanged\",\"x\":[\"1953-12-01T00:00:00\",\"1954-01-01T00:00:00\"],\"y\":[\"2\",\"2\"],\"type\":\"scattergl\",\"showlegend\":false},{\"hoverinfo\":\"skip\",\"line\":{\"color\":\"#C0C0C0\"},\"mode\":\"lines+markers\",\"name\":\"Unchanged\",\"x\":[\"1954-01-01T00:00:00\",\"1954-02-01T00:00:00\"],\"y\":[\"2\",\"2\"],\"type\":\"scattergl\",\"showlegend\":false},{\"hoverinfo\":\"skip\",\"line\":{\"color\":\"#C0C0C0\"},\"mode\":\"lines+markers\",\"name\":\"Unchanged\",\"x\":[\"1954-02-01T00:00:00\",\"1954-03-01T00:00:00\"],\"y\":[\"2\",\"2\"],\"type\":\"scattergl\",\"showlegend\":false},{\"hoverinfo\":\"skip\",\"line\":{\"color\":\"#C0C0C0\"},\"mode\":\"lines+markers\",\"name\":\"Unchanged\",\"x\":[\"1954-03-01T00:00:00\",\"1954-04-01T00:00:00\"],\"y\":[\"2\",\"2\"],\"type\":\"scattergl\",\"showlegend\":false},{\"hoverinfo\":\"skip\",\"line\":{\"color\":\"#C0C0C0\"},\"mode\":\"lines+markers\",\"name\":\"Unchanged\",\"x\":[\"1954-04-01T00:00:00\",\"1954-05-01T00:00:00\"],\"y\":[\"2\",\"2\"],\"type\":\"scattergl\",\"showlegend\":false},{\"hoverinfo\":\"skip\",\"line\":{\"color\":\"#C0C0C0\"},\"mode\":\"lines+markers\",\"name\":\"Unchanged\",\"x\":[\"1954-05-01T00:00:00\",\"1954-06-01T00:00:00\"],\"y\":[\"2\",\"2\"],\"type\":\"scattergl\",\"showlegend\":false},{\"hoverinfo\":\"skip\",\"line\":{\"color\":\"#C0C0C0\"},\"mode\":\"lines+markers\",\"name\":\"Unchanged\",\"x\":[\"1954-06-01T00:00:00\",\"1954-07-01T00:00:00\"],\"y\":[\"2\",\"2\"],\"type\":\"scattergl\",\"showlegend\":false},{\"hoverinfo\":\"skip\",\"line\":{\"color\":\"#C0C0C0\"},\"mode\":\"lines+markers\",\"name\":\"Unchanged\",\"x\":[\"1954-07-01T00:00:00\",\"1954-08-01T00:00:00\"],\"y\":[\"2\",\"2\"],\"type\":\"scattergl\",\"showlegend\":false},{\"hoverinfo\":\"skip\",\"line\":{\"color\":\"#C0C0C0\"},\"mode\":\"lines+markers\",\"name\":\"Unchanged\",\"x\":[\"1954-08-01T00:00:00\",\"1954-09-01T00:00:00\"],\"y\":[\"2\",\"2\"],\"type\":\"scattergl\",\"showlegend\":false},{\"hoverinfo\":\"skip\",\"line\":{\"color\":\"#C0C0C0\"},\"mode\":\"lines+markers\",\"name\":\"Unchanged\",\"x\":[\"1954-09-01T00:00:00\",\"1954-10-01T00:00:00\"],\"y\":[\"2\",\"2\"],\"type\":\"scattergl\",\"showlegend\":false},{\"hoverinfo\":\"skip\",\"line\":{\"color\":\"#C0C0C0\"},\"mode\":\"lines+markers\",\"name\":\"Unchanged\",\"x\":[\"1954-10-01T00:00:00\",\"1954-11-01T00:00:00\"],\"y\":[\"2\",\"2\"],\"type\":\"scattergl\",\"showlegend\":false},{\"hoverinfo\":\"skip\",\"line\":{\"color\":\"#C0C0C0\"},\"mode\":\"lines+markers\",\"name\":\"Unchanged\",\"x\":[\"1954-11-01T00:00:00\",\"1954-12-01T00:00:00\"],\"y\":[\"2\",\"2\"],\"type\":\"scattergl\",\"showlegend\":false},{\"hoverinfo\":\"skip\",\"line\":{\"color\":\"#C0C0C0\"},\"mode\":\"lines+markers\",\"name\":\"Unchanged\",\"x\":[\"1954-12-01T00:00:00\",\"1955-01-01T00:00:00\"],\"y\":[\"2\",\"2\"],\"type\":\"scattergl\",\"showlegend\":false},{\"hoverinfo\":\"skip\",\"line\":{\"color\":\"#C0C0C0\"},\"mode\":\"lines+markers\",\"name\":\"Unchanged\",\"x\":[\"1955-01-01T00:00:00\",\"1955-02-01T00:00:00\"],\"y\":[\"2\",\"2\"],\"type\":\"scattergl\",\"showlegend\":false},{\"hoverinfo\":\"skip\",\"line\":{\"color\":\"#C0C0C0\"},\"mode\":\"lines+markers\",\"name\":\"Unchanged\",\"x\":[\"1955-02-01T00:00:00\",\"1955-03-01T00:00:00\"],\"y\":[\"2\",\"2\"],\"type\":\"scattergl\",\"showlegend\":false},{\"hoverinfo\":\"skip\",\"line\":{\"color\":\"#C0C0C0\"},\"mode\":\"lines+markers\",\"name\":\"Unchanged\",\"x\":[\"1955-03-01T00:00:00\",\"1955-04-01T00:00:00\"],\"y\":[\"2\",\"2\"],\"type\":\"scattergl\",\"showlegend\":false},{\"hoverinfo\":\"skip\",\"line\":{\"color\":\"#C0C0C0\"},\"mode\":\"lines+markers\",\"name\":\"Unchanged\",\"x\":[\"1955-04-01T00:00:00\",\"1955-05-01T00:00:00\"],\"y\":[\"2\",\"2\"],\"type\":\"scattergl\",\"showlegend\":false},{\"hoverinfo\":\"skip\",\"line\":{\"color\":\"#C0C0C0\"},\"mode\":\"lines+markers\",\"name\":\"Unchanged\",\"x\":[\"1955-05-01T00:00:00\",\"1955-06-01T00:00:00\"],\"y\":[\"2\",\"2\"],\"type\":\"scattergl\",\"showlegend\":false},{\"hoverinfo\":\"skip\",\"line\":{\"color\":\"#C0C0C0\"},\"mode\":\"lines+markers\",\"name\":\"Unchanged\",\"x\":[\"1955-06-01T00:00:00\",\"1955-07-01T00:00:00\"],\"y\":[\"2\",\"2\"],\"type\":\"scattergl\",\"showlegend\":false},{\"hoverinfo\":\"skip\",\"line\":{\"color\":\"#C0C0C0\"},\"mode\":\"lines+markers\",\"name\":\"Unchanged\",\"x\":[\"1955-07-01T00:00:00\",\"1955-08-01T00:00:00\"],\"y\":[\"2\",\"2\"],\"type\":\"scattergl\",\"showlegend\":false},{\"hoverinfo\":\"skip\",\"line\":{\"color\":\"#C0C0C0\"},\"mode\":\"lines+markers\",\"name\":\"Unchanged\",\"x\":[\"1955-08-01T00:00:00\",\"1955-09-01T00:00:00\"],\"y\":[\"2\",\"2\"],\"type\":\"scattergl\",\"showlegend\":false},{\"hoverinfo\":\"skip\",\"line\":{\"color\":\"#C0C0C0\"},\"mode\":\"lines+markers\",\"name\":\"Unchanged\",\"x\":[\"1955-09-01T00:00:00\",\"1955-10-01T00:00:00\"],\"y\":[\"2\",\"2\"],\"type\":\"scattergl\",\"showlegend\":false},{\"hoverinfo\":\"skip\",\"line\":{\"color\":\"#C0C0C0\"},\"mode\":\"lines+markers\",\"name\":\"Unchanged\",\"x\":[\"1955-10-01T00:00:00\",\"1955-11-01T00:00:00\"],\"y\":[\"2\",\"2\"],\"type\":\"scattergl\",\"showlegend\":false},{\"hoverinfo\":\"skip\",\"line\":{\"color\":\"#C0C0C0\"},\"mode\":\"lines+markers\",\"name\":\"Unchanged\",\"x\":[\"1955-11-01T00:00:00\",\"1955-12-01T00:00:00\"],\"y\":[\"2\",\"2\"],\"type\":\"scattergl\",\"showlegend\":false},{\"hoverinfo\":\"skip\",\"line\":{\"color\":\"#C0C0C0\"},\"mode\":\"lines+markers\",\"name\":\"Unchanged\",\"x\":[\"1955-12-01T00:00:00\",\"1956-01-01T00:00:00\"],\"y\":[\"2\",\"2\"],\"type\":\"scattergl\",\"showlegend\":false},{\"hoverinfo\":\"skip\",\"line\":{\"color\":\"#C0C0C0\"},\"mode\":\"lines+markers\",\"name\":\"Unchanged\",\"x\":[\"1956-01-01T00:00:00\",\"1956-02-01T00:00:00\"],\"y\":[\"2\",\"2\"],\"type\":\"scattergl\",\"showlegend\":false},{\"hoverinfo\":\"skip\",\"line\":{\"color\":\"#C0C0C0\"},\"mode\":\"lines+markers\",\"name\":\"Unchanged\",\"x\":[\"1956-02-01T00:00:00\",\"1956-03-01T00:00:00\"],\"y\":[\"2\",\"2\"],\"type\":\"scattergl\",\"showlegend\":false},{\"hoverinfo\":\"skip\",\"line\":{\"color\":\"#C0C0C0\"},\"mode\":\"lines+markers\",\"name\":\"Unchanged\",\"x\":[\"1956-03-01T00:00:00\",\"1956-04-01T00:00:00\"],\"y\":[\"2\",\"2\"],\"type\":\"scattergl\",\"showlegend\":false},{\"hoverinfo\":\"skip\",\"line\":{\"color\":\"#C0C0C0\"},\"mode\":\"lines+markers\",\"name\":\"Unchanged\",\"x\":[\"1956-04-01T00:00:00\",\"1956-05-01T00:00:00\"],\"y\":[\"2\",\"2\"],\"type\":\"scattergl\",\"showlegend\":false},{\"hoverinfo\":\"skip\",\"line\":{\"color\":\"#C0C0C0\"},\"mode\":\"lines+markers\",\"name\":\"Unchanged\",\"x\":[\"1956-05-01T00:00:00\",\"1956-06-01T00:00:00\"],\"y\":[\"2\",\"2\"],\"type\":\"scattergl\",\"showlegend\":false},{\"hoverinfo\":\"skip\",\"line\":{\"color\":\"#C0C0C0\"},\"mode\":\"lines+markers\",\"name\":\"Unchanged\",\"x\":[\"1956-06-01T00:00:00\",\"1956-07-01T00:00:00\"],\"y\":[\"2\",\"2\"],\"type\":\"scattergl\",\"showlegend\":false},{\"hoverinfo\":\"skip\",\"line\":{\"color\":\"#C0C0C0\"},\"mode\":\"lines+markers\",\"name\":\"Unchanged\",\"x\":[\"1956-07-01T00:00:00\",\"1956-08-01T00:00:00\"],\"y\":[\"2\",\"2\"],\"type\":\"scattergl\",\"showlegend\":false},{\"hoverinfo\":\"skip\",\"line\":{\"color\":\"#C0C0C0\"},\"mode\":\"lines+markers\",\"name\":\"Unchanged\",\"x\":[\"1956-08-01T00:00:00\",\"1956-09-01T00:00:00\"],\"y\":[\"2\",\"2\"],\"type\":\"scattergl\",\"showlegend\":false},{\"hoverinfo\":\"skip\",\"line\":{\"color\":\"#C0C0C0\"},\"mode\":\"lines+markers\",\"name\":\"Unchanged\",\"x\":[\"1956-09-01T00:00:00\",\"1956-10-01T00:00:00\"],\"y\":[\"2\",\"2\"],\"type\":\"scattergl\",\"showlegend\":false},{\"hoverinfo\":\"skip\",\"line\":{\"color\":\"#C0C0C0\"},\"mode\":\"lines+markers\",\"name\":\"Unchanged\",\"x\":[\"1956-10-01T00:00:00\",\"1956-11-01T00:00:00\"],\"y\":[\"2\",\"2\"],\"type\":\"scattergl\",\"showlegend\":false},{\"hoverinfo\":\"skip\",\"line\":{\"color\":\"#C0C0C0\"},\"mode\":\"lines+markers\",\"name\":\"Unchanged\",\"x\":[\"1956-11-01T00:00:00\",\"1956-12-01T00:00:00\"],\"y\":[\"2\",\"2\"],\"type\":\"scattergl\",\"showlegend\":false},{\"hoverinfo\":\"skip\",\"line\":{\"color\":\"#C0C0C0\"},\"mode\":\"lines+markers\",\"name\":\"Unchanged\",\"x\":[\"1956-12-01T00:00:00\",\"1957-01-01T00:00:00\"],\"y\":[\"2\",\"2\"],\"type\":\"scattergl\",\"showlegend\":false},{\"hoverinfo\":\"skip\",\"line\":{\"color\":\"#C0C0C0\"},\"mode\":\"lines+markers\",\"name\":\"Unchanged\",\"x\":[\"1957-01-01T00:00:00\",\"1957-02-01T00:00:00\"],\"y\":[\"2\",\"2\"],\"type\":\"scattergl\",\"showlegend\":false},{\"hoverinfo\":\"skip\",\"line\":{\"color\":\"#C0C0C0\"},\"mode\":\"lines+markers\",\"name\":\"Unchanged\",\"x\":[\"1957-02-01T00:00:00\",\"1957-03-01T00:00:00\"],\"y\":[\"2\",\"2\"],\"type\":\"scattergl\",\"showlegend\":false},{\"hoverinfo\":\"skip\",\"line\":{\"color\":\"#C0C0C0\"},\"mode\":\"lines+markers\",\"name\":\"Unchanged\",\"x\":[\"1957-03-01T00:00:00\",\"1957-04-01T00:00:00\"],\"y\":[\"2\",\"2\"],\"type\":\"scattergl\",\"showlegend\":false},{\"hoverinfo\":\"skip\",\"line\":{\"color\":\"#C0C0C0\"},\"mode\":\"lines+markers\",\"name\":\"Unchanged\",\"x\":[\"1957-04-01T00:00:00\",\"1957-05-01T00:00:00\"],\"y\":[\"2\",\"2\"],\"type\":\"scattergl\",\"showlegend\":false},{\"hoverinfo\":\"skip\",\"line\":{\"color\":\"#C0C0C0\"},\"mode\":\"lines+markers\",\"name\":\"Unchanged\",\"x\":[\"1957-05-01T00:00:00\",\"1957-06-01T00:00:00\"],\"y\":[\"2\",\"2\"],\"type\":\"scattergl\",\"showlegend\":false},{\"hoverinfo\":\"skip\",\"line\":{\"color\":\"#C0C0C0\"},\"mode\":\"lines+markers\",\"name\":\"Unchanged\",\"x\":[\"1957-06-01T00:00:00\",\"1957-07-01T00:00:00\"],\"y\":[\"2\",\"2\"],\"type\":\"scattergl\",\"showlegend\":false},{\"hoverinfo\":\"skip\",\"line\":{\"color\":\"#C0C0C0\"},\"mode\":\"lines+markers\",\"name\":\"Unchanged\",\"x\":[\"1957-07-01T00:00:00\",\"1957-08-01T00:00:00\"],\"y\":[\"2\",\"2\"],\"type\":\"scattergl\",\"showlegend\":false},{\"hoverinfo\":\"skip\",\"line\":{\"color\":\"#C0C0C0\"},\"mode\":\"lines+markers\",\"name\":\"Unchanged\",\"x\":[\"1957-08-01T00:00:00\",\"1957-09-01T00:00:00\"],\"y\":[\"2\",\"2\"],\"type\":\"scattergl\",\"showlegend\":false},{\"hoverinfo\":\"skip\",\"line\":{\"color\":\"#C0C0C0\"},\"mode\":\"lines+markers\",\"name\":\"Unchanged\",\"x\":[\"1957-09-01T00:00:00\",\"1957-10-01T00:00:00\"],\"y\":[\"2\",\"2\"],\"type\":\"scattergl\",\"showlegend\":false},{\"hoverinfo\":\"skip\",\"line\":{\"color\":\"#C0C0C0\"},\"mode\":\"lines+markers\",\"name\":\"Unchanged\",\"x\":[\"1957-10-01T00:00:00\",\"1957-11-01T00:00:00\"],\"y\":[\"2\",\"2\"],\"type\":\"scattergl\",\"showlegend\":false},{\"hoverinfo\":\"skip\",\"line\":{\"color\":\"#C0C0C0\"},\"mode\":\"lines+markers\",\"name\":\"Unchanged\",\"x\":[\"1957-11-01T00:00:00\",\"1957-12-01T00:00:00\"],\"y\":[\"2\",\"2\"],\"type\":\"scattergl\",\"showlegend\":false},{\"hoverinfo\":\"skip\",\"line\":{\"color\":\"#1f77b4\"},\"mode\":\"lines+markers\",\"name\":\"Train\",\"showlegend\":false,\"x\":[\"1949-01-01T00:00:00\",\"1949-02-01T00:00:00\"],\"y\":[\"2\",\"2\"],\"type\":\"scattergl\"},{\"hoverinfo\":\"skip\",\"line\":{\"color\":\"#1f77b4\"},\"mode\":\"lines+markers\",\"name\":\"Train\",\"showlegend\":false,\"x\":[\"1949-02-01T00:00:00\",\"1949-03-01T00:00:00\"],\"y\":[\"2\",\"2\"],\"type\":\"scattergl\"},{\"hoverinfo\":\"skip\",\"line\":{\"color\":\"#1f77b4\"},\"mode\":\"lines+markers\",\"name\":\"Train\",\"showlegend\":false,\"x\":[\"1949-03-01T00:00:00\",\"1949-04-01T00:00:00\"],\"y\":[\"2\",\"2\"],\"type\":\"scattergl\"},{\"hoverinfo\":\"skip\",\"line\":{\"color\":\"#1f77b4\"},\"mode\":\"lines+markers\",\"name\":\"Train\",\"showlegend\":false,\"x\":[\"1949-04-01T00:00:00\",\"1949-05-01T00:00:00\"],\"y\":[\"2\",\"2\"],\"type\":\"scattergl\"},{\"hoverinfo\":\"skip\",\"line\":{\"color\":\"#1f77b4\"},\"mode\":\"lines+markers\",\"name\":\"Train\",\"showlegend\":false,\"x\":[\"1949-05-01T00:00:00\",\"1949-06-01T00:00:00\"],\"y\":[\"2\",\"2\"],\"type\":\"scattergl\"},{\"hoverinfo\":\"skip\",\"line\":{\"color\":\"#1f77b4\"},\"mode\":\"lines+markers\",\"name\":\"Train\",\"showlegend\":false,\"x\":[\"1949-06-01T00:00:00\",\"1949-07-01T00:00:00\"],\"y\":[\"2\",\"2\"],\"type\":\"scattergl\"},{\"hoverinfo\":\"skip\",\"line\":{\"color\":\"#1f77b4\"},\"mode\":\"lines+markers\",\"name\":\"Train\",\"showlegend\":false,\"x\":[\"1949-07-01T00:00:00\",\"1949-08-01T00:00:00\"],\"y\":[\"2\",\"2\"],\"type\":\"scattergl\"},{\"hoverinfo\":\"skip\",\"line\":{\"color\":\"#1f77b4\"},\"mode\":\"lines+markers\",\"name\":\"Train\",\"showlegend\":false,\"x\":[\"1949-08-01T00:00:00\",\"1949-09-01T00:00:00\"],\"y\":[\"2\",\"2\"],\"type\":\"scattergl\"},{\"hoverinfo\":\"skip\",\"line\":{\"color\":\"#1f77b4\"},\"mode\":\"lines+markers\",\"name\":\"Train\",\"showlegend\":false,\"x\":[\"1949-09-01T00:00:00\",\"1949-10-01T00:00:00\"],\"y\":[\"2\",\"2\"],\"type\":\"scattergl\"},{\"hoverinfo\":\"skip\",\"line\":{\"color\":\"#1f77b4\"},\"mode\":\"lines+markers\",\"name\":\"Train\",\"showlegend\":false,\"x\":[\"1949-10-01T00:00:00\",\"1949-11-01T00:00:00\"],\"y\":[\"2\",\"2\"],\"type\":\"scattergl\"},{\"hoverinfo\":\"skip\",\"line\":{\"color\":\"#1f77b4\"},\"mode\":\"lines+markers\",\"name\":\"Train\",\"showlegend\":false,\"x\":[\"1949-11-01T00:00:00\",\"1949-12-01T00:00:00\"],\"y\":[\"2\",\"2\"],\"type\":\"scattergl\"},{\"hoverinfo\":\"skip\",\"line\":{\"color\":\"#1f77b4\"},\"mode\":\"lines+markers\",\"name\":\"Train\",\"showlegend\":false,\"x\":[\"1949-12-01T00:00:00\",\"1950-01-01T00:00:00\"],\"y\":[\"2\",\"2\"],\"type\":\"scattergl\"},{\"hoverinfo\":\"skip\",\"line\":{\"color\":\"#1f77b4\"},\"mode\":\"lines+markers\",\"name\":\"Train\",\"showlegend\":false,\"x\":[\"1950-01-01T00:00:00\",\"1950-02-01T00:00:00\"],\"y\":[\"2\",\"2\"],\"type\":\"scattergl\"},{\"hoverinfo\":\"skip\",\"line\":{\"color\":\"#1f77b4\"},\"mode\":\"lines+markers\",\"name\":\"Train\",\"showlegend\":false,\"x\":[\"1950-02-01T00:00:00\",\"1950-03-01T00:00:00\"],\"y\":[\"2\",\"2\"],\"type\":\"scattergl\"},{\"hoverinfo\":\"skip\",\"line\":{\"color\":\"#1f77b4\"},\"mode\":\"lines+markers\",\"name\":\"Train\",\"showlegend\":false,\"x\":[\"1950-03-01T00:00:00\",\"1950-04-01T00:00:00\"],\"y\":[\"2\",\"2\"],\"type\":\"scattergl\"},{\"hoverinfo\":\"skip\",\"line\":{\"color\":\"#1f77b4\"},\"mode\":\"lines+markers\",\"name\":\"Train\",\"showlegend\":false,\"x\":[\"1950-04-01T00:00:00\",\"1950-05-01T00:00:00\"],\"y\":[\"2\",\"2\"],\"type\":\"scattergl\"},{\"hoverinfo\":\"skip\",\"line\":{\"color\":\"#1f77b4\"},\"mode\":\"lines+markers\",\"name\":\"Train\",\"showlegend\":false,\"x\":[\"1950-05-01T00:00:00\",\"1950-06-01T00:00:00\"],\"y\":[\"2\",\"2\"],\"type\":\"scattergl\"},{\"hoverinfo\":\"skip\",\"line\":{\"color\":\"#1f77b4\"},\"mode\":\"lines+markers\",\"name\":\"Train\",\"showlegend\":false,\"x\":[\"1950-06-01T00:00:00\",\"1950-07-01T00:00:00\"],\"y\":[\"2\",\"2\"],\"type\":\"scattergl\"},{\"hoverinfo\":\"skip\",\"line\":{\"color\":\"#1f77b4\"},\"mode\":\"lines+markers\",\"name\":\"Train\",\"showlegend\":false,\"x\":[\"1950-07-01T00:00:00\",\"1950-08-01T00:00:00\"],\"y\":[\"2\",\"2\"],\"type\":\"scattergl\"},{\"hoverinfo\":\"skip\",\"line\":{\"color\":\"#1f77b4\"},\"mode\":\"lines+markers\",\"name\":\"Train\",\"showlegend\":false,\"x\":[\"1950-08-01T00:00:00\",\"1950-09-01T00:00:00\"],\"y\":[\"2\",\"2\"],\"type\":\"scattergl\"},{\"hoverinfo\":\"skip\",\"line\":{\"color\":\"#1f77b4\"},\"mode\":\"lines+markers\",\"name\":\"Train\",\"showlegend\":false,\"x\":[\"1950-09-01T00:00:00\",\"1950-10-01T00:00:00\"],\"y\":[\"2\",\"2\"],\"type\":\"scattergl\"},{\"hoverinfo\":\"skip\",\"line\":{\"color\":\"#1f77b4\"},\"mode\":\"lines+markers\",\"name\":\"Train\",\"showlegend\":false,\"x\":[\"1950-10-01T00:00:00\",\"1950-11-01T00:00:00\"],\"y\":[\"2\",\"2\"],\"type\":\"scattergl\"},{\"hoverinfo\":\"skip\",\"line\":{\"color\":\"#1f77b4\"},\"mode\":\"lines+markers\",\"name\":\"Train\",\"showlegend\":false,\"x\":[\"1950-11-01T00:00:00\",\"1950-12-01T00:00:00\"],\"y\":[\"2\",\"2\"],\"type\":\"scattergl\"},{\"hoverinfo\":\"skip\",\"line\":{\"color\":\"#1f77b4\"},\"mode\":\"lines+markers\",\"name\":\"Train\",\"showlegend\":false,\"x\":[\"1950-12-01T00:00:00\",\"1951-01-01T00:00:00\"],\"y\":[\"2\",\"2\"],\"type\":\"scattergl\"},{\"hoverinfo\":\"skip\",\"line\":{\"color\":\"#1f77b4\"},\"mode\":\"lines+markers\",\"name\":\"Train\",\"showlegend\":false,\"x\":[\"1951-01-01T00:00:00\",\"1951-02-01T00:00:00\"],\"y\":[\"2\",\"2\"],\"type\":\"scattergl\"},{\"hoverinfo\":\"skip\",\"line\":{\"color\":\"#1f77b4\"},\"mode\":\"lines+markers\",\"name\":\"Train\",\"showlegend\":false,\"x\":[\"1951-02-01T00:00:00\",\"1951-03-01T00:00:00\"],\"y\":[\"2\",\"2\"],\"type\":\"scattergl\"},{\"hoverinfo\":\"skip\",\"line\":{\"color\":\"#1f77b4\"},\"mode\":\"lines+markers\",\"name\":\"Train\",\"showlegend\":false,\"x\":[\"1951-03-01T00:00:00\",\"1951-04-01T00:00:00\"],\"y\":[\"2\",\"2\"],\"type\":\"scattergl\"},{\"hoverinfo\":\"skip\",\"line\":{\"color\":\"#1f77b4\"},\"mode\":\"lines+markers\",\"name\":\"Train\",\"showlegend\":false,\"x\":[\"1951-04-01T00:00:00\",\"1951-05-01T00:00:00\"],\"y\":[\"2\",\"2\"],\"type\":\"scattergl\"},{\"hoverinfo\":\"skip\",\"line\":{\"color\":\"#1f77b4\"},\"mode\":\"lines+markers\",\"name\":\"Train\",\"showlegend\":false,\"x\":[\"1951-05-01T00:00:00\",\"1951-06-01T00:00:00\"],\"y\":[\"2\",\"2\"],\"type\":\"scattergl\"},{\"hoverinfo\":\"skip\",\"line\":{\"color\":\"#1f77b4\"},\"mode\":\"lines+markers\",\"name\":\"Train\",\"showlegend\":false,\"x\":[\"1951-06-01T00:00:00\",\"1951-07-01T00:00:00\"],\"y\":[\"2\",\"2\"],\"type\":\"scattergl\"},{\"hoverinfo\":\"skip\",\"line\":{\"color\":\"#1f77b4\"},\"mode\":\"lines+markers\",\"name\":\"Train\",\"showlegend\":false,\"x\":[\"1951-07-01T00:00:00\",\"1951-08-01T00:00:00\"],\"y\":[\"2\",\"2\"],\"type\":\"scattergl\"},{\"hoverinfo\":\"skip\",\"line\":{\"color\":\"#1f77b4\"},\"mode\":\"lines+markers\",\"name\":\"Train\",\"showlegend\":false,\"x\":[\"1951-08-01T00:00:00\",\"1951-09-01T00:00:00\"],\"y\":[\"2\",\"2\"],\"type\":\"scattergl\"},{\"hoverinfo\":\"skip\",\"line\":{\"color\":\"#1f77b4\"},\"mode\":\"lines+markers\",\"name\":\"Train\",\"showlegend\":false,\"x\":[\"1951-09-01T00:00:00\",\"1951-10-01T00:00:00\"],\"y\":[\"2\",\"2\"],\"type\":\"scattergl\"},{\"hoverinfo\":\"skip\",\"line\":{\"color\":\"#1f77b4\"},\"mode\":\"lines+markers\",\"name\":\"Train\",\"showlegend\":false,\"x\":[\"1951-10-01T00:00:00\",\"1951-11-01T00:00:00\"],\"y\":[\"2\",\"2\"],\"type\":\"scattergl\"},{\"hoverinfo\":\"skip\",\"line\":{\"color\":\"#1f77b4\"},\"mode\":\"lines+markers\",\"name\":\"Train\",\"showlegend\":false,\"x\":[\"1951-11-01T00:00:00\",\"1951-12-01T00:00:00\"],\"y\":[\"2\",\"2\"],\"type\":\"scattergl\"},{\"hoverinfo\":\"skip\",\"line\":{\"color\":\"#1f77b4\"},\"mode\":\"lines+markers\",\"name\":\"Train\",\"showlegend\":false,\"x\":[\"1951-12-01T00:00:00\",\"1952-01-01T00:00:00\"],\"y\":[\"2\",\"2\"],\"type\":\"scattergl\"},{\"hoverinfo\":\"skip\",\"line\":{\"color\":\"#1f77b4\"},\"mode\":\"lines+markers\",\"name\":\"Train\",\"showlegend\":false,\"x\":[\"1952-01-01T00:00:00\",\"1952-02-01T00:00:00\"],\"y\":[\"2\",\"2\"],\"type\":\"scattergl\"},{\"hoverinfo\":\"skip\",\"line\":{\"color\":\"#1f77b4\"},\"mode\":\"lines+markers\",\"name\":\"Train\",\"showlegend\":false,\"x\":[\"1952-02-01T00:00:00\",\"1952-03-01T00:00:00\"],\"y\":[\"2\",\"2\"],\"type\":\"scattergl\"},{\"hoverinfo\":\"skip\",\"line\":{\"color\":\"#1f77b4\"},\"mode\":\"lines+markers\",\"name\":\"Train\",\"showlegend\":false,\"x\":[\"1952-03-01T00:00:00\",\"1952-04-01T00:00:00\"],\"y\":[\"2\",\"2\"],\"type\":\"scattergl\"},{\"hoverinfo\":\"skip\",\"line\":{\"color\":\"#1f77b4\"},\"mode\":\"lines+markers\",\"name\":\"Train\",\"showlegend\":false,\"x\":[\"1952-04-01T00:00:00\",\"1952-05-01T00:00:00\"],\"y\":[\"2\",\"2\"],\"type\":\"scattergl\"},{\"hoverinfo\":\"skip\",\"line\":{\"color\":\"#1f77b4\"},\"mode\":\"lines+markers\",\"name\":\"Train\",\"showlegend\":false,\"x\":[\"1952-05-01T00:00:00\",\"1952-06-01T00:00:00\"],\"y\":[\"2\",\"2\"],\"type\":\"scattergl\"},{\"hoverinfo\":\"skip\",\"line\":{\"color\":\"#1f77b4\"},\"mode\":\"lines+markers\",\"name\":\"Train\",\"showlegend\":false,\"x\":[\"1952-06-01T00:00:00\",\"1952-07-01T00:00:00\"],\"y\":[\"2\",\"2\"],\"type\":\"scattergl\"},{\"hoverinfo\":\"skip\",\"line\":{\"color\":\"#1f77b4\"},\"mode\":\"lines+markers\",\"name\":\"Train\",\"showlegend\":false,\"x\":[\"1952-07-01T00:00:00\",\"1952-08-01T00:00:00\"],\"y\":[\"2\",\"2\"],\"type\":\"scattergl\"},{\"hoverinfo\":\"skip\",\"line\":{\"color\":\"#1f77b4\"},\"mode\":\"lines+markers\",\"name\":\"Train\",\"showlegend\":false,\"x\":[\"1952-08-01T00:00:00\",\"1952-09-01T00:00:00\"],\"y\":[\"2\",\"2\"],\"type\":\"scattergl\"},{\"hoverinfo\":\"skip\",\"line\":{\"color\":\"#1f77b4\"},\"mode\":\"lines+markers\",\"name\":\"Train\",\"showlegend\":false,\"x\":[\"1952-09-01T00:00:00\",\"1952-10-01T00:00:00\"],\"y\":[\"2\",\"2\"],\"type\":\"scattergl\"},{\"hoverinfo\":\"skip\",\"line\":{\"color\":\"#1f77b4\"},\"mode\":\"lines+markers\",\"name\":\"Train\",\"showlegend\":false,\"x\":[\"1952-10-01T00:00:00\",\"1952-11-01T00:00:00\"],\"y\":[\"2\",\"2\"],\"type\":\"scattergl\"},{\"hoverinfo\":\"skip\",\"line\":{\"color\":\"#1f77b4\"},\"mode\":\"lines+markers\",\"name\":\"Train\",\"showlegend\":false,\"x\":[\"1952-11-01T00:00:00\",\"1952-12-01T00:00:00\"],\"y\":[\"2\",\"2\"],\"type\":\"scattergl\"},{\"hoverinfo\":\"skip\",\"line\":{\"color\":\"#1f77b4\"},\"mode\":\"lines+markers\",\"name\":\"Train\",\"showlegend\":false,\"x\":[\"1952-12-01T00:00:00\",\"1953-01-01T00:00:00\"],\"y\":[\"2\",\"2\"],\"type\":\"scattergl\"},{\"hoverinfo\":\"skip\",\"line\":{\"color\":\"#1f77b4\"},\"mode\":\"lines+markers\",\"name\":\"Train\",\"showlegend\":false,\"x\":[\"1953-01-01T00:00:00\",\"1953-02-01T00:00:00\"],\"y\":[\"2\",\"2\"],\"type\":\"scattergl\"},{\"hoverinfo\":\"skip\",\"line\":{\"color\":\"#1f77b4\"},\"mode\":\"lines+markers\",\"name\":\"Train\",\"showlegend\":false,\"x\":[\"1953-02-01T00:00:00\",\"1953-03-01T00:00:00\"],\"y\":[\"2\",\"2\"],\"type\":\"scattergl\"},{\"hoverinfo\":\"skip\",\"line\":{\"color\":\"#1f77b4\"},\"mode\":\"lines+markers\",\"name\":\"Train\",\"showlegend\":false,\"x\":[\"1953-03-01T00:00:00\",\"1953-04-01T00:00:00\"],\"y\":[\"2\",\"2\"],\"type\":\"scattergl\"},{\"hoverinfo\":\"skip\",\"line\":{\"color\":\"#1f77b4\"},\"mode\":\"lines+markers\",\"name\":\"Train\",\"showlegend\":false,\"x\":[\"1953-04-01T00:00:00\",\"1953-05-01T00:00:00\"],\"y\":[\"2\",\"2\"],\"type\":\"scattergl\"},{\"hoverinfo\":\"skip\",\"line\":{\"color\":\"#1f77b4\"},\"mode\":\"lines+markers\",\"name\":\"Train\",\"showlegend\":false,\"x\":[\"1953-05-01T00:00:00\",\"1953-06-01T00:00:00\"],\"y\":[\"2\",\"2\"],\"type\":\"scattergl\"},{\"hoverinfo\":\"skip\",\"line\":{\"color\":\"#1f77b4\"},\"mode\":\"lines+markers\",\"name\":\"Train\",\"showlegend\":false,\"x\":[\"1953-06-01T00:00:00\",\"1953-07-01T00:00:00\"],\"y\":[\"2\",\"2\"],\"type\":\"scattergl\"},{\"hoverinfo\":\"skip\",\"line\":{\"color\":\"#1f77b4\"},\"mode\":\"lines+markers\",\"name\":\"Train\",\"showlegend\":false,\"x\":[\"1953-07-01T00:00:00\",\"1953-08-01T00:00:00\"],\"y\":[\"2\",\"2\"],\"type\":\"scattergl\"},{\"hoverinfo\":\"skip\",\"line\":{\"color\":\"#1f77b4\"},\"mode\":\"lines+markers\",\"name\":\"Train\",\"showlegend\":false,\"x\":[\"1953-08-01T00:00:00\",\"1953-09-01T00:00:00\"],\"y\":[\"2\",\"2\"],\"type\":\"scattergl\"},{\"hoverinfo\":\"skip\",\"line\":{\"color\":\"#1f77b4\"},\"mode\":\"lines+markers\",\"name\":\"Train\",\"showlegend\":false,\"x\":[\"1953-09-01T00:00:00\",\"1953-10-01T00:00:00\"],\"y\":[\"2\",\"2\"],\"type\":\"scattergl\"},{\"hoverinfo\":\"skip\",\"line\":{\"color\":\"#1f77b4\"},\"mode\":\"lines+markers\",\"name\":\"Train\",\"showlegend\":false,\"x\":[\"1953-10-01T00:00:00\",\"1953-11-01T00:00:00\"],\"y\":[\"2\",\"2\"],\"type\":\"scattergl\"},{\"hoverinfo\":\"skip\",\"line\":{\"color\":\"#1f77b4\"},\"mode\":\"lines+markers\",\"name\":\"Train\",\"showlegend\":false,\"x\":[\"1953-11-01T00:00:00\",\"1953-12-01T00:00:00\"],\"y\":[\"2\",\"2\"],\"type\":\"scattergl\"},{\"hoverinfo\":\"skip\",\"line\":{\"color\":\"#1f77b4\"},\"mode\":\"lines+markers\",\"name\":\"Train\",\"showlegend\":false,\"x\":[\"1953-12-01T00:00:00\",\"1954-01-01T00:00:00\"],\"y\":[\"2\",\"2\"],\"type\":\"scattergl\"},{\"hoverinfo\":\"skip\",\"line\":{\"color\":\"#1f77b4\"},\"mode\":\"lines+markers\",\"name\":\"Train\",\"showlegend\":false,\"x\":[\"1954-01-01T00:00:00\",\"1954-02-01T00:00:00\"],\"y\":[\"2\",\"2\"],\"type\":\"scattergl\"},{\"hoverinfo\":\"skip\",\"line\":{\"color\":\"#1f77b4\"},\"mode\":\"lines+markers\",\"name\":\"Train\",\"showlegend\":false,\"x\":[\"1954-02-01T00:00:00\",\"1954-03-01T00:00:00\"],\"y\":[\"2\",\"2\"],\"type\":\"scattergl\"},{\"hoverinfo\":\"skip\",\"line\":{\"color\":\"#1f77b4\"},\"mode\":\"lines+markers\",\"name\":\"Train\",\"showlegend\":false,\"x\":[\"1954-03-01T00:00:00\",\"1954-04-01T00:00:00\"],\"y\":[\"2\",\"2\"],\"type\":\"scattergl\"},{\"hoverinfo\":\"skip\",\"line\":{\"color\":\"#1f77b4\"},\"mode\":\"lines+markers\",\"name\":\"Train\",\"showlegend\":false,\"x\":[\"1954-04-01T00:00:00\",\"1954-05-01T00:00:00\"],\"y\":[\"2\",\"2\"],\"type\":\"scattergl\"},{\"hoverinfo\":\"skip\",\"line\":{\"color\":\"#1f77b4\"},\"mode\":\"lines+markers\",\"name\":\"Train\",\"showlegend\":false,\"x\":[\"1954-05-01T00:00:00\",\"1954-06-01T00:00:00\"],\"y\":[\"2\",\"2\"],\"type\":\"scattergl\"},{\"hoverinfo\":\"skip\",\"line\":{\"color\":\"#1f77b4\"},\"mode\":\"lines+markers\",\"name\":\"Train\",\"showlegend\":false,\"x\":[\"1954-06-01T00:00:00\",\"1954-07-01T00:00:00\"],\"y\":[\"2\",\"2\"],\"type\":\"scattergl\"},{\"hoverinfo\":\"skip\",\"line\":{\"color\":\"#1f77b4\"},\"mode\":\"lines+markers\",\"name\":\"Train\",\"showlegend\":false,\"x\":[\"1954-07-01T00:00:00\",\"1954-08-01T00:00:00\"],\"y\":[\"2\",\"2\"],\"type\":\"scattergl\"},{\"hoverinfo\":\"skip\",\"line\":{\"color\":\"#1f77b4\"},\"mode\":\"lines+markers\",\"name\":\"Train\",\"showlegend\":false,\"x\":[\"1954-08-01T00:00:00\",\"1954-09-01T00:00:00\"],\"y\":[\"2\",\"2\"],\"type\":\"scattergl\"},{\"hoverinfo\":\"skip\",\"line\":{\"color\":\"#1f77b4\"},\"mode\":\"lines+markers\",\"name\":\"Train\",\"showlegend\":false,\"x\":[\"1954-09-01T00:00:00\",\"1954-10-01T00:00:00\"],\"y\":[\"2\",\"2\"],\"type\":\"scattergl\"},{\"hoverinfo\":\"skip\",\"line\":{\"color\":\"#1f77b4\"},\"mode\":\"lines+markers\",\"name\":\"Train\",\"showlegend\":false,\"x\":[\"1954-10-01T00:00:00\",\"1954-11-01T00:00:00\"],\"y\":[\"2\",\"2\"],\"type\":\"scattergl\"},{\"hoverinfo\":\"skip\",\"line\":{\"color\":\"#1f77b4\"},\"mode\":\"lines+markers\",\"name\":\"Train\",\"showlegend\":false,\"x\":[\"1954-11-01T00:00:00\",\"1954-12-01T00:00:00\"],\"y\":[\"2\",\"2\"],\"type\":\"scattergl\"},{\"hoverinfo\":\"skip\",\"line\":{\"color\":\"#DE970B\"},\"mode\":\"lines+markers\",\"name\":\"ForecastHorizon\",\"x\":[\"1957-01-01T00:00:00\",\"1957-02-01T00:00:00\"],\"y\":[\"2\",\"2\"],\"type\":\"scattergl\",\"showlegend\":false},{\"hoverinfo\":\"skip\",\"line\":{\"color\":\"#DE970B\"},\"mode\":\"lines+markers\",\"name\":\"ForecastHorizon\",\"x\":[\"1957-02-01T00:00:00\",\"1957-03-01T00:00:00\"],\"y\":[\"2\",\"2\"],\"type\":\"scattergl\",\"showlegend\":false},{\"hoverinfo\":\"skip\",\"line\":{\"color\":\"#DE970B\"},\"mode\":\"lines+markers\",\"name\":\"ForecastHorizon\",\"x\":[\"1957-03-01T00:00:00\",\"1957-04-01T00:00:00\"],\"y\":[\"2\",\"2\"],\"type\":\"scattergl\",\"showlegend\":false},{\"hoverinfo\":\"skip\",\"line\":{\"color\":\"#DE970B\"},\"mode\":\"lines+markers\",\"name\":\"ForecastHorizon\",\"x\":[\"1957-04-01T00:00:00\",\"1957-05-01T00:00:00\"],\"y\":[\"2\",\"2\"],\"type\":\"scattergl\",\"showlegend\":false},{\"hoverinfo\":\"skip\",\"line\":{\"color\":\"#DE970B\"},\"mode\":\"lines+markers\",\"name\":\"ForecastHorizon\",\"x\":[\"1957-05-01T00:00:00\",\"1957-06-01T00:00:00\"],\"y\":[\"2\",\"2\"],\"type\":\"scattergl\",\"showlegend\":false},{\"hoverinfo\":\"skip\",\"line\":{\"color\":\"#DE970B\"},\"mode\":\"lines+markers\",\"name\":\"ForecastHorizon\",\"x\":[\"1957-06-01T00:00:00\",\"1957-07-01T00:00:00\"],\"y\":[\"2\",\"2\"],\"type\":\"scattergl\",\"showlegend\":false},{\"hoverinfo\":\"skip\",\"line\":{\"color\":\"#DE970B\"},\"mode\":\"lines+markers\",\"name\":\"ForecastHorizon\",\"x\":[\"1957-07-01T00:00:00\",\"1957-08-01T00:00:00\"],\"y\":[\"2\",\"2\"],\"type\":\"scattergl\",\"showlegend\":false},{\"hoverinfo\":\"skip\",\"line\":{\"color\":\"#DE970B\"},\"mode\":\"lines+markers\",\"name\":\"ForecastHorizon\",\"x\":[\"1957-08-01T00:00:00\",\"1957-09-01T00:00:00\"],\"y\":[\"2\",\"2\"],\"type\":\"scattergl\",\"showlegend\":false},{\"hoverinfo\":\"skip\",\"line\":{\"color\":\"#DE970B\"},\"mode\":\"lines+markers\",\"name\":\"ForecastHorizon\",\"x\":[\"1957-09-01T00:00:00\",\"1957-10-01T00:00:00\"],\"y\":[\"2\",\"2\"],\"type\":\"scattergl\",\"showlegend\":false},{\"hoverinfo\":\"skip\",\"line\":{\"color\":\"#DE970B\"},\"mode\":\"lines+markers\",\"name\":\"ForecastHorizon\",\"x\":[\"1957-10-01T00:00:00\",\"1957-11-01T00:00:00\"],\"y\":[\"2\",\"2\"],\"type\":\"scattergl\",\"showlegend\":false},{\"hoverinfo\":\"skip\",\"line\":{\"color\":\"#DE970B\"},\"mode\":\"lines+markers\",\"name\":\"ForecastHorizon\",\"x\":[\"1957-11-01T00:00:00\",\"1957-12-01T00:00:00\"],\"y\":[\"2\",\"2\"],\"type\":\"scattergl\",\"showlegend\":false},{\"hoverinfo\":\"skip\",\"line\":{\"color\":\"#C0C0C0\"},\"mode\":\"lines+markers\",\"name\":\"Unchanged\",\"x\":[\"1949-01-01T00:00:00\",\"1949-02-01T00:00:00\"],\"y\":[\"1\",\"1\"],\"type\":\"scattergl\",\"showlegend\":false},{\"hoverinfo\":\"skip\",\"line\":{\"color\":\"#C0C0C0\"},\"mode\":\"lines+markers\",\"name\":\"Unchanged\",\"x\":[\"1949-02-01T00:00:00\",\"1949-03-01T00:00:00\"],\"y\":[\"1\",\"1\"],\"type\":\"scattergl\",\"showlegend\":false},{\"hoverinfo\":\"skip\",\"line\":{\"color\":\"#C0C0C0\"},\"mode\":\"lines+markers\",\"name\":\"Unchanged\",\"x\":[\"1949-03-01T00:00:00\",\"1949-04-01T00:00:00\"],\"y\":[\"1\",\"1\"],\"type\":\"scattergl\",\"showlegend\":false},{\"hoverinfo\":\"skip\",\"line\":{\"color\":\"#C0C0C0\"},\"mode\":\"lines+markers\",\"name\":\"Unchanged\",\"x\":[\"1949-04-01T00:00:00\",\"1949-05-01T00:00:00\"],\"y\":[\"1\",\"1\"],\"type\":\"scattergl\",\"showlegend\":false},{\"hoverinfo\":\"skip\",\"line\":{\"color\":\"#C0C0C0\"},\"mode\":\"lines+markers\",\"name\":\"Unchanged\",\"x\":[\"1949-05-01T00:00:00\",\"1949-06-01T00:00:00\"],\"y\":[\"1\",\"1\"],\"type\":\"scattergl\",\"showlegend\":false},{\"hoverinfo\":\"skip\",\"line\":{\"color\":\"#C0C0C0\"},\"mode\":\"lines+markers\",\"name\":\"Unchanged\",\"x\":[\"1949-06-01T00:00:00\",\"1949-07-01T00:00:00\"],\"y\":[\"1\",\"1\"],\"type\":\"scattergl\",\"showlegend\":false},{\"hoverinfo\":\"skip\",\"line\":{\"color\":\"#C0C0C0\"},\"mode\":\"lines+markers\",\"name\":\"Unchanged\",\"x\":[\"1949-07-01T00:00:00\",\"1949-08-01T00:00:00\"],\"y\":[\"1\",\"1\"],\"type\":\"scattergl\",\"showlegend\":false},{\"hoverinfo\":\"skip\",\"line\":{\"color\":\"#C0C0C0\"},\"mode\":\"lines+markers\",\"name\":\"Unchanged\",\"x\":[\"1949-08-01T00:00:00\",\"1949-09-01T00:00:00\"],\"y\":[\"1\",\"1\"],\"type\":\"scattergl\",\"showlegend\":false},{\"hoverinfo\":\"skip\",\"line\":{\"color\":\"#C0C0C0\"},\"mode\":\"lines+markers\",\"name\":\"Unchanged\",\"x\":[\"1949-09-01T00:00:00\",\"1949-10-01T00:00:00\"],\"y\":[\"1\",\"1\"],\"type\":\"scattergl\",\"showlegend\":false},{\"hoverinfo\":\"skip\",\"line\":{\"color\":\"#C0C0C0\"},\"mode\":\"lines+markers\",\"name\":\"Unchanged\",\"x\":[\"1949-10-01T00:00:00\",\"1949-11-01T00:00:00\"],\"y\":[\"1\",\"1\"],\"type\":\"scattergl\",\"showlegend\":false},{\"hoverinfo\":\"skip\",\"line\":{\"color\":\"#C0C0C0\"},\"mode\":\"lines+markers\",\"name\":\"Unchanged\",\"x\":[\"1949-11-01T00:00:00\",\"1949-12-01T00:00:00\"],\"y\":[\"1\",\"1\"],\"type\":\"scattergl\",\"showlegend\":false},{\"hoverinfo\":\"skip\",\"line\":{\"color\":\"#C0C0C0\"},\"mode\":\"lines+markers\",\"name\":\"Unchanged\",\"x\":[\"1949-12-01T00:00:00\",\"1950-01-01T00:00:00\"],\"y\":[\"1\",\"1\"],\"type\":\"scattergl\",\"showlegend\":false},{\"hoverinfo\":\"skip\",\"line\":{\"color\":\"#C0C0C0\"},\"mode\":\"lines+markers\",\"name\":\"Unchanged\",\"x\":[\"1950-01-01T00:00:00\",\"1950-02-01T00:00:00\"],\"y\":[\"1\",\"1\"],\"type\":\"scattergl\",\"showlegend\":false},{\"hoverinfo\":\"skip\",\"line\":{\"color\":\"#C0C0C0\"},\"mode\":\"lines+markers\",\"name\":\"Unchanged\",\"x\":[\"1950-02-01T00:00:00\",\"1950-03-01T00:00:00\"],\"y\":[\"1\",\"1\"],\"type\":\"scattergl\",\"showlegend\":false},{\"hoverinfo\":\"skip\",\"line\":{\"color\":\"#C0C0C0\"},\"mode\":\"lines+markers\",\"name\":\"Unchanged\",\"x\":[\"1950-03-01T00:00:00\",\"1950-04-01T00:00:00\"],\"y\":[\"1\",\"1\"],\"type\":\"scattergl\",\"showlegend\":false},{\"hoverinfo\":\"skip\",\"line\":{\"color\":\"#C0C0C0\"},\"mode\":\"lines+markers\",\"name\":\"Unchanged\",\"x\":[\"1950-04-01T00:00:00\",\"1950-05-01T00:00:00\"],\"y\":[\"1\",\"1\"],\"type\":\"scattergl\",\"showlegend\":false},{\"hoverinfo\":\"skip\",\"line\":{\"color\":\"#C0C0C0\"},\"mode\":\"lines+markers\",\"name\":\"Unchanged\",\"x\":[\"1950-05-01T00:00:00\",\"1950-06-01T00:00:00\"],\"y\":[\"1\",\"1\"],\"type\":\"scattergl\",\"showlegend\":false},{\"hoverinfo\":\"skip\",\"line\":{\"color\":\"#C0C0C0\"},\"mode\":\"lines+markers\",\"name\":\"Unchanged\",\"x\":[\"1950-06-01T00:00:00\",\"1950-07-01T00:00:00\"],\"y\":[\"1\",\"1\"],\"type\":\"scattergl\",\"showlegend\":false},{\"hoverinfo\":\"skip\",\"line\":{\"color\":\"#C0C0C0\"},\"mode\":\"lines+markers\",\"name\":\"Unchanged\",\"x\":[\"1950-07-01T00:00:00\",\"1950-08-01T00:00:00\"],\"y\":[\"1\",\"1\"],\"type\":\"scattergl\",\"showlegend\":false},{\"hoverinfo\":\"skip\",\"line\":{\"color\":\"#C0C0C0\"},\"mode\":\"lines+markers\",\"name\":\"Unchanged\",\"x\":[\"1950-08-01T00:00:00\",\"1950-09-01T00:00:00\"],\"y\":[\"1\",\"1\"],\"type\":\"scattergl\",\"showlegend\":false},{\"hoverinfo\":\"skip\",\"line\":{\"color\":\"#C0C0C0\"},\"mode\":\"lines+markers\",\"name\":\"Unchanged\",\"x\":[\"1950-09-01T00:00:00\",\"1950-10-01T00:00:00\"],\"y\":[\"1\",\"1\"],\"type\":\"scattergl\",\"showlegend\":false},{\"hoverinfo\":\"skip\",\"line\":{\"color\":\"#C0C0C0\"},\"mode\":\"lines+markers\",\"name\":\"Unchanged\",\"x\":[\"1950-10-01T00:00:00\",\"1950-11-01T00:00:00\"],\"y\":[\"1\",\"1\"],\"type\":\"scattergl\",\"showlegend\":false},{\"hoverinfo\":\"skip\",\"line\":{\"color\":\"#C0C0C0\"},\"mode\":\"lines+markers\",\"name\":\"Unchanged\",\"x\":[\"1950-11-01T00:00:00\",\"1950-12-01T00:00:00\"],\"y\":[\"1\",\"1\"],\"type\":\"scattergl\",\"showlegend\":false},{\"hoverinfo\":\"skip\",\"line\":{\"color\":\"#C0C0C0\"},\"mode\":\"lines+markers\",\"name\":\"Unchanged\",\"x\":[\"1950-12-01T00:00:00\",\"1951-01-01T00:00:00\"],\"y\":[\"1\",\"1\"],\"type\":\"scattergl\",\"showlegend\":false},{\"hoverinfo\":\"skip\",\"line\":{\"color\":\"#C0C0C0\"},\"mode\":\"lines+markers\",\"name\":\"Unchanged\",\"x\":[\"1951-01-01T00:00:00\",\"1951-02-01T00:00:00\"],\"y\":[\"1\",\"1\"],\"type\":\"scattergl\",\"showlegend\":false},{\"hoverinfo\":\"skip\",\"line\":{\"color\":\"#C0C0C0\"},\"mode\":\"lines+markers\",\"name\":\"Unchanged\",\"x\":[\"1951-02-01T00:00:00\",\"1951-03-01T00:00:00\"],\"y\":[\"1\",\"1\"],\"type\":\"scattergl\",\"showlegend\":false},{\"hoverinfo\":\"skip\",\"line\":{\"color\":\"#C0C0C0\"},\"mode\":\"lines+markers\",\"name\":\"Unchanged\",\"x\":[\"1951-03-01T00:00:00\",\"1951-04-01T00:00:00\"],\"y\":[\"1\",\"1\"],\"type\":\"scattergl\",\"showlegend\":false},{\"hoverinfo\":\"skip\",\"line\":{\"color\":\"#C0C0C0\"},\"mode\":\"lines+markers\",\"name\":\"Unchanged\",\"x\":[\"1951-04-01T00:00:00\",\"1951-05-01T00:00:00\"],\"y\":[\"1\",\"1\"],\"type\":\"scattergl\",\"showlegend\":false},{\"hoverinfo\":\"skip\",\"line\":{\"color\":\"#C0C0C0\"},\"mode\":\"lines+markers\",\"name\":\"Unchanged\",\"x\":[\"1951-05-01T00:00:00\",\"1951-06-01T00:00:00\"],\"y\":[\"1\",\"1\"],\"type\":\"scattergl\",\"showlegend\":false},{\"hoverinfo\":\"skip\",\"line\":{\"color\":\"#C0C0C0\"},\"mode\":\"lines+markers\",\"name\":\"Unchanged\",\"x\":[\"1951-06-01T00:00:00\",\"1951-07-01T00:00:00\"],\"y\":[\"1\",\"1\"],\"type\":\"scattergl\",\"showlegend\":false},{\"hoverinfo\":\"skip\",\"line\":{\"color\":\"#C0C0C0\"},\"mode\":\"lines+markers\",\"name\":\"Unchanged\",\"x\":[\"1951-07-01T00:00:00\",\"1951-08-01T00:00:00\"],\"y\":[\"1\",\"1\"],\"type\":\"scattergl\",\"showlegend\":false},{\"hoverinfo\":\"skip\",\"line\":{\"color\":\"#C0C0C0\"},\"mode\":\"lines+markers\",\"name\":\"Unchanged\",\"x\":[\"1951-08-01T00:00:00\",\"1951-09-01T00:00:00\"],\"y\":[\"1\",\"1\"],\"type\":\"scattergl\",\"showlegend\":false},{\"hoverinfo\":\"skip\",\"line\":{\"color\":\"#C0C0C0\"},\"mode\":\"lines+markers\",\"name\":\"Unchanged\",\"x\":[\"1951-09-01T00:00:00\",\"1951-10-01T00:00:00\"],\"y\":[\"1\",\"1\"],\"type\":\"scattergl\",\"showlegend\":false},{\"hoverinfo\":\"skip\",\"line\":{\"color\":\"#C0C0C0\"},\"mode\":\"lines+markers\",\"name\":\"Unchanged\",\"x\":[\"1951-10-01T00:00:00\",\"1951-11-01T00:00:00\"],\"y\":[\"1\",\"1\"],\"type\":\"scattergl\",\"showlegend\":false},{\"hoverinfo\":\"skip\",\"line\":{\"color\":\"#C0C0C0\"},\"mode\":\"lines+markers\",\"name\":\"Unchanged\",\"x\":[\"1951-11-01T00:00:00\",\"1951-12-01T00:00:00\"],\"y\":[\"1\",\"1\"],\"type\":\"scattergl\",\"showlegend\":false},{\"hoverinfo\":\"skip\",\"line\":{\"color\":\"#C0C0C0\"},\"mode\":\"lines+markers\",\"name\":\"Unchanged\",\"x\":[\"1951-12-01T00:00:00\",\"1952-01-01T00:00:00\"],\"y\":[\"1\",\"1\"],\"type\":\"scattergl\",\"showlegend\":false},{\"hoverinfo\":\"skip\",\"line\":{\"color\":\"#C0C0C0\"},\"mode\":\"lines+markers\",\"name\":\"Unchanged\",\"x\":[\"1952-01-01T00:00:00\",\"1952-02-01T00:00:00\"],\"y\":[\"1\",\"1\"],\"type\":\"scattergl\",\"showlegend\":false},{\"hoverinfo\":\"skip\",\"line\":{\"color\":\"#C0C0C0\"},\"mode\":\"lines+markers\",\"name\":\"Unchanged\",\"x\":[\"1952-02-01T00:00:00\",\"1952-03-01T00:00:00\"],\"y\":[\"1\",\"1\"],\"type\":\"scattergl\",\"showlegend\":false},{\"hoverinfo\":\"skip\",\"line\":{\"color\":\"#C0C0C0\"},\"mode\":\"lines+markers\",\"name\":\"Unchanged\",\"x\":[\"1952-03-01T00:00:00\",\"1952-04-01T00:00:00\"],\"y\":[\"1\",\"1\"],\"type\":\"scattergl\",\"showlegend\":false},{\"hoverinfo\":\"skip\",\"line\":{\"color\":\"#C0C0C0\"},\"mode\":\"lines+markers\",\"name\":\"Unchanged\",\"x\":[\"1952-04-01T00:00:00\",\"1952-05-01T00:00:00\"],\"y\":[\"1\",\"1\"],\"type\":\"scattergl\",\"showlegend\":false},{\"hoverinfo\":\"skip\",\"line\":{\"color\":\"#C0C0C0\"},\"mode\":\"lines+markers\",\"name\":\"Unchanged\",\"x\":[\"1952-05-01T00:00:00\",\"1952-06-01T00:00:00\"],\"y\":[\"1\",\"1\"],\"type\":\"scattergl\",\"showlegend\":false},{\"hoverinfo\":\"skip\",\"line\":{\"color\":\"#C0C0C0\"},\"mode\":\"lines+markers\",\"name\":\"Unchanged\",\"x\":[\"1952-06-01T00:00:00\",\"1952-07-01T00:00:00\"],\"y\":[\"1\",\"1\"],\"type\":\"scattergl\",\"showlegend\":false},{\"hoverinfo\":\"skip\",\"line\":{\"color\":\"#C0C0C0\"},\"mode\":\"lines+markers\",\"name\":\"Unchanged\",\"x\":[\"1952-07-01T00:00:00\",\"1952-08-01T00:00:00\"],\"y\":[\"1\",\"1\"],\"type\":\"scattergl\",\"showlegend\":false},{\"hoverinfo\":\"skip\",\"line\":{\"color\":\"#C0C0C0\"},\"mode\":\"lines+markers\",\"name\":\"Unchanged\",\"x\":[\"1952-08-01T00:00:00\",\"1952-09-01T00:00:00\"],\"y\":[\"1\",\"1\"],\"type\":\"scattergl\",\"showlegend\":false},{\"hoverinfo\":\"skip\",\"line\":{\"color\":\"#C0C0C0\"},\"mode\":\"lines+markers\",\"name\":\"Unchanged\",\"x\":[\"1952-09-01T00:00:00\",\"1952-10-01T00:00:00\"],\"y\":[\"1\",\"1\"],\"type\":\"scattergl\",\"showlegend\":false},{\"hoverinfo\":\"skip\",\"line\":{\"color\":\"#C0C0C0\"},\"mode\":\"lines+markers\",\"name\":\"Unchanged\",\"x\":[\"1952-10-01T00:00:00\",\"1952-11-01T00:00:00\"],\"y\":[\"1\",\"1\"],\"type\":\"scattergl\",\"showlegend\":false},{\"hoverinfo\":\"skip\",\"line\":{\"color\":\"#C0C0C0\"},\"mode\":\"lines+markers\",\"name\":\"Unchanged\",\"x\":[\"1952-11-01T00:00:00\",\"1952-12-01T00:00:00\"],\"y\":[\"1\",\"1\"],\"type\":\"scattergl\",\"showlegend\":false},{\"hoverinfo\":\"skip\",\"line\":{\"color\":\"#C0C0C0\"},\"mode\":\"lines+markers\",\"name\":\"Unchanged\",\"x\":[\"1952-12-01T00:00:00\",\"1953-01-01T00:00:00\"],\"y\":[\"1\",\"1\"],\"type\":\"scattergl\",\"showlegend\":false},{\"hoverinfo\":\"skip\",\"line\":{\"color\":\"#C0C0C0\"},\"mode\":\"lines+markers\",\"name\":\"Unchanged\",\"x\":[\"1953-01-01T00:00:00\",\"1953-02-01T00:00:00\"],\"y\":[\"1\",\"1\"],\"type\":\"scattergl\",\"showlegend\":false},{\"hoverinfo\":\"skip\",\"line\":{\"color\":\"#C0C0C0\"},\"mode\":\"lines+markers\",\"name\":\"Unchanged\",\"x\":[\"1953-02-01T00:00:00\",\"1953-03-01T00:00:00\"],\"y\":[\"1\",\"1\"],\"type\":\"scattergl\",\"showlegend\":false},{\"hoverinfo\":\"skip\",\"line\":{\"color\":\"#C0C0C0\"},\"mode\":\"lines+markers\",\"name\":\"Unchanged\",\"x\":[\"1953-03-01T00:00:00\",\"1953-04-01T00:00:00\"],\"y\":[\"1\",\"1\"],\"type\":\"scattergl\",\"showlegend\":false},{\"hoverinfo\":\"skip\",\"line\":{\"color\":\"#C0C0C0\"},\"mode\":\"lines+markers\",\"name\":\"Unchanged\",\"x\":[\"1953-04-01T00:00:00\",\"1953-05-01T00:00:00\"],\"y\":[\"1\",\"1\"],\"type\":\"scattergl\",\"showlegend\":false},{\"hoverinfo\":\"skip\",\"line\":{\"color\":\"#C0C0C0\"},\"mode\":\"lines+markers\",\"name\":\"Unchanged\",\"x\":[\"1953-05-01T00:00:00\",\"1953-06-01T00:00:00\"],\"y\":[\"1\",\"1\"],\"type\":\"scattergl\",\"showlegend\":false},{\"hoverinfo\":\"skip\",\"line\":{\"color\":\"#C0C0C0\"},\"mode\":\"lines+markers\",\"name\":\"Unchanged\",\"x\":[\"1953-06-01T00:00:00\",\"1953-07-01T00:00:00\"],\"y\":[\"1\",\"1\"],\"type\":\"scattergl\",\"showlegend\":false},{\"hoverinfo\":\"skip\",\"line\":{\"color\":\"#C0C0C0\"},\"mode\":\"lines+markers\",\"name\":\"Unchanged\",\"x\":[\"1953-07-01T00:00:00\",\"1953-08-01T00:00:00\"],\"y\":[\"1\",\"1\"],\"type\":\"scattergl\",\"showlegend\":false},{\"hoverinfo\":\"skip\",\"line\":{\"color\":\"#C0C0C0\"},\"mode\":\"lines+markers\",\"name\":\"Unchanged\",\"x\":[\"1953-08-01T00:00:00\",\"1953-09-01T00:00:00\"],\"y\":[\"1\",\"1\"],\"type\":\"scattergl\",\"showlegend\":false},{\"hoverinfo\":\"skip\",\"line\":{\"color\":\"#C0C0C0\"},\"mode\":\"lines+markers\",\"name\":\"Unchanged\",\"x\":[\"1953-09-01T00:00:00\",\"1953-10-01T00:00:00\"],\"y\":[\"1\",\"1\"],\"type\":\"scattergl\",\"showlegend\":false},{\"hoverinfo\":\"skip\",\"line\":{\"color\":\"#C0C0C0\"},\"mode\":\"lines+markers\",\"name\":\"Unchanged\",\"x\":[\"1953-10-01T00:00:00\",\"1953-11-01T00:00:00\"],\"y\":[\"1\",\"1\"],\"type\":\"scattergl\",\"showlegend\":false},{\"hoverinfo\":\"skip\",\"line\":{\"color\":\"#C0C0C0\"},\"mode\":\"lines+markers\",\"name\":\"Unchanged\",\"x\":[\"1953-11-01T00:00:00\",\"1953-12-01T00:00:00\"],\"y\":[\"1\",\"1\"],\"type\":\"scattergl\",\"showlegend\":false},{\"hoverinfo\":\"skip\",\"line\":{\"color\":\"#C0C0C0\"},\"mode\":\"lines+markers\",\"name\":\"Unchanged\",\"x\":[\"1953-12-01T00:00:00\",\"1954-01-01T00:00:00\"],\"y\":[\"1\",\"1\"],\"type\":\"scattergl\",\"showlegend\":false},{\"hoverinfo\":\"skip\",\"line\":{\"color\":\"#C0C0C0\"},\"mode\":\"lines+markers\",\"name\":\"Unchanged\",\"x\":[\"1954-01-01T00:00:00\",\"1954-02-01T00:00:00\"],\"y\":[\"1\",\"1\"],\"type\":\"scattergl\",\"showlegend\":false},{\"hoverinfo\":\"skip\",\"line\":{\"color\":\"#C0C0C0\"},\"mode\":\"lines+markers\",\"name\":\"Unchanged\",\"x\":[\"1954-02-01T00:00:00\",\"1954-03-01T00:00:00\"],\"y\":[\"1\",\"1\"],\"type\":\"scattergl\",\"showlegend\":false},{\"hoverinfo\":\"skip\",\"line\":{\"color\":\"#C0C0C0\"},\"mode\":\"lines+markers\",\"name\":\"Unchanged\",\"x\":[\"1954-03-01T00:00:00\",\"1954-04-01T00:00:00\"],\"y\":[\"1\",\"1\"],\"type\":\"scattergl\",\"showlegend\":false},{\"hoverinfo\":\"skip\",\"line\":{\"color\":\"#C0C0C0\"},\"mode\":\"lines+markers\",\"name\":\"Unchanged\",\"x\":[\"1954-04-01T00:00:00\",\"1954-05-01T00:00:00\"],\"y\":[\"1\",\"1\"],\"type\":\"scattergl\",\"showlegend\":false},{\"hoverinfo\":\"skip\",\"line\":{\"color\":\"#C0C0C0\"},\"mode\":\"lines+markers\",\"name\":\"Unchanged\",\"x\":[\"1954-05-01T00:00:00\",\"1954-06-01T00:00:00\"],\"y\":[\"1\",\"1\"],\"type\":\"scattergl\",\"showlegend\":false},{\"hoverinfo\":\"skip\",\"line\":{\"color\":\"#C0C0C0\"},\"mode\":\"lines+markers\",\"name\":\"Unchanged\",\"x\":[\"1954-06-01T00:00:00\",\"1954-07-01T00:00:00\"],\"y\":[\"1\",\"1\"],\"type\":\"scattergl\",\"showlegend\":false},{\"hoverinfo\":\"skip\",\"line\":{\"color\":\"#C0C0C0\"},\"mode\":\"lines+markers\",\"name\":\"Unchanged\",\"x\":[\"1954-07-01T00:00:00\",\"1954-08-01T00:00:00\"],\"y\":[\"1\",\"1\"],\"type\":\"scattergl\",\"showlegend\":false},{\"hoverinfo\":\"skip\",\"line\":{\"color\":\"#C0C0C0\"},\"mode\":\"lines+markers\",\"name\":\"Unchanged\",\"x\":[\"1954-08-01T00:00:00\",\"1954-09-01T00:00:00\"],\"y\":[\"1\",\"1\"],\"type\":\"scattergl\",\"showlegend\":false},{\"hoverinfo\":\"skip\",\"line\":{\"color\":\"#C0C0C0\"},\"mode\":\"lines+markers\",\"name\":\"Unchanged\",\"x\":[\"1954-09-01T00:00:00\",\"1954-10-01T00:00:00\"],\"y\":[\"1\",\"1\"],\"type\":\"scattergl\",\"showlegend\":false},{\"hoverinfo\":\"skip\",\"line\":{\"color\":\"#C0C0C0\"},\"mode\":\"lines+markers\",\"name\":\"Unchanged\",\"x\":[\"1954-10-01T00:00:00\",\"1954-11-01T00:00:00\"],\"y\":[\"1\",\"1\"],\"type\":\"scattergl\",\"showlegend\":false},{\"hoverinfo\":\"skip\",\"line\":{\"color\":\"#C0C0C0\"},\"mode\":\"lines+markers\",\"name\":\"Unchanged\",\"x\":[\"1954-11-01T00:00:00\",\"1954-12-01T00:00:00\"],\"y\":[\"1\",\"1\"],\"type\":\"scattergl\",\"showlegend\":false},{\"hoverinfo\":\"skip\",\"line\":{\"color\":\"#C0C0C0\"},\"mode\":\"lines+markers\",\"name\":\"Unchanged\",\"x\":[\"1954-12-01T00:00:00\",\"1955-01-01T00:00:00\"],\"y\":[\"1\",\"1\"],\"type\":\"scattergl\",\"showlegend\":false},{\"hoverinfo\":\"skip\",\"line\":{\"color\":\"#C0C0C0\"},\"mode\":\"lines+markers\",\"name\":\"Unchanged\",\"x\":[\"1955-01-01T00:00:00\",\"1955-02-01T00:00:00\"],\"y\":[\"1\",\"1\"],\"type\":\"scattergl\",\"showlegend\":false},{\"hoverinfo\":\"skip\",\"line\":{\"color\":\"#C0C0C0\"},\"mode\":\"lines+markers\",\"name\":\"Unchanged\",\"x\":[\"1955-02-01T00:00:00\",\"1955-03-01T00:00:00\"],\"y\":[\"1\",\"1\"],\"type\":\"scattergl\",\"showlegend\":false},{\"hoverinfo\":\"skip\",\"line\":{\"color\":\"#C0C0C0\"},\"mode\":\"lines+markers\",\"name\":\"Unchanged\",\"x\":[\"1955-03-01T00:00:00\",\"1955-04-01T00:00:00\"],\"y\":[\"1\",\"1\"],\"type\":\"scattergl\",\"showlegend\":false},{\"hoverinfo\":\"skip\",\"line\":{\"color\":\"#C0C0C0\"},\"mode\":\"lines+markers\",\"name\":\"Unchanged\",\"x\":[\"1955-04-01T00:00:00\",\"1955-05-01T00:00:00\"],\"y\":[\"1\",\"1\"],\"type\":\"scattergl\",\"showlegend\":false},{\"hoverinfo\":\"skip\",\"line\":{\"color\":\"#C0C0C0\"},\"mode\":\"lines+markers\",\"name\":\"Unchanged\",\"x\":[\"1955-05-01T00:00:00\",\"1955-06-01T00:00:00\"],\"y\":[\"1\",\"1\"],\"type\":\"scattergl\",\"showlegend\":false},{\"hoverinfo\":\"skip\",\"line\":{\"color\":\"#C0C0C0\"},\"mode\":\"lines+markers\",\"name\":\"Unchanged\",\"x\":[\"1955-06-01T00:00:00\",\"1955-07-01T00:00:00\"],\"y\":[\"1\",\"1\"],\"type\":\"scattergl\",\"showlegend\":false},{\"hoverinfo\":\"skip\",\"line\":{\"color\":\"#C0C0C0\"},\"mode\":\"lines+markers\",\"name\":\"Unchanged\",\"x\":[\"1955-07-01T00:00:00\",\"1955-08-01T00:00:00\"],\"y\":[\"1\",\"1\"],\"type\":\"scattergl\",\"showlegend\":false},{\"hoverinfo\":\"skip\",\"line\":{\"color\":\"#C0C0C0\"},\"mode\":\"lines+markers\",\"name\":\"Unchanged\",\"x\":[\"1955-08-01T00:00:00\",\"1955-09-01T00:00:00\"],\"y\":[\"1\",\"1\"],\"type\":\"scattergl\",\"showlegend\":false},{\"hoverinfo\":\"skip\",\"line\":{\"color\":\"#C0C0C0\"},\"mode\":\"lines+markers\",\"name\":\"Unchanged\",\"x\":[\"1955-09-01T00:00:00\",\"1955-10-01T00:00:00\"],\"y\":[\"1\",\"1\"],\"type\":\"scattergl\",\"showlegend\":false},{\"hoverinfo\":\"skip\",\"line\":{\"color\":\"#C0C0C0\"},\"mode\":\"lines+markers\",\"name\":\"Unchanged\",\"x\":[\"1955-10-01T00:00:00\",\"1955-11-01T00:00:00\"],\"y\":[\"1\",\"1\"],\"type\":\"scattergl\",\"showlegend\":false},{\"hoverinfo\":\"skip\",\"line\":{\"color\":\"#C0C0C0\"},\"mode\":\"lines+markers\",\"name\":\"Unchanged\",\"x\":[\"1955-11-01T00:00:00\",\"1955-12-01T00:00:00\"],\"y\":[\"1\",\"1\"],\"type\":\"scattergl\",\"showlegend\":false},{\"hoverinfo\":\"skip\",\"line\":{\"color\":\"#C0C0C0\"},\"mode\":\"lines+markers\",\"name\":\"Unchanged\",\"x\":[\"1955-12-01T00:00:00\",\"1956-01-01T00:00:00\"],\"y\":[\"1\",\"1\"],\"type\":\"scattergl\",\"showlegend\":false},{\"hoverinfo\":\"skip\",\"line\":{\"color\":\"#C0C0C0\"},\"mode\":\"lines+markers\",\"name\":\"Unchanged\",\"x\":[\"1956-01-01T00:00:00\",\"1956-02-01T00:00:00\"],\"y\":[\"1\",\"1\"],\"type\":\"scattergl\",\"showlegend\":false},{\"hoverinfo\":\"skip\",\"line\":{\"color\":\"#C0C0C0\"},\"mode\":\"lines+markers\",\"name\":\"Unchanged\",\"x\":[\"1956-02-01T00:00:00\",\"1956-03-01T00:00:00\"],\"y\":[\"1\",\"1\"],\"type\":\"scattergl\",\"showlegend\":false},{\"hoverinfo\":\"skip\",\"line\":{\"color\":\"#C0C0C0\"},\"mode\":\"lines+markers\",\"name\":\"Unchanged\",\"x\":[\"1956-03-01T00:00:00\",\"1956-04-01T00:00:00\"],\"y\":[\"1\",\"1\"],\"type\":\"scattergl\",\"showlegend\":false},{\"hoverinfo\":\"skip\",\"line\":{\"color\":\"#C0C0C0\"},\"mode\":\"lines+markers\",\"name\":\"Unchanged\",\"x\":[\"1956-04-01T00:00:00\",\"1956-05-01T00:00:00\"],\"y\":[\"1\",\"1\"],\"type\":\"scattergl\",\"showlegend\":false},{\"hoverinfo\":\"skip\",\"line\":{\"color\":\"#C0C0C0\"},\"mode\":\"lines+markers\",\"name\":\"Unchanged\",\"x\":[\"1956-05-01T00:00:00\",\"1956-06-01T00:00:00\"],\"y\":[\"1\",\"1\"],\"type\":\"scattergl\",\"showlegend\":false},{\"hoverinfo\":\"skip\",\"line\":{\"color\":\"#C0C0C0\"},\"mode\":\"lines+markers\",\"name\":\"Unchanged\",\"x\":[\"1956-06-01T00:00:00\",\"1956-07-01T00:00:00\"],\"y\":[\"1\",\"1\"],\"type\":\"scattergl\",\"showlegend\":false},{\"hoverinfo\":\"skip\",\"line\":{\"color\":\"#C0C0C0\"},\"mode\":\"lines+markers\",\"name\":\"Unchanged\",\"x\":[\"1956-07-01T00:00:00\",\"1956-08-01T00:00:00\"],\"y\":[\"1\",\"1\"],\"type\":\"scattergl\",\"showlegend\":false},{\"hoverinfo\":\"skip\",\"line\":{\"color\":\"#C0C0C0\"},\"mode\":\"lines+markers\",\"name\":\"Unchanged\",\"x\":[\"1956-08-01T00:00:00\",\"1956-09-01T00:00:00\"],\"y\":[\"1\",\"1\"],\"type\":\"scattergl\",\"showlegend\":false},{\"hoverinfo\":\"skip\",\"line\":{\"color\":\"#C0C0C0\"},\"mode\":\"lines+markers\",\"name\":\"Unchanged\",\"x\":[\"1956-09-01T00:00:00\",\"1956-10-01T00:00:00\"],\"y\":[\"1\",\"1\"],\"type\":\"scattergl\",\"showlegend\":false},{\"hoverinfo\":\"skip\",\"line\":{\"color\":\"#C0C0C0\"},\"mode\":\"lines+markers\",\"name\":\"Unchanged\",\"x\":[\"1956-10-01T00:00:00\",\"1956-11-01T00:00:00\"],\"y\":[\"1\",\"1\"],\"type\":\"scattergl\",\"showlegend\":false},{\"hoverinfo\":\"skip\",\"line\":{\"color\":\"#C0C0C0\"},\"mode\":\"lines+markers\",\"name\":\"Unchanged\",\"x\":[\"1956-11-01T00:00:00\",\"1956-12-01T00:00:00\"],\"y\":[\"1\",\"1\"],\"type\":\"scattergl\",\"showlegend\":false},{\"hoverinfo\":\"skip\",\"line\":{\"color\":\"#C0C0C0\"},\"mode\":\"lines+markers\",\"name\":\"Unchanged\",\"x\":[\"1956-12-01T00:00:00\",\"1957-01-01T00:00:00\"],\"y\":[\"1\",\"1\"],\"type\":\"scattergl\",\"showlegend\":false},{\"hoverinfo\":\"skip\",\"line\":{\"color\":\"#C0C0C0\"},\"mode\":\"lines+markers\",\"name\":\"Unchanged\",\"x\":[\"1957-01-01T00:00:00\",\"1957-02-01T00:00:00\"],\"y\":[\"1\",\"1\"],\"type\":\"scattergl\",\"showlegend\":false},{\"hoverinfo\":\"skip\",\"line\":{\"color\":\"#C0C0C0\"},\"mode\":\"lines+markers\",\"name\":\"Unchanged\",\"x\":[\"1957-02-01T00:00:00\",\"1957-03-01T00:00:00\"],\"y\":[\"1\",\"1\"],\"type\":\"scattergl\",\"showlegend\":false},{\"hoverinfo\":\"skip\",\"line\":{\"color\":\"#C0C0C0\"},\"mode\":\"lines+markers\",\"name\":\"Unchanged\",\"x\":[\"1957-03-01T00:00:00\",\"1957-04-01T00:00:00\"],\"y\":[\"1\",\"1\"],\"type\":\"scattergl\",\"showlegend\":false},{\"hoverinfo\":\"skip\",\"line\":{\"color\":\"#C0C0C0\"},\"mode\":\"lines+markers\",\"name\":\"Unchanged\",\"x\":[\"1957-04-01T00:00:00\",\"1957-05-01T00:00:00\"],\"y\":[\"1\",\"1\"],\"type\":\"scattergl\",\"showlegend\":false},{\"hoverinfo\":\"skip\",\"line\":{\"color\":\"#C0C0C0\"},\"mode\":\"lines+markers\",\"name\":\"Unchanged\",\"x\":[\"1957-05-01T00:00:00\",\"1957-06-01T00:00:00\"],\"y\":[\"1\",\"1\"],\"type\":\"scattergl\",\"showlegend\":false},{\"hoverinfo\":\"skip\",\"line\":{\"color\":\"#C0C0C0\"},\"mode\":\"lines+markers\",\"name\":\"Unchanged\",\"x\":[\"1957-06-01T00:00:00\",\"1957-07-01T00:00:00\"],\"y\":[\"1\",\"1\"],\"type\":\"scattergl\",\"showlegend\":false},{\"hoverinfo\":\"skip\",\"line\":{\"color\":\"#C0C0C0\"},\"mode\":\"lines+markers\",\"name\":\"Unchanged\",\"x\":[\"1957-07-01T00:00:00\",\"1957-08-01T00:00:00\"],\"y\":[\"1\",\"1\"],\"type\":\"scattergl\",\"showlegend\":false},{\"hoverinfo\":\"skip\",\"line\":{\"color\":\"#C0C0C0\"},\"mode\":\"lines+markers\",\"name\":\"Unchanged\",\"x\":[\"1957-08-01T00:00:00\",\"1957-09-01T00:00:00\"],\"y\":[\"1\",\"1\"],\"type\":\"scattergl\",\"showlegend\":false},{\"hoverinfo\":\"skip\",\"line\":{\"color\":\"#C0C0C0\"},\"mode\":\"lines+markers\",\"name\":\"Unchanged\",\"x\":[\"1957-09-01T00:00:00\",\"1957-10-01T00:00:00\"],\"y\":[\"1\",\"1\"],\"type\":\"scattergl\",\"showlegend\":false},{\"hoverinfo\":\"skip\",\"line\":{\"color\":\"#C0C0C0\"},\"mode\":\"lines+markers\",\"name\":\"Unchanged\",\"x\":[\"1957-10-01T00:00:00\",\"1957-11-01T00:00:00\"],\"y\":[\"1\",\"1\"],\"type\":\"scattergl\",\"showlegend\":false},{\"hoverinfo\":\"skip\",\"line\":{\"color\":\"#C0C0C0\"},\"mode\":\"lines+markers\",\"name\":\"Unchanged\",\"x\":[\"1957-11-01T00:00:00\",\"1957-12-01T00:00:00\"],\"y\":[\"1\",\"1\"],\"type\":\"scattergl\",\"showlegend\":false},{\"hoverinfo\":\"skip\",\"line\":{\"color\":\"#1f77b4\"},\"mode\":\"lines+markers\",\"name\":\"Train\",\"showlegend\":false,\"x\":[\"1949-01-01T00:00:00\",\"1949-02-01T00:00:00\"],\"y\":[\"1\",\"1\"],\"type\":\"scattergl\"},{\"hoverinfo\":\"skip\",\"line\":{\"color\":\"#1f77b4\"},\"mode\":\"lines+markers\",\"name\":\"Train\",\"showlegend\":false,\"x\":[\"1949-02-01T00:00:00\",\"1949-03-01T00:00:00\"],\"y\":[\"1\",\"1\"],\"type\":\"scattergl\"},{\"hoverinfo\":\"skip\",\"line\":{\"color\":\"#1f77b4\"},\"mode\":\"lines+markers\",\"name\":\"Train\",\"showlegend\":false,\"x\":[\"1949-03-01T00:00:00\",\"1949-04-01T00:00:00\"],\"y\":[\"1\",\"1\"],\"type\":\"scattergl\"},{\"hoverinfo\":\"skip\",\"line\":{\"color\":\"#1f77b4\"},\"mode\":\"lines+markers\",\"name\":\"Train\",\"showlegend\":false,\"x\":[\"1949-04-01T00:00:00\",\"1949-05-01T00:00:00\"],\"y\":[\"1\",\"1\"],\"type\":\"scattergl\"},{\"hoverinfo\":\"skip\",\"line\":{\"color\":\"#1f77b4\"},\"mode\":\"lines+markers\",\"name\":\"Train\",\"showlegend\":false,\"x\":[\"1949-05-01T00:00:00\",\"1949-06-01T00:00:00\"],\"y\":[\"1\",\"1\"],\"type\":\"scattergl\"},{\"hoverinfo\":\"skip\",\"line\":{\"color\":\"#1f77b4\"},\"mode\":\"lines+markers\",\"name\":\"Train\",\"showlegend\":false,\"x\":[\"1949-06-01T00:00:00\",\"1949-07-01T00:00:00\"],\"y\":[\"1\",\"1\"],\"type\":\"scattergl\"},{\"hoverinfo\":\"skip\",\"line\":{\"color\":\"#1f77b4\"},\"mode\":\"lines+markers\",\"name\":\"Train\",\"showlegend\":false,\"x\":[\"1949-07-01T00:00:00\",\"1949-08-01T00:00:00\"],\"y\":[\"1\",\"1\"],\"type\":\"scattergl\"},{\"hoverinfo\":\"skip\",\"line\":{\"color\":\"#1f77b4\"},\"mode\":\"lines+markers\",\"name\":\"Train\",\"showlegend\":false,\"x\":[\"1949-08-01T00:00:00\",\"1949-09-01T00:00:00\"],\"y\":[\"1\",\"1\"],\"type\":\"scattergl\"},{\"hoverinfo\":\"skip\",\"line\":{\"color\":\"#1f77b4\"},\"mode\":\"lines+markers\",\"name\":\"Train\",\"showlegend\":false,\"x\":[\"1949-09-01T00:00:00\",\"1949-10-01T00:00:00\"],\"y\":[\"1\",\"1\"],\"type\":\"scattergl\"},{\"hoverinfo\":\"skip\",\"line\":{\"color\":\"#1f77b4\"},\"mode\":\"lines+markers\",\"name\":\"Train\",\"showlegend\":false,\"x\":[\"1949-10-01T00:00:00\",\"1949-11-01T00:00:00\"],\"y\":[\"1\",\"1\"],\"type\":\"scattergl\"},{\"hoverinfo\":\"skip\",\"line\":{\"color\":\"#1f77b4\"},\"mode\":\"lines+markers\",\"name\":\"Train\",\"showlegend\":false,\"x\":[\"1949-11-01T00:00:00\",\"1949-12-01T00:00:00\"],\"y\":[\"1\",\"1\"],\"type\":\"scattergl\"},{\"hoverinfo\":\"skip\",\"line\":{\"color\":\"#1f77b4\"},\"mode\":\"lines+markers\",\"name\":\"Train\",\"showlegend\":false,\"x\":[\"1949-12-01T00:00:00\",\"1950-01-01T00:00:00\"],\"y\":[\"1\",\"1\"],\"type\":\"scattergl\"},{\"hoverinfo\":\"skip\",\"line\":{\"color\":\"#1f77b4\"},\"mode\":\"lines+markers\",\"name\":\"Train\",\"showlegend\":false,\"x\":[\"1950-01-01T00:00:00\",\"1950-02-01T00:00:00\"],\"y\":[\"1\",\"1\"],\"type\":\"scattergl\"},{\"hoverinfo\":\"skip\",\"line\":{\"color\":\"#1f77b4\"},\"mode\":\"lines+markers\",\"name\":\"Train\",\"showlegend\":false,\"x\":[\"1950-02-01T00:00:00\",\"1950-03-01T00:00:00\"],\"y\":[\"1\",\"1\"],\"type\":\"scattergl\"},{\"hoverinfo\":\"skip\",\"line\":{\"color\":\"#1f77b4\"},\"mode\":\"lines+markers\",\"name\":\"Train\",\"showlegend\":false,\"x\":[\"1950-03-01T00:00:00\",\"1950-04-01T00:00:00\"],\"y\":[\"1\",\"1\"],\"type\":\"scattergl\"},{\"hoverinfo\":\"skip\",\"line\":{\"color\":\"#1f77b4\"},\"mode\":\"lines+markers\",\"name\":\"Train\",\"showlegend\":false,\"x\":[\"1950-04-01T00:00:00\",\"1950-05-01T00:00:00\"],\"y\":[\"1\",\"1\"],\"type\":\"scattergl\"},{\"hoverinfo\":\"skip\",\"line\":{\"color\":\"#1f77b4\"},\"mode\":\"lines+markers\",\"name\":\"Train\",\"showlegend\":false,\"x\":[\"1950-05-01T00:00:00\",\"1950-06-01T00:00:00\"],\"y\":[\"1\",\"1\"],\"type\":\"scattergl\"},{\"hoverinfo\":\"skip\",\"line\":{\"color\":\"#1f77b4\"},\"mode\":\"lines+markers\",\"name\":\"Train\",\"showlegend\":false,\"x\":[\"1950-06-01T00:00:00\",\"1950-07-01T00:00:00\"],\"y\":[\"1\",\"1\"],\"type\":\"scattergl\"},{\"hoverinfo\":\"skip\",\"line\":{\"color\":\"#1f77b4\"},\"mode\":\"lines+markers\",\"name\":\"Train\",\"showlegend\":false,\"x\":[\"1950-07-01T00:00:00\",\"1950-08-01T00:00:00\"],\"y\":[\"1\",\"1\"],\"type\":\"scattergl\"},{\"hoverinfo\":\"skip\",\"line\":{\"color\":\"#1f77b4\"},\"mode\":\"lines+markers\",\"name\":\"Train\",\"showlegend\":false,\"x\":[\"1950-08-01T00:00:00\",\"1950-09-01T00:00:00\"],\"y\":[\"1\",\"1\"],\"type\":\"scattergl\"},{\"hoverinfo\":\"skip\",\"line\":{\"color\":\"#1f77b4\"},\"mode\":\"lines+markers\",\"name\":\"Train\",\"showlegend\":false,\"x\":[\"1950-09-01T00:00:00\",\"1950-10-01T00:00:00\"],\"y\":[\"1\",\"1\"],\"type\":\"scattergl\"},{\"hoverinfo\":\"skip\",\"line\":{\"color\":\"#1f77b4\"},\"mode\":\"lines+markers\",\"name\":\"Train\",\"showlegend\":false,\"x\":[\"1950-10-01T00:00:00\",\"1950-11-01T00:00:00\"],\"y\":[\"1\",\"1\"],\"type\":\"scattergl\"},{\"hoverinfo\":\"skip\",\"line\":{\"color\":\"#1f77b4\"},\"mode\":\"lines+markers\",\"name\":\"Train\",\"showlegend\":false,\"x\":[\"1950-11-01T00:00:00\",\"1950-12-01T00:00:00\"],\"y\":[\"1\",\"1\"],\"type\":\"scattergl\"},{\"hoverinfo\":\"skip\",\"line\":{\"color\":\"#1f77b4\"},\"mode\":\"lines+markers\",\"name\":\"Train\",\"showlegend\":false,\"x\":[\"1950-12-01T00:00:00\",\"1951-01-01T00:00:00\"],\"y\":[\"1\",\"1\"],\"type\":\"scattergl\"},{\"hoverinfo\":\"skip\",\"line\":{\"color\":\"#1f77b4\"},\"mode\":\"lines+markers\",\"name\":\"Train\",\"showlegend\":false,\"x\":[\"1951-01-01T00:00:00\",\"1951-02-01T00:00:00\"],\"y\":[\"1\",\"1\"],\"type\":\"scattergl\"},{\"hoverinfo\":\"skip\",\"line\":{\"color\":\"#1f77b4\"},\"mode\":\"lines+markers\",\"name\":\"Train\",\"showlegend\":false,\"x\":[\"1951-02-01T00:00:00\",\"1951-03-01T00:00:00\"],\"y\":[\"1\",\"1\"],\"type\":\"scattergl\"},{\"hoverinfo\":\"skip\",\"line\":{\"color\":\"#1f77b4\"},\"mode\":\"lines+markers\",\"name\":\"Train\",\"showlegend\":false,\"x\":[\"1951-03-01T00:00:00\",\"1951-04-01T00:00:00\"],\"y\":[\"1\",\"1\"],\"type\":\"scattergl\"},{\"hoverinfo\":\"skip\",\"line\":{\"color\":\"#1f77b4\"},\"mode\":\"lines+markers\",\"name\":\"Train\",\"showlegend\":false,\"x\":[\"1951-04-01T00:00:00\",\"1951-05-01T00:00:00\"],\"y\":[\"1\",\"1\"],\"type\":\"scattergl\"},{\"hoverinfo\":\"skip\",\"line\":{\"color\":\"#1f77b4\"},\"mode\":\"lines+markers\",\"name\":\"Train\",\"showlegend\":false,\"x\":[\"1951-05-01T00:00:00\",\"1951-06-01T00:00:00\"],\"y\":[\"1\",\"1\"],\"type\":\"scattergl\"},{\"hoverinfo\":\"skip\",\"line\":{\"color\":\"#1f77b4\"},\"mode\":\"lines+markers\",\"name\":\"Train\",\"showlegend\":false,\"x\":[\"1951-06-01T00:00:00\",\"1951-07-01T00:00:00\"],\"y\":[\"1\",\"1\"],\"type\":\"scattergl\"},{\"hoverinfo\":\"skip\",\"line\":{\"color\":\"#1f77b4\"},\"mode\":\"lines+markers\",\"name\":\"Train\",\"showlegend\":false,\"x\":[\"1951-07-01T00:00:00\",\"1951-08-01T00:00:00\"],\"y\":[\"1\",\"1\"],\"type\":\"scattergl\"},{\"hoverinfo\":\"skip\",\"line\":{\"color\":\"#1f77b4\"},\"mode\":\"lines+markers\",\"name\":\"Train\",\"showlegend\":false,\"x\":[\"1951-08-01T00:00:00\",\"1951-09-01T00:00:00\"],\"y\":[\"1\",\"1\"],\"type\":\"scattergl\"},{\"hoverinfo\":\"skip\",\"line\":{\"color\":\"#1f77b4\"},\"mode\":\"lines+markers\",\"name\":\"Train\",\"showlegend\":false,\"x\":[\"1951-09-01T00:00:00\",\"1951-10-01T00:00:00\"],\"y\":[\"1\",\"1\"],\"type\":\"scattergl\"},{\"hoverinfo\":\"skip\",\"line\":{\"color\":\"#1f77b4\"},\"mode\":\"lines+markers\",\"name\":\"Train\",\"showlegend\":false,\"x\":[\"1951-10-01T00:00:00\",\"1951-11-01T00:00:00\"],\"y\":[\"1\",\"1\"],\"type\":\"scattergl\"},{\"hoverinfo\":\"skip\",\"line\":{\"color\":\"#1f77b4\"},\"mode\":\"lines+markers\",\"name\":\"Train\",\"showlegend\":false,\"x\":[\"1951-11-01T00:00:00\",\"1951-12-01T00:00:00\"],\"y\":[\"1\",\"1\"],\"type\":\"scattergl\"},{\"hoverinfo\":\"skip\",\"line\":{\"color\":\"#1f77b4\"},\"mode\":\"lines+markers\",\"name\":\"Train\",\"showlegend\":false,\"x\":[\"1951-12-01T00:00:00\",\"1952-01-01T00:00:00\"],\"y\":[\"1\",\"1\"],\"type\":\"scattergl\"},{\"hoverinfo\":\"skip\",\"line\":{\"color\":\"#1f77b4\"},\"mode\":\"lines+markers\",\"name\":\"Train\",\"showlegend\":false,\"x\":[\"1952-01-01T00:00:00\",\"1952-02-01T00:00:00\"],\"y\":[\"1\",\"1\"],\"type\":\"scattergl\"},{\"hoverinfo\":\"skip\",\"line\":{\"color\":\"#1f77b4\"},\"mode\":\"lines+markers\",\"name\":\"Train\",\"showlegend\":false,\"x\":[\"1952-02-01T00:00:00\",\"1952-03-01T00:00:00\"],\"y\":[\"1\",\"1\"],\"type\":\"scattergl\"},{\"hoverinfo\":\"skip\",\"line\":{\"color\":\"#1f77b4\"},\"mode\":\"lines+markers\",\"name\":\"Train\",\"showlegend\":false,\"x\":[\"1952-03-01T00:00:00\",\"1952-04-01T00:00:00\"],\"y\":[\"1\",\"1\"],\"type\":\"scattergl\"},{\"hoverinfo\":\"skip\",\"line\":{\"color\":\"#1f77b4\"},\"mode\":\"lines+markers\",\"name\":\"Train\",\"showlegend\":false,\"x\":[\"1952-04-01T00:00:00\",\"1952-05-01T00:00:00\"],\"y\":[\"1\",\"1\"],\"type\":\"scattergl\"},{\"hoverinfo\":\"skip\",\"line\":{\"color\":\"#1f77b4\"},\"mode\":\"lines+markers\",\"name\":\"Train\",\"showlegend\":false,\"x\":[\"1952-05-01T00:00:00\",\"1952-06-01T00:00:00\"],\"y\":[\"1\",\"1\"],\"type\":\"scattergl\"},{\"hoverinfo\":\"skip\",\"line\":{\"color\":\"#1f77b4\"},\"mode\":\"lines+markers\",\"name\":\"Train\",\"showlegend\":false,\"x\":[\"1952-06-01T00:00:00\",\"1952-07-01T00:00:00\"],\"y\":[\"1\",\"1\"],\"type\":\"scattergl\"},{\"hoverinfo\":\"skip\",\"line\":{\"color\":\"#1f77b4\"},\"mode\":\"lines+markers\",\"name\":\"Train\",\"showlegend\":false,\"x\":[\"1952-07-01T00:00:00\",\"1952-08-01T00:00:00\"],\"y\":[\"1\",\"1\"],\"type\":\"scattergl\"},{\"hoverinfo\":\"skip\",\"line\":{\"color\":\"#1f77b4\"},\"mode\":\"lines+markers\",\"name\":\"Train\",\"showlegend\":false,\"x\":[\"1952-08-01T00:00:00\",\"1952-09-01T00:00:00\"],\"y\":[\"1\",\"1\"],\"type\":\"scattergl\"},{\"hoverinfo\":\"skip\",\"line\":{\"color\":\"#1f77b4\"},\"mode\":\"lines+markers\",\"name\":\"Train\",\"showlegend\":false,\"x\":[\"1952-09-01T00:00:00\",\"1952-10-01T00:00:00\"],\"y\":[\"1\",\"1\"],\"type\":\"scattergl\"},{\"hoverinfo\":\"skip\",\"line\":{\"color\":\"#1f77b4\"},\"mode\":\"lines+markers\",\"name\":\"Train\",\"showlegend\":false,\"x\":[\"1952-10-01T00:00:00\",\"1952-11-01T00:00:00\"],\"y\":[\"1\",\"1\"],\"type\":\"scattergl\"},{\"hoverinfo\":\"skip\",\"line\":{\"color\":\"#1f77b4\"},\"mode\":\"lines+markers\",\"name\":\"Train\",\"showlegend\":false,\"x\":[\"1952-11-01T00:00:00\",\"1952-12-01T00:00:00\"],\"y\":[\"1\",\"1\"],\"type\":\"scattergl\"},{\"hoverinfo\":\"skip\",\"line\":{\"color\":\"#1f77b4\"},\"mode\":\"lines+markers\",\"name\":\"Train\",\"showlegend\":false,\"x\":[\"1952-12-01T00:00:00\",\"1953-01-01T00:00:00\"],\"y\":[\"1\",\"1\"],\"type\":\"scattergl\"},{\"hoverinfo\":\"skip\",\"line\":{\"color\":\"#1f77b4\"},\"mode\":\"lines+markers\",\"name\":\"Train\",\"showlegend\":false,\"x\":[\"1953-01-01T00:00:00\",\"1953-02-01T00:00:00\"],\"y\":[\"1\",\"1\"],\"type\":\"scattergl\"},{\"hoverinfo\":\"skip\",\"line\":{\"color\":\"#1f77b4\"},\"mode\":\"lines+markers\",\"name\":\"Train\",\"showlegend\":false,\"x\":[\"1953-02-01T00:00:00\",\"1953-03-01T00:00:00\"],\"y\":[\"1\",\"1\"],\"type\":\"scattergl\"},{\"hoverinfo\":\"skip\",\"line\":{\"color\":\"#1f77b4\"},\"mode\":\"lines+markers\",\"name\":\"Train\",\"showlegend\":false,\"x\":[\"1953-03-01T00:00:00\",\"1953-04-01T00:00:00\"],\"y\":[\"1\",\"1\"],\"type\":\"scattergl\"},{\"hoverinfo\":\"skip\",\"line\":{\"color\":\"#1f77b4\"},\"mode\":\"lines+markers\",\"name\":\"Train\",\"showlegend\":false,\"x\":[\"1953-04-01T00:00:00\",\"1953-05-01T00:00:00\"],\"y\":[\"1\",\"1\"],\"type\":\"scattergl\"},{\"hoverinfo\":\"skip\",\"line\":{\"color\":\"#1f77b4\"},\"mode\":\"lines+markers\",\"name\":\"Train\",\"showlegend\":false,\"x\":[\"1953-05-01T00:00:00\",\"1953-06-01T00:00:00\"],\"y\":[\"1\",\"1\"],\"type\":\"scattergl\"},{\"hoverinfo\":\"skip\",\"line\":{\"color\":\"#1f77b4\"},\"mode\":\"lines+markers\",\"name\":\"Train\",\"showlegend\":false,\"x\":[\"1953-06-01T00:00:00\",\"1953-07-01T00:00:00\"],\"y\":[\"1\",\"1\"],\"type\":\"scattergl\"},{\"hoverinfo\":\"skip\",\"line\":{\"color\":\"#1f77b4\"},\"mode\":\"lines+markers\",\"name\":\"Train\",\"showlegend\":false,\"x\":[\"1953-07-01T00:00:00\",\"1953-08-01T00:00:00\"],\"y\":[\"1\",\"1\"],\"type\":\"scattergl\"},{\"hoverinfo\":\"skip\",\"line\":{\"color\":\"#1f77b4\"},\"mode\":\"lines+markers\",\"name\":\"Train\",\"showlegend\":false,\"x\":[\"1953-08-01T00:00:00\",\"1953-09-01T00:00:00\"],\"y\":[\"1\",\"1\"],\"type\":\"scattergl\"},{\"hoverinfo\":\"skip\",\"line\":{\"color\":\"#1f77b4\"},\"mode\":\"lines+markers\",\"name\":\"Train\",\"showlegend\":false,\"x\":[\"1953-09-01T00:00:00\",\"1953-10-01T00:00:00\"],\"y\":[\"1\",\"1\"],\"type\":\"scattergl\"},{\"hoverinfo\":\"skip\",\"line\":{\"color\":\"#1f77b4\"},\"mode\":\"lines+markers\",\"name\":\"Train\",\"showlegend\":false,\"x\":[\"1953-10-01T00:00:00\",\"1953-11-01T00:00:00\"],\"y\":[\"1\",\"1\"],\"type\":\"scattergl\"},{\"hoverinfo\":\"skip\",\"line\":{\"color\":\"#1f77b4\"},\"mode\":\"lines+markers\",\"name\":\"Train\",\"showlegend\":false,\"x\":[\"1953-11-01T00:00:00\",\"1953-12-01T00:00:00\"],\"y\":[\"1\",\"1\"],\"type\":\"scattergl\"},{\"hoverinfo\":\"skip\",\"line\":{\"color\":\"#DE970B\"},\"mode\":\"lines+markers\",\"name\":\"ForecastHorizon\",\"x\":[\"1956-01-01T00:00:00\",\"1956-02-01T00:00:00\"],\"y\":[\"1\",\"1\"],\"type\":\"scattergl\",\"showlegend\":false},{\"hoverinfo\":\"skip\",\"line\":{\"color\":\"#DE970B\"},\"mode\":\"lines+markers\",\"name\":\"ForecastHorizon\",\"x\":[\"1956-02-01T00:00:00\",\"1956-03-01T00:00:00\"],\"y\":[\"1\",\"1\"],\"type\":\"scattergl\",\"showlegend\":false},{\"hoverinfo\":\"skip\",\"line\":{\"color\":\"#DE970B\"},\"mode\":\"lines+markers\",\"name\":\"ForecastHorizon\",\"x\":[\"1956-03-01T00:00:00\",\"1956-04-01T00:00:00\"],\"y\":[\"1\",\"1\"],\"type\":\"scattergl\",\"showlegend\":false},{\"hoverinfo\":\"skip\",\"line\":{\"color\":\"#DE970B\"},\"mode\":\"lines+markers\",\"name\":\"ForecastHorizon\",\"x\":[\"1956-04-01T00:00:00\",\"1956-05-01T00:00:00\"],\"y\":[\"1\",\"1\"],\"type\":\"scattergl\",\"showlegend\":false},{\"hoverinfo\":\"skip\",\"line\":{\"color\":\"#DE970B\"},\"mode\":\"lines+markers\",\"name\":\"ForecastHorizon\",\"x\":[\"1956-05-01T00:00:00\",\"1956-06-01T00:00:00\"],\"y\":[\"1\",\"1\"],\"type\":\"scattergl\",\"showlegend\":false},{\"hoverinfo\":\"skip\",\"line\":{\"color\":\"#DE970B\"},\"mode\":\"lines+markers\",\"name\":\"ForecastHorizon\",\"x\":[\"1956-06-01T00:00:00\",\"1956-07-01T00:00:00\"],\"y\":[\"1\",\"1\"],\"type\":\"scattergl\",\"showlegend\":false},{\"hoverinfo\":\"skip\",\"line\":{\"color\":\"#DE970B\"},\"mode\":\"lines+markers\",\"name\":\"ForecastHorizon\",\"x\":[\"1956-07-01T00:00:00\",\"1956-08-01T00:00:00\"],\"y\":[\"1\",\"1\"],\"type\":\"scattergl\",\"showlegend\":false},{\"hoverinfo\":\"skip\",\"line\":{\"color\":\"#DE970B\"},\"mode\":\"lines+markers\",\"name\":\"ForecastHorizon\",\"x\":[\"1956-08-01T00:00:00\",\"1956-09-01T00:00:00\"],\"y\":[\"1\",\"1\"],\"type\":\"scattergl\",\"showlegend\":false},{\"hoverinfo\":\"skip\",\"line\":{\"color\":\"#DE970B\"},\"mode\":\"lines+markers\",\"name\":\"ForecastHorizon\",\"x\":[\"1956-09-01T00:00:00\",\"1956-10-01T00:00:00\"],\"y\":[\"1\",\"1\"],\"type\":\"scattergl\",\"showlegend\":false},{\"hoverinfo\":\"skip\",\"line\":{\"color\":\"#DE970B\"},\"mode\":\"lines+markers\",\"name\":\"ForecastHorizon\",\"x\":[\"1956-10-01T00:00:00\",\"1956-11-01T00:00:00\"],\"y\":[\"1\",\"1\"],\"type\":\"scattergl\",\"showlegend\":false},{\"hoverinfo\":\"skip\",\"line\":{\"color\":\"#DE970B\"},\"mode\":\"lines+markers\",\"name\":\"ForecastHorizon\",\"x\":[\"1956-11-01T00:00:00\",\"1956-12-01T00:00:00\"],\"y\":[\"1\",\"1\"],\"type\":\"scattergl\",\"showlegend\":false},{\"hoverinfo\":\"skip\",\"line\":{\"color\":\"#C0C0C0\"},\"mode\":\"lines+markers\",\"name\":\"Unchanged\",\"x\":[\"1949-01-01T00:00:00\",\"1949-02-01T00:00:00\"],\"y\":[\"0\",\"0\"],\"type\":\"scattergl\",\"showlegend\":false},{\"hoverinfo\":\"skip\",\"line\":{\"color\":\"#C0C0C0\"},\"mode\":\"lines+markers\",\"name\":\"Unchanged\",\"x\":[\"1949-02-01T00:00:00\",\"1949-03-01T00:00:00\"],\"y\":[\"0\",\"0\"],\"type\":\"scattergl\",\"showlegend\":false},{\"hoverinfo\":\"skip\",\"line\":{\"color\":\"#C0C0C0\"},\"mode\":\"lines+markers\",\"name\":\"Unchanged\",\"x\":[\"1949-03-01T00:00:00\",\"1949-04-01T00:00:00\"],\"y\":[\"0\",\"0\"],\"type\":\"scattergl\",\"showlegend\":false},{\"hoverinfo\":\"skip\",\"line\":{\"color\":\"#C0C0C0\"},\"mode\":\"lines+markers\",\"name\":\"Unchanged\",\"x\":[\"1949-04-01T00:00:00\",\"1949-05-01T00:00:00\"],\"y\":[\"0\",\"0\"],\"type\":\"scattergl\",\"showlegend\":false},{\"hoverinfo\":\"skip\",\"line\":{\"color\":\"#C0C0C0\"},\"mode\":\"lines+markers\",\"name\":\"Unchanged\",\"x\":[\"1949-05-01T00:00:00\",\"1949-06-01T00:00:00\"],\"y\":[\"0\",\"0\"],\"type\":\"scattergl\",\"showlegend\":false},{\"hoverinfo\":\"skip\",\"line\":{\"color\":\"#C0C0C0\"},\"mode\":\"lines+markers\",\"name\":\"Unchanged\",\"x\":[\"1949-06-01T00:00:00\",\"1949-07-01T00:00:00\"],\"y\":[\"0\",\"0\"],\"type\":\"scattergl\",\"showlegend\":false},{\"hoverinfo\":\"skip\",\"line\":{\"color\":\"#C0C0C0\"},\"mode\":\"lines+markers\",\"name\":\"Unchanged\",\"x\":[\"1949-07-01T00:00:00\",\"1949-08-01T00:00:00\"],\"y\":[\"0\",\"0\"],\"type\":\"scattergl\",\"showlegend\":false},{\"hoverinfo\":\"skip\",\"line\":{\"color\":\"#C0C0C0\"},\"mode\":\"lines+markers\",\"name\":\"Unchanged\",\"x\":[\"1949-08-01T00:00:00\",\"1949-09-01T00:00:00\"],\"y\":[\"0\",\"0\"],\"type\":\"scattergl\",\"showlegend\":false},{\"hoverinfo\":\"skip\",\"line\":{\"color\":\"#C0C0C0\"},\"mode\":\"lines+markers\",\"name\":\"Unchanged\",\"x\":[\"1949-09-01T00:00:00\",\"1949-10-01T00:00:00\"],\"y\":[\"0\",\"0\"],\"type\":\"scattergl\",\"showlegend\":false},{\"hoverinfo\":\"skip\",\"line\":{\"color\":\"#C0C0C0\"},\"mode\":\"lines+markers\",\"name\":\"Unchanged\",\"x\":[\"1949-10-01T00:00:00\",\"1949-11-01T00:00:00\"],\"y\":[\"0\",\"0\"],\"type\":\"scattergl\",\"showlegend\":false},{\"hoverinfo\":\"skip\",\"line\":{\"color\":\"#C0C0C0\"},\"mode\":\"lines+markers\",\"name\":\"Unchanged\",\"x\":[\"1949-11-01T00:00:00\",\"1949-12-01T00:00:00\"],\"y\":[\"0\",\"0\"],\"type\":\"scattergl\",\"showlegend\":false},{\"hoverinfo\":\"skip\",\"line\":{\"color\":\"#C0C0C0\"},\"mode\":\"lines+markers\",\"name\":\"Unchanged\",\"x\":[\"1949-12-01T00:00:00\",\"1950-01-01T00:00:00\"],\"y\":[\"0\",\"0\"],\"type\":\"scattergl\",\"showlegend\":false},{\"hoverinfo\":\"skip\",\"line\":{\"color\":\"#C0C0C0\"},\"mode\":\"lines+markers\",\"name\":\"Unchanged\",\"x\":[\"1950-01-01T00:00:00\",\"1950-02-01T00:00:00\"],\"y\":[\"0\",\"0\"],\"type\":\"scattergl\",\"showlegend\":false},{\"hoverinfo\":\"skip\",\"line\":{\"color\":\"#C0C0C0\"},\"mode\":\"lines+markers\",\"name\":\"Unchanged\",\"x\":[\"1950-02-01T00:00:00\",\"1950-03-01T00:00:00\"],\"y\":[\"0\",\"0\"],\"type\":\"scattergl\",\"showlegend\":false},{\"hoverinfo\":\"skip\",\"line\":{\"color\":\"#C0C0C0\"},\"mode\":\"lines+markers\",\"name\":\"Unchanged\",\"x\":[\"1950-03-01T00:00:00\",\"1950-04-01T00:00:00\"],\"y\":[\"0\",\"0\"],\"type\":\"scattergl\",\"showlegend\":false},{\"hoverinfo\":\"skip\",\"line\":{\"color\":\"#C0C0C0\"},\"mode\":\"lines+markers\",\"name\":\"Unchanged\",\"x\":[\"1950-04-01T00:00:00\",\"1950-05-01T00:00:00\"],\"y\":[\"0\",\"0\"],\"type\":\"scattergl\",\"showlegend\":false},{\"hoverinfo\":\"skip\",\"line\":{\"color\":\"#C0C0C0\"},\"mode\":\"lines+markers\",\"name\":\"Unchanged\",\"x\":[\"1950-05-01T00:00:00\",\"1950-06-01T00:00:00\"],\"y\":[\"0\",\"0\"],\"type\":\"scattergl\",\"showlegend\":false},{\"hoverinfo\":\"skip\",\"line\":{\"color\":\"#C0C0C0\"},\"mode\":\"lines+markers\",\"name\":\"Unchanged\",\"x\":[\"1950-06-01T00:00:00\",\"1950-07-01T00:00:00\"],\"y\":[\"0\",\"0\"],\"type\":\"scattergl\",\"showlegend\":false},{\"hoverinfo\":\"skip\",\"line\":{\"color\":\"#C0C0C0\"},\"mode\":\"lines+markers\",\"name\":\"Unchanged\",\"x\":[\"1950-07-01T00:00:00\",\"1950-08-01T00:00:00\"],\"y\":[\"0\",\"0\"],\"type\":\"scattergl\",\"showlegend\":false},{\"hoverinfo\":\"skip\",\"line\":{\"color\":\"#C0C0C0\"},\"mode\":\"lines+markers\",\"name\":\"Unchanged\",\"x\":[\"1950-08-01T00:00:00\",\"1950-09-01T00:00:00\"],\"y\":[\"0\",\"0\"],\"type\":\"scattergl\",\"showlegend\":false},{\"hoverinfo\":\"skip\",\"line\":{\"color\":\"#C0C0C0\"},\"mode\":\"lines+markers\",\"name\":\"Unchanged\",\"x\":[\"1950-09-01T00:00:00\",\"1950-10-01T00:00:00\"],\"y\":[\"0\",\"0\"],\"type\":\"scattergl\",\"showlegend\":false},{\"hoverinfo\":\"skip\",\"line\":{\"color\":\"#C0C0C0\"},\"mode\":\"lines+markers\",\"name\":\"Unchanged\",\"x\":[\"1950-10-01T00:00:00\",\"1950-11-01T00:00:00\"],\"y\":[\"0\",\"0\"],\"type\":\"scattergl\",\"showlegend\":false},{\"hoverinfo\":\"skip\",\"line\":{\"color\":\"#C0C0C0\"},\"mode\":\"lines+markers\",\"name\":\"Unchanged\",\"x\":[\"1950-11-01T00:00:00\",\"1950-12-01T00:00:00\"],\"y\":[\"0\",\"0\"],\"type\":\"scattergl\",\"showlegend\":false},{\"hoverinfo\":\"skip\",\"line\":{\"color\":\"#C0C0C0\"},\"mode\":\"lines+markers\",\"name\":\"Unchanged\",\"x\":[\"1950-12-01T00:00:00\",\"1951-01-01T00:00:00\"],\"y\":[\"0\",\"0\"],\"type\":\"scattergl\",\"showlegend\":false},{\"hoverinfo\":\"skip\",\"line\":{\"color\":\"#C0C0C0\"},\"mode\":\"lines+markers\",\"name\":\"Unchanged\",\"x\":[\"1951-01-01T00:00:00\",\"1951-02-01T00:00:00\"],\"y\":[\"0\",\"0\"],\"type\":\"scattergl\",\"showlegend\":false},{\"hoverinfo\":\"skip\",\"line\":{\"color\":\"#C0C0C0\"},\"mode\":\"lines+markers\",\"name\":\"Unchanged\",\"x\":[\"1951-02-01T00:00:00\",\"1951-03-01T00:00:00\"],\"y\":[\"0\",\"0\"],\"type\":\"scattergl\",\"showlegend\":false},{\"hoverinfo\":\"skip\",\"line\":{\"color\":\"#C0C0C0\"},\"mode\":\"lines+markers\",\"name\":\"Unchanged\",\"x\":[\"1951-03-01T00:00:00\",\"1951-04-01T00:00:00\"],\"y\":[\"0\",\"0\"],\"type\":\"scattergl\",\"showlegend\":false},{\"hoverinfo\":\"skip\",\"line\":{\"color\":\"#C0C0C0\"},\"mode\":\"lines+markers\",\"name\":\"Unchanged\",\"x\":[\"1951-04-01T00:00:00\",\"1951-05-01T00:00:00\"],\"y\":[\"0\",\"0\"],\"type\":\"scattergl\",\"showlegend\":false},{\"hoverinfo\":\"skip\",\"line\":{\"color\":\"#C0C0C0\"},\"mode\":\"lines+markers\",\"name\":\"Unchanged\",\"x\":[\"1951-05-01T00:00:00\",\"1951-06-01T00:00:00\"],\"y\":[\"0\",\"0\"],\"type\":\"scattergl\",\"showlegend\":false},{\"hoverinfo\":\"skip\",\"line\":{\"color\":\"#C0C0C0\"},\"mode\":\"lines+markers\",\"name\":\"Unchanged\",\"x\":[\"1951-06-01T00:00:00\",\"1951-07-01T00:00:00\"],\"y\":[\"0\",\"0\"],\"type\":\"scattergl\",\"showlegend\":false},{\"hoverinfo\":\"skip\",\"line\":{\"color\":\"#C0C0C0\"},\"mode\":\"lines+markers\",\"name\":\"Unchanged\",\"x\":[\"1951-07-01T00:00:00\",\"1951-08-01T00:00:00\"],\"y\":[\"0\",\"0\"],\"type\":\"scattergl\",\"showlegend\":false},{\"hoverinfo\":\"skip\",\"line\":{\"color\":\"#C0C0C0\"},\"mode\":\"lines+markers\",\"name\":\"Unchanged\",\"x\":[\"1951-08-01T00:00:00\",\"1951-09-01T00:00:00\"],\"y\":[\"0\",\"0\"],\"type\":\"scattergl\",\"showlegend\":false},{\"hoverinfo\":\"skip\",\"line\":{\"color\":\"#C0C0C0\"},\"mode\":\"lines+markers\",\"name\":\"Unchanged\",\"x\":[\"1951-09-01T00:00:00\",\"1951-10-01T00:00:00\"],\"y\":[\"0\",\"0\"],\"type\":\"scattergl\",\"showlegend\":false},{\"hoverinfo\":\"skip\",\"line\":{\"color\":\"#C0C0C0\"},\"mode\":\"lines+markers\",\"name\":\"Unchanged\",\"x\":[\"1951-10-01T00:00:00\",\"1951-11-01T00:00:00\"],\"y\":[\"0\",\"0\"],\"type\":\"scattergl\",\"showlegend\":false},{\"hoverinfo\":\"skip\",\"line\":{\"color\":\"#C0C0C0\"},\"mode\":\"lines+markers\",\"name\":\"Unchanged\",\"x\":[\"1951-11-01T00:00:00\",\"1951-12-01T00:00:00\"],\"y\":[\"0\",\"0\"],\"type\":\"scattergl\",\"showlegend\":false},{\"hoverinfo\":\"skip\",\"line\":{\"color\":\"#C0C0C0\"},\"mode\":\"lines+markers\",\"name\":\"Unchanged\",\"x\":[\"1951-12-01T00:00:00\",\"1952-01-01T00:00:00\"],\"y\":[\"0\",\"0\"],\"type\":\"scattergl\",\"showlegend\":false},{\"hoverinfo\":\"skip\",\"line\":{\"color\":\"#C0C0C0\"},\"mode\":\"lines+markers\",\"name\":\"Unchanged\",\"x\":[\"1952-01-01T00:00:00\",\"1952-02-01T00:00:00\"],\"y\":[\"0\",\"0\"],\"type\":\"scattergl\",\"showlegend\":false},{\"hoverinfo\":\"skip\",\"line\":{\"color\":\"#C0C0C0\"},\"mode\":\"lines+markers\",\"name\":\"Unchanged\",\"x\":[\"1952-02-01T00:00:00\",\"1952-03-01T00:00:00\"],\"y\":[\"0\",\"0\"],\"type\":\"scattergl\",\"showlegend\":false},{\"hoverinfo\":\"skip\",\"line\":{\"color\":\"#C0C0C0\"},\"mode\":\"lines+markers\",\"name\":\"Unchanged\",\"x\":[\"1952-03-01T00:00:00\",\"1952-04-01T00:00:00\"],\"y\":[\"0\",\"0\"],\"type\":\"scattergl\",\"showlegend\":false},{\"hoverinfo\":\"skip\",\"line\":{\"color\":\"#C0C0C0\"},\"mode\":\"lines+markers\",\"name\":\"Unchanged\",\"x\":[\"1952-04-01T00:00:00\",\"1952-05-01T00:00:00\"],\"y\":[\"0\",\"0\"],\"type\":\"scattergl\",\"showlegend\":false},{\"hoverinfo\":\"skip\",\"line\":{\"color\":\"#C0C0C0\"},\"mode\":\"lines+markers\",\"name\":\"Unchanged\",\"x\":[\"1952-05-01T00:00:00\",\"1952-06-01T00:00:00\"],\"y\":[\"0\",\"0\"],\"type\":\"scattergl\",\"showlegend\":false},{\"hoverinfo\":\"skip\",\"line\":{\"color\":\"#C0C0C0\"},\"mode\":\"lines+markers\",\"name\":\"Unchanged\",\"x\":[\"1952-06-01T00:00:00\",\"1952-07-01T00:00:00\"],\"y\":[\"0\",\"0\"],\"type\":\"scattergl\",\"showlegend\":false},{\"hoverinfo\":\"skip\",\"line\":{\"color\":\"#C0C0C0\"},\"mode\":\"lines+markers\",\"name\":\"Unchanged\",\"x\":[\"1952-07-01T00:00:00\",\"1952-08-01T00:00:00\"],\"y\":[\"0\",\"0\"],\"type\":\"scattergl\",\"showlegend\":false},{\"hoverinfo\":\"skip\",\"line\":{\"color\":\"#C0C0C0\"},\"mode\":\"lines+markers\",\"name\":\"Unchanged\",\"x\":[\"1952-08-01T00:00:00\",\"1952-09-01T00:00:00\"],\"y\":[\"0\",\"0\"],\"type\":\"scattergl\",\"showlegend\":false},{\"hoverinfo\":\"skip\",\"line\":{\"color\":\"#C0C0C0\"},\"mode\":\"lines+markers\",\"name\":\"Unchanged\",\"x\":[\"1952-09-01T00:00:00\",\"1952-10-01T00:00:00\"],\"y\":[\"0\",\"0\"],\"type\":\"scattergl\",\"showlegend\":false},{\"hoverinfo\":\"skip\",\"line\":{\"color\":\"#C0C0C0\"},\"mode\":\"lines+markers\",\"name\":\"Unchanged\",\"x\":[\"1952-10-01T00:00:00\",\"1952-11-01T00:00:00\"],\"y\":[\"0\",\"0\"],\"type\":\"scattergl\",\"showlegend\":false},{\"hoverinfo\":\"skip\",\"line\":{\"color\":\"#C0C0C0\"},\"mode\":\"lines+markers\",\"name\":\"Unchanged\",\"x\":[\"1952-11-01T00:00:00\",\"1952-12-01T00:00:00\"],\"y\":[\"0\",\"0\"],\"type\":\"scattergl\",\"showlegend\":false},{\"hoverinfo\":\"skip\",\"line\":{\"color\":\"#C0C0C0\"},\"mode\":\"lines+markers\",\"name\":\"Unchanged\",\"x\":[\"1952-12-01T00:00:00\",\"1953-01-01T00:00:00\"],\"y\":[\"0\",\"0\"],\"type\":\"scattergl\",\"showlegend\":false},{\"hoverinfo\":\"skip\",\"line\":{\"color\":\"#C0C0C0\"},\"mode\":\"lines+markers\",\"name\":\"Unchanged\",\"x\":[\"1953-01-01T00:00:00\",\"1953-02-01T00:00:00\"],\"y\":[\"0\",\"0\"],\"type\":\"scattergl\",\"showlegend\":false},{\"hoverinfo\":\"skip\",\"line\":{\"color\":\"#C0C0C0\"},\"mode\":\"lines+markers\",\"name\":\"Unchanged\",\"x\":[\"1953-02-01T00:00:00\",\"1953-03-01T00:00:00\"],\"y\":[\"0\",\"0\"],\"type\":\"scattergl\",\"showlegend\":false},{\"hoverinfo\":\"skip\",\"line\":{\"color\":\"#C0C0C0\"},\"mode\":\"lines+markers\",\"name\":\"Unchanged\",\"x\":[\"1953-03-01T00:00:00\",\"1953-04-01T00:00:00\"],\"y\":[\"0\",\"0\"],\"type\":\"scattergl\",\"showlegend\":false},{\"hoverinfo\":\"skip\",\"line\":{\"color\":\"#C0C0C0\"},\"mode\":\"lines+markers\",\"name\":\"Unchanged\",\"x\":[\"1953-04-01T00:00:00\",\"1953-05-01T00:00:00\"],\"y\":[\"0\",\"0\"],\"type\":\"scattergl\",\"showlegend\":false},{\"hoverinfo\":\"skip\",\"line\":{\"color\":\"#C0C0C0\"},\"mode\":\"lines+markers\",\"name\":\"Unchanged\",\"x\":[\"1953-05-01T00:00:00\",\"1953-06-01T00:00:00\"],\"y\":[\"0\",\"0\"],\"type\":\"scattergl\",\"showlegend\":false},{\"hoverinfo\":\"skip\",\"line\":{\"color\":\"#C0C0C0\"},\"mode\":\"lines+markers\",\"name\":\"Unchanged\",\"x\":[\"1953-06-01T00:00:00\",\"1953-07-01T00:00:00\"],\"y\":[\"0\",\"0\"],\"type\":\"scattergl\",\"showlegend\":false},{\"hoverinfo\":\"skip\",\"line\":{\"color\":\"#C0C0C0\"},\"mode\":\"lines+markers\",\"name\":\"Unchanged\",\"x\":[\"1953-07-01T00:00:00\",\"1953-08-01T00:00:00\"],\"y\":[\"0\",\"0\"],\"type\":\"scattergl\",\"showlegend\":false},{\"hoverinfo\":\"skip\",\"line\":{\"color\":\"#C0C0C0\"},\"mode\":\"lines+markers\",\"name\":\"Unchanged\",\"x\":[\"1953-08-01T00:00:00\",\"1953-09-01T00:00:00\"],\"y\":[\"0\",\"0\"],\"type\":\"scattergl\",\"showlegend\":false},{\"hoverinfo\":\"skip\",\"line\":{\"color\":\"#C0C0C0\"},\"mode\":\"lines+markers\",\"name\":\"Unchanged\",\"x\":[\"1953-09-01T00:00:00\",\"1953-10-01T00:00:00\"],\"y\":[\"0\",\"0\"],\"type\":\"scattergl\",\"showlegend\":false},{\"hoverinfo\":\"skip\",\"line\":{\"color\":\"#C0C0C0\"},\"mode\":\"lines+markers\",\"name\":\"Unchanged\",\"x\":[\"1953-10-01T00:00:00\",\"1953-11-01T00:00:00\"],\"y\":[\"0\",\"0\"],\"type\":\"scattergl\",\"showlegend\":false},{\"hoverinfo\":\"skip\",\"line\":{\"color\":\"#C0C0C0\"},\"mode\":\"lines+markers\",\"name\":\"Unchanged\",\"x\":[\"1953-11-01T00:00:00\",\"1953-12-01T00:00:00\"],\"y\":[\"0\",\"0\"],\"type\":\"scattergl\",\"showlegend\":false},{\"hoverinfo\":\"skip\",\"line\":{\"color\":\"#C0C0C0\"},\"mode\":\"lines+markers\",\"name\":\"Unchanged\",\"x\":[\"1953-12-01T00:00:00\",\"1954-01-01T00:00:00\"],\"y\":[\"0\",\"0\"],\"type\":\"scattergl\",\"showlegend\":false},{\"hoverinfo\":\"skip\",\"line\":{\"color\":\"#C0C0C0\"},\"mode\":\"lines+markers\",\"name\":\"Unchanged\",\"x\":[\"1954-01-01T00:00:00\",\"1954-02-01T00:00:00\"],\"y\":[\"0\",\"0\"],\"type\":\"scattergl\",\"showlegend\":false},{\"hoverinfo\":\"skip\",\"line\":{\"color\":\"#C0C0C0\"},\"mode\":\"lines+markers\",\"name\":\"Unchanged\",\"x\":[\"1954-02-01T00:00:00\",\"1954-03-01T00:00:00\"],\"y\":[\"0\",\"0\"],\"type\":\"scattergl\",\"showlegend\":false},{\"hoverinfo\":\"skip\",\"line\":{\"color\":\"#C0C0C0\"},\"mode\":\"lines+markers\",\"name\":\"Unchanged\",\"x\":[\"1954-03-01T00:00:00\",\"1954-04-01T00:00:00\"],\"y\":[\"0\",\"0\"],\"type\":\"scattergl\",\"showlegend\":false},{\"hoverinfo\":\"skip\",\"line\":{\"color\":\"#C0C0C0\"},\"mode\":\"lines+markers\",\"name\":\"Unchanged\",\"x\":[\"1954-04-01T00:00:00\",\"1954-05-01T00:00:00\"],\"y\":[\"0\",\"0\"],\"type\":\"scattergl\",\"showlegend\":false},{\"hoverinfo\":\"skip\",\"line\":{\"color\":\"#C0C0C0\"},\"mode\":\"lines+markers\",\"name\":\"Unchanged\",\"x\":[\"1954-05-01T00:00:00\",\"1954-06-01T00:00:00\"],\"y\":[\"0\",\"0\"],\"type\":\"scattergl\",\"showlegend\":false},{\"hoverinfo\":\"skip\",\"line\":{\"color\":\"#C0C0C0\"},\"mode\":\"lines+markers\",\"name\":\"Unchanged\",\"x\":[\"1954-06-01T00:00:00\",\"1954-07-01T00:00:00\"],\"y\":[\"0\",\"0\"],\"type\":\"scattergl\",\"showlegend\":false},{\"hoverinfo\":\"skip\",\"line\":{\"color\":\"#C0C0C0\"},\"mode\":\"lines+markers\",\"name\":\"Unchanged\",\"x\":[\"1954-07-01T00:00:00\",\"1954-08-01T00:00:00\"],\"y\":[\"0\",\"0\"],\"type\":\"scattergl\",\"showlegend\":false},{\"hoverinfo\":\"skip\",\"line\":{\"color\":\"#C0C0C0\"},\"mode\":\"lines+markers\",\"name\":\"Unchanged\",\"x\":[\"1954-08-01T00:00:00\",\"1954-09-01T00:00:00\"],\"y\":[\"0\",\"0\"],\"type\":\"scattergl\",\"showlegend\":false},{\"hoverinfo\":\"skip\",\"line\":{\"color\":\"#C0C0C0\"},\"mode\":\"lines+markers\",\"name\":\"Unchanged\",\"x\":[\"1954-09-01T00:00:00\",\"1954-10-01T00:00:00\"],\"y\":[\"0\",\"0\"],\"type\":\"scattergl\",\"showlegend\":false},{\"hoverinfo\":\"skip\",\"line\":{\"color\":\"#C0C0C0\"},\"mode\":\"lines+markers\",\"name\":\"Unchanged\",\"x\":[\"1954-10-01T00:00:00\",\"1954-11-01T00:00:00\"],\"y\":[\"0\",\"0\"],\"type\":\"scattergl\",\"showlegend\":false},{\"hoverinfo\":\"skip\",\"line\":{\"color\":\"#C0C0C0\"},\"mode\":\"lines+markers\",\"name\":\"Unchanged\",\"x\":[\"1954-11-01T00:00:00\",\"1954-12-01T00:00:00\"],\"y\":[\"0\",\"0\"],\"type\":\"scattergl\",\"showlegend\":false},{\"hoverinfo\":\"skip\",\"line\":{\"color\":\"#C0C0C0\"},\"mode\":\"lines+markers\",\"name\":\"Unchanged\",\"x\":[\"1954-12-01T00:00:00\",\"1955-01-01T00:00:00\"],\"y\":[\"0\",\"0\"],\"type\":\"scattergl\",\"showlegend\":false},{\"hoverinfo\":\"skip\",\"line\":{\"color\":\"#C0C0C0\"},\"mode\":\"lines+markers\",\"name\":\"Unchanged\",\"x\":[\"1955-01-01T00:00:00\",\"1955-02-01T00:00:00\"],\"y\":[\"0\",\"0\"],\"type\":\"scattergl\",\"showlegend\":false},{\"hoverinfo\":\"skip\",\"line\":{\"color\":\"#C0C0C0\"},\"mode\":\"lines+markers\",\"name\":\"Unchanged\",\"x\":[\"1955-02-01T00:00:00\",\"1955-03-01T00:00:00\"],\"y\":[\"0\",\"0\"],\"type\":\"scattergl\",\"showlegend\":false},{\"hoverinfo\":\"skip\",\"line\":{\"color\":\"#C0C0C0\"},\"mode\":\"lines+markers\",\"name\":\"Unchanged\",\"x\":[\"1955-03-01T00:00:00\",\"1955-04-01T00:00:00\"],\"y\":[\"0\",\"0\"],\"type\":\"scattergl\",\"showlegend\":false},{\"hoverinfo\":\"skip\",\"line\":{\"color\":\"#C0C0C0\"},\"mode\":\"lines+markers\",\"name\":\"Unchanged\",\"x\":[\"1955-04-01T00:00:00\",\"1955-05-01T00:00:00\"],\"y\":[\"0\",\"0\"],\"type\":\"scattergl\",\"showlegend\":false},{\"hoverinfo\":\"skip\",\"line\":{\"color\":\"#C0C0C0\"},\"mode\":\"lines+markers\",\"name\":\"Unchanged\",\"x\":[\"1955-05-01T00:00:00\",\"1955-06-01T00:00:00\"],\"y\":[\"0\",\"0\"],\"type\":\"scattergl\",\"showlegend\":false},{\"hoverinfo\":\"skip\",\"line\":{\"color\":\"#C0C0C0\"},\"mode\":\"lines+markers\",\"name\":\"Unchanged\",\"x\":[\"1955-06-01T00:00:00\",\"1955-07-01T00:00:00\"],\"y\":[\"0\",\"0\"],\"type\":\"scattergl\",\"showlegend\":false},{\"hoverinfo\":\"skip\",\"line\":{\"color\":\"#C0C0C0\"},\"mode\":\"lines+markers\",\"name\":\"Unchanged\",\"x\":[\"1955-07-01T00:00:00\",\"1955-08-01T00:00:00\"],\"y\":[\"0\",\"0\"],\"type\":\"scattergl\",\"showlegend\":false},{\"hoverinfo\":\"skip\",\"line\":{\"color\":\"#C0C0C0\"},\"mode\":\"lines+markers\",\"name\":\"Unchanged\",\"x\":[\"1955-08-01T00:00:00\",\"1955-09-01T00:00:00\"],\"y\":[\"0\",\"0\"],\"type\":\"scattergl\",\"showlegend\":false},{\"hoverinfo\":\"skip\",\"line\":{\"color\":\"#C0C0C0\"},\"mode\":\"lines+markers\",\"name\":\"Unchanged\",\"x\":[\"1955-09-01T00:00:00\",\"1955-10-01T00:00:00\"],\"y\":[\"0\",\"0\"],\"type\":\"scattergl\",\"showlegend\":false},{\"hoverinfo\":\"skip\",\"line\":{\"color\":\"#C0C0C0\"},\"mode\":\"lines+markers\",\"name\":\"Unchanged\",\"x\":[\"1955-10-01T00:00:00\",\"1955-11-01T00:00:00\"],\"y\":[\"0\",\"0\"],\"type\":\"scattergl\",\"showlegend\":false},{\"hoverinfo\":\"skip\",\"line\":{\"color\":\"#C0C0C0\"},\"mode\":\"lines+markers\",\"name\":\"Unchanged\",\"x\":[\"1955-11-01T00:00:00\",\"1955-12-01T00:00:00\"],\"y\":[\"0\",\"0\"],\"type\":\"scattergl\",\"showlegend\":false},{\"hoverinfo\":\"skip\",\"line\":{\"color\":\"#C0C0C0\"},\"mode\":\"lines+markers\",\"name\":\"Unchanged\",\"x\":[\"1955-12-01T00:00:00\",\"1956-01-01T00:00:00\"],\"y\":[\"0\",\"0\"],\"type\":\"scattergl\",\"showlegend\":false},{\"hoverinfo\":\"skip\",\"line\":{\"color\":\"#C0C0C0\"},\"mode\":\"lines+markers\",\"name\":\"Unchanged\",\"x\":[\"1956-01-01T00:00:00\",\"1956-02-01T00:00:00\"],\"y\":[\"0\",\"0\"],\"type\":\"scattergl\",\"showlegend\":false},{\"hoverinfo\":\"skip\",\"line\":{\"color\":\"#C0C0C0\"},\"mode\":\"lines+markers\",\"name\":\"Unchanged\",\"x\":[\"1956-02-01T00:00:00\",\"1956-03-01T00:00:00\"],\"y\":[\"0\",\"0\"],\"type\":\"scattergl\",\"showlegend\":false},{\"hoverinfo\":\"skip\",\"line\":{\"color\":\"#C0C0C0\"},\"mode\":\"lines+markers\",\"name\":\"Unchanged\",\"x\":[\"1956-03-01T00:00:00\",\"1956-04-01T00:00:00\"],\"y\":[\"0\",\"0\"],\"type\":\"scattergl\",\"showlegend\":false},{\"hoverinfo\":\"skip\",\"line\":{\"color\":\"#C0C0C0\"},\"mode\":\"lines+markers\",\"name\":\"Unchanged\",\"x\":[\"1956-04-01T00:00:00\",\"1956-05-01T00:00:00\"],\"y\":[\"0\",\"0\"],\"type\":\"scattergl\",\"showlegend\":false},{\"hoverinfo\":\"skip\",\"line\":{\"color\":\"#C0C0C0\"},\"mode\":\"lines+markers\",\"name\":\"Unchanged\",\"x\":[\"1956-05-01T00:00:00\",\"1956-06-01T00:00:00\"],\"y\":[\"0\",\"0\"],\"type\":\"scattergl\",\"showlegend\":false},{\"hoverinfo\":\"skip\",\"line\":{\"color\":\"#C0C0C0\"},\"mode\":\"lines+markers\",\"name\":\"Unchanged\",\"x\":[\"1956-06-01T00:00:00\",\"1956-07-01T00:00:00\"],\"y\":[\"0\",\"0\"],\"type\":\"scattergl\",\"showlegend\":false},{\"hoverinfo\":\"skip\",\"line\":{\"color\":\"#C0C0C0\"},\"mode\":\"lines+markers\",\"name\":\"Unchanged\",\"x\":[\"1956-07-01T00:00:00\",\"1956-08-01T00:00:00\"],\"y\":[\"0\",\"0\"],\"type\":\"scattergl\",\"showlegend\":false},{\"hoverinfo\":\"skip\",\"line\":{\"color\":\"#C0C0C0\"},\"mode\":\"lines+markers\",\"name\":\"Unchanged\",\"x\":[\"1956-08-01T00:00:00\",\"1956-09-01T00:00:00\"],\"y\":[\"0\",\"0\"],\"type\":\"scattergl\",\"showlegend\":false},{\"hoverinfo\":\"skip\",\"line\":{\"color\":\"#C0C0C0\"},\"mode\":\"lines+markers\",\"name\":\"Unchanged\",\"x\":[\"1956-09-01T00:00:00\",\"1956-10-01T00:00:00\"],\"y\":[\"0\",\"0\"],\"type\":\"scattergl\",\"showlegend\":false},{\"hoverinfo\":\"skip\",\"line\":{\"color\":\"#C0C0C0\"},\"mode\":\"lines+markers\",\"name\":\"Unchanged\",\"x\":[\"1956-10-01T00:00:00\",\"1956-11-01T00:00:00\"],\"y\":[\"0\",\"0\"],\"type\":\"scattergl\",\"showlegend\":false},{\"hoverinfo\":\"skip\",\"line\":{\"color\":\"#C0C0C0\"},\"mode\":\"lines+markers\",\"name\":\"Unchanged\",\"x\":[\"1956-11-01T00:00:00\",\"1956-12-01T00:00:00\"],\"y\":[\"0\",\"0\"],\"type\":\"scattergl\",\"showlegend\":false},{\"hoverinfo\":\"skip\",\"line\":{\"color\":\"#C0C0C0\"},\"mode\":\"lines+markers\",\"name\":\"Unchanged\",\"x\":[\"1956-12-01T00:00:00\",\"1957-01-01T00:00:00\"],\"y\":[\"0\",\"0\"],\"type\":\"scattergl\",\"showlegend\":false},{\"hoverinfo\":\"skip\",\"line\":{\"color\":\"#C0C0C0\"},\"mode\":\"lines+markers\",\"name\":\"Unchanged\",\"x\":[\"1957-01-01T00:00:00\",\"1957-02-01T00:00:00\"],\"y\":[\"0\",\"0\"],\"type\":\"scattergl\",\"showlegend\":false},{\"hoverinfo\":\"skip\",\"line\":{\"color\":\"#C0C0C0\"},\"mode\":\"lines+markers\",\"name\":\"Unchanged\",\"x\":[\"1957-02-01T00:00:00\",\"1957-03-01T00:00:00\"],\"y\":[\"0\",\"0\"],\"type\":\"scattergl\",\"showlegend\":false},{\"hoverinfo\":\"skip\",\"line\":{\"color\":\"#C0C0C0\"},\"mode\":\"lines+markers\",\"name\":\"Unchanged\",\"x\":[\"1957-03-01T00:00:00\",\"1957-04-01T00:00:00\"],\"y\":[\"0\",\"0\"],\"type\":\"scattergl\",\"showlegend\":false},{\"hoverinfo\":\"skip\",\"line\":{\"color\":\"#C0C0C0\"},\"mode\":\"lines+markers\",\"name\":\"Unchanged\",\"x\":[\"1957-04-01T00:00:00\",\"1957-05-01T00:00:00\"],\"y\":[\"0\",\"0\"],\"type\":\"scattergl\",\"showlegend\":false},{\"hoverinfo\":\"skip\",\"line\":{\"color\":\"#C0C0C0\"},\"mode\":\"lines+markers\",\"name\":\"Unchanged\",\"x\":[\"1957-05-01T00:00:00\",\"1957-06-01T00:00:00\"],\"y\":[\"0\",\"0\"],\"type\":\"scattergl\",\"showlegend\":false},{\"hoverinfo\":\"skip\",\"line\":{\"color\":\"#C0C0C0\"},\"mode\":\"lines+markers\",\"name\":\"Unchanged\",\"x\":[\"1957-06-01T00:00:00\",\"1957-07-01T00:00:00\"],\"y\":[\"0\",\"0\"],\"type\":\"scattergl\",\"showlegend\":false},{\"hoverinfo\":\"skip\",\"line\":{\"color\":\"#C0C0C0\"},\"mode\":\"lines+markers\",\"name\":\"Unchanged\",\"x\":[\"1957-07-01T00:00:00\",\"1957-08-01T00:00:00\"],\"y\":[\"0\",\"0\"],\"type\":\"scattergl\",\"showlegend\":false},{\"hoverinfo\":\"skip\",\"line\":{\"color\":\"#C0C0C0\"},\"mode\":\"lines+markers\",\"name\":\"Unchanged\",\"x\":[\"1957-08-01T00:00:00\",\"1957-09-01T00:00:00\"],\"y\":[\"0\",\"0\"],\"type\":\"scattergl\",\"showlegend\":false},{\"hoverinfo\":\"skip\",\"line\":{\"color\":\"#C0C0C0\"},\"mode\":\"lines+markers\",\"name\":\"Unchanged\",\"x\":[\"1957-09-01T00:00:00\",\"1957-10-01T00:00:00\"],\"y\":[\"0\",\"0\"],\"type\":\"scattergl\",\"showlegend\":false},{\"hoverinfo\":\"skip\",\"line\":{\"color\":\"#C0C0C0\"},\"mode\":\"lines+markers\",\"name\":\"Unchanged\",\"x\":[\"1957-10-01T00:00:00\",\"1957-11-01T00:00:00\"],\"y\":[\"0\",\"0\"],\"type\":\"scattergl\",\"showlegend\":false},{\"hoverinfo\":\"skip\",\"line\":{\"color\":\"#C0C0C0\"},\"mode\":\"lines+markers\",\"name\":\"Unchanged\",\"x\":[\"1957-11-01T00:00:00\",\"1957-12-01T00:00:00\"],\"y\":[\"0\",\"0\"],\"type\":\"scattergl\",\"showlegend\":false},{\"hoverinfo\":\"skip\",\"line\":{\"color\":\"#1f77b4\"},\"mode\":\"lines+markers\",\"name\":\"Train\",\"showlegend\":false,\"x\":[\"1949-01-01T00:00:00\",\"1949-02-01T00:00:00\"],\"y\":[\"0\",\"0\"],\"type\":\"scattergl\"},{\"hoverinfo\":\"skip\",\"line\":{\"color\":\"#1f77b4\"},\"mode\":\"lines+markers\",\"name\":\"Train\",\"showlegend\":false,\"x\":[\"1949-02-01T00:00:00\",\"1949-03-01T00:00:00\"],\"y\":[\"0\",\"0\"],\"type\":\"scattergl\"},{\"hoverinfo\":\"skip\",\"line\":{\"color\":\"#1f77b4\"},\"mode\":\"lines+markers\",\"name\":\"Train\",\"showlegend\":false,\"x\":[\"1949-03-01T00:00:00\",\"1949-04-01T00:00:00\"],\"y\":[\"0\",\"0\"],\"type\":\"scattergl\"},{\"hoverinfo\":\"skip\",\"line\":{\"color\":\"#1f77b4\"},\"mode\":\"lines+markers\",\"name\":\"Train\",\"showlegend\":false,\"x\":[\"1949-04-01T00:00:00\",\"1949-05-01T00:00:00\"],\"y\":[\"0\",\"0\"],\"type\":\"scattergl\"},{\"hoverinfo\":\"skip\",\"line\":{\"color\":\"#1f77b4\"},\"mode\":\"lines+markers\",\"name\":\"Train\",\"showlegend\":false,\"x\":[\"1949-05-01T00:00:00\",\"1949-06-01T00:00:00\"],\"y\":[\"0\",\"0\"],\"type\":\"scattergl\"},{\"hoverinfo\":\"skip\",\"line\":{\"color\":\"#1f77b4\"},\"mode\":\"lines+markers\",\"name\":\"Train\",\"showlegend\":false,\"x\":[\"1949-06-01T00:00:00\",\"1949-07-01T00:00:00\"],\"y\":[\"0\",\"0\"],\"type\":\"scattergl\"},{\"hoverinfo\":\"skip\",\"line\":{\"color\":\"#1f77b4\"},\"mode\":\"lines+markers\",\"name\":\"Train\",\"showlegend\":false,\"x\":[\"1949-07-01T00:00:00\",\"1949-08-01T00:00:00\"],\"y\":[\"0\",\"0\"],\"type\":\"scattergl\"},{\"hoverinfo\":\"skip\",\"line\":{\"color\":\"#1f77b4\"},\"mode\":\"lines+markers\",\"name\":\"Train\",\"showlegend\":false,\"x\":[\"1949-08-01T00:00:00\",\"1949-09-01T00:00:00\"],\"y\":[\"0\",\"0\"],\"type\":\"scattergl\"},{\"hoverinfo\":\"skip\",\"line\":{\"color\":\"#1f77b4\"},\"mode\":\"lines+markers\",\"name\":\"Train\",\"showlegend\":false,\"x\":[\"1949-09-01T00:00:00\",\"1949-10-01T00:00:00\"],\"y\":[\"0\",\"0\"],\"type\":\"scattergl\"},{\"hoverinfo\":\"skip\",\"line\":{\"color\":\"#1f77b4\"},\"mode\":\"lines+markers\",\"name\":\"Train\",\"showlegend\":false,\"x\":[\"1949-10-01T00:00:00\",\"1949-11-01T00:00:00\"],\"y\":[\"0\",\"0\"],\"type\":\"scattergl\"},{\"hoverinfo\":\"skip\",\"line\":{\"color\":\"#1f77b4\"},\"mode\":\"lines+markers\",\"name\":\"Train\",\"showlegend\":false,\"x\":[\"1949-11-01T00:00:00\",\"1949-12-01T00:00:00\"],\"y\":[\"0\",\"0\"],\"type\":\"scattergl\"},{\"hoverinfo\":\"skip\",\"line\":{\"color\":\"#1f77b4\"},\"mode\":\"lines+markers\",\"name\":\"Train\",\"showlegend\":false,\"x\":[\"1949-12-01T00:00:00\",\"1950-01-01T00:00:00\"],\"y\":[\"0\",\"0\"],\"type\":\"scattergl\"},{\"hoverinfo\":\"skip\",\"line\":{\"color\":\"#1f77b4\"},\"mode\":\"lines+markers\",\"name\":\"Train\",\"showlegend\":false,\"x\":[\"1950-01-01T00:00:00\",\"1950-02-01T00:00:00\"],\"y\":[\"0\",\"0\"],\"type\":\"scattergl\"},{\"hoverinfo\":\"skip\",\"line\":{\"color\":\"#1f77b4\"},\"mode\":\"lines+markers\",\"name\":\"Train\",\"showlegend\":false,\"x\":[\"1950-02-01T00:00:00\",\"1950-03-01T00:00:00\"],\"y\":[\"0\",\"0\"],\"type\":\"scattergl\"},{\"hoverinfo\":\"skip\",\"line\":{\"color\":\"#1f77b4\"},\"mode\":\"lines+markers\",\"name\":\"Train\",\"showlegend\":false,\"x\":[\"1950-03-01T00:00:00\",\"1950-04-01T00:00:00\"],\"y\":[\"0\",\"0\"],\"type\":\"scattergl\"},{\"hoverinfo\":\"skip\",\"line\":{\"color\":\"#1f77b4\"},\"mode\":\"lines+markers\",\"name\":\"Train\",\"showlegend\":false,\"x\":[\"1950-04-01T00:00:00\",\"1950-05-01T00:00:00\"],\"y\":[\"0\",\"0\"],\"type\":\"scattergl\"},{\"hoverinfo\":\"skip\",\"line\":{\"color\":\"#1f77b4\"},\"mode\":\"lines+markers\",\"name\":\"Train\",\"showlegend\":false,\"x\":[\"1950-05-01T00:00:00\",\"1950-06-01T00:00:00\"],\"y\":[\"0\",\"0\"],\"type\":\"scattergl\"},{\"hoverinfo\":\"skip\",\"line\":{\"color\":\"#1f77b4\"},\"mode\":\"lines+markers\",\"name\":\"Train\",\"showlegend\":false,\"x\":[\"1950-06-01T00:00:00\",\"1950-07-01T00:00:00\"],\"y\":[\"0\",\"0\"],\"type\":\"scattergl\"},{\"hoverinfo\":\"skip\",\"line\":{\"color\":\"#1f77b4\"},\"mode\":\"lines+markers\",\"name\":\"Train\",\"showlegend\":false,\"x\":[\"1950-07-01T00:00:00\",\"1950-08-01T00:00:00\"],\"y\":[\"0\",\"0\"],\"type\":\"scattergl\"},{\"hoverinfo\":\"skip\",\"line\":{\"color\":\"#1f77b4\"},\"mode\":\"lines+markers\",\"name\":\"Train\",\"showlegend\":false,\"x\":[\"1950-08-01T00:00:00\",\"1950-09-01T00:00:00\"],\"y\":[\"0\",\"0\"],\"type\":\"scattergl\"},{\"hoverinfo\":\"skip\",\"line\":{\"color\":\"#1f77b4\"},\"mode\":\"lines+markers\",\"name\":\"Train\",\"showlegend\":false,\"x\":[\"1950-09-01T00:00:00\",\"1950-10-01T00:00:00\"],\"y\":[\"0\",\"0\"],\"type\":\"scattergl\"},{\"hoverinfo\":\"skip\",\"line\":{\"color\":\"#1f77b4\"},\"mode\":\"lines+markers\",\"name\":\"Train\",\"showlegend\":false,\"x\":[\"1950-10-01T00:00:00\",\"1950-11-01T00:00:00\"],\"y\":[\"0\",\"0\"],\"type\":\"scattergl\"},{\"hoverinfo\":\"skip\",\"line\":{\"color\":\"#1f77b4\"},\"mode\":\"lines+markers\",\"name\":\"Train\",\"showlegend\":false,\"x\":[\"1950-11-01T00:00:00\",\"1950-12-01T00:00:00\"],\"y\":[\"0\",\"0\"],\"type\":\"scattergl\"},{\"hoverinfo\":\"skip\",\"line\":{\"color\":\"#1f77b4\"},\"mode\":\"lines+markers\",\"name\":\"Train\",\"showlegend\":false,\"x\":[\"1950-12-01T00:00:00\",\"1951-01-01T00:00:00\"],\"y\":[\"0\",\"0\"],\"type\":\"scattergl\"},{\"hoverinfo\":\"skip\",\"line\":{\"color\":\"#1f77b4\"},\"mode\":\"lines+markers\",\"name\":\"Train\",\"showlegend\":false,\"x\":[\"1951-01-01T00:00:00\",\"1951-02-01T00:00:00\"],\"y\":[\"0\",\"0\"],\"type\":\"scattergl\"},{\"hoverinfo\":\"skip\",\"line\":{\"color\":\"#1f77b4\"},\"mode\":\"lines+markers\",\"name\":\"Train\",\"showlegend\":false,\"x\":[\"1951-02-01T00:00:00\",\"1951-03-01T00:00:00\"],\"y\":[\"0\",\"0\"],\"type\":\"scattergl\"},{\"hoverinfo\":\"skip\",\"line\":{\"color\":\"#1f77b4\"},\"mode\":\"lines+markers\",\"name\":\"Train\",\"showlegend\":false,\"x\":[\"1951-03-01T00:00:00\",\"1951-04-01T00:00:00\"],\"y\":[\"0\",\"0\"],\"type\":\"scattergl\"},{\"hoverinfo\":\"skip\",\"line\":{\"color\":\"#1f77b4\"},\"mode\":\"lines+markers\",\"name\":\"Train\",\"showlegend\":false,\"x\":[\"1951-04-01T00:00:00\",\"1951-05-01T00:00:00\"],\"y\":[\"0\",\"0\"],\"type\":\"scattergl\"},{\"hoverinfo\":\"skip\",\"line\":{\"color\":\"#1f77b4\"},\"mode\":\"lines+markers\",\"name\":\"Train\",\"showlegend\":false,\"x\":[\"1951-05-01T00:00:00\",\"1951-06-01T00:00:00\"],\"y\":[\"0\",\"0\"],\"type\":\"scattergl\"},{\"hoverinfo\":\"skip\",\"line\":{\"color\":\"#1f77b4\"},\"mode\":\"lines+markers\",\"name\":\"Train\",\"showlegend\":false,\"x\":[\"1951-06-01T00:00:00\",\"1951-07-01T00:00:00\"],\"y\":[\"0\",\"0\"],\"type\":\"scattergl\"},{\"hoverinfo\":\"skip\",\"line\":{\"color\":\"#1f77b4\"},\"mode\":\"lines+markers\",\"name\":\"Train\",\"showlegend\":false,\"x\":[\"1951-07-01T00:00:00\",\"1951-08-01T00:00:00\"],\"y\":[\"0\",\"0\"],\"type\":\"scattergl\"},{\"hoverinfo\":\"skip\",\"line\":{\"color\":\"#1f77b4\"},\"mode\":\"lines+markers\",\"name\":\"Train\",\"showlegend\":false,\"x\":[\"1951-08-01T00:00:00\",\"1951-09-01T00:00:00\"],\"y\":[\"0\",\"0\"],\"type\":\"scattergl\"},{\"hoverinfo\":\"skip\",\"line\":{\"color\":\"#1f77b4\"},\"mode\":\"lines+markers\",\"name\":\"Train\",\"showlegend\":false,\"x\":[\"1951-09-01T00:00:00\",\"1951-10-01T00:00:00\"],\"y\":[\"0\",\"0\"],\"type\":\"scattergl\"},{\"hoverinfo\":\"skip\",\"line\":{\"color\":\"#1f77b4\"},\"mode\":\"lines+markers\",\"name\":\"Train\",\"showlegend\":false,\"x\":[\"1951-10-01T00:00:00\",\"1951-11-01T00:00:00\"],\"y\":[\"0\",\"0\"],\"type\":\"scattergl\"},{\"hoverinfo\":\"skip\",\"line\":{\"color\":\"#1f77b4\"},\"mode\":\"lines+markers\",\"name\":\"Train\",\"showlegend\":false,\"x\":[\"1951-11-01T00:00:00\",\"1951-12-01T00:00:00\"],\"y\":[\"0\",\"0\"],\"type\":\"scattergl\"},{\"hoverinfo\":\"skip\",\"line\":{\"color\":\"#1f77b4\"},\"mode\":\"lines+markers\",\"name\":\"Train\",\"showlegend\":false,\"x\":[\"1951-12-01T00:00:00\",\"1952-01-01T00:00:00\"],\"y\":[\"0\",\"0\"],\"type\":\"scattergl\"},{\"hoverinfo\":\"skip\",\"line\":{\"color\":\"#1f77b4\"},\"mode\":\"lines+markers\",\"name\":\"Train\",\"showlegend\":false,\"x\":[\"1952-01-01T00:00:00\",\"1952-02-01T00:00:00\"],\"y\":[\"0\",\"0\"],\"type\":\"scattergl\"},{\"hoverinfo\":\"skip\",\"line\":{\"color\":\"#1f77b4\"},\"mode\":\"lines+markers\",\"name\":\"Train\",\"showlegend\":false,\"x\":[\"1952-02-01T00:00:00\",\"1952-03-01T00:00:00\"],\"y\":[\"0\",\"0\"],\"type\":\"scattergl\"},{\"hoverinfo\":\"skip\",\"line\":{\"color\":\"#1f77b4\"},\"mode\":\"lines+markers\",\"name\":\"Train\",\"showlegend\":false,\"x\":[\"1952-03-01T00:00:00\",\"1952-04-01T00:00:00\"],\"y\":[\"0\",\"0\"],\"type\":\"scattergl\"},{\"hoverinfo\":\"skip\",\"line\":{\"color\":\"#1f77b4\"},\"mode\":\"lines+markers\",\"name\":\"Train\",\"showlegend\":false,\"x\":[\"1952-04-01T00:00:00\",\"1952-05-01T00:00:00\"],\"y\":[\"0\",\"0\"],\"type\":\"scattergl\"},{\"hoverinfo\":\"skip\",\"line\":{\"color\":\"#1f77b4\"},\"mode\":\"lines+markers\",\"name\":\"Train\",\"showlegend\":false,\"x\":[\"1952-05-01T00:00:00\",\"1952-06-01T00:00:00\"],\"y\":[\"0\",\"0\"],\"type\":\"scattergl\"},{\"hoverinfo\":\"skip\",\"line\":{\"color\":\"#1f77b4\"},\"mode\":\"lines+markers\",\"name\":\"Train\",\"showlegend\":false,\"x\":[\"1952-06-01T00:00:00\",\"1952-07-01T00:00:00\"],\"y\":[\"0\",\"0\"],\"type\":\"scattergl\"},{\"hoverinfo\":\"skip\",\"line\":{\"color\":\"#1f77b4\"},\"mode\":\"lines+markers\",\"name\":\"Train\",\"showlegend\":false,\"x\":[\"1952-07-01T00:00:00\",\"1952-08-01T00:00:00\"],\"y\":[\"0\",\"0\"],\"type\":\"scattergl\"},{\"hoverinfo\":\"skip\",\"line\":{\"color\":\"#1f77b4\"},\"mode\":\"lines+markers\",\"name\":\"Train\",\"showlegend\":false,\"x\":[\"1952-08-01T00:00:00\",\"1952-09-01T00:00:00\"],\"y\":[\"0\",\"0\"],\"type\":\"scattergl\"},{\"hoverinfo\":\"skip\",\"line\":{\"color\":\"#1f77b4\"},\"mode\":\"lines+markers\",\"name\":\"Train\",\"showlegend\":false,\"x\":[\"1952-09-01T00:00:00\",\"1952-10-01T00:00:00\"],\"y\":[\"0\",\"0\"],\"type\":\"scattergl\"},{\"hoverinfo\":\"skip\",\"line\":{\"color\":\"#1f77b4\"},\"mode\":\"lines+markers\",\"name\":\"Train\",\"showlegend\":false,\"x\":[\"1952-10-01T00:00:00\",\"1952-11-01T00:00:00\"],\"y\":[\"0\",\"0\"],\"type\":\"scattergl\"},{\"hoverinfo\":\"skip\",\"line\":{\"color\":\"#1f77b4\"},\"mode\":\"lines+markers\",\"name\":\"Train\",\"showlegend\":false,\"x\":[\"1952-11-01T00:00:00\",\"1952-12-01T00:00:00\"],\"y\":[\"0\",\"0\"],\"type\":\"scattergl\"},{\"hoverinfo\":\"skip\",\"line\":{\"color\":\"#DE970B\"},\"mode\":\"lines+markers\",\"name\":\"ForecastHorizon\",\"x\":[\"1955-01-01T00:00:00\",\"1955-02-01T00:00:00\"],\"y\":[\"0\",\"0\"],\"type\":\"scattergl\",\"showlegend\":false},{\"hoverinfo\":\"skip\",\"line\":{\"color\":\"#DE970B\"},\"mode\":\"lines+markers\",\"name\":\"ForecastHorizon\",\"x\":[\"1955-02-01T00:00:00\",\"1955-03-01T00:00:00\"],\"y\":[\"0\",\"0\"],\"type\":\"scattergl\",\"showlegend\":false},{\"hoverinfo\":\"skip\",\"line\":{\"color\":\"#DE970B\"},\"mode\":\"lines+markers\",\"name\":\"ForecastHorizon\",\"x\":[\"1955-03-01T00:00:00\",\"1955-04-01T00:00:00\"],\"y\":[\"0\",\"0\"],\"type\":\"scattergl\",\"showlegend\":false},{\"hoverinfo\":\"skip\",\"line\":{\"color\":\"#DE970B\"},\"mode\":\"lines+markers\",\"name\":\"ForecastHorizon\",\"x\":[\"1955-04-01T00:00:00\",\"1955-05-01T00:00:00\"],\"y\":[\"0\",\"0\"],\"type\":\"scattergl\",\"showlegend\":false},{\"hoverinfo\":\"skip\",\"line\":{\"color\":\"#DE970B\"},\"mode\":\"lines+markers\",\"name\":\"ForecastHorizon\",\"x\":[\"1955-05-01T00:00:00\",\"1955-06-01T00:00:00\"],\"y\":[\"0\",\"0\"],\"type\":\"scattergl\",\"showlegend\":false},{\"hoverinfo\":\"skip\",\"line\":{\"color\":\"#DE970B\"},\"mode\":\"lines+markers\",\"name\":\"ForecastHorizon\",\"x\":[\"1955-06-01T00:00:00\",\"1955-07-01T00:00:00\"],\"y\":[\"0\",\"0\"],\"type\":\"scattergl\",\"showlegend\":false},{\"hoverinfo\":\"skip\",\"line\":{\"color\":\"#DE970B\"},\"mode\":\"lines+markers\",\"name\":\"ForecastHorizon\",\"x\":[\"1955-07-01T00:00:00\",\"1955-08-01T00:00:00\"],\"y\":[\"0\",\"0\"],\"type\":\"scattergl\",\"showlegend\":false},{\"hoverinfo\":\"skip\",\"line\":{\"color\":\"#DE970B\"},\"mode\":\"lines+markers\",\"name\":\"ForecastHorizon\",\"x\":[\"1955-08-01T00:00:00\",\"1955-09-01T00:00:00\"],\"y\":[\"0\",\"0\"],\"type\":\"scattergl\",\"showlegend\":false},{\"hoverinfo\":\"skip\",\"line\":{\"color\":\"#DE970B\"},\"mode\":\"lines+markers\",\"name\":\"ForecastHorizon\",\"x\":[\"1955-09-01T00:00:00\",\"1955-10-01T00:00:00\"],\"y\":[\"0\",\"0\"],\"type\":\"scattergl\",\"showlegend\":false},{\"hoverinfo\":\"skip\",\"line\":{\"color\":\"#DE970B\"},\"mode\":\"lines+markers\",\"name\":\"ForecastHorizon\",\"x\":[\"1955-10-01T00:00:00\",\"1955-11-01T00:00:00\"],\"y\":[\"0\",\"0\"],\"type\":\"scattergl\",\"showlegend\":false},{\"hoverinfo\":\"skip\",\"line\":{\"color\":\"#DE970B\"},\"mode\":\"lines+markers\",\"name\":\"ForecastHorizon\",\"x\":[\"1955-11-01T00:00:00\",\"1955-12-01T00:00:00\"],\"y\":[\"0\",\"0\"],\"type\":\"scattergl\",\"showlegend\":false}],                        {\"template\":{\"data\":{\"barpolar\":[{\"marker\":{\"line\":{\"color\":\"rgb(237,237,237)\",\"width\":0.5},\"pattern\":{\"fillmode\":\"overlay\",\"size\":10,\"solidity\":0.2}},\"type\":\"barpolar\"}],\"bar\":[{\"error_x\":{\"color\":\"rgb(51,51,51)\"},\"error_y\":{\"color\":\"rgb(51,51,51)\"},\"marker\":{\"line\":{\"color\":\"rgb(237,237,237)\",\"width\":0.5},\"pattern\":{\"fillmode\":\"overlay\",\"size\":10,\"solidity\":0.2}},\"type\":\"bar\"}],\"carpet\":[{\"aaxis\":{\"endlinecolor\":\"rgb(51,51,51)\",\"gridcolor\":\"white\",\"linecolor\":\"white\",\"minorgridcolor\":\"white\",\"startlinecolor\":\"rgb(51,51,51)\"},\"baxis\":{\"endlinecolor\":\"rgb(51,51,51)\",\"gridcolor\":\"white\",\"linecolor\":\"white\",\"minorgridcolor\":\"white\",\"startlinecolor\":\"rgb(51,51,51)\"},\"type\":\"carpet\"}],\"choropleth\":[{\"colorbar\":{\"outlinewidth\":0,\"tickcolor\":\"rgb(237,237,237)\",\"ticklen\":6,\"ticks\":\"inside\"},\"type\":\"choropleth\"}],\"contourcarpet\":[{\"colorbar\":{\"outlinewidth\":0,\"tickcolor\":\"rgb(237,237,237)\",\"ticklen\":6,\"ticks\":\"inside\"},\"type\":\"contourcarpet\"}],\"contour\":[{\"colorbar\":{\"outlinewidth\":0,\"tickcolor\":\"rgb(237,237,237)\",\"ticklen\":6,\"ticks\":\"inside\"},\"colorscale\":[[0,\"rgb(20,44,66)\"],[1,\"rgb(90,179,244)\"]],\"type\":\"contour\"}],\"heatmapgl\":[{\"colorbar\":{\"outlinewidth\":0,\"tickcolor\":\"rgb(237,237,237)\",\"ticklen\":6,\"ticks\":\"inside\"},\"colorscale\":[[0,\"rgb(20,44,66)\"],[1,\"rgb(90,179,244)\"]],\"type\":\"heatmapgl\"}],\"heatmap\":[{\"colorbar\":{\"outlinewidth\":0,\"tickcolor\":\"rgb(237,237,237)\",\"ticklen\":6,\"ticks\":\"inside\"},\"colorscale\":[[0,\"rgb(20,44,66)\"],[1,\"rgb(90,179,244)\"]],\"type\":\"heatmap\"}],\"histogram2dcontour\":[{\"colorbar\":{\"outlinewidth\":0,\"tickcolor\":\"rgb(237,237,237)\",\"ticklen\":6,\"ticks\":\"inside\"},\"colorscale\":[[0,\"rgb(20,44,66)\"],[1,\"rgb(90,179,244)\"]],\"type\":\"histogram2dcontour\"}],\"histogram2d\":[{\"colorbar\":{\"outlinewidth\":0,\"tickcolor\":\"rgb(237,237,237)\",\"ticklen\":6,\"ticks\":\"inside\"},\"colorscale\":[[0,\"rgb(20,44,66)\"],[1,\"rgb(90,179,244)\"]],\"type\":\"histogram2d\"}],\"histogram\":[{\"marker\":{\"pattern\":{\"fillmode\":\"overlay\",\"size\":10,\"solidity\":0.2}},\"type\":\"histogram\"}],\"mesh3d\":[{\"colorbar\":{\"outlinewidth\":0,\"tickcolor\":\"rgb(237,237,237)\",\"ticklen\":6,\"ticks\":\"inside\"},\"type\":\"mesh3d\"}],\"parcoords\":[{\"line\":{\"colorbar\":{\"outlinewidth\":0,\"tickcolor\":\"rgb(237,237,237)\",\"ticklen\":6,\"ticks\":\"inside\"}},\"type\":\"parcoords\"}],\"pie\":[{\"automargin\":true,\"type\":\"pie\"}],\"scatter3d\":[{\"line\":{\"colorbar\":{\"outlinewidth\":0,\"tickcolor\":\"rgb(237,237,237)\",\"ticklen\":6,\"ticks\":\"inside\"}},\"marker\":{\"colorbar\":{\"outlinewidth\":0,\"tickcolor\":\"rgb(237,237,237)\",\"ticklen\":6,\"ticks\":\"inside\"}},\"type\":\"scatter3d\"}],\"scattercarpet\":[{\"marker\":{\"colorbar\":{\"outlinewidth\":0,\"tickcolor\":\"rgb(237,237,237)\",\"ticklen\":6,\"ticks\":\"inside\"}},\"type\":\"scattercarpet\"}],\"scattergeo\":[{\"marker\":{\"colorbar\":{\"outlinewidth\":0,\"tickcolor\":\"rgb(237,237,237)\",\"ticklen\":6,\"ticks\":\"inside\"}},\"type\":\"scattergeo\"}],\"scattergl\":[{\"marker\":{\"colorbar\":{\"outlinewidth\":0,\"tickcolor\":\"rgb(237,237,237)\",\"ticklen\":6,\"ticks\":\"inside\"}},\"type\":\"scattergl\"}],\"scattermapbox\":[{\"marker\":{\"colorbar\":{\"outlinewidth\":0,\"tickcolor\":\"rgb(237,237,237)\",\"ticklen\":6,\"ticks\":\"inside\"}},\"type\":\"scattermapbox\"}],\"scatterpolargl\":[{\"marker\":{\"colorbar\":{\"outlinewidth\":0,\"tickcolor\":\"rgb(237,237,237)\",\"ticklen\":6,\"ticks\":\"inside\"}},\"type\":\"scatterpolargl\"}],\"scatterpolar\":[{\"marker\":{\"colorbar\":{\"outlinewidth\":0,\"tickcolor\":\"rgb(237,237,237)\",\"ticklen\":6,\"ticks\":\"inside\"}},\"type\":\"scatterpolar\"}],\"scatter\":[{\"marker\":{\"colorbar\":{\"outlinewidth\":0,\"tickcolor\":\"rgb(237,237,237)\",\"ticklen\":6,\"ticks\":\"inside\"}},\"type\":\"scatter\"}],\"scatterternary\":[{\"marker\":{\"colorbar\":{\"outlinewidth\":0,\"tickcolor\":\"rgb(237,237,237)\",\"ticklen\":6,\"ticks\":\"inside\"}},\"type\":\"scatterternary\"}],\"surface\":[{\"colorbar\":{\"outlinewidth\":0,\"tickcolor\":\"rgb(237,237,237)\",\"ticklen\":6,\"ticks\":\"inside\"},\"colorscale\":[[0,\"rgb(20,44,66)\"],[1,\"rgb(90,179,244)\"]],\"type\":\"surface\"}],\"table\":[{\"cells\":{\"fill\":{\"color\":\"rgb(237,237,237)\"},\"line\":{\"color\":\"white\"}},\"header\":{\"fill\":{\"color\":\"rgb(217,217,217)\"},\"line\":{\"color\":\"white\"}},\"type\":\"table\"}]},\"layout\":{\"annotationdefaults\":{\"arrowhead\":0,\"arrowwidth\":1},\"autotypenumbers\":\"strict\",\"coloraxis\":{\"colorbar\":{\"outlinewidth\":0,\"tickcolor\":\"rgb(237,237,237)\",\"ticklen\":6,\"ticks\":\"inside\"}},\"colorscale\":{\"sequential\":[[0,\"rgb(20,44,66)\"],[1,\"rgb(90,179,244)\"]],\"sequentialminus\":[[0,\"rgb(20,44,66)\"],[1,\"rgb(90,179,244)\"]]},\"colorway\":[\"#F8766D\",\"#A3A500\",\"#00BF7D\",\"#00B0F6\",\"#E76BF3\"],\"font\":{\"color\":\"rgb(51,51,51)\"},\"geo\":{\"bgcolor\":\"white\",\"lakecolor\":\"white\",\"landcolor\":\"rgb(237,237,237)\",\"showlakes\":true,\"showland\":true,\"subunitcolor\":\"white\"},\"hoverlabel\":{\"align\":\"left\"},\"hovermode\":\"closest\",\"paper_bgcolor\":\"white\",\"plot_bgcolor\":\"rgb(237,237,237)\",\"polar\":{\"angularaxis\":{\"gridcolor\":\"white\",\"linecolor\":\"white\",\"showgrid\":true,\"tickcolor\":\"rgb(51,51,51)\",\"ticks\":\"outside\"},\"bgcolor\":\"rgb(237,237,237)\",\"radialaxis\":{\"gridcolor\":\"white\",\"linecolor\":\"white\",\"showgrid\":true,\"tickcolor\":\"rgb(51,51,51)\",\"ticks\":\"outside\"}},\"scene\":{\"xaxis\":{\"backgroundcolor\":\"rgb(237,237,237)\",\"gridcolor\":\"white\",\"gridwidth\":2,\"linecolor\":\"white\",\"showbackground\":true,\"showgrid\":true,\"tickcolor\":\"rgb(51,51,51)\",\"ticks\":\"outside\",\"zerolinecolor\":\"white\"},\"yaxis\":{\"backgroundcolor\":\"rgb(237,237,237)\",\"gridcolor\":\"white\",\"gridwidth\":2,\"linecolor\":\"white\",\"showbackground\":true,\"showgrid\":true,\"tickcolor\":\"rgb(51,51,51)\",\"ticks\":\"outside\",\"zerolinecolor\":\"white\"},\"zaxis\":{\"backgroundcolor\":\"rgb(237,237,237)\",\"gridcolor\":\"white\",\"gridwidth\":2,\"linecolor\":\"white\",\"showbackground\":true,\"showgrid\":true,\"tickcolor\":\"rgb(51,51,51)\",\"ticks\":\"outside\",\"zerolinecolor\":\"white\"}},\"shapedefaults\":{\"fillcolor\":\"black\",\"line\":{\"width\":0},\"opacity\":0.3},\"ternary\":{\"aaxis\":{\"gridcolor\":\"white\",\"linecolor\":\"white\",\"showgrid\":true,\"tickcolor\":\"rgb(51,51,51)\",\"ticks\":\"outside\"},\"baxis\":{\"gridcolor\":\"white\",\"linecolor\":\"white\",\"showgrid\":true,\"tickcolor\":\"rgb(51,51,51)\",\"ticks\":\"outside\"},\"bgcolor\":\"rgb(237,237,237)\",\"caxis\":{\"gridcolor\":\"white\",\"linecolor\":\"white\",\"showgrid\":true,\"tickcolor\":\"rgb(51,51,51)\",\"ticks\":\"outside\"}},\"xaxis\":{\"automargin\":true,\"gridcolor\":\"white\",\"linecolor\":\"white\",\"showgrid\":true,\"tickcolor\":\"rgb(51,51,51)\",\"ticks\":\"outside\",\"title\":{\"standoff\":15},\"zerolinecolor\":\"white\"},\"yaxis\":{\"automargin\":true,\"gridcolor\":\"white\",\"linecolor\":\"white\",\"showgrid\":true,\"tickcolor\":\"rgb(51,51,51)\",\"ticks\":\"outside\",\"title\":{\"standoff\":15},\"zerolinecolor\":\"white\"}}},\"xaxis\":{\"title\":{\"text\":\"Time\"},\"zeroline\":false},\"title\":{\"text\":\"Train Cross-Validation Splits\"},\"yaxis\":{\"title\":{\"text\":\"Windows\"}},\"showlegend\":true},                        {\"responsive\": true}                    ).then(function(){\n",
              "                            \n",
              "var gd = document.getElementById('fb3ae7ff-7cae-40f1-973c-06c7d290e7cf');\n",
              "var x = new MutationObserver(function (mutations, observer) {{\n",
              "        var display = window.getComputedStyle(gd).display;\n",
              "        if (!display || display === 'none') {{\n",
              "            console.log([gd, 'removed!']);\n",
              "            Plotly.purge(gd);\n",
              "            observer.disconnect();\n",
              "        }}\n",
              "}});\n",
              "\n",
              "// Listen for the removal of the full notebook cells\n",
              "var notebookContainer = gd.closest('#notebook-container');\n",
              "if (notebookContainer) {{\n",
              "    x.observe(notebookContainer, {childList: true});\n",
              "}}\n",
              "\n",
              "// Listen for the clearing of the current output cell\n",
              "var outputEl = gd.closest('.output');\n",
              "if (outputEl) {{\n",
              "    x.observe(outputEl, {childList: true});\n",
              "}}\n",
              "\n",
              "                        })                };                            </script>        </div>\n",
              "</body>\n",
              "</html>"
            ]
          },
          "metadata": {}
        }
      ]
    },
    {
      "cell_type": "markdown",
      "source": [
        "## Create initial model"
      ],
      "metadata": {
        "id": "iBOeflLtHL6X"
      }
    },
    {
      "cell_type": "code",
      "source": [
        "model = exp.create_model(\"exp_smooth\")"
      ],
      "metadata": {
        "colab": {
          "base_uri": "https://localhost:8080/",
          "height": 206,
          "referenced_widgets": [
            "3a84d867286f44908437694dd4c0a00a",
            "97f531b2bde04a699ed73f7385177081",
            "1e08a49759de4421916fd797b2679962",
            "deba23cced634a9384de8dfe949724e3",
            "e5c0ac1ce778421ea86d3a20909c98dc",
            "8b010672dce64b589100f4be1d7c7df6",
            "89642b76afa940f9affba21092432d48",
            "0caae0e110cc4dd9b2a36e44343ac9e9",
            "90defa7f2d054ab2be6a5f49ffecc780",
            "ecd665bc760e45d8a977d600bc3114a1",
            "3fe22a71bd9344df801349c6d10d6d9a"
          ]
        },
        "id": "Qy66f2ZH4ITH",
        "outputId": "04edc39d-c8f5-4443-da5a-b3aaec21f6ac"
      },
      "execution_count": 7,
      "outputs": [
        {
          "output_type": "display_data",
          "data": {
            "text/plain": [
              "<IPython.core.display.HTML object>"
            ],
            "text/html": []
          },
          "metadata": {}
        },
        {
          "output_type": "display_data",
          "data": {
            "text/plain": [
              "<pandas.io.formats.style.Styler at 0x7f1fc79a2a10>"
            ],
            "text/html": [
              "<style type=\"text/css\">\n",
              "#T_daed7_row3_col0, #T_daed7_row3_col1, #T_daed7_row3_col2, #T_daed7_row3_col3, #T_daed7_row3_col4, #T_daed7_row3_col5, #T_daed7_row3_col6, #T_daed7_row3_col7 {\n",
              "  background: yellow;\n",
              "}\n",
              "</style>\n",
              "<table id=\"T_daed7_\" class=\"dataframe\">\n",
              "  <thead>\n",
              "    <tr>\n",
              "      <th class=\"blank level0\" >&nbsp;</th>\n",
              "      <th class=\"col_heading level0 col0\" >cutoff</th>\n",
              "      <th class=\"col_heading level0 col1\" >MASE</th>\n",
              "      <th class=\"col_heading level0 col2\" >RMSSE</th>\n",
              "      <th class=\"col_heading level0 col3\" >MAE</th>\n",
              "      <th class=\"col_heading level0 col4\" >RMSE</th>\n",
              "      <th class=\"col_heading level0 col5\" >MAPE</th>\n",
              "      <th class=\"col_heading level0 col6\" >SMAPE</th>\n",
              "      <th class=\"col_heading level0 col7\" >R2</th>\n",
              "    </tr>\n",
              "  </thead>\n",
              "  <tbody>\n",
              "    <tr>\n",
              "      <th id=\"T_daed7_level0_row0\" class=\"row_heading level0 row0\" >0</th>\n",
              "      <td id=\"T_daed7_row0_col0\" class=\"data row0 col0\" >1952-12</td>\n",
              "      <td id=\"T_daed7_row0_col1\" class=\"data row0 col1\" >0.7461</td>\n",
              "      <td id=\"T_daed7_row0_col2\" class=\"data row0 col2\" >0.7932</td>\n",
              "      <td id=\"T_daed7_row0_col3\" class=\"data row0 col3\" >17.4909</td>\n",
              "      <td id=\"T_daed7_row0_col4\" class=\"data row0 col4\" >20.3933</td>\n",
              "      <td id=\"T_daed7_row0_col5\" class=\"data row0 col5\" >0.0591</td>\n",
              "      <td id=\"T_daed7_row0_col6\" class=\"data row0 col6\" >0.0605</td>\n",
              "      <td id=\"T_daed7_row0_col7\" class=\"data row0 col7\" >0.7445</td>\n",
              "    </tr>\n",
              "    <tr>\n",
              "      <th id=\"T_daed7_level0_row1\" class=\"row_heading level0 row1\" >1</th>\n",
              "      <td id=\"T_daed7_row1_col0\" class=\"data row1 col0\" >1953-12</td>\n",
              "      <td id=\"T_daed7_row1_col1\" class=\"data row1 col1\" >1.8869</td>\n",
              "      <td id=\"T_daed7_row1_col2\" class=\"data row1 col2\" >1.8304</td>\n",
              "      <td id=\"T_daed7_row1_col3\" class=\"data row1 col3\" >46.3860</td>\n",
              "      <td id=\"T_daed7_row1_col4\" class=\"data row1 col4\" >49.8012</td>\n",
              "      <td id=\"T_daed7_row1_col5\" class=\"data row1 col5\" >0.1376</td>\n",
              "      <td id=\"T_daed7_row1_col6\" class=\"data row1 col6\" >0.1486</td>\n",
              "      <td id=\"T_daed7_row1_col7\" class=\"data row1 col7\" >-0.1811</td>\n",
              "    </tr>\n",
              "    <tr>\n",
              "      <th id=\"T_daed7_level0_row2\" class=\"row_heading level0 row2\" >2</th>\n",
              "      <td id=\"T_daed7_row2_col0\" class=\"data row2 col0\" >1954-12</td>\n",
              "      <td id=\"T_daed7_row2_col1\" class=\"data row2 col1\" >2.5891</td>\n",
              "      <td id=\"T_daed7_row2_col2\" class=\"data row2 col2\" >2.4526</td>\n",
              "      <td id=\"T_daed7_row2_col3\" class=\"data row2 col3\" >59.5914</td>\n",
              "      <td id=\"T_daed7_row2_col4\" class=\"data row2 col4\" >63.4834</td>\n",
              "      <td id=\"T_daed7_row2_col5\" class=\"data row2 col5\" >0.1574</td>\n",
              "      <td id=\"T_daed7_row2_col6\" class=\"data row2 col6\" >0.1717</td>\n",
              "      <td id=\"T_daed7_row2_col7\" class=\"data row2 col7\" >-0.3119</td>\n",
              "    </tr>\n",
              "    <tr>\n",
              "      <th id=\"T_daed7_level0_row3\" class=\"row_heading level0 row3\" >Mean</th>\n",
              "      <td id=\"T_daed7_row3_col0\" class=\"data row3 col0\" >NaT</td>\n",
              "      <td id=\"T_daed7_row3_col1\" class=\"data row3 col1\" >1.7407</td>\n",
              "      <td id=\"T_daed7_row3_col2\" class=\"data row3 col2\" >1.6921</td>\n",
              "      <td id=\"T_daed7_row3_col3\" class=\"data row3 col3\" >41.1561</td>\n",
              "      <td id=\"T_daed7_row3_col4\" class=\"data row3 col4\" >44.5593</td>\n",
              "      <td id=\"T_daed7_row3_col5\" class=\"data row3 col5\" >0.1180</td>\n",
              "      <td id=\"T_daed7_row3_col6\" class=\"data row3 col6\" >0.1269</td>\n",
              "      <td id=\"T_daed7_row3_col7\" class=\"data row3 col7\" >0.0838</td>\n",
              "    </tr>\n",
              "    <tr>\n",
              "      <th id=\"T_daed7_level0_row4\" class=\"row_heading level0 row4\" >SD</th>\n",
              "      <td id=\"T_daed7_row4_col0\" class=\"data row4 col0\" >NaT</td>\n",
              "      <td id=\"T_daed7_row4_col1\" class=\"data row4 col1\" >0.7595</td>\n",
              "      <td id=\"T_daed7_row4_col2\" class=\"data row4 col2\" >0.6845</td>\n",
              "      <td id=\"T_daed7_row4_col3\" class=\"data row4 col3\" >17.5808</td>\n",
              "      <td id=\"T_daed7_row4_col4\" class=\"data row4 col4\" >17.9777</td>\n",
              "      <td id=\"T_daed7_row4_col5\" class=\"data row4 col5\" >0.0424</td>\n",
              "      <td id=\"T_daed7_row4_col6\" class=\"data row4 col6\" >0.0479</td>\n",
              "      <td id=\"T_daed7_row4_col7\" class=\"data row4 col7\" >0.4702</td>\n",
              "    </tr>\n",
              "  </tbody>\n",
              "</table>\n"
            ]
          },
          "metadata": {}
        },
        {
          "output_type": "display_data",
          "data": {
            "text/plain": [
              "Processing:   0%|          | 0/4 [00:00<?, ?it/s]"
            ],
            "application/vnd.jupyter.widget-view+json": {
              "version_major": 2,
              "version_minor": 0,
              "model_id": "3a84d867286f44908437694dd4c0a00a"
            }
          },
          "metadata": {
            "application/vnd.jupyter.widget-view+json": {
              "colab": {
                "custom_widget_manager": {
                  "url": "https://ssl.gstatic.com/colaboratory-static/widgets/colab-cdn-widget-manager/d2e234f7cc04bf79/manager.min.js"
                }
              }
            }
          }
        },
        {
          "output_type": "display_data",
          "data": {
            "text/plain": [
              "<IPython.core.display.HTML object>"
            ],
            "text/html": []
          },
          "metadata": {}
        }
      ]
    },
    {
      "cell_type": "code",
      "source": [
        "exp.predict_model(model)"
      ],
      "metadata": {
        "colab": {
          "base_uri": "https://localhost:8080/",
          "height": 489
        },
        "id": "igia8CNV4YeP",
        "outputId": "e24b1fb9-8a8f-47cc-93de-e9f2370d4c41"
      },
      "execution_count": 8,
      "outputs": [
        {
          "output_type": "display_data",
          "data": {
            "text/plain": [
              "<pandas.io.formats.style.Styler at 0x7f1fe81e1dd0>"
            ],
            "text/html": [
              "<style type=\"text/css\">\n",
              "</style>\n",
              "<table id=\"T_dca27_\" class=\"dataframe\">\n",
              "  <thead>\n",
              "    <tr>\n",
              "      <th class=\"blank level0\" >&nbsp;</th>\n",
              "      <th class=\"col_heading level0 col0\" >Model</th>\n",
              "      <th class=\"col_heading level0 col1\" >MASE</th>\n",
              "      <th class=\"col_heading level0 col2\" >RMSSE</th>\n",
              "      <th class=\"col_heading level0 col3\" >MAE</th>\n",
              "      <th class=\"col_heading level0 col4\" >RMSE</th>\n",
              "      <th class=\"col_heading level0 col5\" >MAPE</th>\n",
              "      <th class=\"col_heading level0 col6\" >SMAPE</th>\n",
              "      <th class=\"col_heading level0 col7\" >R2</th>\n",
              "    </tr>\n",
              "  </thead>\n",
              "  <tbody>\n",
              "    <tr>\n",
              "      <th id=\"T_dca27_level0_row0\" class=\"row_heading level0 row0\" >0</th>\n",
              "      <td id=\"T_dca27_row0_col0\" class=\"data row0 col0\" >Exponential Smoothing</td>\n",
              "      <td id=\"T_dca27_row0_col1\" class=\"data row0 col1\" >1.0811</td>\n",
              "      <td id=\"T_dca27_row0_col2\" class=\"data row0 col2\" >1.0873</td>\n",
              "      <td id=\"T_dca27_row0_col3\" class=\"data row0 col3\" >33.0538</td>\n",
              "      <td id=\"T_dca27_row0_col4\" class=\"data row0 col4\" >36.9116</td>\n",
              "      <td id=\"T_dca27_row0_col5\" class=\"data row0 col5\" >0.0666</td>\n",
              "      <td id=\"T_dca27_row0_col6\" class=\"data row0 col6\" >0.0689</td>\n",
              "      <td id=\"T_dca27_row0_col7\" class=\"data row0 col7\" >0.7540</td>\n",
              "    </tr>\n",
              "  </tbody>\n",
              "</table>\n"
            ]
          },
          "metadata": {}
        },
        {
          "output_type": "execute_result",
          "data": {
            "text/plain": [
              "           y_pred\n",
              "1960-01  395.3891\n",
              "1960-02  385.7858\n",
              "1960-03  446.9788\n",
              "1960-04  434.5038\n",
              "1960-05  435.8249\n",
              "1960-06  499.8495\n",
              "1960-07  553.7443\n",
              "1960-08  547.3038\n",
              "1960-09  480.4668\n",
              "1960-10  417.4197\n",
              "1960-11  364.8970\n",
              "1960-12  411.1484"
            ],
            "text/html": [
              "\n",
              "  <div id=\"df-02c53da5-d42c-4110-b8e8-ac1641d8c0bc\">\n",
              "    <div class=\"colab-df-container\">\n",
              "      <div>\n",
              "<style scoped>\n",
              "    .dataframe tbody tr th:only-of-type {\n",
              "        vertical-align: middle;\n",
              "    }\n",
              "\n",
              "    .dataframe tbody tr th {\n",
              "        vertical-align: top;\n",
              "    }\n",
              "\n",
              "    .dataframe thead th {\n",
              "        text-align: right;\n",
              "    }\n",
              "</style>\n",
              "<table border=\"1\" class=\"dataframe\">\n",
              "  <thead>\n",
              "    <tr style=\"text-align: right;\">\n",
              "      <th></th>\n",
              "      <th>y_pred</th>\n",
              "    </tr>\n",
              "  </thead>\n",
              "  <tbody>\n",
              "    <tr>\n",
              "      <th>1960-01</th>\n",
              "      <td>395.3891</td>\n",
              "    </tr>\n",
              "    <tr>\n",
              "      <th>1960-02</th>\n",
              "      <td>385.7858</td>\n",
              "    </tr>\n",
              "    <tr>\n",
              "      <th>1960-03</th>\n",
              "      <td>446.9788</td>\n",
              "    </tr>\n",
              "    <tr>\n",
              "      <th>1960-04</th>\n",
              "      <td>434.5038</td>\n",
              "    </tr>\n",
              "    <tr>\n",
              "      <th>1960-05</th>\n",
              "      <td>435.8249</td>\n",
              "    </tr>\n",
              "    <tr>\n",
              "      <th>1960-06</th>\n",
              "      <td>499.8495</td>\n",
              "    </tr>\n",
              "    <tr>\n",
              "      <th>1960-07</th>\n",
              "      <td>553.7443</td>\n",
              "    </tr>\n",
              "    <tr>\n",
              "      <th>1960-08</th>\n",
              "      <td>547.3038</td>\n",
              "    </tr>\n",
              "    <tr>\n",
              "      <th>1960-09</th>\n",
              "      <td>480.4668</td>\n",
              "    </tr>\n",
              "    <tr>\n",
              "      <th>1960-10</th>\n",
              "      <td>417.4197</td>\n",
              "    </tr>\n",
              "    <tr>\n",
              "      <th>1960-11</th>\n",
              "      <td>364.8970</td>\n",
              "    </tr>\n",
              "    <tr>\n",
              "      <th>1960-12</th>\n",
              "      <td>411.1484</td>\n",
              "    </tr>\n",
              "  </tbody>\n",
              "</table>\n",
              "</div>\n",
              "      <button class=\"colab-df-convert\" onclick=\"convertToInteractive('df-02c53da5-d42c-4110-b8e8-ac1641d8c0bc')\"\n",
              "              title=\"Convert this dataframe to an interactive table.\"\n",
              "              style=\"display:none;\">\n",
              "        \n",
              "  <svg xmlns=\"http://www.w3.org/2000/svg\" height=\"24px\"viewBox=\"0 0 24 24\"\n",
              "       width=\"24px\">\n",
              "    <path d=\"M0 0h24v24H0V0z\" fill=\"none\"/>\n",
              "    <path d=\"M18.56 5.44l.94 2.06.94-2.06 2.06-.94-2.06-.94-.94-2.06-.94 2.06-2.06.94zm-11 1L8.5 8.5l.94-2.06 2.06-.94-2.06-.94L8.5 2.5l-.94 2.06-2.06.94zm10 10l.94 2.06.94-2.06 2.06-.94-2.06-.94-.94-2.06-.94 2.06-2.06.94z\"/><path d=\"M17.41 7.96l-1.37-1.37c-.4-.4-.92-.59-1.43-.59-.52 0-1.04.2-1.43.59L10.3 9.45l-7.72 7.72c-.78.78-.78 2.05 0 2.83L4 21.41c.39.39.9.59 1.41.59.51 0 1.02-.2 1.41-.59l7.78-7.78 2.81-2.81c.8-.78.8-2.07 0-2.86zM5.41 20L4 18.59l7.72-7.72 1.47 1.35L5.41 20z\"/>\n",
              "  </svg>\n",
              "      </button>\n",
              "      \n",
              "  <style>\n",
              "    .colab-df-container {\n",
              "      display:flex;\n",
              "      flex-wrap:wrap;\n",
              "      gap: 12px;\n",
              "    }\n",
              "\n",
              "    .colab-df-convert {\n",
              "      background-color: #E8F0FE;\n",
              "      border: none;\n",
              "      border-radius: 50%;\n",
              "      cursor: pointer;\n",
              "      display: none;\n",
              "      fill: #1967D2;\n",
              "      height: 32px;\n",
              "      padding: 0 0 0 0;\n",
              "      width: 32px;\n",
              "    }\n",
              "\n",
              "    .colab-df-convert:hover {\n",
              "      background-color: #E2EBFA;\n",
              "      box-shadow: 0px 1px 2px rgba(60, 64, 67, 0.3), 0px 1px 3px 1px rgba(60, 64, 67, 0.15);\n",
              "      fill: #174EA6;\n",
              "    }\n",
              "\n",
              "    [theme=dark] .colab-df-convert {\n",
              "      background-color: #3B4455;\n",
              "      fill: #D2E3FC;\n",
              "    }\n",
              "\n",
              "    [theme=dark] .colab-df-convert:hover {\n",
              "      background-color: #434B5C;\n",
              "      box-shadow: 0px 1px 3px 1px rgba(0, 0, 0, 0.15);\n",
              "      filter: drop-shadow(0px 1px 2px rgba(0, 0, 0, 0.3));\n",
              "      fill: #FFFFFF;\n",
              "    }\n",
              "  </style>\n",
              "\n",
              "      <script>\n",
              "        const buttonEl =\n",
              "          document.querySelector('#df-02c53da5-d42c-4110-b8e8-ac1641d8c0bc button.colab-df-convert');\n",
              "        buttonEl.style.display =\n",
              "          google.colab.kernel.accessAllowed ? 'block' : 'none';\n",
              "\n",
              "        async function convertToInteractive(key) {\n",
              "          const element = document.querySelector('#df-02c53da5-d42c-4110-b8e8-ac1641d8c0bc');\n",
              "          const dataTable =\n",
              "            await google.colab.kernel.invokeFunction('convertToInteractive',\n",
              "                                                     [key], {});\n",
              "          if (!dataTable) return;\n",
              "\n",
              "          const docLinkHtml = 'Like what you see? Visit the ' +\n",
              "            '<a target=\"_blank\" href=https://colab.research.google.com/notebooks/data_table.ipynb>data table notebook</a>'\n",
              "            + ' to learn more about interactive tables.';\n",
              "          element.innerHTML = '';\n",
              "          dataTable['output_type'] = 'display_data';\n",
              "          await google.colab.output.renderOutput(dataTable, element);\n",
              "          const docLink = document.createElement('div');\n",
              "          docLink.innerHTML = docLinkHtml;\n",
              "          element.appendChild(docLink);\n",
              "        }\n",
              "      </script>\n",
              "    </div>\n",
              "  </div>\n",
              "  "
            ]
          },
          "metadata": {},
          "execution_count": 8
        }
      ]
    },
    {
      "cell_type": "code",
      "source": [
        "exp.plot_model(model)"
      ],
      "metadata": {
        "colab": {
          "base_uri": "https://localhost:8080/",
          "height": 542
        },
        "id": "5zYcjWf84jpf",
        "outputId": "c920cac8-c4bd-40cc-d65e-123790474ebf"
      },
      "execution_count": 9,
      "outputs": [
        {
          "output_type": "display_data",
          "data": {
            "text/html": [
              "<html>\n",
              "<head><meta charset=\"utf-8\" /></head>\n",
              "<body>\n",
              "    <div>            <script src=\"https://cdnjs.cloudflare.com/ajax/libs/mathjax/2.7.5/MathJax.js?config=TeX-AMS-MML_SVG\"></script><script type=\"text/javascript\">if (window.MathJax) {MathJax.Hub.Config({SVG: {font: \"STIX-Web\"}});}</script>                <script type=\"text/javascript\">window.PlotlyConfig = {MathJaxConfig: 'local'};</script>\n",
              "        <script src=\"https://cdn.plot.ly/plotly-2.8.3.min.js\"></script>                <div id=\"4876b988-bca6-4d18-9a4b-336966500b26\" class=\"plotly-graph-div\" style=\"height:525px; width:100%;\"></div>            <script type=\"text/javascript\">                                    window.PLOTLYENV=window.PLOTLYENV || {};                                    if (document.getElementById(\"4876b988-bca6-4d18-9a4b-336966500b26\")) {                    Plotly.newPlot(                        \"4876b988-bca6-4d18-9a4b-336966500b26\",                        [{\"line\":{\"color\":\"rgb(31, 119, 180)\",\"width\":2},\"marker\":{\"color\":\"rgb(31, 119, 180)\",\"size\":5},\"mode\":\"lines+markers\",\"name\":\"Number of airline passengers\",\"x\":[\"1949-01-01T00:00:00\",\"1949-02-01T00:00:00\",\"1949-03-01T00:00:00\",\"1949-04-01T00:00:00\",\"1949-05-01T00:00:00\",\"1949-06-01T00:00:00\",\"1949-07-01T00:00:00\",\"1949-08-01T00:00:00\",\"1949-09-01T00:00:00\",\"1949-10-01T00:00:00\",\"1949-11-01T00:00:00\",\"1949-12-01T00:00:00\",\"1950-01-01T00:00:00\",\"1950-02-01T00:00:00\",\"1950-03-01T00:00:00\",\"1950-04-01T00:00:00\",\"1950-05-01T00:00:00\",\"1950-06-01T00:00:00\",\"1950-07-01T00:00:00\",\"1950-08-01T00:00:00\",\"1950-09-01T00:00:00\",\"1950-10-01T00:00:00\",\"1950-11-01T00:00:00\",\"1950-12-01T00:00:00\",\"1951-01-01T00:00:00\",\"1951-02-01T00:00:00\",\"1951-03-01T00:00:00\",\"1951-04-01T00:00:00\",\"1951-05-01T00:00:00\",\"1951-06-01T00:00:00\",\"1951-07-01T00:00:00\",\"1951-08-01T00:00:00\",\"1951-09-01T00:00:00\",\"1951-10-01T00:00:00\",\"1951-11-01T00:00:00\",\"1951-12-01T00:00:00\",\"1952-01-01T00:00:00\",\"1952-02-01T00:00:00\",\"1952-03-01T00:00:00\",\"1952-04-01T00:00:00\",\"1952-05-01T00:00:00\",\"1952-06-01T00:00:00\",\"1952-07-01T00:00:00\",\"1952-08-01T00:00:00\",\"1952-09-01T00:00:00\",\"1952-10-01T00:00:00\",\"1952-11-01T00:00:00\",\"1952-12-01T00:00:00\",\"1953-01-01T00:00:00\",\"1953-02-01T00:00:00\",\"1953-03-01T00:00:00\",\"1953-04-01T00:00:00\",\"1953-05-01T00:00:00\",\"1953-06-01T00:00:00\",\"1953-07-01T00:00:00\",\"1953-08-01T00:00:00\",\"1953-09-01T00:00:00\",\"1953-10-01T00:00:00\",\"1953-11-01T00:00:00\",\"1953-12-01T00:00:00\",\"1954-01-01T00:00:00\",\"1954-02-01T00:00:00\",\"1954-03-01T00:00:00\",\"1954-04-01T00:00:00\",\"1954-05-01T00:00:00\",\"1954-06-01T00:00:00\",\"1954-07-01T00:00:00\",\"1954-08-01T00:00:00\",\"1954-09-01T00:00:00\",\"1954-10-01T00:00:00\",\"1954-11-01T00:00:00\",\"1954-12-01T00:00:00\",\"1955-01-01T00:00:00\",\"1955-02-01T00:00:00\",\"1955-03-01T00:00:00\",\"1955-04-01T00:00:00\",\"1955-05-01T00:00:00\",\"1955-06-01T00:00:00\",\"1955-07-01T00:00:00\",\"1955-08-01T00:00:00\",\"1955-09-01T00:00:00\",\"1955-10-01T00:00:00\",\"1955-11-01T00:00:00\",\"1955-12-01T00:00:00\",\"1956-01-01T00:00:00\",\"1956-02-01T00:00:00\",\"1956-03-01T00:00:00\",\"1956-04-01T00:00:00\",\"1956-05-01T00:00:00\",\"1956-06-01T00:00:00\",\"1956-07-01T00:00:00\",\"1956-08-01T00:00:00\",\"1956-09-01T00:00:00\",\"1956-10-01T00:00:00\",\"1956-11-01T00:00:00\",\"1956-12-01T00:00:00\",\"1957-01-01T00:00:00\",\"1957-02-01T00:00:00\",\"1957-03-01T00:00:00\",\"1957-04-01T00:00:00\",\"1957-05-01T00:00:00\",\"1957-06-01T00:00:00\",\"1957-07-01T00:00:00\",\"1957-08-01T00:00:00\",\"1957-09-01T00:00:00\",\"1957-10-01T00:00:00\",\"1957-11-01T00:00:00\",\"1957-12-01T00:00:00\",\"1958-01-01T00:00:00\",\"1958-02-01T00:00:00\",\"1958-03-01T00:00:00\",\"1958-04-01T00:00:00\",\"1958-05-01T00:00:00\",\"1958-06-01T00:00:00\",\"1958-07-01T00:00:00\",\"1958-08-01T00:00:00\",\"1958-09-01T00:00:00\",\"1958-10-01T00:00:00\",\"1958-11-01T00:00:00\",\"1958-12-01T00:00:00\",\"1959-01-01T00:00:00\",\"1959-02-01T00:00:00\",\"1959-03-01T00:00:00\",\"1959-04-01T00:00:00\",\"1959-05-01T00:00:00\",\"1959-06-01T00:00:00\",\"1959-07-01T00:00:00\",\"1959-08-01T00:00:00\",\"1959-09-01T00:00:00\",\"1959-10-01T00:00:00\",\"1959-11-01T00:00:00\",\"1959-12-01T00:00:00\",\"1960-01-01T00:00:00\",\"1960-02-01T00:00:00\",\"1960-03-01T00:00:00\",\"1960-04-01T00:00:00\",\"1960-05-01T00:00:00\",\"1960-06-01T00:00:00\",\"1960-07-01T00:00:00\",\"1960-08-01T00:00:00\",\"1960-09-01T00:00:00\",\"1960-10-01T00:00:00\",\"1960-11-01T00:00:00\",\"1960-12-01T00:00:00\"],\"y\":[112.0,118.0,132.0,129.0,121.0,135.0,148.0,148.0,136.0,119.0,104.0,118.0,115.0,126.0,141.0,135.0,125.0,149.0,170.0,170.0,158.0,133.0,114.0,140.0,145.0,150.0,178.0,163.0,172.0,178.0,199.0,199.0,184.0,162.0,146.0,166.0,171.0,180.0,193.0,181.0,183.0,218.0,230.0,242.0,209.0,191.0,172.0,194.0,196.0,196.0,236.0,235.0,229.0,243.0,264.0,272.0,237.0,211.0,180.0,201.0,204.0,188.0,235.0,227.0,234.0,264.0,302.0,293.0,259.0,229.0,203.0,229.0,242.0,233.0,267.0,269.0,270.0,315.0,364.0,347.0,312.0,274.0,237.0,278.0,284.0,277.0,317.0,313.0,318.0,374.0,413.0,405.0,355.0,306.0,271.0,306.0,315.0,301.0,356.0,348.0,355.0,422.0,465.0,467.0,404.0,347.0,305.0,336.0,340.0,318.0,362.0,348.0,363.0,435.0,491.0,505.0,404.0,359.0,310.0,337.0,360.0,342.0,406.0,396.0,420.0,472.0,548.0,559.0,463.0,407.0,362.0,405.0,417.0,391.0,419.0,461.0,472.0,535.0,622.0,606.0,508.0,461.0,390.0,432.0],\"type\":\"scattergl\",\"xaxis\":\"x\",\"yaxis\":\"y\"},{\"line\":{\"color\":\"rgb(255, 127, 14)\",\"width\":2},\"marker\":{\"color\":\"rgb(255, 127, 14)\",\"size\":5},\"mode\":\"lines+markers\",\"name\":\"Exponential Smoothing\",\"x\":[\"1949-01-01T00:00:00\",\"1949-02-01T00:00:00\",\"1949-03-01T00:00:00\",\"1949-04-01T00:00:00\",\"1949-05-01T00:00:00\",\"1949-06-01T00:00:00\",\"1949-07-01T00:00:00\",\"1949-08-01T00:00:00\",\"1949-09-01T00:00:00\",\"1949-10-01T00:00:00\",\"1949-11-01T00:00:00\",\"1949-12-01T00:00:00\",\"1950-01-01T00:00:00\",\"1950-02-01T00:00:00\",\"1950-03-01T00:00:00\",\"1950-04-01T00:00:00\",\"1950-05-01T00:00:00\",\"1950-06-01T00:00:00\",\"1950-07-01T00:00:00\",\"1950-08-01T00:00:00\",\"1950-09-01T00:00:00\",\"1950-10-01T00:00:00\",\"1950-11-01T00:00:00\",\"1950-12-01T00:00:00\",\"1951-01-01T00:00:00\",\"1951-02-01T00:00:00\",\"1951-03-01T00:00:00\",\"1951-04-01T00:00:00\",\"1951-05-01T00:00:00\",\"1951-06-01T00:00:00\",\"1951-07-01T00:00:00\",\"1951-08-01T00:00:00\",\"1951-09-01T00:00:00\",\"1951-10-01T00:00:00\",\"1951-11-01T00:00:00\",\"1951-12-01T00:00:00\",\"1952-01-01T00:00:00\",\"1952-02-01T00:00:00\",\"1952-03-01T00:00:00\",\"1952-04-01T00:00:00\",\"1952-05-01T00:00:00\",\"1952-06-01T00:00:00\",\"1952-07-01T00:00:00\",\"1952-08-01T00:00:00\",\"1952-09-01T00:00:00\",\"1952-10-01T00:00:00\",\"1952-11-01T00:00:00\",\"1952-12-01T00:00:00\",\"1953-01-01T00:00:00\",\"1953-02-01T00:00:00\",\"1953-03-01T00:00:00\",\"1953-04-01T00:00:00\",\"1953-05-01T00:00:00\",\"1953-06-01T00:00:00\",\"1953-07-01T00:00:00\",\"1953-08-01T00:00:00\",\"1953-09-01T00:00:00\",\"1953-10-01T00:00:00\",\"1953-11-01T00:00:00\",\"1953-12-01T00:00:00\",\"1954-01-01T00:00:00\",\"1954-02-01T00:00:00\",\"1954-03-01T00:00:00\",\"1954-04-01T00:00:00\",\"1954-05-01T00:00:00\",\"1954-06-01T00:00:00\",\"1954-07-01T00:00:00\",\"1954-08-01T00:00:00\",\"1954-09-01T00:00:00\",\"1954-10-01T00:00:00\",\"1954-11-01T00:00:00\",\"1954-12-01T00:00:00\",\"1955-01-01T00:00:00\",\"1955-02-01T00:00:00\",\"1955-03-01T00:00:00\",\"1955-04-01T00:00:00\",\"1955-05-01T00:00:00\",\"1955-06-01T00:00:00\",\"1955-07-01T00:00:00\",\"1955-08-01T00:00:00\",\"1955-09-01T00:00:00\",\"1955-10-01T00:00:00\",\"1955-11-01T00:00:00\",\"1955-12-01T00:00:00\",\"1956-01-01T00:00:00\",\"1956-02-01T00:00:00\",\"1956-03-01T00:00:00\",\"1956-04-01T00:00:00\",\"1956-05-01T00:00:00\",\"1956-06-01T00:00:00\",\"1956-07-01T00:00:00\",\"1956-08-01T00:00:00\",\"1956-09-01T00:00:00\",\"1956-10-01T00:00:00\",\"1956-11-01T00:00:00\",\"1956-12-01T00:00:00\",\"1957-01-01T00:00:00\",\"1957-02-01T00:00:00\",\"1957-03-01T00:00:00\",\"1957-04-01T00:00:00\",\"1957-05-01T00:00:00\",\"1957-06-01T00:00:00\",\"1957-07-01T00:00:00\",\"1957-08-01T00:00:00\",\"1957-09-01T00:00:00\",\"1957-10-01T00:00:00\",\"1957-11-01T00:00:00\",\"1957-12-01T00:00:00\",\"1958-01-01T00:00:00\",\"1958-02-01T00:00:00\",\"1958-03-01T00:00:00\",\"1958-04-01T00:00:00\",\"1958-05-01T00:00:00\",\"1958-06-01T00:00:00\",\"1958-07-01T00:00:00\",\"1958-08-01T00:00:00\",\"1958-09-01T00:00:00\",\"1958-10-01T00:00:00\",\"1958-11-01T00:00:00\",\"1958-12-01T00:00:00\",\"1959-01-01T00:00:00\",\"1959-02-01T00:00:00\",\"1959-03-01T00:00:00\",\"1959-04-01T00:00:00\",\"1959-05-01T00:00:00\",\"1959-06-01T00:00:00\",\"1959-07-01T00:00:00\",\"1959-08-01T00:00:00\",\"1959-09-01T00:00:00\",\"1959-10-01T00:00:00\",\"1959-11-01T00:00:00\",\"1959-12-01T00:00:00\",\"1960-01-01T00:00:00\",\"1960-02-01T00:00:00\",\"1960-03-01T00:00:00\",\"1960-04-01T00:00:00\",\"1960-05-01T00:00:00\",\"1960-06-01T00:00:00\",\"1960-07-01T00:00:00\",\"1960-08-01T00:00:00\",\"1960-09-01T00:00:00\",\"1960-10-01T00:00:00\",\"1960-11-01T00:00:00\",\"1960-12-01T00:00:00\"],\"y\":[null,null,null,null,null,null,null,null,null,null,null,null,null,null,null,null,null,null,null,null,null,null,null,null,null,null,null,null,null,null,null,null,null,null,null,null,null,null,null,null,null,null,null,null,null,null,null,null,null,null,null,null,null,null,null,null,null,null,null,null,null,null,null,null,null,null,null,null,null,null,null,null,null,null,null,null,null,null,null,null,null,null,null,null,null,null,null,null,null,null,null,null,null,null,null,null,null,null,null,null,null,null,null,null,null,null,null,null,null,null,null,null,null,null,null,null,null,null,null,null,null,null,null,null,null,null,null,null,null,null,null,null,395.3891,385.7858,446.9788,434.5038,435.8249,499.8495,553.7443,547.3038,480.4668,417.4197,364.897,411.1484],\"type\":\"scattergl\",\"xaxis\":\"x\",\"yaxis\":\"y\"}],                        {\"template\":{\"data\":{\"barpolar\":[{\"marker\":{\"line\":{\"color\":\"rgb(237,237,237)\",\"width\":0.5},\"pattern\":{\"fillmode\":\"overlay\",\"size\":10,\"solidity\":0.2}},\"type\":\"barpolar\"}],\"bar\":[{\"error_x\":{\"color\":\"rgb(51,51,51)\"},\"error_y\":{\"color\":\"rgb(51,51,51)\"},\"marker\":{\"line\":{\"color\":\"rgb(237,237,237)\",\"width\":0.5},\"pattern\":{\"fillmode\":\"overlay\",\"size\":10,\"solidity\":0.2}},\"type\":\"bar\"}],\"carpet\":[{\"aaxis\":{\"endlinecolor\":\"rgb(51,51,51)\",\"gridcolor\":\"white\",\"linecolor\":\"white\",\"minorgridcolor\":\"white\",\"startlinecolor\":\"rgb(51,51,51)\"},\"baxis\":{\"endlinecolor\":\"rgb(51,51,51)\",\"gridcolor\":\"white\",\"linecolor\":\"white\",\"minorgridcolor\":\"white\",\"startlinecolor\":\"rgb(51,51,51)\"},\"type\":\"carpet\"}],\"choropleth\":[{\"colorbar\":{\"outlinewidth\":0,\"tickcolor\":\"rgb(237,237,237)\",\"ticklen\":6,\"ticks\":\"inside\"},\"type\":\"choropleth\"}],\"contourcarpet\":[{\"colorbar\":{\"outlinewidth\":0,\"tickcolor\":\"rgb(237,237,237)\",\"ticklen\":6,\"ticks\":\"inside\"},\"type\":\"contourcarpet\"}],\"contour\":[{\"colorbar\":{\"outlinewidth\":0,\"tickcolor\":\"rgb(237,237,237)\",\"ticklen\":6,\"ticks\":\"inside\"},\"colorscale\":[[0,\"rgb(20,44,66)\"],[1,\"rgb(90,179,244)\"]],\"type\":\"contour\"}],\"heatmapgl\":[{\"colorbar\":{\"outlinewidth\":0,\"tickcolor\":\"rgb(237,237,237)\",\"ticklen\":6,\"ticks\":\"inside\"},\"colorscale\":[[0,\"rgb(20,44,66)\"],[1,\"rgb(90,179,244)\"]],\"type\":\"heatmapgl\"}],\"heatmap\":[{\"colorbar\":{\"outlinewidth\":0,\"tickcolor\":\"rgb(237,237,237)\",\"ticklen\":6,\"ticks\":\"inside\"},\"colorscale\":[[0,\"rgb(20,44,66)\"],[1,\"rgb(90,179,244)\"]],\"type\":\"heatmap\"}],\"histogram2dcontour\":[{\"colorbar\":{\"outlinewidth\":0,\"tickcolor\":\"rgb(237,237,237)\",\"ticklen\":6,\"ticks\":\"inside\"},\"colorscale\":[[0,\"rgb(20,44,66)\"],[1,\"rgb(90,179,244)\"]],\"type\":\"histogram2dcontour\"}],\"histogram2d\":[{\"colorbar\":{\"outlinewidth\":0,\"tickcolor\":\"rgb(237,237,237)\",\"ticklen\":6,\"ticks\":\"inside\"},\"colorscale\":[[0,\"rgb(20,44,66)\"],[1,\"rgb(90,179,244)\"]],\"type\":\"histogram2d\"}],\"histogram\":[{\"marker\":{\"pattern\":{\"fillmode\":\"overlay\",\"size\":10,\"solidity\":0.2}},\"type\":\"histogram\"}],\"mesh3d\":[{\"colorbar\":{\"outlinewidth\":0,\"tickcolor\":\"rgb(237,237,237)\",\"ticklen\":6,\"ticks\":\"inside\"},\"type\":\"mesh3d\"}],\"parcoords\":[{\"line\":{\"colorbar\":{\"outlinewidth\":0,\"tickcolor\":\"rgb(237,237,237)\",\"ticklen\":6,\"ticks\":\"inside\"}},\"type\":\"parcoords\"}],\"pie\":[{\"automargin\":true,\"type\":\"pie\"}],\"scatter3d\":[{\"line\":{\"colorbar\":{\"outlinewidth\":0,\"tickcolor\":\"rgb(237,237,237)\",\"ticklen\":6,\"ticks\":\"inside\"}},\"marker\":{\"colorbar\":{\"outlinewidth\":0,\"tickcolor\":\"rgb(237,237,237)\",\"ticklen\":6,\"ticks\":\"inside\"}},\"type\":\"scatter3d\"}],\"scattercarpet\":[{\"marker\":{\"colorbar\":{\"outlinewidth\":0,\"tickcolor\":\"rgb(237,237,237)\",\"ticklen\":6,\"ticks\":\"inside\"}},\"type\":\"scattercarpet\"}],\"scattergeo\":[{\"marker\":{\"colorbar\":{\"outlinewidth\":0,\"tickcolor\":\"rgb(237,237,237)\",\"ticklen\":6,\"ticks\":\"inside\"}},\"type\":\"scattergeo\"}],\"scattergl\":[{\"marker\":{\"colorbar\":{\"outlinewidth\":0,\"tickcolor\":\"rgb(237,237,237)\",\"ticklen\":6,\"ticks\":\"inside\"}},\"type\":\"scattergl\"}],\"scattermapbox\":[{\"marker\":{\"colorbar\":{\"outlinewidth\":0,\"tickcolor\":\"rgb(237,237,237)\",\"ticklen\":6,\"ticks\":\"inside\"}},\"type\":\"scattermapbox\"}],\"scatterpolargl\":[{\"marker\":{\"colorbar\":{\"outlinewidth\":0,\"tickcolor\":\"rgb(237,237,237)\",\"ticklen\":6,\"ticks\":\"inside\"}},\"type\":\"scatterpolargl\"}],\"scatterpolar\":[{\"marker\":{\"colorbar\":{\"outlinewidth\":0,\"tickcolor\":\"rgb(237,237,237)\",\"ticklen\":6,\"ticks\":\"inside\"}},\"type\":\"scatterpolar\"}],\"scatter\":[{\"marker\":{\"colorbar\":{\"outlinewidth\":0,\"tickcolor\":\"rgb(237,237,237)\",\"ticklen\":6,\"ticks\":\"inside\"}},\"type\":\"scatter\"}],\"scatterternary\":[{\"marker\":{\"colorbar\":{\"outlinewidth\":0,\"tickcolor\":\"rgb(237,237,237)\",\"ticklen\":6,\"ticks\":\"inside\"}},\"type\":\"scatterternary\"}],\"surface\":[{\"colorbar\":{\"outlinewidth\":0,\"tickcolor\":\"rgb(237,237,237)\",\"ticklen\":6,\"ticks\":\"inside\"},\"colorscale\":[[0,\"rgb(20,44,66)\"],[1,\"rgb(90,179,244)\"]],\"type\":\"surface\"}],\"table\":[{\"cells\":{\"fill\":{\"color\":\"rgb(237,237,237)\"},\"line\":{\"color\":\"white\"}},\"header\":{\"fill\":{\"color\":\"rgb(217,217,217)\"},\"line\":{\"color\":\"white\"}},\"type\":\"table\"}]},\"layout\":{\"annotationdefaults\":{\"arrowhead\":0,\"arrowwidth\":1},\"autotypenumbers\":\"strict\",\"coloraxis\":{\"colorbar\":{\"outlinewidth\":0,\"tickcolor\":\"rgb(237,237,237)\",\"ticklen\":6,\"ticks\":\"inside\"}},\"colorscale\":{\"sequential\":[[0,\"rgb(20,44,66)\"],[1,\"rgb(90,179,244)\"]],\"sequentialminus\":[[0,\"rgb(20,44,66)\"],[1,\"rgb(90,179,244)\"]]},\"colorway\":[\"#F8766D\",\"#A3A500\",\"#00BF7D\",\"#00B0F6\",\"#E76BF3\"],\"font\":{\"color\":\"rgb(51,51,51)\"},\"geo\":{\"bgcolor\":\"white\",\"lakecolor\":\"white\",\"landcolor\":\"rgb(237,237,237)\",\"showlakes\":true,\"showland\":true,\"subunitcolor\":\"white\"},\"hoverlabel\":{\"align\":\"left\"},\"hovermode\":\"closest\",\"paper_bgcolor\":\"white\",\"plot_bgcolor\":\"rgb(237,237,237)\",\"polar\":{\"angularaxis\":{\"gridcolor\":\"white\",\"linecolor\":\"white\",\"showgrid\":true,\"tickcolor\":\"rgb(51,51,51)\",\"ticks\":\"outside\"},\"bgcolor\":\"rgb(237,237,237)\",\"radialaxis\":{\"gridcolor\":\"white\",\"linecolor\":\"white\",\"showgrid\":true,\"tickcolor\":\"rgb(51,51,51)\",\"ticks\":\"outside\"}},\"scene\":{\"xaxis\":{\"backgroundcolor\":\"rgb(237,237,237)\",\"gridcolor\":\"white\",\"gridwidth\":2,\"linecolor\":\"white\",\"showbackground\":true,\"showgrid\":true,\"tickcolor\":\"rgb(51,51,51)\",\"ticks\":\"outside\",\"zerolinecolor\":\"white\"},\"yaxis\":{\"backgroundcolor\":\"rgb(237,237,237)\",\"gridcolor\":\"white\",\"gridwidth\":2,\"linecolor\":\"white\",\"showbackground\":true,\"showgrid\":true,\"tickcolor\":\"rgb(51,51,51)\",\"ticks\":\"outside\",\"zerolinecolor\":\"white\"},\"zaxis\":{\"backgroundcolor\":\"rgb(237,237,237)\",\"gridcolor\":\"white\",\"gridwidth\":2,\"linecolor\":\"white\",\"showbackground\":true,\"showgrid\":true,\"tickcolor\":\"rgb(51,51,51)\",\"ticks\":\"outside\",\"zerolinecolor\":\"white\"}},\"shapedefaults\":{\"fillcolor\":\"black\",\"line\":{\"width\":0},\"opacity\":0.3},\"ternary\":{\"aaxis\":{\"gridcolor\":\"white\",\"linecolor\":\"white\",\"showgrid\":true,\"tickcolor\":\"rgb(51,51,51)\",\"ticks\":\"outside\"},\"baxis\":{\"gridcolor\":\"white\",\"linecolor\":\"white\",\"showgrid\":true,\"tickcolor\":\"rgb(51,51,51)\",\"ticks\":\"outside\"},\"bgcolor\":\"rgb(237,237,237)\",\"caxis\":{\"gridcolor\":\"white\",\"linecolor\":\"white\",\"showgrid\":true,\"tickcolor\":\"rgb(51,51,51)\",\"ticks\":\"outside\"}},\"xaxis\":{\"automargin\":true,\"gridcolor\":\"white\",\"linecolor\":\"white\",\"showgrid\":true,\"tickcolor\":\"rgb(51,51,51)\",\"ticks\":\"outside\",\"title\":{\"standoff\":15},\"zerolinecolor\":\"white\"},\"yaxis\":{\"automargin\":true,\"gridcolor\":\"white\",\"linecolor\":\"white\",\"showgrid\":true,\"tickcolor\":\"rgb(51,51,51)\",\"ticks\":\"outside\",\"title\":{\"standoff\":15},\"zerolinecolor\":\"white\"}}},\"xaxis\":{\"anchor\":\"y\",\"domain\":[0.0,1.0]},\"yaxis\":{\"anchor\":\"x\",\"domain\":[0.0,1.0]},\"showlegend\":true,\"title\":{\"text\":\"Actual vs. Forecast (Out-of-Sample)\"}},                        {\"responsive\": true}                    ).then(function(){\n",
              "                            \n",
              "var gd = document.getElementById('4876b988-bca6-4d18-9a4b-336966500b26');\n",
              "var x = new MutationObserver(function (mutations, observer) {{\n",
              "        var display = window.getComputedStyle(gd).display;\n",
              "        if (!display || display === 'none') {{\n",
              "            console.log([gd, 'removed!']);\n",
              "            Plotly.purge(gd);\n",
              "            observer.disconnect();\n",
              "        }}\n",
              "}});\n",
              "\n",
              "// Listen for the removal of the full notebook cells\n",
              "var notebookContainer = gd.closest('#notebook-container');\n",
              "if (notebookContainer) {{\n",
              "    x.observe(notebookContainer, {childList: true});\n",
              "}}\n",
              "\n",
              "// Listen for the clearing of the current output cell\n",
              "var outputEl = gd.closest('.output');\n",
              "if (outputEl) {{\n",
              "    x.observe(outputEl, {childList: true});\n",
              "}}\n",
              "\n",
              "                        })                };                            </script>        </div>\n",
              "</body>\n",
              "</html>"
            ]
          },
          "metadata": {}
        }
      ]
    },
    {
      "cell_type": "markdown",
      "source": [
        "## Finalize model for future forecasts"
      ],
      "metadata": {
        "id": "AV6WqhjOHQjm"
      }
    },
    {
      "cell_type": "code",
      "source": [
        "final_model = exp.finalize_model(model)"
      ],
      "metadata": {
        "id": "nvZg6n854on_"
      },
      "execution_count": 10,
      "outputs": []
    },
    {
      "cell_type": "code",
      "source": [
        "exp.predict_model(final_model)"
      ],
      "metadata": {
        "colab": {
          "base_uri": "https://localhost:8080/",
          "height": 426
        },
        "id": "pbGeHJY55HVR",
        "outputId": "954a3fc9-8230-41e5-8bd8-ec75baf18be9"
      },
      "execution_count": 11,
      "outputs": [
        {
          "output_type": "execute_result",
          "data": {
            "text/plain": [
              "           y_pred\n",
              "1963-01  502.8998\n",
              "1963-02  472.0935\n",
              "1963-03  524.9226\n",
              "1963-04  558.0248\n",
              "1963-05  569.5504\n",
              "1963-06  645.6045\n",
              "1963-07  746.8351\n",
              "1963-08  736.6254\n",
              "1963-09  614.6349\n",
              "1963-10  548.7697\n",
              "1963-11  466.8023\n",
              "1963-12  516.6550"
            ],
            "text/html": [
              "\n",
              "  <div id=\"df-4b945f9f-80f6-4cfd-b6e5-8884b04828a4\">\n",
              "    <div class=\"colab-df-container\">\n",
              "      <div>\n",
              "<style scoped>\n",
              "    .dataframe tbody tr th:only-of-type {\n",
              "        vertical-align: middle;\n",
              "    }\n",
              "\n",
              "    .dataframe tbody tr th {\n",
              "        vertical-align: top;\n",
              "    }\n",
              "\n",
              "    .dataframe thead th {\n",
              "        text-align: right;\n",
              "    }\n",
              "</style>\n",
              "<table border=\"1\" class=\"dataframe\">\n",
              "  <thead>\n",
              "    <tr style=\"text-align: right;\">\n",
              "      <th></th>\n",
              "      <th>y_pred</th>\n",
              "    </tr>\n",
              "  </thead>\n",
              "  <tbody>\n",
              "    <tr>\n",
              "      <th>1963-01</th>\n",
              "      <td>502.8998</td>\n",
              "    </tr>\n",
              "    <tr>\n",
              "      <th>1963-02</th>\n",
              "      <td>472.0935</td>\n",
              "    </tr>\n",
              "    <tr>\n",
              "      <th>1963-03</th>\n",
              "      <td>524.9226</td>\n",
              "    </tr>\n",
              "    <tr>\n",
              "      <th>1963-04</th>\n",
              "      <td>558.0248</td>\n",
              "    </tr>\n",
              "    <tr>\n",
              "      <th>1963-05</th>\n",
              "      <td>569.5504</td>\n",
              "    </tr>\n",
              "    <tr>\n",
              "      <th>1963-06</th>\n",
              "      <td>645.6045</td>\n",
              "    </tr>\n",
              "    <tr>\n",
              "      <th>1963-07</th>\n",
              "      <td>746.8351</td>\n",
              "    </tr>\n",
              "    <tr>\n",
              "      <th>1963-08</th>\n",
              "      <td>736.6254</td>\n",
              "    </tr>\n",
              "    <tr>\n",
              "      <th>1963-09</th>\n",
              "      <td>614.6349</td>\n",
              "    </tr>\n",
              "    <tr>\n",
              "      <th>1963-10</th>\n",
              "      <td>548.7697</td>\n",
              "    </tr>\n",
              "    <tr>\n",
              "      <th>1963-11</th>\n",
              "      <td>466.8023</td>\n",
              "    </tr>\n",
              "    <tr>\n",
              "      <th>1963-12</th>\n",
              "      <td>516.6550</td>\n",
              "    </tr>\n",
              "  </tbody>\n",
              "</table>\n",
              "</div>\n",
              "      <button class=\"colab-df-convert\" onclick=\"convertToInteractive('df-4b945f9f-80f6-4cfd-b6e5-8884b04828a4')\"\n",
              "              title=\"Convert this dataframe to an interactive table.\"\n",
              "              style=\"display:none;\">\n",
              "        \n",
              "  <svg xmlns=\"http://www.w3.org/2000/svg\" height=\"24px\"viewBox=\"0 0 24 24\"\n",
              "       width=\"24px\">\n",
              "    <path d=\"M0 0h24v24H0V0z\" fill=\"none\"/>\n",
              "    <path d=\"M18.56 5.44l.94 2.06.94-2.06 2.06-.94-2.06-.94-.94-2.06-.94 2.06-2.06.94zm-11 1L8.5 8.5l.94-2.06 2.06-.94-2.06-.94L8.5 2.5l-.94 2.06-2.06.94zm10 10l.94 2.06.94-2.06 2.06-.94-2.06-.94-.94-2.06-.94 2.06-2.06.94z\"/><path d=\"M17.41 7.96l-1.37-1.37c-.4-.4-.92-.59-1.43-.59-.52 0-1.04.2-1.43.59L10.3 9.45l-7.72 7.72c-.78.78-.78 2.05 0 2.83L4 21.41c.39.39.9.59 1.41.59.51 0 1.02-.2 1.41-.59l7.78-7.78 2.81-2.81c.8-.78.8-2.07 0-2.86zM5.41 20L4 18.59l7.72-7.72 1.47 1.35L5.41 20z\"/>\n",
              "  </svg>\n",
              "      </button>\n",
              "      \n",
              "  <style>\n",
              "    .colab-df-container {\n",
              "      display:flex;\n",
              "      flex-wrap:wrap;\n",
              "      gap: 12px;\n",
              "    }\n",
              "\n",
              "    .colab-df-convert {\n",
              "      background-color: #E8F0FE;\n",
              "      border: none;\n",
              "      border-radius: 50%;\n",
              "      cursor: pointer;\n",
              "      display: none;\n",
              "      fill: #1967D2;\n",
              "      height: 32px;\n",
              "      padding: 0 0 0 0;\n",
              "      width: 32px;\n",
              "    }\n",
              "\n",
              "    .colab-df-convert:hover {\n",
              "      background-color: #E2EBFA;\n",
              "      box-shadow: 0px 1px 2px rgba(60, 64, 67, 0.3), 0px 1px 3px 1px rgba(60, 64, 67, 0.15);\n",
              "      fill: #174EA6;\n",
              "    }\n",
              "\n",
              "    [theme=dark] .colab-df-convert {\n",
              "      background-color: #3B4455;\n",
              "      fill: #D2E3FC;\n",
              "    }\n",
              "\n",
              "    [theme=dark] .colab-df-convert:hover {\n",
              "      background-color: #434B5C;\n",
              "      box-shadow: 0px 1px 3px 1px rgba(0, 0, 0, 0.15);\n",
              "      filter: drop-shadow(0px 1px 2px rgba(0, 0, 0, 0.3));\n",
              "      fill: #FFFFFF;\n",
              "    }\n",
              "  </style>\n",
              "\n",
              "      <script>\n",
              "        const buttonEl =\n",
              "          document.querySelector('#df-4b945f9f-80f6-4cfd-b6e5-8884b04828a4 button.colab-df-convert');\n",
              "        buttonEl.style.display =\n",
              "          google.colab.kernel.accessAllowed ? 'block' : 'none';\n",
              "\n",
              "        async function convertToInteractive(key) {\n",
              "          const element = document.querySelector('#df-4b945f9f-80f6-4cfd-b6e5-8884b04828a4');\n",
              "          const dataTable =\n",
              "            await google.colab.kernel.invokeFunction('convertToInteractive',\n",
              "                                                     [key], {});\n",
              "          if (!dataTable) return;\n",
              "\n",
              "          const docLinkHtml = 'Like what you see? Visit the ' +\n",
              "            '<a target=\"_blank\" href=https://colab.research.google.com/notebooks/data_table.ipynb>data table notebook</a>'\n",
              "            + ' to learn more about interactive tables.';\n",
              "          element.innerHTML = '';\n",
              "          dataTable['output_type'] = 'display_data';\n",
              "          await google.colab.output.renderOutput(dataTable, element);\n",
              "          const docLink = document.createElement('div');\n",
              "          docLink.innerHTML = docLinkHtml;\n",
              "          element.appendChild(docLink);\n",
              "        }\n",
              "      </script>\n",
              "    </div>\n",
              "  </div>\n",
              "  "
            ]
          },
          "metadata": {},
          "execution_count": 11
        }
      ]
    },
    {
      "cell_type": "code",
      "source": [
        "exp.plot_model(final_model)"
      ],
      "metadata": {
        "colab": {
          "base_uri": "https://localhost:8080/",
          "height": 542
        },
        "id": "urdWhFpn5Av4",
        "outputId": "b0d7ee8b-fce6-4517-e321-a52e35e4ee67"
      },
      "execution_count": 12,
      "outputs": [
        {
          "output_type": "display_data",
          "data": {
            "text/html": [
              "<html>\n",
              "<head><meta charset=\"utf-8\" /></head>\n",
              "<body>\n",
              "    <div>            <script src=\"https://cdnjs.cloudflare.com/ajax/libs/mathjax/2.7.5/MathJax.js?config=TeX-AMS-MML_SVG\"></script><script type=\"text/javascript\">if (window.MathJax) {MathJax.Hub.Config({SVG: {font: \"STIX-Web\"}});}</script>                <script type=\"text/javascript\">window.PlotlyConfig = {MathJaxConfig: 'local'};</script>\n",
              "        <script src=\"https://cdn.plot.ly/plotly-2.8.3.min.js\"></script>                <div id=\"b0902217-7047-4195-9d04-d286e52bf14f\" class=\"plotly-graph-div\" style=\"height:525px; width:100%;\"></div>            <script type=\"text/javascript\">                                    window.PLOTLYENV=window.PLOTLYENV || {};                                    if (document.getElementById(\"b0902217-7047-4195-9d04-d286e52bf14f\")) {                    Plotly.newPlot(                        \"b0902217-7047-4195-9d04-d286e52bf14f\",                        [{\"line\":{\"color\":\"rgb(31, 119, 180)\",\"width\":2},\"marker\":{\"color\":\"rgb(31, 119, 180)\",\"size\":5},\"mode\":\"lines+markers\",\"name\":\"Number of airline passengers\",\"x\":[\"1949-01-01T00:00:00\",\"1949-02-01T00:00:00\",\"1949-03-01T00:00:00\",\"1949-04-01T00:00:00\",\"1949-05-01T00:00:00\",\"1949-06-01T00:00:00\",\"1949-07-01T00:00:00\",\"1949-08-01T00:00:00\",\"1949-09-01T00:00:00\",\"1949-10-01T00:00:00\",\"1949-11-01T00:00:00\",\"1949-12-01T00:00:00\",\"1950-01-01T00:00:00\",\"1950-02-01T00:00:00\",\"1950-03-01T00:00:00\",\"1950-04-01T00:00:00\",\"1950-05-01T00:00:00\",\"1950-06-01T00:00:00\",\"1950-07-01T00:00:00\",\"1950-08-01T00:00:00\",\"1950-09-01T00:00:00\",\"1950-10-01T00:00:00\",\"1950-11-01T00:00:00\",\"1950-12-01T00:00:00\",\"1951-01-01T00:00:00\",\"1951-02-01T00:00:00\",\"1951-03-01T00:00:00\",\"1951-04-01T00:00:00\",\"1951-05-01T00:00:00\",\"1951-06-01T00:00:00\",\"1951-07-01T00:00:00\",\"1951-08-01T00:00:00\",\"1951-09-01T00:00:00\",\"1951-10-01T00:00:00\",\"1951-11-01T00:00:00\",\"1951-12-01T00:00:00\",\"1952-01-01T00:00:00\",\"1952-02-01T00:00:00\",\"1952-03-01T00:00:00\",\"1952-04-01T00:00:00\",\"1952-05-01T00:00:00\",\"1952-06-01T00:00:00\",\"1952-07-01T00:00:00\",\"1952-08-01T00:00:00\",\"1952-09-01T00:00:00\",\"1952-10-01T00:00:00\",\"1952-11-01T00:00:00\",\"1952-12-01T00:00:00\",\"1953-01-01T00:00:00\",\"1953-02-01T00:00:00\",\"1953-03-01T00:00:00\",\"1953-04-01T00:00:00\",\"1953-05-01T00:00:00\",\"1953-06-01T00:00:00\",\"1953-07-01T00:00:00\",\"1953-08-01T00:00:00\",\"1953-09-01T00:00:00\",\"1953-10-01T00:00:00\",\"1953-11-01T00:00:00\",\"1953-12-01T00:00:00\",\"1954-01-01T00:00:00\",\"1954-02-01T00:00:00\",\"1954-03-01T00:00:00\",\"1954-04-01T00:00:00\",\"1954-05-01T00:00:00\",\"1954-06-01T00:00:00\",\"1954-07-01T00:00:00\",\"1954-08-01T00:00:00\",\"1954-09-01T00:00:00\",\"1954-10-01T00:00:00\",\"1954-11-01T00:00:00\",\"1954-12-01T00:00:00\",\"1955-01-01T00:00:00\",\"1955-02-01T00:00:00\",\"1955-03-01T00:00:00\",\"1955-04-01T00:00:00\",\"1955-05-01T00:00:00\",\"1955-06-01T00:00:00\",\"1955-07-01T00:00:00\",\"1955-08-01T00:00:00\",\"1955-09-01T00:00:00\",\"1955-10-01T00:00:00\",\"1955-11-01T00:00:00\",\"1955-12-01T00:00:00\",\"1956-01-01T00:00:00\",\"1956-02-01T00:00:00\",\"1956-03-01T00:00:00\",\"1956-04-01T00:00:00\",\"1956-05-01T00:00:00\",\"1956-06-01T00:00:00\",\"1956-07-01T00:00:00\",\"1956-08-01T00:00:00\",\"1956-09-01T00:00:00\",\"1956-10-01T00:00:00\",\"1956-11-01T00:00:00\",\"1956-12-01T00:00:00\",\"1957-01-01T00:00:00\",\"1957-02-01T00:00:00\",\"1957-03-01T00:00:00\",\"1957-04-01T00:00:00\",\"1957-05-01T00:00:00\",\"1957-06-01T00:00:00\",\"1957-07-01T00:00:00\",\"1957-08-01T00:00:00\",\"1957-09-01T00:00:00\",\"1957-10-01T00:00:00\",\"1957-11-01T00:00:00\",\"1957-12-01T00:00:00\",\"1958-01-01T00:00:00\",\"1958-02-01T00:00:00\",\"1958-03-01T00:00:00\",\"1958-04-01T00:00:00\",\"1958-05-01T00:00:00\",\"1958-06-01T00:00:00\",\"1958-07-01T00:00:00\",\"1958-08-01T00:00:00\",\"1958-09-01T00:00:00\",\"1958-10-01T00:00:00\",\"1958-11-01T00:00:00\",\"1958-12-01T00:00:00\",\"1959-01-01T00:00:00\",\"1959-02-01T00:00:00\",\"1959-03-01T00:00:00\",\"1959-04-01T00:00:00\",\"1959-05-01T00:00:00\",\"1959-06-01T00:00:00\",\"1959-07-01T00:00:00\",\"1959-08-01T00:00:00\",\"1959-09-01T00:00:00\",\"1959-10-01T00:00:00\",\"1959-11-01T00:00:00\",\"1959-12-01T00:00:00\",\"1960-01-01T00:00:00\",\"1960-02-01T00:00:00\",\"1960-03-01T00:00:00\",\"1960-04-01T00:00:00\",\"1960-05-01T00:00:00\",\"1960-06-01T00:00:00\",\"1960-07-01T00:00:00\",\"1960-08-01T00:00:00\",\"1960-09-01T00:00:00\",\"1960-10-01T00:00:00\",\"1960-11-01T00:00:00\",\"1960-12-01T00:00:00\",\"1963-01-01T00:00:00\",\"1963-02-01T00:00:00\",\"1963-03-01T00:00:00\",\"1963-04-01T00:00:00\",\"1963-05-01T00:00:00\",\"1963-06-01T00:00:00\",\"1963-07-01T00:00:00\",\"1963-08-01T00:00:00\",\"1963-09-01T00:00:00\",\"1963-10-01T00:00:00\",\"1963-11-01T00:00:00\",\"1963-12-01T00:00:00\"],\"y\":[112.0,118.0,132.0,129.0,121.0,135.0,148.0,148.0,136.0,119.0,104.0,118.0,115.0,126.0,141.0,135.0,125.0,149.0,170.0,170.0,158.0,133.0,114.0,140.0,145.0,150.0,178.0,163.0,172.0,178.0,199.0,199.0,184.0,162.0,146.0,166.0,171.0,180.0,193.0,181.0,183.0,218.0,230.0,242.0,209.0,191.0,172.0,194.0,196.0,196.0,236.0,235.0,229.0,243.0,264.0,272.0,237.0,211.0,180.0,201.0,204.0,188.0,235.0,227.0,234.0,264.0,302.0,293.0,259.0,229.0,203.0,229.0,242.0,233.0,267.0,269.0,270.0,315.0,364.0,347.0,312.0,274.0,237.0,278.0,284.0,277.0,317.0,313.0,318.0,374.0,413.0,405.0,355.0,306.0,271.0,306.0,315.0,301.0,356.0,348.0,355.0,422.0,465.0,467.0,404.0,347.0,305.0,336.0,340.0,318.0,362.0,348.0,363.0,435.0,491.0,505.0,404.0,359.0,310.0,337.0,360.0,342.0,406.0,396.0,420.0,472.0,548.0,559.0,463.0,407.0,362.0,405.0,417.0,391.0,419.0,461.0,472.0,535.0,622.0,606.0,508.0,461.0,390.0,432.0,null,null,null,null,null,null,null,null,null,null,null,null],\"type\":\"scattergl\",\"xaxis\":\"x\",\"yaxis\":\"y\"},{\"line\":{\"color\":\"rgb(255, 127, 14)\",\"width\":2},\"marker\":{\"color\":\"rgb(255, 127, 14)\",\"size\":5},\"mode\":\"lines+markers\",\"name\":\"Exponential Smoothing\",\"x\":[\"1949-01-01T00:00:00\",\"1949-02-01T00:00:00\",\"1949-03-01T00:00:00\",\"1949-04-01T00:00:00\",\"1949-05-01T00:00:00\",\"1949-06-01T00:00:00\",\"1949-07-01T00:00:00\",\"1949-08-01T00:00:00\",\"1949-09-01T00:00:00\",\"1949-10-01T00:00:00\",\"1949-11-01T00:00:00\",\"1949-12-01T00:00:00\",\"1950-01-01T00:00:00\",\"1950-02-01T00:00:00\",\"1950-03-01T00:00:00\",\"1950-04-01T00:00:00\",\"1950-05-01T00:00:00\",\"1950-06-01T00:00:00\",\"1950-07-01T00:00:00\",\"1950-08-01T00:00:00\",\"1950-09-01T00:00:00\",\"1950-10-01T00:00:00\",\"1950-11-01T00:00:00\",\"1950-12-01T00:00:00\",\"1951-01-01T00:00:00\",\"1951-02-01T00:00:00\",\"1951-03-01T00:00:00\",\"1951-04-01T00:00:00\",\"1951-05-01T00:00:00\",\"1951-06-01T00:00:00\",\"1951-07-01T00:00:00\",\"1951-08-01T00:00:00\",\"1951-09-01T00:00:00\",\"1951-10-01T00:00:00\",\"1951-11-01T00:00:00\",\"1951-12-01T00:00:00\",\"1952-01-01T00:00:00\",\"1952-02-01T00:00:00\",\"1952-03-01T00:00:00\",\"1952-04-01T00:00:00\",\"1952-05-01T00:00:00\",\"1952-06-01T00:00:00\",\"1952-07-01T00:00:00\",\"1952-08-01T00:00:00\",\"1952-09-01T00:00:00\",\"1952-10-01T00:00:00\",\"1952-11-01T00:00:00\",\"1952-12-01T00:00:00\",\"1953-01-01T00:00:00\",\"1953-02-01T00:00:00\",\"1953-03-01T00:00:00\",\"1953-04-01T00:00:00\",\"1953-05-01T00:00:00\",\"1953-06-01T00:00:00\",\"1953-07-01T00:00:00\",\"1953-08-01T00:00:00\",\"1953-09-01T00:00:00\",\"1953-10-01T00:00:00\",\"1953-11-01T00:00:00\",\"1953-12-01T00:00:00\",\"1954-01-01T00:00:00\",\"1954-02-01T00:00:00\",\"1954-03-01T00:00:00\",\"1954-04-01T00:00:00\",\"1954-05-01T00:00:00\",\"1954-06-01T00:00:00\",\"1954-07-01T00:00:00\",\"1954-08-01T00:00:00\",\"1954-09-01T00:00:00\",\"1954-10-01T00:00:00\",\"1954-11-01T00:00:00\",\"1954-12-01T00:00:00\",\"1955-01-01T00:00:00\",\"1955-02-01T00:00:00\",\"1955-03-01T00:00:00\",\"1955-04-01T00:00:00\",\"1955-05-01T00:00:00\",\"1955-06-01T00:00:00\",\"1955-07-01T00:00:00\",\"1955-08-01T00:00:00\",\"1955-09-01T00:00:00\",\"1955-10-01T00:00:00\",\"1955-11-01T00:00:00\",\"1955-12-01T00:00:00\",\"1956-01-01T00:00:00\",\"1956-02-01T00:00:00\",\"1956-03-01T00:00:00\",\"1956-04-01T00:00:00\",\"1956-05-01T00:00:00\",\"1956-06-01T00:00:00\",\"1956-07-01T00:00:00\",\"1956-08-01T00:00:00\",\"1956-09-01T00:00:00\",\"1956-10-01T00:00:00\",\"1956-11-01T00:00:00\",\"1956-12-01T00:00:00\",\"1957-01-01T00:00:00\",\"1957-02-01T00:00:00\",\"1957-03-01T00:00:00\",\"1957-04-01T00:00:00\",\"1957-05-01T00:00:00\",\"1957-06-01T00:00:00\",\"1957-07-01T00:00:00\",\"1957-08-01T00:00:00\",\"1957-09-01T00:00:00\",\"1957-10-01T00:00:00\",\"1957-11-01T00:00:00\",\"1957-12-01T00:00:00\",\"1958-01-01T00:00:00\",\"1958-02-01T00:00:00\",\"1958-03-01T00:00:00\",\"1958-04-01T00:00:00\",\"1958-05-01T00:00:00\",\"1958-06-01T00:00:00\",\"1958-07-01T00:00:00\",\"1958-08-01T00:00:00\",\"1958-09-01T00:00:00\",\"1958-10-01T00:00:00\",\"1958-11-01T00:00:00\",\"1958-12-01T00:00:00\",\"1959-01-01T00:00:00\",\"1959-02-01T00:00:00\",\"1959-03-01T00:00:00\",\"1959-04-01T00:00:00\",\"1959-05-01T00:00:00\",\"1959-06-01T00:00:00\",\"1959-07-01T00:00:00\",\"1959-08-01T00:00:00\",\"1959-09-01T00:00:00\",\"1959-10-01T00:00:00\",\"1959-11-01T00:00:00\",\"1959-12-01T00:00:00\",\"1960-01-01T00:00:00\",\"1960-02-01T00:00:00\",\"1960-03-01T00:00:00\",\"1960-04-01T00:00:00\",\"1960-05-01T00:00:00\",\"1960-06-01T00:00:00\",\"1960-07-01T00:00:00\",\"1960-08-01T00:00:00\",\"1960-09-01T00:00:00\",\"1960-10-01T00:00:00\",\"1960-11-01T00:00:00\",\"1960-12-01T00:00:00\",\"1963-01-01T00:00:00\",\"1963-02-01T00:00:00\",\"1963-03-01T00:00:00\",\"1963-04-01T00:00:00\",\"1963-05-01T00:00:00\",\"1963-06-01T00:00:00\",\"1963-07-01T00:00:00\",\"1963-08-01T00:00:00\",\"1963-09-01T00:00:00\",\"1963-10-01T00:00:00\",\"1963-11-01T00:00:00\",\"1963-12-01T00:00:00\"],\"y\":[null,null,null,null,null,null,null,null,null,null,null,null,null,null,null,null,null,null,null,null,null,null,null,null,null,null,null,null,null,null,null,null,null,null,null,null,null,null,null,null,null,null,null,null,null,null,null,null,null,null,null,null,null,null,null,null,null,null,null,null,null,null,null,null,null,null,null,null,null,null,null,null,null,null,null,null,null,null,null,null,null,null,null,null,null,null,null,null,null,null,null,null,null,null,null,null,null,null,null,null,null,null,null,null,null,null,null,null,null,null,null,null,null,null,null,null,null,null,null,null,null,null,null,null,null,null,null,null,null,null,null,null,null,null,null,null,null,null,null,null,null,null,null,null,502.8998,472.0935,524.9226,558.0248,569.5504,645.6045,746.8351,736.6254,614.6349,548.7697,466.8023,516.655],\"type\":\"scattergl\",\"xaxis\":\"x\",\"yaxis\":\"y\"}],                        {\"template\":{\"data\":{\"barpolar\":[{\"marker\":{\"line\":{\"color\":\"rgb(237,237,237)\",\"width\":0.5},\"pattern\":{\"fillmode\":\"overlay\",\"size\":10,\"solidity\":0.2}},\"type\":\"barpolar\"}],\"bar\":[{\"error_x\":{\"color\":\"rgb(51,51,51)\"},\"error_y\":{\"color\":\"rgb(51,51,51)\"},\"marker\":{\"line\":{\"color\":\"rgb(237,237,237)\",\"width\":0.5},\"pattern\":{\"fillmode\":\"overlay\",\"size\":10,\"solidity\":0.2}},\"type\":\"bar\"}],\"carpet\":[{\"aaxis\":{\"endlinecolor\":\"rgb(51,51,51)\",\"gridcolor\":\"white\",\"linecolor\":\"white\",\"minorgridcolor\":\"white\",\"startlinecolor\":\"rgb(51,51,51)\"},\"baxis\":{\"endlinecolor\":\"rgb(51,51,51)\",\"gridcolor\":\"white\",\"linecolor\":\"white\",\"minorgridcolor\":\"white\",\"startlinecolor\":\"rgb(51,51,51)\"},\"type\":\"carpet\"}],\"choropleth\":[{\"colorbar\":{\"outlinewidth\":0,\"tickcolor\":\"rgb(237,237,237)\",\"ticklen\":6,\"ticks\":\"inside\"},\"type\":\"choropleth\"}],\"contourcarpet\":[{\"colorbar\":{\"outlinewidth\":0,\"tickcolor\":\"rgb(237,237,237)\",\"ticklen\":6,\"ticks\":\"inside\"},\"type\":\"contourcarpet\"}],\"contour\":[{\"colorbar\":{\"outlinewidth\":0,\"tickcolor\":\"rgb(237,237,237)\",\"ticklen\":6,\"ticks\":\"inside\"},\"colorscale\":[[0,\"rgb(20,44,66)\"],[1,\"rgb(90,179,244)\"]],\"type\":\"contour\"}],\"heatmapgl\":[{\"colorbar\":{\"outlinewidth\":0,\"tickcolor\":\"rgb(237,237,237)\",\"ticklen\":6,\"ticks\":\"inside\"},\"colorscale\":[[0,\"rgb(20,44,66)\"],[1,\"rgb(90,179,244)\"]],\"type\":\"heatmapgl\"}],\"heatmap\":[{\"colorbar\":{\"outlinewidth\":0,\"tickcolor\":\"rgb(237,237,237)\",\"ticklen\":6,\"ticks\":\"inside\"},\"colorscale\":[[0,\"rgb(20,44,66)\"],[1,\"rgb(90,179,244)\"]],\"type\":\"heatmap\"}],\"histogram2dcontour\":[{\"colorbar\":{\"outlinewidth\":0,\"tickcolor\":\"rgb(237,237,237)\",\"ticklen\":6,\"ticks\":\"inside\"},\"colorscale\":[[0,\"rgb(20,44,66)\"],[1,\"rgb(90,179,244)\"]],\"type\":\"histogram2dcontour\"}],\"histogram2d\":[{\"colorbar\":{\"outlinewidth\":0,\"tickcolor\":\"rgb(237,237,237)\",\"ticklen\":6,\"ticks\":\"inside\"},\"colorscale\":[[0,\"rgb(20,44,66)\"],[1,\"rgb(90,179,244)\"]],\"type\":\"histogram2d\"}],\"histogram\":[{\"marker\":{\"pattern\":{\"fillmode\":\"overlay\",\"size\":10,\"solidity\":0.2}},\"type\":\"histogram\"}],\"mesh3d\":[{\"colorbar\":{\"outlinewidth\":0,\"tickcolor\":\"rgb(237,237,237)\",\"ticklen\":6,\"ticks\":\"inside\"},\"type\":\"mesh3d\"}],\"parcoords\":[{\"line\":{\"colorbar\":{\"outlinewidth\":0,\"tickcolor\":\"rgb(237,237,237)\",\"ticklen\":6,\"ticks\":\"inside\"}},\"type\":\"parcoords\"}],\"pie\":[{\"automargin\":true,\"type\":\"pie\"}],\"scatter3d\":[{\"line\":{\"colorbar\":{\"outlinewidth\":0,\"tickcolor\":\"rgb(237,237,237)\",\"ticklen\":6,\"ticks\":\"inside\"}},\"marker\":{\"colorbar\":{\"outlinewidth\":0,\"tickcolor\":\"rgb(237,237,237)\",\"ticklen\":6,\"ticks\":\"inside\"}},\"type\":\"scatter3d\"}],\"scattercarpet\":[{\"marker\":{\"colorbar\":{\"outlinewidth\":0,\"tickcolor\":\"rgb(237,237,237)\",\"ticklen\":6,\"ticks\":\"inside\"}},\"type\":\"scattercarpet\"}],\"scattergeo\":[{\"marker\":{\"colorbar\":{\"outlinewidth\":0,\"tickcolor\":\"rgb(237,237,237)\",\"ticklen\":6,\"ticks\":\"inside\"}},\"type\":\"scattergeo\"}],\"scattergl\":[{\"marker\":{\"colorbar\":{\"outlinewidth\":0,\"tickcolor\":\"rgb(237,237,237)\",\"ticklen\":6,\"ticks\":\"inside\"}},\"type\":\"scattergl\"}],\"scattermapbox\":[{\"marker\":{\"colorbar\":{\"outlinewidth\":0,\"tickcolor\":\"rgb(237,237,237)\",\"ticklen\":6,\"ticks\":\"inside\"}},\"type\":\"scattermapbox\"}],\"scatterpolargl\":[{\"marker\":{\"colorbar\":{\"outlinewidth\":0,\"tickcolor\":\"rgb(237,237,237)\",\"ticklen\":6,\"ticks\":\"inside\"}},\"type\":\"scatterpolargl\"}],\"scatterpolar\":[{\"marker\":{\"colorbar\":{\"outlinewidth\":0,\"tickcolor\":\"rgb(237,237,237)\",\"ticklen\":6,\"ticks\":\"inside\"}},\"type\":\"scatterpolar\"}],\"scatter\":[{\"marker\":{\"colorbar\":{\"outlinewidth\":0,\"tickcolor\":\"rgb(237,237,237)\",\"ticklen\":6,\"ticks\":\"inside\"}},\"type\":\"scatter\"}],\"scatterternary\":[{\"marker\":{\"colorbar\":{\"outlinewidth\":0,\"tickcolor\":\"rgb(237,237,237)\",\"ticklen\":6,\"ticks\":\"inside\"}},\"type\":\"scatterternary\"}],\"surface\":[{\"colorbar\":{\"outlinewidth\":0,\"tickcolor\":\"rgb(237,237,237)\",\"ticklen\":6,\"ticks\":\"inside\"},\"colorscale\":[[0,\"rgb(20,44,66)\"],[1,\"rgb(90,179,244)\"]],\"type\":\"surface\"}],\"table\":[{\"cells\":{\"fill\":{\"color\":\"rgb(237,237,237)\"},\"line\":{\"color\":\"white\"}},\"header\":{\"fill\":{\"color\":\"rgb(217,217,217)\"},\"line\":{\"color\":\"white\"}},\"type\":\"table\"}]},\"layout\":{\"annotationdefaults\":{\"arrowhead\":0,\"arrowwidth\":1},\"autotypenumbers\":\"strict\",\"coloraxis\":{\"colorbar\":{\"outlinewidth\":0,\"tickcolor\":\"rgb(237,237,237)\",\"ticklen\":6,\"ticks\":\"inside\"}},\"colorscale\":{\"sequential\":[[0,\"rgb(20,44,66)\"],[1,\"rgb(90,179,244)\"]],\"sequentialminus\":[[0,\"rgb(20,44,66)\"],[1,\"rgb(90,179,244)\"]]},\"colorway\":[\"#F8766D\",\"#A3A500\",\"#00BF7D\",\"#00B0F6\",\"#E76BF3\"],\"font\":{\"color\":\"rgb(51,51,51)\"},\"geo\":{\"bgcolor\":\"white\",\"lakecolor\":\"white\",\"landcolor\":\"rgb(237,237,237)\",\"showlakes\":true,\"showland\":true,\"subunitcolor\":\"white\"},\"hoverlabel\":{\"align\":\"left\"},\"hovermode\":\"closest\",\"paper_bgcolor\":\"white\",\"plot_bgcolor\":\"rgb(237,237,237)\",\"polar\":{\"angularaxis\":{\"gridcolor\":\"white\",\"linecolor\":\"white\",\"showgrid\":true,\"tickcolor\":\"rgb(51,51,51)\",\"ticks\":\"outside\"},\"bgcolor\":\"rgb(237,237,237)\",\"radialaxis\":{\"gridcolor\":\"white\",\"linecolor\":\"white\",\"showgrid\":true,\"tickcolor\":\"rgb(51,51,51)\",\"ticks\":\"outside\"}},\"scene\":{\"xaxis\":{\"backgroundcolor\":\"rgb(237,237,237)\",\"gridcolor\":\"white\",\"gridwidth\":2,\"linecolor\":\"white\",\"showbackground\":true,\"showgrid\":true,\"tickcolor\":\"rgb(51,51,51)\",\"ticks\":\"outside\",\"zerolinecolor\":\"white\"},\"yaxis\":{\"backgroundcolor\":\"rgb(237,237,237)\",\"gridcolor\":\"white\",\"gridwidth\":2,\"linecolor\":\"white\",\"showbackground\":true,\"showgrid\":true,\"tickcolor\":\"rgb(51,51,51)\",\"ticks\":\"outside\",\"zerolinecolor\":\"white\"},\"zaxis\":{\"backgroundcolor\":\"rgb(237,237,237)\",\"gridcolor\":\"white\",\"gridwidth\":2,\"linecolor\":\"white\",\"showbackground\":true,\"showgrid\":true,\"tickcolor\":\"rgb(51,51,51)\",\"ticks\":\"outside\",\"zerolinecolor\":\"white\"}},\"shapedefaults\":{\"fillcolor\":\"black\",\"line\":{\"width\":0},\"opacity\":0.3},\"ternary\":{\"aaxis\":{\"gridcolor\":\"white\",\"linecolor\":\"white\",\"showgrid\":true,\"tickcolor\":\"rgb(51,51,51)\",\"ticks\":\"outside\"},\"baxis\":{\"gridcolor\":\"white\",\"linecolor\":\"white\",\"showgrid\":true,\"tickcolor\":\"rgb(51,51,51)\",\"ticks\":\"outside\"},\"bgcolor\":\"rgb(237,237,237)\",\"caxis\":{\"gridcolor\":\"white\",\"linecolor\":\"white\",\"showgrid\":true,\"tickcolor\":\"rgb(51,51,51)\",\"ticks\":\"outside\"}},\"xaxis\":{\"automargin\":true,\"gridcolor\":\"white\",\"linecolor\":\"white\",\"showgrid\":true,\"tickcolor\":\"rgb(51,51,51)\",\"ticks\":\"outside\",\"title\":{\"standoff\":15},\"zerolinecolor\":\"white\"},\"yaxis\":{\"automargin\":true,\"gridcolor\":\"white\",\"linecolor\":\"white\",\"showgrid\":true,\"tickcolor\":\"rgb(51,51,51)\",\"ticks\":\"outside\",\"title\":{\"standoff\":15},\"zerolinecolor\":\"white\"}}},\"xaxis\":{\"anchor\":\"y\",\"domain\":[0.0,1.0]},\"yaxis\":{\"anchor\":\"x\",\"domain\":[0.0,1.0]},\"showlegend\":true,\"title\":{\"text\":\"Actual vs. Forecast (Out-of-Sample)\"}},                        {\"responsive\": true}                    ).then(function(){\n",
              "                            \n",
              "var gd = document.getElementById('b0902217-7047-4195-9d04-d286e52bf14f');\n",
              "var x = new MutationObserver(function (mutations, observer) {{\n",
              "        var display = window.getComputedStyle(gd).display;\n",
              "        if (!display || display === 'none') {{\n",
              "            console.log([gd, 'removed!']);\n",
              "            Plotly.purge(gd);\n",
              "            observer.disconnect();\n",
              "        }}\n",
              "}});\n",
              "\n",
              "// Listen for the removal of the full notebook cells\n",
              "var notebookContainer = gd.closest('#notebook-container');\n",
              "if (notebookContainer) {{\n",
              "    x.observe(notebookContainer, {childList: true});\n",
              "}}\n",
              "\n",
              "// Listen for the clearing of the current output cell\n",
              "var outputEl = gd.closest('.output');\n",
              "if (outputEl) {{\n",
              "    x.observe(outputEl, {childList: true});\n",
              "}}\n",
              "\n",
              "                        })                };                            </script>        </div>\n",
              "</body>\n",
              "</html>"
            ]
          },
          "metadata": {}
        }
      ]
    }
  ]
}