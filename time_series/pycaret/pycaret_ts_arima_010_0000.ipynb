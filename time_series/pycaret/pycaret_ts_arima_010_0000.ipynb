{
  "nbformat": 4,
  "nbformat_minor": 0,
  "metadata": {
    "colab": {
      "name": "pycaret_ts_arima_010_0000.ipynb",
      "provenance": [],
      "collapsed_sections": [],
      "include_colab_link": true
    },
    "kernelspec": {
      "name": "python3",
      "display_name": "Python 3"
    },
    "language_info": {
      "name": "python"
    },
    "widgets": {
      "application/vnd.jupyter.widget-state+json": {
        "30f73d9afbf64b27a3846ee9d161eba4": {
          "model_module": "@jupyter-widgets/controls",
          "model_name": "IntProgressModel",
          "model_module_version": "1.5.0",
          "state": {
            "_view_name": "ProgressView",
            "style": "IPY_MODEL_47ceeb43aaa6451b866226f4976c38d2",
            "_dom_classes": [],
            "description": "Processing: ",
            "_model_name": "IntProgressModel",
            "bar_style": "",
            "max": 3,
            "_view_module": "@jupyter-widgets/controls",
            "_model_module_version": "1.5.0",
            "value": 3,
            "_view_count": null,
            "_view_module_version": "1.5.0",
            "orientation": "horizontal",
            "min": 0,
            "description_tooltip": null,
            "_model_module": "@jupyter-widgets/controls",
            "layout": "IPY_MODEL_085b46614cef4475adf2716ceb4ad808"
          }
        },
        "47ceeb43aaa6451b866226f4976c38d2": {
          "model_module": "@jupyter-widgets/controls",
          "model_name": "ProgressStyleModel",
          "model_module_version": "1.5.0",
          "state": {
            "_view_name": "StyleView",
            "_model_name": "ProgressStyleModel",
            "description_width": "",
            "_view_module": "@jupyter-widgets/base",
            "_model_module_version": "1.5.0",
            "_view_count": null,
            "_view_module_version": "1.2.0",
            "bar_color": null,
            "_model_module": "@jupyter-widgets/controls"
          }
        },
        "085b46614cef4475adf2716ceb4ad808": {
          "model_module": "@jupyter-widgets/base",
          "model_name": "LayoutModel",
          "model_module_version": "1.2.0",
          "state": {
            "_view_name": "LayoutView",
            "grid_template_rows": null,
            "right": null,
            "justify_content": null,
            "_view_module": "@jupyter-widgets/base",
            "overflow": null,
            "_model_module_version": "1.2.0",
            "_view_count": null,
            "flex_flow": null,
            "width": null,
            "min_width": null,
            "border": null,
            "align_items": null,
            "bottom": null,
            "_model_module": "@jupyter-widgets/base",
            "top": null,
            "grid_column": null,
            "overflow_y": null,
            "overflow_x": null,
            "grid_auto_flow": null,
            "grid_area": null,
            "grid_template_columns": null,
            "flex": null,
            "_model_name": "LayoutModel",
            "justify_items": null,
            "grid_row": null,
            "max_height": null,
            "align_content": null,
            "visibility": null,
            "align_self": null,
            "height": null,
            "min_height": null,
            "padding": null,
            "grid_auto_rows": null,
            "grid_gap": null,
            "max_width": null,
            "order": null,
            "_view_module_version": "1.2.0",
            "grid_template_areas": null,
            "object_position": null,
            "object_fit": null,
            "grid_auto_columns": null,
            "margin": null,
            "display": null,
            "left": null
          }
        },
        "58823731d76a42ae96401be6beb045d2": {
          "model_module": "@jupyter-widgets/controls",
          "model_name": "IntProgressModel",
          "model_module_version": "1.5.0",
          "state": {
            "_view_name": "ProgressView",
            "style": "IPY_MODEL_d801172695734c3387c4f9a9427d83e4",
            "_dom_classes": [],
            "description": "Processing: ",
            "_model_name": "IntProgressModel",
            "bar_style": "",
            "max": 4,
            "_view_module": "@jupyter-widgets/controls",
            "_model_module_version": "1.5.0",
            "value": 4,
            "_view_count": null,
            "_view_module_version": "1.5.0",
            "orientation": "horizontal",
            "min": 0,
            "description_tooltip": null,
            "_model_module": "@jupyter-widgets/controls",
            "layout": "IPY_MODEL_833fed11409d4e1f8b9c3894770a7b19"
          }
        },
        "d801172695734c3387c4f9a9427d83e4": {
          "model_module": "@jupyter-widgets/controls",
          "model_name": "ProgressStyleModel",
          "model_module_version": "1.5.0",
          "state": {
            "_view_name": "StyleView",
            "_model_name": "ProgressStyleModel",
            "description_width": "",
            "_view_module": "@jupyter-widgets/base",
            "_model_module_version": "1.5.0",
            "_view_count": null,
            "_view_module_version": "1.2.0",
            "bar_color": null,
            "_model_module": "@jupyter-widgets/controls"
          }
        },
        "833fed11409d4e1f8b9c3894770a7b19": {
          "model_module": "@jupyter-widgets/base",
          "model_name": "LayoutModel",
          "model_module_version": "1.2.0",
          "state": {
            "_view_name": "LayoutView",
            "grid_template_rows": null,
            "right": null,
            "justify_content": null,
            "_view_module": "@jupyter-widgets/base",
            "overflow": null,
            "_model_module_version": "1.2.0",
            "_view_count": null,
            "flex_flow": null,
            "width": null,
            "min_width": null,
            "border": null,
            "align_items": null,
            "bottom": null,
            "_model_module": "@jupyter-widgets/base",
            "top": null,
            "grid_column": null,
            "overflow_y": null,
            "overflow_x": null,
            "grid_auto_flow": null,
            "grid_area": null,
            "grid_template_columns": null,
            "flex": null,
            "_model_name": "LayoutModel",
            "justify_items": null,
            "grid_row": null,
            "max_height": null,
            "align_content": null,
            "visibility": null,
            "align_self": null,
            "height": null,
            "min_height": null,
            "padding": null,
            "grid_auto_rows": null,
            "grid_gap": null,
            "max_width": null,
            "order": null,
            "_view_module_version": "1.2.0",
            "grid_template_areas": null,
            "object_position": null,
            "object_fit": null,
            "grid_auto_columns": null,
            "margin": null,
            "display": null,
            "left": null
          }
        },
        "b2839ad4982047d2adce7b321feea22d": {
          "model_module": "@jupyter-widgets/controls",
          "model_name": "IntProgressModel",
          "model_module_version": "1.5.0",
          "state": {
            "_view_name": "ProgressView",
            "style": "IPY_MODEL_0a9acf63b09e4fc29f648611b5224806",
            "_dom_classes": [],
            "description": "Processing: ",
            "_model_name": "IntProgressModel",
            "bar_style": "",
            "max": 4,
            "_view_module": "@jupyter-widgets/controls",
            "_model_module_version": "1.5.0",
            "value": 4,
            "_view_count": null,
            "_view_module_version": "1.5.0",
            "orientation": "horizontal",
            "min": 0,
            "description_tooltip": null,
            "_model_module": "@jupyter-widgets/controls",
            "layout": "IPY_MODEL_debd6667cf7647e58491271105da4a3e"
          }
        },
        "0a9acf63b09e4fc29f648611b5224806": {
          "model_module": "@jupyter-widgets/controls",
          "model_name": "ProgressStyleModel",
          "model_module_version": "1.5.0",
          "state": {
            "_view_name": "StyleView",
            "_model_name": "ProgressStyleModel",
            "description_width": "",
            "_view_module": "@jupyter-widgets/base",
            "_model_module_version": "1.5.0",
            "_view_count": null,
            "_view_module_version": "1.2.0",
            "bar_color": null,
            "_model_module": "@jupyter-widgets/controls"
          }
        },
        "debd6667cf7647e58491271105da4a3e": {
          "model_module": "@jupyter-widgets/base",
          "model_name": "LayoutModel",
          "model_module_version": "1.2.0",
          "state": {
            "_view_name": "LayoutView",
            "grid_template_rows": null,
            "right": null,
            "justify_content": null,
            "_view_module": "@jupyter-widgets/base",
            "overflow": null,
            "_model_module_version": "1.2.0",
            "_view_count": null,
            "flex_flow": null,
            "width": null,
            "min_width": null,
            "border": null,
            "align_items": null,
            "bottom": null,
            "_model_module": "@jupyter-widgets/base",
            "top": null,
            "grid_column": null,
            "overflow_y": null,
            "overflow_x": null,
            "grid_auto_flow": null,
            "grid_area": null,
            "grid_template_columns": null,
            "flex": null,
            "_model_name": "LayoutModel",
            "justify_items": null,
            "grid_row": null,
            "max_height": null,
            "align_content": null,
            "visibility": null,
            "align_self": null,
            "height": null,
            "min_height": null,
            "padding": null,
            "grid_auto_rows": null,
            "grid_gap": null,
            "max_width": null,
            "order": null,
            "_view_module_version": "1.2.0",
            "grid_template_areas": null,
            "object_position": null,
            "object_fit": null,
            "grid_auto_columns": null,
            "margin": null,
            "display": null,
            "left": null
          }
        },
        "8e96e9b388814bc6b70ca433b3f7f387": {
          "model_module": "@jupyter-widgets/controls",
          "model_name": "IntProgressModel",
          "model_module_version": "1.5.0",
          "state": {
            "_view_name": "ProgressView",
            "style": "IPY_MODEL_3becbaa4234b4915a4d576fe004a4a0b",
            "_dom_classes": [],
            "description": "Processing: ",
            "_model_name": "IntProgressModel",
            "bar_style": "",
            "max": 4,
            "_view_module": "@jupyter-widgets/controls",
            "_model_module_version": "1.5.0",
            "value": 4,
            "_view_count": null,
            "_view_module_version": "1.5.0",
            "orientation": "horizontal",
            "min": 0,
            "description_tooltip": null,
            "_model_module": "@jupyter-widgets/controls",
            "layout": "IPY_MODEL_b23904a119ca4d5385c107bc00ab54a8"
          }
        },
        "3becbaa4234b4915a4d576fe004a4a0b": {
          "model_module": "@jupyter-widgets/controls",
          "model_name": "ProgressStyleModel",
          "model_module_version": "1.5.0",
          "state": {
            "_view_name": "StyleView",
            "_model_name": "ProgressStyleModel",
            "description_width": "",
            "_view_module": "@jupyter-widgets/base",
            "_model_module_version": "1.5.0",
            "_view_count": null,
            "_view_module_version": "1.2.0",
            "bar_color": null,
            "_model_module": "@jupyter-widgets/controls"
          }
        },
        "b23904a119ca4d5385c107bc00ab54a8": {
          "model_module": "@jupyter-widgets/base",
          "model_name": "LayoutModel",
          "model_module_version": "1.2.0",
          "state": {
            "_view_name": "LayoutView",
            "grid_template_rows": null,
            "right": null,
            "justify_content": null,
            "_view_module": "@jupyter-widgets/base",
            "overflow": null,
            "_model_module_version": "1.2.0",
            "_view_count": null,
            "flex_flow": null,
            "width": null,
            "min_width": null,
            "border": null,
            "align_items": null,
            "bottom": null,
            "_model_module": "@jupyter-widgets/base",
            "top": null,
            "grid_column": null,
            "overflow_y": null,
            "overflow_x": null,
            "grid_auto_flow": null,
            "grid_area": null,
            "grid_template_columns": null,
            "flex": null,
            "_model_name": "LayoutModel",
            "justify_items": null,
            "grid_row": null,
            "max_height": null,
            "align_content": null,
            "visibility": null,
            "align_self": null,
            "height": null,
            "min_height": null,
            "padding": null,
            "grid_auto_rows": null,
            "grid_gap": null,
            "max_width": null,
            "order": null,
            "_view_module_version": "1.2.0",
            "grid_template_areas": null,
            "object_position": null,
            "object_fit": null,
            "grid_auto_columns": null,
            "margin": null,
            "display": null,
            "left": null
          }
        },
        "5b4c95d266f34ef1af94d4316fa05e74": {
          "model_module": "@jupyter-widgets/controls",
          "model_name": "IntProgressModel",
          "model_module_version": "1.5.0",
          "state": {
            "_view_name": "ProgressView",
            "style": "IPY_MODEL_f12b4482fe204a30ad2907310817bdc2",
            "_dom_classes": [],
            "description": "Processing: ",
            "_model_name": "IntProgressModel",
            "bar_style": "",
            "max": 4,
            "_view_module": "@jupyter-widgets/controls",
            "_model_module_version": "1.5.0",
            "value": 4,
            "_view_count": null,
            "_view_module_version": "1.5.0",
            "orientation": "horizontal",
            "min": 0,
            "description_tooltip": null,
            "_model_module": "@jupyter-widgets/controls",
            "layout": "IPY_MODEL_765af6e716654a20b4ad3b9678ac985c"
          }
        },
        "f12b4482fe204a30ad2907310817bdc2": {
          "model_module": "@jupyter-widgets/controls",
          "model_name": "ProgressStyleModel",
          "model_module_version": "1.5.0",
          "state": {
            "_view_name": "StyleView",
            "_model_name": "ProgressStyleModel",
            "description_width": "",
            "_view_module": "@jupyter-widgets/base",
            "_model_module_version": "1.5.0",
            "_view_count": null,
            "_view_module_version": "1.2.0",
            "bar_color": null,
            "_model_module": "@jupyter-widgets/controls"
          }
        },
        "765af6e716654a20b4ad3b9678ac985c": {
          "model_module": "@jupyter-widgets/base",
          "model_name": "LayoutModel",
          "model_module_version": "1.2.0",
          "state": {
            "_view_name": "LayoutView",
            "grid_template_rows": null,
            "right": null,
            "justify_content": null,
            "_view_module": "@jupyter-widgets/base",
            "overflow": null,
            "_model_module_version": "1.2.0",
            "_view_count": null,
            "flex_flow": null,
            "width": null,
            "min_width": null,
            "border": null,
            "align_items": null,
            "bottom": null,
            "_model_module": "@jupyter-widgets/base",
            "top": null,
            "grid_column": null,
            "overflow_y": null,
            "overflow_x": null,
            "grid_auto_flow": null,
            "grid_area": null,
            "grid_template_columns": null,
            "flex": null,
            "_model_name": "LayoutModel",
            "justify_items": null,
            "grid_row": null,
            "max_height": null,
            "align_content": null,
            "visibility": null,
            "align_self": null,
            "height": null,
            "min_height": null,
            "padding": null,
            "grid_auto_rows": null,
            "grid_gap": null,
            "max_width": null,
            "order": null,
            "_view_module_version": "1.2.0",
            "grid_template_areas": null,
            "object_position": null,
            "object_fit": null,
            "grid_auto_columns": null,
            "margin": null,
            "display": null,
            "left": null
          }
        }
      }
    }
  },
  "cells": [
    {
      "cell_type": "markdown",
      "metadata": {
        "id": "view-in-github",
        "colab_type": "text"
      },
      "source": [
        "<a href=\"https://colab.research.google.com/github/ngupta23/medium_articles/blob/main/time_series/pycaret/pycaret_ts_arima_010_0000.ipynb\" target=\"_parent\"><img src=\"https://colab.research.google.com/assets/colab-badge.svg\" alt=\"Open In Colab\"/></a>"
      ]
    },
    {
      "cell_type": "markdown",
      "metadata": {
        "id": "tL6lZAddynd3"
      },
      "source": [
        "# Previous Article(s) in this Series\n",
        "* [A Practical Guide to ARIMA Models using PyCaret — Part 1 (Statistical Overview)](https://towardsdatascience.com/understanding-arima-models-using-pycarets-time-series-module-part-1-692e10ca02f2)\n",
        "* [A Practical Guide to ARIMA Models using PyCaret — Part 2 (Understanding the Trend Term)](https://towardsdatascience.com/understanding-arima-models-using-pycarets-time-series-module-part2-308ea7bfecf6)"
      ]
    },
    {
      "cell_type": "markdown",
      "metadata": {
        "id": "cCSXDcfLUpiI"
      },
      "source": [
        "## Install & Import Library\n",
        "\n",
        "\n"
      ]
    },
    {
      "cell_type": "code",
      "metadata": {
        "id": "bIzRzdrYUoYk"
      },
      "source": [
        "try:\n",
        "  import pycaret\n",
        "except:\n",
        "  !pip install pycaret-ts-alpha"
      ],
      "execution_count": 1,
      "outputs": []
    },
    {
      "cell_type": "code",
      "metadata": {
        "colab": {
          "base_uri": "https://localhost:8080/"
        },
        "id": "nADwyjWfUtF6",
        "outputId": "06526549-c2bc-4c4c-c91a-36bdd0df738c"
      },
      "source": [
        "import numpy as np\n",
        "import pandas as pd\n",
        "import seaborn as sns\n",
        "from pycaret.datasets import get_data\n",
        "from pycaret.internal.pycaret_experiment import TimeSeriesExperiment\n",
        "from sklearn.linear_model import LinearRegression"
      ],
      "execution_count": 2,
      "outputs": [
        {
          "output_type": "stream",
          "name": "stderr",
          "text": [
            "/usr/local/lib/python3.7/dist-packages/distributed/config.py:20: YAMLLoadWarning: calling yaml.load() without Loader=... is deprecated, as the default Loader is unsafe. Please read https://msg.pyyaml.org/load for full details.\n",
            "  defaults = yaml.load(f)\n"
          ]
        }
      ]
    },
    {
      "cell_type": "markdown",
      "metadata": {
        "id": "OhpEAd7MUxYy"
      },
      "source": [
        "## Get Data and Setup PyCaret Experiment"
      ]
    },
    {
      "cell_type": "code",
      "metadata": {
        "colab": {
          "base_uri": "https://localhost:8080/",
          "height": 206
        },
        "id": "EiL8vCoVUuvJ",
        "outputId": "b6a8684f-5ebe-45be-d52e-f51e014b3f4b"
      },
      "source": [
        "#### Get data from data playground ----\n",
        "y = get_data(\"1\", folder=\"time_series/random_walk\")"
      ],
      "execution_count": 3,
      "outputs": [
        {
          "output_type": "display_data",
          "data": {
            "text/html": [
              "<div>\n",
              "<style scoped>\n",
              "    .dataframe tbody tr th:only-of-type {\n",
              "        vertical-align: middle;\n",
              "    }\n",
              "\n",
              "    .dataframe tbody tr th {\n",
              "        vertical-align: top;\n",
              "    }\n",
              "\n",
              "    .dataframe thead th {\n",
              "        text-align: right;\n",
              "    }\n",
              "</style>\n",
              "<table border=\"1\" class=\"dataframe\">\n",
              "  <thead>\n",
              "    <tr style=\"text-align: right;\">\n",
              "      <th></th>\n",
              "      <th>x</th>\n",
              "    </tr>\n",
              "  </thead>\n",
              "  <tbody>\n",
              "    <tr>\n",
              "      <th>0</th>\n",
              "      <td>186.268370</td>\n",
              "    </tr>\n",
              "    <tr>\n",
              "      <th>1</th>\n",
              "      <td>186.310486</td>\n",
              "    </tr>\n",
              "    <tr>\n",
              "      <th>2</th>\n",
              "      <td>185.399564</td>\n",
              "    </tr>\n",
              "    <tr>\n",
              "      <th>3</th>\n",
              "      <td>185.557593</td>\n",
              "    </tr>\n",
              "    <tr>\n",
              "      <th>4</th>\n",
              "      <td>184.903008</td>\n",
              "    </tr>\n",
              "  </tbody>\n",
              "</table>\n",
              "</div>"
            ],
            "text/plain": [
              "            x\n",
              "0  186.268370\n",
              "1  186.310486\n",
              "2  185.399564\n",
              "3  185.557593\n",
              "4  184.903008"
            ]
          },
          "metadata": {}
        }
      ]
    },
    {
      "cell_type": "code",
      "metadata": {
        "colab": {
          "base_uri": "https://localhost:8080/",
          "height": 694,
          "referenced_widgets": [
            "30f73d9afbf64b27a3846ee9d161eba4",
            "47ceeb43aaa6451b866226f4976c38d2",
            "085b46614cef4475adf2716ceb4ad808"
          ]
        },
        "id": "y6Z838CPU1sb",
        "outputId": "9b81d349-5f4e-4027-c9c2-148cca5edd84"
      },
      "source": [
        "exp = TimeSeriesExperiment()\n",
        "exp.setup(data=y, seasonal_period=1, fh=30, session_id=42)"
      ],
      "execution_count": 4,
      "outputs": [
        {
          "output_type": "display_data",
          "data": {
            "text/html": [
              "<div>\n",
              "<style scoped>\n",
              "    .dataframe tbody tr th:only-of-type {\n",
              "        vertical-align: middle;\n",
              "    }\n",
              "\n",
              "    .dataframe tbody tr th {\n",
              "        vertical-align: top;\n",
              "    }\n",
              "\n",
              "    .dataframe thead th {\n",
              "        text-align: right;\n",
              "    }\n",
              "</style>\n",
              "<table border=\"1\" class=\"dataframe\">\n",
              "  <thead>\n",
              "    <tr style=\"text-align: right;\">\n",
              "      <th></th>\n",
              "      <th>Description</th>\n",
              "      <th>Value</th>\n",
              "    </tr>\n",
              "  </thead>\n",
              "  <tbody>\n",
              "    <tr>\n",
              "      <th>0</th>\n",
              "      <td>session_id</td>\n",
              "      <td>42</td>\n",
              "    </tr>\n",
              "    <tr>\n",
              "      <th>1</th>\n",
              "      <td>Original Data</td>\n",
              "      <td>(340, 1)</td>\n",
              "    </tr>\n",
              "    <tr>\n",
              "      <th>2</th>\n",
              "      <td>Missing Values</td>\n",
              "      <td>False</td>\n",
              "    </tr>\n",
              "    <tr>\n",
              "      <th>3</th>\n",
              "      <td>Transformed Train Set</td>\n",
              "      <td>(310,)</td>\n",
              "    </tr>\n",
              "    <tr>\n",
              "      <th>4</th>\n",
              "      <td>Transformed Test Set</td>\n",
              "      <td>(30,)</td>\n",
              "    </tr>\n",
              "    <tr>\n",
              "      <th>5</th>\n",
              "      <td>Fold Generator</td>\n",
              "      <td>ExpandingWindowSplitter</td>\n",
              "    </tr>\n",
              "    <tr>\n",
              "      <th>6</th>\n",
              "      <td>Fold Number</td>\n",
              "      <td>3</td>\n",
              "    </tr>\n",
              "    <tr>\n",
              "      <th>7</th>\n",
              "      <td>Enforce Prediction Interval</td>\n",
              "      <td>False</td>\n",
              "    </tr>\n",
              "    <tr>\n",
              "      <th>8</th>\n",
              "      <td>Seasonal Period Tested</td>\n",
              "      <td>1</td>\n",
              "    </tr>\n",
              "    <tr>\n",
              "      <th>9</th>\n",
              "      <td>Seasonality Detected</td>\n",
              "      <td>False</td>\n",
              "    </tr>\n",
              "    <tr>\n",
              "      <th>10</th>\n",
              "      <td>Target Strictly Positive</td>\n",
              "      <td>True</td>\n",
              "    </tr>\n",
              "    <tr>\n",
              "      <th>11</th>\n",
              "      <td>Target White Noise</td>\n",
              "      <td>No</td>\n",
              "    </tr>\n",
              "    <tr>\n",
              "      <th>12</th>\n",
              "      <td>Recommended d</td>\n",
              "      <td>1</td>\n",
              "    </tr>\n",
              "    <tr>\n",
              "      <th>13</th>\n",
              "      <td>Recommended Seasonal D</td>\n",
              "      <td>0</td>\n",
              "    </tr>\n",
              "    <tr>\n",
              "      <th>14</th>\n",
              "      <td>CPU Jobs</td>\n",
              "      <td>-1</td>\n",
              "    </tr>\n",
              "    <tr>\n",
              "      <th>15</th>\n",
              "      <td>Use GPU</td>\n",
              "      <td>False</td>\n",
              "    </tr>\n",
              "    <tr>\n",
              "      <th>16</th>\n",
              "      <td>Log Experiment</td>\n",
              "      <td>False</td>\n",
              "    </tr>\n",
              "    <tr>\n",
              "      <th>17</th>\n",
              "      <td>Experiment Name</td>\n",
              "      <td>ts-default-name</td>\n",
              "    </tr>\n",
              "    <tr>\n",
              "      <th>18</th>\n",
              "      <td>USI</td>\n",
              "      <td>7225</td>\n",
              "    </tr>\n",
              "    <tr>\n",
              "      <th>19</th>\n",
              "      <td>Imputation Type</td>\n",
              "      <td>simple</td>\n",
              "    </tr>\n",
              "  </tbody>\n",
              "</table>\n",
              "</div>"
            ],
            "text/plain": [
              "                    Description                    Value\n",
              "0                    session_id                       42\n",
              "1                 Original Data                 (340, 1)\n",
              "2                Missing Values                    False\n",
              "3         Transformed Train Set                   (310,)\n",
              "4          Transformed Test Set                    (30,)\n",
              "5                Fold Generator  ExpandingWindowSplitter\n",
              "6                   Fold Number                        3\n",
              "7   Enforce Prediction Interval                    False\n",
              "8        Seasonal Period Tested                        1\n",
              "9          Seasonality Detected                    False\n",
              "10     Target Strictly Positive                     True\n",
              "11           Target White Noise                       No\n",
              "12                Recommended d                        1\n",
              "13       Recommended Seasonal D                        0\n",
              "14                     CPU Jobs                       -1\n",
              "15                      Use GPU                    False\n",
              "16               Log Experiment                    False\n",
              "17              Experiment Name          ts-default-name\n",
              "18                          USI                     7225\n",
              "19              Imputation Type                   simple"
            ]
          },
          "metadata": {}
        },
        {
          "output_type": "execute_result",
          "data": {
            "text/plain": [
              "<pycaret.internal.pycaret_experiment.time_series_experiment.TimeSeriesExperiment at 0x7f013a6e03d0>"
            ]
          },
          "metadata": {},
          "execution_count": 4
        }
      ]
    },
    {
      "cell_type": "markdown",
      "metadata": {
        "id": "ytCi5n8dU4uJ"
      },
      "source": [
        "## EDA"
      ]
    },
    {
      "cell_type": "code",
      "metadata": {
        "colab": {
          "base_uri": "https://localhost:8080/",
          "height": 542
        },
        "id": "2Tn58TkQU3N5",
        "outputId": "5c73a46c-08b6-4eb2-88b6-cfae8aa491dc"
      },
      "source": [
        "exp.plot_model()"
      ],
      "execution_count": 5,
      "outputs": [
        {
          "output_type": "display_data",
          "data": {
            "text/html": [
              "<html>\n",
              "<head><meta charset=\"utf-8\" /></head>\n",
              "<body>\n",
              "    <div>            <script src=\"https://cdnjs.cloudflare.com/ajax/libs/mathjax/2.7.5/MathJax.js?config=TeX-AMS-MML_SVG\"></script><script type=\"text/javascript\">if (window.MathJax) {MathJax.Hub.Config({SVG: {font: \"STIX-Web\"}});}</script>                <script type=\"text/javascript\">window.PlotlyConfig = {MathJaxConfig: 'local'};</script>\n",
              "        <script src=\"https://cdn.plot.ly/plotly-2.6.3.min.js\"></script>                <div id=\"e5815339-4de2-4816-a610-660543111948\" class=\"plotly-graph-div\" style=\"height:525px; width:100%;\"></div>            <script type=\"text/javascript\">                                    window.PLOTLYENV=window.PLOTLYENV || {};                                    if (document.getElementById(\"e5815339-4de2-4816-a610-660543111948\")) {                    Plotly.newPlot(                        \"e5815339-4de2-4816-a610-660543111948\",                        [{\"marker\":{\"color\":\"#3f3f3f\",\"size\":5},\"mode\":\"lines+markers\",\"name\":\"Time Series\",\"showlegend\":true,\"x\":[0,1,2,3,4,5,6,7,8,9,10,11,12,13,14,15,16,17,18,19,20,21,22,23,24,25,26,27,28,29,30,31,32,33,34,35,36,37,38,39,40,41,42,43,44,45,46,47,48,49,50,51,52,53,54,55,56,57,58,59,60,61,62,63,64,65,66,67,68,69,70,71,72,73,74,75,76,77,78,79,80,81,82,83,84,85,86,87,88,89,90,91,92,93,94,95,96,97,98,99,100,101,102,103,104,105,106,107,108,109,110,111,112,113,114,115,116,117,118,119,120,121,122,123,124,125,126,127,128,129,130,131,132,133,134,135,136,137,138,139,140,141,142,143,144,145,146,147,148,149,150,151,152,153,154,155,156,157,158,159,160,161,162,163,164,165,166,167,168,169,170,171,172,173,174,175,176,177,178,179,180,181,182,183,184,185,186,187,188,189,190,191,192,193,194,195,196,197,198,199,200,201,202,203,204,205,206,207,208,209,210,211,212,213,214,215,216,217,218,219,220,221,222,223,224,225,226,227,228,229,230,231,232,233,234,235,236,237,238,239,240,241,242,243,244,245,246,247,248,249,250,251,252,253,254,255,256,257,258,259,260,261,262,263,264,265,266,267,268,269,270,271,272,273,274,275,276,277,278,279,280,281,282,283,284,285,286,287,288,289,290,291,292,293,294,295,296,297,298,299,300,301,302,303,304,305,306,307,308,309,310,311,312,313,314,315,316,317,318,319,320,321,322,323,324,325,326,327,328,329,330,331,332,333,334,335,336,337,338,339],\"y\":[186.268370014241,186.31048588738602,185.399564238833,185.557593011237,184.903008367318,186.670295636691,187.38700311270802,188.29717734220299,188.68136270003004,190.36353878054902,189.7278023266,189.26615759624,190.698439834781,190.04774348147097,189.840362737869,189.44755480842701,189.127561939879,188.84844863690202,189.34263696817,189.1653064859,188.659349023786,190.002387848956,189.78780844041,189.608251910366,189.508061169153,190.220727476204,190.14716307207803,190.109528900611,189.427868421855,189.10359814960898,189.163758590043,188.574864103783,189.10636029641603,187.58796621462898,187.894524075419,186.358074251881,186.057098125045,185.52881822060002,184.876723439919,184.819826662071,182.905467236391,184.08205054841,182.417078112198,181.953547710726,180.837627605683,180.086808604489,182.173975150118,182.191370769811,180.90507023937698,179.264464704958,179.714651806231,179.69609197351602,179.37802359897202,178.44866145151798,176.961201141377,175.88600884476102,176.886037648475,176.264770953678,174.880344106294,176.749634728717,177.17473510608997,176.936088005177,177.994571053886,178.880993705261,178.26175065702998,180.46785312157,180.21282609142898,178.788331441216,178.643931839262,178.851470178494,181.159448577554,181.265250945448,181.72224975087101,181.645096815514,181.311095973148,181.276369944837,182.064009550467,184.139254559119,185.166646997883,186.37455539626998,185.143231974711,186.12712754476502,186.34705234842602,184.879802319333,185.400825061981,185.24207045726502,186.706657769235,185.940575769631,185.510364015702,184.584254518325,184.407150556888,184.80916233637402,184.077414163255,184.907787331236,183.699704544932,182.65172013212398,184.092877838968,183.07703037366403,183.48900508598098,183.10792903487203,183.517330874523,185.206204160727,186.79279259416901,186.461884793487,184.176649258194,186.674310848028,187.341377014794,187.88270435075802,187.869304827612,188.379413250565,188.21503741879502,188.635732062049,188.23548531807202,186.86527744052398,187.85311570797901,189.372860733479,189.064120164253,187.810830408645,188.45307171432302,188.40836257742902,186.67514417060397,186.677276030285,186.046975696357,185.706007116496,184.54943475386003,186.352576661778,186.021444625386,184.415931213133,184.61312465187302,184.876300298278,183.890473597869,181.00155292619,180.361071223624,180.93157885954497,180.871855583502,180.773676839497,181.334497568117,180.148038929538,181.244815973812,181.23947194553398,181.94678261293203,182.980890347669,183.204370762585,182.32566314971902,183.48862770568599,181.4884627609,180.94367202089902,180.68800131174197,180.521880274977,181.54234418376097,181.678566076864,182.085733680287,182.016078867275,181.76841452565498,182.463965332275,183.610193689491,181.207097474599,181.779837029845,182.154561436623,181.72929371506697,182.680306522644,182.29106934092601,182.00673867912602,182.864148457206,184.58377575632701,184.85383065726398,184.43164664747601,183.242533352617,182.911500373737,181.97167104722698,181.712738464109,182.10711763233002,181.255260540306,183.90442742140098,184.060439097066,185.190646364521,182.90152238468102,183.64252354187698,182.32627838142503,183.246082059034,183.644212214486,183.236683635216,184.56094226539398,183.859710596147,183.279096291906,182.278024110881,181.609845504127,182.5550304575,182.98873260704602,183.99389182472302,183.603773160669,183.980143452444,184.22430837693,182.798051034548,184.576480322023,184.710927982957,185.476526982115,186.431663659024,186.38109795758098,186.075282537814,186.96895624023998,185.921658091179,187.892995477403,187.509363371114,189.163508673389,190.67572136733997,190.758687100926,191.325908015777,190.30135953624298,190.62436603926497,191.667978497622,191.767056984519,191.312920075364,190.657138222914,190.621215800291,191.690377260968,191.206402330667,191.08539221933898,189.791252215519,190.285565051534,191.59346657164798,193.09050758105,193.90521031194803,192.035421521745,192.51745102586898,192.97358662917,192.62018634334,192.790675814288,191.92663986016103,192.60587063417702,192.278769619524,190.70968743438,190.342236678209,191.70667160727902,191.372390242548,192.105140284757,193.05172592495498,193.05612462928102,192.703802323732,192.17410681459802,192.913696040173,191.85023862468998,192.096449468226,191.80695010166198,189.54206074517398,188.133210289101,189.04922961789399,188.857950667358,189.661233883492,191.548708346801,193.02258952791001,193.69985802022302,194.079820706789,193.887022280332,195.464914075237,196.061148184555,194.887571243684,194.731928708793,192.81301888852298,192.61776004241298,190.025432372467,191.339434539665,190.703891538633,190.273912699939,190.104594367637,190.716812541626,191.395152718848,191.96310469132,191.390562087394,190.027270831116,189.638548586778,189.91646271922798,189.093381597656,189.024540663178,187.856878337048,187.848569322832,187.97742472443,187.831549095969,187.66763813923302,189.431190142018,190.193776654436,191.30520773516702,190.382000782337,190.546342620765,191.70116780786202,191.64464638333598,189.515285735101,189.8601314972,187.95517605161498,187.144005898475,188.46801021977402,189.083647069077,190.17531602461202,190.48192088612598,190.371762123643,189.44744935051602,191.040363104235,191.08537370235697,190.37024530168898,191.235468401406,192.30990935968399,194.20556413388303,193.602566830277,193.211699009554,192.795476978024,192.41981955520401,192.053188609501,191.7575111568,193.199331567,192.501793275087,192.113625769166,192.76616222133703,193.890934667873,193.11882386484902,192.61073764871003,193.13435823920798,194.152112465746,193.900947877658,192.47095443027,194.18007546237098,195.615145034682,194.904773888832,194.839706315177,193.08023757981098,193.64996055163002,195.262307349832,193.625026702727,192.845458189525,192.204281255775,191.523149862204,189.489864266586,189.990827825834,188.459029685868,188.43403204659,189.027016767615,188.82882134612998,189.720829738604,189.695114667686,189.04745421709998,189.693813632135],\"type\":\"scatter\"}],                        {\"title\":{\"text\":\"Time Series | x\"},\"xaxis\":{\"title\":{\"text\":\"Time\"}},\"yaxis\":{\"title\":{\"text\":\"Values\"}},\"template\":{\"data\":{\"barpolar\":[{\"marker\":{\"line\":{\"color\":\"rgb(237,237,237)\",\"width\":0.5},\"pattern\":{\"fillmode\":\"overlay\",\"size\":10,\"solidity\":0.2}},\"type\":\"barpolar\"}],\"bar\":[{\"error_x\":{\"color\":\"rgb(51,51,51)\"},\"error_y\":{\"color\":\"rgb(51,51,51)\"},\"marker\":{\"line\":{\"color\":\"rgb(237,237,237)\",\"width\":0.5},\"pattern\":{\"fillmode\":\"overlay\",\"size\":10,\"solidity\":0.2}},\"type\":\"bar\"}],\"carpet\":[{\"aaxis\":{\"endlinecolor\":\"rgb(51,51,51)\",\"gridcolor\":\"white\",\"linecolor\":\"white\",\"minorgridcolor\":\"white\",\"startlinecolor\":\"rgb(51,51,51)\"},\"baxis\":{\"endlinecolor\":\"rgb(51,51,51)\",\"gridcolor\":\"white\",\"linecolor\":\"white\",\"minorgridcolor\":\"white\",\"startlinecolor\":\"rgb(51,51,51)\"},\"type\":\"carpet\"}],\"choropleth\":[{\"colorbar\":{\"outlinewidth\":0,\"tickcolor\":\"rgb(237,237,237)\",\"ticklen\":6,\"ticks\":\"inside\"},\"type\":\"choropleth\"}],\"contourcarpet\":[{\"colorbar\":{\"outlinewidth\":0,\"tickcolor\":\"rgb(237,237,237)\",\"ticklen\":6,\"ticks\":\"inside\"},\"type\":\"contourcarpet\"}],\"contour\":[{\"colorbar\":{\"outlinewidth\":0,\"tickcolor\":\"rgb(237,237,237)\",\"ticklen\":6,\"ticks\":\"inside\"},\"colorscale\":[[0,\"rgb(20,44,66)\"],[1,\"rgb(90,179,244)\"]],\"type\":\"contour\"}],\"heatmapgl\":[{\"colorbar\":{\"outlinewidth\":0,\"tickcolor\":\"rgb(237,237,237)\",\"ticklen\":6,\"ticks\":\"inside\"},\"colorscale\":[[0,\"rgb(20,44,66)\"],[1,\"rgb(90,179,244)\"]],\"type\":\"heatmapgl\"}],\"heatmap\":[{\"colorbar\":{\"outlinewidth\":0,\"tickcolor\":\"rgb(237,237,237)\",\"ticklen\":6,\"ticks\":\"inside\"},\"colorscale\":[[0,\"rgb(20,44,66)\"],[1,\"rgb(90,179,244)\"]],\"type\":\"heatmap\"}],\"histogram2dcontour\":[{\"colorbar\":{\"outlinewidth\":0,\"tickcolor\":\"rgb(237,237,237)\",\"ticklen\":6,\"ticks\":\"inside\"},\"colorscale\":[[0,\"rgb(20,44,66)\"],[1,\"rgb(90,179,244)\"]],\"type\":\"histogram2dcontour\"}],\"histogram2d\":[{\"colorbar\":{\"outlinewidth\":0,\"tickcolor\":\"rgb(237,237,237)\",\"ticklen\":6,\"ticks\":\"inside\"},\"colorscale\":[[0,\"rgb(20,44,66)\"],[1,\"rgb(90,179,244)\"]],\"type\":\"histogram2d\"}],\"histogram\":[{\"marker\":{\"pattern\":{\"fillmode\":\"overlay\",\"size\":10,\"solidity\":0.2}},\"type\":\"histogram\"}],\"mesh3d\":[{\"colorbar\":{\"outlinewidth\":0,\"tickcolor\":\"rgb(237,237,237)\",\"ticklen\":6,\"ticks\":\"inside\"},\"type\":\"mesh3d\"}],\"parcoords\":[{\"line\":{\"colorbar\":{\"outlinewidth\":0,\"tickcolor\":\"rgb(237,237,237)\",\"ticklen\":6,\"ticks\":\"inside\"}},\"type\":\"parcoords\"}],\"pie\":[{\"automargin\":true,\"type\":\"pie\"}],\"scatter3d\":[{\"line\":{\"colorbar\":{\"outlinewidth\":0,\"tickcolor\":\"rgb(237,237,237)\",\"ticklen\":6,\"ticks\":\"inside\"}},\"marker\":{\"colorbar\":{\"outlinewidth\":0,\"tickcolor\":\"rgb(237,237,237)\",\"ticklen\":6,\"ticks\":\"inside\"}},\"type\":\"scatter3d\"}],\"scattercarpet\":[{\"marker\":{\"colorbar\":{\"outlinewidth\":0,\"tickcolor\":\"rgb(237,237,237)\",\"ticklen\":6,\"ticks\":\"inside\"}},\"type\":\"scattercarpet\"}],\"scattergeo\":[{\"marker\":{\"colorbar\":{\"outlinewidth\":0,\"tickcolor\":\"rgb(237,237,237)\",\"ticklen\":6,\"ticks\":\"inside\"}},\"type\":\"scattergeo\"}],\"scattergl\":[{\"marker\":{\"colorbar\":{\"outlinewidth\":0,\"tickcolor\":\"rgb(237,237,237)\",\"ticklen\":6,\"ticks\":\"inside\"}},\"type\":\"scattergl\"}],\"scattermapbox\":[{\"marker\":{\"colorbar\":{\"outlinewidth\":0,\"tickcolor\":\"rgb(237,237,237)\",\"ticklen\":6,\"ticks\":\"inside\"}},\"type\":\"scattermapbox\"}],\"scatterpolargl\":[{\"marker\":{\"colorbar\":{\"outlinewidth\":0,\"tickcolor\":\"rgb(237,237,237)\",\"ticklen\":6,\"ticks\":\"inside\"}},\"type\":\"scatterpolargl\"}],\"scatterpolar\":[{\"marker\":{\"colorbar\":{\"outlinewidth\":0,\"tickcolor\":\"rgb(237,237,237)\",\"ticklen\":6,\"ticks\":\"inside\"}},\"type\":\"scatterpolar\"}],\"scatter\":[{\"marker\":{\"colorbar\":{\"outlinewidth\":0,\"tickcolor\":\"rgb(237,237,237)\",\"ticklen\":6,\"ticks\":\"inside\"}},\"type\":\"scatter\"}],\"scatterternary\":[{\"marker\":{\"colorbar\":{\"outlinewidth\":0,\"tickcolor\":\"rgb(237,237,237)\",\"ticklen\":6,\"ticks\":\"inside\"}},\"type\":\"scatterternary\"}],\"surface\":[{\"colorbar\":{\"outlinewidth\":0,\"tickcolor\":\"rgb(237,237,237)\",\"ticklen\":6,\"ticks\":\"inside\"},\"colorscale\":[[0,\"rgb(20,44,66)\"],[1,\"rgb(90,179,244)\"]],\"type\":\"surface\"}],\"table\":[{\"cells\":{\"fill\":{\"color\":\"rgb(237,237,237)\"},\"line\":{\"color\":\"white\"}},\"header\":{\"fill\":{\"color\":\"rgb(217,217,217)\"},\"line\":{\"color\":\"white\"}},\"type\":\"table\"}]},\"layout\":{\"annotationdefaults\":{\"arrowhead\":0,\"arrowwidth\":1},\"autotypenumbers\":\"strict\",\"coloraxis\":{\"colorbar\":{\"outlinewidth\":0,\"tickcolor\":\"rgb(237,237,237)\",\"ticklen\":6,\"ticks\":\"inside\"}},\"colorscale\":{\"sequential\":[[0,\"rgb(20,44,66)\"],[1,\"rgb(90,179,244)\"]],\"sequentialminus\":[[0,\"rgb(20,44,66)\"],[1,\"rgb(90,179,244)\"]]},\"colorway\":[\"#F8766D\",\"#A3A500\",\"#00BF7D\",\"#00B0F6\",\"#E76BF3\"],\"font\":{\"color\":\"rgb(51,51,51)\"},\"geo\":{\"bgcolor\":\"white\",\"lakecolor\":\"white\",\"landcolor\":\"rgb(237,237,237)\",\"showlakes\":true,\"showland\":true,\"subunitcolor\":\"white\"},\"hoverlabel\":{\"align\":\"left\"},\"hovermode\":\"closest\",\"paper_bgcolor\":\"white\",\"plot_bgcolor\":\"rgb(237,237,237)\",\"polar\":{\"angularaxis\":{\"gridcolor\":\"white\",\"linecolor\":\"white\",\"showgrid\":true,\"tickcolor\":\"rgb(51,51,51)\",\"ticks\":\"outside\"},\"bgcolor\":\"rgb(237,237,237)\",\"radialaxis\":{\"gridcolor\":\"white\",\"linecolor\":\"white\",\"showgrid\":true,\"tickcolor\":\"rgb(51,51,51)\",\"ticks\":\"outside\"}},\"scene\":{\"xaxis\":{\"backgroundcolor\":\"rgb(237,237,237)\",\"gridcolor\":\"white\",\"gridwidth\":2,\"linecolor\":\"white\",\"showbackground\":true,\"showgrid\":true,\"tickcolor\":\"rgb(51,51,51)\",\"ticks\":\"outside\",\"zerolinecolor\":\"white\"},\"yaxis\":{\"backgroundcolor\":\"rgb(237,237,237)\",\"gridcolor\":\"white\",\"gridwidth\":2,\"linecolor\":\"white\",\"showbackground\":true,\"showgrid\":true,\"tickcolor\":\"rgb(51,51,51)\",\"ticks\":\"outside\",\"zerolinecolor\":\"white\"},\"zaxis\":{\"backgroundcolor\":\"rgb(237,237,237)\",\"gridcolor\":\"white\",\"gridwidth\":2,\"linecolor\":\"white\",\"showbackground\":true,\"showgrid\":true,\"tickcolor\":\"rgb(51,51,51)\",\"ticks\":\"outside\",\"zerolinecolor\":\"white\"}},\"shapedefaults\":{\"fillcolor\":\"black\",\"line\":{\"width\":0},\"opacity\":0.3},\"ternary\":{\"aaxis\":{\"gridcolor\":\"white\",\"linecolor\":\"white\",\"showgrid\":true,\"tickcolor\":\"rgb(51,51,51)\",\"ticks\":\"outside\"},\"baxis\":{\"gridcolor\":\"white\",\"linecolor\":\"white\",\"showgrid\":true,\"tickcolor\":\"rgb(51,51,51)\",\"ticks\":\"outside\"},\"bgcolor\":\"rgb(237,237,237)\",\"caxis\":{\"gridcolor\":\"white\",\"linecolor\":\"white\",\"showgrid\":true,\"tickcolor\":\"rgb(51,51,51)\",\"ticks\":\"outside\"}},\"xaxis\":{\"automargin\":true,\"gridcolor\":\"white\",\"linecolor\":\"white\",\"showgrid\":true,\"tickcolor\":\"rgb(51,51,51)\",\"ticks\":\"outside\",\"title\":{\"standoff\":15},\"zerolinecolor\":\"white\"},\"yaxis\":{\"automargin\":true,\"gridcolor\":\"white\",\"linecolor\":\"white\",\"showgrid\":true,\"tickcolor\":\"rgb(51,51,51)\",\"ticks\":\"outside\",\"title\":{\"standoff\":15},\"zerolinecolor\":\"white\"}}},\"showlegend\":true},                        {\"responsive\": true}                    ).then(function(){\n",
              "                            \n",
              "var gd = document.getElementById('e5815339-4de2-4816-a610-660543111948');\n",
              "var x = new MutationObserver(function (mutations, observer) {{\n",
              "        var display = window.getComputedStyle(gd).display;\n",
              "        if (!display || display === 'none') {{\n",
              "            console.log([gd, 'removed!']);\n",
              "            Plotly.purge(gd);\n",
              "            observer.disconnect();\n",
              "        }}\n",
              "}});\n",
              "\n",
              "// Listen for the removal of the full notebook cells\n",
              "var notebookContainer = gd.closest('#notebook-container');\n",
              "if (notebookContainer) {{\n",
              "    x.observe(notebookContainer, {childList: true});\n",
              "}}\n",
              "\n",
              "// Listen for the clearing of the current output cell\n",
              "var outputEl = gd.closest('.output');\n",
              "if (outputEl) {{\n",
              "    x.observe(outputEl, {childList: true});\n",
              "}}\n",
              "\n",
              "                        })                };                            </script>        </div>\n",
              "</body>\n",
              "</html>"
            ]
          },
          "metadata": {}
        }
      ]
    },
    {
      "cell_type": "code",
      "metadata": {
        "colab": {
          "base_uri": "https://localhost:8080/",
          "height": 1000
        },
        "id": "c1LxFMyqU6sa",
        "outputId": "432d3eb9-4c5c-4189-cb63-17e935fa9a21"
      },
      "source": [
        "exp.plot_model(plot=\"acf\")\n",
        "exp.plot_model(plot=\"pacf\")"
      ],
      "execution_count": 6,
      "outputs": [
        {
          "output_type": "display_data",
          "data": {
            "text/html": [
              "<html>\n",
              "<head><meta charset=\"utf-8\" /></head>\n",
              "<body>\n",
              "    <div>            <script src=\"https://cdnjs.cloudflare.com/ajax/libs/mathjax/2.7.5/MathJax.js?config=TeX-AMS-MML_SVG\"></script><script type=\"text/javascript\">if (window.MathJax) {MathJax.Hub.Config({SVG: {font: \"STIX-Web\"}});}</script>                <script type=\"text/javascript\">window.PlotlyConfig = {MathJaxConfig: 'local'};</script>\n",
              "        <script src=\"https://cdn.plot.ly/plotly-2.6.3.min.js\"></script>                <div id=\"fd5f421d-0b0f-4835-8b37-fb3bd1d27996\" class=\"plotly-graph-div\" style=\"height:525px; width:100%;\"></div>            <script type=\"text/javascript\">                                    window.PLOTLYENV=window.PLOTLYENV || {};                                    if (document.getElementById(\"fd5f421d-0b0f-4835-8b37-fb3bd1d27996\")) {                    Plotly.newPlot(                        \"fd5f421d-0b0f-4835-8b37-fb3bd1d27996\",                        [{\"marker\":{\"color\":\"#1f77b4\",\"size\":10},\"mode\":\"markers\",\"name\":\"ACF\",\"x\":[0,1,2,3,4,5,6,7,8,9,10,11,12,13,14,15,16,17,18,19,20,21,22,23,24,25,26,27,28,29,30,31,32,33,34,35,36,37,38,39,40],\"y\":[1.0,0.9760738123639786,0.9550197685198596,0.9339807044210725,0.9125829441425408,0.891011106424407,0.8673166813277078,0.8464185607526664,0.8256599634508985,0.8083953070452141,0.7862799424412148,0.7656397248321665,0.7463906631407391,0.7288577260129966,0.7101508772430196,0.6859521165532124,0.6595753292927652,0.6286492044389367,0.5984657227180906,0.5705392782024733,0.5421447963033574,0.5143188706749346,0.4915629125762743,0.472410553108233,0.45462326641382017,0.4377651279412417,0.41806682210020807,0.40133487917459376,0.38644822276460544,0.3728657590135482,0.35733754609186286,0.3417498437254146,0.32584182518512755,0.31052349009260205,0.29388072877440186,0.2822430731543513,0.26943087204023997,0.25958224693332166,0.2511105455002192,0.24373647182139696,0.2381766777624215],\"type\":\"scatter\",\"showlegend\":false},{\"line\":{\"color\":\"#3f3f3f\"},\"mode\":\"lines\",\"name\":\"Lag1\",\"x\":[0,0],\"y\":[0,1.0],\"type\":\"scatter\",\"showlegend\":false},{\"line\":{\"color\":\"#3f3f3f\"},\"mode\":\"lines\",\"name\":\"Lag2\",\"x\":[1,1],\"y\":[0,0.9760738123639786],\"type\":\"scatter\",\"showlegend\":false},{\"line\":{\"color\":\"#3f3f3f\"},\"mode\":\"lines\",\"name\":\"Lag3\",\"x\":[2,2],\"y\":[0,0.9550197685198596],\"type\":\"scatter\",\"showlegend\":false},{\"line\":{\"color\":\"#3f3f3f\"},\"mode\":\"lines\",\"name\":\"Lag4\",\"x\":[3,3],\"y\":[0,0.9339807044210725],\"type\":\"scatter\",\"showlegend\":false},{\"line\":{\"color\":\"#3f3f3f\"},\"mode\":\"lines\",\"name\":\"Lag5\",\"x\":[4,4],\"y\":[0,0.9125829441425408],\"type\":\"scatter\",\"showlegend\":false},{\"line\":{\"color\":\"#3f3f3f\"},\"mode\":\"lines\",\"name\":\"Lag6\",\"x\":[5,5],\"y\":[0,0.891011106424407],\"type\":\"scatter\",\"showlegend\":false},{\"line\":{\"color\":\"#3f3f3f\"},\"mode\":\"lines\",\"name\":\"Lag7\",\"x\":[6,6],\"y\":[0,0.8673166813277078],\"type\":\"scatter\",\"showlegend\":false},{\"line\":{\"color\":\"#3f3f3f\"},\"mode\":\"lines\",\"name\":\"Lag8\",\"x\":[7,7],\"y\":[0,0.8464185607526664],\"type\":\"scatter\",\"showlegend\":false},{\"line\":{\"color\":\"#3f3f3f\"},\"mode\":\"lines\",\"name\":\"Lag9\",\"x\":[8,8],\"y\":[0,0.8256599634508985],\"type\":\"scatter\",\"showlegend\":false},{\"line\":{\"color\":\"#3f3f3f\"},\"mode\":\"lines\",\"name\":\"Lag10\",\"x\":[9,9],\"y\":[0,0.8083953070452141],\"type\":\"scatter\",\"showlegend\":false},{\"line\":{\"color\":\"#3f3f3f\"},\"mode\":\"lines\",\"name\":\"Lag11\",\"x\":[10,10],\"y\":[0,0.7862799424412148],\"type\":\"scatter\",\"showlegend\":false},{\"line\":{\"color\":\"#3f3f3f\"},\"mode\":\"lines\",\"name\":\"Lag12\",\"x\":[11,11],\"y\":[0,0.7656397248321665],\"type\":\"scatter\",\"showlegend\":false},{\"line\":{\"color\":\"#3f3f3f\"},\"mode\":\"lines\",\"name\":\"Lag13\",\"x\":[12,12],\"y\":[0,0.7463906631407391],\"type\":\"scatter\",\"showlegend\":false},{\"line\":{\"color\":\"#3f3f3f\"},\"mode\":\"lines\",\"name\":\"Lag14\",\"x\":[13,13],\"y\":[0,0.7288577260129966],\"type\":\"scatter\",\"showlegend\":false},{\"line\":{\"color\":\"#3f3f3f\"},\"mode\":\"lines\",\"name\":\"Lag15\",\"x\":[14,14],\"y\":[0,0.7101508772430196],\"type\":\"scatter\",\"showlegend\":false},{\"line\":{\"color\":\"#3f3f3f\"},\"mode\":\"lines\",\"name\":\"Lag16\",\"x\":[15,15],\"y\":[0,0.6859521165532124],\"type\":\"scatter\",\"showlegend\":false},{\"line\":{\"color\":\"#3f3f3f\"},\"mode\":\"lines\",\"name\":\"Lag17\",\"x\":[16,16],\"y\":[0,0.6595753292927652],\"type\":\"scatter\",\"showlegend\":false},{\"line\":{\"color\":\"#3f3f3f\"},\"mode\":\"lines\",\"name\":\"Lag18\",\"x\":[17,17],\"y\":[0,0.6286492044389367],\"type\":\"scatter\",\"showlegend\":false},{\"line\":{\"color\":\"#3f3f3f\"},\"mode\":\"lines\",\"name\":\"Lag19\",\"x\":[18,18],\"y\":[0,0.5984657227180906],\"type\":\"scatter\",\"showlegend\":false},{\"line\":{\"color\":\"#3f3f3f\"},\"mode\":\"lines\",\"name\":\"Lag20\",\"x\":[19,19],\"y\":[0,0.5705392782024733],\"type\":\"scatter\",\"showlegend\":false},{\"line\":{\"color\":\"#3f3f3f\"},\"mode\":\"lines\",\"name\":\"Lag21\",\"x\":[20,20],\"y\":[0,0.5421447963033574],\"type\":\"scatter\",\"showlegend\":false},{\"line\":{\"color\":\"#3f3f3f\"},\"mode\":\"lines\",\"name\":\"Lag22\",\"x\":[21,21],\"y\":[0,0.5143188706749346],\"type\":\"scatter\",\"showlegend\":false},{\"line\":{\"color\":\"#3f3f3f\"},\"mode\":\"lines\",\"name\":\"Lag23\",\"x\":[22,22],\"y\":[0,0.4915629125762743],\"type\":\"scatter\",\"showlegend\":false},{\"line\":{\"color\":\"#3f3f3f\"},\"mode\":\"lines\",\"name\":\"Lag24\",\"x\":[23,23],\"y\":[0,0.472410553108233],\"type\":\"scatter\",\"showlegend\":false},{\"line\":{\"color\":\"#3f3f3f\"},\"mode\":\"lines\",\"name\":\"Lag25\",\"x\":[24,24],\"y\":[0,0.45462326641382017],\"type\":\"scatter\",\"showlegend\":false},{\"line\":{\"color\":\"#3f3f3f\"},\"mode\":\"lines\",\"name\":\"Lag26\",\"x\":[25,25],\"y\":[0,0.4377651279412417],\"type\":\"scatter\",\"showlegend\":false},{\"line\":{\"color\":\"#3f3f3f\"},\"mode\":\"lines\",\"name\":\"Lag27\",\"x\":[26,26],\"y\":[0,0.41806682210020807],\"type\":\"scatter\",\"showlegend\":false},{\"line\":{\"color\":\"#3f3f3f\"},\"mode\":\"lines\",\"name\":\"Lag28\",\"x\":[27,27],\"y\":[0,0.40133487917459376],\"type\":\"scatter\",\"showlegend\":false},{\"line\":{\"color\":\"#3f3f3f\"},\"mode\":\"lines\",\"name\":\"Lag29\",\"x\":[28,28],\"y\":[0,0.38644822276460544],\"type\":\"scatter\",\"showlegend\":false},{\"line\":{\"color\":\"#3f3f3f\"},\"mode\":\"lines\",\"name\":\"Lag30\",\"x\":[29,29],\"y\":[0,0.3728657590135482],\"type\":\"scatter\",\"showlegend\":false},{\"line\":{\"color\":\"#3f3f3f\"},\"mode\":\"lines\",\"name\":\"Lag31\",\"x\":[30,30],\"y\":[0,0.35733754609186286],\"type\":\"scatter\",\"showlegend\":false},{\"line\":{\"color\":\"#3f3f3f\"},\"mode\":\"lines\",\"name\":\"Lag32\",\"x\":[31,31],\"y\":[0,0.3417498437254146],\"type\":\"scatter\",\"showlegend\":false},{\"line\":{\"color\":\"#3f3f3f\"},\"mode\":\"lines\",\"name\":\"Lag33\",\"x\":[32,32],\"y\":[0,0.32584182518512755],\"type\":\"scatter\",\"showlegend\":false},{\"line\":{\"color\":\"#3f3f3f\"},\"mode\":\"lines\",\"name\":\"Lag34\",\"x\":[33,33],\"y\":[0,0.31052349009260205],\"type\":\"scatter\",\"showlegend\":false},{\"line\":{\"color\":\"#3f3f3f\"},\"mode\":\"lines\",\"name\":\"Lag35\",\"x\":[34,34],\"y\":[0,0.29388072877440186],\"type\":\"scatter\",\"showlegend\":false},{\"line\":{\"color\":\"#3f3f3f\"},\"mode\":\"lines\",\"name\":\"Lag36\",\"x\":[35,35],\"y\":[0,0.2822430731543513],\"type\":\"scatter\",\"showlegend\":false},{\"line\":{\"color\":\"#3f3f3f\"},\"mode\":\"lines\",\"name\":\"Lag37\",\"x\":[36,36],\"y\":[0,0.26943087204023997],\"type\":\"scatter\",\"showlegend\":false},{\"line\":{\"color\":\"#3f3f3f\"},\"mode\":\"lines\",\"name\":\"Lag38\",\"x\":[37,37],\"y\":[0,0.25958224693332166],\"type\":\"scatter\",\"showlegend\":false},{\"line\":{\"color\":\"#3f3f3f\"},\"mode\":\"lines\",\"name\":\"Lag39\",\"x\":[38,38],\"y\":[0,0.2511105455002192],\"type\":\"scatter\",\"showlegend\":false},{\"line\":{\"color\":\"#3f3f3f\"},\"mode\":\"lines\",\"name\":\"Lag40\",\"x\":[39,39],\"y\":[0,0.24373647182139696],\"type\":\"scatter\",\"showlegend\":false},{\"line\":{\"color\":\"#3f3f3f\"},\"mode\":\"lines\",\"name\":\"Lag41\",\"x\":[40,40],\"y\":[0,0.2381766777624215],\"type\":\"scatter\",\"showlegend\":false},{\"line\":{\"color\":\"rgba(255,255,255,0)\"},\"mode\":\"lines\",\"name\":\"UC\",\"x\":[0,1,2,3,4,5,6,7,8,9,10,11,12,13,14,15,16,17,18,19,20,21,22,23,24,25,26,27,28,29,30,31,32,33,34,35,36,37,38,39,40],\"y\":[0.0,0.10629397111858785,0.18118181302229375,0.23116350109655037,0.2704592729044122,0.30326064626063476,0.33152171897867877,0.3562370550274947,0.378277344935545,0.3981184803513398,0.41625162006688843,0.432707268315216,0.44775208383674636,0.4615957029745593,0.474420468453121,0.48628250833883657,0.49709472431994917,0.5068862548319273,0.5156199503879287,0.5234092439626329,0.5303893296009354,0.536613938913082,0.542154883317439,0.5471673225602642,0.5517563316761447,0.5559724920311186,0.5598533982893101,0.5633695911135612,0.566590644405164,0.5695608986604517,0.5723121763995997,0.5748274676103021,0.577118503011463,0.5791933493700405,0.5810712781849058,0.5827481654571398,0.5842906064559854,0.5856926526620212,0.5869910760692667,0.5882035359358,0.5893435495015766],\"type\":\"scatter\",\"showlegend\":false},{\"fill\":\"tonexty\",\"fillcolor\":\"rgba(32, 146, 230,0.3)\",\"line\":{\"color\":\"rgba(255,255,255,0)\"},\"mode\":\"lines\",\"name\":\"LC\",\"x\":[0,1,2,3,4,5,6,7,8,9,10,11,12,13,14,15,16,17,18,19,20,21,22,23,24,25,26,27,28,29,30,31,32,33,34,35,36,37,38,39,40],\"y\":[0.0,-0.10629397111858785,-0.18118181302229375,-0.23116350109655037,-0.2704592729044122,-0.30326064626063476,-0.33152171897867877,-0.3562370550274947,-0.37827734493554493,-0.3981184803513398,-0.4162516200668885,-0.4327072683152159,-0.4477520838367463,-0.46159570297455926,-0.47442046845312097,-0.4862825083388366,-0.49709472431994906,-0.5068862548319272,-0.5156199503879287,-0.5234092439626329,-0.5303893296009354,-0.5366139389130818,-0.5421548833174391,-0.5471673225602641,-0.5517563316761446,-0.5559724920311186,-0.5598533982893101,-0.5633695911135612,-0.566590644405164,-0.5695608986604518,-0.5723121763995997,-0.5748274676103021,-0.577118503011463,-0.5791933493700405,-0.5810712781849058,-0.5827481654571398,-0.5842906064559854,-0.5856926526620212,-0.5869910760692667,-0.5882035359358001,-0.5893435495015766],\"type\":\"scatter\",\"showlegend\":false},{\"line\":{\"color\":\"#3f3f3f\"},\"mode\":\"lines\",\"name\":\"\",\"x\":[0,41],\"y\":[0,0],\"type\":\"scatter\",\"showlegend\":false}],                        {\"template\":{\"data\":{\"barpolar\":[{\"marker\":{\"line\":{\"color\":\"rgb(237,237,237)\",\"width\":0.5},\"pattern\":{\"fillmode\":\"overlay\",\"size\":10,\"solidity\":0.2}},\"type\":\"barpolar\"}],\"bar\":[{\"error_x\":{\"color\":\"rgb(51,51,51)\"},\"error_y\":{\"color\":\"rgb(51,51,51)\"},\"marker\":{\"line\":{\"color\":\"rgb(237,237,237)\",\"width\":0.5},\"pattern\":{\"fillmode\":\"overlay\",\"size\":10,\"solidity\":0.2}},\"type\":\"bar\"}],\"carpet\":[{\"aaxis\":{\"endlinecolor\":\"rgb(51,51,51)\",\"gridcolor\":\"white\",\"linecolor\":\"white\",\"minorgridcolor\":\"white\",\"startlinecolor\":\"rgb(51,51,51)\"},\"baxis\":{\"endlinecolor\":\"rgb(51,51,51)\",\"gridcolor\":\"white\",\"linecolor\":\"white\",\"minorgridcolor\":\"white\",\"startlinecolor\":\"rgb(51,51,51)\"},\"type\":\"carpet\"}],\"choropleth\":[{\"colorbar\":{\"outlinewidth\":0,\"tickcolor\":\"rgb(237,237,237)\",\"ticklen\":6,\"ticks\":\"inside\"},\"type\":\"choropleth\"}],\"contourcarpet\":[{\"colorbar\":{\"outlinewidth\":0,\"tickcolor\":\"rgb(237,237,237)\",\"ticklen\":6,\"ticks\":\"inside\"},\"type\":\"contourcarpet\"}],\"contour\":[{\"colorbar\":{\"outlinewidth\":0,\"tickcolor\":\"rgb(237,237,237)\",\"ticklen\":6,\"ticks\":\"inside\"},\"colorscale\":[[0,\"rgb(20,44,66)\"],[1,\"rgb(90,179,244)\"]],\"type\":\"contour\"}],\"heatmapgl\":[{\"colorbar\":{\"outlinewidth\":0,\"tickcolor\":\"rgb(237,237,237)\",\"ticklen\":6,\"ticks\":\"inside\"},\"colorscale\":[[0,\"rgb(20,44,66)\"],[1,\"rgb(90,179,244)\"]],\"type\":\"heatmapgl\"}],\"heatmap\":[{\"colorbar\":{\"outlinewidth\":0,\"tickcolor\":\"rgb(237,237,237)\",\"ticklen\":6,\"ticks\":\"inside\"},\"colorscale\":[[0,\"rgb(20,44,66)\"],[1,\"rgb(90,179,244)\"]],\"type\":\"heatmap\"}],\"histogram2dcontour\":[{\"colorbar\":{\"outlinewidth\":0,\"tickcolor\":\"rgb(237,237,237)\",\"ticklen\":6,\"ticks\":\"inside\"},\"colorscale\":[[0,\"rgb(20,44,66)\"],[1,\"rgb(90,179,244)\"]],\"type\":\"histogram2dcontour\"}],\"histogram2d\":[{\"colorbar\":{\"outlinewidth\":0,\"tickcolor\":\"rgb(237,237,237)\",\"ticklen\":6,\"ticks\":\"inside\"},\"colorscale\":[[0,\"rgb(20,44,66)\"],[1,\"rgb(90,179,244)\"]],\"type\":\"histogram2d\"}],\"histogram\":[{\"marker\":{\"pattern\":{\"fillmode\":\"overlay\",\"size\":10,\"solidity\":0.2}},\"type\":\"histogram\"}],\"mesh3d\":[{\"colorbar\":{\"outlinewidth\":0,\"tickcolor\":\"rgb(237,237,237)\",\"ticklen\":6,\"ticks\":\"inside\"},\"type\":\"mesh3d\"}],\"parcoords\":[{\"line\":{\"colorbar\":{\"outlinewidth\":0,\"tickcolor\":\"rgb(237,237,237)\",\"ticklen\":6,\"ticks\":\"inside\"}},\"type\":\"parcoords\"}],\"pie\":[{\"automargin\":true,\"type\":\"pie\"}],\"scatter3d\":[{\"line\":{\"colorbar\":{\"outlinewidth\":0,\"tickcolor\":\"rgb(237,237,237)\",\"ticklen\":6,\"ticks\":\"inside\"}},\"marker\":{\"colorbar\":{\"outlinewidth\":0,\"tickcolor\":\"rgb(237,237,237)\",\"ticklen\":6,\"ticks\":\"inside\"}},\"type\":\"scatter3d\"}],\"scattercarpet\":[{\"marker\":{\"colorbar\":{\"outlinewidth\":0,\"tickcolor\":\"rgb(237,237,237)\",\"ticklen\":6,\"ticks\":\"inside\"}},\"type\":\"scattercarpet\"}],\"scattergeo\":[{\"marker\":{\"colorbar\":{\"outlinewidth\":0,\"tickcolor\":\"rgb(237,237,237)\",\"ticklen\":6,\"ticks\":\"inside\"}},\"type\":\"scattergeo\"}],\"scattergl\":[{\"marker\":{\"colorbar\":{\"outlinewidth\":0,\"tickcolor\":\"rgb(237,237,237)\",\"ticklen\":6,\"ticks\":\"inside\"}},\"type\":\"scattergl\"}],\"scattermapbox\":[{\"marker\":{\"colorbar\":{\"outlinewidth\":0,\"tickcolor\":\"rgb(237,237,237)\",\"ticklen\":6,\"ticks\":\"inside\"}},\"type\":\"scattermapbox\"}],\"scatterpolargl\":[{\"marker\":{\"colorbar\":{\"outlinewidth\":0,\"tickcolor\":\"rgb(237,237,237)\",\"ticklen\":6,\"ticks\":\"inside\"}},\"type\":\"scatterpolargl\"}],\"scatterpolar\":[{\"marker\":{\"colorbar\":{\"outlinewidth\":0,\"tickcolor\":\"rgb(237,237,237)\",\"ticklen\":6,\"ticks\":\"inside\"}},\"type\":\"scatterpolar\"}],\"scatter\":[{\"marker\":{\"colorbar\":{\"outlinewidth\":0,\"tickcolor\":\"rgb(237,237,237)\",\"ticklen\":6,\"ticks\":\"inside\"}},\"type\":\"scatter\"}],\"scatterternary\":[{\"marker\":{\"colorbar\":{\"outlinewidth\":0,\"tickcolor\":\"rgb(237,237,237)\",\"ticklen\":6,\"ticks\":\"inside\"}},\"type\":\"scatterternary\"}],\"surface\":[{\"colorbar\":{\"outlinewidth\":0,\"tickcolor\":\"rgb(237,237,237)\",\"ticklen\":6,\"ticks\":\"inside\"},\"colorscale\":[[0,\"rgb(20,44,66)\"],[1,\"rgb(90,179,244)\"]],\"type\":\"surface\"}],\"table\":[{\"cells\":{\"fill\":{\"color\":\"rgb(237,237,237)\"},\"line\":{\"color\":\"white\"}},\"header\":{\"fill\":{\"color\":\"rgb(217,217,217)\"},\"line\":{\"color\":\"white\"}},\"type\":\"table\"}]},\"layout\":{\"annotationdefaults\":{\"arrowhead\":0,\"arrowwidth\":1},\"autotypenumbers\":\"strict\",\"coloraxis\":{\"colorbar\":{\"outlinewidth\":0,\"tickcolor\":\"rgb(237,237,237)\",\"ticklen\":6,\"ticks\":\"inside\"}},\"colorscale\":{\"sequential\":[[0,\"rgb(20,44,66)\"],[1,\"rgb(90,179,244)\"]],\"sequentialminus\":[[0,\"rgb(20,44,66)\"],[1,\"rgb(90,179,244)\"]]},\"colorway\":[\"#F8766D\",\"#A3A500\",\"#00BF7D\",\"#00B0F6\",\"#E76BF3\"],\"font\":{\"color\":\"rgb(51,51,51)\"},\"geo\":{\"bgcolor\":\"white\",\"lakecolor\":\"white\",\"landcolor\":\"rgb(237,237,237)\",\"showlakes\":true,\"showland\":true,\"subunitcolor\":\"white\"},\"hoverlabel\":{\"align\":\"left\"},\"hovermode\":\"closest\",\"paper_bgcolor\":\"white\",\"plot_bgcolor\":\"rgb(237,237,237)\",\"polar\":{\"angularaxis\":{\"gridcolor\":\"white\",\"linecolor\":\"white\",\"showgrid\":true,\"tickcolor\":\"rgb(51,51,51)\",\"ticks\":\"outside\"},\"bgcolor\":\"rgb(237,237,237)\",\"radialaxis\":{\"gridcolor\":\"white\",\"linecolor\":\"white\",\"showgrid\":true,\"tickcolor\":\"rgb(51,51,51)\",\"ticks\":\"outside\"}},\"scene\":{\"xaxis\":{\"backgroundcolor\":\"rgb(237,237,237)\",\"gridcolor\":\"white\",\"gridwidth\":2,\"linecolor\":\"white\",\"showbackground\":true,\"showgrid\":true,\"tickcolor\":\"rgb(51,51,51)\",\"ticks\":\"outside\",\"zerolinecolor\":\"white\"},\"yaxis\":{\"backgroundcolor\":\"rgb(237,237,237)\",\"gridcolor\":\"white\",\"gridwidth\":2,\"linecolor\":\"white\",\"showbackground\":true,\"showgrid\":true,\"tickcolor\":\"rgb(51,51,51)\",\"ticks\":\"outside\",\"zerolinecolor\":\"white\"},\"zaxis\":{\"backgroundcolor\":\"rgb(237,237,237)\",\"gridcolor\":\"white\",\"gridwidth\":2,\"linecolor\":\"white\",\"showbackground\":true,\"showgrid\":true,\"tickcolor\":\"rgb(51,51,51)\",\"ticks\":\"outside\",\"zerolinecolor\":\"white\"}},\"shapedefaults\":{\"fillcolor\":\"black\",\"line\":{\"width\":0},\"opacity\":0.3},\"ternary\":{\"aaxis\":{\"gridcolor\":\"white\",\"linecolor\":\"white\",\"showgrid\":true,\"tickcolor\":\"rgb(51,51,51)\",\"ticks\":\"outside\"},\"baxis\":{\"gridcolor\":\"white\",\"linecolor\":\"white\",\"showgrid\":true,\"tickcolor\":\"rgb(51,51,51)\",\"ticks\":\"outside\"},\"bgcolor\":\"rgb(237,237,237)\",\"caxis\":{\"gridcolor\":\"white\",\"linecolor\":\"white\",\"showgrid\":true,\"tickcolor\":\"rgb(51,51,51)\",\"ticks\":\"outside\"}},\"xaxis\":{\"automargin\":true,\"gridcolor\":\"white\",\"linecolor\":\"white\",\"showgrid\":true,\"tickcolor\":\"rgb(51,51,51)\",\"ticks\":\"outside\",\"title\":{\"standoff\":15},\"zerolinecolor\":\"white\"},\"yaxis\":{\"automargin\":true,\"gridcolor\":\"white\",\"linecolor\":\"white\",\"showgrid\":true,\"tickcolor\":\"rgb(51,51,51)\",\"ticks\":\"outside\",\"title\":{\"standoff\":15},\"zerolinecolor\":\"white\"}}},\"xaxis\":{\"range\":[-1,42]},\"yaxis\":{\"zerolinecolor\":\"#000000\"},\"title\":{\"text\":\"Autocorrelation (ACF) | x\"}},                        {\"responsive\": true}                    ).then(function(){\n",
              "                            \n",
              "var gd = document.getElementById('fd5f421d-0b0f-4835-8b37-fb3bd1d27996');\n",
              "var x = new MutationObserver(function (mutations, observer) {{\n",
              "        var display = window.getComputedStyle(gd).display;\n",
              "        if (!display || display === 'none') {{\n",
              "            console.log([gd, 'removed!']);\n",
              "            Plotly.purge(gd);\n",
              "            observer.disconnect();\n",
              "        }}\n",
              "}});\n",
              "\n",
              "// Listen for the removal of the full notebook cells\n",
              "var notebookContainer = gd.closest('#notebook-container');\n",
              "if (notebookContainer) {{\n",
              "    x.observe(notebookContainer, {childList: true});\n",
              "}}\n",
              "\n",
              "// Listen for the clearing of the current output cell\n",
              "var outputEl = gd.closest('.output');\n",
              "if (outputEl) {{\n",
              "    x.observe(outputEl, {childList: true});\n",
              "}}\n",
              "\n",
              "                        })                };                            </script>        </div>\n",
              "</body>\n",
              "</html>"
            ]
          },
          "metadata": {}
        },
        {
          "output_type": "display_data",
          "data": {
            "text/html": [
              "<html>\n",
              "<head><meta charset=\"utf-8\" /></head>\n",
              "<body>\n",
              "    <div>            <script src=\"https://cdnjs.cloudflare.com/ajax/libs/mathjax/2.7.5/MathJax.js?config=TeX-AMS-MML_SVG\"></script><script type=\"text/javascript\">if (window.MathJax) {MathJax.Hub.Config({SVG: {font: \"STIX-Web\"}});}</script>                <script type=\"text/javascript\">window.PlotlyConfig = {MathJaxConfig: 'local'};</script>\n",
              "        <script src=\"https://cdn.plot.ly/plotly-2.6.3.min.js\"></script>                <div id=\"d506a96e-f25d-4183-b362-1c5abccc8e83\" class=\"plotly-graph-div\" style=\"height:525px; width:100%;\"></div>            <script type=\"text/javascript\">                                    window.PLOTLYENV=window.PLOTLYENV || {};                                    if (document.getElementById(\"d506a96e-f25d-4183-b362-1c5abccc8e83\")) {                    Plotly.newPlot(                        \"d506a96e-f25d-4183-b362-1c5abccc8e83\",                        [{\"marker\":{\"color\":\"#1f77b4\",\"size\":10},\"mode\":\"markers\",\"name\":\"PACF\",\"x\":[0,1,2,3,4,5,6,7,8,9,10,11,12,13,14,15,16,17,18,19,20,21,22,23,24,25,26,27,28,29,30,31,32,33,34,35,36,37,38,39,40],\"y\":[1.0,0.9789530861467635,0.05574022872147745,-0.007288425961196295,-0.02084587537358008,-0.018243440077958806,-0.06588743971983588,0.047459646781659974,-0.0011141787738740054,0.07617743493036808,-0.12232949014385072,0.011149665733499575,0.015188516525449863,0.04118679846760389,-0.044358589668865564,-0.13722652739234711,-0.10988466547584674,-0.14564931282719593,-0.03740029002140385,0.06873063438689189,-0.007599546830395844,-0.01502402836131332,0.09934151532652331,0.07666445448036582,0.05498396424840536,0.018519596931707284,-0.08747032418999937,0.018513394184567704,0.021873577250010986,0.06328255388498032,-0.0027786508302442524,0.01791211665912136,-0.03316590843387887,0.00848299364361215,-0.05406206053701728,0.14916965881636376,-0.08188239506088478,0.02235983880330245,-0.06043086163134434,0.025633636559635763,0.04787901789154522],\"type\":\"scatter\",\"showlegend\":false},{\"line\":{\"color\":\"#3f3f3f\"},\"mode\":\"lines\",\"name\":\"Lag1\",\"x\":[0,0],\"y\":[0,1.0],\"type\":\"scatter\",\"showlegend\":false},{\"line\":{\"color\":\"#3f3f3f\"},\"mode\":\"lines\",\"name\":\"Lag2\",\"x\":[1,1],\"y\":[0,0.9789530861467635],\"type\":\"scatter\",\"showlegend\":false},{\"line\":{\"color\":\"#3f3f3f\"},\"mode\":\"lines\",\"name\":\"Lag3\",\"x\":[2,2],\"y\":[0,0.05574022872147745],\"type\":\"scatter\",\"showlegend\":false},{\"line\":{\"color\":\"#3f3f3f\"},\"mode\":\"lines\",\"name\":\"Lag4\",\"x\":[3,3],\"y\":[0,-0.007288425961196295],\"type\":\"scatter\",\"showlegend\":false},{\"line\":{\"color\":\"#3f3f3f\"},\"mode\":\"lines\",\"name\":\"Lag5\",\"x\":[4,4],\"y\":[0,-0.02084587537358008],\"type\":\"scatter\",\"showlegend\":false},{\"line\":{\"color\":\"#3f3f3f\"},\"mode\":\"lines\",\"name\":\"Lag6\",\"x\":[5,5],\"y\":[0,-0.018243440077958806],\"type\":\"scatter\",\"showlegend\":false},{\"line\":{\"color\":\"#3f3f3f\"},\"mode\":\"lines\",\"name\":\"Lag7\",\"x\":[6,6],\"y\":[0,-0.06588743971983588],\"type\":\"scatter\",\"showlegend\":false},{\"line\":{\"color\":\"#3f3f3f\"},\"mode\":\"lines\",\"name\":\"Lag8\",\"x\":[7,7],\"y\":[0,0.047459646781659974],\"type\":\"scatter\",\"showlegend\":false},{\"line\":{\"color\":\"#3f3f3f\"},\"mode\":\"lines\",\"name\":\"Lag9\",\"x\":[8,8],\"y\":[0,-0.0011141787738740054],\"type\":\"scatter\",\"showlegend\":false},{\"line\":{\"color\":\"#3f3f3f\"},\"mode\":\"lines\",\"name\":\"Lag10\",\"x\":[9,9],\"y\":[0,0.07617743493036808],\"type\":\"scatter\",\"showlegend\":false},{\"line\":{\"color\":\"#3f3f3f\"},\"mode\":\"lines\",\"name\":\"Lag11\",\"x\":[10,10],\"y\":[0,-0.12232949014385072],\"type\":\"scatter\",\"showlegend\":false},{\"line\":{\"color\":\"#3f3f3f\"},\"mode\":\"lines\",\"name\":\"Lag12\",\"x\":[11,11],\"y\":[0,0.011149665733499575],\"type\":\"scatter\",\"showlegend\":false},{\"line\":{\"color\":\"#3f3f3f\"},\"mode\":\"lines\",\"name\":\"Lag13\",\"x\":[12,12],\"y\":[0,0.015188516525449863],\"type\":\"scatter\",\"showlegend\":false},{\"line\":{\"color\":\"#3f3f3f\"},\"mode\":\"lines\",\"name\":\"Lag14\",\"x\":[13,13],\"y\":[0,0.04118679846760389],\"type\":\"scatter\",\"showlegend\":false},{\"line\":{\"color\":\"#3f3f3f\"},\"mode\":\"lines\",\"name\":\"Lag15\",\"x\":[14,14],\"y\":[0,-0.044358589668865564],\"type\":\"scatter\",\"showlegend\":false},{\"line\":{\"color\":\"#3f3f3f\"},\"mode\":\"lines\",\"name\":\"Lag16\",\"x\":[15,15],\"y\":[0,-0.13722652739234711],\"type\":\"scatter\",\"showlegend\":false},{\"line\":{\"color\":\"#3f3f3f\"},\"mode\":\"lines\",\"name\":\"Lag17\",\"x\":[16,16],\"y\":[0,-0.10988466547584674],\"type\":\"scatter\",\"showlegend\":false},{\"line\":{\"color\":\"#3f3f3f\"},\"mode\":\"lines\",\"name\":\"Lag18\",\"x\":[17,17],\"y\":[0,-0.14564931282719593],\"type\":\"scatter\",\"showlegend\":false},{\"line\":{\"color\":\"#3f3f3f\"},\"mode\":\"lines\",\"name\":\"Lag19\",\"x\":[18,18],\"y\":[0,-0.03740029002140385],\"type\":\"scatter\",\"showlegend\":false},{\"line\":{\"color\":\"#3f3f3f\"},\"mode\":\"lines\",\"name\":\"Lag20\",\"x\":[19,19],\"y\":[0,0.06873063438689189],\"type\":\"scatter\",\"showlegend\":false},{\"line\":{\"color\":\"#3f3f3f\"},\"mode\":\"lines\",\"name\":\"Lag21\",\"x\":[20,20],\"y\":[0,-0.007599546830395844],\"type\":\"scatter\",\"showlegend\":false},{\"line\":{\"color\":\"#3f3f3f\"},\"mode\":\"lines\",\"name\":\"Lag22\",\"x\":[21,21],\"y\":[0,-0.01502402836131332],\"type\":\"scatter\",\"showlegend\":false},{\"line\":{\"color\":\"#3f3f3f\"},\"mode\":\"lines\",\"name\":\"Lag23\",\"x\":[22,22],\"y\":[0,0.09934151532652331],\"type\":\"scatter\",\"showlegend\":false},{\"line\":{\"color\":\"#3f3f3f\"},\"mode\":\"lines\",\"name\":\"Lag24\",\"x\":[23,23],\"y\":[0,0.07666445448036582],\"type\":\"scatter\",\"showlegend\":false},{\"line\":{\"color\":\"#3f3f3f\"},\"mode\":\"lines\",\"name\":\"Lag25\",\"x\":[24,24],\"y\":[0,0.05498396424840536],\"type\":\"scatter\",\"showlegend\":false},{\"line\":{\"color\":\"#3f3f3f\"},\"mode\":\"lines\",\"name\":\"Lag26\",\"x\":[25,25],\"y\":[0,0.018519596931707284],\"type\":\"scatter\",\"showlegend\":false},{\"line\":{\"color\":\"#3f3f3f\"},\"mode\":\"lines\",\"name\":\"Lag27\",\"x\":[26,26],\"y\":[0,-0.08747032418999937],\"type\":\"scatter\",\"showlegend\":false},{\"line\":{\"color\":\"#3f3f3f\"},\"mode\":\"lines\",\"name\":\"Lag28\",\"x\":[27,27],\"y\":[0,0.018513394184567704],\"type\":\"scatter\",\"showlegend\":false},{\"line\":{\"color\":\"#3f3f3f\"},\"mode\":\"lines\",\"name\":\"Lag29\",\"x\":[28,28],\"y\":[0,0.021873577250010986],\"type\":\"scatter\",\"showlegend\":false},{\"line\":{\"color\":\"#3f3f3f\"},\"mode\":\"lines\",\"name\":\"Lag30\",\"x\":[29,29],\"y\":[0,0.06328255388498032],\"type\":\"scatter\",\"showlegend\":false},{\"line\":{\"color\":\"#3f3f3f\"},\"mode\":\"lines\",\"name\":\"Lag31\",\"x\":[30,30],\"y\":[0,-0.0027786508302442524],\"type\":\"scatter\",\"showlegend\":false},{\"line\":{\"color\":\"#3f3f3f\"},\"mode\":\"lines\",\"name\":\"Lag32\",\"x\":[31,31],\"y\":[0,0.01791211665912136],\"type\":\"scatter\",\"showlegend\":false},{\"line\":{\"color\":\"#3f3f3f\"},\"mode\":\"lines\",\"name\":\"Lag33\",\"x\":[32,32],\"y\":[0,-0.03316590843387887],\"type\":\"scatter\",\"showlegend\":false},{\"line\":{\"color\":\"#3f3f3f\"},\"mode\":\"lines\",\"name\":\"Lag34\",\"x\":[33,33],\"y\":[0,0.00848299364361215],\"type\":\"scatter\",\"showlegend\":false},{\"line\":{\"color\":\"#3f3f3f\"},\"mode\":\"lines\",\"name\":\"Lag35\",\"x\":[34,34],\"y\":[0,-0.05406206053701728],\"type\":\"scatter\",\"showlegend\":false},{\"line\":{\"color\":\"#3f3f3f\"},\"mode\":\"lines\",\"name\":\"Lag36\",\"x\":[35,35],\"y\":[0,0.14916965881636376],\"type\":\"scatter\",\"showlegend\":false},{\"line\":{\"color\":\"#3f3f3f\"},\"mode\":\"lines\",\"name\":\"Lag37\",\"x\":[36,36],\"y\":[0,-0.08188239506088478],\"type\":\"scatter\",\"showlegend\":false},{\"line\":{\"color\":\"#3f3f3f\"},\"mode\":\"lines\",\"name\":\"Lag38\",\"x\":[37,37],\"y\":[0,0.02235983880330245],\"type\":\"scatter\",\"showlegend\":false},{\"line\":{\"color\":\"#3f3f3f\"},\"mode\":\"lines\",\"name\":\"Lag39\",\"x\":[38,38],\"y\":[0,-0.06043086163134434],\"type\":\"scatter\",\"showlegend\":false},{\"line\":{\"color\":\"#3f3f3f\"},\"mode\":\"lines\",\"name\":\"Lag40\",\"x\":[39,39],\"y\":[0,0.025633636559635763],\"type\":\"scatter\",\"showlegend\":false},{\"line\":{\"color\":\"#3f3f3f\"},\"mode\":\"lines\",\"name\":\"Lag41\",\"x\":[40,40],\"y\":[0,0.04787901789154522],\"type\":\"scatter\",\"showlegend\":false},{\"line\":{\"color\":\"rgba(255,255,255,0)\"},\"mode\":\"lines\",\"name\":\"UC\",\"x\":[0,1,2,3,4,5,6,7,8,9,10,11,12,13,14,15,16,17,18,19,20,21,22,23,24,25,26,27,28,29,30,31,32,33,34,35,36,37,38,39,40],\"y\":[0.0,0.10629397111858796,0.10629397111858786,0.10629397111858786,0.10629397111858786,0.10629397111858786,0.10629397111858786,0.10629397111858785,0.10629397111858786,0.10629397111858788,0.10629397111858786,0.10629397111858786,0.10629397111858786,0.10629397111858785,0.10629397111858786,0.10629397111858786,0.10629397111858786,0.10629397111858786,0.10629397111858788,0.10629397111858788,0.10629397111858786,0.10629397111858786,0.10629397111858786,0.10629397111858788,0.10629397111858786,0.10629397111858786,0.10629397111858786,0.10629397111858785,0.10629397111858785,0.10629397111858786,0.10629397111858786,0.10629397111858786,0.10629397111858786,0.10629397111858785,0.10629397111858786,0.10629397111858788,0.10629397111858786,0.10629397111858788,0.10629397111858786,0.10629397111858785,0.10629397111858788],\"type\":\"scatter\",\"showlegend\":false},{\"fill\":\"tonexty\",\"fillcolor\":\"rgba(32, 146, 230,0.3)\",\"line\":{\"color\":\"rgba(255,255,255,0)\"},\"mode\":\"lines\",\"name\":\"LC\",\"x\":[0,1,2,3,4,5,6,7,8,9,10,11,12,13,14,15,16,17,18,19,20,21,22,23,24,25,26,27,28,29,30,31,32,33,34,35,36,37,38,39,40],\"y\":[0.0,-0.10629397111858785,-0.10629397111858786,-0.10629397111858786,-0.10629397111858786,-0.10629397111858786,-0.10629397111858788,-0.10629397111858786,-0.10629397111858786,-0.10629397111858786,-0.10629397111858788,-0.10629397111858786,-0.10629397111858786,-0.10629397111858788,-0.10629397111858786,-0.10629397111858788,-0.10629397111858785,-0.10629397111858788,-0.10629397111858785,-0.10629397111858786,-0.10629397111858786,-0.10629397111858786,-0.10629397111858786,-0.10629397111858786,-0.10629397111858786,-0.10629397111858786,-0.10629397111858788,-0.10629397111858788,-0.10629397111858786,-0.10629397111858786,-0.10629397111858786,-0.10629397111858786,-0.10629397111858788,-0.10629397111858788,-0.10629397111858785,-0.10629397111858786,-0.10629397111858786,-0.10629397111858786,-0.10629397111858788,-0.10629397111858788,-0.10629397111858786],\"type\":\"scatter\",\"showlegend\":false},{\"line\":{\"color\":\"#3f3f3f\"},\"mode\":\"lines\",\"name\":\"\",\"x\":[0,41],\"y\":[0,0],\"type\":\"scatter\",\"showlegend\":false}],                        {\"template\":{\"data\":{\"barpolar\":[{\"marker\":{\"line\":{\"color\":\"rgb(237,237,237)\",\"width\":0.5},\"pattern\":{\"fillmode\":\"overlay\",\"size\":10,\"solidity\":0.2}},\"type\":\"barpolar\"}],\"bar\":[{\"error_x\":{\"color\":\"rgb(51,51,51)\"},\"error_y\":{\"color\":\"rgb(51,51,51)\"},\"marker\":{\"line\":{\"color\":\"rgb(237,237,237)\",\"width\":0.5},\"pattern\":{\"fillmode\":\"overlay\",\"size\":10,\"solidity\":0.2}},\"type\":\"bar\"}],\"carpet\":[{\"aaxis\":{\"endlinecolor\":\"rgb(51,51,51)\",\"gridcolor\":\"white\",\"linecolor\":\"white\",\"minorgridcolor\":\"white\",\"startlinecolor\":\"rgb(51,51,51)\"},\"baxis\":{\"endlinecolor\":\"rgb(51,51,51)\",\"gridcolor\":\"white\",\"linecolor\":\"white\",\"minorgridcolor\":\"white\",\"startlinecolor\":\"rgb(51,51,51)\"},\"type\":\"carpet\"}],\"choropleth\":[{\"colorbar\":{\"outlinewidth\":0,\"tickcolor\":\"rgb(237,237,237)\",\"ticklen\":6,\"ticks\":\"inside\"},\"type\":\"choropleth\"}],\"contourcarpet\":[{\"colorbar\":{\"outlinewidth\":0,\"tickcolor\":\"rgb(237,237,237)\",\"ticklen\":6,\"ticks\":\"inside\"},\"type\":\"contourcarpet\"}],\"contour\":[{\"colorbar\":{\"outlinewidth\":0,\"tickcolor\":\"rgb(237,237,237)\",\"ticklen\":6,\"ticks\":\"inside\"},\"colorscale\":[[0,\"rgb(20,44,66)\"],[1,\"rgb(90,179,244)\"]],\"type\":\"contour\"}],\"heatmapgl\":[{\"colorbar\":{\"outlinewidth\":0,\"tickcolor\":\"rgb(237,237,237)\",\"ticklen\":6,\"ticks\":\"inside\"},\"colorscale\":[[0,\"rgb(20,44,66)\"],[1,\"rgb(90,179,244)\"]],\"type\":\"heatmapgl\"}],\"heatmap\":[{\"colorbar\":{\"outlinewidth\":0,\"tickcolor\":\"rgb(237,237,237)\",\"ticklen\":6,\"ticks\":\"inside\"},\"colorscale\":[[0,\"rgb(20,44,66)\"],[1,\"rgb(90,179,244)\"]],\"type\":\"heatmap\"}],\"histogram2dcontour\":[{\"colorbar\":{\"outlinewidth\":0,\"tickcolor\":\"rgb(237,237,237)\",\"ticklen\":6,\"ticks\":\"inside\"},\"colorscale\":[[0,\"rgb(20,44,66)\"],[1,\"rgb(90,179,244)\"]],\"type\":\"histogram2dcontour\"}],\"histogram2d\":[{\"colorbar\":{\"outlinewidth\":0,\"tickcolor\":\"rgb(237,237,237)\",\"ticklen\":6,\"ticks\":\"inside\"},\"colorscale\":[[0,\"rgb(20,44,66)\"],[1,\"rgb(90,179,244)\"]],\"type\":\"histogram2d\"}],\"histogram\":[{\"marker\":{\"pattern\":{\"fillmode\":\"overlay\",\"size\":10,\"solidity\":0.2}},\"type\":\"histogram\"}],\"mesh3d\":[{\"colorbar\":{\"outlinewidth\":0,\"tickcolor\":\"rgb(237,237,237)\",\"ticklen\":6,\"ticks\":\"inside\"},\"type\":\"mesh3d\"}],\"parcoords\":[{\"line\":{\"colorbar\":{\"outlinewidth\":0,\"tickcolor\":\"rgb(237,237,237)\",\"ticklen\":6,\"ticks\":\"inside\"}},\"type\":\"parcoords\"}],\"pie\":[{\"automargin\":true,\"type\":\"pie\"}],\"scatter3d\":[{\"line\":{\"colorbar\":{\"outlinewidth\":0,\"tickcolor\":\"rgb(237,237,237)\",\"ticklen\":6,\"ticks\":\"inside\"}},\"marker\":{\"colorbar\":{\"outlinewidth\":0,\"tickcolor\":\"rgb(237,237,237)\",\"ticklen\":6,\"ticks\":\"inside\"}},\"type\":\"scatter3d\"}],\"scattercarpet\":[{\"marker\":{\"colorbar\":{\"outlinewidth\":0,\"tickcolor\":\"rgb(237,237,237)\",\"ticklen\":6,\"ticks\":\"inside\"}},\"type\":\"scattercarpet\"}],\"scattergeo\":[{\"marker\":{\"colorbar\":{\"outlinewidth\":0,\"tickcolor\":\"rgb(237,237,237)\",\"ticklen\":6,\"ticks\":\"inside\"}},\"type\":\"scattergeo\"}],\"scattergl\":[{\"marker\":{\"colorbar\":{\"outlinewidth\":0,\"tickcolor\":\"rgb(237,237,237)\",\"ticklen\":6,\"ticks\":\"inside\"}},\"type\":\"scattergl\"}],\"scattermapbox\":[{\"marker\":{\"colorbar\":{\"outlinewidth\":0,\"tickcolor\":\"rgb(237,237,237)\",\"ticklen\":6,\"ticks\":\"inside\"}},\"type\":\"scattermapbox\"}],\"scatterpolargl\":[{\"marker\":{\"colorbar\":{\"outlinewidth\":0,\"tickcolor\":\"rgb(237,237,237)\",\"ticklen\":6,\"ticks\":\"inside\"}},\"type\":\"scatterpolargl\"}],\"scatterpolar\":[{\"marker\":{\"colorbar\":{\"outlinewidth\":0,\"tickcolor\":\"rgb(237,237,237)\",\"ticklen\":6,\"ticks\":\"inside\"}},\"type\":\"scatterpolar\"}],\"scatter\":[{\"marker\":{\"colorbar\":{\"outlinewidth\":0,\"tickcolor\":\"rgb(237,237,237)\",\"ticklen\":6,\"ticks\":\"inside\"}},\"type\":\"scatter\"}],\"scatterternary\":[{\"marker\":{\"colorbar\":{\"outlinewidth\":0,\"tickcolor\":\"rgb(237,237,237)\",\"ticklen\":6,\"ticks\":\"inside\"}},\"type\":\"scatterternary\"}],\"surface\":[{\"colorbar\":{\"outlinewidth\":0,\"tickcolor\":\"rgb(237,237,237)\",\"ticklen\":6,\"ticks\":\"inside\"},\"colorscale\":[[0,\"rgb(20,44,66)\"],[1,\"rgb(90,179,244)\"]],\"type\":\"surface\"}],\"table\":[{\"cells\":{\"fill\":{\"color\":\"rgb(237,237,237)\"},\"line\":{\"color\":\"white\"}},\"header\":{\"fill\":{\"color\":\"rgb(217,217,217)\"},\"line\":{\"color\":\"white\"}},\"type\":\"table\"}]},\"layout\":{\"annotationdefaults\":{\"arrowhead\":0,\"arrowwidth\":1},\"autotypenumbers\":\"strict\",\"coloraxis\":{\"colorbar\":{\"outlinewidth\":0,\"tickcolor\":\"rgb(237,237,237)\",\"ticklen\":6,\"ticks\":\"inside\"}},\"colorscale\":{\"sequential\":[[0,\"rgb(20,44,66)\"],[1,\"rgb(90,179,244)\"]],\"sequentialminus\":[[0,\"rgb(20,44,66)\"],[1,\"rgb(90,179,244)\"]]},\"colorway\":[\"#F8766D\",\"#A3A500\",\"#00BF7D\",\"#00B0F6\",\"#E76BF3\"],\"font\":{\"color\":\"rgb(51,51,51)\"},\"geo\":{\"bgcolor\":\"white\",\"lakecolor\":\"white\",\"landcolor\":\"rgb(237,237,237)\",\"showlakes\":true,\"showland\":true,\"subunitcolor\":\"white\"},\"hoverlabel\":{\"align\":\"left\"},\"hovermode\":\"closest\",\"paper_bgcolor\":\"white\",\"plot_bgcolor\":\"rgb(237,237,237)\",\"polar\":{\"angularaxis\":{\"gridcolor\":\"white\",\"linecolor\":\"white\",\"showgrid\":true,\"tickcolor\":\"rgb(51,51,51)\",\"ticks\":\"outside\"},\"bgcolor\":\"rgb(237,237,237)\",\"radialaxis\":{\"gridcolor\":\"white\",\"linecolor\":\"white\",\"showgrid\":true,\"tickcolor\":\"rgb(51,51,51)\",\"ticks\":\"outside\"}},\"scene\":{\"xaxis\":{\"backgroundcolor\":\"rgb(237,237,237)\",\"gridcolor\":\"white\",\"gridwidth\":2,\"linecolor\":\"white\",\"showbackground\":true,\"showgrid\":true,\"tickcolor\":\"rgb(51,51,51)\",\"ticks\":\"outside\",\"zerolinecolor\":\"white\"},\"yaxis\":{\"backgroundcolor\":\"rgb(237,237,237)\",\"gridcolor\":\"white\",\"gridwidth\":2,\"linecolor\":\"white\",\"showbackground\":true,\"showgrid\":true,\"tickcolor\":\"rgb(51,51,51)\",\"ticks\":\"outside\",\"zerolinecolor\":\"white\"},\"zaxis\":{\"backgroundcolor\":\"rgb(237,237,237)\",\"gridcolor\":\"white\",\"gridwidth\":2,\"linecolor\":\"white\",\"showbackground\":true,\"showgrid\":true,\"tickcolor\":\"rgb(51,51,51)\",\"ticks\":\"outside\",\"zerolinecolor\":\"white\"}},\"shapedefaults\":{\"fillcolor\":\"black\",\"line\":{\"width\":0},\"opacity\":0.3},\"ternary\":{\"aaxis\":{\"gridcolor\":\"white\",\"linecolor\":\"white\",\"showgrid\":true,\"tickcolor\":\"rgb(51,51,51)\",\"ticks\":\"outside\"},\"baxis\":{\"gridcolor\":\"white\",\"linecolor\":\"white\",\"showgrid\":true,\"tickcolor\":\"rgb(51,51,51)\",\"ticks\":\"outside\"},\"bgcolor\":\"rgb(237,237,237)\",\"caxis\":{\"gridcolor\":\"white\",\"linecolor\":\"white\",\"showgrid\":true,\"tickcolor\":\"rgb(51,51,51)\",\"ticks\":\"outside\"}},\"xaxis\":{\"automargin\":true,\"gridcolor\":\"white\",\"linecolor\":\"white\",\"showgrid\":true,\"tickcolor\":\"rgb(51,51,51)\",\"ticks\":\"outside\",\"title\":{\"standoff\":15},\"zerolinecolor\":\"white\"},\"yaxis\":{\"automargin\":true,\"gridcolor\":\"white\",\"linecolor\":\"white\",\"showgrid\":true,\"tickcolor\":\"rgb(51,51,51)\",\"ticks\":\"outside\",\"title\":{\"standoff\":15},\"zerolinecolor\":\"white\"}}},\"xaxis\":{\"range\":[-1,42]},\"yaxis\":{\"zerolinecolor\":\"#000000\"},\"title\":{\"text\":\"Partial Autocorrelation (PACF) | x\"}},                        {\"responsive\": true}                    ).then(function(){\n",
              "                            \n",
              "var gd = document.getElementById('d506a96e-f25d-4183-b362-1c5abccc8e83');\n",
              "var x = new MutationObserver(function (mutations, observer) {{\n",
              "        var display = window.getComputedStyle(gd).display;\n",
              "        if (!display || display === 'none') {{\n",
              "            console.log([gd, 'removed!']);\n",
              "            Plotly.purge(gd);\n",
              "            observer.disconnect();\n",
              "        }}\n",
              "}});\n",
              "\n",
              "// Listen for the removal of the full notebook cells\n",
              "var notebookContainer = gd.closest('#notebook-container');\n",
              "if (notebookContainer) {{\n",
              "    x.observe(notebookContainer, {childList: true});\n",
              "}}\n",
              "\n",
              "// Listen for the clearing of the current output cell\n",
              "var outputEl = gd.closest('.output');\n",
              "if (outputEl) {{\n",
              "    x.observe(outputEl, {childList: true});\n",
              "}}\n",
              "\n",
              "                        })                };                            </script>        </div>\n",
              "</body>\n",
              "</html>"
            ]
          },
          "metadata": {}
        }
      ]
    },
    {
      "cell_type": "markdown",
      "metadata": {
        "id": "C-qgRySKU9si"
      },
      "source": [
        "## Helper functions using PyCaret's Time Series Module"
      ]
    },
    {
      "cell_type": "code",
      "metadata": {
        "id": "bKq_39tvU73p"
      },
      "source": [
        "def summarize_model(model):\n",
        "  \"\"\"\n",
        "  Provides statistical summary for some statistical models\n",
        "  \"\"\"\n",
        "  # Statistical Summary Table\n",
        "  try:\n",
        "    print(model.summary())\n",
        "  except:\n",
        "    print(\"Summary does not exist for this model.\")"
      ],
      "execution_count": 7,
      "outputs": []
    },
    {
      "cell_type": "code",
      "metadata": {
        "id": "wO4r6Sf_U_8q"
      },
      "source": [
        "def get_residual_properties(model):\n",
        "  \"\"\"\n",
        "  Plots and displays variance of residuals\n",
        "  \"\"\"\n",
        "  #### Residuals ----\n",
        "  try:\n",
        "    plot_data = exp.plot_model(model, plot=\"residuals\", return_data=True)\n",
        "    resid = plot_data['data']\n",
        "    resid_sigma2 = (resid**2).sum()/(len(resid))\n",
        "    print(f\"Residual Sigma 2: {resid_sigma2}\")\n",
        "  except:\n",
        "    print(\"Residuals can not be extracted for this model.\")"
      ],
      "execution_count": 8,
      "outputs": []
    },
    {
      "cell_type": "code",
      "metadata": {
        "id": "0GnY9OU5VBMa"
      },
      "source": [
        "def plot_predictions(model):\n",
        "  \"\"\"\n",
        "  Plots out-of-sample and in-sample predictions\n",
        "  \"\"\"\n",
        "  # Out-of-Sample Forecast\n",
        "  exp.plot_model(model)\n",
        "  \n",
        "  # In-Sample Forecast\n",
        "  exp.plot_model(model, plot=\"insample\")"
      ],
      "execution_count": 9,
      "outputs": []
    },
    {
      "cell_type": "markdown",
      "metadata": {
        "id": "F1TQZ_XGVDx5"
      },
      "source": [
        "## Train & Test Data Properties"
      ]
    },
    {
      "cell_type": "code",
      "metadata": {
        "colab": {
          "base_uri": "https://localhost:8080/"
        },
        "id": "CBDNfgXcVCW6",
        "outputId": "444afa33-28be-4fd3-ca9c-fce6cf676f7d"
      },
      "source": [
        "# Get Train Data Properties\n",
        "y_train = exp.get_config(\"y_train\")\n",
        "print(f\"Train Start Index: {y_train.index.min()}\\nTrain End Index: {y_train.index.max()}\")\n",
        "\n",
        "# Get Test Data Properties\n",
        "y_test = exp.get_config(\"y_test\")\n",
        "print(f\"Test Start Index: {y_test.index.min()}\\nTest End Index: {y_test.index.max()}\")"
      ],
      "execution_count": 10,
      "outputs": [
        {
          "output_type": "stream",
          "name": "stdout",
          "text": [
            "Train Start Index: 0\n",
            "Train End Index: 309\n",
            "Test Start Index: 310\n",
            "Test End Index: 339\n"
          ]
        }
      ]
    },
    {
      "cell_type": "markdown",
      "metadata": {
        "id": "D_FuawwQVgQR"
      },
      "source": [
        "## Random Walk ARIMA Model"
      ]
    },
    {
      "cell_type": "markdown",
      "metadata": {
        "id": "1PI73VuzViXh"
      },
      "source": [
        "### Theoretical Calculations"
      ]
    },
    {
      "cell_type": "markdown",
      "metadata": {
        "id": "3sIATxiSwPiN"
      },
      "source": [
        "#### Random Walk without Trend"
      ]
    },
    {
      "cell_type": "code",
      "metadata": {
        "colab": {
          "base_uri": "https://localhost:8080/"
        },
        "id": "eE_JZu-vVGKK",
        "outputId": "10e65711-c643-4798-aea8-b8e693fe958c"
      },
      "source": [
        "train_data = pd.DataFrame({\"y\":y_train})\n",
        "train_data['preds'] = y_train.shift(1)\n",
        "train_data['split'] = \"Train\"\n",
        "\n",
        "test_data = pd.DataFrame({'y': y_test})\n",
        "test_data['preds'] = y_train.iloc[-1]\n",
        "test_data['split'] = \"Test\"\n",
        "\n",
        "data = pd.concat([train_data, test_data])\n",
        "data['residuals'] = data['y'] - data['preds']\n",
        "data.reset_index(inplace=True)\n",
        "\n",
        "data.info()"
      ],
      "execution_count": 11,
      "outputs": [
        {
          "output_type": "stream",
          "name": "stdout",
          "text": [
            "<class 'pandas.core.frame.DataFrame'>\n",
            "RangeIndex: 340 entries, 0 to 339\n",
            "Data columns (total 5 columns):\n",
            " #   Column     Non-Null Count  Dtype  \n",
            "---  ------     --------------  -----  \n",
            " 0   index      340 non-null    int64  \n",
            " 1   y          340 non-null    float64\n",
            " 2   preds      339 non-null    float64\n",
            " 3   split      340 non-null    object \n",
            " 4   residuals  339 non-null    float64\n",
            "dtypes: float64(3), int64(1), object(1)\n",
            "memory usage: 13.4+ KB\n"
          ]
        }
      ]
    },
    {
      "cell_type": "code",
      "metadata": {
        "colab": {
          "base_uri": "https://localhost:8080/",
          "height": 312
        },
        "id": "EJo9BwKbVvyP",
        "outputId": "75933382-56b5-430b-a284-a988e4a68074"
      },
      "source": [
        "sns.lineplot(data=data, x=\"index\", y=\"preds\", hue=\"split\").set(title=\"Theoretical Predictions\")"
      ],
      "execution_count": 12,
      "outputs": [
        {
          "output_type": "execute_result",
          "data": {
            "text/plain": [
              "[Text(0.5, 1.0, 'Theoretical Predictions')]"
            ]
          },
          "metadata": {},
          "execution_count": 12
        },
        {
          "output_type": "display_data",
          "data": {
            "image/png": "[encoded data removed]",
            "text/plain": [
              "<Figure size 432x288 with 1 Axes>"
            ]
          },
          "metadata": {
            "needs_background": "light"
          }
        }
      ]
    },
    {
      "cell_type": "markdown",
      "metadata": {
        "id": "S18wu0jQwTi8"
      },
      "source": [
        "#### Random Walk with trend = \"c\""
      ]
    },
    {
      "cell_type": "code",
      "metadata": {
        "id": "RV9R1ghsv2DB",
        "outputId": "f62cc38b-4f85-43df-e01a-0c5509e5424b",
        "colab": {
          "base_uri": "https://localhost:8080/"
        }
      },
      "source": [
        "y_for_lr = data.query(\"split=='Train'\")['residuals'].dropna()\n",
        "y_for_lr.mean()"
      ],
      "execution_count": 13,
      "outputs": [
        {
          "output_type": "execute_result",
          "data": {
            "text/plain": [
              "0.020172890811799432"
            ]
          },
          "metadata": {},
          "execution_count": 13
        }
      ]
    },
    {
      "cell_type": "markdown",
      "metadata": {
        "id": "T7vqbYGEwcit"
      },
      "source": [
        "#### Random Walk with trend = \"t\""
      ]
    },
    {
      "cell_type": "code",
      "metadata": {
        "id": "oNm4PAXnub3u",
        "outputId": "83fb8f0d-f540-4a24-b2c7-80c8f1b937e0",
        "colab": {
          "base_uri": "https://localhost:8080/"
        }
      },
      "source": [
        "y_for_lr = data.query(\"split=='Train'\")['residuals'].dropna()\n",
        "X_train = np.arange(1, len(y_for_lr)+1).reshape(-1, 1)\n",
        "\n",
        "reg = LinearRegression(fit_intercept=False).fit(X_train, y_for_lr)\n",
        "print(f\"Expected Intercept: {reg.intercept_}\")\n",
        "print(f\"Expected Slope: {reg.coef_}\")"
      ],
      "execution_count": 14,
      "outputs": [
        {
          "output_type": "stream",
          "name": "stdout",
          "text": [
            "Expected Intercept: 0.0\n",
            "Expected Slope: [0.00018524]\n"
          ]
        }
      ]
    },
    {
      "cell_type": "markdown",
      "metadata": {
        "id": "8e3yQWx6wfEW"
      },
      "source": [
        "#### Random Walk with trend = \"ct\""
      ]
    },
    {
      "cell_type": "code",
      "metadata": {
        "id": "g9Xptrg5ub01",
        "outputId": "c38687d9-3d7c-40a3-a717-9ff8eb5ee098",
        "colab": {
          "base_uri": "https://localhost:8080/"
        }
      },
      "source": [
        "y_for_lr = data.query(\"split=='Train'\")['residuals'].dropna()\n",
        "X_train = np.arange(1, len(y_for_lr)+1).reshape(-1, 1)\n",
        "\n",
        "reg = LinearRegression(fit_intercept=True).fit(X_train, y_for_lr)\n",
        "print(f\"Expected Intercept: {reg.intercept_}\")\n",
        "print(f\"Expected Slope: {reg.coef_}\")"
      ],
      "execution_count": 15,
      "outputs": [
        {
          "output_type": "stream",
          "name": "stdout",
          "text": [
            "Expected Intercept: -0.03432448539897173\n",
            "Expected Slope: [0.0003516]\n"
          ]
        }
      ]
    },
    {
      "cell_type": "markdown",
      "metadata": {
        "id": "1Kr7cfHpV8By"
      },
      "source": [
        "### Now let's build this model & compare to Theory"
      ]
    },
    {
      "cell_type": "markdown",
      "metadata": {
        "id": "28GDo5SZYFwf"
      },
      "source": [
        "#### Random Walk without Trend"
      ]
    },
    {
      "cell_type": "code",
      "metadata": {
        "colab": {
          "base_uri": "https://localhost:8080/",
          "height": 206,
          "referenced_widgets": [
            "58823731d76a42ae96401be6beb045d2",
            "d801172695734c3387c4f9a9427d83e4",
            "833fed11409d4e1f8b9c3894770a7b19"
          ]
        },
        "id": "cL76Zc_eV6Sg",
        "outputId": "8e1c6515-285b-4790-b0c6-426c1b5ad55f"
      },
      "source": [
        "model2a = exp.create_model(\"arima\", order=(0, 1, 0), seasonal_order=(0, 0, 0, 0), trend=\"n\")"
      ],
      "execution_count": 16,
      "outputs": [
        {
          "output_type": "display_data",
          "data": {
            "text/html": [
              "<div>\n",
              "<style scoped>\n",
              "    .dataframe tbody tr th:only-of-type {\n",
              "        vertical-align: middle;\n",
              "    }\n",
              "\n",
              "    .dataframe tbody tr th {\n",
              "        vertical-align: top;\n",
              "    }\n",
              "\n",
              "    .dataframe thead th {\n",
              "        text-align: right;\n",
              "    }\n",
              "</style>\n",
              "<table border=\"1\" class=\"dataframe\">\n",
              "  <thead>\n",
              "    <tr style=\"text-align: right;\">\n",
              "      <th></th>\n",
              "      <th>cutoff</th>\n",
              "      <th>MAE</th>\n",
              "      <th>RMSE</th>\n",
              "      <th>MAPE</th>\n",
              "      <th>SMAPE</th>\n",
              "      <th>R2</th>\n",
              "    </tr>\n",
              "  </thead>\n",
              "  <tbody>\n",
              "    <tr>\n",
              "      <th>0</th>\n",
              "      <td>219.0</td>\n",
              "      <td>1.8274</td>\n",
              "      <td>1.9904</td>\n",
              "      <td>0.0095</td>\n",
              "      <td>0.0096</td>\n",
              "      <td>-1.0221</td>\n",
              "    </tr>\n",
              "    <tr>\n",
              "      <th>1</th>\n",
              "      <td>249.0</td>\n",
              "      <td>2.1118</td>\n",
              "      <td>2.4533</td>\n",
              "      <td>0.0110</td>\n",
              "      <td>0.0110</td>\n",
              "      <td>-0.0227</td>\n",
              "    </tr>\n",
              "    <tr>\n",
              "      <th>2</th>\n",
              "      <td>279.0</td>\n",
              "      <td>1.9092</td>\n",
              "      <td>2.2795</td>\n",
              "      <td>0.0100</td>\n",
              "      <td>0.0100</td>\n",
              "      <td>-0.9045</td>\n",
              "    </tr>\n",
              "    <tr>\n",
              "      <th>Mean</th>\n",
              "      <td>NaN</td>\n",
              "      <td>1.9495</td>\n",
              "      <td>2.2411</td>\n",
              "      <td>0.0102</td>\n",
              "      <td>0.0102</td>\n",
              "      <td>-0.6498</td>\n",
              "    </tr>\n",
              "    <tr>\n",
              "      <th>SD</th>\n",
              "      <td>NaN</td>\n",
              "      <td>0.1196</td>\n",
              "      <td>0.1909</td>\n",
              "      <td>0.0006</td>\n",
              "      <td>0.0006</td>\n",
              "      <td>0.4460</td>\n",
              "    </tr>\n",
              "  </tbody>\n",
              "</table>\n",
              "</div>"
            ],
            "text/plain": [
              "      cutoff     MAE    RMSE    MAPE   SMAPE      R2\n",
              "0      219.0  1.8274  1.9904  0.0095  0.0096 -1.0221\n",
              "1      249.0  2.1118  2.4533  0.0110  0.0110 -0.0227\n",
              "2      279.0  1.9092  2.2795  0.0100  0.0100 -0.9045\n",
              "Mean     NaN  1.9495  2.2411  0.0102  0.0102 -0.6498\n",
              "SD       NaN  0.1196  0.1909  0.0006  0.0006  0.4460"
            ]
          },
          "metadata": {}
        }
      ]
    },
    {
      "cell_type": "code",
      "metadata": {
        "colab": {
          "base_uri": "https://localhost:8080/",
          "height": 941
        },
        "id": "exAutUT_WCZg",
        "outputId": "d910a60c-1db6-4274-8909-5d77cd39a493"
      },
      "source": [
        "summarize_model(model2a)\n",
        "get_residual_properties(model2a)"
      ],
      "execution_count": 17,
      "outputs": [
        {
          "output_type": "stream",
          "name": "stdout",
          "text": [
            "                               SARIMAX Results                                \n",
            "==============================================================================\n",
            "Dep. Variable:                      y   No. Observations:                  310\n",
            "Model:               SARIMAX(0, 1, 0)   Log Likelihood                -435.205\n",
            "Date:                Fri, 26 Nov 2021   AIC                            872.410\n",
            "Time:                        10:25:24   BIC                            876.143\n",
            "Sample:                             0   HQIC                           873.902\n",
            "                                - 310                                         \n",
            "Covariance Type:                  opg                                         \n",
            "==============================================================================\n",
            "                 coef    std err          z      P>|z|      [0.025      0.975]\n",
            "------------------------------------------------------------------------------\n",
            "sigma2         0.9792      0.080     12.203      0.000       0.822       1.136\n",
            "===================================================================================\n",
            "Ljung-Box (L1) (Q):                   0.99   Jarque-Bera (JB):                 0.16\n",
            "Prob(Q):                              0.32   Prob(JB):                         0.92\n",
            "Heteroskedasticity (H):               0.99   Skew:                            -0.04\n",
            "Prob(H) (two-sided):                  0.95   Kurtosis:                         2.93\n",
            "===================================================================================\n",
            "\n",
            "Warnings:\n",
            "[1] Covariance matrix calculated using the outer product of gradients (complex-step).\n"
          ]
        },
        {
          "output_type": "display_data",
          "data": {
            "text/html": [
              "<html>\n",
              "<head><meta charset=\"utf-8\" /></head>\n",
              "<body>\n",
              "    <div>            <script src=\"https://cdnjs.cloudflare.com/ajax/libs/mathjax/2.7.5/MathJax.js?config=TeX-AMS-MML_SVG\"></script><script type=\"text/javascript\">if (window.MathJax) {MathJax.Hub.Config({SVG: {font: \"STIX-Web\"}});}</script>                <script type=\"text/javascript\">window.PlotlyConfig = {MathJaxConfig: 'local'};</script>\n",
              "        <script src=\"https://cdn.plot.ly/plotly-2.6.3.min.js\"></script>                <div id=\"bdf63726-5204-47a8-8249-e7052d97182d\" class=\"plotly-graph-div\" style=\"height:525px; width:100%;\"></div>            <script type=\"text/javascript\">                                    window.PLOTLYENV=window.PLOTLYENV || {};                                    if (document.getElementById(\"bdf63726-5204-47a8-8249-e7052d97182d\")) {                    Plotly.newPlot(                        \"bdf63726-5204-47a8-8249-e7052d97182d\",                        [{\"marker\":{\"color\":\"#3f3f3f\",\"size\":5},\"mode\":\"lines+markers\",\"name\":\"Residuals | ARIMA\",\"showlegend\":true,\"x\":[1,2,3,4,5,6,7,8,9,10,11,12,13,14,15,16,17,18,19,20,21,22,23,24,25,26,27,28,29,30,31,32,33,34,35,36,37,38,39,40,41,42,43,44,45,46,47,48,49,50,51,52,53,54,55,56,57,58,59,60,61,62,63,64,65,66,67,68,69,70,71,72,73,74,75,76,77,78,79,80,81,82,83,84,85,86,87,88,89,90,91,92,93,94,95,96,97,98,99,100,101,102,103,104,105,106,107,108,109,110,111,112,113,114,115,116,117,118,119,120,121,122,123,124,125,126,127,128,129,130,131,132,133,134,135,136,137,138,139,140,141,142,143,144,145,146,147,148,149,150,151,152,153,154,155,156,157,158,159,160,161,162,163,164,165,166,167,168,169,170,171,172,173,174,175,176,177,178,179,180,181,182,183,184,185,186,187,188,189,190,191,192,193,194,195,196,197,198,199,200,201,202,203,204,205,206,207,208,209,210,211,212,213,214,215,216,217,218,219,220,221,222,223,224,225,226,227,228,229,230,231,232,233,234,235,236,237,238,239,240,241,242,243,244,245,246,247,248,249,250,251,252,253,254,255,256,257,258,259,260,261,262,263,264,265,266,267,268,269,270,271,272,273,274,275,276,277,278,279,280,281,282,283,284,285,286,287,288,289,290,291,292,293,294,295,296,297,298,299,300,301,302,303,304,305,306,307,308,309],\"y\":[0.042115873145036176,-0.9109216485530283,0.15802877246107983,-0.6545846439190086,1.7672872693730142,0.7167074760170067,0.9101742294949702,0.3841853578270502,1.6821760805189854,-0.635736453949022,-0.46164473036000686,1.4322822385410063,-0.6506963533100247,-0.20738074360198766,-0.39280792944197174,-0.3199928685480131,-0.279113302976981,0.494188331267992,-0.17733048227000836,-0.5059574621139973,1.343038825169998,-0.2145794085460011,-0.1795565300440103,-0.10019074121299809,0.7126663070509949,-0.07356440412596044,-0.037634171467033184,-0.6816604787559868,-0.3242702722460251,0.060160440434003704,-0.5888944862599885,0.5314961926330284,-1.5183940817870507,0.30655786079003633,-1.536449823538021,-0.30097612683599095,-0.528279904444986,-0.6520947806810113,-0.05689677784801006,-1.9143594256800043,1.1765833120190052,-1.6649724362119969,-0.463530401471985,-1.115920105043017,-0.750819001194003,2.087166545629003,0.01739561969299075,-1.286300530434005,-1.6406055344189951,0.4501871012730021,-0.018559832714970526,-0.31806837454399783,-0.929362147454043,-1.487460310140989,-1.0751922966159668,1.000028803713974,-0.6212666947969865,-1.3844268473840202,1.8692906224230228,0.4251003773729565,-0.2386471009129707,1.0584830487090073,0.8864226513749998,-0.6192430482310272,2.2061024645400096,-0.255027030141008,-1.4244946502129778,-0.14439960195400658,0.20753833923200204,2.307978399060005,0.10580236789400033,0.4569988054230123,-0.07715293535702017,-0.33400084236598104,-0.034726028311013124,0.7876396056300052,2.07524500865199,1.0273924387639966,1.2079083983869907,-1.231323421558983,0.9838955700540168,0.21992480366100153,-1.4672500290930088,0.5210227426480003,-0.15875460471599467,1.4645873119699786,-0.7660819996039834,-0.4302117539290009,-0.9261094973770128,-0.17710396143698404,0.40201177948600275,-0.7317481731190014,0.83037316798098,-1.2080827863040042,-1.047984412808006,1.4411577068440238,-1.0158474653039775,0.4119747123169475,-0.3810760511089484,0.4094018396509682,1.6888732862040001,1.5865884334420173,-0.330907800682013,-2.2852355352929976,2.4976615898339958,0.6670661667660056,0.541327335964013,-0.013399523146006231,0.5101084229529818,-0.1643758317699735,0.42069464325396666,-0.4002467439769646,-1.3702078775480402,0.9878382674550323,1.5197450254999865,-0.30874056922598925,-1.253289755608023,0.6422413056780272,-0.04470913689399936,-1.7332184068250456,0.002131859681014703,-0.6303003339279769,-0.3409685798609985,-1.156572362635984,1.8031419079179614,-0.33113203639197764,-1.6055134122530035,0.19719343874001538,0.2631756464049886,-0.9858267004090067,-2.888920671679017,-0.6404817025659781,0.5705076359209613,-0.05972327604297334,-0.09817874400499704,0.5608207286200013,-1.186458638579012,1.0967770442740061,-0.0053440282780172765,0.7073106673980476,1.0341077347369776,0.22348041491599702,-0.8787076128659805,1.1629645559669655,-2.000164944785979,-0.544790740000991,-0.2556707091570445,-0.16612103676496304,1.0204639087839666,0.13622189310302701,0.4071676034230052,-0.06965481301199361,-0.24766434162003748,0.6955508066200196,1.1462283572160175,-2.4030962148920025,0.5727395552459882,0.37472440677800023,-0.42526772155602544,0.9510128075770297,-0.3892371817179878,-0.28433066179999855,0.8574097780799832,1.719627299121015,0.2700549009369695,-0.4221840097879692,-1.1891132948590268,-0.33103297887998906,-0.9398293265100222,-0.25893258311796785,0.3943791682210076,-0.8518570920240052,2.6491668810949704,0.15601167566501317,1.130207267455006,-2.289123979839985,0.7410011571959672,-1.316245160451956,0.919803677608968,0.3981301554520087,-0.4075285792700072,1.3242586301779795,-0.7012316692469653,-0.5806143042410099,-1.0010721810249947,-0.6681786067539974,0.9451849533730012,0.43370214954600783,1.0051592176770043,-0.39011866405402884,0.3763702917750038,0.24416492448600025,-1.4262573423820015,1.7784292874750065,0.13444766093400062,0.7655989991579872,0.9551366769090066,-0.05056570144301986,-0.30581541976698645,0.8936737024259855,-1.047298149060964,1.9713373862239791,-0.38363210628898514,1.6541453022749977,1.5122126939509712,0.0829657335860361,0.5672209148509921,-1.024548479534019,0.3230065030219862,1.0436124583570177,0.09907848689701382,-0.4541369091550109,-0.6557818524499908,-0.0359224226230026,1.0691614606770088,-0.48397493030100236,-0.12101011132801887,-1.2941400038199902,0.49431283601501264,1.3079015201139725,1.497041009402011,0.8147027308980341,-1.8697887902030175,0.4820295041239717,0.4561356033010213,-0.3534002858299914,0.1704894709479845,-0.8640359541269618,0.6792307740159913,-0.3271010146530102,-1.5690821851440262,-0.3674507561709959,1.364434929070029,-0.33428136473102654,0.7327500422090054,0.9465856401979806,0.0043987043260358405,-0.35232230554902344,-0.5296955091339726,0.7395892255749743,-1.0634574154830148,0.2462108435360335,-0.28949936656402997,-2.2648893564879984,-1.4088504560729973,0.9160193287929985,-0.191278950535974,0.8032832161339911,1.8874744633089904,1.4738811811090216,0.6772684923130043,0.37996268656598886,-0.19279842645701706,1.577891794905014,0.5962341093180044,-1.1735769408710155,-0.1556425348910011,-1.9189098202700166,-0.19525884610999356,-2.5923276699459734,1.314002167197998,-0.6355430010320049,-0.4299788386940122,-0.169318332301998,0.6122181739890209,0.6783401772219975,0.5679519724720024,-0.5725426039260242,-1.3632912562779893,-0.3887222443379983,0.277914132449979,-0.8230811215719882,-0.0688409344780041,-1.1676623261299994,-0.008309014215996058,0.12885540159800257,-0.145875628460999,-0.16391095673597533,1.7635520027849907,0.7625865124179825,1.1114310807310233,-0.9232069528300144,0.16434183842798689,1.1548251870970319,-0.056521424526039254,-2.1293606482349787,0.3448457620989984,-1.904955445585017,-0.8111701531399831,1.3240043212990145,0.6156368493029731,1.0916689555350274,0.3066048615139607,-0.11015876248296763,-0.9243127731269851,1.5929137537189888,0.045010598121962175,-0.715128400667993,0.8652230997170136,1.0744409582779895,1.8956547741990448,-0.6029973036060312,-0.3908678207230025,-0.4162220315299976,-0.3756574228199838,-0.36663094570300814,-0.29567745270099977,1.4418204101999947,-0.6975382919129913],\"type\":\"scatter\"}],                        {\"title\":{\"text\":\"Residuals\"},\"xaxis\":{\"title\":{\"text\":\"Time\"}},\"yaxis\":{\"title\":{\"text\":\"Values\"}},\"template\":{\"data\":{\"barpolar\":[{\"marker\":{\"line\":{\"color\":\"rgb(237,237,237)\",\"width\":0.5},\"pattern\":{\"fillmode\":\"overlay\",\"size\":10,\"solidity\":0.2}},\"type\":\"barpolar\"}],\"bar\":[{\"error_x\":{\"color\":\"rgb(51,51,51)\"},\"error_y\":{\"color\":\"rgb(51,51,51)\"},\"marker\":{\"line\":{\"color\":\"rgb(237,237,237)\",\"width\":0.5},\"pattern\":{\"fillmode\":\"overlay\",\"size\":10,\"solidity\":0.2}},\"type\":\"bar\"}],\"carpet\":[{\"aaxis\":{\"endlinecolor\":\"rgb(51,51,51)\",\"gridcolor\":\"white\",\"linecolor\":\"white\",\"minorgridcolor\":\"white\",\"startlinecolor\":\"rgb(51,51,51)\"},\"baxis\":{\"endlinecolor\":\"rgb(51,51,51)\",\"gridcolor\":\"white\",\"linecolor\":\"white\",\"minorgridcolor\":\"white\",\"startlinecolor\":\"rgb(51,51,51)\"},\"type\":\"carpet\"}],\"choropleth\":[{\"colorbar\":{\"outlinewidth\":0,\"tickcolor\":\"rgb(237,237,237)\",\"ticklen\":6,\"ticks\":\"inside\"},\"type\":\"choropleth\"}],\"contourcarpet\":[{\"colorbar\":{\"outlinewidth\":0,\"tickcolor\":\"rgb(237,237,237)\",\"ticklen\":6,\"ticks\":\"inside\"},\"type\":\"contourcarpet\"}],\"contour\":[{\"colorbar\":{\"outlinewidth\":0,\"tickcolor\":\"rgb(237,237,237)\",\"ticklen\":6,\"ticks\":\"inside\"},\"colorscale\":[[0,\"rgb(20,44,66)\"],[1,\"rgb(90,179,244)\"]],\"type\":\"contour\"}],\"heatmapgl\":[{\"colorbar\":{\"outlinewidth\":0,\"tickcolor\":\"rgb(237,237,237)\",\"ticklen\":6,\"ticks\":\"inside\"},\"colorscale\":[[0,\"rgb(20,44,66)\"],[1,\"rgb(90,179,244)\"]],\"type\":\"heatmapgl\"}],\"heatmap\":[{\"colorbar\":{\"outlinewidth\":0,\"tickcolor\":\"rgb(237,237,237)\",\"ticklen\":6,\"ticks\":\"inside\"},\"colorscale\":[[0,\"rgb(20,44,66)\"],[1,\"rgb(90,179,244)\"]],\"type\":\"heatmap\"}],\"histogram2dcontour\":[{\"colorbar\":{\"outlinewidth\":0,\"tickcolor\":\"rgb(237,237,237)\",\"ticklen\":6,\"ticks\":\"inside\"},\"colorscale\":[[0,\"rgb(20,44,66)\"],[1,\"rgb(90,179,244)\"]],\"type\":\"histogram2dcontour\"}],\"histogram2d\":[{\"colorbar\":{\"outlinewidth\":0,\"tickcolor\":\"rgb(237,237,237)\",\"ticklen\":6,\"ticks\":\"inside\"},\"colorscale\":[[0,\"rgb(20,44,66)\"],[1,\"rgb(90,179,244)\"]],\"type\":\"histogram2d\"}],\"histogram\":[{\"marker\":{\"pattern\":{\"fillmode\":\"overlay\",\"size\":10,\"solidity\":0.2}},\"type\":\"histogram\"}],\"mesh3d\":[{\"colorbar\":{\"outlinewidth\":0,\"tickcolor\":\"rgb(237,237,237)\",\"ticklen\":6,\"ticks\":\"inside\"},\"type\":\"mesh3d\"}],\"parcoords\":[{\"line\":{\"colorbar\":{\"outlinewidth\":0,\"tickcolor\":\"rgb(237,237,237)\",\"ticklen\":6,\"ticks\":\"inside\"}},\"type\":\"parcoords\"}],\"pie\":[{\"automargin\":true,\"type\":\"pie\"}],\"scatter3d\":[{\"line\":{\"colorbar\":{\"outlinewidth\":0,\"tickcolor\":\"rgb(237,237,237)\",\"ticklen\":6,\"ticks\":\"inside\"}},\"marker\":{\"colorbar\":{\"outlinewidth\":0,\"tickcolor\":\"rgb(237,237,237)\",\"ticklen\":6,\"ticks\":\"inside\"}},\"type\":\"scatter3d\"}],\"scattercarpet\":[{\"marker\":{\"colorbar\":{\"outlinewidth\":0,\"tickcolor\":\"rgb(237,237,237)\",\"ticklen\":6,\"ticks\":\"inside\"}},\"type\":\"scattercarpet\"}],\"scattergeo\":[{\"marker\":{\"colorbar\":{\"outlinewidth\":0,\"tickcolor\":\"rgb(237,237,237)\",\"ticklen\":6,\"ticks\":\"inside\"}},\"type\":\"scattergeo\"}],\"scattergl\":[{\"marker\":{\"colorbar\":{\"outlinewidth\":0,\"tickcolor\":\"rgb(237,237,237)\",\"ticklen\":6,\"ticks\":\"inside\"}},\"type\":\"scattergl\"}],\"scattermapbox\":[{\"marker\":{\"colorbar\":{\"outlinewidth\":0,\"tickcolor\":\"rgb(237,237,237)\",\"ticklen\":6,\"ticks\":\"inside\"}},\"type\":\"scattermapbox\"}],\"scatterpolargl\":[{\"marker\":{\"colorbar\":{\"outlinewidth\":0,\"tickcolor\":\"rgb(237,237,237)\",\"ticklen\":6,\"ticks\":\"inside\"}},\"type\":\"scatterpolargl\"}],\"scatterpolar\":[{\"marker\":{\"colorbar\":{\"outlinewidth\":0,\"tickcolor\":\"rgb(237,237,237)\",\"ticklen\":6,\"ticks\":\"inside\"}},\"type\":\"scatterpolar\"}],\"scatter\":[{\"marker\":{\"colorbar\":{\"outlinewidth\":0,\"tickcolor\":\"rgb(237,237,237)\",\"ticklen\":6,\"ticks\":\"inside\"}},\"type\":\"scatter\"}],\"scatterternary\":[{\"marker\":{\"colorbar\":{\"outlinewidth\":0,\"tickcolor\":\"rgb(237,237,237)\",\"ticklen\":6,\"ticks\":\"inside\"}},\"type\":\"scatterternary\"}],\"surface\":[{\"colorbar\":{\"outlinewidth\":0,\"tickcolor\":\"rgb(237,237,237)\",\"ticklen\":6,\"ticks\":\"inside\"},\"colorscale\":[[0,\"rgb(20,44,66)\"],[1,\"rgb(90,179,244)\"]],\"type\":\"surface\"}],\"table\":[{\"cells\":{\"fill\":{\"color\":\"rgb(237,237,237)\"},\"line\":{\"color\":\"white\"}},\"header\":{\"fill\":{\"color\":\"rgb(217,217,217)\"},\"line\":{\"color\":\"white\"}},\"type\":\"table\"}]},\"layout\":{\"annotationdefaults\":{\"arrowhead\":0,\"arrowwidth\":1},\"autotypenumbers\":\"strict\",\"coloraxis\":{\"colorbar\":{\"outlinewidth\":0,\"tickcolor\":\"rgb(237,237,237)\",\"ticklen\":6,\"ticks\":\"inside\"}},\"colorscale\":{\"sequential\":[[0,\"rgb(20,44,66)\"],[1,\"rgb(90,179,244)\"]],\"sequentialminus\":[[0,\"rgb(20,44,66)\"],[1,\"rgb(90,179,244)\"]]},\"colorway\":[\"#F8766D\",\"#A3A500\",\"#00BF7D\",\"#00B0F6\",\"#E76BF3\"],\"font\":{\"color\":\"rgb(51,51,51)\"},\"geo\":{\"bgcolor\":\"white\",\"lakecolor\":\"white\",\"landcolor\":\"rgb(237,237,237)\",\"showlakes\":true,\"showland\":true,\"subunitcolor\":\"white\"},\"hoverlabel\":{\"align\":\"left\"},\"hovermode\":\"closest\",\"paper_bgcolor\":\"white\",\"plot_bgcolor\":\"rgb(237,237,237)\",\"polar\":{\"angularaxis\":{\"gridcolor\":\"white\",\"linecolor\":\"white\",\"showgrid\":true,\"tickcolor\":\"rgb(51,51,51)\",\"ticks\":\"outside\"},\"bgcolor\":\"rgb(237,237,237)\",\"radialaxis\":{\"gridcolor\":\"white\",\"linecolor\":\"white\",\"showgrid\":true,\"tickcolor\":\"rgb(51,51,51)\",\"ticks\":\"outside\"}},\"scene\":{\"xaxis\":{\"backgroundcolor\":\"rgb(237,237,237)\",\"gridcolor\":\"white\",\"gridwidth\":2,\"linecolor\":\"white\",\"showbackground\":true,\"showgrid\":true,\"tickcolor\":\"rgb(51,51,51)\",\"ticks\":\"outside\",\"zerolinecolor\":\"white\"},\"yaxis\":{\"backgroundcolor\":\"rgb(237,237,237)\",\"gridcolor\":\"white\",\"gridwidth\":2,\"linecolor\":\"white\",\"showbackground\":true,\"showgrid\":true,\"tickcolor\":\"rgb(51,51,51)\",\"ticks\":\"outside\",\"zerolinecolor\":\"white\"},\"zaxis\":{\"backgroundcolor\":\"rgb(237,237,237)\",\"gridcolor\":\"white\",\"gridwidth\":2,\"linecolor\":\"white\",\"showbackground\":true,\"showgrid\":true,\"tickcolor\":\"rgb(51,51,51)\",\"ticks\":\"outside\",\"zerolinecolor\":\"white\"}},\"shapedefaults\":{\"fillcolor\":\"black\",\"line\":{\"width\":0},\"opacity\":0.3},\"ternary\":{\"aaxis\":{\"gridcolor\":\"white\",\"linecolor\":\"white\",\"showgrid\":true,\"tickcolor\":\"rgb(51,51,51)\",\"ticks\":\"outside\"},\"baxis\":{\"gridcolor\":\"white\",\"linecolor\":\"white\",\"showgrid\":true,\"tickcolor\":\"rgb(51,51,51)\",\"ticks\":\"outside\"},\"bgcolor\":\"rgb(237,237,237)\",\"caxis\":{\"gridcolor\":\"white\",\"linecolor\":\"white\",\"showgrid\":true,\"tickcolor\":\"rgb(51,51,51)\",\"ticks\":\"outside\"}},\"xaxis\":{\"automargin\":true,\"gridcolor\":\"white\",\"linecolor\":\"white\",\"showgrid\":true,\"tickcolor\":\"rgb(51,51,51)\",\"ticks\":\"outside\",\"title\":{\"standoff\":15},\"zerolinecolor\":\"white\"},\"yaxis\":{\"automargin\":true,\"gridcolor\":\"white\",\"linecolor\":\"white\",\"showgrid\":true,\"tickcolor\":\"rgb(51,51,51)\",\"ticks\":\"outside\",\"title\":{\"standoff\":15},\"zerolinecolor\":\"white\"}}},\"showlegend\":true},                        {\"responsive\": true}                    ).then(function(){\n",
              "                            \n",
              "var gd = document.getElementById('bdf63726-5204-47a8-8249-e7052d97182d');\n",
              "var x = new MutationObserver(function (mutations, observer) {{\n",
              "        var display = window.getComputedStyle(gd).display;\n",
              "        if (!display || display === 'none') {{\n",
              "            console.log([gd, 'removed!']);\n",
              "            Plotly.purge(gd);\n",
              "            observer.disconnect();\n",
              "        }}\n",
              "}});\n",
              "\n",
              "// Listen for the removal of the full notebook cells\n",
              "var notebookContainer = gd.closest('#notebook-container');\n",
              "if (notebookContainer) {{\n",
              "    x.observe(notebookContainer, {childList: true});\n",
              "}}\n",
              "\n",
              "// Listen for the clearing of the current output cell\n",
              "var outputEl = gd.closest('.output');\n",
              "if (outputEl) {{\n",
              "    x.observe(outputEl, {childList: true});\n",
              "}}\n",
              "\n",
              "                        })                };                            </script>        </div>\n",
              "</body>\n",
              "</html>"
            ]
          },
          "metadata": {}
        },
        {
          "output_type": "stream",
          "name": "stdout",
          "text": [
            "Residual Sigma 2: 0.9792018904230774\n"
          ]
        }
      ]
    },
    {
      "cell_type": "code",
      "metadata": {
        "colab": {
          "base_uri": "https://localhost:8080/",
          "height": 1000
        },
        "id": "Ce9h26caWHrh",
        "outputId": "3af88c9b-46be-4840-f049-96facbe91d31"
      },
      "source": [
        "plot_predictions(model2a)"
      ],
      "execution_count": 41,
      "outputs": [
        {
          "output_type": "display_data",
          "data": {
            "text/html": [
              "<html>\n",
              "<head><meta charset=\"utf-8\" /></head>\n",
              "<body>\n",
              "    <div>            <script src=\"https://cdnjs.cloudflare.com/ajax/libs/mathjax/2.7.5/MathJax.js?config=TeX-AMS-MML_SVG\"></script><script type=\"text/javascript\">if (window.MathJax) {MathJax.Hub.Config({SVG: {font: \"STIX-Web\"}});}</script>                <script type=\"text/javascript\">window.PlotlyConfig = {MathJaxConfig: 'local'};</script>\n",
              "        <script src=\"https://cdn.plot.ly/plotly-2.6.3.min.js\"></script>                <div id=\"966ed855-da9a-43c2-a9c5-4a0e63e55b61\" class=\"plotly-graph-div\" style=\"height:525px; width:100%;\"></div>            <script type=\"text/javascript\">                                    window.PLOTLYENV=window.PLOTLYENV || {};                                    if (document.getElementById(\"966ed855-da9a-43c2-a9c5-4a0e63e55b61\")) {                    Plotly.newPlot(                        \"966ed855-da9a-43c2-a9c5-4a0e63e55b61\",                        [{\"line\":{\"color\":\"#1f77b4\"},\"marker\":{\"size\":5},\"mode\":\"lines+markers\",\"name\":\"Forecast | ARIMA\",\"showlegend\":true,\"x\":[310,311,312,313,314,315,316,317,318,319,320,321,322,323,324,325,326,327,328,329,330,331,332,333,334,335,336,337,338,339],\"y\":[192.5018,192.5018,192.5018,192.5018,192.5018,192.5018,192.5018,192.5018,192.5018,192.5018,192.5018,192.5018,192.5018,192.5018,192.5018,192.5018,192.5018,192.5018,192.5018,192.5018,192.5018,192.5018,192.5018,192.5018,192.5018,192.5018,192.5018,192.5018,192.5018,192.5018],\"type\":\"scatter\"},{\"line\":{\"width\":0},\"marker\":{\"color\":\"#68BBE3\"},\"mode\":\"lines\",\"name\":\"Lower Interval\",\"showlegend\":false,\"x\":[310,311,312,313,314,315,316,317,318,319,320,321,322,323,324,325,326,327,328,329,330,331,332,333,334,335,336,337,338,339],\"y\":[190.5623,189.759,189.1425,188.6228,188.165,187.7511,187.3704,187.0161,186.6834,186.3686,186.0693,185.7833,185.5089,185.2449,184.9902,184.7439,184.5051,184.2733,184.0478,183.8282,183.614,183.4049,183.2004,183.0003,182.8044,182.6124,182.424,182.2391,182.0574,181.8789],\"type\":\"scatter\"},{\"fill\":\"tonexty\",\"fillcolor\":\"rgba(104,187,227,0.5)\",\"line\":{\"width\":0},\"marker\":{\"color\":\"#68BBE3\"},\"mode\":\"lines\",\"name\":\"Prediction Interval | ARIMA\",\"showlegend\":true,\"x\":[310,311,312,313,314,315,316,317,318,319,320,321,322,323,324,325,326,327,328,329,330,331,332,333,334,335,336,337,338,339],\"y\":[194.4413,195.2446,195.8611,196.3807,196.8386,197.2525,197.6332,197.9875,198.3202,198.635,198.9343,199.2203,199.4947,199.7586,200.0133,200.2597,200.4985,200.7303,200.9558,201.1754,201.3896,201.5987,201.8032,202.0032,202.1992,202.3912,202.5796,202.7645,202.9462,203.1247],\"type\":\"scatter\"},{\"marker\":{\"color\":\"#3f3f3f\",\"size\":5},\"mode\":\"lines+markers\",\"name\":\"Original\",\"showlegend\":true,\"x\":[0,1,2,3,4,5,6,7,8,9,10,11,12,13,14,15,16,17,18,19,20,21,22,23,24,25,26,27,28,29,30,31,32,33,34,35,36,37,38,39,40,41,42,43,44,45,46,47,48,49,50,51,52,53,54,55,56,57,58,59,60,61,62,63,64,65,66,67,68,69,70,71,72,73,74,75,76,77,78,79,80,81,82,83,84,85,86,87,88,89,90,91,92,93,94,95,96,97,98,99,100,101,102,103,104,105,106,107,108,109,110,111,112,113,114,115,116,117,118,119,120,121,122,123,124,125,126,127,128,129,130,131,132,133,134,135,136,137,138,139,140,141,142,143,144,145,146,147,148,149,150,151,152,153,154,155,156,157,158,159,160,161,162,163,164,165,166,167,168,169,170,171,172,173,174,175,176,177,178,179,180,181,182,183,184,185,186,187,188,189,190,191,192,193,194,195,196,197,198,199,200,201,202,203,204,205,206,207,208,209,210,211,212,213,214,215,216,217,218,219,220,221,222,223,224,225,226,227,228,229,230,231,232,233,234,235,236,237,238,239,240,241,242,243,244,245,246,247,248,249,250,251,252,253,254,255,256,257,258,259,260,261,262,263,264,265,266,267,268,269,270,271,272,273,274,275,276,277,278,279,280,281,282,283,284,285,286,287,288,289,290,291,292,293,294,295,296,297,298,299,300,301,302,303,304,305,306,307,308,309,310,311,312,313,314,315,316,317,318,319,320,321,322,323,324,325,326,327,328,329,330,331,332,333,334,335,336,337,338,339],\"y\":[186.268370014241,186.31048588738602,185.399564238833,185.557593011237,184.903008367318,186.670295636691,187.38700311270802,188.29717734220299,188.68136270003004,190.36353878054902,189.7278023266,189.26615759624,190.698439834781,190.04774348147097,189.840362737869,189.44755480842701,189.127561939879,188.84844863690202,189.34263696817,189.1653064859,188.659349023786,190.002387848956,189.78780844041,189.608251910366,189.508061169153,190.220727476204,190.14716307207803,190.109528900611,189.427868421855,189.10359814960898,189.163758590043,188.574864103783,189.10636029641603,187.58796621462898,187.894524075419,186.358074251881,186.057098125045,185.52881822060002,184.876723439919,184.819826662071,182.905467236391,184.08205054841,182.417078112198,181.953547710726,180.837627605683,180.086808604489,182.173975150118,182.191370769811,180.90507023937698,179.264464704958,179.714651806231,179.69609197351602,179.37802359897202,178.44866145151798,176.961201141377,175.88600884476102,176.886037648475,176.264770953678,174.880344106294,176.749634728717,177.17473510608997,176.936088005177,177.994571053886,178.880993705261,178.26175065702998,180.46785312157,180.21282609142898,178.788331441216,178.643931839262,178.851470178494,181.159448577554,181.265250945448,181.72224975087101,181.645096815514,181.311095973148,181.276369944837,182.064009550467,184.139254559119,185.166646997883,186.37455539626998,185.143231974711,186.12712754476502,186.34705234842602,184.879802319333,185.400825061981,185.24207045726502,186.706657769235,185.940575769631,185.510364015702,184.584254518325,184.407150556888,184.80916233637402,184.077414163255,184.907787331236,183.699704544932,182.65172013212398,184.092877838968,183.07703037366403,183.48900508598098,183.10792903487203,183.517330874523,185.206204160727,186.79279259416901,186.461884793487,184.176649258194,186.674310848028,187.341377014794,187.88270435075802,187.869304827612,188.379413250565,188.21503741879502,188.635732062049,188.23548531807202,186.86527744052398,187.85311570797901,189.372860733479,189.064120164253,187.810830408645,188.45307171432302,188.40836257742902,186.67514417060397,186.677276030285,186.046975696357,185.706007116496,184.54943475386003,186.352576661778,186.021444625386,184.415931213133,184.61312465187302,184.876300298278,183.890473597869,181.00155292619,180.361071223624,180.93157885954497,180.871855583502,180.773676839497,181.334497568117,180.148038929538,181.244815973812,181.23947194553398,181.94678261293203,182.980890347669,183.204370762585,182.32566314971902,183.48862770568599,181.4884627609,180.94367202089902,180.68800131174197,180.521880274977,181.54234418376097,181.678566076864,182.085733680287,182.016078867275,181.76841452565498,182.463965332275,183.610193689491,181.207097474599,181.779837029845,182.154561436623,181.72929371506697,182.680306522644,182.29106934092601,182.00673867912602,182.864148457206,184.58377575632701,184.85383065726398,184.43164664747601,183.242533352617,182.911500373737,181.97167104722698,181.712738464109,182.10711763233002,181.255260540306,183.90442742140098,184.060439097066,185.190646364521,182.90152238468102,183.64252354187698,182.32627838142503,183.246082059034,183.644212214486,183.236683635216,184.56094226539398,183.859710596147,183.279096291906,182.278024110881,181.609845504127,182.5550304575,182.98873260704602,183.99389182472302,183.603773160669,183.980143452444,184.22430837693,182.798051034548,184.576480322023,184.710927982957,185.476526982115,186.431663659024,186.38109795758098,186.075282537814,186.96895624023998,185.921658091179,187.892995477403,187.509363371114,189.163508673389,190.67572136733997,190.758687100926,191.325908015777,190.30135953624298,190.62436603926497,191.667978497622,191.767056984519,191.312920075364,190.657138222914,190.621215800291,191.690377260968,191.206402330667,191.08539221933898,189.791252215519,190.285565051534,191.59346657164798,193.09050758105,193.90521031194803,192.035421521745,192.51745102586898,192.97358662917,192.62018634334,192.790675814288,191.92663986016103,192.60587063417702,192.278769619524,190.70968743438,190.342236678209,191.70667160727902,191.372390242548,192.105140284757,193.05172592495498,193.05612462928102,192.703802323732,192.17410681459802,192.913696040173,191.85023862468998,192.096449468226,191.80695010166198,189.54206074517398,188.133210289101,189.04922961789399,188.857950667358,189.661233883492,191.548708346801,193.02258952791001,193.69985802022302,194.079820706789,193.887022280332,195.464914075237,196.061148184555,194.887571243684,194.731928708793,192.81301888852298,192.61776004241298,190.025432372467,191.339434539665,190.703891538633,190.273912699939,190.104594367637,190.716812541626,191.395152718848,191.96310469132,191.390562087394,190.027270831116,189.638548586778,189.91646271922798,189.093381597656,189.024540663178,187.856878337048,187.848569322832,187.97742472443,187.831549095969,187.66763813923302,189.431190142018,190.193776654436,191.30520773516702,190.382000782337,190.546342620765,191.70116780786202,191.64464638333598,189.515285735101,189.8601314972,187.95517605161498,187.144005898475,188.46801021977402,189.083647069077,190.17531602461202,190.48192088612598,190.371762123643,189.44744935051602,191.040363104235,191.08537370235697,190.37024530168898,191.235468401406,192.30990935968399,194.20556413388303,193.602566830277,193.211699009554,192.795476978024,192.41981955520401,192.053188609501,191.7575111568,193.199331567,192.501793275087,192.113625769166,192.76616222133703,193.890934667873,193.11882386484902,192.61073764871003,193.13435823920798,194.152112465746,193.900947877658,192.47095443027,194.18007546237098,195.615145034682,194.904773888832,194.839706315177,193.08023757981098,193.64996055163002,195.262307349832,193.625026702727,192.845458189525,192.204281255775,191.523149862204,189.489864266586,189.990827825834,188.459029685868,188.43403204659,189.027016767615,188.82882134612998,189.720829738604,189.695114667686,189.04745421709998,189.693813632135],\"type\":\"scatter\"}],                        {\"title\":{\"text\":\"Actual vs. 'Out-of-Sample' Forecast | x\"},\"xaxis\":{\"title\":{\"text\":\"Time\"}},\"yaxis\":{\"title\":{\"text\":\"Values\"}},\"template\":{\"data\":{\"barpolar\":[{\"marker\":{\"line\":{\"color\":\"rgb(237,237,237)\",\"width\":0.5},\"pattern\":{\"fillmode\":\"overlay\",\"size\":10,\"solidity\":0.2}},\"type\":\"barpolar\"}],\"bar\":[{\"error_x\":{\"color\":\"rgb(51,51,51)\"},\"error_y\":{\"color\":\"rgb(51,51,51)\"},\"marker\":{\"line\":{\"color\":\"rgb(237,237,237)\",\"width\":0.5},\"pattern\":{\"fillmode\":\"overlay\",\"size\":10,\"solidity\":0.2}},\"type\":\"bar\"}],\"carpet\":[{\"aaxis\":{\"endlinecolor\":\"rgb(51,51,51)\",\"gridcolor\":\"white\",\"linecolor\":\"white\",\"minorgridcolor\":\"white\",\"startlinecolor\":\"rgb(51,51,51)\"},\"baxis\":{\"endlinecolor\":\"rgb(51,51,51)\",\"gridcolor\":\"white\",\"linecolor\":\"white\",\"minorgridcolor\":\"white\",\"startlinecolor\":\"rgb(51,51,51)\"},\"type\":\"carpet\"}],\"choropleth\":[{\"colorbar\":{\"outlinewidth\":0,\"tickcolor\":\"rgb(237,237,237)\",\"ticklen\":6,\"ticks\":\"inside\"},\"type\":\"choropleth\"}],\"contourcarpet\":[{\"colorbar\":{\"outlinewidth\":0,\"tickcolor\":\"rgb(237,237,237)\",\"ticklen\":6,\"ticks\":\"inside\"},\"type\":\"contourcarpet\"}],\"contour\":[{\"colorbar\":{\"outlinewidth\":0,\"tickcolor\":\"rgb(237,237,237)\",\"ticklen\":6,\"ticks\":\"inside\"},\"colorscale\":[[0,\"rgb(20,44,66)\"],[1,\"rgb(90,179,244)\"]],\"type\":\"contour\"}],\"heatmapgl\":[{\"colorbar\":{\"outlinewidth\":0,\"tickcolor\":\"rgb(237,237,237)\",\"ticklen\":6,\"ticks\":\"inside\"},\"colorscale\":[[0,\"rgb(20,44,66)\"],[1,\"rgb(90,179,244)\"]],\"type\":\"heatmapgl\"}],\"heatmap\":[{\"colorbar\":{\"outlinewidth\":0,\"tickcolor\":\"rgb(237,237,237)\",\"ticklen\":6,\"ticks\":\"inside\"},\"colorscale\":[[0,\"rgb(20,44,66)\"],[1,\"rgb(90,179,244)\"]],\"type\":\"heatmap\"}],\"histogram2dcontour\":[{\"colorbar\":{\"outlinewidth\":0,\"tickcolor\":\"rgb(237,237,237)\",\"ticklen\":6,\"ticks\":\"inside\"},\"colorscale\":[[0,\"rgb(20,44,66)\"],[1,\"rgb(90,179,244)\"]],\"type\":\"histogram2dcontour\"}],\"histogram2d\":[{\"colorbar\":{\"outlinewidth\":0,\"tickcolor\":\"rgb(237,237,237)\",\"ticklen\":6,\"ticks\":\"inside\"},\"colorscale\":[[0,\"rgb(20,44,66)\"],[1,\"rgb(90,179,244)\"]],\"type\":\"histogram2d\"}],\"histogram\":[{\"marker\":{\"pattern\":{\"fillmode\":\"overlay\",\"size\":10,\"solidity\":0.2}},\"type\":\"histogram\"}],\"mesh3d\":[{\"colorbar\":{\"outlinewidth\":0,\"tickcolor\":\"rgb(237,237,237)\",\"ticklen\":6,\"ticks\":\"inside\"},\"type\":\"mesh3d\"}],\"parcoords\":[{\"line\":{\"colorbar\":{\"outlinewidth\":0,\"tickcolor\":\"rgb(237,237,237)\",\"ticklen\":6,\"ticks\":\"inside\"}},\"type\":\"parcoords\"}],\"pie\":[{\"automargin\":true,\"type\":\"pie\"}],\"scatter3d\":[{\"line\":{\"colorbar\":{\"outlinewidth\":0,\"tickcolor\":\"rgb(237,237,237)\",\"ticklen\":6,\"ticks\":\"inside\"}},\"marker\":{\"colorbar\":{\"outlinewidth\":0,\"tickcolor\":\"rgb(237,237,237)\",\"ticklen\":6,\"ticks\":\"inside\"}},\"type\":\"scatter3d\"}],\"scattercarpet\":[{\"marker\":{\"colorbar\":{\"outlinewidth\":0,\"tickcolor\":\"rgb(237,237,237)\",\"ticklen\":6,\"ticks\":\"inside\"}},\"type\":\"scattercarpet\"}],\"scattergeo\":[{\"marker\":{\"colorbar\":{\"outlinewidth\":0,\"tickcolor\":\"rgb(237,237,237)\",\"ticklen\":6,\"ticks\":\"inside\"}},\"type\":\"scattergeo\"}],\"scattergl\":[{\"marker\":{\"colorbar\":{\"outlinewidth\":0,\"tickcolor\":\"rgb(237,237,237)\",\"ticklen\":6,\"ticks\":\"inside\"}},\"type\":\"scattergl\"}],\"scattermapbox\":[{\"marker\":{\"colorbar\":{\"outlinewidth\":0,\"tickcolor\":\"rgb(237,237,237)\",\"ticklen\":6,\"ticks\":\"inside\"}},\"type\":\"scattermapbox\"}],\"scatterpolargl\":[{\"marker\":{\"colorbar\":{\"outlinewidth\":0,\"tickcolor\":\"rgb(237,237,237)\",\"ticklen\":6,\"ticks\":\"inside\"}},\"type\":\"scatterpolargl\"}],\"scatterpolar\":[{\"marker\":{\"colorbar\":{\"outlinewidth\":0,\"tickcolor\":\"rgb(237,237,237)\",\"ticklen\":6,\"ticks\":\"inside\"}},\"type\":\"scatterpolar\"}],\"scatter\":[{\"marker\":{\"colorbar\":{\"outlinewidth\":0,\"tickcolor\":\"rgb(237,237,237)\",\"ticklen\":6,\"ticks\":\"inside\"}},\"type\":\"scatter\"}],\"scatterternary\":[{\"marker\":{\"colorbar\":{\"outlinewidth\":0,\"tickcolor\":\"rgb(237,237,237)\",\"ticklen\":6,\"ticks\":\"inside\"}},\"type\":\"scatterternary\"}],\"surface\":[{\"colorbar\":{\"outlinewidth\":0,\"tickcolor\":\"rgb(237,237,237)\",\"ticklen\":6,\"ticks\":\"inside\"},\"colorscale\":[[0,\"rgb(20,44,66)\"],[1,\"rgb(90,179,244)\"]],\"type\":\"surface\"}],\"table\":[{\"cells\":{\"fill\":{\"color\":\"rgb(237,237,237)\"},\"line\":{\"color\":\"white\"}},\"header\":{\"fill\":{\"color\":\"rgb(217,217,217)\"},\"line\":{\"color\":\"white\"}},\"type\":\"table\"}]},\"layout\":{\"annotationdefaults\":{\"arrowhead\":0,\"arrowwidth\":1},\"autotypenumbers\":\"strict\",\"coloraxis\":{\"colorbar\":{\"outlinewidth\":0,\"tickcolor\":\"rgb(237,237,237)\",\"ticklen\":6,\"ticks\":\"inside\"}},\"colorscale\":{\"sequential\":[[0,\"rgb(20,44,66)\"],[1,\"rgb(90,179,244)\"]],\"sequentialminus\":[[0,\"rgb(20,44,66)\"],[1,\"rgb(90,179,244)\"]]},\"colorway\":[\"#F8766D\",\"#A3A500\",\"#00BF7D\",\"#00B0F6\",\"#E76BF3\"],\"font\":{\"color\":\"rgb(51,51,51)\"},\"geo\":{\"bgcolor\":\"white\",\"lakecolor\":\"white\",\"landcolor\":\"rgb(237,237,237)\",\"showlakes\":true,\"showland\":true,\"subunitcolor\":\"white\"},\"hoverlabel\":{\"align\":\"left\"},\"hovermode\":\"closest\",\"paper_bgcolor\":\"white\",\"plot_bgcolor\":\"rgb(237,237,237)\",\"polar\":{\"angularaxis\":{\"gridcolor\":\"white\",\"linecolor\":\"white\",\"showgrid\":true,\"tickcolor\":\"rgb(51,51,51)\",\"ticks\":\"outside\"},\"bgcolor\":\"rgb(237,237,237)\",\"radialaxis\":{\"gridcolor\":\"white\",\"linecolor\":\"white\",\"showgrid\":true,\"tickcolor\":\"rgb(51,51,51)\",\"ticks\":\"outside\"}},\"scene\":{\"xaxis\":{\"backgroundcolor\":\"rgb(237,237,237)\",\"gridcolor\":\"white\",\"gridwidth\":2,\"linecolor\":\"white\",\"showbackground\":true,\"showgrid\":true,\"tickcolor\":\"rgb(51,51,51)\",\"ticks\":\"outside\",\"zerolinecolor\":\"white\"},\"yaxis\":{\"backgroundcolor\":\"rgb(237,237,237)\",\"gridcolor\":\"white\",\"gridwidth\":2,\"linecolor\":\"white\",\"showbackground\":true,\"showgrid\":true,\"tickcolor\":\"rgb(51,51,51)\",\"ticks\":\"outside\",\"zerolinecolor\":\"white\"},\"zaxis\":{\"backgroundcolor\":\"rgb(237,237,237)\",\"gridcolor\":\"white\",\"gridwidth\":2,\"linecolor\":\"white\",\"showbackground\":true,\"showgrid\":true,\"tickcolor\":\"rgb(51,51,51)\",\"ticks\":\"outside\",\"zerolinecolor\":\"white\"}},\"shapedefaults\":{\"fillcolor\":\"black\",\"line\":{\"width\":0},\"opacity\":0.3},\"ternary\":{\"aaxis\":{\"gridcolor\":\"white\",\"linecolor\":\"white\",\"showgrid\":true,\"tickcolor\":\"rgb(51,51,51)\",\"ticks\":\"outside\"},\"baxis\":{\"gridcolor\":\"white\",\"linecolor\":\"white\",\"showgrid\":true,\"tickcolor\":\"rgb(51,51,51)\",\"ticks\":\"outside\"},\"bgcolor\":\"rgb(237,237,237)\",\"caxis\":{\"gridcolor\":\"white\",\"linecolor\":\"white\",\"showgrid\":true,\"tickcolor\":\"rgb(51,51,51)\",\"ticks\":\"outside\"}},\"xaxis\":{\"automargin\":true,\"gridcolor\":\"white\",\"linecolor\":\"white\",\"showgrid\":true,\"tickcolor\":\"rgb(51,51,51)\",\"ticks\":\"outside\",\"title\":{\"standoff\":15},\"zerolinecolor\":\"white\"},\"yaxis\":{\"automargin\":true,\"gridcolor\":\"white\",\"linecolor\":\"white\",\"showgrid\":true,\"tickcolor\":\"rgb(51,51,51)\",\"ticks\":\"outside\",\"title\":{\"standoff\":15},\"zerolinecolor\":\"white\"}}},\"showlegend\":true},                        {\"responsive\": true}                    ).then(function(){\n",
              "                            \n",
              "var gd = document.getElementById('966ed855-da9a-43c2-a9c5-4a0e63e55b61');\n",
              "var x = new MutationObserver(function (mutations, observer) {{\n",
              "        var display = window.getComputedStyle(gd).display;\n",
              "        if (!display || display === 'none') {{\n",
              "            console.log([gd, 'removed!']);\n",
              "            Plotly.purge(gd);\n",
              "            observer.disconnect();\n",
              "        }}\n",
              "}});\n",
              "\n",
              "// Listen for the removal of the full notebook cells\n",
              "var notebookContainer = gd.closest('#notebook-container');\n",
              "if (notebookContainer) {{\n",
              "    x.observe(notebookContainer, {childList: true});\n",
              "}}\n",
              "\n",
              "// Listen for the clearing of the current output cell\n",
              "var outputEl = gd.closest('.output');\n",
              "if (outputEl) {{\n",
              "    x.observe(outputEl, {childList: true});\n",
              "}}\n",
              "\n",
              "                        })                };                            </script>        </div>\n",
              "</body>\n",
              "</html>"
            ]
          },
          "metadata": {}
        },
        {
          "output_type": "display_data",
          "data": {
            "text/html": [
              "<html>\n",
              "<head><meta charset=\"utf-8\" /></head>\n",
              "<body>\n",
              "    <div>            <script src=\"https://cdnjs.cloudflare.com/ajax/libs/mathjax/2.7.5/MathJax.js?config=TeX-AMS-MML_SVG\"></script><script type=\"text/javascript\">if (window.MathJax) {MathJax.Hub.Config({SVG: {font: \"STIX-Web\"}});}</script>                <script type=\"text/javascript\">window.PlotlyConfig = {MathJaxConfig: 'local'};</script>\n",
              "        <script src=\"https://cdn.plot.ly/plotly-2.6.3.min.js\"></script>                <div id=\"eda65f45-d3b6-426a-80cd-dfe561b41dc8\" class=\"plotly-graph-div\" style=\"height:525px; width:100%;\"></div>            <script type=\"text/javascript\">                                    window.PLOTLYENV=window.PLOTLYENV || {};                                    if (document.getElementById(\"eda65f45-d3b6-426a-80cd-dfe561b41dc8\")) {                    Plotly.newPlot(                        \"eda65f45-d3b6-426a-80cd-dfe561b41dc8\",                        [{\"line\":{\"color\":\"#1f77b4\"},\"marker\":{\"size\":5},\"mode\":\"lines+markers\",\"name\":\"Forecast | ARIMA\",\"showlegend\":true,\"x\":[0,1,2,3,4,5,6,7,8,9,10,11,12,13,14,15,16,17,18,19,20,21,22,23,24,25,26,27,28,29,30,31,32,33,34,35,36,37,38,39,40,41,42,43,44,45,46,47,48,49,50,51,52,53,54,55,56,57,58,59,60,61,62,63,64,65,66,67,68,69,70,71,72,73,74,75,76,77,78,79,80,81,82,83,84,85,86,87,88,89,90,91,92,93,94,95,96,97,98,99,100,101,102,103,104,105,106,107,108,109,110,111,112,113,114,115,116,117,118,119,120,121,122,123,124,125,126,127,128,129,130,131,132,133,134,135,136,137,138,139,140,141,142,143,144,145,146,147,148,149,150,151,152,153,154,155,156,157,158,159,160,161,162,163,164,165,166,167,168,169,170,171,172,173,174,175,176,177,178,179,180,181,182,183,184,185,186,187,188,189,190,191,192,193,194,195,196,197,198,199,200,201,202,203,204,205,206,207,208,209,210,211,212,213,214,215,216,217,218,219,220,221,222,223,224,225,226,227,228,229,230,231,232,233,234,235,236,237,238,239,240,241,242,243,244,245,246,247,248,249,250,251,252,253,254,255,256,257,258,259,260,261,262,263,264,265,266,267,268,269,270,271,272,273,274,275,276,277,278,279,280,281,282,283,284,285,286,287,288,289,290,291,292,293,294,295,296,297,298,299,300,301,302,303,304,305,306,307,308,309],\"y\":[null,186.2684,186.3105,185.3996,185.5576,184.903,186.6703,187.387,188.2972,188.6814,190.3635,189.7278,189.2662,190.6984,190.0477,189.8404,189.4476,189.1276,188.8484,189.3426,189.1653,188.6593,190.0024,189.7878,189.6083,189.5081,190.2207,190.1472,190.1095,189.4279,189.1036,189.1638,188.5749,189.1064,187.588,187.8945,186.3581,186.0571,185.5288,184.8767,184.8198,182.9055,184.0821,182.4171,181.9535,180.8376,180.0868,182.174,182.1914,180.9051,179.2645,179.7147,179.6961,179.378,178.4487,176.9612,175.886,176.886,176.2648,174.8803,176.7496,177.1747,176.9361,177.9946,178.881,178.2618,180.4679,180.2128,178.7883,178.6439,178.8515,181.1594,181.2653,181.7222,181.6451,181.3111,181.2764,182.064,184.1393,185.1666,186.3746,185.1432,186.1271,186.3471,184.8798,185.4008,185.2421,186.7067,185.9406,185.5104,184.5843,184.4072,184.8092,184.0774,184.9078,183.6997,182.6517,184.0929,183.077,183.489,183.1079,183.5173,185.2062,186.7928,186.4619,184.1766,186.6743,187.3414,187.8827,187.8693,188.3794,188.215,188.6357,188.2355,186.8653,187.8531,189.3729,189.0641,187.8108,188.4531,188.4084,186.6751,186.6773,186.047,185.706,184.5494,186.3526,186.0214,184.4159,184.6131,184.8763,183.8905,181.0016,180.3611,180.9316,180.8719,180.7737,181.3345,180.148,181.2448,181.2395,181.9468,182.9809,183.2044,182.3257,183.4886,181.4885,180.9437,180.688,180.5219,181.5423,181.6786,182.0857,182.0161,181.7684,182.464,183.6102,181.2071,181.7798,182.1546,181.7293,182.6803,182.2911,182.0067,182.8641,184.5838,184.8538,184.4316,183.2425,182.9115,181.9717,181.7127,182.1071,181.2553,183.9044,184.0604,185.1906,182.9015,183.6425,182.3263,183.2461,183.6442,183.2367,184.5609,183.8597,183.2791,182.278,181.6098,182.555,182.9887,183.9939,183.6038,183.9801,184.2243,182.7981,184.5765,184.7109,185.4765,186.4317,186.3811,186.0753,186.969,185.9217,187.893,187.5094,189.1635,190.6757,190.7587,191.3259,190.3014,190.6244,191.668,191.7671,191.3129,190.6571,190.6212,191.6904,191.2064,191.0854,189.7913,190.2856,191.5935,193.0905,193.9052,192.0354,192.5175,192.9736,192.6202,192.7907,191.9266,192.6059,192.2788,190.7097,190.3422,191.7067,191.3724,192.1051,193.0517,193.0561,192.7038,192.1741,192.9137,191.8502,192.0964,191.807,189.5421,188.1332,189.0492,188.858,189.6612,191.5487,193.0226,193.6999,194.0798,193.887,195.4649,196.0611,194.8876,194.7319,192.813,192.6178,190.0254,191.3394,190.7039,190.2739,190.1046,190.7168,191.3952,191.9631,191.3906,190.0273,189.6385,189.9165,189.0934,189.0245,187.8569,187.8486,187.9774,187.8315,187.6676,189.4312,190.1938,191.3052,190.382,190.5463,191.7012,191.6446,189.5153,189.8601,187.9552,187.144,188.468,189.0836,190.1753,190.4819,190.3718,189.4474,191.0404,191.0854,190.3702,191.2355,192.3099,194.2056,193.6026,193.2117,192.7955,192.4198,192.0532,191.7575,193.1993],\"type\":\"scatter\"},{\"marker\":{\"color\":\"#3f3f3f\",\"size\":5},\"mode\":\"lines+markers\",\"name\":\"Original\",\"showlegend\":true,\"x\":[0,1,2,3,4,5,6,7,8,9,10,11,12,13,14,15,16,17,18,19,20,21,22,23,24,25,26,27,28,29,30,31,32,33,34,35,36,37,38,39,40,41,42,43,44,45,46,47,48,49,50,51,52,53,54,55,56,57,58,59,60,61,62,63,64,65,66,67,68,69,70,71,72,73,74,75,76,77,78,79,80,81,82,83,84,85,86,87,88,89,90,91,92,93,94,95,96,97,98,99,100,101,102,103,104,105,106,107,108,109,110,111,112,113,114,115,116,117,118,119,120,121,122,123,124,125,126,127,128,129,130,131,132,133,134,135,136,137,138,139,140,141,142,143,144,145,146,147,148,149,150,151,152,153,154,155,156,157,158,159,160,161,162,163,164,165,166,167,168,169,170,171,172,173,174,175,176,177,178,179,180,181,182,183,184,185,186,187,188,189,190,191,192,193,194,195,196,197,198,199,200,201,202,203,204,205,206,207,208,209,210,211,212,213,214,215,216,217,218,219,220,221,222,223,224,225,226,227,228,229,230,231,232,233,234,235,236,237,238,239,240,241,242,243,244,245,246,247,248,249,250,251,252,253,254,255,256,257,258,259,260,261,262,263,264,265,266,267,268,269,270,271,272,273,274,275,276,277,278,279,280,281,282,283,284,285,286,287,288,289,290,291,292,293,294,295,296,297,298,299,300,301,302,303,304,305,306,307,308,309,310,311,312,313,314,315,316,317,318,319,320,321,322,323,324,325,326,327,328,329,330,331,332,333,334,335,336,337,338,339],\"y\":[186.268370014241,186.31048588738602,185.399564238833,185.557593011237,184.903008367318,186.670295636691,187.38700311270802,188.29717734220299,188.68136270003004,190.36353878054902,189.7278023266,189.26615759624,190.698439834781,190.04774348147097,189.840362737869,189.44755480842701,189.127561939879,188.84844863690202,189.34263696817,189.1653064859,188.659349023786,190.002387848956,189.78780844041,189.608251910366,189.508061169153,190.220727476204,190.14716307207803,190.109528900611,189.427868421855,189.10359814960898,189.163758590043,188.574864103783,189.10636029641603,187.58796621462898,187.894524075419,186.358074251881,186.057098125045,185.52881822060002,184.876723439919,184.819826662071,182.905467236391,184.08205054841,182.417078112198,181.953547710726,180.837627605683,180.086808604489,182.173975150118,182.191370769811,180.90507023937698,179.264464704958,179.714651806231,179.69609197351602,179.37802359897202,178.44866145151798,176.961201141377,175.88600884476102,176.886037648475,176.264770953678,174.880344106294,176.749634728717,177.17473510608997,176.936088005177,177.994571053886,178.880993705261,178.26175065702998,180.46785312157,180.21282609142898,178.788331441216,178.643931839262,178.851470178494,181.159448577554,181.265250945448,181.72224975087101,181.645096815514,181.311095973148,181.276369944837,182.064009550467,184.139254559119,185.166646997883,186.37455539626998,185.143231974711,186.12712754476502,186.34705234842602,184.879802319333,185.400825061981,185.24207045726502,186.706657769235,185.940575769631,185.510364015702,184.584254518325,184.407150556888,184.80916233637402,184.077414163255,184.907787331236,183.699704544932,182.65172013212398,184.092877838968,183.07703037366403,183.48900508598098,183.10792903487203,183.517330874523,185.206204160727,186.79279259416901,186.461884793487,184.176649258194,186.674310848028,187.341377014794,187.88270435075802,187.869304827612,188.379413250565,188.21503741879502,188.635732062049,188.23548531807202,186.86527744052398,187.85311570797901,189.372860733479,189.064120164253,187.810830408645,188.45307171432302,188.40836257742902,186.67514417060397,186.677276030285,186.046975696357,185.706007116496,184.54943475386003,186.352576661778,186.021444625386,184.415931213133,184.61312465187302,184.876300298278,183.890473597869,181.00155292619,180.361071223624,180.93157885954497,180.871855583502,180.773676839497,181.334497568117,180.148038929538,181.244815973812,181.23947194553398,181.94678261293203,182.980890347669,183.204370762585,182.32566314971902,183.48862770568599,181.4884627609,180.94367202089902,180.68800131174197,180.521880274977,181.54234418376097,181.678566076864,182.085733680287,182.016078867275,181.76841452565498,182.463965332275,183.610193689491,181.207097474599,181.779837029845,182.154561436623,181.72929371506697,182.680306522644,182.29106934092601,182.00673867912602,182.864148457206,184.58377575632701,184.85383065726398,184.43164664747601,183.242533352617,182.911500373737,181.97167104722698,181.712738464109,182.10711763233002,181.255260540306,183.90442742140098,184.060439097066,185.190646364521,182.90152238468102,183.64252354187698,182.32627838142503,183.246082059034,183.644212214486,183.236683635216,184.56094226539398,183.859710596147,183.279096291906,182.278024110881,181.609845504127,182.5550304575,182.98873260704602,183.99389182472302,183.603773160669,183.980143452444,184.22430837693,182.798051034548,184.576480322023,184.710927982957,185.476526982115,186.431663659024,186.38109795758098,186.075282537814,186.96895624023998,185.921658091179,187.892995477403,187.509363371114,189.163508673389,190.67572136733997,190.758687100926,191.325908015777,190.30135953624298,190.62436603926497,191.667978497622,191.767056984519,191.312920075364,190.657138222914,190.621215800291,191.690377260968,191.206402330667,191.08539221933898,189.791252215519,190.285565051534,191.59346657164798,193.09050758105,193.90521031194803,192.035421521745,192.51745102586898,192.97358662917,192.62018634334,192.790675814288,191.92663986016103,192.60587063417702,192.278769619524,190.70968743438,190.342236678209,191.70667160727902,191.372390242548,192.105140284757,193.05172592495498,193.05612462928102,192.703802323732,192.17410681459802,192.913696040173,191.85023862468998,192.096449468226,191.80695010166198,189.54206074517398,188.133210289101,189.04922961789399,188.857950667358,189.661233883492,191.548708346801,193.02258952791001,193.69985802022302,194.079820706789,193.887022280332,195.464914075237,196.061148184555,194.887571243684,194.731928708793,192.81301888852298,192.61776004241298,190.025432372467,191.339434539665,190.703891538633,190.273912699939,190.104594367637,190.716812541626,191.395152718848,191.96310469132,191.390562087394,190.027270831116,189.638548586778,189.91646271922798,189.093381597656,189.024540663178,187.856878337048,187.848569322832,187.97742472443,187.831549095969,187.66763813923302,189.431190142018,190.193776654436,191.30520773516702,190.382000782337,190.546342620765,191.70116780786202,191.64464638333598,189.515285735101,189.8601314972,187.95517605161498,187.144005898475,188.46801021977402,189.083647069077,190.17531602461202,190.48192088612598,190.371762123643,189.44744935051602,191.040363104235,191.08537370235697,190.37024530168898,191.235468401406,192.30990935968399,194.20556413388303,193.602566830277,193.211699009554,192.795476978024,192.41981955520401,192.053188609501,191.7575111568,193.199331567,192.501793275087,192.113625769166,192.76616222133703,193.890934667873,193.11882386484902,192.61073764871003,193.13435823920798,194.152112465746,193.900947877658,192.47095443027,194.18007546237098,195.615145034682,194.904773888832,194.839706315177,193.08023757981098,193.64996055163002,195.262307349832,193.625026702727,192.845458189525,192.204281255775,191.523149862204,189.489864266586,189.990827825834,188.459029685868,188.43403204659,189.027016767615,188.82882134612998,189.720829738604,189.695114667686,189.04745421709998,189.693813632135],\"type\":\"scatter\"}],                        {\"title\":{\"text\":\"Actual vs. 'In-Sample' Forecast | x\"},\"xaxis\":{\"title\":{\"text\":\"Time\"}},\"yaxis\":{\"title\":{\"text\":\"Values\"}},\"template\":{\"data\":{\"barpolar\":[{\"marker\":{\"line\":{\"color\":\"rgb(237,237,237)\",\"width\":0.5},\"pattern\":{\"fillmode\":\"overlay\",\"size\":10,\"solidity\":0.2}},\"type\":\"barpolar\"}],\"bar\":[{\"error_x\":{\"color\":\"rgb(51,51,51)\"},\"error_y\":{\"color\":\"rgb(51,51,51)\"},\"marker\":{\"line\":{\"color\":\"rgb(237,237,237)\",\"width\":0.5},\"pattern\":{\"fillmode\":\"overlay\",\"size\":10,\"solidity\":0.2}},\"type\":\"bar\"}],\"carpet\":[{\"aaxis\":{\"endlinecolor\":\"rgb(51,51,51)\",\"gridcolor\":\"white\",\"linecolor\":\"white\",\"minorgridcolor\":\"white\",\"startlinecolor\":\"rgb(51,51,51)\"},\"baxis\":{\"endlinecolor\":\"rgb(51,51,51)\",\"gridcolor\":\"white\",\"linecolor\":\"white\",\"minorgridcolor\":\"white\",\"startlinecolor\":\"rgb(51,51,51)\"},\"type\":\"carpet\"}],\"choropleth\":[{\"colorbar\":{\"outlinewidth\":0,\"tickcolor\":\"rgb(237,237,237)\",\"ticklen\":6,\"ticks\":\"inside\"},\"type\":\"choropleth\"}],\"contourcarpet\":[{\"colorbar\":{\"outlinewidth\":0,\"tickcolor\":\"rgb(237,237,237)\",\"ticklen\":6,\"ticks\":\"inside\"},\"type\":\"contourcarpet\"}],\"contour\":[{\"colorbar\":{\"outlinewidth\":0,\"tickcolor\":\"rgb(237,237,237)\",\"ticklen\":6,\"ticks\":\"inside\"},\"colorscale\":[[0,\"rgb(20,44,66)\"],[1,\"rgb(90,179,244)\"]],\"type\":\"contour\"}],\"heatmapgl\":[{\"colorbar\":{\"outlinewidth\":0,\"tickcolor\":\"rgb(237,237,237)\",\"ticklen\":6,\"ticks\":\"inside\"},\"colorscale\":[[0,\"rgb(20,44,66)\"],[1,\"rgb(90,179,244)\"]],\"type\":\"heatmapgl\"}],\"heatmap\":[{\"colorbar\":{\"outlinewidth\":0,\"tickcolor\":\"rgb(237,237,237)\",\"ticklen\":6,\"ticks\":\"inside\"},\"colorscale\":[[0,\"rgb(20,44,66)\"],[1,\"rgb(90,179,244)\"]],\"type\":\"heatmap\"}],\"histogram2dcontour\":[{\"colorbar\":{\"outlinewidth\":0,\"tickcolor\":\"rgb(237,237,237)\",\"ticklen\":6,\"ticks\":\"inside\"},\"colorscale\":[[0,\"rgb(20,44,66)\"],[1,\"rgb(90,179,244)\"]],\"type\":\"histogram2dcontour\"}],\"histogram2d\":[{\"colorbar\":{\"outlinewidth\":0,\"tickcolor\":\"rgb(237,237,237)\",\"ticklen\":6,\"ticks\":\"inside\"},\"colorscale\":[[0,\"rgb(20,44,66)\"],[1,\"rgb(90,179,244)\"]],\"type\":\"histogram2d\"}],\"histogram\":[{\"marker\":{\"pattern\":{\"fillmode\":\"overlay\",\"size\":10,\"solidity\":0.2}},\"type\":\"histogram\"}],\"mesh3d\":[{\"colorbar\":{\"outlinewidth\":0,\"tickcolor\":\"rgb(237,237,237)\",\"ticklen\":6,\"ticks\":\"inside\"},\"type\":\"mesh3d\"}],\"parcoords\":[{\"line\":{\"colorbar\":{\"outlinewidth\":0,\"tickcolor\":\"rgb(237,237,237)\",\"ticklen\":6,\"ticks\":\"inside\"}},\"type\":\"parcoords\"}],\"pie\":[{\"automargin\":true,\"type\":\"pie\"}],\"scatter3d\":[{\"line\":{\"colorbar\":{\"outlinewidth\":0,\"tickcolor\":\"rgb(237,237,237)\",\"ticklen\":6,\"ticks\":\"inside\"}},\"marker\":{\"colorbar\":{\"outlinewidth\":0,\"tickcolor\":\"rgb(237,237,237)\",\"ticklen\":6,\"ticks\":\"inside\"}},\"type\":\"scatter3d\"}],\"scattercarpet\":[{\"marker\":{\"colorbar\":{\"outlinewidth\":0,\"tickcolor\":\"rgb(237,237,237)\",\"ticklen\":6,\"ticks\":\"inside\"}},\"type\":\"scattercarpet\"}],\"scattergeo\":[{\"marker\":{\"colorbar\":{\"outlinewidth\":0,\"tickcolor\":\"rgb(237,237,237)\",\"ticklen\":6,\"ticks\":\"inside\"}},\"type\":\"scattergeo\"}],\"scattergl\":[{\"marker\":{\"colorbar\":{\"outlinewidth\":0,\"tickcolor\":\"rgb(237,237,237)\",\"ticklen\":6,\"ticks\":\"inside\"}},\"type\":\"scattergl\"}],\"scattermapbox\":[{\"marker\":{\"colorbar\":{\"outlinewidth\":0,\"tickcolor\":\"rgb(237,237,237)\",\"ticklen\":6,\"ticks\":\"inside\"}},\"type\":\"scattermapbox\"}],\"scatterpolargl\":[{\"marker\":{\"colorbar\":{\"outlinewidth\":0,\"tickcolor\":\"rgb(237,237,237)\",\"ticklen\":6,\"ticks\":\"inside\"}},\"type\":\"scatterpolargl\"}],\"scatterpolar\":[{\"marker\":{\"colorbar\":{\"outlinewidth\":0,\"tickcolor\":\"rgb(237,237,237)\",\"ticklen\":6,\"ticks\":\"inside\"}},\"type\":\"scatterpolar\"}],\"scatter\":[{\"marker\":{\"colorbar\":{\"outlinewidth\":0,\"tickcolor\":\"rgb(237,237,237)\",\"ticklen\":6,\"ticks\":\"inside\"}},\"type\":\"scatter\"}],\"scatterternary\":[{\"marker\":{\"colorbar\":{\"outlinewidth\":0,\"tickcolor\":\"rgb(237,237,237)\",\"ticklen\":6,\"ticks\":\"inside\"}},\"type\":\"scatterternary\"}],\"surface\":[{\"colorbar\":{\"outlinewidth\":0,\"tickcolor\":\"rgb(237,237,237)\",\"ticklen\":6,\"ticks\":\"inside\"},\"colorscale\":[[0,\"rgb(20,44,66)\"],[1,\"rgb(90,179,244)\"]],\"type\":\"surface\"}],\"table\":[{\"cells\":{\"fill\":{\"color\":\"rgb(237,237,237)\"},\"line\":{\"color\":\"white\"}},\"header\":{\"fill\":{\"color\":\"rgb(217,217,217)\"},\"line\":{\"color\":\"white\"}},\"type\":\"table\"}]},\"layout\":{\"annotationdefaults\":{\"arrowhead\":0,\"arrowwidth\":1},\"autotypenumbers\":\"strict\",\"coloraxis\":{\"colorbar\":{\"outlinewidth\":0,\"tickcolor\":\"rgb(237,237,237)\",\"ticklen\":6,\"ticks\":\"inside\"}},\"colorscale\":{\"sequential\":[[0,\"rgb(20,44,66)\"],[1,\"rgb(90,179,244)\"]],\"sequentialminus\":[[0,\"rgb(20,44,66)\"],[1,\"rgb(90,179,244)\"]]},\"colorway\":[\"#F8766D\",\"#A3A500\",\"#00BF7D\",\"#00B0F6\",\"#E76BF3\"],\"font\":{\"color\":\"rgb(51,51,51)\"},\"geo\":{\"bgcolor\":\"white\",\"lakecolor\":\"white\",\"landcolor\":\"rgb(237,237,237)\",\"showlakes\":true,\"showland\":true,\"subunitcolor\":\"white\"},\"hoverlabel\":{\"align\":\"left\"},\"hovermode\":\"closest\",\"paper_bgcolor\":\"white\",\"plot_bgcolor\":\"rgb(237,237,237)\",\"polar\":{\"angularaxis\":{\"gridcolor\":\"white\",\"linecolor\":\"white\",\"showgrid\":true,\"tickcolor\":\"rgb(51,51,51)\",\"ticks\":\"outside\"},\"bgcolor\":\"rgb(237,237,237)\",\"radialaxis\":{\"gridcolor\":\"white\",\"linecolor\":\"white\",\"showgrid\":true,\"tickcolor\":\"rgb(51,51,51)\",\"ticks\":\"outside\"}},\"scene\":{\"xaxis\":{\"backgroundcolor\":\"rgb(237,237,237)\",\"gridcolor\":\"white\",\"gridwidth\":2,\"linecolor\":\"white\",\"showbackground\":true,\"showgrid\":true,\"tickcolor\":\"rgb(51,51,51)\",\"ticks\":\"outside\",\"zerolinecolor\":\"white\"},\"yaxis\":{\"backgroundcolor\":\"rgb(237,237,237)\",\"gridcolor\":\"white\",\"gridwidth\":2,\"linecolor\":\"white\",\"showbackground\":true,\"showgrid\":true,\"tickcolor\":\"rgb(51,51,51)\",\"ticks\":\"outside\",\"zerolinecolor\":\"white\"},\"zaxis\":{\"backgroundcolor\":\"rgb(237,237,237)\",\"gridcolor\":\"white\",\"gridwidth\":2,\"linecolor\":\"white\",\"showbackground\":true,\"showgrid\":true,\"tickcolor\":\"rgb(51,51,51)\",\"ticks\":\"outside\",\"zerolinecolor\":\"white\"}},\"shapedefaults\":{\"fillcolor\":\"black\",\"line\":{\"width\":0},\"opacity\":0.3},\"ternary\":{\"aaxis\":{\"gridcolor\":\"white\",\"linecolor\":\"white\",\"showgrid\":true,\"tickcolor\":\"rgb(51,51,51)\",\"ticks\":\"outside\"},\"baxis\":{\"gridcolor\":\"white\",\"linecolor\":\"white\",\"showgrid\":true,\"tickcolor\":\"rgb(51,51,51)\",\"ticks\":\"outside\"},\"bgcolor\":\"rgb(237,237,237)\",\"caxis\":{\"gridcolor\":\"white\",\"linecolor\":\"white\",\"showgrid\":true,\"tickcolor\":\"rgb(51,51,51)\",\"ticks\":\"outside\"}},\"xaxis\":{\"automargin\":true,\"gridcolor\":\"white\",\"linecolor\":\"white\",\"showgrid\":true,\"tickcolor\":\"rgb(51,51,51)\",\"ticks\":\"outside\",\"title\":{\"standoff\":15},\"zerolinecolor\":\"white\"},\"yaxis\":{\"automargin\":true,\"gridcolor\":\"white\",\"linecolor\":\"white\",\"showgrid\":true,\"tickcolor\":\"rgb(51,51,51)\",\"ticks\":\"outside\",\"title\":{\"standoff\":15},\"zerolinecolor\":\"white\"}}},\"showlegend\":true},                        {\"responsive\": true}                    ).then(function(){\n",
              "                            \n",
              "var gd = document.getElementById('eda65f45-d3b6-426a-80cd-dfe561b41dc8');\n",
              "var x = new MutationObserver(function (mutations, observer) {{\n",
              "        var display = window.getComputedStyle(gd).display;\n",
              "        if (!display || display === 'none') {{\n",
              "            console.log([gd, 'removed!']);\n",
              "            Plotly.purge(gd);\n",
              "            observer.disconnect();\n",
              "        }}\n",
              "}});\n",
              "\n",
              "// Listen for the removal of the full notebook cells\n",
              "var notebookContainer = gd.closest('#notebook-container');\n",
              "if (notebookContainer) {{\n",
              "    x.observe(notebookContainer, {childList: true});\n",
              "}}\n",
              "\n",
              "// Listen for the clearing of the current output cell\n",
              "var outputEl = gd.closest('.output');\n",
              "if (outputEl) {{\n",
              "    x.observe(outputEl, {childList: true});\n",
              "}}\n",
              "\n",
              "                        })                };                            </script>        </div>\n",
              "</body>\n",
              "</html>"
            ]
          },
          "metadata": {}
        }
      ]
    },
    {
      "cell_type": "code",
      "metadata": {
        "colab": {
          "base_uri": "https://localhost:8080/",
          "height": 238
        },
        "id": "PlpUozXaWJRx",
        "outputId": "493c5544-409b-48da-9e3e-bb70f102d962"
      },
      "source": [
        "exp.check_stats(model2a, test=\"white_noise\")"
      ],
      "execution_count": 18,
      "outputs": [
        {
          "output_type": "execute_result",
          "data": {
            "text/html": [
              "<div>\n",
              "<style scoped>\n",
              "    .dataframe tbody tr th:only-of-type {\n",
              "        vertical-align: middle;\n",
              "    }\n",
              "\n",
              "    .dataframe tbody tr th {\n",
              "        vertical-align: top;\n",
              "    }\n",
              "\n",
              "    .dataframe thead th {\n",
              "        text-align: right;\n",
              "    }\n",
              "</style>\n",
              "<table border=\"1\" class=\"dataframe\">\n",
              "  <thead>\n",
              "    <tr style=\"text-align: right;\">\n",
              "      <th></th>\n",
              "      <th>Test</th>\n",
              "      <th>Test Name</th>\n",
              "      <th>Property</th>\n",
              "      <th>Setting</th>\n",
              "      <th>Value</th>\n",
              "    </tr>\n",
              "  </thead>\n",
              "  <tbody>\n",
              "    <tr>\n",
              "      <th>0</th>\n",
              "      <td>White Noise</td>\n",
              "      <td>Ljung-Box</td>\n",
              "      <td>Test Statictic</td>\n",
              "      <td>{'alpha': 0.05, 'K': 24}</td>\n",
              "      <td>27.9957</td>\n",
              "    </tr>\n",
              "    <tr>\n",
              "      <th>1</th>\n",
              "      <td>White Noise</td>\n",
              "      <td>Ljung-Box</td>\n",
              "      <td>Test Statictic</td>\n",
              "      <td>{'alpha': 0.05, 'K': 48}</td>\n",
              "      <td>46.0732</td>\n",
              "    </tr>\n",
              "    <tr>\n",
              "      <th>2</th>\n",
              "      <td>White Noise</td>\n",
              "      <td>Ljung-Box</td>\n",
              "      <td>p-value</td>\n",
              "      <td>{'alpha': 0.05, 'K': 24}</td>\n",
              "      <td>0.260223</td>\n",
              "    </tr>\n",
              "    <tr>\n",
              "      <th>3</th>\n",
              "      <td>White Noise</td>\n",
              "      <td>Ljung-Box</td>\n",
              "      <td>p-value</td>\n",
              "      <td>{'alpha': 0.05, 'K': 48}</td>\n",
              "      <td>0.552117</td>\n",
              "    </tr>\n",
              "    <tr>\n",
              "      <th>4</th>\n",
              "      <td>White Noise</td>\n",
              "      <td>Ljung-Box</td>\n",
              "      <td>White Noise</td>\n",
              "      <td>{'alpha': 0.05, 'K': 24}</td>\n",
              "      <td>True</td>\n",
              "    </tr>\n",
              "    <tr>\n",
              "      <th>5</th>\n",
              "      <td>White Noise</td>\n",
              "      <td>Ljung-Box</td>\n",
              "      <td>White Noise</td>\n",
              "      <td>{'alpha': 0.05, 'K': 48}</td>\n",
              "      <td>True</td>\n",
              "    </tr>\n",
              "  </tbody>\n",
              "</table>\n",
              "</div>"
            ],
            "text/plain": [
              "          Test  Test Name        Property                   Setting     Value\n",
              "0  White Noise  Ljung-Box  Test Statictic  {'alpha': 0.05, 'K': 24}   27.9957\n",
              "1  White Noise  Ljung-Box  Test Statictic  {'alpha': 0.05, 'K': 48}   46.0732\n",
              "2  White Noise  Ljung-Box         p-value  {'alpha': 0.05, 'K': 24}  0.260223\n",
              "3  White Noise  Ljung-Box         p-value  {'alpha': 0.05, 'K': 48}  0.552117\n",
              "4  White Noise  Ljung-Box     White Noise  {'alpha': 0.05, 'K': 24}      True\n",
              "5  White Noise  Ljung-Box     White Noise  {'alpha': 0.05, 'K': 48}      True"
            ]
          },
          "metadata": {},
          "execution_count": 18
        }
      ]
    },
    {
      "cell_type": "markdown",
      "metadata": {
        "id": "bO2vM6HfYJI_"
      },
      "source": [
        "#### Random Walk with trend = \"c\""
      ]
    },
    {
      "cell_type": "code",
      "metadata": {
        "colab": {
          "base_uri": "https://localhost:8080/",
          "height": 206,
          "referenced_widgets": [
            "b2839ad4982047d2adce7b321feea22d",
            "0a9acf63b09e4fc29f648611b5224806",
            "debd6667cf7647e58491271105da4a3e"
          ]
        },
        "id": "j6KPI3H7XLcO",
        "outputId": "55e9e8c4-de1d-4822-f667-ce9c8287929b"
      },
      "source": [
        "model2b = exp.create_model(\"arima\", order=(0, 1, 0), seasonal_order=(0, 0, 0, 0), trend=\"c\")"
      ],
      "execution_count": 19,
      "outputs": [
        {
          "output_type": "display_data",
          "data": {
            "text/html": [
              "<div>\n",
              "<style scoped>\n",
              "    .dataframe tbody tr th:only-of-type {\n",
              "        vertical-align: middle;\n",
              "    }\n",
              "\n",
              "    .dataframe tbody tr th {\n",
              "        vertical-align: top;\n",
              "    }\n",
              "\n",
              "    .dataframe thead th {\n",
              "        text-align: right;\n",
              "    }\n",
              "</style>\n",
              "<table border=\"1\" class=\"dataframe\">\n",
              "  <thead>\n",
              "    <tr style=\"text-align: right;\">\n",
              "      <th></th>\n",
              "      <th>cutoff</th>\n",
              "      <th>MAE</th>\n",
              "      <th>RMSE</th>\n",
              "      <th>MAPE</th>\n",
              "      <th>SMAPE</th>\n",
              "      <th>R2</th>\n",
              "    </tr>\n",
              "  </thead>\n",
              "  <tbody>\n",
              "    <tr>\n",
              "      <th>0</th>\n",
              "      <td>219.0</td>\n",
              "      <td>1.7202</td>\n",
              "      <td>1.8788</td>\n",
              "      <td>0.0090</td>\n",
              "      <td>0.0090</td>\n",
              "      <td>-0.8017</td>\n",
              "    </tr>\n",
              "    <tr>\n",
              "      <th>1</th>\n",
              "      <td>249.0</td>\n",
              "      <td>2.3373</td>\n",
              "      <td>2.6818</td>\n",
              "      <td>0.0122</td>\n",
              "      <td>0.0122</td>\n",
              "      <td>-0.2221</td>\n",
              "    </tr>\n",
              "    <tr>\n",
              "      <th>2</th>\n",
              "      <td>279.0</td>\n",
              "      <td>1.7762</td>\n",
              "      <td>2.1185</td>\n",
              "      <td>0.0093</td>\n",
              "      <td>0.0093</td>\n",
              "      <td>-0.6450</td>\n",
              "    </tr>\n",
              "    <tr>\n",
              "      <th>Mean</th>\n",
              "      <td>NaN</td>\n",
              "      <td>1.9446</td>\n",
              "      <td>2.2264</td>\n",
              "      <td>0.0102</td>\n",
              "      <td>0.0102</td>\n",
              "      <td>-0.5563</td>\n",
              "    </tr>\n",
              "    <tr>\n",
              "      <th>SD</th>\n",
              "      <td>NaN</td>\n",
              "      <td>0.2786</td>\n",
              "      <td>0.3366</td>\n",
              "      <td>0.0015</td>\n",
              "      <td>0.0014</td>\n",
              "      <td>0.2448</td>\n",
              "    </tr>\n",
              "  </tbody>\n",
              "</table>\n",
              "</div>"
            ],
            "text/plain": [
              "      cutoff     MAE    RMSE    MAPE   SMAPE      R2\n",
              "0      219.0  1.7202  1.8788  0.0090  0.0090 -0.8017\n",
              "1      249.0  2.3373  2.6818  0.0122  0.0122 -0.2221\n",
              "2      279.0  1.7762  2.1185  0.0093  0.0093 -0.6450\n",
              "Mean     NaN  1.9446  2.2264  0.0102  0.0102 -0.5563\n",
              "SD       NaN  0.2786  0.3366  0.0015  0.0014  0.2448"
            ]
          },
          "metadata": {}
        }
      ]
    },
    {
      "cell_type": "code",
      "metadata": {
        "colab": {
          "base_uri": "https://localhost:8080/",
          "height": 959
        },
        "id": "oXTHI08sYP6-",
        "outputId": "acae7602-1c57-4fb7-e546-0157782cd135"
      },
      "source": [
        "summarize_model(model2b)\n",
        "get_residual_properties(model2b)"
      ],
      "execution_count": 20,
      "outputs": [
        {
          "output_type": "stream",
          "name": "stdout",
          "text": [
            "                               SARIMAX Results                                \n",
            "==============================================================================\n",
            "Dep. Variable:                      y   No. Observations:                  310\n",
            "Model:               SARIMAX(0, 1, 0)   Log Likelihood                -435.141\n",
            "Date:                Fri, 26 Nov 2021   AIC                            874.281\n",
            "Time:                        10:25:25   BIC                            881.748\n",
            "Sample:                             0   HQIC                           877.266\n",
            "                                - 310                                         \n",
            "Covariance Type:                  opg                                         \n",
            "==============================================================================\n",
            "                 coef    std err          z      P>|z|      [0.025      0.975]\n",
            "------------------------------------------------------------------------------\n",
            "intercept      0.0202      0.056      0.358      0.720      -0.090       0.131\n",
            "sigma2         0.9788      0.080     12.208      0.000       0.822       1.136\n",
            "===================================================================================\n",
            "Ljung-Box (L1) (Q):                   0.99   Jarque-Bera (JB):                 0.16\n",
            "Prob(Q):                              0.32   Prob(JB):                         0.92\n",
            "Heteroskedasticity (H):               0.99   Skew:                            -0.04\n",
            "Prob(H) (two-sided):                  0.95   Kurtosis:                         2.93\n",
            "===================================================================================\n",
            "\n",
            "Warnings:\n",
            "[1] Covariance matrix calculated using the outer product of gradients (complex-step).\n"
          ]
        },
        {
          "output_type": "display_data",
          "data": {
            "text/html": [
              "<html>\n",
              "<head><meta charset=\"utf-8\" /></head>\n",
              "<body>\n",
              "    <div>            <script src=\"https://cdnjs.cloudflare.com/ajax/libs/mathjax/2.7.5/MathJax.js?config=TeX-AMS-MML_SVG\"></script><script type=\"text/javascript\">if (window.MathJax) {MathJax.Hub.Config({SVG: {font: \"STIX-Web\"}});}</script>                <script type=\"text/javascript\">window.PlotlyConfig = {MathJaxConfig: 'local'};</script>\n",
              "        <script src=\"https://cdn.plot.ly/plotly-2.6.3.min.js\"></script>                <div id=\"e87cd758-f5d1-4628-8ddf-40384b538029\" class=\"plotly-graph-div\" style=\"height:525px; width:100%;\"></div>            <script type=\"text/javascript\">                                    window.PLOTLYENV=window.PLOTLYENV || {};                                    if (document.getElementById(\"e87cd758-f5d1-4628-8ddf-40384b538029\")) {                    Plotly.newPlot(                        \"e87cd758-f5d1-4628-8ddf-40384b538029\",                        [{\"marker\":{\"color\":\"#3f3f3f\",\"size\":5},\"mode\":\"lines+markers\",\"name\":\"Residuals | ARIMA\",\"showlegend\":true,\"x\":[1,2,3,4,5,6,7,8,9,10,11,12,13,14,15,16,17,18,19,20,21,22,23,24,25,26,27,28,29,30,31,32,33,34,35,36,37,38,39,40,41,42,43,44,45,46,47,48,49,50,51,52,53,54,55,56,57,58,59,60,61,62,63,64,65,66,67,68,69,70,71,72,73,74,75,76,77,78,79,80,81,82,83,84,85,86,87,88,89,90,91,92,93,94,95,96,97,98,99,100,101,102,103,104,105,106,107,108,109,110,111,112,113,114,115,116,117,118,119,120,121,122,123,124,125,126,127,128,129,130,131,132,133,134,135,136,137,138,139,140,141,142,143,144,145,146,147,148,149,150,151,152,153,154,155,156,157,158,159,160,161,162,163,164,165,166,167,168,169,170,171,172,173,174,175,176,177,178,179,180,181,182,183,184,185,186,187,188,189,190,191,192,193,194,195,196,197,198,199,200,201,202,203,204,205,206,207,208,209,210,211,212,213,214,215,216,217,218,219,220,221,222,223,224,225,226,227,228,229,230,231,232,233,234,235,236,237,238,239,240,241,242,243,244,245,246,247,248,249,250,251,252,253,254,255,256,257,258,259,260,261,262,263,264,265,266,267,268,269,270,271,272,273,274,275,276,277,278,279,280,281,282,283,284,285,286,287,288,289,290,291,292,293,294,295,296,297,298,299,300,301,302,303,304,305,306,307,308,309],\"y\":[0.02194298233322911,-0.9310945393648353,0.13785588159220197,-0.6747575347308157,1.747114378561207,0.6965345852051996,0.8900013386831631,0.36401246701524315,1.6620031897071783,-0.6559093447608291,-0.4818176211718139,1.4121093477291993,-0.6708692441218318,-0.22755363441379473,-0.4129808202537788,-0.3401657593598202,-0.29928619378878807,0.47401544045618493,-0.19750337308181543,-0.5261303529258043,1.322865934358191,-0.23475229935780817,-0.19972942085581735,-0.12036363202480516,0.6924934162391878,-0.0937372949377675,-0.05780706227884025,-0.7018333695677939,-0.3444431630578322,0.03998754962219664,-0.6090673770717956,0.5113233018212213,-1.5385669725988578,0.28638496997822926,-1.5566227143498281,-0.321149017647798,-0.548452795256793,-0.6722676714928184,-0.07706966865981713,-1.9345323164918113,1.1564104212071982,-1.685145327023804,-0.48370329228379205,-1.136092995854824,-0.7709918920058101,2.066993654817196,-0.0027772711188163157,-1.306473421245812,-1.6607784252308022,0.43001421046119503,-0.03873272352677759,-0.3382412653558049,-0.9495350382658501,-1.507633200952796,-1.095365187427774,0.9798559129021669,-0.6414395856087935,-1.4045997381958273,1.8491177316112157,0.4049274865611494,-0.25881999172477776,1.0383101578972003,0.8662497605631927,-0.6394159390428342,2.1859295737282025,-0.2751999209528151,-1.444667541024785,-0.16457249276581365,0.18736544842019498,2.287805508248198,0.08562947708219326,0.43682591461120523,-0.09732582616882723,-0.3541737331777881,-0.05489891912282019,0.7674667148181982,2.055072117840183,1.0072195479521895,1.1877355075751836,-1.25149631237079,0.9637226792422098,0.19975191284919447,-1.487422919904816,0.5008498518361932,-0.17892749552780174,1.4444144211581715,-0.7862548904157904,-0.45038464474080797,-0.9462823881888198,-0.1972768522487911,0.3818388886741957,-0.7519210639308085,0.810200277169173,-1.2282556771158113,-1.068157303619813,1.4209848160322167,-1.0360203561157846,0.3918018215051404,-0.40124894192075544,0.38922894883916115,1.668700395392193,1.5664155426302102,-0.35108069149382004,-2.3054084261048047,2.4774886990221887,0.6468932759541985,0.5211544451522059,-0.033572413957813296,0.4899355321411747,-0.18454872258178057,0.4005217524421596,-0.42041963478877165,-1.3903807683598473,0.9676653766432253,1.4995721346881794,-0.3289134600377963,-1.27346264641983,0.6220684148662201,-0.06488202770580642,-1.7533912976368526,-0.018041031130792362,-0.650473224739784,-0.36114147067280555,-1.1767452534477911,1.7829690171061543,-0.3513049272037847,-1.6256863030648105,0.17702054792820832,0.24300275559318152,-1.0059995912208137,-2.909093562490824,-0.6606545933777852,0.5503347451091543,-0.0798961668547804,-0.11835163481680411,0.5406478378081943,-1.206631529390819,1.076604153462199,-0.02551691908982434,0.6871377765862405,1.0139348439251705,0.20330752410418995,-0.8988805036777876,1.1427916651551584,-2.020337835597786,-0.5649636308127981,-0.27584359996885155,-0.1862939275767701,1.0002910179721596,0.11604900229121995,0.3869947126111981,-0.08982770382380068,-0.26783723243184454,0.6753779158082125,1.1260554664042104,-2.4232691057038096,0.5525666644341811,0.35455151596619316,-0.4454406123678325,0.9308399167652226,-0.4094100725297949,-0.3045035526118056,0.8372368872681761,1.699454408309208,0.24988201012516242,-0.4423569005997763,-1.209286185670834,-0.3512058696917961,-0.9600022173218292,-0.2791054739297749,0.37420627740920054,-0.8720299828358122,2.6289939902831634,0.1358387848532061,1.110034376643199,-2.3092968706517922,0.7208282663841601,-1.3364180512637631,0.8996307867971609,0.37795726464020163,-0.42770147008181425,1.3040857393661724,-0.7214045600587724,-0.600787195052817,-1.0212450718368018,-0.6883514975658045,0.9250120625611942,0.41352925873420077,0.9849863268651973,-0.4102915548658359,0.35619740096319674,0.22399203367419318,-1.4464302331938086,1.7582563966631994,0.11427477012219356,0.7454261083461802,0.9349637860971995,-0.07073859225482693,-0.3259883105787935,0.8735008116141785,-1.0674710398727711,1.951164495412172,-0.4038049971007922,1.6339724114631906,1.4920398031391642,0.06279284277422903,0.5470480240391851,-1.044721370345826,0.3028336122101791,1.0234395675452106,0.07890559608520675,-0.474309799966818,-0.6759547432617978,-0.05609531343480967,1.0489885698652017,-0.5041478211128094,-0.14118300213982593,-1.3143128946317972,0.47413994520320557,1.2877286293021655,1.476868118590204,0.7945298400862271,-1.8899616810148245,0.46185661331216465,0.43596271248921425,-0.37357317664179845,0.15031658013617744,-0.8842088449387688,0.6590578832041842,-0.3472739054648173,-1.5892550759558333,-0.38762364698280294,1.344262038258222,-0.3544542555428336,0.7125771513971983,0.9264127493861736,-0.015774186485771224,-0.3724951963608305,-0.5498683999457796,0.7194163347631672,-1.0836303062948218,0.22603795272422644,-0.30967225737583703,-2.2850622472998054,-1.4290233468848044,0.8958464379811915,-0.21145184134778106,0.783110325322184,1.8673015724971833,1.4537082902972145,0.6570956015011973,0.3597897957541818,-0.21297131726882412,1.557718904093207,0.5760612185061973,-1.1937498316828226,-0.17581542570280817,-1.9390827110818236,-0.21543173692180062,-2.6125005607577805,1.293829276386191,-0.655715891843812,-0.4501517295058193,-0.18949122311380506,0.5920452831772138,0.6581672864101904,0.5477790816601953,-0.5927154947378312,-1.3834641470897964,-0.40889513514980536,0.2577412416381719,-0.8432540123837953,-0.08901382528981117,-1.1878352169418065,-0.028481905027803123,0.10868251078619551,-0.16604851927280606,-0.1840838475477824,1.7433791119731836,0.7424136216061754,1.0912581899192162,-0.9433798436418215,0.14416894761617982,1.1346522962852248,-0.07669431533784632,-2.149533539046786,0.32467287128719136,-1.9251283363968241,-0.8313430439517902,1.3038314304872074,0.5954639584911661,1.0714960647232203,0.28643197070215365,-0.1303316532947747,-0.9444856639387922,1.5727408629071817,0.02483770731015511,-0.7353012914798001,0.8450502089052065,1.0542680674661824,1.8754818833872378,-0.6231701944178383,-0.4110407115348096,-0.43639492234180466,-0.3958303136317909,-0.3868038365148152,-0.31585034351280683,1.4216475193881877,-0.7177111827247984],\"type\":\"scatter\"}],                        {\"title\":{\"text\":\"Residuals\"},\"xaxis\":{\"title\":{\"text\":\"Time\"}},\"yaxis\":{\"title\":{\"text\":\"Values\"}},\"template\":{\"data\":{\"barpolar\":[{\"marker\":{\"line\":{\"color\":\"rgb(237,237,237)\",\"width\":0.5},\"pattern\":{\"fillmode\":\"overlay\",\"size\":10,\"solidity\":0.2}},\"type\":\"barpolar\"}],\"bar\":[{\"error_x\":{\"color\":\"rgb(51,51,51)\"},\"error_y\":{\"color\":\"rgb(51,51,51)\"},\"marker\":{\"line\":{\"color\":\"rgb(237,237,237)\",\"width\":0.5},\"pattern\":{\"fillmode\":\"overlay\",\"size\":10,\"solidity\":0.2}},\"type\":\"bar\"}],\"carpet\":[{\"aaxis\":{\"endlinecolor\":\"rgb(51,51,51)\",\"gridcolor\":\"white\",\"linecolor\":\"white\",\"minorgridcolor\":\"white\",\"startlinecolor\":\"rgb(51,51,51)\"},\"baxis\":{\"endlinecolor\":\"rgb(51,51,51)\",\"gridcolor\":\"white\",\"linecolor\":\"white\",\"minorgridcolor\":\"white\",\"startlinecolor\":\"rgb(51,51,51)\"},\"type\":\"carpet\"}],\"choropleth\":[{\"colorbar\":{\"outlinewidth\":0,\"tickcolor\":\"rgb(237,237,237)\",\"ticklen\":6,\"ticks\":\"inside\"},\"type\":\"choropleth\"}],\"contourcarpet\":[{\"colorbar\":{\"outlinewidth\":0,\"tickcolor\":\"rgb(237,237,237)\",\"ticklen\":6,\"ticks\":\"inside\"},\"type\":\"contourcarpet\"}],\"contour\":[{\"colorbar\":{\"outlinewidth\":0,\"tickcolor\":\"rgb(237,237,237)\",\"ticklen\":6,\"ticks\":\"inside\"},\"colorscale\":[[0,\"rgb(20,44,66)\"],[1,\"rgb(90,179,244)\"]],\"type\":\"contour\"}],\"heatmapgl\":[{\"colorbar\":{\"outlinewidth\":0,\"tickcolor\":\"rgb(237,237,237)\",\"ticklen\":6,\"ticks\":\"inside\"},\"colorscale\":[[0,\"rgb(20,44,66)\"],[1,\"rgb(90,179,244)\"]],\"type\":\"heatmapgl\"}],\"heatmap\":[{\"colorbar\":{\"outlinewidth\":0,\"tickcolor\":\"rgb(237,237,237)\",\"ticklen\":6,\"ticks\":\"inside\"},\"colorscale\":[[0,\"rgb(20,44,66)\"],[1,\"rgb(90,179,244)\"]],\"type\":\"heatmap\"}],\"histogram2dcontour\":[{\"colorbar\":{\"outlinewidth\":0,\"tickcolor\":\"rgb(237,237,237)\",\"ticklen\":6,\"ticks\":\"inside\"},\"colorscale\":[[0,\"rgb(20,44,66)\"],[1,\"rgb(90,179,244)\"]],\"type\":\"histogram2dcontour\"}],\"histogram2d\":[{\"colorbar\":{\"outlinewidth\":0,\"tickcolor\":\"rgb(237,237,237)\",\"ticklen\":6,\"ticks\":\"inside\"},\"colorscale\":[[0,\"rgb(20,44,66)\"],[1,\"rgb(90,179,244)\"]],\"type\":\"histogram2d\"}],\"histogram\":[{\"marker\":{\"pattern\":{\"fillmode\":\"overlay\",\"size\":10,\"solidity\":0.2}},\"type\":\"histogram\"}],\"mesh3d\":[{\"colorbar\":{\"outlinewidth\":0,\"tickcolor\":\"rgb(237,237,237)\",\"ticklen\":6,\"ticks\":\"inside\"},\"type\":\"mesh3d\"}],\"parcoords\":[{\"line\":{\"colorbar\":{\"outlinewidth\":0,\"tickcolor\":\"rgb(237,237,237)\",\"ticklen\":6,\"ticks\":\"inside\"}},\"type\":\"parcoords\"}],\"pie\":[{\"automargin\":true,\"type\":\"pie\"}],\"scatter3d\":[{\"line\":{\"colorbar\":{\"outlinewidth\":0,\"tickcolor\":\"rgb(237,237,237)\",\"ticklen\":6,\"ticks\":\"inside\"}},\"marker\":{\"colorbar\":{\"outlinewidth\":0,\"tickcolor\":\"rgb(237,237,237)\",\"ticklen\":6,\"ticks\":\"inside\"}},\"type\":\"scatter3d\"}],\"scattercarpet\":[{\"marker\":{\"colorbar\":{\"outlinewidth\":0,\"tickcolor\":\"rgb(237,237,237)\",\"ticklen\":6,\"ticks\":\"inside\"}},\"type\":\"scattercarpet\"}],\"scattergeo\":[{\"marker\":{\"colorbar\":{\"outlinewidth\":0,\"tickcolor\":\"rgb(237,237,237)\",\"ticklen\":6,\"ticks\":\"inside\"}},\"type\":\"scattergeo\"}],\"scattergl\":[{\"marker\":{\"colorbar\":{\"outlinewidth\":0,\"tickcolor\":\"rgb(237,237,237)\",\"ticklen\":6,\"ticks\":\"inside\"}},\"type\":\"scattergl\"}],\"scattermapbox\":[{\"marker\":{\"colorbar\":{\"outlinewidth\":0,\"tickcolor\":\"rgb(237,237,237)\",\"ticklen\":6,\"ticks\":\"inside\"}},\"type\":\"scattermapbox\"}],\"scatterpolargl\":[{\"marker\":{\"colorbar\":{\"outlinewidth\":0,\"tickcolor\":\"rgb(237,237,237)\",\"ticklen\":6,\"ticks\":\"inside\"}},\"type\":\"scatterpolargl\"}],\"scatterpolar\":[{\"marker\":{\"colorbar\":{\"outlinewidth\":0,\"tickcolor\":\"rgb(237,237,237)\",\"ticklen\":6,\"ticks\":\"inside\"}},\"type\":\"scatterpolar\"}],\"scatter\":[{\"marker\":{\"colorbar\":{\"outlinewidth\":0,\"tickcolor\":\"rgb(237,237,237)\",\"ticklen\":6,\"ticks\":\"inside\"}},\"type\":\"scatter\"}],\"scatterternary\":[{\"marker\":{\"colorbar\":{\"outlinewidth\":0,\"tickcolor\":\"rgb(237,237,237)\",\"ticklen\":6,\"ticks\":\"inside\"}},\"type\":\"scatterternary\"}],\"surface\":[{\"colorbar\":{\"outlinewidth\":0,\"tickcolor\":\"rgb(237,237,237)\",\"ticklen\":6,\"ticks\":\"inside\"},\"colorscale\":[[0,\"rgb(20,44,66)\"],[1,\"rgb(90,179,244)\"]],\"type\":\"surface\"}],\"table\":[{\"cells\":{\"fill\":{\"color\":\"rgb(237,237,237)\"},\"line\":{\"color\":\"white\"}},\"header\":{\"fill\":{\"color\":\"rgb(217,217,217)\"},\"line\":{\"color\":\"white\"}},\"type\":\"table\"}]},\"layout\":{\"annotationdefaults\":{\"arrowhead\":0,\"arrowwidth\":1},\"autotypenumbers\":\"strict\",\"coloraxis\":{\"colorbar\":{\"outlinewidth\":0,\"tickcolor\":\"rgb(237,237,237)\",\"ticklen\":6,\"ticks\":\"inside\"}},\"colorscale\":{\"sequential\":[[0,\"rgb(20,44,66)\"],[1,\"rgb(90,179,244)\"]],\"sequentialminus\":[[0,\"rgb(20,44,66)\"],[1,\"rgb(90,179,244)\"]]},\"colorway\":[\"#F8766D\",\"#A3A500\",\"#00BF7D\",\"#00B0F6\",\"#E76BF3\"],\"font\":{\"color\":\"rgb(51,51,51)\"},\"geo\":{\"bgcolor\":\"white\",\"lakecolor\":\"white\",\"landcolor\":\"rgb(237,237,237)\",\"showlakes\":true,\"showland\":true,\"subunitcolor\":\"white\"},\"hoverlabel\":{\"align\":\"left\"},\"hovermode\":\"closest\",\"paper_bgcolor\":\"white\",\"plot_bgcolor\":\"rgb(237,237,237)\",\"polar\":{\"angularaxis\":{\"gridcolor\":\"white\",\"linecolor\":\"white\",\"showgrid\":true,\"tickcolor\":\"rgb(51,51,51)\",\"ticks\":\"outside\"},\"bgcolor\":\"rgb(237,237,237)\",\"radialaxis\":{\"gridcolor\":\"white\",\"linecolor\":\"white\",\"showgrid\":true,\"tickcolor\":\"rgb(51,51,51)\",\"ticks\":\"outside\"}},\"scene\":{\"xaxis\":{\"backgroundcolor\":\"rgb(237,237,237)\",\"gridcolor\":\"white\",\"gridwidth\":2,\"linecolor\":\"white\",\"showbackground\":true,\"showgrid\":true,\"tickcolor\":\"rgb(51,51,51)\",\"ticks\":\"outside\",\"zerolinecolor\":\"white\"},\"yaxis\":{\"backgroundcolor\":\"rgb(237,237,237)\",\"gridcolor\":\"white\",\"gridwidth\":2,\"linecolor\":\"white\",\"showbackground\":true,\"showgrid\":true,\"tickcolor\":\"rgb(51,51,51)\",\"ticks\":\"outside\",\"zerolinecolor\":\"white\"},\"zaxis\":{\"backgroundcolor\":\"rgb(237,237,237)\",\"gridcolor\":\"white\",\"gridwidth\":2,\"linecolor\":\"white\",\"showbackground\":true,\"showgrid\":true,\"tickcolor\":\"rgb(51,51,51)\",\"ticks\":\"outside\",\"zerolinecolor\":\"white\"}},\"shapedefaults\":{\"fillcolor\":\"black\",\"line\":{\"width\":0},\"opacity\":0.3},\"ternary\":{\"aaxis\":{\"gridcolor\":\"white\",\"linecolor\":\"white\",\"showgrid\":true,\"tickcolor\":\"rgb(51,51,51)\",\"ticks\":\"outside\"},\"baxis\":{\"gridcolor\":\"white\",\"linecolor\":\"white\",\"showgrid\":true,\"tickcolor\":\"rgb(51,51,51)\",\"ticks\":\"outside\"},\"bgcolor\":\"rgb(237,237,237)\",\"caxis\":{\"gridcolor\":\"white\",\"linecolor\":\"white\",\"showgrid\":true,\"tickcolor\":\"rgb(51,51,51)\",\"ticks\":\"outside\"}},\"xaxis\":{\"automargin\":true,\"gridcolor\":\"white\",\"linecolor\":\"white\",\"showgrid\":true,\"tickcolor\":\"rgb(51,51,51)\",\"ticks\":\"outside\",\"title\":{\"standoff\":15},\"zerolinecolor\":\"white\"},\"yaxis\":{\"automargin\":true,\"gridcolor\":\"white\",\"linecolor\":\"white\",\"showgrid\":true,\"tickcolor\":\"rgb(51,51,51)\",\"ticks\":\"outside\",\"title\":{\"standoff\":15},\"zerolinecolor\":\"white\"}}},\"showlegend\":true},                        {\"responsive\": true}                    ).then(function(){\n",
              "                            \n",
              "var gd = document.getElementById('e87cd758-f5d1-4628-8ddf-40384b538029');\n",
              "var x = new MutationObserver(function (mutations, observer) {{\n",
              "        var display = window.getComputedStyle(gd).display;\n",
              "        if (!display || display === 'none') {{\n",
              "            console.log([gd, 'removed!']);\n",
              "            Plotly.purge(gd);\n",
              "            observer.disconnect();\n",
              "        }}\n",
              "}});\n",
              "\n",
              "// Listen for the removal of the full notebook cells\n",
              "var notebookContainer = gd.closest('#notebook-container');\n",
              "if (notebookContainer) {{\n",
              "    x.observe(notebookContainer, {childList: true});\n",
              "}}\n",
              "\n",
              "// Listen for the clearing of the current output cell\n",
              "var outputEl = gd.closest('.output');\n",
              "if (outputEl) {{\n",
              "    x.observe(outputEl, {childList: true});\n",
              "}}\n",
              "\n",
              "                        })                };                            </script>        </div>\n",
              "</body>\n",
              "</html>"
            ]
          },
          "metadata": {}
        },
        {
          "output_type": "stream",
          "name": "stdout",
          "text": [
            "Residual Sigma 2: 0.9787949448993141\n"
          ]
        }
      ]
    },
    {
      "cell_type": "code",
      "metadata": {
        "colab": {
          "base_uri": "https://localhost:8080/",
          "height": 1000
        },
        "id": "SSI0Vq_DYUNt",
        "outputId": "d2b1eaf1-d029-4ee6-d2ab-c539ab0cf87e"
      },
      "source": [
        "plot_predictions(model2b)"
      ],
      "execution_count": 45,
      "outputs": [
        {
          "output_type": "display_data",
          "data": {
            "text/html": [
              "<html>\n",
              "<head><meta charset=\"utf-8\" /></head>\n",
              "<body>\n",
              "    <div>            <script src=\"https://cdnjs.cloudflare.com/ajax/libs/mathjax/2.7.5/MathJax.js?config=TeX-AMS-MML_SVG\"></script><script type=\"text/javascript\">if (window.MathJax) {MathJax.Hub.Config({SVG: {font: \"STIX-Web\"}});}</script>                <script type=\"text/javascript\">window.PlotlyConfig = {MathJaxConfig: 'local'};</script>\n",
              "        <script src=\"https://cdn.plot.ly/plotly-2.6.3.min.js\"></script>                <div id=\"b4a983b8-7353-45d7-b7f1-6b006797a7ee\" class=\"plotly-graph-div\" style=\"height:525px; width:100%;\"></div>            <script type=\"text/javascript\">                                    window.PLOTLYENV=window.PLOTLYENV || {};                                    if (document.getElementById(\"b4a983b8-7353-45d7-b7f1-6b006797a7ee\")) {                    Plotly.newPlot(                        \"b4a983b8-7353-45d7-b7f1-6b006797a7ee\",                        [{\"line\":{\"color\":\"#1f77b4\"},\"marker\":{\"size\":5},\"mode\":\"lines+markers\",\"name\":\"Forecast | ARIMA\",\"showlegend\":true,\"x\":[310,311,312,313,314,315,316,317,318,319,320,321,322,323,324,325,326,327,328,329,330,331,332,333,334,335,336,337,338,339],\"y\":[192.522,192.5421,192.5623,192.5825,192.6027,192.6228,192.643,192.6632,192.6833,192.7035,192.7237,192.7439,192.764,192.7842,192.8044,192.8246,192.8447,192.8649,192.8851,192.9053,192.9254,192.9456,192.9658,192.9859,193.0061,193.0263,193.0465,193.0666,193.0868,193.107],\"type\":\"scatter\"},{\"line\":{\"width\":0},\"marker\":{\"color\":\"#68BBE3\"},\"mode\":\"lines\",\"name\":\"Lower Interval\",\"showlegend\":false,\"x\":[310,311,312,313,314,315,316,317,318,319,320,321,322,323,324,325,326,327,328,329,330,331,332,333,334,335,336,337,338,339],\"y\":[190.5829,189.7999,189.2037,188.7043,188.2668,187.8731,187.5127,187.1787,186.8661,186.5716,186.2925,186.0267,185.7726,185.5289,185.2944,185.0683,184.8497,184.6381,184.4329,184.2335,184.0395,183.8505,183.6663,183.4865,183.3108,183.1389,182.9707,182.806,182.6446,182.4862],\"type\":\"scatter\"},{\"fill\":\"tonexty\",\"fillcolor\":\"rgba(104,187,227,0.5)\",\"line\":{\"width\":0},\"marker\":{\"color\":\"#68BBE3\"},\"mode\":\"lines\",\"name\":\"Prediction Interval | ARIMA\",\"showlegend\":true,\"x\":[310,311,312,313,314,315,316,317,318,319,320,321,322,323,324,325,326,327,328,329,330,331,332,333,334,335,336,337,338,339],\"y\":[194.461,195.2844,195.9209,196.4606,196.9386,197.3726,197.7733,198.1477,198.5006,198.8354,199.1549,199.461,199.7555,200.0396,200.3144,200.5808,200.8397,201.0917,201.3373,201.577,201.8114,202.0407,202.2652,202.4854,202.7015,202.9137,203.1222,203.3272,203.529,203.7277],\"type\":\"scatter\"},{\"marker\":{\"color\":\"#3f3f3f\",\"size\":5},\"mode\":\"lines+markers\",\"name\":\"Original\",\"showlegend\":true,\"x\":[0,1,2,3,4,5,6,7,8,9,10,11,12,13,14,15,16,17,18,19,20,21,22,23,24,25,26,27,28,29,30,31,32,33,34,35,36,37,38,39,40,41,42,43,44,45,46,47,48,49,50,51,52,53,54,55,56,57,58,59,60,61,62,63,64,65,66,67,68,69,70,71,72,73,74,75,76,77,78,79,80,81,82,83,84,85,86,87,88,89,90,91,92,93,94,95,96,97,98,99,100,101,102,103,104,105,106,107,108,109,110,111,112,113,114,115,116,117,118,119,120,121,122,123,124,125,126,127,128,129,130,131,132,133,134,135,136,137,138,139,140,141,142,143,144,145,146,147,148,149,150,151,152,153,154,155,156,157,158,159,160,161,162,163,164,165,166,167,168,169,170,171,172,173,174,175,176,177,178,179,180,181,182,183,184,185,186,187,188,189,190,191,192,193,194,195,196,197,198,199,200,201,202,203,204,205,206,207,208,209,210,211,212,213,214,215,216,217,218,219,220,221,222,223,224,225,226,227,228,229,230,231,232,233,234,235,236,237,238,239,240,241,242,243,244,245,246,247,248,249,250,251,252,253,254,255,256,257,258,259,260,261,262,263,264,265,266,267,268,269,270,271,272,273,274,275,276,277,278,279,280,281,282,283,284,285,286,287,288,289,290,291,292,293,294,295,296,297,298,299,300,301,302,303,304,305,306,307,308,309,310,311,312,313,314,315,316,317,318,319,320,321,322,323,324,325,326,327,328,329,330,331,332,333,334,335,336,337,338,339],\"y\":[186.268370014241,186.31048588738602,185.399564238833,185.557593011237,184.903008367318,186.670295636691,187.38700311270802,188.29717734220299,188.68136270003004,190.36353878054902,189.7278023266,189.26615759624,190.698439834781,190.04774348147097,189.840362737869,189.44755480842701,189.127561939879,188.84844863690202,189.34263696817,189.1653064859,188.659349023786,190.002387848956,189.78780844041,189.608251910366,189.508061169153,190.220727476204,190.14716307207803,190.109528900611,189.427868421855,189.10359814960898,189.163758590043,188.574864103783,189.10636029641603,187.58796621462898,187.894524075419,186.358074251881,186.057098125045,185.52881822060002,184.876723439919,184.819826662071,182.905467236391,184.08205054841,182.417078112198,181.953547710726,180.837627605683,180.086808604489,182.173975150118,182.191370769811,180.90507023937698,179.264464704958,179.714651806231,179.69609197351602,179.37802359897202,178.44866145151798,176.961201141377,175.88600884476102,176.886037648475,176.264770953678,174.880344106294,176.749634728717,177.17473510608997,176.936088005177,177.994571053886,178.880993705261,178.26175065702998,180.46785312157,180.21282609142898,178.788331441216,178.643931839262,178.851470178494,181.159448577554,181.265250945448,181.72224975087101,181.645096815514,181.311095973148,181.276369944837,182.064009550467,184.139254559119,185.166646997883,186.37455539626998,185.143231974711,186.12712754476502,186.34705234842602,184.879802319333,185.400825061981,185.24207045726502,186.706657769235,185.940575769631,185.510364015702,184.584254518325,184.407150556888,184.80916233637402,184.077414163255,184.907787331236,183.699704544932,182.65172013212398,184.092877838968,183.07703037366403,183.48900508598098,183.10792903487203,183.517330874523,185.206204160727,186.79279259416901,186.461884793487,184.176649258194,186.674310848028,187.341377014794,187.88270435075802,187.869304827612,188.379413250565,188.21503741879502,188.635732062049,188.23548531807202,186.86527744052398,187.85311570797901,189.372860733479,189.064120164253,187.810830408645,188.45307171432302,188.40836257742902,186.67514417060397,186.677276030285,186.046975696357,185.706007116496,184.54943475386003,186.352576661778,186.021444625386,184.415931213133,184.61312465187302,184.876300298278,183.890473597869,181.00155292619,180.361071223624,180.93157885954497,180.871855583502,180.773676839497,181.334497568117,180.148038929538,181.244815973812,181.23947194553398,181.94678261293203,182.980890347669,183.204370762585,182.32566314971902,183.48862770568599,181.4884627609,180.94367202089902,180.68800131174197,180.521880274977,181.54234418376097,181.678566076864,182.085733680287,182.016078867275,181.76841452565498,182.463965332275,183.610193689491,181.207097474599,181.779837029845,182.154561436623,181.72929371506697,182.680306522644,182.29106934092601,182.00673867912602,182.864148457206,184.58377575632701,184.85383065726398,184.43164664747601,183.242533352617,182.911500373737,181.97167104722698,181.712738464109,182.10711763233002,181.255260540306,183.90442742140098,184.060439097066,185.190646364521,182.90152238468102,183.64252354187698,182.32627838142503,183.246082059034,183.644212214486,183.236683635216,184.56094226539398,183.859710596147,183.279096291906,182.278024110881,181.609845504127,182.5550304575,182.98873260704602,183.99389182472302,183.603773160669,183.980143452444,184.22430837693,182.798051034548,184.576480322023,184.710927982957,185.476526982115,186.431663659024,186.38109795758098,186.075282537814,186.96895624023998,185.921658091179,187.892995477403,187.509363371114,189.163508673389,190.67572136733997,190.758687100926,191.325908015777,190.30135953624298,190.62436603926497,191.667978497622,191.767056984519,191.312920075364,190.657138222914,190.621215800291,191.690377260968,191.206402330667,191.08539221933898,189.791252215519,190.285565051534,191.59346657164798,193.09050758105,193.90521031194803,192.035421521745,192.51745102586898,192.97358662917,192.62018634334,192.790675814288,191.92663986016103,192.60587063417702,192.278769619524,190.70968743438,190.342236678209,191.70667160727902,191.372390242548,192.105140284757,193.05172592495498,193.05612462928102,192.703802323732,192.17410681459802,192.913696040173,191.85023862468998,192.096449468226,191.80695010166198,189.54206074517398,188.133210289101,189.04922961789399,188.857950667358,189.661233883492,191.548708346801,193.02258952791001,193.69985802022302,194.079820706789,193.887022280332,195.464914075237,196.061148184555,194.887571243684,194.731928708793,192.81301888852298,192.61776004241298,190.025432372467,191.339434539665,190.703891538633,190.273912699939,190.104594367637,190.716812541626,191.395152718848,191.96310469132,191.390562087394,190.027270831116,189.638548586778,189.91646271922798,189.093381597656,189.024540663178,187.856878337048,187.848569322832,187.97742472443,187.831549095969,187.66763813923302,189.431190142018,190.193776654436,191.30520773516702,190.382000782337,190.546342620765,191.70116780786202,191.64464638333598,189.515285735101,189.8601314972,187.95517605161498,187.144005898475,188.46801021977402,189.083647069077,190.17531602461202,190.48192088612598,190.371762123643,189.44744935051602,191.040363104235,191.08537370235697,190.37024530168898,191.235468401406,192.30990935968399,194.20556413388303,193.602566830277,193.211699009554,192.795476978024,192.41981955520401,192.053188609501,191.7575111568,193.199331567,192.501793275087,192.113625769166,192.76616222133703,193.890934667873,193.11882386484902,192.61073764871003,193.13435823920798,194.152112465746,193.900947877658,192.47095443027,194.18007546237098,195.615145034682,194.904773888832,194.839706315177,193.08023757981098,193.64996055163002,195.262307349832,193.625026702727,192.845458189525,192.204281255775,191.523149862204,189.489864266586,189.990827825834,188.459029685868,188.43403204659,189.027016767615,188.82882134612998,189.720829738604,189.695114667686,189.04745421709998,189.693813632135],\"type\":\"scatter\"}],                        {\"title\":{\"text\":\"Actual vs. 'Out-of-Sample' Forecast | x\"},\"xaxis\":{\"title\":{\"text\":\"Time\"}},\"yaxis\":{\"title\":{\"text\":\"Values\"}},\"template\":{\"data\":{\"barpolar\":[{\"marker\":{\"line\":{\"color\":\"rgb(237,237,237)\",\"width\":0.5},\"pattern\":{\"fillmode\":\"overlay\",\"size\":10,\"solidity\":0.2}},\"type\":\"barpolar\"}],\"bar\":[{\"error_x\":{\"color\":\"rgb(51,51,51)\"},\"error_y\":{\"color\":\"rgb(51,51,51)\"},\"marker\":{\"line\":{\"color\":\"rgb(237,237,237)\",\"width\":0.5},\"pattern\":{\"fillmode\":\"overlay\",\"size\":10,\"solidity\":0.2}},\"type\":\"bar\"}],\"carpet\":[{\"aaxis\":{\"endlinecolor\":\"rgb(51,51,51)\",\"gridcolor\":\"white\",\"linecolor\":\"white\",\"minorgridcolor\":\"white\",\"startlinecolor\":\"rgb(51,51,51)\"},\"baxis\":{\"endlinecolor\":\"rgb(51,51,51)\",\"gridcolor\":\"white\",\"linecolor\":\"white\",\"minorgridcolor\":\"white\",\"startlinecolor\":\"rgb(51,51,51)\"},\"type\":\"carpet\"}],\"choropleth\":[{\"colorbar\":{\"outlinewidth\":0,\"tickcolor\":\"rgb(237,237,237)\",\"ticklen\":6,\"ticks\":\"inside\"},\"type\":\"choropleth\"}],\"contourcarpet\":[{\"colorbar\":{\"outlinewidth\":0,\"tickcolor\":\"rgb(237,237,237)\",\"ticklen\":6,\"ticks\":\"inside\"},\"type\":\"contourcarpet\"}],\"contour\":[{\"colorbar\":{\"outlinewidth\":0,\"tickcolor\":\"rgb(237,237,237)\",\"ticklen\":6,\"ticks\":\"inside\"},\"colorscale\":[[0,\"rgb(20,44,66)\"],[1,\"rgb(90,179,244)\"]],\"type\":\"contour\"}],\"heatmapgl\":[{\"colorbar\":{\"outlinewidth\":0,\"tickcolor\":\"rgb(237,237,237)\",\"ticklen\":6,\"ticks\":\"inside\"},\"colorscale\":[[0,\"rgb(20,44,66)\"],[1,\"rgb(90,179,244)\"]],\"type\":\"heatmapgl\"}],\"heatmap\":[{\"colorbar\":{\"outlinewidth\":0,\"tickcolor\":\"rgb(237,237,237)\",\"ticklen\":6,\"ticks\":\"inside\"},\"colorscale\":[[0,\"rgb(20,44,66)\"],[1,\"rgb(90,179,244)\"]],\"type\":\"heatmap\"}],\"histogram2dcontour\":[{\"colorbar\":{\"outlinewidth\":0,\"tickcolor\":\"rgb(237,237,237)\",\"ticklen\":6,\"ticks\":\"inside\"},\"colorscale\":[[0,\"rgb(20,44,66)\"],[1,\"rgb(90,179,244)\"]],\"type\":\"histogram2dcontour\"}],\"histogram2d\":[{\"colorbar\":{\"outlinewidth\":0,\"tickcolor\":\"rgb(237,237,237)\",\"ticklen\":6,\"ticks\":\"inside\"},\"colorscale\":[[0,\"rgb(20,44,66)\"],[1,\"rgb(90,179,244)\"]],\"type\":\"histogram2d\"}],\"histogram\":[{\"marker\":{\"pattern\":{\"fillmode\":\"overlay\",\"size\":10,\"solidity\":0.2}},\"type\":\"histogram\"}],\"mesh3d\":[{\"colorbar\":{\"outlinewidth\":0,\"tickcolor\":\"rgb(237,237,237)\",\"ticklen\":6,\"ticks\":\"inside\"},\"type\":\"mesh3d\"}],\"parcoords\":[{\"line\":{\"colorbar\":{\"outlinewidth\":0,\"tickcolor\":\"rgb(237,237,237)\",\"ticklen\":6,\"ticks\":\"inside\"}},\"type\":\"parcoords\"}],\"pie\":[{\"automargin\":true,\"type\":\"pie\"}],\"scatter3d\":[{\"line\":{\"colorbar\":{\"outlinewidth\":0,\"tickcolor\":\"rgb(237,237,237)\",\"ticklen\":6,\"ticks\":\"inside\"}},\"marker\":{\"colorbar\":{\"outlinewidth\":0,\"tickcolor\":\"rgb(237,237,237)\",\"ticklen\":6,\"ticks\":\"inside\"}},\"type\":\"scatter3d\"}],\"scattercarpet\":[{\"marker\":{\"colorbar\":{\"outlinewidth\":0,\"tickcolor\":\"rgb(237,237,237)\",\"ticklen\":6,\"ticks\":\"inside\"}},\"type\":\"scattercarpet\"}],\"scattergeo\":[{\"marker\":{\"colorbar\":{\"outlinewidth\":0,\"tickcolor\":\"rgb(237,237,237)\",\"ticklen\":6,\"ticks\":\"inside\"}},\"type\":\"scattergeo\"}],\"scattergl\":[{\"marker\":{\"colorbar\":{\"outlinewidth\":0,\"tickcolor\":\"rgb(237,237,237)\",\"ticklen\":6,\"ticks\":\"inside\"}},\"type\":\"scattergl\"}],\"scattermapbox\":[{\"marker\":{\"colorbar\":{\"outlinewidth\":0,\"tickcolor\":\"rgb(237,237,237)\",\"ticklen\":6,\"ticks\":\"inside\"}},\"type\":\"scattermapbox\"}],\"scatterpolargl\":[{\"marker\":{\"colorbar\":{\"outlinewidth\":0,\"tickcolor\":\"rgb(237,237,237)\",\"ticklen\":6,\"ticks\":\"inside\"}},\"type\":\"scatterpolargl\"}],\"scatterpolar\":[{\"marker\":{\"colorbar\":{\"outlinewidth\":0,\"tickcolor\":\"rgb(237,237,237)\",\"ticklen\":6,\"ticks\":\"inside\"}},\"type\":\"scatterpolar\"}],\"scatter\":[{\"marker\":{\"colorbar\":{\"outlinewidth\":0,\"tickcolor\":\"rgb(237,237,237)\",\"ticklen\":6,\"ticks\":\"inside\"}},\"type\":\"scatter\"}],\"scatterternary\":[{\"marker\":{\"colorbar\":{\"outlinewidth\":0,\"tickcolor\":\"rgb(237,237,237)\",\"ticklen\":6,\"ticks\":\"inside\"}},\"type\":\"scatterternary\"}],\"surface\":[{\"colorbar\":{\"outlinewidth\":0,\"tickcolor\":\"rgb(237,237,237)\",\"ticklen\":6,\"ticks\":\"inside\"},\"colorscale\":[[0,\"rgb(20,44,66)\"],[1,\"rgb(90,179,244)\"]],\"type\":\"surface\"}],\"table\":[{\"cells\":{\"fill\":{\"color\":\"rgb(237,237,237)\"},\"line\":{\"color\":\"white\"}},\"header\":{\"fill\":{\"color\":\"rgb(217,217,217)\"},\"line\":{\"color\":\"white\"}},\"type\":\"table\"}]},\"layout\":{\"annotationdefaults\":{\"arrowhead\":0,\"arrowwidth\":1},\"autotypenumbers\":\"strict\",\"coloraxis\":{\"colorbar\":{\"outlinewidth\":0,\"tickcolor\":\"rgb(237,237,237)\",\"ticklen\":6,\"ticks\":\"inside\"}},\"colorscale\":{\"sequential\":[[0,\"rgb(20,44,66)\"],[1,\"rgb(90,179,244)\"]],\"sequentialminus\":[[0,\"rgb(20,44,66)\"],[1,\"rgb(90,179,244)\"]]},\"colorway\":[\"#F8766D\",\"#A3A500\",\"#00BF7D\",\"#00B0F6\",\"#E76BF3\"],\"font\":{\"color\":\"rgb(51,51,51)\"},\"geo\":{\"bgcolor\":\"white\",\"lakecolor\":\"white\",\"landcolor\":\"rgb(237,237,237)\",\"showlakes\":true,\"showland\":true,\"subunitcolor\":\"white\"},\"hoverlabel\":{\"align\":\"left\"},\"hovermode\":\"closest\",\"paper_bgcolor\":\"white\",\"plot_bgcolor\":\"rgb(237,237,237)\",\"polar\":{\"angularaxis\":{\"gridcolor\":\"white\",\"linecolor\":\"white\",\"showgrid\":true,\"tickcolor\":\"rgb(51,51,51)\",\"ticks\":\"outside\"},\"bgcolor\":\"rgb(237,237,237)\",\"radialaxis\":{\"gridcolor\":\"white\",\"linecolor\":\"white\",\"showgrid\":true,\"tickcolor\":\"rgb(51,51,51)\",\"ticks\":\"outside\"}},\"scene\":{\"xaxis\":{\"backgroundcolor\":\"rgb(237,237,237)\",\"gridcolor\":\"white\",\"gridwidth\":2,\"linecolor\":\"white\",\"showbackground\":true,\"showgrid\":true,\"tickcolor\":\"rgb(51,51,51)\",\"ticks\":\"outside\",\"zerolinecolor\":\"white\"},\"yaxis\":{\"backgroundcolor\":\"rgb(237,237,237)\",\"gridcolor\":\"white\",\"gridwidth\":2,\"linecolor\":\"white\",\"showbackground\":true,\"showgrid\":true,\"tickcolor\":\"rgb(51,51,51)\",\"ticks\":\"outside\",\"zerolinecolor\":\"white\"},\"zaxis\":{\"backgroundcolor\":\"rgb(237,237,237)\",\"gridcolor\":\"white\",\"gridwidth\":2,\"linecolor\":\"white\",\"showbackground\":true,\"showgrid\":true,\"tickcolor\":\"rgb(51,51,51)\",\"ticks\":\"outside\",\"zerolinecolor\":\"white\"}},\"shapedefaults\":{\"fillcolor\":\"black\",\"line\":{\"width\":0},\"opacity\":0.3},\"ternary\":{\"aaxis\":{\"gridcolor\":\"white\",\"linecolor\":\"white\",\"showgrid\":true,\"tickcolor\":\"rgb(51,51,51)\",\"ticks\":\"outside\"},\"baxis\":{\"gridcolor\":\"white\",\"linecolor\":\"white\",\"showgrid\":true,\"tickcolor\":\"rgb(51,51,51)\",\"ticks\":\"outside\"},\"bgcolor\":\"rgb(237,237,237)\",\"caxis\":{\"gridcolor\":\"white\",\"linecolor\":\"white\",\"showgrid\":true,\"tickcolor\":\"rgb(51,51,51)\",\"ticks\":\"outside\"}},\"xaxis\":{\"automargin\":true,\"gridcolor\":\"white\",\"linecolor\":\"white\",\"showgrid\":true,\"tickcolor\":\"rgb(51,51,51)\",\"ticks\":\"outside\",\"title\":{\"standoff\":15},\"zerolinecolor\":\"white\"},\"yaxis\":{\"automargin\":true,\"gridcolor\":\"white\",\"linecolor\":\"white\",\"showgrid\":true,\"tickcolor\":\"rgb(51,51,51)\",\"ticks\":\"outside\",\"title\":{\"standoff\":15},\"zerolinecolor\":\"white\"}}},\"showlegend\":true},                        {\"responsive\": true}                    ).then(function(){\n",
              "                            \n",
              "var gd = document.getElementById('b4a983b8-7353-45d7-b7f1-6b006797a7ee');\n",
              "var x = new MutationObserver(function (mutations, observer) {{\n",
              "        var display = window.getComputedStyle(gd).display;\n",
              "        if (!display || display === 'none') {{\n",
              "            console.log([gd, 'removed!']);\n",
              "            Plotly.purge(gd);\n",
              "            observer.disconnect();\n",
              "        }}\n",
              "}});\n",
              "\n",
              "// Listen for the removal of the full notebook cells\n",
              "var notebookContainer = gd.closest('#notebook-container');\n",
              "if (notebookContainer) {{\n",
              "    x.observe(notebookContainer, {childList: true});\n",
              "}}\n",
              "\n",
              "// Listen for the clearing of the current output cell\n",
              "var outputEl = gd.closest('.output');\n",
              "if (outputEl) {{\n",
              "    x.observe(outputEl, {childList: true});\n",
              "}}\n",
              "\n",
              "                        })                };                            </script>        </div>\n",
              "</body>\n",
              "</html>"
            ]
          },
          "metadata": {}
        },
        {
          "output_type": "display_data",
          "data": {
            "text/html": [
              "<html>\n",
              "<head><meta charset=\"utf-8\" /></head>\n",
              "<body>\n",
              "    <div>            <script src=\"https://cdnjs.cloudflare.com/ajax/libs/mathjax/2.7.5/MathJax.js?config=TeX-AMS-MML_SVG\"></script><script type=\"text/javascript\">if (window.MathJax) {MathJax.Hub.Config({SVG: {font: \"STIX-Web\"}});}</script>                <script type=\"text/javascript\">window.PlotlyConfig = {MathJaxConfig: 'local'};</script>\n",
              "        <script src=\"https://cdn.plot.ly/plotly-2.6.3.min.js\"></script>                <div id=\"9f948934-90aa-4795-a656-8fa590f6a2c5\" class=\"plotly-graph-div\" style=\"height:525px; width:100%;\"></div>            <script type=\"text/javascript\">                                    window.PLOTLYENV=window.PLOTLYENV || {};                                    if (document.getElementById(\"9f948934-90aa-4795-a656-8fa590f6a2c5\")) {                    Plotly.newPlot(                        \"9f948934-90aa-4795-a656-8fa590f6a2c5\",                        [{\"line\":{\"color\":\"#1f77b4\"},\"marker\":{\"size\":5},\"mode\":\"lines+markers\",\"name\":\"Forecast | ARIMA\",\"showlegend\":true,\"x\":[0,1,2,3,4,5,6,7,8,9,10,11,12,13,14,15,16,17,18,19,20,21,22,23,24,25,26,27,28,29,30,31,32,33,34,35,36,37,38,39,40,41,42,43,44,45,46,47,48,49,50,51,52,53,54,55,56,57,58,59,60,61,62,63,64,65,66,67,68,69,70,71,72,73,74,75,76,77,78,79,80,81,82,83,84,85,86,87,88,89,90,91,92,93,94,95,96,97,98,99,100,101,102,103,104,105,106,107,108,109,110,111,112,113,114,115,116,117,118,119,120,121,122,123,124,125,126,127,128,129,130,131,132,133,134,135,136,137,138,139,140,141,142,143,144,145,146,147,148,149,150,151,152,153,154,155,156,157,158,159,160,161,162,163,164,165,166,167,168,169,170,171,172,173,174,175,176,177,178,179,180,181,182,183,184,185,186,187,188,189,190,191,192,193,194,195,196,197,198,199,200,201,202,203,204,205,206,207,208,209,210,211,212,213,214,215,216,217,218,219,220,221,222,223,224,225,226,227,228,229,230,231,232,233,234,235,236,237,238,239,240,241,242,243,244,245,246,247,248,249,250,251,252,253,254,255,256,257,258,259,260,261,262,263,264,265,266,267,268,269,270,271,272,273,274,275,276,277,278,279,280,281,282,283,284,285,286,287,288,289,290,291,292,293,294,295,296,297,298,299,300,301,302,303,304,305,306,307,308,309],\"y\":[null,186.2885,186.3307,185.4197,185.5778,184.9232,186.6905,187.4072,188.3174,188.7015,190.3837,189.748,189.2863,190.7186,190.0679,189.8605,189.4677,189.1477,188.8686,189.3628,189.1855,188.6795,190.0226,189.808,189.6284,189.5282,190.2409,190.1673,190.1297,189.448,189.1238,189.1839,188.595,189.1265,187.6081,187.9147,186.3782,186.0773,185.549,184.8969,184.84,182.9256,184.1022,182.4373,181.9737,180.8578,180.107,182.1941,182.2115,180.9252,179.2846,179.7348,179.7163,179.3982,178.4688,176.9814,175.9062,176.9062,176.2849,174.9005,176.7698,177.1949,176.9563,178.0147,178.9012,178.2819,180.488,180.233,178.8085,178.6641,178.8716,181.1796,181.2854,181.7424,181.6653,181.3313,181.2965,182.0842,184.1594,185.1868,186.3947,185.1634,186.1473,186.3672,184.9,185.421,185.2622,186.7268,185.9607,185.5305,184.6044,184.4273,184.8293,184.0976,184.928,183.7199,182.6719,184.1131,183.0972,183.5092,183.1281,183.5375,185.2264,186.813,186.4821,184.1968,186.6945,187.3615,187.9029,187.8895,188.3996,188.2352,188.6559,188.2557,186.8855,187.8733,189.393,189.0843,187.831,188.4732,188.4285,186.6953,186.6974,186.0671,185.7262,184.5696,186.3727,186.0416,184.4361,184.6333,184.8965,183.9106,181.0217,180.3812,180.9518,180.892,180.7938,181.3547,180.1682,181.265,181.2596,181.967,183.0011,183.2245,182.3458,183.5088,181.5086,180.9638,180.7082,180.5421,181.5625,181.6987,182.1059,182.0363,181.7886,182.4841,183.6304,181.2273,181.8,182.1747,181.7495,182.7005,182.3112,182.0269,182.8843,184.6039,184.874,184.4518,183.2627,182.9317,181.9918,181.7329,182.1273,181.2754,183.9246,184.0806,185.2108,182.9217,183.6627,182.3465,183.2663,183.6644,183.2569,184.5811,183.8799,183.2993,182.2982,181.63,182.5752,183.0089,184.0141,183.6239,184.0003,184.2445,182.8182,184.5967,184.7311,185.4967,186.4518,186.4013,186.0955,186.9891,185.9418,187.9132,187.5295,189.1837,190.6959,190.7789,191.3461,190.3215,190.6445,191.6882,191.7872,191.3331,190.6773,190.6414,191.7106,191.2266,191.1056,189.8114,190.3057,191.6136,193.1107,193.9254,192.0556,192.5376,192.9938,192.6404,192.8108,191.9468,192.626,192.2989,190.7299,190.3624,191.7268,191.3926,192.1253,193.0719,193.0763,192.724,192.1943,192.9339,191.8704,192.1166,191.8271,189.5622,188.1534,189.0694,188.8781,189.6814,191.5689,193.0428,193.72,194.1,193.9072,195.4851,196.0813,194.9077,194.7521,192.8332,192.6379,190.0456,191.3596,190.7241,190.2941,190.1248,190.737,191.4153,191.9833,191.4107,190.0474,189.6587,189.9366,189.1136,189.0447,187.8771,187.8687,187.9976,187.8517,187.6878,189.4514,190.2139,191.3254,190.4022,190.5665,191.7213,191.6648,189.5355,189.8803,187.9753,187.1642,188.4882,189.1038,190.1955,190.5021,190.3919,189.4676,191.0605,191.1055,190.3904,191.2556,192.3301,194.2257,193.6227,193.2319,192.8156,192.44,192.0734,191.7777,193.2195],\"type\":\"scatter\"},{\"marker\":{\"color\":\"#3f3f3f\",\"size\":5},\"mode\":\"lines+markers\",\"name\":\"Original\",\"showlegend\":true,\"x\":[0,1,2,3,4,5,6,7,8,9,10,11,12,13,14,15,16,17,18,19,20,21,22,23,24,25,26,27,28,29,30,31,32,33,34,35,36,37,38,39,40,41,42,43,44,45,46,47,48,49,50,51,52,53,54,55,56,57,58,59,60,61,62,63,64,65,66,67,68,69,70,71,72,73,74,75,76,77,78,79,80,81,82,83,84,85,86,87,88,89,90,91,92,93,94,95,96,97,98,99,100,101,102,103,104,105,106,107,108,109,110,111,112,113,114,115,116,117,118,119,120,121,122,123,124,125,126,127,128,129,130,131,132,133,134,135,136,137,138,139,140,141,142,143,144,145,146,147,148,149,150,151,152,153,154,155,156,157,158,159,160,161,162,163,164,165,166,167,168,169,170,171,172,173,174,175,176,177,178,179,180,181,182,183,184,185,186,187,188,189,190,191,192,193,194,195,196,197,198,199,200,201,202,203,204,205,206,207,208,209,210,211,212,213,214,215,216,217,218,219,220,221,222,223,224,225,226,227,228,229,230,231,232,233,234,235,236,237,238,239,240,241,242,243,244,245,246,247,248,249,250,251,252,253,254,255,256,257,258,259,260,261,262,263,264,265,266,267,268,269,270,271,272,273,274,275,276,277,278,279,280,281,282,283,284,285,286,287,288,289,290,291,292,293,294,295,296,297,298,299,300,301,302,303,304,305,306,307,308,309,310,311,312,313,314,315,316,317,318,319,320,321,322,323,324,325,326,327,328,329,330,331,332,333,334,335,336,337,338,339],\"y\":[186.268370014241,186.31048588738602,185.399564238833,185.557593011237,184.903008367318,186.670295636691,187.38700311270802,188.29717734220299,188.68136270003004,190.36353878054902,189.7278023266,189.26615759624,190.698439834781,190.04774348147097,189.840362737869,189.44755480842701,189.127561939879,188.84844863690202,189.34263696817,189.1653064859,188.659349023786,190.002387848956,189.78780844041,189.608251910366,189.508061169153,190.220727476204,190.14716307207803,190.109528900611,189.427868421855,189.10359814960898,189.163758590043,188.574864103783,189.10636029641603,187.58796621462898,187.894524075419,186.358074251881,186.057098125045,185.52881822060002,184.876723439919,184.819826662071,182.905467236391,184.08205054841,182.417078112198,181.953547710726,180.837627605683,180.086808604489,182.173975150118,182.191370769811,180.90507023937698,179.264464704958,179.714651806231,179.69609197351602,179.37802359897202,178.44866145151798,176.961201141377,175.88600884476102,176.886037648475,176.264770953678,174.880344106294,176.749634728717,177.17473510608997,176.936088005177,177.994571053886,178.880993705261,178.26175065702998,180.46785312157,180.21282609142898,178.788331441216,178.643931839262,178.851470178494,181.159448577554,181.265250945448,181.72224975087101,181.645096815514,181.311095973148,181.276369944837,182.064009550467,184.139254559119,185.166646997883,186.37455539626998,185.143231974711,186.12712754476502,186.34705234842602,184.879802319333,185.400825061981,185.24207045726502,186.706657769235,185.940575769631,185.510364015702,184.584254518325,184.407150556888,184.80916233637402,184.077414163255,184.907787331236,183.699704544932,182.65172013212398,184.092877838968,183.07703037366403,183.48900508598098,183.10792903487203,183.517330874523,185.206204160727,186.79279259416901,186.461884793487,184.176649258194,186.674310848028,187.341377014794,187.88270435075802,187.869304827612,188.379413250565,188.21503741879502,188.635732062049,188.23548531807202,186.86527744052398,187.85311570797901,189.372860733479,189.064120164253,187.810830408645,188.45307171432302,188.40836257742902,186.67514417060397,186.677276030285,186.046975696357,185.706007116496,184.54943475386003,186.352576661778,186.021444625386,184.415931213133,184.61312465187302,184.876300298278,183.890473597869,181.00155292619,180.361071223624,180.93157885954497,180.871855583502,180.773676839497,181.334497568117,180.148038929538,181.244815973812,181.23947194553398,181.94678261293203,182.980890347669,183.204370762585,182.32566314971902,183.48862770568599,181.4884627609,180.94367202089902,180.68800131174197,180.521880274977,181.54234418376097,181.678566076864,182.085733680287,182.016078867275,181.76841452565498,182.463965332275,183.610193689491,181.207097474599,181.779837029845,182.154561436623,181.72929371506697,182.680306522644,182.29106934092601,182.00673867912602,182.864148457206,184.58377575632701,184.85383065726398,184.43164664747601,183.242533352617,182.911500373737,181.97167104722698,181.712738464109,182.10711763233002,181.255260540306,183.90442742140098,184.060439097066,185.190646364521,182.90152238468102,183.64252354187698,182.32627838142503,183.246082059034,183.644212214486,183.236683635216,184.56094226539398,183.859710596147,183.279096291906,182.278024110881,181.609845504127,182.5550304575,182.98873260704602,183.99389182472302,183.603773160669,183.980143452444,184.22430837693,182.798051034548,184.576480322023,184.710927982957,185.476526982115,186.431663659024,186.38109795758098,186.075282537814,186.96895624023998,185.921658091179,187.892995477403,187.509363371114,189.163508673389,190.67572136733997,190.758687100926,191.325908015777,190.30135953624298,190.62436603926497,191.667978497622,191.767056984519,191.312920075364,190.657138222914,190.621215800291,191.690377260968,191.206402330667,191.08539221933898,189.791252215519,190.285565051534,191.59346657164798,193.09050758105,193.90521031194803,192.035421521745,192.51745102586898,192.97358662917,192.62018634334,192.790675814288,191.92663986016103,192.60587063417702,192.278769619524,190.70968743438,190.342236678209,191.70667160727902,191.372390242548,192.105140284757,193.05172592495498,193.05612462928102,192.703802323732,192.17410681459802,192.913696040173,191.85023862468998,192.096449468226,191.80695010166198,189.54206074517398,188.133210289101,189.04922961789399,188.857950667358,189.661233883492,191.548708346801,193.02258952791001,193.69985802022302,194.079820706789,193.887022280332,195.464914075237,196.061148184555,194.887571243684,194.731928708793,192.81301888852298,192.61776004241298,190.025432372467,191.339434539665,190.703891538633,190.273912699939,190.104594367637,190.716812541626,191.395152718848,191.96310469132,191.390562087394,190.027270831116,189.638548586778,189.91646271922798,189.093381597656,189.024540663178,187.856878337048,187.848569322832,187.97742472443,187.831549095969,187.66763813923302,189.431190142018,190.193776654436,191.30520773516702,190.382000782337,190.546342620765,191.70116780786202,191.64464638333598,189.515285735101,189.8601314972,187.95517605161498,187.144005898475,188.46801021977402,189.083647069077,190.17531602461202,190.48192088612598,190.371762123643,189.44744935051602,191.040363104235,191.08537370235697,190.37024530168898,191.235468401406,192.30990935968399,194.20556413388303,193.602566830277,193.211699009554,192.795476978024,192.41981955520401,192.053188609501,191.7575111568,193.199331567,192.501793275087,192.113625769166,192.76616222133703,193.890934667873,193.11882386484902,192.61073764871003,193.13435823920798,194.152112465746,193.900947877658,192.47095443027,194.18007546237098,195.615145034682,194.904773888832,194.839706315177,193.08023757981098,193.64996055163002,195.262307349832,193.625026702727,192.845458189525,192.204281255775,191.523149862204,189.489864266586,189.990827825834,188.459029685868,188.43403204659,189.027016767615,188.82882134612998,189.720829738604,189.695114667686,189.04745421709998,189.693813632135],\"type\":\"scatter\"}],                        {\"title\":{\"text\":\"Actual vs. 'In-Sample' Forecast | x\"},\"xaxis\":{\"title\":{\"text\":\"Time\"}},\"yaxis\":{\"title\":{\"text\":\"Values\"}},\"template\":{\"data\":{\"barpolar\":[{\"marker\":{\"line\":{\"color\":\"rgb(237,237,237)\",\"width\":0.5},\"pattern\":{\"fillmode\":\"overlay\",\"size\":10,\"solidity\":0.2}},\"type\":\"barpolar\"}],\"bar\":[{\"error_x\":{\"color\":\"rgb(51,51,51)\"},\"error_y\":{\"color\":\"rgb(51,51,51)\"},\"marker\":{\"line\":{\"color\":\"rgb(237,237,237)\",\"width\":0.5},\"pattern\":{\"fillmode\":\"overlay\",\"size\":10,\"solidity\":0.2}},\"type\":\"bar\"}],\"carpet\":[{\"aaxis\":{\"endlinecolor\":\"rgb(51,51,51)\",\"gridcolor\":\"white\",\"linecolor\":\"white\",\"minorgridcolor\":\"white\",\"startlinecolor\":\"rgb(51,51,51)\"},\"baxis\":{\"endlinecolor\":\"rgb(51,51,51)\",\"gridcolor\":\"white\",\"linecolor\":\"white\",\"minorgridcolor\":\"white\",\"startlinecolor\":\"rgb(51,51,51)\"},\"type\":\"carpet\"}],\"choropleth\":[{\"colorbar\":{\"outlinewidth\":0,\"tickcolor\":\"rgb(237,237,237)\",\"ticklen\":6,\"ticks\":\"inside\"},\"type\":\"choropleth\"}],\"contourcarpet\":[{\"colorbar\":{\"outlinewidth\":0,\"tickcolor\":\"rgb(237,237,237)\",\"ticklen\":6,\"ticks\":\"inside\"},\"type\":\"contourcarpet\"}],\"contour\":[{\"colorbar\":{\"outlinewidth\":0,\"tickcolor\":\"rgb(237,237,237)\",\"ticklen\":6,\"ticks\":\"inside\"},\"colorscale\":[[0,\"rgb(20,44,66)\"],[1,\"rgb(90,179,244)\"]],\"type\":\"contour\"}],\"heatmapgl\":[{\"colorbar\":{\"outlinewidth\":0,\"tickcolor\":\"rgb(237,237,237)\",\"ticklen\":6,\"ticks\":\"inside\"},\"colorscale\":[[0,\"rgb(20,44,66)\"],[1,\"rgb(90,179,244)\"]],\"type\":\"heatmapgl\"}],\"heatmap\":[{\"colorbar\":{\"outlinewidth\":0,\"tickcolor\":\"rgb(237,237,237)\",\"ticklen\":6,\"ticks\":\"inside\"},\"colorscale\":[[0,\"rgb(20,44,66)\"],[1,\"rgb(90,179,244)\"]],\"type\":\"heatmap\"}],\"histogram2dcontour\":[{\"colorbar\":{\"outlinewidth\":0,\"tickcolor\":\"rgb(237,237,237)\",\"ticklen\":6,\"ticks\":\"inside\"},\"colorscale\":[[0,\"rgb(20,44,66)\"],[1,\"rgb(90,179,244)\"]],\"type\":\"histogram2dcontour\"}],\"histogram2d\":[{\"colorbar\":{\"outlinewidth\":0,\"tickcolor\":\"rgb(237,237,237)\",\"ticklen\":6,\"ticks\":\"inside\"},\"colorscale\":[[0,\"rgb(20,44,66)\"],[1,\"rgb(90,179,244)\"]],\"type\":\"histogram2d\"}],\"histogram\":[{\"marker\":{\"pattern\":{\"fillmode\":\"overlay\",\"size\":10,\"solidity\":0.2}},\"type\":\"histogram\"}],\"mesh3d\":[{\"colorbar\":{\"outlinewidth\":0,\"tickcolor\":\"rgb(237,237,237)\",\"ticklen\":6,\"ticks\":\"inside\"},\"type\":\"mesh3d\"}],\"parcoords\":[{\"line\":{\"colorbar\":{\"outlinewidth\":0,\"tickcolor\":\"rgb(237,237,237)\",\"ticklen\":6,\"ticks\":\"inside\"}},\"type\":\"parcoords\"}],\"pie\":[{\"automargin\":true,\"type\":\"pie\"}],\"scatter3d\":[{\"line\":{\"colorbar\":{\"outlinewidth\":0,\"tickcolor\":\"rgb(237,237,237)\",\"ticklen\":6,\"ticks\":\"inside\"}},\"marker\":{\"colorbar\":{\"outlinewidth\":0,\"tickcolor\":\"rgb(237,237,237)\",\"ticklen\":6,\"ticks\":\"inside\"}},\"type\":\"scatter3d\"}],\"scattercarpet\":[{\"marker\":{\"colorbar\":{\"outlinewidth\":0,\"tickcolor\":\"rgb(237,237,237)\",\"ticklen\":6,\"ticks\":\"inside\"}},\"type\":\"scattercarpet\"}],\"scattergeo\":[{\"marker\":{\"colorbar\":{\"outlinewidth\":0,\"tickcolor\":\"rgb(237,237,237)\",\"ticklen\":6,\"ticks\":\"inside\"}},\"type\":\"scattergeo\"}],\"scattergl\":[{\"marker\":{\"colorbar\":{\"outlinewidth\":0,\"tickcolor\":\"rgb(237,237,237)\",\"ticklen\":6,\"ticks\":\"inside\"}},\"type\":\"scattergl\"}],\"scattermapbox\":[{\"marker\":{\"colorbar\":{\"outlinewidth\":0,\"tickcolor\":\"rgb(237,237,237)\",\"ticklen\":6,\"ticks\":\"inside\"}},\"type\":\"scattermapbox\"}],\"scatterpolargl\":[{\"marker\":{\"colorbar\":{\"outlinewidth\":0,\"tickcolor\":\"rgb(237,237,237)\",\"ticklen\":6,\"ticks\":\"inside\"}},\"type\":\"scatterpolargl\"}],\"scatterpolar\":[{\"marker\":{\"colorbar\":{\"outlinewidth\":0,\"tickcolor\":\"rgb(237,237,237)\",\"ticklen\":6,\"ticks\":\"inside\"}},\"type\":\"scatterpolar\"}],\"scatter\":[{\"marker\":{\"colorbar\":{\"outlinewidth\":0,\"tickcolor\":\"rgb(237,237,237)\",\"ticklen\":6,\"ticks\":\"inside\"}},\"type\":\"scatter\"}],\"scatterternary\":[{\"marker\":{\"colorbar\":{\"outlinewidth\":0,\"tickcolor\":\"rgb(237,237,237)\",\"ticklen\":6,\"ticks\":\"inside\"}},\"type\":\"scatterternary\"}],\"surface\":[{\"colorbar\":{\"outlinewidth\":0,\"tickcolor\":\"rgb(237,237,237)\",\"ticklen\":6,\"ticks\":\"inside\"},\"colorscale\":[[0,\"rgb(20,44,66)\"],[1,\"rgb(90,179,244)\"]],\"type\":\"surface\"}],\"table\":[{\"cells\":{\"fill\":{\"color\":\"rgb(237,237,237)\"},\"line\":{\"color\":\"white\"}},\"header\":{\"fill\":{\"color\":\"rgb(217,217,217)\"},\"line\":{\"color\":\"white\"}},\"type\":\"table\"}]},\"layout\":{\"annotationdefaults\":{\"arrowhead\":0,\"arrowwidth\":1},\"autotypenumbers\":\"strict\",\"coloraxis\":{\"colorbar\":{\"outlinewidth\":0,\"tickcolor\":\"rgb(237,237,237)\",\"ticklen\":6,\"ticks\":\"inside\"}},\"colorscale\":{\"sequential\":[[0,\"rgb(20,44,66)\"],[1,\"rgb(90,179,244)\"]],\"sequentialminus\":[[0,\"rgb(20,44,66)\"],[1,\"rgb(90,179,244)\"]]},\"colorway\":[\"#F8766D\",\"#A3A500\",\"#00BF7D\",\"#00B0F6\",\"#E76BF3\"],\"font\":{\"color\":\"rgb(51,51,51)\"},\"geo\":{\"bgcolor\":\"white\",\"lakecolor\":\"white\",\"landcolor\":\"rgb(237,237,237)\",\"showlakes\":true,\"showland\":true,\"subunitcolor\":\"white\"},\"hoverlabel\":{\"align\":\"left\"},\"hovermode\":\"closest\",\"paper_bgcolor\":\"white\",\"plot_bgcolor\":\"rgb(237,237,237)\",\"polar\":{\"angularaxis\":{\"gridcolor\":\"white\",\"linecolor\":\"white\",\"showgrid\":true,\"tickcolor\":\"rgb(51,51,51)\",\"ticks\":\"outside\"},\"bgcolor\":\"rgb(237,237,237)\",\"radialaxis\":{\"gridcolor\":\"white\",\"linecolor\":\"white\",\"showgrid\":true,\"tickcolor\":\"rgb(51,51,51)\",\"ticks\":\"outside\"}},\"scene\":{\"xaxis\":{\"backgroundcolor\":\"rgb(237,237,237)\",\"gridcolor\":\"white\",\"gridwidth\":2,\"linecolor\":\"white\",\"showbackground\":true,\"showgrid\":true,\"tickcolor\":\"rgb(51,51,51)\",\"ticks\":\"outside\",\"zerolinecolor\":\"white\"},\"yaxis\":{\"backgroundcolor\":\"rgb(237,237,237)\",\"gridcolor\":\"white\",\"gridwidth\":2,\"linecolor\":\"white\",\"showbackground\":true,\"showgrid\":true,\"tickcolor\":\"rgb(51,51,51)\",\"ticks\":\"outside\",\"zerolinecolor\":\"white\"},\"zaxis\":{\"backgroundcolor\":\"rgb(237,237,237)\",\"gridcolor\":\"white\",\"gridwidth\":2,\"linecolor\":\"white\",\"showbackground\":true,\"showgrid\":true,\"tickcolor\":\"rgb(51,51,51)\",\"ticks\":\"outside\",\"zerolinecolor\":\"white\"}},\"shapedefaults\":{\"fillcolor\":\"black\",\"line\":{\"width\":0},\"opacity\":0.3},\"ternary\":{\"aaxis\":{\"gridcolor\":\"white\",\"linecolor\":\"white\",\"showgrid\":true,\"tickcolor\":\"rgb(51,51,51)\",\"ticks\":\"outside\"},\"baxis\":{\"gridcolor\":\"white\",\"linecolor\":\"white\",\"showgrid\":true,\"tickcolor\":\"rgb(51,51,51)\",\"ticks\":\"outside\"},\"bgcolor\":\"rgb(237,237,237)\",\"caxis\":{\"gridcolor\":\"white\",\"linecolor\":\"white\",\"showgrid\":true,\"tickcolor\":\"rgb(51,51,51)\",\"ticks\":\"outside\"}},\"xaxis\":{\"automargin\":true,\"gridcolor\":\"white\",\"linecolor\":\"white\",\"showgrid\":true,\"tickcolor\":\"rgb(51,51,51)\",\"ticks\":\"outside\",\"title\":{\"standoff\":15},\"zerolinecolor\":\"white\"},\"yaxis\":{\"automargin\":true,\"gridcolor\":\"white\",\"linecolor\":\"white\",\"showgrid\":true,\"tickcolor\":\"rgb(51,51,51)\",\"ticks\":\"outside\",\"title\":{\"standoff\":15},\"zerolinecolor\":\"white\"}}},\"showlegend\":true},                        {\"responsive\": true}                    ).then(function(){\n",
              "                            \n",
              "var gd = document.getElementById('9f948934-90aa-4795-a656-8fa590f6a2c5');\n",
              "var x = new MutationObserver(function (mutations, observer) {{\n",
              "        var display = window.getComputedStyle(gd).display;\n",
              "        if (!display || display === 'none') {{\n",
              "            console.log([gd, 'removed!']);\n",
              "            Plotly.purge(gd);\n",
              "            observer.disconnect();\n",
              "        }}\n",
              "}});\n",
              "\n",
              "// Listen for the removal of the full notebook cells\n",
              "var notebookContainer = gd.closest('#notebook-container');\n",
              "if (notebookContainer) {{\n",
              "    x.observe(notebookContainer, {childList: true});\n",
              "}}\n",
              "\n",
              "// Listen for the clearing of the current output cell\n",
              "var outputEl = gd.closest('.output');\n",
              "if (outputEl) {{\n",
              "    x.observe(outputEl, {childList: true});\n",
              "}}\n",
              "\n",
              "                        })                };                            </script>        </div>\n",
              "</body>\n",
              "</html>"
            ]
          },
          "metadata": {}
        }
      ]
    },
    {
      "cell_type": "code",
      "metadata": {
        "colab": {
          "base_uri": "https://localhost:8080/",
          "height": 238
        },
        "id": "dKAdtNhEYiXO",
        "outputId": "70d0802b-bba4-41bf-fb57-f3dffb78b48c"
      },
      "source": [
        "exp.check_stats(model2b, test=\"white_noise\")"
      ],
      "execution_count": 21,
      "outputs": [
        {
          "output_type": "execute_result",
          "data": {
            "text/html": [
              "<div>\n",
              "<style scoped>\n",
              "    .dataframe tbody tr th:only-of-type {\n",
              "        vertical-align: middle;\n",
              "    }\n",
              "\n",
              "    .dataframe tbody tr th {\n",
              "        vertical-align: top;\n",
              "    }\n",
              "\n",
              "    .dataframe thead th {\n",
              "        text-align: right;\n",
              "    }\n",
              "</style>\n",
              "<table border=\"1\" class=\"dataframe\">\n",
              "  <thead>\n",
              "    <tr style=\"text-align: right;\">\n",
              "      <th></th>\n",
              "      <th>Test</th>\n",
              "      <th>Test Name</th>\n",
              "      <th>Property</th>\n",
              "      <th>Setting</th>\n",
              "      <th>Value</th>\n",
              "    </tr>\n",
              "  </thead>\n",
              "  <tbody>\n",
              "    <tr>\n",
              "      <th>0</th>\n",
              "      <td>White Noise</td>\n",
              "      <td>Ljung-Box</td>\n",
              "      <td>Test Statictic</td>\n",
              "      <td>{'alpha': 0.05, 'K': 24}</td>\n",
              "      <td>27.9957</td>\n",
              "    </tr>\n",
              "    <tr>\n",
              "      <th>1</th>\n",
              "      <td>White Noise</td>\n",
              "      <td>Ljung-Box</td>\n",
              "      <td>Test Statictic</td>\n",
              "      <td>{'alpha': 0.05, 'K': 48}</td>\n",
              "      <td>46.0732</td>\n",
              "    </tr>\n",
              "    <tr>\n",
              "      <th>2</th>\n",
              "      <td>White Noise</td>\n",
              "      <td>Ljung-Box</td>\n",
              "      <td>p-value</td>\n",
              "      <td>{'alpha': 0.05, 'K': 24}</td>\n",
              "      <td>0.260223</td>\n",
              "    </tr>\n",
              "    <tr>\n",
              "      <th>3</th>\n",
              "      <td>White Noise</td>\n",
              "      <td>Ljung-Box</td>\n",
              "      <td>p-value</td>\n",
              "      <td>{'alpha': 0.05, 'K': 48}</td>\n",
              "      <td>0.552117</td>\n",
              "    </tr>\n",
              "    <tr>\n",
              "      <th>4</th>\n",
              "      <td>White Noise</td>\n",
              "      <td>Ljung-Box</td>\n",
              "      <td>White Noise</td>\n",
              "      <td>{'alpha': 0.05, 'K': 24}</td>\n",
              "      <td>True</td>\n",
              "    </tr>\n",
              "    <tr>\n",
              "      <th>5</th>\n",
              "      <td>White Noise</td>\n",
              "      <td>Ljung-Box</td>\n",
              "      <td>White Noise</td>\n",
              "      <td>{'alpha': 0.05, 'K': 48}</td>\n",
              "      <td>True</td>\n",
              "    </tr>\n",
              "  </tbody>\n",
              "</table>\n",
              "</div>"
            ],
            "text/plain": [
              "          Test  Test Name        Property                   Setting     Value\n",
              "0  White Noise  Ljung-Box  Test Statictic  {'alpha': 0.05, 'K': 24}   27.9957\n",
              "1  White Noise  Ljung-Box  Test Statictic  {'alpha': 0.05, 'K': 48}   46.0732\n",
              "2  White Noise  Ljung-Box         p-value  {'alpha': 0.05, 'K': 24}  0.260223\n",
              "3  White Noise  Ljung-Box         p-value  {'alpha': 0.05, 'K': 48}  0.552117\n",
              "4  White Noise  Ljung-Box     White Noise  {'alpha': 0.05, 'K': 24}      True\n",
              "5  White Noise  Ljung-Box     White Noise  {'alpha': 0.05, 'K': 48}      True"
            ]
          },
          "metadata": {},
          "execution_count": 21
        }
      ]
    },
    {
      "cell_type": "markdown",
      "metadata": {
        "id": "p8akekR4xDys"
      },
      "source": [
        "#### Random Walk with trend = \"t\""
      ]
    },
    {
      "cell_type": "code",
      "metadata": {
        "colab": {
          "base_uri": "https://localhost:8080/",
          "height": 276,
          "referenced_widgets": [
            "8e96e9b388814bc6b70ca433b3f7f387",
            "3becbaa4234b4915a4d576fe004a4a0b",
            "b23904a119ca4d5385c107bc00ab54a8"
          ]
        },
        "id": "CdxostGxb2Oo",
        "outputId": "1a41f618-7304-4f2c-9765-1cf2ef2e1b1e"
      },
      "source": [
        "model2c = exp.create_model(\"arima\", order=(0, 1, 0), seasonal_order=(0, 0, 0, 0), with_intercept=True, trend='t')\n",
        "model2c"
      ],
      "execution_count": 22,
      "outputs": [
        {
          "output_type": "display_data",
          "data": {
            "text/html": [
              "<div>\n",
              "<style scoped>\n",
              "    .dataframe tbody tr th:only-of-type {\n",
              "        vertical-align: middle;\n",
              "    }\n",
              "\n",
              "    .dataframe tbody tr th {\n",
              "        vertical-align: top;\n",
              "    }\n",
              "\n",
              "    .dataframe thead th {\n",
              "        text-align: right;\n",
              "    }\n",
              "</style>\n",
              "<table border=\"1\" class=\"dataframe\">\n",
              "  <thead>\n",
              "    <tr style=\"text-align: right;\">\n",
              "      <th></th>\n",
              "      <th>cutoff</th>\n",
              "      <th>MAE</th>\n",
              "      <th>RMSE</th>\n",
              "      <th>MAPE</th>\n",
              "      <th>SMAPE</th>\n",
              "      <th>R2</th>\n",
              "    </tr>\n",
              "  </thead>\n",
              "  <tbody>\n",
              "    <tr>\n",
              "      <th>0</th>\n",
              "      <td>219.0</td>\n",
              "      <td>1.5477</td>\n",
              "      <td>1.9237</td>\n",
              "      <td>0.0081</td>\n",
              "      <td>0.0081</td>\n",
              "      <td>-0.8889</td>\n",
              "    </tr>\n",
              "    <tr>\n",
              "      <th>1</th>\n",
              "      <td>249.0</td>\n",
              "      <td>2.9862</td>\n",
              "      <td>3.4021</td>\n",
              "      <td>0.0157</td>\n",
              "      <td>0.0156</td>\n",
              "      <td>-0.9667</td>\n",
              "    </tr>\n",
              "    <tr>\n",
              "      <th>2</th>\n",
              "      <td>279.0</td>\n",
              "      <td>1.4886</td>\n",
              "      <td>1.7826</td>\n",
              "      <td>0.0078</td>\n",
              "      <td>0.0078</td>\n",
              "      <td>-0.1647</td>\n",
              "    </tr>\n",
              "    <tr>\n",
              "      <th>Mean</th>\n",
              "      <td>NaN</td>\n",
              "      <td>2.0075</td>\n",
              "      <td>2.3695</td>\n",
              "      <td>0.0105</td>\n",
              "      <td>0.0105</td>\n",
              "      <td>-0.6734</td>\n",
              "    </tr>\n",
              "    <tr>\n",
              "      <th>SD</th>\n",
              "      <td>NaN</td>\n",
              "      <td>0.6925</td>\n",
              "      <td>0.7324</td>\n",
              "      <td>0.0037</td>\n",
              "      <td>0.0036</td>\n",
              "      <td>0.3611</td>\n",
              "    </tr>\n",
              "  </tbody>\n",
              "</table>\n",
              "</div>"
            ],
            "text/plain": [
              "      cutoff     MAE    RMSE    MAPE   SMAPE      R2\n",
              "0      219.0  1.5477  1.9237  0.0081  0.0081 -0.8889\n",
              "1      249.0  2.9862  3.4021  0.0157  0.0156 -0.9667\n",
              "2      279.0  1.4886  1.7826  0.0078  0.0078 -0.1647\n",
              "Mean     NaN  2.0075  2.3695  0.0105  0.0105 -0.6734\n",
              "SD       NaN  0.6925  0.7324  0.0037  0.0036  0.3611"
            ]
          },
          "metadata": {}
        },
        {
          "output_type": "execute_result",
          "data": {
            "text/plain": [
              "ARIMA(maxiter=50, method='lbfgs', order=(0, 1, 0), out_of_sample_size=0,\n",
              "      scoring='mse', scoring_args=None, seasonal_order=(0, 0, 0, 0),\n",
              "      start_params=None, suppress_warnings=False, trend='t',\n",
              "      with_intercept=True)"
            ]
          },
          "metadata": {},
          "execution_count": 22
        }
      ]
    },
    {
      "cell_type": "code",
      "metadata": {
        "colab": {
          "base_uri": "https://localhost:8080/",
          "height": 959
        },
        "id": "YwoNhfRCcuQn",
        "outputId": "235a8a56-5960-4be5-cdd5-01ede6e576e8"
      },
      "source": [
        "summarize_model(model2c)\n",
        "get_residual_properties(model2c)"
      ],
      "execution_count": 48,
      "outputs": [
        {
          "output_type": "stream",
          "name": "stdout",
          "text": [
            "                               SARIMAX Results                                \n",
            "==============================================================================\n",
            "Dep. Variable:                      y   No. Observations:                  310\n",
            "Model:               SARIMAX(0, 1, 0)   Log Likelihood                -435.032\n",
            "Date:                Fri, 26 Nov 2021   AIC                            874.063\n",
            "Time:                        10:25:09   BIC                            881.530\n",
            "Sample:                             0   HQIC                           877.048\n",
            "                                - 310                                         \n",
            "Covariance Type:                  opg                                         \n",
            "==============================================================================\n",
            "                 coef    std err          z      P>|z|      [0.025      0.975]\n",
            "------------------------------------------------------------------------------\n",
            "drift          0.0002      0.000      0.582      0.560      -0.000       0.001\n",
            "sigma2         0.9781      0.080     12.197      0.000       0.821       1.135\n",
            "===================================================================================\n",
            "Ljung-Box (L1) (Q):                   1.02   Jarque-Bera (JB):                 0.14\n",
            "Prob(Q):                              0.31   Prob(JB):                         0.93\n",
            "Heteroskedasticity (H):               0.99   Skew:                            -0.04\n",
            "Prob(H) (two-sided):                  0.95   Kurtosis:                         2.95\n",
            "===================================================================================\n",
            "\n",
            "Warnings:\n",
            "[1] Covariance matrix calculated using the outer product of gradients (complex-step).\n"
          ]
        },
        {
          "output_type": "display_data",
          "data": {
            "text/html": [
              "<html>\n",
              "<head><meta charset=\"utf-8\" /></head>\n",
              "<body>\n",
              "    <div>            <script src=\"https://cdnjs.cloudflare.com/ajax/libs/mathjax/2.7.5/MathJax.js?config=TeX-AMS-MML_SVG\"></script><script type=\"text/javascript\">if (window.MathJax) {MathJax.Hub.Config({SVG: {font: \"STIX-Web\"}});}</script>                <script type=\"text/javascript\">window.PlotlyConfig = {MathJaxConfig: 'local'};</script>\n",
              "        <script src=\"https://cdn.plot.ly/plotly-2.6.3.min.js\"></script>                <div id=\"4bdbe0bf-5e5d-4f5a-a8a0-382575577053\" class=\"plotly-graph-div\" style=\"height:525px; width:100%;\"></div>            <script type=\"text/javascript\">                                    window.PLOTLYENV=window.PLOTLYENV || {};                                    if (document.getElementById(\"4bdbe0bf-5e5d-4f5a-a8a0-382575577053\")) {                    Plotly.newPlot(                        \"4bdbe0bf-5e5d-4f5a-a8a0-382575577053\",                        [{\"marker\":{\"color\":\"#3f3f3f\",\"size\":5},\"mode\":\"lines+markers\",\"name\":\"Residuals | ARIMA\",\"showlegend\":true,\"x\":[1,2,3,4,5,6,7,8,9,10,11,12,13,14,15,16,17,18,19,20,21,22,23,24,25,26,27,28,29,30,31,32,33,34,35,36,37,38,39,40,41,42,43,44,45,46,47,48,49,50,51,52,53,54,55,56,57,58,59,60,61,62,63,64,65,66,67,68,69,70,71,72,73,74,75,76,77,78,79,80,81,82,83,84,85,86,87,88,89,90,91,92,93,94,95,96,97,98,99,100,101,102,103,104,105,106,107,108,109,110,111,112,113,114,115,116,117,118,119,120,121,122,123,124,125,126,127,128,129,130,131,132,133,134,135,136,137,138,139,140,141,142,143,144,145,146,147,148,149,150,151,152,153,154,155,156,157,158,159,160,161,162,163,164,165,166,167,168,169,170,171,172,173,174,175,176,177,178,179,180,181,182,183,184,185,186,187,188,189,190,191,192,193,194,195,196,197,198,199,200,201,202,203,204,205,206,207,208,209,210,211,212,213,214,215,216,217,218,219,220,221,222,223,224,225,226,227,228,229,230,231,232,233,234,235,236,237,238,239,240,241,242,243,244,245,246,247,248,249,250,251,252,253,254,255,256,257,258,259,260,261,262,263,264,265,266,267,268,269,270,271,272,273,274,275,276,277,278,279,280,281,282,283,284,285,286,287,288,289,290,291,292,293,294,295,296,297,298,299,300,301,302,303,304,305,306,307,308,309],\"y\":[0.041930631703934296,-0.9112921314352604,0.15747304808067497,-0.655325609683473,1.766361062167448,0.7155960273703101,0.9088775394071718,0.3827034262981215,1.6805089075489548,-0.6375888683601829,-0.46368238621226965,1.4300593412476417,-0.6531044920445197,-0.2099741237775845,-0.3955865510586989,-0.32295673160584215,-0.28226240747594034,0.4908539853279308,-0.18085006965119987,-0.5096622909362907,1.3391487549065744,-0.21865472025052668,-0.18381708318963774,-0.10463653579975585,0.7080352710231352,-0.07838068159495037,-0.042635690377125,-0.6868472391072089,-0.3296422740383491,0.0546031972005494,-0.5946369709345447,0.5255684665173419,-1.524507049343839,0.3002596517921461,-1.5429332739770416,-0.3076448187161134,-0.5351338377662387,-0.659133955443366,-0.06412119405149497,-1.921769083324591,1.1689884129332881,-1.6727525767388158,-0.47149578343993426,-1.1240707284520681,-0.759154866044156,2.07864543933772,0.008689271960605538,-1.2951921196075205,-1.6496823650336125,0.4409250292172544,-0.0280071462118201,-0.3277009294819777,-0.9391799438331248,-1.497463347961201,-1.0853805758772808,0.9896552830115581,-0.6318254569405326,-1.3951708509686682,1.8583613773972445,0.4139858909060763,-0.24994682882098118,1.046998079359895,0.8747524405847571,-0.6310985004623717,2.1940617708675347,-0.26725296525458475,-1.4369058267676564,-0.1569960199498155,0.19475667979509126,2.295011498181964,0.09265022557485736,0.44366142166273903,-0.09067556055839532,-0.3477087090084865,-0.048619136394620455,0.7735612561052676,2.0609814176861505,1.0129436063570552,1.193274324538919,-1.2461427368481566,0.968891013323713,0.20473500548959578,-1.482625068705545,0.5054624615943624,-0.1745001272107629,1.4486565480341085,-0.7821980049809838,-0.4465130007471032,-0.9425959856362169,-0.19377569113731852,0.3851548083445664,-0.7487903857015681,0.8131457139573115,-1.225495481768803,-1.0655823497139068,1.4233745284969928,-1.0338158850921104,0.3938210510876843,-0.39941495377931346,0.39087769553950125,1.6701639006514029,1.5676938064483181,-0.3499876691168424,-2.304500645168929,2.478211238516934,0.6474305740078421,0.5215065017647191,-0.033405598786401924,0.48991710587145576,-0.18475239029260138,0.4001328432902369,-0.42099378538182464,-1.3911401603940021,0.9667207431679401,1.4984422597717924,-0.33022857639531367,-1.2749630042184492,0.6203828156264706,-0.06675286838665784,-1.7554473797588344,-0.02028235469387596,-0.6528997897439694,-0.36375327711812133,-1.1795423013342088,1.7799867277786063,-0.35447245797243454,-1.6290390752745907,0.1734825342773263,0.2392795005011692,-1.009908087753928,-2.9131873004650686,-0.6649335727931316,0.545870524252706,-0.08454562915235897,-0.12318633855548455,0.5356278926283835,-1.2118367160117316,1.0712137254001561,-0.03109258859296915,0.6813768656419654,1.0079886915397935,0.19717613027768266,-0.9051971389453968,1.1362897884464473,-2.0270249537476275,-0.5718359904037413,-0.2829012010009251,-0.19353677004994552,0.9928629340578539,0.10843567693581235,0.3791961458146602,-0.09781151206144045,-0.2760062821106146,0.6670236246883405,1.1175159338432366,-2.4319938797059137,0.5436566489909751,0.34545625908185684,-0.4547211106932707,0.9213741769986541,-0.41906105373746527,-0.3143397752606063,0.8272154231782736,1.6892477027781752,0.23949006315302768,-0.4529340890130129,-1.2200486155252008,-0.36215354098726493,-0.9711351300584283,-0.2904236281074759,0.36270288179036925,-0.8837186198957454,2.6171201117821,0.12377966491104075,1.0977900152599034,-2.3217264734761898,0.7082134221186607,-1.3492181369703928,0.8866454596494293,0.36478669605133973,-0.441057280111778,1.2905446878950784,-0.7351308529709684,-0.6146987294061432,-1.03534184763123,-0.7026335148013629,0.9105448038845338,0.39887675861643856,0.9701485853063048,-0.4253145378658303,0.34098917652207206,0.20859856779196662,-1.4620089405171655,1.7424924478987407,0.09832557991660451,0.7292916766994892,0.9186441130093783,-0.08724350678375004,-0.3426784665488185,0.8566254142030232,-1.0845316787250283,1.9339186151187846,-0.42123611883528156,1.616356048287571,1.4742381985224426,0.044805996716377194,0.5288759365402314,-1.06307869928591,0.28429104182899323,1.0047117557229228,0.059992542821788675,-0.49340809467133795,-0.6952382794074481,-0.07556409102156181,1.0293345508373193,-0.5239870815817937,-0.16120750404994055,-1.3345226379830137,0.45374496041085877,1.2671484030687168,1.4561026509156534,0.7735791309705178,-1.9110976315716073,0.4405354213142516,0.4144562790501993,-0.3952648515219437,0.12843966381493033,-0.9062710027011462,0.636810484000705,-0.3697065461094269,-1.6118729580415447,-0.4104267705096163,1.32127367329025,-0.37762786195187914,0.6892183035470225,0.9028686600948959,-0.03950351721817924,-0.3964097685343404,-0.5739682135604198,0.6951312797074252,-1.1081006027916942,0.20138241478625218,-0.3345130367549416,-2.310088268120012,-1.4542346091461127,0.8704499342787528,-0.23703358649132156,0.7573433387375132,1.8413493444714106,1.4275708208303115,0.6307728905931924,0.33328184340504663,-0.23966451105906117,1.5308404688618396,0.5489975418337281,-1.2209987497963937,-0.20324958525750958,-1.966702112077627,-0.2432363793587342,-2.640490444635816,1.2656541510670252,-0.6840762586040796,-0.47869733770721723,-0.2182220727563049,0.5631291920935837,0.6290659538854584,0.5184925076943614,-0.6221873101447954,-1.4131212039378624,-0.43873743343900173,0.22771370190787366,-0.8734667935552238,-0.1194118479023416,-1.2184184809954672,-0.059250410522565744,0.07772876385030258,-0.19718750764980086,-0.21540807736587908,1.7118696407139566,0.7107189089058465,1.059378235777757,-0.9754450392243825,0.11191851059248847,1.1022166178204316,-0.10931523524376985,-2.182339700393811,0.29168146849903565,-1.9583049806260817,-0.8647049296221496,1.2702843033757176,0.5617315899385744,1.0375784547294984,0.2523291192673298,-0.16461974617072883,-0.9789589982558482,1.5380822871489954,-0.010006109889133086,-0.7703303501202186,0.8098359088236862,1.0188685259435601,1.8398971004234852,-0.6589402188226927,-0.44699597738079433,-0.4725354296288913,-0.4321560623600078,-0.423314826684134,-0.35254657512325593,1.3847660463366367,-0.7547778972174797],\"type\":\"scatter\"}],                        {\"title\":{\"text\":\"Residuals\"},\"xaxis\":{\"title\":{\"text\":\"Time\"}},\"yaxis\":{\"title\":{\"text\":\"Values\"}},\"template\":{\"data\":{\"barpolar\":[{\"marker\":{\"line\":{\"color\":\"rgb(237,237,237)\",\"width\":0.5},\"pattern\":{\"fillmode\":\"overlay\",\"size\":10,\"solidity\":0.2}},\"type\":\"barpolar\"}],\"bar\":[{\"error_x\":{\"color\":\"rgb(51,51,51)\"},\"error_y\":{\"color\":\"rgb(51,51,51)\"},\"marker\":{\"line\":{\"color\":\"rgb(237,237,237)\",\"width\":0.5},\"pattern\":{\"fillmode\":\"overlay\",\"size\":10,\"solidity\":0.2}},\"type\":\"bar\"}],\"carpet\":[{\"aaxis\":{\"endlinecolor\":\"rgb(51,51,51)\",\"gridcolor\":\"white\",\"linecolor\":\"white\",\"minorgridcolor\":\"white\",\"startlinecolor\":\"rgb(51,51,51)\"},\"baxis\":{\"endlinecolor\":\"rgb(51,51,51)\",\"gridcolor\":\"white\",\"linecolor\":\"white\",\"minorgridcolor\":\"white\",\"startlinecolor\":\"rgb(51,51,51)\"},\"type\":\"carpet\"}],\"choropleth\":[{\"colorbar\":{\"outlinewidth\":0,\"tickcolor\":\"rgb(237,237,237)\",\"ticklen\":6,\"ticks\":\"inside\"},\"type\":\"choropleth\"}],\"contourcarpet\":[{\"colorbar\":{\"outlinewidth\":0,\"tickcolor\":\"rgb(237,237,237)\",\"ticklen\":6,\"ticks\":\"inside\"},\"type\":\"contourcarpet\"}],\"contour\":[{\"colorbar\":{\"outlinewidth\":0,\"tickcolor\":\"rgb(237,237,237)\",\"ticklen\":6,\"ticks\":\"inside\"},\"colorscale\":[[0,\"rgb(20,44,66)\"],[1,\"rgb(90,179,244)\"]],\"type\":\"contour\"}],\"heatmapgl\":[{\"colorbar\":{\"outlinewidth\":0,\"tickcolor\":\"rgb(237,237,237)\",\"ticklen\":6,\"ticks\":\"inside\"},\"colorscale\":[[0,\"rgb(20,44,66)\"],[1,\"rgb(90,179,244)\"]],\"type\":\"heatmapgl\"}],\"heatmap\":[{\"colorbar\":{\"outlinewidth\":0,\"tickcolor\":\"rgb(237,237,237)\",\"ticklen\":6,\"ticks\":\"inside\"},\"colorscale\":[[0,\"rgb(20,44,66)\"],[1,\"rgb(90,179,244)\"]],\"type\":\"heatmap\"}],\"histogram2dcontour\":[{\"colorbar\":{\"outlinewidth\":0,\"tickcolor\":\"rgb(237,237,237)\",\"ticklen\":6,\"ticks\":\"inside\"},\"colorscale\":[[0,\"rgb(20,44,66)\"],[1,\"rgb(90,179,244)\"]],\"type\":\"histogram2dcontour\"}],\"histogram2d\":[{\"colorbar\":{\"outlinewidth\":0,\"tickcolor\":\"rgb(237,237,237)\",\"ticklen\":6,\"ticks\":\"inside\"},\"colorscale\":[[0,\"rgb(20,44,66)\"],[1,\"rgb(90,179,244)\"]],\"type\":\"histogram2d\"}],\"histogram\":[{\"marker\":{\"pattern\":{\"fillmode\":\"overlay\",\"size\":10,\"solidity\":0.2}},\"type\":\"histogram\"}],\"mesh3d\":[{\"colorbar\":{\"outlinewidth\":0,\"tickcolor\":\"rgb(237,237,237)\",\"ticklen\":6,\"ticks\":\"inside\"},\"type\":\"mesh3d\"}],\"parcoords\":[{\"line\":{\"colorbar\":{\"outlinewidth\":0,\"tickcolor\":\"rgb(237,237,237)\",\"ticklen\":6,\"ticks\":\"inside\"}},\"type\":\"parcoords\"}],\"pie\":[{\"automargin\":true,\"type\":\"pie\"}],\"scatter3d\":[{\"line\":{\"colorbar\":{\"outlinewidth\":0,\"tickcolor\":\"rgb(237,237,237)\",\"ticklen\":6,\"ticks\":\"inside\"}},\"marker\":{\"colorbar\":{\"outlinewidth\":0,\"tickcolor\":\"rgb(237,237,237)\",\"ticklen\":6,\"ticks\":\"inside\"}},\"type\":\"scatter3d\"}],\"scattercarpet\":[{\"marker\":{\"colorbar\":{\"outlinewidth\":0,\"tickcolor\":\"rgb(237,237,237)\",\"ticklen\":6,\"ticks\":\"inside\"}},\"type\":\"scattercarpet\"}],\"scattergeo\":[{\"marker\":{\"colorbar\":{\"outlinewidth\":0,\"tickcolor\":\"rgb(237,237,237)\",\"ticklen\":6,\"ticks\":\"inside\"}},\"type\":\"scattergeo\"}],\"scattergl\":[{\"marker\":{\"colorbar\":{\"outlinewidth\":0,\"tickcolor\":\"rgb(237,237,237)\",\"ticklen\":6,\"ticks\":\"inside\"}},\"type\":\"scattergl\"}],\"scattermapbox\":[{\"marker\":{\"colorbar\":{\"outlinewidth\":0,\"tickcolor\":\"rgb(237,237,237)\",\"ticklen\":6,\"ticks\":\"inside\"}},\"type\":\"scattermapbox\"}],\"scatterpolargl\":[{\"marker\":{\"colorbar\":{\"outlinewidth\":0,\"tickcolor\":\"rgb(237,237,237)\",\"ticklen\":6,\"ticks\":\"inside\"}},\"type\":\"scatterpolargl\"}],\"scatterpolar\":[{\"marker\":{\"colorbar\":{\"outlinewidth\":0,\"tickcolor\":\"rgb(237,237,237)\",\"ticklen\":6,\"ticks\":\"inside\"}},\"type\":\"scatterpolar\"}],\"scatter\":[{\"marker\":{\"colorbar\":{\"outlinewidth\":0,\"tickcolor\":\"rgb(237,237,237)\",\"ticklen\":6,\"ticks\":\"inside\"}},\"type\":\"scatter\"}],\"scatterternary\":[{\"marker\":{\"colorbar\":{\"outlinewidth\":0,\"tickcolor\":\"rgb(237,237,237)\",\"ticklen\":6,\"ticks\":\"inside\"}},\"type\":\"scatterternary\"}],\"surface\":[{\"colorbar\":{\"outlinewidth\":0,\"tickcolor\":\"rgb(237,237,237)\",\"ticklen\":6,\"ticks\":\"inside\"},\"colorscale\":[[0,\"rgb(20,44,66)\"],[1,\"rgb(90,179,244)\"]],\"type\":\"surface\"}],\"table\":[{\"cells\":{\"fill\":{\"color\":\"rgb(237,237,237)\"},\"line\":{\"color\":\"white\"}},\"header\":{\"fill\":{\"color\":\"rgb(217,217,217)\"},\"line\":{\"color\":\"white\"}},\"type\":\"table\"}]},\"layout\":{\"annotationdefaults\":{\"arrowhead\":0,\"arrowwidth\":1},\"autotypenumbers\":\"strict\",\"coloraxis\":{\"colorbar\":{\"outlinewidth\":0,\"tickcolor\":\"rgb(237,237,237)\",\"ticklen\":6,\"ticks\":\"inside\"}},\"colorscale\":{\"sequential\":[[0,\"rgb(20,44,66)\"],[1,\"rgb(90,179,244)\"]],\"sequentialminus\":[[0,\"rgb(20,44,66)\"],[1,\"rgb(90,179,244)\"]]},\"colorway\":[\"#F8766D\",\"#A3A500\",\"#00BF7D\",\"#00B0F6\",\"#E76BF3\"],\"font\":{\"color\":\"rgb(51,51,51)\"},\"geo\":{\"bgcolor\":\"white\",\"lakecolor\":\"white\",\"landcolor\":\"rgb(237,237,237)\",\"showlakes\":true,\"showland\":true,\"subunitcolor\":\"white\"},\"hoverlabel\":{\"align\":\"left\"},\"hovermode\":\"closest\",\"paper_bgcolor\":\"white\",\"plot_bgcolor\":\"rgb(237,237,237)\",\"polar\":{\"angularaxis\":{\"gridcolor\":\"white\",\"linecolor\":\"white\",\"showgrid\":true,\"tickcolor\":\"rgb(51,51,51)\",\"ticks\":\"outside\"},\"bgcolor\":\"rgb(237,237,237)\",\"radialaxis\":{\"gridcolor\":\"white\",\"linecolor\":\"white\",\"showgrid\":true,\"tickcolor\":\"rgb(51,51,51)\",\"ticks\":\"outside\"}},\"scene\":{\"xaxis\":{\"backgroundcolor\":\"rgb(237,237,237)\",\"gridcolor\":\"white\",\"gridwidth\":2,\"linecolor\":\"white\",\"showbackground\":true,\"showgrid\":true,\"tickcolor\":\"rgb(51,51,51)\",\"ticks\":\"outside\",\"zerolinecolor\":\"white\"},\"yaxis\":{\"backgroundcolor\":\"rgb(237,237,237)\",\"gridcolor\":\"white\",\"gridwidth\":2,\"linecolor\":\"white\",\"showbackground\":true,\"showgrid\":true,\"tickcolor\":\"rgb(51,51,51)\",\"ticks\":\"outside\",\"zerolinecolor\":\"white\"},\"zaxis\":{\"backgroundcolor\":\"rgb(237,237,237)\",\"gridcolor\":\"white\",\"gridwidth\":2,\"linecolor\":\"white\",\"showbackground\":true,\"showgrid\":true,\"tickcolor\":\"rgb(51,51,51)\",\"ticks\":\"outside\",\"zerolinecolor\":\"white\"}},\"shapedefaults\":{\"fillcolor\":\"black\",\"line\":{\"width\":0},\"opacity\":0.3},\"ternary\":{\"aaxis\":{\"gridcolor\":\"white\",\"linecolor\":\"white\",\"showgrid\":true,\"tickcolor\":\"rgb(51,51,51)\",\"ticks\":\"outside\"},\"baxis\":{\"gridcolor\":\"white\",\"linecolor\":\"white\",\"showgrid\":true,\"tickcolor\":\"rgb(51,51,51)\",\"ticks\":\"outside\"},\"bgcolor\":\"rgb(237,237,237)\",\"caxis\":{\"gridcolor\":\"white\",\"linecolor\":\"white\",\"showgrid\":true,\"tickcolor\":\"rgb(51,51,51)\",\"ticks\":\"outside\"}},\"xaxis\":{\"automargin\":true,\"gridcolor\":\"white\",\"linecolor\":\"white\",\"showgrid\":true,\"tickcolor\":\"rgb(51,51,51)\",\"ticks\":\"outside\",\"title\":{\"standoff\":15},\"zerolinecolor\":\"white\"},\"yaxis\":{\"automargin\":true,\"gridcolor\":\"white\",\"linecolor\":\"white\",\"showgrid\":true,\"tickcolor\":\"rgb(51,51,51)\",\"ticks\":\"outside\",\"title\":{\"standoff\":15},\"zerolinecolor\":\"white\"}}},\"showlegend\":true},                        {\"responsive\": true}                    ).then(function(){\n",
              "                            \n",
              "var gd = document.getElementById('4bdbe0bf-5e5d-4f5a-a8a0-382575577053');\n",
              "var x = new MutationObserver(function (mutations, observer) {{\n",
              "        var display = window.getComputedStyle(gd).display;\n",
              "        if (!display || display === 'none') {{\n",
              "            console.log([gd, 'removed!']);\n",
              "            Plotly.purge(gd);\n",
              "            observer.disconnect();\n",
              "        }}\n",
              "}});\n",
              "\n",
              "// Listen for the removal of the full notebook cells\n",
              "var notebookContainer = gd.closest('#notebook-container');\n",
              "if (notebookContainer) {{\n",
              "    x.observe(notebookContainer, {childList: true});\n",
              "}}\n",
              "\n",
              "// Listen for the clearing of the current output cell\n",
              "var outputEl = gd.closest('.output');\n",
              "if (outputEl) {{\n",
              "    x.observe(outputEl, {childList: true});\n",
              "}}\n",
              "\n",
              "                        })                };                            </script>        </div>\n",
              "</body>\n",
              "</html>"
            ]
          },
          "metadata": {}
        },
        {
          "output_type": "stream",
          "name": "stdout",
          "text": [
            "Residual Sigma 2: 0.9781044589801151\n"
          ]
        }
      ]
    },
    {
      "cell_type": "code",
      "metadata": {
        "colab": {
          "base_uri": "https://localhost:8080/",
          "height": 1000
        },
        "id": "If0RILhQcxMk",
        "outputId": "ca2dbd85-868d-4e41-aea6-a34668f2e27b"
      },
      "source": [
        "plot_predictions(model2c)"
      ],
      "execution_count": 49,
      "outputs": [
        {
          "output_type": "display_data",
          "data": {
            "text/html": [
              "<html>\n",
              "<head><meta charset=\"utf-8\" /></head>\n",
              "<body>\n",
              "    <div>            <script src=\"https://cdnjs.cloudflare.com/ajax/libs/mathjax/2.7.5/MathJax.js?config=TeX-AMS-MML_SVG\"></script><script type=\"text/javascript\">if (window.MathJax) {MathJax.Hub.Config({SVG: {font: \"STIX-Web\"}});}</script>                <script type=\"text/javascript\">window.PlotlyConfig = {MathJaxConfig: 'local'};</script>\n",
              "        <script src=\"https://cdn.plot.ly/plotly-2.6.3.min.js\"></script>                <div id=\"a704ab73-b762-4518-b4e2-c854857957a5\" class=\"plotly-graph-div\" style=\"height:525px; width:100%;\"></div>            <script type=\"text/javascript\">                                    window.PLOTLYENV=window.PLOTLYENV || {};                                    if (document.getElementById(\"a704ab73-b762-4518-b4e2-c854857957a5\")) {                    Plotly.newPlot(                        \"a704ab73-b762-4518-b4e2-c854857957a5\",                        [{\"line\":{\"color\":\"#1f77b4\"},\"marker\":{\"size\":5},\"mode\":\"lines+markers\",\"name\":\"Forecast | ARIMA\",\"showlegend\":true,\"x\":[310,311,312,313,314,315,316,317,318,319,320,321,322,323,324,325,326,327,328,329,330,331,332,333,334,335,336,337,338,339],\"y\":[192.5592,192.6168,192.6746,192.7326,192.7908,192.8491,192.9077,192.9664,193.0253,193.0844,193.1437,193.2031,193.2628,193.3226,193.3826,193.4428,193.5032,193.5638,193.6245,193.6855,193.7466,193.8079,193.8694,193.9311,193.993,194.055,194.1173,194.1797,194.2423,194.3051],\"type\":\"scatter\"},{\"line\":{\"width\":0},\"marker\":{\"color\":\"#68BBE3\"},\"mode\":\"lines\",\"name\":\"Lower Interval\",\"showlegend\":false,\"x\":[310,311,312,313,314,315,316,317,318,319,320,321,322,323,324,325,326,327,328,329,330,331,332,333,334,335,336,337,338,339],\"y\":[190.6208,189.8755,189.3172,188.8558,188.4564,188.1011,187.7792,187.4838,187.2101,186.9547,186.7147,186.4883,186.2738,186.0698,185.8753,185.6893,185.511,185.3399,185.1753,185.0168,184.8638,184.7161,184.5732,184.435,184.301,184.1712,184.0451,183.9227,183.8038,183.6881],\"type\":\"scatter\"},{\"fill\":\"tonexty\",\"fillcolor\":\"rgba(104,187,227,0.5)\",\"line\":{\"width\":0},\"marker\":{\"color\":\"#68BBE3\"},\"mode\":\"lines\",\"name\":\"Prediction Interval | ARIMA\",\"showlegend\":true,\"x\":[310,311,312,313,314,315,316,317,318,319,320,321,322,323,324,325,326,327,328,329,330,331,332,333,334,335,336,337,338,339],\"y\":[194.4976,195.3581,196.032,196.6094,197.1251,197.5972,198.0361,198.449,198.8404,199.2141,199.5726,199.9179,200.2517,200.5754,200.89,201.1964,201.4954,201.7877,202.0738,202.3542,202.6294,202.8998,203.1656,203.4272,203.6849,203.9389,204.1894,204.4367,204.6809,204.9221],\"type\":\"scatter\"},{\"marker\":{\"color\":\"#3f3f3f\",\"size\":5},\"mode\":\"lines+markers\",\"name\":\"Original\",\"showlegend\":true,\"x\":[0,1,2,3,4,5,6,7,8,9,10,11,12,13,14,15,16,17,18,19,20,21,22,23,24,25,26,27,28,29,30,31,32,33,34,35,36,37,38,39,40,41,42,43,44,45,46,47,48,49,50,51,52,53,54,55,56,57,58,59,60,61,62,63,64,65,66,67,68,69,70,71,72,73,74,75,76,77,78,79,80,81,82,83,84,85,86,87,88,89,90,91,92,93,94,95,96,97,98,99,100,101,102,103,104,105,106,107,108,109,110,111,112,113,114,115,116,117,118,119,120,121,122,123,124,125,126,127,128,129,130,131,132,133,134,135,136,137,138,139,140,141,142,143,144,145,146,147,148,149,150,151,152,153,154,155,156,157,158,159,160,161,162,163,164,165,166,167,168,169,170,171,172,173,174,175,176,177,178,179,180,181,182,183,184,185,186,187,188,189,190,191,192,193,194,195,196,197,198,199,200,201,202,203,204,205,206,207,208,209,210,211,212,213,214,215,216,217,218,219,220,221,222,223,224,225,226,227,228,229,230,231,232,233,234,235,236,237,238,239,240,241,242,243,244,245,246,247,248,249,250,251,252,253,254,255,256,257,258,259,260,261,262,263,264,265,266,267,268,269,270,271,272,273,274,275,276,277,278,279,280,281,282,283,284,285,286,287,288,289,290,291,292,293,294,295,296,297,298,299,300,301,302,303,304,305,306,307,308,309,310,311,312,313,314,315,316,317,318,319,320,321,322,323,324,325,326,327,328,329,330,331,332,333,334,335,336,337,338,339],\"y\":[186.268370014241,186.31048588738602,185.399564238833,185.557593011237,184.903008367318,186.670295636691,187.38700311270802,188.29717734220299,188.68136270003004,190.36353878054902,189.7278023266,189.26615759624,190.698439834781,190.04774348147097,189.840362737869,189.44755480842701,189.127561939879,188.84844863690202,189.34263696817,189.1653064859,188.659349023786,190.002387848956,189.78780844041,189.608251910366,189.508061169153,190.220727476204,190.14716307207803,190.109528900611,189.427868421855,189.10359814960898,189.163758590043,188.574864103783,189.10636029641603,187.58796621462898,187.894524075419,186.358074251881,186.057098125045,185.52881822060002,184.876723439919,184.819826662071,182.905467236391,184.08205054841,182.417078112198,181.953547710726,180.837627605683,180.086808604489,182.173975150118,182.191370769811,180.90507023937698,179.264464704958,179.714651806231,179.69609197351602,179.37802359897202,178.44866145151798,176.961201141377,175.88600884476102,176.886037648475,176.264770953678,174.880344106294,176.749634728717,177.17473510608997,176.936088005177,177.994571053886,178.880993705261,178.26175065702998,180.46785312157,180.21282609142898,178.788331441216,178.643931839262,178.851470178494,181.159448577554,181.265250945448,181.72224975087101,181.645096815514,181.311095973148,181.276369944837,182.064009550467,184.139254559119,185.166646997883,186.37455539626998,185.143231974711,186.12712754476502,186.34705234842602,184.879802319333,185.400825061981,185.24207045726502,186.706657769235,185.940575769631,185.510364015702,184.584254518325,184.407150556888,184.80916233637402,184.077414163255,184.907787331236,183.699704544932,182.65172013212398,184.092877838968,183.07703037366403,183.48900508598098,183.10792903487203,183.517330874523,185.206204160727,186.79279259416901,186.461884793487,184.176649258194,186.674310848028,187.341377014794,187.88270435075802,187.869304827612,188.379413250565,188.21503741879502,188.635732062049,188.23548531807202,186.86527744052398,187.85311570797901,189.372860733479,189.064120164253,187.810830408645,188.45307171432302,188.40836257742902,186.67514417060397,186.677276030285,186.046975696357,185.706007116496,184.54943475386003,186.352576661778,186.021444625386,184.415931213133,184.61312465187302,184.876300298278,183.890473597869,181.00155292619,180.361071223624,180.93157885954497,180.871855583502,180.773676839497,181.334497568117,180.148038929538,181.244815973812,181.23947194553398,181.94678261293203,182.980890347669,183.204370762585,182.32566314971902,183.48862770568599,181.4884627609,180.94367202089902,180.68800131174197,180.521880274977,181.54234418376097,181.678566076864,182.085733680287,182.016078867275,181.76841452565498,182.463965332275,183.610193689491,181.207097474599,181.779837029845,182.154561436623,181.72929371506697,182.680306522644,182.29106934092601,182.00673867912602,182.864148457206,184.58377575632701,184.85383065726398,184.43164664747601,183.242533352617,182.911500373737,181.97167104722698,181.712738464109,182.10711763233002,181.255260540306,183.90442742140098,184.060439097066,185.190646364521,182.90152238468102,183.64252354187698,182.32627838142503,183.246082059034,183.644212214486,183.236683635216,184.56094226539398,183.859710596147,183.279096291906,182.278024110881,181.609845504127,182.5550304575,182.98873260704602,183.99389182472302,183.603773160669,183.980143452444,184.22430837693,182.798051034548,184.576480322023,184.710927982957,185.476526982115,186.431663659024,186.38109795758098,186.075282537814,186.96895624023998,185.921658091179,187.892995477403,187.509363371114,189.163508673389,190.67572136733997,190.758687100926,191.325908015777,190.30135953624298,190.62436603926497,191.667978497622,191.767056984519,191.312920075364,190.657138222914,190.621215800291,191.690377260968,191.206402330667,191.08539221933898,189.791252215519,190.285565051534,191.59346657164798,193.09050758105,193.90521031194803,192.035421521745,192.51745102586898,192.97358662917,192.62018634334,192.790675814288,191.92663986016103,192.60587063417702,192.278769619524,190.70968743438,190.342236678209,191.70667160727902,191.372390242548,192.105140284757,193.05172592495498,193.05612462928102,192.703802323732,192.17410681459802,192.913696040173,191.85023862468998,192.096449468226,191.80695010166198,189.54206074517398,188.133210289101,189.04922961789399,188.857950667358,189.661233883492,191.548708346801,193.02258952791001,193.69985802022302,194.079820706789,193.887022280332,195.464914075237,196.061148184555,194.887571243684,194.731928708793,192.81301888852298,192.61776004241298,190.025432372467,191.339434539665,190.703891538633,190.273912699939,190.104594367637,190.716812541626,191.395152718848,191.96310469132,191.390562087394,190.027270831116,189.638548586778,189.91646271922798,189.093381597656,189.024540663178,187.856878337048,187.848569322832,187.97742472443,187.831549095969,187.66763813923302,189.431190142018,190.193776654436,191.30520773516702,190.382000782337,190.546342620765,191.70116780786202,191.64464638333598,189.515285735101,189.8601314972,187.95517605161498,187.144005898475,188.46801021977402,189.083647069077,190.17531602461202,190.48192088612598,190.371762123643,189.44744935051602,191.040363104235,191.08537370235697,190.37024530168898,191.235468401406,192.30990935968399,194.20556413388303,193.602566830277,193.211699009554,192.795476978024,192.41981955520401,192.053188609501,191.7575111568,193.199331567,192.501793275087,192.113625769166,192.76616222133703,193.890934667873,193.11882386484902,192.61073764871003,193.13435823920798,194.152112465746,193.900947877658,192.47095443027,194.18007546237098,195.615145034682,194.904773888832,194.839706315177,193.08023757981098,193.64996055163002,195.262307349832,193.625026702727,192.845458189525,192.204281255775,191.523149862204,189.489864266586,189.990827825834,188.459029685868,188.43403204659,189.027016767615,188.82882134612998,189.720829738604,189.695114667686,189.04745421709998,189.693813632135],\"type\":\"scatter\"}],                        {\"title\":{\"text\":\"Actual vs. 'Out-of-Sample' Forecast | x\"},\"xaxis\":{\"title\":{\"text\":\"Time\"}},\"yaxis\":{\"title\":{\"text\":\"Values\"}},\"template\":{\"data\":{\"barpolar\":[{\"marker\":{\"line\":{\"color\":\"rgb(237,237,237)\",\"width\":0.5},\"pattern\":{\"fillmode\":\"overlay\",\"size\":10,\"solidity\":0.2}},\"type\":\"barpolar\"}],\"bar\":[{\"error_x\":{\"color\":\"rgb(51,51,51)\"},\"error_y\":{\"color\":\"rgb(51,51,51)\"},\"marker\":{\"line\":{\"color\":\"rgb(237,237,237)\",\"width\":0.5},\"pattern\":{\"fillmode\":\"overlay\",\"size\":10,\"solidity\":0.2}},\"type\":\"bar\"}],\"carpet\":[{\"aaxis\":{\"endlinecolor\":\"rgb(51,51,51)\",\"gridcolor\":\"white\",\"linecolor\":\"white\",\"minorgridcolor\":\"white\",\"startlinecolor\":\"rgb(51,51,51)\"},\"baxis\":{\"endlinecolor\":\"rgb(51,51,51)\",\"gridcolor\":\"white\",\"linecolor\":\"white\",\"minorgridcolor\":\"white\",\"startlinecolor\":\"rgb(51,51,51)\"},\"type\":\"carpet\"}],\"choropleth\":[{\"colorbar\":{\"outlinewidth\":0,\"tickcolor\":\"rgb(237,237,237)\",\"ticklen\":6,\"ticks\":\"inside\"},\"type\":\"choropleth\"}],\"contourcarpet\":[{\"colorbar\":{\"outlinewidth\":0,\"tickcolor\":\"rgb(237,237,237)\",\"ticklen\":6,\"ticks\":\"inside\"},\"type\":\"contourcarpet\"}],\"contour\":[{\"colorbar\":{\"outlinewidth\":0,\"tickcolor\":\"rgb(237,237,237)\",\"ticklen\":6,\"ticks\":\"inside\"},\"colorscale\":[[0,\"rgb(20,44,66)\"],[1,\"rgb(90,179,244)\"]],\"type\":\"contour\"}],\"heatmapgl\":[{\"colorbar\":{\"outlinewidth\":0,\"tickcolor\":\"rgb(237,237,237)\",\"ticklen\":6,\"ticks\":\"inside\"},\"colorscale\":[[0,\"rgb(20,44,66)\"],[1,\"rgb(90,179,244)\"]],\"type\":\"heatmapgl\"}],\"heatmap\":[{\"colorbar\":{\"outlinewidth\":0,\"tickcolor\":\"rgb(237,237,237)\",\"ticklen\":6,\"ticks\":\"inside\"},\"colorscale\":[[0,\"rgb(20,44,66)\"],[1,\"rgb(90,179,244)\"]],\"type\":\"heatmap\"}],\"histogram2dcontour\":[{\"colorbar\":{\"outlinewidth\":0,\"tickcolor\":\"rgb(237,237,237)\",\"ticklen\":6,\"ticks\":\"inside\"},\"colorscale\":[[0,\"rgb(20,44,66)\"],[1,\"rgb(90,179,244)\"]],\"type\":\"histogram2dcontour\"}],\"histogram2d\":[{\"colorbar\":{\"outlinewidth\":0,\"tickcolor\":\"rgb(237,237,237)\",\"ticklen\":6,\"ticks\":\"inside\"},\"colorscale\":[[0,\"rgb(20,44,66)\"],[1,\"rgb(90,179,244)\"]],\"type\":\"histogram2d\"}],\"histogram\":[{\"marker\":{\"pattern\":{\"fillmode\":\"overlay\",\"size\":10,\"solidity\":0.2}},\"type\":\"histogram\"}],\"mesh3d\":[{\"colorbar\":{\"outlinewidth\":0,\"tickcolor\":\"rgb(237,237,237)\",\"ticklen\":6,\"ticks\":\"inside\"},\"type\":\"mesh3d\"}],\"parcoords\":[{\"line\":{\"colorbar\":{\"outlinewidth\":0,\"tickcolor\":\"rgb(237,237,237)\",\"ticklen\":6,\"ticks\":\"inside\"}},\"type\":\"parcoords\"}],\"pie\":[{\"automargin\":true,\"type\":\"pie\"}],\"scatter3d\":[{\"line\":{\"colorbar\":{\"outlinewidth\":0,\"tickcolor\":\"rgb(237,237,237)\",\"ticklen\":6,\"ticks\":\"inside\"}},\"marker\":{\"colorbar\":{\"outlinewidth\":0,\"tickcolor\":\"rgb(237,237,237)\",\"ticklen\":6,\"ticks\":\"inside\"}},\"type\":\"scatter3d\"}],\"scattercarpet\":[{\"marker\":{\"colorbar\":{\"outlinewidth\":0,\"tickcolor\":\"rgb(237,237,237)\",\"ticklen\":6,\"ticks\":\"inside\"}},\"type\":\"scattercarpet\"}],\"scattergeo\":[{\"marker\":{\"colorbar\":{\"outlinewidth\":0,\"tickcolor\":\"rgb(237,237,237)\",\"ticklen\":6,\"ticks\":\"inside\"}},\"type\":\"scattergeo\"}],\"scattergl\":[{\"marker\":{\"colorbar\":{\"outlinewidth\":0,\"tickcolor\":\"rgb(237,237,237)\",\"ticklen\":6,\"ticks\":\"inside\"}},\"type\":\"scattergl\"}],\"scattermapbox\":[{\"marker\":{\"colorbar\":{\"outlinewidth\":0,\"tickcolor\":\"rgb(237,237,237)\",\"ticklen\":6,\"ticks\":\"inside\"}},\"type\":\"scattermapbox\"}],\"scatterpolargl\":[{\"marker\":{\"colorbar\":{\"outlinewidth\":0,\"tickcolor\":\"rgb(237,237,237)\",\"ticklen\":6,\"ticks\":\"inside\"}},\"type\":\"scatterpolargl\"}],\"scatterpolar\":[{\"marker\":{\"colorbar\":{\"outlinewidth\":0,\"tickcolor\":\"rgb(237,237,237)\",\"ticklen\":6,\"ticks\":\"inside\"}},\"type\":\"scatterpolar\"}],\"scatter\":[{\"marker\":{\"colorbar\":{\"outlinewidth\":0,\"tickcolor\":\"rgb(237,237,237)\",\"ticklen\":6,\"ticks\":\"inside\"}},\"type\":\"scatter\"}],\"scatterternary\":[{\"marker\":{\"colorbar\":{\"outlinewidth\":0,\"tickcolor\":\"rgb(237,237,237)\",\"ticklen\":6,\"ticks\":\"inside\"}},\"type\":\"scatterternary\"}],\"surface\":[{\"colorbar\":{\"outlinewidth\":0,\"tickcolor\":\"rgb(237,237,237)\",\"ticklen\":6,\"ticks\":\"inside\"},\"colorscale\":[[0,\"rgb(20,44,66)\"],[1,\"rgb(90,179,244)\"]],\"type\":\"surface\"}],\"table\":[{\"cells\":{\"fill\":{\"color\":\"rgb(237,237,237)\"},\"line\":{\"color\":\"white\"}},\"header\":{\"fill\":{\"color\":\"rgb(217,217,217)\"},\"line\":{\"color\":\"white\"}},\"type\":\"table\"}]},\"layout\":{\"annotationdefaults\":{\"arrowhead\":0,\"arrowwidth\":1},\"autotypenumbers\":\"strict\",\"coloraxis\":{\"colorbar\":{\"outlinewidth\":0,\"tickcolor\":\"rgb(237,237,237)\",\"ticklen\":6,\"ticks\":\"inside\"}},\"colorscale\":{\"sequential\":[[0,\"rgb(20,44,66)\"],[1,\"rgb(90,179,244)\"]],\"sequentialminus\":[[0,\"rgb(20,44,66)\"],[1,\"rgb(90,179,244)\"]]},\"colorway\":[\"#F8766D\",\"#A3A500\",\"#00BF7D\",\"#00B0F6\",\"#E76BF3\"],\"font\":{\"color\":\"rgb(51,51,51)\"},\"geo\":{\"bgcolor\":\"white\",\"lakecolor\":\"white\",\"landcolor\":\"rgb(237,237,237)\",\"showlakes\":true,\"showland\":true,\"subunitcolor\":\"white\"},\"hoverlabel\":{\"align\":\"left\"},\"hovermode\":\"closest\",\"paper_bgcolor\":\"white\",\"plot_bgcolor\":\"rgb(237,237,237)\",\"polar\":{\"angularaxis\":{\"gridcolor\":\"white\",\"linecolor\":\"white\",\"showgrid\":true,\"tickcolor\":\"rgb(51,51,51)\",\"ticks\":\"outside\"},\"bgcolor\":\"rgb(237,237,237)\",\"radialaxis\":{\"gridcolor\":\"white\",\"linecolor\":\"white\",\"showgrid\":true,\"tickcolor\":\"rgb(51,51,51)\",\"ticks\":\"outside\"}},\"scene\":{\"xaxis\":{\"backgroundcolor\":\"rgb(237,237,237)\",\"gridcolor\":\"white\",\"gridwidth\":2,\"linecolor\":\"white\",\"showbackground\":true,\"showgrid\":true,\"tickcolor\":\"rgb(51,51,51)\",\"ticks\":\"outside\",\"zerolinecolor\":\"white\"},\"yaxis\":{\"backgroundcolor\":\"rgb(237,237,237)\",\"gridcolor\":\"white\",\"gridwidth\":2,\"linecolor\":\"white\",\"showbackground\":true,\"showgrid\":true,\"tickcolor\":\"rgb(51,51,51)\",\"ticks\":\"outside\",\"zerolinecolor\":\"white\"},\"zaxis\":{\"backgroundcolor\":\"rgb(237,237,237)\",\"gridcolor\":\"white\",\"gridwidth\":2,\"linecolor\":\"white\",\"showbackground\":true,\"showgrid\":true,\"tickcolor\":\"rgb(51,51,51)\",\"ticks\":\"outside\",\"zerolinecolor\":\"white\"}},\"shapedefaults\":{\"fillcolor\":\"black\",\"line\":{\"width\":0},\"opacity\":0.3},\"ternary\":{\"aaxis\":{\"gridcolor\":\"white\",\"linecolor\":\"white\",\"showgrid\":true,\"tickcolor\":\"rgb(51,51,51)\",\"ticks\":\"outside\"},\"baxis\":{\"gridcolor\":\"white\",\"linecolor\":\"white\",\"showgrid\":true,\"tickcolor\":\"rgb(51,51,51)\",\"ticks\":\"outside\"},\"bgcolor\":\"rgb(237,237,237)\",\"caxis\":{\"gridcolor\":\"white\",\"linecolor\":\"white\",\"showgrid\":true,\"tickcolor\":\"rgb(51,51,51)\",\"ticks\":\"outside\"}},\"xaxis\":{\"automargin\":true,\"gridcolor\":\"white\",\"linecolor\":\"white\",\"showgrid\":true,\"tickcolor\":\"rgb(51,51,51)\",\"ticks\":\"outside\",\"title\":{\"standoff\":15},\"zerolinecolor\":\"white\"},\"yaxis\":{\"automargin\":true,\"gridcolor\":\"white\",\"linecolor\":\"white\",\"showgrid\":true,\"tickcolor\":\"rgb(51,51,51)\",\"ticks\":\"outside\",\"title\":{\"standoff\":15},\"zerolinecolor\":\"white\"}}},\"showlegend\":true},                        {\"responsive\": true}                    ).then(function(){\n",
              "                            \n",
              "var gd = document.getElementById('a704ab73-b762-4518-b4e2-c854857957a5');\n",
              "var x = new MutationObserver(function (mutations, observer) {{\n",
              "        var display = window.getComputedStyle(gd).display;\n",
              "        if (!display || display === 'none') {{\n",
              "            console.log([gd, 'removed!']);\n",
              "            Plotly.purge(gd);\n",
              "            observer.disconnect();\n",
              "        }}\n",
              "}});\n",
              "\n",
              "// Listen for the removal of the full notebook cells\n",
              "var notebookContainer = gd.closest('#notebook-container');\n",
              "if (notebookContainer) {{\n",
              "    x.observe(notebookContainer, {childList: true});\n",
              "}}\n",
              "\n",
              "// Listen for the clearing of the current output cell\n",
              "var outputEl = gd.closest('.output');\n",
              "if (outputEl) {{\n",
              "    x.observe(outputEl, {childList: true});\n",
              "}}\n",
              "\n",
              "                        })                };                            </script>        </div>\n",
              "</body>\n",
              "</html>"
            ]
          },
          "metadata": {}
        },
        {
          "output_type": "display_data",
          "data": {
            "text/html": [
              "<html>\n",
              "<head><meta charset=\"utf-8\" /></head>\n",
              "<body>\n",
              "    <div>            <script src=\"https://cdnjs.cloudflare.com/ajax/libs/mathjax/2.7.5/MathJax.js?config=TeX-AMS-MML_SVG\"></script><script type=\"text/javascript\">if (window.MathJax) {MathJax.Hub.Config({SVG: {font: \"STIX-Web\"}});}</script>                <script type=\"text/javascript\">window.PlotlyConfig = {MathJaxConfig: 'local'};</script>\n",
              "        <script src=\"https://cdn.plot.ly/plotly-2.6.3.min.js\"></script>                <div id=\"2fd6fc9a-2dc7-44f8-bca3-e493db564730\" class=\"plotly-graph-div\" style=\"height:525px; width:100%;\"></div>            <script type=\"text/javascript\">                                    window.PLOTLYENV=window.PLOTLYENV || {};                                    if (document.getElementById(\"2fd6fc9a-2dc7-44f8-bca3-e493db564730\")) {                    Plotly.newPlot(                        \"2fd6fc9a-2dc7-44f8-bca3-e493db564730\",                        [{\"line\":{\"color\":\"#1f77b4\"},\"marker\":{\"size\":5},\"mode\":\"lines+markers\",\"name\":\"Forecast | ARIMA\",\"showlegend\":true,\"x\":[0,1,2,3,4,5,6,7,8,9,10,11,12,13,14,15,16,17,18,19,20,21,22,23,24,25,26,27,28,29,30,31,32,33,34,35,36,37,38,39,40,41,42,43,44,45,46,47,48,49,50,51,52,53,54,55,56,57,58,59,60,61,62,63,64,65,66,67,68,69,70,71,72,73,74,75,76,77,78,79,80,81,82,83,84,85,86,87,88,89,90,91,92,93,94,95,96,97,98,99,100,101,102,103,104,105,106,107,108,109,110,111,112,113,114,115,116,117,118,119,120,121,122,123,124,125,126,127,128,129,130,131,132,133,134,135,136,137,138,139,140,141,142,143,144,145,146,147,148,149,150,151,152,153,154,155,156,157,158,159,160,161,162,163,164,165,166,167,168,169,170,171,172,173,174,175,176,177,178,179,180,181,182,183,184,185,186,187,188,189,190,191,192,193,194,195,196,197,198,199,200,201,202,203,204,205,206,207,208,209,210,211,212,213,214,215,216,217,218,219,220,221,222,223,224,225,226,227,228,229,230,231,232,233,234,235,236,237,238,239,240,241,242,243,244,245,246,247,248,249,250,251,252,253,254,255,256,257,258,259,260,261,262,263,264,265,266,267,268,269,270,271,272,273,274,275,276,277,278,279,280,281,282,283,284,285,286,287,288,289,290,291,292,293,294,295,296,297,298,299,300,301,302,303,304,305,306,307,308,309],\"y\":[null,186.2686,186.3109,185.4001,185.5583,184.9039,186.6714,187.3883,188.2987,188.683,190.3654,189.7298,189.2684,190.7008,190.0503,189.8431,189.4505,189.1307,188.8518,189.3462,189.169,188.6632,190.0065,189.7921,189.6127,189.5127,190.2255,190.1522,190.1147,189.4332,189.1092,189.1695,188.5808,189.1125,187.5943,187.901,186.3647,186.064,185.5359,184.8839,184.8272,182.9131,184.0898,182.425,181.9617,180.846,180.0953,182.1827,182.2003,180.9141,179.2737,179.7241,179.7057,179.3878,178.4587,176.9714,175.8964,176.8966,176.2755,174.8913,176.7607,177.186,176.9476,178.0062,178.8928,178.2738,180.4801,180.2252,178.8009,178.6567,178.8644,181.1726,181.2786,181.7358,181.6588,181.325,181.2904,182.0783,184.1537,185.1813,186.3894,185.1582,186.1423,186.3624,184.8954,185.4166,185.258,186.7228,185.9569,185.5269,184.6009,184.424,184.8262,184.0946,184.9252,183.7173,182.6695,184.1108,183.0952,183.5073,183.1265,183.536,185.2251,186.8119,186.4811,184.1961,186.6939,187.3612,187.9027,187.8895,188.3998,188.2356,188.6565,188.2564,186.8864,187.8744,189.3943,189.0858,187.8327,188.4751,188.4306,186.6976,186.6999,186.0698,185.729,184.5726,186.3759,186.045,184.4396,184.637,184.9004,183.9147,181.026,180.3857,180.9564,180.8969,180.7989,181.3599,180.1736,181.2706,181.2654,181.9729,183.0072,183.2309,182.3523,183.5155,181.5155,180.9709,180.7154,180.5495,181.5701,181.7065,182.1139,182.0444,181.7969,182.4927,183.6391,181.2362,181.8091,182.184,181.7589,182.7101,182.3211,182.0369,182.8945,184.6143,184.8846,184.4626,183.2737,182.9428,182.0032,181.7444,182.139,181.2873,183.9367,184.0929,185.2232,182.9343,183.6755,182.3594,183.2794,183.6777,183.2704,184.5948,183.8938,183.3134,182.3125,181.6445,182.5899,183.0237,184.0291,183.6392,184.0157,184.2601,182.834,184.6126,184.7472,185.513,186.4683,186.418,186.1123,187.0062,185.9591,187.9306,187.5472,189.2015,190.7139,190.797,191.3644,190.3401,190.6633,191.7071,191.8063,191.3524,190.6968,190.661,191.7304,191.2466,191.1258,189.8318,190.3263,191.6344,193.1316,193.9465,192.0769,192.5591,193.0155,192.6622,192.8329,191.9691,192.6485,192.3216,190.7527,190.3854,191.75,191.4159,192.1489,193.0956,193.1002,192.7481,192.2186,192.9583,191.8951,192.1415,191.8521,189.5874,188.1788,189.095,188.9039,189.7074,191.595,193.0691,193.7465,194.1267,193.9341,195.5122,196.1086,194.9352,194.7797,192.861,192.6659,190.0738,191.388,190.7526,190.3228,190.1537,190.7661,191.4446,192.0127,191.4404,190.0773,189.6887,189.9668,189.144,189.0753,187.9078,187.8997,188.0287,187.883,187.7193,189.4831,190.2458,191.3574,190.4344,190.599,191.754,191.6976,189.5685,189.9135,188.0087,187.1977,188.5219,189.1377,190.2296,190.5364,190.4264,189.5023,191.0954,191.1406,190.4256,191.291,192.3657,194.2615,193.6587,193.268,192.852,192.4765,192.1101,191.8146,193.2566],\"type\":\"scatter\"},{\"marker\":{\"color\":\"#3f3f3f\",\"size\":5},\"mode\":\"lines+markers\",\"name\":\"Original\",\"showlegend\":true,\"x\":[0,1,2,3,4,5,6,7,8,9,10,11,12,13,14,15,16,17,18,19,20,21,22,23,24,25,26,27,28,29,30,31,32,33,34,35,36,37,38,39,40,41,42,43,44,45,46,47,48,49,50,51,52,53,54,55,56,57,58,59,60,61,62,63,64,65,66,67,68,69,70,71,72,73,74,75,76,77,78,79,80,81,82,83,84,85,86,87,88,89,90,91,92,93,94,95,96,97,98,99,100,101,102,103,104,105,106,107,108,109,110,111,112,113,114,115,116,117,118,119,120,121,122,123,124,125,126,127,128,129,130,131,132,133,134,135,136,137,138,139,140,141,142,143,144,145,146,147,148,149,150,151,152,153,154,155,156,157,158,159,160,161,162,163,164,165,166,167,168,169,170,171,172,173,174,175,176,177,178,179,180,181,182,183,184,185,186,187,188,189,190,191,192,193,194,195,196,197,198,199,200,201,202,203,204,205,206,207,208,209,210,211,212,213,214,215,216,217,218,219,220,221,222,223,224,225,226,227,228,229,230,231,232,233,234,235,236,237,238,239,240,241,242,243,244,245,246,247,248,249,250,251,252,253,254,255,256,257,258,259,260,261,262,263,264,265,266,267,268,269,270,271,272,273,274,275,276,277,278,279,280,281,282,283,284,285,286,287,288,289,290,291,292,293,294,295,296,297,298,299,300,301,302,303,304,305,306,307,308,309,310,311,312,313,314,315,316,317,318,319,320,321,322,323,324,325,326,327,328,329,330,331,332,333,334,335,336,337,338,339],\"y\":[186.268370014241,186.31048588738602,185.399564238833,185.557593011237,184.903008367318,186.670295636691,187.38700311270802,188.29717734220299,188.68136270003004,190.36353878054902,189.7278023266,189.26615759624,190.698439834781,190.04774348147097,189.840362737869,189.44755480842701,189.127561939879,188.84844863690202,189.34263696817,189.1653064859,188.659349023786,190.002387848956,189.78780844041,189.608251910366,189.508061169153,190.220727476204,190.14716307207803,190.109528900611,189.427868421855,189.10359814960898,189.163758590043,188.574864103783,189.10636029641603,187.58796621462898,187.894524075419,186.358074251881,186.057098125045,185.52881822060002,184.876723439919,184.819826662071,182.905467236391,184.08205054841,182.417078112198,181.953547710726,180.837627605683,180.086808604489,182.173975150118,182.191370769811,180.90507023937698,179.264464704958,179.714651806231,179.69609197351602,179.37802359897202,178.44866145151798,176.961201141377,175.88600884476102,176.886037648475,176.264770953678,174.880344106294,176.749634728717,177.17473510608997,176.936088005177,177.994571053886,178.880993705261,178.26175065702998,180.46785312157,180.21282609142898,178.788331441216,178.643931839262,178.851470178494,181.159448577554,181.265250945448,181.72224975087101,181.645096815514,181.311095973148,181.276369944837,182.064009550467,184.139254559119,185.166646997883,186.37455539626998,185.143231974711,186.12712754476502,186.34705234842602,184.879802319333,185.400825061981,185.24207045726502,186.706657769235,185.940575769631,185.510364015702,184.584254518325,184.407150556888,184.80916233637402,184.077414163255,184.907787331236,183.699704544932,182.65172013212398,184.092877838968,183.07703037366403,183.48900508598098,183.10792903487203,183.517330874523,185.206204160727,186.79279259416901,186.461884793487,184.176649258194,186.674310848028,187.341377014794,187.88270435075802,187.869304827612,188.379413250565,188.21503741879502,188.635732062049,188.23548531807202,186.86527744052398,187.85311570797901,189.372860733479,189.064120164253,187.810830408645,188.45307171432302,188.40836257742902,186.67514417060397,186.677276030285,186.046975696357,185.706007116496,184.54943475386003,186.352576661778,186.021444625386,184.415931213133,184.61312465187302,184.876300298278,183.890473597869,181.00155292619,180.361071223624,180.93157885954497,180.871855583502,180.773676839497,181.334497568117,180.148038929538,181.244815973812,181.23947194553398,181.94678261293203,182.980890347669,183.204370762585,182.32566314971902,183.48862770568599,181.4884627609,180.94367202089902,180.68800131174197,180.521880274977,181.54234418376097,181.678566076864,182.085733680287,182.016078867275,181.76841452565498,182.463965332275,183.610193689491,181.207097474599,181.779837029845,182.154561436623,181.72929371506697,182.680306522644,182.29106934092601,182.00673867912602,182.864148457206,184.58377575632701,184.85383065726398,184.43164664747601,183.242533352617,182.911500373737,181.97167104722698,181.712738464109,182.10711763233002,181.255260540306,183.90442742140098,184.060439097066,185.190646364521,182.90152238468102,183.64252354187698,182.32627838142503,183.246082059034,183.644212214486,183.236683635216,184.56094226539398,183.859710596147,183.279096291906,182.278024110881,181.609845504127,182.5550304575,182.98873260704602,183.99389182472302,183.603773160669,183.980143452444,184.22430837693,182.798051034548,184.576480322023,184.710927982957,185.476526982115,186.431663659024,186.38109795758098,186.075282537814,186.96895624023998,185.921658091179,187.892995477403,187.509363371114,189.163508673389,190.67572136733997,190.758687100926,191.325908015777,190.30135953624298,190.62436603926497,191.667978497622,191.767056984519,191.312920075364,190.657138222914,190.621215800291,191.690377260968,191.206402330667,191.08539221933898,189.791252215519,190.285565051534,191.59346657164798,193.09050758105,193.90521031194803,192.035421521745,192.51745102586898,192.97358662917,192.62018634334,192.790675814288,191.92663986016103,192.60587063417702,192.278769619524,190.70968743438,190.342236678209,191.70667160727902,191.372390242548,192.105140284757,193.05172592495498,193.05612462928102,192.703802323732,192.17410681459802,192.913696040173,191.85023862468998,192.096449468226,191.80695010166198,189.54206074517398,188.133210289101,189.04922961789399,188.857950667358,189.661233883492,191.548708346801,193.02258952791001,193.69985802022302,194.079820706789,193.887022280332,195.464914075237,196.061148184555,194.887571243684,194.731928708793,192.81301888852298,192.61776004241298,190.025432372467,191.339434539665,190.703891538633,190.273912699939,190.104594367637,190.716812541626,191.395152718848,191.96310469132,191.390562087394,190.027270831116,189.638548586778,189.91646271922798,189.093381597656,189.024540663178,187.856878337048,187.848569322832,187.97742472443,187.831549095969,187.66763813923302,189.431190142018,190.193776654436,191.30520773516702,190.382000782337,190.546342620765,191.70116780786202,191.64464638333598,189.515285735101,189.8601314972,187.95517605161498,187.144005898475,188.46801021977402,189.083647069077,190.17531602461202,190.48192088612598,190.371762123643,189.44744935051602,191.040363104235,191.08537370235697,190.37024530168898,191.235468401406,192.30990935968399,194.20556413388303,193.602566830277,193.211699009554,192.795476978024,192.41981955520401,192.053188609501,191.7575111568,193.199331567,192.501793275087,192.113625769166,192.76616222133703,193.890934667873,193.11882386484902,192.61073764871003,193.13435823920798,194.152112465746,193.900947877658,192.47095443027,194.18007546237098,195.615145034682,194.904773888832,194.839706315177,193.08023757981098,193.64996055163002,195.262307349832,193.625026702727,192.845458189525,192.204281255775,191.523149862204,189.489864266586,189.990827825834,188.459029685868,188.43403204659,189.027016767615,188.82882134612998,189.720829738604,189.695114667686,189.04745421709998,189.693813632135],\"type\":\"scatter\"}],                        {\"title\":{\"text\":\"Actual vs. 'In-Sample' Forecast | x\"},\"xaxis\":{\"title\":{\"text\":\"Time\"}},\"yaxis\":{\"title\":{\"text\":\"Values\"}},\"template\":{\"data\":{\"barpolar\":[{\"marker\":{\"line\":{\"color\":\"rgb(237,237,237)\",\"width\":0.5},\"pattern\":{\"fillmode\":\"overlay\",\"size\":10,\"solidity\":0.2}},\"type\":\"barpolar\"}],\"bar\":[{\"error_x\":{\"color\":\"rgb(51,51,51)\"},\"error_y\":{\"color\":\"rgb(51,51,51)\"},\"marker\":{\"line\":{\"color\":\"rgb(237,237,237)\",\"width\":0.5},\"pattern\":{\"fillmode\":\"overlay\",\"size\":10,\"solidity\":0.2}},\"type\":\"bar\"}],\"carpet\":[{\"aaxis\":{\"endlinecolor\":\"rgb(51,51,51)\",\"gridcolor\":\"white\",\"linecolor\":\"white\",\"minorgridcolor\":\"white\",\"startlinecolor\":\"rgb(51,51,51)\"},\"baxis\":{\"endlinecolor\":\"rgb(51,51,51)\",\"gridcolor\":\"white\",\"linecolor\":\"white\",\"minorgridcolor\":\"white\",\"startlinecolor\":\"rgb(51,51,51)\"},\"type\":\"carpet\"}],\"choropleth\":[{\"colorbar\":{\"outlinewidth\":0,\"tickcolor\":\"rgb(237,237,237)\",\"ticklen\":6,\"ticks\":\"inside\"},\"type\":\"choropleth\"}],\"contourcarpet\":[{\"colorbar\":{\"outlinewidth\":0,\"tickcolor\":\"rgb(237,237,237)\",\"ticklen\":6,\"ticks\":\"inside\"},\"type\":\"contourcarpet\"}],\"contour\":[{\"colorbar\":{\"outlinewidth\":0,\"tickcolor\":\"rgb(237,237,237)\",\"ticklen\":6,\"ticks\":\"inside\"},\"colorscale\":[[0,\"rgb(20,44,66)\"],[1,\"rgb(90,179,244)\"]],\"type\":\"contour\"}],\"heatmapgl\":[{\"colorbar\":{\"outlinewidth\":0,\"tickcolor\":\"rgb(237,237,237)\",\"ticklen\":6,\"ticks\":\"inside\"},\"colorscale\":[[0,\"rgb(20,44,66)\"],[1,\"rgb(90,179,244)\"]],\"type\":\"heatmapgl\"}],\"heatmap\":[{\"colorbar\":{\"outlinewidth\":0,\"tickcolor\":\"rgb(237,237,237)\",\"ticklen\":6,\"ticks\":\"inside\"},\"colorscale\":[[0,\"rgb(20,44,66)\"],[1,\"rgb(90,179,244)\"]],\"type\":\"heatmap\"}],\"histogram2dcontour\":[{\"colorbar\":{\"outlinewidth\":0,\"tickcolor\":\"rgb(237,237,237)\",\"ticklen\":6,\"ticks\":\"inside\"},\"colorscale\":[[0,\"rgb(20,44,66)\"],[1,\"rgb(90,179,244)\"]],\"type\":\"histogram2dcontour\"}],\"histogram2d\":[{\"colorbar\":{\"outlinewidth\":0,\"tickcolor\":\"rgb(237,237,237)\",\"ticklen\":6,\"ticks\":\"inside\"},\"colorscale\":[[0,\"rgb(20,44,66)\"],[1,\"rgb(90,179,244)\"]],\"type\":\"histogram2d\"}],\"histogram\":[{\"marker\":{\"pattern\":{\"fillmode\":\"overlay\",\"size\":10,\"solidity\":0.2}},\"type\":\"histogram\"}],\"mesh3d\":[{\"colorbar\":{\"outlinewidth\":0,\"tickcolor\":\"rgb(237,237,237)\",\"ticklen\":6,\"ticks\":\"inside\"},\"type\":\"mesh3d\"}],\"parcoords\":[{\"line\":{\"colorbar\":{\"outlinewidth\":0,\"tickcolor\":\"rgb(237,237,237)\",\"ticklen\":6,\"ticks\":\"inside\"}},\"type\":\"parcoords\"}],\"pie\":[{\"automargin\":true,\"type\":\"pie\"}],\"scatter3d\":[{\"line\":{\"colorbar\":{\"outlinewidth\":0,\"tickcolor\":\"rgb(237,237,237)\",\"ticklen\":6,\"ticks\":\"inside\"}},\"marker\":{\"colorbar\":{\"outlinewidth\":0,\"tickcolor\":\"rgb(237,237,237)\",\"ticklen\":6,\"ticks\":\"inside\"}},\"type\":\"scatter3d\"}],\"scattercarpet\":[{\"marker\":{\"colorbar\":{\"outlinewidth\":0,\"tickcolor\":\"rgb(237,237,237)\",\"ticklen\":6,\"ticks\":\"inside\"}},\"type\":\"scattercarpet\"}],\"scattergeo\":[{\"marker\":{\"colorbar\":{\"outlinewidth\":0,\"tickcolor\":\"rgb(237,237,237)\",\"ticklen\":6,\"ticks\":\"inside\"}},\"type\":\"scattergeo\"}],\"scattergl\":[{\"marker\":{\"colorbar\":{\"outlinewidth\":0,\"tickcolor\":\"rgb(237,237,237)\",\"ticklen\":6,\"ticks\":\"inside\"}},\"type\":\"scattergl\"}],\"scattermapbox\":[{\"marker\":{\"colorbar\":{\"outlinewidth\":0,\"tickcolor\":\"rgb(237,237,237)\",\"ticklen\":6,\"ticks\":\"inside\"}},\"type\":\"scattermapbox\"}],\"scatterpolargl\":[{\"marker\":{\"colorbar\":{\"outlinewidth\":0,\"tickcolor\":\"rgb(237,237,237)\",\"ticklen\":6,\"ticks\":\"inside\"}},\"type\":\"scatterpolargl\"}],\"scatterpolar\":[{\"marker\":{\"colorbar\":{\"outlinewidth\":0,\"tickcolor\":\"rgb(237,237,237)\",\"ticklen\":6,\"ticks\":\"inside\"}},\"type\":\"scatterpolar\"}],\"scatter\":[{\"marker\":{\"colorbar\":{\"outlinewidth\":0,\"tickcolor\":\"rgb(237,237,237)\",\"ticklen\":6,\"ticks\":\"inside\"}},\"type\":\"scatter\"}],\"scatterternary\":[{\"marker\":{\"colorbar\":{\"outlinewidth\":0,\"tickcolor\":\"rgb(237,237,237)\",\"ticklen\":6,\"ticks\":\"inside\"}},\"type\":\"scatterternary\"}],\"surface\":[{\"colorbar\":{\"outlinewidth\":0,\"tickcolor\":\"rgb(237,237,237)\",\"ticklen\":6,\"ticks\":\"inside\"},\"colorscale\":[[0,\"rgb(20,44,66)\"],[1,\"rgb(90,179,244)\"]],\"type\":\"surface\"}],\"table\":[{\"cells\":{\"fill\":{\"color\":\"rgb(237,237,237)\"},\"line\":{\"color\":\"white\"}},\"header\":{\"fill\":{\"color\":\"rgb(217,217,217)\"},\"line\":{\"color\":\"white\"}},\"type\":\"table\"}]},\"layout\":{\"annotationdefaults\":{\"arrowhead\":0,\"arrowwidth\":1},\"autotypenumbers\":\"strict\",\"coloraxis\":{\"colorbar\":{\"outlinewidth\":0,\"tickcolor\":\"rgb(237,237,237)\",\"ticklen\":6,\"ticks\":\"inside\"}},\"colorscale\":{\"sequential\":[[0,\"rgb(20,44,66)\"],[1,\"rgb(90,179,244)\"]],\"sequentialminus\":[[0,\"rgb(20,44,66)\"],[1,\"rgb(90,179,244)\"]]},\"colorway\":[\"#F8766D\",\"#A3A500\",\"#00BF7D\",\"#00B0F6\",\"#E76BF3\"],\"font\":{\"color\":\"rgb(51,51,51)\"},\"geo\":{\"bgcolor\":\"white\",\"lakecolor\":\"white\",\"landcolor\":\"rgb(237,237,237)\",\"showlakes\":true,\"showland\":true,\"subunitcolor\":\"white\"},\"hoverlabel\":{\"align\":\"left\"},\"hovermode\":\"closest\",\"paper_bgcolor\":\"white\",\"plot_bgcolor\":\"rgb(237,237,237)\",\"polar\":{\"angularaxis\":{\"gridcolor\":\"white\",\"linecolor\":\"white\",\"showgrid\":true,\"tickcolor\":\"rgb(51,51,51)\",\"ticks\":\"outside\"},\"bgcolor\":\"rgb(237,237,237)\",\"radialaxis\":{\"gridcolor\":\"white\",\"linecolor\":\"white\",\"showgrid\":true,\"tickcolor\":\"rgb(51,51,51)\",\"ticks\":\"outside\"}},\"scene\":{\"xaxis\":{\"backgroundcolor\":\"rgb(237,237,237)\",\"gridcolor\":\"white\",\"gridwidth\":2,\"linecolor\":\"white\",\"showbackground\":true,\"showgrid\":true,\"tickcolor\":\"rgb(51,51,51)\",\"ticks\":\"outside\",\"zerolinecolor\":\"white\"},\"yaxis\":{\"backgroundcolor\":\"rgb(237,237,237)\",\"gridcolor\":\"white\",\"gridwidth\":2,\"linecolor\":\"white\",\"showbackground\":true,\"showgrid\":true,\"tickcolor\":\"rgb(51,51,51)\",\"ticks\":\"outside\",\"zerolinecolor\":\"white\"},\"zaxis\":{\"backgroundcolor\":\"rgb(237,237,237)\",\"gridcolor\":\"white\",\"gridwidth\":2,\"linecolor\":\"white\",\"showbackground\":true,\"showgrid\":true,\"tickcolor\":\"rgb(51,51,51)\",\"ticks\":\"outside\",\"zerolinecolor\":\"white\"}},\"shapedefaults\":{\"fillcolor\":\"black\",\"line\":{\"width\":0},\"opacity\":0.3},\"ternary\":{\"aaxis\":{\"gridcolor\":\"white\",\"linecolor\":\"white\",\"showgrid\":true,\"tickcolor\":\"rgb(51,51,51)\",\"ticks\":\"outside\"},\"baxis\":{\"gridcolor\":\"white\",\"linecolor\":\"white\",\"showgrid\":true,\"tickcolor\":\"rgb(51,51,51)\",\"ticks\":\"outside\"},\"bgcolor\":\"rgb(237,237,237)\",\"caxis\":{\"gridcolor\":\"white\",\"linecolor\":\"white\",\"showgrid\":true,\"tickcolor\":\"rgb(51,51,51)\",\"ticks\":\"outside\"}},\"xaxis\":{\"automargin\":true,\"gridcolor\":\"white\",\"linecolor\":\"white\",\"showgrid\":true,\"tickcolor\":\"rgb(51,51,51)\",\"ticks\":\"outside\",\"title\":{\"standoff\":15},\"zerolinecolor\":\"white\"},\"yaxis\":{\"automargin\":true,\"gridcolor\":\"white\",\"linecolor\":\"white\",\"showgrid\":true,\"tickcolor\":\"rgb(51,51,51)\",\"ticks\":\"outside\",\"title\":{\"standoff\":15},\"zerolinecolor\":\"white\"}}},\"showlegend\":true},                        {\"responsive\": true}                    ).then(function(){\n",
              "                            \n",
              "var gd = document.getElementById('2fd6fc9a-2dc7-44f8-bca3-e493db564730');\n",
              "var x = new MutationObserver(function (mutations, observer) {{\n",
              "        var display = window.getComputedStyle(gd).display;\n",
              "        if (!display || display === 'none') {{\n",
              "            console.log([gd, 'removed!']);\n",
              "            Plotly.purge(gd);\n",
              "            observer.disconnect();\n",
              "        }}\n",
              "}});\n",
              "\n",
              "// Listen for the removal of the full notebook cells\n",
              "var notebookContainer = gd.closest('#notebook-container');\n",
              "if (notebookContainer) {{\n",
              "    x.observe(notebookContainer, {childList: true});\n",
              "}}\n",
              "\n",
              "// Listen for the clearing of the current output cell\n",
              "var outputEl = gd.closest('.output');\n",
              "if (outputEl) {{\n",
              "    x.observe(outputEl, {childList: true});\n",
              "}}\n",
              "\n",
              "                        })                };                            </script>        </div>\n",
              "</body>\n",
              "</html>"
            ]
          },
          "metadata": {}
        }
      ]
    },
    {
      "cell_type": "code",
      "metadata": {
        "id": "r6wXY1xhxRBp",
        "outputId": "8553ded4-a276-48be-e195-8a48bc1dce01",
        "colab": {
          "base_uri": "https://localhost:8080/",
          "height": 238
        }
      },
      "source": [
        "exp.check_stats(model2c, test=\"white_noise\")"
      ],
      "execution_count": 23,
      "outputs": [
        {
          "output_type": "execute_result",
          "data": {
            "text/html": [
              "<div>\n",
              "<style scoped>\n",
              "    .dataframe tbody tr th:only-of-type {\n",
              "        vertical-align: middle;\n",
              "    }\n",
              "\n",
              "    .dataframe tbody tr th {\n",
              "        vertical-align: top;\n",
              "    }\n",
              "\n",
              "    .dataframe thead th {\n",
              "        text-align: right;\n",
              "    }\n",
              "</style>\n",
              "<table border=\"1\" class=\"dataframe\">\n",
              "  <thead>\n",
              "    <tr style=\"text-align: right;\">\n",
              "      <th></th>\n",
              "      <th>Test</th>\n",
              "      <th>Test Name</th>\n",
              "      <th>Property</th>\n",
              "      <th>Setting</th>\n",
              "      <th>Value</th>\n",
              "    </tr>\n",
              "  </thead>\n",
              "  <tbody>\n",
              "    <tr>\n",
              "      <th>0</th>\n",
              "      <td>White Noise</td>\n",
              "      <td>Ljung-Box</td>\n",
              "      <td>Test Statictic</td>\n",
              "      <td>{'alpha': 0.05, 'K': 24}</td>\n",
              "      <td>28.1453</td>\n",
              "    </tr>\n",
              "    <tr>\n",
              "      <th>1</th>\n",
              "      <td>White Noise</td>\n",
              "      <td>Ljung-Box</td>\n",
              "      <td>Test Statictic</td>\n",
              "      <td>{'alpha': 0.05, 'K': 48}</td>\n",
              "      <td>46.3326</td>\n",
              "    </tr>\n",
              "    <tr>\n",
              "      <th>2</th>\n",
              "      <td>White Noise</td>\n",
              "      <td>Ljung-Box</td>\n",
              "      <td>p-value</td>\n",
              "      <td>{'alpha': 0.05, 'K': 24}</td>\n",
              "      <td>0.253958</td>\n",
              "    </tr>\n",
              "    <tr>\n",
              "      <th>3</th>\n",
              "      <td>White Noise</td>\n",
              "      <td>Ljung-Box</td>\n",
              "      <td>p-value</td>\n",
              "      <td>{'alpha': 0.05, 'K': 48}</td>\n",
              "      <td>0.541368</td>\n",
              "    </tr>\n",
              "    <tr>\n",
              "      <th>4</th>\n",
              "      <td>White Noise</td>\n",
              "      <td>Ljung-Box</td>\n",
              "      <td>White Noise</td>\n",
              "      <td>{'alpha': 0.05, 'K': 24}</td>\n",
              "      <td>True</td>\n",
              "    </tr>\n",
              "    <tr>\n",
              "      <th>5</th>\n",
              "      <td>White Noise</td>\n",
              "      <td>Ljung-Box</td>\n",
              "      <td>White Noise</td>\n",
              "      <td>{'alpha': 0.05, 'K': 48}</td>\n",
              "      <td>True</td>\n",
              "    </tr>\n",
              "  </tbody>\n",
              "</table>\n",
              "</div>"
            ],
            "text/plain": [
              "          Test  Test Name        Property                   Setting     Value\n",
              "0  White Noise  Ljung-Box  Test Statictic  {'alpha': 0.05, 'K': 24}   28.1453\n",
              "1  White Noise  Ljung-Box  Test Statictic  {'alpha': 0.05, 'K': 48}   46.3326\n",
              "2  White Noise  Ljung-Box         p-value  {'alpha': 0.05, 'K': 24}  0.253958\n",
              "3  White Noise  Ljung-Box         p-value  {'alpha': 0.05, 'K': 48}  0.541368\n",
              "4  White Noise  Ljung-Box     White Noise  {'alpha': 0.05, 'K': 24}      True\n",
              "5  White Noise  Ljung-Box     White Noise  {'alpha': 0.05, 'K': 48}      True"
            ]
          },
          "metadata": {},
          "execution_count": 23
        }
      ]
    },
    {
      "cell_type": "markdown",
      "metadata": {
        "id": "FKFeSY75xHPb"
      },
      "source": [
        "#### Random Walk with trend = \"ct\""
      ]
    },
    {
      "cell_type": "code",
      "metadata": {
        "id": "Wits_EmqL_HV",
        "outputId": "ed6afd12-f822-48cd-a21d-2d866a1666ab",
        "colab": {
          "base_uri": "https://localhost:8080/",
          "height": 206,
          "referenced_widgets": [
            "5b4c95d266f34ef1af94d4316fa05e74",
            "f12b4482fe204a30ad2907310817bdc2",
            "765af6e716654a20b4ad3b9678ac985c"
          ]
        }
      },
      "source": [
        "model2d = exp.create_model(\"arima\", order=(0, 1, 0), seasonal_order=(0, 0, 0, 0), trend=\"ct\")"
      ],
      "execution_count": 24,
      "outputs": [
        {
          "output_type": "display_data",
          "data": {
            "text/html": [
              "<div>\n",
              "<style scoped>\n",
              "    .dataframe tbody tr th:only-of-type {\n",
              "        vertical-align: middle;\n",
              "    }\n",
              "\n",
              "    .dataframe tbody tr th {\n",
              "        vertical-align: top;\n",
              "    }\n",
              "\n",
              "    .dataframe thead th {\n",
              "        text-align: right;\n",
              "    }\n",
              "</style>\n",
              "<table border=\"1\" class=\"dataframe\">\n",
              "  <thead>\n",
              "    <tr style=\"text-align: right;\">\n",
              "      <th></th>\n",
              "      <th>cutoff</th>\n",
              "      <th>MAE</th>\n",
              "      <th>RMSE</th>\n",
              "      <th>MAPE</th>\n",
              "      <th>SMAPE</th>\n",
              "      <th>R2</th>\n",
              "    </tr>\n",
              "  </thead>\n",
              "  <tbody>\n",
              "    <tr>\n",
              "      <th>0</th>\n",
              "      <td>219.0</td>\n",
              "      <td>1.7743</td>\n",
              "      <td>2.3436</td>\n",
              "      <td>0.0093</td>\n",
              "      <td>0.0093</td>\n",
              "      <td>-1.8035</td>\n",
              "    </tr>\n",
              "    <tr>\n",
              "      <th>1</th>\n",
              "      <td>249.0</td>\n",
              "      <td>3.4014</td>\n",
              "      <td>3.9197</td>\n",
              "      <td>0.0179</td>\n",
              "      <td>0.0177</td>\n",
              "      <td>-1.6107</td>\n",
              "    </tr>\n",
              "    <tr>\n",
              "      <th>2</th>\n",
              "      <td>279.0</td>\n",
              "      <td>1.3269</td>\n",
              "      <td>1.6169</td>\n",
              "      <td>0.0069</td>\n",
              "      <td>0.0070</td>\n",
              "      <td>0.0417</td>\n",
              "    </tr>\n",
              "    <tr>\n",
              "      <th>Mean</th>\n",
              "      <td>NaN</td>\n",
              "      <td>2.1675</td>\n",
              "      <td>2.6267</td>\n",
              "      <td>0.0114</td>\n",
              "      <td>0.0113</td>\n",
              "      <td>-1.1241</td>\n",
              "    </tr>\n",
              "    <tr>\n",
              "      <th>SD</th>\n",
              "      <td>NaN</td>\n",
              "      <td>0.8914</td>\n",
              "      <td>0.9612</td>\n",
              "      <td>0.0047</td>\n",
              "      <td>0.0046</td>\n",
              "      <td>0.8281</td>\n",
              "    </tr>\n",
              "  </tbody>\n",
              "</table>\n",
              "</div>"
            ],
            "text/plain": [
              "      cutoff     MAE    RMSE    MAPE   SMAPE      R2\n",
              "0      219.0  1.7743  2.3436  0.0093  0.0093 -1.8035\n",
              "1      249.0  3.4014  3.9197  0.0179  0.0177 -1.6107\n",
              "2      279.0  1.3269  1.6169  0.0069  0.0070  0.0417\n",
              "Mean     NaN  2.1675  2.6267  0.0114  0.0113 -1.1241\n",
              "SD       NaN  0.8914  0.9612  0.0047  0.0046  0.8281"
            ]
          },
          "metadata": {}
        }
      ]
    },
    {
      "cell_type": "code",
      "metadata": {
        "id": "5KZhYZdfUxQ2",
        "outputId": "34263b43-35b5-48fd-9f00-6ecd1b1643f3",
        "colab": {
          "base_uri": "https://localhost:8080/",
          "height": 976
        }
      },
      "source": [
        "summarize_model(model2d)\n",
        "get_residual_properties(model2d)"
      ],
      "execution_count": 52,
      "outputs": [
        {
          "output_type": "stream",
          "name": "stdout",
          "text": [
            "                               SARIMAX Results                                \n",
            "==============================================================================\n",
            "Dep. Variable:                      y   No. Observations:                  310\n",
            "Model:               SARIMAX(0, 1, 0)   Log Likelihood                -434.985\n",
            "Date:                Fri, 26 Nov 2021   AIC                            875.971\n",
            "Time:                        10:25:10   BIC                            887.171\n",
            "Sample:                             0   HQIC                           880.448\n",
            "                                - 310                                         \n",
            "Covariance Type:                  opg                                         \n",
            "==============================================================================\n",
            "                 coef    std err          z      P>|z|      [0.025      0.975]\n",
            "------------------------------------------------------------------------------\n",
            "intercept     -0.0343      0.117     -0.292      0.770      -0.264       0.196\n",
            "drift          0.0004      0.001      0.530      0.596      -0.001       0.002\n",
            "sigma2         0.9778      0.081     12.141      0.000       0.820       1.136\n",
            "===================================================================================\n",
            "Ljung-Box (L1) (Q):                   1.03   Jarque-Bera (JB):                 0.12\n",
            "Prob(Q):                              0.31   Prob(JB):                         0.94\n",
            "Heteroskedasticity (H):               0.99   Skew:                            -0.04\n",
            "Prob(H) (two-sided):                  0.96   Kurtosis:                         2.96\n",
            "===================================================================================\n",
            "\n",
            "Warnings:\n",
            "[1] Covariance matrix calculated using the outer product of gradients (complex-step).\n"
          ]
        },
        {
          "output_type": "display_data",
          "data": {
            "text/html": [
              "<html>\n",
              "<head><meta charset=\"utf-8\" /></head>\n",
              "<body>\n",
              "    <div>            <script src=\"https://cdnjs.cloudflare.com/ajax/libs/mathjax/2.7.5/MathJax.js?config=TeX-AMS-MML_SVG\"></script><script type=\"text/javascript\">if (window.MathJax) {MathJax.Hub.Config({SVG: {font: \"STIX-Web\"}});}</script>                <script type=\"text/javascript\">window.PlotlyConfig = {MathJaxConfig: 'local'};</script>\n",
              "        <script src=\"https://cdn.plot.ly/plotly-2.6.3.min.js\"></script>                <div id=\"305ccfc5-f7d4-485b-854b-2aba61004bcb\" class=\"plotly-graph-div\" style=\"height:525px; width:100%;\"></div>            <script type=\"text/javascript\">                                    window.PLOTLYENV=window.PLOTLYENV || {};                                    if (document.getElementById(\"305ccfc5-f7d4-485b-854b-2aba61004bcb\")) {                    Plotly.newPlot(                        \"305ccfc5-f7d4-485b-854b-2aba61004bcb\",                        [{\"marker\":{\"color\":\"#3f3f3f\",\"size\":5},\"mode\":\"lines+markers\",\"name\":\"Residuals | ARIMA\",\"showlegend\":true,\"x\":[1,2,3,4,5,6,7,8,9,10,11,12,13,14,15,16,17,18,19,20,21,22,23,24,25,26,27,28,29,30,31,32,33,34,35,36,37,38,39,40,41,42,43,44,45,46,47,48,49,50,51,52,53,54,55,56,57,58,59,60,61,62,63,64,65,66,67,68,69,70,71,72,73,74,75,76,77,78,79,80,81,82,83,84,85,86,87,88,89,90,91,92,93,94,95,96,97,98,99,100,101,102,103,104,105,106,107,108,109,110,111,112,113,114,115,116,117,118,119,120,121,122,123,124,125,126,127,128,129,130,131,132,133,134,135,136,137,138,139,140,141,142,143,144,145,146,147,148,149,150,151,152,153,154,155,156,157,158,159,160,161,162,163,164,165,166,167,168,169,170,171,172,173,174,175,176,177,178,179,180,181,182,183,184,185,186,187,188,189,190,191,192,193,194,195,196,197,198,199,200,201,202,203,204,205,206,207,208,209,210,211,212,213,214,215,216,217,218,219,220,221,222,223,224,225,226,227,228,229,230,231,232,233,234,235,236,237,238,239,240,241,242,243,244,245,246,247,248,249,250,251,252,253,254,255,256,257,258,259,260,261,262,263,264,265,266,267,268,269,270,271,272,273,274,275,276,277,278,279,280,281,282,283,284,285,286,287,288,289,290,291,292,293,294,295,296,297,298,299,300,301,302,303,304,305,306,307,308,309],\"y\":[0.07608876256904296,-0.8773003551039551,0.19129846987812016,-0.6216665424198595,1.7998537748972012,0.7489223855662601,0.9420375430692616,0.41569707542637957,1.7133362021433527,-0.6049279282996167,-0.4311878006855352,1.462387572240516,-0.6209426155854771,-0.1779786018524021,-0.3637573836673198,-0.2912939187483232,-0.25076594915225314,0.5221840891177578,-0.14968632039517615,-0.4786648962141271,1.3699797950949062,-0.187990034596055,-0.1533187520689978,-0.07430455921294765,0.7382008930760833,-0.04838141407583407,-0.012802777391840436,-0.6571806806557561,-0.30014207012075644,0.08393704658431034,-0.5654694760846439,0.5545696068334394,-1.4956722635616018,0.32892808304052323,-1.5144311972624962,-0.2793090965353997,-0.5069644701193567,-0.6311309423303442,-0.036284535472304924,-1.8940987792792328,1.1964923624448147,-1.6454149817611494,-0.4443245429960996,-1.0970658425420652,-0.7323163346680133,2.105317616180031,0.035195094269056426,-1.2688526518328729,-1.6235092517928251,0.4669317879242101,-0.0021667420387245784,-0.3020268798427139,-0.9136722487276927,-1.4721220073896006,-1.0602055898395406,1.0146639145154381,-0.6069831799704559,-1.3704949285324517,1.8828709452996293,0.4383291042746009,-0.22576996998625987,1.0710085836607561,0.8985965903517865,-0.6074207052292024,2.2175732115669007,-0.24390787908907896,-1.4137270951360108,-0.1339836428520016,0.21760270235907342,2.3176911662121142,0.11516353907114762,0.46600838062519756,-0.06849495612979695,-0.32569445911369144,-0.026771241033685556,0.7952427969323708,2.0824966039793935,1.0342924381164664,1.2144568017644986,-1.2251266141564372,0.9897407814816006,0.22541841911365168,-1.4621080096153207,0.5258131661507264,-0.15431577718823064,1.468674543522809,-0.762346364026115,-0.42682771432609456,-0.9230770537490685,-0.17442311378397335,0.4043410311640514,-0.7297705174159148,0.8319992277091046,-1.2068083225508417,-1.047061545029777,1.4417289786472907,-1.0156277894756727,0.4118427921702903,-0.3815595672305392,0.40856672755441537,1.6876865781324852,1.5850501293955404,-0.3327977007034235,-2.28747703128937,2.495068497862661,0.664121478819709,0.5380310520427827,-0.01704740304219854,0.5061089470818274,-0.16872690361608988,0.41599197543291666,-0.4053010077729766,-1.3756137373190143,0.9820808117090962,1.5136359737790883,-0.315201216921821,-1.2601019992788167,0.6350774660322713,-0.05222457251471724,-1.741085438420697,-0.006086767889598832,-0.6388705574735525,-0.3498903993815361,-1.1658457781314553,1.793516896447528,-0.34110864383737294,-1.6158416156733608,0.18651363934472442,0.2521442510347356,-0.9972096917542217,-2.900655258999194,-0.6525678858611172,0.5580698566508886,-0.0725126512880081,-0.11131971522499384,0.5473281614250425,-1.2003028017489044,1.0825812851291516,-0.019891383397833806,0.692411716303269,1.0188571876672654,0.2078782718713228,-0.8946613518856168,1.1466592209723672,-2.016821875755511,-0.561799266945485,-0.2730308320765005,-0.18383275565938106,1.002400593914615,0.11780698225871333,0.38840109660372946,-0.08877291580623137,-0.26713404038923727,0.6757295118758861,1.126055466496922,-2.42362070158606,0.5518634725769687,0.3534967281340471,-0.4468469961749406,0.9290819369831524,-0.4115196482868271,-0.3069647243437714,0.8344241195612483,1.6962900446273181,0.2463660504683105,-0.4462244562315618,-1.2135053372775815,-0.35577661727350574,-0.9649245608785009,-0.2843794134613802,0.36858074190263324,-0.8780071143173416,2.622665262826672,0.1291584614217527,1.103002457236812,-2.3166803860331413,0.713093155027849,-1.3445047585950363,0.8911924834909541,0.36916736535903283,-0.4368429653379451,1.2945926481350796,-0.7312492472647989,-0.6109834782338055,-1.0317929509927524,-0.6992509726967171,0.913760991455348,0.4019265916533925,0.973032063809427,-0.42259741389656824,0.3435399459575308,0.2109829826935652,-1.4597908801493986,1.7445441537326474,0.10021093121667946,0.7310106734657325,0.9201967552417898,-0.08585721908519872,-0.34145853338412735,0.857678992833911,-1.0836444546280006,1.9346394846819805,-0.42068160380594577,1.6167442087831034,1.474460004484115,0.044861448144217775,0.5287650334342118,-1.063355956925733,0.2838474296553102,1.0041017890153796,0.05921622158041373,-0.49435077044654463,-0.6963473097164865,-0.07683947586446038,1.027892811460589,-0.5255951754923842,-0.16298195249433434,-1.3364634409612677,0.4516378028987731,1.264874891022771,1.4536627843358758,0.7709729098569369,-1.9138702072190767,0.4375964911329504,0.4113509943350664,-0.39853649077090836,0.1250016700321055,-0.9098753510178028,0.6330397811502166,-0.3736436034937469,-1.615976369959725,-0.41469653696165665,1.3168375523044347,-0.38223033747158297,0.684449473493487,0.8979334755075001,-0.0446050563394067,-0.4016776621893996,-0.5794024617493108,0.6895306769846741,-1.113867560048277,0.19544910299583762,-0.3406127030791879,-2.3163542889781183,-1.4606669845380793,0.8638512043529829,-0.24379867095095165,0.7504118997440514,1.8342515509440886,1.4203066727691862,0.623342387998207,0.32568498627622944,-0.24742772272173852,1.522910902665359,0.5409016211033872,-1.2292610250605946,-0.2116782150555423,-1.9752970964095198,-0.2519977182244304,-2.6494181380353723,1.256560103133637,-0.6933366610713279,-0.4881240947082688,-0.2278151842912166,0.5533697260248402,0.6191401332828548,0.508400332557926,-0.6324458398150625,-1.4235460881419897,-0.4493286721769607,0.21695610863608294,-0.8843907413608463,-0.1305021502418242,-1.2296751378687816,-0.07067342192971182,0.06613939790932477,-0.20894322812463884,-0.2273301523745772,1.6997812111714268,0.698464124829485,1.0469570971675637,-0.988032532368436,0.09916466291460324,1.0892964156087146,-0.12240179198931855,-2.19559261167322,0.27826220268579505,-1.971890600973154,-0.8784569045030821,1.2563659739609534,0.54764690598995,1.0233274162470707,0.23791172625104196,-0.17920349372084843,-0.993709100339828,1.5231658305312124,-0.025088921040776313,-0.7855795158056935,0.794420388604351,1.0032866511903649,1.8241488711364866,-0.6748548026435515,-0.4630769157354848,-0.4887827225174419,-0.44856970978236177,-0.4398948286403481,-0.3692929316133018,1.3678533353127307,-0.771856962775189],\"type\":\"scatter\"}],                        {\"title\":{\"text\":\"Residuals\"},\"xaxis\":{\"title\":{\"text\":\"Time\"}},\"yaxis\":{\"title\":{\"text\":\"Values\"}},\"template\":{\"data\":{\"barpolar\":[{\"marker\":{\"line\":{\"color\":\"rgb(237,237,237)\",\"width\":0.5},\"pattern\":{\"fillmode\":\"overlay\",\"size\":10,\"solidity\":0.2}},\"type\":\"barpolar\"}],\"bar\":[{\"error_x\":{\"color\":\"rgb(51,51,51)\"},\"error_y\":{\"color\":\"rgb(51,51,51)\"},\"marker\":{\"line\":{\"color\":\"rgb(237,237,237)\",\"width\":0.5},\"pattern\":{\"fillmode\":\"overlay\",\"size\":10,\"solidity\":0.2}},\"type\":\"bar\"}],\"carpet\":[{\"aaxis\":{\"endlinecolor\":\"rgb(51,51,51)\",\"gridcolor\":\"white\",\"linecolor\":\"white\",\"minorgridcolor\":\"white\",\"startlinecolor\":\"rgb(51,51,51)\"},\"baxis\":{\"endlinecolor\":\"rgb(51,51,51)\",\"gridcolor\":\"white\",\"linecolor\":\"white\",\"minorgridcolor\":\"white\",\"startlinecolor\":\"rgb(51,51,51)\"},\"type\":\"carpet\"}],\"choropleth\":[{\"colorbar\":{\"outlinewidth\":0,\"tickcolor\":\"rgb(237,237,237)\",\"ticklen\":6,\"ticks\":\"inside\"},\"type\":\"choropleth\"}],\"contourcarpet\":[{\"colorbar\":{\"outlinewidth\":0,\"tickcolor\":\"rgb(237,237,237)\",\"ticklen\":6,\"ticks\":\"inside\"},\"type\":\"contourcarpet\"}],\"contour\":[{\"colorbar\":{\"outlinewidth\":0,\"tickcolor\":\"rgb(237,237,237)\",\"ticklen\":6,\"ticks\":\"inside\"},\"colorscale\":[[0,\"rgb(20,44,66)\"],[1,\"rgb(90,179,244)\"]],\"type\":\"contour\"}],\"heatmapgl\":[{\"colorbar\":{\"outlinewidth\":0,\"tickcolor\":\"rgb(237,237,237)\",\"ticklen\":6,\"ticks\":\"inside\"},\"colorscale\":[[0,\"rgb(20,44,66)\"],[1,\"rgb(90,179,244)\"]],\"type\":\"heatmapgl\"}],\"heatmap\":[{\"colorbar\":{\"outlinewidth\":0,\"tickcolor\":\"rgb(237,237,237)\",\"ticklen\":6,\"ticks\":\"inside\"},\"colorscale\":[[0,\"rgb(20,44,66)\"],[1,\"rgb(90,179,244)\"]],\"type\":\"heatmap\"}],\"histogram2dcontour\":[{\"colorbar\":{\"outlinewidth\":0,\"tickcolor\":\"rgb(237,237,237)\",\"ticklen\":6,\"ticks\":\"inside\"},\"colorscale\":[[0,\"rgb(20,44,66)\"],[1,\"rgb(90,179,244)\"]],\"type\":\"histogram2dcontour\"}],\"histogram2d\":[{\"colorbar\":{\"outlinewidth\":0,\"tickcolor\":\"rgb(237,237,237)\",\"ticklen\":6,\"ticks\":\"inside\"},\"colorscale\":[[0,\"rgb(20,44,66)\"],[1,\"rgb(90,179,244)\"]],\"type\":\"histogram2d\"}],\"histogram\":[{\"marker\":{\"pattern\":{\"fillmode\":\"overlay\",\"size\":10,\"solidity\":0.2}},\"type\":\"histogram\"}],\"mesh3d\":[{\"colorbar\":{\"outlinewidth\":0,\"tickcolor\":\"rgb(237,237,237)\",\"ticklen\":6,\"ticks\":\"inside\"},\"type\":\"mesh3d\"}],\"parcoords\":[{\"line\":{\"colorbar\":{\"outlinewidth\":0,\"tickcolor\":\"rgb(237,237,237)\",\"ticklen\":6,\"ticks\":\"inside\"}},\"type\":\"parcoords\"}],\"pie\":[{\"automargin\":true,\"type\":\"pie\"}],\"scatter3d\":[{\"line\":{\"colorbar\":{\"outlinewidth\":0,\"tickcolor\":\"rgb(237,237,237)\",\"ticklen\":6,\"ticks\":\"inside\"}},\"marker\":{\"colorbar\":{\"outlinewidth\":0,\"tickcolor\":\"rgb(237,237,237)\",\"ticklen\":6,\"ticks\":\"inside\"}},\"type\":\"scatter3d\"}],\"scattercarpet\":[{\"marker\":{\"colorbar\":{\"outlinewidth\":0,\"tickcolor\":\"rgb(237,237,237)\",\"ticklen\":6,\"ticks\":\"inside\"}},\"type\":\"scattercarpet\"}],\"scattergeo\":[{\"marker\":{\"colorbar\":{\"outlinewidth\":0,\"tickcolor\":\"rgb(237,237,237)\",\"ticklen\":6,\"ticks\":\"inside\"}},\"type\":\"scattergeo\"}],\"scattergl\":[{\"marker\":{\"colorbar\":{\"outlinewidth\":0,\"tickcolor\":\"rgb(237,237,237)\",\"ticklen\":6,\"ticks\":\"inside\"}},\"type\":\"scattergl\"}],\"scattermapbox\":[{\"marker\":{\"colorbar\":{\"outlinewidth\":0,\"tickcolor\":\"rgb(237,237,237)\",\"ticklen\":6,\"ticks\":\"inside\"}},\"type\":\"scattermapbox\"}],\"scatterpolargl\":[{\"marker\":{\"colorbar\":{\"outlinewidth\":0,\"tickcolor\":\"rgb(237,237,237)\",\"ticklen\":6,\"ticks\":\"inside\"}},\"type\":\"scatterpolargl\"}],\"scatterpolar\":[{\"marker\":{\"colorbar\":{\"outlinewidth\":0,\"tickcolor\":\"rgb(237,237,237)\",\"ticklen\":6,\"ticks\":\"inside\"}},\"type\":\"scatterpolar\"}],\"scatter\":[{\"marker\":{\"colorbar\":{\"outlinewidth\":0,\"tickcolor\":\"rgb(237,237,237)\",\"ticklen\":6,\"ticks\":\"inside\"}},\"type\":\"scatter\"}],\"scatterternary\":[{\"marker\":{\"colorbar\":{\"outlinewidth\":0,\"tickcolor\":\"rgb(237,237,237)\",\"ticklen\":6,\"ticks\":\"inside\"}},\"type\":\"scatterternary\"}],\"surface\":[{\"colorbar\":{\"outlinewidth\":0,\"tickcolor\":\"rgb(237,237,237)\",\"ticklen\":6,\"ticks\":\"inside\"},\"colorscale\":[[0,\"rgb(20,44,66)\"],[1,\"rgb(90,179,244)\"]],\"type\":\"surface\"}],\"table\":[{\"cells\":{\"fill\":{\"color\":\"rgb(237,237,237)\"},\"line\":{\"color\":\"white\"}},\"header\":{\"fill\":{\"color\":\"rgb(217,217,217)\"},\"line\":{\"color\":\"white\"}},\"type\":\"table\"}]},\"layout\":{\"annotationdefaults\":{\"arrowhead\":0,\"arrowwidth\":1},\"autotypenumbers\":\"strict\",\"coloraxis\":{\"colorbar\":{\"outlinewidth\":0,\"tickcolor\":\"rgb(237,237,237)\",\"ticklen\":6,\"ticks\":\"inside\"}},\"colorscale\":{\"sequential\":[[0,\"rgb(20,44,66)\"],[1,\"rgb(90,179,244)\"]],\"sequentialminus\":[[0,\"rgb(20,44,66)\"],[1,\"rgb(90,179,244)\"]]},\"colorway\":[\"#F8766D\",\"#A3A500\",\"#00BF7D\",\"#00B0F6\",\"#E76BF3\"],\"font\":{\"color\":\"rgb(51,51,51)\"},\"geo\":{\"bgcolor\":\"white\",\"lakecolor\":\"white\",\"landcolor\":\"rgb(237,237,237)\",\"showlakes\":true,\"showland\":true,\"subunitcolor\":\"white\"},\"hoverlabel\":{\"align\":\"left\"},\"hovermode\":\"closest\",\"paper_bgcolor\":\"white\",\"plot_bgcolor\":\"rgb(237,237,237)\",\"polar\":{\"angularaxis\":{\"gridcolor\":\"white\",\"linecolor\":\"white\",\"showgrid\":true,\"tickcolor\":\"rgb(51,51,51)\",\"ticks\":\"outside\"},\"bgcolor\":\"rgb(237,237,237)\",\"radialaxis\":{\"gridcolor\":\"white\",\"linecolor\":\"white\",\"showgrid\":true,\"tickcolor\":\"rgb(51,51,51)\",\"ticks\":\"outside\"}},\"scene\":{\"xaxis\":{\"backgroundcolor\":\"rgb(237,237,237)\",\"gridcolor\":\"white\",\"gridwidth\":2,\"linecolor\":\"white\",\"showbackground\":true,\"showgrid\":true,\"tickcolor\":\"rgb(51,51,51)\",\"ticks\":\"outside\",\"zerolinecolor\":\"white\"},\"yaxis\":{\"backgroundcolor\":\"rgb(237,237,237)\",\"gridcolor\":\"white\",\"gridwidth\":2,\"linecolor\":\"white\",\"showbackground\":true,\"showgrid\":true,\"tickcolor\":\"rgb(51,51,51)\",\"ticks\":\"outside\",\"zerolinecolor\":\"white\"},\"zaxis\":{\"backgroundcolor\":\"rgb(237,237,237)\",\"gridcolor\":\"white\",\"gridwidth\":2,\"linecolor\":\"white\",\"showbackground\":true,\"showgrid\":true,\"tickcolor\":\"rgb(51,51,51)\",\"ticks\":\"outside\",\"zerolinecolor\":\"white\"}},\"shapedefaults\":{\"fillcolor\":\"black\",\"line\":{\"width\":0},\"opacity\":0.3},\"ternary\":{\"aaxis\":{\"gridcolor\":\"white\",\"linecolor\":\"white\",\"showgrid\":true,\"tickcolor\":\"rgb(51,51,51)\",\"ticks\":\"outside\"},\"baxis\":{\"gridcolor\":\"white\",\"linecolor\":\"white\",\"showgrid\":true,\"tickcolor\":\"rgb(51,51,51)\",\"ticks\":\"outside\"},\"bgcolor\":\"rgb(237,237,237)\",\"caxis\":{\"gridcolor\":\"white\",\"linecolor\":\"white\",\"showgrid\":true,\"tickcolor\":\"rgb(51,51,51)\",\"ticks\":\"outside\"}},\"xaxis\":{\"automargin\":true,\"gridcolor\":\"white\",\"linecolor\":\"white\",\"showgrid\":true,\"tickcolor\":\"rgb(51,51,51)\",\"ticks\":\"outside\",\"title\":{\"standoff\":15},\"zerolinecolor\":\"white\"},\"yaxis\":{\"automargin\":true,\"gridcolor\":\"white\",\"linecolor\":\"white\",\"showgrid\":true,\"tickcolor\":\"rgb(51,51,51)\",\"ticks\":\"outside\",\"title\":{\"standoff\":15},\"zerolinecolor\":\"white\"}}},\"showlegend\":true},                        {\"responsive\": true}                    ).then(function(){\n",
              "                            \n",
              "var gd = document.getElementById('305ccfc5-f7d4-485b-854b-2aba61004bcb');\n",
              "var x = new MutationObserver(function (mutations, observer) {{\n",
              "        var display = window.getComputedStyle(gd).display;\n",
              "        if (!display || display === 'none') {{\n",
              "            console.log([gd, 'removed!']);\n",
              "            Plotly.purge(gd);\n",
              "            observer.disconnect();\n",
              "        }}\n",
              "}});\n",
              "\n",
              "// Listen for the removal of the full notebook cells\n",
              "var notebookContainer = gd.closest('#notebook-container');\n",
              "if (notebookContainer) {{\n",
              "    x.observe(notebookContainer, {childList: true});\n",
              "}}\n",
              "\n",
              "// Listen for the clearing of the current output cell\n",
              "var outputEl = gd.closest('.output');\n",
              "if (outputEl) {{\n",
              "    x.observe(outputEl, {childList: true});\n",
              "}}\n",
              "\n",
              "                        })                };                            </script>        </div>\n",
              "</body>\n",
              "</html>"
            ]
          },
          "metadata": {}
        },
        {
          "output_type": "stream",
          "name": "stdout",
          "text": [
            "Residual Sigma 2: 0.9778113439140794\n"
          ]
        }
      ]
    },
    {
      "cell_type": "code",
      "metadata": {
        "id": "amIm3MCZUzW2",
        "outputId": "5b6ac8e2-fdc7-442e-d50b-39d3d2321fa8",
        "colab": {
          "base_uri": "https://localhost:8080/",
          "height": 542
        }
      },
      "source": [
        "plot_predictions(model2d)"
      ],
      "execution_count": null,
      "outputs": [
        {
          "output_type": "display_data",
          "data": {
            "text/html": [
              "<html>\n",
              "<head><meta charset=\"utf-8\" /></head>\n",
              "<body>\n",
              "    <div>            <script src=\"https://cdnjs.cloudflare.com/ajax/libs/mathjax/2.7.5/MathJax.js?config=TeX-AMS-MML_SVG\"></script><script type=\"text/javascript\">if (window.MathJax) {MathJax.Hub.Config({SVG: {font: \"STIX-Web\"}});}</script>                <script type=\"text/javascript\">window.PlotlyConfig = {MathJaxConfig: 'local'};</script>\n",
              "        <script src=\"https://cdn.plot.ly/plotly-2.6.3.min.js\"></script>                <div id=\"e6600fbd-360e-43e8-a203-298f9af79091\" class=\"plotly-graph-div\" style=\"height:525px; width:100%;\"></div>            <script type=\"text/javascript\">                                    window.PLOTLYENV=window.PLOTLYENV || {};                                    if (document.getElementById(\"e6600fbd-360e-43e8-a203-298f9af79091\")) {                    Plotly.newPlot(                        \"e6600fbd-360e-43e8-a203-298f9af79091\",                        [{\"line\":{\"color\":\"#1f77b4\"},\"marker\":{\"size\":5},\"mode\":\"lines+markers\",\"name\":\"Forecast | ARIMA\",\"showlegend\":true,\"x\":[310,311,312,313,314,315,316,317,318,319,320,321,322,323,324,325,326,327,328,329,330,331,332,333,334,335,336,337,338,339],\"y\":[192.5765,192.6515,192.7269,192.8026,192.8787,192.9551,193.0319,193.109,193.1865,193.2643,193.3425,193.421,193.4999,193.5792,193.6588,193.7387,193.819,193.8997,193.9807,194.062,194.1437,194.2258,194.3082,194.3909,194.474,194.5575,194.6413,194.7255,194.81,194.8948],\"type\":\"scatter\"},{\"line\":{\"width\":0},\"marker\":{\"color\":\"#68BBE3\"},\"mode\":\"lines\",\"name\":\"Lower Interval\",\"showlegend\":false,\"x\":[310,311,312,313,314,315,316,317,318,319,320,321,322,323,324,325,326,327,328,329,330,331,332,333,334,335,336,337,338,339],\"y\":[190.6384,189.9106,189.37,188.9264,188.5449,188.2077,187.9041,187.6272,187.3722,187.1355,186.9146,186.7073,186.512,186.3275,186.1525,185.9863,185.828,185.677,185.5327,185.3946,185.2622,185.1353,185.0134,184.8962,184.7835,184.6751,184.5707,184.47,184.373,184.2794],\"type\":\"scatter\"},{\"fill\":\"tonexty\",\"fillcolor\":\"rgba(104,187,227,0.5)\",\"line\":{\"width\":0},\"marker\":{\"color\":\"#68BBE3\"},\"mode\":\"lines\",\"name\":\"Prediction Interval | ARIMA\",\"showlegend\":true,\"x\":[310,311,312,313,314,315,316,317,318,319,320,321,322,323,324,325,326,327,328,329,330,331,332,333,334,335,336,337,338,339],\"y\":[194.5146,195.3924,196.0837,196.6788,197.2124,197.7024,198.1596,198.5908,199.0008,199.3931,199.7704,200.1348,200.4878,200.8309,201.165,201.4911,201.81,202.1223,202.4286,202.7294,203.0252,203.3162,203.603,203.8856,204.1645,204.4399,204.712,204.9809,205.247,205.5102],\"type\":\"scatter\"},{\"marker\":{\"color\":\"#3f3f3f\",\"size\":5},\"mode\":\"lines+markers\",\"name\":\"Original\",\"showlegend\":true,\"x\":[0,1,2,3,4,5,6,7,8,9,10,11,12,13,14,15,16,17,18,19,20,21,22,23,24,25,26,27,28,29,30,31,32,33,34,35,36,37,38,39,40,41,42,43,44,45,46,47,48,49,50,51,52,53,54,55,56,57,58,59,60,61,62,63,64,65,66,67,68,69,70,71,72,73,74,75,76,77,78,79,80,81,82,83,84,85,86,87,88,89,90,91,92,93,94,95,96,97,98,99,100,101,102,103,104,105,106,107,108,109,110,111,112,113,114,115,116,117,118,119,120,121,122,123,124,125,126,127,128,129,130,131,132,133,134,135,136,137,138,139,140,141,142,143,144,145,146,147,148,149,150,151,152,153,154,155,156,157,158,159,160,161,162,163,164,165,166,167,168,169,170,171,172,173,174,175,176,177,178,179,180,181,182,183,184,185,186,187,188,189,190,191,192,193,194,195,196,197,198,199,200,201,202,203,204,205,206,207,208,209,210,211,212,213,214,215,216,217,218,219,220,221,222,223,224,225,226,227,228,229,230,231,232,233,234,235,236,237,238,239,240,241,242,243,244,245,246,247,248,249,250,251,252,253,254,255,256,257,258,259,260,261,262,263,264,265,266,267,268,269,270,271,272,273,274,275,276,277,278,279,280,281,282,283,284,285,286,287,288,289,290,291,292,293,294,295,296,297,298,299,300,301,302,303,304,305,306,307,308,309,310,311,312,313,314,315,316,317,318,319,320,321,322,323,324,325,326,327,328,329,330,331,332,333,334,335,336,337,338,339],\"y\":[186.268370014241,186.31048588738602,185.399564238833,185.557593011237,184.903008367318,186.670295636691,187.38700311270802,188.29717734220299,188.68136270003004,190.36353878054902,189.7278023266,189.26615759624,190.698439834781,190.04774348147097,189.840362737869,189.44755480842701,189.127561939879,188.84844863690202,189.34263696817,189.1653064859,188.659349023786,190.002387848956,189.78780844041,189.608251910366,189.508061169153,190.220727476204,190.14716307207803,190.109528900611,189.427868421855,189.10359814960898,189.163758590043,188.574864103783,189.10636029641603,187.58796621462898,187.894524075419,186.358074251881,186.057098125045,185.52881822060002,184.876723439919,184.819826662071,182.905467236391,184.08205054841,182.417078112198,181.953547710726,180.837627605683,180.086808604489,182.173975150118,182.191370769811,180.90507023937698,179.264464704958,179.714651806231,179.69609197351602,179.37802359897202,178.44866145151798,176.961201141377,175.88600884476102,176.886037648475,176.264770953678,174.880344106294,176.749634728717,177.17473510608997,176.936088005177,177.994571053886,178.880993705261,178.26175065702998,180.46785312157,180.21282609142898,178.788331441216,178.643931839262,178.851470178494,181.159448577554,181.265250945448,181.72224975087101,181.645096815514,181.311095973148,181.276369944837,182.064009550467,184.139254559119,185.166646997883,186.37455539626998,185.143231974711,186.12712754476502,186.34705234842602,184.879802319333,185.400825061981,185.24207045726502,186.706657769235,185.940575769631,185.510364015702,184.584254518325,184.407150556888,184.80916233637402,184.077414163255,184.907787331236,183.699704544932,182.65172013212398,184.092877838968,183.07703037366403,183.48900508598098,183.10792903487203,183.517330874523,185.206204160727,186.79279259416901,186.461884793487,184.176649258194,186.674310848028,187.341377014794,187.88270435075802,187.869304827612,188.379413250565,188.21503741879502,188.635732062049,188.23548531807202,186.86527744052398,187.85311570797901,189.372860733479,189.064120164253,187.810830408645,188.45307171432302,188.40836257742902,186.67514417060397,186.677276030285,186.046975696357,185.706007116496,184.54943475386003,186.352576661778,186.021444625386,184.415931213133,184.61312465187302,184.876300298278,183.890473597869,181.00155292619,180.361071223624,180.93157885954497,180.871855583502,180.773676839497,181.334497568117,180.148038929538,181.244815973812,181.23947194553398,181.94678261293203,182.980890347669,183.204370762585,182.32566314971902,183.48862770568599,181.4884627609,180.94367202089902,180.68800131174197,180.521880274977,181.54234418376097,181.678566076864,182.085733680287,182.016078867275,181.76841452565498,182.463965332275,183.610193689491,181.207097474599,181.779837029845,182.154561436623,181.72929371506697,182.680306522644,182.29106934092601,182.00673867912602,182.864148457206,184.58377575632701,184.85383065726398,184.43164664747601,183.242533352617,182.911500373737,181.97167104722698,181.712738464109,182.10711763233002,181.255260540306,183.90442742140098,184.060439097066,185.190646364521,182.90152238468102,183.64252354187698,182.32627838142503,183.246082059034,183.644212214486,183.236683635216,184.56094226539398,183.859710596147,183.279096291906,182.278024110881,181.609845504127,182.5550304575,182.98873260704602,183.99389182472302,183.603773160669,183.980143452444,184.22430837693,182.798051034548,184.576480322023,184.710927982957,185.476526982115,186.431663659024,186.38109795758098,186.075282537814,186.96895624023998,185.921658091179,187.892995477403,187.509363371114,189.163508673389,190.67572136733997,190.758687100926,191.325908015777,190.30135953624298,190.62436603926497,191.667978497622,191.767056984519,191.312920075364,190.657138222914,190.621215800291,191.690377260968,191.206402330667,191.08539221933898,189.791252215519,190.285565051534,191.59346657164798,193.09050758105,193.90521031194803,192.035421521745,192.51745102586898,192.97358662917,192.62018634334,192.790675814288,191.92663986016103,192.60587063417702,192.278769619524,190.70968743438,190.342236678209,191.70667160727902,191.372390242548,192.105140284757,193.05172592495498,193.05612462928102,192.703802323732,192.17410681459802,192.913696040173,191.85023862468998,192.096449468226,191.80695010166198,189.54206074517398,188.133210289101,189.04922961789399,188.857950667358,189.661233883492,191.548708346801,193.02258952791001,193.69985802022302,194.079820706789,193.887022280332,195.464914075237,196.061148184555,194.887571243684,194.731928708793,192.81301888852298,192.61776004241298,190.025432372467,191.339434539665,190.703891538633,190.273912699939,190.104594367637,190.716812541626,191.395152718848,191.96310469132,191.390562087394,190.027270831116,189.638548586778,189.91646271922798,189.093381597656,189.024540663178,187.856878337048,187.848569322832,187.97742472443,187.831549095969,187.66763813923302,189.431190142018,190.193776654436,191.30520773516702,190.382000782337,190.546342620765,191.70116780786202,191.64464638333598,189.515285735101,189.8601314972,187.95517605161498,187.144005898475,188.46801021977402,189.083647069077,190.17531602461202,190.48192088612598,190.371762123643,189.44744935051602,191.040363104235,191.08537370235697,190.37024530168898,191.235468401406,192.30990935968399,194.20556413388303,193.602566830277,193.211699009554,192.795476978024,192.41981955520401,192.053188609501,191.7575111568,193.199331567,192.501793275087,192.113625769166,192.76616222133703,193.890934667873,193.11882386484902,192.61073764871003,193.13435823920798,194.152112465746,193.900947877658,192.47095443027,194.18007546237098,195.615145034682,194.904773888832,194.839706315177,193.08023757981098,193.64996055163002,195.262307349832,193.625026702727,192.845458189525,192.204281255775,191.523149862204,189.489864266586,189.990827825834,188.459029685868,188.43403204659,189.027016767615,188.82882134612998,189.720829738604,189.695114667686,189.04745421709998,189.693813632135],\"type\":\"scatter\"}],                        {\"title\":{\"text\":\"Actual vs. 'Out-of-Sample' Forecast | x\"},\"xaxis\":{\"title\":{\"text\":\"Time\"}},\"yaxis\":{\"title\":{\"text\":\"Values\"}},\"template\":{\"data\":{\"barpolar\":[{\"marker\":{\"line\":{\"color\":\"rgb(237,237,237)\",\"width\":0.5},\"pattern\":{\"fillmode\":\"overlay\",\"size\":10,\"solidity\":0.2}},\"type\":\"barpolar\"}],\"bar\":[{\"error_x\":{\"color\":\"rgb(51,51,51)\"},\"error_y\":{\"color\":\"rgb(51,51,51)\"},\"marker\":{\"line\":{\"color\":\"rgb(237,237,237)\",\"width\":0.5},\"pattern\":{\"fillmode\":\"overlay\",\"size\":10,\"solidity\":0.2}},\"type\":\"bar\"}],\"carpet\":[{\"aaxis\":{\"endlinecolor\":\"rgb(51,51,51)\",\"gridcolor\":\"white\",\"linecolor\":\"white\",\"minorgridcolor\":\"white\",\"startlinecolor\":\"rgb(51,51,51)\"},\"baxis\":{\"endlinecolor\":\"rgb(51,51,51)\",\"gridcolor\":\"white\",\"linecolor\":\"white\",\"minorgridcolor\":\"white\",\"startlinecolor\":\"rgb(51,51,51)\"},\"type\":\"carpet\"}],\"choropleth\":[{\"colorbar\":{\"outlinewidth\":0,\"tickcolor\":\"rgb(237,237,237)\",\"ticklen\":6,\"ticks\":\"inside\"},\"type\":\"choropleth\"}],\"contourcarpet\":[{\"colorbar\":{\"outlinewidth\":0,\"tickcolor\":\"rgb(237,237,237)\",\"ticklen\":6,\"ticks\":\"inside\"},\"type\":\"contourcarpet\"}],\"contour\":[{\"colorbar\":{\"outlinewidth\":0,\"tickcolor\":\"rgb(237,237,237)\",\"ticklen\":6,\"ticks\":\"inside\"},\"colorscale\":[[0,\"rgb(20,44,66)\"],[1,\"rgb(90,179,244)\"]],\"type\":\"contour\"}],\"heatmapgl\":[{\"colorbar\":{\"outlinewidth\":0,\"tickcolor\":\"rgb(237,237,237)\",\"ticklen\":6,\"ticks\":\"inside\"},\"colorscale\":[[0,\"rgb(20,44,66)\"],[1,\"rgb(90,179,244)\"]],\"type\":\"heatmapgl\"}],\"heatmap\":[{\"colorbar\":{\"outlinewidth\":0,\"tickcolor\":\"rgb(237,237,237)\",\"ticklen\":6,\"ticks\":\"inside\"},\"colorscale\":[[0,\"rgb(20,44,66)\"],[1,\"rgb(90,179,244)\"]],\"type\":\"heatmap\"}],\"histogram2dcontour\":[{\"colorbar\":{\"outlinewidth\":0,\"tickcolor\":\"rgb(237,237,237)\",\"ticklen\":6,\"ticks\":\"inside\"},\"colorscale\":[[0,\"rgb(20,44,66)\"],[1,\"rgb(90,179,244)\"]],\"type\":\"histogram2dcontour\"}],\"histogram2d\":[{\"colorbar\":{\"outlinewidth\":0,\"tickcolor\":\"rgb(237,237,237)\",\"ticklen\":6,\"ticks\":\"inside\"},\"colorscale\":[[0,\"rgb(20,44,66)\"],[1,\"rgb(90,179,244)\"]],\"type\":\"histogram2d\"}],\"histogram\":[{\"marker\":{\"pattern\":{\"fillmode\":\"overlay\",\"size\":10,\"solidity\":0.2}},\"type\":\"histogram\"}],\"mesh3d\":[{\"colorbar\":{\"outlinewidth\":0,\"tickcolor\":\"rgb(237,237,237)\",\"ticklen\":6,\"ticks\":\"inside\"},\"type\":\"mesh3d\"}],\"parcoords\":[{\"line\":{\"colorbar\":{\"outlinewidth\":0,\"tickcolor\":\"rgb(237,237,237)\",\"ticklen\":6,\"ticks\":\"inside\"}},\"type\":\"parcoords\"}],\"pie\":[{\"automargin\":true,\"type\":\"pie\"}],\"scatter3d\":[{\"line\":{\"colorbar\":{\"outlinewidth\":0,\"tickcolor\":\"rgb(237,237,237)\",\"ticklen\":6,\"ticks\":\"inside\"}},\"marker\":{\"colorbar\":{\"outlinewidth\":0,\"tickcolor\":\"rgb(237,237,237)\",\"ticklen\":6,\"ticks\":\"inside\"}},\"type\":\"scatter3d\"}],\"scattercarpet\":[{\"marker\":{\"colorbar\":{\"outlinewidth\":0,\"tickcolor\":\"rgb(237,237,237)\",\"ticklen\":6,\"ticks\":\"inside\"}},\"type\":\"scattercarpet\"}],\"scattergeo\":[{\"marker\":{\"colorbar\":{\"outlinewidth\":0,\"tickcolor\":\"rgb(237,237,237)\",\"ticklen\":6,\"ticks\":\"inside\"}},\"type\":\"scattergeo\"}],\"scattergl\":[{\"marker\":{\"colorbar\":{\"outlinewidth\":0,\"tickcolor\":\"rgb(237,237,237)\",\"ticklen\":6,\"ticks\":\"inside\"}},\"type\":\"scattergl\"}],\"scattermapbox\":[{\"marker\":{\"colorbar\":{\"outlinewidth\":0,\"tickcolor\":\"rgb(237,237,237)\",\"ticklen\":6,\"ticks\":\"inside\"}},\"type\":\"scattermapbox\"}],\"scatterpolargl\":[{\"marker\":{\"colorbar\":{\"outlinewidth\":0,\"tickcolor\":\"rgb(237,237,237)\",\"ticklen\":6,\"ticks\":\"inside\"}},\"type\":\"scatterpolargl\"}],\"scatterpolar\":[{\"marker\":{\"colorbar\":{\"outlinewidth\":0,\"tickcolor\":\"rgb(237,237,237)\",\"ticklen\":6,\"ticks\":\"inside\"}},\"type\":\"scatterpolar\"}],\"scatter\":[{\"marker\":{\"colorbar\":{\"outlinewidth\":0,\"tickcolor\":\"rgb(237,237,237)\",\"ticklen\":6,\"ticks\":\"inside\"}},\"type\":\"scatter\"}],\"scatterternary\":[{\"marker\":{\"colorbar\":{\"outlinewidth\":0,\"tickcolor\":\"rgb(237,237,237)\",\"ticklen\":6,\"ticks\":\"inside\"}},\"type\":\"scatterternary\"}],\"surface\":[{\"colorbar\":{\"outlinewidth\":0,\"tickcolor\":\"rgb(237,237,237)\",\"ticklen\":6,\"ticks\":\"inside\"},\"colorscale\":[[0,\"rgb(20,44,66)\"],[1,\"rgb(90,179,244)\"]],\"type\":\"surface\"}],\"table\":[{\"cells\":{\"fill\":{\"color\":\"rgb(237,237,237)\"},\"line\":{\"color\":\"white\"}},\"header\":{\"fill\":{\"color\":\"rgb(217,217,217)\"},\"line\":{\"color\":\"white\"}},\"type\":\"table\"}]},\"layout\":{\"annotationdefaults\":{\"arrowhead\":0,\"arrowwidth\":1},\"autotypenumbers\":\"strict\",\"coloraxis\":{\"colorbar\":{\"outlinewidth\":0,\"tickcolor\":\"rgb(237,237,237)\",\"ticklen\":6,\"ticks\":\"inside\"}},\"colorscale\":{\"sequential\":[[0,\"rgb(20,44,66)\"],[1,\"rgb(90,179,244)\"]],\"sequentialminus\":[[0,\"rgb(20,44,66)\"],[1,\"rgb(90,179,244)\"]]},\"colorway\":[\"#F8766D\",\"#A3A500\",\"#00BF7D\",\"#00B0F6\",\"#E76BF3\"],\"font\":{\"color\":\"rgb(51,51,51)\"},\"geo\":{\"bgcolor\":\"white\",\"lakecolor\":\"white\",\"landcolor\":\"rgb(237,237,237)\",\"showlakes\":true,\"showland\":true,\"subunitcolor\":\"white\"},\"hoverlabel\":{\"align\":\"left\"},\"hovermode\":\"closest\",\"paper_bgcolor\":\"white\",\"plot_bgcolor\":\"rgb(237,237,237)\",\"polar\":{\"angularaxis\":{\"gridcolor\":\"white\",\"linecolor\":\"white\",\"showgrid\":true,\"tickcolor\":\"rgb(51,51,51)\",\"ticks\":\"outside\"},\"bgcolor\":\"rgb(237,237,237)\",\"radialaxis\":{\"gridcolor\":\"white\",\"linecolor\":\"white\",\"showgrid\":true,\"tickcolor\":\"rgb(51,51,51)\",\"ticks\":\"outside\"}},\"scene\":{\"xaxis\":{\"backgroundcolor\":\"rgb(237,237,237)\",\"gridcolor\":\"white\",\"gridwidth\":2,\"linecolor\":\"white\",\"showbackground\":true,\"showgrid\":true,\"tickcolor\":\"rgb(51,51,51)\",\"ticks\":\"outside\",\"zerolinecolor\":\"white\"},\"yaxis\":{\"backgroundcolor\":\"rgb(237,237,237)\",\"gridcolor\":\"white\",\"gridwidth\":2,\"linecolor\":\"white\",\"showbackground\":true,\"showgrid\":true,\"tickcolor\":\"rgb(51,51,51)\",\"ticks\":\"outside\",\"zerolinecolor\":\"white\"},\"zaxis\":{\"backgroundcolor\":\"rgb(237,237,237)\",\"gridcolor\":\"white\",\"gridwidth\":2,\"linecolor\":\"white\",\"showbackground\":true,\"showgrid\":true,\"tickcolor\":\"rgb(51,51,51)\",\"ticks\":\"outside\",\"zerolinecolor\":\"white\"}},\"shapedefaults\":{\"fillcolor\":\"black\",\"line\":{\"width\":0},\"opacity\":0.3},\"ternary\":{\"aaxis\":{\"gridcolor\":\"white\",\"linecolor\":\"white\",\"showgrid\":true,\"tickcolor\":\"rgb(51,51,51)\",\"ticks\":\"outside\"},\"baxis\":{\"gridcolor\":\"white\",\"linecolor\":\"white\",\"showgrid\":true,\"tickcolor\":\"rgb(51,51,51)\",\"ticks\":\"outside\"},\"bgcolor\":\"rgb(237,237,237)\",\"caxis\":{\"gridcolor\":\"white\",\"linecolor\":\"white\",\"showgrid\":true,\"tickcolor\":\"rgb(51,51,51)\",\"ticks\":\"outside\"}},\"xaxis\":{\"automargin\":true,\"gridcolor\":\"white\",\"linecolor\":\"white\",\"showgrid\":true,\"tickcolor\":\"rgb(51,51,51)\",\"ticks\":\"outside\",\"title\":{\"standoff\":15},\"zerolinecolor\":\"white\"},\"yaxis\":{\"automargin\":true,\"gridcolor\":\"white\",\"linecolor\":\"white\",\"showgrid\":true,\"tickcolor\":\"rgb(51,51,51)\",\"ticks\":\"outside\",\"title\":{\"standoff\":15},\"zerolinecolor\":\"white\"}}},\"showlegend\":true},                        {\"responsive\": true}                    ).then(function(){\n",
              "                            \n",
              "var gd = document.getElementById('e6600fbd-360e-43e8-a203-298f9af79091');\n",
              "var x = new MutationObserver(function (mutations, observer) {{\n",
              "        var display = window.getComputedStyle(gd).display;\n",
              "        if (!display || display === 'none') {{\n",
              "            console.log([gd, 'removed!']);\n",
              "            Plotly.purge(gd);\n",
              "            observer.disconnect();\n",
              "        }}\n",
              "}});\n",
              "\n",
              "// Listen for the removal of the full notebook cells\n",
              "var notebookContainer = gd.closest('#notebook-container');\n",
              "if (notebookContainer) {{\n",
              "    x.observe(notebookContainer, {childList: true});\n",
              "}}\n",
              "\n",
              "// Listen for the clearing of the current output cell\n",
              "var outputEl = gd.closest('.output');\n",
              "if (outputEl) {{\n",
              "    x.observe(outputEl, {childList: true});\n",
              "}}\n",
              "\n",
              "                        })                };                            </script>        </div>\n",
              "</body>\n",
              "</html>"
            ]
          },
          "metadata": {}
        }
      ]
    },
    {
      "cell_type": "code",
      "metadata": {
        "id": "CdnBi1SpxTYJ",
        "outputId": "d6158f62-1b0d-4366-cbbb-6e8529bf9e22",
        "colab": {
          "base_uri": "https://localhost:8080/",
          "height": 238
        }
      },
      "source": [
        "exp.check_stats(model2d, test=\"white_noise\")"
      ],
      "execution_count": 25,
      "outputs": [
        {
          "output_type": "execute_result",
          "data": {
            "text/html": [
              "<div>\n",
              "<style scoped>\n",
              "    .dataframe tbody tr th:only-of-type {\n",
              "        vertical-align: middle;\n",
              "    }\n",
              "\n",
              "    .dataframe tbody tr th {\n",
              "        vertical-align: top;\n",
              "    }\n",
              "\n",
              "    .dataframe thead th {\n",
              "        text-align: right;\n",
              "    }\n",
              "</style>\n",
              "<table border=\"1\" class=\"dataframe\">\n",
              "  <thead>\n",
              "    <tr style=\"text-align: right;\">\n",
              "      <th></th>\n",
              "      <th>Test</th>\n",
              "      <th>Test Name</th>\n",
              "      <th>Property</th>\n",
              "      <th>Setting</th>\n",
              "      <th>Value</th>\n",
              "    </tr>\n",
              "  </thead>\n",
              "  <tbody>\n",
              "    <tr>\n",
              "      <th>0</th>\n",
              "      <td>White Noise</td>\n",
              "      <td>Ljung-Box</td>\n",
              "      <td>Test Statictic</td>\n",
              "      <td>{'alpha': 0.05, 'K': 24}</td>\n",
              "      <td>28.2088</td>\n",
              "    </tr>\n",
              "    <tr>\n",
              "      <th>1</th>\n",
              "      <td>White Noise</td>\n",
              "      <td>Ljung-Box</td>\n",
              "      <td>Test Statictic</td>\n",
              "      <td>{'alpha': 0.05, 'K': 48}</td>\n",
              "      <td>46.4439</td>\n",
              "    </tr>\n",
              "    <tr>\n",
              "      <th>2</th>\n",
              "      <td>White Noise</td>\n",
              "      <td>Ljung-Box</td>\n",
              "      <td>p-value</td>\n",
              "      <td>{'alpha': 0.05, 'K': 24}</td>\n",
              "      <td>0.251333</td>\n",
              "    </tr>\n",
              "    <tr>\n",
              "      <th>3</th>\n",
              "      <td>White Noise</td>\n",
              "      <td>Ljung-Box</td>\n",
              "      <td>p-value</td>\n",
              "      <td>{'alpha': 0.05, 'K': 48}</td>\n",
              "      <td>0.536759</td>\n",
              "    </tr>\n",
              "    <tr>\n",
              "      <th>4</th>\n",
              "      <td>White Noise</td>\n",
              "      <td>Ljung-Box</td>\n",
              "      <td>White Noise</td>\n",
              "      <td>{'alpha': 0.05, 'K': 24}</td>\n",
              "      <td>True</td>\n",
              "    </tr>\n",
              "    <tr>\n",
              "      <th>5</th>\n",
              "      <td>White Noise</td>\n",
              "      <td>Ljung-Box</td>\n",
              "      <td>White Noise</td>\n",
              "      <td>{'alpha': 0.05, 'K': 48}</td>\n",
              "      <td>True</td>\n",
              "    </tr>\n",
              "  </tbody>\n",
              "</table>\n",
              "</div>"
            ],
            "text/plain": [
              "          Test  Test Name        Property                   Setting     Value\n",
              "0  White Noise  Ljung-Box  Test Statictic  {'alpha': 0.05, 'K': 24}   28.2088\n",
              "1  White Noise  Ljung-Box  Test Statictic  {'alpha': 0.05, 'K': 48}   46.4439\n",
              "2  White Noise  Ljung-Box         p-value  {'alpha': 0.05, 'K': 24}  0.251333\n",
              "3  White Noise  Ljung-Box         p-value  {'alpha': 0.05, 'K': 48}  0.536759\n",
              "4  White Noise  Ljung-Box     White Noise  {'alpha': 0.05, 'K': 24}      True\n",
              "5  White Noise  Ljung-Box     White Noise  {'alpha': 0.05, 'K': 48}      True"
            ]
          },
          "metadata": {},
          "execution_count": 25
        }
      ]
    },
    {
      "cell_type": "markdown",
      "metadata": {
        "id": "AvbyqwHxw5FP"
      },
      "source": [
        "The calculations match exactly with the theoretical calculations. Hopefully this model has given us a good starting point to understand the inner workings of an ARIMA model. In the next set of FAQ's we will start covering the other parameters one by one and see the impact that they have on the model's behavior."
      ]
    },
    {
      "cell_type": "code",
      "metadata": {
        "id": "pHOEw1okVP6G"
      },
      "source": [
        ""
      ],
      "execution_count": 25,
      "outputs": []
    },
    {
      "cell_type": "code",
      "metadata": {
        "id": "t8W8OGKsVZZg"
      },
      "source": [
        ""
      ],
      "execution_count": 25,
      "outputs": []
    }
  ]
}