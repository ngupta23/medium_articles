{
  "nbformat": 4,
  "nbformat_minor": 0,
  "metadata": {
    "colab": {
      "name": "pycaret_ts_arima_010_0000.ipynb",
      "provenance": [],
      "collapsed_sections": [],
      "authorship_tag": "ABX9TyP4CBVxeElDACNMBiyLnH3Z",
      "include_colab_link": true
    },
    "kernelspec": {
      "name": "python3",
      "display_name": "Python 3"
    },
    "language_info": {
      "name": "python"
    },
    "widgets": {
      "application/vnd.jupyter.widget-state+json": {
        "2fec8ce969c04b61a04c0bc27573e82c": {
          "model_module": "@jupyter-widgets/controls",
          "model_name": "IntProgressModel",
          "model_module_version": "1.5.0",
          "state": {
            "_view_name": "ProgressView",
            "style": "IPY_MODEL_428ba07c292342179a610d4f7bba735b",
            "_dom_classes": [],
            "description": "Processing: ",
            "_model_name": "IntProgressModel",
            "bar_style": "",
            "max": 3,
            "_view_module": "@jupyter-widgets/controls",
            "_model_module_version": "1.5.0",
            "value": 3,
            "_view_count": null,
            "_view_module_version": "1.5.0",
            "orientation": "horizontal",
            "min": 0,
            "description_tooltip": null,
            "_model_module": "@jupyter-widgets/controls",
            "layout": "IPY_MODEL_7372d7a56170483fa627a5327b37f0dd"
          }
        },
        "428ba07c292342179a610d4f7bba735b": {
          "model_module": "@jupyter-widgets/controls",
          "model_name": "ProgressStyleModel",
          "model_module_version": "1.5.0",
          "state": {
            "_view_name": "StyleView",
            "_model_name": "ProgressStyleModel",
            "description_width": "",
            "_view_module": "@jupyter-widgets/base",
            "_model_module_version": "1.5.0",
            "_view_count": null,
            "_view_module_version": "1.2.0",
            "bar_color": null,
            "_model_module": "@jupyter-widgets/controls"
          }
        },
        "7372d7a56170483fa627a5327b37f0dd": {
          "model_module": "@jupyter-widgets/base",
          "model_name": "LayoutModel",
          "model_module_version": "1.2.0",
          "state": {
            "_view_name": "LayoutView",
            "grid_template_rows": null,
            "right": null,
            "justify_content": null,
            "_view_module": "@jupyter-widgets/base",
            "overflow": null,
            "_model_module_version": "1.2.0",
            "_view_count": null,
            "flex_flow": null,
            "width": null,
            "min_width": null,
            "border": null,
            "align_items": null,
            "bottom": null,
            "_model_module": "@jupyter-widgets/base",
            "top": null,
            "grid_column": null,
            "overflow_y": null,
            "overflow_x": null,
            "grid_auto_flow": null,
            "grid_area": null,
            "grid_template_columns": null,
            "flex": null,
            "_model_name": "LayoutModel",
            "justify_items": null,
            "grid_row": null,
            "max_height": null,
            "align_content": null,
            "visibility": null,
            "align_self": null,
            "height": null,
            "min_height": null,
            "padding": null,
            "grid_auto_rows": null,
            "grid_gap": null,
            "max_width": null,
            "order": null,
            "_view_module_version": "1.2.0",
            "grid_template_areas": null,
            "object_position": null,
            "object_fit": null,
            "grid_auto_columns": null,
            "margin": null,
            "display": null,
            "left": null
          }
        },
        "8f2ef44fc76d4992a2bb0f83ecd990fc": {
          "model_module": "@jupyter-widgets/controls",
          "model_name": "IntProgressModel",
          "model_module_version": "1.5.0",
          "state": {
            "_view_name": "ProgressView",
            "style": "IPY_MODEL_32728047c3604cd283a6988b9bfb1cc9",
            "_dom_classes": [],
            "description": "Processing: ",
            "_model_name": "IntProgressModel",
            "bar_style": "",
            "max": 4,
            "_view_module": "@jupyter-widgets/controls",
            "_model_module_version": "1.5.0",
            "value": 4,
            "_view_count": null,
            "_view_module_version": "1.5.0",
            "orientation": "horizontal",
            "min": 0,
            "description_tooltip": null,
            "_model_module": "@jupyter-widgets/controls",
            "layout": "IPY_MODEL_79912867f3b94476915deac212751865"
          }
        },
        "32728047c3604cd283a6988b9bfb1cc9": {
          "model_module": "@jupyter-widgets/controls",
          "model_name": "ProgressStyleModel",
          "model_module_version": "1.5.0",
          "state": {
            "_view_name": "StyleView",
            "_model_name": "ProgressStyleModel",
            "description_width": "",
            "_view_module": "@jupyter-widgets/base",
            "_model_module_version": "1.5.0",
            "_view_count": null,
            "_view_module_version": "1.2.0",
            "bar_color": null,
            "_model_module": "@jupyter-widgets/controls"
          }
        },
        "79912867f3b94476915deac212751865": {
          "model_module": "@jupyter-widgets/base",
          "model_name": "LayoutModel",
          "model_module_version": "1.2.0",
          "state": {
            "_view_name": "LayoutView",
            "grid_template_rows": null,
            "right": null,
            "justify_content": null,
            "_view_module": "@jupyter-widgets/base",
            "overflow": null,
            "_model_module_version": "1.2.0",
            "_view_count": null,
            "flex_flow": null,
            "width": null,
            "min_width": null,
            "border": null,
            "align_items": null,
            "bottom": null,
            "_model_module": "@jupyter-widgets/base",
            "top": null,
            "grid_column": null,
            "overflow_y": null,
            "overflow_x": null,
            "grid_auto_flow": null,
            "grid_area": null,
            "grid_template_columns": null,
            "flex": null,
            "_model_name": "LayoutModel",
            "justify_items": null,
            "grid_row": null,
            "max_height": null,
            "align_content": null,
            "visibility": null,
            "align_self": null,
            "height": null,
            "min_height": null,
            "padding": null,
            "grid_auto_rows": null,
            "grid_gap": null,
            "max_width": null,
            "order": null,
            "_view_module_version": "1.2.0",
            "grid_template_areas": null,
            "object_position": null,
            "object_fit": null,
            "grid_auto_columns": null,
            "margin": null,
            "display": null,
            "left": null
          }
        },
        "ef9d924eb4ca4fd38afae8e12f4b8ae5": {
          "model_module": "@jupyter-widgets/controls",
          "model_name": "IntProgressModel",
          "model_module_version": "1.5.0",
          "state": {
            "_view_name": "ProgressView",
            "style": "IPY_MODEL_f5dc52d524b54e5b9b14bf4e51550e7b",
            "_dom_classes": [],
            "description": "Processing: ",
            "_model_name": "IntProgressModel",
            "bar_style": "",
            "max": 4,
            "_view_module": "@jupyter-widgets/controls",
            "_model_module_version": "1.5.0",
            "value": 2,
            "_view_count": null,
            "_view_module_version": "1.5.0",
            "orientation": "horizontal",
            "min": 0,
            "description_tooltip": null,
            "_model_module": "@jupyter-widgets/controls",
            "layout": "IPY_MODEL_f95a763aee8b4f40b48fbc0277f09e81"
          }
        },
        "f5dc52d524b54e5b9b14bf4e51550e7b": {
          "model_module": "@jupyter-widgets/controls",
          "model_name": "ProgressStyleModel",
          "model_module_version": "1.5.0",
          "state": {
            "_view_name": "StyleView",
            "_model_name": "ProgressStyleModel",
            "description_width": "",
            "_view_module": "@jupyter-widgets/base",
            "_model_module_version": "1.5.0",
            "_view_count": null,
            "_view_module_version": "1.2.0",
            "bar_color": null,
            "_model_module": "@jupyter-widgets/controls"
          }
        },
        "f95a763aee8b4f40b48fbc0277f09e81": {
          "model_module": "@jupyter-widgets/base",
          "model_name": "LayoutModel",
          "model_module_version": "1.2.0",
          "state": {
            "_view_name": "LayoutView",
            "grid_template_rows": null,
            "right": null,
            "justify_content": null,
            "_view_module": "@jupyter-widgets/base",
            "overflow": null,
            "_model_module_version": "1.2.0",
            "_view_count": null,
            "flex_flow": null,
            "width": null,
            "min_width": null,
            "border": null,
            "align_items": null,
            "bottom": null,
            "_model_module": "@jupyter-widgets/base",
            "top": null,
            "grid_column": null,
            "overflow_y": null,
            "overflow_x": null,
            "grid_auto_flow": null,
            "grid_area": null,
            "grid_template_columns": null,
            "flex": null,
            "_model_name": "LayoutModel",
            "justify_items": null,
            "grid_row": null,
            "max_height": null,
            "align_content": null,
            "visibility": null,
            "align_self": null,
            "height": null,
            "min_height": null,
            "padding": null,
            "grid_auto_rows": null,
            "grid_gap": null,
            "max_width": null,
            "order": null,
            "_view_module_version": "1.2.0",
            "grid_template_areas": null,
            "object_position": null,
            "object_fit": null,
            "grid_auto_columns": null,
            "margin": null,
            "display": null,
            "left": null
          }
        }
      }
    }
  },
  "cells": [
    {
      "cell_type": "markdown",
      "metadata": {
        "id": "view-in-github",
        "colab_type": "text"
      },
      "source": [
        "<a href=\"https://colab.research.google.com/github/ngupta23/medium_articles/blob/main/time_series/pycaret/pycaret_ts_arima_010_0000.ipynb\" target=\"_parent\"><img src=\"https://colab.research.google.com/assets/colab-badge.svg\" alt=\"Open In Colab\"/></a>"
      ]
    },
    {
      "cell_type": "markdown",
      "metadata": {
        "id": "cCSXDcfLUpiI"
      },
      "source": [
        "## Install & Import Library\n",
        "\n",
        "\n"
      ]
    },
    {
      "cell_type": "code",
      "metadata": {
        "id": "bIzRzdrYUoYk"
      },
      "source": [
        "try:\n",
        "  import pycaret\n",
        "except:\n",
        "  !pip install pycaret-ts-alpha"
      ],
      "execution_count": 1,
      "outputs": []
    },
    {
      "cell_type": "markdown",
      "metadata": {
        "id": "yPO-3Az6Uw6p"
      },
      "source": [
        ""
      ]
    },
    {
      "cell_type": "code",
      "metadata": {
        "colab": {
          "base_uri": "https://localhost:8080/"
        },
        "id": "nADwyjWfUtF6",
        "outputId": "d49eef72-0119-45e5-c4e3-50cc04669eba"
      },
      "source": [
        "import numpy as np\n",
        "import pandas as pd\n",
        "import seaborn as sns\n",
        "from pycaret.datasets import get_data\n",
        "from pycaret.internal.pycaret_experiment import TimeSeriesExperiment"
      ],
      "execution_count": 2,
      "outputs": [
        {
          "output_type": "stream",
          "name": "stderr",
          "text": [
            "/usr/local/lib/python3.7/dist-packages/distributed/config.py:20: YAMLLoadWarning: calling yaml.load() without Loader=... is deprecated, as the default Loader is unsafe. Please read https://msg.pyyaml.org/load for full details.\n",
            "  defaults = yaml.load(f)\n"
          ]
        }
      ]
    },
    {
      "cell_type": "markdown",
      "metadata": {
        "id": "OhpEAd7MUxYy"
      },
      "source": [
        "## Get Data and Setup PyCaret Experiment"
      ]
    },
    {
      "cell_type": "code",
      "metadata": {
        "colab": {
          "base_uri": "https://localhost:8080/",
          "height": 204
        },
        "id": "EiL8vCoVUuvJ",
        "outputId": "65fa9e49-0f9b-48d3-ce5b-8f3907d814fa"
      },
      "source": [
        "#### Get data from data playground ----\n",
        "y = get_data(\"1\", folder=\"time_series/random_walk\")"
      ],
      "execution_count": 3,
      "outputs": [
        {
          "output_type": "display_data",
          "data": {
            "text/html": [
              "<div>\n",
              "<style scoped>\n",
              "    .dataframe tbody tr th:only-of-type {\n",
              "        vertical-align: middle;\n",
              "    }\n",
              "\n",
              "    .dataframe tbody tr th {\n",
              "        vertical-align: top;\n",
              "    }\n",
              "\n",
              "    .dataframe thead th {\n",
              "        text-align: right;\n",
              "    }\n",
              "</style>\n",
              "<table border=\"1\" class=\"dataframe\">\n",
              "  <thead>\n",
              "    <tr style=\"text-align: right;\">\n",
              "      <th></th>\n",
              "      <th>x</th>\n",
              "    </tr>\n",
              "  </thead>\n",
              "  <tbody>\n",
              "    <tr>\n",
              "      <th>0</th>\n",
              "      <td>186.268370</td>\n",
              "    </tr>\n",
              "    <tr>\n",
              "      <th>1</th>\n",
              "      <td>186.310486</td>\n",
              "    </tr>\n",
              "    <tr>\n",
              "      <th>2</th>\n",
              "      <td>185.399564</td>\n",
              "    </tr>\n",
              "    <tr>\n",
              "      <th>3</th>\n",
              "      <td>185.557593</td>\n",
              "    </tr>\n",
              "    <tr>\n",
              "      <th>4</th>\n",
              "      <td>184.903008</td>\n",
              "    </tr>\n",
              "  </tbody>\n",
              "</table>\n",
              "</div>"
            ],
            "text/plain": [
              "            x\n",
              "0  186.268370\n",
              "1  186.310486\n",
              "2  185.399564\n",
              "3  185.557593\n",
              "4  184.903008"
            ]
          },
          "metadata": {}
        }
      ]
    },
    {
      "cell_type": "code",
      "metadata": {
        "colab": {
          "base_uri": "https://localhost:8080/",
          "height": 686,
          "referenced_widgets": [
            "2fec8ce969c04b61a04c0bc27573e82c",
            "428ba07c292342179a610d4f7bba735b",
            "7372d7a56170483fa627a5327b37f0dd"
          ]
        },
        "id": "y6Z838CPU1sb",
        "outputId": "2af9b069-0d5a-45b6-fa7f-4703292d6f94"
      },
      "source": [
        "exp = TimeSeriesExperiment()\n",
        "exp.setup(data=y, seasonal_period=1, fh=30, session_id=42)"
      ],
      "execution_count": 4,
      "outputs": [
        {
          "output_type": "display_data",
          "data": {
            "text/html": [
              "<div>\n",
              "<style scoped>\n",
              "    .dataframe tbody tr th:only-of-type {\n",
              "        vertical-align: middle;\n",
              "    }\n",
              "\n",
              "    .dataframe tbody tr th {\n",
              "        vertical-align: top;\n",
              "    }\n",
              "\n",
              "    .dataframe thead th {\n",
              "        text-align: right;\n",
              "    }\n",
              "</style>\n",
              "<table border=\"1\" class=\"dataframe\">\n",
              "  <thead>\n",
              "    <tr style=\"text-align: right;\">\n",
              "      <th></th>\n",
              "      <th>Description</th>\n",
              "      <th>Value</th>\n",
              "    </tr>\n",
              "  </thead>\n",
              "  <tbody>\n",
              "    <tr>\n",
              "      <th>0</th>\n",
              "      <td>session_id</td>\n",
              "      <td>42</td>\n",
              "    </tr>\n",
              "    <tr>\n",
              "      <th>1</th>\n",
              "      <td>Original Data</td>\n",
              "      <td>(340, 1)</td>\n",
              "    </tr>\n",
              "    <tr>\n",
              "      <th>2</th>\n",
              "      <td>Missing Values</td>\n",
              "      <td>False</td>\n",
              "    </tr>\n",
              "    <tr>\n",
              "      <th>3</th>\n",
              "      <td>Transformed Train Set</td>\n",
              "      <td>(310,)</td>\n",
              "    </tr>\n",
              "    <tr>\n",
              "      <th>4</th>\n",
              "      <td>Transformed Test Set</td>\n",
              "      <td>(30,)</td>\n",
              "    </tr>\n",
              "    <tr>\n",
              "      <th>5</th>\n",
              "      <td>Fold Generator</td>\n",
              "      <td>ExpandingWindowSplitter</td>\n",
              "    </tr>\n",
              "    <tr>\n",
              "      <th>6</th>\n",
              "      <td>Fold Number</td>\n",
              "      <td>3</td>\n",
              "    </tr>\n",
              "    <tr>\n",
              "      <th>7</th>\n",
              "      <td>Enforce Prediction Interval</td>\n",
              "      <td>False</td>\n",
              "    </tr>\n",
              "    <tr>\n",
              "      <th>8</th>\n",
              "      <td>Seasonal Period Tested</td>\n",
              "      <td>1</td>\n",
              "    </tr>\n",
              "    <tr>\n",
              "      <th>9</th>\n",
              "      <td>Seasonality Detected</td>\n",
              "      <td>False</td>\n",
              "    </tr>\n",
              "    <tr>\n",
              "      <th>10</th>\n",
              "      <td>Target Strictly Positive</td>\n",
              "      <td>True</td>\n",
              "    </tr>\n",
              "    <tr>\n",
              "      <th>11</th>\n",
              "      <td>Target White Noise</td>\n",
              "      <td>No</td>\n",
              "    </tr>\n",
              "    <tr>\n",
              "      <th>12</th>\n",
              "      <td>Recommended d</td>\n",
              "      <td>1</td>\n",
              "    </tr>\n",
              "    <tr>\n",
              "      <th>13</th>\n",
              "      <td>Recommended Seasonal D</td>\n",
              "      <td>0</td>\n",
              "    </tr>\n",
              "    <tr>\n",
              "      <th>14</th>\n",
              "      <td>CPU Jobs</td>\n",
              "      <td>-1</td>\n",
              "    </tr>\n",
              "    <tr>\n",
              "      <th>15</th>\n",
              "      <td>Use GPU</td>\n",
              "      <td>False</td>\n",
              "    </tr>\n",
              "    <tr>\n",
              "      <th>16</th>\n",
              "      <td>Log Experiment</td>\n",
              "      <td>False</td>\n",
              "    </tr>\n",
              "    <tr>\n",
              "      <th>17</th>\n",
              "      <td>Experiment Name</td>\n",
              "      <td>ts-default-name</td>\n",
              "    </tr>\n",
              "    <tr>\n",
              "      <th>18</th>\n",
              "      <td>USI</td>\n",
              "      <td>4a8f</td>\n",
              "    </tr>\n",
              "    <tr>\n",
              "      <th>19</th>\n",
              "      <td>Imputation Type</td>\n",
              "      <td>simple</td>\n",
              "    </tr>\n",
              "  </tbody>\n",
              "</table>\n",
              "</div>"
            ],
            "text/plain": [
              "                    Description                    Value\n",
              "0                    session_id                       42\n",
              "1                 Original Data                 (340, 1)\n",
              "2                Missing Values                    False\n",
              "3         Transformed Train Set                   (310,)\n",
              "4          Transformed Test Set                    (30,)\n",
              "5                Fold Generator  ExpandingWindowSplitter\n",
              "6                   Fold Number                        3\n",
              "7   Enforce Prediction Interval                    False\n",
              "8        Seasonal Period Tested                        1\n",
              "9          Seasonality Detected                    False\n",
              "10     Target Strictly Positive                     True\n",
              "11           Target White Noise                       No\n",
              "12                Recommended d                        1\n",
              "13       Recommended Seasonal D                        0\n",
              "14                     CPU Jobs                       -1\n",
              "15                      Use GPU                    False\n",
              "16               Log Experiment                    False\n",
              "17              Experiment Name          ts-default-name\n",
              "18                          USI                     4a8f\n",
              "19              Imputation Type                   simple"
            ]
          },
          "metadata": {}
        },
        {
          "output_type": "execute_result",
          "data": {
            "text/plain": [
              "<pycaret.internal.pycaret_experiment.time_series_experiment.TimeSeriesExperiment at 0x7fbb1090b990>"
            ]
          },
          "metadata": {},
          "execution_count": 4
        }
      ]
    },
    {
      "cell_type": "markdown",
      "metadata": {
        "id": "ytCi5n8dU4uJ"
      },
      "source": [
        "## EDA"
      ]
    },
    {
      "cell_type": "code",
      "metadata": {
        "colab": {
          "base_uri": "https://localhost:8080/",
          "height": 542
        },
        "id": "2Tn58TkQU3N5",
        "outputId": "98a886fe-ab07-46c1-a0a5-2bbad74bf385"
      },
      "source": [
        "exp.plot_model()"
      ],
      "execution_count": 5,
      "outputs": [
        {
          "output_type": "display_data",
          "data": {
            "text/html": [
              "<html>\n",
              "<head><meta charset=\"utf-8\" /></head>\n",
              "<body>\n",
              "    <div>            <script src=\"https://cdnjs.cloudflare.com/ajax/libs/mathjax/2.7.5/MathJax.js?config=TeX-AMS-MML_SVG\"></script><script type=\"text/javascript\">if (window.MathJax) {MathJax.Hub.Config({SVG: {font: \"STIX-Web\"}});}</script>                <script type=\"text/javascript\">window.PlotlyConfig = {MathJaxConfig: 'local'};</script>\n",
              "        <script src=\"https://cdn.plot.ly/plotly-2.6.3.min.js\"></script>                <div id=\"391dfec5-beae-4ce8-ae4b-601640f5d8ad\" class=\"plotly-graph-div\" style=\"height:525px; width:100%;\"></div>            <script type=\"text/javascript\">                                    window.PLOTLYENV=window.PLOTLYENV || {};                                    if (document.getElementById(\"391dfec5-beae-4ce8-ae4b-601640f5d8ad\")) {                    Plotly.newPlot(                        \"391dfec5-beae-4ce8-ae4b-601640f5d8ad\",                        [{\"marker\":{\"color\":\"#3f3f3f\",\"size\":5},\"mode\":\"lines+markers\",\"name\":\"Time Series\",\"showlegend\":true,\"x\":[0,1,2,3,4,5,6,7,8,9,10,11,12,13,14,15,16,17,18,19,20,21,22,23,24,25,26,27,28,29,30,31,32,33,34,35,36,37,38,39,40,41,42,43,44,45,46,47,48,49,50,51,52,53,54,55,56,57,58,59,60,61,62,63,64,65,66,67,68,69,70,71,72,73,74,75,76,77,78,79,80,81,82,83,84,85,86,87,88,89,90,91,92,93,94,95,96,97,98,99,100,101,102,103,104,105,106,107,108,109,110,111,112,113,114,115,116,117,118,119,120,121,122,123,124,125,126,127,128,129,130,131,132,133,134,135,136,137,138,139,140,141,142,143,144,145,146,147,148,149,150,151,152,153,154,155,156,157,158,159,160,161,162,163,164,165,166,167,168,169,170,171,172,173,174,175,176,177,178,179,180,181,182,183,184,185,186,187,188,189,190,191,192,193,194,195,196,197,198,199,200,201,202,203,204,205,206,207,208,209,210,211,212,213,214,215,216,217,218,219,220,221,222,223,224,225,226,227,228,229,230,231,232,233,234,235,236,237,238,239,240,241,242,243,244,245,246,247,248,249,250,251,252,253,254,255,256,257,258,259,260,261,262,263,264,265,266,267,268,269,270,271,272,273,274,275,276,277,278,279,280,281,282,283,284,285,286,287,288,289,290,291,292,293,294,295,296,297,298,299,300,301,302,303,304,305,306,307,308,309,310,311,312,313,314,315,316,317,318,319,320,321,322,323,324,325,326,327,328,329,330,331,332,333,334,335,336,337,338,339],\"y\":[186.268370014241,186.31048588738602,185.399564238833,185.557593011237,184.903008367318,186.670295636691,187.38700311270802,188.29717734220299,188.68136270003004,190.36353878054902,189.7278023266,189.26615759624,190.698439834781,190.04774348147097,189.840362737869,189.44755480842701,189.127561939879,188.84844863690202,189.34263696817,189.1653064859,188.659349023786,190.002387848956,189.78780844041,189.608251910366,189.508061169153,190.220727476204,190.14716307207803,190.109528900611,189.427868421855,189.10359814960898,189.163758590043,188.574864103783,189.10636029641603,187.58796621462898,187.894524075419,186.358074251881,186.057098125045,185.52881822060002,184.876723439919,184.819826662071,182.905467236391,184.08205054841,182.417078112198,181.953547710726,180.837627605683,180.086808604489,182.173975150118,182.191370769811,180.90507023937698,179.264464704958,179.714651806231,179.69609197351602,179.37802359897202,178.44866145151798,176.961201141377,175.88600884476102,176.886037648475,176.264770953678,174.880344106294,176.749634728717,177.17473510608997,176.936088005177,177.994571053886,178.880993705261,178.26175065702998,180.46785312157,180.21282609142898,178.788331441216,178.643931839262,178.851470178494,181.159448577554,181.265250945448,181.72224975087101,181.645096815514,181.311095973148,181.276369944837,182.064009550467,184.139254559119,185.166646997883,186.37455539626998,185.143231974711,186.12712754476502,186.34705234842602,184.879802319333,185.400825061981,185.24207045726502,186.706657769235,185.940575769631,185.510364015702,184.584254518325,184.407150556888,184.80916233637402,184.077414163255,184.907787331236,183.699704544932,182.65172013212398,184.092877838968,183.07703037366403,183.48900508598098,183.10792903487203,183.517330874523,185.206204160727,186.79279259416901,186.461884793487,184.176649258194,186.674310848028,187.341377014794,187.88270435075802,187.869304827612,188.379413250565,188.21503741879502,188.635732062049,188.23548531807202,186.86527744052398,187.85311570797901,189.372860733479,189.064120164253,187.810830408645,188.45307171432302,188.40836257742902,186.67514417060397,186.677276030285,186.046975696357,185.706007116496,184.54943475386003,186.352576661778,186.021444625386,184.415931213133,184.61312465187302,184.876300298278,183.890473597869,181.00155292619,180.361071223624,180.93157885954497,180.871855583502,180.773676839497,181.334497568117,180.148038929538,181.244815973812,181.23947194553398,181.94678261293203,182.980890347669,183.204370762585,182.32566314971902,183.48862770568599,181.4884627609,180.94367202089902,180.68800131174197,180.521880274977,181.54234418376097,181.678566076864,182.085733680287,182.016078867275,181.76841452565498,182.463965332275,183.610193689491,181.207097474599,181.779837029845,182.154561436623,181.72929371506697,182.680306522644,182.29106934092601,182.00673867912602,182.864148457206,184.58377575632701,184.85383065726398,184.43164664747601,183.242533352617,182.911500373737,181.97167104722698,181.712738464109,182.10711763233002,181.255260540306,183.90442742140098,184.060439097066,185.190646364521,182.90152238468102,183.64252354187698,182.32627838142503,183.246082059034,183.644212214486,183.236683635216,184.56094226539398,183.859710596147,183.279096291906,182.278024110881,181.609845504127,182.5550304575,182.98873260704602,183.99389182472302,183.603773160669,183.980143452444,184.22430837693,182.798051034548,184.576480322023,184.710927982957,185.476526982115,186.431663659024,186.38109795758098,186.075282537814,186.96895624023998,185.921658091179,187.892995477403,187.509363371114,189.163508673389,190.67572136733997,190.758687100926,191.325908015777,190.30135953624298,190.62436603926497,191.667978497622,191.767056984519,191.312920075364,190.657138222914,190.621215800291,191.690377260968,191.206402330667,191.08539221933898,189.791252215519,190.285565051534,191.59346657164798,193.09050758105,193.90521031194803,192.035421521745,192.51745102586898,192.97358662917,192.62018634334,192.790675814288,191.92663986016103,192.60587063417702,192.278769619524,190.70968743438,190.342236678209,191.70667160727902,191.372390242548,192.105140284757,193.05172592495498,193.05612462928102,192.703802323732,192.17410681459802,192.913696040173,191.85023862468998,192.096449468226,191.80695010166198,189.54206074517398,188.133210289101,189.04922961789399,188.857950667358,189.661233883492,191.548708346801,193.02258952791001,193.69985802022302,194.079820706789,193.887022280332,195.464914075237,196.061148184555,194.887571243684,194.731928708793,192.81301888852298,192.61776004241298,190.025432372467,191.339434539665,190.703891538633,190.273912699939,190.104594367637,190.716812541626,191.395152718848,191.96310469132,191.390562087394,190.027270831116,189.638548586778,189.91646271922798,189.093381597656,189.024540663178,187.856878337048,187.848569322832,187.97742472443,187.831549095969,187.66763813923302,189.431190142018,190.193776654436,191.30520773516702,190.382000782337,190.546342620765,191.70116780786202,191.64464638333598,189.515285735101,189.8601314972,187.95517605161498,187.144005898475,188.46801021977402,189.083647069077,190.17531602461202,190.48192088612598,190.371762123643,189.44744935051602,191.040363104235,191.08537370235697,190.37024530168898,191.235468401406,192.30990935968399,194.20556413388303,193.602566830277,193.211699009554,192.795476978024,192.41981955520401,192.053188609501,191.7575111568,193.199331567,192.501793275087,192.113625769166,192.76616222133703,193.890934667873,193.11882386484902,192.61073764871003,193.13435823920798,194.152112465746,193.900947877658,192.47095443027,194.18007546237098,195.615145034682,194.904773888832,194.839706315177,193.08023757981098,193.64996055163002,195.262307349832,193.625026702727,192.845458189525,192.204281255775,191.523149862204,189.489864266586,189.990827825834,188.459029685868,188.43403204659,189.027016767615,188.82882134612998,189.720829738604,189.695114667686,189.04745421709998,189.693813632135],\"type\":\"scatter\"}],                        {\"title\":{\"text\":\"Time Series | x\"},\"xaxis\":{\"title\":{\"text\":\"Time\"}},\"yaxis\":{\"title\":{\"text\":\"Values\"}},\"template\":{\"data\":{\"barpolar\":[{\"marker\":{\"line\":{\"color\":\"rgb(237,237,237)\",\"width\":0.5},\"pattern\":{\"fillmode\":\"overlay\",\"size\":10,\"solidity\":0.2}},\"type\":\"barpolar\"}],\"bar\":[{\"error_x\":{\"color\":\"rgb(51,51,51)\"},\"error_y\":{\"color\":\"rgb(51,51,51)\"},\"marker\":{\"line\":{\"color\":\"rgb(237,237,237)\",\"width\":0.5},\"pattern\":{\"fillmode\":\"overlay\",\"size\":10,\"solidity\":0.2}},\"type\":\"bar\"}],\"carpet\":[{\"aaxis\":{\"endlinecolor\":\"rgb(51,51,51)\",\"gridcolor\":\"white\",\"linecolor\":\"white\",\"minorgridcolor\":\"white\",\"startlinecolor\":\"rgb(51,51,51)\"},\"baxis\":{\"endlinecolor\":\"rgb(51,51,51)\",\"gridcolor\":\"white\",\"linecolor\":\"white\",\"minorgridcolor\":\"white\",\"startlinecolor\":\"rgb(51,51,51)\"},\"type\":\"carpet\"}],\"choropleth\":[{\"colorbar\":{\"outlinewidth\":0,\"tickcolor\":\"rgb(237,237,237)\",\"ticklen\":6,\"ticks\":\"inside\"},\"type\":\"choropleth\"}],\"contourcarpet\":[{\"colorbar\":{\"outlinewidth\":0,\"tickcolor\":\"rgb(237,237,237)\",\"ticklen\":6,\"ticks\":\"inside\"},\"type\":\"contourcarpet\"}],\"contour\":[{\"colorbar\":{\"outlinewidth\":0,\"tickcolor\":\"rgb(237,237,237)\",\"ticklen\":6,\"ticks\":\"inside\"},\"colorscale\":[[0,\"rgb(20,44,66)\"],[1,\"rgb(90,179,244)\"]],\"type\":\"contour\"}],\"heatmapgl\":[{\"colorbar\":{\"outlinewidth\":0,\"tickcolor\":\"rgb(237,237,237)\",\"ticklen\":6,\"ticks\":\"inside\"},\"colorscale\":[[0,\"rgb(20,44,66)\"],[1,\"rgb(90,179,244)\"]],\"type\":\"heatmapgl\"}],\"heatmap\":[{\"colorbar\":{\"outlinewidth\":0,\"tickcolor\":\"rgb(237,237,237)\",\"ticklen\":6,\"ticks\":\"inside\"},\"colorscale\":[[0,\"rgb(20,44,66)\"],[1,\"rgb(90,179,244)\"]],\"type\":\"heatmap\"}],\"histogram2dcontour\":[{\"colorbar\":{\"outlinewidth\":0,\"tickcolor\":\"rgb(237,237,237)\",\"ticklen\":6,\"ticks\":\"inside\"},\"colorscale\":[[0,\"rgb(20,44,66)\"],[1,\"rgb(90,179,244)\"]],\"type\":\"histogram2dcontour\"}],\"histogram2d\":[{\"colorbar\":{\"outlinewidth\":0,\"tickcolor\":\"rgb(237,237,237)\",\"ticklen\":6,\"ticks\":\"inside\"},\"colorscale\":[[0,\"rgb(20,44,66)\"],[1,\"rgb(90,179,244)\"]],\"type\":\"histogram2d\"}],\"histogram\":[{\"marker\":{\"pattern\":{\"fillmode\":\"overlay\",\"size\":10,\"solidity\":0.2}},\"type\":\"histogram\"}],\"mesh3d\":[{\"colorbar\":{\"outlinewidth\":0,\"tickcolor\":\"rgb(237,237,237)\",\"ticklen\":6,\"ticks\":\"inside\"},\"type\":\"mesh3d\"}],\"parcoords\":[{\"line\":{\"colorbar\":{\"outlinewidth\":0,\"tickcolor\":\"rgb(237,237,237)\",\"ticklen\":6,\"ticks\":\"inside\"}},\"type\":\"parcoords\"}],\"pie\":[{\"automargin\":true,\"type\":\"pie\"}],\"scatter3d\":[{\"line\":{\"colorbar\":{\"outlinewidth\":0,\"tickcolor\":\"rgb(237,237,237)\",\"ticklen\":6,\"ticks\":\"inside\"}},\"marker\":{\"colorbar\":{\"outlinewidth\":0,\"tickcolor\":\"rgb(237,237,237)\",\"ticklen\":6,\"ticks\":\"inside\"}},\"type\":\"scatter3d\"}],\"scattercarpet\":[{\"marker\":{\"colorbar\":{\"outlinewidth\":0,\"tickcolor\":\"rgb(237,237,237)\",\"ticklen\":6,\"ticks\":\"inside\"}},\"type\":\"scattercarpet\"}],\"scattergeo\":[{\"marker\":{\"colorbar\":{\"outlinewidth\":0,\"tickcolor\":\"rgb(237,237,237)\",\"ticklen\":6,\"ticks\":\"inside\"}},\"type\":\"scattergeo\"}],\"scattergl\":[{\"marker\":{\"colorbar\":{\"outlinewidth\":0,\"tickcolor\":\"rgb(237,237,237)\",\"ticklen\":6,\"ticks\":\"inside\"}},\"type\":\"scattergl\"}],\"scattermapbox\":[{\"marker\":{\"colorbar\":{\"outlinewidth\":0,\"tickcolor\":\"rgb(237,237,237)\",\"ticklen\":6,\"ticks\":\"inside\"}},\"type\":\"scattermapbox\"}],\"scatterpolargl\":[{\"marker\":{\"colorbar\":{\"outlinewidth\":0,\"tickcolor\":\"rgb(237,237,237)\",\"ticklen\":6,\"ticks\":\"inside\"}},\"type\":\"scatterpolargl\"}],\"scatterpolar\":[{\"marker\":{\"colorbar\":{\"outlinewidth\":0,\"tickcolor\":\"rgb(237,237,237)\",\"ticklen\":6,\"ticks\":\"inside\"}},\"type\":\"scatterpolar\"}],\"scatter\":[{\"marker\":{\"colorbar\":{\"outlinewidth\":0,\"tickcolor\":\"rgb(237,237,237)\",\"ticklen\":6,\"ticks\":\"inside\"}},\"type\":\"scatter\"}],\"scatterternary\":[{\"marker\":{\"colorbar\":{\"outlinewidth\":0,\"tickcolor\":\"rgb(237,237,237)\",\"ticklen\":6,\"ticks\":\"inside\"}},\"type\":\"scatterternary\"}],\"surface\":[{\"colorbar\":{\"outlinewidth\":0,\"tickcolor\":\"rgb(237,237,237)\",\"ticklen\":6,\"ticks\":\"inside\"},\"colorscale\":[[0,\"rgb(20,44,66)\"],[1,\"rgb(90,179,244)\"]],\"type\":\"surface\"}],\"table\":[{\"cells\":{\"fill\":{\"color\":\"rgb(237,237,237)\"},\"line\":{\"color\":\"white\"}},\"header\":{\"fill\":{\"color\":\"rgb(217,217,217)\"},\"line\":{\"color\":\"white\"}},\"type\":\"table\"}]},\"layout\":{\"annotationdefaults\":{\"arrowhead\":0,\"arrowwidth\":1},\"autotypenumbers\":\"strict\",\"coloraxis\":{\"colorbar\":{\"outlinewidth\":0,\"tickcolor\":\"rgb(237,237,237)\",\"ticklen\":6,\"ticks\":\"inside\"}},\"colorscale\":{\"sequential\":[[0,\"rgb(20,44,66)\"],[1,\"rgb(90,179,244)\"]],\"sequentialminus\":[[0,\"rgb(20,44,66)\"],[1,\"rgb(90,179,244)\"]]},\"colorway\":[\"#F8766D\",\"#A3A500\",\"#00BF7D\",\"#00B0F6\",\"#E76BF3\"],\"font\":{\"color\":\"rgb(51,51,51)\"},\"geo\":{\"bgcolor\":\"white\",\"lakecolor\":\"white\",\"landcolor\":\"rgb(237,237,237)\",\"showlakes\":true,\"showland\":true,\"subunitcolor\":\"white\"},\"hoverlabel\":{\"align\":\"left\"},\"hovermode\":\"closest\",\"paper_bgcolor\":\"white\",\"plot_bgcolor\":\"rgb(237,237,237)\",\"polar\":{\"angularaxis\":{\"gridcolor\":\"white\",\"linecolor\":\"white\",\"showgrid\":true,\"tickcolor\":\"rgb(51,51,51)\",\"ticks\":\"outside\"},\"bgcolor\":\"rgb(237,237,237)\",\"radialaxis\":{\"gridcolor\":\"white\",\"linecolor\":\"white\",\"showgrid\":true,\"tickcolor\":\"rgb(51,51,51)\",\"ticks\":\"outside\"}},\"scene\":{\"xaxis\":{\"backgroundcolor\":\"rgb(237,237,237)\",\"gridcolor\":\"white\",\"gridwidth\":2,\"linecolor\":\"white\",\"showbackground\":true,\"showgrid\":true,\"tickcolor\":\"rgb(51,51,51)\",\"ticks\":\"outside\",\"zerolinecolor\":\"white\"},\"yaxis\":{\"backgroundcolor\":\"rgb(237,237,237)\",\"gridcolor\":\"white\",\"gridwidth\":2,\"linecolor\":\"white\",\"showbackground\":true,\"showgrid\":true,\"tickcolor\":\"rgb(51,51,51)\",\"ticks\":\"outside\",\"zerolinecolor\":\"white\"},\"zaxis\":{\"backgroundcolor\":\"rgb(237,237,237)\",\"gridcolor\":\"white\",\"gridwidth\":2,\"linecolor\":\"white\",\"showbackground\":true,\"showgrid\":true,\"tickcolor\":\"rgb(51,51,51)\",\"ticks\":\"outside\",\"zerolinecolor\":\"white\"}},\"shapedefaults\":{\"fillcolor\":\"black\",\"line\":{\"width\":0},\"opacity\":0.3},\"ternary\":{\"aaxis\":{\"gridcolor\":\"white\",\"linecolor\":\"white\",\"showgrid\":true,\"tickcolor\":\"rgb(51,51,51)\",\"ticks\":\"outside\"},\"baxis\":{\"gridcolor\":\"white\",\"linecolor\":\"white\",\"showgrid\":true,\"tickcolor\":\"rgb(51,51,51)\",\"ticks\":\"outside\"},\"bgcolor\":\"rgb(237,237,237)\",\"caxis\":{\"gridcolor\":\"white\",\"linecolor\":\"white\",\"showgrid\":true,\"tickcolor\":\"rgb(51,51,51)\",\"ticks\":\"outside\"}},\"xaxis\":{\"automargin\":true,\"gridcolor\":\"white\",\"linecolor\":\"white\",\"showgrid\":true,\"tickcolor\":\"rgb(51,51,51)\",\"ticks\":\"outside\",\"title\":{\"standoff\":15},\"zerolinecolor\":\"white\"},\"yaxis\":{\"automargin\":true,\"gridcolor\":\"white\",\"linecolor\":\"white\",\"showgrid\":true,\"tickcolor\":\"rgb(51,51,51)\",\"ticks\":\"outside\",\"title\":{\"standoff\":15},\"zerolinecolor\":\"white\"}}},\"showlegend\":true},                        {\"responsive\": true}                    ).then(function(){\n",
              "                            \n",
              "var gd = document.getElementById('391dfec5-beae-4ce8-ae4b-601640f5d8ad');\n",
              "var x = new MutationObserver(function (mutations, observer) {{\n",
              "        var display = window.getComputedStyle(gd).display;\n",
              "        if (!display || display === 'none') {{\n",
              "            console.log([gd, 'removed!']);\n",
              "            Plotly.purge(gd);\n",
              "            observer.disconnect();\n",
              "        }}\n",
              "}});\n",
              "\n",
              "// Listen for the removal of the full notebook cells\n",
              "var notebookContainer = gd.closest('#notebook-container');\n",
              "if (notebookContainer) {{\n",
              "    x.observe(notebookContainer, {childList: true});\n",
              "}}\n",
              "\n",
              "// Listen for the clearing of the current output cell\n",
              "var outputEl = gd.closest('.output');\n",
              "if (outputEl) {{\n",
              "    x.observe(outputEl, {childList: true});\n",
              "}}\n",
              "\n",
              "                        })                };                            </script>        </div>\n",
              "</body>\n",
              "</html>"
            ]
          },
          "metadata": {}
        }
      ]
    },
    {
      "cell_type": "code",
      "metadata": {
        "colab": {
          "base_uri": "https://localhost:8080/",
          "height": 1000
        },
        "id": "c1LxFMyqU6sa",
        "outputId": "c501fb24-3e66-476c-ee1f-b1c606515bf8"
      },
      "source": [
        "exp.plot_model(plot=\"acf\")\n",
        "exp.plot_model(plot=\"pacf\")"
      ],
      "execution_count": 6,
      "outputs": [
        {
          "output_type": "display_data",
          "data": {
            "text/html": [
              "<html>\n",
              "<head><meta charset=\"utf-8\" /></head>\n",
              "<body>\n",
              "    <div>            <script src=\"https://cdnjs.cloudflare.com/ajax/libs/mathjax/2.7.5/MathJax.js?config=TeX-AMS-MML_SVG\"></script><script type=\"text/javascript\">if (window.MathJax) {MathJax.Hub.Config({SVG: {font: \"STIX-Web\"}});}</script>                <script type=\"text/javascript\">window.PlotlyConfig = {MathJaxConfig: 'local'};</script>\n",
              "        <script src=\"https://cdn.plot.ly/plotly-2.6.3.min.js\"></script>                <div id=\"74d3ddfa-79f5-48af-99d0-8824520961db\" class=\"plotly-graph-div\" style=\"height:525px; width:100%;\"></div>            <script type=\"text/javascript\">                                    window.PLOTLYENV=window.PLOTLYENV || {};                                    if (document.getElementById(\"74d3ddfa-79f5-48af-99d0-8824520961db\")) {                    Plotly.newPlot(                        \"74d3ddfa-79f5-48af-99d0-8824520961db\",                        [{\"marker\":{\"color\":\"#1f77b4\",\"size\":10},\"mode\":\"markers\",\"name\":\"ACF\",\"x\":[0,1,2,3,4,5,6,7,8,9,10,11,12,13,14,15,16,17,18,19,20,21,22,23,24,25,26,27,28,29,30,31,32,33,34,35,36,37,38,39,40],\"y\":[1.0,0.9760738123639786,0.9550197685198596,0.9339807044210725,0.9125829441425408,0.891011106424407,0.8673166813277078,0.8464185607526664,0.8256599634508985,0.8083953070452141,0.7862799424412148,0.7656397248321665,0.7463906631407391,0.7288577260129966,0.7101508772430196,0.6859521165532124,0.6595753292927652,0.6286492044389367,0.5984657227180906,0.5705392782024733,0.5421447963033574,0.5143188706749346,0.4915629125762743,0.472410553108233,0.45462326641382017,0.4377651279412417,0.41806682210020807,0.40133487917459376,0.38644822276460544,0.3728657590135482,0.35733754609186286,0.3417498437254146,0.32584182518512755,0.31052349009260205,0.29388072877440186,0.2822430731543513,0.26943087204023997,0.25958224693332166,0.2511105455002192,0.24373647182139696,0.2381766777624215],\"type\":\"scatter\",\"showlegend\":false},{\"line\":{\"color\":\"#3f3f3f\"},\"mode\":\"lines\",\"name\":\"Lag1\",\"x\":[0,0],\"y\":[0,1.0],\"type\":\"scatter\",\"showlegend\":false},{\"line\":{\"color\":\"#3f3f3f\"},\"mode\":\"lines\",\"name\":\"Lag2\",\"x\":[1,1],\"y\":[0,0.9760738123639786],\"type\":\"scatter\",\"showlegend\":false},{\"line\":{\"color\":\"#3f3f3f\"},\"mode\":\"lines\",\"name\":\"Lag3\",\"x\":[2,2],\"y\":[0,0.9550197685198596],\"type\":\"scatter\",\"showlegend\":false},{\"line\":{\"color\":\"#3f3f3f\"},\"mode\":\"lines\",\"name\":\"Lag4\",\"x\":[3,3],\"y\":[0,0.9339807044210725],\"type\":\"scatter\",\"showlegend\":false},{\"line\":{\"color\":\"#3f3f3f\"},\"mode\":\"lines\",\"name\":\"Lag5\",\"x\":[4,4],\"y\":[0,0.9125829441425408],\"type\":\"scatter\",\"showlegend\":false},{\"line\":{\"color\":\"#3f3f3f\"},\"mode\":\"lines\",\"name\":\"Lag6\",\"x\":[5,5],\"y\":[0,0.891011106424407],\"type\":\"scatter\",\"showlegend\":false},{\"line\":{\"color\":\"#3f3f3f\"},\"mode\":\"lines\",\"name\":\"Lag7\",\"x\":[6,6],\"y\":[0,0.8673166813277078],\"type\":\"scatter\",\"showlegend\":false},{\"line\":{\"color\":\"#3f3f3f\"},\"mode\":\"lines\",\"name\":\"Lag8\",\"x\":[7,7],\"y\":[0,0.8464185607526664],\"type\":\"scatter\",\"showlegend\":false},{\"line\":{\"color\":\"#3f3f3f\"},\"mode\":\"lines\",\"name\":\"Lag9\",\"x\":[8,8],\"y\":[0,0.8256599634508985],\"type\":\"scatter\",\"showlegend\":false},{\"line\":{\"color\":\"#3f3f3f\"},\"mode\":\"lines\",\"name\":\"Lag10\",\"x\":[9,9],\"y\":[0,0.8083953070452141],\"type\":\"scatter\",\"showlegend\":false},{\"line\":{\"color\":\"#3f3f3f\"},\"mode\":\"lines\",\"name\":\"Lag11\",\"x\":[10,10],\"y\":[0,0.7862799424412148],\"type\":\"scatter\",\"showlegend\":false},{\"line\":{\"color\":\"#3f3f3f\"},\"mode\":\"lines\",\"name\":\"Lag12\",\"x\":[11,11],\"y\":[0,0.7656397248321665],\"type\":\"scatter\",\"showlegend\":false},{\"line\":{\"color\":\"#3f3f3f\"},\"mode\":\"lines\",\"name\":\"Lag13\",\"x\":[12,12],\"y\":[0,0.7463906631407391],\"type\":\"scatter\",\"showlegend\":false},{\"line\":{\"color\":\"#3f3f3f\"},\"mode\":\"lines\",\"name\":\"Lag14\",\"x\":[13,13],\"y\":[0,0.7288577260129966],\"type\":\"scatter\",\"showlegend\":false},{\"line\":{\"color\":\"#3f3f3f\"},\"mode\":\"lines\",\"name\":\"Lag15\",\"x\":[14,14],\"y\":[0,0.7101508772430196],\"type\":\"scatter\",\"showlegend\":false},{\"line\":{\"color\":\"#3f3f3f\"},\"mode\":\"lines\",\"name\":\"Lag16\",\"x\":[15,15],\"y\":[0,0.6859521165532124],\"type\":\"scatter\",\"showlegend\":false},{\"line\":{\"color\":\"#3f3f3f\"},\"mode\":\"lines\",\"name\":\"Lag17\",\"x\":[16,16],\"y\":[0,0.6595753292927652],\"type\":\"scatter\",\"showlegend\":false},{\"line\":{\"color\":\"#3f3f3f\"},\"mode\":\"lines\",\"name\":\"Lag18\",\"x\":[17,17],\"y\":[0,0.6286492044389367],\"type\":\"scatter\",\"showlegend\":false},{\"line\":{\"color\":\"#3f3f3f\"},\"mode\":\"lines\",\"name\":\"Lag19\",\"x\":[18,18],\"y\":[0,0.5984657227180906],\"type\":\"scatter\",\"showlegend\":false},{\"line\":{\"color\":\"#3f3f3f\"},\"mode\":\"lines\",\"name\":\"Lag20\",\"x\":[19,19],\"y\":[0,0.5705392782024733],\"type\":\"scatter\",\"showlegend\":false},{\"line\":{\"color\":\"#3f3f3f\"},\"mode\":\"lines\",\"name\":\"Lag21\",\"x\":[20,20],\"y\":[0,0.5421447963033574],\"type\":\"scatter\",\"showlegend\":false},{\"line\":{\"color\":\"#3f3f3f\"},\"mode\":\"lines\",\"name\":\"Lag22\",\"x\":[21,21],\"y\":[0,0.5143188706749346],\"type\":\"scatter\",\"showlegend\":false},{\"line\":{\"color\":\"#3f3f3f\"},\"mode\":\"lines\",\"name\":\"Lag23\",\"x\":[22,22],\"y\":[0,0.4915629125762743],\"type\":\"scatter\",\"showlegend\":false},{\"line\":{\"color\":\"#3f3f3f\"},\"mode\":\"lines\",\"name\":\"Lag24\",\"x\":[23,23],\"y\":[0,0.472410553108233],\"type\":\"scatter\",\"showlegend\":false},{\"line\":{\"color\":\"#3f3f3f\"},\"mode\":\"lines\",\"name\":\"Lag25\",\"x\":[24,24],\"y\":[0,0.45462326641382017],\"type\":\"scatter\",\"showlegend\":false},{\"line\":{\"color\":\"#3f3f3f\"},\"mode\":\"lines\",\"name\":\"Lag26\",\"x\":[25,25],\"y\":[0,0.4377651279412417],\"type\":\"scatter\",\"showlegend\":false},{\"line\":{\"color\":\"#3f3f3f\"},\"mode\":\"lines\",\"name\":\"Lag27\",\"x\":[26,26],\"y\":[0,0.41806682210020807],\"type\":\"scatter\",\"showlegend\":false},{\"line\":{\"color\":\"#3f3f3f\"},\"mode\":\"lines\",\"name\":\"Lag28\",\"x\":[27,27],\"y\":[0,0.40133487917459376],\"type\":\"scatter\",\"showlegend\":false},{\"line\":{\"color\":\"#3f3f3f\"},\"mode\":\"lines\",\"name\":\"Lag29\",\"x\":[28,28],\"y\":[0,0.38644822276460544],\"type\":\"scatter\",\"showlegend\":false},{\"line\":{\"color\":\"#3f3f3f\"},\"mode\":\"lines\",\"name\":\"Lag30\",\"x\":[29,29],\"y\":[0,0.3728657590135482],\"type\":\"scatter\",\"showlegend\":false},{\"line\":{\"color\":\"#3f3f3f\"},\"mode\":\"lines\",\"name\":\"Lag31\",\"x\":[30,30],\"y\":[0,0.35733754609186286],\"type\":\"scatter\",\"showlegend\":false},{\"line\":{\"color\":\"#3f3f3f\"},\"mode\":\"lines\",\"name\":\"Lag32\",\"x\":[31,31],\"y\":[0,0.3417498437254146],\"type\":\"scatter\",\"showlegend\":false},{\"line\":{\"color\":\"#3f3f3f\"},\"mode\":\"lines\",\"name\":\"Lag33\",\"x\":[32,32],\"y\":[0,0.32584182518512755],\"type\":\"scatter\",\"showlegend\":false},{\"line\":{\"color\":\"#3f3f3f\"},\"mode\":\"lines\",\"name\":\"Lag34\",\"x\":[33,33],\"y\":[0,0.31052349009260205],\"type\":\"scatter\",\"showlegend\":false},{\"line\":{\"color\":\"#3f3f3f\"},\"mode\":\"lines\",\"name\":\"Lag35\",\"x\":[34,34],\"y\":[0,0.29388072877440186],\"type\":\"scatter\",\"showlegend\":false},{\"line\":{\"color\":\"#3f3f3f\"},\"mode\":\"lines\",\"name\":\"Lag36\",\"x\":[35,35],\"y\":[0,0.2822430731543513],\"type\":\"scatter\",\"showlegend\":false},{\"line\":{\"color\":\"#3f3f3f\"},\"mode\":\"lines\",\"name\":\"Lag37\",\"x\":[36,36],\"y\":[0,0.26943087204023997],\"type\":\"scatter\",\"showlegend\":false},{\"line\":{\"color\":\"#3f3f3f\"},\"mode\":\"lines\",\"name\":\"Lag38\",\"x\":[37,37],\"y\":[0,0.25958224693332166],\"type\":\"scatter\",\"showlegend\":false},{\"line\":{\"color\":\"#3f3f3f\"},\"mode\":\"lines\",\"name\":\"Lag39\",\"x\":[38,38],\"y\":[0,0.2511105455002192],\"type\":\"scatter\",\"showlegend\":false},{\"line\":{\"color\":\"#3f3f3f\"},\"mode\":\"lines\",\"name\":\"Lag40\",\"x\":[39,39],\"y\":[0,0.24373647182139696],\"type\":\"scatter\",\"showlegend\":false},{\"line\":{\"color\":\"#3f3f3f\"},\"mode\":\"lines\",\"name\":\"Lag41\",\"x\":[40,40],\"y\":[0,0.2381766777624215],\"type\":\"scatter\",\"showlegend\":false},{\"line\":{\"color\":\"rgba(255,255,255,0)\"},\"mode\":\"lines\",\"name\":\"UC\",\"x\":[0,1,2,3,4,5,6,7,8,9,10,11,12,13,14,15,16,17,18,19,20,21,22,23,24,25,26,27,28,29,30,31,32,33,34,35,36,37,38,39,40],\"y\":[0.0,0.10629397111858785,0.18118181302229375,0.23116350109655037,0.2704592729044122,0.30326064626063476,0.33152171897867877,0.3562370550274947,0.378277344935545,0.3981184803513398,0.41625162006688843,0.432707268315216,0.44775208383674636,0.4615957029745593,0.474420468453121,0.48628250833883657,0.49709472431994917,0.5068862548319273,0.5156199503879287,0.5234092439626329,0.5303893296009354,0.536613938913082,0.542154883317439,0.5471673225602642,0.5517563316761447,0.5559724920311186,0.5598533982893101,0.5633695911135612,0.566590644405164,0.5695608986604517,0.5723121763995997,0.5748274676103021,0.577118503011463,0.5791933493700405,0.5810712781849058,0.5827481654571398,0.5842906064559854,0.5856926526620212,0.5869910760692667,0.5882035359358,0.5893435495015766],\"type\":\"scatter\",\"showlegend\":false},{\"fill\":\"tonexty\",\"fillcolor\":\"rgba(32, 146, 230,0.3)\",\"line\":{\"color\":\"rgba(255,255,255,0)\"},\"mode\":\"lines\",\"name\":\"LC\",\"x\":[0,1,2,3,4,5,6,7,8,9,10,11,12,13,14,15,16,17,18,19,20,21,22,23,24,25,26,27,28,29,30,31,32,33,34,35,36,37,38,39,40],\"y\":[0.0,-0.10629397111858785,-0.18118181302229375,-0.23116350109655037,-0.2704592729044122,-0.30326064626063476,-0.33152171897867877,-0.3562370550274947,-0.37827734493554493,-0.3981184803513398,-0.4162516200668885,-0.4327072683152159,-0.4477520838367463,-0.46159570297455926,-0.47442046845312097,-0.4862825083388366,-0.49709472431994906,-0.5068862548319272,-0.5156199503879287,-0.5234092439626329,-0.5303893296009354,-0.5366139389130818,-0.5421548833174391,-0.5471673225602641,-0.5517563316761446,-0.5559724920311186,-0.5598533982893101,-0.5633695911135612,-0.566590644405164,-0.5695608986604518,-0.5723121763995997,-0.5748274676103021,-0.577118503011463,-0.5791933493700405,-0.5810712781849058,-0.5827481654571398,-0.5842906064559854,-0.5856926526620212,-0.5869910760692667,-0.5882035359358001,-0.5893435495015766],\"type\":\"scatter\",\"showlegend\":false},{\"line\":{\"color\":\"#3f3f3f\"},\"mode\":\"lines\",\"name\":\"\",\"x\":[0,41],\"y\":[0,0],\"type\":\"scatter\",\"showlegend\":false}],                        {\"template\":{\"data\":{\"barpolar\":[{\"marker\":{\"line\":{\"color\":\"rgb(237,237,237)\",\"width\":0.5},\"pattern\":{\"fillmode\":\"overlay\",\"size\":10,\"solidity\":0.2}},\"type\":\"barpolar\"}],\"bar\":[{\"error_x\":{\"color\":\"rgb(51,51,51)\"},\"error_y\":{\"color\":\"rgb(51,51,51)\"},\"marker\":{\"line\":{\"color\":\"rgb(237,237,237)\",\"width\":0.5},\"pattern\":{\"fillmode\":\"overlay\",\"size\":10,\"solidity\":0.2}},\"type\":\"bar\"}],\"carpet\":[{\"aaxis\":{\"endlinecolor\":\"rgb(51,51,51)\",\"gridcolor\":\"white\",\"linecolor\":\"white\",\"minorgridcolor\":\"white\",\"startlinecolor\":\"rgb(51,51,51)\"},\"baxis\":{\"endlinecolor\":\"rgb(51,51,51)\",\"gridcolor\":\"white\",\"linecolor\":\"white\",\"minorgridcolor\":\"white\",\"startlinecolor\":\"rgb(51,51,51)\"},\"type\":\"carpet\"}],\"choropleth\":[{\"colorbar\":{\"outlinewidth\":0,\"tickcolor\":\"rgb(237,237,237)\",\"ticklen\":6,\"ticks\":\"inside\"},\"type\":\"choropleth\"}],\"contourcarpet\":[{\"colorbar\":{\"outlinewidth\":0,\"tickcolor\":\"rgb(237,237,237)\",\"ticklen\":6,\"ticks\":\"inside\"},\"type\":\"contourcarpet\"}],\"contour\":[{\"colorbar\":{\"outlinewidth\":0,\"tickcolor\":\"rgb(237,237,237)\",\"ticklen\":6,\"ticks\":\"inside\"},\"colorscale\":[[0,\"rgb(20,44,66)\"],[1,\"rgb(90,179,244)\"]],\"type\":\"contour\"}],\"heatmapgl\":[{\"colorbar\":{\"outlinewidth\":0,\"tickcolor\":\"rgb(237,237,237)\",\"ticklen\":6,\"ticks\":\"inside\"},\"colorscale\":[[0,\"rgb(20,44,66)\"],[1,\"rgb(90,179,244)\"]],\"type\":\"heatmapgl\"}],\"heatmap\":[{\"colorbar\":{\"outlinewidth\":0,\"tickcolor\":\"rgb(237,237,237)\",\"ticklen\":6,\"ticks\":\"inside\"},\"colorscale\":[[0,\"rgb(20,44,66)\"],[1,\"rgb(90,179,244)\"]],\"type\":\"heatmap\"}],\"histogram2dcontour\":[{\"colorbar\":{\"outlinewidth\":0,\"tickcolor\":\"rgb(237,237,237)\",\"ticklen\":6,\"ticks\":\"inside\"},\"colorscale\":[[0,\"rgb(20,44,66)\"],[1,\"rgb(90,179,244)\"]],\"type\":\"histogram2dcontour\"}],\"histogram2d\":[{\"colorbar\":{\"outlinewidth\":0,\"tickcolor\":\"rgb(237,237,237)\",\"ticklen\":6,\"ticks\":\"inside\"},\"colorscale\":[[0,\"rgb(20,44,66)\"],[1,\"rgb(90,179,244)\"]],\"type\":\"histogram2d\"}],\"histogram\":[{\"marker\":{\"pattern\":{\"fillmode\":\"overlay\",\"size\":10,\"solidity\":0.2}},\"type\":\"histogram\"}],\"mesh3d\":[{\"colorbar\":{\"outlinewidth\":0,\"tickcolor\":\"rgb(237,237,237)\",\"ticklen\":6,\"ticks\":\"inside\"},\"type\":\"mesh3d\"}],\"parcoords\":[{\"line\":{\"colorbar\":{\"outlinewidth\":0,\"tickcolor\":\"rgb(237,237,237)\",\"ticklen\":6,\"ticks\":\"inside\"}},\"type\":\"parcoords\"}],\"pie\":[{\"automargin\":true,\"type\":\"pie\"}],\"scatter3d\":[{\"line\":{\"colorbar\":{\"outlinewidth\":0,\"tickcolor\":\"rgb(237,237,237)\",\"ticklen\":6,\"ticks\":\"inside\"}},\"marker\":{\"colorbar\":{\"outlinewidth\":0,\"tickcolor\":\"rgb(237,237,237)\",\"ticklen\":6,\"ticks\":\"inside\"}},\"type\":\"scatter3d\"}],\"scattercarpet\":[{\"marker\":{\"colorbar\":{\"outlinewidth\":0,\"tickcolor\":\"rgb(237,237,237)\",\"ticklen\":6,\"ticks\":\"inside\"}},\"type\":\"scattercarpet\"}],\"scattergeo\":[{\"marker\":{\"colorbar\":{\"outlinewidth\":0,\"tickcolor\":\"rgb(237,237,237)\",\"ticklen\":6,\"ticks\":\"inside\"}},\"type\":\"scattergeo\"}],\"scattergl\":[{\"marker\":{\"colorbar\":{\"outlinewidth\":0,\"tickcolor\":\"rgb(237,237,237)\",\"ticklen\":6,\"ticks\":\"inside\"}},\"type\":\"scattergl\"}],\"scattermapbox\":[{\"marker\":{\"colorbar\":{\"outlinewidth\":0,\"tickcolor\":\"rgb(237,237,237)\",\"ticklen\":6,\"ticks\":\"inside\"}},\"type\":\"scattermapbox\"}],\"scatterpolargl\":[{\"marker\":{\"colorbar\":{\"outlinewidth\":0,\"tickcolor\":\"rgb(237,237,237)\",\"ticklen\":6,\"ticks\":\"inside\"}},\"type\":\"scatterpolargl\"}],\"scatterpolar\":[{\"marker\":{\"colorbar\":{\"outlinewidth\":0,\"tickcolor\":\"rgb(237,237,237)\",\"ticklen\":6,\"ticks\":\"inside\"}},\"type\":\"scatterpolar\"}],\"scatter\":[{\"marker\":{\"colorbar\":{\"outlinewidth\":0,\"tickcolor\":\"rgb(237,237,237)\",\"ticklen\":6,\"ticks\":\"inside\"}},\"type\":\"scatter\"}],\"scatterternary\":[{\"marker\":{\"colorbar\":{\"outlinewidth\":0,\"tickcolor\":\"rgb(237,237,237)\",\"ticklen\":6,\"ticks\":\"inside\"}},\"type\":\"scatterternary\"}],\"surface\":[{\"colorbar\":{\"outlinewidth\":0,\"tickcolor\":\"rgb(237,237,237)\",\"ticklen\":6,\"ticks\":\"inside\"},\"colorscale\":[[0,\"rgb(20,44,66)\"],[1,\"rgb(90,179,244)\"]],\"type\":\"surface\"}],\"table\":[{\"cells\":{\"fill\":{\"color\":\"rgb(237,237,237)\"},\"line\":{\"color\":\"white\"}},\"header\":{\"fill\":{\"color\":\"rgb(217,217,217)\"},\"line\":{\"color\":\"white\"}},\"type\":\"table\"}]},\"layout\":{\"annotationdefaults\":{\"arrowhead\":0,\"arrowwidth\":1},\"autotypenumbers\":\"strict\",\"coloraxis\":{\"colorbar\":{\"outlinewidth\":0,\"tickcolor\":\"rgb(237,237,237)\",\"ticklen\":6,\"ticks\":\"inside\"}},\"colorscale\":{\"sequential\":[[0,\"rgb(20,44,66)\"],[1,\"rgb(90,179,244)\"]],\"sequentialminus\":[[0,\"rgb(20,44,66)\"],[1,\"rgb(90,179,244)\"]]},\"colorway\":[\"#F8766D\",\"#A3A500\",\"#00BF7D\",\"#00B0F6\",\"#E76BF3\"],\"font\":{\"color\":\"rgb(51,51,51)\"},\"geo\":{\"bgcolor\":\"white\",\"lakecolor\":\"white\",\"landcolor\":\"rgb(237,237,237)\",\"showlakes\":true,\"showland\":true,\"subunitcolor\":\"white\"},\"hoverlabel\":{\"align\":\"left\"},\"hovermode\":\"closest\",\"paper_bgcolor\":\"white\",\"plot_bgcolor\":\"rgb(237,237,237)\",\"polar\":{\"angularaxis\":{\"gridcolor\":\"white\",\"linecolor\":\"white\",\"showgrid\":true,\"tickcolor\":\"rgb(51,51,51)\",\"ticks\":\"outside\"},\"bgcolor\":\"rgb(237,237,237)\",\"radialaxis\":{\"gridcolor\":\"white\",\"linecolor\":\"white\",\"showgrid\":true,\"tickcolor\":\"rgb(51,51,51)\",\"ticks\":\"outside\"}},\"scene\":{\"xaxis\":{\"backgroundcolor\":\"rgb(237,237,237)\",\"gridcolor\":\"white\",\"gridwidth\":2,\"linecolor\":\"white\",\"showbackground\":true,\"showgrid\":true,\"tickcolor\":\"rgb(51,51,51)\",\"ticks\":\"outside\",\"zerolinecolor\":\"white\"},\"yaxis\":{\"backgroundcolor\":\"rgb(237,237,237)\",\"gridcolor\":\"white\",\"gridwidth\":2,\"linecolor\":\"white\",\"showbackground\":true,\"showgrid\":true,\"tickcolor\":\"rgb(51,51,51)\",\"ticks\":\"outside\",\"zerolinecolor\":\"white\"},\"zaxis\":{\"backgroundcolor\":\"rgb(237,237,237)\",\"gridcolor\":\"white\",\"gridwidth\":2,\"linecolor\":\"white\",\"showbackground\":true,\"showgrid\":true,\"tickcolor\":\"rgb(51,51,51)\",\"ticks\":\"outside\",\"zerolinecolor\":\"white\"}},\"shapedefaults\":{\"fillcolor\":\"black\",\"line\":{\"width\":0},\"opacity\":0.3},\"ternary\":{\"aaxis\":{\"gridcolor\":\"white\",\"linecolor\":\"white\",\"showgrid\":true,\"tickcolor\":\"rgb(51,51,51)\",\"ticks\":\"outside\"},\"baxis\":{\"gridcolor\":\"white\",\"linecolor\":\"white\",\"showgrid\":true,\"tickcolor\":\"rgb(51,51,51)\",\"ticks\":\"outside\"},\"bgcolor\":\"rgb(237,237,237)\",\"caxis\":{\"gridcolor\":\"white\",\"linecolor\":\"white\",\"showgrid\":true,\"tickcolor\":\"rgb(51,51,51)\",\"ticks\":\"outside\"}},\"xaxis\":{\"automargin\":true,\"gridcolor\":\"white\",\"linecolor\":\"white\",\"showgrid\":true,\"tickcolor\":\"rgb(51,51,51)\",\"ticks\":\"outside\",\"title\":{\"standoff\":15},\"zerolinecolor\":\"white\"},\"yaxis\":{\"automargin\":true,\"gridcolor\":\"white\",\"linecolor\":\"white\",\"showgrid\":true,\"tickcolor\":\"rgb(51,51,51)\",\"ticks\":\"outside\",\"title\":{\"standoff\":15},\"zerolinecolor\":\"white\"}}},\"xaxis\":{\"range\":[-1,42]},\"yaxis\":{\"zerolinecolor\":\"#000000\"},\"title\":{\"text\":\"Autocorrelation (ACF) | x\"}},                        {\"responsive\": true}                    ).then(function(){\n",
              "                            \n",
              "var gd = document.getElementById('74d3ddfa-79f5-48af-99d0-8824520961db');\n",
              "var x = new MutationObserver(function (mutations, observer) {{\n",
              "        var display = window.getComputedStyle(gd).display;\n",
              "        if (!display || display === 'none') {{\n",
              "            console.log([gd, 'removed!']);\n",
              "            Plotly.purge(gd);\n",
              "            observer.disconnect();\n",
              "        }}\n",
              "}});\n",
              "\n",
              "// Listen for the removal of the full notebook cells\n",
              "var notebookContainer = gd.closest('#notebook-container');\n",
              "if (notebookContainer) {{\n",
              "    x.observe(notebookContainer, {childList: true});\n",
              "}}\n",
              "\n",
              "// Listen for the clearing of the current output cell\n",
              "var outputEl = gd.closest('.output');\n",
              "if (outputEl) {{\n",
              "    x.observe(outputEl, {childList: true});\n",
              "}}\n",
              "\n",
              "                        })                };                            </script>        </div>\n",
              "</body>\n",
              "</html>"
            ]
          },
          "metadata": {}
        },
        {
          "output_type": "display_data",
          "data": {
            "text/html": [
              "<html>\n",
              "<head><meta charset=\"utf-8\" /></head>\n",
              "<body>\n",
              "    <div>            <script src=\"https://cdnjs.cloudflare.com/ajax/libs/mathjax/2.7.5/MathJax.js?config=TeX-AMS-MML_SVG\"></script><script type=\"text/javascript\">if (window.MathJax) {MathJax.Hub.Config({SVG: {font: \"STIX-Web\"}});}</script>                <script type=\"text/javascript\">window.PlotlyConfig = {MathJaxConfig: 'local'};</script>\n",
              "        <script src=\"https://cdn.plot.ly/plotly-2.6.3.min.js\"></script>                <div id=\"c02089b8-5c22-4365-8ebe-7573929fce28\" class=\"plotly-graph-div\" style=\"height:525px; width:100%;\"></div>            <script type=\"text/javascript\">                                    window.PLOTLYENV=window.PLOTLYENV || {};                                    if (document.getElementById(\"c02089b8-5c22-4365-8ebe-7573929fce28\")) {                    Plotly.newPlot(                        \"c02089b8-5c22-4365-8ebe-7573929fce28\",                        [{\"marker\":{\"color\":\"#1f77b4\",\"size\":10},\"mode\":\"markers\",\"name\":\"PACF\",\"x\":[0,1,2,3,4,5,6,7,8,9,10,11,12,13,14,15,16,17,18,19,20,21,22,23,24,25,26,27,28,29,30,31,32,33,34,35,36,37,38,39,40],\"y\":[1.0,0.9789530861467635,0.05574022872147745,-0.007288425961196295,-0.02084587537358008,-0.018243440077958806,-0.06588743971983588,0.047459646781659974,-0.0011141787738740054,0.07617743493036808,-0.12232949014385072,0.011149665733499575,0.015188516525449863,0.04118679846760389,-0.044358589668865564,-0.13722652739234711,-0.10988466547584674,-0.14564931282719593,-0.03740029002140385,0.06873063438689189,-0.007599546830395844,-0.01502402836131332,0.09934151532652331,0.07666445448036582,0.05498396424840536,0.018519596931707284,-0.08747032418999937,0.018513394184567704,0.021873577250010986,0.06328255388498032,-0.0027786508302442524,0.01791211665912136,-0.03316590843387887,0.00848299364361215,-0.05406206053701728,0.14916965881636376,-0.08188239506088478,0.02235983880330245,-0.06043086163134434,0.025633636559635763,0.04787901789154522],\"type\":\"scatter\",\"showlegend\":false},{\"line\":{\"color\":\"#3f3f3f\"},\"mode\":\"lines\",\"name\":\"Lag1\",\"x\":[0,0],\"y\":[0,1.0],\"type\":\"scatter\",\"showlegend\":false},{\"line\":{\"color\":\"#3f3f3f\"},\"mode\":\"lines\",\"name\":\"Lag2\",\"x\":[1,1],\"y\":[0,0.9789530861467635],\"type\":\"scatter\",\"showlegend\":false},{\"line\":{\"color\":\"#3f3f3f\"},\"mode\":\"lines\",\"name\":\"Lag3\",\"x\":[2,2],\"y\":[0,0.05574022872147745],\"type\":\"scatter\",\"showlegend\":false},{\"line\":{\"color\":\"#3f3f3f\"},\"mode\":\"lines\",\"name\":\"Lag4\",\"x\":[3,3],\"y\":[0,-0.007288425961196295],\"type\":\"scatter\",\"showlegend\":false},{\"line\":{\"color\":\"#3f3f3f\"},\"mode\":\"lines\",\"name\":\"Lag5\",\"x\":[4,4],\"y\":[0,-0.02084587537358008],\"type\":\"scatter\",\"showlegend\":false},{\"line\":{\"color\":\"#3f3f3f\"},\"mode\":\"lines\",\"name\":\"Lag6\",\"x\":[5,5],\"y\":[0,-0.018243440077958806],\"type\":\"scatter\",\"showlegend\":false},{\"line\":{\"color\":\"#3f3f3f\"},\"mode\":\"lines\",\"name\":\"Lag7\",\"x\":[6,6],\"y\":[0,-0.06588743971983588],\"type\":\"scatter\",\"showlegend\":false},{\"line\":{\"color\":\"#3f3f3f\"},\"mode\":\"lines\",\"name\":\"Lag8\",\"x\":[7,7],\"y\":[0,0.047459646781659974],\"type\":\"scatter\",\"showlegend\":false},{\"line\":{\"color\":\"#3f3f3f\"},\"mode\":\"lines\",\"name\":\"Lag9\",\"x\":[8,8],\"y\":[0,-0.0011141787738740054],\"type\":\"scatter\",\"showlegend\":false},{\"line\":{\"color\":\"#3f3f3f\"},\"mode\":\"lines\",\"name\":\"Lag10\",\"x\":[9,9],\"y\":[0,0.07617743493036808],\"type\":\"scatter\",\"showlegend\":false},{\"line\":{\"color\":\"#3f3f3f\"},\"mode\":\"lines\",\"name\":\"Lag11\",\"x\":[10,10],\"y\":[0,-0.12232949014385072],\"type\":\"scatter\",\"showlegend\":false},{\"line\":{\"color\":\"#3f3f3f\"},\"mode\":\"lines\",\"name\":\"Lag12\",\"x\":[11,11],\"y\":[0,0.011149665733499575],\"type\":\"scatter\",\"showlegend\":false},{\"line\":{\"color\":\"#3f3f3f\"},\"mode\":\"lines\",\"name\":\"Lag13\",\"x\":[12,12],\"y\":[0,0.015188516525449863],\"type\":\"scatter\",\"showlegend\":false},{\"line\":{\"color\":\"#3f3f3f\"},\"mode\":\"lines\",\"name\":\"Lag14\",\"x\":[13,13],\"y\":[0,0.04118679846760389],\"type\":\"scatter\",\"showlegend\":false},{\"line\":{\"color\":\"#3f3f3f\"},\"mode\":\"lines\",\"name\":\"Lag15\",\"x\":[14,14],\"y\":[0,-0.044358589668865564],\"type\":\"scatter\",\"showlegend\":false},{\"line\":{\"color\":\"#3f3f3f\"},\"mode\":\"lines\",\"name\":\"Lag16\",\"x\":[15,15],\"y\":[0,-0.13722652739234711],\"type\":\"scatter\",\"showlegend\":false},{\"line\":{\"color\":\"#3f3f3f\"},\"mode\":\"lines\",\"name\":\"Lag17\",\"x\":[16,16],\"y\":[0,-0.10988466547584674],\"type\":\"scatter\",\"showlegend\":false},{\"line\":{\"color\":\"#3f3f3f\"},\"mode\":\"lines\",\"name\":\"Lag18\",\"x\":[17,17],\"y\":[0,-0.14564931282719593],\"type\":\"scatter\",\"showlegend\":false},{\"line\":{\"color\":\"#3f3f3f\"},\"mode\":\"lines\",\"name\":\"Lag19\",\"x\":[18,18],\"y\":[0,-0.03740029002140385],\"type\":\"scatter\",\"showlegend\":false},{\"line\":{\"color\":\"#3f3f3f\"},\"mode\":\"lines\",\"name\":\"Lag20\",\"x\":[19,19],\"y\":[0,0.06873063438689189],\"type\":\"scatter\",\"showlegend\":false},{\"line\":{\"color\":\"#3f3f3f\"},\"mode\":\"lines\",\"name\":\"Lag21\",\"x\":[20,20],\"y\":[0,-0.007599546830395844],\"type\":\"scatter\",\"showlegend\":false},{\"line\":{\"color\":\"#3f3f3f\"},\"mode\":\"lines\",\"name\":\"Lag22\",\"x\":[21,21],\"y\":[0,-0.01502402836131332],\"type\":\"scatter\",\"showlegend\":false},{\"line\":{\"color\":\"#3f3f3f\"},\"mode\":\"lines\",\"name\":\"Lag23\",\"x\":[22,22],\"y\":[0,0.09934151532652331],\"type\":\"scatter\",\"showlegend\":false},{\"line\":{\"color\":\"#3f3f3f\"},\"mode\":\"lines\",\"name\":\"Lag24\",\"x\":[23,23],\"y\":[0,0.07666445448036582],\"type\":\"scatter\",\"showlegend\":false},{\"line\":{\"color\":\"#3f3f3f\"},\"mode\":\"lines\",\"name\":\"Lag25\",\"x\":[24,24],\"y\":[0,0.05498396424840536],\"type\":\"scatter\",\"showlegend\":false},{\"line\":{\"color\":\"#3f3f3f\"},\"mode\":\"lines\",\"name\":\"Lag26\",\"x\":[25,25],\"y\":[0,0.018519596931707284],\"type\":\"scatter\",\"showlegend\":false},{\"line\":{\"color\":\"#3f3f3f\"},\"mode\":\"lines\",\"name\":\"Lag27\",\"x\":[26,26],\"y\":[0,-0.08747032418999937],\"type\":\"scatter\",\"showlegend\":false},{\"line\":{\"color\":\"#3f3f3f\"},\"mode\":\"lines\",\"name\":\"Lag28\",\"x\":[27,27],\"y\":[0,0.018513394184567704],\"type\":\"scatter\",\"showlegend\":false},{\"line\":{\"color\":\"#3f3f3f\"},\"mode\":\"lines\",\"name\":\"Lag29\",\"x\":[28,28],\"y\":[0,0.021873577250010986],\"type\":\"scatter\",\"showlegend\":false},{\"line\":{\"color\":\"#3f3f3f\"},\"mode\":\"lines\",\"name\":\"Lag30\",\"x\":[29,29],\"y\":[0,0.06328255388498032],\"type\":\"scatter\",\"showlegend\":false},{\"line\":{\"color\":\"#3f3f3f\"},\"mode\":\"lines\",\"name\":\"Lag31\",\"x\":[30,30],\"y\":[0,-0.0027786508302442524],\"type\":\"scatter\",\"showlegend\":false},{\"line\":{\"color\":\"#3f3f3f\"},\"mode\":\"lines\",\"name\":\"Lag32\",\"x\":[31,31],\"y\":[0,0.01791211665912136],\"type\":\"scatter\",\"showlegend\":false},{\"line\":{\"color\":\"#3f3f3f\"},\"mode\":\"lines\",\"name\":\"Lag33\",\"x\":[32,32],\"y\":[0,-0.03316590843387887],\"type\":\"scatter\",\"showlegend\":false},{\"line\":{\"color\":\"#3f3f3f\"},\"mode\":\"lines\",\"name\":\"Lag34\",\"x\":[33,33],\"y\":[0,0.00848299364361215],\"type\":\"scatter\",\"showlegend\":false},{\"line\":{\"color\":\"#3f3f3f\"},\"mode\":\"lines\",\"name\":\"Lag35\",\"x\":[34,34],\"y\":[0,-0.05406206053701728],\"type\":\"scatter\",\"showlegend\":false},{\"line\":{\"color\":\"#3f3f3f\"},\"mode\":\"lines\",\"name\":\"Lag36\",\"x\":[35,35],\"y\":[0,0.14916965881636376],\"type\":\"scatter\",\"showlegend\":false},{\"line\":{\"color\":\"#3f3f3f\"},\"mode\":\"lines\",\"name\":\"Lag37\",\"x\":[36,36],\"y\":[0,-0.08188239506088478],\"type\":\"scatter\",\"showlegend\":false},{\"line\":{\"color\":\"#3f3f3f\"},\"mode\":\"lines\",\"name\":\"Lag38\",\"x\":[37,37],\"y\":[0,0.02235983880330245],\"type\":\"scatter\",\"showlegend\":false},{\"line\":{\"color\":\"#3f3f3f\"},\"mode\":\"lines\",\"name\":\"Lag39\",\"x\":[38,38],\"y\":[0,-0.06043086163134434],\"type\":\"scatter\",\"showlegend\":false},{\"line\":{\"color\":\"#3f3f3f\"},\"mode\":\"lines\",\"name\":\"Lag40\",\"x\":[39,39],\"y\":[0,0.025633636559635763],\"type\":\"scatter\",\"showlegend\":false},{\"line\":{\"color\":\"#3f3f3f\"},\"mode\":\"lines\",\"name\":\"Lag41\",\"x\":[40,40],\"y\":[0,0.04787901789154522],\"type\":\"scatter\",\"showlegend\":false},{\"line\":{\"color\":\"rgba(255,255,255,0)\"},\"mode\":\"lines\",\"name\":\"UC\",\"x\":[0,1,2,3,4,5,6,7,8,9,10,11,12,13,14,15,16,17,18,19,20,21,22,23,24,25,26,27,28,29,30,31,32,33,34,35,36,37,38,39,40],\"y\":[0.0,0.10629397111858796,0.10629397111858786,0.10629397111858786,0.10629397111858786,0.10629397111858786,0.10629397111858786,0.10629397111858785,0.10629397111858786,0.10629397111858788,0.10629397111858786,0.10629397111858786,0.10629397111858786,0.10629397111858785,0.10629397111858786,0.10629397111858786,0.10629397111858786,0.10629397111858786,0.10629397111858788,0.10629397111858788,0.10629397111858786,0.10629397111858786,0.10629397111858786,0.10629397111858788,0.10629397111858786,0.10629397111858786,0.10629397111858786,0.10629397111858785,0.10629397111858785,0.10629397111858786,0.10629397111858786,0.10629397111858786,0.10629397111858786,0.10629397111858785,0.10629397111858786,0.10629397111858788,0.10629397111858786,0.10629397111858788,0.10629397111858786,0.10629397111858785,0.10629397111858788],\"type\":\"scatter\",\"showlegend\":false},{\"fill\":\"tonexty\",\"fillcolor\":\"rgba(32, 146, 230,0.3)\",\"line\":{\"color\":\"rgba(255,255,255,0)\"},\"mode\":\"lines\",\"name\":\"LC\",\"x\":[0,1,2,3,4,5,6,7,8,9,10,11,12,13,14,15,16,17,18,19,20,21,22,23,24,25,26,27,28,29,30,31,32,33,34,35,36,37,38,39,40],\"y\":[0.0,-0.10629397111858785,-0.10629397111858786,-0.10629397111858786,-0.10629397111858786,-0.10629397111858786,-0.10629397111858788,-0.10629397111858786,-0.10629397111858786,-0.10629397111858786,-0.10629397111858788,-0.10629397111858786,-0.10629397111858786,-0.10629397111858788,-0.10629397111858786,-0.10629397111858788,-0.10629397111858785,-0.10629397111858788,-0.10629397111858785,-0.10629397111858786,-0.10629397111858786,-0.10629397111858786,-0.10629397111858786,-0.10629397111858786,-0.10629397111858786,-0.10629397111858786,-0.10629397111858788,-0.10629397111858788,-0.10629397111858786,-0.10629397111858786,-0.10629397111858786,-0.10629397111858786,-0.10629397111858788,-0.10629397111858788,-0.10629397111858785,-0.10629397111858786,-0.10629397111858786,-0.10629397111858786,-0.10629397111858788,-0.10629397111858788,-0.10629397111858786],\"type\":\"scatter\",\"showlegend\":false},{\"line\":{\"color\":\"#3f3f3f\"},\"mode\":\"lines\",\"name\":\"\",\"x\":[0,41],\"y\":[0,0],\"type\":\"scatter\",\"showlegend\":false}],                        {\"template\":{\"data\":{\"barpolar\":[{\"marker\":{\"line\":{\"color\":\"rgb(237,237,237)\",\"width\":0.5},\"pattern\":{\"fillmode\":\"overlay\",\"size\":10,\"solidity\":0.2}},\"type\":\"barpolar\"}],\"bar\":[{\"error_x\":{\"color\":\"rgb(51,51,51)\"},\"error_y\":{\"color\":\"rgb(51,51,51)\"},\"marker\":{\"line\":{\"color\":\"rgb(237,237,237)\",\"width\":0.5},\"pattern\":{\"fillmode\":\"overlay\",\"size\":10,\"solidity\":0.2}},\"type\":\"bar\"}],\"carpet\":[{\"aaxis\":{\"endlinecolor\":\"rgb(51,51,51)\",\"gridcolor\":\"white\",\"linecolor\":\"white\",\"minorgridcolor\":\"white\",\"startlinecolor\":\"rgb(51,51,51)\"},\"baxis\":{\"endlinecolor\":\"rgb(51,51,51)\",\"gridcolor\":\"white\",\"linecolor\":\"white\",\"minorgridcolor\":\"white\",\"startlinecolor\":\"rgb(51,51,51)\"},\"type\":\"carpet\"}],\"choropleth\":[{\"colorbar\":{\"outlinewidth\":0,\"tickcolor\":\"rgb(237,237,237)\",\"ticklen\":6,\"ticks\":\"inside\"},\"type\":\"choropleth\"}],\"contourcarpet\":[{\"colorbar\":{\"outlinewidth\":0,\"tickcolor\":\"rgb(237,237,237)\",\"ticklen\":6,\"ticks\":\"inside\"},\"type\":\"contourcarpet\"}],\"contour\":[{\"colorbar\":{\"outlinewidth\":0,\"tickcolor\":\"rgb(237,237,237)\",\"ticklen\":6,\"ticks\":\"inside\"},\"colorscale\":[[0,\"rgb(20,44,66)\"],[1,\"rgb(90,179,244)\"]],\"type\":\"contour\"}],\"heatmapgl\":[{\"colorbar\":{\"outlinewidth\":0,\"tickcolor\":\"rgb(237,237,237)\",\"ticklen\":6,\"ticks\":\"inside\"},\"colorscale\":[[0,\"rgb(20,44,66)\"],[1,\"rgb(90,179,244)\"]],\"type\":\"heatmapgl\"}],\"heatmap\":[{\"colorbar\":{\"outlinewidth\":0,\"tickcolor\":\"rgb(237,237,237)\",\"ticklen\":6,\"ticks\":\"inside\"},\"colorscale\":[[0,\"rgb(20,44,66)\"],[1,\"rgb(90,179,244)\"]],\"type\":\"heatmap\"}],\"histogram2dcontour\":[{\"colorbar\":{\"outlinewidth\":0,\"tickcolor\":\"rgb(237,237,237)\",\"ticklen\":6,\"ticks\":\"inside\"},\"colorscale\":[[0,\"rgb(20,44,66)\"],[1,\"rgb(90,179,244)\"]],\"type\":\"histogram2dcontour\"}],\"histogram2d\":[{\"colorbar\":{\"outlinewidth\":0,\"tickcolor\":\"rgb(237,237,237)\",\"ticklen\":6,\"ticks\":\"inside\"},\"colorscale\":[[0,\"rgb(20,44,66)\"],[1,\"rgb(90,179,244)\"]],\"type\":\"histogram2d\"}],\"histogram\":[{\"marker\":{\"pattern\":{\"fillmode\":\"overlay\",\"size\":10,\"solidity\":0.2}},\"type\":\"histogram\"}],\"mesh3d\":[{\"colorbar\":{\"outlinewidth\":0,\"tickcolor\":\"rgb(237,237,237)\",\"ticklen\":6,\"ticks\":\"inside\"},\"type\":\"mesh3d\"}],\"parcoords\":[{\"line\":{\"colorbar\":{\"outlinewidth\":0,\"tickcolor\":\"rgb(237,237,237)\",\"ticklen\":6,\"ticks\":\"inside\"}},\"type\":\"parcoords\"}],\"pie\":[{\"automargin\":true,\"type\":\"pie\"}],\"scatter3d\":[{\"line\":{\"colorbar\":{\"outlinewidth\":0,\"tickcolor\":\"rgb(237,237,237)\",\"ticklen\":6,\"ticks\":\"inside\"}},\"marker\":{\"colorbar\":{\"outlinewidth\":0,\"tickcolor\":\"rgb(237,237,237)\",\"ticklen\":6,\"ticks\":\"inside\"}},\"type\":\"scatter3d\"}],\"scattercarpet\":[{\"marker\":{\"colorbar\":{\"outlinewidth\":0,\"tickcolor\":\"rgb(237,237,237)\",\"ticklen\":6,\"ticks\":\"inside\"}},\"type\":\"scattercarpet\"}],\"scattergeo\":[{\"marker\":{\"colorbar\":{\"outlinewidth\":0,\"tickcolor\":\"rgb(237,237,237)\",\"ticklen\":6,\"ticks\":\"inside\"}},\"type\":\"scattergeo\"}],\"scattergl\":[{\"marker\":{\"colorbar\":{\"outlinewidth\":0,\"tickcolor\":\"rgb(237,237,237)\",\"ticklen\":6,\"ticks\":\"inside\"}},\"type\":\"scattergl\"}],\"scattermapbox\":[{\"marker\":{\"colorbar\":{\"outlinewidth\":0,\"tickcolor\":\"rgb(237,237,237)\",\"ticklen\":6,\"ticks\":\"inside\"}},\"type\":\"scattermapbox\"}],\"scatterpolargl\":[{\"marker\":{\"colorbar\":{\"outlinewidth\":0,\"tickcolor\":\"rgb(237,237,237)\",\"ticklen\":6,\"ticks\":\"inside\"}},\"type\":\"scatterpolargl\"}],\"scatterpolar\":[{\"marker\":{\"colorbar\":{\"outlinewidth\":0,\"tickcolor\":\"rgb(237,237,237)\",\"ticklen\":6,\"ticks\":\"inside\"}},\"type\":\"scatterpolar\"}],\"scatter\":[{\"marker\":{\"colorbar\":{\"outlinewidth\":0,\"tickcolor\":\"rgb(237,237,237)\",\"ticklen\":6,\"ticks\":\"inside\"}},\"type\":\"scatter\"}],\"scatterternary\":[{\"marker\":{\"colorbar\":{\"outlinewidth\":0,\"tickcolor\":\"rgb(237,237,237)\",\"ticklen\":6,\"ticks\":\"inside\"}},\"type\":\"scatterternary\"}],\"surface\":[{\"colorbar\":{\"outlinewidth\":0,\"tickcolor\":\"rgb(237,237,237)\",\"ticklen\":6,\"ticks\":\"inside\"},\"colorscale\":[[0,\"rgb(20,44,66)\"],[1,\"rgb(90,179,244)\"]],\"type\":\"surface\"}],\"table\":[{\"cells\":{\"fill\":{\"color\":\"rgb(237,237,237)\"},\"line\":{\"color\":\"white\"}},\"header\":{\"fill\":{\"color\":\"rgb(217,217,217)\"},\"line\":{\"color\":\"white\"}},\"type\":\"table\"}]},\"layout\":{\"annotationdefaults\":{\"arrowhead\":0,\"arrowwidth\":1},\"autotypenumbers\":\"strict\",\"coloraxis\":{\"colorbar\":{\"outlinewidth\":0,\"tickcolor\":\"rgb(237,237,237)\",\"ticklen\":6,\"ticks\":\"inside\"}},\"colorscale\":{\"sequential\":[[0,\"rgb(20,44,66)\"],[1,\"rgb(90,179,244)\"]],\"sequentialminus\":[[0,\"rgb(20,44,66)\"],[1,\"rgb(90,179,244)\"]]},\"colorway\":[\"#F8766D\",\"#A3A500\",\"#00BF7D\",\"#00B0F6\",\"#E76BF3\"],\"font\":{\"color\":\"rgb(51,51,51)\"},\"geo\":{\"bgcolor\":\"white\",\"lakecolor\":\"white\",\"landcolor\":\"rgb(237,237,237)\",\"showlakes\":true,\"showland\":true,\"subunitcolor\":\"white\"},\"hoverlabel\":{\"align\":\"left\"},\"hovermode\":\"closest\",\"paper_bgcolor\":\"white\",\"plot_bgcolor\":\"rgb(237,237,237)\",\"polar\":{\"angularaxis\":{\"gridcolor\":\"white\",\"linecolor\":\"white\",\"showgrid\":true,\"tickcolor\":\"rgb(51,51,51)\",\"ticks\":\"outside\"},\"bgcolor\":\"rgb(237,237,237)\",\"radialaxis\":{\"gridcolor\":\"white\",\"linecolor\":\"white\",\"showgrid\":true,\"tickcolor\":\"rgb(51,51,51)\",\"ticks\":\"outside\"}},\"scene\":{\"xaxis\":{\"backgroundcolor\":\"rgb(237,237,237)\",\"gridcolor\":\"white\",\"gridwidth\":2,\"linecolor\":\"white\",\"showbackground\":true,\"showgrid\":true,\"tickcolor\":\"rgb(51,51,51)\",\"ticks\":\"outside\",\"zerolinecolor\":\"white\"},\"yaxis\":{\"backgroundcolor\":\"rgb(237,237,237)\",\"gridcolor\":\"white\",\"gridwidth\":2,\"linecolor\":\"white\",\"showbackground\":true,\"showgrid\":true,\"tickcolor\":\"rgb(51,51,51)\",\"ticks\":\"outside\",\"zerolinecolor\":\"white\"},\"zaxis\":{\"backgroundcolor\":\"rgb(237,237,237)\",\"gridcolor\":\"white\",\"gridwidth\":2,\"linecolor\":\"white\",\"showbackground\":true,\"showgrid\":true,\"tickcolor\":\"rgb(51,51,51)\",\"ticks\":\"outside\",\"zerolinecolor\":\"white\"}},\"shapedefaults\":{\"fillcolor\":\"black\",\"line\":{\"width\":0},\"opacity\":0.3},\"ternary\":{\"aaxis\":{\"gridcolor\":\"white\",\"linecolor\":\"white\",\"showgrid\":true,\"tickcolor\":\"rgb(51,51,51)\",\"ticks\":\"outside\"},\"baxis\":{\"gridcolor\":\"white\",\"linecolor\":\"white\",\"showgrid\":true,\"tickcolor\":\"rgb(51,51,51)\",\"ticks\":\"outside\"},\"bgcolor\":\"rgb(237,237,237)\",\"caxis\":{\"gridcolor\":\"white\",\"linecolor\":\"white\",\"showgrid\":true,\"tickcolor\":\"rgb(51,51,51)\",\"ticks\":\"outside\"}},\"xaxis\":{\"automargin\":true,\"gridcolor\":\"white\",\"linecolor\":\"white\",\"showgrid\":true,\"tickcolor\":\"rgb(51,51,51)\",\"ticks\":\"outside\",\"title\":{\"standoff\":15},\"zerolinecolor\":\"white\"},\"yaxis\":{\"automargin\":true,\"gridcolor\":\"white\",\"linecolor\":\"white\",\"showgrid\":true,\"tickcolor\":\"rgb(51,51,51)\",\"ticks\":\"outside\",\"title\":{\"standoff\":15},\"zerolinecolor\":\"white\"}}},\"xaxis\":{\"range\":[-1,42]},\"yaxis\":{\"zerolinecolor\":\"#000000\"},\"title\":{\"text\":\"Partial Autocorrelation (PACF) | x\"}},                        {\"responsive\": true}                    ).then(function(){\n",
              "                            \n",
              "var gd = document.getElementById('c02089b8-5c22-4365-8ebe-7573929fce28');\n",
              "var x = new MutationObserver(function (mutations, observer) {{\n",
              "        var display = window.getComputedStyle(gd).display;\n",
              "        if (!display || display === 'none') {{\n",
              "            console.log([gd, 'removed!']);\n",
              "            Plotly.purge(gd);\n",
              "            observer.disconnect();\n",
              "        }}\n",
              "}});\n",
              "\n",
              "// Listen for the removal of the full notebook cells\n",
              "var notebookContainer = gd.closest('#notebook-container');\n",
              "if (notebookContainer) {{\n",
              "    x.observe(notebookContainer, {childList: true});\n",
              "}}\n",
              "\n",
              "// Listen for the clearing of the current output cell\n",
              "var outputEl = gd.closest('.output');\n",
              "if (outputEl) {{\n",
              "    x.observe(outputEl, {childList: true});\n",
              "}}\n",
              "\n",
              "                        })                };                            </script>        </div>\n",
              "</body>\n",
              "</html>"
            ]
          },
          "metadata": {}
        }
      ]
    },
    {
      "cell_type": "markdown",
      "metadata": {
        "id": "C-qgRySKU9si"
      },
      "source": [
        "## Helper functions using PyCaret's Time Series Module"
      ]
    },
    {
      "cell_type": "code",
      "metadata": {
        "id": "bKq_39tvU73p"
      },
      "source": [
        "def summarize_model(model):\n",
        "  \"\"\"\n",
        "  Provides statistical summary for some statistical models\n",
        "  \"\"\"\n",
        "  # Statistical Summary Table\n",
        "  try:\n",
        "    print(model.summary())\n",
        "  except:\n",
        "    print(\"Summary does not exist for this model.\")"
      ],
      "execution_count": 7,
      "outputs": []
    },
    {
      "cell_type": "code",
      "metadata": {
        "id": "wO4r6Sf_U_8q"
      },
      "source": [
        "def get_residual_properties(model, ddof: int=0):\n",
        "  \"\"\"\n",
        "  Plots and displays variance of residuals\n",
        "  \"\"\"\n",
        "  #### Residuals ----\n",
        "  try:\n",
        "    plot_data = exp.plot_model(model, plot=\"residuals\", return_data=True)\n",
        "    residuals = plot_data['data']\n",
        "    residuals_var = residuals.std(ddof=ddof)**2\n",
        "    print(f\"Variance of Residuals: {residuals_var}\")\n",
        "  except:\n",
        "    print(\"Residuals can not be extracted for this model.\")"
      ],
      "execution_count": 8,
      "outputs": []
    },
    {
      "cell_type": "code",
      "metadata": {
        "id": "0GnY9OU5VBMa"
      },
      "source": [
        "def plot_predictions(model):\n",
        "  \"\"\"\n",
        "  Plots out-of-sample and in-sample predictions\n",
        "  \"\"\"\n",
        "  # Out-of-Sample Forecast\n",
        "  exp.plot_model(model)\n",
        "  \n",
        "  # In-Sample Forecast\n",
        "  exp.plot_model(model, plot=\"insample\")"
      ],
      "execution_count": 9,
      "outputs": []
    },
    {
      "cell_type": "markdown",
      "metadata": {
        "id": "F1TQZ_XGVDx5"
      },
      "source": [
        "## Train & Test Data Properties"
      ]
    },
    {
      "cell_type": "code",
      "metadata": {
        "colab": {
          "base_uri": "https://localhost:8080/"
        },
        "id": "CBDNfgXcVCW6",
        "outputId": "5e07759f-7d6c-4e4d-922f-15cdd21abea3"
      },
      "source": [
        "# Get Train Data Properties\n",
        "y_train = exp.get_config(\"y_train\")\n",
        "print(f\"Train Start Index: {y_train.index.min()}\\nTrain End Index: {y_train.index.max()}\")\n",
        "\n",
        "# Get Test Data Properties\n",
        "y_test = exp.get_config(\"y_test\")\n",
        "print(f\"Test Start Index: {y_test.index.min()}\\nTest End Index: {y_test.index.max()}\")"
      ],
      "execution_count": 10,
      "outputs": [
        {
          "output_type": "stream",
          "name": "stdout",
          "text": [
            "Train Start Index: 0\n",
            "Train End Index: 309\n",
            "Test Start Index: 310\n",
            "Test End Index: 339\n"
          ]
        }
      ]
    },
    {
      "cell_type": "markdown",
      "metadata": {
        "id": "D_FuawwQVgQR"
      },
      "source": [
        "## Random Walk ARIMA Model"
      ]
    },
    {
      "cell_type": "markdown",
      "metadata": {
        "id": "1PI73VuzViXh"
      },
      "source": [
        "### Theoretical Calculations"
      ]
    },
    {
      "cell_type": "code",
      "metadata": {
        "colab": {
          "base_uri": "https://localhost:8080/"
        },
        "id": "eE_JZu-vVGKK",
        "outputId": "f7cd28a1-fe1d-45a3-ce5b-558bacbb4976"
      },
      "source": [
        "train_data = pd.DataFrame({\"y\":y_train})\n",
        "train_data['preds'] = y_train.shift(1)\n",
        "train_data['split'] = \"Train\"\n",
        "\n",
        "test_data = pd.DataFrame({'y': y_test})\n",
        "test_data['preds'] = y_train.iloc[-1]\n",
        "test_data['split'] = \"Test\"\n",
        "\n",
        "data = pd.concat([train_data, test_data])\n",
        "data['residuals'] = data['y'] - data['preds']\n",
        "data.reset_index(inplace=True)\n",
        "\n",
        "data.info()"
      ],
      "execution_count": 11,
      "outputs": [
        {
          "output_type": "stream",
          "name": "stdout",
          "text": [
            "<class 'pandas.core.frame.DataFrame'>\n",
            "RangeIndex: 340 entries, 0 to 339\n",
            "Data columns (total 5 columns):\n",
            " #   Column     Non-Null Count  Dtype  \n",
            "---  ------     --------------  -----  \n",
            " 0   index      340 non-null    int64  \n",
            " 1   y          340 non-null    float64\n",
            " 2   preds      339 non-null    float64\n",
            " 3   split      340 non-null    object \n",
            " 4   residuals  339 non-null    float64\n",
            "dtypes: float64(3), int64(1), object(1)\n",
            "memory usage: 13.4+ KB\n"
          ]
        }
      ]
    },
    {
      "cell_type": "code",
      "metadata": {
        "colab": {
          "base_uri": "https://localhost:8080/"
        },
        "id": "MTkgoS-UVsT2",
        "outputId": "ca24bbe5-6110-4fa7-dd13-7ffb70816063"
      },
      "source": [
        "y_train_mean = data.query(\"split=='Train'\")['y'].mean()\n",
        "resid_std = data.query(\"split=='Train'\")['residuals'].std(ddof=0)\n",
        "resid_var = resid_std**2\n",
        "\n",
        "print(f\"Mean of Training Data: {y_train_mean}\")\n",
        "print(f\"Std Dev of Residuals: {resid_std}\")\n",
        "print(f\"Variance of Residuals: {resid_var}\")"
      ],
      "execution_count": 12,
      "outputs": [
        {
          "output_type": "stream",
          "name": "stdout",
          "text": [
            "Mean of Training Data: 186.59657396255017\n",
            "Std Dev of Residuals: 0.9893406617031943\n",
            "Variance of Residuals: 0.9787949448993144\n"
          ]
        }
      ]
    },
    {
      "cell_type": "code",
      "metadata": {
        "colab": {
          "base_uri": "https://localhost:8080/",
          "height": 312
        },
        "id": "EJo9BwKbVvyP",
        "outputId": "b25f5bf7-15d7-4c37-8f7a-6be1b8d450e9"
      },
      "source": [
        "sns.lineplot(data=data, x=\"index\", y=\"preds\", hue=\"split\").set(title=\"Theoretical Predictions\")"
      ],
      "execution_count": 13,
      "outputs": [
        {
          "output_type": "execute_result",
          "data": {
            "text/plain": [
              "[Text(0.5, 1.0, 'Theoretical Predictions')]"
            ]
          },
          "metadata": {},
          "execution_count": 13
        },
        {
          "output_type": "display_data",
          "data": {
            "image/png": "[encoded data removed]",
            "text/plain": [
              "<Figure size 432x288 with 1 Axes>"
            ]
          },
          "metadata": {
            "needs_background": "light"
          }
        }
      ]
    },
    {
      "cell_type": "markdown",
      "metadata": {
        "id": "gEHmCe3KV2vC"
      },
      "source": [
        "But what about the confidence intervals? 95% Prediction Intervals Multiplier = 1.96\n",
        "\n",
        "CHANGE: Confidence interval = Mean +/- 1.96 * Std of Residuals"
      ]
    },
    {
      "cell_type": "code",
      "metadata": {
        "colab": {
          "base_uri": "https://localhost:8080/"
        },
        "id": "zca0zM4OVxQv",
        "outputId": "0c5f25ce-f893-4161-b657-85a21e12f62a"
      },
      "source": [
        "import scipy.stats as st\n",
        "alpha = 0.05\n",
        "\n",
        "# 2 sided multiplier\n",
        "multiplier = st.norm.ppf(1-alpha/2)\n",
        "\n",
        "lower_interval = np.round(y_train_mean - multiplier * resid_std, 2)\n",
        "upper_interval = np.round(y_train_mean + multiplier * resid_std, 2)\n",
        "print(f\"Prediction Interval: {lower_interval} - {upper_interval}\")"
      ],
      "execution_count": 14,
      "outputs": [
        {
          "output_type": "stream",
          "name": "stdout",
          "text": [
            "Prediction Interval: 184.66 - 188.54\n"
          ]
        }
      ]
    },
    {
      "cell_type": "markdown",
      "metadata": {
        "id": "1Kr7cfHpV8By"
      },
      "source": [
        "### Now let's build this model & compate to Theory"
      ]
    },
    {
      "cell_type": "markdown",
      "metadata": {
        "id": "28GDo5SZYFwf"
      },
      "source": [
        "#### Pure Random Walk"
      ]
    },
    {
      "cell_type": "code",
      "metadata": {
        "colab": {
          "base_uri": "https://localhost:8080/",
          "height": 204,
          "referenced_widgets": [
            "8f2ef44fc76d4992a2bb0f83ecd990fc",
            "32728047c3604cd283a6988b9bfb1cc9",
            "79912867f3b94476915deac212751865"
          ]
        },
        "id": "cL76Zc_eV6Sg",
        "outputId": "df192c55-60f0-4d1b-e6a0-5783b373409c"
      },
      "source": [
        "model2a = exp.create_model(\"arima\", order=(0, 1, 0), seasonal_order=(0, 0, 0, 0), with_intercept=False)"
      ],
      "execution_count": 15,
      "outputs": [
        {
          "output_type": "display_data",
          "data": {
            "text/html": [
              "<div>\n",
              "<style scoped>\n",
              "    .dataframe tbody tr th:only-of-type {\n",
              "        vertical-align: middle;\n",
              "    }\n",
              "\n",
              "    .dataframe tbody tr th {\n",
              "        vertical-align: top;\n",
              "    }\n",
              "\n",
              "    .dataframe thead th {\n",
              "        text-align: right;\n",
              "    }\n",
              "</style>\n",
              "<table border=\"1\" class=\"dataframe\">\n",
              "  <thead>\n",
              "    <tr style=\"text-align: right;\">\n",
              "      <th></th>\n",
              "      <th>cutoff</th>\n",
              "      <th>MAE</th>\n",
              "      <th>RMSE</th>\n",
              "      <th>MAPE</th>\n",
              "      <th>SMAPE</th>\n",
              "      <th>R2</th>\n",
              "    </tr>\n",
              "  </thead>\n",
              "  <tbody>\n",
              "    <tr>\n",
              "      <th>0</th>\n",
              "      <td>219.0</td>\n",
              "      <td>1.8274</td>\n",
              "      <td>1.9904</td>\n",
              "      <td>0.0095</td>\n",
              "      <td>0.0096</td>\n",
              "      <td>-1.0221</td>\n",
              "    </tr>\n",
              "    <tr>\n",
              "      <th>1</th>\n",
              "      <td>249.0</td>\n",
              "      <td>2.1118</td>\n",
              "      <td>2.4533</td>\n",
              "      <td>0.0110</td>\n",
              "      <td>0.0110</td>\n",
              "      <td>-0.0227</td>\n",
              "    </tr>\n",
              "    <tr>\n",
              "      <th>2</th>\n",
              "      <td>279.0</td>\n",
              "      <td>1.9092</td>\n",
              "      <td>2.2795</td>\n",
              "      <td>0.0100</td>\n",
              "      <td>0.0100</td>\n",
              "      <td>-0.9045</td>\n",
              "    </tr>\n",
              "    <tr>\n",
              "      <th>Mean</th>\n",
              "      <td>NaN</td>\n",
              "      <td>1.9495</td>\n",
              "      <td>2.2411</td>\n",
              "      <td>0.0102</td>\n",
              "      <td>0.0102</td>\n",
              "      <td>-0.6498</td>\n",
              "    </tr>\n",
              "    <tr>\n",
              "      <th>SD</th>\n",
              "      <td>NaN</td>\n",
              "      <td>0.1196</td>\n",
              "      <td>0.1909</td>\n",
              "      <td>0.0006</td>\n",
              "      <td>0.0006</td>\n",
              "      <td>0.4460</td>\n",
              "    </tr>\n",
              "  </tbody>\n",
              "</table>\n",
              "</div>"
            ],
            "text/plain": [
              "      cutoff     MAE    RMSE    MAPE   SMAPE      R2\n",
              "0      219.0  1.8274  1.9904  0.0095  0.0096 -1.0221\n",
              "1      249.0  2.1118  2.4533  0.0110  0.0110 -0.0227\n",
              "2      279.0  1.9092  2.2795  0.0100  0.0100 -0.9045\n",
              "Mean     NaN  1.9495  2.2411  0.0102  0.0102 -0.6498\n",
              "SD       NaN  0.1196  0.1909  0.0006  0.0006  0.4460"
            ]
          },
          "metadata": {}
        }
      ]
    },
    {
      "cell_type": "code",
      "metadata": {
        "colab": {
          "base_uri": "https://localhost:8080/",
          "height": 1000
        },
        "id": "exAutUT_WCZg",
        "outputId": "a0b3bcba-8080-457e-f17a-5bb2e978631a"
      },
      "source": [
        "summarize_model(model2a)\n",
        "get_residual_properties(model2a, ddof=0)\n",
        "get_residual_properties(model2a, ddof=1)"
      ],
      "execution_count": 16,
      "outputs": [
        {
          "output_type": "stream",
          "name": "stdout",
          "text": [
            "                               SARIMAX Results                                \n",
            "==============================================================================\n",
            "Dep. Variable:                      y   No. Observations:                  310\n",
            "Model:               SARIMAX(0, 1, 0)   Log Likelihood                -435.205\n",
            "Date:                Wed, 17 Nov 2021   AIC                            872.410\n",
            "Time:                        20:21:13   BIC                            876.143\n",
            "Sample:                             0   HQIC                           873.902\n",
            "                                - 310                                         \n",
            "Covariance Type:                  opg                                         \n",
            "==============================================================================\n",
            "                 coef    std err          z      P>|z|      [0.025      0.975]\n",
            "------------------------------------------------------------------------------\n",
            "sigma2         0.9792      0.080     12.203      0.000       0.822       1.136\n",
            "===================================================================================\n",
            "Ljung-Box (L1) (Q):                   0.99   Jarque-Bera (JB):                 0.16\n",
            "Prob(Q):                              0.32   Prob(JB):                         0.92\n",
            "Heteroskedasticity (H):               0.99   Skew:                            -0.04\n",
            "Prob(H) (two-sided):                  0.95   Kurtosis:                         2.93\n",
            "===================================================================================\n",
            "\n",
            "Warnings:\n",
            "[1] Covariance matrix calculated using the outer product of gradients (complex-step).\n"
          ]
        },
        {
          "output_type": "display_data",
          "data": {
            "text/html": [
              "<html>\n",
              "<head><meta charset=\"utf-8\" /></head>\n",
              "<body>\n",
              "    <div>            <script src=\"https://cdnjs.cloudflare.com/ajax/libs/mathjax/2.7.5/MathJax.js?config=TeX-AMS-MML_SVG\"></script><script type=\"text/javascript\">if (window.MathJax) {MathJax.Hub.Config({SVG: {font: \"STIX-Web\"}});}</script>                <script type=\"text/javascript\">window.PlotlyConfig = {MathJaxConfig: 'local'};</script>\n",
              "        <script src=\"https://cdn.plot.ly/plotly-2.6.3.min.js\"></script>                <div id=\"a24eea7b-9929-4b24-8aca-5894581a228a\" class=\"plotly-graph-div\" style=\"height:525px; width:100%;\"></div>            <script type=\"text/javascript\">                                    window.PLOTLYENV=window.PLOTLYENV || {};                                    if (document.getElementById(\"a24eea7b-9929-4b24-8aca-5894581a228a\")) {                    Plotly.newPlot(                        \"a24eea7b-9929-4b24-8aca-5894581a228a\",                        [{\"marker\":{\"color\":\"#3f3f3f\",\"size\":5},\"mode\":\"lines+markers\",\"name\":\"Residuals | ARIMA\",\"showlegend\":true,\"x\":[1,2,3,4,5,6,7,8,9,10,11,12,13,14,15,16,17,18,19,20,21,22,23,24,25,26,27,28,29,30,31,32,33,34,35,36,37,38,39,40,41,42,43,44,45,46,47,48,49,50,51,52,53,54,55,56,57,58,59,60,61,62,63,64,65,66,67,68,69,70,71,72,73,74,75,76,77,78,79,80,81,82,83,84,85,86,87,88,89,90,91,92,93,94,95,96,97,98,99,100,101,102,103,104,105,106,107,108,109,110,111,112,113,114,115,116,117,118,119,120,121,122,123,124,125,126,127,128,129,130,131,132,133,134,135,136,137,138,139,140,141,142,143,144,145,146,147,148,149,150,151,152,153,154,155,156,157,158,159,160,161,162,163,164,165,166,167,168,169,170,171,172,173,174,175,176,177,178,179,180,181,182,183,184,185,186,187,188,189,190,191,192,193,194,195,196,197,198,199,200,201,202,203,204,205,206,207,208,209,210,211,212,213,214,215,216,217,218,219,220,221,222,223,224,225,226,227,228,229,230,231,232,233,234,235,236,237,238,239,240,241,242,243,244,245,246,247,248,249,250,251,252,253,254,255,256,257,258,259,260,261,262,263,264,265,266,267,268,269,270,271,272,273,274,275,276,277,278,279,280,281,282,283,284,285,286,287,288,289,290,291,292,293,294,295,296,297,298,299,300,301,302,303,304,305,306,307,308,309],\"y\":[0.042115873145036176,-0.9109216485530283,0.15802877246107983,-0.6545846439190086,1.7672872693730142,0.7167074760170067,0.9101742294949702,0.3841853578270502,1.6821760805189854,-0.635736453949022,-0.46164473036000686,1.4322822385410063,-0.6506963533100247,-0.20738074360198766,-0.39280792944197174,-0.3199928685480131,-0.279113302976981,0.494188331267992,-0.17733048227000836,-0.5059574621139973,1.343038825169998,-0.2145794085460011,-0.1795565300440103,-0.10019074121299809,0.7126663070509949,-0.07356440412596044,-0.037634171467033184,-0.6816604787559868,-0.3242702722460251,0.060160440434003704,-0.5888944862599885,0.5314961926330284,-1.5183940817870507,0.30655786079003633,-1.536449823538021,-0.30097612683599095,-0.528279904444986,-0.6520947806810113,-0.05689677784801006,-1.9143594256800043,1.1765833120190052,-1.6649724362119969,-0.463530401471985,-1.115920105043017,-0.750819001194003,2.087166545629003,0.01739561969299075,-1.286300530434005,-1.6406055344189951,0.4501871012730021,-0.018559832714970526,-0.31806837454399783,-0.929362147454043,-1.487460310140989,-1.0751922966159668,1.000028803713974,-0.6212666947969865,-1.3844268473840202,1.8692906224230228,0.4251003773729565,-0.2386471009129707,1.0584830487090073,0.8864226513749998,-0.6192430482310272,2.2061024645400096,-0.255027030141008,-1.4244946502129778,-0.14439960195400658,0.20753833923200204,2.307978399060005,0.10580236789400033,0.4569988054230123,-0.07715293535702017,-0.33400084236598104,-0.034726028311013124,0.7876396056300052,2.07524500865199,1.0273924387639966,1.2079083983869907,-1.231323421558983,0.9838955700540168,0.21992480366100153,-1.4672500290930088,0.5210227426480003,-0.15875460471599467,1.4645873119699786,-0.7660819996039834,-0.4302117539290009,-0.9261094973770128,-0.17710396143698404,0.40201177948600275,-0.7317481731190014,0.83037316798098,-1.2080827863040042,-1.047984412808006,1.4411577068440238,-1.0158474653039775,0.4119747123169475,-0.3810760511089484,0.4094018396509682,1.6888732862040001,1.5865884334420173,-0.330907800682013,-2.2852355352929976,2.4976615898339958,0.6670661667660056,0.541327335964013,-0.013399523146006231,0.5101084229529818,-0.1643758317699735,0.42069464325396666,-0.4002467439769646,-1.3702078775480402,0.9878382674550323,1.5197450254999865,-0.30874056922598925,-1.253289755608023,0.6422413056780272,-0.04470913689399936,-1.7332184068250456,0.002131859681014703,-0.6303003339279769,-0.3409685798609985,-1.156572362635984,1.8031419079179614,-0.33113203639197764,-1.6055134122530035,0.19719343874001538,0.2631756464049886,-0.9858267004090067,-2.888920671679017,-0.6404817025659781,0.5705076359209613,-0.05972327604297334,-0.09817874400499704,0.5608207286200013,-1.186458638579012,1.0967770442740061,-0.0053440282780172765,0.7073106673980476,1.0341077347369776,0.22348041491599702,-0.8787076128659805,1.1629645559669655,-2.000164944785979,-0.544790740000991,-0.2556707091570445,-0.16612103676496304,1.0204639087839666,0.13622189310302701,0.4071676034230052,-0.06965481301199361,-0.24766434162003748,0.6955508066200196,1.1462283572160175,-2.4030962148920025,0.5727395552459882,0.37472440677800023,-0.42526772155602544,0.9510128075770297,-0.3892371817179878,-0.28433066179999855,0.8574097780799832,1.719627299121015,0.2700549009369695,-0.4221840097879692,-1.1891132948590268,-0.33103297887998906,-0.9398293265100222,-0.25893258311796785,0.3943791682210076,-0.8518570920240052,2.6491668810949704,0.15601167566501317,1.130207267455006,-2.289123979839985,0.7410011571959672,-1.316245160451956,0.919803677608968,0.3981301554520087,-0.4075285792700072,1.3242586301779795,-0.7012316692469653,-0.5806143042410099,-1.0010721810249947,-0.6681786067539974,0.9451849533730012,0.43370214954600783,1.0051592176770043,-0.39011866405402884,0.3763702917750038,0.24416492448600025,-1.4262573423820015,1.7784292874750065,0.13444766093400062,0.7655989991579872,0.9551366769090066,-0.05056570144301986,-0.30581541976698645,0.8936737024259855,-1.047298149060964,1.9713373862239791,-0.38363210628898514,1.6541453022749977,1.5122126939509712,0.0829657335860361,0.5672209148509921,-1.024548479534019,0.3230065030219862,1.0436124583570177,0.09907848689701382,-0.4541369091550109,-0.6557818524499908,-0.0359224226230026,1.0691614606770088,-0.48397493030100236,-0.12101011132801887,-1.2941400038199902,0.49431283601501264,1.3079015201139725,1.497041009402011,0.8147027308980341,-1.8697887902030175,0.4820295041239717,0.4561356033010213,-0.3534002858299914,0.1704894709479845,-0.8640359541269618,0.6792307740159913,-0.3271010146530102,-1.5690821851440262,-0.3674507561709959,1.364434929070029,-0.33428136473102654,0.7327500422090054,0.9465856401979806,0.0043987043260358405,-0.35232230554902344,-0.5296955091339726,0.7395892255749743,-1.0634574154830148,0.2462108435360335,-0.28949936656402997,-2.2648893564879984,-1.4088504560729973,0.9160193287929985,-0.191278950535974,0.8032832161339911,1.8874744633089904,1.4738811811090216,0.6772684923130043,0.37996268656598886,-0.19279842645701706,1.577891794905014,0.5962341093180044,-1.1735769408710155,-0.1556425348910011,-1.9189098202700166,-0.19525884610999356,-2.5923276699459734,1.314002167197998,-0.6355430010320049,-0.4299788386940122,-0.169318332301998,0.6122181739890209,0.6783401772219975,0.5679519724720024,-0.5725426039260242,-1.3632912562779893,-0.3887222443379983,0.277914132449979,-0.8230811215719882,-0.0688409344780041,-1.1676623261299994,-0.008309014215996058,0.12885540159800257,-0.145875628460999,-0.16391095673597533,1.7635520027849907,0.7625865124179825,1.1114310807310233,-0.9232069528300144,0.16434183842798689,1.1548251870970319,-0.056521424526039254,-2.1293606482349787,0.3448457620989984,-1.904955445585017,-0.8111701531399831,1.3240043212990145,0.6156368493029731,1.0916689555350274,0.3066048615139607,-0.11015876248296763,-0.9243127731269851,1.5929137537189888,0.045010598121962175,-0.715128400667993,0.8652230997170136,1.0744409582779895,1.8956547741990448,-0.6029973036060312,-0.3908678207230025,-0.4162220315299976,-0.3756574228199838,-0.36663094570300814,-0.29567745270099977,1.4418204101999947,-0.6975382919129913],\"type\":\"scatter\"}],                        {\"title\":{\"text\":\"Residuals\"},\"xaxis\":{\"title\":{\"text\":\"Time\"}},\"yaxis\":{\"title\":{\"text\":\"Values\"}},\"template\":{\"data\":{\"barpolar\":[{\"marker\":{\"line\":{\"color\":\"rgb(237,237,237)\",\"width\":0.5},\"pattern\":{\"fillmode\":\"overlay\",\"size\":10,\"solidity\":0.2}},\"type\":\"barpolar\"}],\"bar\":[{\"error_x\":{\"color\":\"rgb(51,51,51)\"},\"error_y\":{\"color\":\"rgb(51,51,51)\"},\"marker\":{\"line\":{\"color\":\"rgb(237,237,237)\",\"width\":0.5},\"pattern\":{\"fillmode\":\"overlay\",\"size\":10,\"solidity\":0.2}},\"type\":\"bar\"}],\"carpet\":[{\"aaxis\":{\"endlinecolor\":\"rgb(51,51,51)\",\"gridcolor\":\"white\",\"linecolor\":\"white\",\"minorgridcolor\":\"white\",\"startlinecolor\":\"rgb(51,51,51)\"},\"baxis\":{\"endlinecolor\":\"rgb(51,51,51)\",\"gridcolor\":\"white\",\"linecolor\":\"white\",\"minorgridcolor\":\"white\",\"startlinecolor\":\"rgb(51,51,51)\"},\"type\":\"carpet\"}],\"choropleth\":[{\"colorbar\":{\"outlinewidth\":0,\"tickcolor\":\"rgb(237,237,237)\",\"ticklen\":6,\"ticks\":\"inside\"},\"type\":\"choropleth\"}],\"contourcarpet\":[{\"colorbar\":{\"outlinewidth\":0,\"tickcolor\":\"rgb(237,237,237)\",\"ticklen\":6,\"ticks\":\"inside\"},\"type\":\"contourcarpet\"}],\"contour\":[{\"colorbar\":{\"outlinewidth\":0,\"tickcolor\":\"rgb(237,237,237)\",\"ticklen\":6,\"ticks\":\"inside\"},\"colorscale\":[[0,\"rgb(20,44,66)\"],[1,\"rgb(90,179,244)\"]],\"type\":\"contour\"}],\"heatmapgl\":[{\"colorbar\":{\"outlinewidth\":0,\"tickcolor\":\"rgb(237,237,237)\",\"ticklen\":6,\"ticks\":\"inside\"},\"colorscale\":[[0,\"rgb(20,44,66)\"],[1,\"rgb(90,179,244)\"]],\"type\":\"heatmapgl\"}],\"heatmap\":[{\"colorbar\":{\"outlinewidth\":0,\"tickcolor\":\"rgb(237,237,237)\",\"ticklen\":6,\"ticks\":\"inside\"},\"colorscale\":[[0,\"rgb(20,44,66)\"],[1,\"rgb(90,179,244)\"]],\"type\":\"heatmap\"}],\"histogram2dcontour\":[{\"colorbar\":{\"outlinewidth\":0,\"tickcolor\":\"rgb(237,237,237)\",\"ticklen\":6,\"ticks\":\"inside\"},\"colorscale\":[[0,\"rgb(20,44,66)\"],[1,\"rgb(90,179,244)\"]],\"type\":\"histogram2dcontour\"}],\"histogram2d\":[{\"colorbar\":{\"outlinewidth\":0,\"tickcolor\":\"rgb(237,237,237)\",\"ticklen\":6,\"ticks\":\"inside\"},\"colorscale\":[[0,\"rgb(20,44,66)\"],[1,\"rgb(90,179,244)\"]],\"type\":\"histogram2d\"}],\"histogram\":[{\"marker\":{\"pattern\":{\"fillmode\":\"overlay\",\"size\":10,\"solidity\":0.2}},\"type\":\"histogram\"}],\"mesh3d\":[{\"colorbar\":{\"outlinewidth\":0,\"tickcolor\":\"rgb(237,237,237)\",\"ticklen\":6,\"ticks\":\"inside\"},\"type\":\"mesh3d\"}],\"parcoords\":[{\"line\":{\"colorbar\":{\"outlinewidth\":0,\"tickcolor\":\"rgb(237,237,237)\",\"ticklen\":6,\"ticks\":\"inside\"}},\"type\":\"parcoords\"}],\"pie\":[{\"automargin\":true,\"type\":\"pie\"}],\"scatter3d\":[{\"line\":{\"colorbar\":{\"outlinewidth\":0,\"tickcolor\":\"rgb(237,237,237)\",\"ticklen\":6,\"ticks\":\"inside\"}},\"marker\":{\"colorbar\":{\"outlinewidth\":0,\"tickcolor\":\"rgb(237,237,237)\",\"ticklen\":6,\"ticks\":\"inside\"}},\"type\":\"scatter3d\"}],\"scattercarpet\":[{\"marker\":{\"colorbar\":{\"outlinewidth\":0,\"tickcolor\":\"rgb(237,237,237)\",\"ticklen\":6,\"ticks\":\"inside\"}},\"type\":\"scattercarpet\"}],\"scattergeo\":[{\"marker\":{\"colorbar\":{\"outlinewidth\":0,\"tickcolor\":\"rgb(237,237,237)\",\"ticklen\":6,\"ticks\":\"inside\"}},\"type\":\"scattergeo\"}],\"scattergl\":[{\"marker\":{\"colorbar\":{\"outlinewidth\":0,\"tickcolor\":\"rgb(237,237,237)\",\"ticklen\":6,\"ticks\":\"inside\"}},\"type\":\"scattergl\"}],\"scattermapbox\":[{\"marker\":{\"colorbar\":{\"outlinewidth\":0,\"tickcolor\":\"rgb(237,237,237)\",\"ticklen\":6,\"ticks\":\"inside\"}},\"type\":\"scattermapbox\"}],\"scatterpolargl\":[{\"marker\":{\"colorbar\":{\"outlinewidth\":0,\"tickcolor\":\"rgb(237,237,237)\",\"ticklen\":6,\"ticks\":\"inside\"}},\"type\":\"scatterpolargl\"}],\"scatterpolar\":[{\"marker\":{\"colorbar\":{\"outlinewidth\":0,\"tickcolor\":\"rgb(237,237,237)\",\"ticklen\":6,\"ticks\":\"inside\"}},\"type\":\"scatterpolar\"}],\"scatter\":[{\"marker\":{\"colorbar\":{\"outlinewidth\":0,\"tickcolor\":\"rgb(237,237,237)\",\"ticklen\":6,\"ticks\":\"inside\"}},\"type\":\"scatter\"}],\"scatterternary\":[{\"marker\":{\"colorbar\":{\"outlinewidth\":0,\"tickcolor\":\"rgb(237,237,237)\",\"ticklen\":6,\"ticks\":\"inside\"}},\"type\":\"scatterternary\"}],\"surface\":[{\"colorbar\":{\"outlinewidth\":0,\"tickcolor\":\"rgb(237,237,237)\",\"ticklen\":6,\"ticks\":\"inside\"},\"colorscale\":[[0,\"rgb(20,44,66)\"],[1,\"rgb(90,179,244)\"]],\"type\":\"surface\"}],\"table\":[{\"cells\":{\"fill\":{\"color\":\"rgb(237,237,237)\"},\"line\":{\"color\":\"white\"}},\"header\":{\"fill\":{\"color\":\"rgb(217,217,217)\"},\"line\":{\"color\":\"white\"}},\"type\":\"table\"}]},\"layout\":{\"annotationdefaults\":{\"arrowhead\":0,\"arrowwidth\":1},\"autotypenumbers\":\"strict\",\"coloraxis\":{\"colorbar\":{\"outlinewidth\":0,\"tickcolor\":\"rgb(237,237,237)\",\"ticklen\":6,\"ticks\":\"inside\"}},\"colorscale\":{\"sequential\":[[0,\"rgb(20,44,66)\"],[1,\"rgb(90,179,244)\"]],\"sequentialminus\":[[0,\"rgb(20,44,66)\"],[1,\"rgb(90,179,244)\"]]},\"colorway\":[\"#F8766D\",\"#A3A500\",\"#00BF7D\",\"#00B0F6\",\"#E76BF3\"],\"font\":{\"color\":\"rgb(51,51,51)\"},\"geo\":{\"bgcolor\":\"white\",\"lakecolor\":\"white\",\"landcolor\":\"rgb(237,237,237)\",\"showlakes\":true,\"showland\":true,\"subunitcolor\":\"white\"},\"hoverlabel\":{\"align\":\"left\"},\"hovermode\":\"closest\",\"paper_bgcolor\":\"white\",\"plot_bgcolor\":\"rgb(237,237,237)\",\"polar\":{\"angularaxis\":{\"gridcolor\":\"white\",\"linecolor\":\"white\",\"showgrid\":true,\"tickcolor\":\"rgb(51,51,51)\",\"ticks\":\"outside\"},\"bgcolor\":\"rgb(237,237,237)\",\"radialaxis\":{\"gridcolor\":\"white\",\"linecolor\":\"white\",\"showgrid\":true,\"tickcolor\":\"rgb(51,51,51)\",\"ticks\":\"outside\"}},\"scene\":{\"xaxis\":{\"backgroundcolor\":\"rgb(237,237,237)\",\"gridcolor\":\"white\",\"gridwidth\":2,\"linecolor\":\"white\",\"showbackground\":true,\"showgrid\":true,\"tickcolor\":\"rgb(51,51,51)\",\"ticks\":\"outside\",\"zerolinecolor\":\"white\"},\"yaxis\":{\"backgroundcolor\":\"rgb(237,237,237)\",\"gridcolor\":\"white\",\"gridwidth\":2,\"linecolor\":\"white\",\"showbackground\":true,\"showgrid\":true,\"tickcolor\":\"rgb(51,51,51)\",\"ticks\":\"outside\",\"zerolinecolor\":\"white\"},\"zaxis\":{\"backgroundcolor\":\"rgb(237,237,237)\",\"gridcolor\":\"white\",\"gridwidth\":2,\"linecolor\":\"white\",\"showbackground\":true,\"showgrid\":true,\"tickcolor\":\"rgb(51,51,51)\",\"ticks\":\"outside\",\"zerolinecolor\":\"white\"}},\"shapedefaults\":{\"fillcolor\":\"black\",\"line\":{\"width\":0},\"opacity\":0.3},\"ternary\":{\"aaxis\":{\"gridcolor\":\"white\",\"linecolor\":\"white\",\"showgrid\":true,\"tickcolor\":\"rgb(51,51,51)\",\"ticks\":\"outside\"},\"baxis\":{\"gridcolor\":\"white\",\"linecolor\":\"white\",\"showgrid\":true,\"tickcolor\":\"rgb(51,51,51)\",\"ticks\":\"outside\"},\"bgcolor\":\"rgb(237,237,237)\",\"caxis\":{\"gridcolor\":\"white\",\"linecolor\":\"white\",\"showgrid\":true,\"tickcolor\":\"rgb(51,51,51)\",\"ticks\":\"outside\"}},\"xaxis\":{\"automargin\":true,\"gridcolor\":\"white\",\"linecolor\":\"white\",\"showgrid\":true,\"tickcolor\":\"rgb(51,51,51)\",\"ticks\":\"outside\",\"title\":{\"standoff\":15},\"zerolinecolor\":\"white\"},\"yaxis\":{\"automargin\":true,\"gridcolor\":\"white\",\"linecolor\":\"white\",\"showgrid\":true,\"tickcolor\":\"rgb(51,51,51)\",\"ticks\":\"outside\",\"title\":{\"standoff\":15},\"zerolinecolor\":\"white\"}}},\"showlegend\":true},                        {\"responsive\": true}                    ).then(function(){\n",
              "                            \n",
              "var gd = document.getElementById('a24eea7b-9929-4b24-8aca-5894581a228a');\n",
              "var x = new MutationObserver(function (mutations, observer) {{\n",
              "        var display = window.getComputedStyle(gd).display;\n",
              "        if (!display || display === 'none') {{\n",
              "            console.log([gd, 'removed!']);\n",
              "            Plotly.purge(gd);\n",
              "            observer.disconnect();\n",
              "        }}\n",
              "}});\n",
              "\n",
              "// Listen for the removal of the full notebook cells\n",
              "var notebookContainer = gd.closest('#notebook-container');\n",
              "if (notebookContainer) {{\n",
              "    x.observe(notebookContainer, {childList: true});\n",
              "}}\n",
              "\n",
              "// Listen for the clearing of the current output cell\n",
              "var outputEl = gd.closest('.output');\n",
              "if (outputEl) {{\n",
              "    x.observe(outputEl, {childList: true});\n",
              "}}\n",
              "\n",
              "                        })                };                            </script>        </div>\n",
              "</body>\n",
              "</html>"
            ]
          },
          "metadata": {}
        },
        {
          "output_type": "stream",
          "name": "stdout",
          "text": [
            "Variance of Residuals: 0.9787949448993651\n"
          ]
        },
        {
          "output_type": "display_data",
          "data": {
            "text/html": [
              "<html>\n",
              "<head><meta charset=\"utf-8\" /></head>\n",
              "<body>\n",
              "    <div>            <script src=\"https://cdnjs.cloudflare.com/ajax/libs/mathjax/2.7.5/MathJax.js?config=TeX-AMS-MML_SVG\"></script><script type=\"text/javascript\">if (window.MathJax) {MathJax.Hub.Config({SVG: {font: \"STIX-Web\"}});}</script>                <script type=\"text/javascript\">window.PlotlyConfig = {MathJaxConfig: 'local'};</script>\n",
              "        <script src=\"https://cdn.plot.ly/plotly-2.6.3.min.js\"></script>                <div id=\"19cce21b-6aac-4587-9e78-2e3e647bdd7b\" class=\"plotly-graph-div\" style=\"height:525px; width:100%;\"></div>            <script type=\"text/javascript\">                                    window.PLOTLYENV=window.PLOTLYENV || {};                                    if (document.getElementById(\"19cce21b-6aac-4587-9e78-2e3e647bdd7b\")) {                    Plotly.newPlot(                        \"19cce21b-6aac-4587-9e78-2e3e647bdd7b\",                        [{\"marker\":{\"color\":\"#3f3f3f\",\"size\":5},\"mode\":\"lines+markers\",\"name\":\"Residuals | ARIMA\",\"showlegend\":true,\"x\":[1,2,3,4,5,6,7,8,9,10,11,12,13,14,15,16,17,18,19,20,21,22,23,24,25,26,27,28,29,30,31,32,33,34,35,36,37,38,39,40,41,42,43,44,45,46,47,48,49,50,51,52,53,54,55,56,57,58,59,60,61,62,63,64,65,66,67,68,69,70,71,72,73,74,75,76,77,78,79,80,81,82,83,84,85,86,87,88,89,90,91,92,93,94,95,96,97,98,99,100,101,102,103,104,105,106,107,108,109,110,111,112,113,114,115,116,117,118,119,120,121,122,123,124,125,126,127,128,129,130,131,132,133,134,135,136,137,138,139,140,141,142,143,144,145,146,147,148,149,150,151,152,153,154,155,156,157,158,159,160,161,162,163,164,165,166,167,168,169,170,171,172,173,174,175,176,177,178,179,180,181,182,183,184,185,186,187,188,189,190,191,192,193,194,195,196,197,198,199,200,201,202,203,204,205,206,207,208,209,210,211,212,213,214,215,216,217,218,219,220,221,222,223,224,225,226,227,228,229,230,231,232,233,234,235,236,237,238,239,240,241,242,243,244,245,246,247,248,249,250,251,252,253,254,255,256,257,258,259,260,261,262,263,264,265,266,267,268,269,270,271,272,273,274,275,276,277,278,279,280,281,282,283,284,285,286,287,288,289,290,291,292,293,294,295,296,297,298,299,300,301,302,303,304,305,306,307,308,309],\"y\":[0.042115873145036176,-0.9109216485530283,0.15802877246107983,-0.6545846439190086,1.7672872693730142,0.7167074760170067,0.9101742294949702,0.3841853578270502,1.6821760805189854,-0.635736453949022,-0.46164473036000686,1.4322822385410063,-0.6506963533100247,-0.20738074360198766,-0.39280792944197174,-0.3199928685480131,-0.279113302976981,0.494188331267992,-0.17733048227000836,-0.5059574621139973,1.343038825169998,-0.2145794085460011,-0.1795565300440103,-0.10019074121299809,0.7126663070509949,-0.07356440412596044,-0.037634171467033184,-0.6816604787559868,-0.3242702722460251,0.060160440434003704,-0.5888944862599885,0.5314961926330284,-1.5183940817870507,0.30655786079003633,-1.536449823538021,-0.30097612683599095,-0.528279904444986,-0.6520947806810113,-0.05689677784801006,-1.9143594256800043,1.1765833120190052,-1.6649724362119969,-0.463530401471985,-1.115920105043017,-0.750819001194003,2.087166545629003,0.01739561969299075,-1.286300530434005,-1.6406055344189951,0.4501871012730021,-0.018559832714970526,-0.31806837454399783,-0.929362147454043,-1.487460310140989,-1.0751922966159668,1.000028803713974,-0.6212666947969865,-1.3844268473840202,1.8692906224230228,0.4251003773729565,-0.2386471009129707,1.0584830487090073,0.8864226513749998,-0.6192430482310272,2.2061024645400096,-0.255027030141008,-1.4244946502129778,-0.14439960195400658,0.20753833923200204,2.307978399060005,0.10580236789400033,0.4569988054230123,-0.07715293535702017,-0.33400084236598104,-0.034726028311013124,0.7876396056300052,2.07524500865199,1.0273924387639966,1.2079083983869907,-1.231323421558983,0.9838955700540168,0.21992480366100153,-1.4672500290930088,0.5210227426480003,-0.15875460471599467,1.4645873119699786,-0.7660819996039834,-0.4302117539290009,-0.9261094973770128,-0.17710396143698404,0.40201177948600275,-0.7317481731190014,0.83037316798098,-1.2080827863040042,-1.047984412808006,1.4411577068440238,-1.0158474653039775,0.4119747123169475,-0.3810760511089484,0.4094018396509682,1.6888732862040001,1.5865884334420173,-0.330907800682013,-2.2852355352929976,2.4976615898339958,0.6670661667660056,0.541327335964013,-0.013399523146006231,0.5101084229529818,-0.1643758317699735,0.42069464325396666,-0.4002467439769646,-1.3702078775480402,0.9878382674550323,1.5197450254999865,-0.30874056922598925,-1.253289755608023,0.6422413056780272,-0.04470913689399936,-1.7332184068250456,0.002131859681014703,-0.6303003339279769,-0.3409685798609985,-1.156572362635984,1.8031419079179614,-0.33113203639197764,-1.6055134122530035,0.19719343874001538,0.2631756464049886,-0.9858267004090067,-2.888920671679017,-0.6404817025659781,0.5705076359209613,-0.05972327604297334,-0.09817874400499704,0.5608207286200013,-1.186458638579012,1.0967770442740061,-0.0053440282780172765,0.7073106673980476,1.0341077347369776,0.22348041491599702,-0.8787076128659805,1.1629645559669655,-2.000164944785979,-0.544790740000991,-0.2556707091570445,-0.16612103676496304,1.0204639087839666,0.13622189310302701,0.4071676034230052,-0.06965481301199361,-0.24766434162003748,0.6955508066200196,1.1462283572160175,-2.4030962148920025,0.5727395552459882,0.37472440677800023,-0.42526772155602544,0.9510128075770297,-0.3892371817179878,-0.28433066179999855,0.8574097780799832,1.719627299121015,0.2700549009369695,-0.4221840097879692,-1.1891132948590268,-0.33103297887998906,-0.9398293265100222,-0.25893258311796785,0.3943791682210076,-0.8518570920240052,2.6491668810949704,0.15601167566501317,1.130207267455006,-2.289123979839985,0.7410011571959672,-1.316245160451956,0.919803677608968,0.3981301554520087,-0.4075285792700072,1.3242586301779795,-0.7012316692469653,-0.5806143042410099,-1.0010721810249947,-0.6681786067539974,0.9451849533730012,0.43370214954600783,1.0051592176770043,-0.39011866405402884,0.3763702917750038,0.24416492448600025,-1.4262573423820015,1.7784292874750065,0.13444766093400062,0.7655989991579872,0.9551366769090066,-0.05056570144301986,-0.30581541976698645,0.8936737024259855,-1.047298149060964,1.9713373862239791,-0.38363210628898514,1.6541453022749977,1.5122126939509712,0.0829657335860361,0.5672209148509921,-1.024548479534019,0.3230065030219862,1.0436124583570177,0.09907848689701382,-0.4541369091550109,-0.6557818524499908,-0.0359224226230026,1.0691614606770088,-0.48397493030100236,-0.12101011132801887,-1.2941400038199902,0.49431283601501264,1.3079015201139725,1.497041009402011,0.8147027308980341,-1.8697887902030175,0.4820295041239717,0.4561356033010213,-0.3534002858299914,0.1704894709479845,-0.8640359541269618,0.6792307740159913,-0.3271010146530102,-1.5690821851440262,-0.3674507561709959,1.364434929070029,-0.33428136473102654,0.7327500422090054,0.9465856401979806,0.0043987043260358405,-0.35232230554902344,-0.5296955091339726,0.7395892255749743,-1.0634574154830148,0.2462108435360335,-0.28949936656402997,-2.2648893564879984,-1.4088504560729973,0.9160193287929985,-0.191278950535974,0.8032832161339911,1.8874744633089904,1.4738811811090216,0.6772684923130043,0.37996268656598886,-0.19279842645701706,1.577891794905014,0.5962341093180044,-1.1735769408710155,-0.1556425348910011,-1.9189098202700166,-0.19525884610999356,-2.5923276699459734,1.314002167197998,-0.6355430010320049,-0.4299788386940122,-0.169318332301998,0.6122181739890209,0.6783401772219975,0.5679519724720024,-0.5725426039260242,-1.3632912562779893,-0.3887222443379983,0.277914132449979,-0.8230811215719882,-0.0688409344780041,-1.1676623261299994,-0.008309014215996058,0.12885540159800257,-0.145875628460999,-0.16391095673597533,1.7635520027849907,0.7625865124179825,1.1114310807310233,-0.9232069528300144,0.16434183842798689,1.1548251870970319,-0.056521424526039254,-2.1293606482349787,0.3448457620989984,-1.904955445585017,-0.8111701531399831,1.3240043212990145,0.6156368493029731,1.0916689555350274,0.3066048615139607,-0.11015876248296763,-0.9243127731269851,1.5929137537189888,0.045010598121962175,-0.715128400667993,0.8652230997170136,1.0744409582779895,1.8956547741990448,-0.6029973036060312,-0.3908678207230025,-0.4162220315299976,-0.3756574228199838,-0.36663094570300814,-0.29567745270099977,1.4418204101999947,-0.6975382919129913],\"type\":\"scatter\"}],                        {\"title\":{\"text\":\"Residuals\"},\"xaxis\":{\"title\":{\"text\":\"Time\"}},\"yaxis\":{\"title\":{\"text\":\"Values\"}},\"template\":{\"data\":{\"barpolar\":[{\"marker\":{\"line\":{\"color\":\"rgb(237,237,237)\",\"width\":0.5},\"pattern\":{\"fillmode\":\"overlay\",\"size\":10,\"solidity\":0.2}},\"type\":\"barpolar\"}],\"bar\":[{\"error_x\":{\"color\":\"rgb(51,51,51)\"},\"error_y\":{\"color\":\"rgb(51,51,51)\"},\"marker\":{\"line\":{\"color\":\"rgb(237,237,237)\",\"width\":0.5},\"pattern\":{\"fillmode\":\"overlay\",\"size\":10,\"solidity\":0.2}},\"type\":\"bar\"}],\"carpet\":[{\"aaxis\":{\"endlinecolor\":\"rgb(51,51,51)\",\"gridcolor\":\"white\",\"linecolor\":\"white\",\"minorgridcolor\":\"white\",\"startlinecolor\":\"rgb(51,51,51)\"},\"baxis\":{\"endlinecolor\":\"rgb(51,51,51)\",\"gridcolor\":\"white\",\"linecolor\":\"white\",\"minorgridcolor\":\"white\",\"startlinecolor\":\"rgb(51,51,51)\"},\"type\":\"carpet\"}],\"choropleth\":[{\"colorbar\":{\"outlinewidth\":0,\"tickcolor\":\"rgb(237,237,237)\",\"ticklen\":6,\"ticks\":\"inside\"},\"type\":\"choropleth\"}],\"contourcarpet\":[{\"colorbar\":{\"outlinewidth\":0,\"tickcolor\":\"rgb(237,237,237)\",\"ticklen\":6,\"ticks\":\"inside\"},\"type\":\"contourcarpet\"}],\"contour\":[{\"colorbar\":{\"outlinewidth\":0,\"tickcolor\":\"rgb(237,237,237)\",\"ticklen\":6,\"ticks\":\"inside\"},\"colorscale\":[[0,\"rgb(20,44,66)\"],[1,\"rgb(90,179,244)\"]],\"type\":\"contour\"}],\"heatmapgl\":[{\"colorbar\":{\"outlinewidth\":0,\"tickcolor\":\"rgb(237,237,237)\",\"ticklen\":6,\"ticks\":\"inside\"},\"colorscale\":[[0,\"rgb(20,44,66)\"],[1,\"rgb(90,179,244)\"]],\"type\":\"heatmapgl\"}],\"heatmap\":[{\"colorbar\":{\"outlinewidth\":0,\"tickcolor\":\"rgb(237,237,237)\",\"ticklen\":6,\"ticks\":\"inside\"},\"colorscale\":[[0,\"rgb(20,44,66)\"],[1,\"rgb(90,179,244)\"]],\"type\":\"heatmap\"}],\"histogram2dcontour\":[{\"colorbar\":{\"outlinewidth\":0,\"tickcolor\":\"rgb(237,237,237)\",\"ticklen\":6,\"ticks\":\"inside\"},\"colorscale\":[[0,\"rgb(20,44,66)\"],[1,\"rgb(90,179,244)\"]],\"type\":\"histogram2dcontour\"}],\"histogram2d\":[{\"colorbar\":{\"outlinewidth\":0,\"tickcolor\":\"rgb(237,237,237)\",\"ticklen\":6,\"ticks\":\"inside\"},\"colorscale\":[[0,\"rgb(20,44,66)\"],[1,\"rgb(90,179,244)\"]],\"type\":\"histogram2d\"}],\"histogram\":[{\"marker\":{\"pattern\":{\"fillmode\":\"overlay\",\"size\":10,\"solidity\":0.2}},\"type\":\"histogram\"}],\"mesh3d\":[{\"colorbar\":{\"outlinewidth\":0,\"tickcolor\":\"rgb(237,237,237)\",\"ticklen\":6,\"ticks\":\"inside\"},\"type\":\"mesh3d\"}],\"parcoords\":[{\"line\":{\"colorbar\":{\"outlinewidth\":0,\"tickcolor\":\"rgb(237,237,237)\",\"ticklen\":6,\"ticks\":\"inside\"}},\"type\":\"parcoords\"}],\"pie\":[{\"automargin\":true,\"type\":\"pie\"}],\"scatter3d\":[{\"line\":{\"colorbar\":{\"outlinewidth\":0,\"tickcolor\":\"rgb(237,237,237)\",\"ticklen\":6,\"ticks\":\"inside\"}},\"marker\":{\"colorbar\":{\"outlinewidth\":0,\"tickcolor\":\"rgb(237,237,237)\",\"ticklen\":6,\"ticks\":\"inside\"}},\"type\":\"scatter3d\"}],\"scattercarpet\":[{\"marker\":{\"colorbar\":{\"outlinewidth\":0,\"tickcolor\":\"rgb(237,237,237)\",\"ticklen\":6,\"ticks\":\"inside\"}},\"type\":\"scattercarpet\"}],\"scattergeo\":[{\"marker\":{\"colorbar\":{\"outlinewidth\":0,\"tickcolor\":\"rgb(237,237,237)\",\"ticklen\":6,\"ticks\":\"inside\"}},\"type\":\"scattergeo\"}],\"scattergl\":[{\"marker\":{\"colorbar\":{\"outlinewidth\":0,\"tickcolor\":\"rgb(237,237,237)\",\"ticklen\":6,\"ticks\":\"inside\"}},\"type\":\"scattergl\"}],\"scattermapbox\":[{\"marker\":{\"colorbar\":{\"outlinewidth\":0,\"tickcolor\":\"rgb(237,237,237)\",\"ticklen\":6,\"ticks\":\"inside\"}},\"type\":\"scattermapbox\"}],\"scatterpolargl\":[{\"marker\":{\"colorbar\":{\"outlinewidth\":0,\"tickcolor\":\"rgb(237,237,237)\",\"ticklen\":6,\"ticks\":\"inside\"}},\"type\":\"scatterpolargl\"}],\"scatterpolar\":[{\"marker\":{\"colorbar\":{\"outlinewidth\":0,\"tickcolor\":\"rgb(237,237,237)\",\"ticklen\":6,\"ticks\":\"inside\"}},\"type\":\"scatterpolar\"}],\"scatter\":[{\"marker\":{\"colorbar\":{\"outlinewidth\":0,\"tickcolor\":\"rgb(237,237,237)\",\"ticklen\":6,\"ticks\":\"inside\"}},\"type\":\"scatter\"}],\"scatterternary\":[{\"marker\":{\"colorbar\":{\"outlinewidth\":0,\"tickcolor\":\"rgb(237,237,237)\",\"ticklen\":6,\"ticks\":\"inside\"}},\"type\":\"scatterternary\"}],\"surface\":[{\"colorbar\":{\"outlinewidth\":0,\"tickcolor\":\"rgb(237,237,237)\",\"ticklen\":6,\"ticks\":\"inside\"},\"colorscale\":[[0,\"rgb(20,44,66)\"],[1,\"rgb(90,179,244)\"]],\"type\":\"surface\"}],\"table\":[{\"cells\":{\"fill\":{\"color\":\"rgb(237,237,237)\"},\"line\":{\"color\":\"white\"}},\"header\":{\"fill\":{\"color\":\"rgb(217,217,217)\"},\"line\":{\"color\":\"white\"}},\"type\":\"table\"}]},\"layout\":{\"annotationdefaults\":{\"arrowhead\":0,\"arrowwidth\":1},\"autotypenumbers\":\"strict\",\"coloraxis\":{\"colorbar\":{\"outlinewidth\":0,\"tickcolor\":\"rgb(237,237,237)\",\"ticklen\":6,\"ticks\":\"inside\"}},\"colorscale\":{\"sequential\":[[0,\"rgb(20,44,66)\"],[1,\"rgb(90,179,244)\"]],\"sequentialminus\":[[0,\"rgb(20,44,66)\"],[1,\"rgb(90,179,244)\"]]},\"colorway\":[\"#F8766D\",\"#A3A500\",\"#00BF7D\",\"#00B0F6\",\"#E76BF3\"],\"font\":{\"color\":\"rgb(51,51,51)\"},\"geo\":{\"bgcolor\":\"white\",\"lakecolor\":\"white\",\"landcolor\":\"rgb(237,237,237)\",\"showlakes\":true,\"showland\":true,\"subunitcolor\":\"white\"},\"hoverlabel\":{\"align\":\"left\"},\"hovermode\":\"closest\",\"paper_bgcolor\":\"white\",\"plot_bgcolor\":\"rgb(237,237,237)\",\"polar\":{\"angularaxis\":{\"gridcolor\":\"white\",\"linecolor\":\"white\",\"showgrid\":true,\"tickcolor\":\"rgb(51,51,51)\",\"ticks\":\"outside\"},\"bgcolor\":\"rgb(237,237,237)\",\"radialaxis\":{\"gridcolor\":\"white\",\"linecolor\":\"white\",\"showgrid\":true,\"tickcolor\":\"rgb(51,51,51)\",\"ticks\":\"outside\"}},\"scene\":{\"xaxis\":{\"backgroundcolor\":\"rgb(237,237,237)\",\"gridcolor\":\"white\",\"gridwidth\":2,\"linecolor\":\"white\",\"showbackground\":true,\"showgrid\":true,\"tickcolor\":\"rgb(51,51,51)\",\"ticks\":\"outside\",\"zerolinecolor\":\"white\"},\"yaxis\":{\"backgroundcolor\":\"rgb(237,237,237)\",\"gridcolor\":\"white\",\"gridwidth\":2,\"linecolor\":\"white\",\"showbackground\":true,\"showgrid\":true,\"tickcolor\":\"rgb(51,51,51)\",\"ticks\":\"outside\",\"zerolinecolor\":\"white\"},\"zaxis\":{\"backgroundcolor\":\"rgb(237,237,237)\",\"gridcolor\":\"white\",\"gridwidth\":2,\"linecolor\":\"white\",\"showbackground\":true,\"showgrid\":true,\"tickcolor\":\"rgb(51,51,51)\",\"ticks\":\"outside\",\"zerolinecolor\":\"white\"}},\"shapedefaults\":{\"fillcolor\":\"black\",\"line\":{\"width\":0},\"opacity\":0.3},\"ternary\":{\"aaxis\":{\"gridcolor\":\"white\",\"linecolor\":\"white\",\"showgrid\":true,\"tickcolor\":\"rgb(51,51,51)\",\"ticks\":\"outside\"},\"baxis\":{\"gridcolor\":\"white\",\"linecolor\":\"white\",\"showgrid\":true,\"tickcolor\":\"rgb(51,51,51)\",\"ticks\":\"outside\"},\"bgcolor\":\"rgb(237,237,237)\",\"caxis\":{\"gridcolor\":\"white\",\"linecolor\":\"white\",\"showgrid\":true,\"tickcolor\":\"rgb(51,51,51)\",\"ticks\":\"outside\"}},\"xaxis\":{\"automargin\":true,\"gridcolor\":\"white\",\"linecolor\":\"white\",\"showgrid\":true,\"tickcolor\":\"rgb(51,51,51)\",\"ticks\":\"outside\",\"title\":{\"standoff\":15},\"zerolinecolor\":\"white\"},\"yaxis\":{\"automargin\":true,\"gridcolor\":\"white\",\"linecolor\":\"white\",\"showgrid\":true,\"tickcolor\":\"rgb(51,51,51)\",\"ticks\":\"outside\",\"title\":{\"standoff\":15},\"zerolinecolor\":\"white\"}}},\"showlegend\":true},                        {\"responsive\": true}                    ).then(function(){\n",
              "                            \n",
              "var gd = document.getElementById('19cce21b-6aac-4587-9e78-2e3e647bdd7b');\n",
              "var x = new MutationObserver(function (mutations, observer) {{\n",
              "        var display = window.getComputedStyle(gd).display;\n",
              "        if (!display || display === 'none') {{\n",
              "            console.log([gd, 'removed!']);\n",
              "            Plotly.purge(gd);\n",
              "            observer.disconnect();\n",
              "        }}\n",
              "}});\n",
              "\n",
              "// Listen for the removal of the full notebook cells\n",
              "var notebookContainer = gd.closest('#notebook-container');\n",
              "if (notebookContainer) {{\n",
              "    x.observe(notebookContainer, {childList: true});\n",
              "}}\n",
              "\n",
              "// Listen for the clearing of the current output cell\n",
              "var outputEl = gd.closest('.output');\n",
              "if (outputEl) {{\n",
              "    x.observe(outputEl, {childList: true});\n",
              "}}\n",
              "\n",
              "                        })                };                            </script>        </div>\n",
              "</body>\n",
              "</html>"
            ]
          },
          "metadata": {}
        },
        {
          "output_type": "stream",
          "name": "stdout",
          "text": [
            "Variance of Residuals: 0.9819728505646228\n"
          ]
        }
      ]
    },
    {
      "cell_type": "code",
      "metadata": {
        "colab": {
          "base_uri": "https://localhost:8080/",
          "height": 1000
        },
        "id": "Ce9h26caWHrh",
        "outputId": "b78bae28-6173-4ab9-cdd1-a8208540e1a3"
      },
      "source": [
        "plot_predictions(model2a)"
      ],
      "execution_count": 17,
      "outputs": [
        {
          "output_type": "display_data",
          "data": {
            "text/html": [
              "<html>\n",
              "<head><meta charset=\"utf-8\" /></head>\n",
              "<body>\n",
              "    <div>            <script src=\"https://cdnjs.cloudflare.com/ajax/libs/mathjax/2.7.5/MathJax.js?config=TeX-AMS-MML_SVG\"></script><script type=\"text/javascript\">if (window.MathJax) {MathJax.Hub.Config({SVG: {font: \"STIX-Web\"}});}</script>                <script type=\"text/javascript\">window.PlotlyConfig = {MathJaxConfig: 'local'};</script>\n",
              "        <script src=\"https://cdn.plot.ly/plotly-2.6.3.min.js\"></script>                <div id=\"e4047574-0764-41df-85db-d7ce31017dc0\" class=\"plotly-graph-div\" style=\"height:525px; width:100%;\"></div>            <script type=\"text/javascript\">                                    window.PLOTLYENV=window.PLOTLYENV || {};                                    if (document.getElementById(\"e4047574-0764-41df-85db-d7ce31017dc0\")) {                    Plotly.newPlot(                        \"e4047574-0764-41df-85db-d7ce31017dc0\",                        [{\"line\":{\"color\":\"#1f77b4\"},\"marker\":{\"size\":5},\"mode\":\"lines+markers\",\"name\":\"Forecast | ARIMA\",\"showlegend\":true,\"x\":[310,311,312,313,314,315,316,317,318,319,320,321,322,323,324,325,326,327,328,329,330,331,332,333,334,335,336,337,338,339],\"y\":[192.5018,192.5018,192.5018,192.5018,192.5018,192.5018,192.5018,192.5018,192.5018,192.5018,192.5018,192.5018,192.5018,192.5018,192.5018,192.5018,192.5018,192.5018,192.5018,192.5018,192.5018,192.5018,192.5018,192.5018,192.5018,192.5018,192.5018,192.5018,192.5018,192.5018],\"type\":\"scatter\"},{\"line\":{\"width\":0},\"marker\":{\"color\":\"#68BBE3\"},\"mode\":\"lines\",\"name\":\"Lower Interval\",\"showlegend\":false,\"x\":[310,311,312,313,314,315,316,317,318,319,320,321,322,323,324,325,326,327,328,329,330,331,332,333,334,335,336,337,338,339],\"y\":[190.5623,189.759,189.1425,188.6228,188.165,187.7511,187.3704,187.0161,186.6834,186.3686,186.0693,185.7833,185.5089,185.2449,184.9902,184.7439,184.5051,184.2733,184.0478,183.8282,183.614,183.4049,183.2004,183.0003,182.8044,182.6124,182.424,182.2391,182.0574,181.8789],\"type\":\"scatter\"},{\"fill\":\"tonexty\",\"fillcolor\":\"rgba(104,187,227,0.5)\",\"line\":{\"width\":0},\"marker\":{\"color\":\"#68BBE3\"},\"mode\":\"lines\",\"name\":\"Prediction Interval | ARIMA\",\"showlegend\":true,\"x\":[310,311,312,313,314,315,316,317,318,319,320,321,322,323,324,325,326,327,328,329,330,331,332,333,334,335,336,337,338,339],\"y\":[194.4413,195.2446,195.8611,196.3807,196.8386,197.2525,197.6332,197.9875,198.3202,198.635,198.9343,199.2203,199.4947,199.7586,200.0133,200.2597,200.4985,200.7303,200.9558,201.1754,201.3896,201.5987,201.8032,202.0032,202.1992,202.3912,202.5796,202.7645,202.9462,203.1247],\"type\":\"scatter\"},{\"marker\":{\"color\":\"#3f3f3f\",\"size\":5},\"mode\":\"lines+markers\",\"name\":\"Original\",\"showlegend\":true,\"x\":[0,1,2,3,4,5,6,7,8,9,10,11,12,13,14,15,16,17,18,19,20,21,22,23,24,25,26,27,28,29,30,31,32,33,34,35,36,37,38,39,40,41,42,43,44,45,46,47,48,49,50,51,52,53,54,55,56,57,58,59,60,61,62,63,64,65,66,67,68,69,70,71,72,73,74,75,76,77,78,79,80,81,82,83,84,85,86,87,88,89,90,91,92,93,94,95,96,97,98,99,100,101,102,103,104,105,106,107,108,109,110,111,112,113,114,115,116,117,118,119,120,121,122,123,124,125,126,127,128,129,130,131,132,133,134,135,136,137,138,139,140,141,142,143,144,145,146,147,148,149,150,151,152,153,154,155,156,157,158,159,160,161,162,163,164,165,166,167,168,169,170,171,172,173,174,175,176,177,178,179,180,181,182,183,184,185,186,187,188,189,190,191,192,193,194,195,196,197,198,199,200,201,202,203,204,205,206,207,208,209,210,211,212,213,214,215,216,217,218,219,220,221,222,223,224,225,226,227,228,229,230,231,232,233,234,235,236,237,238,239,240,241,242,243,244,245,246,247,248,249,250,251,252,253,254,255,256,257,258,259,260,261,262,263,264,265,266,267,268,269,270,271,272,273,274,275,276,277,278,279,280,281,282,283,284,285,286,287,288,289,290,291,292,293,294,295,296,297,298,299,300,301,302,303,304,305,306,307,308,309,310,311,312,313,314,315,316,317,318,319,320,321,322,323,324,325,326,327,328,329,330,331,332,333,334,335,336,337,338,339],\"y\":[186.268370014241,186.31048588738602,185.399564238833,185.557593011237,184.903008367318,186.670295636691,187.38700311270802,188.29717734220299,188.68136270003004,190.36353878054902,189.7278023266,189.26615759624,190.698439834781,190.04774348147097,189.840362737869,189.44755480842701,189.127561939879,188.84844863690202,189.34263696817,189.1653064859,188.659349023786,190.002387848956,189.78780844041,189.608251910366,189.508061169153,190.220727476204,190.14716307207803,190.109528900611,189.427868421855,189.10359814960898,189.163758590043,188.574864103783,189.10636029641603,187.58796621462898,187.894524075419,186.358074251881,186.057098125045,185.52881822060002,184.876723439919,184.819826662071,182.905467236391,184.08205054841,182.417078112198,181.953547710726,180.837627605683,180.086808604489,182.173975150118,182.191370769811,180.90507023937698,179.264464704958,179.714651806231,179.69609197351602,179.37802359897202,178.44866145151798,176.961201141377,175.88600884476102,176.886037648475,176.264770953678,174.880344106294,176.749634728717,177.17473510608997,176.936088005177,177.994571053886,178.880993705261,178.26175065702998,180.46785312157,180.21282609142898,178.788331441216,178.643931839262,178.851470178494,181.159448577554,181.265250945448,181.72224975087101,181.645096815514,181.311095973148,181.276369944837,182.064009550467,184.139254559119,185.166646997883,186.37455539626998,185.143231974711,186.12712754476502,186.34705234842602,184.879802319333,185.400825061981,185.24207045726502,186.706657769235,185.940575769631,185.510364015702,184.584254518325,184.407150556888,184.80916233637402,184.077414163255,184.907787331236,183.699704544932,182.65172013212398,184.092877838968,183.07703037366403,183.48900508598098,183.10792903487203,183.517330874523,185.206204160727,186.79279259416901,186.461884793487,184.176649258194,186.674310848028,187.341377014794,187.88270435075802,187.869304827612,188.379413250565,188.21503741879502,188.635732062049,188.23548531807202,186.86527744052398,187.85311570797901,189.372860733479,189.064120164253,187.810830408645,188.45307171432302,188.40836257742902,186.67514417060397,186.677276030285,186.046975696357,185.706007116496,184.54943475386003,186.352576661778,186.021444625386,184.415931213133,184.61312465187302,184.876300298278,183.890473597869,181.00155292619,180.361071223624,180.93157885954497,180.871855583502,180.773676839497,181.334497568117,180.148038929538,181.244815973812,181.23947194553398,181.94678261293203,182.980890347669,183.204370762585,182.32566314971902,183.48862770568599,181.4884627609,180.94367202089902,180.68800131174197,180.521880274977,181.54234418376097,181.678566076864,182.085733680287,182.016078867275,181.76841452565498,182.463965332275,183.610193689491,181.207097474599,181.779837029845,182.154561436623,181.72929371506697,182.680306522644,182.29106934092601,182.00673867912602,182.864148457206,184.58377575632701,184.85383065726398,184.43164664747601,183.242533352617,182.911500373737,181.97167104722698,181.712738464109,182.10711763233002,181.255260540306,183.90442742140098,184.060439097066,185.190646364521,182.90152238468102,183.64252354187698,182.32627838142503,183.246082059034,183.644212214486,183.236683635216,184.56094226539398,183.859710596147,183.279096291906,182.278024110881,181.609845504127,182.5550304575,182.98873260704602,183.99389182472302,183.603773160669,183.980143452444,184.22430837693,182.798051034548,184.576480322023,184.710927982957,185.476526982115,186.431663659024,186.38109795758098,186.075282537814,186.96895624023998,185.921658091179,187.892995477403,187.509363371114,189.163508673389,190.67572136733997,190.758687100926,191.325908015777,190.30135953624298,190.62436603926497,191.667978497622,191.767056984519,191.312920075364,190.657138222914,190.621215800291,191.690377260968,191.206402330667,191.08539221933898,189.791252215519,190.285565051534,191.59346657164798,193.09050758105,193.90521031194803,192.035421521745,192.51745102586898,192.97358662917,192.62018634334,192.790675814288,191.92663986016103,192.60587063417702,192.278769619524,190.70968743438,190.342236678209,191.70667160727902,191.372390242548,192.105140284757,193.05172592495498,193.05612462928102,192.703802323732,192.17410681459802,192.913696040173,191.85023862468998,192.096449468226,191.80695010166198,189.54206074517398,188.133210289101,189.04922961789399,188.857950667358,189.661233883492,191.548708346801,193.02258952791001,193.69985802022302,194.079820706789,193.887022280332,195.464914075237,196.061148184555,194.887571243684,194.731928708793,192.81301888852298,192.61776004241298,190.025432372467,191.339434539665,190.703891538633,190.273912699939,190.104594367637,190.716812541626,191.395152718848,191.96310469132,191.390562087394,190.027270831116,189.638548586778,189.91646271922798,189.093381597656,189.024540663178,187.856878337048,187.848569322832,187.97742472443,187.831549095969,187.66763813923302,189.431190142018,190.193776654436,191.30520773516702,190.382000782337,190.546342620765,191.70116780786202,191.64464638333598,189.515285735101,189.8601314972,187.95517605161498,187.144005898475,188.46801021977402,189.083647069077,190.17531602461202,190.48192088612598,190.371762123643,189.44744935051602,191.040363104235,191.08537370235697,190.37024530168898,191.235468401406,192.30990935968399,194.20556413388303,193.602566830277,193.211699009554,192.795476978024,192.41981955520401,192.053188609501,191.7575111568,193.199331567,192.501793275087,192.113625769166,192.76616222133703,193.890934667873,193.11882386484902,192.61073764871003,193.13435823920798,194.152112465746,193.900947877658,192.47095443027,194.18007546237098,195.615145034682,194.904773888832,194.839706315177,193.08023757981098,193.64996055163002,195.262307349832,193.625026702727,192.845458189525,192.204281255775,191.523149862204,189.489864266586,189.990827825834,188.459029685868,188.43403204659,189.027016767615,188.82882134612998,189.720829738604,189.695114667686,189.04745421709998,189.693813632135],\"type\":\"scatter\"}],                        {\"title\":{\"text\":\"Actual vs. 'Out-of-Sample' Forecast | x\"},\"xaxis\":{\"title\":{\"text\":\"Time\"}},\"yaxis\":{\"title\":{\"text\":\"Values\"}},\"template\":{\"data\":{\"barpolar\":[{\"marker\":{\"line\":{\"color\":\"rgb(237,237,237)\",\"width\":0.5},\"pattern\":{\"fillmode\":\"overlay\",\"size\":10,\"solidity\":0.2}},\"type\":\"barpolar\"}],\"bar\":[{\"error_x\":{\"color\":\"rgb(51,51,51)\"},\"error_y\":{\"color\":\"rgb(51,51,51)\"},\"marker\":{\"line\":{\"color\":\"rgb(237,237,237)\",\"width\":0.5},\"pattern\":{\"fillmode\":\"overlay\",\"size\":10,\"solidity\":0.2}},\"type\":\"bar\"}],\"carpet\":[{\"aaxis\":{\"endlinecolor\":\"rgb(51,51,51)\",\"gridcolor\":\"white\",\"linecolor\":\"white\",\"minorgridcolor\":\"white\",\"startlinecolor\":\"rgb(51,51,51)\"},\"baxis\":{\"endlinecolor\":\"rgb(51,51,51)\",\"gridcolor\":\"white\",\"linecolor\":\"white\",\"minorgridcolor\":\"white\",\"startlinecolor\":\"rgb(51,51,51)\"},\"type\":\"carpet\"}],\"choropleth\":[{\"colorbar\":{\"outlinewidth\":0,\"tickcolor\":\"rgb(237,237,237)\",\"ticklen\":6,\"ticks\":\"inside\"},\"type\":\"choropleth\"}],\"contourcarpet\":[{\"colorbar\":{\"outlinewidth\":0,\"tickcolor\":\"rgb(237,237,237)\",\"ticklen\":6,\"ticks\":\"inside\"},\"type\":\"contourcarpet\"}],\"contour\":[{\"colorbar\":{\"outlinewidth\":0,\"tickcolor\":\"rgb(237,237,237)\",\"ticklen\":6,\"ticks\":\"inside\"},\"colorscale\":[[0,\"rgb(20,44,66)\"],[1,\"rgb(90,179,244)\"]],\"type\":\"contour\"}],\"heatmapgl\":[{\"colorbar\":{\"outlinewidth\":0,\"tickcolor\":\"rgb(237,237,237)\",\"ticklen\":6,\"ticks\":\"inside\"},\"colorscale\":[[0,\"rgb(20,44,66)\"],[1,\"rgb(90,179,244)\"]],\"type\":\"heatmapgl\"}],\"heatmap\":[{\"colorbar\":{\"outlinewidth\":0,\"tickcolor\":\"rgb(237,237,237)\",\"ticklen\":6,\"ticks\":\"inside\"},\"colorscale\":[[0,\"rgb(20,44,66)\"],[1,\"rgb(90,179,244)\"]],\"type\":\"heatmap\"}],\"histogram2dcontour\":[{\"colorbar\":{\"outlinewidth\":0,\"tickcolor\":\"rgb(237,237,237)\",\"ticklen\":6,\"ticks\":\"inside\"},\"colorscale\":[[0,\"rgb(20,44,66)\"],[1,\"rgb(90,179,244)\"]],\"type\":\"histogram2dcontour\"}],\"histogram2d\":[{\"colorbar\":{\"outlinewidth\":0,\"tickcolor\":\"rgb(237,237,237)\",\"ticklen\":6,\"ticks\":\"inside\"},\"colorscale\":[[0,\"rgb(20,44,66)\"],[1,\"rgb(90,179,244)\"]],\"type\":\"histogram2d\"}],\"histogram\":[{\"marker\":{\"pattern\":{\"fillmode\":\"overlay\",\"size\":10,\"solidity\":0.2}},\"type\":\"histogram\"}],\"mesh3d\":[{\"colorbar\":{\"outlinewidth\":0,\"tickcolor\":\"rgb(237,237,237)\",\"ticklen\":6,\"ticks\":\"inside\"},\"type\":\"mesh3d\"}],\"parcoords\":[{\"line\":{\"colorbar\":{\"outlinewidth\":0,\"tickcolor\":\"rgb(237,237,237)\",\"ticklen\":6,\"ticks\":\"inside\"}},\"type\":\"parcoords\"}],\"pie\":[{\"automargin\":true,\"type\":\"pie\"}],\"scatter3d\":[{\"line\":{\"colorbar\":{\"outlinewidth\":0,\"tickcolor\":\"rgb(237,237,237)\",\"ticklen\":6,\"ticks\":\"inside\"}},\"marker\":{\"colorbar\":{\"outlinewidth\":0,\"tickcolor\":\"rgb(237,237,237)\",\"ticklen\":6,\"ticks\":\"inside\"}},\"type\":\"scatter3d\"}],\"scattercarpet\":[{\"marker\":{\"colorbar\":{\"outlinewidth\":0,\"tickcolor\":\"rgb(237,237,237)\",\"ticklen\":6,\"ticks\":\"inside\"}},\"type\":\"scattercarpet\"}],\"scattergeo\":[{\"marker\":{\"colorbar\":{\"outlinewidth\":0,\"tickcolor\":\"rgb(237,237,237)\",\"ticklen\":6,\"ticks\":\"inside\"}},\"type\":\"scattergeo\"}],\"scattergl\":[{\"marker\":{\"colorbar\":{\"outlinewidth\":0,\"tickcolor\":\"rgb(237,237,237)\",\"ticklen\":6,\"ticks\":\"inside\"}},\"type\":\"scattergl\"}],\"scattermapbox\":[{\"marker\":{\"colorbar\":{\"outlinewidth\":0,\"tickcolor\":\"rgb(237,237,237)\",\"ticklen\":6,\"ticks\":\"inside\"}},\"type\":\"scattermapbox\"}],\"scatterpolargl\":[{\"marker\":{\"colorbar\":{\"outlinewidth\":0,\"tickcolor\":\"rgb(237,237,237)\",\"ticklen\":6,\"ticks\":\"inside\"}},\"type\":\"scatterpolargl\"}],\"scatterpolar\":[{\"marker\":{\"colorbar\":{\"outlinewidth\":0,\"tickcolor\":\"rgb(237,237,237)\",\"ticklen\":6,\"ticks\":\"inside\"}},\"type\":\"scatterpolar\"}],\"scatter\":[{\"marker\":{\"colorbar\":{\"outlinewidth\":0,\"tickcolor\":\"rgb(237,237,237)\",\"ticklen\":6,\"ticks\":\"inside\"}},\"type\":\"scatter\"}],\"scatterternary\":[{\"marker\":{\"colorbar\":{\"outlinewidth\":0,\"tickcolor\":\"rgb(237,237,237)\",\"ticklen\":6,\"ticks\":\"inside\"}},\"type\":\"scatterternary\"}],\"surface\":[{\"colorbar\":{\"outlinewidth\":0,\"tickcolor\":\"rgb(237,237,237)\",\"ticklen\":6,\"ticks\":\"inside\"},\"colorscale\":[[0,\"rgb(20,44,66)\"],[1,\"rgb(90,179,244)\"]],\"type\":\"surface\"}],\"table\":[{\"cells\":{\"fill\":{\"color\":\"rgb(237,237,237)\"},\"line\":{\"color\":\"white\"}},\"header\":{\"fill\":{\"color\":\"rgb(217,217,217)\"},\"line\":{\"color\":\"white\"}},\"type\":\"table\"}]},\"layout\":{\"annotationdefaults\":{\"arrowhead\":0,\"arrowwidth\":1},\"autotypenumbers\":\"strict\",\"coloraxis\":{\"colorbar\":{\"outlinewidth\":0,\"tickcolor\":\"rgb(237,237,237)\",\"ticklen\":6,\"ticks\":\"inside\"}},\"colorscale\":{\"sequential\":[[0,\"rgb(20,44,66)\"],[1,\"rgb(90,179,244)\"]],\"sequentialminus\":[[0,\"rgb(20,44,66)\"],[1,\"rgb(90,179,244)\"]]},\"colorway\":[\"#F8766D\",\"#A3A500\",\"#00BF7D\",\"#00B0F6\",\"#E76BF3\"],\"font\":{\"color\":\"rgb(51,51,51)\"},\"geo\":{\"bgcolor\":\"white\",\"lakecolor\":\"white\",\"landcolor\":\"rgb(237,237,237)\",\"showlakes\":true,\"showland\":true,\"subunitcolor\":\"white\"},\"hoverlabel\":{\"align\":\"left\"},\"hovermode\":\"closest\",\"paper_bgcolor\":\"white\",\"plot_bgcolor\":\"rgb(237,237,237)\",\"polar\":{\"angularaxis\":{\"gridcolor\":\"white\",\"linecolor\":\"white\",\"showgrid\":true,\"tickcolor\":\"rgb(51,51,51)\",\"ticks\":\"outside\"},\"bgcolor\":\"rgb(237,237,237)\",\"radialaxis\":{\"gridcolor\":\"white\",\"linecolor\":\"white\",\"showgrid\":true,\"tickcolor\":\"rgb(51,51,51)\",\"ticks\":\"outside\"}},\"scene\":{\"xaxis\":{\"backgroundcolor\":\"rgb(237,237,237)\",\"gridcolor\":\"white\",\"gridwidth\":2,\"linecolor\":\"white\",\"showbackground\":true,\"showgrid\":true,\"tickcolor\":\"rgb(51,51,51)\",\"ticks\":\"outside\",\"zerolinecolor\":\"white\"},\"yaxis\":{\"backgroundcolor\":\"rgb(237,237,237)\",\"gridcolor\":\"white\",\"gridwidth\":2,\"linecolor\":\"white\",\"showbackground\":true,\"showgrid\":true,\"tickcolor\":\"rgb(51,51,51)\",\"ticks\":\"outside\",\"zerolinecolor\":\"white\"},\"zaxis\":{\"backgroundcolor\":\"rgb(237,237,237)\",\"gridcolor\":\"white\",\"gridwidth\":2,\"linecolor\":\"white\",\"showbackground\":true,\"showgrid\":true,\"tickcolor\":\"rgb(51,51,51)\",\"ticks\":\"outside\",\"zerolinecolor\":\"white\"}},\"shapedefaults\":{\"fillcolor\":\"black\",\"line\":{\"width\":0},\"opacity\":0.3},\"ternary\":{\"aaxis\":{\"gridcolor\":\"white\",\"linecolor\":\"white\",\"showgrid\":true,\"tickcolor\":\"rgb(51,51,51)\",\"ticks\":\"outside\"},\"baxis\":{\"gridcolor\":\"white\",\"linecolor\":\"white\",\"showgrid\":true,\"tickcolor\":\"rgb(51,51,51)\",\"ticks\":\"outside\"},\"bgcolor\":\"rgb(237,237,237)\",\"caxis\":{\"gridcolor\":\"white\",\"linecolor\":\"white\",\"showgrid\":true,\"tickcolor\":\"rgb(51,51,51)\",\"ticks\":\"outside\"}},\"xaxis\":{\"automargin\":true,\"gridcolor\":\"white\",\"linecolor\":\"white\",\"showgrid\":true,\"tickcolor\":\"rgb(51,51,51)\",\"ticks\":\"outside\",\"title\":{\"standoff\":15},\"zerolinecolor\":\"white\"},\"yaxis\":{\"automargin\":true,\"gridcolor\":\"white\",\"linecolor\":\"white\",\"showgrid\":true,\"tickcolor\":\"rgb(51,51,51)\",\"ticks\":\"outside\",\"title\":{\"standoff\":15},\"zerolinecolor\":\"white\"}}},\"showlegend\":true},                        {\"responsive\": true}                    ).then(function(){\n",
              "                            \n",
              "var gd = document.getElementById('e4047574-0764-41df-85db-d7ce31017dc0');\n",
              "var x = new MutationObserver(function (mutations, observer) {{\n",
              "        var display = window.getComputedStyle(gd).display;\n",
              "        if (!display || display === 'none') {{\n",
              "            console.log([gd, 'removed!']);\n",
              "            Plotly.purge(gd);\n",
              "            observer.disconnect();\n",
              "        }}\n",
              "}});\n",
              "\n",
              "// Listen for the removal of the full notebook cells\n",
              "var notebookContainer = gd.closest('#notebook-container');\n",
              "if (notebookContainer) {{\n",
              "    x.observe(notebookContainer, {childList: true});\n",
              "}}\n",
              "\n",
              "// Listen for the clearing of the current output cell\n",
              "var outputEl = gd.closest('.output');\n",
              "if (outputEl) {{\n",
              "    x.observe(outputEl, {childList: true});\n",
              "}}\n",
              "\n",
              "                        })                };                            </script>        </div>\n",
              "</body>\n",
              "</html>"
            ]
          },
          "metadata": {}
        },
        {
          "output_type": "display_data",
          "data": {
            "text/html": [
              "<html>\n",
              "<head><meta charset=\"utf-8\" /></head>\n",
              "<body>\n",
              "    <div>            <script src=\"https://cdnjs.cloudflare.com/ajax/libs/mathjax/2.7.5/MathJax.js?config=TeX-AMS-MML_SVG\"></script><script type=\"text/javascript\">if (window.MathJax) {MathJax.Hub.Config({SVG: {font: \"STIX-Web\"}});}</script>                <script type=\"text/javascript\">window.PlotlyConfig = {MathJaxConfig: 'local'};</script>\n",
              "        <script src=\"https://cdn.plot.ly/plotly-2.6.3.min.js\"></script>                <div id=\"2b36b7d7-88e5-4344-b9bc-c9a5cc48dd3e\" class=\"plotly-graph-div\" style=\"height:525px; width:100%;\"></div>            <script type=\"text/javascript\">                                    window.PLOTLYENV=window.PLOTLYENV || {};                                    if (document.getElementById(\"2b36b7d7-88e5-4344-b9bc-c9a5cc48dd3e\")) {                    Plotly.newPlot(                        \"2b36b7d7-88e5-4344-b9bc-c9a5cc48dd3e\",                        [{\"line\":{\"color\":\"#1f77b4\"},\"marker\":{\"size\":5},\"mode\":\"lines+markers\",\"name\":\"Forecast | ARIMA\",\"showlegend\":true,\"x\":[0,1,2,3,4,5,6,7,8,9,10,11,12,13,14,15,16,17,18,19,20,21,22,23,24,25,26,27,28,29,30,31,32,33,34,35,36,37,38,39,40,41,42,43,44,45,46,47,48,49,50,51,52,53,54,55,56,57,58,59,60,61,62,63,64,65,66,67,68,69,70,71,72,73,74,75,76,77,78,79,80,81,82,83,84,85,86,87,88,89,90,91,92,93,94,95,96,97,98,99,100,101,102,103,104,105,106,107,108,109,110,111,112,113,114,115,116,117,118,119,120,121,122,123,124,125,126,127,128,129,130,131,132,133,134,135,136,137,138,139,140,141,142,143,144,145,146,147,148,149,150,151,152,153,154,155,156,157,158,159,160,161,162,163,164,165,166,167,168,169,170,171,172,173,174,175,176,177,178,179,180,181,182,183,184,185,186,187,188,189,190,191,192,193,194,195,196,197,198,199,200,201,202,203,204,205,206,207,208,209,210,211,212,213,214,215,216,217,218,219,220,221,222,223,224,225,226,227,228,229,230,231,232,233,234,235,236,237,238,239,240,241,242,243,244,245,246,247,248,249,250,251,252,253,254,255,256,257,258,259,260,261,262,263,264,265,266,267,268,269,270,271,272,273,274,275,276,277,278,279,280,281,282,283,284,285,286,287,288,289,290,291,292,293,294,295,296,297,298,299,300,301,302,303,304,305,306,307,308,309],\"y\":[null,186.2684,186.3105,185.3996,185.5576,184.903,186.6703,187.387,188.2972,188.6814,190.3635,189.7278,189.2662,190.6984,190.0477,189.8404,189.4476,189.1276,188.8484,189.3426,189.1653,188.6593,190.0024,189.7878,189.6083,189.5081,190.2207,190.1472,190.1095,189.4279,189.1036,189.1638,188.5749,189.1064,187.588,187.8945,186.3581,186.0571,185.5288,184.8767,184.8198,182.9055,184.0821,182.4171,181.9535,180.8376,180.0868,182.174,182.1914,180.9051,179.2645,179.7147,179.6961,179.378,178.4487,176.9612,175.886,176.886,176.2648,174.8803,176.7496,177.1747,176.9361,177.9946,178.881,178.2618,180.4679,180.2128,178.7883,178.6439,178.8515,181.1594,181.2653,181.7222,181.6451,181.3111,181.2764,182.064,184.1393,185.1666,186.3746,185.1432,186.1271,186.3471,184.8798,185.4008,185.2421,186.7067,185.9406,185.5104,184.5843,184.4072,184.8092,184.0774,184.9078,183.6997,182.6517,184.0929,183.077,183.489,183.1079,183.5173,185.2062,186.7928,186.4619,184.1766,186.6743,187.3414,187.8827,187.8693,188.3794,188.215,188.6357,188.2355,186.8653,187.8531,189.3729,189.0641,187.8108,188.4531,188.4084,186.6751,186.6773,186.047,185.706,184.5494,186.3526,186.0214,184.4159,184.6131,184.8763,183.8905,181.0016,180.3611,180.9316,180.8719,180.7737,181.3345,180.148,181.2448,181.2395,181.9468,182.9809,183.2044,182.3257,183.4886,181.4885,180.9437,180.688,180.5219,181.5423,181.6786,182.0857,182.0161,181.7684,182.464,183.6102,181.2071,181.7798,182.1546,181.7293,182.6803,182.2911,182.0067,182.8641,184.5838,184.8538,184.4316,183.2425,182.9115,181.9717,181.7127,182.1071,181.2553,183.9044,184.0604,185.1906,182.9015,183.6425,182.3263,183.2461,183.6442,183.2367,184.5609,183.8597,183.2791,182.278,181.6098,182.555,182.9887,183.9939,183.6038,183.9801,184.2243,182.7981,184.5765,184.7109,185.4765,186.4317,186.3811,186.0753,186.969,185.9217,187.893,187.5094,189.1635,190.6757,190.7587,191.3259,190.3014,190.6244,191.668,191.7671,191.3129,190.6571,190.6212,191.6904,191.2064,191.0854,189.7913,190.2856,191.5935,193.0905,193.9052,192.0354,192.5175,192.9736,192.6202,192.7907,191.9266,192.6059,192.2788,190.7097,190.3422,191.7067,191.3724,192.1051,193.0517,193.0561,192.7038,192.1741,192.9137,191.8502,192.0964,191.807,189.5421,188.1332,189.0492,188.858,189.6612,191.5487,193.0226,193.6999,194.0798,193.887,195.4649,196.0611,194.8876,194.7319,192.813,192.6178,190.0254,191.3394,190.7039,190.2739,190.1046,190.7168,191.3952,191.9631,191.3906,190.0273,189.6385,189.9165,189.0934,189.0245,187.8569,187.8486,187.9774,187.8315,187.6676,189.4312,190.1938,191.3052,190.382,190.5463,191.7012,191.6446,189.5153,189.8601,187.9552,187.144,188.468,189.0836,190.1753,190.4819,190.3718,189.4474,191.0404,191.0854,190.3702,191.2355,192.3099,194.2056,193.6026,193.2117,192.7955,192.4198,192.0532,191.7575,193.1993],\"type\":\"scatter\"},{\"marker\":{\"color\":\"#3f3f3f\",\"size\":5},\"mode\":\"lines+markers\",\"name\":\"Original\",\"showlegend\":true,\"x\":[0,1,2,3,4,5,6,7,8,9,10,11,12,13,14,15,16,17,18,19,20,21,22,23,24,25,26,27,28,29,30,31,32,33,34,35,36,37,38,39,40,41,42,43,44,45,46,47,48,49,50,51,52,53,54,55,56,57,58,59,60,61,62,63,64,65,66,67,68,69,70,71,72,73,74,75,76,77,78,79,80,81,82,83,84,85,86,87,88,89,90,91,92,93,94,95,96,97,98,99,100,101,102,103,104,105,106,107,108,109,110,111,112,113,114,115,116,117,118,119,120,121,122,123,124,125,126,127,128,129,130,131,132,133,134,135,136,137,138,139,140,141,142,143,144,145,146,147,148,149,150,151,152,153,154,155,156,157,158,159,160,161,162,163,164,165,166,167,168,169,170,171,172,173,174,175,176,177,178,179,180,181,182,183,184,185,186,187,188,189,190,191,192,193,194,195,196,197,198,199,200,201,202,203,204,205,206,207,208,209,210,211,212,213,214,215,216,217,218,219,220,221,222,223,224,225,226,227,228,229,230,231,232,233,234,235,236,237,238,239,240,241,242,243,244,245,246,247,248,249,250,251,252,253,254,255,256,257,258,259,260,261,262,263,264,265,266,267,268,269,270,271,272,273,274,275,276,277,278,279,280,281,282,283,284,285,286,287,288,289,290,291,292,293,294,295,296,297,298,299,300,301,302,303,304,305,306,307,308,309,310,311,312,313,314,315,316,317,318,319,320,321,322,323,324,325,326,327,328,329,330,331,332,333,334,335,336,337,338,339],\"y\":[186.268370014241,186.31048588738602,185.399564238833,185.557593011237,184.903008367318,186.670295636691,187.38700311270802,188.29717734220299,188.68136270003004,190.36353878054902,189.7278023266,189.26615759624,190.698439834781,190.04774348147097,189.840362737869,189.44755480842701,189.127561939879,188.84844863690202,189.34263696817,189.1653064859,188.659349023786,190.002387848956,189.78780844041,189.608251910366,189.508061169153,190.220727476204,190.14716307207803,190.109528900611,189.427868421855,189.10359814960898,189.163758590043,188.574864103783,189.10636029641603,187.58796621462898,187.894524075419,186.358074251881,186.057098125045,185.52881822060002,184.876723439919,184.819826662071,182.905467236391,184.08205054841,182.417078112198,181.953547710726,180.837627605683,180.086808604489,182.173975150118,182.191370769811,180.90507023937698,179.264464704958,179.714651806231,179.69609197351602,179.37802359897202,178.44866145151798,176.961201141377,175.88600884476102,176.886037648475,176.264770953678,174.880344106294,176.749634728717,177.17473510608997,176.936088005177,177.994571053886,178.880993705261,178.26175065702998,180.46785312157,180.21282609142898,178.788331441216,178.643931839262,178.851470178494,181.159448577554,181.265250945448,181.72224975087101,181.645096815514,181.311095973148,181.276369944837,182.064009550467,184.139254559119,185.166646997883,186.37455539626998,185.143231974711,186.12712754476502,186.34705234842602,184.879802319333,185.400825061981,185.24207045726502,186.706657769235,185.940575769631,185.510364015702,184.584254518325,184.407150556888,184.80916233637402,184.077414163255,184.907787331236,183.699704544932,182.65172013212398,184.092877838968,183.07703037366403,183.48900508598098,183.10792903487203,183.517330874523,185.206204160727,186.79279259416901,186.461884793487,184.176649258194,186.674310848028,187.341377014794,187.88270435075802,187.869304827612,188.379413250565,188.21503741879502,188.635732062049,188.23548531807202,186.86527744052398,187.85311570797901,189.372860733479,189.064120164253,187.810830408645,188.45307171432302,188.40836257742902,186.67514417060397,186.677276030285,186.046975696357,185.706007116496,184.54943475386003,186.352576661778,186.021444625386,184.415931213133,184.61312465187302,184.876300298278,183.890473597869,181.00155292619,180.361071223624,180.93157885954497,180.871855583502,180.773676839497,181.334497568117,180.148038929538,181.244815973812,181.23947194553398,181.94678261293203,182.980890347669,183.204370762585,182.32566314971902,183.48862770568599,181.4884627609,180.94367202089902,180.68800131174197,180.521880274977,181.54234418376097,181.678566076864,182.085733680287,182.016078867275,181.76841452565498,182.463965332275,183.610193689491,181.207097474599,181.779837029845,182.154561436623,181.72929371506697,182.680306522644,182.29106934092601,182.00673867912602,182.864148457206,184.58377575632701,184.85383065726398,184.43164664747601,183.242533352617,182.911500373737,181.97167104722698,181.712738464109,182.10711763233002,181.255260540306,183.90442742140098,184.060439097066,185.190646364521,182.90152238468102,183.64252354187698,182.32627838142503,183.246082059034,183.644212214486,183.236683635216,184.56094226539398,183.859710596147,183.279096291906,182.278024110881,181.609845504127,182.5550304575,182.98873260704602,183.99389182472302,183.603773160669,183.980143452444,184.22430837693,182.798051034548,184.576480322023,184.710927982957,185.476526982115,186.431663659024,186.38109795758098,186.075282537814,186.96895624023998,185.921658091179,187.892995477403,187.509363371114,189.163508673389,190.67572136733997,190.758687100926,191.325908015777,190.30135953624298,190.62436603926497,191.667978497622,191.767056984519,191.312920075364,190.657138222914,190.621215800291,191.690377260968,191.206402330667,191.08539221933898,189.791252215519,190.285565051534,191.59346657164798,193.09050758105,193.90521031194803,192.035421521745,192.51745102586898,192.97358662917,192.62018634334,192.790675814288,191.92663986016103,192.60587063417702,192.278769619524,190.70968743438,190.342236678209,191.70667160727902,191.372390242548,192.105140284757,193.05172592495498,193.05612462928102,192.703802323732,192.17410681459802,192.913696040173,191.85023862468998,192.096449468226,191.80695010166198,189.54206074517398,188.133210289101,189.04922961789399,188.857950667358,189.661233883492,191.548708346801,193.02258952791001,193.69985802022302,194.079820706789,193.887022280332,195.464914075237,196.061148184555,194.887571243684,194.731928708793,192.81301888852298,192.61776004241298,190.025432372467,191.339434539665,190.703891538633,190.273912699939,190.104594367637,190.716812541626,191.395152718848,191.96310469132,191.390562087394,190.027270831116,189.638548586778,189.91646271922798,189.093381597656,189.024540663178,187.856878337048,187.848569322832,187.97742472443,187.831549095969,187.66763813923302,189.431190142018,190.193776654436,191.30520773516702,190.382000782337,190.546342620765,191.70116780786202,191.64464638333598,189.515285735101,189.8601314972,187.95517605161498,187.144005898475,188.46801021977402,189.083647069077,190.17531602461202,190.48192088612598,190.371762123643,189.44744935051602,191.040363104235,191.08537370235697,190.37024530168898,191.235468401406,192.30990935968399,194.20556413388303,193.602566830277,193.211699009554,192.795476978024,192.41981955520401,192.053188609501,191.7575111568,193.199331567,192.501793275087,192.113625769166,192.76616222133703,193.890934667873,193.11882386484902,192.61073764871003,193.13435823920798,194.152112465746,193.900947877658,192.47095443027,194.18007546237098,195.615145034682,194.904773888832,194.839706315177,193.08023757981098,193.64996055163002,195.262307349832,193.625026702727,192.845458189525,192.204281255775,191.523149862204,189.489864266586,189.990827825834,188.459029685868,188.43403204659,189.027016767615,188.82882134612998,189.720829738604,189.695114667686,189.04745421709998,189.693813632135],\"type\":\"scatter\"}],                        {\"title\":{\"text\":\"Actual vs. 'In-Sample' Forecast | x\"},\"xaxis\":{\"title\":{\"text\":\"Time\"}},\"yaxis\":{\"title\":{\"text\":\"Values\"}},\"template\":{\"data\":{\"barpolar\":[{\"marker\":{\"line\":{\"color\":\"rgb(237,237,237)\",\"width\":0.5},\"pattern\":{\"fillmode\":\"overlay\",\"size\":10,\"solidity\":0.2}},\"type\":\"barpolar\"}],\"bar\":[{\"error_x\":{\"color\":\"rgb(51,51,51)\"},\"error_y\":{\"color\":\"rgb(51,51,51)\"},\"marker\":{\"line\":{\"color\":\"rgb(237,237,237)\",\"width\":0.5},\"pattern\":{\"fillmode\":\"overlay\",\"size\":10,\"solidity\":0.2}},\"type\":\"bar\"}],\"carpet\":[{\"aaxis\":{\"endlinecolor\":\"rgb(51,51,51)\",\"gridcolor\":\"white\",\"linecolor\":\"white\",\"minorgridcolor\":\"white\",\"startlinecolor\":\"rgb(51,51,51)\"},\"baxis\":{\"endlinecolor\":\"rgb(51,51,51)\",\"gridcolor\":\"white\",\"linecolor\":\"white\",\"minorgridcolor\":\"white\",\"startlinecolor\":\"rgb(51,51,51)\"},\"type\":\"carpet\"}],\"choropleth\":[{\"colorbar\":{\"outlinewidth\":0,\"tickcolor\":\"rgb(237,237,237)\",\"ticklen\":6,\"ticks\":\"inside\"},\"type\":\"choropleth\"}],\"contourcarpet\":[{\"colorbar\":{\"outlinewidth\":0,\"tickcolor\":\"rgb(237,237,237)\",\"ticklen\":6,\"ticks\":\"inside\"},\"type\":\"contourcarpet\"}],\"contour\":[{\"colorbar\":{\"outlinewidth\":0,\"tickcolor\":\"rgb(237,237,237)\",\"ticklen\":6,\"ticks\":\"inside\"},\"colorscale\":[[0,\"rgb(20,44,66)\"],[1,\"rgb(90,179,244)\"]],\"type\":\"contour\"}],\"heatmapgl\":[{\"colorbar\":{\"outlinewidth\":0,\"tickcolor\":\"rgb(237,237,237)\",\"ticklen\":6,\"ticks\":\"inside\"},\"colorscale\":[[0,\"rgb(20,44,66)\"],[1,\"rgb(90,179,244)\"]],\"type\":\"heatmapgl\"}],\"heatmap\":[{\"colorbar\":{\"outlinewidth\":0,\"tickcolor\":\"rgb(237,237,237)\",\"ticklen\":6,\"ticks\":\"inside\"},\"colorscale\":[[0,\"rgb(20,44,66)\"],[1,\"rgb(90,179,244)\"]],\"type\":\"heatmap\"}],\"histogram2dcontour\":[{\"colorbar\":{\"outlinewidth\":0,\"tickcolor\":\"rgb(237,237,237)\",\"ticklen\":6,\"ticks\":\"inside\"},\"colorscale\":[[0,\"rgb(20,44,66)\"],[1,\"rgb(90,179,244)\"]],\"type\":\"histogram2dcontour\"}],\"histogram2d\":[{\"colorbar\":{\"outlinewidth\":0,\"tickcolor\":\"rgb(237,237,237)\",\"ticklen\":6,\"ticks\":\"inside\"},\"colorscale\":[[0,\"rgb(20,44,66)\"],[1,\"rgb(90,179,244)\"]],\"type\":\"histogram2d\"}],\"histogram\":[{\"marker\":{\"pattern\":{\"fillmode\":\"overlay\",\"size\":10,\"solidity\":0.2}},\"type\":\"histogram\"}],\"mesh3d\":[{\"colorbar\":{\"outlinewidth\":0,\"tickcolor\":\"rgb(237,237,237)\",\"ticklen\":6,\"ticks\":\"inside\"},\"type\":\"mesh3d\"}],\"parcoords\":[{\"line\":{\"colorbar\":{\"outlinewidth\":0,\"tickcolor\":\"rgb(237,237,237)\",\"ticklen\":6,\"ticks\":\"inside\"}},\"type\":\"parcoords\"}],\"pie\":[{\"automargin\":true,\"type\":\"pie\"}],\"scatter3d\":[{\"line\":{\"colorbar\":{\"outlinewidth\":0,\"tickcolor\":\"rgb(237,237,237)\",\"ticklen\":6,\"ticks\":\"inside\"}},\"marker\":{\"colorbar\":{\"outlinewidth\":0,\"tickcolor\":\"rgb(237,237,237)\",\"ticklen\":6,\"ticks\":\"inside\"}},\"type\":\"scatter3d\"}],\"scattercarpet\":[{\"marker\":{\"colorbar\":{\"outlinewidth\":0,\"tickcolor\":\"rgb(237,237,237)\",\"ticklen\":6,\"ticks\":\"inside\"}},\"type\":\"scattercarpet\"}],\"scattergeo\":[{\"marker\":{\"colorbar\":{\"outlinewidth\":0,\"tickcolor\":\"rgb(237,237,237)\",\"ticklen\":6,\"ticks\":\"inside\"}},\"type\":\"scattergeo\"}],\"scattergl\":[{\"marker\":{\"colorbar\":{\"outlinewidth\":0,\"tickcolor\":\"rgb(237,237,237)\",\"ticklen\":6,\"ticks\":\"inside\"}},\"type\":\"scattergl\"}],\"scattermapbox\":[{\"marker\":{\"colorbar\":{\"outlinewidth\":0,\"tickcolor\":\"rgb(237,237,237)\",\"ticklen\":6,\"ticks\":\"inside\"}},\"type\":\"scattermapbox\"}],\"scatterpolargl\":[{\"marker\":{\"colorbar\":{\"outlinewidth\":0,\"tickcolor\":\"rgb(237,237,237)\",\"ticklen\":6,\"ticks\":\"inside\"}},\"type\":\"scatterpolargl\"}],\"scatterpolar\":[{\"marker\":{\"colorbar\":{\"outlinewidth\":0,\"tickcolor\":\"rgb(237,237,237)\",\"ticklen\":6,\"ticks\":\"inside\"}},\"type\":\"scatterpolar\"}],\"scatter\":[{\"marker\":{\"colorbar\":{\"outlinewidth\":0,\"tickcolor\":\"rgb(237,237,237)\",\"ticklen\":6,\"ticks\":\"inside\"}},\"type\":\"scatter\"}],\"scatterternary\":[{\"marker\":{\"colorbar\":{\"outlinewidth\":0,\"tickcolor\":\"rgb(237,237,237)\",\"ticklen\":6,\"ticks\":\"inside\"}},\"type\":\"scatterternary\"}],\"surface\":[{\"colorbar\":{\"outlinewidth\":0,\"tickcolor\":\"rgb(237,237,237)\",\"ticklen\":6,\"ticks\":\"inside\"},\"colorscale\":[[0,\"rgb(20,44,66)\"],[1,\"rgb(90,179,244)\"]],\"type\":\"surface\"}],\"table\":[{\"cells\":{\"fill\":{\"color\":\"rgb(237,237,237)\"},\"line\":{\"color\":\"white\"}},\"header\":{\"fill\":{\"color\":\"rgb(217,217,217)\"},\"line\":{\"color\":\"white\"}},\"type\":\"table\"}]},\"layout\":{\"annotationdefaults\":{\"arrowhead\":0,\"arrowwidth\":1},\"autotypenumbers\":\"strict\",\"coloraxis\":{\"colorbar\":{\"outlinewidth\":0,\"tickcolor\":\"rgb(237,237,237)\",\"ticklen\":6,\"ticks\":\"inside\"}},\"colorscale\":{\"sequential\":[[0,\"rgb(20,44,66)\"],[1,\"rgb(90,179,244)\"]],\"sequentialminus\":[[0,\"rgb(20,44,66)\"],[1,\"rgb(90,179,244)\"]]},\"colorway\":[\"#F8766D\",\"#A3A500\",\"#00BF7D\",\"#00B0F6\",\"#E76BF3\"],\"font\":{\"color\":\"rgb(51,51,51)\"},\"geo\":{\"bgcolor\":\"white\",\"lakecolor\":\"white\",\"landcolor\":\"rgb(237,237,237)\",\"showlakes\":true,\"showland\":true,\"subunitcolor\":\"white\"},\"hoverlabel\":{\"align\":\"left\"},\"hovermode\":\"closest\",\"paper_bgcolor\":\"white\",\"plot_bgcolor\":\"rgb(237,237,237)\",\"polar\":{\"angularaxis\":{\"gridcolor\":\"white\",\"linecolor\":\"white\",\"showgrid\":true,\"tickcolor\":\"rgb(51,51,51)\",\"ticks\":\"outside\"},\"bgcolor\":\"rgb(237,237,237)\",\"radialaxis\":{\"gridcolor\":\"white\",\"linecolor\":\"white\",\"showgrid\":true,\"tickcolor\":\"rgb(51,51,51)\",\"ticks\":\"outside\"}},\"scene\":{\"xaxis\":{\"backgroundcolor\":\"rgb(237,237,237)\",\"gridcolor\":\"white\",\"gridwidth\":2,\"linecolor\":\"white\",\"showbackground\":true,\"showgrid\":true,\"tickcolor\":\"rgb(51,51,51)\",\"ticks\":\"outside\",\"zerolinecolor\":\"white\"},\"yaxis\":{\"backgroundcolor\":\"rgb(237,237,237)\",\"gridcolor\":\"white\",\"gridwidth\":2,\"linecolor\":\"white\",\"showbackground\":true,\"showgrid\":true,\"tickcolor\":\"rgb(51,51,51)\",\"ticks\":\"outside\",\"zerolinecolor\":\"white\"},\"zaxis\":{\"backgroundcolor\":\"rgb(237,237,237)\",\"gridcolor\":\"white\",\"gridwidth\":2,\"linecolor\":\"white\",\"showbackground\":true,\"showgrid\":true,\"tickcolor\":\"rgb(51,51,51)\",\"ticks\":\"outside\",\"zerolinecolor\":\"white\"}},\"shapedefaults\":{\"fillcolor\":\"black\",\"line\":{\"width\":0},\"opacity\":0.3},\"ternary\":{\"aaxis\":{\"gridcolor\":\"white\",\"linecolor\":\"white\",\"showgrid\":true,\"tickcolor\":\"rgb(51,51,51)\",\"ticks\":\"outside\"},\"baxis\":{\"gridcolor\":\"white\",\"linecolor\":\"white\",\"showgrid\":true,\"tickcolor\":\"rgb(51,51,51)\",\"ticks\":\"outside\"},\"bgcolor\":\"rgb(237,237,237)\",\"caxis\":{\"gridcolor\":\"white\",\"linecolor\":\"white\",\"showgrid\":true,\"tickcolor\":\"rgb(51,51,51)\",\"ticks\":\"outside\"}},\"xaxis\":{\"automargin\":true,\"gridcolor\":\"white\",\"linecolor\":\"white\",\"showgrid\":true,\"tickcolor\":\"rgb(51,51,51)\",\"ticks\":\"outside\",\"title\":{\"standoff\":15},\"zerolinecolor\":\"white\"},\"yaxis\":{\"automargin\":true,\"gridcolor\":\"white\",\"linecolor\":\"white\",\"showgrid\":true,\"tickcolor\":\"rgb(51,51,51)\",\"ticks\":\"outside\",\"title\":{\"standoff\":15},\"zerolinecolor\":\"white\"}}},\"showlegend\":true},                        {\"responsive\": true}                    ).then(function(){\n",
              "                            \n",
              "var gd = document.getElementById('2b36b7d7-88e5-4344-b9bc-c9a5cc48dd3e');\n",
              "var x = new MutationObserver(function (mutations, observer) {{\n",
              "        var display = window.getComputedStyle(gd).display;\n",
              "        if (!display || display === 'none') {{\n",
              "            console.log([gd, 'removed!']);\n",
              "            Plotly.purge(gd);\n",
              "            observer.disconnect();\n",
              "        }}\n",
              "}});\n",
              "\n",
              "// Listen for the removal of the full notebook cells\n",
              "var notebookContainer = gd.closest('#notebook-container');\n",
              "if (notebookContainer) {{\n",
              "    x.observe(notebookContainer, {childList: true});\n",
              "}}\n",
              "\n",
              "// Listen for the clearing of the current output cell\n",
              "var outputEl = gd.closest('.output');\n",
              "if (outputEl) {{\n",
              "    x.observe(outputEl, {childList: true});\n",
              "}}\n",
              "\n",
              "                        })                };                            </script>        </div>\n",
              "</body>\n",
              "</html>"
            ]
          },
          "metadata": {}
        }
      ]
    },
    {
      "cell_type": "markdown",
      "metadata": {
        "id": "yn0mY5SRWYya"
      },
      "source": [
        "The calculations match exactly with the theoretical calculations. Hopefully this model has given us a good starting point to understand the inner workings of an ARIMA model. In the next set of FAQ's we will start covering the other parameters one by one and see the impact that they have on the model's behavior."
      ]
    },
    {
      "cell_type": "code",
      "metadata": {
        "colab": {
          "base_uri": "https://localhost:8080/",
          "height": 235
        },
        "id": "PlpUozXaWJRx",
        "outputId": "4c0ad7a8-3d46-459b-e466-6a5c63e0ef8d"
      },
      "source": [
        "exp.check_stats(model2a, test=\"white_noise\")"
      ],
      "execution_count": 18,
      "outputs": [
        {
          "output_type": "execute_result",
          "data": {
            "text/html": [
              "<div>\n",
              "<style scoped>\n",
              "    .dataframe tbody tr th:only-of-type {\n",
              "        vertical-align: middle;\n",
              "    }\n",
              "\n",
              "    .dataframe tbody tr th {\n",
              "        vertical-align: top;\n",
              "    }\n",
              "\n",
              "    .dataframe thead th {\n",
              "        text-align: right;\n",
              "    }\n",
              "</style>\n",
              "<table border=\"1\" class=\"dataframe\">\n",
              "  <thead>\n",
              "    <tr style=\"text-align: right;\">\n",
              "      <th></th>\n",
              "      <th>Test</th>\n",
              "      <th>Test Name</th>\n",
              "      <th>Property</th>\n",
              "      <th>Setting</th>\n",
              "      <th>Value</th>\n",
              "    </tr>\n",
              "  </thead>\n",
              "  <tbody>\n",
              "    <tr>\n",
              "      <th>0</th>\n",
              "      <td>White Noise</td>\n",
              "      <td>Ljung-Box</td>\n",
              "      <td>Test Statictic</td>\n",
              "      <td>{'alpha': 0.05, 'K': 24}</td>\n",
              "      <td>27.9957</td>\n",
              "    </tr>\n",
              "    <tr>\n",
              "      <th>1</th>\n",
              "      <td>White Noise</td>\n",
              "      <td>Ljung-Box</td>\n",
              "      <td>Test Statictic</td>\n",
              "      <td>{'alpha': 0.05, 'K': 48}</td>\n",
              "      <td>46.0732</td>\n",
              "    </tr>\n",
              "    <tr>\n",
              "      <th>2</th>\n",
              "      <td>White Noise</td>\n",
              "      <td>Ljung-Box</td>\n",
              "      <td>p-value</td>\n",
              "      <td>{'alpha': 0.05, 'K': 24}</td>\n",
              "      <td>0.260223</td>\n",
              "    </tr>\n",
              "    <tr>\n",
              "      <th>3</th>\n",
              "      <td>White Noise</td>\n",
              "      <td>Ljung-Box</td>\n",
              "      <td>p-value</td>\n",
              "      <td>{'alpha': 0.05, 'K': 48}</td>\n",
              "      <td>0.552117</td>\n",
              "    </tr>\n",
              "    <tr>\n",
              "      <th>4</th>\n",
              "      <td>White Noise</td>\n",
              "      <td>Ljung-Box</td>\n",
              "      <td>White Noise</td>\n",
              "      <td>{'alpha': 0.05, 'K': 24}</td>\n",
              "      <td>True</td>\n",
              "    </tr>\n",
              "    <tr>\n",
              "      <th>5</th>\n",
              "      <td>White Noise</td>\n",
              "      <td>Ljung-Box</td>\n",
              "      <td>White Noise</td>\n",
              "      <td>{'alpha': 0.05, 'K': 48}</td>\n",
              "      <td>True</td>\n",
              "    </tr>\n",
              "  </tbody>\n",
              "</table>\n",
              "</div>"
            ],
            "text/plain": [
              "          Test  Test Name        Property                   Setting     Value\n",
              "0  White Noise  Ljung-Box  Test Statictic  {'alpha': 0.05, 'K': 24}   27.9957\n",
              "1  White Noise  Ljung-Box  Test Statictic  {'alpha': 0.05, 'K': 48}   46.0732\n",
              "2  White Noise  Ljung-Box         p-value  {'alpha': 0.05, 'K': 24}  0.260223\n",
              "3  White Noise  Ljung-Box         p-value  {'alpha': 0.05, 'K': 48}  0.552117\n",
              "4  White Noise  Ljung-Box     White Noise  {'alpha': 0.05, 'K': 24}      True\n",
              "5  White Noise  Ljung-Box     White Noise  {'alpha': 0.05, 'K': 48}      True"
            ]
          },
          "metadata": {},
          "execution_count": 18
        }
      ]
    },
    {
      "cell_type": "markdown",
      "metadata": {
        "id": "bO2vM6HfYJI_"
      },
      "source": [
        "#### Random Walk with Drift"
      ]
    },
    {
      "cell_type": "code",
      "metadata": {
        "colab": {
          "base_uri": "https://localhost:8080/",
          "height": 204
        },
        "id": "j6KPI3H7XLcO",
        "outputId": "26326e5e-e076-4a77-d492-8d766d5ed510"
      },
      "source": [
        "model2b = exp.create_model(\"arima\", order=(0, 1, 0), seasonal_order=(0, 0, 0, 0), with_intercept=True)"
      ],
      "execution_count": 19,
      "outputs": [
        {
          "output_type": "display_data",
          "data": {
            "text/html": [
              "<div>\n",
              "<style scoped>\n",
              "    .dataframe tbody tr th:only-of-type {\n",
              "        vertical-align: middle;\n",
              "    }\n",
              "\n",
              "    .dataframe tbody tr th {\n",
              "        vertical-align: top;\n",
              "    }\n",
              "\n",
              "    .dataframe thead th {\n",
              "        text-align: right;\n",
              "    }\n",
              "</style>\n",
              "<table border=\"1\" class=\"dataframe\">\n",
              "  <thead>\n",
              "    <tr style=\"text-align: right;\">\n",
              "      <th></th>\n",
              "      <th>cutoff</th>\n",
              "      <th>MAE</th>\n",
              "      <th>RMSE</th>\n",
              "      <th>MAPE</th>\n",
              "      <th>SMAPE</th>\n",
              "      <th>R2</th>\n",
              "    </tr>\n",
              "  </thead>\n",
              "  <tbody>\n",
              "    <tr>\n",
              "      <th>0</th>\n",
              "      <td>219.0</td>\n",
              "      <td>1.7202</td>\n",
              "      <td>1.8788</td>\n",
              "      <td>0.0090</td>\n",
              "      <td>0.0090</td>\n",
              "      <td>-0.8017</td>\n",
              "    </tr>\n",
              "    <tr>\n",
              "      <th>1</th>\n",
              "      <td>249.0</td>\n",
              "      <td>2.3373</td>\n",
              "      <td>2.6818</td>\n",
              "      <td>0.0122</td>\n",
              "      <td>0.0122</td>\n",
              "      <td>-0.2221</td>\n",
              "    </tr>\n",
              "    <tr>\n",
              "      <th>2</th>\n",
              "      <td>279.0</td>\n",
              "      <td>1.7762</td>\n",
              "      <td>2.1185</td>\n",
              "      <td>0.0093</td>\n",
              "      <td>0.0093</td>\n",
              "      <td>-0.6450</td>\n",
              "    </tr>\n",
              "    <tr>\n",
              "      <th>Mean</th>\n",
              "      <td>NaN</td>\n",
              "      <td>1.9446</td>\n",
              "      <td>2.2264</td>\n",
              "      <td>0.0102</td>\n",
              "      <td>0.0102</td>\n",
              "      <td>-0.5563</td>\n",
              "    </tr>\n",
              "    <tr>\n",
              "      <th>SD</th>\n",
              "      <td>NaN</td>\n",
              "      <td>0.2786</td>\n",
              "      <td>0.3366</td>\n",
              "      <td>0.0015</td>\n",
              "      <td>0.0014</td>\n",
              "      <td>0.2448</td>\n",
              "    </tr>\n",
              "  </tbody>\n",
              "</table>\n",
              "</div>"
            ],
            "text/plain": [
              "      cutoff     MAE    RMSE    MAPE   SMAPE      R2\n",
              "0      219.0  1.7202  1.8788  0.0090  0.0090 -0.8017\n",
              "1      249.0  2.3373  2.6818  0.0122  0.0122 -0.2221\n",
              "2      279.0  1.7762  2.1185  0.0093  0.0093 -0.6450\n",
              "Mean     NaN  1.9446  2.2264  0.0102  0.0102 -0.5563\n",
              "SD       NaN  0.2786  0.3366  0.0015  0.0014  0.2448"
            ]
          },
          "metadata": {}
        }
      ]
    },
    {
      "cell_type": "code",
      "metadata": {
        "colab": {
          "base_uri": "https://localhost:8080/",
          "height": 950
        },
        "id": "oXTHI08sYP6-",
        "outputId": "7a14805e-dbb2-4bd1-d811-b59eff2f70fa"
      },
      "source": [
        "summarize_model(model2b)\n",
        "get_residual_properties(model2b)"
      ],
      "execution_count": 20,
      "outputs": [
        {
          "output_type": "stream",
          "name": "stdout",
          "text": [
            "                               SARIMAX Results                                \n",
            "==============================================================================\n",
            "Dep. Variable:                      y   No. Observations:                  310\n",
            "Model:               SARIMAX(0, 1, 0)   Log Likelihood                -435.141\n",
            "Date:                Wed, 17 Nov 2021   AIC                            874.281\n",
            "Time:                        20:21:14   BIC                            881.748\n",
            "Sample:                             0   HQIC                           877.266\n",
            "                                - 310                                         \n",
            "Covariance Type:                  opg                                         \n",
            "==============================================================================\n",
            "                 coef    std err          z      P>|z|      [0.025      0.975]\n",
            "------------------------------------------------------------------------------\n",
            "intercept      0.0202      0.056      0.358      0.720      -0.090       0.131\n",
            "sigma2         0.9788      0.080     12.208      0.000       0.822       1.136\n",
            "===================================================================================\n",
            "Ljung-Box (L1) (Q):                   0.99   Jarque-Bera (JB):                 0.16\n",
            "Prob(Q):                              0.32   Prob(JB):                         0.92\n",
            "Heteroskedasticity (H):               0.99   Skew:                            -0.04\n",
            "Prob(H) (two-sided):                  0.95   Kurtosis:                         2.93\n",
            "===================================================================================\n",
            "\n",
            "Warnings:\n",
            "[1] Covariance matrix calculated using the outer product of gradients (complex-step).\n"
          ]
        },
        {
          "output_type": "display_data",
          "data": {
            "text/html": [
              "<html>\n",
              "<head><meta charset=\"utf-8\" /></head>\n",
              "<body>\n",
              "    <div>            <script src=\"https://cdnjs.cloudflare.com/ajax/libs/mathjax/2.7.5/MathJax.js?config=TeX-AMS-MML_SVG\"></script><script type=\"text/javascript\">if (window.MathJax) {MathJax.Hub.Config({SVG: {font: \"STIX-Web\"}});}</script>                <script type=\"text/javascript\">window.PlotlyConfig = {MathJaxConfig: 'local'};</script>\n",
              "        <script src=\"https://cdn.plot.ly/plotly-2.6.3.min.js\"></script>                <div id=\"4b5a3b4d-b71e-467d-8d3b-5f88534659a8\" class=\"plotly-graph-div\" style=\"height:525px; width:100%;\"></div>            <script type=\"text/javascript\">                                    window.PLOTLYENV=window.PLOTLYENV || {};                                    if (document.getElementById(\"4b5a3b4d-b71e-467d-8d3b-5f88534659a8\")) {                    Plotly.newPlot(                        \"4b5a3b4d-b71e-467d-8d3b-5f88534659a8\",                        [{\"marker\":{\"color\":\"#3f3f3f\",\"size\":5},\"mode\":\"lines+markers\",\"name\":\"Residuals | ARIMA\",\"showlegend\":true,\"x\":[1,2,3,4,5,6,7,8,9,10,11,12,13,14,15,16,17,18,19,20,21,22,23,24,25,26,27,28,29,30,31,32,33,34,35,36,37,38,39,40,41,42,43,44,45,46,47,48,49,50,51,52,53,54,55,56,57,58,59,60,61,62,63,64,65,66,67,68,69,70,71,72,73,74,75,76,77,78,79,80,81,82,83,84,85,86,87,88,89,90,91,92,93,94,95,96,97,98,99,100,101,102,103,104,105,106,107,108,109,110,111,112,113,114,115,116,117,118,119,120,121,122,123,124,125,126,127,128,129,130,131,132,133,134,135,136,137,138,139,140,141,142,143,144,145,146,147,148,149,150,151,152,153,154,155,156,157,158,159,160,161,162,163,164,165,166,167,168,169,170,171,172,173,174,175,176,177,178,179,180,181,182,183,184,185,186,187,188,189,190,191,192,193,194,195,196,197,198,199,200,201,202,203,204,205,206,207,208,209,210,211,212,213,214,215,216,217,218,219,220,221,222,223,224,225,226,227,228,229,230,231,232,233,234,235,236,237,238,239,240,241,242,243,244,245,246,247,248,249,250,251,252,253,254,255,256,257,258,259,260,261,262,263,264,265,266,267,268,269,270,271,272,273,274,275,276,277,278,279,280,281,282,283,284,285,286,287,288,289,290,291,292,293,294,295,296,297,298,299,300,301,302,303,304,305,306,307,308,309],\"y\":[0.02194298233322911,-0.9310945393648353,0.13785588159220197,-0.6747575347308157,1.747114378561207,0.6965345852051996,0.8900013386831631,0.36401246701524315,1.6620031897071783,-0.6559093447608291,-0.4818176211718139,1.4121093477291993,-0.6708692441218318,-0.22755363441379473,-0.4129808202537788,-0.3401657593598202,-0.29928619378878807,0.47401544045618493,-0.19750337308181543,-0.5261303529258043,1.322865934358191,-0.23475229935780817,-0.19972942085581735,-0.12036363202480516,0.6924934162391878,-0.0937372949377675,-0.05780706227884025,-0.7018333695677939,-0.3444431630578322,0.03998754962219664,-0.6090673770717956,0.5113233018212213,-1.5385669725988578,0.28638496997822926,-1.5566227143498281,-0.321149017647798,-0.548452795256793,-0.6722676714928184,-0.07706966865981713,-1.9345323164918113,1.1564104212071982,-1.685145327023804,-0.48370329228379205,-1.136092995854824,-0.7709918920058101,2.066993654817196,-0.0027772711188163157,-1.306473421245812,-1.6607784252308022,0.43001421046119503,-0.03873272352677759,-0.3382412653558049,-0.9495350382658501,-1.507633200952796,-1.095365187427774,0.9798559129021669,-0.6414395856087935,-1.4045997381958273,1.8491177316112157,0.4049274865611494,-0.25881999172477776,1.0383101578972003,0.8662497605631927,-0.6394159390428342,2.1859295737282025,-0.2751999209528151,-1.444667541024785,-0.16457249276581365,0.18736544842019498,2.287805508248198,0.08562947708219326,0.43682591461120523,-0.09732582616882723,-0.3541737331777881,-0.05489891912282019,0.7674667148181982,2.055072117840183,1.0072195479521895,1.1877355075751836,-1.25149631237079,0.9637226792422098,0.19975191284919447,-1.487422919904816,0.5008498518361932,-0.17892749552780174,1.4444144211581715,-0.7862548904157904,-0.45038464474080797,-0.9462823881888198,-0.1972768522487911,0.3818388886741957,-0.7519210639308085,0.810200277169173,-1.2282556771158113,-1.068157303619813,1.4209848160322167,-1.0360203561157846,0.3918018215051404,-0.40124894192075544,0.38922894883916115,1.668700395392193,1.5664155426302102,-0.35108069149382004,-2.3054084261048047,2.4774886990221887,0.6468932759541985,0.5211544451522059,-0.033572413957813296,0.4899355321411747,-0.18454872258178057,0.4005217524421596,-0.42041963478877165,-1.3903807683598473,0.9676653766432253,1.4995721346881794,-0.3289134600377963,-1.27346264641983,0.6220684148662201,-0.06488202770580642,-1.7533912976368526,-0.018041031130792362,-0.650473224739784,-0.36114147067280555,-1.1767452534477911,1.7829690171061543,-0.3513049272037847,-1.6256863030648105,0.17702054792820832,0.24300275559318152,-1.0059995912208137,-2.909093562490824,-0.6606545933777852,0.5503347451091543,-0.0798961668547804,-0.11835163481680411,0.5406478378081943,-1.206631529390819,1.076604153462199,-0.02551691908982434,0.6871377765862405,1.0139348439251705,0.20330752410418995,-0.8988805036777876,1.1427916651551584,-2.020337835597786,-0.5649636308127981,-0.27584359996885155,-0.1862939275767701,1.0002910179721596,0.11604900229121995,0.3869947126111981,-0.08982770382380068,-0.26783723243184454,0.6753779158082125,1.1260554664042104,-2.4232691057038096,0.5525666644341811,0.35455151596619316,-0.4454406123678325,0.9308399167652226,-0.4094100725297949,-0.3045035526118056,0.8372368872681761,1.699454408309208,0.24988201012516242,-0.4423569005997763,-1.209286185670834,-0.3512058696917961,-0.9600022173218292,-0.2791054739297749,0.37420627740920054,-0.8720299828358122,2.6289939902831634,0.1358387848532061,1.110034376643199,-2.3092968706517922,0.7208282663841601,-1.3364180512637631,0.8996307867971609,0.37795726464020163,-0.42770147008181425,1.3040857393661724,-0.7214045600587724,-0.600787195052817,-1.0212450718368018,-0.6883514975658045,0.9250120625611942,0.41352925873420077,0.9849863268651973,-0.4102915548658359,0.35619740096319674,0.22399203367419318,-1.4464302331938086,1.7582563966631994,0.11427477012219356,0.7454261083461802,0.9349637860971995,-0.07073859225482693,-0.3259883105787935,0.8735008116141785,-1.0674710398727711,1.951164495412172,-0.4038049971007922,1.6339724114631906,1.4920398031391642,0.06279284277422903,0.5470480240391851,-1.044721370345826,0.3028336122101791,1.0234395675452106,0.07890559608520675,-0.474309799966818,-0.6759547432617978,-0.05609531343480967,1.0489885698652017,-0.5041478211128094,-0.14118300213982593,-1.3143128946317972,0.47413994520320557,1.2877286293021655,1.476868118590204,0.7945298400862271,-1.8899616810148245,0.46185661331216465,0.43596271248921425,-0.37357317664179845,0.15031658013617744,-0.8842088449387688,0.6590578832041842,-0.3472739054648173,-1.5892550759558333,-0.38762364698280294,1.344262038258222,-0.3544542555428336,0.7125771513971983,0.9264127493861736,-0.015774186485771224,-0.3724951963608305,-0.5498683999457796,0.7194163347631672,-1.0836303062948218,0.22603795272422644,-0.30967225737583703,-2.2850622472998054,-1.4290233468848044,0.8958464379811915,-0.21145184134778106,0.783110325322184,1.8673015724971833,1.4537082902972145,0.6570956015011973,0.3597897957541818,-0.21297131726882412,1.557718904093207,0.5760612185061973,-1.1937498316828226,-0.17581542570280817,-1.9390827110818236,-0.21543173692180062,-2.6125005607577805,1.293829276386191,-0.655715891843812,-0.4501517295058193,-0.18949122311380506,0.5920452831772138,0.6581672864101904,0.5477790816601953,-0.5927154947378312,-1.3834641470897964,-0.40889513514980536,0.2577412416381719,-0.8432540123837953,-0.08901382528981117,-1.1878352169418065,-0.028481905027803123,0.10868251078619551,-0.16604851927280606,-0.1840838475477824,1.7433791119731836,0.7424136216061754,1.0912581899192162,-0.9433798436418215,0.14416894761617982,1.1346522962852248,-0.07669431533784632,-2.149533539046786,0.32467287128719136,-1.9251283363968241,-0.8313430439517902,1.3038314304872074,0.5954639584911661,1.0714960647232203,0.28643197070215365,-0.1303316532947747,-0.9444856639387922,1.5727408629071817,0.02483770731015511,-0.7353012914798001,0.8450502089052065,1.0542680674661824,1.8754818833872378,-0.6231701944178383,-0.4110407115348096,-0.43639492234180466,-0.3958303136317909,-0.3868038365148152,-0.31585034351280683,1.4216475193881877,-0.7177111827247984],\"type\":\"scatter\"}],                        {\"title\":{\"text\":\"Residuals\"},\"xaxis\":{\"title\":{\"text\":\"Time\"}},\"yaxis\":{\"title\":{\"text\":\"Values\"}},\"template\":{\"data\":{\"barpolar\":[{\"marker\":{\"line\":{\"color\":\"rgb(237,237,237)\",\"width\":0.5},\"pattern\":{\"fillmode\":\"overlay\",\"size\":10,\"solidity\":0.2}},\"type\":\"barpolar\"}],\"bar\":[{\"error_x\":{\"color\":\"rgb(51,51,51)\"},\"error_y\":{\"color\":\"rgb(51,51,51)\"},\"marker\":{\"line\":{\"color\":\"rgb(237,237,237)\",\"width\":0.5},\"pattern\":{\"fillmode\":\"overlay\",\"size\":10,\"solidity\":0.2}},\"type\":\"bar\"}],\"carpet\":[{\"aaxis\":{\"endlinecolor\":\"rgb(51,51,51)\",\"gridcolor\":\"white\",\"linecolor\":\"white\",\"minorgridcolor\":\"white\",\"startlinecolor\":\"rgb(51,51,51)\"},\"baxis\":{\"endlinecolor\":\"rgb(51,51,51)\",\"gridcolor\":\"white\",\"linecolor\":\"white\",\"minorgridcolor\":\"white\",\"startlinecolor\":\"rgb(51,51,51)\"},\"type\":\"carpet\"}],\"choropleth\":[{\"colorbar\":{\"outlinewidth\":0,\"tickcolor\":\"rgb(237,237,237)\",\"ticklen\":6,\"ticks\":\"inside\"},\"type\":\"choropleth\"}],\"contourcarpet\":[{\"colorbar\":{\"outlinewidth\":0,\"tickcolor\":\"rgb(237,237,237)\",\"ticklen\":6,\"ticks\":\"inside\"},\"type\":\"contourcarpet\"}],\"contour\":[{\"colorbar\":{\"outlinewidth\":0,\"tickcolor\":\"rgb(237,237,237)\",\"ticklen\":6,\"ticks\":\"inside\"},\"colorscale\":[[0,\"rgb(20,44,66)\"],[1,\"rgb(90,179,244)\"]],\"type\":\"contour\"}],\"heatmapgl\":[{\"colorbar\":{\"outlinewidth\":0,\"tickcolor\":\"rgb(237,237,237)\",\"ticklen\":6,\"ticks\":\"inside\"},\"colorscale\":[[0,\"rgb(20,44,66)\"],[1,\"rgb(90,179,244)\"]],\"type\":\"heatmapgl\"}],\"heatmap\":[{\"colorbar\":{\"outlinewidth\":0,\"tickcolor\":\"rgb(237,237,237)\",\"ticklen\":6,\"ticks\":\"inside\"},\"colorscale\":[[0,\"rgb(20,44,66)\"],[1,\"rgb(90,179,244)\"]],\"type\":\"heatmap\"}],\"histogram2dcontour\":[{\"colorbar\":{\"outlinewidth\":0,\"tickcolor\":\"rgb(237,237,237)\",\"ticklen\":6,\"ticks\":\"inside\"},\"colorscale\":[[0,\"rgb(20,44,66)\"],[1,\"rgb(90,179,244)\"]],\"type\":\"histogram2dcontour\"}],\"histogram2d\":[{\"colorbar\":{\"outlinewidth\":0,\"tickcolor\":\"rgb(237,237,237)\",\"ticklen\":6,\"ticks\":\"inside\"},\"colorscale\":[[0,\"rgb(20,44,66)\"],[1,\"rgb(90,179,244)\"]],\"type\":\"histogram2d\"}],\"histogram\":[{\"marker\":{\"pattern\":{\"fillmode\":\"overlay\",\"size\":10,\"solidity\":0.2}},\"type\":\"histogram\"}],\"mesh3d\":[{\"colorbar\":{\"outlinewidth\":0,\"tickcolor\":\"rgb(237,237,237)\",\"ticklen\":6,\"ticks\":\"inside\"},\"type\":\"mesh3d\"}],\"parcoords\":[{\"line\":{\"colorbar\":{\"outlinewidth\":0,\"tickcolor\":\"rgb(237,237,237)\",\"ticklen\":6,\"ticks\":\"inside\"}},\"type\":\"parcoords\"}],\"pie\":[{\"automargin\":true,\"type\":\"pie\"}],\"scatter3d\":[{\"line\":{\"colorbar\":{\"outlinewidth\":0,\"tickcolor\":\"rgb(237,237,237)\",\"ticklen\":6,\"ticks\":\"inside\"}},\"marker\":{\"colorbar\":{\"outlinewidth\":0,\"tickcolor\":\"rgb(237,237,237)\",\"ticklen\":6,\"ticks\":\"inside\"}},\"type\":\"scatter3d\"}],\"scattercarpet\":[{\"marker\":{\"colorbar\":{\"outlinewidth\":0,\"tickcolor\":\"rgb(237,237,237)\",\"ticklen\":6,\"ticks\":\"inside\"}},\"type\":\"scattercarpet\"}],\"scattergeo\":[{\"marker\":{\"colorbar\":{\"outlinewidth\":0,\"tickcolor\":\"rgb(237,237,237)\",\"ticklen\":6,\"ticks\":\"inside\"}},\"type\":\"scattergeo\"}],\"scattergl\":[{\"marker\":{\"colorbar\":{\"outlinewidth\":0,\"tickcolor\":\"rgb(237,237,237)\",\"ticklen\":6,\"ticks\":\"inside\"}},\"type\":\"scattergl\"}],\"scattermapbox\":[{\"marker\":{\"colorbar\":{\"outlinewidth\":0,\"tickcolor\":\"rgb(237,237,237)\",\"ticklen\":6,\"ticks\":\"inside\"}},\"type\":\"scattermapbox\"}],\"scatterpolargl\":[{\"marker\":{\"colorbar\":{\"outlinewidth\":0,\"tickcolor\":\"rgb(237,237,237)\",\"ticklen\":6,\"ticks\":\"inside\"}},\"type\":\"scatterpolargl\"}],\"scatterpolar\":[{\"marker\":{\"colorbar\":{\"outlinewidth\":0,\"tickcolor\":\"rgb(237,237,237)\",\"ticklen\":6,\"ticks\":\"inside\"}},\"type\":\"scatterpolar\"}],\"scatter\":[{\"marker\":{\"colorbar\":{\"outlinewidth\":0,\"tickcolor\":\"rgb(237,237,237)\",\"ticklen\":6,\"ticks\":\"inside\"}},\"type\":\"scatter\"}],\"scatterternary\":[{\"marker\":{\"colorbar\":{\"outlinewidth\":0,\"tickcolor\":\"rgb(237,237,237)\",\"ticklen\":6,\"ticks\":\"inside\"}},\"type\":\"scatterternary\"}],\"surface\":[{\"colorbar\":{\"outlinewidth\":0,\"tickcolor\":\"rgb(237,237,237)\",\"ticklen\":6,\"ticks\":\"inside\"},\"colorscale\":[[0,\"rgb(20,44,66)\"],[1,\"rgb(90,179,244)\"]],\"type\":\"surface\"}],\"table\":[{\"cells\":{\"fill\":{\"color\":\"rgb(237,237,237)\"},\"line\":{\"color\":\"white\"}},\"header\":{\"fill\":{\"color\":\"rgb(217,217,217)\"},\"line\":{\"color\":\"white\"}},\"type\":\"table\"}]},\"layout\":{\"annotationdefaults\":{\"arrowhead\":0,\"arrowwidth\":1},\"autotypenumbers\":\"strict\",\"coloraxis\":{\"colorbar\":{\"outlinewidth\":0,\"tickcolor\":\"rgb(237,237,237)\",\"ticklen\":6,\"ticks\":\"inside\"}},\"colorscale\":{\"sequential\":[[0,\"rgb(20,44,66)\"],[1,\"rgb(90,179,244)\"]],\"sequentialminus\":[[0,\"rgb(20,44,66)\"],[1,\"rgb(90,179,244)\"]]},\"colorway\":[\"#F8766D\",\"#A3A500\",\"#00BF7D\",\"#00B0F6\",\"#E76BF3\"],\"font\":{\"color\":\"rgb(51,51,51)\"},\"geo\":{\"bgcolor\":\"white\",\"lakecolor\":\"white\",\"landcolor\":\"rgb(237,237,237)\",\"showlakes\":true,\"showland\":true,\"subunitcolor\":\"white\"},\"hoverlabel\":{\"align\":\"left\"},\"hovermode\":\"closest\",\"paper_bgcolor\":\"white\",\"plot_bgcolor\":\"rgb(237,237,237)\",\"polar\":{\"angularaxis\":{\"gridcolor\":\"white\",\"linecolor\":\"white\",\"showgrid\":true,\"tickcolor\":\"rgb(51,51,51)\",\"ticks\":\"outside\"},\"bgcolor\":\"rgb(237,237,237)\",\"radialaxis\":{\"gridcolor\":\"white\",\"linecolor\":\"white\",\"showgrid\":true,\"tickcolor\":\"rgb(51,51,51)\",\"ticks\":\"outside\"}},\"scene\":{\"xaxis\":{\"backgroundcolor\":\"rgb(237,237,237)\",\"gridcolor\":\"white\",\"gridwidth\":2,\"linecolor\":\"white\",\"showbackground\":true,\"showgrid\":true,\"tickcolor\":\"rgb(51,51,51)\",\"ticks\":\"outside\",\"zerolinecolor\":\"white\"},\"yaxis\":{\"backgroundcolor\":\"rgb(237,237,237)\",\"gridcolor\":\"white\",\"gridwidth\":2,\"linecolor\":\"white\",\"showbackground\":true,\"showgrid\":true,\"tickcolor\":\"rgb(51,51,51)\",\"ticks\":\"outside\",\"zerolinecolor\":\"white\"},\"zaxis\":{\"backgroundcolor\":\"rgb(237,237,237)\",\"gridcolor\":\"white\",\"gridwidth\":2,\"linecolor\":\"white\",\"showbackground\":true,\"showgrid\":true,\"tickcolor\":\"rgb(51,51,51)\",\"ticks\":\"outside\",\"zerolinecolor\":\"white\"}},\"shapedefaults\":{\"fillcolor\":\"black\",\"line\":{\"width\":0},\"opacity\":0.3},\"ternary\":{\"aaxis\":{\"gridcolor\":\"white\",\"linecolor\":\"white\",\"showgrid\":true,\"tickcolor\":\"rgb(51,51,51)\",\"ticks\":\"outside\"},\"baxis\":{\"gridcolor\":\"white\",\"linecolor\":\"white\",\"showgrid\":true,\"tickcolor\":\"rgb(51,51,51)\",\"ticks\":\"outside\"},\"bgcolor\":\"rgb(237,237,237)\",\"caxis\":{\"gridcolor\":\"white\",\"linecolor\":\"white\",\"showgrid\":true,\"tickcolor\":\"rgb(51,51,51)\",\"ticks\":\"outside\"}},\"xaxis\":{\"automargin\":true,\"gridcolor\":\"white\",\"linecolor\":\"white\",\"showgrid\":true,\"tickcolor\":\"rgb(51,51,51)\",\"ticks\":\"outside\",\"title\":{\"standoff\":15},\"zerolinecolor\":\"white\"},\"yaxis\":{\"automargin\":true,\"gridcolor\":\"white\",\"linecolor\":\"white\",\"showgrid\":true,\"tickcolor\":\"rgb(51,51,51)\",\"ticks\":\"outside\",\"title\":{\"standoff\":15},\"zerolinecolor\":\"white\"}}},\"showlegend\":true},                        {\"responsive\": true}                    ).then(function(){\n",
              "                            \n",
              "var gd = document.getElementById('4b5a3b4d-b71e-467d-8d3b-5f88534659a8');\n",
              "var x = new MutationObserver(function (mutations, observer) {{\n",
              "        var display = window.getComputedStyle(gd).display;\n",
              "        if (!display || display === 'none') {{\n",
              "            console.log([gd, 'removed!']);\n",
              "            Plotly.purge(gd);\n",
              "            observer.disconnect();\n",
              "        }}\n",
              "}});\n",
              "\n",
              "// Listen for the removal of the full notebook cells\n",
              "var notebookContainer = gd.closest('#notebook-container');\n",
              "if (notebookContainer) {{\n",
              "    x.observe(notebookContainer, {childList: true});\n",
              "}}\n",
              "\n",
              "// Listen for the clearing of the current output cell\n",
              "var outputEl = gd.closest('.output');\n",
              "if (outputEl) {{\n",
              "    x.observe(outputEl, {childList: true});\n",
              "}}\n",
              "\n",
              "                        })                };                            </script>        </div>\n",
              "</body>\n",
              "</html>"
            ]
          },
          "metadata": {}
        },
        {
          "output_type": "stream",
          "name": "stdout",
          "text": [
            "Variance of Residuals: 0.9787949448993144\n"
          ]
        }
      ]
    },
    {
      "cell_type": "code",
      "metadata": {
        "colab": {
          "base_uri": "https://localhost:8080/",
          "height": 1000
        },
        "id": "SSI0Vq_DYUNt",
        "outputId": "123080b2-9020-436a-fd9c-042643bf5ae4"
      },
      "source": [
        "plot_predictions(model2b)"
      ],
      "execution_count": 21,
      "outputs": [
        {
          "output_type": "display_data",
          "data": {
            "text/html": [
              "<html>\n",
              "<head><meta charset=\"utf-8\" /></head>\n",
              "<body>\n",
              "    <div>            <script src=\"https://cdnjs.cloudflare.com/ajax/libs/mathjax/2.7.5/MathJax.js?config=TeX-AMS-MML_SVG\"></script><script type=\"text/javascript\">if (window.MathJax) {MathJax.Hub.Config({SVG: {font: \"STIX-Web\"}});}</script>                <script type=\"text/javascript\">window.PlotlyConfig = {MathJaxConfig: 'local'};</script>\n",
              "        <script src=\"https://cdn.plot.ly/plotly-2.6.3.min.js\"></script>                <div id=\"8487f743-d6b1-4f13-9ba0-65f7c05d2fda\" class=\"plotly-graph-div\" style=\"height:525px; width:100%;\"></div>            <script type=\"text/javascript\">                                    window.PLOTLYENV=window.PLOTLYENV || {};                                    if (document.getElementById(\"8487f743-d6b1-4f13-9ba0-65f7c05d2fda\")) {                    Plotly.newPlot(                        \"8487f743-d6b1-4f13-9ba0-65f7c05d2fda\",                        [{\"line\":{\"color\":\"#1f77b4\"},\"marker\":{\"size\":5},\"mode\":\"lines+markers\",\"name\":\"Forecast | ARIMA\",\"showlegend\":true,\"x\":[310,311,312,313,314,315,316,317,318,319,320,321,322,323,324,325,326,327,328,329,330,331,332,333,334,335,336,337,338,339],\"y\":[192.522,192.5421,192.5623,192.5825,192.6027,192.6228,192.643,192.6632,192.6833,192.7035,192.7237,192.7439,192.764,192.7842,192.8044,192.8246,192.8447,192.8649,192.8851,192.9053,192.9254,192.9456,192.9658,192.9859,193.0061,193.0263,193.0465,193.0666,193.0868,193.107],\"type\":\"scatter\"},{\"line\":{\"width\":0},\"marker\":{\"color\":\"#68BBE3\"},\"mode\":\"lines\",\"name\":\"Lower Interval\",\"showlegend\":false,\"x\":[310,311,312,313,314,315,316,317,318,319,320,321,322,323,324,325,326,327,328,329,330,331,332,333,334,335,336,337,338,339],\"y\":[190.5829,189.7999,189.2037,188.7043,188.2668,187.8731,187.5127,187.1787,186.8661,186.5716,186.2925,186.0267,185.7726,185.5289,185.2944,185.0683,184.8497,184.6381,184.4329,184.2335,184.0395,183.8505,183.6663,183.4865,183.3108,183.1389,182.9707,182.806,182.6446,182.4862],\"type\":\"scatter\"},{\"fill\":\"tonexty\",\"fillcolor\":\"rgba(104,187,227,0.5)\",\"line\":{\"width\":0},\"marker\":{\"color\":\"#68BBE3\"},\"mode\":\"lines\",\"name\":\"Prediction Interval | ARIMA\",\"showlegend\":true,\"x\":[310,311,312,313,314,315,316,317,318,319,320,321,322,323,324,325,326,327,328,329,330,331,332,333,334,335,336,337,338,339],\"y\":[194.461,195.2844,195.9209,196.4606,196.9386,197.3726,197.7733,198.1477,198.5006,198.8354,199.1549,199.461,199.7555,200.0396,200.3144,200.5808,200.8397,201.0917,201.3373,201.577,201.8114,202.0407,202.2652,202.4854,202.7015,202.9137,203.1222,203.3272,203.529,203.7277],\"type\":\"scatter\"},{\"marker\":{\"color\":\"#3f3f3f\",\"size\":5},\"mode\":\"lines+markers\",\"name\":\"Original\",\"showlegend\":true,\"x\":[0,1,2,3,4,5,6,7,8,9,10,11,12,13,14,15,16,17,18,19,20,21,22,23,24,25,26,27,28,29,30,31,32,33,34,35,36,37,38,39,40,41,42,43,44,45,46,47,48,49,50,51,52,53,54,55,56,57,58,59,60,61,62,63,64,65,66,67,68,69,70,71,72,73,74,75,76,77,78,79,80,81,82,83,84,85,86,87,88,89,90,91,92,93,94,95,96,97,98,99,100,101,102,103,104,105,106,107,108,109,110,111,112,113,114,115,116,117,118,119,120,121,122,123,124,125,126,127,128,129,130,131,132,133,134,135,136,137,138,139,140,141,142,143,144,145,146,147,148,149,150,151,152,153,154,155,156,157,158,159,160,161,162,163,164,165,166,167,168,169,170,171,172,173,174,175,176,177,178,179,180,181,182,183,184,185,186,187,188,189,190,191,192,193,194,195,196,197,198,199,200,201,202,203,204,205,206,207,208,209,210,211,212,213,214,215,216,217,218,219,220,221,222,223,224,225,226,227,228,229,230,231,232,233,234,235,236,237,238,239,240,241,242,243,244,245,246,247,248,249,250,251,252,253,254,255,256,257,258,259,260,261,262,263,264,265,266,267,268,269,270,271,272,273,274,275,276,277,278,279,280,281,282,283,284,285,286,287,288,289,290,291,292,293,294,295,296,297,298,299,300,301,302,303,304,305,306,307,308,309,310,311,312,313,314,315,316,317,318,319,320,321,322,323,324,325,326,327,328,329,330,331,332,333,334,335,336,337,338,339],\"y\":[186.268370014241,186.31048588738602,185.399564238833,185.557593011237,184.903008367318,186.670295636691,187.38700311270802,188.29717734220299,188.68136270003004,190.36353878054902,189.7278023266,189.26615759624,190.698439834781,190.04774348147097,189.840362737869,189.44755480842701,189.127561939879,188.84844863690202,189.34263696817,189.1653064859,188.659349023786,190.002387848956,189.78780844041,189.608251910366,189.508061169153,190.220727476204,190.14716307207803,190.109528900611,189.427868421855,189.10359814960898,189.163758590043,188.574864103783,189.10636029641603,187.58796621462898,187.894524075419,186.358074251881,186.057098125045,185.52881822060002,184.876723439919,184.819826662071,182.905467236391,184.08205054841,182.417078112198,181.953547710726,180.837627605683,180.086808604489,182.173975150118,182.191370769811,180.90507023937698,179.264464704958,179.714651806231,179.69609197351602,179.37802359897202,178.44866145151798,176.961201141377,175.88600884476102,176.886037648475,176.264770953678,174.880344106294,176.749634728717,177.17473510608997,176.936088005177,177.994571053886,178.880993705261,178.26175065702998,180.46785312157,180.21282609142898,178.788331441216,178.643931839262,178.851470178494,181.159448577554,181.265250945448,181.72224975087101,181.645096815514,181.311095973148,181.276369944837,182.064009550467,184.139254559119,185.166646997883,186.37455539626998,185.143231974711,186.12712754476502,186.34705234842602,184.879802319333,185.400825061981,185.24207045726502,186.706657769235,185.940575769631,185.510364015702,184.584254518325,184.407150556888,184.80916233637402,184.077414163255,184.907787331236,183.699704544932,182.65172013212398,184.092877838968,183.07703037366403,183.48900508598098,183.10792903487203,183.517330874523,185.206204160727,186.79279259416901,186.461884793487,184.176649258194,186.674310848028,187.341377014794,187.88270435075802,187.869304827612,188.379413250565,188.21503741879502,188.635732062049,188.23548531807202,186.86527744052398,187.85311570797901,189.372860733479,189.064120164253,187.810830408645,188.45307171432302,188.40836257742902,186.67514417060397,186.677276030285,186.046975696357,185.706007116496,184.54943475386003,186.352576661778,186.021444625386,184.415931213133,184.61312465187302,184.876300298278,183.890473597869,181.00155292619,180.361071223624,180.93157885954497,180.871855583502,180.773676839497,181.334497568117,180.148038929538,181.244815973812,181.23947194553398,181.94678261293203,182.980890347669,183.204370762585,182.32566314971902,183.48862770568599,181.4884627609,180.94367202089902,180.68800131174197,180.521880274977,181.54234418376097,181.678566076864,182.085733680287,182.016078867275,181.76841452565498,182.463965332275,183.610193689491,181.207097474599,181.779837029845,182.154561436623,181.72929371506697,182.680306522644,182.29106934092601,182.00673867912602,182.864148457206,184.58377575632701,184.85383065726398,184.43164664747601,183.242533352617,182.911500373737,181.97167104722698,181.712738464109,182.10711763233002,181.255260540306,183.90442742140098,184.060439097066,185.190646364521,182.90152238468102,183.64252354187698,182.32627838142503,183.246082059034,183.644212214486,183.236683635216,184.56094226539398,183.859710596147,183.279096291906,182.278024110881,181.609845504127,182.5550304575,182.98873260704602,183.99389182472302,183.603773160669,183.980143452444,184.22430837693,182.798051034548,184.576480322023,184.710927982957,185.476526982115,186.431663659024,186.38109795758098,186.075282537814,186.96895624023998,185.921658091179,187.892995477403,187.509363371114,189.163508673389,190.67572136733997,190.758687100926,191.325908015777,190.30135953624298,190.62436603926497,191.667978497622,191.767056984519,191.312920075364,190.657138222914,190.621215800291,191.690377260968,191.206402330667,191.08539221933898,189.791252215519,190.285565051534,191.59346657164798,193.09050758105,193.90521031194803,192.035421521745,192.51745102586898,192.97358662917,192.62018634334,192.790675814288,191.92663986016103,192.60587063417702,192.278769619524,190.70968743438,190.342236678209,191.70667160727902,191.372390242548,192.105140284757,193.05172592495498,193.05612462928102,192.703802323732,192.17410681459802,192.913696040173,191.85023862468998,192.096449468226,191.80695010166198,189.54206074517398,188.133210289101,189.04922961789399,188.857950667358,189.661233883492,191.548708346801,193.02258952791001,193.69985802022302,194.079820706789,193.887022280332,195.464914075237,196.061148184555,194.887571243684,194.731928708793,192.81301888852298,192.61776004241298,190.025432372467,191.339434539665,190.703891538633,190.273912699939,190.104594367637,190.716812541626,191.395152718848,191.96310469132,191.390562087394,190.027270831116,189.638548586778,189.91646271922798,189.093381597656,189.024540663178,187.856878337048,187.848569322832,187.97742472443,187.831549095969,187.66763813923302,189.431190142018,190.193776654436,191.30520773516702,190.382000782337,190.546342620765,191.70116780786202,191.64464638333598,189.515285735101,189.8601314972,187.95517605161498,187.144005898475,188.46801021977402,189.083647069077,190.17531602461202,190.48192088612598,190.371762123643,189.44744935051602,191.040363104235,191.08537370235697,190.37024530168898,191.235468401406,192.30990935968399,194.20556413388303,193.602566830277,193.211699009554,192.795476978024,192.41981955520401,192.053188609501,191.7575111568,193.199331567,192.501793275087,192.113625769166,192.76616222133703,193.890934667873,193.11882386484902,192.61073764871003,193.13435823920798,194.152112465746,193.900947877658,192.47095443027,194.18007546237098,195.615145034682,194.904773888832,194.839706315177,193.08023757981098,193.64996055163002,195.262307349832,193.625026702727,192.845458189525,192.204281255775,191.523149862204,189.489864266586,189.990827825834,188.459029685868,188.43403204659,189.027016767615,188.82882134612998,189.720829738604,189.695114667686,189.04745421709998,189.693813632135],\"type\":\"scatter\"}],                        {\"title\":{\"text\":\"Actual vs. 'Out-of-Sample' Forecast | x\"},\"xaxis\":{\"title\":{\"text\":\"Time\"}},\"yaxis\":{\"title\":{\"text\":\"Values\"}},\"template\":{\"data\":{\"barpolar\":[{\"marker\":{\"line\":{\"color\":\"rgb(237,237,237)\",\"width\":0.5},\"pattern\":{\"fillmode\":\"overlay\",\"size\":10,\"solidity\":0.2}},\"type\":\"barpolar\"}],\"bar\":[{\"error_x\":{\"color\":\"rgb(51,51,51)\"},\"error_y\":{\"color\":\"rgb(51,51,51)\"},\"marker\":{\"line\":{\"color\":\"rgb(237,237,237)\",\"width\":0.5},\"pattern\":{\"fillmode\":\"overlay\",\"size\":10,\"solidity\":0.2}},\"type\":\"bar\"}],\"carpet\":[{\"aaxis\":{\"endlinecolor\":\"rgb(51,51,51)\",\"gridcolor\":\"white\",\"linecolor\":\"white\",\"minorgridcolor\":\"white\",\"startlinecolor\":\"rgb(51,51,51)\"},\"baxis\":{\"endlinecolor\":\"rgb(51,51,51)\",\"gridcolor\":\"white\",\"linecolor\":\"white\",\"minorgridcolor\":\"white\",\"startlinecolor\":\"rgb(51,51,51)\"},\"type\":\"carpet\"}],\"choropleth\":[{\"colorbar\":{\"outlinewidth\":0,\"tickcolor\":\"rgb(237,237,237)\",\"ticklen\":6,\"ticks\":\"inside\"},\"type\":\"choropleth\"}],\"contourcarpet\":[{\"colorbar\":{\"outlinewidth\":0,\"tickcolor\":\"rgb(237,237,237)\",\"ticklen\":6,\"ticks\":\"inside\"},\"type\":\"contourcarpet\"}],\"contour\":[{\"colorbar\":{\"outlinewidth\":0,\"tickcolor\":\"rgb(237,237,237)\",\"ticklen\":6,\"ticks\":\"inside\"},\"colorscale\":[[0,\"rgb(20,44,66)\"],[1,\"rgb(90,179,244)\"]],\"type\":\"contour\"}],\"heatmapgl\":[{\"colorbar\":{\"outlinewidth\":0,\"tickcolor\":\"rgb(237,237,237)\",\"ticklen\":6,\"ticks\":\"inside\"},\"colorscale\":[[0,\"rgb(20,44,66)\"],[1,\"rgb(90,179,244)\"]],\"type\":\"heatmapgl\"}],\"heatmap\":[{\"colorbar\":{\"outlinewidth\":0,\"tickcolor\":\"rgb(237,237,237)\",\"ticklen\":6,\"ticks\":\"inside\"},\"colorscale\":[[0,\"rgb(20,44,66)\"],[1,\"rgb(90,179,244)\"]],\"type\":\"heatmap\"}],\"histogram2dcontour\":[{\"colorbar\":{\"outlinewidth\":0,\"tickcolor\":\"rgb(237,237,237)\",\"ticklen\":6,\"ticks\":\"inside\"},\"colorscale\":[[0,\"rgb(20,44,66)\"],[1,\"rgb(90,179,244)\"]],\"type\":\"histogram2dcontour\"}],\"histogram2d\":[{\"colorbar\":{\"outlinewidth\":0,\"tickcolor\":\"rgb(237,237,237)\",\"ticklen\":6,\"ticks\":\"inside\"},\"colorscale\":[[0,\"rgb(20,44,66)\"],[1,\"rgb(90,179,244)\"]],\"type\":\"histogram2d\"}],\"histogram\":[{\"marker\":{\"pattern\":{\"fillmode\":\"overlay\",\"size\":10,\"solidity\":0.2}},\"type\":\"histogram\"}],\"mesh3d\":[{\"colorbar\":{\"outlinewidth\":0,\"tickcolor\":\"rgb(237,237,237)\",\"ticklen\":6,\"ticks\":\"inside\"},\"type\":\"mesh3d\"}],\"parcoords\":[{\"line\":{\"colorbar\":{\"outlinewidth\":0,\"tickcolor\":\"rgb(237,237,237)\",\"ticklen\":6,\"ticks\":\"inside\"}},\"type\":\"parcoords\"}],\"pie\":[{\"automargin\":true,\"type\":\"pie\"}],\"scatter3d\":[{\"line\":{\"colorbar\":{\"outlinewidth\":0,\"tickcolor\":\"rgb(237,237,237)\",\"ticklen\":6,\"ticks\":\"inside\"}},\"marker\":{\"colorbar\":{\"outlinewidth\":0,\"tickcolor\":\"rgb(237,237,237)\",\"ticklen\":6,\"ticks\":\"inside\"}},\"type\":\"scatter3d\"}],\"scattercarpet\":[{\"marker\":{\"colorbar\":{\"outlinewidth\":0,\"tickcolor\":\"rgb(237,237,237)\",\"ticklen\":6,\"ticks\":\"inside\"}},\"type\":\"scattercarpet\"}],\"scattergeo\":[{\"marker\":{\"colorbar\":{\"outlinewidth\":0,\"tickcolor\":\"rgb(237,237,237)\",\"ticklen\":6,\"ticks\":\"inside\"}},\"type\":\"scattergeo\"}],\"scattergl\":[{\"marker\":{\"colorbar\":{\"outlinewidth\":0,\"tickcolor\":\"rgb(237,237,237)\",\"ticklen\":6,\"ticks\":\"inside\"}},\"type\":\"scattergl\"}],\"scattermapbox\":[{\"marker\":{\"colorbar\":{\"outlinewidth\":0,\"tickcolor\":\"rgb(237,237,237)\",\"ticklen\":6,\"ticks\":\"inside\"}},\"type\":\"scattermapbox\"}],\"scatterpolargl\":[{\"marker\":{\"colorbar\":{\"outlinewidth\":0,\"tickcolor\":\"rgb(237,237,237)\",\"ticklen\":6,\"ticks\":\"inside\"}},\"type\":\"scatterpolargl\"}],\"scatterpolar\":[{\"marker\":{\"colorbar\":{\"outlinewidth\":0,\"tickcolor\":\"rgb(237,237,237)\",\"ticklen\":6,\"ticks\":\"inside\"}},\"type\":\"scatterpolar\"}],\"scatter\":[{\"marker\":{\"colorbar\":{\"outlinewidth\":0,\"tickcolor\":\"rgb(237,237,237)\",\"ticklen\":6,\"ticks\":\"inside\"}},\"type\":\"scatter\"}],\"scatterternary\":[{\"marker\":{\"colorbar\":{\"outlinewidth\":0,\"tickcolor\":\"rgb(237,237,237)\",\"ticklen\":6,\"ticks\":\"inside\"}},\"type\":\"scatterternary\"}],\"surface\":[{\"colorbar\":{\"outlinewidth\":0,\"tickcolor\":\"rgb(237,237,237)\",\"ticklen\":6,\"ticks\":\"inside\"},\"colorscale\":[[0,\"rgb(20,44,66)\"],[1,\"rgb(90,179,244)\"]],\"type\":\"surface\"}],\"table\":[{\"cells\":{\"fill\":{\"color\":\"rgb(237,237,237)\"},\"line\":{\"color\":\"white\"}},\"header\":{\"fill\":{\"color\":\"rgb(217,217,217)\"},\"line\":{\"color\":\"white\"}},\"type\":\"table\"}]},\"layout\":{\"annotationdefaults\":{\"arrowhead\":0,\"arrowwidth\":1},\"autotypenumbers\":\"strict\",\"coloraxis\":{\"colorbar\":{\"outlinewidth\":0,\"tickcolor\":\"rgb(237,237,237)\",\"ticklen\":6,\"ticks\":\"inside\"}},\"colorscale\":{\"sequential\":[[0,\"rgb(20,44,66)\"],[1,\"rgb(90,179,244)\"]],\"sequentialminus\":[[0,\"rgb(20,44,66)\"],[1,\"rgb(90,179,244)\"]]},\"colorway\":[\"#F8766D\",\"#A3A500\",\"#00BF7D\",\"#00B0F6\",\"#E76BF3\"],\"font\":{\"color\":\"rgb(51,51,51)\"},\"geo\":{\"bgcolor\":\"white\",\"lakecolor\":\"white\",\"landcolor\":\"rgb(237,237,237)\",\"showlakes\":true,\"showland\":true,\"subunitcolor\":\"white\"},\"hoverlabel\":{\"align\":\"left\"},\"hovermode\":\"closest\",\"paper_bgcolor\":\"white\",\"plot_bgcolor\":\"rgb(237,237,237)\",\"polar\":{\"angularaxis\":{\"gridcolor\":\"white\",\"linecolor\":\"white\",\"showgrid\":true,\"tickcolor\":\"rgb(51,51,51)\",\"ticks\":\"outside\"},\"bgcolor\":\"rgb(237,237,237)\",\"radialaxis\":{\"gridcolor\":\"white\",\"linecolor\":\"white\",\"showgrid\":true,\"tickcolor\":\"rgb(51,51,51)\",\"ticks\":\"outside\"}},\"scene\":{\"xaxis\":{\"backgroundcolor\":\"rgb(237,237,237)\",\"gridcolor\":\"white\",\"gridwidth\":2,\"linecolor\":\"white\",\"showbackground\":true,\"showgrid\":true,\"tickcolor\":\"rgb(51,51,51)\",\"ticks\":\"outside\",\"zerolinecolor\":\"white\"},\"yaxis\":{\"backgroundcolor\":\"rgb(237,237,237)\",\"gridcolor\":\"white\",\"gridwidth\":2,\"linecolor\":\"white\",\"showbackground\":true,\"showgrid\":true,\"tickcolor\":\"rgb(51,51,51)\",\"ticks\":\"outside\",\"zerolinecolor\":\"white\"},\"zaxis\":{\"backgroundcolor\":\"rgb(237,237,237)\",\"gridcolor\":\"white\",\"gridwidth\":2,\"linecolor\":\"white\",\"showbackground\":true,\"showgrid\":true,\"tickcolor\":\"rgb(51,51,51)\",\"ticks\":\"outside\",\"zerolinecolor\":\"white\"}},\"shapedefaults\":{\"fillcolor\":\"black\",\"line\":{\"width\":0},\"opacity\":0.3},\"ternary\":{\"aaxis\":{\"gridcolor\":\"white\",\"linecolor\":\"white\",\"showgrid\":true,\"tickcolor\":\"rgb(51,51,51)\",\"ticks\":\"outside\"},\"baxis\":{\"gridcolor\":\"white\",\"linecolor\":\"white\",\"showgrid\":true,\"tickcolor\":\"rgb(51,51,51)\",\"ticks\":\"outside\"},\"bgcolor\":\"rgb(237,237,237)\",\"caxis\":{\"gridcolor\":\"white\",\"linecolor\":\"white\",\"showgrid\":true,\"tickcolor\":\"rgb(51,51,51)\",\"ticks\":\"outside\"}},\"xaxis\":{\"automargin\":true,\"gridcolor\":\"white\",\"linecolor\":\"white\",\"showgrid\":true,\"tickcolor\":\"rgb(51,51,51)\",\"ticks\":\"outside\",\"title\":{\"standoff\":15},\"zerolinecolor\":\"white\"},\"yaxis\":{\"automargin\":true,\"gridcolor\":\"white\",\"linecolor\":\"white\",\"showgrid\":true,\"tickcolor\":\"rgb(51,51,51)\",\"ticks\":\"outside\",\"title\":{\"standoff\":15},\"zerolinecolor\":\"white\"}}},\"showlegend\":true},                        {\"responsive\": true}                    ).then(function(){\n",
              "                            \n",
              "var gd = document.getElementById('8487f743-d6b1-4f13-9ba0-65f7c05d2fda');\n",
              "var x = new MutationObserver(function (mutations, observer) {{\n",
              "        var display = window.getComputedStyle(gd).display;\n",
              "        if (!display || display === 'none') {{\n",
              "            console.log([gd, 'removed!']);\n",
              "            Plotly.purge(gd);\n",
              "            observer.disconnect();\n",
              "        }}\n",
              "}});\n",
              "\n",
              "// Listen for the removal of the full notebook cells\n",
              "var notebookContainer = gd.closest('#notebook-container');\n",
              "if (notebookContainer) {{\n",
              "    x.observe(notebookContainer, {childList: true});\n",
              "}}\n",
              "\n",
              "// Listen for the clearing of the current output cell\n",
              "var outputEl = gd.closest('.output');\n",
              "if (outputEl) {{\n",
              "    x.observe(outputEl, {childList: true});\n",
              "}}\n",
              "\n",
              "                        })                };                            </script>        </div>\n",
              "</body>\n",
              "</html>"
            ]
          },
          "metadata": {}
        },
        {
          "output_type": "display_data",
          "data": {
            "text/html": [
              "<html>\n",
              "<head><meta charset=\"utf-8\" /></head>\n",
              "<body>\n",
              "    <div>            <script src=\"https://cdnjs.cloudflare.com/ajax/libs/mathjax/2.7.5/MathJax.js?config=TeX-AMS-MML_SVG\"></script><script type=\"text/javascript\">if (window.MathJax) {MathJax.Hub.Config({SVG: {font: \"STIX-Web\"}});}</script>                <script type=\"text/javascript\">window.PlotlyConfig = {MathJaxConfig: 'local'};</script>\n",
              "        <script src=\"https://cdn.plot.ly/plotly-2.6.3.min.js\"></script>                <div id=\"60fe632a-88d6-4052-935e-0c1c127c5ba5\" class=\"plotly-graph-div\" style=\"height:525px; width:100%;\"></div>            <script type=\"text/javascript\">                                    window.PLOTLYENV=window.PLOTLYENV || {};                                    if (document.getElementById(\"60fe632a-88d6-4052-935e-0c1c127c5ba5\")) {                    Plotly.newPlot(                        \"60fe632a-88d6-4052-935e-0c1c127c5ba5\",                        [{\"line\":{\"color\":\"#1f77b4\"},\"marker\":{\"size\":5},\"mode\":\"lines+markers\",\"name\":\"Forecast | ARIMA\",\"showlegend\":true,\"x\":[0,1,2,3,4,5,6,7,8,9,10,11,12,13,14,15,16,17,18,19,20,21,22,23,24,25,26,27,28,29,30,31,32,33,34,35,36,37,38,39,40,41,42,43,44,45,46,47,48,49,50,51,52,53,54,55,56,57,58,59,60,61,62,63,64,65,66,67,68,69,70,71,72,73,74,75,76,77,78,79,80,81,82,83,84,85,86,87,88,89,90,91,92,93,94,95,96,97,98,99,100,101,102,103,104,105,106,107,108,109,110,111,112,113,114,115,116,117,118,119,120,121,122,123,124,125,126,127,128,129,130,131,132,133,134,135,136,137,138,139,140,141,142,143,144,145,146,147,148,149,150,151,152,153,154,155,156,157,158,159,160,161,162,163,164,165,166,167,168,169,170,171,172,173,174,175,176,177,178,179,180,181,182,183,184,185,186,187,188,189,190,191,192,193,194,195,196,197,198,199,200,201,202,203,204,205,206,207,208,209,210,211,212,213,214,215,216,217,218,219,220,221,222,223,224,225,226,227,228,229,230,231,232,233,234,235,236,237,238,239,240,241,242,243,244,245,246,247,248,249,250,251,252,253,254,255,256,257,258,259,260,261,262,263,264,265,266,267,268,269,270,271,272,273,274,275,276,277,278,279,280,281,282,283,284,285,286,287,288,289,290,291,292,293,294,295,296,297,298,299,300,301,302,303,304,305,306,307,308,309],\"y\":[null,186.2885,186.3307,185.4197,185.5778,184.9232,186.6905,187.4072,188.3174,188.7015,190.3837,189.748,189.2863,190.7186,190.0679,189.8605,189.4677,189.1477,188.8686,189.3628,189.1855,188.6795,190.0226,189.808,189.6284,189.5282,190.2409,190.1673,190.1297,189.448,189.1238,189.1839,188.595,189.1265,187.6081,187.9147,186.3782,186.0773,185.549,184.8969,184.84,182.9256,184.1022,182.4373,181.9737,180.8578,180.107,182.1941,182.2115,180.9252,179.2846,179.7348,179.7163,179.3982,178.4688,176.9814,175.9062,176.9062,176.2849,174.9005,176.7698,177.1949,176.9563,178.0147,178.9012,178.2819,180.488,180.233,178.8085,178.6641,178.8716,181.1796,181.2854,181.7424,181.6653,181.3313,181.2965,182.0842,184.1594,185.1868,186.3947,185.1634,186.1473,186.3672,184.9,185.421,185.2622,186.7268,185.9607,185.5305,184.6044,184.4273,184.8293,184.0976,184.928,183.7199,182.6719,184.1131,183.0972,183.5092,183.1281,183.5375,185.2264,186.813,186.4821,184.1968,186.6945,187.3615,187.9029,187.8895,188.3996,188.2352,188.6559,188.2557,186.8855,187.8733,189.393,189.0843,187.831,188.4732,188.4285,186.6953,186.6974,186.0671,185.7262,184.5696,186.3727,186.0416,184.4361,184.6333,184.8965,183.9106,181.0217,180.3812,180.9518,180.892,180.7938,181.3547,180.1682,181.265,181.2596,181.967,183.0011,183.2245,182.3458,183.5088,181.5086,180.9638,180.7082,180.5421,181.5625,181.6987,182.1059,182.0363,181.7886,182.4841,183.6304,181.2273,181.8,182.1747,181.7495,182.7005,182.3112,182.0269,182.8843,184.6039,184.874,184.4518,183.2627,182.9317,181.9918,181.7329,182.1273,181.2754,183.9246,184.0806,185.2108,182.9217,183.6627,182.3465,183.2663,183.6644,183.2569,184.5811,183.8799,183.2993,182.2982,181.63,182.5752,183.0089,184.0141,183.6239,184.0003,184.2445,182.8182,184.5967,184.7311,185.4967,186.4518,186.4013,186.0955,186.9891,185.9418,187.9132,187.5295,189.1837,190.6959,190.7789,191.3461,190.3215,190.6445,191.6882,191.7872,191.3331,190.6773,190.6414,191.7106,191.2266,191.1056,189.8114,190.3057,191.6136,193.1107,193.9254,192.0556,192.5376,192.9938,192.6404,192.8108,191.9468,192.626,192.2989,190.7299,190.3624,191.7268,191.3926,192.1253,193.0719,193.0763,192.724,192.1943,192.9339,191.8704,192.1166,191.8271,189.5622,188.1534,189.0694,188.8781,189.6814,191.5689,193.0428,193.72,194.1,193.9072,195.4851,196.0813,194.9077,194.7521,192.8332,192.6379,190.0456,191.3596,190.7241,190.2941,190.1248,190.737,191.4153,191.9833,191.4107,190.0474,189.6587,189.9366,189.1136,189.0447,187.8771,187.8687,187.9976,187.8517,187.6878,189.4514,190.2139,191.3254,190.4022,190.5665,191.7213,191.6648,189.5355,189.8803,187.9753,187.1642,188.4882,189.1038,190.1955,190.5021,190.3919,189.4676,191.0605,191.1055,190.3904,191.2556,192.3301,194.2257,193.6227,193.2319,192.8156,192.44,192.0734,191.7777,193.2195],\"type\":\"scatter\"},{\"marker\":{\"color\":\"#3f3f3f\",\"size\":5},\"mode\":\"lines+markers\",\"name\":\"Original\",\"showlegend\":true,\"x\":[0,1,2,3,4,5,6,7,8,9,10,11,12,13,14,15,16,17,18,19,20,21,22,23,24,25,26,27,28,29,30,31,32,33,34,35,36,37,38,39,40,41,42,43,44,45,46,47,48,49,50,51,52,53,54,55,56,57,58,59,60,61,62,63,64,65,66,67,68,69,70,71,72,73,74,75,76,77,78,79,80,81,82,83,84,85,86,87,88,89,90,91,92,93,94,95,96,97,98,99,100,101,102,103,104,105,106,107,108,109,110,111,112,113,114,115,116,117,118,119,120,121,122,123,124,125,126,127,128,129,130,131,132,133,134,135,136,137,138,139,140,141,142,143,144,145,146,147,148,149,150,151,152,153,154,155,156,157,158,159,160,161,162,163,164,165,166,167,168,169,170,171,172,173,174,175,176,177,178,179,180,181,182,183,184,185,186,187,188,189,190,191,192,193,194,195,196,197,198,199,200,201,202,203,204,205,206,207,208,209,210,211,212,213,214,215,216,217,218,219,220,221,222,223,224,225,226,227,228,229,230,231,232,233,234,235,236,237,238,239,240,241,242,243,244,245,246,247,248,249,250,251,252,253,254,255,256,257,258,259,260,261,262,263,264,265,266,267,268,269,270,271,272,273,274,275,276,277,278,279,280,281,282,283,284,285,286,287,288,289,290,291,292,293,294,295,296,297,298,299,300,301,302,303,304,305,306,307,308,309,310,311,312,313,314,315,316,317,318,319,320,321,322,323,324,325,326,327,328,329,330,331,332,333,334,335,336,337,338,339],\"y\":[186.268370014241,186.31048588738602,185.399564238833,185.557593011237,184.903008367318,186.670295636691,187.38700311270802,188.29717734220299,188.68136270003004,190.36353878054902,189.7278023266,189.26615759624,190.698439834781,190.04774348147097,189.840362737869,189.44755480842701,189.127561939879,188.84844863690202,189.34263696817,189.1653064859,188.659349023786,190.002387848956,189.78780844041,189.608251910366,189.508061169153,190.220727476204,190.14716307207803,190.109528900611,189.427868421855,189.10359814960898,189.163758590043,188.574864103783,189.10636029641603,187.58796621462898,187.894524075419,186.358074251881,186.057098125045,185.52881822060002,184.876723439919,184.819826662071,182.905467236391,184.08205054841,182.417078112198,181.953547710726,180.837627605683,180.086808604489,182.173975150118,182.191370769811,180.90507023937698,179.264464704958,179.714651806231,179.69609197351602,179.37802359897202,178.44866145151798,176.961201141377,175.88600884476102,176.886037648475,176.264770953678,174.880344106294,176.749634728717,177.17473510608997,176.936088005177,177.994571053886,178.880993705261,178.26175065702998,180.46785312157,180.21282609142898,178.788331441216,178.643931839262,178.851470178494,181.159448577554,181.265250945448,181.72224975087101,181.645096815514,181.311095973148,181.276369944837,182.064009550467,184.139254559119,185.166646997883,186.37455539626998,185.143231974711,186.12712754476502,186.34705234842602,184.879802319333,185.400825061981,185.24207045726502,186.706657769235,185.940575769631,185.510364015702,184.584254518325,184.407150556888,184.80916233637402,184.077414163255,184.907787331236,183.699704544932,182.65172013212398,184.092877838968,183.07703037366403,183.48900508598098,183.10792903487203,183.517330874523,185.206204160727,186.79279259416901,186.461884793487,184.176649258194,186.674310848028,187.341377014794,187.88270435075802,187.869304827612,188.379413250565,188.21503741879502,188.635732062049,188.23548531807202,186.86527744052398,187.85311570797901,189.372860733479,189.064120164253,187.810830408645,188.45307171432302,188.40836257742902,186.67514417060397,186.677276030285,186.046975696357,185.706007116496,184.54943475386003,186.352576661778,186.021444625386,184.415931213133,184.61312465187302,184.876300298278,183.890473597869,181.00155292619,180.361071223624,180.93157885954497,180.871855583502,180.773676839497,181.334497568117,180.148038929538,181.244815973812,181.23947194553398,181.94678261293203,182.980890347669,183.204370762585,182.32566314971902,183.48862770568599,181.4884627609,180.94367202089902,180.68800131174197,180.521880274977,181.54234418376097,181.678566076864,182.085733680287,182.016078867275,181.76841452565498,182.463965332275,183.610193689491,181.207097474599,181.779837029845,182.154561436623,181.72929371506697,182.680306522644,182.29106934092601,182.00673867912602,182.864148457206,184.58377575632701,184.85383065726398,184.43164664747601,183.242533352617,182.911500373737,181.97167104722698,181.712738464109,182.10711763233002,181.255260540306,183.90442742140098,184.060439097066,185.190646364521,182.90152238468102,183.64252354187698,182.32627838142503,183.246082059034,183.644212214486,183.236683635216,184.56094226539398,183.859710596147,183.279096291906,182.278024110881,181.609845504127,182.5550304575,182.98873260704602,183.99389182472302,183.603773160669,183.980143452444,184.22430837693,182.798051034548,184.576480322023,184.710927982957,185.476526982115,186.431663659024,186.38109795758098,186.075282537814,186.96895624023998,185.921658091179,187.892995477403,187.509363371114,189.163508673389,190.67572136733997,190.758687100926,191.325908015777,190.30135953624298,190.62436603926497,191.667978497622,191.767056984519,191.312920075364,190.657138222914,190.621215800291,191.690377260968,191.206402330667,191.08539221933898,189.791252215519,190.285565051534,191.59346657164798,193.09050758105,193.90521031194803,192.035421521745,192.51745102586898,192.97358662917,192.62018634334,192.790675814288,191.92663986016103,192.60587063417702,192.278769619524,190.70968743438,190.342236678209,191.70667160727902,191.372390242548,192.105140284757,193.05172592495498,193.05612462928102,192.703802323732,192.17410681459802,192.913696040173,191.85023862468998,192.096449468226,191.80695010166198,189.54206074517398,188.133210289101,189.04922961789399,188.857950667358,189.661233883492,191.548708346801,193.02258952791001,193.69985802022302,194.079820706789,193.887022280332,195.464914075237,196.061148184555,194.887571243684,194.731928708793,192.81301888852298,192.61776004241298,190.025432372467,191.339434539665,190.703891538633,190.273912699939,190.104594367637,190.716812541626,191.395152718848,191.96310469132,191.390562087394,190.027270831116,189.638548586778,189.91646271922798,189.093381597656,189.024540663178,187.856878337048,187.848569322832,187.97742472443,187.831549095969,187.66763813923302,189.431190142018,190.193776654436,191.30520773516702,190.382000782337,190.546342620765,191.70116780786202,191.64464638333598,189.515285735101,189.8601314972,187.95517605161498,187.144005898475,188.46801021977402,189.083647069077,190.17531602461202,190.48192088612598,190.371762123643,189.44744935051602,191.040363104235,191.08537370235697,190.37024530168898,191.235468401406,192.30990935968399,194.20556413388303,193.602566830277,193.211699009554,192.795476978024,192.41981955520401,192.053188609501,191.7575111568,193.199331567,192.501793275087,192.113625769166,192.76616222133703,193.890934667873,193.11882386484902,192.61073764871003,193.13435823920798,194.152112465746,193.900947877658,192.47095443027,194.18007546237098,195.615145034682,194.904773888832,194.839706315177,193.08023757981098,193.64996055163002,195.262307349832,193.625026702727,192.845458189525,192.204281255775,191.523149862204,189.489864266586,189.990827825834,188.459029685868,188.43403204659,189.027016767615,188.82882134612998,189.720829738604,189.695114667686,189.04745421709998,189.693813632135],\"type\":\"scatter\"}],                        {\"title\":{\"text\":\"Actual vs. 'In-Sample' Forecast | x\"},\"xaxis\":{\"title\":{\"text\":\"Time\"}},\"yaxis\":{\"title\":{\"text\":\"Values\"}},\"template\":{\"data\":{\"barpolar\":[{\"marker\":{\"line\":{\"color\":\"rgb(237,237,237)\",\"width\":0.5},\"pattern\":{\"fillmode\":\"overlay\",\"size\":10,\"solidity\":0.2}},\"type\":\"barpolar\"}],\"bar\":[{\"error_x\":{\"color\":\"rgb(51,51,51)\"},\"error_y\":{\"color\":\"rgb(51,51,51)\"},\"marker\":{\"line\":{\"color\":\"rgb(237,237,237)\",\"width\":0.5},\"pattern\":{\"fillmode\":\"overlay\",\"size\":10,\"solidity\":0.2}},\"type\":\"bar\"}],\"carpet\":[{\"aaxis\":{\"endlinecolor\":\"rgb(51,51,51)\",\"gridcolor\":\"white\",\"linecolor\":\"white\",\"minorgridcolor\":\"white\",\"startlinecolor\":\"rgb(51,51,51)\"},\"baxis\":{\"endlinecolor\":\"rgb(51,51,51)\",\"gridcolor\":\"white\",\"linecolor\":\"white\",\"minorgridcolor\":\"white\",\"startlinecolor\":\"rgb(51,51,51)\"},\"type\":\"carpet\"}],\"choropleth\":[{\"colorbar\":{\"outlinewidth\":0,\"tickcolor\":\"rgb(237,237,237)\",\"ticklen\":6,\"ticks\":\"inside\"},\"type\":\"choropleth\"}],\"contourcarpet\":[{\"colorbar\":{\"outlinewidth\":0,\"tickcolor\":\"rgb(237,237,237)\",\"ticklen\":6,\"ticks\":\"inside\"},\"type\":\"contourcarpet\"}],\"contour\":[{\"colorbar\":{\"outlinewidth\":0,\"tickcolor\":\"rgb(237,237,237)\",\"ticklen\":6,\"ticks\":\"inside\"},\"colorscale\":[[0,\"rgb(20,44,66)\"],[1,\"rgb(90,179,244)\"]],\"type\":\"contour\"}],\"heatmapgl\":[{\"colorbar\":{\"outlinewidth\":0,\"tickcolor\":\"rgb(237,237,237)\",\"ticklen\":6,\"ticks\":\"inside\"},\"colorscale\":[[0,\"rgb(20,44,66)\"],[1,\"rgb(90,179,244)\"]],\"type\":\"heatmapgl\"}],\"heatmap\":[{\"colorbar\":{\"outlinewidth\":0,\"tickcolor\":\"rgb(237,237,237)\",\"ticklen\":6,\"ticks\":\"inside\"},\"colorscale\":[[0,\"rgb(20,44,66)\"],[1,\"rgb(90,179,244)\"]],\"type\":\"heatmap\"}],\"histogram2dcontour\":[{\"colorbar\":{\"outlinewidth\":0,\"tickcolor\":\"rgb(237,237,237)\",\"ticklen\":6,\"ticks\":\"inside\"},\"colorscale\":[[0,\"rgb(20,44,66)\"],[1,\"rgb(90,179,244)\"]],\"type\":\"histogram2dcontour\"}],\"histogram2d\":[{\"colorbar\":{\"outlinewidth\":0,\"tickcolor\":\"rgb(237,237,237)\",\"ticklen\":6,\"ticks\":\"inside\"},\"colorscale\":[[0,\"rgb(20,44,66)\"],[1,\"rgb(90,179,244)\"]],\"type\":\"histogram2d\"}],\"histogram\":[{\"marker\":{\"pattern\":{\"fillmode\":\"overlay\",\"size\":10,\"solidity\":0.2}},\"type\":\"histogram\"}],\"mesh3d\":[{\"colorbar\":{\"outlinewidth\":0,\"tickcolor\":\"rgb(237,237,237)\",\"ticklen\":6,\"ticks\":\"inside\"},\"type\":\"mesh3d\"}],\"parcoords\":[{\"line\":{\"colorbar\":{\"outlinewidth\":0,\"tickcolor\":\"rgb(237,237,237)\",\"ticklen\":6,\"ticks\":\"inside\"}},\"type\":\"parcoords\"}],\"pie\":[{\"automargin\":true,\"type\":\"pie\"}],\"scatter3d\":[{\"line\":{\"colorbar\":{\"outlinewidth\":0,\"tickcolor\":\"rgb(237,237,237)\",\"ticklen\":6,\"ticks\":\"inside\"}},\"marker\":{\"colorbar\":{\"outlinewidth\":0,\"tickcolor\":\"rgb(237,237,237)\",\"ticklen\":6,\"ticks\":\"inside\"}},\"type\":\"scatter3d\"}],\"scattercarpet\":[{\"marker\":{\"colorbar\":{\"outlinewidth\":0,\"tickcolor\":\"rgb(237,237,237)\",\"ticklen\":6,\"ticks\":\"inside\"}},\"type\":\"scattercarpet\"}],\"scattergeo\":[{\"marker\":{\"colorbar\":{\"outlinewidth\":0,\"tickcolor\":\"rgb(237,237,237)\",\"ticklen\":6,\"ticks\":\"inside\"}},\"type\":\"scattergeo\"}],\"scattergl\":[{\"marker\":{\"colorbar\":{\"outlinewidth\":0,\"tickcolor\":\"rgb(237,237,237)\",\"ticklen\":6,\"ticks\":\"inside\"}},\"type\":\"scattergl\"}],\"scattermapbox\":[{\"marker\":{\"colorbar\":{\"outlinewidth\":0,\"tickcolor\":\"rgb(237,237,237)\",\"ticklen\":6,\"ticks\":\"inside\"}},\"type\":\"scattermapbox\"}],\"scatterpolargl\":[{\"marker\":{\"colorbar\":{\"outlinewidth\":0,\"tickcolor\":\"rgb(237,237,237)\",\"ticklen\":6,\"ticks\":\"inside\"}},\"type\":\"scatterpolargl\"}],\"scatterpolar\":[{\"marker\":{\"colorbar\":{\"outlinewidth\":0,\"tickcolor\":\"rgb(237,237,237)\",\"ticklen\":6,\"ticks\":\"inside\"}},\"type\":\"scatterpolar\"}],\"scatter\":[{\"marker\":{\"colorbar\":{\"outlinewidth\":0,\"tickcolor\":\"rgb(237,237,237)\",\"ticklen\":6,\"ticks\":\"inside\"}},\"type\":\"scatter\"}],\"scatterternary\":[{\"marker\":{\"colorbar\":{\"outlinewidth\":0,\"tickcolor\":\"rgb(237,237,237)\",\"ticklen\":6,\"ticks\":\"inside\"}},\"type\":\"scatterternary\"}],\"surface\":[{\"colorbar\":{\"outlinewidth\":0,\"tickcolor\":\"rgb(237,237,237)\",\"ticklen\":6,\"ticks\":\"inside\"},\"colorscale\":[[0,\"rgb(20,44,66)\"],[1,\"rgb(90,179,244)\"]],\"type\":\"surface\"}],\"table\":[{\"cells\":{\"fill\":{\"color\":\"rgb(237,237,237)\"},\"line\":{\"color\":\"white\"}},\"header\":{\"fill\":{\"color\":\"rgb(217,217,217)\"},\"line\":{\"color\":\"white\"}},\"type\":\"table\"}]},\"layout\":{\"annotationdefaults\":{\"arrowhead\":0,\"arrowwidth\":1},\"autotypenumbers\":\"strict\",\"coloraxis\":{\"colorbar\":{\"outlinewidth\":0,\"tickcolor\":\"rgb(237,237,237)\",\"ticklen\":6,\"ticks\":\"inside\"}},\"colorscale\":{\"sequential\":[[0,\"rgb(20,44,66)\"],[1,\"rgb(90,179,244)\"]],\"sequentialminus\":[[0,\"rgb(20,44,66)\"],[1,\"rgb(90,179,244)\"]]},\"colorway\":[\"#F8766D\",\"#A3A500\",\"#00BF7D\",\"#00B0F6\",\"#E76BF3\"],\"font\":{\"color\":\"rgb(51,51,51)\"},\"geo\":{\"bgcolor\":\"white\",\"lakecolor\":\"white\",\"landcolor\":\"rgb(237,237,237)\",\"showlakes\":true,\"showland\":true,\"subunitcolor\":\"white\"},\"hoverlabel\":{\"align\":\"left\"},\"hovermode\":\"closest\",\"paper_bgcolor\":\"white\",\"plot_bgcolor\":\"rgb(237,237,237)\",\"polar\":{\"angularaxis\":{\"gridcolor\":\"white\",\"linecolor\":\"white\",\"showgrid\":true,\"tickcolor\":\"rgb(51,51,51)\",\"ticks\":\"outside\"},\"bgcolor\":\"rgb(237,237,237)\",\"radialaxis\":{\"gridcolor\":\"white\",\"linecolor\":\"white\",\"showgrid\":true,\"tickcolor\":\"rgb(51,51,51)\",\"ticks\":\"outside\"}},\"scene\":{\"xaxis\":{\"backgroundcolor\":\"rgb(237,237,237)\",\"gridcolor\":\"white\",\"gridwidth\":2,\"linecolor\":\"white\",\"showbackground\":true,\"showgrid\":true,\"tickcolor\":\"rgb(51,51,51)\",\"ticks\":\"outside\",\"zerolinecolor\":\"white\"},\"yaxis\":{\"backgroundcolor\":\"rgb(237,237,237)\",\"gridcolor\":\"white\",\"gridwidth\":2,\"linecolor\":\"white\",\"showbackground\":true,\"showgrid\":true,\"tickcolor\":\"rgb(51,51,51)\",\"ticks\":\"outside\",\"zerolinecolor\":\"white\"},\"zaxis\":{\"backgroundcolor\":\"rgb(237,237,237)\",\"gridcolor\":\"white\",\"gridwidth\":2,\"linecolor\":\"white\",\"showbackground\":true,\"showgrid\":true,\"tickcolor\":\"rgb(51,51,51)\",\"ticks\":\"outside\",\"zerolinecolor\":\"white\"}},\"shapedefaults\":{\"fillcolor\":\"black\",\"line\":{\"width\":0},\"opacity\":0.3},\"ternary\":{\"aaxis\":{\"gridcolor\":\"white\",\"linecolor\":\"white\",\"showgrid\":true,\"tickcolor\":\"rgb(51,51,51)\",\"ticks\":\"outside\"},\"baxis\":{\"gridcolor\":\"white\",\"linecolor\":\"white\",\"showgrid\":true,\"tickcolor\":\"rgb(51,51,51)\",\"ticks\":\"outside\"},\"bgcolor\":\"rgb(237,237,237)\",\"caxis\":{\"gridcolor\":\"white\",\"linecolor\":\"white\",\"showgrid\":true,\"tickcolor\":\"rgb(51,51,51)\",\"ticks\":\"outside\"}},\"xaxis\":{\"automargin\":true,\"gridcolor\":\"white\",\"linecolor\":\"white\",\"showgrid\":true,\"tickcolor\":\"rgb(51,51,51)\",\"ticks\":\"outside\",\"title\":{\"standoff\":15},\"zerolinecolor\":\"white\"},\"yaxis\":{\"automargin\":true,\"gridcolor\":\"white\",\"linecolor\":\"white\",\"showgrid\":true,\"tickcolor\":\"rgb(51,51,51)\",\"ticks\":\"outside\",\"title\":{\"standoff\":15},\"zerolinecolor\":\"white\"}}},\"showlegend\":true},                        {\"responsive\": true}                    ).then(function(){\n",
              "                            \n",
              "var gd = document.getElementById('60fe632a-88d6-4052-935e-0c1c127c5ba5');\n",
              "var x = new MutationObserver(function (mutations, observer) {{\n",
              "        var display = window.getComputedStyle(gd).display;\n",
              "        if (!display || display === 'none') {{\n",
              "            console.log([gd, 'removed!']);\n",
              "            Plotly.purge(gd);\n",
              "            observer.disconnect();\n",
              "        }}\n",
              "}});\n",
              "\n",
              "// Listen for the removal of the full notebook cells\n",
              "var notebookContainer = gd.closest('#notebook-container');\n",
              "if (notebookContainer) {{\n",
              "    x.observe(notebookContainer, {childList: true});\n",
              "}}\n",
              "\n",
              "// Listen for the clearing of the current output cell\n",
              "var outputEl = gd.closest('.output');\n",
              "if (outputEl) {{\n",
              "    x.observe(outputEl, {childList: true});\n",
              "}}\n",
              "\n",
              "                        })                };                            </script>        </div>\n",
              "</body>\n",
              "</html>"
            ]
          },
          "metadata": {}
        }
      ]
    },
    {
      "cell_type": "code",
      "metadata": {
        "colab": {
          "base_uri": "https://localhost:8080/",
          "height": 235
        },
        "id": "dKAdtNhEYiXO",
        "outputId": "7750dc5c-c511-4520-b627-72d53b20e530"
      },
      "source": [
        "exp.check_stats(model2b, test=\"white_noise\")"
      ],
      "execution_count": 22,
      "outputs": [
        {
          "output_type": "execute_result",
          "data": {
            "text/html": [
              "<div>\n",
              "<style scoped>\n",
              "    .dataframe tbody tr th:only-of-type {\n",
              "        vertical-align: middle;\n",
              "    }\n",
              "\n",
              "    .dataframe tbody tr th {\n",
              "        vertical-align: top;\n",
              "    }\n",
              "\n",
              "    .dataframe thead th {\n",
              "        text-align: right;\n",
              "    }\n",
              "</style>\n",
              "<table border=\"1\" class=\"dataframe\">\n",
              "  <thead>\n",
              "    <tr style=\"text-align: right;\">\n",
              "      <th></th>\n",
              "      <th>Test</th>\n",
              "      <th>Test Name</th>\n",
              "      <th>Property</th>\n",
              "      <th>Setting</th>\n",
              "      <th>Value</th>\n",
              "    </tr>\n",
              "  </thead>\n",
              "  <tbody>\n",
              "    <tr>\n",
              "      <th>0</th>\n",
              "      <td>White Noise</td>\n",
              "      <td>Ljung-Box</td>\n",
              "      <td>Test Statictic</td>\n",
              "      <td>{'alpha': 0.05, 'K': 24}</td>\n",
              "      <td>27.9957</td>\n",
              "    </tr>\n",
              "    <tr>\n",
              "      <th>1</th>\n",
              "      <td>White Noise</td>\n",
              "      <td>Ljung-Box</td>\n",
              "      <td>Test Statictic</td>\n",
              "      <td>{'alpha': 0.05, 'K': 48}</td>\n",
              "      <td>46.0732</td>\n",
              "    </tr>\n",
              "    <tr>\n",
              "      <th>2</th>\n",
              "      <td>White Noise</td>\n",
              "      <td>Ljung-Box</td>\n",
              "      <td>p-value</td>\n",
              "      <td>{'alpha': 0.05, 'K': 24}</td>\n",
              "      <td>0.260223</td>\n",
              "    </tr>\n",
              "    <tr>\n",
              "      <th>3</th>\n",
              "      <td>White Noise</td>\n",
              "      <td>Ljung-Box</td>\n",
              "      <td>p-value</td>\n",
              "      <td>{'alpha': 0.05, 'K': 48}</td>\n",
              "      <td>0.552117</td>\n",
              "    </tr>\n",
              "    <tr>\n",
              "      <th>4</th>\n",
              "      <td>White Noise</td>\n",
              "      <td>Ljung-Box</td>\n",
              "      <td>White Noise</td>\n",
              "      <td>{'alpha': 0.05, 'K': 24}</td>\n",
              "      <td>True</td>\n",
              "    </tr>\n",
              "    <tr>\n",
              "      <th>5</th>\n",
              "      <td>White Noise</td>\n",
              "      <td>Ljung-Box</td>\n",
              "      <td>White Noise</td>\n",
              "      <td>{'alpha': 0.05, 'K': 48}</td>\n",
              "      <td>True</td>\n",
              "    </tr>\n",
              "  </tbody>\n",
              "</table>\n",
              "</div>"
            ],
            "text/plain": [
              "          Test  Test Name        Property                   Setting     Value\n",
              "0  White Noise  Ljung-Box  Test Statictic  {'alpha': 0.05, 'K': 24}   27.9957\n",
              "1  White Noise  Ljung-Box  Test Statictic  {'alpha': 0.05, 'K': 48}   46.0732\n",
              "2  White Noise  Ljung-Box         p-value  {'alpha': 0.05, 'K': 24}  0.260223\n",
              "3  White Noise  Ljung-Box         p-value  {'alpha': 0.05, 'K': 48}  0.552117\n",
              "4  White Noise  Ljung-Box     White Noise  {'alpha': 0.05, 'K': 24}      True\n",
              "5  White Noise  Ljung-Box     White Noise  {'alpha': 0.05, 'K': 48}      True"
            ]
          },
          "metadata": {},
          "execution_count": 22
        }
      ]
    },
    {
      "cell_type": "code",
      "metadata": {
        "id": "MA6N6Am4YtFv"
      },
      "source": [
        "import numpy as np\n",
        "from sklearn.linear_model import LinearRegression"
      ],
      "execution_count": 23,
      "outputs": []
    },
    {
      "cell_type": "code",
      "metadata": {
        "colab": {
          "base_uri": "https://localhost:8080/"
        },
        "id": "NPAuqQp2aZ2T",
        "outputId": "c6bf33b0-9450-45f6-984f-975a2856caa1"
      },
      "source": [
        "X_train = np.arange(len(y_train)).reshape(-1, 1)\n",
        "reg = LinearRegression(fit_intercept=False).fit(X_train, y_train)\n",
        "print(reg.intercept_, reg.coef_)\n",
        "\n",
        "reg = LinearRegression(fit_intercept=True).fit(X_train, y_train)\n",
        "print(reg.intercept_, reg.coef_)"
      ],
      "execution_count": 24,
      "outputs": [
        {
          "output_type": "stream",
          "name": "stdout",
          "text": [
            "0.0 [0.91100847]\n",
            "182.49857476130083 [0.02652427]\n"
          ]
        }
      ]
    },
    {
      "cell_type": "code",
      "metadata": {
        "colab": {
          "base_uri": "https://localhost:8080/",
          "height": 542
        },
        "id": "7oFhu3hBabWq",
        "outputId": "256575ed-14b0-4476-9337-c5889de12875"
      },
      "source": [
        "plot_data = exp.plot_model(model2b, plot=\"residuals\", return_data=True)\n",
        "residuals = plot_data['data']"
      ],
      "execution_count": 25,
      "outputs": [
        {
          "output_type": "display_data",
          "data": {
            "text/html": [
              "<html>\n",
              "<head><meta charset=\"utf-8\" /></head>\n",
              "<body>\n",
              "    <div>            <script src=\"https://cdnjs.cloudflare.com/ajax/libs/mathjax/2.7.5/MathJax.js?config=TeX-AMS-MML_SVG\"></script><script type=\"text/javascript\">if (window.MathJax) {MathJax.Hub.Config({SVG: {font: \"STIX-Web\"}});}</script>                <script type=\"text/javascript\">window.PlotlyConfig = {MathJaxConfig: 'local'};</script>\n",
              "        <script src=\"https://cdn.plot.ly/plotly-2.6.3.min.js\"></script>                <div id=\"f13741b3-a0db-4131-a3bb-d6ae9e498221\" class=\"plotly-graph-div\" style=\"height:525px; width:100%;\"></div>            <script type=\"text/javascript\">                                    window.PLOTLYENV=window.PLOTLYENV || {};                                    if (document.getElementById(\"f13741b3-a0db-4131-a3bb-d6ae9e498221\")) {                    Plotly.newPlot(                        \"f13741b3-a0db-4131-a3bb-d6ae9e498221\",                        [{\"marker\":{\"color\":\"#3f3f3f\",\"size\":5},\"mode\":\"lines+markers\",\"name\":\"Residuals | ARIMA\",\"showlegend\":true,\"x\":[1,2,3,4,5,6,7,8,9,10,11,12,13,14,15,16,17,18,19,20,21,22,23,24,25,26,27,28,29,30,31,32,33,34,35,36,37,38,39,40,41,42,43,44,45,46,47,48,49,50,51,52,53,54,55,56,57,58,59,60,61,62,63,64,65,66,67,68,69,70,71,72,73,74,75,76,77,78,79,80,81,82,83,84,85,86,87,88,89,90,91,92,93,94,95,96,97,98,99,100,101,102,103,104,105,106,107,108,109,110,111,112,113,114,115,116,117,118,119,120,121,122,123,124,125,126,127,128,129,130,131,132,133,134,135,136,137,138,139,140,141,142,143,144,145,146,147,148,149,150,151,152,153,154,155,156,157,158,159,160,161,162,163,164,165,166,167,168,169,170,171,172,173,174,175,176,177,178,179,180,181,182,183,184,185,186,187,188,189,190,191,192,193,194,195,196,197,198,199,200,201,202,203,204,205,206,207,208,209,210,211,212,213,214,215,216,217,218,219,220,221,222,223,224,225,226,227,228,229,230,231,232,233,234,235,236,237,238,239,240,241,242,243,244,245,246,247,248,249,250,251,252,253,254,255,256,257,258,259,260,261,262,263,264,265,266,267,268,269,270,271,272,273,274,275,276,277,278,279,280,281,282,283,284,285,286,287,288,289,290,291,292,293,294,295,296,297,298,299,300,301,302,303,304,305,306,307,308,309],\"y\":[0.02194298233322911,-0.9310945393648353,0.13785588159220197,-0.6747575347308157,1.747114378561207,0.6965345852051996,0.8900013386831631,0.36401246701524315,1.6620031897071783,-0.6559093447608291,-0.4818176211718139,1.4121093477291993,-0.6708692441218318,-0.22755363441379473,-0.4129808202537788,-0.3401657593598202,-0.29928619378878807,0.47401544045618493,-0.19750337308181543,-0.5261303529258043,1.322865934358191,-0.23475229935780817,-0.19972942085581735,-0.12036363202480516,0.6924934162391878,-0.0937372949377675,-0.05780706227884025,-0.7018333695677939,-0.3444431630578322,0.03998754962219664,-0.6090673770717956,0.5113233018212213,-1.5385669725988578,0.28638496997822926,-1.5566227143498281,-0.321149017647798,-0.548452795256793,-0.6722676714928184,-0.07706966865981713,-1.9345323164918113,1.1564104212071982,-1.685145327023804,-0.48370329228379205,-1.136092995854824,-0.7709918920058101,2.066993654817196,-0.0027772711188163157,-1.306473421245812,-1.6607784252308022,0.43001421046119503,-0.03873272352677759,-0.3382412653558049,-0.9495350382658501,-1.507633200952796,-1.095365187427774,0.9798559129021669,-0.6414395856087935,-1.4045997381958273,1.8491177316112157,0.4049274865611494,-0.25881999172477776,1.0383101578972003,0.8662497605631927,-0.6394159390428342,2.1859295737282025,-0.2751999209528151,-1.444667541024785,-0.16457249276581365,0.18736544842019498,2.287805508248198,0.08562947708219326,0.43682591461120523,-0.09732582616882723,-0.3541737331777881,-0.05489891912282019,0.7674667148181982,2.055072117840183,1.0072195479521895,1.1877355075751836,-1.25149631237079,0.9637226792422098,0.19975191284919447,-1.487422919904816,0.5008498518361932,-0.17892749552780174,1.4444144211581715,-0.7862548904157904,-0.45038464474080797,-0.9462823881888198,-0.1972768522487911,0.3818388886741957,-0.7519210639308085,0.810200277169173,-1.2282556771158113,-1.068157303619813,1.4209848160322167,-1.0360203561157846,0.3918018215051404,-0.40124894192075544,0.38922894883916115,1.668700395392193,1.5664155426302102,-0.35108069149382004,-2.3054084261048047,2.4774886990221887,0.6468932759541985,0.5211544451522059,-0.033572413957813296,0.4899355321411747,-0.18454872258178057,0.4005217524421596,-0.42041963478877165,-1.3903807683598473,0.9676653766432253,1.4995721346881794,-0.3289134600377963,-1.27346264641983,0.6220684148662201,-0.06488202770580642,-1.7533912976368526,-0.018041031130792362,-0.650473224739784,-0.36114147067280555,-1.1767452534477911,1.7829690171061543,-0.3513049272037847,-1.6256863030648105,0.17702054792820832,0.24300275559318152,-1.0059995912208137,-2.909093562490824,-0.6606545933777852,0.5503347451091543,-0.0798961668547804,-0.11835163481680411,0.5406478378081943,-1.206631529390819,1.076604153462199,-0.02551691908982434,0.6871377765862405,1.0139348439251705,0.20330752410418995,-0.8988805036777876,1.1427916651551584,-2.020337835597786,-0.5649636308127981,-0.27584359996885155,-0.1862939275767701,1.0002910179721596,0.11604900229121995,0.3869947126111981,-0.08982770382380068,-0.26783723243184454,0.6753779158082125,1.1260554664042104,-2.4232691057038096,0.5525666644341811,0.35455151596619316,-0.4454406123678325,0.9308399167652226,-0.4094100725297949,-0.3045035526118056,0.8372368872681761,1.699454408309208,0.24988201012516242,-0.4423569005997763,-1.209286185670834,-0.3512058696917961,-0.9600022173218292,-0.2791054739297749,0.37420627740920054,-0.8720299828358122,2.6289939902831634,0.1358387848532061,1.110034376643199,-2.3092968706517922,0.7208282663841601,-1.3364180512637631,0.8996307867971609,0.37795726464020163,-0.42770147008181425,1.3040857393661724,-0.7214045600587724,-0.600787195052817,-1.0212450718368018,-0.6883514975658045,0.9250120625611942,0.41352925873420077,0.9849863268651973,-0.4102915548658359,0.35619740096319674,0.22399203367419318,-1.4464302331938086,1.7582563966631994,0.11427477012219356,0.7454261083461802,0.9349637860971995,-0.07073859225482693,-0.3259883105787935,0.8735008116141785,-1.0674710398727711,1.951164495412172,-0.4038049971007922,1.6339724114631906,1.4920398031391642,0.06279284277422903,0.5470480240391851,-1.044721370345826,0.3028336122101791,1.0234395675452106,0.07890559608520675,-0.474309799966818,-0.6759547432617978,-0.05609531343480967,1.0489885698652017,-0.5041478211128094,-0.14118300213982593,-1.3143128946317972,0.47413994520320557,1.2877286293021655,1.476868118590204,0.7945298400862271,-1.8899616810148245,0.46185661331216465,0.43596271248921425,-0.37357317664179845,0.15031658013617744,-0.8842088449387688,0.6590578832041842,-0.3472739054648173,-1.5892550759558333,-0.38762364698280294,1.344262038258222,-0.3544542555428336,0.7125771513971983,0.9264127493861736,-0.015774186485771224,-0.3724951963608305,-0.5498683999457796,0.7194163347631672,-1.0836303062948218,0.22603795272422644,-0.30967225737583703,-2.2850622472998054,-1.4290233468848044,0.8958464379811915,-0.21145184134778106,0.783110325322184,1.8673015724971833,1.4537082902972145,0.6570956015011973,0.3597897957541818,-0.21297131726882412,1.557718904093207,0.5760612185061973,-1.1937498316828226,-0.17581542570280817,-1.9390827110818236,-0.21543173692180062,-2.6125005607577805,1.293829276386191,-0.655715891843812,-0.4501517295058193,-0.18949122311380506,0.5920452831772138,0.6581672864101904,0.5477790816601953,-0.5927154947378312,-1.3834641470897964,-0.40889513514980536,0.2577412416381719,-0.8432540123837953,-0.08901382528981117,-1.1878352169418065,-0.028481905027803123,0.10868251078619551,-0.16604851927280606,-0.1840838475477824,1.7433791119731836,0.7424136216061754,1.0912581899192162,-0.9433798436418215,0.14416894761617982,1.1346522962852248,-0.07669431533784632,-2.149533539046786,0.32467287128719136,-1.9251283363968241,-0.8313430439517902,1.3038314304872074,0.5954639584911661,1.0714960647232203,0.28643197070215365,-0.1303316532947747,-0.9444856639387922,1.5727408629071817,0.02483770731015511,-0.7353012914798001,0.8450502089052065,1.0542680674661824,1.8754818833872378,-0.6231701944178383,-0.4110407115348096,-0.43639492234180466,-0.3958303136317909,-0.3868038365148152,-0.31585034351280683,1.4216475193881877,-0.7177111827247984],\"type\":\"scatter\"}],                        {\"title\":{\"text\":\"Residuals\"},\"xaxis\":{\"title\":{\"text\":\"Time\"}},\"yaxis\":{\"title\":{\"text\":\"Values\"}},\"template\":{\"data\":{\"barpolar\":[{\"marker\":{\"line\":{\"color\":\"rgb(237,237,237)\",\"width\":0.5},\"pattern\":{\"fillmode\":\"overlay\",\"size\":10,\"solidity\":0.2}},\"type\":\"barpolar\"}],\"bar\":[{\"error_x\":{\"color\":\"rgb(51,51,51)\"},\"error_y\":{\"color\":\"rgb(51,51,51)\"},\"marker\":{\"line\":{\"color\":\"rgb(237,237,237)\",\"width\":0.5},\"pattern\":{\"fillmode\":\"overlay\",\"size\":10,\"solidity\":0.2}},\"type\":\"bar\"}],\"carpet\":[{\"aaxis\":{\"endlinecolor\":\"rgb(51,51,51)\",\"gridcolor\":\"white\",\"linecolor\":\"white\",\"minorgridcolor\":\"white\",\"startlinecolor\":\"rgb(51,51,51)\"},\"baxis\":{\"endlinecolor\":\"rgb(51,51,51)\",\"gridcolor\":\"white\",\"linecolor\":\"white\",\"minorgridcolor\":\"white\",\"startlinecolor\":\"rgb(51,51,51)\"},\"type\":\"carpet\"}],\"choropleth\":[{\"colorbar\":{\"outlinewidth\":0,\"tickcolor\":\"rgb(237,237,237)\",\"ticklen\":6,\"ticks\":\"inside\"},\"type\":\"choropleth\"}],\"contourcarpet\":[{\"colorbar\":{\"outlinewidth\":0,\"tickcolor\":\"rgb(237,237,237)\",\"ticklen\":6,\"ticks\":\"inside\"},\"type\":\"contourcarpet\"}],\"contour\":[{\"colorbar\":{\"outlinewidth\":0,\"tickcolor\":\"rgb(237,237,237)\",\"ticklen\":6,\"ticks\":\"inside\"},\"colorscale\":[[0,\"rgb(20,44,66)\"],[1,\"rgb(90,179,244)\"]],\"type\":\"contour\"}],\"heatmapgl\":[{\"colorbar\":{\"outlinewidth\":0,\"tickcolor\":\"rgb(237,237,237)\",\"ticklen\":6,\"ticks\":\"inside\"},\"colorscale\":[[0,\"rgb(20,44,66)\"],[1,\"rgb(90,179,244)\"]],\"type\":\"heatmapgl\"}],\"heatmap\":[{\"colorbar\":{\"outlinewidth\":0,\"tickcolor\":\"rgb(237,237,237)\",\"ticklen\":6,\"ticks\":\"inside\"},\"colorscale\":[[0,\"rgb(20,44,66)\"],[1,\"rgb(90,179,244)\"]],\"type\":\"heatmap\"}],\"histogram2dcontour\":[{\"colorbar\":{\"outlinewidth\":0,\"tickcolor\":\"rgb(237,237,237)\",\"ticklen\":6,\"ticks\":\"inside\"},\"colorscale\":[[0,\"rgb(20,44,66)\"],[1,\"rgb(90,179,244)\"]],\"type\":\"histogram2dcontour\"}],\"histogram2d\":[{\"colorbar\":{\"outlinewidth\":0,\"tickcolor\":\"rgb(237,237,237)\",\"ticklen\":6,\"ticks\":\"inside\"},\"colorscale\":[[0,\"rgb(20,44,66)\"],[1,\"rgb(90,179,244)\"]],\"type\":\"histogram2d\"}],\"histogram\":[{\"marker\":{\"pattern\":{\"fillmode\":\"overlay\",\"size\":10,\"solidity\":0.2}},\"type\":\"histogram\"}],\"mesh3d\":[{\"colorbar\":{\"outlinewidth\":0,\"tickcolor\":\"rgb(237,237,237)\",\"ticklen\":6,\"ticks\":\"inside\"},\"type\":\"mesh3d\"}],\"parcoords\":[{\"line\":{\"colorbar\":{\"outlinewidth\":0,\"tickcolor\":\"rgb(237,237,237)\",\"ticklen\":6,\"ticks\":\"inside\"}},\"type\":\"parcoords\"}],\"pie\":[{\"automargin\":true,\"type\":\"pie\"}],\"scatter3d\":[{\"line\":{\"colorbar\":{\"outlinewidth\":0,\"tickcolor\":\"rgb(237,237,237)\",\"ticklen\":6,\"ticks\":\"inside\"}},\"marker\":{\"colorbar\":{\"outlinewidth\":0,\"tickcolor\":\"rgb(237,237,237)\",\"ticklen\":6,\"ticks\":\"inside\"}},\"type\":\"scatter3d\"}],\"scattercarpet\":[{\"marker\":{\"colorbar\":{\"outlinewidth\":0,\"tickcolor\":\"rgb(237,237,237)\",\"ticklen\":6,\"ticks\":\"inside\"}},\"type\":\"scattercarpet\"}],\"scattergeo\":[{\"marker\":{\"colorbar\":{\"outlinewidth\":0,\"tickcolor\":\"rgb(237,237,237)\",\"ticklen\":6,\"ticks\":\"inside\"}},\"type\":\"scattergeo\"}],\"scattergl\":[{\"marker\":{\"colorbar\":{\"outlinewidth\":0,\"tickcolor\":\"rgb(237,237,237)\",\"ticklen\":6,\"ticks\":\"inside\"}},\"type\":\"scattergl\"}],\"scattermapbox\":[{\"marker\":{\"colorbar\":{\"outlinewidth\":0,\"tickcolor\":\"rgb(237,237,237)\",\"ticklen\":6,\"ticks\":\"inside\"}},\"type\":\"scattermapbox\"}],\"scatterpolargl\":[{\"marker\":{\"colorbar\":{\"outlinewidth\":0,\"tickcolor\":\"rgb(237,237,237)\",\"ticklen\":6,\"ticks\":\"inside\"}},\"type\":\"scatterpolargl\"}],\"scatterpolar\":[{\"marker\":{\"colorbar\":{\"outlinewidth\":0,\"tickcolor\":\"rgb(237,237,237)\",\"ticklen\":6,\"ticks\":\"inside\"}},\"type\":\"scatterpolar\"}],\"scatter\":[{\"marker\":{\"colorbar\":{\"outlinewidth\":0,\"tickcolor\":\"rgb(237,237,237)\",\"ticklen\":6,\"ticks\":\"inside\"}},\"type\":\"scatter\"}],\"scatterternary\":[{\"marker\":{\"colorbar\":{\"outlinewidth\":0,\"tickcolor\":\"rgb(237,237,237)\",\"ticklen\":6,\"ticks\":\"inside\"}},\"type\":\"scatterternary\"}],\"surface\":[{\"colorbar\":{\"outlinewidth\":0,\"tickcolor\":\"rgb(237,237,237)\",\"ticklen\":6,\"ticks\":\"inside\"},\"colorscale\":[[0,\"rgb(20,44,66)\"],[1,\"rgb(90,179,244)\"]],\"type\":\"surface\"}],\"table\":[{\"cells\":{\"fill\":{\"color\":\"rgb(237,237,237)\"},\"line\":{\"color\":\"white\"}},\"header\":{\"fill\":{\"color\":\"rgb(217,217,217)\"},\"line\":{\"color\":\"white\"}},\"type\":\"table\"}]},\"layout\":{\"annotationdefaults\":{\"arrowhead\":0,\"arrowwidth\":1},\"autotypenumbers\":\"strict\",\"coloraxis\":{\"colorbar\":{\"outlinewidth\":0,\"tickcolor\":\"rgb(237,237,237)\",\"ticklen\":6,\"ticks\":\"inside\"}},\"colorscale\":{\"sequential\":[[0,\"rgb(20,44,66)\"],[1,\"rgb(90,179,244)\"]],\"sequentialminus\":[[0,\"rgb(20,44,66)\"],[1,\"rgb(90,179,244)\"]]},\"colorway\":[\"#F8766D\",\"#A3A500\",\"#00BF7D\",\"#00B0F6\",\"#E76BF3\"],\"font\":{\"color\":\"rgb(51,51,51)\"},\"geo\":{\"bgcolor\":\"white\",\"lakecolor\":\"white\",\"landcolor\":\"rgb(237,237,237)\",\"showlakes\":true,\"showland\":true,\"subunitcolor\":\"white\"},\"hoverlabel\":{\"align\":\"left\"},\"hovermode\":\"closest\",\"paper_bgcolor\":\"white\",\"plot_bgcolor\":\"rgb(237,237,237)\",\"polar\":{\"angularaxis\":{\"gridcolor\":\"white\",\"linecolor\":\"white\",\"showgrid\":true,\"tickcolor\":\"rgb(51,51,51)\",\"ticks\":\"outside\"},\"bgcolor\":\"rgb(237,237,237)\",\"radialaxis\":{\"gridcolor\":\"white\",\"linecolor\":\"white\",\"showgrid\":true,\"tickcolor\":\"rgb(51,51,51)\",\"ticks\":\"outside\"}},\"scene\":{\"xaxis\":{\"backgroundcolor\":\"rgb(237,237,237)\",\"gridcolor\":\"white\",\"gridwidth\":2,\"linecolor\":\"white\",\"showbackground\":true,\"showgrid\":true,\"tickcolor\":\"rgb(51,51,51)\",\"ticks\":\"outside\",\"zerolinecolor\":\"white\"},\"yaxis\":{\"backgroundcolor\":\"rgb(237,237,237)\",\"gridcolor\":\"white\",\"gridwidth\":2,\"linecolor\":\"white\",\"showbackground\":true,\"showgrid\":true,\"tickcolor\":\"rgb(51,51,51)\",\"ticks\":\"outside\",\"zerolinecolor\":\"white\"},\"zaxis\":{\"backgroundcolor\":\"rgb(237,237,237)\",\"gridcolor\":\"white\",\"gridwidth\":2,\"linecolor\":\"white\",\"showbackground\":true,\"showgrid\":true,\"tickcolor\":\"rgb(51,51,51)\",\"ticks\":\"outside\",\"zerolinecolor\":\"white\"}},\"shapedefaults\":{\"fillcolor\":\"black\",\"line\":{\"width\":0},\"opacity\":0.3},\"ternary\":{\"aaxis\":{\"gridcolor\":\"white\",\"linecolor\":\"white\",\"showgrid\":true,\"tickcolor\":\"rgb(51,51,51)\",\"ticks\":\"outside\"},\"baxis\":{\"gridcolor\":\"white\",\"linecolor\":\"white\",\"showgrid\":true,\"tickcolor\":\"rgb(51,51,51)\",\"ticks\":\"outside\"},\"bgcolor\":\"rgb(237,237,237)\",\"caxis\":{\"gridcolor\":\"white\",\"linecolor\":\"white\",\"showgrid\":true,\"tickcolor\":\"rgb(51,51,51)\",\"ticks\":\"outside\"}},\"xaxis\":{\"automargin\":true,\"gridcolor\":\"white\",\"linecolor\":\"white\",\"showgrid\":true,\"tickcolor\":\"rgb(51,51,51)\",\"ticks\":\"outside\",\"title\":{\"standoff\":15},\"zerolinecolor\":\"white\"},\"yaxis\":{\"automargin\":true,\"gridcolor\":\"white\",\"linecolor\":\"white\",\"showgrid\":true,\"tickcolor\":\"rgb(51,51,51)\",\"ticks\":\"outside\",\"title\":{\"standoff\":15},\"zerolinecolor\":\"white\"}}},\"showlegend\":true},                        {\"responsive\": true}                    ).then(function(){\n",
              "                            \n",
              "var gd = document.getElementById('f13741b3-a0db-4131-a3bb-d6ae9e498221');\n",
              "var x = new MutationObserver(function (mutations, observer) {{\n",
              "        var display = window.getComputedStyle(gd).display;\n",
              "        if (!display || display === 'none') {{\n",
              "            console.log([gd, 'removed!']);\n",
              "            Plotly.purge(gd);\n",
              "            observer.disconnect();\n",
              "        }}\n",
              "}});\n",
              "\n",
              "// Listen for the removal of the full notebook cells\n",
              "var notebookContainer = gd.closest('#notebook-container');\n",
              "if (notebookContainer) {{\n",
              "    x.observe(notebookContainer, {childList: true});\n",
              "}}\n",
              "\n",
              "// Listen for the clearing of the current output cell\n",
              "var outputEl = gd.closest('.output');\n",
              "if (outputEl) {{\n",
              "    x.observe(outputEl, {childList: true});\n",
              "}}\n",
              "\n",
              "                        })                };                            </script>        </div>\n",
              "</body>\n",
              "</html>"
            ]
          },
          "metadata": {}
        }
      ]
    },
    {
      "cell_type": "code",
      "metadata": {
        "colab": {
          "base_uri": "https://localhost:8080/"
        },
        "id": "DkGrcatCbbk0",
        "outputId": "91cff315-8154-45f6-c136-862a55c64031"
      },
      "source": [
        "X_train = np.arange(len(residuals)).reshape(-1, 1)\n",
        "reg = LinearRegression(fit_intercept=False).fit(X_train, residuals)\n",
        "print(reg.intercept_, reg.coef_)\n",
        "\n",
        "reg = LinearRegression(fit_intercept=True).fit(X_train, residuals)\n",
        "print(reg.intercept_, reg.coef_)"
      ],
      "execution_count": 26,
      "outputs": [
        {
          "output_type": "stream",
          "name": "stdout",
          "text": [
            "0.0 [8.83263796e-05]\n",
            "-0.054145780235225434 [0.0003516]\n"
          ]
        }
      ]
    },
    {
      "cell_type": "code",
      "metadata": {
        "colab": {
          "base_uri": "https://localhost:8080/",
          "height": 272
        },
        "id": "CdxostGxb2Oo",
        "outputId": "75563003-5e4a-4e38-9330-ca05dc170fa4"
      },
      "source": [
        "model = exp.create_model(\"arima\", order=(0, 1, 0), seasonal_order=(0, 0, 0, 0), with_intercept=True, trend='ct')\n",
        "model"
      ],
      "execution_count": 27,
      "outputs": [
        {
          "output_type": "display_data",
          "data": {
            "text/html": [
              "<div>\n",
              "<style scoped>\n",
              "    .dataframe tbody tr th:only-of-type {\n",
              "        vertical-align: middle;\n",
              "    }\n",
              "\n",
              "    .dataframe tbody tr th {\n",
              "        vertical-align: top;\n",
              "    }\n",
              "\n",
              "    .dataframe thead th {\n",
              "        text-align: right;\n",
              "    }\n",
              "</style>\n",
              "<table border=\"1\" class=\"dataframe\">\n",
              "  <thead>\n",
              "    <tr style=\"text-align: right;\">\n",
              "      <th></th>\n",
              "      <th>cutoff</th>\n",
              "      <th>MAE</th>\n",
              "      <th>RMSE</th>\n",
              "      <th>MAPE</th>\n",
              "      <th>SMAPE</th>\n",
              "      <th>R2</th>\n",
              "    </tr>\n",
              "  </thead>\n",
              "  <tbody>\n",
              "    <tr>\n",
              "      <th>0</th>\n",
              "      <td>219.0</td>\n",
              "      <td>1.7743</td>\n",
              "      <td>2.3436</td>\n",
              "      <td>0.0093</td>\n",
              "      <td>0.0093</td>\n",
              "      <td>-1.8035</td>\n",
              "    </tr>\n",
              "    <tr>\n",
              "      <th>1</th>\n",
              "      <td>249.0</td>\n",
              "      <td>3.4014</td>\n",
              "      <td>3.9197</td>\n",
              "      <td>0.0179</td>\n",
              "      <td>0.0177</td>\n",
              "      <td>-1.6107</td>\n",
              "    </tr>\n",
              "    <tr>\n",
              "      <th>2</th>\n",
              "      <td>279.0</td>\n",
              "      <td>1.3269</td>\n",
              "      <td>1.6169</td>\n",
              "      <td>0.0069</td>\n",
              "      <td>0.0070</td>\n",
              "      <td>0.0417</td>\n",
              "    </tr>\n",
              "    <tr>\n",
              "      <th>Mean</th>\n",
              "      <td>NaN</td>\n",
              "      <td>2.1675</td>\n",
              "      <td>2.6267</td>\n",
              "      <td>0.0114</td>\n",
              "      <td>0.0113</td>\n",
              "      <td>-1.1241</td>\n",
              "    </tr>\n",
              "    <tr>\n",
              "      <th>SD</th>\n",
              "      <td>NaN</td>\n",
              "      <td>0.8914</td>\n",
              "      <td>0.9612</td>\n",
              "      <td>0.0047</td>\n",
              "      <td>0.0046</td>\n",
              "      <td>0.8281</td>\n",
              "    </tr>\n",
              "  </tbody>\n",
              "</table>\n",
              "</div>"
            ],
            "text/plain": [
              "      cutoff     MAE    RMSE    MAPE   SMAPE      R2\n",
              "0      219.0  1.7743  2.3436  0.0093  0.0093 -1.8035\n",
              "1      249.0  3.4014  3.9197  0.0179  0.0177 -1.6107\n",
              "2      279.0  1.3269  1.6169  0.0069  0.0070  0.0417\n",
              "Mean     NaN  2.1675  2.6267  0.0114  0.0113 -1.1241\n",
              "SD       NaN  0.8914  0.9612  0.0047  0.0046  0.8281"
            ]
          },
          "metadata": {}
        },
        {
          "output_type": "execute_result",
          "data": {
            "text/plain": [
              "ARIMA(maxiter=50, method='lbfgs', order=(0, 1, 0), out_of_sample_size=0,\n",
              "      scoring='mse', scoring_args=None, seasonal_order=(0, 0, 0, 0),\n",
              "      start_params=None, suppress_warnings=False, trend='ct',\n",
              "      with_intercept=True)"
            ]
          },
          "metadata": {},
          "execution_count": 27
        }
      ]
    },
    {
      "cell_type": "code",
      "metadata": {
        "colab": {
          "base_uri": "https://localhost:8080/",
          "height": 423
        },
        "id": "YwoNhfRCcuQn",
        "outputId": "5f1c152b-c0ad-472d-816f-9dfcc3284a0d"
      },
      "source": [
        "model.summary()"
      ],
      "execution_count": 28,
      "outputs": [
        {
          "output_type": "execute_result",
          "data": {
            "text/html": [
              "<table class=\"simpletable\">\n",
              "<caption>SARIMAX Results</caption>\n",
              "<tr>\n",
              "  <th>Dep. Variable:</th>           <td>y</td>        <th>  No. Observations:  </th>    <td>310</td>  \n",
              "</tr>\n",
              "<tr>\n",
              "  <th>Model:</th>           <td>SARIMAX(0, 1, 0)</td> <th>  Log Likelihood     </th> <td>-434.985</td>\n",
              "</tr>\n",
              "<tr>\n",
              "  <th>Date:</th>            <td>Wed, 17 Nov 2021</td> <th>  AIC                </th>  <td>875.971</td>\n",
              "</tr>\n",
              "<tr>\n",
              "  <th>Time:</th>                <td>20:21:16</td>     <th>  BIC                </th>  <td>887.171</td>\n",
              "</tr>\n",
              "<tr>\n",
              "  <th>Sample:</th>                  <td>0</td>        <th>  HQIC               </th>  <td>880.448</td>\n",
              "</tr>\n",
              "<tr>\n",
              "  <th></th>                      <td> - 310</td>      <th>                     </th>     <td> </td>   \n",
              "</tr>\n",
              "<tr>\n",
              "  <th>Covariance Type:</th>        <td>opg</td>       <th>                     </th>     <td> </td>   \n",
              "</tr>\n",
              "</table>\n",
              "<table class=\"simpletable\">\n",
              "<tr>\n",
              "      <td></td>         <th>coef</th>     <th>std err</th>      <th>z</th>      <th>P>|z|</th>  <th>[0.025</th>    <th>0.975]</th>  \n",
              "</tr>\n",
              "<tr>\n",
              "  <th>intercept</th> <td>   -0.0343</td> <td>    0.117</td> <td>   -0.292</td> <td> 0.770</td> <td>   -0.264</td> <td>    0.196</td>\n",
              "</tr>\n",
              "<tr>\n",
              "  <th>drift</th>     <td>    0.0004</td> <td>    0.001</td> <td>    0.530</td> <td> 0.596</td> <td>   -0.001</td> <td>    0.002</td>\n",
              "</tr>\n",
              "<tr>\n",
              "  <th>sigma2</th>    <td>    0.9778</td> <td>    0.081</td> <td>   12.141</td> <td> 0.000</td> <td>    0.820</td> <td>    1.136</td>\n",
              "</tr>\n",
              "</table>\n",
              "<table class=\"simpletable\">\n",
              "<tr>\n",
              "  <th>Ljung-Box (L1) (Q):</th>     <td>1.03</td> <th>  Jarque-Bera (JB):  </th> <td>0.12</td> \n",
              "</tr>\n",
              "<tr>\n",
              "  <th>Prob(Q):</th>                <td>0.31</td> <th>  Prob(JB):          </th> <td>0.94</td> \n",
              "</tr>\n",
              "<tr>\n",
              "  <th>Heteroskedasticity (H):</th> <td>0.99</td> <th>  Skew:              </th> <td>-0.04</td>\n",
              "</tr>\n",
              "<tr>\n",
              "  <th>Prob(H) (two-sided):</th>    <td>0.96</td> <th>  Kurtosis:          </th> <td>2.96</td> \n",
              "</tr>\n",
              "</table><br/><br/>Warnings:<br/>[1] Covariance matrix calculated using the outer product of gradients (complex-step)."
            ],
            "text/plain": [
              "<class 'statsmodels.iolib.summary.Summary'>\n",
              "\"\"\"\n",
              "                               SARIMAX Results                                \n",
              "==============================================================================\n",
              "Dep. Variable:                      y   No. Observations:                  310\n",
              "Model:               SARIMAX(0, 1, 0)   Log Likelihood                -434.985\n",
              "Date:                Wed, 17 Nov 2021   AIC                            875.971\n",
              "Time:                        20:21:16   BIC                            887.171\n",
              "Sample:                             0   HQIC                           880.448\n",
              "                                - 310                                         \n",
              "Covariance Type:                  opg                                         \n",
              "==============================================================================\n",
              "                 coef    std err          z      P>|z|      [0.025      0.975]\n",
              "------------------------------------------------------------------------------\n",
              "intercept     -0.0343      0.117     -0.292      0.770      -0.264       0.196\n",
              "drift          0.0004      0.001      0.530      0.596      -0.001       0.002\n",
              "sigma2         0.9778      0.081     12.141      0.000       0.820       1.136\n",
              "===================================================================================\n",
              "Ljung-Box (L1) (Q):                   1.03   Jarque-Bera (JB):                 0.12\n",
              "Prob(Q):                              0.31   Prob(JB):                         0.94\n",
              "Heteroskedasticity (H):               0.99   Skew:                            -0.04\n",
              "Prob(H) (two-sided):                  0.96   Kurtosis:                         2.96\n",
              "===================================================================================\n",
              "\n",
              "Warnings:\n",
              "[1] Covariance matrix calculated using the outer product of gradients (complex-step).\n",
              "\"\"\""
            ]
          },
          "metadata": {},
          "execution_count": 28
        }
      ]
    },
    {
      "cell_type": "code",
      "metadata": {
        "colab": {
          "base_uri": "https://localhost:8080/",
          "height": 1000
        },
        "id": "If0RILhQcxMk",
        "outputId": "bd7d821e-1e4c-48f1-89e4-1bfa05447d74"
      },
      "source": [
        "plot_predictions(model)"
      ],
      "execution_count": 29,
      "outputs": [
        {
          "output_type": "display_data",
          "data": {
            "text/html": [
              "<html>\n",
              "<head><meta charset=\"utf-8\" /></head>\n",
              "<body>\n",
              "    <div>            <script src=\"https://cdnjs.cloudflare.com/ajax/libs/mathjax/2.7.5/MathJax.js?config=TeX-AMS-MML_SVG\"></script><script type=\"text/javascript\">if (window.MathJax) {MathJax.Hub.Config({SVG: {font: \"STIX-Web\"}});}</script>                <script type=\"text/javascript\">window.PlotlyConfig = {MathJaxConfig: 'local'};</script>\n",
              "        <script src=\"https://cdn.plot.ly/plotly-2.6.3.min.js\"></script>                <div id=\"af7d43d9-2058-4a7d-b483-ffca1d311f92\" class=\"plotly-graph-div\" style=\"height:525px; width:100%;\"></div>            <script type=\"text/javascript\">                                    window.PLOTLYENV=window.PLOTLYENV || {};                                    if (document.getElementById(\"af7d43d9-2058-4a7d-b483-ffca1d311f92\")) {                    Plotly.newPlot(                        \"af7d43d9-2058-4a7d-b483-ffca1d311f92\",                        [{\"line\":{\"color\":\"#1f77b4\"},\"marker\":{\"size\":5},\"mode\":\"lines+markers\",\"name\":\"Forecast | ARIMA\",\"showlegend\":true,\"x\":[310,311,312,313,314,315,316,317,318,319,320,321,322,323,324,325,326,327,328,329,330,331,332,333,334,335,336,337,338,339],\"y\":[192.5765,192.6515,192.7269,192.8026,192.8787,192.9551,193.0319,193.109,193.1865,193.2643,193.3425,193.421,193.4999,193.5792,193.6588,193.7387,193.819,193.8997,193.9807,194.062,194.1437,194.2258,194.3082,194.3909,194.474,194.5575,194.6413,194.7255,194.81,194.8948],\"type\":\"scatter\"},{\"line\":{\"width\":0},\"marker\":{\"color\":\"#68BBE3\"},\"mode\":\"lines\",\"name\":\"Lower Interval\",\"showlegend\":false,\"x\":[310,311,312,313,314,315,316,317,318,319,320,321,322,323,324,325,326,327,328,329,330,331,332,333,334,335,336,337,338,339],\"y\":[190.6384,189.9106,189.37,188.9264,188.5449,188.2077,187.9041,187.6272,187.3722,187.1355,186.9146,186.7073,186.512,186.3275,186.1525,185.9863,185.828,185.677,185.5327,185.3946,185.2622,185.1353,185.0134,184.8962,184.7835,184.6751,184.5707,184.47,184.373,184.2794],\"type\":\"scatter\"},{\"fill\":\"tonexty\",\"fillcolor\":\"rgba(104,187,227,0.5)\",\"line\":{\"width\":0},\"marker\":{\"color\":\"#68BBE3\"},\"mode\":\"lines\",\"name\":\"Prediction Interval | ARIMA\",\"showlegend\":true,\"x\":[310,311,312,313,314,315,316,317,318,319,320,321,322,323,324,325,326,327,328,329,330,331,332,333,334,335,336,337,338,339],\"y\":[194.5146,195.3924,196.0837,196.6788,197.2124,197.7024,198.1596,198.5908,199.0008,199.3931,199.7704,200.1348,200.4878,200.8309,201.165,201.4911,201.81,202.1223,202.4286,202.7294,203.0252,203.3162,203.603,203.8856,204.1645,204.4399,204.712,204.9809,205.247,205.5102],\"type\":\"scatter\"},{\"marker\":{\"color\":\"#3f3f3f\",\"size\":5},\"mode\":\"lines+markers\",\"name\":\"Original\",\"showlegend\":true,\"x\":[0,1,2,3,4,5,6,7,8,9,10,11,12,13,14,15,16,17,18,19,20,21,22,23,24,25,26,27,28,29,30,31,32,33,34,35,36,37,38,39,40,41,42,43,44,45,46,47,48,49,50,51,52,53,54,55,56,57,58,59,60,61,62,63,64,65,66,67,68,69,70,71,72,73,74,75,76,77,78,79,80,81,82,83,84,85,86,87,88,89,90,91,92,93,94,95,96,97,98,99,100,101,102,103,104,105,106,107,108,109,110,111,112,113,114,115,116,117,118,119,120,121,122,123,124,125,126,127,128,129,130,131,132,133,134,135,136,137,138,139,140,141,142,143,144,145,146,147,148,149,150,151,152,153,154,155,156,157,158,159,160,161,162,163,164,165,166,167,168,169,170,171,172,173,174,175,176,177,178,179,180,181,182,183,184,185,186,187,188,189,190,191,192,193,194,195,196,197,198,199,200,201,202,203,204,205,206,207,208,209,210,211,212,213,214,215,216,217,218,219,220,221,222,223,224,225,226,227,228,229,230,231,232,233,234,235,236,237,238,239,240,241,242,243,244,245,246,247,248,249,250,251,252,253,254,255,256,257,258,259,260,261,262,263,264,265,266,267,268,269,270,271,272,273,274,275,276,277,278,279,280,281,282,283,284,285,286,287,288,289,290,291,292,293,294,295,296,297,298,299,300,301,302,303,304,305,306,307,308,309,310,311,312,313,314,315,316,317,318,319,320,321,322,323,324,325,326,327,328,329,330,331,332,333,334,335,336,337,338,339],\"y\":[186.268370014241,186.31048588738602,185.399564238833,185.557593011237,184.903008367318,186.670295636691,187.38700311270802,188.29717734220299,188.68136270003004,190.36353878054902,189.7278023266,189.26615759624,190.698439834781,190.04774348147097,189.840362737869,189.44755480842701,189.127561939879,188.84844863690202,189.34263696817,189.1653064859,188.659349023786,190.002387848956,189.78780844041,189.608251910366,189.508061169153,190.220727476204,190.14716307207803,190.109528900611,189.427868421855,189.10359814960898,189.163758590043,188.574864103783,189.10636029641603,187.58796621462898,187.894524075419,186.358074251881,186.057098125045,185.52881822060002,184.876723439919,184.819826662071,182.905467236391,184.08205054841,182.417078112198,181.953547710726,180.837627605683,180.086808604489,182.173975150118,182.191370769811,180.90507023937698,179.264464704958,179.714651806231,179.69609197351602,179.37802359897202,178.44866145151798,176.961201141377,175.88600884476102,176.886037648475,176.264770953678,174.880344106294,176.749634728717,177.17473510608997,176.936088005177,177.994571053886,178.880993705261,178.26175065702998,180.46785312157,180.21282609142898,178.788331441216,178.643931839262,178.851470178494,181.159448577554,181.265250945448,181.72224975087101,181.645096815514,181.311095973148,181.276369944837,182.064009550467,184.139254559119,185.166646997883,186.37455539626998,185.143231974711,186.12712754476502,186.34705234842602,184.879802319333,185.400825061981,185.24207045726502,186.706657769235,185.940575769631,185.510364015702,184.584254518325,184.407150556888,184.80916233637402,184.077414163255,184.907787331236,183.699704544932,182.65172013212398,184.092877838968,183.07703037366403,183.48900508598098,183.10792903487203,183.517330874523,185.206204160727,186.79279259416901,186.461884793487,184.176649258194,186.674310848028,187.341377014794,187.88270435075802,187.869304827612,188.379413250565,188.21503741879502,188.635732062049,188.23548531807202,186.86527744052398,187.85311570797901,189.372860733479,189.064120164253,187.810830408645,188.45307171432302,188.40836257742902,186.67514417060397,186.677276030285,186.046975696357,185.706007116496,184.54943475386003,186.352576661778,186.021444625386,184.415931213133,184.61312465187302,184.876300298278,183.890473597869,181.00155292619,180.361071223624,180.93157885954497,180.871855583502,180.773676839497,181.334497568117,180.148038929538,181.244815973812,181.23947194553398,181.94678261293203,182.980890347669,183.204370762585,182.32566314971902,183.48862770568599,181.4884627609,180.94367202089902,180.68800131174197,180.521880274977,181.54234418376097,181.678566076864,182.085733680287,182.016078867275,181.76841452565498,182.463965332275,183.610193689491,181.207097474599,181.779837029845,182.154561436623,181.72929371506697,182.680306522644,182.29106934092601,182.00673867912602,182.864148457206,184.58377575632701,184.85383065726398,184.43164664747601,183.242533352617,182.911500373737,181.97167104722698,181.712738464109,182.10711763233002,181.255260540306,183.90442742140098,184.060439097066,185.190646364521,182.90152238468102,183.64252354187698,182.32627838142503,183.246082059034,183.644212214486,183.236683635216,184.56094226539398,183.859710596147,183.279096291906,182.278024110881,181.609845504127,182.5550304575,182.98873260704602,183.99389182472302,183.603773160669,183.980143452444,184.22430837693,182.798051034548,184.576480322023,184.710927982957,185.476526982115,186.431663659024,186.38109795758098,186.075282537814,186.96895624023998,185.921658091179,187.892995477403,187.509363371114,189.163508673389,190.67572136733997,190.758687100926,191.325908015777,190.30135953624298,190.62436603926497,191.667978497622,191.767056984519,191.312920075364,190.657138222914,190.621215800291,191.690377260968,191.206402330667,191.08539221933898,189.791252215519,190.285565051534,191.59346657164798,193.09050758105,193.90521031194803,192.035421521745,192.51745102586898,192.97358662917,192.62018634334,192.790675814288,191.92663986016103,192.60587063417702,192.278769619524,190.70968743438,190.342236678209,191.70667160727902,191.372390242548,192.105140284757,193.05172592495498,193.05612462928102,192.703802323732,192.17410681459802,192.913696040173,191.85023862468998,192.096449468226,191.80695010166198,189.54206074517398,188.133210289101,189.04922961789399,188.857950667358,189.661233883492,191.548708346801,193.02258952791001,193.69985802022302,194.079820706789,193.887022280332,195.464914075237,196.061148184555,194.887571243684,194.731928708793,192.81301888852298,192.61776004241298,190.025432372467,191.339434539665,190.703891538633,190.273912699939,190.104594367637,190.716812541626,191.395152718848,191.96310469132,191.390562087394,190.027270831116,189.638548586778,189.91646271922798,189.093381597656,189.024540663178,187.856878337048,187.848569322832,187.97742472443,187.831549095969,187.66763813923302,189.431190142018,190.193776654436,191.30520773516702,190.382000782337,190.546342620765,191.70116780786202,191.64464638333598,189.515285735101,189.8601314972,187.95517605161498,187.144005898475,188.46801021977402,189.083647069077,190.17531602461202,190.48192088612598,190.371762123643,189.44744935051602,191.040363104235,191.08537370235697,190.37024530168898,191.235468401406,192.30990935968399,194.20556413388303,193.602566830277,193.211699009554,192.795476978024,192.41981955520401,192.053188609501,191.7575111568,193.199331567,192.501793275087,192.113625769166,192.76616222133703,193.890934667873,193.11882386484902,192.61073764871003,193.13435823920798,194.152112465746,193.900947877658,192.47095443027,194.18007546237098,195.615145034682,194.904773888832,194.839706315177,193.08023757981098,193.64996055163002,195.262307349832,193.625026702727,192.845458189525,192.204281255775,191.523149862204,189.489864266586,189.990827825834,188.459029685868,188.43403204659,189.027016767615,188.82882134612998,189.720829738604,189.695114667686,189.04745421709998,189.693813632135],\"type\":\"scatter\"}],                        {\"title\":{\"text\":\"Actual vs. 'Out-of-Sample' Forecast | x\"},\"xaxis\":{\"title\":{\"text\":\"Time\"}},\"yaxis\":{\"title\":{\"text\":\"Values\"}},\"template\":{\"data\":{\"barpolar\":[{\"marker\":{\"line\":{\"color\":\"rgb(237,237,237)\",\"width\":0.5},\"pattern\":{\"fillmode\":\"overlay\",\"size\":10,\"solidity\":0.2}},\"type\":\"barpolar\"}],\"bar\":[{\"error_x\":{\"color\":\"rgb(51,51,51)\"},\"error_y\":{\"color\":\"rgb(51,51,51)\"},\"marker\":{\"line\":{\"color\":\"rgb(237,237,237)\",\"width\":0.5},\"pattern\":{\"fillmode\":\"overlay\",\"size\":10,\"solidity\":0.2}},\"type\":\"bar\"}],\"carpet\":[{\"aaxis\":{\"endlinecolor\":\"rgb(51,51,51)\",\"gridcolor\":\"white\",\"linecolor\":\"white\",\"minorgridcolor\":\"white\",\"startlinecolor\":\"rgb(51,51,51)\"},\"baxis\":{\"endlinecolor\":\"rgb(51,51,51)\",\"gridcolor\":\"white\",\"linecolor\":\"white\",\"minorgridcolor\":\"white\",\"startlinecolor\":\"rgb(51,51,51)\"},\"type\":\"carpet\"}],\"choropleth\":[{\"colorbar\":{\"outlinewidth\":0,\"tickcolor\":\"rgb(237,237,237)\",\"ticklen\":6,\"ticks\":\"inside\"},\"type\":\"choropleth\"}],\"contourcarpet\":[{\"colorbar\":{\"outlinewidth\":0,\"tickcolor\":\"rgb(237,237,237)\",\"ticklen\":6,\"ticks\":\"inside\"},\"type\":\"contourcarpet\"}],\"contour\":[{\"colorbar\":{\"outlinewidth\":0,\"tickcolor\":\"rgb(237,237,237)\",\"ticklen\":6,\"ticks\":\"inside\"},\"colorscale\":[[0,\"rgb(20,44,66)\"],[1,\"rgb(90,179,244)\"]],\"type\":\"contour\"}],\"heatmapgl\":[{\"colorbar\":{\"outlinewidth\":0,\"tickcolor\":\"rgb(237,237,237)\",\"ticklen\":6,\"ticks\":\"inside\"},\"colorscale\":[[0,\"rgb(20,44,66)\"],[1,\"rgb(90,179,244)\"]],\"type\":\"heatmapgl\"}],\"heatmap\":[{\"colorbar\":{\"outlinewidth\":0,\"tickcolor\":\"rgb(237,237,237)\",\"ticklen\":6,\"ticks\":\"inside\"},\"colorscale\":[[0,\"rgb(20,44,66)\"],[1,\"rgb(90,179,244)\"]],\"type\":\"heatmap\"}],\"histogram2dcontour\":[{\"colorbar\":{\"outlinewidth\":0,\"tickcolor\":\"rgb(237,237,237)\",\"ticklen\":6,\"ticks\":\"inside\"},\"colorscale\":[[0,\"rgb(20,44,66)\"],[1,\"rgb(90,179,244)\"]],\"type\":\"histogram2dcontour\"}],\"histogram2d\":[{\"colorbar\":{\"outlinewidth\":0,\"tickcolor\":\"rgb(237,237,237)\",\"ticklen\":6,\"ticks\":\"inside\"},\"colorscale\":[[0,\"rgb(20,44,66)\"],[1,\"rgb(90,179,244)\"]],\"type\":\"histogram2d\"}],\"histogram\":[{\"marker\":{\"pattern\":{\"fillmode\":\"overlay\",\"size\":10,\"solidity\":0.2}},\"type\":\"histogram\"}],\"mesh3d\":[{\"colorbar\":{\"outlinewidth\":0,\"tickcolor\":\"rgb(237,237,237)\",\"ticklen\":6,\"ticks\":\"inside\"},\"type\":\"mesh3d\"}],\"parcoords\":[{\"line\":{\"colorbar\":{\"outlinewidth\":0,\"tickcolor\":\"rgb(237,237,237)\",\"ticklen\":6,\"ticks\":\"inside\"}},\"type\":\"parcoords\"}],\"pie\":[{\"automargin\":true,\"type\":\"pie\"}],\"scatter3d\":[{\"line\":{\"colorbar\":{\"outlinewidth\":0,\"tickcolor\":\"rgb(237,237,237)\",\"ticklen\":6,\"ticks\":\"inside\"}},\"marker\":{\"colorbar\":{\"outlinewidth\":0,\"tickcolor\":\"rgb(237,237,237)\",\"ticklen\":6,\"ticks\":\"inside\"}},\"type\":\"scatter3d\"}],\"scattercarpet\":[{\"marker\":{\"colorbar\":{\"outlinewidth\":0,\"tickcolor\":\"rgb(237,237,237)\",\"ticklen\":6,\"ticks\":\"inside\"}},\"type\":\"scattercarpet\"}],\"scattergeo\":[{\"marker\":{\"colorbar\":{\"outlinewidth\":0,\"tickcolor\":\"rgb(237,237,237)\",\"ticklen\":6,\"ticks\":\"inside\"}},\"type\":\"scattergeo\"}],\"scattergl\":[{\"marker\":{\"colorbar\":{\"outlinewidth\":0,\"tickcolor\":\"rgb(237,237,237)\",\"ticklen\":6,\"ticks\":\"inside\"}},\"type\":\"scattergl\"}],\"scattermapbox\":[{\"marker\":{\"colorbar\":{\"outlinewidth\":0,\"tickcolor\":\"rgb(237,237,237)\",\"ticklen\":6,\"ticks\":\"inside\"}},\"type\":\"scattermapbox\"}],\"scatterpolargl\":[{\"marker\":{\"colorbar\":{\"outlinewidth\":0,\"tickcolor\":\"rgb(237,237,237)\",\"ticklen\":6,\"ticks\":\"inside\"}},\"type\":\"scatterpolargl\"}],\"scatterpolar\":[{\"marker\":{\"colorbar\":{\"outlinewidth\":0,\"tickcolor\":\"rgb(237,237,237)\",\"ticklen\":6,\"ticks\":\"inside\"}},\"type\":\"scatterpolar\"}],\"scatter\":[{\"marker\":{\"colorbar\":{\"outlinewidth\":0,\"tickcolor\":\"rgb(237,237,237)\",\"ticklen\":6,\"ticks\":\"inside\"}},\"type\":\"scatter\"}],\"scatterternary\":[{\"marker\":{\"colorbar\":{\"outlinewidth\":0,\"tickcolor\":\"rgb(237,237,237)\",\"ticklen\":6,\"ticks\":\"inside\"}},\"type\":\"scatterternary\"}],\"surface\":[{\"colorbar\":{\"outlinewidth\":0,\"tickcolor\":\"rgb(237,237,237)\",\"ticklen\":6,\"ticks\":\"inside\"},\"colorscale\":[[0,\"rgb(20,44,66)\"],[1,\"rgb(90,179,244)\"]],\"type\":\"surface\"}],\"table\":[{\"cells\":{\"fill\":{\"color\":\"rgb(237,237,237)\"},\"line\":{\"color\":\"white\"}},\"header\":{\"fill\":{\"color\":\"rgb(217,217,217)\"},\"line\":{\"color\":\"white\"}},\"type\":\"table\"}]},\"layout\":{\"annotationdefaults\":{\"arrowhead\":0,\"arrowwidth\":1},\"autotypenumbers\":\"strict\",\"coloraxis\":{\"colorbar\":{\"outlinewidth\":0,\"tickcolor\":\"rgb(237,237,237)\",\"ticklen\":6,\"ticks\":\"inside\"}},\"colorscale\":{\"sequential\":[[0,\"rgb(20,44,66)\"],[1,\"rgb(90,179,244)\"]],\"sequentialminus\":[[0,\"rgb(20,44,66)\"],[1,\"rgb(90,179,244)\"]]},\"colorway\":[\"#F8766D\",\"#A3A500\",\"#00BF7D\",\"#00B0F6\",\"#E76BF3\"],\"font\":{\"color\":\"rgb(51,51,51)\"},\"geo\":{\"bgcolor\":\"white\",\"lakecolor\":\"white\",\"landcolor\":\"rgb(237,237,237)\",\"showlakes\":true,\"showland\":true,\"subunitcolor\":\"white\"},\"hoverlabel\":{\"align\":\"left\"},\"hovermode\":\"closest\",\"paper_bgcolor\":\"white\",\"plot_bgcolor\":\"rgb(237,237,237)\",\"polar\":{\"angularaxis\":{\"gridcolor\":\"white\",\"linecolor\":\"white\",\"showgrid\":true,\"tickcolor\":\"rgb(51,51,51)\",\"ticks\":\"outside\"},\"bgcolor\":\"rgb(237,237,237)\",\"radialaxis\":{\"gridcolor\":\"white\",\"linecolor\":\"white\",\"showgrid\":true,\"tickcolor\":\"rgb(51,51,51)\",\"ticks\":\"outside\"}},\"scene\":{\"xaxis\":{\"backgroundcolor\":\"rgb(237,237,237)\",\"gridcolor\":\"white\",\"gridwidth\":2,\"linecolor\":\"white\",\"showbackground\":true,\"showgrid\":true,\"tickcolor\":\"rgb(51,51,51)\",\"ticks\":\"outside\",\"zerolinecolor\":\"white\"},\"yaxis\":{\"backgroundcolor\":\"rgb(237,237,237)\",\"gridcolor\":\"white\",\"gridwidth\":2,\"linecolor\":\"white\",\"showbackground\":true,\"showgrid\":true,\"tickcolor\":\"rgb(51,51,51)\",\"ticks\":\"outside\",\"zerolinecolor\":\"white\"},\"zaxis\":{\"backgroundcolor\":\"rgb(237,237,237)\",\"gridcolor\":\"white\",\"gridwidth\":2,\"linecolor\":\"white\",\"showbackground\":true,\"showgrid\":true,\"tickcolor\":\"rgb(51,51,51)\",\"ticks\":\"outside\",\"zerolinecolor\":\"white\"}},\"shapedefaults\":{\"fillcolor\":\"black\",\"line\":{\"width\":0},\"opacity\":0.3},\"ternary\":{\"aaxis\":{\"gridcolor\":\"white\",\"linecolor\":\"white\",\"showgrid\":true,\"tickcolor\":\"rgb(51,51,51)\",\"ticks\":\"outside\"},\"baxis\":{\"gridcolor\":\"white\",\"linecolor\":\"white\",\"showgrid\":true,\"tickcolor\":\"rgb(51,51,51)\",\"ticks\":\"outside\"},\"bgcolor\":\"rgb(237,237,237)\",\"caxis\":{\"gridcolor\":\"white\",\"linecolor\":\"white\",\"showgrid\":true,\"tickcolor\":\"rgb(51,51,51)\",\"ticks\":\"outside\"}},\"xaxis\":{\"automargin\":true,\"gridcolor\":\"white\",\"linecolor\":\"white\",\"showgrid\":true,\"tickcolor\":\"rgb(51,51,51)\",\"ticks\":\"outside\",\"title\":{\"standoff\":15},\"zerolinecolor\":\"white\"},\"yaxis\":{\"automargin\":true,\"gridcolor\":\"white\",\"linecolor\":\"white\",\"showgrid\":true,\"tickcolor\":\"rgb(51,51,51)\",\"ticks\":\"outside\",\"title\":{\"standoff\":15},\"zerolinecolor\":\"white\"}}},\"showlegend\":true},                        {\"responsive\": true}                    ).then(function(){\n",
              "                            \n",
              "var gd = document.getElementById('af7d43d9-2058-4a7d-b483-ffca1d311f92');\n",
              "var x = new MutationObserver(function (mutations, observer) {{\n",
              "        var display = window.getComputedStyle(gd).display;\n",
              "        if (!display || display === 'none') {{\n",
              "            console.log([gd, 'removed!']);\n",
              "            Plotly.purge(gd);\n",
              "            observer.disconnect();\n",
              "        }}\n",
              "}});\n",
              "\n",
              "// Listen for the removal of the full notebook cells\n",
              "var notebookContainer = gd.closest('#notebook-container');\n",
              "if (notebookContainer) {{\n",
              "    x.observe(notebookContainer, {childList: true});\n",
              "}}\n",
              "\n",
              "// Listen for the clearing of the current output cell\n",
              "var outputEl = gd.closest('.output');\n",
              "if (outputEl) {{\n",
              "    x.observe(outputEl, {childList: true});\n",
              "}}\n",
              "\n",
              "                        })                };                            </script>        </div>\n",
              "</body>\n",
              "</html>"
            ]
          },
          "metadata": {}
        },
        {
          "output_type": "display_data",
          "data": {
            "text/html": [
              "<html>\n",
              "<head><meta charset=\"utf-8\" /></head>\n",
              "<body>\n",
              "    <div>            <script src=\"https://cdnjs.cloudflare.com/ajax/libs/mathjax/2.7.5/MathJax.js?config=TeX-AMS-MML_SVG\"></script><script type=\"text/javascript\">if (window.MathJax) {MathJax.Hub.Config({SVG: {font: \"STIX-Web\"}});}</script>                <script type=\"text/javascript\">window.PlotlyConfig = {MathJaxConfig: 'local'};</script>\n",
              "        <script src=\"https://cdn.plot.ly/plotly-2.6.3.min.js\"></script>                <div id=\"36b032fa-674d-4cf1-bbdb-da9b0aa49b38\" class=\"plotly-graph-div\" style=\"height:525px; width:100%;\"></div>            <script type=\"text/javascript\">                                    window.PLOTLYENV=window.PLOTLYENV || {};                                    if (document.getElementById(\"36b032fa-674d-4cf1-bbdb-da9b0aa49b38\")) {                    Plotly.newPlot(                        \"36b032fa-674d-4cf1-bbdb-da9b0aa49b38\",                        [{\"line\":{\"color\":\"#1f77b4\"},\"marker\":{\"size\":5},\"mode\":\"lines+markers\",\"name\":\"Forecast | ARIMA\",\"showlegend\":true,\"x\":[0,1,2,3,4,5,6,7,8,9,10,11,12,13,14,15,16,17,18,19,20,21,22,23,24,25,26,27,28,29,30,31,32,33,34,35,36,37,38,39,40,41,42,43,44,45,46,47,48,49,50,51,52,53,54,55,56,57,58,59,60,61,62,63,64,65,66,67,68,69,70,71,72,73,74,75,76,77,78,79,80,81,82,83,84,85,86,87,88,89,90,91,92,93,94,95,96,97,98,99,100,101,102,103,104,105,106,107,108,109,110,111,112,113,114,115,116,117,118,119,120,121,122,123,124,125,126,127,128,129,130,131,132,133,134,135,136,137,138,139,140,141,142,143,144,145,146,147,148,149,150,151,152,153,154,155,156,157,158,159,160,161,162,163,164,165,166,167,168,169,170,171,172,173,174,175,176,177,178,179,180,181,182,183,184,185,186,187,188,189,190,191,192,193,194,195,196,197,198,199,200,201,202,203,204,205,206,207,208,209,210,211,212,213,214,215,216,217,218,219,220,221,222,223,224,225,226,227,228,229,230,231,232,233,234,235,236,237,238,239,240,241,242,243,244,245,246,247,248,249,250,251,252,253,254,255,256,257,258,259,260,261,262,263,264,265,266,267,268,269,270,271,272,273,274,275,276,277,278,279,280,281,282,283,284,285,286,287,288,289,290,291,292,293,294,295,296,297,298,299,300,301,302,303,304,305,306,307,308,309],\"y\":[null,186.2344,186.2769,185.3663,185.5247,184.8704,186.6381,187.3551,188.2657,188.6502,190.3327,189.6973,189.2361,190.6687,190.0183,189.8113,189.4189,189.0992,188.8205,189.315,189.138,188.6324,189.9758,189.7616,189.5824,189.4825,190.1955,190.1223,190.085,189.4037,189.0798,189.1403,188.5518,189.0836,187.5656,187.8725,186.3364,186.0358,185.5079,184.8561,184.7996,182.8856,184.0625,182.3979,181.9347,180.8191,180.0687,182.1562,182.1739,180.888,179.2477,179.6983,179.6801,179.3623,178.4333,176.9462,175.8714,176.8718,176.2508,174.8668,176.7364,177.1619,176.9236,177.9824,178.8692,178.2503,180.4567,180.2021,178.7779,178.6339,178.8418,181.1501,181.2562,181.7136,181.6368,181.3031,181.2688,182.0568,184.1324,185.1601,186.3684,185.1374,186.1216,186.3419,184.875,185.3964,185.238,186.7029,185.9372,185.5073,184.5816,184.4048,184.8072,184.0758,184.9065,183.6988,182.6511,184.0927,183.0772,183.4895,183.1088,183.5185,185.2077,186.7947,186.4641,184.1792,186.6773,187.3447,187.8864,187.8733,188.3838,188.2197,188.6408,188.2409,186.871,187.8592,189.3793,189.0709,187.818,188.4606,188.4162,186.6834,186.6858,186.0559,185.7153,184.5591,186.3626,186.0318,184.4266,184.6242,184.8877,183.9022,181.0136,180.3735,180.9444,180.885,180.7872,181.3483,180.1622,181.2594,181.2544,181.962,182.9965,183.2203,182.342,183.5053,181.5055,180.961,180.7057,180.5399,181.5608,181.6973,182.1049,182.0355,181.7882,182.4841,183.6307,181.228,181.8011,182.1761,181.7512,182.7026,182.3137,182.0297,182.8875,184.6075,184.8779,184.456,183.2673,182.9366,181.9971,181.7385,182.1333,181.2818,183.9313,184.0876,185.2182,182.9294,183.6708,182.3549,183.275,183.6735,183.2663,184.591,183.8901,183.3098,182.3091,181.6413,182.5868,183.0209,184.0264,183.6366,184.0133,184.2578,182.8319,184.6107,184.7455,185.5115,186.467,186.4167,186.1113,187.0053,185.9584,187.93,187.5468,189.2013,190.7138,190.7971,191.3647,190.3405,190.6639,191.7078,191.8073,191.3535,190.6981,190.6625,191.732,191.2484,191.1277,189.8339,190.3286,191.6368,193.1342,193.9493,192.0799,192.5622,193.0187,192.6657,192.8365,191.9728,192.6524,192.3257,190.7569,190.3898,191.7546,191.4207,192.1538,193.1007,193.1055,192.7535,192.2242,192.9641,191.901,192.1476,191.8584,189.5939,188.1854,189.1017,188.9108,189.7145,191.6023,193.0765,193.7541,194.1345,193.942,195.5202,196.1168,194.9436,194.7883,192.8698,192.6749,190.0829,191.3972,190.762,190.3324,190.1634,190.776,191.4547,192.023,191.4508,190.0879,189.6995,189.9778,189.155,189.0866,187.9192,187.9113,188.0405,187.895,187.7314,189.4953,190.2583,191.37,190.4472,190.6119,191.767,191.7109,189.5819,189.9271,188.0225,187.2116,188.536,189.152,190.244,190.551,190.4412,189.5172,191.1105,191.1558,190.441,191.3066,192.3814,194.2774,193.6748,193.2843,192.8684,192.4931,192.1268,191.8315,193.2737],\"type\":\"scatter\"},{\"marker\":{\"color\":\"#3f3f3f\",\"size\":5},\"mode\":\"lines+markers\",\"name\":\"Original\",\"showlegend\":true,\"x\":[0,1,2,3,4,5,6,7,8,9,10,11,12,13,14,15,16,17,18,19,20,21,22,23,24,25,26,27,28,29,30,31,32,33,34,35,36,37,38,39,40,41,42,43,44,45,46,47,48,49,50,51,52,53,54,55,56,57,58,59,60,61,62,63,64,65,66,67,68,69,70,71,72,73,74,75,76,77,78,79,80,81,82,83,84,85,86,87,88,89,90,91,92,93,94,95,96,97,98,99,100,101,102,103,104,105,106,107,108,109,110,111,112,113,114,115,116,117,118,119,120,121,122,123,124,125,126,127,128,129,130,131,132,133,134,135,136,137,138,139,140,141,142,143,144,145,146,147,148,149,150,151,152,153,154,155,156,157,158,159,160,161,162,163,164,165,166,167,168,169,170,171,172,173,174,175,176,177,178,179,180,181,182,183,184,185,186,187,188,189,190,191,192,193,194,195,196,197,198,199,200,201,202,203,204,205,206,207,208,209,210,211,212,213,214,215,216,217,218,219,220,221,222,223,224,225,226,227,228,229,230,231,232,233,234,235,236,237,238,239,240,241,242,243,244,245,246,247,248,249,250,251,252,253,254,255,256,257,258,259,260,261,262,263,264,265,266,267,268,269,270,271,272,273,274,275,276,277,278,279,280,281,282,283,284,285,286,287,288,289,290,291,292,293,294,295,296,297,298,299,300,301,302,303,304,305,306,307,308,309,310,311,312,313,314,315,316,317,318,319,320,321,322,323,324,325,326,327,328,329,330,331,332,333,334,335,336,337,338,339],\"y\":[186.268370014241,186.31048588738602,185.399564238833,185.557593011237,184.903008367318,186.670295636691,187.38700311270802,188.29717734220299,188.68136270003004,190.36353878054902,189.7278023266,189.26615759624,190.698439834781,190.04774348147097,189.840362737869,189.44755480842701,189.127561939879,188.84844863690202,189.34263696817,189.1653064859,188.659349023786,190.002387848956,189.78780844041,189.608251910366,189.508061169153,190.220727476204,190.14716307207803,190.109528900611,189.427868421855,189.10359814960898,189.163758590043,188.574864103783,189.10636029641603,187.58796621462898,187.894524075419,186.358074251881,186.057098125045,185.52881822060002,184.876723439919,184.819826662071,182.905467236391,184.08205054841,182.417078112198,181.953547710726,180.837627605683,180.086808604489,182.173975150118,182.191370769811,180.90507023937698,179.264464704958,179.714651806231,179.69609197351602,179.37802359897202,178.44866145151798,176.961201141377,175.88600884476102,176.886037648475,176.264770953678,174.880344106294,176.749634728717,177.17473510608997,176.936088005177,177.994571053886,178.880993705261,178.26175065702998,180.46785312157,180.21282609142898,178.788331441216,178.643931839262,178.851470178494,181.159448577554,181.265250945448,181.72224975087101,181.645096815514,181.311095973148,181.276369944837,182.064009550467,184.139254559119,185.166646997883,186.37455539626998,185.143231974711,186.12712754476502,186.34705234842602,184.879802319333,185.400825061981,185.24207045726502,186.706657769235,185.940575769631,185.510364015702,184.584254518325,184.407150556888,184.80916233637402,184.077414163255,184.907787331236,183.699704544932,182.65172013212398,184.092877838968,183.07703037366403,183.48900508598098,183.10792903487203,183.517330874523,185.206204160727,186.79279259416901,186.461884793487,184.176649258194,186.674310848028,187.341377014794,187.88270435075802,187.869304827612,188.379413250565,188.21503741879502,188.635732062049,188.23548531807202,186.86527744052398,187.85311570797901,189.372860733479,189.064120164253,187.810830408645,188.45307171432302,188.40836257742902,186.67514417060397,186.677276030285,186.046975696357,185.706007116496,184.54943475386003,186.352576661778,186.021444625386,184.415931213133,184.61312465187302,184.876300298278,183.890473597869,181.00155292619,180.361071223624,180.93157885954497,180.871855583502,180.773676839497,181.334497568117,180.148038929538,181.244815973812,181.23947194553398,181.94678261293203,182.980890347669,183.204370762585,182.32566314971902,183.48862770568599,181.4884627609,180.94367202089902,180.68800131174197,180.521880274977,181.54234418376097,181.678566076864,182.085733680287,182.016078867275,181.76841452565498,182.463965332275,183.610193689491,181.207097474599,181.779837029845,182.154561436623,181.72929371506697,182.680306522644,182.29106934092601,182.00673867912602,182.864148457206,184.58377575632701,184.85383065726398,184.43164664747601,183.242533352617,182.911500373737,181.97167104722698,181.712738464109,182.10711763233002,181.255260540306,183.90442742140098,184.060439097066,185.190646364521,182.90152238468102,183.64252354187698,182.32627838142503,183.246082059034,183.644212214486,183.236683635216,184.56094226539398,183.859710596147,183.279096291906,182.278024110881,181.609845504127,182.5550304575,182.98873260704602,183.99389182472302,183.603773160669,183.980143452444,184.22430837693,182.798051034548,184.576480322023,184.710927982957,185.476526982115,186.431663659024,186.38109795758098,186.075282537814,186.96895624023998,185.921658091179,187.892995477403,187.509363371114,189.163508673389,190.67572136733997,190.758687100926,191.325908015777,190.30135953624298,190.62436603926497,191.667978497622,191.767056984519,191.312920075364,190.657138222914,190.621215800291,191.690377260968,191.206402330667,191.08539221933898,189.791252215519,190.285565051534,191.59346657164798,193.09050758105,193.90521031194803,192.035421521745,192.51745102586898,192.97358662917,192.62018634334,192.790675814288,191.92663986016103,192.60587063417702,192.278769619524,190.70968743438,190.342236678209,191.70667160727902,191.372390242548,192.105140284757,193.05172592495498,193.05612462928102,192.703802323732,192.17410681459802,192.913696040173,191.85023862468998,192.096449468226,191.80695010166198,189.54206074517398,188.133210289101,189.04922961789399,188.857950667358,189.661233883492,191.548708346801,193.02258952791001,193.69985802022302,194.079820706789,193.887022280332,195.464914075237,196.061148184555,194.887571243684,194.731928708793,192.81301888852298,192.61776004241298,190.025432372467,191.339434539665,190.703891538633,190.273912699939,190.104594367637,190.716812541626,191.395152718848,191.96310469132,191.390562087394,190.027270831116,189.638548586778,189.91646271922798,189.093381597656,189.024540663178,187.856878337048,187.848569322832,187.97742472443,187.831549095969,187.66763813923302,189.431190142018,190.193776654436,191.30520773516702,190.382000782337,190.546342620765,191.70116780786202,191.64464638333598,189.515285735101,189.8601314972,187.95517605161498,187.144005898475,188.46801021977402,189.083647069077,190.17531602461202,190.48192088612598,190.371762123643,189.44744935051602,191.040363104235,191.08537370235697,190.37024530168898,191.235468401406,192.30990935968399,194.20556413388303,193.602566830277,193.211699009554,192.795476978024,192.41981955520401,192.053188609501,191.7575111568,193.199331567,192.501793275087,192.113625769166,192.76616222133703,193.890934667873,193.11882386484902,192.61073764871003,193.13435823920798,194.152112465746,193.900947877658,192.47095443027,194.18007546237098,195.615145034682,194.904773888832,194.839706315177,193.08023757981098,193.64996055163002,195.262307349832,193.625026702727,192.845458189525,192.204281255775,191.523149862204,189.489864266586,189.990827825834,188.459029685868,188.43403204659,189.027016767615,188.82882134612998,189.720829738604,189.695114667686,189.04745421709998,189.693813632135],\"type\":\"scatter\"}],                        {\"title\":{\"text\":\"Actual vs. 'In-Sample' Forecast | x\"},\"xaxis\":{\"title\":{\"text\":\"Time\"}},\"yaxis\":{\"title\":{\"text\":\"Values\"}},\"template\":{\"data\":{\"barpolar\":[{\"marker\":{\"line\":{\"color\":\"rgb(237,237,237)\",\"width\":0.5},\"pattern\":{\"fillmode\":\"overlay\",\"size\":10,\"solidity\":0.2}},\"type\":\"barpolar\"}],\"bar\":[{\"error_x\":{\"color\":\"rgb(51,51,51)\"},\"error_y\":{\"color\":\"rgb(51,51,51)\"},\"marker\":{\"line\":{\"color\":\"rgb(237,237,237)\",\"width\":0.5},\"pattern\":{\"fillmode\":\"overlay\",\"size\":10,\"solidity\":0.2}},\"type\":\"bar\"}],\"carpet\":[{\"aaxis\":{\"endlinecolor\":\"rgb(51,51,51)\",\"gridcolor\":\"white\",\"linecolor\":\"white\",\"minorgridcolor\":\"white\",\"startlinecolor\":\"rgb(51,51,51)\"},\"baxis\":{\"endlinecolor\":\"rgb(51,51,51)\",\"gridcolor\":\"white\",\"linecolor\":\"white\",\"minorgridcolor\":\"white\",\"startlinecolor\":\"rgb(51,51,51)\"},\"type\":\"carpet\"}],\"choropleth\":[{\"colorbar\":{\"outlinewidth\":0,\"tickcolor\":\"rgb(237,237,237)\",\"ticklen\":6,\"ticks\":\"inside\"},\"type\":\"choropleth\"}],\"contourcarpet\":[{\"colorbar\":{\"outlinewidth\":0,\"tickcolor\":\"rgb(237,237,237)\",\"ticklen\":6,\"ticks\":\"inside\"},\"type\":\"contourcarpet\"}],\"contour\":[{\"colorbar\":{\"outlinewidth\":0,\"tickcolor\":\"rgb(237,237,237)\",\"ticklen\":6,\"ticks\":\"inside\"},\"colorscale\":[[0,\"rgb(20,44,66)\"],[1,\"rgb(90,179,244)\"]],\"type\":\"contour\"}],\"heatmapgl\":[{\"colorbar\":{\"outlinewidth\":0,\"tickcolor\":\"rgb(237,237,237)\",\"ticklen\":6,\"ticks\":\"inside\"},\"colorscale\":[[0,\"rgb(20,44,66)\"],[1,\"rgb(90,179,244)\"]],\"type\":\"heatmapgl\"}],\"heatmap\":[{\"colorbar\":{\"outlinewidth\":0,\"tickcolor\":\"rgb(237,237,237)\",\"ticklen\":6,\"ticks\":\"inside\"},\"colorscale\":[[0,\"rgb(20,44,66)\"],[1,\"rgb(90,179,244)\"]],\"type\":\"heatmap\"}],\"histogram2dcontour\":[{\"colorbar\":{\"outlinewidth\":0,\"tickcolor\":\"rgb(237,237,237)\",\"ticklen\":6,\"ticks\":\"inside\"},\"colorscale\":[[0,\"rgb(20,44,66)\"],[1,\"rgb(90,179,244)\"]],\"type\":\"histogram2dcontour\"}],\"histogram2d\":[{\"colorbar\":{\"outlinewidth\":0,\"tickcolor\":\"rgb(237,237,237)\",\"ticklen\":6,\"ticks\":\"inside\"},\"colorscale\":[[0,\"rgb(20,44,66)\"],[1,\"rgb(90,179,244)\"]],\"type\":\"histogram2d\"}],\"histogram\":[{\"marker\":{\"pattern\":{\"fillmode\":\"overlay\",\"size\":10,\"solidity\":0.2}},\"type\":\"histogram\"}],\"mesh3d\":[{\"colorbar\":{\"outlinewidth\":0,\"tickcolor\":\"rgb(237,237,237)\",\"ticklen\":6,\"ticks\":\"inside\"},\"type\":\"mesh3d\"}],\"parcoords\":[{\"line\":{\"colorbar\":{\"outlinewidth\":0,\"tickcolor\":\"rgb(237,237,237)\",\"ticklen\":6,\"ticks\":\"inside\"}},\"type\":\"parcoords\"}],\"pie\":[{\"automargin\":true,\"type\":\"pie\"}],\"scatter3d\":[{\"line\":{\"colorbar\":{\"outlinewidth\":0,\"tickcolor\":\"rgb(237,237,237)\",\"ticklen\":6,\"ticks\":\"inside\"}},\"marker\":{\"colorbar\":{\"outlinewidth\":0,\"tickcolor\":\"rgb(237,237,237)\",\"ticklen\":6,\"ticks\":\"inside\"}},\"type\":\"scatter3d\"}],\"scattercarpet\":[{\"marker\":{\"colorbar\":{\"outlinewidth\":0,\"tickcolor\":\"rgb(237,237,237)\",\"ticklen\":6,\"ticks\":\"inside\"}},\"type\":\"scattercarpet\"}],\"scattergeo\":[{\"marker\":{\"colorbar\":{\"outlinewidth\":0,\"tickcolor\":\"rgb(237,237,237)\",\"ticklen\":6,\"ticks\":\"inside\"}},\"type\":\"scattergeo\"}],\"scattergl\":[{\"marker\":{\"colorbar\":{\"outlinewidth\":0,\"tickcolor\":\"rgb(237,237,237)\",\"ticklen\":6,\"ticks\":\"inside\"}},\"type\":\"scattergl\"}],\"scattermapbox\":[{\"marker\":{\"colorbar\":{\"outlinewidth\":0,\"tickcolor\":\"rgb(237,237,237)\",\"ticklen\":6,\"ticks\":\"inside\"}},\"type\":\"scattermapbox\"}],\"scatterpolargl\":[{\"marker\":{\"colorbar\":{\"outlinewidth\":0,\"tickcolor\":\"rgb(237,237,237)\",\"ticklen\":6,\"ticks\":\"inside\"}},\"type\":\"scatterpolargl\"}],\"scatterpolar\":[{\"marker\":{\"colorbar\":{\"outlinewidth\":0,\"tickcolor\":\"rgb(237,237,237)\",\"ticklen\":6,\"ticks\":\"inside\"}},\"type\":\"scatterpolar\"}],\"scatter\":[{\"marker\":{\"colorbar\":{\"outlinewidth\":0,\"tickcolor\":\"rgb(237,237,237)\",\"ticklen\":6,\"ticks\":\"inside\"}},\"type\":\"scatter\"}],\"scatterternary\":[{\"marker\":{\"colorbar\":{\"outlinewidth\":0,\"tickcolor\":\"rgb(237,237,237)\",\"ticklen\":6,\"ticks\":\"inside\"}},\"type\":\"scatterternary\"}],\"surface\":[{\"colorbar\":{\"outlinewidth\":0,\"tickcolor\":\"rgb(237,237,237)\",\"ticklen\":6,\"ticks\":\"inside\"},\"colorscale\":[[0,\"rgb(20,44,66)\"],[1,\"rgb(90,179,244)\"]],\"type\":\"surface\"}],\"table\":[{\"cells\":{\"fill\":{\"color\":\"rgb(237,237,237)\"},\"line\":{\"color\":\"white\"}},\"header\":{\"fill\":{\"color\":\"rgb(217,217,217)\"},\"line\":{\"color\":\"white\"}},\"type\":\"table\"}]},\"layout\":{\"annotationdefaults\":{\"arrowhead\":0,\"arrowwidth\":1},\"autotypenumbers\":\"strict\",\"coloraxis\":{\"colorbar\":{\"outlinewidth\":0,\"tickcolor\":\"rgb(237,237,237)\",\"ticklen\":6,\"ticks\":\"inside\"}},\"colorscale\":{\"sequential\":[[0,\"rgb(20,44,66)\"],[1,\"rgb(90,179,244)\"]],\"sequentialminus\":[[0,\"rgb(20,44,66)\"],[1,\"rgb(90,179,244)\"]]},\"colorway\":[\"#F8766D\",\"#A3A500\",\"#00BF7D\",\"#00B0F6\",\"#E76BF3\"],\"font\":{\"color\":\"rgb(51,51,51)\"},\"geo\":{\"bgcolor\":\"white\",\"lakecolor\":\"white\",\"landcolor\":\"rgb(237,237,237)\",\"showlakes\":true,\"showland\":true,\"subunitcolor\":\"white\"},\"hoverlabel\":{\"align\":\"left\"},\"hovermode\":\"closest\",\"paper_bgcolor\":\"white\",\"plot_bgcolor\":\"rgb(237,237,237)\",\"polar\":{\"angularaxis\":{\"gridcolor\":\"white\",\"linecolor\":\"white\",\"showgrid\":true,\"tickcolor\":\"rgb(51,51,51)\",\"ticks\":\"outside\"},\"bgcolor\":\"rgb(237,237,237)\",\"radialaxis\":{\"gridcolor\":\"white\",\"linecolor\":\"white\",\"showgrid\":true,\"tickcolor\":\"rgb(51,51,51)\",\"ticks\":\"outside\"}},\"scene\":{\"xaxis\":{\"backgroundcolor\":\"rgb(237,237,237)\",\"gridcolor\":\"white\",\"gridwidth\":2,\"linecolor\":\"white\",\"showbackground\":true,\"showgrid\":true,\"tickcolor\":\"rgb(51,51,51)\",\"ticks\":\"outside\",\"zerolinecolor\":\"white\"},\"yaxis\":{\"backgroundcolor\":\"rgb(237,237,237)\",\"gridcolor\":\"white\",\"gridwidth\":2,\"linecolor\":\"white\",\"showbackground\":true,\"showgrid\":true,\"tickcolor\":\"rgb(51,51,51)\",\"ticks\":\"outside\",\"zerolinecolor\":\"white\"},\"zaxis\":{\"backgroundcolor\":\"rgb(237,237,237)\",\"gridcolor\":\"white\",\"gridwidth\":2,\"linecolor\":\"white\",\"showbackground\":true,\"showgrid\":true,\"tickcolor\":\"rgb(51,51,51)\",\"ticks\":\"outside\",\"zerolinecolor\":\"white\"}},\"shapedefaults\":{\"fillcolor\":\"black\",\"line\":{\"width\":0},\"opacity\":0.3},\"ternary\":{\"aaxis\":{\"gridcolor\":\"white\",\"linecolor\":\"white\",\"showgrid\":true,\"tickcolor\":\"rgb(51,51,51)\",\"ticks\":\"outside\"},\"baxis\":{\"gridcolor\":\"white\",\"linecolor\":\"white\",\"showgrid\":true,\"tickcolor\":\"rgb(51,51,51)\",\"ticks\":\"outside\"},\"bgcolor\":\"rgb(237,237,237)\",\"caxis\":{\"gridcolor\":\"white\",\"linecolor\":\"white\",\"showgrid\":true,\"tickcolor\":\"rgb(51,51,51)\",\"ticks\":\"outside\"}},\"xaxis\":{\"automargin\":true,\"gridcolor\":\"white\",\"linecolor\":\"white\",\"showgrid\":true,\"tickcolor\":\"rgb(51,51,51)\",\"ticks\":\"outside\",\"title\":{\"standoff\":15},\"zerolinecolor\":\"white\"},\"yaxis\":{\"automargin\":true,\"gridcolor\":\"white\",\"linecolor\":\"white\",\"showgrid\":true,\"tickcolor\":\"rgb(51,51,51)\",\"ticks\":\"outside\",\"title\":{\"standoff\":15},\"zerolinecolor\":\"white\"}}},\"showlegend\":true},                        {\"responsive\": true}                    ).then(function(){\n",
              "                            \n",
              "var gd = document.getElementById('36b032fa-674d-4cf1-bbdb-da9b0aa49b38');\n",
              "var x = new MutationObserver(function (mutations, observer) {{\n",
              "        var display = window.getComputedStyle(gd).display;\n",
              "        if (!display || display === 'none') {{\n",
              "            console.log([gd, 'removed!']);\n",
              "            Plotly.purge(gd);\n",
              "            observer.disconnect();\n",
              "        }}\n",
              "}});\n",
              "\n",
              "// Listen for the removal of the full notebook cells\n",
              "var notebookContainer = gd.closest('#notebook-container');\n",
              "if (notebookContainer) {{\n",
              "    x.observe(notebookContainer, {childList: true});\n",
              "}}\n",
              "\n",
              "// Listen for the clearing of the current output cell\n",
              "var outputEl = gd.closest('.output');\n",
              "if (outputEl) {{\n",
              "    x.observe(outputEl, {childList: true});\n",
              "}}\n",
              "\n",
              "                        })                };                            </script>        </div>\n",
              "</body>\n",
              "</html>"
            ]
          },
          "metadata": {}
        }
      ]
    },
    {
      "cell_type": "markdown",
      "metadata": {
        "id": "CgXzEzNif2r4"
      },
      "source": [
        "## Inclusion of Constants\n",
        "\n",
        "https://robjhyndman.com/hyndsight/arimaconstants/\n",
        "\n",
        "Python ARIMA Parameters: https://github.com/alan-turing-institute/sktime/blob/main/sktime/forecasting/arima.py"
      ]
    },
    {
      "cell_type": "code",
      "metadata": {
        "colab": {
          "base_uri": "https://localhost:8080/"
        },
        "id": "2nweg34Jc-CE",
        "outputId": "d41ef26e-85a4-4534-f8ca-60dcab95c02b"
      },
      "source": [
        "#### with_intercept = True/False has no impact when trend is set\n",
        "model = exp.create_model(\"arima\", order=(0, 1, 0), seasonal_order=(0, 0, 0, 0), with_intercept=False, trend='c', verbose=False)\n",
        "print(model.summary())\n",
        "\n",
        "model = exp.create_model(\"arima\", order=(0, 1, 0), seasonal_order=(0, 0, 0, 0), with_intercept=True, trend='c', verbose=False)\n",
        "print(model.summary())"
      ],
      "execution_count": 30,
      "outputs": [
        {
          "output_type": "stream",
          "name": "stdout",
          "text": [
            "                               SARIMAX Results                                \n",
            "==============================================================================\n",
            "Dep. Variable:                      y   No. Observations:                  310\n",
            "Model:               SARIMAX(0, 1, 0)   Log Likelihood                -435.141\n",
            "Date:                Wed, 17 Nov 2021   AIC                            874.281\n",
            "Time:                        20:21:16   BIC                            881.748\n",
            "Sample:                             0   HQIC                           877.266\n",
            "                                - 310                                         \n",
            "Covariance Type:                  opg                                         \n",
            "==============================================================================\n",
            "                 coef    std err          z      P>|z|      [0.025      0.975]\n",
            "------------------------------------------------------------------------------\n",
            "intercept      0.0202      0.056      0.358      0.720      -0.090       0.131\n",
            "sigma2         0.9788      0.080     12.208      0.000       0.822       1.136\n",
            "===================================================================================\n",
            "Ljung-Box (L1) (Q):                   0.99   Jarque-Bera (JB):                 0.16\n",
            "Prob(Q):                              0.32   Prob(JB):                         0.92\n",
            "Heteroskedasticity (H):               0.99   Skew:                            -0.04\n",
            "Prob(H) (two-sided):                  0.95   Kurtosis:                         2.93\n",
            "===================================================================================\n",
            "\n",
            "Warnings:\n",
            "[1] Covariance matrix calculated using the outer product of gradients (complex-step).\n",
            "                               SARIMAX Results                                \n",
            "==============================================================================\n",
            "Dep. Variable:                      y   No. Observations:                  310\n",
            "Model:               SARIMAX(0, 1, 0)   Log Likelihood                -435.141\n",
            "Date:                Wed, 17 Nov 2021   AIC                            874.281\n",
            "Time:                        20:21:17   BIC                            881.748\n",
            "Sample:                             0   HQIC                           877.266\n",
            "                                - 310                                         \n",
            "Covariance Type:                  opg                                         \n",
            "==============================================================================\n",
            "                 coef    std err          z      P>|z|      [0.025      0.975]\n",
            "------------------------------------------------------------------------------\n",
            "intercept      0.0202      0.056      0.358      0.720      -0.090       0.131\n",
            "sigma2         0.9788      0.080     12.208      0.000       0.822       1.136\n",
            "===================================================================================\n",
            "Ljung-Box (L1) (Q):                   0.99   Jarque-Bera (JB):                 0.16\n",
            "Prob(Q):                              0.32   Prob(JB):                         0.92\n",
            "Heteroskedasticity (H):               0.99   Skew:                            -0.04\n",
            "Prob(H) (two-sided):                  0.95   Kurtosis:                         2.93\n",
            "===================================================================================\n",
            "\n",
            "Warnings:\n",
            "[1] Covariance matrix calculated using the outer product of gradients (complex-step).\n"
          ]
        }
      ]
    },
    {
      "cell_type": "code",
      "metadata": {
        "colab": {
          "base_uri": "https://localhost:8080/"
        },
        "id": "K7Zir9UAeyP3",
        "outputId": "3956fc9c-bfd5-4d1b-8f41-e07c7b073182"
      },
      "source": [
        "#### with_intercept = True/False has no impact when trend is set\n",
        "model = exp.create_model(\"arima\", order=(0, 1, 0), seasonal_order=(0, 0, 0, 0), with_intercept=False, trend='t', verbose=False)\n",
        "print(model.summary())\n",
        "\n",
        "model = exp.create_model(\"arima\", order=(0, 1, 0), seasonal_order=(0, 0, 0, 0), with_intercept=True, trend='t', verbose=False)\n",
        "print(model.summary())"
      ],
      "execution_count": 31,
      "outputs": [
        {
          "output_type": "stream",
          "name": "stdout",
          "text": [
            "                               SARIMAX Results                                \n",
            "==============================================================================\n",
            "Dep. Variable:                      y   No. Observations:                  310\n",
            "Model:               SARIMAX(0, 1, 0)   Log Likelihood                -435.032\n",
            "Date:                Wed, 17 Nov 2021   AIC                            874.063\n",
            "Time:                        20:21:17   BIC                            881.530\n",
            "Sample:                             0   HQIC                           877.048\n",
            "                                - 310                                         \n",
            "Covariance Type:                  opg                                         \n",
            "==============================================================================\n",
            "                 coef    std err          z      P>|z|      [0.025      0.975]\n",
            "------------------------------------------------------------------------------\n",
            "drift          0.0002      0.000      0.582      0.560      -0.000       0.001\n",
            "sigma2         0.9781      0.080     12.197      0.000       0.821       1.135\n",
            "===================================================================================\n",
            "Ljung-Box (L1) (Q):                   1.02   Jarque-Bera (JB):                 0.14\n",
            "Prob(Q):                              0.31   Prob(JB):                         0.93\n",
            "Heteroskedasticity (H):               0.99   Skew:                            -0.04\n",
            "Prob(H) (two-sided):                  0.95   Kurtosis:                         2.95\n",
            "===================================================================================\n",
            "\n",
            "Warnings:\n",
            "[1] Covariance matrix calculated using the outer product of gradients (complex-step).\n",
            "                               SARIMAX Results                                \n",
            "==============================================================================\n",
            "Dep. Variable:                      y   No. Observations:                  310\n",
            "Model:               SARIMAX(0, 1, 0)   Log Likelihood                -435.032\n",
            "Date:                Wed, 17 Nov 2021   AIC                            874.063\n",
            "Time:                        20:21:18   BIC                            881.530\n",
            "Sample:                             0   HQIC                           877.048\n",
            "                                - 310                                         \n",
            "Covariance Type:                  opg                                         \n",
            "==============================================================================\n",
            "                 coef    std err          z      P>|z|      [0.025      0.975]\n",
            "------------------------------------------------------------------------------\n",
            "drift          0.0002      0.000      0.582      0.560      -0.000       0.001\n",
            "sigma2         0.9781      0.080     12.197      0.000       0.821       1.135\n",
            "===================================================================================\n",
            "Ljung-Box (L1) (Q):                   1.02   Jarque-Bera (JB):                 0.14\n",
            "Prob(Q):                              0.31   Prob(JB):                         0.93\n",
            "Heteroskedasticity (H):               0.99   Skew:                            -0.04\n",
            "Prob(H) (two-sided):                  0.95   Kurtosis:                         2.95\n",
            "===================================================================================\n",
            "\n",
            "Warnings:\n",
            "[1] Covariance matrix calculated using the outer product of gradients (complex-step).\n"
          ]
        }
      ]
    },
    {
      "cell_type": "code",
      "metadata": {
        "colab": {
          "base_uri": "https://localhost:8080/"
        },
        "id": "lFp9XL1qiN0U",
        "outputId": "e370172b-dead-4cd8-8fd2-146d1a65d760"
      },
      "source": [
        "#### with_intercept = True/False has no impact when trend is set\n",
        "model = exp.create_model(\"arima\", order=(0, 1, 0), seasonal_order=(0, 0, 0, 0), with_intercept=False, trend='ct', verbose=False)\n",
        "print(model.summary())\n",
        "\n",
        "model = exp.create_model(\"arima\", order=(0, 1, 0), seasonal_order=(0, 0, 0, 0), with_intercept=True, trend='ct', verbose=False)\n",
        "print(model.summary())"
      ],
      "execution_count": 32,
      "outputs": [
        {
          "output_type": "stream",
          "name": "stdout",
          "text": [
            "                               SARIMAX Results                                \n",
            "==============================================================================\n",
            "Dep. Variable:                      y   No. Observations:                  310\n",
            "Model:               SARIMAX(0, 1, 0)   Log Likelihood                -434.985\n",
            "Date:                Wed, 17 Nov 2021   AIC                            875.971\n",
            "Time:                        20:21:18   BIC                            887.171\n",
            "Sample:                             0   HQIC                           880.448\n",
            "                                - 310                                         \n",
            "Covariance Type:                  opg                                         \n",
            "==============================================================================\n",
            "                 coef    std err          z      P>|z|      [0.025      0.975]\n",
            "------------------------------------------------------------------------------\n",
            "intercept     -0.0343      0.117     -0.292      0.770      -0.264       0.196\n",
            "drift          0.0004      0.001      0.530      0.596      -0.001       0.002\n",
            "sigma2         0.9778      0.081     12.141      0.000       0.820       1.136\n",
            "===================================================================================\n",
            "Ljung-Box (L1) (Q):                   1.03   Jarque-Bera (JB):                 0.12\n",
            "Prob(Q):                              0.31   Prob(JB):                         0.94\n",
            "Heteroskedasticity (H):               0.99   Skew:                            -0.04\n",
            "Prob(H) (two-sided):                  0.96   Kurtosis:                         2.96\n",
            "===================================================================================\n",
            "\n",
            "Warnings:\n",
            "[1] Covariance matrix calculated using the outer product of gradients (complex-step).\n",
            "                               SARIMAX Results                                \n",
            "==============================================================================\n",
            "Dep. Variable:                      y   No. Observations:                  310\n",
            "Model:               SARIMAX(0, 1, 0)   Log Likelihood                -434.985\n",
            "Date:                Wed, 17 Nov 2021   AIC                            875.971\n",
            "Time:                        20:21:19   BIC                            887.171\n",
            "Sample:                             0   HQIC                           880.448\n",
            "                                - 310                                         \n",
            "Covariance Type:                  opg                                         \n",
            "==============================================================================\n",
            "                 coef    std err          z      P>|z|      [0.025      0.975]\n",
            "------------------------------------------------------------------------------\n",
            "intercept     -0.0343      0.117     -0.292      0.770      -0.264       0.196\n",
            "drift          0.0004      0.001      0.530      0.596      -0.001       0.002\n",
            "sigma2         0.9778      0.081     12.141      0.000       0.820       1.136\n",
            "===================================================================================\n",
            "Ljung-Box (L1) (Q):                   1.03   Jarque-Bera (JB):                 0.12\n",
            "Prob(Q):                              0.31   Prob(JB):                         0.94\n",
            "Heteroskedasticity (H):               0.99   Skew:                            -0.04\n",
            "Prob(H) (two-sided):                  0.96   Kurtosis:                         2.96\n",
            "===================================================================================\n",
            "\n",
            "Warnings:\n",
            "[1] Covariance matrix calculated using the outer product of gradients (complex-step).\n"
          ]
        }
      ]
    },
    {
      "cell_type": "code",
      "metadata": {
        "colab": {
          "base_uri": "https://localhost:8080/"
        },
        "id": "C95ezGVzfAkJ",
        "outputId": "6f3b2b69-290e-4500-f9d0-fc846d6398ed"
      },
      "source": [
        "model = exp.create_model(\"arima\", order=(0, 1, 0), seasonal_order=(0, 0, 0, 0), with_intercept=False, trend='c', verbose=False)\n",
        "print(model.summary())\n",
        "\n",
        "#### with_intercept = True is same as adding a trend = 'c' (constant) in the model\n",
        "model = exp.create_model(\"arima\", order=(0, 1, 0), seasonal_order=(0, 0, 0, 0), with_intercept=True, verbose=False)\n",
        "print(model.summary())"
      ],
      "execution_count": 33,
      "outputs": [
        {
          "output_type": "stream",
          "name": "stdout",
          "text": [
            "                               SARIMAX Results                                \n",
            "==============================================================================\n",
            "Dep. Variable:                      y   No. Observations:                  310\n",
            "Model:               SARIMAX(0, 1, 0)   Log Likelihood                -435.141\n",
            "Date:                Wed, 17 Nov 2021   AIC                            874.281\n",
            "Time:                        20:21:19   BIC                            881.748\n",
            "Sample:                             0   HQIC                           877.266\n",
            "                                - 310                                         \n",
            "Covariance Type:                  opg                                         \n",
            "==============================================================================\n",
            "                 coef    std err          z      P>|z|      [0.025      0.975]\n",
            "------------------------------------------------------------------------------\n",
            "intercept      0.0202      0.056      0.358      0.720      -0.090       0.131\n",
            "sigma2         0.9788      0.080     12.208      0.000       0.822       1.136\n",
            "===================================================================================\n",
            "Ljung-Box (L1) (Q):                   0.99   Jarque-Bera (JB):                 0.16\n",
            "Prob(Q):                              0.32   Prob(JB):                         0.92\n",
            "Heteroskedasticity (H):               0.99   Skew:                            -0.04\n",
            "Prob(H) (two-sided):                  0.95   Kurtosis:                         2.93\n",
            "===================================================================================\n",
            "\n",
            "Warnings:\n",
            "[1] Covariance matrix calculated using the outer product of gradients (complex-step).\n",
            "                               SARIMAX Results                                \n",
            "==============================================================================\n",
            "Dep. Variable:                      y   No. Observations:                  310\n",
            "Model:               SARIMAX(0, 1, 0)   Log Likelihood                -435.141\n",
            "Date:                Wed, 17 Nov 2021   AIC                            874.281\n",
            "Time:                        20:21:19   BIC                            881.748\n",
            "Sample:                             0   HQIC                           877.266\n",
            "                                - 310                                         \n",
            "Covariance Type:                  opg                                         \n",
            "==============================================================================\n",
            "                 coef    std err          z      P>|z|      [0.025      0.975]\n",
            "------------------------------------------------------------------------------\n",
            "intercept      0.0202      0.056      0.358      0.720      -0.090       0.131\n",
            "sigma2         0.9788      0.080     12.208      0.000       0.822       1.136\n",
            "===================================================================================\n",
            "Ljung-Box (L1) (Q):                   0.99   Jarque-Bera (JB):                 0.16\n",
            "Prob(Q):                              0.32   Prob(JB):                         0.92\n",
            "Heteroskedasticity (H):               0.99   Skew:                            -0.04\n",
            "Prob(H) (two-sided):                  0.95   Kurtosis:                         2.93\n",
            "===================================================================================\n",
            "\n",
            "Warnings:\n",
            "[1] Covariance matrix calculated using the outer product of gradients (complex-step).\n"
          ]
        }
      ]
    },
    {
      "cell_type": "code",
      "metadata": {
        "colab": {
          "base_uri": "https://localhost:8080/",
          "height": 561,
          "referenced_widgets": [
            "ef9d924eb4ca4fd38afae8e12f4b8ae5",
            "f5dc52d524b54e5b9b14bf4e51550e7b",
            "f95a763aee8b4f40b48fbc0277f09e81"
          ]
        },
        "id": "aCDczluKfKio",
        "outputId": "17dbba6c-9286-44f2-cb08-c1f019511c30"
      },
      "source": [
        "## File Bug Report in PyCarte when parameter takes a wrong value ...\n",
        "model = exp.create_model(\"arima\", order=(0, 1, 0), seasonal_order=(0, 0, 0, 0), with_intercept=False, trend='a')\n",
        "model.summary()"
      ],
      "execution_count": 34,
      "outputs": [
        {
          "output_type": "display_data",
          "data": {
            "application/vnd.jupyter.widget-view+json": {
              "model_id": "ef9d924eb4ca4fd38afae8e12f4b8ae5",
              "version_minor": 0,
              "version_major": 2
            },
            "text/plain": [
              "IntProgress(value=0, description='Processing: ', max=4)"
            ]
          },
          "metadata": {}
        },
        {
          "output_type": "display_data",
          "data": {
            "text/html": [
              "<div>\n",
              "<style scoped>\n",
              "    .dataframe tbody tr th:only-of-type {\n",
              "        vertical-align: middle;\n",
              "    }\n",
              "\n",
              "    .dataframe tbody tr th {\n",
              "        vertical-align: top;\n",
              "    }\n",
              "\n",
              "    .dataframe thead th {\n",
              "        text-align: right;\n",
              "    }\n",
              "</style>\n",
              "<table border=\"1\" class=\"dataframe\">\n",
              "  <thead>\n",
              "    <tr style=\"text-align: right;\">\n",
              "      <th></th>\n",
              "      <th></th>\n",
              "      <th></th>\n",
              "    </tr>\n",
              "    <tr>\n",
              "      <th></th>\n",
              "      <th></th>\n",
              "      <th></th>\n",
              "    </tr>\n",
              "  </thead>\n",
              "  <tbody>\n",
              "    <tr>\n",
              "      <th>Initiated</th>\n",
              "      <td>. . . . . . . . . . . . . . . . . .</td>\n",
              "      <td>20:21:19</td>\n",
              "    </tr>\n",
              "    <tr>\n",
              "      <th>Status</th>\n",
              "      <td>. . . . . . . . . . . . . . . . . .</td>\n",
              "      <td>Fitting 3 Folds</td>\n",
              "    </tr>\n",
              "    <tr>\n",
              "      <th>Estimator</th>\n",
              "      <td>. . . . . . . . . . . . . . . . . .</td>\n",
              "      <td>ARIMA</td>\n",
              "    </tr>\n",
              "  </tbody>\n",
              "</table>\n",
              "</div>"
            ],
            "text/plain": [
              "                                                               \n",
              "                                                               \n",
              "Initiated  . . . . . . . . . . . . . . . . . .         20:21:19\n",
              "Status     . . . . . . . . . . . . . . . . . .  Fitting 3 Folds\n",
              "Estimator  . . . . . . . . . . . . . . . . . .            ARIMA"
            ]
          },
          "metadata": {}
        },
        {
          "output_type": "display_data",
          "data": {
            "text/html": [
              "<div>\n",
              "<style scoped>\n",
              "    .dataframe tbody tr th:only-of-type {\n",
              "        vertical-align: middle;\n",
              "    }\n",
              "\n",
              "    .dataframe tbody tr th {\n",
              "        vertical-align: top;\n",
              "    }\n",
              "\n",
              "    .dataframe thead th {\n",
              "        text-align: right;\n",
              "    }\n",
              "</style>\n",
              "<table border=\"1\" class=\"dataframe\">\n",
              "  <thead>\n",
              "    <tr style=\"text-align: right;\">\n",
              "      <th></th>\n",
              "      <th>cutoff</th>\n",
              "      <th>MAE</th>\n",
              "      <th>RMSE</th>\n",
              "      <th>MAPE</th>\n",
              "      <th>SMAPE</th>\n",
              "      <th>R2</th>\n",
              "    </tr>\n",
              "  </thead>\n",
              "  <tbody>\n",
              "  </tbody>\n",
              "</table>\n",
              "</div>"
            ],
            "text/plain": [
              "Empty DataFrame\n",
              "Columns: [cutoff, MAE, RMSE, MAPE, SMAPE, R2]\n",
              "Index: []"
            ]
          },
          "metadata": {}
        },
        {
          "output_type": "error",
          "ename": "TypeError",
          "evalue": "ignored",
          "traceback": [
            "\u001b[0;31m---------------------------------------------------------------------------\u001b[0m",
            "\u001b[0;31mTypeError\u001b[0m                                 Traceback (most recent call last)",
            "\u001b[0;32m<ipython-input-34-3315fa6aeccc>\u001b[0m in \u001b[0;36m<module>\u001b[0;34m()\u001b[0m\n\u001b[1;32m      1\u001b[0m \u001b[0;31m## File Bug Report in PyCarte when parameter takes a wrong value ...\u001b[0m\u001b[0;34m\u001b[0m\u001b[0;34m\u001b[0m\u001b[0;34m\u001b[0m\u001b[0m\n\u001b[0;32m----> 2\u001b[0;31m \u001b[0mmodel\u001b[0m \u001b[0;34m=\u001b[0m \u001b[0mexp\u001b[0m\u001b[0;34m.\u001b[0m\u001b[0mcreate_model\u001b[0m\u001b[0;34m(\u001b[0m\u001b[0;34m\"arima\"\u001b[0m\u001b[0;34m,\u001b[0m \u001b[0morder\u001b[0m\u001b[0;34m=\u001b[0m\u001b[0;34m(\u001b[0m\u001b[0;36m0\u001b[0m\u001b[0;34m,\u001b[0m \u001b[0;36m1\u001b[0m\u001b[0;34m,\u001b[0m \u001b[0;36m0\u001b[0m\u001b[0;34m)\u001b[0m\u001b[0;34m,\u001b[0m \u001b[0mseasonal_order\u001b[0m\u001b[0;34m=\u001b[0m\u001b[0;34m(\u001b[0m\u001b[0;36m0\u001b[0m\u001b[0;34m,\u001b[0m \u001b[0;36m0\u001b[0m\u001b[0;34m,\u001b[0m \u001b[0;36m0\u001b[0m\u001b[0;34m,\u001b[0m \u001b[0;36m0\u001b[0m\u001b[0;34m)\u001b[0m\u001b[0;34m,\u001b[0m \u001b[0mwith_intercept\u001b[0m\u001b[0;34m=\u001b[0m\u001b[0;32mFalse\u001b[0m\u001b[0;34m,\u001b[0m \u001b[0mtrend\u001b[0m\u001b[0;34m=\u001b[0m\u001b[0;34m'a'\u001b[0m\u001b[0;34m)\u001b[0m\u001b[0;34m\u001b[0m\u001b[0;34m\u001b[0m\u001b[0m\n\u001b[0m\u001b[1;32m      3\u001b[0m \u001b[0mmodel\u001b[0m\u001b[0;34m.\u001b[0m\u001b[0msummary\u001b[0m\u001b[0;34m(\u001b[0m\u001b[0;34m)\u001b[0m\u001b[0;34m\u001b[0m\u001b[0;34m\u001b[0m\u001b[0m\n",
            "\u001b[0;32m/usr/local/lib/python3.7/dist-packages/pycaret/internal/pycaret_experiment/time_series_experiment.py\u001b[0m in \u001b[0;36mcreate_model\u001b[0;34m(self, estimator, fold, round, cross_validation, fit_kwargs, verbose, **kwargs)\u001b[0m\n\u001b[1;32m   1355\u001b[0m             \u001b[0mfit_kwargs\u001b[0m\u001b[0;34m=\u001b[0m\u001b[0mfit_kwargs\u001b[0m\u001b[0;34m,\u001b[0m\u001b[0;34m\u001b[0m\u001b[0;34m\u001b[0m\u001b[0m\n\u001b[1;32m   1356\u001b[0m             \u001b[0mverbose\u001b[0m\u001b[0;34m=\u001b[0m\u001b[0mverbose\u001b[0m\u001b[0;34m,\u001b[0m\u001b[0;34m\u001b[0m\u001b[0;34m\u001b[0m\u001b[0m\n\u001b[0;32m-> 1357\u001b[0;31m             \u001b[0;34m**\u001b[0m\u001b[0mkwargs\u001b[0m\u001b[0;34m,\u001b[0m\u001b[0;34m\u001b[0m\u001b[0;34m\u001b[0m\u001b[0m\n\u001b[0m\u001b[1;32m   1358\u001b[0m         )\n\u001b[1;32m   1359\u001b[0m \u001b[0;34m\u001b[0m\u001b[0m\n",
            "\u001b[0;32m/usr/local/lib/python3.7/dist-packages/pycaret/internal/pycaret_experiment/supervised_experiment.py\u001b[0m in \u001b[0;36mcreate_model\u001b[0;34m(self, estimator, fold, round, cross_validation, predict, fit_kwargs, groups, refit, verbose, system, add_to_model_list, X_train_data, y_train_data, metrics, display, **kwargs)\u001b[0m\n\u001b[1;32m   1553\u001b[0m             \u001b[0mrefit\u001b[0m\u001b[0;34m,\u001b[0m\u001b[0;34m\u001b[0m\u001b[0;34m\u001b[0m\u001b[0m\n\u001b[1;32m   1554\u001b[0m             \u001b[0msystem\u001b[0m\u001b[0;34m,\u001b[0m\u001b[0;34m\u001b[0m\u001b[0;34m\u001b[0m\u001b[0m\n\u001b[0;32m-> 1555\u001b[0;31m             \u001b[0mdisplay\u001b[0m\u001b[0;34m,\u001b[0m\u001b[0;34m\u001b[0m\u001b[0;34m\u001b[0m\u001b[0m\n\u001b[0m\u001b[1;32m   1556\u001b[0m         )\n\u001b[1;32m   1557\u001b[0m \u001b[0;34m\u001b[0m\u001b[0m\n",
            "\u001b[0;32m/usr/local/lib/python3.7/dist-packages/pycaret/internal/pycaret_experiment/time_series_experiment.py\u001b[0m in \u001b[0;36m_create_model_with_cv\u001b[0;34m(self, model, data_X, data_y, fit_kwargs, round, cv, groups, metrics, refit, system, display)\u001b[0m\n\u001b[1;32m   1493\u001b[0m         \u001b[0mself\u001b[0m\u001b[0;34m.\u001b[0m\u001b[0mlogger\u001b[0m\u001b[0;34m.\u001b[0m\u001b[0minfo\u001b[0m\u001b[0;34m(\u001b[0m\u001b[0;34m\"Calculating mean and std\"\u001b[0m\u001b[0;34m)\u001b[0m\u001b[0;34m\u001b[0m\u001b[0;34m\u001b[0m\u001b[0m\n\u001b[1;32m   1494\u001b[0m \u001b[0;34m\u001b[0m\u001b[0m\n\u001b[0;32m-> 1495\u001b[0;31m         \u001b[0mavgs_dict\u001b[0m \u001b[0;34m=\u001b[0m \u001b[0;34m{\u001b[0m\u001b[0mk\u001b[0m\u001b[0;34m:\u001b[0m \u001b[0;34m[\u001b[0m\u001b[0mnp\u001b[0m\u001b[0;34m.\u001b[0m\u001b[0mmean\u001b[0m\u001b[0;34m(\u001b[0m\u001b[0mv\u001b[0m\u001b[0;34m)\u001b[0m\u001b[0;34m,\u001b[0m \u001b[0mnp\u001b[0m\u001b[0;34m.\u001b[0m\u001b[0mstd\u001b[0m\u001b[0;34m(\u001b[0m\u001b[0mv\u001b[0m\u001b[0;34m)\u001b[0m\u001b[0;34m]\u001b[0m \u001b[0;32mfor\u001b[0m \u001b[0mk\u001b[0m\u001b[0;34m,\u001b[0m \u001b[0mv\u001b[0m \u001b[0;32min\u001b[0m \u001b[0mscore_dict\u001b[0m\u001b[0;34m.\u001b[0m\u001b[0mitems\u001b[0m\u001b[0;34m(\u001b[0m\u001b[0;34m)\u001b[0m\u001b[0;34m}\u001b[0m\u001b[0;34m\u001b[0m\u001b[0;34m\u001b[0m\u001b[0m\n\u001b[0m\u001b[1;32m   1496\u001b[0m \u001b[0;34m\u001b[0m\u001b[0m\n\u001b[1;32m   1497\u001b[0m         \u001b[0mdisplay\u001b[0m\u001b[0;34m.\u001b[0m\u001b[0mmove_progress\u001b[0m\u001b[0;34m(\u001b[0m\u001b[0;34m)\u001b[0m\u001b[0;34m\u001b[0m\u001b[0;34m\u001b[0m\u001b[0m\n",
            "\u001b[0;32m/usr/local/lib/python3.7/dist-packages/pycaret/internal/pycaret_experiment/time_series_experiment.py\u001b[0m in \u001b[0;36m<dictcomp>\u001b[0;34m(.0)\u001b[0m\n\u001b[1;32m   1493\u001b[0m         \u001b[0mself\u001b[0m\u001b[0;34m.\u001b[0m\u001b[0mlogger\u001b[0m\u001b[0;34m.\u001b[0m\u001b[0minfo\u001b[0m\u001b[0;34m(\u001b[0m\u001b[0;34m\"Calculating mean and std\"\u001b[0m\u001b[0;34m)\u001b[0m\u001b[0;34m\u001b[0m\u001b[0;34m\u001b[0m\u001b[0m\n\u001b[1;32m   1494\u001b[0m \u001b[0;34m\u001b[0m\u001b[0m\n\u001b[0;32m-> 1495\u001b[0;31m         \u001b[0mavgs_dict\u001b[0m \u001b[0;34m=\u001b[0m \u001b[0;34m{\u001b[0m\u001b[0mk\u001b[0m\u001b[0;34m:\u001b[0m \u001b[0;34m[\u001b[0m\u001b[0mnp\u001b[0m\u001b[0;34m.\u001b[0m\u001b[0mmean\u001b[0m\u001b[0;34m(\u001b[0m\u001b[0mv\u001b[0m\u001b[0;34m)\u001b[0m\u001b[0;34m,\u001b[0m \u001b[0mnp\u001b[0m\u001b[0;34m.\u001b[0m\u001b[0mstd\u001b[0m\u001b[0;34m(\u001b[0m\u001b[0mv\u001b[0m\u001b[0;34m)\u001b[0m\u001b[0;34m]\u001b[0m \u001b[0;32mfor\u001b[0m \u001b[0mk\u001b[0m\u001b[0;34m,\u001b[0m \u001b[0mv\u001b[0m \u001b[0;32min\u001b[0m \u001b[0mscore_dict\u001b[0m\u001b[0;34m.\u001b[0m\u001b[0mitems\u001b[0m\u001b[0;34m(\u001b[0m\u001b[0;34m)\u001b[0m\u001b[0;34m}\u001b[0m\u001b[0;34m\u001b[0m\u001b[0;34m\u001b[0m\u001b[0m\n\u001b[0m\u001b[1;32m   1496\u001b[0m \u001b[0;34m\u001b[0m\u001b[0m\n\u001b[1;32m   1497\u001b[0m         \u001b[0mdisplay\u001b[0m\u001b[0;34m.\u001b[0m\u001b[0mmove_progress\u001b[0m\u001b[0;34m(\u001b[0m\u001b[0;34m)\u001b[0m\u001b[0;34m\u001b[0m\u001b[0;34m\u001b[0m\u001b[0m\n",
            "\u001b[0;32m<__array_function__ internals>\u001b[0m in \u001b[0;36mmean\u001b[0;34m(*args, **kwargs)\u001b[0m\n",
            "\u001b[0;32m/usr/local/lib/python3.7/dist-packages/numpy/core/fromnumeric.py\u001b[0m in \u001b[0;36mmean\u001b[0;34m(a, axis, dtype, out, keepdims)\u001b[0m\n\u001b[1;32m   3371\u001b[0m \u001b[0;34m\u001b[0m\u001b[0m\n\u001b[1;32m   3372\u001b[0m     return _methods._mean(a, axis=axis, dtype=dtype,\n\u001b[0;32m-> 3373\u001b[0;31m                           out=out, **kwargs)\n\u001b[0m\u001b[1;32m   3374\u001b[0m \u001b[0;34m\u001b[0m\u001b[0m\n\u001b[1;32m   3375\u001b[0m \u001b[0;34m\u001b[0m\u001b[0m\n",
            "\u001b[0;32m/usr/local/lib/python3.7/dist-packages/numpy/core/_methods.py\u001b[0m in \u001b[0;36m_mean\u001b[0;34m(a, axis, dtype, out, keepdims)\u001b[0m\n\u001b[1;32m    158\u001b[0m             \u001b[0mis_float16_result\u001b[0m \u001b[0;34m=\u001b[0m \u001b[0;32mTrue\u001b[0m\u001b[0;34m\u001b[0m\u001b[0;34m\u001b[0m\u001b[0m\n\u001b[1;32m    159\u001b[0m \u001b[0;34m\u001b[0m\u001b[0m\n\u001b[0;32m--> 160\u001b[0;31m     \u001b[0mret\u001b[0m \u001b[0;34m=\u001b[0m \u001b[0mumr_sum\u001b[0m\u001b[0;34m(\u001b[0m\u001b[0marr\u001b[0m\u001b[0;34m,\u001b[0m \u001b[0maxis\u001b[0m\u001b[0;34m,\u001b[0m \u001b[0mdtype\u001b[0m\u001b[0;34m,\u001b[0m \u001b[0mout\u001b[0m\u001b[0;34m,\u001b[0m \u001b[0mkeepdims\u001b[0m\u001b[0;34m)\u001b[0m\u001b[0;34m\u001b[0m\u001b[0;34m\u001b[0m\u001b[0m\n\u001b[0m\u001b[1;32m    161\u001b[0m     \u001b[0;32mif\u001b[0m \u001b[0misinstance\u001b[0m\u001b[0;34m(\u001b[0m\u001b[0mret\u001b[0m\u001b[0;34m,\u001b[0m \u001b[0mmu\u001b[0m\u001b[0;34m.\u001b[0m\u001b[0mndarray\u001b[0m\u001b[0;34m)\u001b[0m\u001b[0;34m:\u001b[0m\u001b[0;34m\u001b[0m\u001b[0;34m\u001b[0m\u001b[0m\n\u001b[1;32m    162\u001b[0m         ret = um.true_divide(\n",
            "\u001b[0;31mTypeError\u001b[0m: unsupported operand type(s) for +: 'NoneType' and 'NoneType'"
          ]
        }
      ]
    }
  ]
}