{
  "nbformat": 4,
  "nbformat_minor": 0,
  "metadata": {
    "colab": {
      "name": "pycaret_ts_sktime_darts.ipynb",
      "provenance": [],
      "collapsed_sections": [],
      "authorship_tag": "ABX9TyPhbOoU6F9FrQRRfhIdWFo1",
      "include_colab_link": true
    },
    "kernelspec": {
      "name": "python3",
      "display_name": "Python 3"
    },
    "language_info": {
      "name": "python"
    }
  },
  "cells": [
    {
      "cell_type": "markdown",
      "metadata": {
        "id": "view-in-github",
        "colab_type": "text"
      },
      "source": [
        "<a href=\"https://colab.research.google.com/github/ngupta23/medium_articles/blob/main/time_series/pycaret/pycaret_ts_sktime_darts.ipynb\" target=\"_parent\"><img src=\"https://colab.research.google.com/assets/colab-badge.svg\" alt=\"Open In Colab\"/></a>"
      ]
    },
    {
      "cell_type": "code",
      "metadata": {
        "colab": {
          "base_uri": "https://localhost:8080/"
        },
        "id": "GWDARV7nIEJ9",
        "outputId": "a58362ae-e113-4c95-ec6b-082d493952c0"
      },
      "source": [
        "try:\n",
        "  import darts\n",
        "except:\n",
        "  !pip install darts"
      ],
      "execution_count": null,
      "outputs": [
        {
          "output_type": "stream",
          "name": "stderr",
          "text": [
            "/usr/local/lib/python3.7/dist-packages/distributed/config.py:20: YAMLLoadWarning: calling yaml.load() without Loader=... is deprecated, as the default Loader is unsafe. Please read https://msg.pyyaml.org/load for full details.\n",
            "  defaults = yaml.load(f)\n"
          ]
        }
      ]
    },
    {
      "cell_type": "code",
      "metadata": {
        "id": "iiHG42TGJf6K"
      },
      "source": [
        "try:\n",
        "  import pycaret\n",
        "except:\n",
        "  !pip install pycaret-ts-alpha"
      ],
      "execution_count": null,
      "outputs": []
    },
    {
      "cell_type": "code",
      "metadata": {
        "id": "SKPONey9IF3b"
      },
      "source": [
        "import sys\n",
        "import time\n",
        "import pandas as pd\n",
        "import numpy as np\n",
        "import matplotlib.pyplot as plt\n",
        "from datetime import datetime\n",
        "from functools import reduce\n",
        "\n",
        "from darts import TimeSeries\n",
        "from darts.models import NaiveSeasonal\n",
        "\n",
        "import warnings\n",
        "warnings.filterwarnings(\"ignore\")\n",
        "import logging\n",
        "logging.disable(logging.CRITICAL)"
      ],
      "execution_count": null,
      "outputs": []
    },
    {
      "cell_type": "markdown",
      "metadata": {
        "id": "WKAYfuvAUuqp"
      },
      "source": [
        "## DARTS Adapter"
      ]
    },
    {
      "cell_type": "code",
      "metadata": {
        "id": "b28MXBD0JAH4"
      },
      "source": [
        "from sktime.forecasting.base import BaseForecaster\n",
        "\n",
        "class _DartsAdapter(BaseForecaster):\n",
        "    \"\"\"Base class for interfacing statsmodels forecasting algorithms.\"\"\"\n",
        "    # https://github.com/alan-turing-institute/sktime/blob/v0.8.0/extension_templates/forecasting.py\n",
        "    _tags = {\n",
        "        \"scitype:y\": \"univariate\",  # which y are fine? univariate/multivariate/both\n",
        "        \"univariate-only\": True,  # does estimator use the exogeneous X?\n",
        "        \"handles-missing-data\": False,  # can estimator handle missing data?\n",
        "        \"y_inner_mtype\": \"pd.Series\",  # which types do _fit, _predict, assume for y?\n",
        "        \"X_inner_mtype\": \"pd.DataFrame\",  # which types do _fit, _predict, assume for X?\n",
        "        \"requires-fh-in-fit\": False,  # is forecasting horizon already required in fit?\n",
        "        \"X-y-must-have-same-index\": True,  # can estimator handle different X/y index?\n",
        "        \"enforce-index-type\": None,  # index type that needs to be enforced in X/y\n",
        "        \"capability:pred_int\": False,\n",
        "    }\n",
        "\n",
        "    _fitted_param_names = ()\n",
        "    \n",
        "    def __init__(self):\n",
        "        self._forecaster = None\n",
        "        self._fitted_forecaster = None\n",
        "        super(_DartsAdapter, self).__init__()\n",
        "       \n",
        "\n",
        "    def _fit(self, y, X=None, fh=None):\n",
        "        \"\"\"Fit to training data.\n",
        "        Parameters\n",
        "        ----------\n",
        "        y : pd.Series\n",
        "            Target time series to which to fit the forecaster.\n",
        "        fh : int, list or np.array, optional (default=None)\n",
        "            The forecasters horizon with the steps ahead to to predict.\n",
        "        X : pd.DataFrame, optional (default=None)\n",
        "            Exogenous variables are ignored\n",
        "        Returns\n",
        "        -------\n",
        "        self : returns an instance of self.\n",
        "        \"\"\"\n",
        "        self._forecaster = self._instantiate_model()\n",
        "\n",
        "        from darts import TimeSeries\n",
        "        # Darts needs a datetime index (originally passed as PeriodIndex)\n",
        "        y.index = y.index.astype('datetime64[ns]') \n",
        "        y_ts = TimeSeries.from_series(y)\n",
        "        self._forecaster.fit(y_ts)\n",
        "        \n",
        "        # this should happen last\n",
        "        self._is_fitted = True\n",
        "\n",
        "        return self\n",
        "\n",
        "    def _predict(self, fh=None, X=None, return_pred_int=False, alpha=0.05):\n",
        "        self.check_is_fitted()\n",
        "        \n",
        "        # Temporary hack assuming continuous values without any gap.\n",
        "        # Will need more work\n",
        "        h = len(list(fh))\n",
        "        print(h)\n",
        "        y = self._forecaster.predict(h).values()\n",
        "        return y"
      ],
      "execution_count": null,
      "outputs": []
    },
    {
      "cell_type": "code",
      "metadata": {
        "id": "wiO42sPqLCry"
      },
      "source": [
        "class Naive(_DartsAdapter):\n",
        "    def __init__(\n",
        "        self,\n",
        "        K=1,\n",
        "    ):\n",
        "      self.K = K\n",
        "      \n",
        "      super(Naive, self).__init__()\n",
        "\n",
        "    def _instantiate_model(self):\n",
        "        # import inside method to avoid hard dependency\n",
        "        from darts.models import NaiveSeasonal as _NaiveSeasonal\n",
        "        return _NaiveSeasonal(K = self.K)\n"
      ],
      "execution_count": null,
      "outputs": []
    },
    {
      "cell_type": "markdown",
      "metadata": {
        "id": "L15ogZhnUqkI"
      },
      "source": [
        "## Get Dataset"
      ]
    },
    {
      "cell_type": "code",
      "metadata": {
        "colab": {
          "base_uri": "https://localhost:8080/",
          "height": 357
        },
        "id": "upb8xabYLvwr",
        "outputId": "347d6916-61ba-434d-cc87-f74f19a9e650"
      },
      "source": [
        "from pycaret.datasets import get_data\n",
        "y = get_data(\"airline\")\n",
        "train = y[:-36]\n",
        "test = y[-36:]\n",
        "train.index, test.index"
      ],
      "execution_count": null,
      "outputs": [
        {
          "output_type": "display_data",
          "data": {
            "text/plain": [
              "Period\n",
              "1949-01    112.0\n",
              "1949-02    118.0\n",
              "1949-03    132.0\n",
              "1949-04    129.0\n",
              "1949-05    121.0\n",
              "Freq: M, Name: Number of airline passengers, dtype: float64"
            ]
          },
          "metadata": {}
        },
        {
          "output_type": "execute_result",
          "data": {
            "text/plain": [
              "(PeriodIndex(['1949-01', '1949-02', '1949-03', '1949-04', '1949-05', '1949-06',\n",
              "              '1949-07', '1949-08', '1949-09', '1949-10',\n",
              "              ...\n",
              "              '1957-03', '1957-04', '1957-05', '1957-06', '1957-07', '1957-08',\n",
              "              '1957-09', '1957-10', '1957-11', '1957-12'],\n",
              "             dtype='period[M]', name='Period', length=108),\n",
              " PeriodIndex(['1958-01', '1958-02', '1958-03', '1958-04', '1958-05', '1958-06',\n",
              "              '1958-07', '1958-08', '1958-09', '1958-10', '1958-11', '1958-12',\n",
              "              '1959-01', '1959-02', '1959-03', '1959-04', '1959-05', '1959-06',\n",
              "              '1959-07', '1959-08', '1959-09', '1959-10', '1959-11', '1959-12',\n",
              "              '1960-01', '1960-02', '1960-03', '1960-04', '1960-05', '1960-06',\n",
              "              '1960-07', '1960-08', '1960-09', '1960-10', '1960-11', '1960-12'],\n",
              "             dtype='period[M]', name='Period'))"
            ]
          },
          "metadata": {},
          "execution_count": 6
        }
      ]
    },
    {
      "cell_type": "markdown",
      "metadata": {
        "id": "1zJtsxLnUzM4"
      },
      "source": [
        "## Train"
      ]
    },
    {
      "cell_type": "code",
      "metadata": {
        "colab": {
          "base_uri": "https://localhost:8080/"
        },
        "id": "ZIKQdO-oLxWj",
        "outputId": "4e39b488-1b2c-47f4-f58d-38cb7b12c750"
      },
      "source": [
        "model = Naive()\n",
        "model.fit(train)"
      ],
      "execution_count": null,
      "outputs": [
        {
          "output_type": "execute_result",
          "data": {
            "text/plain": [
              "Naive()"
            ]
          },
          "metadata": {},
          "execution_count": 7
        }
      ]
    },
    {
      "cell_type": "markdown",
      "metadata": {
        "id": "EAj5E0OuU2ph"
      },
      "source": [
        "## Predict"
      ]
    },
    {
      "cell_type": "code",
      "metadata": {
        "colab": {
          "base_uri": "https://localhost:8080/"
        },
        "id": "OFNiqt7VQek0",
        "outputId": "1645fa92-a2f9-4ce6-f3e8-a9243b01e4ab"
      },
      "source": [
        "#### Preiction works with underlying DARTS model ----\n",
        "model._forecaster.predict(36).values().T"
      ],
      "execution_count": null,
      "outputs": [
        {
          "output_type": "execute_result",
          "data": {
            "text/plain": [
              "array([[336., 336., 336., 336., 336., 336., 336., 336., 336., 336., 336.,\n",
              "        336., 336., 336., 336., 336., 336., 336., 336., 336., 336., 336.,\n",
              "        336., 336., 336., 336., 336., 336., 336., 336., 336., 336., 336.,\n",
              "        336., 336., 336.]])"
            ]
          },
          "metadata": {},
          "execution_count": 8
        }
      ]
    },
    {
      "cell_type": "code",
      "metadata": {
        "colab": {
          "base_uri": "https://localhost:8080/",
          "height": 341
        },
        "id": "VAy24Te8PFJG",
        "outputId": "f934000a-5647-459c-edb8-d2013079963b"
      },
      "source": [
        "#### Prediction does not work with sktime adapter ----\n",
        "predictions = model.predict(fh=np.arange(1, 37))"
      ],
      "execution_count": null,
      "outputs": [
        {
          "output_type": "stream",
          "name": "stdout",
          "text": [
            "36\n"
          ]
        },
        {
          "output_type": "error",
          "ename": "ValueError",
          "evalue": "ignored",
          "traceback": [
            "\u001b[0;31m---------------------------------------------------------------------------\u001b[0m",
            "\u001b[0;31mValueError\u001b[0m                                Traceback (most recent call last)",
            "\u001b[0;32m<ipython-input-9-b98f13359c37>\u001b[0m in \u001b[0;36m<module>\u001b[0;34m\u001b[0m\n\u001b[1;32m      1\u001b[0m \u001b[0;31m#### Prediction does not work with sktime adapter ----\u001b[0m\u001b[0;34m\u001b[0m\u001b[0;34m\u001b[0m\u001b[0;34m\u001b[0m\u001b[0m\n\u001b[0;32m----> 2\u001b[0;31m \u001b[0mpredictions\u001b[0m \u001b[0;34m=\u001b[0m \u001b[0mmodel\u001b[0m\u001b[0;34m.\u001b[0m\u001b[0mpredict\u001b[0m\u001b[0;34m(\u001b[0m\u001b[0mfh\u001b[0m\u001b[0;34m=\u001b[0m\u001b[0mnp\u001b[0m\u001b[0;34m.\u001b[0m\u001b[0marange\u001b[0m\u001b[0;34m(\u001b[0m\u001b[0;36m1\u001b[0m\u001b[0;34m,\u001b[0m \u001b[0;36m37\u001b[0m\u001b[0;34m)\u001b[0m\u001b[0;34m)\u001b[0m\u001b[0;34m\u001b[0m\u001b[0;34m\u001b[0m\u001b[0m\n\u001b[0m",
            "\u001b[0;32m/usr/local/lib/python3.7/dist-packages/sktime/forecasting/base/_base.py\u001b[0m in \u001b[0;36mpredict\u001b[0;34m(self, fh, X, return_pred_int, alpha, keep_old_return_type)\u001b[0m\n\u001b[1;32m    205\u001b[0m                 \u001b[0mself\u001b[0m\u001b[0;34m.\u001b[0m\u001b[0m_y_mtype_last_seen\u001b[0m\u001b[0;34m,\u001b[0m\u001b[0;34m\u001b[0m\u001b[0;34m\u001b[0m\u001b[0m\n\u001b[1;32m    206\u001b[0m                 \u001b[0mas_scitype\u001b[0m\u001b[0;34m=\u001b[0m\u001b[0;34m\"Series\"\u001b[0m\u001b[0;34m,\u001b[0m\u001b[0;34m\u001b[0m\u001b[0;34m\u001b[0m\u001b[0m\n\u001b[0;32m--> 207\u001b[0;31m                 \u001b[0mstore\u001b[0m\u001b[0;34m=\u001b[0m\u001b[0mself\u001b[0m\u001b[0;34m.\u001b[0m\u001b[0m_converter_store_y\u001b[0m\u001b[0;34m,\u001b[0m\u001b[0;34m\u001b[0m\u001b[0;34m\u001b[0m\u001b[0m\n\u001b[0m\u001b[1;32m    208\u001b[0m             )\n\u001b[1;32m    209\u001b[0m \u001b[0;34m\u001b[0m\u001b[0m\n",
            "\u001b[0;32m/usr/local/lib/python3.7/dist-packages/sktime/datatypes/_convert.py\u001b[0m in \u001b[0;36mconvert_to\u001b[0;34m(obj, to_type, as_scitype, store)\u001b[0m\n\u001b[1;32m    185\u001b[0m         \u001b[0mto_type\u001b[0m\u001b[0;34m=\u001b[0m\u001b[0mto_type\u001b[0m\u001b[0;34m,\u001b[0m\u001b[0;34m\u001b[0m\u001b[0;34m\u001b[0m\u001b[0m\n\u001b[1;32m    186\u001b[0m         \u001b[0mas_scitype\u001b[0m\u001b[0;34m=\u001b[0m\u001b[0mas_scitype\u001b[0m\u001b[0;34m,\u001b[0m\u001b[0;34m\u001b[0m\u001b[0;34m\u001b[0m\u001b[0m\n\u001b[0;32m--> 187\u001b[0;31m         \u001b[0mstore\u001b[0m\u001b[0;34m=\u001b[0m\u001b[0mstore\u001b[0m\u001b[0;34m,\u001b[0m\u001b[0;34m\u001b[0m\u001b[0;34m\u001b[0m\u001b[0m\n\u001b[0m\u001b[1;32m    188\u001b[0m     )\n\u001b[1;32m    189\u001b[0m \u001b[0;34m\u001b[0m\u001b[0m\n",
            "\u001b[0;32m/usr/local/lib/python3.7/dist-packages/sktime/datatypes/_convert.py\u001b[0m in \u001b[0;36mconvert\u001b[0;34m(obj, from_type, to_type, as_scitype, store)\u001b[0m\n\u001b[1;32m    122\u001b[0m         )\n\u001b[1;32m    123\u001b[0m \u001b[0;34m\u001b[0m\u001b[0m\n\u001b[0;32m--> 124\u001b[0;31m     \u001b[0mconverted_obj\u001b[0m \u001b[0;34m=\u001b[0m \u001b[0mconvert_dict\u001b[0m\u001b[0;34m[\u001b[0m\u001b[0mkey\u001b[0m\u001b[0;34m]\u001b[0m\u001b[0;34m(\u001b[0m\u001b[0mobj\u001b[0m\u001b[0;34m,\u001b[0m \u001b[0mstore\u001b[0m\u001b[0;34m=\u001b[0m\u001b[0mstore\u001b[0m\u001b[0;34m)\u001b[0m\u001b[0;34m\u001b[0m\u001b[0;34m\u001b[0m\u001b[0m\n\u001b[0m\u001b[1;32m    125\u001b[0m \u001b[0;34m\u001b[0m\u001b[0m\n\u001b[1;32m    126\u001b[0m     \u001b[0;32mreturn\u001b[0m \u001b[0mconverted_obj\u001b[0m\u001b[0;34m\u001b[0m\u001b[0;34m\u001b[0m\u001b[0m\n",
            "\u001b[0;32m/usr/local/lib/python3.7/dist-packages/sktime/datatypes/_series/_convert.py\u001b[0m in \u001b[0;36mconvert_np_to_UvS_as_Series\u001b[0;34m(obj, store)\u001b[0m\n\u001b[1;32m    143\u001b[0m         \u001b[0;32mraise\u001b[0m \u001b[0mTypeError\u001b[0m\u001b[0;34m(\u001b[0m\u001b[0;34m\"input must be a np.ndarray of dim 1 or 2\"\u001b[0m\u001b[0;34m)\u001b[0m\u001b[0;34m\u001b[0m\u001b[0;34m\u001b[0m\u001b[0m\n\u001b[1;32m    144\u001b[0m \u001b[0;34m\u001b[0m\u001b[0m\n\u001b[0;32m--> 145\u001b[0;31m     \u001b[0;32mreturn\u001b[0m \u001b[0mpd\u001b[0m\u001b[0;34m.\u001b[0m\u001b[0mSeries\u001b[0m\u001b[0;34m(\u001b[0m\u001b[0mobj\u001b[0m\u001b[0;34m)\u001b[0m\u001b[0;34m\u001b[0m\u001b[0;34m\u001b[0m\u001b[0m\n\u001b[0m\u001b[1;32m    146\u001b[0m \u001b[0;34m\u001b[0m\u001b[0m\n\u001b[1;32m    147\u001b[0m \u001b[0;34m\u001b[0m\u001b[0m\n",
            "\u001b[0;32m/usr/local/lib/python3.7/dist-packages/pandas/core/series.py\u001b[0m in \u001b[0;36m__init__\u001b[0;34m(self, data, index, dtype, name, copy, fastpath)\u001b[0m\n\u001b[1;32m    437\u001b[0m                     \u001b[0mdata\u001b[0m \u001b[0;34m=\u001b[0m \u001b[0mdata\u001b[0m\u001b[0;34m.\u001b[0m\u001b[0mcopy\u001b[0m\u001b[0;34m(\u001b[0m\u001b[0;34m)\u001b[0m\u001b[0;34m\u001b[0m\u001b[0;34m\u001b[0m\u001b[0m\n\u001b[1;32m    438\u001b[0m             \u001b[0;32melse\u001b[0m\u001b[0;34m:\u001b[0m\u001b[0;34m\u001b[0m\u001b[0;34m\u001b[0m\u001b[0m\n\u001b[0;32m--> 439\u001b[0;31m                 \u001b[0mdata\u001b[0m \u001b[0;34m=\u001b[0m \u001b[0msanitize_array\u001b[0m\u001b[0;34m(\u001b[0m\u001b[0mdata\u001b[0m\u001b[0;34m,\u001b[0m \u001b[0mindex\u001b[0m\u001b[0;34m,\u001b[0m \u001b[0mdtype\u001b[0m\u001b[0;34m,\u001b[0m \u001b[0mcopy\u001b[0m\u001b[0;34m)\u001b[0m\u001b[0;34m\u001b[0m\u001b[0;34m\u001b[0m\u001b[0m\n\u001b[0m\u001b[1;32m    440\u001b[0m \u001b[0;34m\u001b[0m\u001b[0m\n\u001b[1;32m    441\u001b[0m                 \u001b[0mmanager\u001b[0m \u001b[0;34m=\u001b[0m \u001b[0mget_option\u001b[0m\u001b[0;34m(\u001b[0m\u001b[0;34m\"mode.data_manager\"\u001b[0m\u001b[0;34m)\u001b[0m\u001b[0;34m\u001b[0m\u001b[0;34m\u001b[0m\u001b[0m\n",
            "\u001b[0;32m/usr/local/lib/python3.7/dist-packages/pandas/core/construction.py\u001b[0m in \u001b[0;36msanitize_array\u001b[0;34m(data, index, dtype, copy, raise_cast_failure, allow_2d)\u001b[0m\n\u001b[1;32m    574\u001b[0m                 \u001b[0msubarr\u001b[0m \u001b[0;34m=\u001b[0m \u001b[0mmaybe_infer_to_datetimelike\u001b[0m\u001b[0;34m(\u001b[0m\u001b[0msubarr\u001b[0m\u001b[0;34m)\u001b[0m\u001b[0;34m\u001b[0m\u001b[0;34m\u001b[0m\u001b[0m\n\u001b[1;32m    575\u001b[0m \u001b[0;34m\u001b[0m\u001b[0m\n\u001b[0;32m--> 576\u001b[0;31m     \u001b[0msubarr\u001b[0m \u001b[0;34m=\u001b[0m \u001b[0m_sanitize_ndim\u001b[0m\u001b[0;34m(\u001b[0m\u001b[0msubarr\u001b[0m\u001b[0;34m,\u001b[0m \u001b[0mdata\u001b[0m\u001b[0;34m,\u001b[0m \u001b[0mdtype\u001b[0m\u001b[0;34m,\u001b[0m \u001b[0mindex\u001b[0m\u001b[0;34m,\u001b[0m \u001b[0mallow_2d\u001b[0m\u001b[0;34m=\u001b[0m\u001b[0mallow_2d\u001b[0m\u001b[0;34m)\u001b[0m\u001b[0;34m\u001b[0m\u001b[0;34m\u001b[0m\u001b[0m\n\u001b[0m\u001b[1;32m    577\u001b[0m \u001b[0;34m\u001b[0m\u001b[0m\n\u001b[1;32m    578\u001b[0m     \u001b[0;32mif\u001b[0m \u001b[0misinstance\u001b[0m\u001b[0;34m(\u001b[0m\u001b[0msubarr\u001b[0m\u001b[0;34m,\u001b[0m \u001b[0mnp\u001b[0m\u001b[0;34m.\u001b[0m\u001b[0mndarray\u001b[0m\u001b[0;34m)\u001b[0m\u001b[0;34m:\u001b[0m\u001b[0;34m\u001b[0m\u001b[0;34m\u001b[0m\u001b[0m\n",
            "\u001b[0;32m/usr/local/lib/python3.7/dist-packages/pandas/core/construction.py\u001b[0m in \u001b[0;36m_sanitize_ndim\u001b[0;34m(result, data, dtype, index, allow_2d)\u001b[0m\n\u001b[1;32m    625\u001b[0m             \u001b[0;32mif\u001b[0m \u001b[0mallow_2d\u001b[0m\u001b[0;34m:\u001b[0m\u001b[0;34m\u001b[0m\u001b[0;34m\u001b[0m\u001b[0m\n\u001b[1;32m    626\u001b[0m                 \u001b[0;32mreturn\u001b[0m \u001b[0mresult\u001b[0m\u001b[0;34m\u001b[0m\u001b[0;34m\u001b[0m\u001b[0m\n\u001b[0;32m--> 627\u001b[0;31m             \u001b[0;32mraise\u001b[0m \u001b[0mValueError\u001b[0m\u001b[0;34m(\u001b[0m\u001b[0;34m\"Data must be 1-dimensional\"\u001b[0m\u001b[0;34m)\u001b[0m\u001b[0;34m\u001b[0m\u001b[0;34m\u001b[0m\u001b[0m\n\u001b[0m\u001b[1;32m    628\u001b[0m         \u001b[0;32mif\u001b[0m \u001b[0mis_object_dtype\u001b[0m\u001b[0;34m(\u001b[0m\u001b[0mdtype\u001b[0m\u001b[0;34m)\u001b[0m \u001b[0;32mand\u001b[0m \u001b[0misinstance\u001b[0m\u001b[0;34m(\u001b[0m\u001b[0mdtype\u001b[0m\u001b[0;34m,\u001b[0m \u001b[0mExtensionDtype\u001b[0m\u001b[0;34m)\u001b[0m\u001b[0;34m:\u001b[0m\u001b[0;34m\u001b[0m\u001b[0;34m\u001b[0m\u001b[0m\n\u001b[1;32m    629\u001b[0m             \u001b[0;31m# i.e. PandasDtype(\"O\")\u001b[0m\u001b[0;34m\u001b[0m\u001b[0;34m\u001b[0m\u001b[0;34m\u001b[0m\u001b[0m\n",
            "\u001b[0;31mValueError\u001b[0m: Data must be 1-dimensional"
          ]
        }
      ]
    },
    {
      "cell_type": "markdown",
      "metadata": {
        "id": "vOjJ9dTUUQoI"
      },
      "source": [
        "## Backup"
      ]
    },
    {
      "cell_type": "code",
      "metadata": {
        "id": "uo0vEd9BURfc"
      },
      "source": [
        "from darts.metrics import mape, mase\n",
        "from darts.utils.statistics import check_seasonality, plot_acf, plot_residuals_analysis, plot_hist\n",
        "from darts.datasets import AirPassengersDataset"
      ],
      "execution_count": null,
      "outputs": []
    },
    {
      "cell_type": "code",
      "metadata": {
        "id": "wq5dULjXPnt-"
      },
      "source": [
        "series = AirPassengersDataset().load()\n",
        "series.plot()"
      ],
      "execution_count": null,
      "outputs": []
    },
    {
      "cell_type": "code",
      "metadata": {
        "id": "vqRcfIEwUVXr"
      },
      "source": [
        "train, val = series.split_before(pd.Timestamp('19580101'))\n",
        "train.plot(label='training')\n",
        "val.plot(label='validation')\n",
        "plt.legend()"
      ],
      "execution_count": null,
      "outputs": []
    },
    {
      "cell_type": "code",
      "metadata": {
        "id": "Px8t6wA0UYFc"
      },
      "source": [
        "naive_model = NaiveSeasonal(K=1)\n",
        "naive_model.fit(train)\n",
        "naive_forecast = naive_model.predict(36)\n",
        "\n",
        "series.plot(label='actual')\n",
        "naive_forecast.plot(label='naive forecast (K=1)')\n",
        "plt.legend();"
      ],
      "execution_count": null,
      "outputs": []
    },
    {
      "cell_type": "code",
      "metadata": {
        "id": "7WBlkxHgUaqs"
      },
      "source": [
        ""
      ],
      "execution_count": null,
      "outputs": []
    }
  ]
}