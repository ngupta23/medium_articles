{
  "nbformat": 4,
  "nbformat_minor": 0,
  "metadata": {
    "colab": {
      "name": "pycaret_ts_arima_ct.ipynb",
      "provenance": [],
      "collapsed_sections": [],
      "authorship_tag": "ABX9TyNmsQiI5Xqfzm/AdFQGb2JL",
      "include_colab_link": true
    },
    "kernelspec": {
      "name": "python3",
      "display_name": "Python 3"
    },
    "language_info": {
      "name": "python"
    },
    "widgets": {
      "application/vnd.jupyter.widget-state+json": {
        "1861c5ee9b0547ac916dc1a008ea1ffb": {
          "model_module": "@jupyter-widgets/controls",
          "model_name": "IntProgressModel",
          "model_module_version": "1.5.0",
          "state": {
            "_view_name": "ProgressView",
            "style": "IPY_MODEL_d4cf7809b4e749c7b4a238ba96790e45",
            "_dom_classes": [],
            "description": "Processing: ",
            "_model_name": "IntProgressModel",
            "bar_style": "",
            "max": 3,
            "_view_module": "@jupyter-widgets/controls",
            "_model_module_version": "1.5.0",
            "value": 3,
            "_view_count": null,
            "_view_module_version": "1.5.0",
            "orientation": "horizontal",
            "min": 0,
            "description_tooltip": null,
            "_model_module": "@jupyter-widgets/controls",
            "layout": "IPY_MODEL_a231984f4c864bdea485336eb7cb019c"
          }
        },
        "d4cf7809b4e749c7b4a238ba96790e45": {
          "model_module": "@jupyter-widgets/controls",
          "model_name": "ProgressStyleModel",
          "model_module_version": "1.5.0",
          "state": {
            "_view_name": "StyleView",
            "_model_name": "ProgressStyleModel",
            "description_width": "",
            "_view_module": "@jupyter-widgets/base",
            "_model_module_version": "1.5.0",
            "_view_count": null,
            "_view_module_version": "1.2.0",
            "bar_color": null,
            "_model_module": "@jupyter-widgets/controls"
          }
        },
        "a231984f4c864bdea485336eb7cb019c": {
          "model_module": "@jupyter-widgets/base",
          "model_name": "LayoutModel",
          "model_module_version": "1.2.0",
          "state": {
            "_view_name": "LayoutView",
            "grid_template_rows": null,
            "right": null,
            "justify_content": null,
            "_view_module": "@jupyter-widgets/base",
            "overflow": null,
            "_model_module_version": "1.2.0",
            "_view_count": null,
            "flex_flow": null,
            "width": null,
            "min_width": null,
            "border": null,
            "align_items": null,
            "bottom": null,
            "_model_module": "@jupyter-widgets/base",
            "top": null,
            "grid_column": null,
            "overflow_y": null,
            "overflow_x": null,
            "grid_auto_flow": null,
            "grid_area": null,
            "grid_template_columns": null,
            "flex": null,
            "_model_name": "LayoutModel",
            "justify_items": null,
            "grid_row": null,
            "max_height": null,
            "align_content": null,
            "visibility": null,
            "align_self": null,
            "height": null,
            "min_height": null,
            "padding": null,
            "grid_auto_rows": null,
            "grid_gap": null,
            "max_width": null,
            "order": null,
            "_view_module_version": "1.2.0",
            "grid_template_areas": null,
            "object_position": null,
            "object_fit": null,
            "grid_auto_columns": null,
            "margin": null,
            "display": null,
            "left": null
          }
        },
        "f1c34f84ef5046739358392390dedb48": {
          "model_module": "@jupyter-widgets/controls",
          "model_name": "IntProgressModel",
          "model_module_version": "1.5.0",
          "state": {
            "_view_name": "ProgressView",
            "style": "IPY_MODEL_8ee1681eef644747a4765f9071d6fa41",
            "_dom_classes": [],
            "description": "Processing: ",
            "_model_name": "IntProgressModel",
            "bar_style": "",
            "max": 4,
            "_view_module": "@jupyter-widgets/controls",
            "_model_module_version": "1.5.0",
            "value": 4,
            "_view_count": null,
            "_view_module_version": "1.5.0",
            "orientation": "horizontal",
            "min": 0,
            "description_tooltip": null,
            "_model_module": "@jupyter-widgets/controls",
            "layout": "IPY_MODEL_1f9bcba5b0f540f5951de9b90cb2106b"
          }
        },
        "8ee1681eef644747a4765f9071d6fa41": {
          "model_module": "@jupyter-widgets/controls",
          "model_name": "ProgressStyleModel",
          "model_module_version": "1.5.0",
          "state": {
            "_view_name": "StyleView",
            "_model_name": "ProgressStyleModel",
            "description_width": "",
            "_view_module": "@jupyter-widgets/base",
            "_model_module_version": "1.5.0",
            "_view_count": null,
            "_view_module_version": "1.2.0",
            "bar_color": null,
            "_model_module": "@jupyter-widgets/controls"
          }
        },
        "1f9bcba5b0f540f5951de9b90cb2106b": {
          "model_module": "@jupyter-widgets/base",
          "model_name": "LayoutModel",
          "model_module_version": "1.2.0",
          "state": {
            "_view_name": "LayoutView",
            "grid_template_rows": null,
            "right": null,
            "justify_content": null,
            "_view_module": "@jupyter-widgets/base",
            "overflow": null,
            "_model_module_version": "1.2.0",
            "_view_count": null,
            "flex_flow": null,
            "width": null,
            "min_width": null,
            "border": null,
            "align_items": null,
            "bottom": null,
            "_model_module": "@jupyter-widgets/base",
            "top": null,
            "grid_column": null,
            "overflow_y": null,
            "overflow_x": null,
            "grid_auto_flow": null,
            "grid_area": null,
            "grid_template_columns": null,
            "flex": null,
            "_model_name": "LayoutModel",
            "justify_items": null,
            "grid_row": null,
            "max_height": null,
            "align_content": null,
            "visibility": null,
            "align_self": null,
            "height": null,
            "min_height": null,
            "padding": null,
            "grid_auto_rows": null,
            "grid_gap": null,
            "max_width": null,
            "order": null,
            "_view_module_version": "1.2.0",
            "grid_template_areas": null,
            "object_position": null,
            "object_fit": null,
            "grid_auto_columns": null,
            "margin": null,
            "display": null,
            "left": null
          }
        },
        "2f2d0d13e4e140d3a9f25b00bea85c0a": {
          "model_module": "@jupyter-widgets/controls",
          "model_name": "IntProgressModel",
          "model_module_version": "1.5.0",
          "state": {
            "_view_name": "ProgressView",
            "style": "IPY_MODEL_e50d5759b72a42aba3c380011921e434",
            "_dom_classes": [],
            "description": "Processing: ",
            "_model_name": "IntProgressModel",
            "bar_style": "",
            "max": 4,
            "_view_module": "@jupyter-widgets/controls",
            "_model_module_version": "1.5.0",
            "value": 4,
            "_view_count": null,
            "_view_module_version": "1.5.0",
            "orientation": "horizontal",
            "min": 0,
            "description_tooltip": null,
            "_model_module": "@jupyter-widgets/controls",
            "layout": "IPY_MODEL_7875c719778e49618c3175a9ee732add"
          }
        },
        "e50d5759b72a42aba3c380011921e434": {
          "model_module": "@jupyter-widgets/controls",
          "model_name": "ProgressStyleModel",
          "model_module_version": "1.5.0",
          "state": {
            "_view_name": "StyleView",
            "_model_name": "ProgressStyleModel",
            "description_width": "",
            "_view_module": "@jupyter-widgets/base",
            "_model_module_version": "1.5.0",
            "_view_count": null,
            "_view_module_version": "1.2.0",
            "bar_color": null,
            "_model_module": "@jupyter-widgets/controls"
          }
        },
        "7875c719778e49618c3175a9ee732add": {
          "model_module": "@jupyter-widgets/base",
          "model_name": "LayoutModel",
          "model_module_version": "1.2.0",
          "state": {
            "_view_name": "LayoutView",
            "grid_template_rows": null,
            "right": null,
            "justify_content": null,
            "_view_module": "@jupyter-widgets/base",
            "overflow": null,
            "_model_module_version": "1.2.0",
            "_view_count": null,
            "flex_flow": null,
            "width": null,
            "min_width": null,
            "border": null,
            "align_items": null,
            "bottom": null,
            "_model_module": "@jupyter-widgets/base",
            "top": null,
            "grid_column": null,
            "overflow_y": null,
            "overflow_x": null,
            "grid_auto_flow": null,
            "grid_area": null,
            "grid_template_columns": null,
            "flex": null,
            "_model_name": "LayoutModel",
            "justify_items": null,
            "grid_row": null,
            "max_height": null,
            "align_content": null,
            "visibility": null,
            "align_self": null,
            "height": null,
            "min_height": null,
            "padding": null,
            "grid_auto_rows": null,
            "grid_gap": null,
            "max_width": null,
            "order": null,
            "_view_module_version": "1.2.0",
            "grid_template_areas": null,
            "object_position": null,
            "object_fit": null,
            "grid_auto_columns": null,
            "margin": null,
            "display": null,
            "left": null
          }
        },
        "ef07ae30327b4e42904f556a18dc82cd": {
          "model_module": "@jupyter-widgets/controls",
          "model_name": "IntProgressModel",
          "model_module_version": "1.5.0",
          "state": {
            "_view_name": "ProgressView",
            "style": "IPY_MODEL_ffb3588ce8a4424c8ffe34dbf3f62cc5",
            "_dom_classes": [],
            "description": "Processing: ",
            "_model_name": "IntProgressModel",
            "bar_style": "",
            "max": 4,
            "_view_module": "@jupyter-widgets/controls",
            "_model_module_version": "1.5.0",
            "value": 4,
            "_view_count": null,
            "_view_module_version": "1.5.0",
            "orientation": "horizontal",
            "min": 0,
            "description_tooltip": null,
            "_model_module": "@jupyter-widgets/controls",
            "layout": "IPY_MODEL_318e474f16be48ae838c53b2b170aee1"
          }
        },
        "ffb3588ce8a4424c8ffe34dbf3f62cc5": {
          "model_module": "@jupyter-widgets/controls",
          "model_name": "ProgressStyleModel",
          "model_module_version": "1.5.0",
          "state": {
            "_view_name": "StyleView",
            "_model_name": "ProgressStyleModel",
            "description_width": "",
            "_view_module": "@jupyter-widgets/base",
            "_model_module_version": "1.5.0",
            "_view_count": null,
            "_view_module_version": "1.2.0",
            "bar_color": null,
            "_model_module": "@jupyter-widgets/controls"
          }
        },
        "318e474f16be48ae838c53b2b170aee1": {
          "model_module": "@jupyter-widgets/base",
          "model_name": "LayoutModel",
          "model_module_version": "1.2.0",
          "state": {
            "_view_name": "LayoutView",
            "grid_template_rows": null,
            "right": null,
            "justify_content": null,
            "_view_module": "@jupyter-widgets/base",
            "overflow": null,
            "_model_module_version": "1.2.0",
            "_view_count": null,
            "flex_flow": null,
            "width": null,
            "min_width": null,
            "border": null,
            "align_items": null,
            "bottom": null,
            "_model_module": "@jupyter-widgets/base",
            "top": null,
            "grid_column": null,
            "overflow_y": null,
            "overflow_x": null,
            "grid_auto_flow": null,
            "grid_area": null,
            "grid_template_columns": null,
            "flex": null,
            "_model_name": "LayoutModel",
            "justify_items": null,
            "grid_row": null,
            "max_height": null,
            "align_content": null,
            "visibility": null,
            "align_self": null,
            "height": null,
            "min_height": null,
            "padding": null,
            "grid_auto_rows": null,
            "grid_gap": null,
            "max_width": null,
            "order": null,
            "_view_module_version": "1.2.0",
            "grid_template_areas": null,
            "object_position": null,
            "object_fit": null,
            "grid_auto_columns": null,
            "margin": null,
            "display": null,
            "left": null
          }
        }
      }
    }
  },
  "cells": [
    {
      "cell_type": "markdown",
      "metadata": {
        "id": "view-in-github",
        "colab_type": "text"
      },
      "source": [
        "<a href=\"https://colab.research.google.com/github/ngupta23/medium_articles/blob/main/time_series/pycaret/pycaret_ts_arima_trend.ipynb\" target=\"_parent\"><img src=\"https://colab.research.google.com/assets/colab-badge.svg\" alt=\"Open In Colab\"/></a>"
      ]
    },
    {
      "cell_type": "markdown",
      "metadata": {
        "id": "Oy4Jo2zz2QkT"
      },
      "source": [
        "## Previous Article(s) in this Series\n",
        "\n",
        "- [A Practical Guide to ARIMA Models using PyCaret — Part 1](https://medium.com/p/692e10ca02f2)"
      ]
    },
    {
      "cell_type": "markdown",
      "metadata": {
        "id": "cCSXDcfLUpiI"
      },
      "source": [
        "## Install & Import Library\n",
        "\n",
        "\n"
      ]
    },
    {
      "cell_type": "code",
      "metadata": {
        "id": "bIzRzdrYUoYk"
      },
      "source": [
        "try:\n",
        "  import pycaret\n",
        "except:\n",
        "  !pip install pycaret-ts-alpha"
      ],
      "execution_count": 1,
      "outputs": []
    },
    {
      "cell_type": "markdown",
      "metadata": {
        "id": "yPO-3Az6Uw6p"
      },
      "source": [
        ""
      ]
    },
    {
      "cell_type": "code",
      "metadata": {
        "colab": {
          "base_uri": "https://localhost:8080/"
        },
        "id": "nADwyjWfUtF6",
        "outputId": "5ecbc64f-f031-4ac5-ccca-6fcbfd75ee17"
      },
      "source": [
        "import numpy as np\n",
        "import pandas as pd\n",
        "import seaborn as sns\n",
        "from pycaret.datasets import get_data\n",
        "from pycaret.internal.pycaret_experiment import TimeSeriesExperiment\n",
        "from sklearn.linear_model import LinearRegression"
      ],
      "execution_count": 2,
      "outputs": [
        {
          "output_type": "stream",
          "name": "stderr",
          "text": [
            "/usr/local/lib/python3.7/dist-packages/distributed/config.py:20: YAMLLoadWarning: calling yaml.load() without Loader=... is deprecated, as the default Loader is unsafe. Please read https://msg.pyyaml.org/load for full details.\n",
            "  defaults = yaml.load(f)\n"
          ]
        }
      ]
    },
    {
      "cell_type": "markdown",
      "metadata": {
        "id": "OhpEAd7MUxYy"
      },
      "source": [
        "## Get Data and Setup PyCaret Experiment"
      ]
    },
    {
      "cell_type": "code",
      "metadata": {
        "colab": {
          "base_uri": "https://localhost:8080/",
          "height": 206
        },
        "id": "EiL8vCoVUuvJ",
        "outputId": "f815ab62-e153-46b2-c403-6e7ef37d8c4f"
      },
      "source": [
        "#### Get data from data playground ----\n",
        "y = get_data(\"1\", folder=\"time_series/white_noise\")"
      ],
      "execution_count": 3,
      "outputs": [
        {
          "output_type": "display_data",
          "data": {
            "text/html": [
              "<div>\n",
              "<style scoped>\n",
              "    .dataframe tbody tr th:only-of-type {\n",
              "        vertical-align: middle;\n",
              "    }\n",
              "\n",
              "    .dataframe tbody tr th {\n",
              "        vertical-align: top;\n",
              "    }\n",
              "\n",
              "    .dataframe thead th {\n",
              "        text-align: right;\n",
              "    }\n",
              "</style>\n",
              "<table border=\"1\" class=\"dataframe\">\n",
              "  <thead>\n",
              "    <tr style=\"text-align: right;\">\n",
              "      <th></th>\n",
              "      <th>x</th>\n",
              "    </tr>\n",
              "  </thead>\n",
              "  <tbody>\n",
              "    <tr>\n",
              "      <th>0</th>\n",
              "      <td>175.379633</td>\n",
              "    </tr>\n",
              "    <tr>\n",
              "      <th>1</th>\n",
              "      <td>176.042116</td>\n",
              "    </tr>\n",
              "    <tr>\n",
              "      <th>2</th>\n",
              "      <td>175.089078</td>\n",
              "    </tr>\n",
              "    <tr>\n",
              "      <th>3</th>\n",
              "      <td>176.158029</td>\n",
              "    </tr>\n",
              "    <tr>\n",
              "      <th>4</th>\n",
              "      <td>175.345415</td>\n",
              "    </tr>\n",
              "  </tbody>\n",
              "</table>\n",
              "</div>"
            ],
            "text/plain": [
              "            x\n",
              "0  175.379633\n",
              "1  176.042116\n",
              "2  175.089078\n",
              "3  176.158029\n",
              "4  175.345415"
            ]
          },
          "metadata": {}
        }
      ]
    },
    {
      "cell_type": "code",
      "metadata": {
        "colab": {
          "base_uri": "https://localhost:8080/",
          "height": 694,
          "referenced_widgets": [
            "1861c5ee9b0547ac916dc1a008ea1ffb",
            "d4cf7809b4e749c7b4a238ba96790e45",
            "a231984f4c864bdea485336eb7cb019c"
          ]
        },
        "id": "y6Z838CPU1sb",
        "outputId": "eda4e2a0-8f67-40fd-e060-4b50ea303588"
      },
      "source": [
        "exp = TimeSeriesExperiment()\n",
        "exp.setup(data=y, seasonal_period=1, fh=30, session_id=42)"
      ],
      "execution_count": 4,
      "outputs": [
        {
          "output_type": "display_data",
          "data": {
            "text/html": [
              "<div>\n",
              "<style scoped>\n",
              "    .dataframe tbody tr th:only-of-type {\n",
              "        vertical-align: middle;\n",
              "    }\n",
              "\n",
              "    .dataframe tbody tr th {\n",
              "        vertical-align: top;\n",
              "    }\n",
              "\n",
              "    .dataframe thead th {\n",
              "        text-align: right;\n",
              "    }\n",
              "</style>\n",
              "<table border=\"1\" class=\"dataframe\">\n",
              "  <thead>\n",
              "    <tr style=\"text-align: right;\">\n",
              "      <th></th>\n",
              "      <th>Description</th>\n",
              "      <th>Value</th>\n",
              "    </tr>\n",
              "  </thead>\n",
              "  <tbody>\n",
              "    <tr>\n",
              "      <th>0</th>\n",
              "      <td>session_id</td>\n",
              "      <td>42</td>\n",
              "    </tr>\n",
              "    <tr>\n",
              "      <th>1</th>\n",
              "      <td>Original Data</td>\n",
              "      <td>(340, 1)</td>\n",
              "    </tr>\n",
              "    <tr>\n",
              "      <th>2</th>\n",
              "      <td>Missing Values</td>\n",
              "      <td>False</td>\n",
              "    </tr>\n",
              "    <tr>\n",
              "      <th>3</th>\n",
              "      <td>Transformed Train Set</td>\n",
              "      <td>(310,)</td>\n",
              "    </tr>\n",
              "    <tr>\n",
              "      <th>4</th>\n",
              "      <td>Transformed Test Set</td>\n",
              "      <td>(30,)</td>\n",
              "    </tr>\n",
              "    <tr>\n",
              "      <th>5</th>\n",
              "      <td>Fold Generator</td>\n",
              "      <td>ExpandingWindowSplitter</td>\n",
              "    </tr>\n",
              "    <tr>\n",
              "      <th>6</th>\n",
              "      <td>Fold Number</td>\n",
              "      <td>3</td>\n",
              "    </tr>\n",
              "    <tr>\n",
              "      <th>7</th>\n",
              "      <td>Enforce Prediction Interval</td>\n",
              "      <td>False</td>\n",
              "    </tr>\n",
              "    <tr>\n",
              "      <th>8</th>\n",
              "      <td>Seasonal Period Tested</td>\n",
              "      <td>1</td>\n",
              "    </tr>\n",
              "    <tr>\n",
              "      <th>9</th>\n",
              "      <td>Seasonality Detected</td>\n",
              "      <td>False</td>\n",
              "    </tr>\n",
              "    <tr>\n",
              "      <th>10</th>\n",
              "      <td>Target Strictly Positive</td>\n",
              "      <td>True</td>\n",
              "    </tr>\n",
              "    <tr>\n",
              "      <th>11</th>\n",
              "      <td>Target White Noise</td>\n",
              "      <td>Yes</td>\n",
              "    </tr>\n",
              "    <tr>\n",
              "      <th>12</th>\n",
              "      <td>Recommended d</td>\n",
              "      <td>0</td>\n",
              "    </tr>\n",
              "    <tr>\n",
              "      <th>13</th>\n",
              "      <td>Recommended Seasonal D</td>\n",
              "      <td>0</td>\n",
              "    </tr>\n",
              "    <tr>\n",
              "      <th>14</th>\n",
              "      <td>CPU Jobs</td>\n",
              "      <td>-1</td>\n",
              "    </tr>\n",
              "    <tr>\n",
              "      <th>15</th>\n",
              "      <td>Use GPU</td>\n",
              "      <td>False</td>\n",
              "    </tr>\n",
              "    <tr>\n",
              "      <th>16</th>\n",
              "      <td>Log Experiment</td>\n",
              "      <td>False</td>\n",
              "    </tr>\n",
              "    <tr>\n",
              "      <th>17</th>\n",
              "      <td>Experiment Name</td>\n",
              "      <td>ts-default-name</td>\n",
              "    </tr>\n",
              "    <tr>\n",
              "      <th>18</th>\n",
              "      <td>USI</td>\n",
              "      <td>43c2</td>\n",
              "    </tr>\n",
              "    <tr>\n",
              "      <th>19</th>\n",
              "      <td>Imputation Type</td>\n",
              "      <td>simple</td>\n",
              "    </tr>\n",
              "  </tbody>\n",
              "</table>\n",
              "</div>"
            ],
            "text/plain": [
              "                    Description                    Value\n",
              "0                    session_id                       42\n",
              "1                 Original Data                 (340, 1)\n",
              "2                Missing Values                    False\n",
              "3         Transformed Train Set                   (310,)\n",
              "4          Transformed Test Set                    (30,)\n",
              "5                Fold Generator  ExpandingWindowSplitter\n",
              "6                   Fold Number                        3\n",
              "7   Enforce Prediction Interval                    False\n",
              "8        Seasonal Period Tested                        1\n",
              "9          Seasonality Detected                    False\n",
              "10     Target Strictly Positive                     True\n",
              "11           Target White Noise                      Yes\n",
              "12                Recommended d                        0\n",
              "13       Recommended Seasonal D                        0\n",
              "14                     CPU Jobs                       -1\n",
              "15                      Use GPU                    False\n",
              "16               Log Experiment                    False\n",
              "17              Experiment Name          ts-default-name\n",
              "18                          USI                     43c2\n",
              "19              Imputation Type                   simple"
            ]
          },
          "metadata": {}
        },
        {
          "output_type": "execute_result",
          "data": {
            "text/plain": [
              "<pycaret.internal.pycaret_experiment.time_series_experiment.TimeSeriesExperiment at 0x7f97cd200b10>"
            ]
          },
          "metadata": {},
          "execution_count": 4
        }
      ]
    },
    {
      "cell_type": "markdown",
      "metadata": {
        "id": "ytCi5n8dU4uJ"
      },
      "source": [
        "## EDA"
      ]
    },
    {
      "cell_type": "code",
      "metadata": {
        "colab": {
          "base_uri": "https://localhost:8080/",
          "height": 542
        },
        "id": "2Tn58TkQU3N5",
        "outputId": "62065abc-b9ec-4b69-949d-15c537ff32d0"
      },
      "source": [
        "exp.plot_model()"
      ],
      "execution_count": 5,
      "outputs": [
        {
          "output_type": "display_data",
          "data": {
            "text/html": [
              "<html>\n",
              "<head><meta charset=\"utf-8\" /></head>\n",
              "<body>\n",
              "    <div>            <script src=\"https://cdnjs.cloudflare.com/ajax/libs/mathjax/2.7.5/MathJax.js?config=TeX-AMS-MML_SVG\"></script><script type=\"text/javascript\">if (window.MathJax) {MathJax.Hub.Config({SVG: {font: \"STIX-Web\"}});}</script>                <script type=\"text/javascript\">window.PlotlyConfig = {MathJaxConfig: 'local'};</script>\n",
              "        <script src=\"https://cdn.plot.ly/plotly-2.6.3.min.js\"></script>                <div id=\"ad9a697a-17f4-4728-8319-edc8e3f5d499\" class=\"plotly-graph-div\" style=\"height:525px; width:100%;\"></div>            <script type=\"text/javascript\">                                    window.PLOTLYENV=window.PLOTLYENV || {};                                    if (document.getElementById(\"ad9a697a-17f4-4728-8319-edc8e3f5d499\")) {                    Plotly.newPlot(                        \"ad9a697a-17f4-4728-8319-edc8e3f5d499\",                        [{\"marker\":{\"color\":\"#3f3f3f\",\"size\":5},\"mode\":\"lines+markers\",\"name\":\"Time Series\",\"showlegend\":true,\"x\":[0,1,2,3,4,5,6,7,8,9,10,11,12,13,14,15,16,17,18,19,20,21,22,23,24,25,26,27,28,29,30,31,32,33,34,35,36,37,38,39,40,41,42,43,44,45,46,47,48,49,50,51,52,53,54,55,56,57,58,59,60,61,62,63,64,65,66,67,68,69,70,71,72,73,74,75,76,77,78,79,80,81,82,83,84,85,86,87,88,89,90,91,92,93,94,95,96,97,98,99,100,101,102,103,104,105,106,107,108,109,110,111,112,113,114,115,116,117,118,119,120,121,122,123,124,125,126,127,128,129,130,131,132,133,134,135,136,137,138,139,140,141,142,143,144,145,146,147,148,149,150,151,152,153,154,155,156,157,158,159,160,161,162,163,164,165,166,167,168,169,170,171,172,173,174,175,176,177,178,179,180,181,182,183,184,185,186,187,188,189,190,191,192,193,194,195,196,197,198,199,200,201,202,203,204,205,206,207,208,209,210,211,212,213,214,215,216,217,218,219,220,221,222,223,224,225,226,227,228,229,230,231,232,233,234,235,236,237,238,239,240,241,242,243,244,245,246,247,248,249,250,251,252,253,254,255,256,257,258,259,260,261,262,263,264,265,266,267,268,269,270,271,272,273,274,275,276,277,278,279,280,281,282,283,284,285,286,287,288,289,290,291,292,293,294,295,296,297,298,299,300,301,302,303,304,305,306,307,308,309,310,311,312,313,314,315,316,317,318,319,320,321,322,323,324,325,326,327,328,329,330,331,332,333,334,335,336,337,338,339],\"y\":[175.379633322776,176.04211587314398,175.089078351448,176.15802877240398,175.34541535608102,177.767287269373,176.716707476017,176.910174229495,176.384185357826,177.68217608051899,175.36426354605098,175.53835526963903,177.43228223854197,175.34930364668998,175.792619256398,175.607192070558,175.680007131452,175.72088669702302,176.494188331268,175.82266951773,175.494042537886,177.34303882516997,175.785420591453,175.820443469957,175.899809258786,176.71266630705102,175.92643559587398,175.962365828533,175.318339521244,175.67572972775397,176.060160440435,175.41110551374,176.53149619263303,174.481605918213,176.30655786078998,174.46355017646198,175.699023873163,175.471720095555,175.347905219319,175.943103222153,174.08564057432,177.176583312019,174.335027563788,175.536469598528,174.884079894957,175.249180998807,178.087166545628,176.017395619693,174.713699469566,174.359394465581,176.450187101273,175.981440167285,175.681931625456,175.070637852546,174.512539689859,174.924807703384,177.000028803714,175.378733305203,174.615573152615,177.86929062242402,176.42510037737202,175.761352899087,177.05848304870898,176.886422651375,175.380756951769,178.20610246453998,175.74497296985902,174.575505349787,175.855600398046,176.20753833923197,178.30797839905898,176.10580236789397,176.456998805423,175.92284706464298,175.66599915763302,175.965273971689,176.78763960563,178.075245008652,177.027392438764,177.207908398387,174.768676578442,176.983895570053,176.219924803661,174.53274997090801,176.521022742648,175.841245395284,177.46458731196998,175.23391800039502,175.56978824607103,175.073890502623,175.82289603856302,176.402011779486,175.26825182688,176.83037316798197,174.791917213696,174.952015587192,177.441157706844,174.98415253469503,176.411974712318,175.618923948891,176.409401839651,177.688873286204,177.586588433442,175.66909219931702,173.714764464708,178.497661589834,176.66706616676498,176.541327335964,175.986600476854,176.51010842295298,175.83562416823003,176.42069464325502,175.59975325602198,174.629792122453,176.98783826745498,177.5197450255,175.691259430774,174.746710244392,176.642241305678,175.955290863106,174.266781593175,176.00213185968002,175.369699666072,175.65903142014,174.84342763736402,177.803141907917,175.66886796360902,174.394486587747,176.19719343873902,176.263175646405,175.014173299591,173.11107932832002,175.359518297435,176.57050763592,175.940276723957,175.90182125599497,176.56082072862,174.81354136142102,177.09677704427398,175.99465597172198,176.707310667398,177.034107734737,176.223480414915,175.12129238713402,177.162964555967,173.999835055215,175.455209259998,175.744329290843,175.833878963235,177.020463908784,176.136221893103,176.407167603424,175.930345186987,175.752335658381,176.69555080662,177.146228357216,173.596903785108,176.57273955524602,176.374724406779,175.57473227844397,176.95101280757703,175.610762818282,175.7156693382,176.85740977807998,177.71962729912102,176.270054900937,175.57781599021197,174.81088670514,175.66896702112098,175.06017067348998,175.74106741688098,176.394379168222,175.148142907976,178.649166881095,176.156011675665,177.13020726745498,173.71087602016001,176.741001157195,174.683754839548,176.919803677609,176.398130155452,175.59247142073002,177.324258630177,175.29876833075298,175.41938569575902,174.99892781897498,175.331821393247,176.945184953373,176.43370214954498,177.005159217677,175.609881335946,176.376370291775,176.244164924486,174.573742657617,177.778429287475,176.134447660934,176.765598999158,176.95513667690898,175.949434298558,175.694184580233,176.89367370242599,174.95270185093898,177.97133738622398,175.616367893712,177.654145302275,177.512212693951,176.082965733586,176.567220914852,174.975451520466,176.32300650302201,177.04361245835602,176.099078486897,175.54586309084598,175.34421814755,175.96407757737703,177.06916146067698,175.51602506969897,175.87898988867298,174.70585999617902,176.494312836015,177.30790152011397,177.497041009403,176.81470273089698,174.13021120979698,176.482029504124,176.45613560330102,175.64659971417,176.17048947094798,175.13596404587298,176.679230774016,175.672898985347,174.430917814856,175.63254924383,177.36443492906997,175.665718635269,176.732750042209,176.94658564019798,176.00439870432598,175.64767769445,175.470304490866,176.739589225575,174.93654258451699,176.246210843536,175.710500633436,173.735110643512,174.591149543927,176.916019328793,175.808721049465,176.803283216134,177.887474463309,177.47388118110902,176.677268492313,176.379962686567,175.807201573543,177.577891794904,176.596234109318,174.82642305912898,175.84435746511002,174.08109017972998,175.804741153889,173.40767233005403,177.314002167198,175.36445699896802,175.570021161306,175.83068166769797,176.612218173989,176.67834017722302,176.567951972472,175.42745739607398,174.636708743722,175.611277755662,176.27791413245097,175.176918878428,175.931159065522,174.83233767387,175.991690985784,176.12885540159698,175.854124371539,175.836089043264,177.763552002785,176.76258651241798,177.11143108073102,175.07679304716999,176.16434183842802,177.154825187097,175.94347857547402,173.870639351765,176.344845762099,174.095044554414,175.18882984686002,177.3240043213,176.61563684930303,177.091668955535,176.30660486151402,175.889841237517,175.07568722687301,177.592913753719,176.045010598122,175.284871599332,176.86522309971699,177.07444095827802,177.895654774199,175.397002696395,175.609132179277,175.58377796847,175.62434257718002,175.633369054298,175.704322547299,177.4418204102,175.302461708087,175.611832494079,176.652536452172,177.124772446535,175.227889196976,175.491913783862,176.523620590498,177.01775422653802,175.748835411912,174.570006552611,177.709121032101,177.43506957231202,175.28962885415,175.934932426344,174.24053126463403,176.569722971819,177.61234679820203,174.362719352895,175.220431486798,175.35882306624902,175.318868606429,173.96671440438203,176.50096355924802,174.468201860034,175.97500236072202,176.592984721025,175.801804578515,176.892008392474,175.974284929082,175.35233954941398,176.64635941503502],\"type\":\"scatter\"}],                        {\"title\":{\"text\":\"Time Series | x\"},\"xaxis\":{\"title\":{\"text\":\"Time\"}},\"yaxis\":{\"title\":{\"text\":\"Values\"}},\"template\":{\"data\":{\"barpolar\":[{\"marker\":{\"line\":{\"color\":\"rgb(237,237,237)\",\"width\":0.5},\"pattern\":{\"fillmode\":\"overlay\",\"size\":10,\"solidity\":0.2}},\"type\":\"barpolar\"}],\"bar\":[{\"error_x\":{\"color\":\"rgb(51,51,51)\"},\"error_y\":{\"color\":\"rgb(51,51,51)\"},\"marker\":{\"line\":{\"color\":\"rgb(237,237,237)\",\"width\":0.5},\"pattern\":{\"fillmode\":\"overlay\",\"size\":10,\"solidity\":0.2}},\"type\":\"bar\"}],\"carpet\":[{\"aaxis\":{\"endlinecolor\":\"rgb(51,51,51)\",\"gridcolor\":\"white\",\"linecolor\":\"white\",\"minorgridcolor\":\"white\",\"startlinecolor\":\"rgb(51,51,51)\"},\"baxis\":{\"endlinecolor\":\"rgb(51,51,51)\",\"gridcolor\":\"white\",\"linecolor\":\"white\",\"minorgridcolor\":\"white\",\"startlinecolor\":\"rgb(51,51,51)\"},\"type\":\"carpet\"}],\"choropleth\":[{\"colorbar\":{\"outlinewidth\":0,\"tickcolor\":\"rgb(237,237,237)\",\"ticklen\":6,\"ticks\":\"inside\"},\"type\":\"choropleth\"}],\"contourcarpet\":[{\"colorbar\":{\"outlinewidth\":0,\"tickcolor\":\"rgb(237,237,237)\",\"ticklen\":6,\"ticks\":\"inside\"},\"type\":\"contourcarpet\"}],\"contour\":[{\"colorbar\":{\"outlinewidth\":0,\"tickcolor\":\"rgb(237,237,237)\",\"ticklen\":6,\"ticks\":\"inside\"},\"colorscale\":[[0,\"rgb(20,44,66)\"],[1,\"rgb(90,179,244)\"]],\"type\":\"contour\"}],\"heatmapgl\":[{\"colorbar\":{\"outlinewidth\":0,\"tickcolor\":\"rgb(237,237,237)\",\"ticklen\":6,\"ticks\":\"inside\"},\"colorscale\":[[0,\"rgb(20,44,66)\"],[1,\"rgb(90,179,244)\"]],\"type\":\"heatmapgl\"}],\"heatmap\":[{\"colorbar\":{\"outlinewidth\":0,\"tickcolor\":\"rgb(237,237,237)\",\"ticklen\":6,\"ticks\":\"inside\"},\"colorscale\":[[0,\"rgb(20,44,66)\"],[1,\"rgb(90,179,244)\"]],\"type\":\"heatmap\"}],\"histogram2dcontour\":[{\"colorbar\":{\"outlinewidth\":0,\"tickcolor\":\"rgb(237,237,237)\",\"ticklen\":6,\"ticks\":\"inside\"},\"colorscale\":[[0,\"rgb(20,44,66)\"],[1,\"rgb(90,179,244)\"]],\"type\":\"histogram2dcontour\"}],\"histogram2d\":[{\"colorbar\":{\"outlinewidth\":0,\"tickcolor\":\"rgb(237,237,237)\",\"ticklen\":6,\"ticks\":\"inside\"},\"colorscale\":[[0,\"rgb(20,44,66)\"],[1,\"rgb(90,179,244)\"]],\"type\":\"histogram2d\"}],\"histogram\":[{\"marker\":{\"pattern\":{\"fillmode\":\"overlay\",\"size\":10,\"solidity\":0.2}},\"type\":\"histogram\"}],\"mesh3d\":[{\"colorbar\":{\"outlinewidth\":0,\"tickcolor\":\"rgb(237,237,237)\",\"ticklen\":6,\"ticks\":\"inside\"},\"type\":\"mesh3d\"}],\"parcoords\":[{\"line\":{\"colorbar\":{\"outlinewidth\":0,\"tickcolor\":\"rgb(237,237,237)\",\"ticklen\":6,\"ticks\":\"inside\"}},\"type\":\"parcoords\"}],\"pie\":[{\"automargin\":true,\"type\":\"pie\"}],\"scatter3d\":[{\"line\":{\"colorbar\":{\"outlinewidth\":0,\"tickcolor\":\"rgb(237,237,237)\",\"ticklen\":6,\"ticks\":\"inside\"}},\"marker\":{\"colorbar\":{\"outlinewidth\":0,\"tickcolor\":\"rgb(237,237,237)\",\"ticklen\":6,\"ticks\":\"inside\"}},\"type\":\"scatter3d\"}],\"scattercarpet\":[{\"marker\":{\"colorbar\":{\"outlinewidth\":0,\"tickcolor\":\"rgb(237,237,237)\",\"ticklen\":6,\"ticks\":\"inside\"}},\"type\":\"scattercarpet\"}],\"scattergeo\":[{\"marker\":{\"colorbar\":{\"outlinewidth\":0,\"tickcolor\":\"rgb(237,237,237)\",\"ticklen\":6,\"ticks\":\"inside\"}},\"type\":\"scattergeo\"}],\"scattergl\":[{\"marker\":{\"colorbar\":{\"outlinewidth\":0,\"tickcolor\":\"rgb(237,237,237)\",\"ticklen\":6,\"ticks\":\"inside\"}},\"type\":\"scattergl\"}],\"scattermapbox\":[{\"marker\":{\"colorbar\":{\"outlinewidth\":0,\"tickcolor\":\"rgb(237,237,237)\",\"ticklen\":6,\"ticks\":\"inside\"}},\"type\":\"scattermapbox\"}],\"scatterpolargl\":[{\"marker\":{\"colorbar\":{\"outlinewidth\":0,\"tickcolor\":\"rgb(237,237,237)\",\"ticklen\":6,\"ticks\":\"inside\"}},\"type\":\"scatterpolargl\"}],\"scatterpolar\":[{\"marker\":{\"colorbar\":{\"outlinewidth\":0,\"tickcolor\":\"rgb(237,237,237)\",\"ticklen\":6,\"ticks\":\"inside\"}},\"type\":\"scatterpolar\"}],\"scatter\":[{\"marker\":{\"colorbar\":{\"outlinewidth\":0,\"tickcolor\":\"rgb(237,237,237)\",\"ticklen\":6,\"ticks\":\"inside\"}},\"type\":\"scatter\"}],\"scatterternary\":[{\"marker\":{\"colorbar\":{\"outlinewidth\":0,\"tickcolor\":\"rgb(237,237,237)\",\"ticklen\":6,\"ticks\":\"inside\"}},\"type\":\"scatterternary\"}],\"surface\":[{\"colorbar\":{\"outlinewidth\":0,\"tickcolor\":\"rgb(237,237,237)\",\"ticklen\":6,\"ticks\":\"inside\"},\"colorscale\":[[0,\"rgb(20,44,66)\"],[1,\"rgb(90,179,244)\"]],\"type\":\"surface\"}],\"table\":[{\"cells\":{\"fill\":{\"color\":\"rgb(237,237,237)\"},\"line\":{\"color\":\"white\"}},\"header\":{\"fill\":{\"color\":\"rgb(217,217,217)\"},\"line\":{\"color\":\"white\"}},\"type\":\"table\"}]},\"layout\":{\"annotationdefaults\":{\"arrowhead\":0,\"arrowwidth\":1},\"autotypenumbers\":\"strict\",\"coloraxis\":{\"colorbar\":{\"outlinewidth\":0,\"tickcolor\":\"rgb(237,237,237)\",\"ticklen\":6,\"ticks\":\"inside\"}},\"colorscale\":{\"sequential\":[[0,\"rgb(20,44,66)\"],[1,\"rgb(90,179,244)\"]],\"sequentialminus\":[[0,\"rgb(20,44,66)\"],[1,\"rgb(90,179,244)\"]]},\"colorway\":[\"#F8766D\",\"#A3A500\",\"#00BF7D\",\"#00B0F6\",\"#E76BF3\"],\"font\":{\"color\":\"rgb(51,51,51)\"},\"geo\":{\"bgcolor\":\"white\",\"lakecolor\":\"white\",\"landcolor\":\"rgb(237,237,237)\",\"showlakes\":true,\"showland\":true,\"subunitcolor\":\"white\"},\"hoverlabel\":{\"align\":\"left\"},\"hovermode\":\"closest\",\"paper_bgcolor\":\"white\",\"plot_bgcolor\":\"rgb(237,237,237)\",\"polar\":{\"angularaxis\":{\"gridcolor\":\"white\",\"linecolor\":\"white\",\"showgrid\":true,\"tickcolor\":\"rgb(51,51,51)\",\"ticks\":\"outside\"},\"bgcolor\":\"rgb(237,237,237)\",\"radialaxis\":{\"gridcolor\":\"white\",\"linecolor\":\"white\",\"showgrid\":true,\"tickcolor\":\"rgb(51,51,51)\",\"ticks\":\"outside\"}},\"scene\":{\"xaxis\":{\"backgroundcolor\":\"rgb(237,237,237)\",\"gridcolor\":\"white\",\"gridwidth\":2,\"linecolor\":\"white\",\"showbackground\":true,\"showgrid\":true,\"tickcolor\":\"rgb(51,51,51)\",\"ticks\":\"outside\",\"zerolinecolor\":\"white\"},\"yaxis\":{\"backgroundcolor\":\"rgb(237,237,237)\",\"gridcolor\":\"white\",\"gridwidth\":2,\"linecolor\":\"white\",\"showbackground\":true,\"showgrid\":true,\"tickcolor\":\"rgb(51,51,51)\",\"ticks\":\"outside\",\"zerolinecolor\":\"white\"},\"zaxis\":{\"backgroundcolor\":\"rgb(237,237,237)\",\"gridcolor\":\"white\",\"gridwidth\":2,\"linecolor\":\"white\",\"showbackground\":true,\"showgrid\":true,\"tickcolor\":\"rgb(51,51,51)\",\"ticks\":\"outside\",\"zerolinecolor\":\"white\"}},\"shapedefaults\":{\"fillcolor\":\"black\",\"line\":{\"width\":0},\"opacity\":0.3},\"ternary\":{\"aaxis\":{\"gridcolor\":\"white\",\"linecolor\":\"white\",\"showgrid\":true,\"tickcolor\":\"rgb(51,51,51)\",\"ticks\":\"outside\"},\"baxis\":{\"gridcolor\":\"white\",\"linecolor\":\"white\",\"showgrid\":true,\"tickcolor\":\"rgb(51,51,51)\",\"ticks\":\"outside\"},\"bgcolor\":\"rgb(237,237,237)\",\"caxis\":{\"gridcolor\":\"white\",\"linecolor\":\"white\",\"showgrid\":true,\"tickcolor\":\"rgb(51,51,51)\",\"ticks\":\"outside\"}},\"xaxis\":{\"automargin\":true,\"gridcolor\":\"white\",\"linecolor\":\"white\",\"showgrid\":true,\"tickcolor\":\"rgb(51,51,51)\",\"ticks\":\"outside\",\"title\":{\"standoff\":15},\"zerolinecolor\":\"white\"},\"yaxis\":{\"automargin\":true,\"gridcolor\":\"white\",\"linecolor\":\"white\",\"showgrid\":true,\"tickcolor\":\"rgb(51,51,51)\",\"ticks\":\"outside\",\"title\":{\"standoff\":15},\"zerolinecolor\":\"white\"}}},\"showlegend\":true},                        {\"responsive\": true}                    ).then(function(){\n",
              "                            \n",
              "var gd = document.getElementById('ad9a697a-17f4-4728-8319-edc8e3f5d499');\n",
              "var x = new MutationObserver(function (mutations, observer) {{\n",
              "        var display = window.getComputedStyle(gd).display;\n",
              "        if (!display || display === 'none') {{\n",
              "            console.log([gd, 'removed!']);\n",
              "            Plotly.purge(gd);\n",
              "            observer.disconnect();\n",
              "        }}\n",
              "}});\n",
              "\n",
              "// Listen for the removal of the full notebook cells\n",
              "var notebookContainer = gd.closest('#notebook-container');\n",
              "if (notebookContainer) {{\n",
              "    x.observe(notebookContainer, {childList: true});\n",
              "}}\n",
              "\n",
              "// Listen for the clearing of the current output cell\n",
              "var outputEl = gd.closest('.output');\n",
              "if (outputEl) {{\n",
              "    x.observe(outputEl, {childList: true});\n",
              "}}\n",
              "\n",
              "                        })                };                            </script>        </div>\n",
              "</body>\n",
              "</html>"
            ]
          },
          "metadata": {}
        }
      ]
    },
    {
      "cell_type": "code",
      "metadata": {
        "colab": {
          "base_uri": "https://localhost:8080/",
          "height": 1000
        },
        "id": "c1LxFMyqU6sa",
        "outputId": "38e3c3ce-fcc0-4f01-84f0-3a0509bc8bf9"
      },
      "source": [
        "exp.plot_model(plot=\"acf\")\n",
        "exp.plot_model(plot=\"pacf\")"
      ],
      "execution_count": 6,
      "outputs": [
        {
          "output_type": "display_data",
          "data": {
            "text/html": [
              "<html>\n",
              "<head><meta charset=\"utf-8\" /></head>\n",
              "<body>\n",
              "    <div>            <script src=\"https://cdnjs.cloudflare.com/ajax/libs/mathjax/2.7.5/MathJax.js?config=TeX-AMS-MML_SVG\"></script><script type=\"text/javascript\">if (window.MathJax) {MathJax.Hub.Config({SVG: {font: \"STIX-Web\"}});}</script>                <script type=\"text/javascript\">window.PlotlyConfig = {MathJaxConfig: 'local'};</script>\n",
              "        <script src=\"https://cdn.plot.ly/plotly-2.6.3.min.js\"></script>                <div id=\"026a471a-5280-468b-8a5f-8d8e5f1cc1c7\" class=\"plotly-graph-div\" style=\"height:525px; width:100%;\"></div>            <script type=\"text/javascript\">                                    window.PLOTLYENV=window.PLOTLYENV || {};                                    if (document.getElementById(\"026a471a-5280-468b-8a5f-8d8e5f1cc1c7\")) {                    Plotly.newPlot(                        \"026a471a-5280-468b-8a5f-8d8e5f1cc1c7\",                        [{\"marker\":{\"color\":\"#1f77b4\",\"size\":10},\"mode\":\"markers\",\"name\":\"ACF\",\"x\":[0,1,2,3,4,5,6,7,8,9,10,11,12,13,14,15,16,17,18,19,20,21,22,23,24,25,26,27,28,29,30,31,32,33,34,35,36,37,38,39,40],\"y\":[1.0,-0.05628270935347099,-0.0060027379006488205,0.007437715886878771,0.01024979283295341,0.04466256407463339,-0.05467123124190985,-0.0026797822246868255,-0.08640510061434512,0.10840483284491924,-0.047818171268789886,-0.03536029117589795,-0.040924392441450935,0.018497849460273583,0.10413755507035537,0.05880331866480451,0.10129134427200256,-0.02994668557216727,-0.048554976614039964,0.004161339438088093,-0.0013059103479027515,-0.09414732140256957,-0.08834863066131218,-0.031320854925952046,-0.012004602319246131,0.06505255573961233,-0.06741660093807626,-0.04555787860924247,-0.01948375102574125,0.046386869137690724,-0.001828340809920181,0.0009257050159589381,-0.0010659214581280694,0.025000831714665085,-0.1096549219800864,0.021115739724390802,-0.06686745054797637,-0.032950393268748476,-0.028750876575911244,-0.024091131689575024,0.06838648105636082],\"type\":\"scatter\",\"showlegend\":false},{\"line\":{\"color\":\"#3f3f3f\"},\"mode\":\"lines\",\"name\":\"Lag1\",\"x\":[0,0],\"y\":[0,1.0],\"type\":\"scatter\",\"showlegend\":false},{\"line\":{\"color\":\"#3f3f3f\"},\"mode\":\"lines\",\"name\":\"Lag2\",\"x\":[1,1],\"y\":[0,-0.05628270935347099],\"type\":\"scatter\",\"showlegend\":false},{\"line\":{\"color\":\"#3f3f3f\"},\"mode\":\"lines\",\"name\":\"Lag3\",\"x\":[2,2],\"y\":[0,-0.0060027379006488205],\"type\":\"scatter\",\"showlegend\":false},{\"line\":{\"color\":\"#3f3f3f\"},\"mode\":\"lines\",\"name\":\"Lag4\",\"x\":[3,3],\"y\":[0,0.007437715886878771],\"type\":\"scatter\",\"showlegend\":false},{\"line\":{\"color\":\"#3f3f3f\"},\"mode\":\"lines\",\"name\":\"Lag5\",\"x\":[4,4],\"y\":[0,0.01024979283295341],\"type\":\"scatter\",\"showlegend\":false},{\"line\":{\"color\":\"#3f3f3f\"},\"mode\":\"lines\",\"name\":\"Lag6\",\"x\":[5,5],\"y\":[0,0.04466256407463339],\"type\":\"scatter\",\"showlegend\":false},{\"line\":{\"color\":\"#3f3f3f\"},\"mode\":\"lines\",\"name\":\"Lag7\",\"x\":[6,6],\"y\":[0,-0.05467123124190985],\"type\":\"scatter\",\"showlegend\":false},{\"line\":{\"color\":\"#3f3f3f\"},\"mode\":\"lines\",\"name\":\"Lag8\",\"x\":[7,7],\"y\":[0,-0.0026797822246868255],\"type\":\"scatter\",\"showlegend\":false},{\"line\":{\"color\":\"#3f3f3f\"},\"mode\":\"lines\",\"name\":\"Lag9\",\"x\":[8,8],\"y\":[0,-0.08640510061434512],\"type\":\"scatter\",\"showlegend\":false},{\"line\":{\"color\":\"#3f3f3f\"},\"mode\":\"lines\",\"name\":\"Lag10\",\"x\":[9,9],\"y\":[0,0.10840483284491924],\"type\":\"scatter\",\"showlegend\":false},{\"line\":{\"color\":\"#3f3f3f\"},\"mode\":\"lines\",\"name\":\"Lag11\",\"x\":[10,10],\"y\":[0,-0.047818171268789886],\"type\":\"scatter\",\"showlegend\":false},{\"line\":{\"color\":\"#3f3f3f\"},\"mode\":\"lines\",\"name\":\"Lag12\",\"x\":[11,11],\"y\":[0,-0.03536029117589795],\"type\":\"scatter\",\"showlegend\":false},{\"line\":{\"color\":\"#3f3f3f\"},\"mode\":\"lines\",\"name\":\"Lag13\",\"x\":[12,12],\"y\":[0,-0.040924392441450935],\"type\":\"scatter\",\"showlegend\":false},{\"line\":{\"color\":\"#3f3f3f\"},\"mode\":\"lines\",\"name\":\"Lag14\",\"x\":[13,13],\"y\":[0,0.018497849460273583],\"type\":\"scatter\",\"showlegend\":false},{\"line\":{\"color\":\"#3f3f3f\"},\"mode\":\"lines\",\"name\":\"Lag15\",\"x\":[14,14],\"y\":[0,0.10413755507035537],\"type\":\"scatter\",\"showlegend\":false},{\"line\":{\"color\":\"#3f3f3f\"},\"mode\":\"lines\",\"name\":\"Lag16\",\"x\":[15,15],\"y\":[0,0.05880331866480451],\"type\":\"scatter\",\"showlegend\":false},{\"line\":{\"color\":\"#3f3f3f\"},\"mode\":\"lines\",\"name\":\"Lag17\",\"x\":[16,16],\"y\":[0,0.10129134427200256],\"type\":\"scatter\",\"showlegend\":false},{\"line\":{\"color\":\"#3f3f3f\"},\"mode\":\"lines\",\"name\":\"Lag18\",\"x\":[17,17],\"y\":[0,-0.02994668557216727],\"type\":\"scatter\",\"showlegend\":false},{\"line\":{\"color\":\"#3f3f3f\"},\"mode\":\"lines\",\"name\":\"Lag19\",\"x\":[18,18],\"y\":[0,-0.048554976614039964],\"type\":\"scatter\",\"showlegend\":false},{\"line\":{\"color\":\"#3f3f3f\"},\"mode\":\"lines\",\"name\":\"Lag20\",\"x\":[19,19],\"y\":[0,0.004161339438088093],\"type\":\"scatter\",\"showlegend\":false},{\"line\":{\"color\":\"#3f3f3f\"},\"mode\":\"lines\",\"name\":\"Lag21\",\"x\":[20,20],\"y\":[0,-0.0013059103479027515],\"type\":\"scatter\",\"showlegend\":false},{\"line\":{\"color\":\"#3f3f3f\"},\"mode\":\"lines\",\"name\":\"Lag22\",\"x\":[21,21],\"y\":[0,-0.09414732140256957],\"type\":\"scatter\",\"showlegend\":false},{\"line\":{\"color\":\"#3f3f3f\"},\"mode\":\"lines\",\"name\":\"Lag23\",\"x\":[22,22],\"y\":[0,-0.08834863066131218],\"type\":\"scatter\",\"showlegend\":false},{\"line\":{\"color\":\"#3f3f3f\"},\"mode\":\"lines\",\"name\":\"Lag24\",\"x\":[23,23],\"y\":[0,-0.031320854925952046],\"type\":\"scatter\",\"showlegend\":false},{\"line\":{\"color\":\"#3f3f3f\"},\"mode\":\"lines\",\"name\":\"Lag25\",\"x\":[24,24],\"y\":[0,-0.012004602319246131],\"type\":\"scatter\",\"showlegend\":false},{\"line\":{\"color\":\"#3f3f3f\"},\"mode\":\"lines\",\"name\":\"Lag26\",\"x\":[25,25],\"y\":[0,0.06505255573961233],\"type\":\"scatter\",\"showlegend\":false},{\"line\":{\"color\":\"#3f3f3f\"},\"mode\":\"lines\",\"name\":\"Lag27\",\"x\":[26,26],\"y\":[0,-0.06741660093807626],\"type\":\"scatter\",\"showlegend\":false},{\"line\":{\"color\":\"#3f3f3f\"},\"mode\":\"lines\",\"name\":\"Lag28\",\"x\":[27,27],\"y\":[0,-0.04555787860924247],\"type\":\"scatter\",\"showlegend\":false},{\"line\":{\"color\":\"#3f3f3f\"},\"mode\":\"lines\",\"name\":\"Lag29\",\"x\":[28,28],\"y\":[0,-0.01948375102574125],\"type\":\"scatter\",\"showlegend\":false},{\"line\":{\"color\":\"#3f3f3f\"},\"mode\":\"lines\",\"name\":\"Lag30\",\"x\":[29,29],\"y\":[0,0.046386869137690724],\"type\":\"scatter\",\"showlegend\":false},{\"line\":{\"color\":\"#3f3f3f\"},\"mode\":\"lines\",\"name\":\"Lag31\",\"x\":[30,30],\"y\":[0,-0.001828340809920181],\"type\":\"scatter\",\"showlegend\":false},{\"line\":{\"color\":\"#3f3f3f\"},\"mode\":\"lines\",\"name\":\"Lag32\",\"x\":[31,31],\"y\":[0,0.0009257050159589381],\"type\":\"scatter\",\"showlegend\":false},{\"line\":{\"color\":\"#3f3f3f\"},\"mode\":\"lines\",\"name\":\"Lag33\",\"x\":[32,32],\"y\":[0,-0.0010659214581280694],\"type\":\"scatter\",\"showlegend\":false},{\"line\":{\"color\":\"#3f3f3f\"},\"mode\":\"lines\",\"name\":\"Lag34\",\"x\":[33,33],\"y\":[0,0.025000831714665085],\"type\":\"scatter\",\"showlegend\":false},{\"line\":{\"color\":\"#3f3f3f\"},\"mode\":\"lines\",\"name\":\"Lag35\",\"x\":[34,34],\"y\":[0,-0.1096549219800864],\"type\":\"scatter\",\"showlegend\":false},{\"line\":{\"color\":\"#3f3f3f\"},\"mode\":\"lines\",\"name\":\"Lag36\",\"x\":[35,35],\"y\":[0,0.021115739724390802],\"type\":\"scatter\",\"showlegend\":false},{\"line\":{\"color\":\"#3f3f3f\"},\"mode\":\"lines\",\"name\":\"Lag37\",\"x\":[36,36],\"y\":[0,-0.06686745054797637],\"type\":\"scatter\",\"showlegend\":false},{\"line\":{\"color\":\"#3f3f3f\"},\"mode\":\"lines\",\"name\":\"Lag38\",\"x\":[37,37],\"y\":[0,-0.032950393268748476],\"type\":\"scatter\",\"showlegend\":false},{\"line\":{\"color\":\"#3f3f3f\"},\"mode\":\"lines\",\"name\":\"Lag39\",\"x\":[38,38],\"y\":[0,-0.028750876575911244],\"type\":\"scatter\",\"showlegend\":false},{\"line\":{\"color\":\"#3f3f3f\"},\"mode\":\"lines\",\"name\":\"Lag40\",\"x\":[39,39],\"y\":[0,-0.024091131689575024],\"type\":\"scatter\",\"showlegend\":false},{\"line\":{\"color\":\"#3f3f3f\"},\"mode\":\"lines\",\"name\":\"Lag41\",\"x\":[40,40],\"y\":[0,0.06838648105636082],\"type\":\"scatter\",\"showlegend\":false},{\"line\":{\"color\":\"rgba(255,255,255,0)\"},\"mode\":\"lines\",\"name\":\"UC\",\"x\":[0,1,2,3,4,5,6,7,8,9,10,11,12,13,14,15,16,17,18,19,20,21,22,23,24,25,26,27,28,29,30,31,32,33,34,35,36,37,38,39,40],\"y\":[0.0,0.10629397111858786,0.10663015151518629,0.10663396944750939,0.10663983067965525,0.10665096094017515,0.10686207160638934,0.10717762339527663,0.10717838042095802,0.10796253738569621,0.10918543128330269,0.10942178840153968,0.10955081793832998,0.10972341132425945,0.10975863954690691,0.11086935139526388,0.1112211717056896,0.11225858959214731,0.11234881331015575,0.11258565532555115,0.11258739311492788,0.1125875642558619,0.11347357153943802,0.1142481091751068,0.11434508225420752,0.11435932088699957,0.11477665386857311,0.11522318673486956,0.11542652603698861,0.11546367843878222,0.11567404008482393,0.11567436659374672,0.11567445029369926,0.11567456126994341,0.11573559554037344,0.11690353613306544,0.1169466207459779,0.11737780136967994,0.11748226359871618,0.11756173306165628,0.11761749818889673],\"type\":\"scatter\",\"showlegend\":false},{\"fill\":\"tonexty\",\"fillcolor\":\"rgba(32, 146, 230,0.3)\",\"line\":{\"color\":\"rgba(255,255,255,0)\"},\"mode\":\"lines\",\"name\":\"LC\",\"x\":[0,1,2,3,4,5,6,7,8,9,10,11,12,13,14,15,16,17,18,19,20,21,22,23,24,25,26,27,28,29,30,31,32,33,34,35,36,37,38,39,40],\"y\":[0.0,-0.10629397111858788,-0.10663015151518632,-0.10663396944750939,-0.10663983067965525,-0.10665096094017516,-0.10686207160638936,-0.10717762339527663,-0.10717838042095804,-0.10796253738569621,-0.10918543128330267,-0.10942178840153968,-0.10955081793832996,-0.10972341132425945,-0.1097586395469069,-0.11086935139526388,-0.11122117170568958,-0.11225858959214731,-0.11234881331015575,-0.11258565532555115,-0.11258739311492788,-0.11258756425586189,-0.11347357153943802,-0.1142481091751068,-0.1143450822542075,-0.11435932088699959,-0.11477665386857312,-0.11522318673486955,-0.1154265260369886,-0.11546367843878222,-0.11567404008482393,-0.11567436659374672,-0.11567445029369926,-0.11567456126994338,-0.11573559554037345,-0.11690353613306545,-0.1169466207459779,-0.11737780136967994,-0.11748226359871616,-0.11756173306165627,-0.11761749818889673],\"type\":\"scatter\",\"showlegend\":false},{\"line\":{\"color\":\"#3f3f3f\"},\"mode\":\"lines\",\"name\":\"\",\"x\":[0,41],\"y\":[0,0],\"type\":\"scatter\",\"showlegend\":false}],                        {\"template\":{\"data\":{\"barpolar\":[{\"marker\":{\"line\":{\"color\":\"rgb(237,237,237)\",\"width\":0.5},\"pattern\":{\"fillmode\":\"overlay\",\"size\":10,\"solidity\":0.2}},\"type\":\"barpolar\"}],\"bar\":[{\"error_x\":{\"color\":\"rgb(51,51,51)\"},\"error_y\":{\"color\":\"rgb(51,51,51)\"},\"marker\":{\"line\":{\"color\":\"rgb(237,237,237)\",\"width\":0.5},\"pattern\":{\"fillmode\":\"overlay\",\"size\":10,\"solidity\":0.2}},\"type\":\"bar\"}],\"carpet\":[{\"aaxis\":{\"endlinecolor\":\"rgb(51,51,51)\",\"gridcolor\":\"white\",\"linecolor\":\"white\",\"minorgridcolor\":\"white\",\"startlinecolor\":\"rgb(51,51,51)\"},\"baxis\":{\"endlinecolor\":\"rgb(51,51,51)\",\"gridcolor\":\"white\",\"linecolor\":\"white\",\"minorgridcolor\":\"white\",\"startlinecolor\":\"rgb(51,51,51)\"},\"type\":\"carpet\"}],\"choropleth\":[{\"colorbar\":{\"outlinewidth\":0,\"tickcolor\":\"rgb(237,237,237)\",\"ticklen\":6,\"ticks\":\"inside\"},\"type\":\"choropleth\"}],\"contourcarpet\":[{\"colorbar\":{\"outlinewidth\":0,\"tickcolor\":\"rgb(237,237,237)\",\"ticklen\":6,\"ticks\":\"inside\"},\"type\":\"contourcarpet\"}],\"contour\":[{\"colorbar\":{\"outlinewidth\":0,\"tickcolor\":\"rgb(237,237,237)\",\"ticklen\":6,\"ticks\":\"inside\"},\"colorscale\":[[0,\"rgb(20,44,66)\"],[1,\"rgb(90,179,244)\"]],\"type\":\"contour\"}],\"heatmapgl\":[{\"colorbar\":{\"outlinewidth\":0,\"tickcolor\":\"rgb(237,237,237)\",\"ticklen\":6,\"ticks\":\"inside\"},\"colorscale\":[[0,\"rgb(20,44,66)\"],[1,\"rgb(90,179,244)\"]],\"type\":\"heatmapgl\"}],\"heatmap\":[{\"colorbar\":{\"outlinewidth\":0,\"tickcolor\":\"rgb(237,237,237)\",\"ticklen\":6,\"ticks\":\"inside\"},\"colorscale\":[[0,\"rgb(20,44,66)\"],[1,\"rgb(90,179,244)\"]],\"type\":\"heatmap\"}],\"histogram2dcontour\":[{\"colorbar\":{\"outlinewidth\":0,\"tickcolor\":\"rgb(237,237,237)\",\"ticklen\":6,\"ticks\":\"inside\"},\"colorscale\":[[0,\"rgb(20,44,66)\"],[1,\"rgb(90,179,244)\"]],\"type\":\"histogram2dcontour\"}],\"histogram2d\":[{\"colorbar\":{\"outlinewidth\":0,\"tickcolor\":\"rgb(237,237,237)\",\"ticklen\":6,\"ticks\":\"inside\"},\"colorscale\":[[0,\"rgb(20,44,66)\"],[1,\"rgb(90,179,244)\"]],\"type\":\"histogram2d\"}],\"histogram\":[{\"marker\":{\"pattern\":{\"fillmode\":\"overlay\",\"size\":10,\"solidity\":0.2}},\"type\":\"histogram\"}],\"mesh3d\":[{\"colorbar\":{\"outlinewidth\":0,\"tickcolor\":\"rgb(237,237,237)\",\"ticklen\":6,\"ticks\":\"inside\"},\"type\":\"mesh3d\"}],\"parcoords\":[{\"line\":{\"colorbar\":{\"outlinewidth\":0,\"tickcolor\":\"rgb(237,237,237)\",\"ticklen\":6,\"ticks\":\"inside\"}},\"type\":\"parcoords\"}],\"pie\":[{\"automargin\":true,\"type\":\"pie\"}],\"scatter3d\":[{\"line\":{\"colorbar\":{\"outlinewidth\":0,\"tickcolor\":\"rgb(237,237,237)\",\"ticklen\":6,\"ticks\":\"inside\"}},\"marker\":{\"colorbar\":{\"outlinewidth\":0,\"tickcolor\":\"rgb(237,237,237)\",\"ticklen\":6,\"ticks\":\"inside\"}},\"type\":\"scatter3d\"}],\"scattercarpet\":[{\"marker\":{\"colorbar\":{\"outlinewidth\":0,\"tickcolor\":\"rgb(237,237,237)\",\"ticklen\":6,\"ticks\":\"inside\"}},\"type\":\"scattercarpet\"}],\"scattergeo\":[{\"marker\":{\"colorbar\":{\"outlinewidth\":0,\"tickcolor\":\"rgb(237,237,237)\",\"ticklen\":6,\"ticks\":\"inside\"}},\"type\":\"scattergeo\"}],\"scattergl\":[{\"marker\":{\"colorbar\":{\"outlinewidth\":0,\"tickcolor\":\"rgb(237,237,237)\",\"ticklen\":6,\"ticks\":\"inside\"}},\"type\":\"scattergl\"}],\"scattermapbox\":[{\"marker\":{\"colorbar\":{\"outlinewidth\":0,\"tickcolor\":\"rgb(237,237,237)\",\"ticklen\":6,\"ticks\":\"inside\"}},\"type\":\"scattermapbox\"}],\"scatterpolargl\":[{\"marker\":{\"colorbar\":{\"outlinewidth\":0,\"tickcolor\":\"rgb(237,237,237)\",\"ticklen\":6,\"ticks\":\"inside\"}},\"type\":\"scatterpolargl\"}],\"scatterpolar\":[{\"marker\":{\"colorbar\":{\"outlinewidth\":0,\"tickcolor\":\"rgb(237,237,237)\",\"ticklen\":6,\"ticks\":\"inside\"}},\"type\":\"scatterpolar\"}],\"scatter\":[{\"marker\":{\"colorbar\":{\"outlinewidth\":0,\"tickcolor\":\"rgb(237,237,237)\",\"ticklen\":6,\"ticks\":\"inside\"}},\"type\":\"scatter\"}],\"scatterternary\":[{\"marker\":{\"colorbar\":{\"outlinewidth\":0,\"tickcolor\":\"rgb(237,237,237)\",\"ticklen\":6,\"ticks\":\"inside\"}},\"type\":\"scatterternary\"}],\"surface\":[{\"colorbar\":{\"outlinewidth\":0,\"tickcolor\":\"rgb(237,237,237)\",\"ticklen\":6,\"ticks\":\"inside\"},\"colorscale\":[[0,\"rgb(20,44,66)\"],[1,\"rgb(90,179,244)\"]],\"type\":\"surface\"}],\"table\":[{\"cells\":{\"fill\":{\"color\":\"rgb(237,237,237)\"},\"line\":{\"color\":\"white\"}},\"header\":{\"fill\":{\"color\":\"rgb(217,217,217)\"},\"line\":{\"color\":\"white\"}},\"type\":\"table\"}]},\"layout\":{\"annotationdefaults\":{\"arrowhead\":0,\"arrowwidth\":1},\"autotypenumbers\":\"strict\",\"coloraxis\":{\"colorbar\":{\"outlinewidth\":0,\"tickcolor\":\"rgb(237,237,237)\",\"ticklen\":6,\"ticks\":\"inside\"}},\"colorscale\":{\"sequential\":[[0,\"rgb(20,44,66)\"],[1,\"rgb(90,179,244)\"]],\"sequentialminus\":[[0,\"rgb(20,44,66)\"],[1,\"rgb(90,179,244)\"]]},\"colorway\":[\"#F8766D\",\"#A3A500\",\"#00BF7D\",\"#00B0F6\",\"#E76BF3\"],\"font\":{\"color\":\"rgb(51,51,51)\"},\"geo\":{\"bgcolor\":\"white\",\"lakecolor\":\"white\",\"landcolor\":\"rgb(237,237,237)\",\"showlakes\":true,\"showland\":true,\"subunitcolor\":\"white\"},\"hoverlabel\":{\"align\":\"left\"},\"hovermode\":\"closest\",\"paper_bgcolor\":\"white\",\"plot_bgcolor\":\"rgb(237,237,237)\",\"polar\":{\"angularaxis\":{\"gridcolor\":\"white\",\"linecolor\":\"white\",\"showgrid\":true,\"tickcolor\":\"rgb(51,51,51)\",\"ticks\":\"outside\"},\"bgcolor\":\"rgb(237,237,237)\",\"radialaxis\":{\"gridcolor\":\"white\",\"linecolor\":\"white\",\"showgrid\":true,\"tickcolor\":\"rgb(51,51,51)\",\"ticks\":\"outside\"}},\"scene\":{\"xaxis\":{\"backgroundcolor\":\"rgb(237,237,237)\",\"gridcolor\":\"white\",\"gridwidth\":2,\"linecolor\":\"white\",\"showbackground\":true,\"showgrid\":true,\"tickcolor\":\"rgb(51,51,51)\",\"ticks\":\"outside\",\"zerolinecolor\":\"white\"},\"yaxis\":{\"backgroundcolor\":\"rgb(237,237,237)\",\"gridcolor\":\"white\",\"gridwidth\":2,\"linecolor\":\"white\",\"showbackground\":true,\"showgrid\":true,\"tickcolor\":\"rgb(51,51,51)\",\"ticks\":\"outside\",\"zerolinecolor\":\"white\"},\"zaxis\":{\"backgroundcolor\":\"rgb(237,237,237)\",\"gridcolor\":\"white\",\"gridwidth\":2,\"linecolor\":\"white\",\"showbackground\":true,\"showgrid\":true,\"tickcolor\":\"rgb(51,51,51)\",\"ticks\":\"outside\",\"zerolinecolor\":\"white\"}},\"shapedefaults\":{\"fillcolor\":\"black\",\"line\":{\"width\":0},\"opacity\":0.3},\"ternary\":{\"aaxis\":{\"gridcolor\":\"white\",\"linecolor\":\"white\",\"showgrid\":true,\"tickcolor\":\"rgb(51,51,51)\",\"ticks\":\"outside\"},\"baxis\":{\"gridcolor\":\"white\",\"linecolor\":\"white\",\"showgrid\":true,\"tickcolor\":\"rgb(51,51,51)\",\"ticks\":\"outside\"},\"bgcolor\":\"rgb(237,237,237)\",\"caxis\":{\"gridcolor\":\"white\",\"linecolor\":\"white\",\"showgrid\":true,\"tickcolor\":\"rgb(51,51,51)\",\"ticks\":\"outside\"}},\"xaxis\":{\"automargin\":true,\"gridcolor\":\"white\",\"linecolor\":\"white\",\"showgrid\":true,\"tickcolor\":\"rgb(51,51,51)\",\"ticks\":\"outside\",\"title\":{\"standoff\":15},\"zerolinecolor\":\"white\"},\"yaxis\":{\"automargin\":true,\"gridcolor\":\"white\",\"linecolor\":\"white\",\"showgrid\":true,\"tickcolor\":\"rgb(51,51,51)\",\"ticks\":\"outside\",\"title\":{\"standoff\":15},\"zerolinecolor\":\"white\"}}},\"xaxis\":{\"range\":[-1,42]},\"yaxis\":{\"zerolinecolor\":\"#000000\"},\"title\":{\"text\":\"Autocorrelation (ACF) | x\"}},                        {\"responsive\": true}                    ).then(function(){\n",
              "                            \n",
              "var gd = document.getElementById('026a471a-5280-468b-8a5f-8d8e5f1cc1c7');\n",
              "var x = new MutationObserver(function (mutations, observer) {{\n",
              "        var display = window.getComputedStyle(gd).display;\n",
              "        if (!display || display === 'none') {{\n",
              "            console.log([gd, 'removed!']);\n",
              "            Plotly.purge(gd);\n",
              "            observer.disconnect();\n",
              "        }}\n",
              "}});\n",
              "\n",
              "// Listen for the removal of the full notebook cells\n",
              "var notebookContainer = gd.closest('#notebook-container');\n",
              "if (notebookContainer) {{\n",
              "    x.observe(notebookContainer, {childList: true});\n",
              "}}\n",
              "\n",
              "// Listen for the clearing of the current output cell\n",
              "var outputEl = gd.closest('.output');\n",
              "if (outputEl) {{\n",
              "    x.observe(outputEl, {childList: true});\n",
              "}}\n",
              "\n",
              "                        })                };                            </script>        </div>\n",
              "</body>\n",
              "</html>"
            ]
          },
          "metadata": {}
        },
        {
          "output_type": "display_data",
          "data": {
            "text/html": [
              "<html>\n",
              "<head><meta charset=\"utf-8\" /></head>\n",
              "<body>\n",
              "    <div>            <script src=\"https://cdnjs.cloudflare.com/ajax/libs/mathjax/2.7.5/MathJax.js?config=TeX-AMS-MML_SVG\"></script><script type=\"text/javascript\">if (window.MathJax) {MathJax.Hub.Config({SVG: {font: \"STIX-Web\"}});}</script>                <script type=\"text/javascript\">window.PlotlyConfig = {MathJaxConfig: 'local'};</script>\n",
              "        <script src=\"https://cdn.plot.ly/plotly-2.6.3.min.js\"></script>                <div id=\"ebaf5355-b3a0-4dd2-9eab-727b00a9a0a1\" class=\"plotly-graph-div\" style=\"height:525px; width:100%;\"></div>            <script type=\"text/javascript\">                                    window.PLOTLYENV=window.PLOTLYENV || {};                                    if (document.getElementById(\"ebaf5355-b3a0-4dd2-9eab-727b00a9a0a1\")) {                    Plotly.newPlot(                        \"ebaf5355-b3a0-4dd2-9eab-727b00a9a0a1\",                        [{\"marker\":{\"color\":\"#1f77b4\",\"size\":10},\"mode\":\"markers\",\"name\":\"PACF\",\"x\":[0,1,2,3,4,5,6,7,8,9,10,11,12,13,14,15,16,17,18,19,20,21,22,23,24,25,26,27,28,29,30,31,32,33,34,35,36,37,38,39,40],\"y\":[1.0,-0.05644873504477918,-0.009254204898835997,0.006659320706250702,0.011158181542857687,0.046821028043841875,-0.05056785472244768,-0.008264254985289826,-0.09145547364455439,0.10273087857716559,-0.0415887002419371,-0.03247636995227528,-0.051225174146786026,0.021251638128871802,0.09534405933600051,0.09129524364759005,0.11325893745967416,-0.00415666484066778,-0.08651464753468008,-0.015821489621883143,-0.003047941035285215,-0.09200203258986696,-0.09083392280978285,-0.05842585557928622,-0.015264290613223631,0.07214848226409656,-0.031038769475214677,-0.03214582258121048,-0.05314487992047461,-0.00028063706699726676,-0.03168751701503312,0.007205694764487686,-0.009348408767218652,0.03448439337688197,-0.15247540295880038,0.04711723878720242,-0.04565798844447127,0.02005369750870798,-0.04478153443360985,-0.03575998133802812,0.04968181416146913],\"type\":\"scatter\",\"showlegend\":false},{\"line\":{\"color\":\"#3f3f3f\"},\"mode\":\"lines\",\"name\":\"Lag1\",\"x\":[0,0],\"y\":[0,1.0],\"type\":\"scatter\",\"showlegend\":false},{\"line\":{\"color\":\"#3f3f3f\"},\"mode\":\"lines\",\"name\":\"Lag2\",\"x\":[1,1],\"y\":[0,-0.05644873504477918],\"type\":\"scatter\",\"showlegend\":false},{\"line\":{\"color\":\"#3f3f3f\"},\"mode\":\"lines\",\"name\":\"Lag3\",\"x\":[2,2],\"y\":[0,-0.009254204898835997],\"type\":\"scatter\",\"showlegend\":false},{\"line\":{\"color\":\"#3f3f3f\"},\"mode\":\"lines\",\"name\":\"Lag4\",\"x\":[3,3],\"y\":[0,0.006659320706250702],\"type\":\"scatter\",\"showlegend\":false},{\"line\":{\"color\":\"#3f3f3f\"},\"mode\":\"lines\",\"name\":\"Lag5\",\"x\":[4,4],\"y\":[0,0.011158181542857687],\"type\":\"scatter\",\"showlegend\":false},{\"line\":{\"color\":\"#3f3f3f\"},\"mode\":\"lines\",\"name\":\"Lag6\",\"x\":[5,5],\"y\":[0,0.046821028043841875],\"type\":\"scatter\",\"showlegend\":false},{\"line\":{\"color\":\"#3f3f3f\"},\"mode\":\"lines\",\"name\":\"Lag7\",\"x\":[6,6],\"y\":[0,-0.05056785472244768],\"type\":\"scatter\",\"showlegend\":false},{\"line\":{\"color\":\"#3f3f3f\"},\"mode\":\"lines\",\"name\":\"Lag8\",\"x\":[7,7],\"y\":[0,-0.008264254985289826],\"type\":\"scatter\",\"showlegend\":false},{\"line\":{\"color\":\"#3f3f3f\"},\"mode\":\"lines\",\"name\":\"Lag9\",\"x\":[8,8],\"y\":[0,-0.09145547364455439],\"type\":\"scatter\",\"showlegend\":false},{\"line\":{\"color\":\"#3f3f3f\"},\"mode\":\"lines\",\"name\":\"Lag10\",\"x\":[9,9],\"y\":[0,0.10273087857716559],\"type\":\"scatter\",\"showlegend\":false},{\"line\":{\"color\":\"#3f3f3f\"},\"mode\":\"lines\",\"name\":\"Lag11\",\"x\":[10,10],\"y\":[0,-0.0415887002419371],\"type\":\"scatter\",\"showlegend\":false},{\"line\":{\"color\":\"#3f3f3f\"},\"mode\":\"lines\",\"name\":\"Lag12\",\"x\":[11,11],\"y\":[0,-0.03247636995227528],\"type\":\"scatter\",\"showlegend\":false},{\"line\":{\"color\":\"#3f3f3f\"},\"mode\":\"lines\",\"name\":\"Lag13\",\"x\":[12,12],\"y\":[0,-0.051225174146786026],\"type\":\"scatter\",\"showlegend\":false},{\"line\":{\"color\":\"#3f3f3f\"},\"mode\":\"lines\",\"name\":\"Lag14\",\"x\":[13,13],\"y\":[0,0.021251638128871802],\"type\":\"scatter\",\"showlegend\":false},{\"line\":{\"color\":\"#3f3f3f\"},\"mode\":\"lines\",\"name\":\"Lag15\",\"x\":[14,14],\"y\":[0,0.09534405933600051],\"type\":\"scatter\",\"showlegend\":false},{\"line\":{\"color\":\"#3f3f3f\"},\"mode\":\"lines\",\"name\":\"Lag16\",\"x\":[15,15],\"y\":[0,0.09129524364759005],\"type\":\"scatter\",\"showlegend\":false},{\"line\":{\"color\":\"#3f3f3f\"},\"mode\":\"lines\",\"name\":\"Lag17\",\"x\":[16,16],\"y\":[0,0.11325893745967416],\"type\":\"scatter\",\"showlegend\":false},{\"line\":{\"color\":\"#3f3f3f\"},\"mode\":\"lines\",\"name\":\"Lag18\",\"x\":[17,17],\"y\":[0,-0.00415666484066778],\"type\":\"scatter\",\"showlegend\":false},{\"line\":{\"color\":\"#3f3f3f\"},\"mode\":\"lines\",\"name\":\"Lag19\",\"x\":[18,18],\"y\":[0,-0.08651464753468008],\"type\":\"scatter\",\"showlegend\":false},{\"line\":{\"color\":\"#3f3f3f\"},\"mode\":\"lines\",\"name\":\"Lag20\",\"x\":[19,19],\"y\":[0,-0.015821489621883143],\"type\":\"scatter\",\"showlegend\":false},{\"line\":{\"color\":\"#3f3f3f\"},\"mode\":\"lines\",\"name\":\"Lag21\",\"x\":[20,20],\"y\":[0,-0.003047941035285215],\"type\":\"scatter\",\"showlegend\":false},{\"line\":{\"color\":\"#3f3f3f\"},\"mode\":\"lines\",\"name\":\"Lag22\",\"x\":[21,21],\"y\":[0,-0.09200203258986696],\"type\":\"scatter\",\"showlegend\":false},{\"line\":{\"color\":\"#3f3f3f\"},\"mode\":\"lines\",\"name\":\"Lag23\",\"x\":[22,22],\"y\":[0,-0.09083392280978285],\"type\":\"scatter\",\"showlegend\":false},{\"line\":{\"color\":\"#3f3f3f\"},\"mode\":\"lines\",\"name\":\"Lag24\",\"x\":[23,23],\"y\":[0,-0.05842585557928622],\"type\":\"scatter\",\"showlegend\":false},{\"line\":{\"color\":\"#3f3f3f\"},\"mode\":\"lines\",\"name\":\"Lag25\",\"x\":[24,24],\"y\":[0,-0.015264290613223631],\"type\":\"scatter\",\"showlegend\":false},{\"line\":{\"color\":\"#3f3f3f\"},\"mode\":\"lines\",\"name\":\"Lag26\",\"x\":[25,25],\"y\":[0,0.07214848226409656],\"type\":\"scatter\",\"showlegend\":false},{\"line\":{\"color\":\"#3f3f3f\"},\"mode\":\"lines\",\"name\":\"Lag27\",\"x\":[26,26],\"y\":[0,-0.031038769475214677],\"type\":\"scatter\",\"showlegend\":false},{\"line\":{\"color\":\"#3f3f3f\"},\"mode\":\"lines\",\"name\":\"Lag28\",\"x\":[27,27],\"y\":[0,-0.03214582258121048],\"type\":\"scatter\",\"showlegend\":false},{\"line\":{\"color\":\"#3f3f3f\"},\"mode\":\"lines\",\"name\":\"Lag29\",\"x\":[28,28],\"y\":[0,-0.05314487992047461],\"type\":\"scatter\",\"showlegend\":false},{\"line\":{\"color\":\"#3f3f3f\"},\"mode\":\"lines\",\"name\":\"Lag30\",\"x\":[29,29],\"y\":[0,-0.00028063706699726676],\"type\":\"scatter\",\"showlegend\":false},{\"line\":{\"color\":\"#3f3f3f\"},\"mode\":\"lines\",\"name\":\"Lag31\",\"x\":[30,30],\"y\":[0,-0.03168751701503312],\"type\":\"scatter\",\"showlegend\":false},{\"line\":{\"color\":\"#3f3f3f\"},\"mode\":\"lines\",\"name\":\"Lag32\",\"x\":[31,31],\"y\":[0,0.007205694764487686],\"type\":\"scatter\",\"showlegend\":false},{\"line\":{\"color\":\"#3f3f3f\"},\"mode\":\"lines\",\"name\":\"Lag33\",\"x\":[32,32],\"y\":[0,-0.009348408767218652],\"type\":\"scatter\",\"showlegend\":false},{\"line\":{\"color\":\"#3f3f3f\"},\"mode\":\"lines\",\"name\":\"Lag34\",\"x\":[33,33],\"y\":[0,0.03448439337688197],\"type\":\"scatter\",\"showlegend\":false},{\"line\":{\"color\":\"#3f3f3f\"},\"mode\":\"lines\",\"name\":\"Lag35\",\"x\":[34,34],\"y\":[0,-0.15247540295880038],\"type\":\"scatter\",\"showlegend\":false},{\"line\":{\"color\":\"#3f3f3f\"},\"mode\":\"lines\",\"name\":\"Lag36\",\"x\":[35,35],\"y\":[0,0.04711723878720242],\"type\":\"scatter\",\"showlegend\":false},{\"line\":{\"color\":\"#3f3f3f\"},\"mode\":\"lines\",\"name\":\"Lag37\",\"x\":[36,36],\"y\":[0,-0.04565798844447127],\"type\":\"scatter\",\"showlegend\":false},{\"line\":{\"color\":\"#3f3f3f\"},\"mode\":\"lines\",\"name\":\"Lag38\",\"x\":[37,37],\"y\":[0,0.02005369750870798],\"type\":\"scatter\",\"showlegend\":false},{\"line\":{\"color\":\"#3f3f3f\"},\"mode\":\"lines\",\"name\":\"Lag39\",\"x\":[38,38],\"y\":[0,-0.04478153443360985],\"type\":\"scatter\",\"showlegend\":false},{\"line\":{\"color\":\"#3f3f3f\"},\"mode\":\"lines\",\"name\":\"Lag40\",\"x\":[39,39],\"y\":[0,-0.03575998133802812],\"type\":\"scatter\",\"showlegend\":false},{\"line\":{\"color\":\"#3f3f3f\"},\"mode\":\"lines\",\"name\":\"Lag41\",\"x\":[40,40],\"y\":[0,0.04968181416146913],\"type\":\"scatter\",\"showlegend\":false},{\"line\":{\"color\":\"rgba(255,255,255,0)\"},\"mode\":\"lines\",\"name\":\"UC\",\"x\":[0,1,2,3,4,5,6,7,8,9,10,11,12,13,14,15,16,17,18,19,20,21,22,23,24,25,26,27,28,29,30,31,32,33,34,35,36,37,38,39,40],\"y\":[0.0,0.10629397111858786,0.10629397111858786,0.10629397111858786,0.10629397111858786,0.10629397111858786,0.10629397111858786,0.10629397111858786,0.10629397111858786,0.10629397111858788,0.10629397111858786,0.10629397111858786,0.10629397111858786,0.10629397111858786,0.10629397111858788,0.10629397111858786,0.10629397111858788,0.10629397111858786,0.10629397111858786,0.10629397111858788,0.10629397111858786,0.10629397111858786,0.10629397111858786,0.10629397111858786,0.10629397111858785,0.10629397111858788,0.10629397111858786,0.10629397111858788,0.10629397111858786,0.10629397111858786,0.10629397111858785,0.10629397111858786,0.10629397111858786,0.10629397111858785,0.10629397111858786,0.10629397111858785,0.10629397111858786,0.10629397111858788,0.10629397111858786,0.10629397111858788,0.10629397111858785],\"type\":\"scatter\",\"showlegend\":false},{\"fill\":\"tonexty\",\"fillcolor\":\"rgba(32, 146, 230,0.3)\",\"line\":{\"color\":\"rgba(255,255,255,0)\"},\"mode\":\"lines\",\"name\":\"LC\",\"x\":[0,1,2,3,4,5,6,7,8,9,10,11,12,13,14,15,16,17,18,19,20,21,22,23,24,25,26,27,28,29,30,31,32,33,34,35,36,37,38,39,40],\"y\":[0.0,-0.10629397111858788,-0.10629397111858786,-0.10629397111858786,-0.10629397111858786,-0.10629397111858786,-0.10629397111858785,-0.10629397111858786,-0.10629397111858788,-0.10629397111858786,-0.10629397111858786,-0.10629397111858786,-0.10629397111858786,-0.10629397111858786,-0.10629397111858786,-0.10629397111858786,-0.10629397111858786,-0.10629397111858786,-0.10629397111858785,-0.10629397111858785,-0.10629397111858786,-0.10629397111858786,-0.10629397111858786,-0.10629397111858785,-0.10629397111858788,-0.10629397111858786,-0.10629397111858786,-0.10629397111858785,-0.10629397111858785,-0.10629397111858786,-0.10629397111858788,-0.10629397111858786,-0.10629397111858786,-0.10629397111858786,-0.10629397111858788,-0.10629397111858786,-0.10629397111858785,-0.10629397111858785,-0.10629397111858785,-0.10629397111858785,-0.10629397111858786],\"type\":\"scatter\",\"showlegend\":false},{\"line\":{\"color\":\"#3f3f3f\"},\"mode\":\"lines\",\"name\":\"\",\"x\":[0,41],\"y\":[0,0],\"type\":\"scatter\",\"showlegend\":false}],                        {\"template\":{\"data\":{\"barpolar\":[{\"marker\":{\"line\":{\"color\":\"rgb(237,237,237)\",\"width\":0.5},\"pattern\":{\"fillmode\":\"overlay\",\"size\":10,\"solidity\":0.2}},\"type\":\"barpolar\"}],\"bar\":[{\"error_x\":{\"color\":\"rgb(51,51,51)\"},\"error_y\":{\"color\":\"rgb(51,51,51)\"},\"marker\":{\"line\":{\"color\":\"rgb(237,237,237)\",\"width\":0.5},\"pattern\":{\"fillmode\":\"overlay\",\"size\":10,\"solidity\":0.2}},\"type\":\"bar\"}],\"carpet\":[{\"aaxis\":{\"endlinecolor\":\"rgb(51,51,51)\",\"gridcolor\":\"white\",\"linecolor\":\"white\",\"minorgridcolor\":\"white\",\"startlinecolor\":\"rgb(51,51,51)\"},\"baxis\":{\"endlinecolor\":\"rgb(51,51,51)\",\"gridcolor\":\"white\",\"linecolor\":\"white\",\"minorgridcolor\":\"white\",\"startlinecolor\":\"rgb(51,51,51)\"},\"type\":\"carpet\"}],\"choropleth\":[{\"colorbar\":{\"outlinewidth\":0,\"tickcolor\":\"rgb(237,237,237)\",\"ticklen\":6,\"ticks\":\"inside\"},\"type\":\"choropleth\"}],\"contourcarpet\":[{\"colorbar\":{\"outlinewidth\":0,\"tickcolor\":\"rgb(237,237,237)\",\"ticklen\":6,\"ticks\":\"inside\"},\"type\":\"contourcarpet\"}],\"contour\":[{\"colorbar\":{\"outlinewidth\":0,\"tickcolor\":\"rgb(237,237,237)\",\"ticklen\":6,\"ticks\":\"inside\"},\"colorscale\":[[0,\"rgb(20,44,66)\"],[1,\"rgb(90,179,244)\"]],\"type\":\"contour\"}],\"heatmapgl\":[{\"colorbar\":{\"outlinewidth\":0,\"tickcolor\":\"rgb(237,237,237)\",\"ticklen\":6,\"ticks\":\"inside\"},\"colorscale\":[[0,\"rgb(20,44,66)\"],[1,\"rgb(90,179,244)\"]],\"type\":\"heatmapgl\"}],\"heatmap\":[{\"colorbar\":{\"outlinewidth\":0,\"tickcolor\":\"rgb(237,237,237)\",\"ticklen\":6,\"ticks\":\"inside\"},\"colorscale\":[[0,\"rgb(20,44,66)\"],[1,\"rgb(90,179,244)\"]],\"type\":\"heatmap\"}],\"histogram2dcontour\":[{\"colorbar\":{\"outlinewidth\":0,\"tickcolor\":\"rgb(237,237,237)\",\"ticklen\":6,\"ticks\":\"inside\"},\"colorscale\":[[0,\"rgb(20,44,66)\"],[1,\"rgb(90,179,244)\"]],\"type\":\"histogram2dcontour\"}],\"histogram2d\":[{\"colorbar\":{\"outlinewidth\":0,\"tickcolor\":\"rgb(237,237,237)\",\"ticklen\":6,\"ticks\":\"inside\"},\"colorscale\":[[0,\"rgb(20,44,66)\"],[1,\"rgb(90,179,244)\"]],\"type\":\"histogram2d\"}],\"histogram\":[{\"marker\":{\"pattern\":{\"fillmode\":\"overlay\",\"size\":10,\"solidity\":0.2}},\"type\":\"histogram\"}],\"mesh3d\":[{\"colorbar\":{\"outlinewidth\":0,\"tickcolor\":\"rgb(237,237,237)\",\"ticklen\":6,\"ticks\":\"inside\"},\"type\":\"mesh3d\"}],\"parcoords\":[{\"line\":{\"colorbar\":{\"outlinewidth\":0,\"tickcolor\":\"rgb(237,237,237)\",\"ticklen\":6,\"ticks\":\"inside\"}},\"type\":\"parcoords\"}],\"pie\":[{\"automargin\":true,\"type\":\"pie\"}],\"scatter3d\":[{\"line\":{\"colorbar\":{\"outlinewidth\":0,\"tickcolor\":\"rgb(237,237,237)\",\"ticklen\":6,\"ticks\":\"inside\"}},\"marker\":{\"colorbar\":{\"outlinewidth\":0,\"tickcolor\":\"rgb(237,237,237)\",\"ticklen\":6,\"ticks\":\"inside\"}},\"type\":\"scatter3d\"}],\"scattercarpet\":[{\"marker\":{\"colorbar\":{\"outlinewidth\":0,\"tickcolor\":\"rgb(237,237,237)\",\"ticklen\":6,\"ticks\":\"inside\"}},\"type\":\"scattercarpet\"}],\"scattergeo\":[{\"marker\":{\"colorbar\":{\"outlinewidth\":0,\"tickcolor\":\"rgb(237,237,237)\",\"ticklen\":6,\"ticks\":\"inside\"}},\"type\":\"scattergeo\"}],\"scattergl\":[{\"marker\":{\"colorbar\":{\"outlinewidth\":0,\"tickcolor\":\"rgb(237,237,237)\",\"ticklen\":6,\"ticks\":\"inside\"}},\"type\":\"scattergl\"}],\"scattermapbox\":[{\"marker\":{\"colorbar\":{\"outlinewidth\":0,\"tickcolor\":\"rgb(237,237,237)\",\"ticklen\":6,\"ticks\":\"inside\"}},\"type\":\"scattermapbox\"}],\"scatterpolargl\":[{\"marker\":{\"colorbar\":{\"outlinewidth\":0,\"tickcolor\":\"rgb(237,237,237)\",\"ticklen\":6,\"ticks\":\"inside\"}},\"type\":\"scatterpolargl\"}],\"scatterpolar\":[{\"marker\":{\"colorbar\":{\"outlinewidth\":0,\"tickcolor\":\"rgb(237,237,237)\",\"ticklen\":6,\"ticks\":\"inside\"}},\"type\":\"scatterpolar\"}],\"scatter\":[{\"marker\":{\"colorbar\":{\"outlinewidth\":0,\"tickcolor\":\"rgb(237,237,237)\",\"ticklen\":6,\"ticks\":\"inside\"}},\"type\":\"scatter\"}],\"scatterternary\":[{\"marker\":{\"colorbar\":{\"outlinewidth\":0,\"tickcolor\":\"rgb(237,237,237)\",\"ticklen\":6,\"ticks\":\"inside\"}},\"type\":\"scatterternary\"}],\"surface\":[{\"colorbar\":{\"outlinewidth\":0,\"tickcolor\":\"rgb(237,237,237)\",\"ticklen\":6,\"ticks\":\"inside\"},\"colorscale\":[[0,\"rgb(20,44,66)\"],[1,\"rgb(90,179,244)\"]],\"type\":\"surface\"}],\"table\":[{\"cells\":{\"fill\":{\"color\":\"rgb(237,237,237)\"},\"line\":{\"color\":\"white\"}},\"header\":{\"fill\":{\"color\":\"rgb(217,217,217)\"},\"line\":{\"color\":\"white\"}},\"type\":\"table\"}]},\"layout\":{\"annotationdefaults\":{\"arrowhead\":0,\"arrowwidth\":1},\"autotypenumbers\":\"strict\",\"coloraxis\":{\"colorbar\":{\"outlinewidth\":0,\"tickcolor\":\"rgb(237,237,237)\",\"ticklen\":6,\"ticks\":\"inside\"}},\"colorscale\":{\"sequential\":[[0,\"rgb(20,44,66)\"],[1,\"rgb(90,179,244)\"]],\"sequentialminus\":[[0,\"rgb(20,44,66)\"],[1,\"rgb(90,179,244)\"]]},\"colorway\":[\"#F8766D\",\"#A3A500\",\"#00BF7D\",\"#00B0F6\",\"#E76BF3\"],\"font\":{\"color\":\"rgb(51,51,51)\"},\"geo\":{\"bgcolor\":\"white\",\"lakecolor\":\"white\",\"landcolor\":\"rgb(237,237,237)\",\"showlakes\":true,\"showland\":true,\"subunitcolor\":\"white\"},\"hoverlabel\":{\"align\":\"left\"},\"hovermode\":\"closest\",\"paper_bgcolor\":\"white\",\"plot_bgcolor\":\"rgb(237,237,237)\",\"polar\":{\"angularaxis\":{\"gridcolor\":\"white\",\"linecolor\":\"white\",\"showgrid\":true,\"tickcolor\":\"rgb(51,51,51)\",\"ticks\":\"outside\"},\"bgcolor\":\"rgb(237,237,237)\",\"radialaxis\":{\"gridcolor\":\"white\",\"linecolor\":\"white\",\"showgrid\":true,\"tickcolor\":\"rgb(51,51,51)\",\"ticks\":\"outside\"}},\"scene\":{\"xaxis\":{\"backgroundcolor\":\"rgb(237,237,237)\",\"gridcolor\":\"white\",\"gridwidth\":2,\"linecolor\":\"white\",\"showbackground\":true,\"showgrid\":true,\"tickcolor\":\"rgb(51,51,51)\",\"ticks\":\"outside\",\"zerolinecolor\":\"white\"},\"yaxis\":{\"backgroundcolor\":\"rgb(237,237,237)\",\"gridcolor\":\"white\",\"gridwidth\":2,\"linecolor\":\"white\",\"showbackground\":true,\"showgrid\":true,\"tickcolor\":\"rgb(51,51,51)\",\"ticks\":\"outside\",\"zerolinecolor\":\"white\"},\"zaxis\":{\"backgroundcolor\":\"rgb(237,237,237)\",\"gridcolor\":\"white\",\"gridwidth\":2,\"linecolor\":\"white\",\"showbackground\":true,\"showgrid\":true,\"tickcolor\":\"rgb(51,51,51)\",\"ticks\":\"outside\",\"zerolinecolor\":\"white\"}},\"shapedefaults\":{\"fillcolor\":\"black\",\"line\":{\"width\":0},\"opacity\":0.3},\"ternary\":{\"aaxis\":{\"gridcolor\":\"white\",\"linecolor\":\"white\",\"showgrid\":true,\"tickcolor\":\"rgb(51,51,51)\",\"ticks\":\"outside\"},\"baxis\":{\"gridcolor\":\"white\",\"linecolor\":\"white\",\"showgrid\":true,\"tickcolor\":\"rgb(51,51,51)\",\"ticks\":\"outside\"},\"bgcolor\":\"rgb(237,237,237)\",\"caxis\":{\"gridcolor\":\"white\",\"linecolor\":\"white\",\"showgrid\":true,\"tickcolor\":\"rgb(51,51,51)\",\"ticks\":\"outside\"}},\"xaxis\":{\"automargin\":true,\"gridcolor\":\"white\",\"linecolor\":\"white\",\"showgrid\":true,\"tickcolor\":\"rgb(51,51,51)\",\"ticks\":\"outside\",\"title\":{\"standoff\":15},\"zerolinecolor\":\"white\"},\"yaxis\":{\"automargin\":true,\"gridcolor\":\"white\",\"linecolor\":\"white\",\"showgrid\":true,\"tickcolor\":\"rgb(51,51,51)\",\"ticks\":\"outside\",\"title\":{\"standoff\":15},\"zerolinecolor\":\"white\"}}},\"xaxis\":{\"range\":[-1,42]},\"yaxis\":{\"zerolinecolor\":\"#000000\"},\"title\":{\"text\":\"Partial Autocorrelation (PACF) | x\"}},                        {\"responsive\": true}                    ).then(function(){\n",
              "                            \n",
              "var gd = document.getElementById('ebaf5355-b3a0-4dd2-9eab-727b00a9a0a1');\n",
              "var x = new MutationObserver(function (mutations, observer) {{\n",
              "        var display = window.getComputedStyle(gd).display;\n",
              "        if (!display || display === 'none') {{\n",
              "            console.log([gd, 'removed!']);\n",
              "            Plotly.purge(gd);\n",
              "            observer.disconnect();\n",
              "        }}\n",
              "}});\n",
              "\n",
              "// Listen for the removal of the full notebook cells\n",
              "var notebookContainer = gd.closest('#notebook-container');\n",
              "if (notebookContainer) {{\n",
              "    x.observe(notebookContainer, {childList: true});\n",
              "}}\n",
              "\n",
              "// Listen for the clearing of the current output cell\n",
              "var outputEl = gd.closest('.output');\n",
              "if (outputEl) {{\n",
              "    x.observe(outputEl, {childList: true});\n",
              "}}\n",
              "\n",
              "                        })                };                            </script>        </div>\n",
              "</body>\n",
              "</html>"
            ]
          },
          "metadata": {}
        }
      ]
    },
    {
      "cell_type": "markdown",
      "metadata": {
        "id": "C-qgRySKU9si"
      },
      "source": [
        "## Helper functions using PyCaret's Time Series Module"
      ]
    },
    {
      "cell_type": "code",
      "metadata": {
        "id": "bKq_39tvU73p"
      },
      "source": [
        "def summarize_model(model):\n",
        "  \"\"\"\n",
        "  Provides statistical summary for some statistical models\n",
        "  \"\"\"\n",
        "  # Statistical Summary Table\n",
        "  try:\n",
        "    print(model.summary())\n",
        "  except:\n",
        "    print(\"Summary does not exist for this model.\")"
      ],
      "execution_count": 7,
      "outputs": []
    },
    {
      "cell_type": "code",
      "metadata": {
        "id": "wO4r6Sf_U_8q"
      },
      "source": [
        "def get_residual_properties(model, ddof: int=0):\n",
        "  \"\"\"\n",
        "  Plots and displays variance of residuals\n",
        "  \"\"\"\n",
        "  #### Residuals ----\n",
        "  try:\n",
        "    plot_data = exp.plot_model(model, plot=\"residuals\", return_data=True)\n",
        "    resid = plot_data['data']\n",
        "    resid_sigma2 = (resid**2).sum()/(len(resid))\n",
        "    print(f\"Residual Sigma 2: {resid_sigma2}\")\n",
        "  except:\n",
        "    print(\"Residuals can not be extracted for this model.\")"
      ],
      "execution_count": 8,
      "outputs": []
    },
    {
      "cell_type": "code",
      "metadata": {
        "id": "0GnY9OU5VBMa"
      },
      "source": [
        "def plot_predictions(model):\n",
        "  \"\"\"\n",
        "  Plots out-of-sample and in-sample predictions\n",
        "  \"\"\"\n",
        "  # Out-of-Sample Forecast\n",
        "  exp.plot_model(model)\n",
        "  \n",
        "  # In-Sample Forecast\n",
        "  exp.plot_model(model, plot=\"insample\")"
      ],
      "execution_count": 9,
      "outputs": []
    },
    {
      "cell_type": "markdown",
      "metadata": {
        "id": "F1TQZ_XGVDx5"
      },
      "source": [
        "## Train & Test Data Properties"
      ]
    },
    {
      "cell_type": "code",
      "metadata": {
        "colab": {
          "base_uri": "https://localhost:8080/"
        },
        "id": "CBDNfgXcVCW6",
        "outputId": "8f3a2166-4da8-4f8b-a028-f0d4424b75c0"
      },
      "source": [
        "# Get Train Data Properties\n",
        "y_train = exp.get_config(\"y_train\")\n",
        "print(f\"Train Start Index: {y_train.index.min()}\\nTrain End Index: {y_train.index.max()}\")\n",
        "\n",
        "# Get Test Data Properties\n",
        "y_test = exp.get_config(\"y_test\")\n",
        "print(f\"Test Start Index: {y_test.index.min()}\\nTest End Index: {y_test.index.max()}\")"
      ],
      "execution_count": 10,
      "outputs": [
        {
          "output_type": "stream",
          "name": "stdout",
          "text": [
            "Train Start Index: 0\n",
            "Train End Index: 309\n",
            "Test Start Index: 310\n",
            "Test End Index: 339\n"
          ]
        }
      ]
    },
    {
      "cell_type": "markdown",
      "metadata": {
        "id": "D_FuawwQVgQR"
      },
      "source": [
        "## ARIMA Model with Constant (Intercept) and/or Trend (Slope)"
      ]
    },
    {
      "cell_type": "markdown",
      "metadata": {
        "id": "1PI73VuzViXh"
      },
      "source": [
        "### Theoretical Calculations"
      ]
    },
    {
      "cell_type": "markdown",
      "metadata": {
        "id": "rKkr_SOry5C3"
      },
      "source": [
        "#### Model with Intercept only (trend = \"c\")\n",
        "\n",
        "- This is the same as the model that we covered in the previous article.\n",
        "- The best estimate of the constant is the mean of the data used to train the model.\n",
        "- This applies to the in-sample as well as out-of-sample data"
      ]
    },
    {
      "cell_type": "code",
      "metadata": {
        "id": "eE_JZu-vVGKK"
      },
      "source": [
        "train_data = pd.DataFrame({\"y\":y_train})\n",
        "train_data['preds'] = y_train.mean()\n",
        "train_data['split'] = \"Train\"\n",
        "\n",
        "test_data = pd.DataFrame({'y': y_test})\n",
        "test_data['preds'] = y_train.mean()\n",
        "test_data['split'] = \"Test\"\n",
        "\n",
        "data = pd.concat([train_data, test_data])\n",
        "data['residuals'] = data['y'] - data['preds']\n",
        "data.reset_index(inplace=True)"
      ],
      "execution_count": 11,
      "outputs": []
    },
    {
      "cell_type": "code",
      "metadata": {
        "colab": {
          "base_uri": "https://localhost:8080/"
        },
        "id": "MTkgoS-UVsT2",
        "outputId": "4c690c89-88a5-438c-9a2c-10e7f2d7e868"
      },
      "source": [
        "y_train_mean = data.query(\"split=='Train'\")['y'].mean()\n",
        "resid = data.query(\"split=='Train'\")['residuals']\n",
        "resid_sigma2 = (resid**2).sum()/len(resid)\n",
        "\n",
        "print(f\"Mean of Training Data: {y_train_mean}\")\n",
        "print(f\"Residuals Sigma2: {resid_sigma2}\")"
      ],
      "execution_count": 12,
      "outputs": [
        {
          "output_type": "stream",
          "name": "stdout",
          "text": [
            "Mean of Training Data: 176.01810663414085\n",
            "Residuals Sigma2: 0.9769567915901368\n"
          ]
        }
      ]
    },
    {
      "cell_type": "code",
      "metadata": {
        "colab": {
          "base_uri": "https://localhost:8080/",
          "height": 312
        },
        "id": "EJo9BwKbVvyP",
        "outputId": "29622828-68e8-4940-90fa-6e7910c0df71"
      },
      "source": [
        "sns.lineplot(data=data, x=\"index\", y=\"preds\", hue=\"split\").set(title=\"Theoretical Predictions\")"
      ],
      "execution_count": 13,
      "outputs": [
        {
          "output_type": "execute_result",
          "data": {
            "text/plain": [
              "[Text(0.5, 1.0, 'Theoretical Predictions')]"
            ]
          },
          "metadata": {},
          "execution_count": 13
        },
        {
          "output_type": "display_data",
          "data": {
            "image/png": "[encoded data removed]",
            "text/plain": [
              "<Figure size 432x288 with 1 Axes>"
            ]
          },
          "metadata": {
            "needs_background": "light"
          }
        }
      ]
    },
    {
      "cell_type": "markdown",
      "metadata": {
        "id": "gEHmCe3KV2vC"
      },
      "source": [
        "But what about the confidence intervals? 95% Prediction Intervals Multiplier = 1.96\n",
        "\n",
        "CHANGE: Confidence interval = Mean +/- 1.96 * Std of Residuals"
      ]
    },
    {
      "cell_type": "code",
      "metadata": {
        "colab": {
          "base_uri": "https://localhost:8080/"
        },
        "id": "zca0zM4OVxQv",
        "outputId": "53e318c7-bdbf-4c8b-d410-6384b274e850"
      },
      "source": [
        "import scipy.stats as st\n",
        "alpha = 0.05\n",
        "\n",
        "# 2 sided multiplier\n",
        "multiplier = st.norm.ppf(1-alpha/2)\n",
        "\n",
        "lower_interval = np.round(y_train_mean - multiplier * resid_sigma2**0.5, 2)\n",
        "upper_interval = np.round(y_train_mean + multiplier * resid_sigma2**0.5, 2)\n",
        "print(f\"Prediction Interval: {lower_interval} - {upper_interval}\")"
      ],
      "execution_count": 14,
      "outputs": [
        {
          "output_type": "stream",
          "name": "stdout",
          "text": [
            "Prediction Interval: 174.08 - 177.96\n"
          ]
        }
      ]
    },
    {
      "cell_type": "markdown",
      "metadata": {
        "id": "_cT1UZU9zvui"
      },
      "source": [
        "#### Model with Trend Only (trend = \"t\")\n",
        "\n",
        "- This is like fitting a linear regression model to the data without an intercept."
      ]
    },
    {
      "cell_type": "code",
      "metadata": {
        "colab": {
          "base_uri": "https://localhost:8080/"
        },
        "id": "xb4KqOAfx03I",
        "outputId": "69006f74-4cea-4362-9a8b-024c1902db5d"
      },
      "source": [
        "X_train = np.arange(len(y_train)).reshape(-1, 1)\n",
        "reg = LinearRegression(fit_intercept=False).fit(X_train, y_train)\n",
        "print(f\"Expected Intercept: {reg.intercept_}\")\n",
        "print(f\"Expected Slope: {reg.coef_}\")"
      ],
      "execution_count": 15,
      "outputs": [
        {
          "output_type": "stream",
          "name": "stdout",
          "text": [
            "Expected Intercept: 0.0\n",
            "Expected Slope: [0.85317393]\n"
          ]
        }
      ]
    },
    {
      "cell_type": "markdown",
      "metadata": {
        "id": "UxinhVQJ0IAm"
      },
      "source": [
        "#### Model with Intercept and Trend (trend = \"ct\")\n",
        "\n",
        "- This is like fitting a linear regression model to the data with an intercept and slope."
      ]
    },
    {
      "cell_type": "code",
      "metadata": {
        "colab": {
          "base_uri": "https://localhost:8080/"
        },
        "id": "KzVZeVz5x0a5",
        "outputId": "323d0ce2-9e4a-4987-8d1d-45601a860a8f"
      },
      "source": [
        "X_train = np.arange(len(y_train)).reshape(-1, 1)\n",
        "reg = LinearRegression(fit_intercept=True).fit(X_train, y_train)\n",
        "print(f\"Expected Intercept: {reg.intercept_}\")\n",
        "print(f\"Expected Slope: {reg.coef_}\")"
      ],
      "execution_count": 16,
      "outputs": [
        {
          "output_type": "stream",
          "name": "stdout",
          "text": [
            "Expected Intercept: 175.95815015173943\n",
            "Expected Slope: [0.00038807]\n"
          ]
        }
      ]
    },
    {
      "cell_type": "markdown",
      "metadata": {
        "id": "1Kr7cfHpV8By"
      },
      "source": [
        "### Now let's build this model & compare to Theory"
      ]
    },
    {
      "cell_type": "markdown",
      "metadata": {
        "id": "CgXzEzNif2r4"
      },
      "source": [
        "## Inclusion of Constants\n",
        "\n",
        "https://robjhyndman.com/hyndsight/arimaconstants/\n",
        "\n",
        "Python ARIMA Parameters: https://github.com/alan-turing-institute/sktime/blob/main/sktime/forecasting/arima.py"
      ]
    },
    {
      "cell_type": "markdown",
      "metadata": {
        "id": "28GDo5SZYFwf"
      },
      "source": [
        "#### Model with Intercept only (trend = \"c\")"
      ]
    },
    {
      "cell_type": "code",
      "metadata": {
        "colab": {
          "base_uri": "https://localhost:8080/",
          "height": 206,
          "referenced_widgets": [
            "f1c34f84ef5046739358392390dedb48",
            "8ee1681eef644747a4765f9071d6fa41",
            "1f9bcba5b0f540f5951de9b90cb2106b"
          ]
        },
        "id": "cL76Zc_eV6Sg",
        "outputId": "bbe70e36-2f9f-4b37-ad9a-17ae02abd8e6"
      },
      "source": [
        "model2a = exp.create_model(\"arima\", order=(0, 0, 0), seasonal_order=(0, 0, 0, 0), trend=\"c\")"
      ],
      "execution_count": 17,
      "outputs": [
        {
          "output_type": "display_data",
          "data": {
            "text/html": [
              "<div>\n",
              "<style scoped>\n",
              "    .dataframe tbody tr th:only-of-type {\n",
              "        vertical-align: middle;\n",
              "    }\n",
              "\n",
              "    .dataframe tbody tr th {\n",
              "        vertical-align: top;\n",
              "    }\n",
              "\n",
              "    .dataframe thead th {\n",
              "        text-align: right;\n",
              "    }\n",
              "</style>\n",
              "<table border=\"1\" class=\"dataframe\">\n",
              "  <thead>\n",
              "    <tr style=\"text-align: right;\">\n",
              "      <th></th>\n",
              "      <th>cutoff</th>\n",
              "      <th>MAE</th>\n",
              "      <th>RMSE</th>\n",
              "      <th>MAPE</th>\n",
              "      <th>SMAPE</th>\n",
              "      <th>R2</th>\n",
              "    </tr>\n",
              "  </thead>\n",
              "  <tbody>\n",
              "    <tr>\n",
              "      <th>0</th>\n",
              "      <td>219.0</td>\n",
              "      <td>0.8275</td>\n",
              "      <td>1.0069</td>\n",
              "      <td>0.0047</td>\n",
              "      <td>0.0047</td>\n",
              "      <td>-0.0007</td>\n",
              "    </tr>\n",
              "    <tr>\n",
              "      <th>1</th>\n",
              "      <td>249.0</td>\n",
              "      <td>0.7442</td>\n",
              "      <td>0.9785</td>\n",
              "      <td>0.0042</td>\n",
              "      <td>0.0042</td>\n",
              "      <td>-0.0084</td>\n",
              "    </tr>\n",
              "    <tr>\n",
              "      <th>2</th>\n",
              "      <td>279.0</td>\n",
              "      <td>0.8170</td>\n",
              "      <td>0.9894</td>\n",
              "      <td>0.0046</td>\n",
              "      <td>0.0046</td>\n",
              "      <td>-0.0090</td>\n",
              "    </tr>\n",
              "    <tr>\n",
              "      <th>Mean</th>\n",
              "      <td>NaN</td>\n",
              "      <td>0.7962</td>\n",
              "      <td>0.9916</td>\n",
              "      <td>0.0045</td>\n",
              "      <td>0.0045</td>\n",
              "      <td>-0.0060</td>\n",
              "    </tr>\n",
              "    <tr>\n",
              "      <th>SD</th>\n",
              "      <td>NaN</td>\n",
              "      <td>0.0371</td>\n",
              "      <td>0.0117</td>\n",
              "      <td>0.0002</td>\n",
              "      <td>0.0002</td>\n",
              "      <td>0.0038</td>\n",
              "    </tr>\n",
              "  </tbody>\n",
              "</table>\n",
              "</div>"
            ],
            "text/plain": [
              "      cutoff     MAE    RMSE    MAPE   SMAPE      R2\n",
              "0      219.0  0.8275  1.0069  0.0047  0.0047 -0.0007\n",
              "1      249.0  0.7442  0.9785  0.0042  0.0042 -0.0084\n",
              "2      279.0  0.8170  0.9894  0.0046  0.0046 -0.0090\n",
              "Mean     NaN  0.7962  0.9916  0.0045  0.0045 -0.0060\n",
              "SD       NaN  0.0371  0.0117  0.0002  0.0002  0.0038"
            ]
          },
          "metadata": {}
        }
      ]
    },
    {
      "cell_type": "code",
      "metadata": {
        "colab": {
          "base_uri": "https://localhost:8080/",
          "height": 959
        },
        "id": "exAutUT_WCZg",
        "outputId": "c89cb6ef-a9a8-43df-a57e-6a7e93260c3f"
      },
      "source": [
        "summarize_model(model2a)\n",
        "get_residual_properties(model2a)"
      ],
      "execution_count": 18,
      "outputs": [
        {
          "output_type": "stream",
          "name": "stdout",
          "text": [
            "                               SARIMAX Results                                \n",
            "==============================================================================\n",
            "Dep. Variable:                      y   No. Observations:                  310\n",
            "Model:                        SARIMAX   Log Likelihood                -436.257\n",
            "Date:                Fri, 19 Nov 2021   AIC                            876.515\n",
            "Time:                        21:01:54   BIC                            883.988\n",
            "Sample:                             0   HQIC                           879.502\n",
            "                                - 310                                         \n",
            "Covariance Type:                  opg                                         \n",
            "==============================================================================\n",
            "                 coef    std err          z      P>|z|      [0.025      0.975]\n",
            "------------------------------------------------------------------------------\n",
            "intercept    176.0181      0.056   3134.299      0.000     175.908     176.128\n",
            "sigma2         0.9770      0.080     12.235      0.000       0.820       1.133\n",
            "===================================================================================\n",
            "Ljung-Box (L1) (Q):                   0.99   Jarque-Bera (JB):                 0.13\n",
            "Prob(Q):                              0.32   Prob(JB):                         0.94\n",
            "Heteroskedasticity (H):               0.98   Skew:                            -0.04\n",
            "Prob(H) (two-sided):                  0.93   Kurtosis:                         2.93\n",
            "===================================================================================\n",
            "\n",
            "Warnings:\n",
            "[1] Covariance matrix calculated using the outer product of gradients (complex-step).\n"
          ]
        },
        {
          "output_type": "display_data",
          "data": {
            "text/html": [
              "<html>\n",
              "<head><meta charset=\"utf-8\" /></head>\n",
              "<body>\n",
              "    <div>            <script src=\"https://cdnjs.cloudflare.com/ajax/libs/mathjax/2.7.5/MathJax.js?config=TeX-AMS-MML_SVG\"></script><script type=\"text/javascript\">if (window.MathJax) {MathJax.Hub.Config({SVG: {font: \"STIX-Web\"}});}</script>                <script type=\"text/javascript\">window.PlotlyConfig = {MathJaxConfig: 'local'};</script>\n",
              "        <script src=\"https://cdn.plot.ly/plotly-2.6.3.min.js\"></script>                <div id=\"dbab301d-ebcb-4107-803f-49d09b6f9f65\" class=\"plotly-graph-div\" style=\"height:525px; width:100%;\"></div>            <script type=\"text/javascript\">                                    window.PLOTLYENV=window.PLOTLYENV || {};                                    if (document.getElementById(\"dbab301d-ebcb-4107-803f-49d09b6f9f65\")) {                    Plotly.newPlot(                        \"dbab301d-ebcb-4107-803f-49d09b6f9f65\",                        [{\"marker\":{\"color\":\"#3f3f3f\",\"size\":5},\"mode\":\"lines+markers\",\"name\":\"Residuals | ARIMA\",\"showlegend\":true,\"x\":[0,1,2,3,4,5,6,7,8,9,10,11,12,13,14,15,16,17,18,19,20,21,22,23,24,25,26,27,28,29,30,31,32,33,34,35,36,37,38,39,40,41,42,43,44,45,46,47,48,49,50,51,52,53,54,55,56,57,58,59,60,61,62,63,64,65,66,67,68,69,70,71,72,73,74,75,76,77,78,79,80,81,82,83,84,85,86,87,88,89,90,91,92,93,94,95,96,97,98,99,100,101,102,103,104,105,106,107,108,109,110,111,112,113,114,115,116,117,118,119,120,121,122,123,124,125,126,127,128,129,130,131,132,133,134,135,136,137,138,139,140,141,142,143,144,145,146,147,148,149,150,151,152,153,154,155,156,157,158,159,160,161,162,163,164,165,166,167,168,169,170,171,172,173,174,175,176,177,178,179,180,181,182,183,184,185,186,187,188,189,190,191,192,193,194,195,196,197,198,199,200,201,202,203,204,205,206,207,208,209,210,211,212,213,214,215,216,217,218,219,220,221,222,223,224,225,226,227,228,229,230,231,232,233,234,235,236,237,238,239,240,241,242,243,244,245,246,247,248,249,250,251,252,253,254,255,256,257,258,259,260,261,262,263,264,265,266,267,268,269,270,271,272,273,274,275,276,277,278,279,280,281,282,283,284,285,286,287,288,289,290,291,292,293,294,295,296,297,298,299,300,301,302,303,304,305,306,307,308,309],\"y\":[-0.6384733071230926,0.02400924324490461,-0.929028278451085,0.13992214250490065,-0.6726912738180602,1.7491806394739342,0.6986008461179267,0.8920675995959186,0.36607872792691865,1.6640694506199054,-0.653843083848102,-0.47975136026005316,1.4141756086428927,-0.6688029832091047,-0.22548737350106762,-0.4109145593410801,-0.3380994984470931,-0.29721993287606097,0.47608170136891204,-0.19543711216908832,-0.5240640920130772,1.3249321952708897,-0.23268603844607583,-0.19766315994206707,-0.11829737111307281,0.6945596771519433,-0.09167103402509724,-0.055740801366084725,-0.6997671086550667,-0.3423769021451051,0.0420538105359185,-0.6070011161590685,0.5133895627339484,-1.5365007116860738,0.2884512308908995,-1.554556453437101,-0.3190827567360941,-0.5463865343440659,-0.6702014105800913,-0.07500340774606684,-1.9324660555790842,1.1584766821199253,-1.6830790661110768,-0.48163703137109337,-1.1340267349420685,-0.7689256310920882,2.0690599157289284,-0.0007110102060892132,-1.304407160333085,-1.658712164318075,0.43208047137392214,-0.03666646261407891,-0.3361750044430778,-0.9474687773530661,-1.5055669400400689,-1.0932989265150752,0.9819221738149224,-0.6393733246960664,-1.4025334772840665,1.8511839925249376,0.4069937474729386,-0.2567537308120791,1.040376418809899,0.8683160214759198,-0.6373496781300787,2.187995834640901,-0.27313366004005957,-1.4426012801120862,-0.16250623185308655,0.18943170933289366,2.2898717691599018,0.08769573799489194,0.43889217552393234,-0.09525956525610013,-0.35210747226605577,-0.052832658210093086,0.7695329757309253,2.05713837875291,1.0092858088649166,1.1898017684879107,-1.2494300514570682,0.9657889401539137,0.20181817376192157,-1.4853566589910656,0.5029161127489203,-0.17686123461507464,1.4464806820708986,-0.7841886295040581,-0.44831838382805245,-0.9442161272760927,-0.195210591336064,0.3839051495869228,-0.7498548030190761,0.8122665380828948,-1.2261894162030842,-1.066091042707086,1.4230510769449154,-1.0339540952040522,0.39386808241891913,-0.3991826810080852,0.3912952097519167,1.6707666563049202,1.568481803542909,-0.3490144305820593,-2.303342165191083,2.479554959934916,0.6489595368659025,0.523220706064933,-0.031506153045086194,0.4920017930539018,-0.18248246166905346,0.4025880133559383,-0.41835337387709615,-1.3883145074460685,0.9697316375558955,1.5016383956009065,-0.3268471991250692,-1.2713963855070745,0.6241346757789188,-0.06281576679307932,-1.7513250367240687,-0.01597477021906002,-0.6484069638270853,-0.3590752097590837,-1.174678992535064,1.785035278017915,-0.34923866629006284,-1.6236200421520834,0.17908680883994066,0.24506901650590862,-1.0039333303080866,-2.9070273015790633,-0.6585883324640918,0.552401006020915,-0.07782990594208172,-0.11628537390410543,0.5427140987209214,-1.2045652684780634,1.0786704143748977,-0.02345065817709724,0.6892040374989108,1.016001104837926,0.2053737850159223,-0.8968142427650605,1.144857926067914,-2.0182715746840927,-0.5628973699010658,-0.2737773390560676,-0.18422766666407142,1.002357278884915,0.11811526320391863,0.38906097352492,-0.08776144291206833,-0.26577097151806583,0.6774441767209112,1.128121727316909,-2.4212028447910825,0.5546329253469366,0.356617776879915,-0.4433743514551054,0.9329061776779497,-0.4073438116170678,-0.3024372916990785,0.8393031481809032,1.7015206692219351,0.25194827103791795,-0.440290639687106,-1.2072199247590731,-0.3491396087781027,-0.9579359564091021,-0.2770392130180994,0.3762725383229224,-0.8699637219230851,2.631060251195919,0.1379050457659332,1.1121006375558977,-2.307230609739065,0.7228945272959209,-1.3343517903510929,0.9016970477099164,0.38002352555292873,-0.4256352091690587,1.3061520002779332,-0.7193382991461021,-0.5987209341400614,-1.0191788109241031,-0.6862852366520826,0.9270783234739213,0.4155955196459047,0.9870525877779244,-0.4082252939530804,0.35826366187592384,0.22605829458692028,-1.4443639722820762,1.7603226575759265,0.11634103103492066,0.7474923692589073,0.9370300470098982,-0.06867233134107664,-0.3239220496660664,0.8755670725269056,-1.0654047789601009,1.9532307563248992,-0.40173873618707034,1.6360386723759177,1.4941060640519197,0.06485910368692771,0.5491142849529069,-1.0426551094330705,0.30489987312293465,1.025505828456943,0.08097185699793386,-0.47224353905309613,-0.6738884823490707,-0.054029052522054144,1.0510548307779004,-0.5020815602001107,-0.13911674122610407,-1.312246633720065,0.4762062061159327,1.2897948902148926,1.4789343795039258,0.7965961009979026,-1.8878954201020974,0.4639228742249202,0.43802897340194136,-0.37150691572907135,0.15238284104890454,-0.8821425840260986,0.6611241441169113,-0.3452076445520902,-1.5871888150430777,-0.3855573860690811,1.3463282991708923,-0.3523879946300781,0.7146434123099255,0.9284790102989007,-0.013707925573100965,-0.37042893544906974,-0.547802139033081,0.7214825956759228,-1.0815640453820947,0.22810421363692512,-0.3076059964630815,-2.2829959863870783,-1.4269570859720773,0.8979126988939186,-0.20938558043408761,0.7851765862349112,1.8693678334099104,1.4557745512099416,0.6591618624139244,0.3618560566679321,-0.2109050563560686,1.5597851650049108,0.5781274794189244,-1.1916835707700955,-0.17374916478905789,-1.9370164501690965,-0.21336547601006828,-2.6104342998450534,1.295895537298918,-0.6536496309310564,-0.4480854685930922,-0.18742496220110638,0.5941115440899125,0.6602335473239407,0.5498453425729224,-0.5906492338251041,-1.3813978861770693,-0.40682887423707825,0.2598075025518938,-0.8411877514710682,-0.08694756437708406,-1.1857689560290794,-0.02641564411507602,0.11074877169789943,-0.16398225836007896,-0.18201758663508372,1.7454453728859107,0.7444798825189025,1.0933244508319433,-0.9413135827290944,0.14623520852893535,1.1367185571979235,-0.07462805442506237,-2.147467278134087,0.32673913219991846,-1.9230620754850918,-0.829276783039063,1.3058976914009293,0.59753021940395,1.073562325635919,0.2884982316149376,-0.12826539238207602,-0.9424194030260651,1.5748071238199088,0.026903968222910635,-0.733235030567073,0.8471164698179052,1.056334328378938,1.877548144299908,-0.621103933504088,-0.4089744506220825,-0.43432866142907756,-0.3937640527190638,-0.38473757560109334,-0.31378408260007973,1.4237137803009148,-0.7156449218120713],\"type\":\"scatter\"}],                        {\"title\":{\"text\":\"Residuals\"},\"xaxis\":{\"title\":{\"text\":\"Time\"}},\"yaxis\":{\"title\":{\"text\":\"Values\"}},\"template\":{\"data\":{\"barpolar\":[{\"marker\":{\"line\":{\"color\":\"rgb(237,237,237)\",\"width\":0.5},\"pattern\":{\"fillmode\":\"overlay\",\"size\":10,\"solidity\":0.2}},\"type\":\"barpolar\"}],\"bar\":[{\"error_x\":{\"color\":\"rgb(51,51,51)\"},\"error_y\":{\"color\":\"rgb(51,51,51)\"},\"marker\":{\"line\":{\"color\":\"rgb(237,237,237)\",\"width\":0.5},\"pattern\":{\"fillmode\":\"overlay\",\"size\":10,\"solidity\":0.2}},\"type\":\"bar\"}],\"carpet\":[{\"aaxis\":{\"endlinecolor\":\"rgb(51,51,51)\",\"gridcolor\":\"white\",\"linecolor\":\"white\",\"minorgridcolor\":\"white\",\"startlinecolor\":\"rgb(51,51,51)\"},\"baxis\":{\"endlinecolor\":\"rgb(51,51,51)\",\"gridcolor\":\"white\",\"linecolor\":\"white\",\"minorgridcolor\":\"white\",\"startlinecolor\":\"rgb(51,51,51)\"},\"type\":\"carpet\"}],\"choropleth\":[{\"colorbar\":{\"outlinewidth\":0,\"tickcolor\":\"rgb(237,237,237)\",\"ticklen\":6,\"ticks\":\"inside\"},\"type\":\"choropleth\"}],\"contourcarpet\":[{\"colorbar\":{\"outlinewidth\":0,\"tickcolor\":\"rgb(237,237,237)\",\"ticklen\":6,\"ticks\":\"inside\"},\"type\":\"contourcarpet\"}],\"contour\":[{\"colorbar\":{\"outlinewidth\":0,\"tickcolor\":\"rgb(237,237,237)\",\"ticklen\":6,\"ticks\":\"inside\"},\"colorscale\":[[0,\"rgb(20,44,66)\"],[1,\"rgb(90,179,244)\"]],\"type\":\"contour\"}],\"heatmapgl\":[{\"colorbar\":{\"outlinewidth\":0,\"tickcolor\":\"rgb(237,237,237)\",\"ticklen\":6,\"ticks\":\"inside\"},\"colorscale\":[[0,\"rgb(20,44,66)\"],[1,\"rgb(90,179,244)\"]],\"type\":\"heatmapgl\"}],\"heatmap\":[{\"colorbar\":{\"outlinewidth\":0,\"tickcolor\":\"rgb(237,237,237)\",\"ticklen\":6,\"ticks\":\"inside\"},\"colorscale\":[[0,\"rgb(20,44,66)\"],[1,\"rgb(90,179,244)\"]],\"type\":\"heatmap\"}],\"histogram2dcontour\":[{\"colorbar\":{\"outlinewidth\":0,\"tickcolor\":\"rgb(237,237,237)\",\"ticklen\":6,\"ticks\":\"inside\"},\"colorscale\":[[0,\"rgb(20,44,66)\"],[1,\"rgb(90,179,244)\"]],\"type\":\"histogram2dcontour\"}],\"histogram2d\":[{\"colorbar\":{\"outlinewidth\":0,\"tickcolor\":\"rgb(237,237,237)\",\"ticklen\":6,\"ticks\":\"inside\"},\"colorscale\":[[0,\"rgb(20,44,66)\"],[1,\"rgb(90,179,244)\"]],\"type\":\"histogram2d\"}],\"histogram\":[{\"marker\":{\"pattern\":{\"fillmode\":\"overlay\",\"size\":10,\"solidity\":0.2}},\"type\":\"histogram\"}],\"mesh3d\":[{\"colorbar\":{\"outlinewidth\":0,\"tickcolor\":\"rgb(237,237,237)\",\"ticklen\":6,\"ticks\":\"inside\"},\"type\":\"mesh3d\"}],\"parcoords\":[{\"line\":{\"colorbar\":{\"outlinewidth\":0,\"tickcolor\":\"rgb(237,237,237)\",\"ticklen\":6,\"ticks\":\"inside\"}},\"type\":\"parcoords\"}],\"pie\":[{\"automargin\":true,\"type\":\"pie\"}],\"scatter3d\":[{\"line\":{\"colorbar\":{\"outlinewidth\":0,\"tickcolor\":\"rgb(237,237,237)\",\"ticklen\":6,\"ticks\":\"inside\"}},\"marker\":{\"colorbar\":{\"outlinewidth\":0,\"tickcolor\":\"rgb(237,237,237)\",\"ticklen\":6,\"ticks\":\"inside\"}},\"type\":\"scatter3d\"}],\"scattercarpet\":[{\"marker\":{\"colorbar\":{\"outlinewidth\":0,\"tickcolor\":\"rgb(237,237,237)\",\"ticklen\":6,\"ticks\":\"inside\"}},\"type\":\"scattercarpet\"}],\"scattergeo\":[{\"marker\":{\"colorbar\":{\"outlinewidth\":0,\"tickcolor\":\"rgb(237,237,237)\",\"ticklen\":6,\"ticks\":\"inside\"}},\"type\":\"scattergeo\"}],\"scattergl\":[{\"marker\":{\"colorbar\":{\"outlinewidth\":0,\"tickcolor\":\"rgb(237,237,237)\",\"ticklen\":6,\"ticks\":\"inside\"}},\"type\":\"scattergl\"}],\"scattermapbox\":[{\"marker\":{\"colorbar\":{\"outlinewidth\":0,\"tickcolor\":\"rgb(237,237,237)\",\"ticklen\":6,\"ticks\":\"inside\"}},\"type\":\"scattermapbox\"}],\"scatterpolargl\":[{\"marker\":{\"colorbar\":{\"outlinewidth\":0,\"tickcolor\":\"rgb(237,237,237)\",\"ticklen\":6,\"ticks\":\"inside\"}},\"type\":\"scatterpolargl\"}],\"scatterpolar\":[{\"marker\":{\"colorbar\":{\"outlinewidth\":0,\"tickcolor\":\"rgb(237,237,237)\",\"ticklen\":6,\"ticks\":\"inside\"}},\"type\":\"scatterpolar\"}],\"scatter\":[{\"marker\":{\"colorbar\":{\"outlinewidth\":0,\"tickcolor\":\"rgb(237,237,237)\",\"ticklen\":6,\"ticks\":\"inside\"}},\"type\":\"scatter\"}],\"scatterternary\":[{\"marker\":{\"colorbar\":{\"outlinewidth\":0,\"tickcolor\":\"rgb(237,237,237)\",\"ticklen\":6,\"ticks\":\"inside\"}},\"type\":\"scatterternary\"}],\"surface\":[{\"colorbar\":{\"outlinewidth\":0,\"tickcolor\":\"rgb(237,237,237)\",\"ticklen\":6,\"ticks\":\"inside\"},\"colorscale\":[[0,\"rgb(20,44,66)\"],[1,\"rgb(90,179,244)\"]],\"type\":\"surface\"}],\"table\":[{\"cells\":{\"fill\":{\"color\":\"rgb(237,237,237)\"},\"line\":{\"color\":\"white\"}},\"header\":{\"fill\":{\"color\":\"rgb(217,217,217)\"},\"line\":{\"color\":\"white\"}},\"type\":\"table\"}]},\"layout\":{\"annotationdefaults\":{\"arrowhead\":0,\"arrowwidth\":1},\"autotypenumbers\":\"strict\",\"coloraxis\":{\"colorbar\":{\"outlinewidth\":0,\"tickcolor\":\"rgb(237,237,237)\",\"ticklen\":6,\"ticks\":\"inside\"}},\"colorscale\":{\"sequential\":[[0,\"rgb(20,44,66)\"],[1,\"rgb(90,179,244)\"]],\"sequentialminus\":[[0,\"rgb(20,44,66)\"],[1,\"rgb(90,179,244)\"]]},\"colorway\":[\"#F8766D\",\"#A3A500\",\"#00BF7D\",\"#00B0F6\",\"#E76BF3\"],\"font\":{\"color\":\"rgb(51,51,51)\"},\"geo\":{\"bgcolor\":\"white\",\"lakecolor\":\"white\",\"landcolor\":\"rgb(237,237,237)\",\"showlakes\":true,\"showland\":true,\"subunitcolor\":\"white\"},\"hoverlabel\":{\"align\":\"left\"},\"hovermode\":\"closest\",\"paper_bgcolor\":\"white\",\"plot_bgcolor\":\"rgb(237,237,237)\",\"polar\":{\"angularaxis\":{\"gridcolor\":\"white\",\"linecolor\":\"white\",\"showgrid\":true,\"tickcolor\":\"rgb(51,51,51)\",\"ticks\":\"outside\"},\"bgcolor\":\"rgb(237,237,237)\",\"radialaxis\":{\"gridcolor\":\"white\",\"linecolor\":\"white\",\"showgrid\":true,\"tickcolor\":\"rgb(51,51,51)\",\"ticks\":\"outside\"}},\"scene\":{\"xaxis\":{\"backgroundcolor\":\"rgb(237,237,237)\",\"gridcolor\":\"white\",\"gridwidth\":2,\"linecolor\":\"white\",\"showbackground\":true,\"showgrid\":true,\"tickcolor\":\"rgb(51,51,51)\",\"ticks\":\"outside\",\"zerolinecolor\":\"white\"},\"yaxis\":{\"backgroundcolor\":\"rgb(237,237,237)\",\"gridcolor\":\"white\",\"gridwidth\":2,\"linecolor\":\"white\",\"showbackground\":true,\"showgrid\":true,\"tickcolor\":\"rgb(51,51,51)\",\"ticks\":\"outside\",\"zerolinecolor\":\"white\"},\"zaxis\":{\"backgroundcolor\":\"rgb(237,237,237)\",\"gridcolor\":\"white\",\"gridwidth\":2,\"linecolor\":\"white\",\"showbackground\":true,\"showgrid\":true,\"tickcolor\":\"rgb(51,51,51)\",\"ticks\":\"outside\",\"zerolinecolor\":\"white\"}},\"shapedefaults\":{\"fillcolor\":\"black\",\"line\":{\"width\":0},\"opacity\":0.3},\"ternary\":{\"aaxis\":{\"gridcolor\":\"white\",\"linecolor\":\"white\",\"showgrid\":true,\"tickcolor\":\"rgb(51,51,51)\",\"ticks\":\"outside\"},\"baxis\":{\"gridcolor\":\"white\",\"linecolor\":\"white\",\"showgrid\":true,\"tickcolor\":\"rgb(51,51,51)\",\"ticks\":\"outside\"},\"bgcolor\":\"rgb(237,237,237)\",\"caxis\":{\"gridcolor\":\"white\",\"linecolor\":\"white\",\"showgrid\":true,\"tickcolor\":\"rgb(51,51,51)\",\"ticks\":\"outside\"}},\"xaxis\":{\"automargin\":true,\"gridcolor\":\"white\",\"linecolor\":\"white\",\"showgrid\":true,\"tickcolor\":\"rgb(51,51,51)\",\"ticks\":\"outside\",\"title\":{\"standoff\":15},\"zerolinecolor\":\"white\"},\"yaxis\":{\"automargin\":true,\"gridcolor\":\"white\",\"linecolor\":\"white\",\"showgrid\":true,\"tickcolor\":\"rgb(51,51,51)\",\"ticks\":\"outside\",\"title\":{\"standoff\":15},\"zerolinecolor\":\"white\"}}},\"showlegend\":true},                        {\"responsive\": true}                    ).then(function(){\n",
              "                            \n",
              "var gd = document.getElementById('dbab301d-ebcb-4107-803f-49d09b6f9f65');\n",
              "var x = new MutationObserver(function (mutations, observer) {{\n",
              "        var display = window.getComputedStyle(gd).display;\n",
              "        if (!display || display === 'none') {{\n",
              "            console.log([gd, 'removed!']);\n",
              "            Plotly.purge(gd);\n",
              "            observer.disconnect();\n",
              "        }}\n",
              "}});\n",
              "\n",
              "// Listen for the removal of the full notebook cells\n",
              "var notebookContainer = gd.closest('#notebook-container');\n",
              "if (notebookContainer) {{\n",
              "    x.observe(notebookContainer, {childList: true});\n",
              "}}\n",
              "\n",
              "// Listen for the clearing of the current output cell\n",
              "var outputEl = gd.closest('.output');\n",
              "if (outputEl) {{\n",
              "    x.observe(outputEl, {childList: true});\n",
              "}}\n",
              "\n",
              "                        })                };                            </script>        </div>\n",
              "</body>\n",
              "</html>"
            ]
          },
          "metadata": {}
        },
        {
          "output_type": "stream",
          "name": "stdout",
          "text": [
            "Residual Sigma 2: 0.9769567915901366\n"
          ]
        }
      ]
    },
    {
      "cell_type": "code",
      "metadata": {
        "colab": {
          "base_uri": "https://localhost:8080/",
          "height": 1000
        },
        "id": "Ce9h26caWHrh",
        "outputId": "2c3a1669-a2ae-40ef-c9e2-3a87be9025dc"
      },
      "source": [
        "plot_predictions(model2a)"
      ],
      "execution_count": 19,
      "outputs": [
        {
          "output_type": "display_data",
          "data": {
            "text/html": [
              "<html>\n",
              "<head><meta charset=\"utf-8\" /></head>\n",
              "<body>\n",
              "    <div>            <script src=\"https://cdnjs.cloudflare.com/ajax/libs/mathjax/2.7.5/MathJax.js?config=TeX-AMS-MML_SVG\"></script><script type=\"text/javascript\">if (window.MathJax) {MathJax.Hub.Config({SVG: {font: \"STIX-Web\"}});}</script>                <script type=\"text/javascript\">window.PlotlyConfig = {MathJaxConfig: 'local'};</script>\n",
              "        <script src=\"https://cdn.plot.ly/plotly-2.6.3.min.js\"></script>                <div id=\"3e270b2f-5254-4dc0-aa05-7af4c6c0c60c\" class=\"plotly-graph-div\" style=\"height:525px; width:100%;\"></div>            <script type=\"text/javascript\">                                    window.PLOTLYENV=window.PLOTLYENV || {};                                    if (document.getElementById(\"3e270b2f-5254-4dc0-aa05-7af4c6c0c60c\")) {                    Plotly.newPlot(                        \"3e270b2f-5254-4dc0-aa05-7af4c6c0c60c\",                        [{\"line\":{\"color\":\"#1f77b4\"},\"marker\":{\"size\":5},\"mode\":\"lines+markers\",\"name\":\"Forecast | ARIMA\",\"showlegend\":true,\"x\":[310,311,312,313,314,315,316,317,318,319,320,321,322,323,324,325,326,327,328,329,330,331,332,333,334,335,336,337,338,339],\"y\":[176.0181,176.0181,176.0181,176.0181,176.0181,176.0181,176.0181,176.0181,176.0181,176.0181,176.0181,176.0181,176.0181,176.0181,176.0181,176.0181,176.0181,176.0181,176.0181,176.0181,176.0181,176.0181,176.0181,176.0181,176.0181,176.0181,176.0181,176.0181,176.0181,176.0181],\"type\":\"scatter\"},{\"line\":{\"width\":0},\"marker\":{\"color\":\"#68BBE3\"},\"mode\":\"lines\",\"name\":\"Lower Interval\",\"showlegend\":false,\"x\":[310,311,312,313,314,315,316,317,318,319,320,321,322,323,324,325,326,327,328,329,330,331,332,333,334,335,336,337,338,339],\"y\":[174.0809,174.0809,174.0809,174.0809,174.0809,174.0809,174.0809,174.0809,174.0809,174.0809,174.0809,174.0809,174.0809,174.0809,174.0809,174.0809,174.0809,174.0809,174.0809,174.0809,174.0809,174.0809,174.0809,174.0809,174.0809,174.0809,174.0809,174.0809,174.0809,174.0809],\"type\":\"scatter\"},{\"fill\":\"tonexty\",\"fillcolor\":\"rgba(104,187,227,0.5)\",\"line\":{\"width\":0},\"marker\":{\"color\":\"#68BBE3\"},\"mode\":\"lines\",\"name\":\"Prediction Interval | ARIMA\",\"showlegend\":true,\"x\":[310,311,312,313,314,315,316,317,318,319,320,321,322,323,324,325,326,327,328,329,330,331,332,333,334,335,336,337,338,339],\"y\":[177.9554,177.9554,177.9554,177.9554,177.9554,177.9554,177.9554,177.9554,177.9554,177.9554,177.9554,177.9554,177.9554,177.9554,177.9554,177.9554,177.9554,177.9554,177.9554,177.9554,177.9554,177.9554,177.9554,177.9554,177.9554,177.9554,177.9554,177.9554,177.9554,177.9554],\"type\":\"scatter\"},{\"marker\":{\"color\":\"#3f3f3f\",\"size\":5},\"mode\":\"lines+markers\",\"name\":\"Original\",\"showlegend\":true,\"x\":[0,1,2,3,4,5,6,7,8,9,10,11,12,13,14,15,16,17,18,19,20,21,22,23,24,25,26,27,28,29,30,31,32,33,34,35,36,37,38,39,40,41,42,43,44,45,46,47,48,49,50,51,52,53,54,55,56,57,58,59,60,61,62,63,64,65,66,67,68,69,70,71,72,73,74,75,76,77,78,79,80,81,82,83,84,85,86,87,88,89,90,91,92,93,94,95,96,97,98,99,100,101,102,103,104,105,106,107,108,109,110,111,112,113,114,115,116,117,118,119,120,121,122,123,124,125,126,127,128,129,130,131,132,133,134,135,136,137,138,139,140,141,142,143,144,145,146,147,148,149,150,151,152,153,154,155,156,157,158,159,160,161,162,163,164,165,166,167,168,169,170,171,172,173,174,175,176,177,178,179,180,181,182,183,184,185,186,187,188,189,190,191,192,193,194,195,196,197,198,199,200,201,202,203,204,205,206,207,208,209,210,211,212,213,214,215,216,217,218,219,220,221,222,223,224,225,226,227,228,229,230,231,232,233,234,235,236,237,238,239,240,241,242,243,244,245,246,247,248,249,250,251,252,253,254,255,256,257,258,259,260,261,262,263,264,265,266,267,268,269,270,271,272,273,274,275,276,277,278,279,280,281,282,283,284,285,286,287,288,289,290,291,292,293,294,295,296,297,298,299,300,301,302,303,304,305,306,307,308,309,310,311,312,313,314,315,316,317,318,319,320,321,322,323,324,325,326,327,328,329,330,331,332,333,334,335,336,337,338,339],\"y\":[175.379633322776,176.04211587314398,175.089078351448,176.15802877240398,175.34541535608102,177.767287269373,176.716707476017,176.910174229495,176.384185357826,177.68217608051899,175.36426354605098,175.53835526963903,177.43228223854197,175.34930364668998,175.792619256398,175.607192070558,175.680007131452,175.72088669702302,176.494188331268,175.82266951773,175.494042537886,177.34303882516997,175.785420591453,175.820443469957,175.899809258786,176.71266630705102,175.92643559587398,175.962365828533,175.318339521244,175.67572972775397,176.060160440435,175.41110551374,176.53149619263303,174.481605918213,176.30655786078998,174.46355017646198,175.699023873163,175.471720095555,175.347905219319,175.943103222153,174.08564057432,177.176583312019,174.335027563788,175.536469598528,174.884079894957,175.249180998807,178.087166545628,176.017395619693,174.713699469566,174.359394465581,176.450187101273,175.981440167285,175.681931625456,175.070637852546,174.512539689859,174.924807703384,177.000028803714,175.378733305203,174.615573152615,177.86929062242402,176.42510037737202,175.761352899087,177.05848304870898,176.886422651375,175.380756951769,178.20610246453998,175.74497296985902,174.575505349787,175.855600398046,176.20753833923197,178.30797839905898,176.10580236789397,176.456998805423,175.92284706464298,175.66599915763302,175.965273971689,176.78763960563,178.075245008652,177.027392438764,177.207908398387,174.768676578442,176.983895570053,176.219924803661,174.53274997090801,176.521022742648,175.841245395284,177.46458731196998,175.23391800039502,175.56978824607103,175.073890502623,175.82289603856302,176.402011779486,175.26825182688,176.83037316798197,174.791917213696,174.952015587192,177.441157706844,174.98415253469503,176.411974712318,175.618923948891,176.409401839651,177.688873286204,177.586588433442,175.66909219931702,173.714764464708,178.497661589834,176.66706616676498,176.541327335964,175.986600476854,176.51010842295298,175.83562416823003,176.42069464325502,175.59975325602198,174.629792122453,176.98783826745498,177.5197450255,175.691259430774,174.746710244392,176.642241305678,175.955290863106,174.266781593175,176.00213185968002,175.369699666072,175.65903142014,174.84342763736402,177.803141907917,175.66886796360902,174.394486587747,176.19719343873902,176.263175646405,175.014173299591,173.11107932832002,175.359518297435,176.57050763592,175.940276723957,175.90182125599497,176.56082072862,174.81354136142102,177.09677704427398,175.99465597172198,176.707310667398,177.034107734737,176.223480414915,175.12129238713402,177.162964555967,173.999835055215,175.455209259998,175.744329290843,175.833878963235,177.020463908784,176.136221893103,176.407167603424,175.930345186987,175.752335658381,176.69555080662,177.146228357216,173.596903785108,176.57273955524602,176.374724406779,175.57473227844397,176.95101280757703,175.610762818282,175.7156693382,176.85740977807998,177.71962729912102,176.270054900937,175.57781599021197,174.81088670514,175.66896702112098,175.06017067348998,175.74106741688098,176.394379168222,175.148142907976,178.649166881095,176.156011675665,177.13020726745498,173.71087602016001,176.741001157195,174.683754839548,176.919803677609,176.398130155452,175.59247142073002,177.324258630177,175.29876833075298,175.41938569575902,174.99892781897498,175.331821393247,176.945184953373,176.43370214954498,177.005159217677,175.609881335946,176.376370291775,176.244164924486,174.573742657617,177.778429287475,176.134447660934,176.765598999158,176.95513667690898,175.949434298558,175.694184580233,176.89367370242599,174.95270185093898,177.97133738622398,175.616367893712,177.654145302275,177.512212693951,176.082965733586,176.567220914852,174.975451520466,176.32300650302201,177.04361245835602,176.099078486897,175.54586309084598,175.34421814755,175.96407757737703,177.06916146067698,175.51602506969897,175.87898988867298,174.70585999617902,176.494312836015,177.30790152011397,177.497041009403,176.81470273089698,174.13021120979698,176.482029504124,176.45613560330102,175.64659971417,176.17048947094798,175.13596404587298,176.679230774016,175.672898985347,174.430917814856,175.63254924383,177.36443492906997,175.665718635269,176.732750042209,176.94658564019798,176.00439870432598,175.64767769445,175.470304490866,176.739589225575,174.93654258451699,176.246210843536,175.710500633436,173.735110643512,174.591149543927,176.916019328793,175.808721049465,176.803283216134,177.887474463309,177.47388118110902,176.677268492313,176.379962686567,175.807201573543,177.577891794904,176.596234109318,174.82642305912898,175.84435746511002,174.08109017972998,175.804741153889,173.40767233005403,177.314002167198,175.36445699896802,175.570021161306,175.83068166769797,176.612218173989,176.67834017722302,176.567951972472,175.42745739607398,174.636708743722,175.611277755662,176.27791413245097,175.176918878428,175.931159065522,174.83233767387,175.991690985784,176.12885540159698,175.854124371539,175.836089043264,177.763552002785,176.76258651241798,177.11143108073102,175.07679304716999,176.16434183842802,177.154825187097,175.94347857547402,173.870639351765,176.344845762099,174.095044554414,175.18882984686002,177.3240043213,176.61563684930303,177.091668955535,176.30660486151402,175.889841237517,175.07568722687301,177.592913753719,176.045010598122,175.284871599332,176.86522309971699,177.07444095827802,177.895654774199,175.397002696395,175.609132179277,175.58377796847,175.62434257718002,175.633369054298,175.704322547299,177.4418204102,175.302461708087,175.611832494079,176.652536452172,177.124772446535,175.227889196976,175.491913783862,176.523620590498,177.01775422653802,175.748835411912,174.570006552611,177.709121032101,177.43506957231202,175.28962885415,175.934932426344,174.24053126463403,176.569722971819,177.61234679820203,174.362719352895,175.220431486798,175.35882306624902,175.318868606429,173.96671440438203,176.50096355924802,174.468201860034,175.97500236072202,176.592984721025,175.801804578515,176.892008392474,175.974284929082,175.35233954941398,176.64635941503502],\"type\":\"scatter\"}],                        {\"title\":{\"text\":\"Actual vs. 'Out-of-Sample' Forecast | x\"},\"xaxis\":{\"title\":{\"text\":\"Time\"}},\"yaxis\":{\"title\":{\"text\":\"Values\"}},\"template\":{\"data\":{\"barpolar\":[{\"marker\":{\"line\":{\"color\":\"rgb(237,237,237)\",\"width\":0.5},\"pattern\":{\"fillmode\":\"overlay\",\"size\":10,\"solidity\":0.2}},\"type\":\"barpolar\"}],\"bar\":[{\"error_x\":{\"color\":\"rgb(51,51,51)\"},\"error_y\":{\"color\":\"rgb(51,51,51)\"},\"marker\":{\"line\":{\"color\":\"rgb(237,237,237)\",\"width\":0.5},\"pattern\":{\"fillmode\":\"overlay\",\"size\":10,\"solidity\":0.2}},\"type\":\"bar\"}],\"carpet\":[{\"aaxis\":{\"endlinecolor\":\"rgb(51,51,51)\",\"gridcolor\":\"white\",\"linecolor\":\"white\",\"minorgridcolor\":\"white\",\"startlinecolor\":\"rgb(51,51,51)\"},\"baxis\":{\"endlinecolor\":\"rgb(51,51,51)\",\"gridcolor\":\"white\",\"linecolor\":\"white\",\"minorgridcolor\":\"white\",\"startlinecolor\":\"rgb(51,51,51)\"},\"type\":\"carpet\"}],\"choropleth\":[{\"colorbar\":{\"outlinewidth\":0,\"tickcolor\":\"rgb(237,237,237)\",\"ticklen\":6,\"ticks\":\"inside\"},\"type\":\"choropleth\"}],\"contourcarpet\":[{\"colorbar\":{\"outlinewidth\":0,\"tickcolor\":\"rgb(237,237,237)\",\"ticklen\":6,\"ticks\":\"inside\"},\"type\":\"contourcarpet\"}],\"contour\":[{\"colorbar\":{\"outlinewidth\":0,\"tickcolor\":\"rgb(237,237,237)\",\"ticklen\":6,\"ticks\":\"inside\"},\"colorscale\":[[0,\"rgb(20,44,66)\"],[1,\"rgb(90,179,244)\"]],\"type\":\"contour\"}],\"heatmapgl\":[{\"colorbar\":{\"outlinewidth\":0,\"tickcolor\":\"rgb(237,237,237)\",\"ticklen\":6,\"ticks\":\"inside\"},\"colorscale\":[[0,\"rgb(20,44,66)\"],[1,\"rgb(90,179,244)\"]],\"type\":\"heatmapgl\"}],\"heatmap\":[{\"colorbar\":{\"outlinewidth\":0,\"tickcolor\":\"rgb(237,237,237)\",\"ticklen\":6,\"ticks\":\"inside\"},\"colorscale\":[[0,\"rgb(20,44,66)\"],[1,\"rgb(90,179,244)\"]],\"type\":\"heatmap\"}],\"histogram2dcontour\":[{\"colorbar\":{\"outlinewidth\":0,\"tickcolor\":\"rgb(237,237,237)\",\"ticklen\":6,\"ticks\":\"inside\"},\"colorscale\":[[0,\"rgb(20,44,66)\"],[1,\"rgb(90,179,244)\"]],\"type\":\"histogram2dcontour\"}],\"histogram2d\":[{\"colorbar\":{\"outlinewidth\":0,\"tickcolor\":\"rgb(237,237,237)\",\"ticklen\":6,\"ticks\":\"inside\"},\"colorscale\":[[0,\"rgb(20,44,66)\"],[1,\"rgb(90,179,244)\"]],\"type\":\"histogram2d\"}],\"histogram\":[{\"marker\":{\"pattern\":{\"fillmode\":\"overlay\",\"size\":10,\"solidity\":0.2}},\"type\":\"histogram\"}],\"mesh3d\":[{\"colorbar\":{\"outlinewidth\":0,\"tickcolor\":\"rgb(237,237,237)\",\"ticklen\":6,\"ticks\":\"inside\"},\"type\":\"mesh3d\"}],\"parcoords\":[{\"line\":{\"colorbar\":{\"outlinewidth\":0,\"tickcolor\":\"rgb(237,237,237)\",\"ticklen\":6,\"ticks\":\"inside\"}},\"type\":\"parcoords\"}],\"pie\":[{\"automargin\":true,\"type\":\"pie\"}],\"scatter3d\":[{\"line\":{\"colorbar\":{\"outlinewidth\":0,\"tickcolor\":\"rgb(237,237,237)\",\"ticklen\":6,\"ticks\":\"inside\"}},\"marker\":{\"colorbar\":{\"outlinewidth\":0,\"tickcolor\":\"rgb(237,237,237)\",\"ticklen\":6,\"ticks\":\"inside\"}},\"type\":\"scatter3d\"}],\"scattercarpet\":[{\"marker\":{\"colorbar\":{\"outlinewidth\":0,\"tickcolor\":\"rgb(237,237,237)\",\"ticklen\":6,\"ticks\":\"inside\"}},\"type\":\"scattercarpet\"}],\"scattergeo\":[{\"marker\":{\"colorbar\":{\"outlinewidth\":0,\"tickcolor\":\"rgb(237,237,237)\",\"ticklen\":6,\"ticks\":\"inside\"}},\"type\":\"scattergeo\"}],\"scattergl\":[{\"marker\":{\"colorbar\":{\"outlinewidth\":0,\"tickcolor\":\"rgb(237,237,237)\",\"ticklen\":6,\"ticks\":\"inside\"}},\"type\":\"scattergl\"}],\"scattermapbox\":[{\"marker\":{\"colorbar\":{\"outlinewidth\":0,\"tickcolor\":\"rgb(237,237,237)\",\"ticklen\":6,\"ticks\":\"inside\"}},\"type\":\"scattermapbox\"}],\"scatterpolargl\":[{\"marker\":{\"colorbar\":{\"outlinewidth\":0,\"tickcolor\":\"rgb(237,237,237)\",\"ticklen\":6,\"ticks\":\"inside\"}},\"type\":\"scatterpolargl\"}],\"scatterpolar\":[{\"marker\":{\"colorbar\":{\"outlinewidth\":0,\"tickcolor\":\"rgb(237,237,237)\",\"ticklen\":6,\"ticks\":\"inside\"}},\"type\":\"scatterpolar\"}],\"scatter\":[{\"marker\":{\"colorbar\":{\"outlinewidth\":0,\"tickcolor\":\"rgb(237,237,237)\",\"ticklen\":6,\"ticks\":\"inside\"}},\"type\":\"scatter\"}],\"scatterternary\":[{\"marker\":{\"colorbar\":{\"outlinewidth\":0,\"tickcolor\":\"rgb(237,237,237)\",\"ticklen\":6,\"ticks\":\"inside\"}},\"type\":\"scatterternary\"}],\"surface\":[{\"colorbar\":{\"outlinewidth\":0,\"tickcolor\":\"rgb(237,237,237)\",\"ticklen\":6,\"ticks\":\"inside\"},\"colorscale\":[[0,\"rgb(20,44,66)\"],[1,\"rgb(90,179,244)\"]],\"type\":\"surface\"}],\"table\":[{\"cells\":{\"fill\":{\"color\":\"rgb(237,237,237)\"},\"line\":{\"color\":\"white\"}},\"header\":{\"fill\":{\"color\":\"rgb(217,217,217)\"},\"line\":{\"color\":\"white\"}},\"type\":\"table\"}]},\"layout\":{\"annotationdefaults\":{\"arrowhead\":0,\"arrowwidth\":1},\"autotypenumbers\":\"strict\",\"coloraxis\":{\"colorbar\":{\"outlinewidth\":0,\"tickcolor\":\"rgb(237,237,237)\",\"ticklen\":6,\"ticks\":\"inside\"}},\"colorscale\":{\"sequential\":[[0,\"rgb(20,44,66)\"],[1,\"rgb(90,179,244)\"]],\"sequentialminus\":[[0,\"rgb(20,44,66)\"],[1,\"rgb(90,179,244)\"]]},\"colorway\":[\"#F8766D\",\"#A3A500\",\"#00BF7D\",\"#00B0F6\",\"#E76BF3\"],\"font\":{\"color\":\"rgb(51,51,51)\"},\"geo\":{\"bgcolor\":\"white\",\"lakecolor\":\"white\",\"landcolor\":\"rgb(237,237,237)\",\"showlakes\":true,\"showland\":true,\"subunitcolor\":\"white\"},\"hoverlabel\":{\"align\":\"left\"},\"hovermode\":\"closest\",\"paper_bgcolor\":\"white\",\"plot_bgcolor\":\"rgb(237,237,237)\",\"polar\":{\"angularaxis\":{\"gridcolor\":\"white\",\"linecolor\":\"white\",\"showgrid\":true,\"tickcolor\":\"rgb(51,51,51)\",\"ticks\":\"outside\"},\"bgcolor\":\"rgb(237,237,237)\",\"radialaxis\":{\"gridcolor\":\"white\",\"linecolor\":\"white\",\"showgrid\":true,\"tickcolor\":\"rgb(51,51,51)\",\"ticks\":\"outside\"}},\"scene\":{\"xaxis\":{\"backgroundcolor\":\"rgb(237,237,237)\",\"gridcolor\":\"white\",\"gridwidth\":2,\"linecolor\":\"white\",\"showbackground\":true,\"showgrid\":true,\"tickcolor\":\"rgb(51,51,51)\",\"ticks\":\"outside\",\"zerolinecolor\":\"white\"},\"yaxis\":{\"backgroundcolor\":\"rgb(237,237,237)\",\"gridcolor\":\"white\",\"gridwidth\":2,\"linecolor\":\"white\",\"showbackground\":true,\"showgrid\":true,\"tickcolor\":\"rgb(51,51,51)\",\"ticks\":\"outside\",\"zerolinecolor\":\"white\"},\"zaxis\":{\"backgroundcolor\":\"rgb(237,237,237)\",\"gridcolor\":\"white\",\"gridwidth\":2,\"linecolor\":\"white\",\"showbackground\":true,\"showgrid\":true,\"tickcolor\":\"rgb(51,51,51)\",\"ticks\":\"outside\",\"zerolinecolor\":\"white\"}},\"shapedefaults\":{\"fillcolor\":\"black\",\"line\":{\"width\":0},\"opacity\":0.3},\"ternary\":{\"aaxis\":{\"gridcolor\":\"white\",\"linecolor\":\"white\",\"showgrid\":true,\"tickcolor\":\"rgb(51,51,51)\",\"ticks\":\"outside\"},\"baxis\":{\"gridcolor\":\"white\",\"linecolor\":\"white\",\"showgrid\":true,\"tickcolor\":\"rgb(51,51,51)\",\"ticks\":\"outside\"},\"bgcolor\":\"rgb(237,237,237)\",\"caxis\":{\"gridcolor\":\"white\",\"linecolor\":\"white\",\"showgrid\":true,\"tickcolor\":\"rgb(51,51,51)\",\"ticks\":\"outside\"}},\"xaxis\":{\"automargin\":true,\"gridcolor\":\"white\",\"linecolor\":\"white\",\"showgrid\":true,\"tickcolor\":\"rgb(51,51,51)\",\"ticks\":\"outside\",\"title\":{\"standoff\":15},\"zerolinecolor\":\"white\"},\"yaxis\":{\"automargin\":true,\"gridcolor\":\"white\",\"linecolor\":\"white\",\"showgrid\":true,\"tickcolor\":\"rgb(51,51,51)\",\"ticks\":\"outside\",\"title\":{\"standoff\":15},\"zerolinecolor\":\"white\"}}},\"showlegend\":true},                        {\"responsive\": true}                    ).then(function(){\n",
              "                            \n",
              "var gd = document.getElementById('3e270b2f-5254-4dc0-aa05-7af4c6c0c60c');\n",
              "var x = new MutationObserver(function (mutations, observer) {{\n",
              "        var display = window.getComputedStyle(gd).display;\n",
              "        if (!display || display === 'none') {{\n",
              "            console.log([gd, 'removed!']);\n",
              "            Plotly.purge(gd);\n",
              "            observer.disconnect();\n",
              "        }}\n",
              "}});\n",
              "\n",
              "// Listen for the removal of the full notebook cells\n",
              "var notebookContainer = gd.closest('#notebook-container');\n",
              "if (notebookContainer) {{\n",
              "    x.observe(notebookContainer, {childList: true});\n",
              "}}\n",
              "\n",
              "// Listen for the clearing of the current output cell\n",
              "var outputEl = gd.closest('.output');\n",
              "if (outputEl) {{\n",
              "    x.observe(outputEl, {childList: true});\n",
              "}}\n",
              "\n",
              "                        })                };                            </script>        </div>\n",
              "</body>\n",
              "</html>"
            ]
          },
          "metadata": {}
        },
        {
          "output_type": "display_data",
          "data": {
            "text/html": [
              "<html>\n",
              "<head><meta charset=\"utf-8\" /></head>\n",
              "<body>\n",
              "    <div>            <script src=\"https://cdnjs.cloudflare.com/ajax/libs/mathjax/2.7.5/MathJax.js?config=TeX-AMS-MML_SVG\"></script><script type=\"text/javascript\">if (window.MathJax) {MathJax.Hub.Config({SVG: {font: \"STIX-Web\"}});}</script>                <script type=\"text/javascript\">window.PlotlyConfig = {MathJaxConfig: 'local'};</script>\n",
              "        <script src=\"https://cdn.plot.ly/plotly-2.6.3.min.js\"></script>                <div id=\"7dfaf801-cf3d-47a5-ab72-ff12d4080c74\" class=\"plotly-graph-div\" style=\"height:525px; width:100%;\"></div>            <script type=\"text/javascript\">                                    window.PLOTLYENV=window.PLOTLYENV || {};                                    if (document.getElementById(\"7dfaf801-cf3d-47a5-ab72-ff12d4080c74\")) {                    Plotly.newPlot(                        \"7dfaf801-cf3d-47a5-ab72-ff12d4080c74\",                        [{\"line\":{\"color\":\"#1f77b4\"},\"marker\":{\"size\":5},\"mode\":\"lines+markers\",\"name\":\"Forecast | ARIMA\",\"showlegend\":true,\"x\":[0,1,2,3,4,5,6,7,8,9,10,11,12,13,14,15,16,17,18,19,20,21,22,23,24,25,26,27,28,29,30,31,32,33,34,35,36,37,38,39,40,41,42,43,44,45,46,47,48,49,50,51,52,53,54,55,56,57,58,59,60,61,62,63,64,65,66,67,68,69,70,71,72,73,74,75,76,77,78,79,80,81,82,83,84,85,86,87,88,89,90,91,92,93,94,95,96,97,98,99,100,101,102,103,104,105,106,107,108,109,110,111,112,113,114,115,116,117,118,119,120,121,122,123,124,125,126,127,128,129,130,131,132,133,134,135,136,137,138,139,140,141,142,143,144,145,146,147,148,149,150,151,152,153,154,155,156,157,158,159,160,161,162,163,164,165,166,167,168,169,170,171,172,173,174,175,176,177,178,179,180,181,182,183,184,185,186,187,188,189,190,191,192,193,194,195,196,197,198,199,200,201,202,203,204,205,206,207,208,209,210,211,212,213,214,215,216,217,218,219,220,221,222,223,224,225,226,227,228,229,230,231,232,233,234,235,236,237,238,239,240,241,242,243,244,245,246,247,248,249,250,251,252,253,254,255,256,257,258,259,260,261,262,263,264,265,266,267,268,269,270,271,272,273,274,275,276,277,278,279,280,281,282,283,284,285,286,287,288,289,290,291,292,293,294,295,296,297,298,299,300,301,302,303,304,305,306,307,308,309],\"y\":[176.0181,176.0181,176.0181,176.0181,176.0181,176.0181,176.0181,176.0181,176.0181,176.0181,176.0181,176.0181,176.0181,176.0181,176.0181,176.0181,176.0181,176.0181,176.0181,176.0181,176.0181,176.0181,176.0181,176.0181,176.0181,176.0181,176.0181,176.0181,176.0181,176.0181,176.0181,176.0181,176.0181,176.0181,176.0181,176.0181,176.0181,176.0181,176.0181,176.0181,176.0181,176.0181,176.0181,176.0181,176.0181,176.0181,176.0181,176.0181,176.0181,176.0181,176.0181,176.0181,176.0181,176.0181,176.0181,176.0181,176.0181,176.0181,176.0181,176.0181,176.0181,176.0181,176.0181,176.0181,176.0181,176.0181,176.0181,176.0181,176.0181,176.0181,176.0181,176.0181,176.0181,176.0181,176.0181,176.0181,176.0181,176.0181,176.0181,176.0181,176.0181,176.0181,176.0181,176.0181,176.0181,176.0181,176.0181,176.0181,176.0181,176.0181,176.0181,176.0181,176.0181,176.0181,176.0181,176.0181,176.0181,176.0181,176.0181,176.0181,176.0181,176.0181,176.0181,176.0181,176.0181,176.0181,176.0181,176.0181,176.0181,176.0181,176.0181,176.0181,176.0181,176.0181,176.0181,176.0181,176.0181,176.0181,176.0181,176.0181,176.0181,176.0181,176.0181,176.0181,176.0181,176.0181,176.0181,176.0181,176.0181,176.0181,176.0181,176.0181,176.0181,176.0181,176.0181,176.0181,176.0181,176.0181,176.0181,176.0181,176.0181,176.0181,176.0181,176.0181,176.0181,176.0181,176.0181,176.0181,176.0181,176.0181,176.0181,176.0181,176.0181,176.0181,176.0181,176.0181,176.0181,176.0181,176.0181,176.0181,176.0181,176.0181,176.0181,176.0181,176.0181,176.0181,176.0181,176.0181,176.0181,176.0181,176.0181,176.0181,176.0181,176.0181,176.0181,176.0181,176.0181,176.0181,176.0181,176.0181,176.0181,176.0181,176.0181,176.0181,176.0181,176.0181,176.0181,176.0181,176.0181,176.0181,176.0181,176.0181,176.0181,176.0181,176.0181,176.0181,176.0181,176.0181,176.0181,176.0181,176.0181,176.0181,176.0181,176.0181,176.0181,176.0181,176.0181,176.0181,176.0181,176.0181,176.0181,176.0181,176.0181,176.0181,176.0181,176.0181,176.0181,176.0181,176.0181,176.0181,176.0181,176.0181,176.0181,176.0181,176.0181,176.0181,176.0181,176.0181,176.0181,176.0181,176.0181,176.0181,176.0181,176.0181,176.0181,176.0181,176.0181,176.0181,176.0181,176.0181,176.0181,176.0181,176.0181,176.0181,176.0181,176.0181,176.0181,176.0181,176.0181,176.0181,176.0181,176.0181,176.0181,176.0181,176.0181,176.0181,176.0181,176.0181,176.0181,176.0181,176.0181,176.0181,176.0181,176.0181,176.0181,176.0181,176.0181,176.0181,176.0181,176.0181,176.0181,176.0181,176.0181,176.0181,176.0181,176.0181,176.0181,176.0181,176.0181,176.0181,176.0181,176.0181,176.0181,176.0181,176.0181,176.0181,176.0181,176.0181,176.0181,176.0181,176.0181,176.0181,176.0181,176.0181,176.0181,176.0181,176.0181,176.0181,176.0181,176.0181,176.0181,176.0181,176.0181,176.0181,176.0181,176.0181,176.0181,176.0181,176.0181,176.0181],\"type\":\"scatter\"},{\"marker\":{\"color\":\"#3f3f3f\",\"size\":5},\"mode\":\"lines+markers\",\"name\":\"Original\",\"showlegend\":true,\"x\":[0,1,2,3,4,5,6,7,8,9,10,11,12,13,14,15,16,17,18,19,20,21,22,23,24,25,26,27,28,29,30,31,32,33,34,35,36,37,38,39,40,41,42,43,44,45,46,47,48,49,50,51,52,53,54,55,56,57,58,59,60,61,62,63,64,65,66,67,68,69,70,71,72,73,74,75,76,77,78,79,80,81,82,83,84,85,86,87,88,89,90,91,92,93,94,95,96,97,98,99,100,101,102,103,104,105,106,107,108,109,110,111,112,113,114,115,116,117,118,119,120,121,122,123,124,125,126,127,128,129,130,131,132,133,134,135,136,137,138,139,140,141,142,143,144,145,146,147,148,149,150,151,152,153,154,155,156,157,158,159,160,161,162,163,164,165,166,167,168,169,170,171,172,173,174,175,176,177,178,179,180,181,182,183,184,185,186,187,188,189,190,191,192,193,194,195,196,197,198,199,200,201,202,203,204,205,206,207,208,209,210,211,212,213,214,215,216,217,218,219,220,221,222,223,224,225,226,227,228,229,230,231,232,233,234,235,236,237,238,239,240,241,242,243,244,245,246,247,248,249,250,251,252,253,254,255,256,257,258,259,260,261,262,263,264,265,266,267,268,269,270,271,272,273,274,275,276,277,278,279,280,281,282,283,284,285,286,287,288,289,290,291,292,293,294,295,296,297,298,299,300,301,302,303,304,305,306,307,308,309,310,311,312,313,314,315,316,317,318,319,320,321,322,323,324,325,326,327,328,329,330,331,332,333,334,335,336,337,338,339],\"y\":[175.379633322776,176.04211587314398,175.089078351448,176.15802877240398,175.34541535608102,177.767287269373,176.716707476017,176.910174229495,176.384185357826,177.68217608051899,175.36426354605098,175.53835526963903,177.43228223854197,175.34930364668998,175.792619256398,175.607192070558,175.680007131452,175.72088669702302,176.494188331268,175.82266951773,175.494042537886,177.34303882516997,175.785420591453,175.820443469957,175.899809258786,176.71266630705102,175.92643559587398,175.962365828533,175.318339521244,175.67572972775397,176.060160440435,175.41110551374,176.53149619263303,174.481605918213,176.30655786078998,174.46355017646198,175.699023873163,175.471720095555,175.347905219319,175.943103222153,174.08564057432,177.176583312019,174.335027563788,175.536469598528,174.884079894957,175.249180998807,178.087166545628,176.017395619693,174.713699469566,174.359394465581,176.450187101273,175.981440167285,175.681931625456,175.070637852546,174.512539689859,174.924807703384,177.000028803714,175.378733305203,174.615573152615,177.86929062242402,176.42510037737202,175.761352899087,177.05848304870898,176.886422651375,175.380756951769,178.20610246453998,175.74497296985902,174.575505349787,175.855600398046,176.20753833923197,178.30797839905898,176.10580236789397,176.456998805423,175.92284706464298,175.66599915763302,175.965273971689,176.78763960563,178.075245008652,177.027392438764,177.207908398387,174.768676578442,176.983895570053,176.219924803661,174.53274997090801,176.521022742648,175.841245395284,177.46458731196998,175.23391800039502,175.56978824607103,175.073890502623,175.82289603856302,176.402011779486,175.26825182688,176.83037316798197,174.791917213696,174.952015587192,177.441157706844,174.98415253469503,176.411974712318,175.618923948891,176.409401839651,177.688873286204,177.586588433442,175.66909219931702,173.714764464708,178.497661589834,176.66706616676498,176.541327335964,175.986600476854,176.51010842295298,175.83562416823003,176.42069464325502,175.59975325602198,174.629792122453,176.98783826745498,177.5197450255,175.691259430774,174.746710244392,176.642241305678,175.955290863106,174.266781593175,176.00213185968002,175.369699666072,175.65903142014,174.84342763736402,177.803141907917,175.66886796360902,174.394486587747,176.19719343873902,176.263175646405,175.014173299591,173.11107932832002,175.359518297435,176.57050763592,175.940276723957,175.90182125599497,176.56082072862,174.81354136142102,177.09677704427398,175.99465597172198,176.707310667398,177.034107734737,176.223480414915,175.12129238713402,177.162964555967,173.999835055215,175.455209259998,175.744329290843,175.833878963235,177.020463908784,176.136221893103,176.407167603424,175.930345186987,175.752335658381,176.69555080662,177.146228357216,173.596903785108,176.57273955524602,176.374724406779,175.57473227844397,176.95101280757703,175.610762818282,175.7156693382,176.85740977807998,177.71962729912102,176.270054900937,175.57781599021197,174.81088670514,175.66896702112098,175.06017067348998,175.74106741688098,176.394379168222,175.148142907976,178.649166881095,176.156011675665,177.13020726745498,173.71087602016001,176.741001157195,174.683754839548,176.919803677609,176.398130155452,175.59247142073002,177.324258630177,175.29876833075298,175.41938569575902,174.99892781897498,175.331821393247,176.945184953373,176.43370214954498,177.005159217677,175.609881335946,176.376370291775,176.244164924486,174.573742657617,177.778429287475,176.134447660934,176.765598999158,176.95513667690898,175.949434298558,175.694184580233,176.89367370242599,174.95270185093898,177.97133738622398,175.616367893712,177.654145302275,177.512212693951,176.082965733586,176.567220914852,174.975451520466,176.32300650302201,177.04361245835602,176.099078486897,175.54586309084598,175.34421814755,175.96407757737703,177.06916146067698,175.51602506969897,175.87898988867298,174.70585999617902,176.494312836015,177.30790152011397,177.497041009403,176.81470273089698,174.13021120979698,176.482029504124,176.45613560330102,175.64659971417,176.17048947094798,175.13596404587298,176.679230774016,175.672898985347,174.430917814856,175.63254924383,177.36443492906997,175.665718635269,176.732750042209,176.94658564019798,176.00439870432598,175.64767769445,175.470304490866,176.739589225575,174.93654258451699,176.246210843536,175.710500633436,173.735110643512,174.591149543927,176.916019328793,175.808721049465,176.803283216134,177.887474463309,177.47388118110902,176.677268492313,176.379962686567,175.807201573543,177.577891794904,176.596234109318,174.82642305912898,175.84435746511002,174.08109017972998,175.804741153889,173.40767233005403,177.314002167198,175.36445699896802,175.570021161306,175.83068166769797,176.612218173989,176.67834017722302,176.567951972472,175.42745739607398,174.636708743722,175.611277755662,176.27791413245097,175.176918878428,175.931159065522,174.83233767387,175.991690985784,176.12885540159698,175.854124371539,175.836089043264,177.763552002785,176.76258651241798,177.11143108073102,175.07679304716999,176.16434183842802,177.154825187097,175.94347857547402,173.870639351765,176.344845762099,174.095044554414,175.18882984686002,177.3240043213,176.61563684930303,177.091668955535,176.30660486151402,175.889841237517,175.07568722687301,177.592913753719,176.045010598122,175.284871599332,176.86522309971699,177.07444095827802,177.895654774199,175.397002696395,175.609132179277,175.58377796847,175.62434257718002,175.633369054298,175.704322547299,177.4418204102,175.302461708087,175.611832494079,176.652536452172,177.124772446535,175.227889196976,175.491913783862,176.523620590498,177.01775422653802,175.748835411912,174.570006552611,177.709121032101,177.43506957231202,175.28962885415,175.934932426344,174.24053126463403,176.569722971819,177.61234679820203,174.362719352895,175.220431486798,175.35882306624902,175.318868606429,173.96671440438203,176.50096355924802,174.468201860034,175.97500236072202,176.592984721025,175.801804578515,176.892008392474,175.974284929082,175.35233954941398,176.64635941503502],\"type\":\"scatter\"}],                        {\"title\":{\"text\":\"Actual vs. 'In-Sample' Forecast | x\"},\"xaxis\":{\"title\":{\"text\":\"Time\"}},\"yaxis\":{\"title\":{\"text\":\"Values\"}},\"template\":{\"data\":{\"barpolar\":[{\"marker\":{\"line\":{\"color\":\"rgb(237,237,237)\",\"width\":0.5},\"pattern\":{\"fillmode\":\"overlay\",\"size\":10,\"solidity\":0.2}},\"type\":\"barpolar\"}],\"bar\":[{\"error_x\":{\"color\":\"rgb(51,51,51)\"},\"error_y\":{\"color\":\"rgb(51,51,51)\"},\"marker\":{\"line\":{\"color\":\"rgb(237,237,237)\",\"width\":0.5},\"pattern\":{\"fillmode\":\"overlay\",\"size\":10,\"solidity\":0.2}},\"type\":\"bar\"}],\"carpet\":[{\"aaxis\":{\"endlinecolor\":\"rgb(51,51,51)\",\"gridcolor\":\"white\",\"linecolor\":\"white\",\"minorgridcolor\":\"white\",\"startlinecolor\":\"rgb(51,51,51)\"},\"baxis\":{\"endlinecolor\":\"rgb(51,51,51)\",\"gridcolor\":\"white\",\"linecolor\":\"white\",\"minorgridcolor\":\"white\",\"startlinecolor\":\"rgb(51,51,51)\"},\"type\":\"carpet\"}],\"choropleth\":[{\"colorbar\":{\"outlinewidth\":0,\"tickcolor\":\"rgb(237,237,237)\",\"ticklen\":6,\"ticks\":\"inside\"},\"type\":\"choropleth\"}],\"contourcarpet\":[{\"colorbar\":{\"outlinewidth\":0,\"tickcolor\":\"rgb(237,237,237)\",\"ticklen\":6,\"ticks\":\"inside\"},\"type\":\"contourcarpet\"}],\"contour\":[{\"colorbar\":{\"outlinewidth\":0,\"tickcolor\":\"rgb(237,237,237)\",\"ticklen\":6,\"ticks\":\"inside\"},\"colorscale\":[[0,\"rgb(20,44,66)\"],[1,\"rgb(90,179,244)\"]],\"type\":\"contour\"}],\"heatmapgl\":[{\"colorbar\":{\"outlinewidth\":0,\"tickcolor\":\"rgb(237,237,237)\",\"ticklen\":6,\"ticks\":\"inside\"},\"colorscale\":[[0,\"rgb(20,44,66)\"],[1,\"rgb(90,179,244)\"]],\"type\":\"heatmapgl\"}],\"heatmap\":[{\"colorbar\":{\"outlinewidth\":0,\"tickcolor\":\"rgb(237,237,237)\",\"ticklen\":6,\"ticks\":\"inside\"},\"colorscale\":[[0,\"rgb(20,44,66)\"],[1,\"rgb(90,179,244)\"]],\"type\":\"heatmap\"}],\"histogram2dcontour\":[{\"colorbar\":{\"outlinewidth\":0,\"tickcolor\":\"rgb(237,237,237)\",\"ticklen\":6,\"ticks\":\"inside\"},\"colorscale\":[[0,\"rgb(20,44,66)\"],[1,\"rgb(90,179,244)\"]],\"type\":\"histogram2dcontour\"}],\"histogram2d\":[{\"colorbar\":{\"outlinewidth\":0,\"tickcolor\":\"rgb(237,237,237)\",\"ticklen\":6,\"ticks\":\"inside\"},\"colorscale\":[[0,\"rgb(20,44,66)\"],[1,\"rgb(90,179,244)\"]],\"type\":\"histogram2d\"}],\"histogram\":[{\"marker\":{\"pattern\":{\"fillmode\":\"overlay\",\"size\":10,\"solidity\":0.2}},\"type\":\"histogram\"}],\"mesh3d\":[{\"colorbar\":{\"outlinewidth\":0,\"tickcolor\":\"rgb(237,237,237)\",\"ticklen\":6,\"ticks\":\"inside\"},\"type\":\"mesh3d\"}],\"parcoords\":[{\"line\":{\"colorbar\":{\"outlinewidth\":0,\"tickcolor\":\"rgb(237,237,237)\",\"ticklen\":6,\"ticks\":\"inside\"}},\"type\":\"parcoords\"}],\"pie\":[{\"automargin\":true,\"type\":\"pie\"}],\"scatter3d\":[{\"line\":{\"colorbar\":{\"outlinewidth\":0,\"tickcolor\":\"rgb(237,237,237)\",\"ticklen\":6,\"ticks\":\"inside\"}},\"marker\":{\"colorbar\":{\"outlinewidth\":0,\"tickcolor\":\"rgb(237,237,237)\",\"ticklen\":6,\"ticks\":\"inside\"}},\"type\":\"scatter3d\"}],\"scattercarpet\":[{\"marker\":{\"colorbar\":{\"outlinewidth\":0,\"tickcolor\":\"rgb(237,237,237)\",\"ticklen\":6,\"ticks\":\"inside\"}},\"type\":\"scattercarpet\"}],\"scattergeo\":[{\"marker\":{\"colorbar\":{\"outlinewidth\":0,\"tickcolor\":\"rgb(237,237,237)\",\"ticklen\":6,\"ticks\":\"inside\"}},\"type\":\"scattergeo\"}],\"scattergl\":[{\"marker\":{\"colorbar\":{\"outlinewidth\":0,\"tickcolor\":\"rgb(237,237,237)\",\"ticklen\":6,\"ticks\":\"inside\"}},\"type\":\"scattergl\"}],\"scattermapbox\":[{\"marker\":{\"colorbar\":{\"outlinewidth\":0,\"tickcolor\":\"rgb(237,237,237)\",\"ticklen\":6,\"ticks\":\"inside\"}},\"type\":\"scattermapbox\"}],\"scatterpolargl\":[{\"marker\":{\"colorbar\":{\"outlinewidth\":0,\"tickcolor\":\"rgb(237,237,237)\",\"ticklen\":6,\"ticks\":\"inside\"}},\"type\":\"scatterpolargl\"}],\"scatterpolar\":[{\"marker\":{\"colorbar\":{\"outlinewidth\":0,\"tickcolor\":\"rgb(237,237,237)\",\"ticklen\":6,\"ticks\":\"inside\"}},\"type\":\"scatterpolar\"}],\"scatter\":[{\"marker\":{\"colorbar\":{\"outlinewidth\":0,\"tickcolor\":\"rgb(237,237,237)\",\"ticklen\":6,\"ticks\":\"inside\"}},\"type\":\"scatter\"}],\"scatterternary\":[{\"marker\":{\"colorbar\":{\"outlinewidth\":0,\"tickcolor\":\"rgb(237,237,237)\",\"ticklen\":6,\"ticks\":\"inside\"}},\"type\":\"scatterternary\"}],\"surface\":[{\"colorbar\":{\"outlinewidth\":0,\"tickcolor\":\"rgb(237,237,237)\",\"ticklen\":6,\"ticks\":\"inside\"},\"colorscale\":[[0,\"rgb(20,44,66)\"],[1,\"rgb(90,179,244)\"]],\"type\":\"surface\"}],\"table\":[{\"cells\":{\"fill\":{\"color\":\"rgb(237,237,237)\"},\"line\":{\"color\":\"white\"}},\"header\":{\"fill\":{\"color\":\"rgb(217,217,217)\"},\"line\":{\"color\":\"white\"}},\"type\":\"table\"}]},\"layout\":{\"annotationdefaults\":{\"arrowhead\":0,\"arrowwidth\":1},\"autotypenumbers\":\"strict\",\"coloraxis\":{\"colorbar\":{\"outlinewidth\":0,\"tickcolor\":\"rgb(237,237,237)\",\"ticklen\":6,\"ticks\":\"inside\"}},\"colorscale\":{\"sequential\":[[0,\"rgb(20,44,66)\"],[1,\"rgb(90,179,244)\"]],\"sequentialminus\":[[0,\"rgb(20,44,66)\"],[1,\"rgb(90,179,244)\"]]},\"colorway\":[\"#F8766D\",\"#A3A500\",\"#00BF7D\",\"#00B0F6\",\"#E76BF3\"],\"font\":{\"color\":\"rgb(51,51,51)\"},\"geo\":{\"bgcolor\":\"white\",\"lakecolor\":\"white\",\"landcolor\":\"rgb(237,237,237)\",\"showlakes\":true,\"showland\":true,\"subunitcolor\":\"white\"},\"hoverlabel\":{\"align\":\"left\"},\"hovermode\":\"closest\",\"paper_bgcolor\":\"white\",\"plot_bgcolor\":\"rgb(237,237,237)\",\"polar\":{\"angularaxis\":{\"gridcolor\":\"white\",\"linecolor\":\"white\",\"showgrid\":true,\"tickcolor\":\"rgb(51,51,51)\",\"ticks\":\"outside\"},\"bgcolor\":\"rgb(237,237,237)\",\"radialaxis\":{\"gridcolor\":\"white\",\"linecolor\":\"white\",\"showgrid\":true,\"tickcolor\":\"rgb(51,51,51)\",\"ticks\":\"outside\"}},\"scene\":{\"xaxis\":{\"backgroundcolor\":\"rgb(237,237,237)\",\"gridcolor\":\"white\",\"gridwidth\":2,\"linecolor\":\"white\",\"showbackground\":true,\"showgrid\":true,\"tickcolor\":\"rgb(51,51,51)\",\"ticks\":\"outside\",\"zerolinecolor\":\"white\"},\"yaxis\":{\"backgroundcolor\":\"rgb(237,237,237)\",\"gridcolor\":\"white\",\"gridwidth\":2,\"linecolor\":\"white\",\"showbackground\":true,\"showgrid\":true,\"tickcolor\":\"rgb(51,51,51)\",\"ticks\":\"outside\",\"zerolinecolor\":\"white\"},\"zaxis\":{\"backgroundcolor\":\"rgb(237,237,237)\",\"gridcolor\":\"white\",\"gridwidth\":2,\"linecolor\":\"white\",\"showbackground\":true,\"showgrid\":true,\"tickcolor\":\"rgb(51,51,51)\",\"ticks\":\"outside\",\"zerolinecolor\":\"white\"}},\"shapedefaults\":{\"fillcolor\":\"black\",\"line\":{\"width\":0},\"opacity\":0.3},\"ternary\":{\"aaxis\":{\"gridcolor\":\"white\",\"linecolor\":\"white\",\"showgrid\":true,\"tickcolor\":\"rgb(51,51,51)\",\"ticks\":\"outside\"},\"baxis\":{\"gridcolor\":\"white\",\"linecolor\":\"white\",\"showgrid\":true,\"tickcolor\":\"rgb(51,51,51)\",\"ticks\":\"outside\"},\"bgcolor\":\"rgb(237,237,237)\",\"caxis\":{\"gridcolor\":\"white\",\"linecolor\":\"white\",\"showgrid\":true,\"tickcolor\":\"rgb(51,51,51)\",\"ticks\":\"outside\"}},\"xaxis\":{\"automargin\":true,\"gridcolor\":\"white\",\"linecolor\":\"white\",\"showgrid\":true,\"tickcolor\":\"rgb(51,51,51)\",\"ticks\":\"outside\",\"title\":{\"standoff\":15},\"zerolinecolor\":\"white\"},\"yaxis\":{\"automargin\":true,\"gridcolor\":\"white\",\"linecolor\":\"white\",\"showgrid\":true,\"tickcolor\":\"rgb(51,51,51)\",\"ticks\":\"outside\",\"title\":{\"standoff\":15},\"zerolinecolor\":\"white\"}}},\"showlegend\":true},                        {\"responsive\": true}                    ).then(function(){\n",
              "                            \n",
              "var gd = document.getElementById('7dfaf801-cf3d-47a5-ab72-ff12d4080c74');\n",
              "var x = new MutationObserver(function (mutations, observer) {{\n",
              "        var display = window.getComputedStyle(gd).display;\n",
              "        if (!display || display === 'none') {{\n",
              "            console.log([gd, 'removed!']);\n",
              "            Plotly.purge(gd);\n",
              "            observer.disconnect();\n",
              "        }}\n",
              "}});\n",
              "\n",
              "// Listen for the removal of the full notebook cells\n",
              "var notebookContainer = gd.closest('#notebook-container');\n",
              "if (notebookContainer) {{\n",
              "    x.observe(notebookContainer, {childList: true});\n",
              "}}\n",
              "\n",
              "// Listen for the clearing of the current output cell\n",
              "var outputEl = gd.closest('.output');\n",
              "if (outputEl) {{\n",
              "    x.observe(outputEl, {childList: true});\n",
              "}}\n",
              "\n",
              "                        })                };                            </script>        </div>\n",
              "</body>\n",
              "</html>"
            ]
          },
          "metadata": {}
        }
      ]
    },
    {
      "cell_type": "markdown",
      "metadata": {
        "id": "qnNVbxAh22rl"
      },
      "source": [
        "The model output matches with our theoretical calculations"
      ]
    },
    {
      "cell_type": "markdown",
      "metadata": {
        "id": "bO2vM6HfYJI_"
      },
      "source": [
        "#### Model with Trend Only (trend = \"t\")"
      ]
    },
    {
      "cell_type": "code",
      "metadata": {
        "colab": {
          "base_uri": "https://localhost:8080/",
          "height": 206,
          "referenced_widgets": [
            "2f2d0d13e4e140d3a9f25b00bea85c0a",
            "e50d5759b72a42aba3c380011921e434",
            "7875c719778e49618c3175a9ee732add"
          ]
        },
        "id": "j6KPI3H7XLcO",
        "outputId": "96467b3b-3819-4270-acff-b8118c1839e8"
      },
      "source": [
        "model2b = exp.create_model(\"arima\", order=(0, 0, 0), seasonal_order=(0, 0, 0, 0), trend=\"t\")"
      ],
      "execution_count": 20,
      "outputs": [
        {
          "output_type": "display_data",
          "data": {
            "text/html": [
              "<div>\n",
              "<style scoped>\n",
              "    .dataframe tbody tr th:only-of-type {\n",
              "        vertical-align: middle;\n",
              "    }\n",
              "\n",
              "    .dataframe tbody tr th {\n",
              "        vertical-align: top;\n",
              "    }\n",
              "\n",
              "    .dataframe thead th {\n",
              "        text-align: right;\n",
              "    }\n",
              "</style>\n",
              "<table border=\"1\" class=\"dataframe\">\n",
              "  <thead>\n",
              "    <tr style=\"text-align: right;\">\n",
              "      <th></th>\n",
              "      <th>cutoff</th>\n",
              "      <th>MAE</th>\n",
              "      <th>RMSE</th>\n",
              "      <th>MAPE</th>\n",
              "      <th>SMAPE</th>\n",
              "      <th>R2</th>\n",
              "    </tr>\n",
              "  </thead>\n",
              "  <tbody>\n",
              "    <tr>\n",
              "      <th>0</th>\n",
              "      <td>219.0</td>\n",
              "      <td>106.0909</td>\n",
              "      <td>106.6141</td>\n",
              "      <td>0.6027</td>\n",
              "      <td>0.4623</td>\n",
              "      <td>-11217.3796</td>\n",
              "    </tr>\n",
              "    <tr>\n",
              "      <th>1</th>\n",
              "      <td>249.0</td>\n",
              "      <td>104.0269</td>\n",
              "      <td>104.4415</td>\n",
              "      <td>0.5914</td>\n",
              "      <td>0.4558</td>\n",
              "      <td>-11486.2764</td>\n",
              "    </tr>\n",
              "    <tr>\n",
              "      <th>2</th>\n",
              "      <td>279.0</td>\n",
              "      <td>102.1088</td>\n",
              "      <td>102.4403</td>\n",
              "      <td>0.5799</td>\n",
              "      <td>0.4490</td>\n",
              "      <td>-10814.5274</td>\n",
              "    </tr>\n",
              "    <tr>\n",
              "      <th>Mean</th>\n",
              "      <td>NaN</td>\n",
              "      <td>104.0755</td>\n",
              "      <td>104.4986</td>\n",
              "      <td>0.5913</td>\n",
              "      <td>0.4557</td>\n",
              "      <td>-11172.7278</td>\n",
              "    </tr>\n",
              "    <tr>\n",
              "      <th>SD</th>\n",
              "      <td>NaN</td>\n",
              "      <td>1.6260</td>\n",
              "      <td>1.7044</td>\n",
              "      <td>0.0093</td>\n",
              "      <td>0.0054</td>\n",
              "      <td>276.0519</td>\n",
              "    </tr>\n",
              "  </tbody>\n",
              "</table>\n",
              "</div>"
            ],
            "text/plain": [
              "      cutoff       MAE      RMSE    MAPE   SMAPE          R2\n",
              "0      219.0  106.0909  106.6141  0.6027  0.4623 -11217.3796\n",
              "1      249.0  104.0269  104.4415  0.5914  0.4558 -11486.2764\n",
              "2      279.0  102.1088  102.4403  0.5799  0.4490 -10814.5274\n",
              "Mean     NaN  104.0755  104.4986  0.5913  0.4557 -11172.7278\n",
              "SD       NaN    1.6260    1.7044  0.0093  0.0054    276.0519"
            ]
          },
          "metadata": {}
        }
      ]
    },
    {
      "cell_type": "code",
      "metadata": {
        "colab": {
          "base_uri": "https://localhost:8080/",
          "height": 959
        },
        "id": "oXTHI08sYP6-",
        "outputId": "144b655a-8e8b-4f35-d655-5dcffffc07fb"
      },
      "source": [
        "summarize_model(model2b)\n",
        "get_residual_properties(model2b)"
      ],
      "execution_count": 21,
      "outputs": [
        {
          "output_type": "stream",
          "name": "stdout",
          "text": [
            "                               SARIMAX Results                                \n",
            "==============================================================================\n",
            "Dep. Variable:                      y   No. Observations:                  310\n",
            "Model:                        SARIMAX   Log Likelihood               -1828.521\n",
            "Date:                Fri, 19 Nov 2021   AIC                           3661.043\n",
            "Time:                        21:01:55   BIC                           3668.516\n",
            "Sample:                             0   HQIC                          3664.030\n",
            "                                - 310                                         \n",
            "Covariance Type:                  opg                                         \n",
            "==============================================================================\n",
            "                 coef    std err          z      P>|z|      [0.025      0.975]\n",
            "------------------------------------------------------------------------------\n",
            "drift          0.8532      0.046     18.598      0.000       0.763       0.943\n",
            "sigma2      7777.8494    832.509      9.343      0.000    6146.162    9409.537\n",
            "===================================================================================\n",
            "Ljung-Box (L1) (Q):                 306.90   Jarque-Bera (JB):                18.58\n",
            "Prob(Q):                              0.00   Prob(JB):                         0.00\n",
            "Heteroskedasticity (H):               0.14   Skew:                            -0.00\n",
            "Prob(H) (two-sided):                  0.00   Kurtosis:                         1.80\n",
            "===================================================================================\n",
            "\n",
            "Warnings:\n",
            "[1] Covariance matrix calculated using the outer product of gradients (complex-step).\n"
          ]
        },
        {
          "output_type": "display_data",
          "data": {
            "text/html": [
              "<html>\n",
              "<head><meta charset=\"utf-8\" /></head>\n",
              "<body>\n",
              "    <div>            <script src=\"https://cdnjs.cloudflare.com/ajax/libs/mathjax/2.7.5/MathJax.js?config=TeX-AMS-MML_SVG\"></script><script type=\"text/javascript\">if (window.MathJax) {MathJax.Hub.Config({SVG: {font: \"STIX-Web\"}});}</script>                <script type=\"text/javascript\">window.PlotlyConfig = {MathJaxConfig: 'local'};</script>\n",
              "        <script src=\"https://cdn.plot.ly/plotly-2.6.3.min.js\"></script>                <div id=\"a3c4fecb-3208-464c-b493-86b24a5626f4\" class=\"plotly-graph-div\" style=\"height:525px; width:100%;\"></div>            <script type=\"text/javascript\">                                    window.PLOTLYENV=window.PLOTLYENV || {};                                    if (document.getElementById(\"a3c4fecb-3208-464c-b493-86b24a5626f4\")) {                    Plotly.newPlot(                        \"a3c4fecb-3208-464c-b493-86b24a5626f4\",                        [{\"marker\":{\"color\":\"#3f3f3f\",\"size\":5},\"mode\":\"lines+markers\",\"name\":\"Residuals | ARIMA\",\"showlegend\":true,\"x\":[0,1,2,3,4,5,6,7,8,9,10,11,12,13,14,15,16,17,18,19,20,21,22,23,24,25,26,27,28,29,30,31,32,33,34,35,36,37,38,39,40,41,42,43,44,45,46,47,48,49,50,51,52,53,54,55,56,57,58,59,60,61,62,63,64,65,66,67,68,69,70,71,72,73,74,75,76,77,78,79,80,81,82,83,84,85,86,87,88,89,90,91,92,93,94,95,96,97,98,99,100,101,102,103,104,105,106,107,108,109,110,111,112,113,114,115,116,117,118,119,120,121,122,123,124,125,126,127,128,129,130,131,132,133,134,135,136,137,138,139,140,141,142,143,144,145,146,147,148,149,150,151,152,153,154,155,156,157,158,159,160,161,162,163,164,165,166,167,168,169,170,171,172,173,174,175,176,177,178,179,180,181,182,183,184,185,186,187,188,189,190,191,192,193,194,195,196,197,198,199,200,201,202,203,204,205,206,207,208,209,210,211,212,213,214,215,216,217,218,219,220,221,222,223,224,225,226,227,228,229,230,231,232,233,234,235,236,237,238,239,240,241,242,243,244,245,246,247,248,249,250,251,252,253,254,255,256,257,258,259,260,261,262,263,264,265,266,267,268,269,270,271,272,273,274,275,276,277,278,279,280,281,282,283,284,285,286,287,288,289,290,291,292,293,294,295,296,297,298,299,300,301,302,303,304,305,306,307,308,309],\"y\":[174.52644692584803,175.18892947621603,173.3827055575921,173.59846958162012,171.9326697683692,173.50135528473328,171.59758909444932,170.93786945099936,169.5586941824024,170.00349850816744,166.83239957677148,166.15330490343158,167.19404547540657,164.25788048662662,163.84800969940673,162.80939611663877,162.0290247806048,161.21671794924788,161.1368331865649,159.61212797609895,158.430314599327,159.42612448968305,157.01531985903813,156.19715634061419,155.42333573251523,155.3830063838523,153.7435892757473,152.92633311147836,151.42912040726142,150.93332421684343,150.4645685325965,148.9623272089736,149.22953149093865,146.32645481959068,147.2982203652397,144.60202628398375,144.9843135837568,143.90382340922088,142.9268221360569,142.668833741963,139.95818469720203,142.19594103797309,138.50119889281413,138.84945453062616,137.34387843012723,136.85579313704926,138.84059228694235,135.91763496407935,133.76075241702443,132.5532610161115,133.79086725487554,132.46893392395958,131.31623898520263,129.8517588153647,128.44047425574973,127.99955587234679,129.22159057574885,126.7471086803099,125.13076213079395,127.531293203675,125.23391656169505,123.71698268648208,124.16092643917611,123.13567964491419,120.77682754838024,122.74898666422327,119.43467077261437,117.41201675561439,117.83892540694544,117.33767695120346,118.58493061410252,115.52956818600956,115.02757822661066,113.64024008890267,112.53020578496478,111.97629420209279,111.94547343910585,112.37989244519989,110.47885347838394,109.806183041079,106.51376482420606,107.87579741888909,106.25864025556915,103.71827902588821,104.85336540070026,103.32040165640831,104.09055717616633,101.00670146766342,100.48938531641149,99.14030117603549,99.03612031504757,98.7620496590426,96.77510330950867,97.48403825368268,94.59239590246875,93.8993078790368,95.53526360176085,92.22507203268394,92.79970781337896,91.153470653024,91.09076214685605,91.51704719648112,90.56157594679115,87.79089331573823,84.98337918420125,88.91308991239931,86.22930809240235,85.25038286467343,83.84246960863545,83.5127911578065,81.9851205061556,81.71700458425263,80.04287680009165,78.21972926959472,79.72458901766875,79.4033093787858,76.72163738713188,74.92390180382192,75.96624646817997,74.42610962868002,71.88441396182108,72.76657783139814,71.28095924086217,70.71710459800222,69.04831441829829,71.15484229192332,68.1673819506874,66.03981417789743,66.9893346319615,66.20213044269951,64.09994169895756,61.34366133075865,62.73891390294567,63.09671684450272,61.61329953561177,60.72165767072181,60.527470746418885,57.92700498229195,59.357054268216956,57.40174679873702,57.26121509748508,56.73482576789614,55.071012051146184,53.11563762643726,54.304123398342284,50.287807500662325,50.8899953085174,50.325928942434444,49.5622922178985,49.895690766519536,48.15826235391059,47.57602166730365,46.24601285393871,45.21481692840476,45.30484567971578,44.90233683338383,40.49982586434788,42.62247523755795,41.571273692163004,39.91809516690003,40.44118929910513,38.24775291288216,37.4994730358722,37.78802707882423,37.79705820293731,35.49429940782534,33.94887410017236,32.32875841817247,32.33365233722549,30.871669592666535,30.699379939129585,30.499505293542654,28.400082636368694,31.047920212559745,27.701578610201807,27.822587805063847,23.55007016084093,25.727008900947965,22.816576186373,24.199438627506055,22.824578708421114,21.165733576771174,22.044334389290213,19.165657692938225,18.433088661016342,17.159444387304347,16.639151564648415,17.399328727846466,16.034659527090497,15.752930198294564,13.504465919635606,13.417768478536658,12.432376714319702,9.90876805052278,12.260268283452831,9.763100259983872,9.541065201279906,8.877416482102944,7.018527706824017,5.910091591571074,6.256394316836094,3.462236068421163,5.62768520677821,2.419529317338288,3.6041203289733232,2.6090013237213725,0.3265679664284278,-0.04236324923354573,-2.487319040547476,-1.9929504549194235,-2.1255308965133395,-3.9232512649003013,-5.329653057879284,-6.384484398103211,-6.6178113652041475,-6.365913878832146,-8.77223666673811,-9.262458244692056,-11.28877453411394,-10.353508091205896,-10.393105804034889,-11.057152711673808,-12.592677387107784,-16.130355305135737,-14.631723407736672,-15.510803705487604,-17.17352599154657,-17.502822631696517,-19.390534453699473,-18.700454122484416,-20.55997230808137,-22.65513987550031,-22.306694843454267,-21.427995555142246,-23.97989824587117,-23.76605323585909,-24.405404034798067,-26.200777367598022,-27.410684774401943,-28.441244374913907,-28.025146037132856,-30.681379075118826,-30.22489721302776,-31.61379382005572,-34.44237020690764,-34.43951770342059,-32.96783431548255,-34.92831899173851,-34.78694322199746,-34.555938371750415,-35.822718050878336,-37.472517136602306,-38.62300933927622,-40.048956849228176,-39.13145302479515,-40.96629710730909,-43.58929455442606,-43.424546545372976,-46.04100022768097,-45.17053565044989,-48.42079087121283,-45.36764743099678,-48.17037899615471,-48.8180012307447,-49.410527121280666,-49.4821770119176,-50.269241405611524,-51.232816007290495,-53.226496980616474,-54.870432029896364,-54.749049414884325,-54.935599435023306,-56.88978108597422,-56.98872729580819,-58.94073508438814,-58.63456816940209,-59.350590150517064,-60.478507577502995,-61.349729302705924,-60.27545274011288,-62.12960462740784,-62.633946456022755,-65.52177088651175,-65.28740849218167,-65.15011154044063,-67.21464454899157,-70.14067016962852,-68.51965015622247,-71.62263776083543,-71.38203886531736,-70.10005078780532,-71.66160465673025,-72.03875894742623,-73.67700943837517,-74.94695945930013,-76.61429986687205,-74.95025973695402,-77.35134928947897,-78.96467468519691,-78.23750958173989,-78.8814781201068,-78.91345070111379,-82.26528917584571,-82.90634608989168,-83.7848866976266,-84.59750848584457,-85.44166840565453,-86.22390130958149,-85.33958984360842,-88.33213494264933],\"type\":\"scatter\"}],                        {\"title\":{\"text\":\"Residuals\"},\"xaxis\":{\"title\":{\"text\":\"Time\"}},\"yaxis\":{\"title\":{\"text\":\"Values\"}},\"template\":{\"data\":{\"barpolar\":[{\"marker\":{\"line\":{\"color\":\"rgb(237,237,237)\",\"width\":0.5},\"pattern\":{\"fillmode\":\"overlay\",\"size\":10,\"solidity\":0.2}},\"type\":\"barpolar\"}],\"bar\":[{\"error_x\":{\"color\":\"rgb(51,51,51)\"},\"error_y\":{\"color\":\"rgb(51,51,51)\"},\"marker\":{\"line\":{\"color\":\"rgb(237,237,237)\",\"width\":0.5},\"pattern\":{\"fillmode\":\"overlay\",\"size\":10,\"solidity\":0.2}},\"type\":\"bar\"}],\"carpet\":[{\"aaxis\":{\"endlinecolor\":\"rgb(51,51,51)\",\"gridcolor\":\"white\",\"linecolor\":\"white\",\"minorgridcolor\":\"white\",\"startlinecolor\":\"rgb(51,51,51)\"},\"baxis\":{\"endlinecolor\":\"rgb(51,51,51)\",\"gridcolor\":\"white\",\"linecolor\":\"white\",\"minorgridcolor\":\"white\",\"startlinecolor\":\"rgb(51,51,51)\"},\"type\":\"carpet\"}],\"choropleth\":[{\"colorbar\":{\"outlinewidth\":0,\"tickcolor\":\"rgb(237,237,237)\",\"ticklen\":6,\"ticks\":\"inside\"},\"type\":\"choropleth\"}],\"contourcarpet\":[{\"colorbar\":{\"outlinewidth\":0,\"tickcolor\":\"rgb(237,237,237)\",\"ticklen\":6,\"ticks\":\"inside\"},\"type\":\"contourcarpet\"}],\"contour\":[{\"colorbar\":{\"outlinewidth\":0,\"tickcolor\":\"rgb(237,237,237)\",\"ticklen\":6,\"ticks\":\"inside\"},\"colorscale\":[[0,\"rgb(20,44,66)\"],[1,\"rgb(90,179,244)\"]],\"type\":\"contour\"}],\"heatmapgl\":[{\"colorbar\":{\"outlinewidth\":0,\"tickcolor\":\"rgb(237,237,237)\",\"ticklen\":6,\"ticks\":\"inside\"},\"colorscale\":[[0,\"rgb(20,44,66)\"],[1,\"rgb(90,179,244)\"]],\"type\":\"heatmapgl\"}],\"heatmap\":[{\"colorbar\":{\"outlinewidth\":0,\"tickcolor\":\"rgb(237,237,237)\",\"ticklen\":6,\"ticks\":\"inside\"},\"colorscale\":[[0,\"rgb(20,44,66)\"],[1,\"rgb(90,179,244)\"]],\"type\":\"heatmap\"}],\"histogram2dcontour\":[{\"colorbar\":{\"outlinewidth\":0,\"tickcolor\":\"rgb(237,237,237)\",\"ticklen\":6,\"ticks\":\"inside\"},\"colorscale\":[[0,\"rgb(20,44,66)\"],[1,\"rgb(90,179,244)\"]],\"type\":\"histogram2dcontour\"}],\"histogram2d\":[{\"colorbar\":{\"outlinewidth\":0,\"tickcolor\":\"rgb(237,237,237)\",\"ticklen\":6,\"ticks\":\"inside\"},\"colorscale\":[[0,\"rgb(20,44,66)\"],[1,\"rgb(90,179,244)\"]],\"type\":\"histogram2d\"}],\"histogram\":[{\"marker\":{\"pattern\":{\"fillmode\":\"overlay\",\"size\":10,\"solidity\":0.2}},\"type\":\"histogram\"}],\"mesh3d\":[{\"colorbar\":{\"outlinewidth\":0,\"tickcolor\":\"rgb(237,237,237)\",\"ticklen\":6,\"ticks\":\"inside\"},\"type\":\"mesh3d\"}],\"parcoords\":[{\"line\":{\"colorbar\":{\"outlinewidth\":0,\"tickcolor\":\"rgb(237,237,237)\",\"ticklen\":6,\"ticks\":\"inside\"}},\"type\":\"parcoords\"}],\"pie\":[{\"automargin\":true,\"type\":\"pie\"}],\"scatter3d\":[{\"line\":{\"colorbar\":{\"outlinewidth\":0,\"tickcolor\":\"rgb(237,237,237)\",\"ticklen\":6,\"ticks\":\"inside\"}},\"marker\":{\"colorbar\":{\"outlinewidth\":0,\"tickcolor\":\"rgb(237,237,237)\",\"ticklen\":6,\"ticks\":\"inside\"}},\"type\":\"scatter3d\"}],\"scattercarpet\":[{\"marker\":{\"colorbar\":{\"outlinewidth\":0,\"tickcolor\":\"rgb(237,237,237)\",\"ticklen\":6,\"ticks\":\"inside\"}},\"type\":\"scattercarpet\"}],\"scattergeo\":[{\"marker\":{\"colorbar\":{\"outlinewidth\":0,\"tickcolor\":\"rgb(237,237,237)\",\"ticklen\":6,\"ticks\":\"inside\"}},\"type\":\"scattergeo\"}],\"scattergl\":[{\"marker\":{\"colorbar\":{\"outlinewidth\":0,\"tickcolor\":\"rgb(237,237,237)\",\"ticklen\":6,\"ticks\":\"inside\"}},\"type\":\"scattergl\"}],\"scattermapbox\":[{\"marker\":{\"colorbar\":{\"outlinewidth\":0,\"tickcolor\":\"rgb(237,237,237)\",\"ticklen\":6,\"ticks\":\"inside\"}},\"type\":\"scattermapbox\"}],\"scatterpolargl\":[{\"marker\":{\"colorbar\":{\"outlinewidth\":0,\"tickcolor\":\"rgb(237,237,237)\",\"ticklen\":6,\"ticks\":\"inside\"}},\"type\":\"scatterpolargl\"}],\"scatterpolar\":[{\"marker\":{\"colorbar\":{\"outlinewidth\":0,\"tickcolor\":\"rgb(237,237,237)\",\"ticklen\":6,\"ticks\":\"inside\"}},\"type\":\"scatterpolar\"}],\"scatter\":[{\"marker\":{\"colorbar\":{\"outlinewidth\":0,\"tickcolor\":\"rgb(237,237,237)\",\"ticklen\":6,\"ticks\":\"inside\"}},\"type\":\"scatter\"}],\"scatterternary\":[{\"marker\":{\"colorbar\":{\"outlinewidth\":0,\"tickcolor\":\"rgb(237,237,237)\",\"ticklen\":6,\"ticks\":\"inside\"}},\"type\":\"scatterternary\"}],\"surface\":[{\"colorbar\":{\"outlinewidth\":0,\"tickcolor\":\"rgb(237,237,237)\",\"ticklen\":6,\"ticks\":\"inside\"},\"colorscale\":[[0,\"rgb(20,44,66)\"],[1,\"rgb(90,179,244)\"]],\"type\":\"surface\"}],\"table\":[{\"cells\":{\"fill\":{\"color\":\"rgb(237,237,237)\"},\"line\":{\"color\":\"white\"}},\"header\":{\"fill\":{\"color\":\"rgb(217,217,217)\"},\"line\":{\"color\":\"white\"}},\"type\":\"table\"}]},\"layout\":{\"annotationdefaults\":{\"arrowhead\":0,\"arrowwidth\":1},\"autotypenumbers\":\"strict\",\"coloraxis\":{\"colorbar\":{\"outlinewidth\":0,\"tickcolor\":\"rgb(237,237,237)\",\"ticklen\":6,\"ticks\":\"inside\"}},\"colorscale\":{\"sequential\":[[0,\"rgb(20,44,66)\"],[1,\"rgb(90,179,244)\"]],\"sequentialminus\":[[0,\"rgb(20,44,66)\"],[1,\"rgb(90,179,244)\"]]},\"colorway\":[\"#F8766D\",\"#A3A500\",\"#00BF7D\",\"#00B0F6\",\"#E76BF3\"],\"font\":{\"color\":\"rgb(51,51,51)\"},\"geo\":{\"bgcolor\":\"white\",\"lakecolor\":\"white\",\"landcolor\":\"rgb(237,237,237)\",\"showlakes\":true,\"showland\":true,\"subunitcolor\":\"white\"},\"hoverlabel\":{\"align\":\"left\"},\"hovermode\":\"closest\",\"paper_bgcolor\":\"white\",\"plot_bgcolor\":\"rgb(237,237,237)\",\"polar\":{\"angularaxis\":{\"gridcolor\":\"white\",\"linecolor\":\"white\",\"showgrid\":true,\"tickcolor\":\"rgb(51,51,51)\",\"ticks\":\"outside\"},\"bgcolor\":\"rgb(237,237,237)\",\"radialaxis\":{\"gridcolor\":\"white\",\"linecolor\":\"white\",\"showgrid\":true,\"tickcolor\":\"rgb(51,51,51)\",\"ticks\":\"outside\"}},\"scene\":{\"xaxis\":{\"backgroundcolor\":\"rgb(237,237,237)\",\"gridcolor\":\"white\",\"gridwidth\":2,\"linecolor\":\"white\",\"showbackground\":true,\"showgrid\":true,\"tickcolor\":\"rgb(51,51,51)\",\"ticks\":\"outside\",\"zerolinecolor\":\"white\"},\"yaxis\":{\"backgroundcolor\":\"rgb(237,237,237)\",\"gridcolor\":\"white\",\"gridwidth\":2,\"linecolor\":\"white\",\"showbackground\":true,\"showgrid\":true,\"tickcolor\":\"rgb(51,51,51)\",\"ticks\":\"outside\",\"zerolinecolor\":\"white\"},\"zaxis\":{\"backgroundcolor\":\"rgb(237,237,237)\",\"gridcolor\":\"white\",\"gridwidth\":2,\"linecolor\":\"white\",\"showbackground\":true,\"showgrid\":true,\"tickcolor\":\"rgb(51,51,51)\",\"ticks\":\"outside\",\"zerolinecolor\":\"white\"}},\"shapedefaults\":{\"fillcolor\":\"black\",\"line\":{\"width\":0},\"opacity\":0.3},\"ternary\":{\"aaxis\":{\"gridcolor\":\"white\",\"linecolor\":\"white\",\"showgrid\":true,\"tickcolor\":\"rgb(51,51,51)\",\"ticks\":\"outside\"},\"baxis\":{\"gridcolor\":\"white\",\"linecolor\":\"white\",\"showgrid\":true,\"tickcolor\":\"rgb(51,51,51)\",\"ticks\":\"outside\"},\"bgcolor\":\"rgb(237,237,237)\",\"caxis\":{\"gridcolor\":\"white\",\"linecolor\":\"white\",\"showgrid\":true,\"tickcolor\":\"rgb(51,51,51)\",\"ticks\":\"outside\"}},\"xaxis\":{\"automargin\":true,\"gridcolor\":\"white\",\"linecolor\":\"white\",\"showgrid\":true,\"tickcolor\":\"rgb(51,51,51)\",\"ticks\":\"outside\",\"title\":{\"standoff\":15},\"zerolinecolor\":\"white\"},\"yaxis\":{\"automargin\":true,\"gridcolor\":\"white\",\"linecolor\":\"white\",\"showgrid\":true,\"tickcolor\":\"rgb(51,51,51)\",\"ticks\":\"outside\",\"title\":{\"standoff\":15},\"zerolinecolor\":\"white\"}}},\"showlegend\":true},                        {\"responsive\": true}                    ).then(function(){\n",
              "                            \n",
              "var gd = document.getElementById('a3c4fecb-3208-464c-b493-86b24a5626f4');\n",
              "var x = new MutationObserver(function (mutations, observer) {{\n",
              "        var display = window.getComputedStyle(gd).display;\n",
              "        if (!display || display === 'none') {{\n",
              "            console.log([gd, 'removed!']);\n",
              "            Plotly.purge(gd);\n",
              "            observer.disconnect();\n",
              "        }}\n",
              "}});\n",
              "\n",
              "// Listen for the removal of the full notebook cells\n",
              "var notebookContainer = gd.closest('#notebook-container');\n",
              "if (notebookContainer) {{\n",
              "    x.observe(notebookContainer, {childList: true});\n",
              "}}\n",
              "\n",
              "// Listen for the clearing of the current output cell\n",
              "var outputEl = gd.closest('.output');\n",
              "if (outputEl) {{\n",
              "    x.observe(outputEl, {childList: true});\n",
              "}}\n",
              "\n",
              "                        })                };                            </script>        </div>\n",
              "</body>\n",
              "</html>"
            ]
          },
          "metadata": {}
        },
        {
          "output_type": "stream",
          "name": "stdout",
          "text": [
            "Residual Sigma 2: 7777.844046278534\n"
          ]
        }
      ]
    },
    {
      "cell_type": "code",
      "metadata": {
        "colab": {
          "base_uri": "https://localhost:8080/",
          "height": 1000
        },
        "id": "SSI0Vq_DYUNt",
        "outputId": "fc4ffa43-f4d4-4723-cc5f-e268cf04b636"
      },
      "source": [
        "plot_predictions(model2b)"
      ],
      "execution_count": 22,
      "outputs": [
        {
          "output_type": "display_data",
          "data": {
            "text/html": [
              "<html>\n",
              "<head><meta charset=\"utf-8\" /></head>\n",
              "<body>\n",
              "    <div>            <script src=\"https://cdnjs.cloudflare.com/ajax/libs/mathjax/2.7.5/MathJax.js?config=TeX-AMS-MML_SVG\"></script><script type=\"text/javascript\">if (window.MathJax) {MathJax.Hub.Config({SVG: {font: \"STIX-Web\"}});}</script>                <script type=\"text/javascript\">window.PlotlyConfig = {MathJaxConfig: 'local'};</script>\n",
              "        <script src=\"https://cdn.plot.ly/plotly-2.6.3.min.js\"></script>                <div id=\"7852e7be-c610-47cd-bcfd-8eca5f92bbe7\" class=\"plotly-graph-div\" style=\"height:525px; width:100%;\"></div>            <script type=\"text/javascript\">                                    window.PLOTLYENV=window.PLOTLYENV || {};                                    if (document.getElementById(\"7852e7be-c610-47cd-bcfd-8eca5f92bbe7\")) {                    Plotly.newPlot(                        \"7852e7be-c610-47cd-bcfd-8eca5f92bbe7\",                        [{\"line\":{\"color\":\"#1f77b4\"},\"marker\":{\"size\":5},\"mode\":\"lines+markers\",\"name\":\"Forecast | ARIMA\",\"showlegend\":true,\"x\":[310,311,312,313,314,315,316,317,318,319,320,321,322,323,324,325,326,327,328,329,330,331,332,333,334,335,336,337,338,339],\"y\":[264.4878,265.341,266.1942,267.0473,267.9005,268.7537,269.6069,270.4601,271.3133,272.1665,273.0196,273.8728,274.726,275.5792,276.4324,277.2856,278.1388,278.992,279.8451,280.6983,281.5515,282.4047,283.2579,284.1111,284.9643,285.8174,286.6706,287.5238,288.377,289.2302],\"type\":\"scatter\"},{\"line\":{\"width\":0},\"marker\":{\"color\":\"#68BBE3\"},\"mode\":\"lines\",\"name\":\"Lower Interval\",\"showlegend\":false,\"x\":[310,311,312,313,314,315,316,317,318,319,320,321,322,323,324,325,326,327,328,329,330,331,332,333,334,335,336,337,338,339],\"y\":[91.6344,92.4876,93.3408,94.194,95.0472,95.9003,96.7535,97.6067,98.4599,99.3131,100.1663,101.0195,101.8726,102.7258,103.579,104.4322,105.2854,106.1386,106.9918,107.845,108.6981,109.5513,110.4045,111.2577,112.1109,112.9641,113.8173,114.6704,115.5236,116.3768],\"type\":\"scatter\"},{\"fill\":\"tonexty\",\"fillcolor\":\"rgba(104,187,227,0.5)\",\"line\":{\"width\":0},\"marker\":{\"color\":\"#68BBE3\"},\"mode\":\"lines\",\"name\":\"Prediction Interval | ARIMA\",\"showlegend\":true,\"x\":[310,311,312,313,314,315,316,317,318,319,320,321,322,323,324,325,326,327,328,329,330,331,332,333,334,335,336,337,338,339],\"y\":[437.3412,438.1943,439.0475,439.9007,440.7539,441.6071,442.4603,443.3135,444.1666,445.0198,445.873,446.7262,447.5794,448.4326,449.2858,450.139,450.9921,451.8453,452.6985,453.5517,454.4049,455.2581,456.1113,456.9644,457.8176,458.6708,459.524,460.3772,461.2304,462.0836],\"type\":\"scatter\"},{\"marker\":{\"color\":\"#3f3f3f\",\"size\":5},\"mode\":\"lines+markers\",\"name\":\"Original\",\"showlegend\":true,\"x\":[0,1,2,3,4,5,6,7,8,9,10,11,12,13,14,15,16,17,18,19,20,21,22,23,24,25,26,27,28,29,30,31,32,33,34,35,36,37,38,39,40,41,42,43,44,45,46,47,48,49,50,51,52,53,54,55,56,57,58,59,60,61,62,63,64,65,66,67,68,69,70,71,72,73,74,75,76,77,78,79,80,81,82,83,84,85,86,87,88,89,90,91,92,93,94,95,96,97,98,99,100,101,102,103,104,105,106,107,108,109,110,111,112,113,114,115,116,117,118,119,120,121,122,123,124,125,126,127,128,129,130,131,132,133,134,135,136,137,138,139,140,141,142,143,144,145,146,147,148,149,150,151,152,153,154,155,156,157,158,159,160,161,162,163,164,165,166,167,168,169,170,171,172,173,174,175,176,177,178,179,180,181,182,183,184,185,186,187,188,189,190,191,192,193,194,195,196,197,198,199,200,201,202,203,204,205,206,207,208,209,210,211,212,213,214,215,216,217,218,219,220,221,222,223,224,225,226,227,228,229,230,231,232,233,234,235,236,237,238,239,240,241,242,243,244,245,246,247,248,249,250,251,252,253,254,255,256,257,258,259,260,261,262,263,264,265,266,267,268,269,270,271,272,273,274,275,276,277,278,279,280,281,282,283,284,285,286,287,288,289,290,291,292,293,294,295,296,297,298,299,300,301,302,303,304,305,306,307,308,309,310,311,312,313,314,315,316,317,318,319,320,321,322,323,324,325,326,327,328,329,330,331,332,333,334,335,336,337,338,339],\"y\":[175.379633322776,176.04211587314398,175.089078351448,176.15802877240398,175.34541535608102,177.767287269373,176.716707476017,176.910174229495,176.384185357826,177.68217608051899,175.36426354605098,175.53835526963903,177.43228223854197,175.34930364668998,175.792619256398,175.607192070558,175.680007131452,175.72088669702302,176.494188331268,175.82266951773,175.494042537886,177.34303882516997,175.785420591453,175.820443469957,175.899809258786,176.71266630705102,175.92643559587398,175.962365828533,175.318339521244,175.67572972775397,176.060160440435,175.41110551374,176.53149619263303,174.481605918213,176.30655786078998,174.46355017646198,175.699023873163,175.471720095555,175.347905219319,175.943103222153,174.08564057432,177.176583312019,174.335027563788,175.536469598528,174.884079894957,175.249180998807,178.087166545628,176.017395619693,174.713699469566,174.359394465581,176.450187101273,175.981440167285,175.681931625456,175.070637852546,174.512539689859,174.924807703384,177.000028803714,175.378733305203,174.615573152615,177.86929062242402,176.42510037737202,175.761352899087,177.05848304870898,176.886422651375,175.380756951769,178.20610246453998,175.74497296985902,174.575505349787,175.855600398046,176.20753833923197,178.30797839905898,176.10580236789397,176.456998805423,175.92284706464298,175.66599915763302,175.965273971689,176.78763960563,178.075245008652,177.027392438764,177.207908398387,174.768676578442,176.983895570053,176.219924803661,174.53274997090801,176.521022742648,175.841245395284,177.46458731196998,175.23391800039502,175.56978824607103,175.073890502623,175.82289603856302,176.402011779486,175.26825182688,176.83037316798197,174.791917213696,174.952015587192,177.441157706844,174.98415253469503,176.411974712318,175.618923948891,176.409401839651,177.688873286204,177.586588433442,175.66909219931702,173.714764464708,178.497661589834,176.66706616676498,176.541327335964,175.986600476854,176.51010842295298,175.83562416823003,176.42069464325502,175.59975325602198,174.629792122453,176.98783826745498,177.5197450255,175.691259430774,174.746710244392,176.642241305678,175.955290863106,174.266781593175,176.00213185968002,175.369699666072,175.65903142014,174.84342763736402,177.803141907917,175.66886796360902,174.394486587747,176.19719343873902,176.263175646405,175.014173299591,173.11107932832002,175.359518297435,176.57050763592,175.940276723957,175.90182125599497,176.56082072862,174.81354136142102,177.09677704427398,175.99465597172198,176.707310667398,177.034107734737,176.223480414915,175.12129238713402,177.162964555967,173.999835055215,175.455209259998,175.744329290843,175.833878963235,177.020463908784,176.136221893103,176.407167603424,175.930345186987,175.752335658381,176.69555080662,177.146228357216,173.596903785108,176.57273955524602,176.374724406779,175.57473227844397,176.95101280757703,175.610762818282,175.7156693382,176.85740977807998,177.71962729912102,176.270054900937,175.57781599021197,174.81088670514,175.66896702112098,175.06017067348998,175.74106741688098,176.394379168222,175.148142907976,178.649166881095,176.156011675665,177.13020726745498,173.71087602016001,176.741001157195,174.683754839548,176.919803677609,176.398130155452,175.59247142073002,177.324258630177,175.29876833075298,175.41938569575902,174.99892781897498,175.331821393247,176.945184953373,176.43370214954498,177.005159217677,175.609881335946,176.376370291775,176.244164924486,174.573742657617,177.778429287475,176.134447660934,176.765598999158,176.95513667690898,175.949434298558,175.694184580233,176.89367370242599,174.95270185093898,177.97133738622398,175.616367893712,177.654145302275,177.512212693951,176.082965733586,176.567220914852,174.975451520466,176.32300650302201,177.04361245835602,176.099078486897,175.54586309084598,175.34421814755,175.96407757737703,177.06916146067698,175.51602506969897,175.87898988867298,174.70585999617902,176.494312836015,177.30790152011397,177.497041009403,176.81470273089698,174.13021120979698,176.482029504124,176.45613560330102,175.64659971417,176.17048947094798,175.13596404587298,176.679230774016,175.672898985347,174.430917814856,175.63254924383,177.36443492906997,175.665718635269,176.732750042209,176.94658564019798,176.00439870432598,175.64767769445,175.470304490866,176.739589225575,174.93654258451699,176.246210843536,175.710500633436,173.735110643512,174.591149543927,176.916019328793,175.808721049465,176.803283216134,177.887474463309,177.47388118110902,176.677268492313,176.379962686567,175.807201573543,177.577891794904,176.596234109318,174.82642305912898,175.84435746511002,174.08109017972998,175.804741153889,173.40767233005403,177.314002167198,175.36445699896802,175.570021161306,175.83068166769797,176.612218173989,176.67834017722302,176.567951972472,175.42745739607398,174.636708743722,175.611277755662,176.27791413245097,175.176918878428,175.931159065522,174.83233767387,175.991690985784,176.12885540159698,175.854124371539,175.836089043264,177.763552002785,176.76258651241798,177.11143108073102,175.07679304716999,176.16434183842802,177.154825187097,175.94347857547402,173.870639351765,176.344845762099,174.095044554414,175.18882984686002,177.3240043213,176.61563684930303,177.091668955535,176.30660486151402,175.889841237517,175.07568722687301,177.592913753719,176.045010598122,175.284871599332,176.86522309971699,177.07444095827802,177.895654774199,175.397002696395,175.609132179277,175.58377796847,175.62434257718002,175.633369054298,175.704322547299,177.4418204102,175.302461708087,175.611832494079,176.652536452172,177.124772446535,175.227889196976,175.491913783862,176.523620590498,177.01775422653802,175.748835411912,174.570006552611,177.709121032101,177.43506957231202,175.28962885415,175.934932426344,174.24053126463403,176.569722971819,177.61234679820203,174.362719352895,175.220431486798,175.35882306624902,175.318868606429,173.96671440438203,176.50096355924802,174.468201860034,175.97500236072202,176.592984721025,175.801804578515,176.892008392474,175.974284929082,175.35233954941398,176.64635941503502],\"type\":\"scatter\"}],                        {\"title\":{\"text\":\"Actual vs. 'Out-of-Sample' Forecast | x\"},\"xaxis\":{\"title\":{\"text\":\"Time\"}},\"yaxis\":{\"title\":{\"text\":\"Values\"}},\"template\":{\"data\":{\"barpolar\":[{\"marker\":{\"line\":{\"color\":\"rgb(237,237,237)\",\"width\":0.5},\"pattern\":{\"fillmode\":\"overlay\",\"size\":10,\"solidity\":0.2}},\"type\":\"barpolar\"}],\"bar\":[{\"error_x\":{\"color\":\"rgb(51,51,51)\"},\"error_y\":{\"color\":\"rgb(51,51,51)\"},\"marker\":{\"line\":{\"color\":\"rgb(237,237,237)\",\"width\":0.5},\"pattern\":{\"fillmode\":\"overlay\",\"size\":10,\"solidity\":0.2}},\"type\":\"bar\"}],\"carpet\":[{\"aaxis\":{\"endlinecolor\":\"rgb(51,51,51)\",\"gridcolor\":\"white\",\"linecolor\":\"white\",\"minorgridcolor\":\"white\",\"startlinecolor\":\"rgb(51,51,51)\"},\"baxis\":{\"endlinecolor\":\"rgb(51,51,51)\",\"gridcolor\":\"white\",\"linecolor\":\"white\",\"minorgridcolor\":\"white\",\"startlinecolor\":\"rgb(51,51,51)\"},\"type\":\"carpet\"}],\"choropleth\":[{\"colorbar\":{\"outlinewidth\":0,\"tickcolor\":\"rgb(237,237,237)\",\"ticklen\":6,\"ticks\":\"inside\"},\"type\":\"choropleth\"}],\"contourcarpet\":[{\"colorbar\":{\"outlinewidth\":0,\"tickcolor\":\"rgb(237,237,237)\",\"ticklen\":6,\"ticks\":\"inside\"},\"type\":\"contourcarpet\"}],\"contour\":[{\"colorbar\":{\"outlinewidth\":0,\"tickcolor\":\"rgb(237,237,237)\",\"ticklen\":6,\"ticks\":\"inside\"},\"colorscale\":[[0,\"rgb(20,44,66)\"],[1,\"rgb(90,179,244)\"]],\"type\":\"contour\"}],\"heatmapgl\":[{\"colorbar\":{\"outlinewidth\":0,\"tickcolor\":\"rgb(237,237,237)\",\"ticklen\":6,\"ticks\":\"inside\"},\"colorscale\":[[0,\"rgb(20,44,66)\"],[1,\"rgb(90,179,244)\"]],\"type\":\"heatmapgl\"}],\"heatmap\":[{\"colorbar\":{\"outlinewidth\":0,\"tickcolor\":\"rgb(237,237,237)\",\"ticklen\":6,\"ticks\":\"inside\"},\"colorscale\":[[0,\"rgb(20,44,66)\"],[1,\"rgb(90,179,244)\"]],\"type\":\"heatmap\"}],\"histogram2dcontour\":[{\"colorbar\":{\"outlinewidth\":0,\"tickcolor\":\"rgb(237,237,237)\",\"ticklen\":6,\"ticks\":\"inside\"},\"colorscale\":[[0,\"rgb(20,44,66)\"],[1,\"rgb(90,179,244)\"]],\"type\":\"histogram2dcontour\"}],\"histogram2d\":[{\"colorbar\":{\"outlinewidth\":0,\"tickcolor\":\"rgb(237,237,237)\",\"ticklen\":6,\"ticks\":\"inside\"},\"colorscale\":[[0,\"rgb(20,44,66)\"],[1,\"rgb(90,179,244)\"]],\"type\":\"histogram2d\"}],\"histogram\":[{\"marker\":{\"pattern\":{\"fillmode\":\"overlay\",\"size\":10,\"solidity\":0.2}},\"type\":\"histogram\"}],\"mesh3d\":[{\"colorbar\":{\"outlinewidth\":0,\"tickcolor\":\"rgb(237,237,237)\",\"ticklen\":6,\"ticks\":\"inside\"},\"type\":\"mesh3d\"}],\"parcoords\":[{\"line\":{\"colorbar\":{\"outlinewidth\":0,\"tickcolor\":\"rgb(237,237,237)\",\"ticklen\":6,\"ticks\":\"inside\"}},\"type\":\"parcoords\"}],\"pie\":[{\"automargin\":true,\"type\":\"pie\"}],\"scatter3d\":[{\"line\":{\"colorbar\":{\"outlinewidth\":0,\"tickcolor\":\"rgb(237,237,237)\",\"ticklen\":6,\"ticks\":\"inside\"}},\"marker\":{\"colorbar\":{\"outlinewidth\":0,\"tickcolor\":\"rgb(237,237,237)\",\"ticklen\":6,\"ticks\":\"inside\"}},\"type\":\"scatter3d\"}],\"scattercarpet\":[{\"marker\":{\"colorbar\":{\"outlinewidth\":0,\"tickcolor\":\"rgb(237,237,237)\",\"ticklen\":6,\"ticks\":\"inside\"}},\"type\":\"scattercarpet\"}],\"scattergeo\":[{\"marker\":{\"colorbar\":{\"outlinewidth\":0,\"tickcolor\":\"rgb(237,237,237)\",\"ticklen\":6,\"ticks\":\"inside\"}},\"type\":\"scattergeo\"}],\"scattergl\":[{\"marker\":{\"colorbar\":{\"outlinewidth\":0,\"tickcolor\":\"rgb(237,237,237)\",\"ticklen\":6,\"ticks\":\"inside\"}},\"type\":\"scattergl\"}],\"scattermapbox\":[{\"marker\":{\"colorbar\":{\"outlinewidth\":0,\"tickcolor\":\"rgb(237,237,237)\",\"ticklen\":6,\"ticks\":\"inside\"}},\"type\":\"scattermapbox\"}],\"scatterpolargl\":[{\"marker\":{\"colorbar\":{\"outlinewidth\":0,\"tickcolor\":\"rgb(237,237,237)\",\"ticklen\":6,\"ticks\":\"inside\"}},\"type\":\"scatterpolargl\"}],\"scatterpolar\":[{\"marker\":{\"colorbar\":{\"outlinewidth\":0,\"tickcolor\":\"rgb(237,237,237)\",\"ticklen\":6,\"ticks\":\"inside\"}},\"type\":\"scatterpolar\"}],\"scatter\":[{\"marker\":{\"colorbar\":{\"outlinewidth\":0,\"tickcolor\":\"rgb(237,237,237)\",\"ticklen\":6,\"ticks\":\"inside\"}},\"type\":\"scatter\"}],\"scatterternary\":[{\"marker\":{\"colorbar\":{\"outlinewidth\":0,\"tickcolor\":\"rgb(237,237,237)\",\"ticklen\":6,\"ticks\":\"inside\"}},\"type\":\"scatterternary\"}],\"surface\":[{\"colorbar\":{\"outlinewidth\":0,\"tickcolor\":\"rgb(237,237,237)\",\"ticklen\":6,\"ticks\":\"inside\"},\"colorscale\":[[0,\"rgb(20,44,66)\"],[1,\"rgb(90,179,244)\"]],\"type\":\"surface\"}],\"table\":[{\"cells\":{\"fill\":{\"color\":\"rgb(237,237,237)\"},\"line\":{\"color\":\"white\"}},\"header\":{\"fill\":{\"color\":\"rgb(217,217,217)\"},\"line\":{\"color\":\"white\"}},\"type\":\"table\"}]},\"layout\":{\"annotationdefaults\":{\"arrowhead\":0,\"arrowwidth\":1},\"autotypenumbers\":\"strict\",\"coloraxis\":{\"colorbar\":{\"outlinewidth\":0,\"tickcolor\":\"rgb(237,237,237)\",\"ticklen\":6,\"ticks\":\"inside\"}},\"colorscale\":{\"sequential\":[[0,\"rgb(20,44,66)\"],[1,\"rgb(90,179,244)\"]],\"sequentialminus\":[[0,\"rgb(20,44,66)\"],[1,\"rgb(90,179,244)\"]]},\"colorway\":[\"#F8766D\",\"#A3A500\",\"#00BF7D\",\"#00B0F6\",\"#E76BF3\"],\"font\":{\"color\":\"rgb(51,51,51)\"},\"geo\":{\"bgcolor\":\"white\",\"lakecolor\":\"white\",\"landcolor\":\"rgb(237,237,237)\",\"showlakes\":true,\"showland\":true,\"subunitcolor\":\"white\"},\"hoverlabel\":{\"align\":\"left\"},\"hovermode\":\"closest\",\"paper_bgcolor\":\"white\",\"plot_bgcolor\":\"rgb(237,237,237)\",\"polar\":{\"angularaxis\":{\"gridcolor\":\"white\",\"linecolor\":\"white\",\"showgrid\":true,\"tickcolor\":\"rgb(51,51,51)\",\"ticks\":\"outside\"},\"bgcolor\":\"rgb(237,237,237)\",\"radialaxis\":{\"gridcolor\":\"white\",\"linecolor\":\"white\",\"showgrid\":true,\"tickcolor\":\"rgb(51,51,51)\",\"ticks\":\"outside\"}},\"scene\":{\"xaxis\":{\"backgroundcolor\":\"rgb(237,237,237)\",\"gridcolor\":\"white\",\"gridwidth\":2,\"linecolor\":\"white\",\"showbackground\":true,\"showgrid\":true,\"tickcolor\":\"rgb(51,51,51)\",\"ticks\":\"outside\",\"zerolinecolor\":\"white\"},\"yaxis\":{\"backgroundcolor\":\"rgb(237,237,237)\",\"gridcolor\":\"white\",\"gridwidth\":2,\"linecolor\":\"white\",\"showbackground\":true,\"showgrid\":true,\"tickcolor\":\"rgb(51,51,51)\",\"ticks\":\"outside\",\"zerolinecolor\":\"white\"},\"zaxis\":{\"backgroundcolor\":\"rgb(237,237,237)\",\"gridcolor\":\"white\",\"gridwidth\":2,\"linecolor\":\"white\",\"showbackground\":true,\"showgrid\":true,\"tickcolor\":\"rgb(51,51,51)\",\"ticks\":\"outside\",\"zerolinecolor\":\"white\"}},\"shapedefaults\":{\"fillcolor\":\"black\",\"line\":{\"width\":0},\"opacity\":0.3},\"ternary\":{\"aaxis\":{\"gridcolor\":\"white\",\"linecolor\":\"white\",\"showgrid\":true,\"tickcolor\":\"rgb(51,51,51)\",\"ticks\":\"outside\"},\"baxis\":{\"gridcolor\":\"white\",\"linecolor\":\"white\",\"showgrid\":true,\"tickcolor\":\"rgb(51,51,51)\",\"ticks\":\"outside\"},\"bgcolor\":\"rgb(237,237,237)\",\"caxis\":{\"gridcolor\":\"white\",\"linecolor\":\"white\",\"showgrid\":true,\"tickcolor\":\"rgb(51,51,51)\",\"ticks\":\"outside\"}},\"xaxis\":{\"automargin\":true,\"gridcolor\":\"white\",\"linecolor\":\"white\",\"showgrid\":true,\"tickcolor\":\"rgb(51,51,51)\",\"ticks\":\"outside\",\"title\":{\"standoff\":15},\"zerolinecolor\":\"white\"},\"yaxis\":{\"automargin\":true,\"gridcolor\":\"white\",\"linecolor\":\"white\",\"showgrid\":true,\"tickcolor\":\"rgb(51,51,51)\",\"ticks\":\"outside\",\"title\":{\"standoff\":15},\"zerolinecolor\":\"white\"}}},\"showlegend\":true},                        {\"responsive\": true}                    ).then(function(){\n",
              "                            \n",
              "var gd = document.getElementById('7852e7be-c610-47cd-bcfd-8eca5f92bbe7');\n",
              "var x = new MutationObserver(function (mutations, observer) {{\n",
              "        var display = window.getComputedStyle(gd).display;\n",
              "        if (!display || display === 'none') {{\n",
              "            console.log([gd, 'removed!']);\n",
              "            Plotly.purge(gd);\n",
              "            observer.disconnect();\n",
              "        }}\n",
              "}});\n",
              "\n",
              "// Listen for the removal of the full notebook cells\n",
              "var notebookContainer = gd.closest('#notebook-container');\n",
              "if (notebookContainer) {{\n",
              "    x.observe(notebookContainer, {childList: true});\n",
              "}}\n",
              "\n",
              "// Listen for the clearing of the current output cell\n",
              "var outputEl = gd.closest('.output');\n",
              "if (outputEl) {{\n",
              "    x.observe(outputEl, {childList: true});\n",
              "}}\n",
              "\n",
              "                        })                };                            </script>        </div>\n",
              "</body>\n",
              "</html>"
            ]
          },
          "metadata": {}
        },
        {
          "output_type": "display_data",
          "data": {
            "text/html": [
              "<html>\n",
              "<head><meta charset=\"utf-8\" /></head>\n",
              "<body>\n",
              "    <div>            <script src=\"https://cdnjs.cloudflare.com/ajax/libs/mathjax/2.7.5/MathJax.js?config=TeX-AMS-MML_SVG\"></script><script type=\"text/javascript\">if (window.MathJax) {MathJax.Hub.Config({SVG: {font: \"STIX-Web\"}});}</script>                <script type=\"text/javascript\">window.PlotlyConfig = {MathJaxConfig: 'local'};</script>\n",
              "        <script src=\"https://cdn.plot.ly/plotly-2.6.3.min.js\"></script>                <div id=\"fa3e25ea-ff36-45b2-8b18-a88db422593a\" class=\"plotly-graph-div\" style=\"height:525px; width:100%;\"></div>            <script type=\"text/javascript\">                                    window.PLOTLYENV=window.PLOTLYENV || {};                                    if (document.getElementById(\"fa3e25ea-ff36-45b2-8b18-a88db422593a\")) {                    Plotly.newPlot(                        \"fa3e25ea-ff36-45b2-8b18-a88db422593a\",                        [{\"line\":{\"color\":\"#1f77b4\"},\"marker\":{\"size\":5},\"mode\":\"lines+markers\",\"name\":\"Forecast | ARIMA\",\"showlegend\":true,\"x\":[0,1,2,3,4,5,6,7,8,9,10,11,12,13,14,15,16,17,18,19,20,21,22,23,24,25,26,27,28,29,30,31,32,33,34,35,36,37,38,39,40,41,42,43,44,45,46,47,48,49,50,51,52,53,54,55,56,57,58,59,60,61,62,63,64,65,66,67,68,69,70,71,72,73,74,75,76,77,78,79,80,81,82,83,84,85,86,87,88,89,90,91,92,93,94,95,96,97,98,99,100,101,102,103,104,105,106,107,108,109,110,111,112,113,114,115,116,117,118,119,120,121,122,123,124,125,126,127,128,129,130,131,132,133,134,135,136,137,138,139,140,141,142,143,144,145,146,147,148,149,150,151,152,153,154,155,156,157,158,159,160,161,162,163,164,165,166,167,168,169,170,171,172,173,174,175,176,177,178,179,180,181,182,183,184,185,186,187,188,189,190,191,192,193,194,195,196,197,198,199,200,201,202,203,204,205,206,207,208,209,210,211,212,213,214,215,216,217,218,219,220,221,222,223,224,225,226,227,228,229,230,231,232,233,234,235,236,237,238,239,240,241,242,243,244,245,246,247,248,249,250,251,252,253,254,255,256,257,258,259,260,261,262,263,264,265,266,267,268,269,270,271,272,273,274,275,276,277,278,279,280,281,282,283,284,285,286,287,288,289,290,291,292,293,294,295,296,297,298,299,300,301,302,303,304,305,306,307,308,309],\"y\":[0.8532,0.8532,1.7064,2.5596,3.4127,4.2659,5.1191,5.9723,6.8255,7.6787,8.5319,9.3851,10.2382,11.0914,11.9446,12.7978,13.651,14.5042,15.3574,16.2105,17.0637,17.9169,18.7701,19.6233,20.4765,21.3297,22.1828,23.036,23.8892,24.7424,25.5956,26.4488,27.302,28.1552,29.0083,29.8615,30.7147,31.5679,32.4211,33.2743,34.1275,34.9806,35.8338,36.687,37.5402,38.3934,39.2466,40.0998,40.9529,41.8061,42.6593,43.5125,44.3657,45.2189,46.0721,46.9253,47.7784,48.6316,49.4848,50.338,51.1912,52.0444,52.8976,53.7507,54.6039,55.4571,56.3103,57.1635,58.0167,58.8699,59.723,60.5762,61.4294,62.2826,63.1358,63.989,64.8422,65.6954,66.5485,67.4017,68.2549,69.1081,69.9613,70.8145,71.6677,72.5208,73.374,74.2272,75.0804,75.9336,76.7868,77.64,78.4931,79.3463,80.1995,81.0527,81.9059,82.7591,83.6123,84.4655,85.3186,86.1718,87.025,87.8782,88.7314,89.5846,90.4378,91.2909,92.1441,92.9973,93.8505,94.7037,95.5569,96.4101,97.2632,98.1164,98.9696,99.8228,100.676,101.5292,102.3824,103.2356,104.0887,104.9419,105.7951,106.6483,107.5015,108.3547,109.2079,110.061,110.9142,111.7674,112.6206,113.4738,114.327,115.1802,116.0333,116.8865,117.7397,118.5929,119.4461,120.2993,121.1525,122.0057,122.8588,123.712,124.5652,125.4184,126.2716,127.1248,127.978,128.8311,129.6843,130.5375,131.3907,132.2439,133.0971,133.9503,134.8035,135.6566,136.5098,137.363,138.2162,139.0694,139.9226,140.7758,141.6289,142.4821,143.3353,144.1885,145.0417,145.8949,146.7481,147.6012,148.4544,149.3076,150.1608,151.014,151.8672,152.7204,153.5736,154.4267,155.2799,156.1331,156.9863,157.8395,158.6927,159.5459,160.399,161.2522,162.1054,162.9586,163.8118,164.665,165.5182,166.3713,167.2245,168.0777,168.9309,169.7841,170.6373,171.4905,172.3437,173.1968,174.05,174.9032,175.7564,176.6096,177.4628,178.316,179.1691,180.0223,180.8755,181.7287,182.5819,183.4351,184.2883,185.1414,185.9946,186.8478,187.701,188.5542,189.4074,190.2606,191.1138,191.9669,192.8201,193.6733,194.5265,195.3797,196.2329,197.0861,197.9392,198.7924,199.6456,200.4988,201.352,202.2052,203.0584,203.9115,204.7647,205.6179,206.4711,207.3243,208.1775,209.0307,209.8839,210.737,211.5902,212.4434,213.2966,214.1498,215.003,215.8562,216.7093,217.5625,218.4157,219.2689,220.1221,220.9753,221.8285,222.6816,223.5348,224.388,225.2412,226.0944,226.9476,227.8008,228.654,229.5071,230.3603,231.2135,232.0667,232.9199,233.7731,234.6263,235.4794,236.3326,237.1858,238.039,238.8922,239.7454,240.5986,241.4518,242.3049,243.1581,244.0113,244.8645,245.7177,246.5709,247.4241,248.2772,249.1304,249.9836,250.8368,251.69,252.5432,253.3964,254.2495,255.1027,255.9559,256.8091,257.6623,258.5155,259.3687,260.2219,261.075,261.9282,262.7814,263.6346],\"type\":\"scatter\"},{\"marker\":{\"color\":\"#3f3f3f\",\"size\":5},\"mode\":\"lines+markers\",\"name\":\"Original\",\"showlegend\":true,\"x\":[0,1,2,3,4,5,6,7,8,9,10,11,12,13,14,15,16,17,18,19,20,21,22,23,24,25,26,27,28,29,30,31,32,33,34,35,36,37,38,39,40,41,42,43,44,45,46,47,48,49,50,51,52,53,54,55,56,57,58,59,60,61,62,63,64,65,66,67,68,69,70,71,72,73,74,75,76,77,78,79,80,81,82,83,84,85,86,87,88,89,90,91,92,93,94,95,96,97,98,99,100,101,102,103,104,105,106,107,108,109,110,111,112,113,114,115,116,117,118,119,120,121,122,123,124,125,126,127,128,129,130,131,132,133,134,135,136,137,138,139,140,141,142,143,144,145,146,147,148,149,150,151,152,153,154,155,156,157,158,159,160,161,162,163,164,165,166,167,168,169,170,171,172,173,174,175,176,177,178,179,180,181,182,183,184,185,186,187,188,189,190,191,192,193,194,195,196,197,198,199,200,201,202,203,204,205,206,207,208,209,210,211,212,213,214,215,216,217,218,219,220,221,222,223,224,225,226,227,228,229,230,231,232,233,234,235,236,237,238,239,240,241,242,243,244,245,246,247,248,249,250,251,252,253,254,255,256,257,258,259,260,261,262,263,264,265,266,267,268,269,270,271,272,273,274,275,276,277,278,279,280,281,282,283,284,285,286,287,288,289,290,291,292,293,294,295,296,297,298,299,300,301,302,303,304,305,306,307,308,309,310,311,312,313,314,315,316,317,318,319,320,321,322,323,324,325,326,327,328,329,330,331,332,333,334,335,336,337,338,339],\"y\":[175.379633322776,176.04211587314398,175.089078351448,176.15802877240398,175.34541535608102,177.767287269373,176.716707476017,176.910174229495,176.384185357826,177.68217608051899,175.36426354605098,175.53835526963903,177.43228223854197,175.34930364668998,175.792619256398,175.607192070558,175.680007131452,175.72088669702302,176.494188331268,175.82266951773,175.494042537886,177.34303882516997,175.785420591453,175.820443469957,175.899809258786,176.71266630705102,175.92643559587398,175.962365828533,175.318339521244,175.67572972775397,176.060160440435,175.41110551374,176.53149619263303,174.481605918213,176.30655786078998,174.46355017646198,175.699023873163,175.471720095555,175.347905219319,175.943103222153,174.08564057432,177.176583312019,174.335027563788,175.536469598528,174.884079894957,175.249180998807,178.087166545628,176.017395619693,174.713699469566,174.359394465581,176.450187101273,175.981440167285,175.681931625456,175.070637852546,174.512539689859,174.924807703384,177.000028803714,175.378733305203,174.615573152615,177.86929062242402,176.42510037737202,175.761352899087,177.05848304870898,176.886422651375,175.380756951769,178.20610246453998,175.74497296985902,174.575505349787,175.855600398046,176.20753833923197,178.30797839905898,176.10580236789397,176.456998805423,175.92284706464298,175.66599915763302,175.965273971689,176.78763960563,178.075245008652,177.027392438764,177.207908398387,174.768676578442,176.983895570053,176.219924803661,174.53274997090801,176.521022742648,175.841245395284,177.46458731196998,175.23391800039502,175.56978824607103,175.073890502623,175.82289603856302,176.402011779486,175.26825182688,176.83037316798197,174.791917213696,174.952015587192,177.441157706844,174.98415253469503,176.411974712318,175.618923948891,176.409401839651,177.688873286204,177.586588433442,175.66909219931702,173.714764464708,178.497661589834,176.66706616676498,176.541327335964,175.986600476854,176.51010842295298,175.83562416823003,176.42069464325502,175.59975325602198,174.629792122453,176.98783826745498,177.5197450255,175.691259430774,174.746710244392,176.642241305678,175.955290863106,174.266781593175,176.00213185968002,175.369699666072,175.65903142014,174.84342763736402,177.803141907917,175.66886796360902,174.394486587747,176.19719343873902,176.263175646405,175.014173299591,173.11107932832002,175.359518297435,176.57050763592,175.940276723957,175.90182125599497,176.56082072862,174.81354136142102,177.09677704427398,175.99465597172198,176.707310667398,177.034107734737,176.223480414915,175.12129238713402,177.162964555967,173.999835055215,175.455209259998,175.744329290843,175.833878963235,177.020463908784,176.136221893103,176.407167603424,175.930345186987,175.752335658381,176.69555080662,177.146228357216,173.596903785108,176.57273955524602,176.374724406779,175.57473227844397,176.95101280757703,175.610762818282,175.7156693382,176.85740977807998,177.71962729912102,176.270054900937,175.57781599021197,174.81088670514,175.66896702112098,175.06017067348998,175.74106741688098,176.394379168222,175.148142907976,178.649166881095,176.156011675665,177.13020726745498,173.71087602016001,176.741001157195,174.683754839548,176.919803677609,176.398130155452,175.59247142073002,177.324258630177,175.29876833075298,175.41938569575902,174.99892781897498,175.331821393247,176.945184953373,176.43370214954498,177.005159217677,175.609881335946,176.376370291775,176.244164924486,174.573742657617,177.778429287475,176.134447660934,176.765598999158,176.95513667690898,175.949434298558,175.694184580233,176.89367370242599,174.95270185093898,177.97133738622398,175.616367893712,177.654145302275,177.512212693951,176.082965733586,176.567220914852,174.975451520466,176.32300650302201,177.04361245835602,176.099078486897,175.54586309084598,175.34421814755,175.96407757737703,177.06916146067698,175.51602506969897,175.87898988867298,174.70585999617902,176.494312836015,177.30790152011397,177.497041009403,176.81470273089698,174.13021120979698,176.482029504124,176.45613560330102,175.64659971417,176.17048947094798,175.13596404587298,176.679230774016,175.672898985347,174.430917814856,175.63254924383,177.36443492906997,175.665718635269,176.732750042209,176.94658564019798,176.00439870432598,175.64767769445,175.470304490866,176.739589225575,174.93654258451699,176.246210843536,175.710500633436,173.735110643512,174.591149543927,176.916019328793,175.808721049465,176.803283216134,177.887474463309,177.47388118110902,176.677268492313,176.379962686567,175.807201573543,177.577891794904,176.596234109318,174.82642305912898,175.84435746511002,174.08109017972998,175.804741153889,173.40767233005403,177.314002167198,175.36445699896802,175.570021161306,175.83068166769797,176.612218173989,176.67834017722302,176.567951972472,175.42745739607398,174.636708743722,175.611277755662,176.27791413245097,175.176918878428,175.931159065522,174.83233767387,175.991690985784,176.12885540159698,175.854124371539,175.836089043264,177.763552002785,176.76258651241798,177.11143108073102,175.07679304716999,176.16434183842802,177.154825187097,175.94347857547402,173.870639351765,176.344845762099,174.095044554414,175.18882984686002,177.3240043213,176.61563684930303,177.091668955535,176.30660486151402,175.889841237517,175.07568722687301,177.592913753719,176.045010598122,175.284871599332,176.86522309971699,177.07444095827802,177.895654774199,175.397002696395,175.609132179277,175.58377796847,175.62434257718002,175.633369054298,175.704322547299,177.4418204102,175.302461708087,175.611832494079,176.652536452172,177.124772446535,175.227889196976,175.491913783862,176.523620590498,177.01775422653802,175.748835411912,174.570006552611,177.709121032101,177.43506957231202,175.28962885415,175.934932426344,174.24053126463403,176.569722971819,177.61234679820203,174.362719352895,175.220431486798,175.35882306624902,175.318868606429,173.96671440438203,176.50096355924802,174.468201860034,175.97500236072202,176.592984721025,175.801804578515,176.892008392474,175.974284929082,175.35233954941398,176.64635941503502],\"type\":\"scatter\"}],                        {\"title\":{\"text\":\"Actual vs. 'In-Sample' Forecast | x\"},\"xaxis\":{\"title\":{\"text\":\"Time\"}},\"yaxis\":{\"title\":{\"text\":\"Values\"}},\"template\":{\"data\":{\"barpolar\":[{\"marker\":{\"line\":{\"color\":\"rgb(237,237,237)\",\"width\":0.5},\"pattern\":{\"fillmode\":\"overlay\",\"size\":10,\"solidity\":0.2}},\"type\":\"barpolar\"}],\"bar\":[{\"error_x\":{\"color\":\"rgb(51,51,51)\"},\"error_y\":{\"color\":\"rgb(51,51,51)\"},\"marker\":{\"line\":{\"color\":\"rgb(237,237,237)\",\"width\":0.5},\"pattern\":{\"fillmode\":\"overlay\",\"size\":10,\"solidity\":0.2}},\"type\":\"bar\"}],\"carpet\":[{\"aaxis\":{\"endlinecolor\":\"rgb(51,51,51)\",\"gridcolor\":\"white\",\"linecolor\":\"white\",\"minorgridcolor\":\"white\",\"startlinecolor\":\"rgb(51,51,51)\"},\"baxis\":{\"endlinecolor\":\"rgb(51,51,51)\",\"gridcolor\":\"white\",\"linecolor\":\"white\",\"minorgridcolor\":\"white\",\"startlinecolor\":\"rgb(51,51,51)\"},\"type\":\"carpet\"}],\"choropleth\":[{\"colorbar\":{\"outlinewidth\":0,\"tickcolor\":\"rgb(237,237,237)\",\"ticklen\":6,\"ticks\":\"inside\"},\"type\":\"choropleth\"}],\"contourcarpet\":[{\"colorbar\":{\"outlinewidth\":0,\"tickcolor\":\"rgb(237,237,237)\",\"ticklen\":6,\"ticks\":\"inside\"},\"type\":\"contourcarpet\"}],\"contour\":[{\"colorbar\":{\"outlinewidth\":0,\"tickcolor\":\"rgb(237,237,237)\",\"ticklen\":6,\"ticks\":\"inside\"},\"colorscale\":[[0,\"rgb(20,44,66)\"],[1,\"rgb(90,179,244)\"]],\"type\":\"contour\"}],\"heatmapgl\":[{\"colorbar\":{\"outlinewidth\":0,\"tickcolor\":\"rgb(237,237,237)\",\"ticklen\":6,\"ticks\":\"inside\"},\"colorscale\":[[0,\"rgb(20,44,66)\"],[1,\"rgb(90,179,244)\"]],\"type\":\"heatmapgl\"}],\"heatmap\":[{\"colorbar\":{\"outlinewidth\":0,\"tickcolor\":\"rgb(237,237,237)\",\"ticklen\":6,\"ticks\":\"inside\"},\"colorscale\":[[0,\"rgb(20,44,66)\"],[1,\"rgb(90,179,244)\"]],\"type\":\"heatmap\"}],\"histogram2dcontour\":[{\"colorbar\":{\"outlinewidth\":0,\"tickcolor\":\"rgb(237,237,237)\",\"ticklen\":6,\"ticks\":\"inside\"},\"colorscale\":[[0,\"rgb(20,44,66)\"],[1,\"rgb(90,179,244)\"]],\"type\":\"histogram2dcontour\"}],\"histogram2d\":[{\"colorbar\":{\"outlinewidth\":0,\"tickcolor\":\"rgb(237,237,237)\",\"ticklen\":6,\"ticks\":\"inside\"},\"colorscale\":[[0,\"rgb(20,44,66)\"],[1,\"rgb(90,179,244)\"]],\"type\":\"histogram2d\"}],\"histogram\":[{\"marker\":{\"pattern\":{\"fillmode\":\"overlay\",\"size\":10,\"solidity\":0.2}},\"type\":\"histogram\"}],\"mesh3d\":[{\"colorbar\":{\"outlinewidth\":0,\"tickcolor\":\"rgb(237,237,237)\",\"ticklen\":6,\"ticks\":\"inside\"},\"type\":\"mesh3d\"}],\"parcoords\":[{\"line\":{\"colorbar\":{\"outlinewidth\":0,\"tickcolor\":\"rgb(237,237,237)\",\"ticklen\":6,\"ticks\":\"inside\"}},\"type\":\"parcoords\"}],\"pie\":[{\"automargin\":true,\"type\":\"pie\"}],\"scatter3d\":[{\"line\":{\"colorbar\":{\"outlinewidth\":0,\"tickcolor\":\"rgb(237,237,237)\",\"ticklen\":6,\"ticks\":\"inside\"}},\"marker\":{\"colorbar\":{\"outlinewidth\":0,\"tickcolor\":\"rgb(237,237,237)\",\"ticklen\":6,\"ticks\":\"inside\"}},\"type\":\"scatter3d\"}],\"scattercarpet\":[{\"marker\":{\"colorbar\":{\"outlinewidth\":0,\"tickcolor\":\"rgb(237,237,237)\",\"ticklen\":6,\"ticks\":\"inside\"}},\"type\":\"scattercarpet\"}],\"scattergeo\":[{\"marker\":{\"colorbar\":{\"outlinewidth\":0,\"tickcolor\":\"rgb(237,237,237)\",\"ticklen\":6,\"ticks\":\"inside\"}},\"type\":\"scattergeo\"}],\"scattergl\":[{\"marker\":{\"colorbar\":{\"outlinewidth\":0,\"tickcolor\":\"rgb(237,237,237)\",\"ticklen\":6,\"ticks\":\"inside\"}},\"type\":\"scattergl\"}],\"scattermapbox\":[{\"marker\":{\"colorbar\":{\"outlinewidth\":0,\"tickcolor\":\"rgb(237,237,237)\",\"ticklen\":6,\"ticks\":\"inside\"}},\"type\":\"scattermapbox\"}],\"scatterpolargl\":[{\"marker\":{\"colorbar\":{\"outlinewidth\":0,\"tickcolor\":\"rgb(237,237,237)\",\"ticklen\":6,\"ticks\":\"inside\"}},\"type\":\"scatterpolargl\"}],\"scatterpolar\":[{\"marker\":{\"colorbar\":{\"outlinewidth\":0,\"tickcolor\":\"rgb(237,237,237)\",\"ticklen\":6,\"ticks\":\"inside\"}},\"type\":\"scatterpolar\"}],\"scatter\":[{\"marker\":{\"colorbar\":{\"outlinewidth\":0,\"tickcolor\":\"rgb(237,237,237)\",\"ticklen\":6,\"ticks\":\"inside\"}},\"type\":\"scatter\"}],\"scatterternary\":[{\"marker\":{\"colorbar\":{\"outlinewidth\":0,\"tickcolor\":\"rgb(237,237,237)\",\"ticklen\":6,\"ticks\":\"inside\"}},\"type\":\"scatterternary\"}],\"surface\":[{\"colorbar\":{\"outlinewidth\":0,\"tickcolor\":\"rgb(237,237,237)\",\"ticklen\":6,\"ticks\":\"inside\"},\"colorscale\":[[0,\"rgb(20,44,66)\"],[1,\"rgb(90,179,244)\"]],\"type\":\"surface\"}],\"table\":[{\"cells\":{\"fill\":{\"color\":\"rgb(237,237,237)\"},\"line\":{\"color\":\"white\"}},\"header\":{\"fill\":{\"color\":\"rgb(217,217,217)\"},\"line\":{\"color\":\"white\"}},\"type\":\"table\"}]},\"layout\":{\"annotationdefaults\":{\"arrowhead\":0,\"arrowwidth\":1},\"autotypenumbers\":\"strict\",\"coloraxis\":{\"colorbar\":{\"outlinewidth\":0,\"tickcolor\":\"rgb(237,237,237)\",\"ticklen\":6,\"ticks\":\"inside\"}},\"colorscale\":{\"sequential\":[[0,\"rgb(20,44,66)\"],[1,\"rgb(90,179,244)\"]],\"sequentialminus\":[[0,\"rgb(20,44,66)\"],[1,\"rgb(90,179,244)\"]]},\"colorway\":[\"#F8766D\",\"#A3A500\",\"#00BF7D\",\"#00B0F6\",\"#E76BF3\"],\"font\":{\"color\":\"rgb(51,51,51)\"},\"geo\":{\"bgcolor\":\"white\",\"lakecolor\":\"white\",\"landcolor\":\"rgb(237,237,237)\",\"showlakes\":true,\"showland\":true,\"subunitcolor\":\"white\"},\"hoverlabel\":{\"align\":\"left\"},\"hovermode\":\"closest\",\"paper_bgcolor\":\"white\",\"plot_bgcolor\":\"rgb(237,237,237)\",\"polar\":{\"angularaxis\":{\"gridcolor\":\"white\",\"linecolor\":\"white\",\"showgrid\":true,\"tickcolor\":\"rgb(51,51,51)\",\"ticks\":\"outside\"},\"bgcolor\":\"rgb(237,237,237)\",\"radialaxis\":{\"gridcolor\":\"white\",\"linecolor\":\"white\",\"showgrid\":true,\"tickcolor\":\"rgb(51,51,51)\",\"ticks\":\"outside\"}},\"scene\":{\"xaxis\":{\"backgroundcolor\":\"rgb(237,237,237)\",\"gridcolor\":\"white\",\"gridwidth\":2,\"linecolor\":\"white\",\"showbackground\":true,\"showgrid\":true,\"tickcolor\":\"rgb(51,51,51)\",\"ticks\":\"outside\",\"zerolinecolor\":\"white\"},\"yaxis\":{\"backgroundcolor\":\"rgb(237,237,237)\",\"gridcolor\":\"white\",\"gridwidth\":2,\"linecolor\":\"white\",\"showbackground\":true,\"showgrid\":true,\"tickcolor\":\"rgb(51,51,51)\",\"ticks\":\"outside\",\"zerolinecolor\":\"white\"},\"zaxis\":{\"backgroundcolor\":\"rgb(237,237,237)\",\"gridcolor\":\"white\",\"gridwidth\":2,\"linecolor\":\"white\",\"showbackground\":true,\"showgrid\":true,\"tickcolor\":\"rgb(51,51,51)\",\"ticks\":\"outside\",\"zerolinecolor\":\"white\"}},\"shapedefaults\":{\"fillcolor\":\"black\",\"line\":{\"width\":0},\"opacity\":0.3},\"ternary\":{\"aaxis\":{\"gridcolor\":\"white\",\"linecolor\":\"white\",\"showgrid\":true,\"tickcolor\":\"rgb(51,51,51)\",\"ticks\":\"outside\"},\"baxis\":{\"gridcolor\":\"white\",\"linecolor\":\"white\",\"showgrid\":true,\"tickcolor\":\"rgb(51,51,51)\",\"ticks\":\"outside\"},\"bgcolor\":\"rgb(237,237,237)\",\"caxis\":{\"gridcolor\":\"white\",\"linecolor\":\"white\",\"showgrid\":true,\"tickcolor\":\"rgb(51,51,51)\",\"ticks\":\"outside\"}},\"xaxis\":{\"automargin\":true,\"gridcolor\":\"white\",\"linecolor\":\"white\",\"showgrid\":true,\"tickcolor\":\"rgb(51,51,51)\",\"ticks\":\"outside\",\"title\":{\"standoff\":15},\"zerolinecolor\":\"white\"},\"yaxis\":{\"automargin\":true,\"gridcolor\":\"white\",\"linecolor\":\"white\",\"showgrid\":true,\"tickcolor\":\"rgb(51,51,51)\",\"ticks\":\"outside\",\"title\":{\"standoff\":15},\"zerolinecolor\":\"white\"}}},\"showlegend\":true},                        {\"responsive\": true}                    ).then(function(){\n",
              "                            \n",
              "var gd = document.getElementById('fa3e25ea-ff36-45b2-8b18-a88db422593a');\n",
              "var x = new MutationObserver(function (mutations, observer) {{\n",
              "        var display = window.getComputedStyle(gd).display;\n",
              "        if (!display || display === 'none') {{\n",
              "            console.log([gd, 'removed!']);\n",
              "            Plotly.purge(gd);\n",
              "            observer.disconnect();\n",
              "        }}\n",
              "}});\n",
              "\n",
              "// Listen for the removal of the full notebook cells\n",
              "var notebookContainer = gd.closest('#notebook-container');\n",
              "if (notebookContainer) {{\n",
              "    x.observe(notebookContainer, {childList: true});\n",
              "}}\n",
              "\n",
              "// Listen for the clearing of the current output cell\n",
              "var outputEl = gd.closest('.output');\n",
              "if (outputEl) {{\n",
              "    x.observe(outputEl, {childList: true});\n",
              "}}\n",
              "\n",
              "                        })                };                            </script>        </div>\n",
              "</body>\n",
              "</html>"
            ]
          },
          "metadata": {}
        }
      ]
    },
    {
      "cell_type": "markdown",
      "metadata": {
        "id": "CnkpEOvd3BO6"
      },
      "source": [
        "The model output matches with our theoretical calculations"
      ]
    },
    {
      "cell_type": "markdown",
      "metadata": {
        "id": "PohknvSD2qBm"
      },
      "source": [
        "#### Model with Intercept and Trend (trend = \"ct\")"
      ]
    },
    {
      "cell_type": "code",
      "metadata": {
        "colab": {
          "base_uri": "https://localhost:8080/",
          "height": 206,
          "referenced_widgets": [
            "ef07ae30327b4e42904f556a18dc82cd",
            "ffb3588ce8a4424c8ffe34dbf3f62cc5",
            "318e474f16be48ae838c53b2b170aee1"
          ]
        },
        "id": "LNpQ2Pk0sfHw",
        "outputId": "72cbb27e-2b0d-44f0-8881-18519e4dff82"
      },
      "source": [
        "model2c = exp.create_model(\"arima\", order=(0, 0, 0), seasonal_order=(0, 0, 0, 0), trend=\"ct\")"
      ],
      "execution_count": 23,
      "outputs": [
        {
          "output_type": "display_data",
          "data": {
            "text/html": [
              "<div>\n",
              "<style scoped>\n",
              "    .dataframe tbody tr th:only-of-type {\n",
              "        vertical-align: middle;\n",
              "    }\n",
              "\n",
              "    .dataframe tbody tr th {\n",
              "        vertical-align: top;\n",
              "    }\n",
              "\n",
              "    .dataframe thead th {\n",
              "        text-align: right;\n",
              "    }\n",
              "</style>\n",
              "<table border=\"1\" class=\"dataframe\">\n",
              "  <thead>\n",
              "    <tr style=\"text-align: right;\">\n",
              "      <th></th>\n",
              "      <th>cutoff</th>\n",
              "      <th>MAE</th>\n",
              "      <th>RMSE</th>\n",
              "      <th>MAPE</th>\n",
              "      <th>SMAPE</th>\n",
              "      <th>R2</th>\n",
              "    </tr>\n",
              "  </thead>\n",
              "  <tbody>\n",
              "    <tr>\n",
              "      <th>0</th>\n",
              "      <td>219.0</td>\n",
              "      <td>0.8288</td>\n",
              "      <td>1.0117</td>\n",
              "      <td>0.0047</td>\n",
              "      <td>0.0047</td>\n",
              "      <td>-0.0102</td>\n",
              "    </tr>\n",
              "    <tr>\n",
              "      <th>1</th>\n",
              "      <td>249.0</td>\n",
              "      <td>0.7653</td>\n",
              "      <td>0.9930</td>\n",
              "      <td>0.0044</td>\n",
              "      <td>0.0044</td>\n",
              "      <td>-0.0385</td>\n",
              "    </tr>\n",
              "    <tr>\n",
              "      <th>2</th>\n",
              "      <td>279.0</td>\n",
              "      <td>0.8186</td>\n",
              "      <td>0.9861</td>\n",
              "      <td>0.0046</td>\n",
              "      <td>0.0046</td>\n",
              "      <td>-0.0021</td>\n",
              "    </tr>\n",
              "    <tr>\n",
              "      <th>Mean</th>\n",
              "      <td>NaN</td>\n",
              "      <td>0.8042</td>\n",
              "      <td>0.9969</td>\n",
              "      <td>0.0046</td>\n",
              "      <td>0.0046</td>\n",
              "      <td>-0.0169</td>\n",
              "    </tr>\n",
              "    <tr>\n",
              "      <th>SD</th>\n",
              "      <td>NaN</td>\n",
              "      <td>0.0279</td>\n",
              "      <td>0.0108</td>\n",
              "      <td>0.0002</td>\n",
              "      <td>0.0002</td>\n",
              "      <td>0.0156</td>\n",
              "    </tr>\n",
              "  </tbody>\n",
              "</table>\n",
              "</div>"
            ],
            "text/plain": [
              "      cutoff     MAE    RMSE    MAPE   SMAPE      R2\n",
              "0      219.0  0.8288  1.0117  0.0047  0.0047 -0.0102\n",
              "1      249.0  0.7653  0.9930  0.0044  0.0044 -0.0385\n",
              "2      279.0  0.8186  0.9861  0.0046  0.0046 -0.0021\n",
              "Mean     NaN  0.8042  0.9969  0.0046  0.0046 -0.0169\n",
              "SD       NaN  0.0279  0.0108  0.0002  0.0002  0.0156"
            ]
          },
          "metadata": {}
        }
      ]
    },
    {
      "cell_type": "code",
      "metadata": {
        "colab": {
          "base_uri": "https://localhost:8080/",
          "height": 976
        },
        "id": "pvhJcPiqsi1I",
        "outputId": "63284fad-fc80-43cc-9189-c6406d60ab73"
      },
      "source": [
        "summarize_model(model2c)\n",
        "get_residual_properties(model2c)"
      ],
      "execution_count": 24,
      "outputs": [
        {
          "output_type": "stream",
          "name": "stdout",
          "text": [
            "                               SARIMAX Results                                \n",
            "==============================================================================\n",
            "Dep. Variable:                      y   No. Observations:                  310\n",
            "Model:                        SARIMAX   Log Likelihood                -436.066\n",
            "Date:                Fri, 19 Nov 2021   AIC                            878.132\n",
            "Time:                        21:01:57   BIC                            889.342\n",
            "Sample:                             0   HQIC                           882.614\n",
            "                                - 310                                         \n",
            "Covariance Type:                  opg                                         \n",
            "==============================================================================\n",
            "                 coef    std err          z      P>|z|      [0.025      0.975]\n",
            "------------------------------------------------------------------------------\n",
            "intercept    175.9578      0.117   1504.136      0.000     175.728     176.187\n",
            "drift          0.0004      0.001      0.587      0.557      -0.001       0.002\n",
            "sigma2         0.9758      0.080     12.169      0.000       0.819       1.133\n",
            "===================================================================================\n",
            "Ljung-Box (L1) (Q):                   1.04   Jarque-Bera (JB):                 0.10\n",
            "Prob(Q):                              0.31   Prob(JB):                         0.95\n",
            "Heteroskedasticity (H):               0.99   Skew:                            -0.04\n",
            "Prob(H) (two-sided):                  0.95   Kurtosis:                         2.96\n",
            "===================================================================================\n",
            "\n",
            "Warnings:\n",
            "[1] Covariance matrix calculated using the outer product of gradients (complex-step).\n"
          ]
        },
        {
          "output_type": "display_data",
          "data": {
            "text/html": [
              "<html>\n",
              "<head><meta charset=\"utf-8\" /></head>\n",
              "<body>\n",
              "    <div>            <script src=\"https://cdnjs.cloudflare.com/ajax/libs/mathjax/2.7.5/MathJax.js?config=TeX-AMS-MML_SVG\"></script><script type=\"text/javascript\">if (window.MathJax) {MathJax.Hub.Config({SVG: {font: \"STIX-Web\"}});}</script>                <script type=\"text/javascript\">window.PlotlyConfig = {MathJaxConfig: 'local'};</script>\n",
              "        <script src=\"https://cdn.plot.ly/plotly-2.6.3.min.js\"></script>                <div id=\"a3f67877-01b4-4cd8-9796-889bf339816b\" class=\"plotly-graph-div\" style=\"height:525px; width:100%;\"></div>            <script type=\"text/javascript\">                                    window.PLOTLYENV=window.PLOTLYENV || {};                                    if (document.getElementById(\"a3f67877-01b4-4cd8-9796-889bf339816b\")) {                    Plotly.newPlot(                        \"a3f67877-01b4-4cd8-9796-889bf339816b\",                        [{\"marker\":{\"color\":\"#3f3f3f\",\"size\":5},\"mode\":\"lines+markers\",\"name\":\"Residuals | ARIMA\",\"showlegend\":true,\"x\":[0,1,2,3,4,5,6,7,8,9,10,11,12,13,14,15,16,17,18,19,20,21,22,23,24,25,26,27,28,29,30,31,32,33,34,35,36,37,38,39,40,41,42,43,44,45,46,47,48,49,50,51,52,53,54,55,56,57,58,59,60,61,62,63,64,65,66,67,68,69,70,71,72,73,74,75,76,77,78,79,80,81,82,83,84,85,86,87,88,89,90,91,92,93,94,95,96,97,98,99,100,101,102,103,104,105,106,107,108,109,110,111,112,113,114,115,116,117,118,119,120,121,122,123,124,125,126,127,128,129,130,131,132,133,134,135,136,137,138,139,140,141,142,143,144,145,146,147,148,149,150,151,152,153,154,155,156,157,158,159,160,161,162,163,164,165,166,167,168,169,170,171,172,173,174,175,176,177,178,179,180,181,182,183,184,185,186,187,188,189,190,191,192,193,194,195,196,197,198,199,200,201,202,203,204,205,206,207,208,209,210,211,212,213,214,215,216,217,218,219,220,221,222,223,224,225,226,227,228,229,230,231,232,233,234,235,236,237,238,239,240,241,242,243,244,245,246,247,248,249,250,251,252,253,254,255,256,257,258,259,260,261,262,263,264,265,266,267,268,269,270,271,272,273,274,275,276,277,278,279,280,281,282,283,284,285,286,287,288,289,290,291,292,293,294,295,296,297,298,299,300,301,302,303,304,305,306,307,308,309],\"y\":[-0.5785168289634726,0.08396572140452463,-0.8694598681387049,0.19910248497001248,-0.6138989992002166,1.8075848462445379,0.7566169850412621,0.9496956706720141,0.4233187311557458,1.7209213860014643,-0.597379216313783,-0.4236755605730025,1.469863340482675,-0.6135033192165622,-0.17057577735579343,-0.3563910310430458,-0.2839640379963271,-0.24347254027256326,0.5294410261251699,-0.1424658552600988,-0.47148090295135603,1.377127316485371,-0.1808789850788628,-0.14624417442209392,-0.06726645344036797,0.7452025269773799,-0.04141625204690058,-0.005874087235156367,-0.6502884623714067,-0.2932863237086849,0.09075632112507037,-0.5586866734171565,0.5613159376285921,-1.4889624046386984,0.335601470091035,-1.5077942820842338,-0.2727086532304952,-0.5004004986857069,-0.6246034427690006,-0.02979350778221601,-1.8876442234625017,1.2029104463892395,-1.6390333696890025,-0.43797940279628733,-1.0907571742145308,-0.7260441382117904,2.111553340761958,0.04139434697970046,-1.2626898709945635,-1.617382942826822,0.4730216250179353,0.0038866231826659714,-0.2960099864936012,-0.9076918272508294,-1.4661780577851005,-1.0542981121073467,1.0205349203753826,-0.6011486459828745,-1.3646968664181145,1.8886325355436213,0.444054222644354,-0.22008132348790355,1.0766607582868062,0.9042122931055872,-0.6018414743476797,2.223115970576032,-0.2384015919521687,-1.4082572798714637,-0.1285502994597323,0.22299957387900804,2.323051565858748,0.12048746684649814,0.47129583652827023,-0.06324397209903054,-0.32047994695622606,-0.021593200747531682,0.8003843653462184,2.0876017005209633,1.0393610627857015,1.2194889545614558,-1.2201309332307915,0.9946999905329221,0.23034115629369012,-1.4572217443065654,0.5306629595861523,-0.14950245562508258,1.4734513932136224,-0.7576059862085742,-0.4221238083798369,-0.9184096196751454,-0.1697921515823566,0.4089355214933619,-0.7252124989599054,0.8365207742948257,-1.2023232478384216,-1.0426129421896633,1.4461411096150698,-1.0112521303811661,0.41618197939456536,-0.37725685187970726,0.4128329710330263,1.69191634973879,1.5892434291295103,-0.3286408728426977,-2.2833566752989896,2.4991523819797408,0.6681688910634875,0.5420419924152498,-0.013072934542037729,0.5100469437097104,-0.16482537886051318,0.4198570283172387,-0.40147242676306405,-1.3718216281793048,0.9858364489754194,1.5173551391731621,-0.3115185234000819,-1.256455777629327,0.6386872158093979,-0.04865129460984008,-1.7375486323880978,-0.0025864337303573848,-0.6354066951856225,-0.34646300896488924,-1.1624548595881379,1.7968713431176013,-0.3377906690376449,-1.6125601127469054,0.18975867039785044,0.2553528102165501,-0.994037604444685,-2.89751964356293,-0.6494687422952268,0.5611325283425401,-0.06948645146772492,-0.1083299872769885,0.55028141750077,-1.1973860175454831,1.0854615974602382,-0.017047542939025107,0.6952190848897146,1.02162808438149,0.21061269671221794,-0.8919633989160047,1.1493207020697014,-2.0141968665295735,-0.5592107295937865,-0.27047876659605663,-0.18131716205132875,1.004879715650418,0.12024963212215312,0.3908072745959146,-0.08640320968834203,-0.26480080614160784,0.6780262742501293,1.1283157569988589,-2.421396882956401,0.5540508193343783,0.35564760302008835,-0.44473259316217195,0.9311598681236148,-0.40947818901867095,-0.30495973694792156,0.8363926350847919,1.6982220882785555,0.24826162224729842,-0.44436535632499385,-1.2116827092442009,-0.3539904611104987,-0.9631748765887664,-0.2826662010450036,0.3702574824487499,-0.8763668456445259,2.624269059627238,0.13072578634998422,1.1045333102927088,-2.3151860048495223,0.7145510643381954,-1.3430833211560582,0.8925774490576828,0.37051585905342677,-0.4355309435158006,1.295868198083923,-0.7300101691873522,-0.6097808720285798,-1.0306268166598898,-0.6981213102351091,0.9148541820436265,0.40298331036834156,0.9740523106531214,-0.4216136389251517,0.34448724905661265,0.2118938139203408,-1.458916520795924,1.7453820412148389,0.10101234682656468,0.731775617203283,0.9209252271070341,-0.08516521909120911,-0.34080300526343876,0.8582980490822649,-1.0830618702520098,1.9351855971857503,-0.4201719631734875,1.6172173775422323,1.4748967013709944,0.045261673158734084,0.5291287865774734,-1.0630286756557723,0.28413823905296454,1.004356126539733,0.05943408723345556,-0.49416937666484273,-0.6962023878080572,-0.07673102582830893,1.0279647896244057,-0.5255596692008737,-0.16298291807413534,-1.336500878415336,0.4515638935733932,1.2647645098250848,1.4535159312668782,0.7707895849135866,-1.9140900040336533,0.43734022244609605,0.4110582537758489,-0.39886570320240367,0.12463598572830392,-0.9102775071939675,0.6326011531018025,-0.3741187034144673,-1.6164879417526947,-0.41524458062596636,1.3162530367667387,-0.38285132488147156,0.6837920142112637,0.8972395443529706,-0.045335459366270925,-0.402444537089508,-0.5802058085207591,0.6886908583409763,-1.1147438505643095,0.1945363406074705,-0.34156193733980444,-2.3173399951110696,-1.4616891625433084,0.8627925544754191,-0.24489379269982692,0.7492803061219035,1.8330834854496345,1.4191021354024258,0.6221013787591403,0.3244075051658797,-0.24874167570536088,1.5215604778083502,0.5395147243751239,-1.2306843936611642,-0.21313805552739495,-1.9767934087546735,-0.25353050244291353,-2.650987394125167,1.2549543751715646,-0.6949788609056782,-0.4898027664149538,-0.2295303278702363,0.5516181105735143,0.6173520459603026,0.506575773362016,-0.6343068708832789,-1.4254435910824839,-0.45126264698976115,0.214985661951971,-0.8863976599182593,-0.13254554067154345,-1.2317550001707787,-0.07278975610404359,0.06398659186166356,-0.2111325060435547,-0.22955590216582777,1.6975189895079268,0.6961654312936503,1.0446219317594228,-0.9904041696488548,0.09675655376190662,1.0868518345836264,-0.12488284488659929,-2.1981101364428923,0.27570820604387336,-1.9744810694884052,-0.8810838448896448,1.2537025617031077,0.5449470218588601,1.0205910602435608,0.23513889837533952,-0.1820127934689424,-0.9965548719601713,1.5202835870385343,-0.028007636405732228,-0.7885347030429557,0.7914287294947542,1.0002585202085186,1.8210842682822488,-0.6779558773690155,-0.4662144623342499,-0.4919567409885133,-0.4517802001257678,-0.44314179085503724,-0.37257636570129193,1.3645334293524343,-0.7752133406077917],\"type\":\"scatter\"}],                        {\"title\":{\"text\":\"Residuals\"},\"xaxis\":{\"title\":{\"text\":\"Time\"}},\"yaxis\":{\"title\":{\"text\":\"Values\"}},\"template\":{\"data\":{\"barpolar\":[{\"marker\":{\"line\":{\"color\":\"rgb(237,237,237)\",\"width\":0.5},\"pattern\":{\"fillmode\":\"overlay\",\"size\":10,\"solidity\":0.2}},\"type\":\"barpolar\"}],\"bar\":[{\"error_x\":{\"color\":\"rgb(51,51,51)\"},\"error_y\":{\"color\":\"rgb(51,51,51)\"},\"marker\":{\"line\":{\"color\":\"rgb(237,237,237)\",\"width\":0.5},\"pattern\":{\"fillmode\":\"overlay\",\"size\":10,\"solidity\":0.2}},\"type\":\"bar\"}],\"carpet\":[{\"aaxis\":{\"endlinecolor\":\"rgb(51,51,51)\",\"gridcolor\":\"white\",\"linecolor\":\"white\",\"minorgridcolor\":\"white\",\"startlinecolor\":\"rgb(51,51,51)\"},\"baxis\":{\"endlinecolor\":\"rgb(51,51,51)\",\"gridcolor\":\"white\",\"linecolor\":\"white\",\"minorgridcolor\":\"white\",\"startlinecolor\":\"rgb(51,51,51)\"},\"type\":\"carpet\"}],\"choropleth\":[{\"colorbar\":{\"outlinewidth\":0,\"tickcolor\":\"rgb(237,237,237)\",\"ticklen\":6,\"ticks\":\"inside\"},\"type\":\"choropleth\"}],\"contourcarpet\":[{\"colorbar\":{\"outlinewidth\":0,\"tickcolor\":\"rgb(237,237,237)\",\"ticklen\":6,\"ticks\":\"inside\"},\"type\":\"contourcarpet\"}],\"contour\":[{\"colorbar\":{\"outlinewidth\":0,\"tickcolor\":\"rgb(237,237,237)\",\"ticklen\":6,\"ticks\":\"inside\"},\"colorscale\":[[0,\"rgb(20,44,66)\"],[1,\"rgb(90,179,244)\"]],\"type\":\"contour\"}],\"heatmapgl\":[{\"colorbar\":{\"outlinewidth\":0,\"tickcolor\":\"rgb(237,237,237)\",\"ticklen\":6,\"ticks\":\"inside\"},\"colorscale\":[[0,\"rgb(20,44,66)\"],[1,\"rgb(90,179,244)\"]],\"type\":\"heatmapgl\"}],\"heatmap\":[{\"colorbar\":{\"outlinewidth\":0,\"tickcolor\":\"rgb(237,237,237)\",\"ticklen\":6,\"ticks\":\"inside\"},\"colorscale\":[[0,\"rgb(20,44,66)\"],[1,\"rgb(90,179,244)\"]],\"type\":\"heatmap\"}],\"histogram2dcontour\":[{\"colorbar\":{\"outlinewidth\":0,\"tickcolor\":\"rgb(237,237,237)\",\"ticklen\":6,\"ticks\":\"inside\"},\"colorscale\":[[0,\"rgb(20,44,66)\"],[1,\"rgb(90,179,244)\"]],\"type\":\"histogram2dcontour\"}],\"histogram2d\":[{\"colorbar\":{\"outlinewidth\":0,\"tickcolor\":\"rgb(237,237,237)\",\"ticklen\":6,\"ticks\":\"inside\"},\"colorscale\":[[0,\"rgb(20,44,66)\"],[1,\"rgb(90,179,244)\"]],\"type\":\"histogram2d\"}],\"histogram\":[{\"marker\":{\"pattern\":{\"fillmode\":\"overlay\",\"size\":10,\"solidity\":0.2}},\"type\":\"histogram\"}],\"mesh3d\":[{\"colorbar\":{\"outlinewidth\":0,\"tickcolor\":\"rgb(237,237,237)\",\"ticklen\":6,\"ticks\":\"inside\"},\"type\":\"mesh3d\"}],\"parcoords\":[{\"line\":{\"colorbar\":{\"outlinewidth\":0,\"tickcolor\":\"rgb(237,237,237)\",\"ticklen\":6,\"ticks\":\"inside\"}},\"type\":\"parcoords\"}],\"pie\":[{\"automargin\":true,\"type\":\"pie\"}],\"scatter3d\":[{\"line\":{\"colorbar\":{\"outlinewidth\":0,\"tickcolor\":\"rgb(237,237,237)\",\"ticklen\":6,\"ticks\":\"inside\"}},\"marker\":{\"colorbar\":{\"outlinewidth\":0,\"tickcolor\":\"rgb(237,237,237)\",\"ticklen\":6,\"ticks\":\"inside\"}},\"type\":\"scatter3d\"}],\"scattercarpet\":[{\"marker\":{\"colorbar\":{\"outlinewidth\":0,\"tickcolor\":\"rgb(237,237,237)\",\"ticklen\":6,\"ticks\":\"inside\"}},\"type\":\"scattercarpet\"}],\"scattergeo\":[{\"marker\":{\"colorbar\":{\"outlinewidth\":0,\"tickcolor\":\"rgb(237,237,237)\",\"ticklen\":6,\"ticks\":\"inside\"}},\"type\":\"scattergeo\"}],\"scattergl\":[{\"marker\":{\"colorbar\":{\"outlinewidth\":0,\"tickcolor\":\"rgb(237,237,237)\",\"ticklen\":6,\"ticks\":\"inside\"}},\"type\":\"scattergl\"}],\"scattermapbox\":[{\"marker\":{\"colorbar\":{\"outlinewidth\":0,\"tickcolor\":\"rgb(237,237,237)\",\"ticklen\":6,\"ticks\":\"inside\"}},\"type\":\"scattermapbox\"}],\"scatterpolargl\":[{\"marker\":{\"colorbar\":{\"outlinewidth\":0,\"tickcolor\":\"rgb(237,237,237)\",\"ticklen\":6,\"ticks\":\"inside\"}},\"type\":\"scatterpolargl\"}],\"scatterpolar\":[{\"marker\":{\"colorbar\":{\"outlinewidth\":0,\"tickcolor\":\"rgb(237,237,237)\",\"ticklen\":6,\"ticks\":\"inside\"}},\"type\":\"scatterpolar\"}],\"scatter\":[{\"marker\":{\"colorbar\":{\"outlinewidth\":0,\"tickcolor\":\"rgb(237,237,237)\",\"ticklen\":6,\"ticks\":\"inside\"}},\"type\":\"scatter\"}],\"scatterternary\":[{\"marker\":{\"colorbar\":{\"outlinewidth\":0,\"tickcolor\":\"rgb(237,237,237)\",\"ticklen\":6,\"ticks\":\"inside\"}},\"type\":\"scatterternary\"}],\"surface\":[{\"colorbar\":{\"outlinewidth\":0,\"tickcolor\":\"rgb(237,237,237)\",\"ticklen\":6,\"ticks\":\"inside\"},\"colorscale\":[[0,\"rgb(20,44,66)\"],[1,\"rgb(90,179,244)\"]],\"type\":\"surface\"}],\"table\":[{\"cells\":{\"fill\":{\"color\":\"rgb(237,237,237)\"},\"line\":{\"color\":\"white\"}},\"header\":{\"fill\":{\"color\":\"rgb(217,217,217)\"},\"line\":{\"color\":\"white\"}},\"type\":\"table\"}]},\"layout\":{\"annotationdefaults\":{\"arrowhead\":0,\"arrowwidth\":1},\"autotypenumbers\":\"strict\",\"coloraxis\":{\"colorbar\":{\"outlinewidth\":0,\"tickcolor\":\"rgb(237,237,237)\",\"ticklen\":6,\"ticks\":\"inside\"}},\"colorscale\":{\"sequential\":[[0,\"rgb(20,44,66)\"],[1,\"rgb(90,179,244)\"]],\"sequentialminus\":[[0,\"rgb(20,44,66)\"],[1,\"rgb(90,179,244)\"]]},\"colorway\":[\"#F8766D\",\"#A3A500\",\"#00BF7D\",\"#00B0F6\",\"#E76BF3\"],\"font\":{\"color\":\"rgb(51,51,51)\"},\"geo\":{\"bgcolor\":\"white\",\"lakecolor\":\"white\",\"landcolor\":\"rgb(237,237,237)\",\"showlakes\":true,\"showland\":true,\"subunitcolor\":\"white\"},\"hoverlabel\":{\"align\":\"left\"},\"hovermode\":\"closest\",\"paper_bgcolor\":\"white\",\"plot_bgcolor\":\"rgb(237,237,237)\",\"polar\":{\"angularaxis\":{\"gridcolor\":\"white\",\"linecolor\":\"white\",\"showgrid\":true,\"tickcolor\":\"rgb(51,51,51)\",\"ticks\":\"outside\"},\"bgcolor\":\"rgb(237,237,237)\",\"radialaxis\":{\"gridcolor\":\"white\",\"linecolor\":\"white\",\"showgrid\":true,\"tickcolor\":\"rgb(51,51,51)\",\"ticks\":\"outside\"}},\"scene\":{\"xaxis\":{\"backgroundcolor\":\"rgb(237,237,237)\",\"gridcolor\":\"white\",\"gridwidth\":2,\"linecolor\":\"white\",\"showbackground\":true,\"showgrid\":true,\"tickcolor\":\"rgb(51,51,51)\",\"ticks\":\"outside\",\"zerolinecolor\":\"white\"},\"yaxis\":{\"backgroundcolor\":\"rgb(237,237,237)\",\"gridcolor\":\"white\",\"gridwidth\":2,\"linecolor\":\"white\",\"showbackground\":true,\"showgrid\":true,\"tickcolor\":\"rgb(51,51,51)\",\"ticks\":\"outside\",\"zerolinecolor\":\"white\"},\"zaxis\":{\"backgroundcolor\":\"rgb(237,237,237)\",\"gridcolor\":\"white\",\"gridwidth\":2,\"linecolor\":\"white\",\"showbackground\":true,\"showgrid\":true,\"tickcolor\":\"rgb(51,51,51)\",\"ticks\":\"outside\",\"zerolinecolor\":\"white\"}},\"shapedefaults\":{\"fillcolor\":\"black\",\"line\":{\"width\":0},\"opacity\":0.3},\"ternary\":{\"aaxis\":{\"gridcolor\":\"white\",\"linecolor\":\"white\",\"showgrid\":true,\"tickcolor\":\"rgb(51,51,51)\",\"ticks\":\"outside\"},\"baxis\":{\"gridcolor\":\"white\",\"linecolor\":\"white\",\"showgrid\":true,\"tickcolor\":\"rgb(51,51,51)\",\"ticks\":\"outside\"},\"bgcolor\":\"rgb(237,237,237)\",\"caxis\":{\"gridcolor\":\"white\",\"linecolor\":\"white\",\"showgrid\":true,\"tickcolor\":\"rgb(51,51,51)\",\"ticks\":\"outside\"}},\"xaxis\":{\"automargin\":true,\"gridcolor\":\"white\",\"linecolor\":\"white\",\"showgrid\":true,\"tickcolor\":\"rgb(51,51,51)\",\"ticks\":\"outside\",\"title\":{\"standoff\":15},\"zerolinecolor\":\"white\"},\"yaxis\":{\"automargin\":true,\"gridcolor\":\"white\",\"linecolor\":\"white\",\"showgrid\":true,\"tickcolor\":\"rgb(51,51,51)\",\"ticks\":\"outside\",\"title\":{\"standoff\":15},\"zerolinecolor\":\"white\"}}},\"showlegend\":true},                        {\"responsive\": true}                    ).then(function(){\n",
              "                            \n",
              "var gd = document.getElementById('a3f67877-01b4-4cd8-9796-889bf339816b');\n",
              "var x = new MutationObserver(function (mutations, observer) {{\n",
              "        var display = window.getComputedStyle(gd).display;\n",
              "        if (!display || display === 'none') {{\n",
              "            console.log([gd, 'removed!']);\n",
              "            Plotly.purge(gd);\n",
              "            observer.disconnect();\n",
              "        }}\n",
              "}});\n",
              "\n",
              "// Listen for the removal of the full notebook cells\n",
              "var notebookContainer = gd.closest('#notebook-container');\n",
              "if (notebookContainer) {{\n",
              "    x.observe(notebookContainer, {childList: true});\n",
              "}}\n",
              "\n",
              "// Listen for the clearing of the current output cell\n",
              "var outputEl = gd.closest('.output');\n",
              "if (outputEl) {{\n",
              "    x.observe(outputEl, {childList: true});\n",
              "}}\n",
              "\n",
              "                        })                };                            </script>        </div>\n",
              "</body>\n",
              "</html>"
            ]
          },
          "metadata": {}
        },
        {
          "output_type": "stream",
          "name": "stdout",
          "text": [
            "Residual Sigma 2: 0.9757523744574852\n"
          ]
        }
      ]
    },
    {
      "cell_type": "code",
      "metadata": {
        "colab": {
          "base_uri": "https://localhost:8080/",
          "height": 1000
        },
        "id": "CCC7pq3_sipX",
        "outputId": "68dad942-516d-4842-c387-a2ad9cf0066b"
      },
      "source": [
        "plot_predictions(model2c)"
      ],
      "execution_count": 25,
      "outputs": [
        {
          "output_type": "display_data",
          "data": {
            "text/html": [
              "<html>\n",
              "<head><meta charset=\"utf-8\" /></head>\n",
              "<body>\n",
              "    <div>            <script src=\"https://cdnjs.cloudflare.com/ajax/libs/mathjax/2.7.5/MathJax.js?config=TeX-AMS-MML_SVG\"></script><script type=\"text/javascript\">if (window.MathJax) {MathJax.Hub.Config({SVG: {font: \"STIX-Web\"}});}</script>                <script type=\"text/javascript\">window.PlotlyConfig = {MathJaxConfig: 'local'};</script>\n",
              "        <script src=\"https://cdn.plot.ly/plotly-2.6.3.min.js\"></script>                <div id=\"854b2b47-780d-4034-a468-4990dd619082\" class=\"plotly-graph-div\" style=\"height:525px; width:100%;\"></div>            <script type=\"text/javascript\">                                    window.PLOTLYENV=window.PLOTLYENV || {};                                    if (document.getElementById(\"854b2b47-780d-4034-a468-4990dd619082\")) {                    Plotly.newPlot(                        \"854b2b47-780d-4034-a468-4990dd619082\",                        [{\"line\":{\"color\":\"#1f77b4\"},\"marker\":{\"size\":5},\"mode\":\"lines+markers\",\"name\":\"Forecast | ARIMA\",\"showlegend\":true,\"x\":[310,311,312,313,314,315,316,317,318,319,320,321,322,323,324,325,326,327,328,329,330,331,332,333,334,335,336,337,338,339],\"y\":[176.0781,176.0785,176.0788,176.0792,176.0796,176.08,176.0804,176.0808,176.0812,176.0816,176.0819,176.0823,176.0827,176.0831,176.0835,176.0839,176.0843,176.0847,176.085,176.0854,176.0858,176.0862,176.0866,176.087,176.0874,176.0878,176.0882,176.0885,176.0889,176.0893],\"type\":\"scatter\"},{\"line\":{\"width\":0},\"marker\":{\"color\":\"#68BBE3\"},\"mode\":\"lines\",\"name\":\"Lower Interval\",\"showlegend\":false,\"x\":[310,311,312,313,314,315,316,317,318,319,320,321,322,323,324,325,326,327,328,329,330,331,332,333,334,335,336,337,338,339],\"y\":[174.142,174.1424,174.1428,174.1432,174.1436,174.1439,174.1443,174.1447,174.1451,174.1455,174.1459,174.1463,174.1467,174.1471,174.1474,174.1478,174.1482,174.1486,174.149,174.1494,174.1498,174.1502,174.1505,174.1509,174.1513,174.1517,174.1521,174.1525,174.1529,174.1533],\"type\":\"scatter\"},{\"fill\":\"tonexty\",\"fillcolor\":\"rgba(104,187,227,0.5)\",\"line\":{\"width\":0},\"marker\":{\"color\":\"#68BBE3\"},\"mode\":\"lines\",\"name\":\"Prediction Interval | ARIMA\",\"showlegend\":true,\"x\":[310,311,312,313,314,315,316,317,318,319,320,321,322,323,324,325,326,327,328,329,330,331,332,333,334,335,336,337,338,339],\"y\":[178.0141,178.0145,178.0149,178.0153,178.0157,178.0161,178.0164,178.0168,178.0172,178.0176,178.018,178.0184,178.0188,178.0192,178.0196,178.0199,178.0203,178.0207,178.0211,178.0215,178.0219,178.0223,178.0227,178.023,178.0234,178.0238,178.0242,178.0246,178.025,178.0254],\"type\":\"scatter\"},{\"marker\":{\"color\":\"#3f3f3f\",\"size\":5},\"mode\":\"lines+markers\",\"name\":\"Original\",\"showlegend\":true,\"x\":[0,1,2,3,4,5,6,7,8,9,10,11,12,13,14,15,16,17,18,19,20,21,22,23,24,25,26,27,28,29,30,31,32,33,34,35,36,37,38,39,40,41,42,43,44,45,46,47,48,49,50,51,52,53,54,55,56,57,58,59,60,61,62,63,64,65,66,67,68,69,70,71,72,73,74,75,76,77,78,79,80,81,82,83,84,85,86,87,88,89,90,91,92,93,94,95,96,97,98,99,100,101,102,103,104,105,106,107,108,109,110,111,112,113,114,115,116,117,118,119,120,121,122,123,124,125,126,127,128,129,130,131,132,133,134,135,136,137,138,139,140,141,142,143,144,145,146,147,148,149,150,151,152,153,154,155,156,157,158,159,160,161,162,163,164,165,166,167,168,169,170,171,172,173,174,175,176,177,178,179,180,181,182,183,184,185,186,187,188,189,190,191,192,193,194,195,196,197,198,199,200,201,202,203,204,205,206,207,208,209,210,211,212,213,214,215,216,217,218,219,220,221,222,223,224,225,226,227,228,229,230,231,232,233,234,235,236,237,238,239,240,241,242,243,244,245,246,247,248,249,250,251,252,253,254,255,256,257,258,259,260,261,262,263,264,265,266,267,268,269,270,271,272,273,274,275,276,277,278,279,280,281,282,283,284,285,286,287,288,289,290,291,292,293,294,295,296,297,298,299,300,301,302,303,304,305,306,307,308,309,310,311,312,313,314,315,316,317,318,319,320,321,322,323,324,325,326,327,328,329,330,331,332,333,334,335,336,337,338,339],\"y\":[175.379633322776,176.04211587314398,175.089078351448,176.15802877240398,175.34541535608102,177.767287269373,176.716707476017,176.910174229495,176.384185357826,177.68217608051899,175.36426354605098,175.53835526963903,177.43228223854197,175.34930364668998,175.792619256398,175.607192070558,175.680007131452,175.72088669702302,176.494188331268,175.82266951773,175.494042537886,177.34303882516997,175.785420591453,175.820443469957,175.899809258786,176.71266630705102,175.92643559587398,175.962365828533,175.318339521244,175.67572972775397,176.060160440435,175.41110551374,176.53149619263303,174.481605918213,176.30655786078998,174.46355017646198,175.699023873163,175.471720095555,175.347905219319,175.943103222153,174.08564057432,177.176583312019,174.335027563788,175.536469598528,174.884079894957,175.249180998807,178.087166545628,176.017395619693,174.713699469566,174.359394465581,176.450187101273,175.981440167285,175.681931625456,175.070637852546,174.512539689859,174.924807703384,177.000028803714,175.378733305203,174.615573152615,177.86929062242402,176.42510037737202,175.761352899087,177.05848304870898,176.886422651375,175.380756951769,178.20610246453998,175.74497296985902,174.575505349787,175.855600398046,176.20753833923197,178.30797839905898,176.10580236789397,176.456998805423,175.92284706464298,175.66599915763302,175.965273971689,176.78763960563,178.075245008652,177.027392438764,177.207908398387,174.768676578442,176.983895570053,176.219924803661,174.53274997090801,176.521022742648,175.841245395284,177.46458731196998,175.23391800039502,175.56978824607103,175.073890502623,175.82289603856302,176.402011779486,175.26825182688,176.83037316798197,174.791917213696,174.952015587192,177.441157706844,174.98415253469503,176.411974712318,175.618923948891,176.409401839651,177.688873286204,177.586588433442,175.66909219931702,173.714764464708,178.497661589834,176.66706616676498,176.541327335964,175.986600476854,176.51010842295298,175.83562416823003,176.42069464325502,175.59975325602198,174.629792122453,176.98783826745498,177.5197450255,175.691259430774,174.746710244392,176.642241305678,175.955290863106,174.266781593175,176.00213185968002,175.369699666072,175.65903142014,174.84342763736402,177.803141907917,175.66886796360902,174.394486587747,176.19719343873902,176.263175646405,175.014173299591,173.11107932832002,175.359518297435,176.57050763592,175.940276723957,175.90182125599497,176.56082072862,174.81354136142102,177.09677704427398,175.99465597172198,176.707310667398,177.034107734737,176.223480414915,175.12129238713402,177.162964555967,173.999835055215,175.455209259998,175.744329290843,175.833878963235,177.020463908784,176.136221893103,176.407167603424,175.930345186987,175.752335658381,176.69555080662,177.146228357216,173.596903785108,176.57273955524602,176.374724406779,175.57473227844397,176.95101280757703,175.610762818282,175.7156693382,176.85740977807998,177.71962729912102,176.270054900937,175.57781599021197,174.81088670514,175.66896702112098,175.06017067348998,175.74106741688098,176.394379168222,175.148142907976,178.649166881095,176.156011675665,177.13020726745498,173.71087602016001,176.741001157195,174.683754839548,176.919803677609,176.398130155452,175.59247142073002,177.324258630177,175.29876833075298,175.41938569575902,174.99892781897498,175.331821393247,176.945184953373,176.43370214954498,177.005159217677,175.609881335946,176.376370291775,176.244164924486,174.573742657617,177.778429287475,176.134447660934,176.765598999158,176.95513667690898,175.949434298558,175.694184580233,176.89367370242599,174.95270185093898,177.97133738622398,175.616367893712,177.654145302275,177.512212693951,176.082965733586,176.567220914852,174.975451520466,176.32300650302201,177.04361245835602,176.099078486897,175.54586309084598,175.34421814755,175.96407757737703,177.06916146067698,175.51602506969897,175.87898988867298,174.70585999617902,176.494312836015,177.30790152011397,177.497041009403,176.81470273089698,174.13021120979698,176.482029504124,176.45613560330102,175.64659971417,176.17048947094798,175.13596404587298,176.679230774016,175.672898985347,174.430917814856,175.63254924383,177.36443492906997,175.665718635269,176.732750042209,176.94658564019798,176.00439870432598,175.64767769445,175.470304490866,176.739589225575,174.93654258451699,176.246210843536,175.710500633436,173.735110643512,174.591149543927,176.916019328793,175.808721049465,176.803283216134,177.887474463309,177.47388118110902,176.677268492313,176.379962686567,175.807201573543,177.577891794904,176.596234109318,174.82642305912898,175.84435746511002,174.08109017972998,175.804741153889,173.40767233005403,177.314002167198,175.36445699896802,175.570021161306,175.83068166769797,176.612218173989,176.67834017722302,176.567951972472,175.42745739607398,174.636708743722,175.611277755662,176.27791413245097,175.176918878428,175.931159065522,174.83233767387,175.991690985784,176.12885540159698,175.854124371539,175.836089043264,177.763552002785,176.76258651241798,177.11143108073102,175.07679304716999,176.16434183842802,177.154825187097,175.94347857547402,173.870639351765,176.344845762099,174.095044554414,175.18882984686002,177.3240043213,176.61563684930303,177.091668955535,176.30660486151402,175.889841237517,175.07568722687301,177.592913753719,176.045010598122,175.284871599332,176.86522309971699,177.07444095827802,177.895654774199,175.397002696395,175.609132179277,175.58377796847,175.62434257718002,175.633369054298,175.704322547299,177.4418204102,175.302461708087,175.611832494079,176.652536452172,177.124772446535,175.227889196976,175.491913783862,176.523620590498,177.01775422653802,175.748835411912,174.570006552611,177.709121032101,177.43506957231202,175.28962885415,175.934932426344,174.24053126463403,176.569722971819,177.61234679820203,174.362719352895,175.220431486798,175.35882306624902,175.318868606429,173.96671440438203,176.50096355924802,174.468201860034,175.97500236072202,176.592984721025,175.801804578515,176.892008392474,175.974284929082,175.35233954941398,176.64635941503502],\"type\":\"scatter\"}],                        {\"title\":{\"text\":\"Actual vs. 'Out-of-Sample' Forecast | x\"},\"xaxis\":{\"title\":{\"text\":\"Time\"}},\"yaxis\":{\"title\":{\"text\":\"Values\"}},\"template\":{\"data\":{\"barpolar\":[{\"marker\":{\"line\":{\"color\":\"rgb(237,237,237)\",\"width\":0.5},\"pattern\":{\"fillmode\":\"overlay\",\"size\":10,\"solidity\":0.2}},\"type\":\"barpolar\"}],\"bar\":[{\"error_x\":{\"color\":\"rgb(51,51,51)\"},\"error_y\":{\"color\":\"rgb(51,51,51)\"},\"marker\":{\"line\":{\"color\":\"rgb(237,237,237)\",\"width\":0.5},\"pattern\":{\"fillmode\":\"overlay\",\"size\":10,\"solidity\":0.2}},\"type\":\"bar\"}],\"carpet\":[{\"aaxis\":{\"endlinecolor\":\"rgb(51,51,51)\",\"gridcolor\":\"white\",\"linecolor\":\"white\",\"minorgridcolor\":\"white\",\"startlinecolor\":\"rgb(51,51,51)\"},\"baxis\":{\"endlinecolor\":\"rgb(51,51,51)\",\"gridcolor\":\"white\",\"linecolor\":\"white\",\"minorgridcolor\":\"white\",\"startlinecolor\":\"rgb(51,51,51)\"},\"type\":\"carpet\"}],\"choropleth\":[{\"colorbar\":{\"outlinewidth\":0,\"tickcolor\":\"rgb(237,237,237)\",\"ticklen\":6,\"ticks\":\"inside\"},\"type\":\"choropleth\"}],\"contourcarpet\":[{\"colorbar\":{\"outlinewidth\":0,\"tickcolor\":\"rgb(237,237,237)\",\"ticklen\":6,\"ticks\":\"inside\"},\"type\":\"contourcarpet\"}],\"contour\":[{\"colorbar\":{\"outlinewidth\":0,\"tickcolor\":\"rgb(237,237,237)\",\"ticklen\":6,\"ticks\":\"inside\"},\"colorscale\":[[0,\"rgb(20,44,66)\"],[1,\"rgb(90,179,244)\"]],\"type\":\"contour\"}],\"heatmapgl\":[{\"colorbar\":{\"outlinewidth\":0,\"tickcolor\":\"rgb(237,237,237)\",\"ticklen\":6,\"ticks\":\"inside\"},\"colorscale\":[[0,\"rgb(20,44,66)\"],[1,\"rgb(90,179,244)\"]],\"type\":\"heatmapgl\"}],\"heatmap\":[{\"colorbar\":{\"outlinewidth\":0,\"tickcolor\":\"rgb(237,237,237)\",\"ticklen\":6,\"ticks\":\"inside\"},\"colorscale\":[[0,\"rgb(20,44,66)\"],[1,\"rgb(90,179,244)\"]],\"type\":\"heatmap\"}],\"histogram2dcontour\":[{\"colorbar\":{\"outlinewidth\":0,\"tickcolor\":\"rgb(237,237,237)\",\"ticklen\":6,\"ticks\":\"inside\"},\"colorscale\":[[0,\"rgb(20,44,66)\"],[1,\"rgb(90,179,244)\"]],\"type\":\"histogram2dcontour\"}],\"histogram2d\":[{\"colorbar\":{\"outlinewidth\":0,\"tickcolor\":\"rgb(237,237,237)\",\"ticklen\":6,\"ticks\":\"inside\"},\"colorscale\":[[0,\"rgb(20,44,66)\"],[1,\"rgb(90,179,244)\"]],\"type\":\"histogram2d\"}],\"histogram\":[{\"marker\":{\"pattern\":{\"fillmode\":\"overlay\",\"size\":10,\"solidity\":0.2}},\"type\":\"histogram\"}],\"mesh3d\":[{\"colorbar\":{\"outlinewidth\":0,\"tickcolor\":\"rgb(237,237,237)\",\"ticklen\":6,\"ticks\":\"inside\"},\"type\":\"mesh3d\"}],\"parcoords\":[{\"line\":{\"colorbar\":{\"outlinewidth\":0,\"tickcolor\":\"rgb(237,237,237)\",\"ticklen\":6,\"ticks\":\"inside\"}},\"type\":\"parcoords\"}],\"pie\":[{\"automargin\":true,\"type\":\"pie\"}],\"scatter3d\":[{\"line\":{\"colorbar\":{\"outlinewidth\":0,\"tickcolor\":\"rgb(237,237,237)\",\"ticklen\":6,\"ticks\":\"inside\"}},\"marker\":{\"colorbar\":{\"outlinewidth\":0,\"tickcolor\":\"rgb(237,237,237)\",\"ticklen\":6,\"ticks\":\"inside\"}},\"type\":\"scatter3d\"}],\"scattercarpet\":[{\"marker\":{\"colorbar\":{\"outlinewidth\":0,\"tickcolor\":\"rgb(237,237,237)\",\"ticklen\":6,\"ticks\":\"inside\"}},\"type\":\"scattercarpet\"}],\"scattergeo\":[{\"marker\":{\"colorbar\":{\"outlinewidth\":0,\"tickcolor\":\"rgb(237,237,237)\",\"ticklen\":6,\"ticks\":\"inside\"}},\"type\":\"scattergeo\"}],\"scattergl\":[{\"marker\":{\"colorbar\":{\"outlinewidth\":0,\"tickcolor\":\"rgb(237,237,237)\",\"ticklen\":6,\"ticks\":\"inside\"}},\"type\":\"scattergl\"}],\"scattermapbox\":[{\"marker\":{\"colorbar\":{\"outlinewidth\":0,\"tickcolor\":\"rgb(237,237,237)\",\"ticklen\":6,\"ticks\":\"inside\"}},\"type\":\"scattermapbox\"}],\"scatterpolargl\":[{\"marker\":{\"colorbar\":{\"outlinewidth\":0,\"tickcolor\":\"rgb(237,237,237)\",\"ticklen\":6,\"ticks\":\"inside\"}},\"type\":\"scatterpolargl\"}],\"scatterpolar\":[{\"marker\":{\"colorbar\":{\"outlinewidth\":0,\"tickcolor\":\"rgb(237,237,237)\",\"ticklen\":6,\"ticks\":\"inside\"}},\"type\":\"scatterpolar\"}],\"scatter\":[{\"marker\":{\"colorbar\":{\"outlinewidth\":0,\"tickcolor\":\"rgb(237,237,237)\",\"ticklen\":6,\"ticks\":\"inside\"}},\"type\":\"scatter\"}],\"scatterternary\":[{\"marker\":{\"colorbar\":{\"outlinewidth\":0,\"tickcolor\":\"rgb(237,237,237)\",\"ticklen\":6,\"ticks\":\"inside\"}},\"type\":\"scatterternary\"}],\"surface\":[{\"colorbar\":{\"outlinewidth\":0,\"tickcolor\":\"rgb(237,237,237)\",\"ticklen\":6,\"ticks\":\"inside\"},\"colorscale\":[[0,\"rgb(20,44,66)\"],[1,\"rgb(90,179,244)\"]],\"type\":\"surface\"}],\"table\":[{\"cells\":{\"fill\":{\"color\":\"rgb(237,237,237)\"},\"line\":{\"color\":\"white\"}},\"header\":{\"fill\":{\"color\":\"rgb(217,217,217)\"},\"line\":{\"color\":\"white\"}},\"type\":\"table\"}]},\"layout\":{\"annotationdefaults\":{\"arrowhead\":0,\"arrowwidth\":1},\"autotypenumbers\":\"strict\",\"coloraxis\":{\"colorbar\":{\"outlinewidth\":0,\"tickcolor\":\"rgb(237,237,237)\",\"ticklen\":6,\"ticks\":\"inside\"}},\"colorscale\":{\"sequential\":[[0,\"rgb(20,44,66)\"],[1,\"rgb(90,179,244)\"]],\"sequentialminus\":[[0,\"rgb(20,44,66)\"],[1,\"rgb(90,179,244)\"]]},\"colorway\":[\"#F8766D\",\"#A3A500\",\"#00BF7D\",\"#00B0F6\",\"#E76BF3\"],\"font\":{\"color\":\"rgb(51,51,51)\"},\"geo\":{\"bgcolor\":\"white\",\"lakecolor\":\"white\",\"landcolor\":\"rgb(237,237,237)\",\"showlakes\":true,\"showland\":true,\"subunitcolor\":\"white\"},\"hoverlabel\":{\"align\":\"left\"},\"hovermode\":\"closest\",\"paper_bgcolor\":\"white\",\"plot_bgcolor\":\"rgb(237,237,237)\",\"polar\":{\"angularaxis\":{\"gridcolor\":\"white\",\"linecolor\":\"white\",\"showgrid\":true,\"tickcolor\":\"rgb(51,51,51)\",\"ticks\":\"outside\"},\"bgcolor\":\"rgb(237,237,237)\",\"radialaxis\":{\"gridcolor\":\"white\",\"linecolor\":\"white\",\"showgrid\":true,\"tickcolor\":\"rgb(51,51,51)\",\"ticks\":\"outside\"}},\"scene\":{\"xaxis\":{\"backgroundcolor\":\"rgb(237,237,237)\",\"gridcolor\":\"white\",\"gridwidth\":2,\"linecolor\":\"white\",\"showbackground\":true,\"showgrid\":true,\"tickcolor\":\"rgb(51,51,51)\",\"ticks\":\"outside\",\"zerolinecolor\":\"white\"},\"yaxis\":{\"backgroundcolor\":\"rgb(237,237,237)\",\"gridcolor\":\"white\",\"gridwidth\":2,\"linecolor\":\"white\",\"showbackground\":true,\"showgrid\":true,\"tickcolor\":\"rgb(51,51,51)\",\"ticks\":\"outside\",\"zerolinecolor\":\"white\"},\"zaxis\":{\"backgroundcolor\":\"rgb(237,237,237)\",\"gridcolor\":\"white\",\"gridwidth\":2,\"linecolor\":\"white\",\"showbackground\":true,\"showgrid\":true,\"tickcolor\":\"rgb(51,51,51)\",\"ticks\":\"outside\",\"zerolinecolor\":\"white\"}},\"shapedefaults\":{\"fillcolor\":\"black\",\"line\":{\"width\":0},\"opacity\":0.3},\"ternary\":{\"aaxis\":{\"gridcolor\":\"white\",\"linecolor\":\"white\",\"showgrid\":true,\"tickcolor\":\"rgb(51,51,51)\",\"ticks\":\"outside\"},\"baxis\":{\"gridcolor\":\"white\",\"linecolor\":\"white\",\"showgrid\":true,\"tickcolor\":\"rgb(51,51,51)\",\"ticks\":\"outside\"},\"bgcolor\":\"rgb(237,237,237)\",\"caxis\":{\"gridcolor\":\"white\",\"linecolor\":\"white\",\"showgrid\":true,\"tickcolor\":\"rgb(51,51,51)\",\"ticks\":\"outside\"}},\"xaxis\":{\"automargin\":true,\"gridcolor\":\"white\",\"linecolor\":\"white\",\"showgrid\":true,\"tickcolor\":\"rgb(51,51,51)\",\"ticks\":\"outside\",\"title\":{\"standoff\":15},\"zerolinecolor\":\"white\"},\"yaxis\":{\"automargin\":true,\"gridcolor\":\"white\",\"linecolor\":\"white\",\"showgrid\":true,\"tickcolor\":\"rgb(51,51,51)\",\"ticks\":\"outside\",\"title\":{\"standoff\":15},\"zerolinecolor\":\"white\"}}},\"showlegend\":true},                        {\"responsive\": true}                    ).then(function(){\n",
              "                            \n",
              "var gd = document.getElementById('854b2b47-780d-4034-a468-4990dd619082');\n",
              "var x = new MutationObserver(function (mutations, observer) {{\n",
              "        var display = window.getComputedStyle(gd).display;\n",
              "        if (!display || display === 'none') {{\n",
              "            console.log([gd, 'removed!']);\n",
              "            Plotly.purge(gd);\n",
              "            observer.disconnect();\n",
              "        }}\n",
              "}});\n",
              "\n",
              "// Listen for the removal of the full notebook cells\n",
              "var notebookContainer = gd.closest('#notebook-container');\n",
              "if (notebookContainer) {{\n",
              "    x.observe(notebookContainer, {childList: true});\n",
              "}}\n",
              "\n",
              "// Listen for the clearing of the current output cell\n",
              "var outputEl = gd.closest('.output');\n",
              "if (outputEl) {{\n",
              "    x.observe(outputEl, {childList: true});\n",
              "}}\n",
              "\n",
              "                        })                };                            </script>        </div>\n",
              "</body>\n",
              "</html>"
            ]
          },
          "metadata": {}
        },
        {
          "output_type": "display_data",
          "data": {
            "text/html": [
              "<html>\n",
              "<head><meta charset=\"utf-8\" /></head>\n",
              "<body>\n",
              "    <div>            <script src=\"https://cdnjs.cloudflare.com/ajax/libs/mathjax/2.7.5/MathJax.js?config=TeX-AMS-MML_SVG\"></script><script type=\"text/javascript\">if (window.MathJax) {MathJax.Hub.Config({SVG: {font: \"STIX-Web\"}});}</script>                <script type=\"text/javascript\">window.PlotlyConfig = {MathJaxConfig: 'local'};</script>\n",
              "        <script src=\"https://cdn.plot.ly/plotly-2.6.3.min.js\"></script>                <div id=\"77ba3de5-4947-46b1-a92f-2b0c28700df9\" class=\"plotly-graph-div\" style=\"height:525px; width:100%;\"></div>            <script type=\"text/javascript\">                                    window.PLOTLYENV=window.PLOTLYENV || {};                                    if (document.getElementById(\"77ba3de5-4947-46b1-a92f-2b0c28700df9\")) {                    Plotly.newPlot(                        \"77ba3de5-4947-46b1-a92f-2b0c28700df9\",                        [{\"line\":{\"color\":\"#1f77b4\"},\"marker\":{\"size\":5},\"mode\":\"lines+markers\",\"name\":\"Forecast | ARIMA\",\"showlegend\":true,\"x\":[0,1,2,3,4,5,6,7,8,9,10,11,12,13,14,15,16,17,18,19,20,21,22,23,24,25,26,27,28,29,30,31,32,33,34,35,36,37,38,39,40,41,42,43,44,45,46,47,48,49,50,51,52,53,54,55,56,57,58,59,60,61,62,63,64,65,66,67,68,69,70,71,72,73,74,75,76,77,78,79,80,81,82,83,84,85,86,87,88,89,90,91,92,93,94,95,96,97,98,99,100,101,102,103,104,105,106,107,108,109,110,111,112,113,114,115,116,117,118,119,120,121,122,123,124,125,126,127,128,129,130,131,132,133,134,135,136,137,138,139,140,141,142,143,144,145,146,147,148,149,150,151,152,153,154,155,156,157,158,159,160,161,162,163,164,165,166,167,168,169,170,171,172,173,174,175,176,177,178,179,180,181,182,183,184,185,186,187,188,189,190,191,192,193,194,195,196,197,198,199,200,201,202,203,204,205,206,207,208,209,210,211,212,213,214,215,216,217,218,219,220,221,222,223,224,225,226,227,228,229,230,231,232,233,234,235,236,237,238,239,240,241,242,243,244,245,246,247,248,249,250,251,252,253,254,255,256,257,258,259,260,261,262,263,264,265,266,267,268,269,270,271,272,273,274,275,276,277,278,279,280,281,282,283,284,285,286,287,288,289,290,291,292,293,294,295,296,297,298,299,300,301,302,303,304,305,306,307,308,309],\"y\":[175.9582,175.9582,175.9585,175.9589,175.9593,175.9597,175.9601,175.9605,175.9609,175.9613,175.9616,175.962,175.9624,175.9628,175.9632,175.9636,175.964,175.9644,175.9647,175.9651,175.9655,175.9659,175.9663,175.9667,175.9671,175.9675,175.9679,175.9682,175.9686,175.969,175.9694,175.9698,175.9702,175.9706,175.971,175.9713,175.9717,175.9721,175.9725,175.9729,175.9733,175.9737,175.9741,175.9744,175.9748,175.9752,175.9756,175.976,175.9764,175.9768,175.9772,175.9776,175.9779,175.9783,175.9787,175.9791,175.9795,175.9799,175.9803,175.9807,175.981,175.9814,175.9818,175.9822,175.9826,175.983,175.9834,175.9838,175.9842,175.9845,175.9849,175.9853,175.9857,175.9861,175.9865,175.9869,175.9873,175.9876,175.988,175.9884,175.9888,175.9892,175.9896,175.99,175.9904,175.9907,175.9911,175.9915,175.9919,175.9923,175.9927,175.9931,175.9935,175.9939,175.9942,175.9946,175.995,175.9954,175.9958,175.9962,175.9966,175.997,175.9973,175.9977,175.9981,175.9985,175.9989,175.9993,175.9997,176.0001,176.0004,176.0008,176.0012,176.0016,176.002,176.0024,176.0028,176.0032,176.0036,176.0039,176.0043,176.0047,176.0051,176.0055,176.0059,176.0063,176.0067,176.007,176.0074,176.0078,176.0082,176.0086,176.009,176.0094,176.0098,176.0102,176.0105,176.0109,176.0113,176.0117,176.0121,176.0125,176.0129,176.0133,176.0136,176.014,176.0144,176.0148,176.0152,176.0156,176.016,176.0164,176.0167,176.0171,176.0175,176.0179,176.0183,176.0187,176.0191,176.0195,176.0199,176.0202,176.0206,176.021,176.0214,176.0218,176.0222,176.0226,176.023,176.0233,176.0237,176.0241,176.0245,176.0249,176.0253,176.0257,176.0261,176.0265,176.0268,176.0272,176.0276,176.028,176.0284,176.0288,176.0292,176.0296,176.0299,176.0303,176.0307,176.0311,176.0315,176.0319,176.0323,176.0327,176.033,176.0334,176.0338,176.0342,176.0346,176.035,176.0354,176.0358,176.0362,176.0365,176.0369,176.0373,176.0377,176.0381,176.0385,176.0389,176.0393,176.0396,176.04,176.0404,176.0408,176.0412,176.0416,176.042,176.0424,176.0427,176.0431,176.0435,176.0439,176.0443,176.0447,176.0451,176.0455,176.0459,176.0462,176.0466,176.047,176.0474,176.0478,176.0482,176.0486,176.049,176.0493,176.0497,176.0501,176.0505,176.0509,176.0513,176.0517,176.0521,176.0525,176.0528,176.0532,176.0536,176.054,176.0544,176.0548,176.0552,176.0556,176.0559,176.0563,176.0567,176.0571,176.0575,176.0579,176.0583,176.0587,176.059,176.0594,176.0598,176.0602,176.0606,176.061,176.0614,176.0618,176.0622,176.0625,176.0629,176.0633,176.0637,176.0641,176.0645,176.0649,176.0653,176.0656,176.066,176.0664,176.0668,176.0672,176.0676,176.068,176.0684,176.0687,176.0691,176.0695,176.0699,176.0703,176.0707,176.0711,176.0715,176.0719,176.0722,176.0726,176.073,176.0734,176.0738,176.0742,176.0746,176.075,176.0753,176.0757,176.0761,176.0765,176.0769,176.0773,176.0777],\"type\":\"scatter\"},{\"marker\":{\"color\":\"#3f3f3f\",\"size\":5},\"mode\":\"lines+markers\",\"name\":\"Original\",\"showlegend\":true,\"x\":[0,1,2,3,4,5,6,7,8,9,10,11,12,13,14,15,16,17,18,19,20,21,22,23,24,25,26,27,28,29,30,31,32,33,34,35,36,37,38,39,40,41,42,43,44,45,46,47,48,49,50,51,52,53,54,55,56,57,58,59,60,61,62,63,64,65,66,67,68,69,70,71,72,73,74,75,76,77,78,79,80,81,82,83,84,85,86,87,88,89,90,91,92,93,94,95,96,97,98,99,100,101,102,103,104,105,106,107,108,109,110,111,112,113,114,115,116,117,118,119,120,121,122,123,124,125,126,127,128,129,130,131,132,133,134,135,136,137,138,139,140,141,142,143,144,145,146,147,148,149,150,151,152,153,154,155,156,157,158,159,160,161,162,163,164,165,166,167,168,169,170,171,172,173,174,175,176,177,178,179,180,181,182,183,184,185,186,187,188,189,190,191,192,193,194,195,196,197,198,199,200,201,202,203,204,205,206,207,208,209,210,211,212,213,214,215,216,217,218,219,220,221,222,223,224,225,226,227,228,229,230,231,232,233,234,235,236,237,238,239,240,241,242,243,244,245,246,247,248,249,250,251,252,253,254,255,256,257,258,259,260,261,262,263,264,265,266,267,268,269,270,271,272,273,274,275,276,277,278,279,280,281,282,283,284,285,286,287,288,289,290,291,292,293,294,295,296,297,298,299,300,301,302,303,304,305,306,307,308,309,310,311,312,313,314,315,316,317,318,319,320,321,322,323,324,325,326,327,328,329,330,331,332,333,334,335,336,337,338,339],\"y\":[175.379633322776,176.04211587314398,175.089078351448,176.15802877240398,175.34541535608102,177.767287269373,176.716707476017,176.910174229495,176.384185357826,177.68217608051899,175.36426354605098,175.53835526963903,177.43228223854197,175.34930364668998,175.792619256398,175.607192070558,175.680007131452,175.72088669702302,176.494188331268,175.82266951773,175.494042537886,177.34303882516997,175.785420591453,175.820443469957,175.899809258786,176.71266630705102,175.92643559587398,175.962365828533,175.318339521244,175.67572972775397,176.060160440435,175.41110551374,176.53149619263303,174.481605918213,176.30655786078998,174.46355017646198,175.699023873163,175.471720095555,175.347905219319,175.943103222153,174.08564057432,177.176583312019,174.335027563788,175.536469598528,174.884079894957,175.249180998807,178.087166545628,176.017395619693,174.713699469566,174.359394465581,176.450187101273,175.981440167285,175.681931625456,175.070637852546,174.512539689859,174.924807703384,177.000028803714,175.378733305203,174.615573152615,177.86929062242402,176.42510037737202,175.761352899087,177.05848304870898,176.886422651375,175.380756951769,178.20610246453998,175.74497296985902,174.575505349787,175.855600398046,176.20753833923197,178.30797839905898,176.10580236789397,176.456998805423,175.92284706464298,175.66599915763302,175.965273971689,176.78763960563,178.075245008652,177.027392438764,177.207908398387,174.768676578442,176.983895570053,176.219924803661,174.53274997090801,176.521022742648,175.841245395284,177.46458731196998,175.23391800039502,175.56978824607103,175.073890502623,175.82289603856302,176.402011779486,175.26825182688,176.83037316798197,174.791917213696,174.952015587192,177.441157706844,174.98415253469503,176.411974712318,175.618923948891,176.409401839651,177.688873286204,177.586588433442,175.66909219931702,173.714764464708,178.497661589834,176.66706616676498,176.541327335964,175.986600476854,176.51010842295298,175.83562416823003,176.42069464325502,175.59975325602198,174.629792122453,176.98783826745498,177.5197450255,175.691259430774,174.746710244392,176.642241305678,175.955290863106,174.266781593175,176.00213185968002,175.369699666072,175.65903142014,174.84342763736402,177.803141907917,175.66886796360902,174.394486587747,176.19719343873902,176.263175646405,175.014173299591,173.11107932832002,175.359518297435,176.57050763592,175.940276723957,175.90182125599497,176.56082072862,174.81354136142102,177.09677704427398,175.99465597172198,176.707310667398,177.034107734737,176.223480414915,175.12129238713402,177.162964555967,173.999835055215,175.455209259998,175.744329290843,175.833878963235,177.020463908784,176.136221893103,176.407167603424,175.930345186987,175.752335658381,176.69555080662,177.146228357216,173.596903785108,176.57273955524602,176.374724406779,175.57473227844397,176.95101280757703,175.610762818282,175.7156693382,176.85740977807998,177.71962729912102,176.270054900937,175.57781599021197,174.81088670514,175.66896702112098,175.06017067348998,175.74106741688098,176.394379168222,175.148142907976,178.649166881095,176.156011675665,177.13020726745498,173.71087602016001,176.741001157195,174.683754839548,176.919803677609,176.398130155452,175.59247142073002,177.324258630177,175.29876833075298,175.41938569575902,174.99892781897498,175.331821393247,176.945184953373,176.43370214954498,177.005159217677,175.609881335946,176.376370291775,176.244164924486,174.573742657617,177.778429287475,176.134447660934,176.765598999158,176.95513667690898,175.949434298558,175.694184580233,176.89367370242599,174.95270185093898,177.97133738622398,175.616367893712,177.654145302275,177.512212693951,176.082965733586,176.567220914852,174.975451520466,176.32300650302201,177.04361245835602,176.099078486897,175.54586309084598,175.34421814755,175.96407757737703,177.06916146067698,175.51602506969897,175.87898988867298,174.70585999617902,176.494312836015,177.30790152011397,177.497041009403,176.81470273089698,174.13021120979698,176.482029504124,176.45613560330102,175.64659971417,176.17048947094798,175.13596404587298,176.679230774016,175.672898985347,174.430917814856,175.63254924383,177.36443492906997,175.665718635269,176.732750042209,176.94658564019798,176.00439870432598,175.64767769445,175.470304490866,176.739589225575,174.93654258451699,176.246210843536,175.710500633436,173.735110643512,174.591149543927,176.916019328793,175.808721049465,176.803283216134,177.887474463309,177.47388118110902,176.677268492313,176.379962686567,175.807201573543,177.577891794904,176.596234109318,174.82642305912898,175.84435746511002,174.08109017972998,175.804741153889,173.40767233005403,177.314002167198,175.36445699896802,175.570021161306,175.83068166769797,176.612218173989,176.67834017722302,176.567951972472,175.42745739607398,174.636708743722,175.611277755662,176.27791413245097,175.176918878428,175.931159065522,174.83233767387,175.991690985784,176.12885540159698,175.854124371539,175.836089043264,177.763552002785,176.76258651241798,177.11143108073102,175.07679304716999,176.16434183842802,177.154825187097,175.94347857547402,173.870639351765,176.344845762099,174.095044554414,175.18882984686002,177.3240043213,176.61563684930303,177.091668955535,176.30660486151402,175.889841237517,175.07568722687301,177.592913753719,176.045010598122,175.284871599332,176.86522309971699,177.07444095827802,177.895654774199,175.397002696395,175.609132179277,175.58377796847,175.62434257718002,175.633369054298,175.704322547299,177.4418204102,175.302461708087,175.611832494079,176.652536452172,177.124772446535,175.227889196976,175.491913783862,176.523620590498,177.01775422653802,175.748835411912,174.570006552611,177.709121032101,177.43506957231202,175.28962885415,175.934932426344,174.24053126463403,176.569722971819,177.61234679820203,174.362719352895,175.220431486798,175.35882306624902,175.318868606429,173.96671440438203,176.50096355924802,174.468201860034,175.97500236072202,176.592984721025,175.801804578515,176.892008392474,175.974284929082,175.35233954941398,176.64635941503502],\"type\":\"scatter\"}],                        {\"title\":{\"text\":\"Actual vs. 'In-Sample' Forecast | x\"},\"xaxis\":{\"title\":{\"text\":\"Time\"}},\"yaxis\":{\"title\":{\"text\":\"Values\"}},\"template\":{\"data\":{\"barpolar\":[{\"marker\":{\"line\":{\"color\":\"rgb(237,237,237)\",\"width\":0.5},\"pattern\":{\"fillmode\":\"overlay\",\"size\":10,\"solidity\":0.2}},\"type\":\"barpolar\"}],\"bar\":[{\"error_x\":{\"color\":\"rgb(51,51,51)\"},\"error_y\":{\"color\":\"rgb(51,51,51)\"},\"marker\":{\"line\":{\"color\":\"rgb(237,237,237)\",\"width\":0.5},\"pattern\":{\"fillmode\":\"overlay\",\"size\":10,\"solidity\":0.2}},\"type\":\"bar\"}],\"carpet\":[{\"aaxis\":{\"endlinecolor\":\"rgb(51,51,51)\",\"gridcolor\":\"white\",\"linecolor\":\"white\",\"minorgridcolor\":\"white\",\"startlinecolor\":\"rgb(51,51,51)\"},\"baxis\":{\"endlinecolor\":\"rgb(51,51,51)\",\"gridcolor\":\"white\",\"linecolor\":\"white\",\"minorgridcolor\":\"white\",\"startlinecolor\":\"rgb(51,51,51)\"},\"type\":\"carpet\"}],\"choropleth\":[{\"colorbar\":{\"outlinewidth\":0,\"tickcolor\":\"rgb(237,237,237)\",\"ticklen\":6,\"ticks\":\"inside\"},\"type\":\"choropleth\"}],\"contourcarpet\":[{\"colorbar\":{\"outlinewidth\":0,\"tickcolor\":\"rgb(237,237,237)\",\"ticklen\":6,\"ticks\":\"inside\"},\"type\":\"contourcarpet\"}],\"contour\":[{\"colorbar\":{\"outlinewidth\":0,\"tickcolor\":\"rgb(237,237,237)\",\"ticklen\":6,\"ticks\":\"inside\"},\"colorscale\":[[0,\"rgb(20,44,66)\"],[1,\"rgb(90,179,244)\"]],\"type\":\"contour\"}],\"heatmapgl\":[{\"colorbar\":{\"outlinewidth\":0,\"tickcolor\":\"rgb(237,237,237)\",\"ticklen\":6,\"ticks\":\"inside\"},\"colorscale\":[[0,\"rgb(20,44,66)\"],[1,\"rgb(90,179,244)\"]],\"type\":\"heatmapgl\"}],\"heatmap\":[{\"colorbar\":{\"outlinewidth\":0,\"tickcolor\":\"rgb(237,237,237)\",\"ticklen\":6,\"ticks\":\"inside\"},\"colorscale\":[[0,\"rgb(20,44,66)\"],[1,\"rgb(90,179,244)\"]],\"type\":\"heatmap\"}],\"histogram2dcontour\":[{\"colorbar\":{\"outlinewidth\":0,\"tickcolor\":\"rgb(237,237,237)\",\"ticklen\":6,\"ticks\":\"inside\"},\"colorscale\":[[0,\"rgb(20,44,66)\"],[1,\"rgb(90,179,244)\"]],\"type\":\"histogram2dcontour\"}],\"histogram2d\":[{\"colorbar\":{\"outlinewidth\":0,\"tickcolor\":\"rgb(237,237,237)\",\"ticklen\":6,\"ticks\":\"inside\"},\"colorscale\":[[0,\"rgb(20,44,66)\"],[1,\"rgb(90,179,244)\"]],\"type\":\"histogram2d\"}],\"histogram\":[{\"marker\":{\"pattern\":{\"fillmode\":\"overlay\",\"size\":10,\"solidity\":0.2}},\"type\":\"histogram\"}],\"mesh3d\":[{\"colorbar\":{\"outlinewidth\":0,\"tickcolor\":\"rgb(237,237,237)\",\"ticklen\":6,\"ticks\":\"inside\"},\"type\":\"mesh3d\"}],\"parcoords\":[{\"line\":{\"colorbar\":{\"outlinewidth\":0,\"tickcolor\":\"rgb(237,237,237)\",\"ticklen\":6,\"ticks\":\"inside\"}},\"type\":\"parcoords\"}],\"pie\":[{\"automargin\":true,\"type\":\"pie\"}],\"scatter3d\":[{\"line\":{\"colorbar\":{\"outlinewidth\":0,\"tickcolor\":\"rgb(237,237,237)\",\"ticklen\":6,\"ticks\":\"inside\"}},\"marker\":{\"colorbar\":{\"outlinewidth\":0,\"tickcolor\":\"rgb(237,237,237)\",\"ticklen\":6,\"ticks\":\"inside\"}},\"type\":\"scatter3d\"}],\"scattercarpet\":[{\"marker\":{\"colorbar\":{\"outlinewidth\":0,\"tickcolor\":\"rgb(237,237,237)\",\"ticklen\":6,\"ticks\":\"inside\"}},\"type\":\"scattercarpet\"}],\"scattergeo\":[{\"marker\":{\"colorbar\":{\"outlinewidth\":0,\"tickcolor\":\"rgb(237,237,237)\",\"ticklen\":6,\"ticks\":\"inside\"}},\"type\":\"scattergeo\"}],\"scattergl\":[{\"marker\":{\"colorbar\":{\"outlinewidth\":0,\"tickcolor\":\"rgb(237,237,237)\",\"ticklen\":6,\"ticks\":\"inside\"}},\"type\":\"scattergl\"}],\"scattermapbox\":[{\"marker\":{\"colorbar\":{\"outlinewidth\":0,\"tickcolor\":\"rgb(237,237,237)\",\"ticklen\":6,\"ticks\":\"inside\"}},\"type\":\"scattermapbox\"}],\"scatterpolargl\":[{\"marker\":{\"colorbar\":{\"outlinewidth\":0,\"tickcolor\":\"rgb(237,237,237)\",\"ticklen\":6,\"ticks\":\"inside\"}},\"type\":\"scatterpolargl\"}],\"scatterpolar\":[{\"marker\":{\"colorbar\":{\"outlinewidth\":0,\"tickcolor\":\"rgb(237,237,237)\",\"ticklen\":6,\"ticks\":\"inside\"}},\"type\":\"scatterpolar\"}],\"scatter\":[{\"marker\":{\"colorbar\":{\"outlinewidth\":0,\"tickcolor\":\"rgb(237,237,237)\",\"ticklen\":6,\"ticks\":\"inside\"}},\"type\":\"scatter\"}],\"scatterternary\":[{\"marker\":{\"colorbar\":{\"outlinewidth\":0,\"tickcolor\":\"rgb(237,237,237)\",\"ticklen\":6,\"ticks\":\"inside\"}},\"type\":\"scatterternary\"}],\"surface\":[{\"colorbar\":{\"outlinewidth\":0,\"tickcolor\":\"rgb(237,237,237)\",\"ticklen\":6,\"ticks\":\"inside\"},\"colorscale\":[[0,\"rgb(20,44,66)\"],[1,\"rgb(90,179,244)\"]],\"type\":\"surface\"}],\"table\":[{\"cells\":{\"fill\":{\"color\":\"rgb(237,237,237)\"},\"line\":{\"color\":\"white\"}},\"header\":{\"fill\":{\"color\":\"rgb(217,217,217)\"},\"line\":{\"color\":\"white\"}},\"type\":\"table\"}]},\"layout\":{\"annotationdefaults\":{\"arrowhead\":0,\"arrowwidth\":1},\"autotypenumbers\":\"strict\",\"coloraxis\":{\"colorbar\":{\"outlinewidth\":0,\"tickcolor\":\"rgb(237,237,237)\",\"ticklen\":6,\"ticks\":\"inside\"}},\"colorscale\":{\"sequential\":[[0,\"rgb(20,44,66)\"],[1,\"rgb(90,179,244)\"]],\"sequentialminus\":[[0,\"rgb(20,44,66)\"],[1,\"rgb(90,179,244)\"]]},\"colorway\":[\"#F8766D\",\"#A3A500\",\"#00BF7D\",\"#00B0F6\",\"#E76BF3\"],\"font\":{\"color\":\"rgb(51,51,51)\"},\"geo\":{\"bgcolor\":\"white\",\"lakecolor\":\"white\",\"landcolor\":\"rgb(237,237,237)\",\"showlakes\":true,\"showland\":true,\"subunitcolor\":\"white\"},\"hoverlabel\":{\"align\":\"left\"},\"hovermode\":\"closest\",\"paper_bgcolor\":\"white\",\"plot_bgcolor\":\"rgb(237,237,237)\",\"polar\":{\"angularaxis\":{\"gridcolor\":\"white\",\"linecolor\":\"white\",\"showgrid\":true,\"tickcolor\":\"rgb(51,51,51)\",\"ticks\":\"outside\"},\"bgcolor\":\"rgb(237,237,237)\",\"radialaxis\":{\"gridcolor\":\"white\",\"linecolor\":\"white\",\"showgrid\":true,\"tickcolor\":\"rgb(51,51,51)\",\"ticks\":\"outside\"}},\"scene\":{\"xaxis\":{\"backgroundcolor\":\"rgb(237,237,237)\",\"gridcolor\":\"white\",\"gridwidth\":2,\"linecolor\":\"white\",\"showbackground\":true,\"showgrid\":true,\"tickcolor\":\"rgb(51,51,51)\",\"ticks\":\"outside\",\"zerolinecolor\":\"white\"},\"yaxis\":{\"backgroundcolor\":\"rgb(237,237,237)\",\"gridcolor\":\"white\",\"gridwidth\":2,\"linecolor\":\"white\",\"showbackground\":true,\"showgrid\":true,\"tickcolor\":\"rgb(51,51,51)\",\"ticks\":\"outside\",\"zerolinecolor\":\"white\"},\"zaxis\":{\"backgroundcolor\":\"rgb(237,237,237)\",\"gridcolor\":\"white\",\"gridwidth\":2,\"linecolor\":\"white\",\"showbackground\":true,\"showgrid\":true,\"tickcolor\":\"rgb(51,51,51)\",\"ticks\":\"outside\",\"zerolinecolor\":\"white\"}},\"shapedefaults\":{\"fillcolor\":\"black\",\"line\":{\"width\":0},\"opacity\":0.3},\"ternary\":{\"aaxis\":{\"gridcolor\":\"white\",\"linecolor\":\"white\",\"showgrid\":true,\"tickcolor\":\"rgb(51,51,51)\",\"ticks\":\"outside\"},\"baxis\":{\"gridcolor\":\"white\",\"linecolor\":\"white\",\"showgrid\":true,\"tickcolor\":\"rgb(51,51,51)\",\"ticks\":\"outside\"},\"bgcolor\":\"rgb(237,237,237)\",\"caxis\":{\"gridcolor\":\"white\",\"linecolor\":\"white\",\"showgrid\":true,\"tickcolor\":\"rgb(51,51,51)\",\"ticks\":\"outside\"}},\"xaxis\":{\"automargin\":true,\"gridcolor\":\"white\",\"linecolor\":\"white\",\"showgrid\":true,\"tickcolor\":\"rgb(51,51,51)\",\"ticks\":\"outside\",\"title\":{\"standoff\":15},\"zerolinecolor\":\"white\"},\"yaxis\":{\"automargin\":true,\"gridcolor\":\"white\",\"linecolor\":\"white\",\"showgrid\":true,\"tickcolor\":\"rgb(51,51,51)\",\"ticks\":\"outside\",\"title\":{\"standoff\":15},\"zerolinecolor\":\"white\"}}},\"showlegend\":true},                        {\"responsive\": true}                    ).then(function(){\n",
              "                            \n",
              "var gd = document.getElementById('77ba3de5-4947-46b1-a92f-2b0c28700df9');\n",
              "var x = new MutationObserver(function (mutations, observer) {{\n",
              "        var display = window.getComputedStyle(gd).display;\n",
              "        if (!display || display === 'none') {{\n",
              "            console.log([gd, 'removed!']);\n",
              "            Plotly.purge(gd);\n",
              "            observer.disconnect();\n",
              "        }}\n",
              "}});\n",
              "\n",
              "// Listen for the removal of the full notebook cells\n",
              "var notebookContainer = gd.closest('#notebook-container');\n",
              "if (notebookContainer) {{\n",
              "    x.observe(notebookContainer, {childList: true});\n",
              "}}\n",
              "\n",
              "// Listen for the clearing of the current output cell\n",
              "var outputEl = gd.closest('.output');\n",
              "if (outputEl) {{\n",
              "    x.observe(outputEl, {childList: true});\n",
              "}}\n",
              "\n",
              "                        })                };                            </script>        </div>\n",
              "</body>\n",
              "</html>"
            ]
          },
          "metadata": {}
        }
      ]
    },
    {
      "cell_type": "markdown",
      "metadata": {
        "id": "7Ql5_IW63CzQ"
      },
      "source": [
        "The model output matches with our theoretical calculations"
      ]
    },
    {
      "cell_type": "markdown",
      "metadata": {
        "id": "1KnsWOKh0b8v"
      },
      "source": [
        "## Conclusion\n",
        "\n",
        "Hopefully this exercise has given us a good understanding of the `trend` component of the ARIMA model. In the next set of articles, we will cover the `order` and `seasonal_order` terms in detail."
      ]
    }
  ]
}