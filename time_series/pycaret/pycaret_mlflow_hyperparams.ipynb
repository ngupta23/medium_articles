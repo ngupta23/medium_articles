{
  "cells": [
    {
      "cell_type": "code",
      "execution_count": 1,
      "metadata": {
        "colab": {
          "base_uri": "https://localhost:8080/"
        },
        "id": "2TQKjCOlNnEF",
        "outputId": "22273131-7078-40a9-e848-d514cc8eb759"
      },
      "outputs": [],
      "source": [
        "# try:\n",
        "#   import pycaret\n",
        "# except:\n",
        "#    !pip install pycaret-ts-alpha"
      ]
    },
    {
      "cell_type": "code",
      "execution_count": 2,
      "metadata": {
        "colab": {
          "base_uri": "https://localhost:8080/"
        },
        "id": "D4H4OQplNxB7",
        "outputId": "89589239-a51a-477a-a804-101fa20ed007"
      },
      "outputs": [],
      "source": [
        "import numpy as np\n",
        "import pandas as pd\n",
        "from pycaret.datasets import  get_data\n",
        "from pycaret.internal.pycaret_experiment import TimeSeriesExperiment"
      ]
    },
    {
      "cell_type": "code",
      "execution_count": 3,
      "metadata": {
        "colab": {
          "base_uri": "https://localhost:8080/",
          "height": 139
        },
        "id": "6dGg2a8_N7tE",
        "outputId": "b8e7a42e-a5a2-429b-f972-d142a60894f3"
      },
      "outputs": [
        {
          "data": {
            "text/plain": [
              "Period\n",
              "1949-01    112.0\n",
              "1949-02    118.0\n",
              "1949-03    132.0\n",
              "1949-04    129.0\n",
              "1949-05    121.0\n",
              "Freq: M, Name: Number of airline passengers, dtype: float64"
            ]
          },
          "metadata": {},
          "output_type": "display_data"
        }
      ],
      "source": [
        "y = get_data(\"airline\")"
      ]
    },
    {
      "cell_type": "code",
      "execution_count": 4,
      "metadata": {
        "id": "sbsf__89OfYQ"
      },
      "outputs": [],
      "source": [
        "exp = TimeSeriesExperiment()"
      ]
    },
    {
      "cell_type": "markdown",
      "metadata": {},
      "source": [
        "# Understanding Hyperparameters\n",
        "\n",
        "## Hyper-Parameter: Window Length"
      ]
    },
    {
      "cell_type": "code",
      "execution_count": 5,
      "metadata": {
        "colab": {
          "base_uri": "https://localhost:8080/",
          "height": 694,
          "referenced_widgets": [
            "eae4f4129e924fe3be54af7d5ad744fa",
            "6b98328c45b14636bfeea7eae5c579f4",
            "82c6e8188aa64af49694b5cdb62f5f1a"
          ]
        },
        "id": "EIZSeVYDN_D5",
        "outputId": "0c7dff29-2f54-4c17-cfc3-b679983a4f25"
      },
      "outputs": [
        {
          "data": {
            "text/html": [
              "<style type=\"text/css\">\n",
              "#T_2e1a1_row9_col1, #T_2e1a1_row10_col1, #T_2e1a1_row12_col1, #T_2e1a1_row13_col1, #T_2e1a1_row16_col1 {\n",
              "  background-color: lightgreen;\n",
              "}\n",
              "</style>\n",
              "<table id=\"T_2e1a1_\">\n",
              "  <thead>\n",
              "    <tr>\n",
              "      <th class=\"blank level0\" >&nbsp;</th>\n",
              "      <th class=\"col_heading level0 col0\" >Description</th>\n",
              "      <th class=\"col_heading level0 col1\" >Value</th>\n",
              "    </tr>\n",
              "  </thead>\n",
              "  <tbody>\n",
              "    <tr>\n",
              "      <th id=\"T_2e1a1_level0_row0\" class=\"row_heading level0 row0\" >0</th>\n",
              "      <td id=\"T_2e1a1_row0_col0\" class=\"data row0 col0\" >session_id</td>\n",
              "      <td id=\"T_2e1a1_row0_col1\" class=\"data row0 col1\" >42</td>\n",
              "    </tr>\n",
              "    <tr>\n",
              "      <th id=\"T_2e1a1_level0_row1\" class=\"row_heading level0 row1\" >1</th>\n",
              "      <td id=\"T_2e1a1_row1_col0\" class=\"data row1 col0\" >Original Data</td>\n",
              "      <td id=\"T_2e1a1_row1_col1\" class=\"data row1 col1\" >(144, 1)</td>\n",
              "    </tr>\n",
              "    <tr>\n",
              "      <th id=\"T_2e1a1_level0_row2\" class=\"row_heading level0 row2\" >2</th>\n",
              "      <td id=\"T_2e1a1_row2_col0\" class=\"data row2 col0\" >Missing Values</td>\n",
              "      <td id=\"T_2e1a1_row2_col1\" class=\"data row2 col1\" >False</td>\n",
              "    </tr>\n",
              "    <tr>\n",
              "      <th id=\"T_2e1a1_level0_row3\" class=\"row_heading level0 row3\" >3</th>\n",
              "      <td id=\"T_2e1a1_row3_col0\" class=\"data row3 col0\" >Transformed Train Set</td>\n",
              "      <td id=\"T_2e1a1_row3_col1\" class=\"data row3 col1\" >(132,)</td>\n",
              "    </tr>\n",
              "    <tr>\n",
              "      <th id=\"T_2e1a1_level0_row4\" class=\"row_heading level0 row4\" >4</th>\n",
              "      <td id=\"T_2e1a1_row4_col0\" class=\"data row4 col0\" >Transformed Test Set</td>\n",
              "      <td id=\"T_2e1a1_row4_col1\" class=\"data row4 col1\" >(12,)</td>\n",
              "    </tr>\n",
              "    <tr>\n",
              "      <th id=\"T_2e1a1_level0_row5\" class=\"row_heading level0 row5\" >5</th>\n",
              "      <td id=\"T_2e1a1_row5_col0\" class=\"data row5 col0\" >Fold Generator</td>\n",
              "      <td id=\"T_2e1a1_row5_col1\" class=\"data row5 col1\" >ExpandingWindowSplitter</td>\n",
              "    </tr>\n",
              "    <tr>\n",
              "      <th id=\"T_2e1a1_level0_row6\" class=\"row_heading level0 row6\" >6</th>\n",
              "      <td id=\"T_2e1a1_row6_col0\" class=\"data row6 col0\" >Fold Number</td>\n",
              "      <td id=\"T_2e1a1_row6_col1\" class=\"data row6 col1\" >3</td>\n",
              "    </tr>\n",
              "    <tr>\n",
              "      <th id=\"T_2e1a1_level0_row7\" class=\"row_heading level0 row7\" >7</th>\n",
              "      <td id=\"T_2e1a1_row7_col0\" class=\"data row7 col0\" >Enforce Prediction Interval</td>\n",
              "      <td id=\"T_2e1a1_row7_col1\" class=\"data row7 col1\" >False</td>\n",
              "    </tr>\n",
              "    <tr>\n",
              "      <th id=\"T_2e1a1_level0_row8\" class=\"row_heading level0 row8\" >8</th>\n",
              "      <td id=\"T_2e1a1_row8_col0\" class=\"data row8 col0\" >Seasonal Period Tested</td>\n",
              "      <td id=\"T_2e1a1_row8_col1\" class=\"data row8 col1\" >12</td>\n",
              "    </tr>\n",
              "    <tr>\n",
              "      <th id=\"T_2e1a1_level0_row9\" class=\"row_heading level0 row9\" >9</th>\n",
              "      <td id=\"T_2e1a1_row9_col0\" class=\"data row9 col0\" >Seasonality Detected</td>\n",
              "      <td id=\"T_2e1a1_row9_col1\" class=\"data row9 col1\" >True</td>\n",
              "    </tr>\n",
              "    <tr>\n",
              "      <th id=\"T_2e1a1_level0_row10\" class=\"row_heading level0 row10\" >10</th>\n",
              "      <td id=\"T_2e1a1_row10_col0\" class=\"data row10 col0\" >Target Strictly Positive</td>\n",
              "      <td id=\"T_2e1a1_row10_col1\" class=\"data row10 col1\" >True</td>\n",
              "    </tr>\n",
              "    <tr>\n",
              "      <th id=\"T_2e1a1_level0_row11\" class=\"row_heading level0 row11\" >11</th>\n",
              "      <td id=\"T_2e1a1_row11_col0\" class=\"data row11 col0\" >Target White Noise</td>\n",
              "      <td id=\"T_2e1a1_row11_col1\" class=\"data row11 col1\" >No</td>\n",
              "    </tr>\n",
              "    <tr>\n",
              "      <th id=\"T_2e1a1_level0_row12\" class=\"row_heading level0 row12\" >12</th>\n",
              "      <td id=\"T_2e1a1_row12_col0\" class=\"data row12 col0\" >Recommended d</td>\n",
              "      <td id=\"T_2e1a1_row12_col1\" class=\"data row12 col1\" >1</td>\n",
              "    </tr>\n",
              "    <tr>\n",
              "      <th id=\"T_2e1a1_level0_row13\" class=\"row_heading level0 row13\" >13</th>\n",
              "      <td id=\"T_2e1a1_row13_col0\" class=\"data row13 col0\" >Recommended Seasonal D</td>\n",
              "      <td id=\"T_2e1a1_row13_col1\" class=\"data row13 col1\" >1</td>\n",
              "    </tr>\n",
              "    <tr>\n",
              "      <th id=\"T_2e1a1_level0_row14\" class=\"row_heading level0 row14\" >14</th>\n",
              "      <td id=\"T_2e1a1_row14_col0\" class=\"data row14 col0\" >CPU Jobs</td>\n",
              "      <td id=\"T_2e1a1_row14_col1\" class=\"data row14 col1\" >-1</td>\n",
              "    </tr>\n",
              "    <tr>\n",
              "      <th id=\"T_2e1a1_level0_row15\" class=\"row_heading level0 row15\" >15</th>\n",
              "      <td id=\"T_2e1a1_row15_col0\" class=\"data row15 col0\" >Use GPU</td>\n",
              "      <td id=\"T_2e1a1_row15_col1\" class=\"data row15 col1\" >False</td>\n",
              "    </tr>\n",
              "    <tr>\n",
              "      <th id=\"T_2e1a1_level0_row16\" class=\"row_heading level0 row16\" >16</th>\n",
              "      <td id=\"T_2e1a1_row16_col0\" class=\"data row16 col0\" >Log Experiment</td>\n",
              "      <td id=\"T_2e1a1_row16_col1\" class=\"data row16 col1\" >True</td>\n",
              "    </tr>\n",
              "    <tr>\n",
              "      <th id=\"T_2e1a1_level0_row17\" class=\"row_heading level0 row17\" >17</th>\n",
              "      <td id=\"T_2e1a1_row17_col0\" class=\"data row17 col0\" >Experiment Name</td>\n",
              "      <td id=\"T_2e1a1_row17_col1\" class=\"data row17 col1\" >my_exp_hyper_window</td>\n",
              "    </tr>\n",
              "    <tr>\n",
              "      <th id=\"T_2e1a1_level0_row18\" class=\"row_heading level0 row18\" >18</th>\n",
              "      <td id=\"T_2e1a1_row18_col0\" class=\"data row18 col0\" >USI</td>\n",
              "      <td id=\"T_2e1a1_row18_col1\" class=\"data row18 col1\" >70ff</td>\n",
              "    </tr>\n",
              "    <tr>\n",
              "      <th id=\"T_2e1a1_level0_row19\" class=\"row_heading level0 row19\" >19</th>\n",
              "      <td id=\"T_2e1a1_row19_col0\" class=\"data row19 col0\" >Imputation Type</td>\n",
              "      <td id=\"T_2e1a1_row19_col1\" class=\"data row19 col1\" >simple</td>\n",
              "    </tr>\n",
              "  </tbody>\n",
              "</table>\n"
            ],
            "text/plain": [
              "<pandas.io.formats.style.Styler at 0x1f290b41760>"
            ]
          },
          "metadata": {},
          "output_type": "display_data"
        },
        {
          "data": {
            "text/plain": [
              "<pycaret.internal.pycaret_experiment.time_series_experiment.TimeSeriesExperiment at 0x1f2b984cc70>"
            ]
          },
          "execution_count": 5,
          "metadata": {},
          "output_type": "execute_result"
        }
      ],
      "source": [
        "#### Setup experiment with MLFlow logging ----\n",
        "exp.setup(\n",
        "    data=y,\n",
        "    fh=12,\n",
        "    session_id=42,\n",
        "    log_experiment=True,\n",
        "    experiment_name=\"my_exp_hyper_window\",\n",
        "    log_plots=True\n",
        "  )"
      ]
    },
    {
      "cell_type": "code",
      "execution_count": 6,
      "metadata": {},
      "outputs": [
        {
          "data": {
            "application/vnd.plotly.v1+json": {
              "config": {
                "plotlyServerURL": "https://plot.ly"
              },
              "data": [
                {
                  "marker": {
                    "color": "#3f3f3f",
                    "size": 5
                  },
                  "mode": "lines+markers",
                  "name": "Time Series",
                  "showlegend": true,
                  "type": "scatter",
                  "x": [
                    "1949-01-01T00:00:00",
                    "1949-02-01T00:00:00",
                    "1949-03-01T00:00:00",
                    "1949-04-01T00:00:00",
                    "1949-05-01T00:00:00",
                    "1949-06-01T00:00:00",
                    "1949-07-01T00:00:00",
                    "1949-08-01T00:00:00",
                    "1949-09-01T00:00:00",
                    "1949-10-01T00:00:00",
                    "1949-11-01T00:00:00",
                    "1949-12-01T00:00:00",
                    "1950-01-01T00:00:00",
                    "1950-02-01T00:00:00",
                    "1950-03-01T00:00:00",
                    "1950-04-01T00:00:00",
                    "1950-05-01T00:00:00",
                    "1950-06-01T00:00:00",
                    "1950-07-01T00:00:00",
                    "1950-08-01T00:00:00",
                    "1950-09-01T00:00:00",
                    "1950-10-01T00:00:00",
                    "1950-11-01T00:00:00",
                    "1950-12-01T00:00:00",
                    "1951-01-01T00:00:00",
                    "1951-02-01T00:00:00",
                    "1951-03-01T00:00:00",
                    "1951-04-01T00:00:00",
                    "1951-05-01T00:00:00",
                    "1951-06-01T00:00:00",
                    "1951-07-01T00:00:00",
                    "1951-08-01T00:00:00",
                    "1951-09-01T00:00:00",
                    "1951-10-01T00:00:00",
                    "1951-11-01T00:00:00",
                    "1951-12-01T00:00:00",
                    "1952-01-01T00:00:00",
                    "1952-02-01T00:00:00",
                    "1952-03-01T00:00:00",
                    "1952-04-01T00:00:00",
                    "1952-05-01T00:00:00",
                    "1952-06-01T00:00:00",
                    "1952-07-01T00:00:00",
                    "1952-08-01T00:00:00",
                    "1952-09-01T00:00:00",
                    "1952-10-01T00:00:00",
                    "1952-11-01T00:00:00",
                    "1952-12-01T00:00:00",
                    "1953-01-01T00:00:00",
                    "1953-02-01T00:00:00",
                    "1953-03-01T00:00:00",
                    "1953-04-01T00:00:00",
                    "1953-05-01T00:00:00",
                    "1953-06-01T00:00:00",
                    "1953-07-01T00:00:00",
                    "1953-08-01T00:00:00",
                    "1953-09-01T00:00:00",
                    "1953-10-01T00:00:00",
                    "1953-11-01T00:00:00",
                    "1953-12-01T00:00:00",
                    "1954-01-01T00:00:00",
                    "1954-02-01T00:00:00",
                    "1954-03-01T00:00:00",
                    "1954-04-01T00:00:00",
                    "1954-05-01T00:00:00",
                    "1954-06-01T00:00:00",
                    "1954-07-01T00:00:00",
                    "1954-08-01T00:00:00",
                    "1954-09-01T00:00:00",
                    "1954-10-01T00:00:00",
                    "1954-11-01T00:00:00",
                    "1954-12-01T00:00:00",
                    "1955-01-01T00:00:00",
                    "1955-02-01T00:00:00",
                    "1955-03-01T00:00:00",
                    "1955-04-01T00:00:00",
                    "1955-05-01T00:00:00",
                    "1955-06-01T00:00:00",
                    "1955-07-01T00:00:00",
                    "1955-08-01T00:00:00",
                    "1955-09-01T00:00:00",
                    "1955-10-01T00:00:00",
                    "1955-11-01T00:00:00",
                    "1955-12-01T00:00:00",
                    "1956-01-01T00:00:00",
                    "1956-02-01T00:00:00",
                    "1956-03-01T00:00:00",
                    "1956-04-01T00:00:00",
                    "1956-05-01T00:00:00",
                    "1956-06-01T00:00:00",
                    "1956-07-01T00:00:00",
                    "1956-08-01T00:00:00",
                    "1956-09-01T00:00:00",
                    "1956-10-01T00:00:00",
                    "1956-11-01T00:00:00",
                    "1956-12-01T00:00:00",
                    "1957-01-01T00:00:00",
                    "1957-02-01T00:00:00",
                    "1957-03-01T00:00:00",
                    "1957-04-01T00:00:00",
                    "1957-05-01T00:00:00",
                    "1957-06-01T00:00:00",
                    "1957-07-01T00:00:00",
                    "1957-08-01T00:00:00",
                    "1957-09-01T00:00:00",
                    "1957-10-01T00:00:00",
                    "1957-11-01T00:00:00",
                    "1957-12-01T00:00:00",
                    "1958-01-01T00:00:00",
                    "1958-02-01T00:00:00",
                    "1958-03-01T00:00:00",
                    "1958-04-01T00:00:00",
                    "1958-05-01T00:00:00",
                    "1958-06-01T00:00:00",
                    "1958-07-01T00:00:00",
                    "1958-08-01T00:00:00",
                    "1958-09-01T00:00:00",
                    "1958-10-01T00:00:00",
                    "1958-11-01T00:00:00",
                    "1958-12-01T00:00:00",
                    "1959-01-01T00:00:00",
                    "1959-02-01T00:00:00",
                    "1959-03-01T00:00:00",
                    "1959-04-01T00:00:00",
                    "1959-05-01T00:00:00",
                    "1959-06-01T00:00:00",
                    "1959-07-01T00:00:00",
                    "1959-08-01T00:00:00",
                    "1959-09-01T00:00:00",
                    "1959-10-01T00:00:00",
                    "1959-11-01T00:00:00",
                    "1959-12-01T00:00:00",
                    "1960-01-01T00:00:00",
                    "1960-02-01T00:00:00",
                    "1960-03-01T00:00:00",
                    "1960-04-01T00:00:00",
                    "1960-05-01T00:00:00",
                    "1960-06-01T00:00:00",
                    "1960-07-01T00:00:00",
                    "1960-08-01T00:00:00",
                    "1960-09-01T00:00:00",
                    "1960-10-01T00:00:00",
                    "1960-11-01T00:00:00",
                    "1960-12-01T00:00:00"
                  ],
                  "y": [
                    112,
                    118,
                    132,
                    129,
                    121,
                    135,
                    148,
                    148,
                    136,
                    119,
                    104,
                    118,
                    115,
                    126,
                    141,
                    135,
                    125,
                    149,
                    170,
                    170,
                    158,
                    133,
                    114,
                    140,
                    145,
                    150,
                    178,
                    163,
                    172,
                    178,
                    199,
                    199,
                    184,
                    162,
                    146,
                    166,
                    171,
                    180,
                    193,
                    181,
                    183,
                    218,
                    230,
                    242,
                    209,
                    191,
                    172,
                    194,
                    196,
                    196,
                    236,
                    235,
                    229,
                    243,
                    264,
                    272,
                    237,
                    211,
                    180,
                    201,
                    204,
                    188,
                    235,
                    227,
                    234,
                    264,
                    302,
                    293,
                    259,
                    229,
                    203,
                    229,
                    242,
                    233,
                    267,
                    269,
                    270,
                    315,
                    364,
                    347,
                    312,
                    274,
                    237,
                    278,
                    284,
                    277,
                    317,
                    313,
                    318,
                    374,
                    413,
                    405,
                    355,
                    306,
                    271,
                    306,
                    315,
                    301,
                    356,
                    348,
                    355,
                    422,
                    465,
                    467,
                    404,
                    347,
                    305,
                    336,
                    340,
                    318,
                    362,
                    348,
                    363,
                    435,
                    491,
                    505,
                    404,
                    359,
                    310,
                    337,
                    360,
                    342,
                    406,
                    396,
                    420,
                    472,
                    548,
                    559,
                    463,
                    407,
                    362,
                    405,
                    417,
                    391,
                    419,
                    461,
                    472,
                    535,
                    622,
                    606,
                    508,
                    461,
                    390,
                    432
                  ]
                }
              ],
              "layout": {
                "showlegend": true,
                "template": {
                  "data": {
                    "bar": [
                      {
                        "error_x": {
                          "color": "rgb(51,51,51)"
                        },
                        "error_y": {
                          "color": "rgb(51,51,51)"
                        },
                        "marker": {
                          "line": {
                            "color": "rgb(237,237,237)",
                            "width": 0.5
                          },
                          "pattern": {
                            "fillmode": "overlay",
                            "size": 10,
                            "solidity": 0.2
                          }
                        },
                        "type": "bar"
                      }
                    ],
                    "barpolar": [
                      {
                        "marker": {
                          "line": {
                            "color": "rgb(237,237,237)",
                            "width": 0.5
                          },
                          "pattern": {
                            "fillmode": "overlay",
                            "size": 10,
                            "solidity": 0.2
                          }
                        },
                        "type": "barpolar"
                      }
                    ],
                    "carpet": [
                      {
                        "aaxis": {
                          "endlinecolor": "rgb(51,51,51)",
                          "gridcolor": "white",
                          "linecolor": "white",
                          "minorgridcolor": "white",
                          "startlinecolor": "rgb(51,51,51)"
                        },
                        "baxis": {
                          "endlinecolor": "rgb(51,51,51)",
                          "gridcolor": "white",
                          "linecolor": "white",
                          "minorgridcolor": "white",
                          "startlinecolor": "rgb(51,51,51)"
                        },
                        "type": "carpet"
                      }
                    ],
                    "choropleth": [
                      {
                        "colorbar": {
                          "outlinewidth": 0,
                          "tickcolor": "rgb(237,237,237)",
                          "ticklen": 6,
                          "ticks": "inside"
                        },
                        "type": "choropleth"
                      }
                    ],
                    "contour": [
                      {
                        "colorbar": {
                          "outlinewidth": 0,
                          "tickcolor": "rgb(237,237,237)",
                          "ticklen": 6,
                          "ticks": "inside"
                        },
                        "colorscale": [
                          [
                            0,
                            "rgb(20,44,66)"
                          ],
                          [
                            1,
                            "rgb(90,179,244)"
                          ]
                        ],
                        "type": "contour"
                      }
                    ],
                    "contourcarpet": [
                      {
                        "colorbar": {
                          "outlinewidth": 0,
                          "tickcolor": "rgb(237,237,237)",
                          "ticklen": 6,
                          "ticks": "inside"
                        },
                        "type": "contourcarpet"
                      }
                    ],
                    "heatmap": [
                      {
                        "colorbar": {
                          "outlinewidth": 0,
                          "tickcolor": "rgb(237,237,237)",
                          "ticklen": 6,
                          "ticks": "inside"
                        },
                        "colorscale": [
                          [
                            0,
                            "rgb(20,44,66)"
                          ],
                          [
                            1,
                            "rgb(90,179,244)"
                          ]
                        ],
                        "type": "heatmap"
                      }
                    ],
                    "heatmapgl": [
                      {
                        "colorbar": {
                          "outlinewidth": 0,
                          "tickcolor": "rgb(237,237,237)",
                          "ticklen": 6,
                          "ticks": "inside"
                        },
                        "colorscale": [
                          [
                            0,
                            "rgb(20,44,66)"
                          ],
                          [
                            1,
                            "rgb(90,179,244)"
                          ]
                        ],
                        "type": "heatmapgl"
                      }
                    ],
                    "histogram": [
                      {
                        "marker": {
                          "pattern": {
                            "fillmode": "overlay",
                            "size": 10,
                            "solidity": 0.2
                          }
                        },
                        "type": "histogram"
                      }
                    ],
                    "histogram2d": [
                      {
                        "colorbar": {
                          "outlinewidth": 0,
                          "tickcolor": "rgb(237,237,237)",
                          "ticklen": 6,
                          "ticks": "inside"
                        },
                        "colorscale": [
                          [
                            0,
                            "rgb(20,44,66)"
                          ],
                          [
                            1,
                            "rgb(90,179,244)"
                          ]
                        ],
                        "type": "histogram2d"
                      }
                    ],
                    "histogram2dcontour": [
                      {
                        "colorbar": {
                          "outlinewidth": 0,
                          "tickcolor": "rgb(237,237,237)",
                          "ticklen": 6,
                          "ticks": "inside"
                        },
                        "colorscale": [
                          [
                            0,
                            "rgb(20,44,66)"
                          ],
                          [
                            1,
                            "rgb(90,179,244)"
                          ]
                        ],
                        "type": "histogram2dcontour"
                      }
                    ],
                    "mesh3d": [
                      {
                        "colorbar": {
                          "outlinewidth": 0,
                          "tickcolor": "rgb(237,237,237)",
                          "ticklen": 6,
                          "ticks": "inside"
                        },
                        "type": "mesh3d"
                      }
                    ],
                    "parcoords": [
                      {
                        "line": {
                          "colorbar": {
                            "outlinewidth": 0,
                            "tickcolor": "rgb(237,237,237)",
                            "ticklen": 6,
                            "ticks": "inside"
                          }
                        },
                        "type": "parcoords"
                      }
                    ],
                    "pie": [
                      {
                        "automargin": true,
                        "type": "pie"
                      }
                    ],
                    "scatter": [
                      {
                        "marker": {
                          "colorbar": {
                            "outlinewidth": 0,
                            "tickcolor": "rgb(237,237,237)",
                            "ticklen": 6,
                            "ticks": "inside"
                          }
                        },
                        "type": "scatter"
                      }
                    ],
                    "scatter3d": [
                      {
                        "line": {
                          "colorbar": {
                            "outlinewidth": 0,
                            "tickcolor": "rgb(237,237,237)",
                            "ticklen": 6,
                            "ticks": "inside"
                          }
                        },
                        "marker": {
                          "colorbar": {
                            "outlinewidth": 0,
                            "tickcolor": "rgb(237,237,237)",
                            "ticklen": 6,
                            "ticks": "inside"
                          }
                        },
                        "type": "scatter3d"
                      }
                    ],
                    "scattercarpet": [
                      {
                        "marker": {
                          "colorbar": {
                            "outlinewidth": 0,
                            "tickcolor": "rgb(237,237,237)",
                            "ticklen": 6,
                            "ticks": "inside"
                          }
                        },
                        "type": "scattercarpet"
                      }
                    ],
                    "scattergeo": [
                      {
                        "marker": {
                          "colorbar": {
                            "outlinewidth": 0,
                            "tickcolor": "rgb(237,237,237)",
                            "ticklen": 6,
                            "ticks": "inside"
                          }
                        },
                        "type": "scattergeo"
                      }
                    ],
                    "scattergl": [
                      {
                        "marker": {
                          "colorbar": {
                            "outlinewidth": 0,
                            "tickcolor": "rgb(237,237,237)",
                            "ticklen": 6,
                            "ticks": "inside"
                          }
                        },
                        "type": "scattergl"
                      }
                    ],
                    "scattermapbox": [
                      {
                        "marker": {
                          "colorbar": {
                            "outlinewidth": 0,
                            "tickcolor": "rgb(237,237,237)",
                            "ticklen": 6,
                            "ticks": "inside"
                          }
                        },
                        "type": "scattermapbox"
                      }
                    ],
                    "scatterpolar": [
                      {
                        "marker": {
                          "colorbar": {
                            "outlinewidth": 0,
                            "tickcolor": "rgb(237,237,237)",
                            "ticklen": 6,
                            "ticks": "inside"
                          }
                        },
                        "type": "scatterpolar"
                      }
                    ],
                    "scatterpolargl": [
                      {
                        "marker": {
                          "colorbar": {
                            "outlinewidth": 0,
                            "tickcolor": "rgb(237,237,237)",
                            "ticklen": 6,
                            "ticks": "inside"
                          }
                        },
                        "type": "scatterpolargl"
                      }
                    ],
                    "scatterternary": [
                      {
                        "marker": {
                          "colorbar": {
                            "outlinewidth": 0,
                            "tickcolor": "rgb(237,237,237)",
                            "ticklen": 6,
                            "ticks": "inside"
                          }
                        },
                        "type": "scatterternary"
                      }
                    ],
                    "surface": [
                      {
                        "colorbar": {
                          "outlinewidth": 0,
                          "tickcolor": "rgb(237,237,237)",
                          "ticklen": 6,
                          "ticks": "inside"
                        },
                        "colorscale": [
                          [
                            0,
                            "rgb(20,44,66)"
                          ],
                          [
                            1,
                            "rgb(90,179,244)"
                          ]
                        ],
                        "type": "surface"
                      }
                    ],
                    "table": [
                      {
                        "cells": {
                          "fill": {
                            "color": "rgb(237,237,237)"
                          },
                          "line": {
                            "color": "white"
                          }
                        },
                        "header": {
                          "fill": {
                            "color": "rgb(217,217,217)"
                          },
                          "line": {
                            "color": "white"
                          }
                        },
                        "type": "table"
                      }
                    ]
                  },
                  "layout": {
                    "annotationdefaults": {
                      "arrowhead": 0,
                      "arrowwidth": 1
                    },
                    "autotypenumbers": "strict",
                    "coloraxis": {
                      "colorbar": {
                        "outlinewidth": 0,
                        "tickcolor": "rgb(237,237,237)",
                        "ticklen": 6,
                        "ticks": "inside"
                      }
                    },
                    "colorscale": {
                      "sequential": [
                        [
                          0,
                          "rgb(20,44,66)"
                        ],
                        [
                          1,
                          "rgb(90,179,244)"
                        ]
                      ],
                      "sequentialminus": [
                        [
                          0,
                          "rgb(20,44,66)"
                        ],
                        [
                          1,
                          "rgb(90,179,244)"
                        ]
                      ]
                    },
                    "colorway": [
                      "#F8766D",
                      "#A3A500",
                      "#00BF7D",
                      "#00B0F6",
                      "#E76BF3"
                    ],
                    "font": {
                      "color": "rgb(51,51,51)"
                    },
                    "geo": {
                      "bgcolor": "white",
                      "lakecolor": "white",
                      "landcolor": "rgb(237,237,237)",
                      "showlakes": true,
                      "showland": true,
                      "subunitcolor": "white"
                    },
                    "hoverlabel": {
                      "align": "left"
                    },
                    "hovermode": "closest",
                    "paper_bgcolor": "white",
                    "plot_bgcolor": "rgb(237,237,237)",
                    "polar": {
                      "angularaxis": {
                        "gridcolor": "white",
                        "linecolor": "white",
                        "showgrid": true,
                        "tickcolor": "rgb(51,51,51)",
                        "ticks": "outside"
                      },
                      "bgcolor": "rgb(237,237,237)",
                      "radialaxis": {
                        "gridcolor": "white",
                        "linecolor": "white",
                        "showgrid": true,
                        "tickcolor": "rgb(51,51,51)",
                        "ticks": "outside"
                      }
                    },
                    "scene": {
                      "xaxis": {
                        "backgroundcolor": "rgb(237,237,237)",
                        "gridcolor": "white",
                        "gridwidth": 2,
                        "linecolor": "white",
                        "showbackground": true,
                        "showgrid": true,
                        "tickcolor": "rgb(51,51,51)",
                        "ticks": "outside",
                        "zerolinecolor": "white"
                      },
                      "yaxis": {
                        "backgroundcolor": "rgb(237,237,237)",
                        "gridcolor": "white",
                        "gridwidth": 2,
                        "linecolor": "white",
                        "showbackground": true,
                        "showgrid": true,
                        "tickcolor": "rgb(51,51,51)",
                        "ticks": "outside",
                        "zerolinecolor": "white"
                      },
                      "zaxis": {
                        "backgroundcolor": "rgb(237,237,237)",
                        "gridcolor": "white",
                        "gridwidth": 2,
                        "linecolor": "white",
                        "showbackground": true,
                        "showgrid": true,
                        "tickcolor": "rgb(51,51,51)",
                        "ticks": "outside",
                        "zerolinecolor": "white"
                      }
                    },
                    "shapedefaults": {
                      "fillcolor": "black",
                      "line": {
                        "width": 0
                      },
                      "opacity": 0.3
                    },
                    "ternary": {
                      "aaxis": {
                        "gridcolor": "white",
                        "linecolor": "white",
                        "showgrid": true,
                        "tickcolor": "rgb(51,51,51)",
                        "ticks": "outside"
                      },
                      "baxis": {
                        "gridcolor": "white",
                        "linecolor": "white",
                        "showgrid": true,
                        "tickcolor": "rgb(51,51,51)",
                        "ticks": "outside"
                      },
                      "bgcolor": "rgb(237,237,237)",
                      "caxis": {
                        "gridcolor": "white",
                        "linecolor": "white",
                        "showgrid": true,
                        "tickcolor": "rgb(51,51,51)",
                        "ticks": "outside"
                      }
                    },
                    "xaxis": {
                      "automargin": true,
                      "gridcolor": "white",
                      "linecolor": "white",
                      "showgrid": true,
                      "tickcolor": "rgb(51,51,51)",
                      "ticks": "outside",
                      "title": {
                        "standoff": 15
                      },
                      "zerolinecolor": "white"
                    },
                    "yaxis": {
                      "automargin": true,
                      "gridcolor": "white",
                      "linecolor": "white",
                      "showgrid": true,
                      "tickcolor": "rgb(51,51,51)",
                      "ticks": "outside",
                      "title": {
                        "standoff": 15
                      },
                      "zerolinecolor": "white"
                    }
                  }
                },
                "title": {
                  "text": "Time Series | Number of airline passengers"
                },
                "xaxis": {
                  "title": {
                    "text": "Time"
                  }
                },
                "yaxis": {
                  "title": {
                    "text": "Values"
                  }
                }
              }
            }
          },
          "metadata": {},
          "output_type": "display_data"
        },
        {
          "data": {
            "application/vnd.plotly.v1+json": {
              "config": {
                "plotlyServerURL": "https://plot.ly"
              },
              "data": [
                {
                  "marker": {
                    "color": "#1f77b4",
                    "size": 10
                  },
                  "mode": "markers",
                  "name": "ACF",
                  "showlegend": false,
                  "type": "scatter",
                  "x": [
                    0,
                    1,
                    2,
                    3,
                    4,
                    5,
                    6,
                    7,
                    8,
                    9,
                    10,
                    11,
                    12,
                    13,
                    14,
                    15,
                    16,
                    17,
                    18,
                    19,
                    20,
                    21,
                    22,
                    23,
                    24,
                    25,
                    26,
                    27,
                    28,
                    29,
                    30,
                    31,
                    32,
                    33,
                    34,
                    35,
                    36,
                    37,
                    38,
                    39,
                    40
                  ],
                  "y": [
                    1,
                    0.9480473407524915,
                    0.8755748351253506,
                    0.8066811554965003,
                    0.7526254173883077,
                    0.7137699726519646,
                    0.6817336033310039,
                    0.6629043863684494,
                    0.6556104843250864,
                    0.6709483279245043,
                    0.7027199209090715,
                    0.7432401890069327,
                    0.7603950422625556,
                    0.7126608704038238,
                    0.6463422792677533,
                    0.5859234238634495,
                    0.5379551907815616,
                    0.4997475259851799,
                    0.46873401291508704,
                    0.4498706649766616,
                    0.44162879574604624,
                    0.4572237571141587,
                    0.4824820295144395,
                    0.5171269883891182,
                    0.532189830465802,
                    0.49397569377503386,
                    0.43772133706806554,
                    0.38760289974645185,
                    0.3480250323299375,
                    0.31498387947256934,
                    0.2884968187844051,
                    0.2708018671117992,
                    0.26429010598992786,
                    0.27679933695014597,
                    0.2985214951556523,
                    0.3255871166106631,
                    0.33702359902053586,
                    0.30333485855791975,
                    0.25397708140719066,
                    0.21065533781406404,
                    0.17217092361106268
                  ]
                },
                {
                  "line": {
                    "color": "#3f3f3f"
                  },
                  "mode": "lines",
                  "name": "Lag1",
                  "showlegend": false,
                  "type": "scatter",
                  "x": [
                    0,
                    0
                  ],
                  "y": [
                    0,
                    1
                  ]
                },
                {
                  "line": {
                    "color": "#3f3f3f"
                  },
                  "mode": "lines",
                  "name": "Lag2",
                  "showlegend": false,
                  "type": "scatter",
                  "x": [
                    1,
                    1
                  ],
                  "y": [
                    0,
                    0.9480473407524915
                  ]
                },
                {
                  "line": {
                    "color": "#3f3f3f"
                  },
                  "mode": "lines",
                  "name": "Lag3",
                  "showlegend": false,
                  "type": "scatter",
                  "x": [
                    2,
                    2
                  ],
                  "y": [
                    0,
                    0.8755748351253506
                  ]
                },
                {
                  "line": {
                    "color": "#3f3f3f"
                  },
                  "mode": "lines",
                  "name": "Lag4",
                  "showlegend": false,
                  "type": "scatter",
                  "x": [
                    3,
                    3
                  ],
                  "y": [
                    0,
                    0.8066811554965003
                  ]
                },
                {
                  "line": {
                    "color": "#3f3f3f"
                  },
                  "mode": "lines",
                  "name": "Lag5",
                  "showlegend": false,
                  "type": "scatter",
                  "x": [
                    4,
                    4
                  ],
                  "y": [
                    0,
                    0.7526254173883077
                  ]
                },
                {
                  "line": {
                    "color": "#3f3f3f"
                  },
                  "mode": "lines",
                  "name": "Lag6",
                  "showlegend": false,
                  "type": "scatter",
                  "x": [
                    5,
                    5
                  ],
                  "y": [
                    0,
                    0.7137699726519646
                  ]
                },
                {
                  "line": {
                    "color": "#3f3f3f"
                  },
                  "mode": "lines",
                  "name": "Lag7",
                  "showlegend": false,
                  "type": "scatter",
                  "x": [
                    6,
                    6
                  ],
                  "y": [
                    0,
                    0.6817336033310039
                  ]
                },
                {
                  "line": {
                    "color": "#3f3f3f"
                  },
                  "mode": "lines",
                  "name": "Lag8",
                  "showlegend": false,
                  "type": "scatter",
                  "x": [
                    7,
                    7
                  ],
                  "y": [
                    0,
                    0.6629043863684494
                  ]
                },
                {
                  "line": {
                    "color": "#3f3f3f"
                  },
                  "mode": "lines",
                  "name": "Lag9",
                  "showlegend": false,
                  "type": "scatter",
                  "x": [
                    8,
                    8
                  ],
                  "y": [
                    0,
                    0.6556104843250864
                  ]
                },
                {
                  "line": {
                    "color": "#3f3f3f"
                  },
                  "mode": "lines",
                  "name": "Lag10",
                  "showlegend": false,
                  "type": "scatter",
                  "x": [
                    9,
                    9
                  ],
                  "y": [
                    0,
                    0.6709483279245043
                  ]
                },
                {
                  "line": {
                    "color": "#3f3f3f"
                  },
                  "mode": "lines",
                  "name": "Lag11",
                  "showlegend": false,
                  "type": "scatter",
                  "x": [
                    10,
                    10
                  ],
                  "y": [
                    0,
                    0.7027199209090715
                  ]
                },
                {
                  "line": {
                    "color": "#3f3f3f"
                  },
                  "mode": "lines",
                  "name": "Lag12",
                  "showlegend": false,
                  "type": "scatter",
                  "x": [
                    11,
                    11
                  ],
                  "y": [
                    0,
                    0.7432401890069327
                  ]
                },
                {
                  "line": {
                    "color": "#3f3f3f"
                  },
                  "mode": "lines",
                  "name": "Lag13",
                  "showlegend": false,
                  "type": "scatter",
                  "x": [
                    12,
                    12
                  ],
                  "y": [
                    0,
                    0.7603950422625556
                  ]
                },
                {
                  "line": {
                    "color": "#3f3f3f"
                  },
                  "mode": "lines",
                  "name": "Lag14",
                  "showlegend": false,
                  "type": "scatter",
                  "x": [
                    13,
                    13
                  ],
                  "y": [
                    0,
                    0.7126608704038238
                  ]
                },
                {
                  "line": {
                    "color": "#3f3f3f"
                  },
                  "mode": "lines",
                  "name": "Lag15",
                  "showlegend": false,
                  "type": "scatter",
                  "x": [
                    14,
                    14
                  ],
                  "y": [
                    0,
                    0.6463422792677533
                  ]
                },
                {
                  "line": {
                    "color": "#3f3f3f"
                  },
                  "mode": "lines",
                  "name": "Lag16",
                  "showlegend": false,
                  "type": "scatter",
                  "x": [
                    15,
                    15
                  ],
                  "y": [
                    0,
                    0.5859234238634495
                  ]
                },
                {
                  "line": {
                    "color": "#3f3f3f"
                  },
                  "mode": "lines",
                  "name": "Lag17",
                  "showlegend": false,
                  "type": "scatter",
                  "x": [
                    16,
                    16
                  ],
                  "y": [
                    0,
                    0.5379551907815616
                  ]
                },
                {
                  "line": {
                    "color": "#3f3f3f"
                  },
                  "mode": "lines",
                  "name": "Lag18",
                  "showlegend": false,
                  "type": "scatter",
                  "x": [
                    17,
                    17
                  ],
                  "y": [
                    0,
                    0.4997475259851799
                  ]
                },
                {
                  "line": {
                    "color": "#3f3f3f"
                  },
                  "mode": "lines",
                  "name": "Lag19",
                  "showlegend": false,
                  "type": "scatter",
                  "x": [
                    18,
                    18
                  ],
                  "y": [
                    0,
                    0.46873401291508704
                  ]
                },
                {
                  "line": {
                    "color": "#3f3f3f"
                  },
                  "mode": "lines",
                  "name": "Lag20",
                  "showlegend": false,
                  "type": "scatter",
                  "x": [
                    19,
                    19
                  ],
                  "y": [
                    0,
                    0.4498706649766616
                  ]
                },
                {
                  "line": {
                    "color": "#3f3f3f"
                  },
                  "mode": "lines",
                  "name": "Lag21",
                  "showlegend": false,
                  "type": "scatter",
                  "x": [
                    20,
                    20
                  ],
                  "y": [
                    0,
                    0.44162879574604624
                  ]
                },
                {
                  "line": {
                    "color": "#3f3f3f"
                  },
                  "mode": "lines",
                  "name": "Lag22",
                  "showlegend": false,
                  "type": "scatter",
                  "x": [
                    21,
                    21
                  ],
                  "y": [
                    0,
                    0.4572237571141587
                  ]
                },
                {
                  "line": {
                    "color": "#3f3f3f"
                  },
                  "mode": "lines",
                  "name": "Lag23",
                  "showlegend": false,
                  "type": "scatter",
                  "x": [
                    22,
                    22
                  ],
                  "y": [
                    0,
                    0.4824820295144395
                  ]
                },
                {
                  "line": {
                    "color": "#3f3f3f"
                  },
                  "mode": "lines",
                  "name": "Lag24",
                  "showlegend": false,
                  "type": "scatter",
                  "x": [
                    23,
                    23
                  ],
                  "y": [
                    0,
                    0.5171269883891182
                  ]
                },
                {
                  "line": {
                    "color": "#3f3f3f"
                  },
                  "mode": "lines",
                  "name": "Lag25",
                  "showlegend": false,
                  "type": "scatter",
                  "x": [
                    24,
                    24
                  ],
                  "y": [
                    0,
                    0.532189830465802
                  ]
                },
                {
                  "line": {
                    "color": "#3f3f3f"
                  },
                  "mode": "lines",
                  "name": "Lag26",
                  "showlegend": false,
                  "type": "scatter",
                  "x": [
                    25,
                    25
                  ],
                  "y": [
                    0,
                    0.49397569377503386
                  ]
                },
                {
                  "line": {
                    "color": "#3f3f3f"
                  },
                  "mode": "lines",
                  "name": "Lag27",
                  "showlegend": false,
                  "type": "scatter",
                  "x": [
                    26,
                    26
                  ],
                  "y": [
                    0,
                    0.43772133706806554
                  ]
                },
                {
                  "line": {
                    "color": "#3f3f3f"
                  },
                  "mode": "lines",
                  "name": "Lag28",
                  "showlegend": false,
                  "type": "scatter",
                  "x": [
                    27,
                    27
                  ],
                  "y": [
                    0,
                    0.38760289974645185
                  ]
                },
                {
                  "line": {
                    "color": "#3f3f3f"
                  },
                  "mode": "lines",
                  "name": "Lag29",
                  "showlegend": false,
                  "type": "scatter",
                  "x": [
                    28,
                    28
                  ],
                  "y": [
                    0,
                    0.3480250323299375
                  ]
                },
                {
                  "line": {
                    "color": "#3f3f3f"
                  },
                  "mode": "lines",
                  "name": "Lag30",
                  "showlegend": false,
                  "type": "scatter",
                  "x": [
                    29,
                    29
                  ],
                  "y": [
                    0,
                    0.31498387947256934
                  ]
                },
                {
                  "line": {
                    "color": "#3f3f3f"
                  },
                  "mode": "lines",
                  "name": "Lag31",
                  "showlegend": false,
                  "type": "scatter",
                  "x": [
                    30,
                    30
                  ],
                  "y": [
                    0,
                    0.2884968187844051
                  ]
                },
                {
                  "line": {
                    "color": "#3f3f3f"
                  },
                  "mode": "lines",
                  "name": "Lag32",
                  "showlegend": false,
                  "type": "scatter",
                  "x": [
                    31,
                    31
                  ],
                  "y": [
                    0,
                    0.2708018671117992
                  ]
                },
                {
                  "line": {
                    "color": "#3f3f3f"
                  },
                  "mode": "lines",
                  "name": "Lag33",
                  "showlegend": false,
                  "type": "scatter",
                  "x": [
                    32,
                    32
                  ],
                  "y": [
                    0,
                    0.26429010598992786
                  ]
                },
                {
                  "line": {
                    "color": "#3f3f3f"
                  },
                  "mode": "lines",
                  "name": "Lag34",
                  "showlegend": false,
                  "type": "scatter",
                  "x": [
                    33,
                    33
                  ],
                  "y": [
                    0,
                    0.27679933695014597
                  ]
                },
                {
                  "line": {
                    "color": "#3f3f3f"
                  },
                  "mode": "lines",
                  "name": "Lag35",
                  "showlegend": false,
                  "type": "scatter",
                  "x": [
                    34,
                    34
                  ],
                  "y": [
                    0,
                    0.2985214951556523
                  ]
                },
                {
                  "line": {
                    "color": "#3f3f3f"
                  },
                  "mode": "lines",
                  "name": "Lag36",
                  "showlegend": false,
                  "type": "scatter",
                  "x": [
                    35,
                    35
                  ],
                  "y": [
                    0,
                    0.3255871166106631
                  ]
                },
                {
                  "line": {
                    "color": "#3f3f3f"
                  },
                  "mode": "lines",
                  "name": "Lag37",
                  "showlegend": false,
                  "type": "scatter",
                  "x": [
                    36,
                    36
                  ],
                  "y": [
                    0,
                    0.33702359902053586
                  ]
                },
                {
                  "line": {
                    "color": "#3f3f3f"
                  },
                  "mode": "lines",
                  "name": "Lag38",
                  "showlegend": false,
                  "type": "scatter",
                  "x": [
                    37,
                    37
                  ],
                  "y": [
                    0,
                    0.30333485855791975
                  ]
                },
                {
                  "line": {
                    "color": "#3f3f3f"
                  },
                  "mode": "lines",
                  "name": "Lag39",
                  "showlegend": false,
                  "type": "scatter",
                  "x": [
                    38,
                    38
                  ],
                  "y": [
                    0,
                    0.25397708140719066
                  ]
                },
                {
                  "line": {
                    "color": "#3f3f3f"
                  },
                  "mode": "lines",
                  "name": "Lag40",
                  "showlegend": false,
                  "type": "scatter",
                  "x": [
                    39,
                    39
                  ],
                  "y": [
                    0,
                    0.21065533781406404
                  ]
                },
                {
                  "line": {
                    "color": "#3f3f3f"
                  },
                  "mode": "lines",
                  "name": "Lag41",
                  "showlegend": false,
                  "type": "scatter",
                  "x": [
                    40,
                    40
                  ],
                  "y": [
                    0,
                    0.17217092361106268
                  ]
                },
                {
                  "line": {
                    "color": "rgba(255,255,255,0)"
                  },
                  "mode": "lines",
                  "name": "UC",
                  "showlegend": false,
                  "type": "scatter",
                  "x": [
                    0,
                    1,
                    2,
                    3,
                    4,
                    5,
                    6,
                    7,
                    8,
                    9,
                    10,
                    11,
                    12,
                    13,
                    14,
                    15,
                    16,
                    17,
                    18,
                    19,
                    20,
                    21,
                    22,
                    23,
                    24,
                    25,
                    26,
                    27,
                    28,
                    29,
                    30,
                    31,
                    32,
                    33,
                    34,
                    35,
                    36,
                    37,
                    38,
                    39,
                    40
                  ],
                  "y": [
                    0,
                    0.16333033204500447,
                    0.2731861552145801,
                    0.3399017661883752,
                    0.38762383148595225,
                    0.42482244845589956,
                    0.45569292201744294,
                    0.48213348102703657,
                    0.5058641279364026,
                    0.5280447239635009,
                    0.5503176416817148,
                    0.5737563310797158,
                    0.5988899499585392,
                    0.624113974952015,
                    0.6454578001172306,
                    0.6624988158521082,
                    0.676181413525544,
                    0.6875038978431461,
                    0.6971273493682075,
                    0.7054848995976514,
                    0.7130966532991214,
                    0.72035595943078,
                    0.7280566375097884,
                    0.7365368914864218,
                    0.7461597871836548,
                    0.7562179276283605,
                    0.7647773994303542,
                    0.7714317972264944,
                    0.7766097146258821,
                    0.780759189618813,
                    0.7841418116449759,
                    0.7869682474990506,
                    0.7894502115268107,
                    0.7918070128489081,
                    0.7943841542594854,
                    0.7973711774106017,
                    0.8009098872583174,
                    0.8046842924814329,
                    0.807728904687554,
                    0.8098564828638037,
                    0.8113169075162115
                  ]
                },
                {
                  "fill": "tonexty",
                  "fillcolor": "rgba(32, 146, 230,0.3)",
                  "line": {
                    "color": "rgba(255,255,255,0)"
                  },
                  "mode": "lines",
                  "name": "LC",
                  "showlegend": false,
                  "type": "scatter",
                  "x": [
                    0,
                    1,
                    2,
                    3,
                    4,
                    5,
                    6,
                    7,
                    8,
                    9,
                    10,
                    11,
                    12,
                    13,
                    14,
                    15,
                    16,
                    17,
                    18,
                    19,
                    20,
                    21,
                    22,
                    23,
                    24,
                    25,
                    26,
                    27,
                    28,
                    29,
                    30,
                    31,
                    32,
                    33,
                    34,
                    35,
                    36,
                    37,
                    38,
                    39,
                    40
                  ],
                  "y": [
                    0,
                    -0.16333033204500447,
                    -0.2731861552145801,
                    -0.3399017661883753,
                    -0.38762383148595225,
                    -0.4248224484558996,
                    -0.4556929220174429,
                    -0.4821334810270366,
                    -0.5058641279364026,
                    -0.5280447239635008,
                    -0.5503176416817148,
                    -0.5737563310797159,
                    -0.5988899499585391,
                    -0.6241139749520151,
                    -0.6454578001172306,
                    -0.6624988158521083,
                    -0.676181413525544,
                    -0.687503897843146,
                    -0.6971273493682074,
                    -0.7054848995976514,
                    -0.7130966532991215,
                    -0.7203559594307799,
                    -0.7280566375097886,
                    -0.7365368914864217,
                    -0.7461597871836547,
                    -0.7562179276283605,
                    -0.7647773994303542,
                    -0.7714317972264942,
                    -0.7766097146258821,
                    -0.780759189618813,
                    -0.7841418116449758,
                    -0.7869682474990505,
                    -0.7894502115268106,
                    -0.7918070128489083,
                    -0.7943841542594854,
                    -0.7973711774106017,
                    -0.8009098872583174,
                    -0.8046842924814329,
                    -0.807728904687554,
                    -0.8098564828638037,
                    -0.8113169075162115
                  ]
                },
                {
                  "line": {
                    "color": "#3f3f3f"
                  },
                  "mode": "lines",
                  "name": "",
                  "showlegend": false,
                  "type": "scatter",
                  "x": [
                    0,
                    41
                  ],
                  "y": [
                    0,
                    0
                  ]
                }
              ],
              "layout": {
                "template": {
                  "data": {
                    "bar": [
                      {
                        "error_x": {
                          "color": "rgb(51,51,51)"
                        },
                        "error_y": {
                          "color": "rgb(51,51,51)"
                        },
                        "marker": {
                          "line": {
                            "color": "rgb(237,237,237)",
                            "width": 0.5
                          },
                          "pattern": {
                            "fillmode": "overlay",
                            "size": 10,
                            "solidity": 0.2
                          }
                        },
                        "type": "bar"
                      }
                    ],
                    "barpolar": [
                      {
                        "marker": {
                          "line": {
                            "color": "rgb(237,237,237)",
                            "width": 0.5
                          },
                          "pattern": {
                            "fillmode": "overlay",
                            "size": 10,
                            "solidity": 0.2
                          }
                        },
                        "type": "barpolar"
                      }
                    ],
                    "carpet": [
                      {
                        "aaxis": {
                          "endlinecolor": "rgb(51,51,51)",
                          "gridcolor": "white",
                          "linecolor": "white",
                          "minorgridcolor": "white",
                          "startlinecolor": "rgb(51,51,51)"
                        },
                        "baxis": {
                          "endlinecolor": "rgb(51,51,51)",
                          "gridcolor": "white",
                          "linecolor": "white",
                          "minorgridcolor": "white",
                          "startlinecolor": "rgb(51,51,51)"
                        },
                        "type": "carpet"
                      }
                    ],
                    "choropleth": [
                      {
                        "colorbar": {
                          "outlinewidth": 0,
                          "tickcolor": "rgb(237,237,237)",
                          "ticklen": 6,
                          "ticks": "inside"
                        },
                        "type": "choropleth"
                      }
                    ],
                    "contour": [
                      {
                        "colorbar": {
                          "outlinewidth": 0,
                          "tickcolor": "rgb(237,237,237)",
                          "ticklen": 6,
                          "ticks": "inside"
                        },
                        "colorscale": [
                          [
                            0,
                            "rgb(20,44,66)"
                          ],
                          [
                            1,
                            "rgb(90,179,244)"
                          ]
                        ],
                        "type": "contour"
                      }
                    ],
                    "contourcarpet": [
                      {
                        "colorbar": {
                          "outlinewidth": 0,
                          "tickcolor": "rgb(237,237,237)",
                          "ticklen": 6,
                          "ticks": "inside"
                        },
                        "type": "contourcarpet"
                      }
                    ],
                    "heatmap": [
                      {
                        "colorbar": {
                          "outlinewidth": 0,
                          "tickcolor": "rgb(237,237,237)",
                          "ticklen": 6,
                          "ticks": "inside"
                        },
                        "colorscale": [
                          [
                            0,
                            "rgb(20,44,66)"
                          ],
                          [
                            1,
                            "rgb(90,179,244)"
                          ]
                        ],
                        "type": "heatmap"
                      }
                    ],
                    "heatmapgl": [
                      {
                        "colorbar": {
                          "outlinewidth": 0,
                          "tickcolor": "rgb(237,237,237)",
                          "ticklen": 6,
                          "ticks": "inside"
                        },
                        "colorscale": [
                          [
                            0,
                            "rgb(20,44,66)"
                          ],
                          [
                            1,
                            "rgb(90,179,244)"
                          ]
                        ],
                        "type": "heatmapgl"
                      }
                    ],
                    "histogram": [
                      {
                        "marker": {
                          "pattern": {
                            "fillmode": "overlay",
                            "size": 10,
                            "solidity": 0.2
                          }
                        },
                        "type": "histogram"
                      }
                    ],
                    "histogram2d": [
                      {
                        "colorbar": {
                          "outlinewidth": 0,
                          "tickcolor": "rgb(237,237,237)",
                          "ticklen": 6,
                          "ticks": "inside"
                        },
                        "colorscale": [
                          [
                            0,
                            "rgb(20,44,66)"
                          ],
                          [
                            1,
                            "rgb(90,179,244)"
                          ]
                        ],
                        "type": "histogram2d"
                      }
                    ],
                    "histogram2dcontour": [
                      {
                        "colorbar": {
                          "outlinewidth": 0,
                          "tickcolor": "rgb(237,237,237)",
                          "ticklen": 6,
                          "ticks": "inside"
                        },
                        "colorscale": [
                          [
                            0,
                            "rgb(20,44,66)"
                          ],
                          [
                            1,
                            "rgb(90,179,244)"
                          ]
                        ],
                        "type": "histogram2dcontour"
                      }
                    ],
                    "mesh3d": [
                      {
                        "colorbar": {
                          "outlinewidth": 0,
                          "tickcolor": "rgb(237,237,237)",
                          "ticklen": 6,
                          "ticks": "inside"
                        },
                        "type": "mesh3d"
                      }
                    ],
                    "parcoords": [
                      {
                        "line": {
                          "colorbar": {
                            "outlinewidth": 0,
                            "tickcolor": "rgb(237,237,237)",
                            "ticklen": 6,
                            "ticks": "inside"
                          }
                        },
                        "type": "parcoords"
                      }
                    ],
                    "pie": [
                      {
                        "automargin": true,
                        "type": "pie"
                      }
                    ],
                    "scatter": [
                      {
                        "marker": {
                          "colorbar": {
                            "outlinewidth": 0,
                            "tickcolor": "rgb(237,237,237)",
                            "ticklen": 6,
                            "ticks": "inside"
                          }
                        },
                        "type": "scatter"
                      }
                    ],
                    "scatter3d": [
                      {
                        "line": {
                          "colorbar": {
                            "outlinewidth": 0,
                            "tickcolor": "rgb(237,237,237)",
                            "ticklen": 6,
                            "ticks": "inside"
                          }
                        },
                        "marker": {
                          "colorbar": {
                            "outlinewidth": 0,
                            "tickcolor": "rgb(237,237,237)",
                            "ticklen": 6,
                            "ticks": "inside"
                          }
                        },
                        "type": "scatter3d"
                      }
                    ],
                    "scattercarpet": [
                      {
                        "marker": {
                          "colorbar": {
                            "outlinewidth": 0,
                            "tickcolor": "rgb(237,237,237)",
                            "ticklen": 6,
                            "ticks": "inside"
                          }
                        },
                        "type": "scattercarpet"
                      }
                    ],
                    "scattergeo": [
                      {
                        "marker": {
                          "colorbar": {
                            "outlinewidth": 0,
                            "tickcolor": "rgb(237,237,237)",
                            "ticklen": 6,
                            "ticks": "inside"
                          }
                        },
                        "type": "scattergeo"
                      }
                    ],
                    "scattergl": [
                      {
                        "marker": {
                          "colorbar": {
                            "outlinewidth": 0,
                            "tickcolor": "rgb(237,237,237)",
                            "ticklen": 6,
                            "ticks": "inside"
                          }
                        },
                        "type": "scattergl"
                      }
                    ],
                    "scattermapbox": [
                      {
                        "marker": {
                          "colorbar": {
                            "outlinewidth": 0,
                            "tickcolor": "rgb(237,237,237)",
                            "ticklen": 6,
                            "ticks": "inside"
                          }
                        },
                        "type": "scattermapbox"
                      }
                    ],
                    "scatterpolar": [
                      {
                        "marker": {
                          "colorbar": {
                            "outlinewidth": 0,
                            "tickcolor": "rgb(237,237,237)",
                            "ticklen": 6,
                            "ticks": "inside"
                          }
                        },
                        "type": "scatterpolar"
                      }
                    ],
                    "scatterpolargl": [
                      {
                        "marker": {
                          "colorbar": {
                            "outlinewidth": 0,
                            "tickcolor": "rgb(237,237,237)",
                            "ticklen": 6,
                            "ticks": "inside"
                          }
                        },
                        "type": "scatterpolargl"
                      }
                    ],
                    "scatterternary": [
                      {
                        "marker": {
                          "colorbar": {
                            "outlinewidth": 0,
                            "tickcolor": "rgb(237,237,237)",
                            "ticklen": 6,
                            "ticks": "inside"
                          }
                        },
                        "type": "scatterternary"
                      }
                    ],
                    "surface": [
                      {
                        "colorbar": {
                          "outlinewidth": 0,
                          "tickcolor": "rgb(237,237,237)",
                          "ticklen": 6,
                          "ticks": "inside"
                        },
                        "colorscale": [
                          [
                            0,
                            "rgb(20,44,66)"
                          ],
                          [
                            1,
                            "rgb(90,179,244)"
                          ]
                        ],
                        "type": "surface"
                      }
                    ],
                    "table": [
                      {
                        "cells": {
                          "fill": {
                            "color": "rgb(237,237,237)"
                          },
                          "line": {
                            "color": "white"
                          }
                        },
                        "header": {
                          "fill": {
                            "color": "rgb(217,217,217)"
                          },
                          "line": {
                            "color": "white"
                          }
                        },
                        "type": "table"
                      }
                    ]
                  },
                  "layout": {
                    "annotationdefaults": {
                      "arrowhead": 0,
                      "arrowwidth": 1
                    },
                    "autotypenumbers": "strict",
                    "coloraxis": {
                      "colorbar": {
                        "outlinewidth": 0,
                        "tickcolor": "rgb(237,237,237)",
                        "ticklen": 6,
                        "ticks": "inside"
                      }
                    },
                    "colorscale": {
                      "sequential": [
                        [
                          0,
                          "rgb(20,44,66)"
                        ],
                        [
                          1,
                          "rgb(90,179,244)"
                        ]
                      ],
                      "sequentialminus": [
                        [
                          0,
                          "rgb(20,44,66)"
                        ],
                        [
                          1,
                          "rgb(90,179,244)"
                        ]
                      ]
                    },
                    "colorway": [
                      "#F8766D",
                      "#A3A500",
                      "#00BF7D",
                      "#00B0F6",
                      "#E76BF3"
                    ],
                    "font": {
                      "color": "rgb(51,51,51)"
                    },
                    "geo": {
                      "bgcolor": "white",
                      "lakecolor": "white",
                      "landcolor": "rgb(237,237,237)",
                      "showlakes": true,
                      "showland": true,
                      "subunitcolor": "white"
                    },
                    "hoverlabel": {
                      "align": "left"
                    },
                    "hovermode": "closest",
                    "paper_bgcolor": "white",
                    "plot_bgcolor": "rgb(237,237,237)",
                    "polar": {
                      "angularaxis": {
                        "gridcolor": "white",
                        "linecolor": "white",
                        "showgrid": true,
                        "tickcolor": "rgb(51,51,51)",
                        "ticks": "outside"
                      },
                      "bgcolor": "rgb(237,237,237)",
                      "radialaxis": {
                        "gridcolor": "white",
                        "linecolor": "white",
                        "showgrid": true,
                        "tickcolor": "rgb(51,51,51)",
                        "ticks": "outside"
                      }
                    },
                    "scene": {
                      "xaxis": {
                        "backgroundcolor": "rgb(237,237,237)",
                        "gridcolor": "white",
                        "gridwidth": 2,
                        "linecolor": "white",
                        "showbackground": true,
                        "showgrid": true,
                        "tickcolor": "rgb(51,51,51)",
                        "ticks": "outside",
                        "zerolinecolor": "white"
                      },
                      "yaxis": {
                        "backgroundcolor": "rgb(237,237,237)",
                        "gridcolor": "white",
                        "gridwidth": 2,
                        "linecolor": "white",
                        "showbackground": true,
                        "showgrid": true,
                        "tickcolor": "rgb(51,51,51)",
                        "ticks": "outside",
                        "zerolinecolor": "white"
                      },
                      "zaxis": {
                        "backgroundcolor": "rgb(237,237,237)",
                        "gridcolor": "white",
                        "gridwidth": 2,
                        "linecolor": "white",
                        "showbackground": true,
                        "showgrid": true,
                        "tickcolor": "rgb(51,51,51)",
                        "ticks": "outside",
                        "zerolinecolor": "white"
                      }
                    },
                    "shapedefaults": {
                      "fillcolor": "black",
                      "line": {
                        "width": 0
                      },
                      "opacity": 0.3
                    },
                    "ternary": {
                      "aaxis": {
                        "gridcolor": "white",
                        "linecolor": "white",
                        "showgrid": true,
                        "tickcolor": "rgb(51,51,51)",
                        "ticks": "outside"
                      },
                      "baxis": {
                        "gridcolor": "white",
                        "linecolor": "white",
                        "showgrid": true,
                        "tickcolor": "rgb(51,51,51)",
                        "ticks": "outside"
                      },
                      "bgcolor": "rgb(237,237,237)",
                      "caxis": {
                        "gridcolor": "white",
                        "linecolor": "white",
                        "showgrid": true,
                        "tickcolor": "rgb(51,51,51)",
                        "ticks": "outside"
                      }
                    },
                    "xaxis": {
                      "automargin": true,
                      "gridcolor": "white",
                      "linecolor": "white",
                      "showgrid": true,
                      "tickcolor": "rgb(51,51,51)",
                      "ticks": "outside",
                      "title": {
                        "standoff": 15
                      },
                      "zerolinecolor": "white"
                    },
                    "yaxis": {
                      "automargin": true,
                      "gridcolor": "white",
                      "linecolor": "white",
                      "showgrid": true,
                      "tickcolor": "rgb(51,51,51)",
                      "ticks": "outside",
                      "title": {
                        "standoff": 15
                      },
                      "zerolinecolor": "white"
                    }
                  }
                },
                "title": {
                  "text": "Autocorrelation (ACF) | Number of airline passengers"
                },
                "xaxis": {
                  "range": [
                    -1,
                    42
                  ]
                },
                "yaxis": {
                  "zerolinecolor": "#000000"
                }
              }
            }
          },
          "metadata": {},
          "output_type": "display_data"
        }
      ],
      "source": [
        "exp.plot_model()\n",
        "exp.plot_model(plot=\"acf\")"
      ]
    },
    {
      "cell_type": "code",
      "execution_count": 7,
      "metadata": {
        "colab": {
          "base_uri": "https://localhost:8080/"
        },
        "id": "_hqUKfaSOtVg",
        "outputId": "addefa01-4792-4d54-92f5-bcfe7404970c"
      },
      "outputs": [],
      "source": [
        "## Run from terminal that has the python/anaconda environment.\n",
        "## Alternately, run from notebook as below\n",
        "## Web browser must be accessible to see results.\n",
        "# !mlflow ui"
      ]
    },
    {
      "cell_type": "code",
      "execution_count": 8,
      "metadata": {
        "colab": {
          "base_uri": "https://localhost:8080/",
          "height": 206,
          "referenced_widgets": [
            "623796bf3be44d30bc93902db1f4d71c",
            "9edd650654f8454e9e166bf49434db30",
            "afd85029fd804d7ba2fd3731f3bed4b6"
          ]
        },
        "id": "r6Q5ORjPOvNo",
        "outputId": "6cd20c47-add7-46c0-f061-c5e792a1cbfd"
      },
      "outputs": [
        {
          "data": {
            "text/html": [
              "<style type=\"text/css\">\n",
              "#T_a3b6d_row3_col0, #T_a3b6d_row3_col1, #T_a3b6d_row3_col2, #T_a3b6d_row3_col3, #T_a3b6d_row3_col4, #T_a3b6d_row3_col5 {\n",
              "  background: yellow;\n",
              "}\n",
              "</style>\n",
              "<table id=\"T_a3b6d_\">\n",
              "  <thead>\n",
              "    <tr>\n",
              "      <th class=\"blank level0\" >&nbsp;</th>\n",
              "      <th class=\"col_heading level0 col0\" >cutoff</th>\n",
              "      <th class=\"col_heading level0 col1\" >MAE</th>\n",
              "      <th class=\"col_heading level0 col2\" >RMSE</th>\n",
              "      <th class=\"col_heading level0 col3\" >MAPE</th>\n",
              "      <th class=\"col_heading level0 col4\" >SMAPE</th>\n",
              "      <th class=\"col_heading level0 col5\" >R2</th>\n",
              "    </tr>\n",
              "  </thead>\n",
              "  <tbody>\n",
              "    <tr>\n",
              "      <th id=\"T_a3b6d_level0_row0\" class=\"row_heading level0 row0\" >0</th>\n",
              "      <td id=\"T_a3b6d_row0_col0\" class=\"data row0 col0\" >1956-12</td>\n",
              "      <td id=\"T_a3b6d_row0_col1\" class=\"data row0 col1\" >28.4175</td>\n",
              "      <td id=\"T_a3b6d_row0_col2\" class=\"data row0 col2\" >30.8825</td>\n",
              "      <td id=\"T_a3b6d_row0_col3\" class=\"data row0 col3\" >0.0765</td>\n",
              "      <td id=\"T_a3b6d_row0_col4\" class=\"data row0 col4\" >0.0801</td>\n",
              "      <td id=\"T_a3b6d_row0_col5\" class=\"data row0 col5\" >0.6895</td>\n",
              "    </tr>\n",
              "    <tr>\n",
              "      <th id=\"T_a3b6d_level0_row1\" class=\"row_heading level0 row1\" >1</th>\n",
              "      <td id=\"T_a3b6d_row1_col0\" class=\"data row1 col0\" >1957-12</td>\n",
              "      <td id=\"T_a3b6d_row1_col1\" class=\"data row1 col1\" >17.2156</td>\n",
              "      <td id=\"T_a3b6d_row1_col2\" class=\"data row1 col2\" >20.0185</td>\n",
              "      <td id=\"T_a3b6d_row1_col3\" class=\"data row1 col3\" >0.0455</td>\n",
              "      <td id=\"T_a3b6d_row1_col4\" class=\"data row1 col4\" >0.0442</td>\n",
              "      <td id=\"T_a3b6d_row1_col5\" class=\"data row1 col5\" >0.8950</td>\n",
              "    </tr>\n",
              "    <tr>\n",
              "      <th id=\"T_a3b6d_level0_row2\" class=\"row_heading level0 row2\" >2</th>\n",
              "      <td id=\"T_a3b6d_row2_col0\" class=\"data row2 col0\" >1958-12</td>\n",
              "      <td id=\"T_a3b6d_row2_col1\" class=\"data row2 col1\" >25.6147</td>\n",
              "      <td id=\"T_a3b6d_row2_col2\" class=\"data row2 col2\" >28.6554</td>\n",
              "      <td id=\"T_a3b6d_row2_col3\" class=\"data row2 col3\" >0.0627</td>\n",
              "      <td id=\"T_a3b6d_row2_col4\" class=\"data row2 col4\" >0.0654</td>\n",
              "      <td id=\"T_a3b6d_row2_col5\" class=\"data row2 col5\" >0.8163</td>\n",
              "    </tr>\n",
              "    <tr>\n",
              "      <th id=\"T_a3b6d_level0_row3\" class=\"row_heading level0 row3\" >Mean</th>\n",
              "      <td id=\"T_a3b6d_row3_col0\" class=\"data row3 col0\" >NaT</td>\n",
              "      <td id=\"T_a3b6d_row3_col1\" class=\"data row3 col1\" >23.7493</td>\n",
              "      <td id=\"T_a3b6d_row3_col2\" class=\"data row3 col2\" >26.5188</td>\n",
              "      <td id=\"T_a3b6d_row3_col3\" class=\"data row3 col3\" >0.0616</td>\n",
              "      <td id=\"T_a3b6d_row3_col4\" class=\"data row3 col4\" >0.0632</td>\n",
              "      <td id=\"T_a3b6d_row3_col5\" class=\"data row3 col5\" >0.8003</td>\n",
              "    </tr>\n",
              "    <tr>\n",
              "      <th id=\"T_a3b6d_level0_row4\" class=\"row_heading level0 row4\" >SD</th>\n",
              "      <td id=\"T_a3b6d_row4_col0\" class=\"data row4 col0\" >NaT</td>\n",
              "      <td id=\"T_a3b6d_row4_col1\" class=\"data row4 col1\" >4.7596</td>\n",
              "      <td id=\"T_a3b6d_row4_col2\" class=\"data row4 col2\" >4.6854</td>\n",
              "      <td id=\"T_a3b6d_row4_col3\" class=\"data row4 col3\" >0.0127</td>\n",
              "      <td id=\"T_a3b6d_row4_col4\" class=\"data row4 col4\" >0.0147</td>\n",
              "      <td id=\"T_a3b6d_row4_col5\" class=\"data row4 col5\" >0.0846</td>\n",
              "    </tr>\n",
              "  </tbody>\n",
              "</table>\n"
            ],
            "text/plain": [
              "<pandas.io.formats.style.Styler at 0x1f29499a760>"
            ]
          },
          "metadata": {},
          "output_type": "display_data"
        }
      ],
      "source": [
        "#### Create models with varying window lengths ----\n",
        "for window_length in np.arange(1, 25):\n",
        "    model = exp.create_model(\"lr_cds_dt\", window_length=window_length) # , sp=12, deseasonal_model=\"multiplicative\"\n"
      ]
    },
    {
      "cell_type": "markdown",
      "metadata": {},
      "source": [
        "## Hyper-Parameter: Seasonal Period"
      ]
    },
    {
      "cell_type": "code",
      "execution_count": 9,
      "metadata": {},
      "outputs": [
        {
          "data": {
            "text/html": [
              "<style type=\"text/css\">\n",
              "#T_a870d_row9_col1, #T_a870d_row10_col1, #T_a870d_row12_col1, #T_a870d_row13_col1, #T_a870d_row16_col1 {\n",
              "  background-color: lightgreen;\n",
              "}\n",
              "</style>\n",
              "<table id=\"T_a870d_\">\n",
              "  <thead>\n",
              "    <tr>\n",
              "      <th class=\"blank level0\" >&nbsp;</th>\n",
              "      <th class=\"col_heading level0 col0\" >Description</th>\n",
              "      <th class=\"col_heading level0 col1\" >Value</th>\n",
              "    </tr>\n",
              "  </thead>\n",
              "  <tbody>\n",
              "    <tr>\n",
              "      <th id=\"T_a870d_level0_row0\" class=\"row_heading level0 row0\" >0</th>\n",
              "      <td id=\"T_a870d_row0_col0\" class=\"data row0 col0\" >session_id</td>\n",
              "      <td id=\"T_a870d_row0_col1\" class=\"data row0 col1\" >42</td>\n",
              "    </tr>\n",
              "    <tr>\n",
              "      <th id=\"T_a870d_level0_row1\" class=\"row_heading level0 row1\" >1</th>\n",
              "      <td id=\"T_a870d_row1_col0\" class=\"data row1 col0\" >Original Data</td>\n",
              "      <td id=\"T_a870d_row1_col1\" class=\"data row1 col1\" >(144, 1)</td>\n",
              "    </tr>\n",
              "    <tr>\n",
              "      <th id=\"T_a870d_level0_row2\" class=\"row_heading level0 row2\" >2</th>\n",
              "      <td id=\"T_a870d_row2_col0\" class=\"data row2 col0\" >Missing Values</td>\n",
              "      <td id=\"T_a870d_row2_col1\" class=\"data row2 col1\" >False</td>\n",
              "    </tr>\n",
              "    <tr>\n",
              "      <th id=\"T_a870d_level0_row3\" class=\"row_heading level0 row3\" >3</th>\n",
              "      <td id=\"T_a870d_row3_col0\" class=\"data row3 col0\" >Transformed Train Set</td>\n",
              "      <td id=\"T_a870d_row3_col1\" class=\"data row3 col1\" >(132,)</td>\n",
              "    </tr>\n",
              "    <tr>\n",
              "      <th id=\"T_a870d_level0_row4\" class=\"row_heading level0 row4\" >4</th>\n",
              "      <td id=\"T_a870d_row4_col0\" class=\"data row4 col0\" >Transformed Test Set</td>\n",
              "      <td id=\"T_a870d_row4_col1\" class=\"data row4 col1\" >(12,)</td>\n",
              "    </tr>\n",
              "    <tr>\n",
              "      <th id=\"T_a870d_level0_row5\" class=\"row_heading level0 row5\" >5</th>\n",
              "      <td id=\"T_a870d_row5_col0\" class=\"data row5 col0\" >Fold Generator</td>\n",
              "      <td id=\"T_a870d_row5_col1\" class=\"data row5 col1\" >ExpandingWindowSplitter</td>\n",
              "    </tr>\n",
              "    <tr>\n",
              "      <th id=\"T_a870d_level0_row6\" class=\"row_heading level0 row6\" >6</th>\n",
              "      <td id=\"T_a870d_row6_col0\" class=\"data row6 col0\" >Fold Number</td>\n",
              "      <td id=\"T_a870d_row6_col1\" class=\"data row6 col1\" >3</td>\n",
              "    </tr>\n",
              "    <tr>\n",
              "      <th id=\"T_a870d_level0_row7\" class=\"row_heading level0 row7\" >7</th>\n",
              "      <td id=\"T_a870d_row7_col0\" class=\"data row7 col0\" >Enforce Prediction Interval</td>\n",
              "      <td id=\"T_a870d_row7_col1\" class=\"data row7 col1\" >False</td>\n",
              "    </tr>\n",
              "    <tr>\n",
              "      <th id=\"T_a870d_level0_row8\" class=\"row_heading level0 row8\" >8</th>\n",
              "      <td id=\"T_a870d_row8_col0\" class=\"data row8 col0\" >Seasonal Period Tested</td>\n",
              "      <td id=\"T_a870d_row8_col1\" class=\"data row8 col1\" >12</td>\n",
              "    </tr>\n",
              "    <tr>\n",
              "      <th id=\"T_a870d_level0_row9\" class=\"row_heading level0 row9\" >9</th>\n",
              "      <td id=\"T_a870d_row9_col0\" class=\"data row9 col0\" >Seasonality Detected</td>\n",
              "      <td id=\"T_a870d_row9_col1\" class=\"data row9 col1\" >True</td>\n",
              "    </tr>\n",
              "    <tr>\n",
              "      <th id=\"T_a870d_level0_row10\" class=\"row_heading level0 row10\" >10</th>\n",
              "      <td id=\"T_a870d_row10_col0\" class=\"data row10 col0\" >Target Strictly Positive</td>\n",
              "      <td id=\"T_a870d_row10_col1\" class=\"data row10 col1\" >True</td>\n",
              "    </tr>\n",
              "    <tr>\n",
              "      <th id=\"T_a870d_level0_row11\" class=\"row_heading level0 row11\" >11</th>\n",
              "      <td id=\"T_a870d_row11_col0\" class=\"data row11 col0\" >Target White Noise</td>\n",
              "      <td id=\"T_a870d_row11_col1\" class=\"data row11 col1\" >No</td>\n",
              "    </tr>\n",
              "    <tr>\n",
              "      <th id=\"T_a870d_level0_row12\" class=\"row_heading level0 row12\" >12</th>\n",
              "      <td id=\"T_a870d_row12_col0\" class=\"data row12 col0\" >Recommended d</td>\n",
              "      <td id=\"T_a870d_row12_col1\" class=\"data row12 col1\" >1</td>\n",
              "    </tr>\n",
              "    <tr>\n",
              "      <th id=\"T_a870d_level0_row13\" class=\"row_heading level0 row13\" >13</th>\n",
              "      <td id=\"T_a870d_row13_col0\" class=\"data row13 col0\" >Recommended Seasonal D</td>\n",
              "      <td id=\"T_a870d_row13_col1\" class=\"data row13 col1\" >1</td>\n",
              "    </tr>\n",
              "    <tr>\n",
              "      <th id=\"T_a870d_level0_row14\" class=\"row_heading level0 row14\" >14</th>\n",
              "      <td id=\"T_a870d_row14_col0\" class=\"data row14 col0\" >CPU Jobs</td>\n",
              "      <td id=\"T_a870d_row14_col1\" class=\"data row14 col1\" >-1</td>\n",
              "    </tr>\n",
              "    <tr>\n",
              "      <th id=\"T_a870d_level0_row15\" class=\"row_heading level0 row15\" >15</th>\n",
              "      <td id=\"T_a870d_row15_col0\" class=\"data row15 col0\" >Use GPU</td>\n",
              "      <td id=\"T_a870d_row15_col1\" class=\"data row15 col1\" >False</td>\n",
              "    </tr>\n",
              "    <tr>\n",
              "      <th id=\"T_a870d_level0_row16\" class=\"row_heading level0 row16\" >16</th>\n",
              "      <td id=\"T_a870d_row16_col0\" class=\"data row16 col0\" >Log Experiment</td>\n",
              "      <td id=\"T_a870d_row16_col1\" class=\"data row16 col1\" >True</td>\n",
              "    </tr>\n",
              "    <tr>\n",
              "      <th id=\"T_a870d_level0_row17\" class=\"row_heading level0 row17\" >17</th>\n",
              "      <td id=\"T_a870d_row17_col0\" class=\"data row17 col0\" >Experiment Name</td>\n",
              "      <td id=\"T_a870d_row17_col1\" class=\"data row17 col1\" >my_exp_hyper_sp</td>\n",
              "    </tr>\n",
              "    <tr>\n",
              "      <th id=\"T_a870d_level0_row18\" class=\"row_heading level0 row18\" >18</th>\n",
              "      <td id=\"T_a870d_row18_col0\" class=\"data row18 col0\" >USI</td>\n",
              "      <td id=\"T_a870d_row18_col1\" class=\"data row18 col1\" >e5a4</td>\n",
              "    </tr>\n",
              "    <tr>\n",
              "      <th id=\"T_a870d_level0_row19\" class=\"row_heading level0 row19\" >19</th>\n",
              "      <td id=\"T_a870d_row19_col0\" class=\"data row19 col0\" >Imputation Type</td>\n",
              "      <td id=\"T_a870d_row19_col1\" class=\"data row19 col1\" >simple</td>\n",
              "    </tr>\n",
              "  </tbody>\n",
              "</table>\n"
            ],
            "text/plain": [
              "<pandas.io.formats.style.Styler at 0x1f290b3e280>"
            ]
          },
          "metadata": {},
          "output_type": "display_data"
        },
        {
          "data": {
            "text/plain": [
              "<pycaret.internal.pycaret_experiment.time_series_experiment.TimeSeriesExperiment at 0x1f2b984cc70>"
            ]
          },
          "execution_count": 9,
          "metadata": {},
          "output_type": "execute_result"
        }
      ],
      "source": [
        "#### Setup experiment with MLFlow logging ----\n",
        "exp.setup(\n",
        "    data=y,\n",
        "    fh=12,\n",
        "    session_id=42,\n",
        "    log_experiment=True,\n",
        "    experiment_name=\"my_exp_hyper_sp\",\n",
        "    log_plots=True\n",
        "  )"
      ]
    },
    {
      "cell_type": "code",
      "execution_count": 10,
      "metadata": {},
      "outputs": [
        {
          "data": {
            "text/html": [
              "<style type=\"text/css\">\n",
              "#T_a6722_row3_col0, #T_a6722_row3_col1, #T_a6722_row3_col2, #T_a6722_row3_col3, #T_a6722_row3_col4, #T_a6722_row3_col5 {\n",
              "  background: yellow;\n",
              "}\n",
              "</style>\n",
              "<table id=\"T_a6722_\">\n",
              "  <thead>\n",
              "    <tr>\n",
              "      <th class=\"blank level0\" >&nbsp;</th>\n",
              "      <th class=\"col_heading level0 col0\" >cutoff</th>\n",
              "      <th class=\"col_heading level0 col1\" >MAE</th>\n",
              "      <th class=\"col_heading level0 col2\" >RMSE</th>\n",
              "      <th class=\"col_heading level0 col3\" >MAPE</th>\n",
              "      <th class=\"col_heading level0 col4\" >SMAPE</th>\n",
              "      <th class=\"col_heading level0 col5\" >R2</th>\n",
              "    </tr>\n",
              "  </thead>\n",
              "  <tbody>\n",
              "    <tr>\n",
              "      <th id=\"T_a6722_level0_row0\" class=\"row_heading level0 row0\" >0</th>\n",
              "      <td id=\"T_a6722_row0_col0\" class=\"data row0 col0\" >1956-12</td>\n",
              "      <td id=\"T_a6722_row0_col1\" class=\"data row0 col1\" >38.6824</td>\n",
              "      <td id=\"T_a6722_row0_col2\" class=\"data row0 col2\" >45.0820</td>\n",
              "      <td id=\"T_a6722_row0_col3\" class=\"data row0 col3\" >0.0998</td>\n",
              "      <td id=\"T_a6722_row0_col4\" class=\"data row0 col4\" >0.1051</td>\n",
              "      <td id=\"T_a6722_row0_col5\" class=\"data row0 col5\" >0.3384</td>\n",
              "    </tr>\n",
              "    <tr>\n",
              "      <th id=\"T_a6722_level0_row1\" class=\"row_heading level0 row1\" >1</th>\n",
              "      <td id=\"T_a6722_row1_col0\" class=\"data row1 col0\" >1957-12</td>\n",
              "      <td id=\"T_a6722_row1_col1\" class=\"data row1 col1\" >28.0608</td>\n",
              "      <td id=\"T_a6722_row1_col2\" class=\"data row1 col2\" >34.6867</td>\n",
              "      <td id=\"T_a6722_row1_col3\" class=\"data row1 col3\" >0.0751</td>\n",
              "      <td id=\"T_a6722_row1_col4\" class=\"data row1 col4\" >0.0734</td>\n",
              "      <td id=\"T_a6722_row1_col5\" class=\"data row1 col5\" >0.6848</td>\n",
              "    </tr>\n",
              "    <tr>\n",
              "      <th id=\"T_a6722_level0_row2\" class=\"row_heading level0 row2\" >2</th>\n",
              "      <td id=\"T_a6722_row2_col0\" class=\"data row2 col0\" >1958-12</td>\n",
              "      <td id=\"T_a6722_row2_col1\" class=\"data row2 col1\" >32.1693</td>\n",
              "      <td id=\"T_a6722_row2_col2\" class=\"data row2 col2\" >38.2681</td>\n",
              "      <td id=\"T_a6722_row2_col3\" class=\"data row2 col3\" >0.0737</td>\n",
              "      <td id=\"T_a6722_row2_col4\" class=\"data row2 col4\" >0.0753</td>\n",
              "      <td id=\"T_a6722_row2_col5\" class=\"data row2 col5\" >0.6724</td>\n",
              "    </tr>\n",
              "    <tr>\n",
              "      <th id=\"T_a6722_level0_row3\" class=\"row_heading level0 row3\" >Mean</th>\n",
              "      <td id=\"T_a6722_row3_col0\" class=\"data row3 col0\" >NaT</td>\n",
              "      <td id=\"T_a6722_row3_col1\" class=\"data row3 col1\" >32.9708</td>\n",
              "      <td id=\"T_a6722_row3_col2\" class=\"data row3 col2\" >39.3456</td>\n",
              "      <td id=\"T_a6722_row3_col3\" class=\"data row3 col3\" >0.0828</td>\n",
              "      <td id=\"T_a6722_row3_col4\" class=\"data row3 col4\" >0.0846</td>\n",
              "      <td id=\"T_a6722_row3_col5\" class=\"data row3 col5\" >0.5652</td>\n",
              "    </tr>\n",
              "    <tr>\n",
              "      <th id=\"T_a6722_level0_row4\" class=\"row_heading level0 row4\" >SD</th>\n",
              "      <td id=\"T_a6722_row4_col0\" class=\"data row4 col0\" >NaT</td>\n",
              "      <td id=\"T_a6722_row4_col1\" class=\"data row4 col1\" >4.3731</td>\n",
              "      <td id=\"T_a6722_row4_col2\" class=\"data row4 col2\" >4.3117</td>\n",
              "      <td id=\"T_a6722_row4_col3\" class=\"data row4 col3\" >0.0120</td>\n",
              "      <td id=\"T_a6722_row4_col4\" class=\"data row4 col4\" >0.0145</td>\n",
              "      <td id=\"T_a6722_row4_col5\" class=\"data row4 col5\" >0.1604</td>\n",
              "    </tr>\n",
              "  </tbody>\n",
              "</table>\n"
            ],
            "text/plain": [
              "<pandas.io.formats.style.Styler at 0x1f290de4f10>"
            ]
          },
          "metadata": {},
          "output_type": "display_data"
        }
      ],
      "source": [
        "#### Create a model with varying seasonal periods ----\n",
        "for sp in np.arange(1, 25):\n",
        "    model = exp.create_model(\"lr_cds_dt\", sp=sp)"
      ]
    },
    {
      "cell_type": "markdown",
      "metadata": {},
      "source": [
        "## Hyper-Parameter: Window Length & Seasonal Period"
      ]
    },
    {
      "cell_type": "code",
      "execution_count": 11,
      "metadata": {},
      "outputs": [
        {
          "data": {
            "text/html": [
              "<style type=\"text/css\">\n",
              "#T_bea03_row9_col1, #T_bea03_row10_col1, #T_bea03_row12_col1, #T_bea03_row13_col1, #T_bea03_row16_col1 {\n",
              "  background-color: lightgreen;\n",
              "}\n",
              "</style>\n",
              "<table id=\"T_bea03_\">\n",
              "  <thead>\n",
              "    <tr>\n",
              "      <th class=\"blank level0\" >&nbsp;</th>\n",
              "      <th class=\"col_heading level0 col0\" >Description</th>\n",
              "      <th class=\"col_heading level0 col1\" >Value</th>\n",
              "    </tr>\n",
              "  </thead>\n",
              "  <tbody>\n",
              "    <tr>\n",
              "      <th id=\"T_bea03_level0_row0\" class=\"row_heading level0 row0\" >0</th>\n",
              "      <td id=\"T_bea03_row0_col0\" class=\"data row0 col0\" >session_id</td>\n",
              "      <td id=\"T_bea03_row0_col1\" class=\"data row0 col1\" >42</td>\n",
              "    </tr>\n",
              "    <tr>\n",
              "      <th id=\"T_bea03_level0_row1\" class=\"row_heading level0 row1\" >1</th>\n",
              "      <td id=\"T_bea03_row1_col0\" class=\"data row1 col0\" >Original Data</td>\n",
              "      <td id=\"T_bea03_row1_col1\" class=\"data row1 col1\" >(144, 1)</td>\n",
              "    </tr>\n",
              "    <tr>\n",
              "      <th id=\"T_bea03_level0_row2\" class=\"row_heading level0 row2\" >2</th>\n",
              "      <td id=\"T_bea03_row2_col0\" class=\"data row2 col0\" >Missing Values</td>\n",
              "      <td id=\"T_bea03_row2_col1\" class=\"data row2 col1\" >False</td>\n",
              "    </tr>\n",
              "    <tr>\n",
              "      <th id=\"T_bea03_level0_row3\" class=\"row_heading level0 row3\" >3</th>\n",
              "      <td id=\"T_bea03_row3_col0\" class=\"data row3 col0\" >Transformed Train Set</td>\n",
              "      <td id=\"T_bea03_row3_col1\" class=\"data row3 col1\" >(132,)</td>\n",
              "    </tr>\n",
              "    <tr>\n",
              "      <th id=\"T_bea03_level0_row4\" class=\"row_heading level0 row4\" >4</th>\n",
              "      <td id=\"T_bea03_row4_col0\" class=\"data row4 col0\" >Transformed Test Set</td>\n",
              "      <td id=\"T_bea03_row4_col1\" class=\"data row4 col1\" >(12,)</td>\n",
              "    </tr>\n",
              "    <tr>\n",
              "      <th id=\"T_bea03_level0_row5\" class=\"row_heading level0 row5\" >5</th>\n",
              "      <td id=\"T_bea03_row5_col0\" class=\"data row5 col0\" >Fold Generator</td>\n",
              "      <td id=\"T_bea03_row5_col1\" class=\"data row5 col1\" >ExpandingWindowSplitter</td>\n",
              "    </tr>\n",
              "    <tr>\n",
              "      <th id=\"T_bea03_level0_row6\" class=\"row_heading level0 row6\" >6</th>\n",
              "      <td id=\"T_bea03_row6_col0\" class=\"data row6 col0\" >Fold Number</td>\n",
              "      <td id=\"T_bea03_row6_col1\" class=\"data row6 col1\" >3</td>\n",
              "    </tr>\n",
              "    <tr>\n",
              "      <th id=\"T_bea03_level0_row7\" class=\"row_heading level0 row7\" >7</th>\n",
              "      <td id=\"T_bea03_row7_col0\" class=\"data row7 col0\" >Enforce Prediction Interval</td>\n",
              "      <td id=\"T_bea03_row7_col1\" class=\"data row7 col1\" >False</td>\n",
              "    </tr>\n",
              "    <tr>\n",
              "      <th id=\"T_bea03_level0_row8\" class=\"row_heading level0 row8\" >8</th>\n",
              "      <td id=\"T_bea03_row8_col0\" class=\"data row8 col0\" >Seasonal Period Tested</td>\n",
              "      <td id=\"T_bea03_row8_col1\" class=\"data row8 col1\" >12</td>\n",
              "    </tr>\n",
              "    <tr>\n",
              "      <th id=\"T_bea03_level0_row9\" class=\"row_heading level0 row9\" >9</th>\n",
              "      <td id=\"T_bea03_row9_col0\" class=\"data row9 col0\" >Seasonality Detected</td>\n",
              "      <td id=\"T_bea03_row9_col1\" class=\"data row9 col1\" >True</td>\n",
              "    </tr>\n",
              "    <tr>\n",
              "      <th id=\"T_bea03_level0_row10\" class=\"row_heading level0 row10\" >10</th>\n",
              "      <td id=\"T_bea03_row10_col0\" class=\"data row10 col0\" >Target Strictly Positive</td>\n",
              "      <td id=\"T_bea03_row10_col1\" class=\"data row10 col1\" >True</td>\n",
              "    </tr>\n",
              "    <tr>\n",
              "      <th id=\"T_bea03_level0_row11\" class=\"row_heading level0 row11\" >11</th>\n",
              "      <td id=\"T_bea03_row11_col0\" class=\"data row11 col0\" >Target White Noise</td>\n",
              "      <td id=\"T_bea03_row11_col1\" class=\"data row11 col1\" >No</td>\n",
              "    </tr>\n",
              "    <tr>\n",
              "      <th id=\"T_bea03_level0_row12\" class=\"row_heading level0 row12\" >12</th>\n",
              "      <td id=\"T_bea03_row12_col0\" class=\"data row12 col0\" >Recommended d</td>\n",
              "      <td id=\"T_bea03_row12_col1\" class=\"data row12 col1\" >1</td>\n",
              "    </tr>\n",
              "    <tr>\n",
              "      <th id=\"T_bea03_level0_row13\" class=\"row_heading level0 row13\" >13</th>\n",
              "      <td id=\"T_bea03_row13_col0\" class=\"data row13 col0\" >Recommended Seasonal D</td>\n",
              "      <td id=\"T_bea03_row13_col1\" class=\"data row13 col1\" >1</td>\n",
              "    </tr>\n",
              "    <tr>\n",
              "      <th id=\"T_bea03_level0_row14\" class=\"row_heading level0 row14\" >14</th>\n",
              "      <td id=\"T_bea03_row14_col0\" class=\"data row14 col0\" >CPU Jobs</td>\n",
              "      <td id=\"T_bea03_row14_col1\" class=\"data row14 col1\" >-1</td>\n",
              "    </tr>\n",
              "    <tr>\n",
              "      <th id=\"T_bea03_level0_row15\" class=\"row_heading level0 row15\" >15</th>\n",
              "      <td id=\"T_bea03_row15_col0\" class=\"data row15 col0\" >Use GPU</td>\n",
              "      <td id=\"T_bea03_row15_col1\" class=\"data row15 col1\" >False</td>\n",
              "    </tr>\n",
              "    <tr>\n",
              "      <th id=\"T_bea03_level0_row16\" class=\"row_heading level0 row16\" >16</th>\n",
              "      <td id=\"T_bea03_row16_col0\" class=\"data row16 col0\" >Log Experiment</td>\n",
              "      <td id=\"T_bea03_row16_col1\" class=\"data row16 col1\" >True</td>\n",
              "    </tr>\n",
              "    <tr>\n",
              "      <th id=\"T_bea03_level0_row17\" class=\"row_heading level0 row17\" >17</th>\n",
              "      <td id=\"T_bea03_row17_col0\" class=\"data row17 col0\" >Experiment Name</td>\n",
              "      <td id=\"T_bea03_row17_col1\" class=\"data row17 col1\" >my_exp_hyper_window_sp</td>\n",
              "    </tr>\n",
              "    <tr>\n",
              "      <th id=\"T_bea03_level0_row18\" class=\"row_heading level0 row18\" >18</th>\n",
              "      <td id=\"T_bea03_row18_col0\" class=\"data row18 col0\" >USI</td>\n",
              "      <td id=\"T_bea03_row18_col1\" class=\"data row18 col1\" >56ce</td>\n",
              "    </tr>\n",
              "    <tr>\n",
              "      <th id=\"T_bea03_level0_row19\" class=\"row_heading level0 row19\" >19</th>\n",
              "      <td id=\"T_bea03_row19_col0\" class=\"data row19 col0\" >Imputation Type</td>\n",
              "      <td id=\"T_bea03_row19_col1\" class=\"data row19 col1\" >simple</td>\n",
              "    </tr>\n",
              "  </tbody>\n",
              "</table>\n"
            ],
            "text/plain": [
              "<pandas.io.formats.style.Styler at 0x1f2918b08b0>"
            ]
          },
          "metadata": {},
          "output_type": "display_data"
        },
        {
          "data": {
            "text/plain": [
              "<pycaret.internal.pycaret_experiment.time_series_experiment.TimeSeriesExperiment at 0x1f2b984cc70>"
            ]
          },
          "execution_count": 11,
          "metadata": {},
          "output_type": "execute_result"
        }
      ],
      "source": [
        "#### Setup experiment with MLFlow logging ----\n",
        "exp.setup(\n",
        "    data=y,\n",
        "    fh=12,\n",
        "    session_id=42,\n",
        "    log_experiment=True,\n",
        "    experiment_name=\"my_exp_hyper_window_sp\",\n",
        "    log_plots=True\n",
        "  )"
      ]
    },
    {
      "cell_type": "code",
      "execution_count": 12,
      "metadata": {},
      "outputs": [
        {
          "data": {
            "text/html": [
              "<style type=\"text/css\">\n",
              "#T_5fbe9_row3_col0, #T_5fbe9_row3_col1, #T_5fbe9_row3_col2, #T_5fbe9_row3_col3, #T_5fbe9_row3_col4, #T_5fbe9_row3_col5 {\n",
              "  background: yellow;\n",
              "}\n",
              "</style>\n",
              "<table id=\"T_5fbe9_\">\n",
              "  <thead>\n",
              "    <tr>\n",
              "      <th class=\"blank level0\" >&nbsp;</th>\n",
              "      <th class=\"col_heading level0 col0\" >cutoff</th>\n",
              "      <th class=\"col_heading level0 col1\" >MAE</th>\n",
              "      <th class=\"col_heading level0 col2\" >RMSE</th>\n",
              "      <th class=\"col_heading level0 col3\" >MAPE</th>\n",
              "      <th class=\"col_heading level0 col4\" >SMAPE</th>\n",
              "      <th class=\"col_heading level0 col5\" >R2</th>\n",
              "    </tr>\n",
              "  </thead>\n",
              "  <tbody>\n",
              "    <tr>\n",
              "      <th id=\"T_5fbe9_level0_row0\" class=\"row_heading level0 row0\" >0</th>\n",
              "      <td id=\"T_5fbe9_row0_col0\" class=\"data row0 col0\" >1956-12</td>\n",
              "      <td id=\"T_5fbe9_row0_col1\" class=\"data row0 col1\" >25.6712</td>\n",
              "      <td id=\"T_5fbe9_row0_col2\" class=\"data row0 col2\" >35.2141</td>\n",
              "      <td id=\"T_5fbe9_row0_col3\" class=\"data row0 col3\" >0.0623</td>\n",
              "      <td id=\"T_5fbe9_row0_col4\" class=\"data row0 col4\" >0.0657</td>\n",
              "      <td id=\"T_5fbe9_row0_col5\" class=\"data row0 col5\" >0.5964</td>\n",
              "    </tr>\n",
              "    <tr>\n",
              "      <th id=\"T_5fbe9_level0_row1\" class=\"row_heading level0 row1\" >1</th>\n",
              "      <td id=\"T_5fbe9_row1_col0\" class=\"data row1 col0\" >1957-12</td>\n",
              "      <td id=\"T_5fbe9_row1_col1\" class=\"data row1 col1\" >21.7773</td>\n",
              "      <td id=\"T_5fbe9_row1_col2\" class=\"data row1 col2\" >27.1792</td>\n",
              "      <td id=\"T_5fbe9_row1_col3\" class=\"data row1 col3\" >0.0571</td>\n",
              "      <td id=\"T_5fbe9_row1_col4\" class=\"data row1 col4\" >0.0564</td>\n",
              "      <td id=\"T_5fbe9_row1_col5\" class=\"data row1 col5\" >0.8065</td>\n",
              "    </tr>\n",
              "    <tr>\n",
              "      <th id=\"T_5fbe9_level0_row2\" class=\"row_heading level0 row2\" >2</th>\n",
              "      <td id=\"T_5fbe9_row2_col0\" class=\"data row2 col0\" >1958-12</td>\n",
              "      <td id=\"T_5fbe9_row2_col1\" class=\"data row2 col1\" >21.8883</td>\n",
              "      <td id=\"T_5fbe9_row2_col2\" class=\"data row2 col2\" >31.2840</td>\n",
              "      <td id=\"T_5fbe9_row2_col3\" class=\"data row2 col3\" >0.0458</td>\n",
              "      <td id=\"T_5fbe9_row2_col4\" class=\"data row2 col4\" >0.0477</td>\n",
              "      <td id=\"T_5fbe9_row2_col5\" class=\"data row2 col5\" >0.7810</td>\n",
              "    </tr>\n",
              "    <tr>\n",
              "      <th id=\"T_5fbe9_level0_row3\" class=\"row_heading level0 row3\" >Mean</th>\n",
              "      <td id=\"T_5fbe9_row3_col0\" class=\"data row3 col0\" >NaT</td>\n",
              "      <td id=\"T_5fbe9_row3_col1\" class=\"data row3 col1\" >23.1123</td>\n",
              "      <td id=\"T_5fbe9_row3_col2\" class=\"data row3 col2\" >31.2257</td>\n",
              "      <td id=\"T_5fbe9_row3_col3\" class=\"data row3 col3\" >0.0551</td>\n",
              "      <td id=\"T_5fbe9_row3_col4\" class=\"data row3 col4\" >0.0566</td>\n",
              "      <td id=\"T_5fbe9_row3_col5\" class=\"data row3 col5\" >0.7280</td>\n",
              "    </tr>\n",
              "    <tr>\n",
              "      <th id=\"T_5fbe9_level0_row4\" class=\"row_heading level0 row4\" >SD</th>\n",
              "      <td id=\"T_5fbe9_row4_col0\" class=\"data row4 col0\" >NaT</td>\n",
              "      <td id=\"T_5fbe9_row4_col1\" class=\"data row4 col1\" >1.8100</td>\n",
              "      <td id=\"T_5fbe9_row4_col2\" class=\"data row4 col2\" >3.2805</td>\n",
              "      <td id=\"T_5fbe9_row4_col3\" class=\"data row4 col3\" >0.0069</td>\n",
              "      <td id=\"T_5fbe9_row4_col4\" class=\"data row4 col4\" >0.0074</td>\n",
              "      <td id=\"T_5fbe9_row4_col5\" class=\"data row4 col5\" >0.0936</td>\n",
              "    </tr>\n",
              "  </tbody>\n",
              "</table>\n"
            ],
            "text/plain": [
              "<pandas.io.formats.style.Styler at 0x1f294a7b490>"
            ]
          },
          "metadata": {},
          "output_type": "display_data"
        }
      ],
      "source": [
        "#### Create a model with varying window length & seasonal periods ----\n",
        "runs = 50\n",
        "window_lengths = np.random.randint(1, 25, runs)\n",
        "sps = np.random.randint(1, 25, runs)\n",
        "\n",
        "for window_length, sp in zip(window_lengths, sps):\n",
        "    print(window_length, sp)\n",
        "    model = exp.create_model(\"lr_cds_dt\", window_length=window_length, sp=sp)"
      ]
    },
    {
      "cell_type": "markdown",
      "metadata": {},
      "source": [
        "# Create and Tune Model\n",
        "\n",
        "* Now with a better understanding of the models, we can appreciate what pycaret does internally during the tuning process.\n",
        "* We see below that the tuning grid automatically takes care of things like harmonics of seasonal period in the tuning process.\n",
        "* Of course, there is flexibility to change the tuning grid if needed. Refer: https://github.com/pycaret/pycaret/discussions/1795\n",
        "* Moreover, the default search is limited to only 10 hyperparameter runs (compared to 50 runs in the MLflow bi-variate setting above) thus saving wall clock time while still giving close to optimum results."
      ]
    },
    {
      "cell_type": "code",
      "execution_count": 13,
      "metadata": {},
      "outputs": [
        {
          "data": {
            "text/html": [
              "<style type=\"text/css\">\n",
              "#T_225bd_row9_col1, #T_225bd_row10_col1, #T_225bd_row12_col1, #T_225bd_row13_col1 {\n",
              "  background-color: lightgreen;\n",
              "}\n",
              "</style>\n",
              "<table id=\"T_225bd_\">\n",
              "  <thead>\n",
              "    <tr>\n",
              "      <th class=\"blank level0\" >&nbsp;</th>\n",
              "      <th class=\"col_heading level0 col0\" >Description</th>\n",
              "      <th class=\"col_heading level0 col1\" >Value</th>\n",
              "    </tr>\n",
              "  </thead>\n",
              "  <tbody>\n",
              "    <tr>\n",
              "      <th id=\"T_225bd_level0_row0\" class=\"row_heading level0 row0\" >0</th>\n",
              "      <td id=\"T_225bd_row0_col0\" class=\"data row0 col0\" >session_id</td>\n",
              "      <td id=\"T_225bd_row0_col1\" class=\"data row0 col1\" >42</td>\n",
              "    </tr>\n",
              "    <tr>\n",
              "      <th id=\"T_225bd_level0_row1\" class=\"row_heading level0 row1\" >1</th>\n",
              "      <td id=\"T_225bd_row1_col0\" class=\"data row1 col0\" >Original Data</td>\n",
              "      <td id=\"T_225bd_row1_col1\" class=\"data row1 col1\" >(144, 1)</td>\n",
              "    </tr>\n",
              "    <tr>\n",
              "      <th id=\"T_225bd_level0_row2\" class=\"row_heading level0 row2\" >2</th>\n",
              "      <td id=\"T_225bd_row2_col0\" class=\"data row2 col0\" >Missing Values</td>\n",
              "      <td id=\"T_225bd_row2_col1\" class=\"data row2 col1\" >False</td>\n",
              "    </tr>\n",
              "    <tr>\n",
              "      <th id=\"T_225bd_level0_row3\" class=\"row_heading level0 row3\" >3</th>\n",
              "      <td id=\"T_225bd_row3_col0\" class=\"data row3 col0\" >Transformed Train Set</td>\n",
              "      <td id=\"T_225bd_row3_col1\" class=\"data row3 col1\" >(132,)</td>\n",
              "    </tr>\n",
              "    <tr>\n",
              "      <th id=\"T_225bd_level0_row4\" class=\"row_heading level0 row4\" >4</th>\n",
              "      <td id=\"T_225bd_row4_col0\" class=\"data row4 col0\" >Transformed Test Set</td>\n",
              "      <td id=\"T_225bd_row4_col1\" class=\"data row4 col1\" >(12,)</td>\n",
              "    </tr>\n",
              "    <tr>\n",
              "      <th id=\"T_225bd_level0_row5\" class=\"row_heading level0 row5\" >5</th>\n",
              "      <td id=\"T_225bd_row5_col0\" class=\"data row5 col0\" >Fold Generator</td>\n",
              "      <td id=\"T_225bd_row5_col1\" class=\"data row5 col1\" >ExpandingWindowSplitter</td>\n",
              "    </tr>\n",
              "    <tr>\n",
              "      <th id=\"T_225bd_level0_row6\" class=\"row_heading level0 row6\" >6</th>\n",
              "      <td id=\"T_225bd_row6_col0\" class=\"data row6 col0\" >Fold Number</td>\n",
              "      <td id=\"T_225bd_row6_col1\" class=\"data row6 col1\" >3</td>\n",
              "    </tr>\n",
              "    <tr>\n",
              "      <th id=\"T_225bd_level0_row7\" class=\"row_heading level0 row7\" >7</th>\n",
              "      <td id=\"T_225bd_row7_col0\" class=\"data row7 col0\" >Enforce Prediction Interval</td>\n",
              "      <td id=\"T_225bd_row7_col1\" class=\"data row7 col1\" >False</td>\n",
              "    </tr>\n",
              "    <tr>\n",
              "      <th id=\"T_225bd_level0_row8\" class=\"row_heading level0 row8\" >8</th>\n",
              "      <td id=\"T_225bd_row8_col0\" class=\"data row8 col0\" >Seasonal Period Tested</td>\n",
              "      <td id=\"T_225bd_row8_col1\" class=\"data row8 col1\" >12</td>\n",
              "    </tr>\n",
              "    <tr>\n",
              "      <th id=\"T_225bd_level0_row9\" class=\"row_heading level0 row9\" >9</th>\n",
              "      <td id=\"T_225bd_row9_col0\" class=\"data row9 col0\" >Seasonality Detected</td>\n",
              "      <td id=\"T_225bd_row9_col1\" class=\"data row9 col1\" >True</td>\n",
              "    </tr>\n",
              "    <tr>\n",
              "      <th id=\"T_225bd_level0_row10\" class=\"row_heading level0 row10\" >10</th>\n",
              "      <td id=\"T_225bd_row10_col0\" class=\"data row10 col0\" >Target Strictly Positive</td>\n",
              "      <td id=\"T_225bd_row10_col1\" class=\"data row10 col1\" >True</td>\n",
              "    </tr>\n",
              "    <tr>\n",
              "      <th id=\"T_225bd_level0_row11\" class=\"row_heading level0 row11\" >11</th>\n",
              "      <td id=\"T_225bd_row11_col0\" class=\"data row11 col0\" >Target White Noise</td>\n",
              "      <td id=\"T_225bd_row11_col1\" class=\"data row11 col1\" >No</td>\n",
              "    </tr>\n",
              "    <tr>\n",
              "      <th id=\"T_225bd_level0_row12\" class=\"row_heading level0 row12\" >12</th>\n",
              "      <td id=\"T_225bd_row12_col0\" class=\"data row12 col0\" >Recommended d</td>\n",
              "      <td id=\"T_225bd_row12_col1\" class=\"data row12 col1\" >1</td>\n",
              "    </tr>\n",
              "    <tr>\n",
              "      <th id=\"T_225bd_level0_row13\" class=\"row_heading level0 row13\" >13</th>\n",
              "      <td id=\"T_225bd_row13_col0\" class=\"data row13 col0\" >Recommended Seasonal D</td>\n",
              "      <td id=\"T_225bd_row13_col1\" class=\"data row13 col1\" >1</td>\n",
              "    </tr>\n",
              "    <tr>\n",
              "      <th id=\"T_225bd_level0_row14\" class=\"row_heading level0 row14\" >14</th>\n",
              "      <td id=\"T_225bd_row14_col0\" class=\"data row14 col0\" >CPU Jobs</td>\n",
              "      <td id=\"T_225bd_row14_col1\" class=\"data row14 col1\" >-1</td>\n",
              "    </tr>\n",
              "    <tr>\n",
              "      <th id=\"T_225bd_level0_row15\" class=\"row_heading level0 row15\" >15</th>\n",
              "      <td id=\"T_225bd_row15_col0\" class=\"data row15 col0\" >Use GPU</td>\n",
              "      <td id=\"T_225bd_row15_col1\" class=\"data row15 col1\" >False</td>\n",
              "    </tr>\n",
              "    <tr>\n",
              "      <th id=\"T_225bd_level0_row16\" class=\"row_heading level0 row16\" >16</th>\n",
              "      <td id=\"T_225bd_row16_col0\" class=\"data row16 col0\" >Log Experiment</td>\n",
              "      <td id=\"T_225bd_row16_col1\" class=\"data row16 col1\" >False</td>\n",
              "    </tr>\n",
              "    <tr>\n",
              "      <th id=\"T_225bd_level0_row17\" class=\"row_heading level0 row17\" >17</th>\n",
              "      <td id=\"T_225bd_row17_col0\" class=\"data row17 col0\" >Experiment Name</td>\n",
              "      <td id=\"T_225bd_row17_col1\" class=\"data row17 col1\" >my_exp_hyper_window_sp</td>\n",
              "    </tr>\n",
              "    <tr>\n",
              "      <th id=\"T_225bd_level0_row18\" class=\"row_heading level0 row18\" >18</th>\n",
              "      <td id=\"T_225bd_row18_col0\" class=\"data row18 col0\" >USI</td>\n",
              "      <td id=\"T_225bd_row18_col1\" class=\"data row18 col1\" >f8bd</td>\n",
              "    </tr>\n",
              "    <tr>\n",
              "      <th id=\"T_225bd_level0_row19\" class=\"row_heading level0 row19\" >19</th>\n",
              "      <td id=\"T_225bd_row19_col0\" class=\"data row19 col0\" >Imputation Type</td>\n",
              "      <td id=\"T_225bd_row19_col1\" class=\"data row19 col1\" >simple</td>\n",
              "    </tr>\n",
              "  </tbody>\n",
              "</table>\n"
            ],
            "text/plain": [
              "<pandas.io.formats.style.Styler at 0x1f2918e31f0>"
            ]
          },
          "metadata": {},
          "output_type": "display_data"
        },
        {
          "data": {
            "text/plain": [
              "<pycaret.internal.pycaret_experiment.time_series_experiment.TimeSeriesExperiment at 0x1f2b984cc70>"
            ]
          },
          "execution_count": 13,
          "metadata": {},
          "output_type": "execute_result"
        }
      ],
      "source": [
        "## Create setup, this time without MLFlow\n",
        "exp.setup(\n",
        "    data=y,\n",
        "    fh=12,\n",
        "    session_id=42,\n",
        "  )"
      ]
    },
    {
      "cell_type": "code",
      "execution_count": 14,
      "metadata": {},
      "outputs": [
        {
          "data": {
            "text/html": [
              "<style type=\"text/css\">\n",
              "#T_97f62_row3_col0, #T_97f62_row3_col1, #T_97f62_row3_col2, #T_97f62_row3_col3, #T_97f62_row3_col4, #T_97f62_row3_col5 {\n",
              "  background: yellow;\n",
              "}\n",
              "</style>\n",
              "<table id=\"T_97f62_\">\n",
              "  <thead>\n",
              "    <tr>\n",
              "      <th class=\"blank level0\" >&nbsp;</th>\n",
              "      <th class=\"col_heading level0 col0\" >cutoff</th>\n",
              "      <th class=\"col_heading level0 col1\" >MAE</th>\n",
              "      <th class=\"col_heading level0 col2\" >RMSE</th>\n",
              "      <th class=\"col_heading level0 col3\" >MAPE</th>\n",
              "      <th class=\"col_heading level0 col4\" >SMAPE</th>\n",
              "      <th class=\"col_heading level0 col5\" >R2</th>\n",
              "    </tr>\n",
              "  </thead>\n",
              "  <tbody>\n",
              "    <tr>\n",
              "      <th id=\"T_97f62_level0_row0\" class=\"row_heading level0 row0\" >0</th>\n",
              "      <td id=\"T_97f62_row0_col0\" class=\"data row0 col0\" >1956-12</td>\n",
              "      <td id=\"T_97f62_row0_col1\" class=\"data row0 col1\" >38.6824</td>\n",
              "      <td id=\"T_97f62_row0_col2\" class=\"data row0 col2\" >45.0820</td>\n",
              "      <td id=\"T_97f62_row0_col3\" class=\"data row0 col3\" >0.0998</td>\n",
              "      <td id=\"T_97f62_row0_col4\" class=\"data row0 col4\" >0.1051</td>\n",
              "      <td id=\"T_97f62_row0_col5\" class=\"data row0 col5\" >0.3384</td>\n",
              "    </tr>\n",
              "    <tr>\n",
              "      <th id=\"T_97f62_level0_row1\" class=\"row_heading level0 row1\" >1</th>\n",
              "      <td id=\"T_97f62_row1_col0\" class=\"data row1 col0\" >1957-12</td>\n",
              "      <td id=\"T_97f62_row1_col1\" class=\"data row1 col1\" >28.0608</td>\n",
              "      <td id=\"T_97f62_row1_col2\" class=\"data row1 col2\" >34.6867</td>\n",
              "      <td id=\"T_97f62_row1_col3\" class=\"data row1 col3\" >0.0751</td>\n",
              "      <td id=\"T_97f62_row1_col4\" class=\"data row1 col4\" >0.0734</td>\n",
              "      <td id=\"T_97f62_row1_col5\" class=\"data row1 col5\" >0.6848</td>\n",
              "    </tr>\n",
              "    <tr>\n",
              "      <th id=\"T_97f62_level0_row2\" class=\"row_heading level0 row2\" >2</th>\n",
              "      <td id=\"T_97f62_row2_col0\" class=\"data row2 col0\" >1958-12</td>\n",
              "      <td id=\"T_97f62_row2_col1\" class=\"data row2 col1\" >32.1693</td>\n",
              "      <td id=\"T_97f62_row2_col2\" class=\"data row2 col2\" >38.2681</td>\n",
              "      <td id=\"T_97f62_row2_col3\" class=\"data row2 col3\" >0.0737</td>\n",
              "      <td id=\"T_97f62_row2_col4\" class=\"data row2 col4\" >0.0753</td>\n",
              "      <td id=\"T_97f62_row2_col5\" class=\"data row2 col5\" >0.6724</td>\n",
              "    </tr>\n",
              "    <tr>\n",
              "      <th id=\"T_97f62_level0_row3\" class=\"row_heading level0 row3\" >Mean</th>\n",
              "      <td id=\"T_97f62_row3_col0\" class=\"data row3 col0\" >NaT</td>\n",
              "      <td id=\"T_97f62_row3_col1\" class=\"data row3 col1\" >32.9708</td>\n",
              "      <td id=\"T_97f62_row3_col2\" class=\"data row3 col2\" >39.3456</td>\n",
              "      <td id=\"T_97f62_row3_col3\" class=\"data row3 col3\" >0.0828</td>\n",
              "      <td id=\"T_97f62_row3_col4\" class=\"data row3 col4\" >0.0846</td>\n",
              "      <td id=\"T_97f62_row3_col5\" class=\"data row3 col5\" >0.5652</td>\n",
              "    </tr>\n",
              "    <tr>\n",
              "      <th id=\"T_97f62_level0_row4\" class=\"row_heading level0 row4\" >SD</th>\n",
              "      <td id=\"T_97f62_row4_col0\" class=\"data row4 col0\" >NaT</td>\n",
              "      <td id=\"T_97f62_row4_col1\" class=\"data row4 col1\" >4.3731</td>\n",
              "      <td id=\"T_97f62_row4_col2\" class=\"data row4 col2\" >4.3117</td>\n",
              "      <td id=\"T_97f62_row4_col3\" class=\"data row4 col3\" >0.0120</td>\n",
              "      <td id=\"T_97f62_row4_col4\" class=\"data row4 col4\" >0.0145</td>\n",
              "      <td id=\"T_97f62_row4_col5\" class=\"data row4 col5\" >0.1604</td>\n",
              "    </tr>\n",
              "  </tbody>\n",
              "</table>\n"
            ],
            "text/plain": [
              "<pandas.io.formats.style.Styler at 0x1f2918e3370>"
            ]
          },
          "metadata": {},
          "output_type": "display_data"
        }
      ],
      "source": [
        "# Create model ----\n",
        "model = exp.create_model(\"lr_cds_dt\")"
      ]
    },
    {
      "cell_type": "code",
      "execution_count": 15,
      "metadata": {},
      "outputs": [
        {
          "data": {
            "text/plain": [
              "{'sp': CategoricalDistribution(values=[12, 24]),\n",
              " 'deseasonal_model': CategoricalDistribution(values=['additive', 'multiplicative']),\n",
              " 'degree': IntUniformDistribution(lower=1, upper=10, log=False),\n",
              " 'window_length': IntUniformDistribution(lower=12, upper=24, log=False),\n",
              " 'regressor__fit_intercept': CategoricalDistribution(values=[True, False]),\n",
              " 'regressor__normalize': CategoricalDistribution(values=[True, False])}"
            ]
          },
          "execution_count": 15,
          "metadata": {},
          "output_type": "execute_result"
        }
      ],
      "source": [
        "# What does the internal tuning grid look like?\n",
        "exp.models(internal=True).loc[\"lr_cds_dt\"][\"Tune Distributions\"]\n",
        "\n",
        "# If you do not like it, you can change it.\n",
        "# See: https://github.com/pycaret/pycaret/discussions/1795"
      ]
    },
    {
      "cell_type": "code",
      "execution_count": 16,
      "metadata": {},
      "outputs": [
        {
          "data": {
            "text/html": [
              "<style type=\"text/css\">\n",
              "#T_345aa_row3_col0, #T_345aa_row3_col1, #T_345aa_row3_col2, #T_345aa_row3_col3, #T_345aa_row3_col4, #T_345aa_row3_col5 {\n",
              "  background: yellow;\n",
              "}\n",
              "</style>\n",
              "<table id=\"T_345aa_\">\n",
              "  <thead>\n",
              "    <tr>\n",
              "      <th class=\"blank level0\" >&nbsp;</th>\n",
              "      <th class=\"col_heading level0 col0\" >cutoff</th>\n",
              "      <th class=\"col_heading level0 col1\" >MAE</th>\n",
              "      <th class=\"col_heading level0 col2\" >RMSE</th>\n",
              "      <th class=\"col_heading level0 col3\" >MAPE</th>\n",
              "      <th class=\"col_heading level0 col4\" >SMAPE</th>\n",
              "      <th class=\"col_heading level0 col5\" >R2</th>\n",
              "    </tr>\n",
              "  </thead>\n",
              "  <tbody>\n",
              "    <tr>\n",
              "      <th id=\"T_345aa_level0_row0\" class=\"row_heading level0 row0\" >0</th>\n",
              "      <td id=\"T_345aa_row0_col0\" class=\"data row0 col0\" >1956-12</td>\n",
              "      <td id=\"T_345aa_row0_col1\" class=\"data row0 col1\" >9.2184</td>\n",
              "      <td id=\"T_345aa_row0_col2\" class=\"data row0 col2\" >12.1077</td>\n",
              "      <td id=\"T_345aa_row0_col3\" class=\"data row0 col3\" >0.0233</td>\n",
              "      <td id=\"T_345aa_row0_col4\" class=\"data row0 col4\" >0.0235</td>\n",
              "      <td id=\"T_345aa_row0_col5\" class=\"data row0 col5\" >0.9523</td>\n",
              "    </tr>\n",
              "    <tr>\n",
              "      <th id=\"T_345aa_level0_row1\" class=\"row_heading level0 row1\" >1</th>\n",
              "      <td id=\"T_345aa_row1_col0\" class=\"data row1 col0\" >1957-12</td>\n",
              "      <td id=\"T_345aa_row1_col1\" class=\"data row1 col1\" >30.6011</td>\n",
              "      <td id=\"T_345aa_row1_col2\" class=\"data row1 col2\" >33.3898</td>\n",
              "      <td id=\"T_345aa_row1_col3\" class=\"data row1 col3\" >0.0834</td>\n",
              "      <td id=\"T_345aa_row1_col4\" class=\"data row1 col4\" >0.0794</td>\n",
              "      <td id=\"T_345aa_row1_col5\" class=\"data row1 col5\" >0.7079</td>\n",
              "    </tr>\n",
              "    <tr>\n",
              "      <th id=\"T_345aa_level0_row2\" class=\"row_heading level0 row2\" >2</th>\n",
              "      <td id=\"T_345aa_row2_col0\" class=\"data row2 col0\" >1958-12</td>\n",
              "      <td id=\"T_345aa_row2_col1\" class=\"data row2 col1\" >13.6786</td>\n",
              "      <td id=\"T_345aa_row2_col2\" class=\"data row2 col2\" >15.8682</td>\n",
              "      <td id=\"T_345aa_row2_col3\" class=\"data row2 col3\" >0.0320</td>\n",
              "      <td id=\"T_345aa_row2_col4\" class=\"data row2 col4\" >0.0325</td>\n",
              "      <td id=\"T_345aa_row2_col5\" class=\"data row2 col5\" >0.9437</td>\n",
              "    </tr>\n",
              "    <tr>\n",
              "      <th id=\"T_345aa_level0_row3\" class=\"row_heading level0 row3\" >Mean</th>\n",
              "      <td id=\"T_345aa_row3_col0\" class=\"data row3 col0\" >NaT</td>\n",
              "      <td id=\"T_345aa_row3_col1\" class=\"data row3 col1\" >17.8327</td>\n",
              "      <td id=\"T_345aa_row3_col2\" class=\"data row3 col2\" >20.4552</td>\n",
              "      <td id=\"T_345aa_row3_col3\" class=\"data row3 col3\" >0.0462</td>\n",
              "      <td id=\"T_345aa_row3_col4\" class=\"data row3 col4\" >0.0452</td>\n",
              "      <td id=\"T_345aa_row3_col5\" class=\"data row3 col5\" >0.8680</td>\n",
              "    </tr>\n",
              "    <tr>\n",
              "      <th id=\"T_345aa_level0_row4\" class=\"row_heading level0 row4\" >SD</th>\n",
              "      <td id=\"T_345aa_row4_col0\" class=\"data row4 col0\" >NaT</td>\n",
              "      <td id=\"T_345aa_row4_col1\" class=\"data row4 col1\" >9.2104</td>\n",
              "      <td id=\"T_345aa_row4_col2\" class=\"data row4 col2\" >9.2741</td>\n",
              "      <td id=\"T_345aa_row4_col3\" class=\"data row4 col3\" >0.0265</td>\n",
              "      <td id=\"T_345aa_row4_col4\" class=\"data row4 col4\" >0.0245</td>\n",
              "      <td id=\"T_345aa_row4_col5\" class=\"data row4 col5\" >0.1132</td>\n",
              "    </tr>\n",
              "  </tbody>\n",
              "</table>\n"
            ],
            "text/plain": [
              "<pandas.io.formats.style.Styler at 0x1f2949876d0>"
            ]
          },
          "metadata": {},
          "output_type": "display_data"
        }
      ],
      "source": [
        "# Defaults to only 10 iterations (i.e. only searches 10 hyperparameter combinations)\n",
        "tuned_model, tuner = exp.tune_model(model, return_tuner=True)"
      ]
    },
    {
      "cell_type": "code",
      "execution_count": 17,
      "metadata": {},
      "outputs": [
        {
          "data": {
            "text/plain": [
              "BaseCdsDtForecaster(degree=2, deseasonal_model='multiplicative',\n",
              "                    regressor=LinearRegression(copy_X=True, fit_intercept=False,\n",
              "                                               n_jobs=-1, normalize=True,\n",
              "                                               positive=False),\n",
              "                    sp=12, window_length=23)"
            ]
          },
          "execution_count": 17,
          "metadata": {},
          "output_type": "execute_result"
        }
      ],
      "source": [
        "tuned_model"
      ]
    },
    {
      "cell_type": "code",
      "execution_count": 18,
      "metadata": {},
      "outputs": [
        {
          "data": {
            "text/html": [
              "<div>\n",
              "<style scoped>\n",
              "    .dataframe tbody tr th:only-of-type {\n",
              "        vertical-align: middle;\n",
              "    }\n",
              "\n",
              "    .dataframe tbody tr th {\n",
              "        vertical-align: top;\n",
              "    }\n",
              "\n",
              "    .dataframe thead th {\n",
              "        text-align: right;\n",
              "    }\n",
              "</style>\n",
              "<table border=\"1\" class=\"dataframe\">\n",
              "  <thead>\n",
              "    <tr style=\"text-align: right;\">\n",
              "      <th></th>\n",
              "      <th>mean_fit_time</th>\n",
              "      <th>std_fit_time</th>\n",
              "      <th>mean_score_time</th>\n",
              "      <th>std_score_time</th>\n",
              "      <th>param_degree</th>\n",
              "      <th>param_deseasonal_model</th>\n",
              "      <th>param_regressor__fit_intercept</th>\n",
              "      <th>param_regressor__normalize</th>\n",
              "      <th>param_sp</th>\n",
              "      <th>param_window_length</th>\n",
              "      <th>params</th>\n",
              "      <th>split0_test_smape</th>\n",
              "      <th>split1_test_smape</th>\n",
              "      <th>split2_test_smape</th>\n",
              "      <th>mean_test_smape</th>\n",
              "      <th>std_test_smape</th>\n",
              "      <th>rank_test_smape</th>\n",
              "    </tr>\n",
              "  </thead>\n",
              "  <tbody>\n",
              "    <tr>\n",
              "      <th>0</th>\n",
              "      <td>0.028259</td>\n",
              "      <td>0.008238</td>\n",
              "      <td>0.000665</td>\n",
              "      <td>4.704714e-04</td>\n",
              "      <td>7</td>\n",
              "      <td>multiplicative</td>\n",
              "      <td>True</td>\n",
              "      <td>True</td>\n",
              "      <td>12</td>\n",
              "      <td>19</td>\n",
              "      <td>{'degree': 7, 'deseasonal_model': 'multiplicat...</td>\n",
              "      <td>0.346732</td>\n",
              "      <td>0.136618</td>\n",
              "      <td>0.058968</td>\n",
              "      <td>0.180773</td>\n",
              "      <td>0.121557</td>\n",
              "      <td>5</td>\n",
              "    </tr>\n",
              "    <tr>\n",
              "      <th>1</th>\n",
              "      <td>0.021943</td>\n",
              "      <td>0.000002</td>\n",
              "      <td>0.000665</td>\n",
              "      <td>4.700779e-04</td>\n",
              "      <td>5</td>\n",
              "      <td>additive</td>\n",
              "      <td>False</td>\n",
              "      <td>True</td>\n",
              "      <td>12</td>\n",
              "      <td>22</td>\n",
              "      <td>{'degree': 5, 'deseasonal_model': 'additive', ...</td>\n",
              "      <td>0.128711</td>\n",
              "      <td>0.090898</td>\n",
              "      <td>0.276334</td>\n",
              "      <td>0.165315</td>\n",
              "      <td>0.080006</td>\n",
              "      <td>4</td>\n",
              "    </tr>\n",
              "    <tr>\n",
              "      <th>2</th>\n",
              "      <td>0.021943</td>\n",
              "      <td>0.003549</td>\n",
              "      <td>0.000665</td>\n",
              "      <td>4.701355e-04</td>\n",
              "      <td>8</td>\n",
              "      <td>additive</td>\n",
              "      <td>False</td>\n",
              "      <td>False</td>\n",
              "      <td>24</td>\n",
              "      <td>14</td>\n",
              "      <td>{'degree': 8, 'deseasonal_model': 'additive', ...</td>\n",
              "      <td>1.588286</td>\n",
              "      <td>0.285090</td>\n",
              "      <td>0.212746</td>\n",
              "      <td>0.695374</td>\n",
              "      <td>0.632074</td>\n",
              "      <td>10</td>\n",
              "    </tr>\n",
              "    <tr>\n",
              "      <th>3</th>\n",
              "      <td>0.020278</td>\n",
              "      <td>0.000469</td>\n",
              "      <td>0.000998</td>\n",
              "      <td>2.247832e-07</td>\n",
              "      <td>6</td>\n",
              "      <td>additive</td>\n",
              "      <td>False</td>\n",
              "      <td>False</td>\n",
              "      <td>24</td>\n",
              "      <td>17</td>\n",
              "      <td>{'degree': 6, 'deseasonal_model': 'additive', ...</td>\n",
              "      <td>0.878957</td>\n",
              "      <td>0.395390</td>\n",
              "      <td>0.332348</td>\n",
              "      <td>0.535565</td>\n",
              "      <td>0.244175</td>\n",
              "      <td>8</td>\n",
              "    </tr>\n",
              "    <tr>\n",
              "      <th>4</th>\n",
              "      <td>0.027924</td>\n",
              "      <td>0.004532</td>\n",
              "      <td>0.000332</td>\n",
              "      <td>4.697969e-04</td>\n",
              "      <td>2</td>\n",
              "      <td>multiplicative</td>\n",
              "      <td>False</td>\n",
              "      <td>True</td>\n",
              "      <td>12</td>\n",
              "      <td>23</td>\n",
              "      <td>{'degree': 2, 'deseasonal_model': 'multiplicat...</td>\n",
              "      <td>0.023537</td>\n",
              "      <td>0.079412</td>\n",
              "      <td>0.032535</td>\n",
              "      <td>0.045161</td>\n",
              "      <td>0.024496</td>\n",
              "      <td>1</td>\n",
              "    </tr>\n",
              "    <tr>\n",
              "      <th>5</th>\n",
              "      <td>0.046210</td>\n",
              "      <td>0.000939</td>\n",
              "      <td>0.000665</td>\n",
              "      <td>4.700217e-04</td>\n",
              "      <td>6</td>\n",
              "      <td>additive</td>\n",
              "      <td>False</td>\n",
              "      <td>True</td>\n",
              "      <td>12</td>\n",
              "      <td>22</td>\n",
              "      <td>{'degree': 6, 'deseasonal_model': 'additive', ...</td>\n",
              "      <td>0.465248</td>\n",
              "      <td>0.122866</td>\n",
              "      <td>0.169187</td>\n",
              "      <td>0.252434</td>\n",
              "      <td>0.151666</td>\n",
              "      <td>6</td>\n",
              "    </tr>\n",
              "    <tr>\n",
              "      <th>6</th>\n",
              "      <td>0.018949</td>\n",
              "      <td>0.001411</td>\n",
              "      <td>0.000333</td>\n",
              "      <td>4.702464e-04</td>\n",
              "      <td>3</td>\n",
              "      <td>multiplicative</td>\n",
              "      <td>True</td>\n",
              "      <td>False</td>\n",
              "      <td>24</td>\n",
              "      <td>20</td>\n",
              "      <td>{'degree': 3, 'deseasonal_model': 'multiplicat...</td>\n",
              "      <td>0.013970</td>\n",
              "      <td>0.088033</td>\n",
              "      <td>0.058526</td>\n",
              "      <td>0.053510</td>\n",
              "      <td>0.030443</td>\n",
              "      <td>2</td>\n",
              "    </tr>\n",
              "    <tr>\n",
              "      <th>7</th>\n",
              "      <td>0.029920</td>\n",
              "      <td>0.009872</td>\n",
              "      <td>0.000664</td>\n",
              "      <td>4.694603e-04</td>\n",
              "      <td>3</td>\n",
              "      <td>additive</td>\n",
              "      <td>True</td>\n",
              "      <td>True</td>\n",
              "      <td>12</td>\n",
              "      <td>20</td>\n",
              "      <td>{'degree': 3, 'deseasonal_model': 'additive', ...</td>\n",
              "      <td>0.025654</td>\n",
              "      <td>0.094477</td>\n",
              "      <td>0.056408</td>\n",
              "      <td>0.058846</td>\n",
              "      <td>0.028150</td>\n",
              "      <td>3</td>\n",
              "    </tr>\n",
              "    <tr>\n",
              "      <th>8</th>\n",
              "      <td>0.023935</td>\n",
              "      <td>0.006360</td>\n",
              "      <td>0.000665</td>\n",
              "      <td>4.703029e-04</td>\n",
              "      <td>7</td>\n",
              "      <td>multiplicative</td>\n",
              "      <td>False</td>\n",
              "      <td>True</td>\n",
              "      <td>24</td>\n",
              "      <td>13</td>\n",
              "      <td>{'degree': 7, 'deseasonal_model': 'multiplicat...</td>\n",
              "      <td>1.187042</td>\n",
              "      <td>0.547762</td>\n",
              "      <td>0.345976</td>\n",
              "      <td>0.693593</td>\n",
              "      <td>0.358514</td>\n",
              "      <td>9</td>\n",
              "    </tr>\n",
              "    <tr>\n",
              "      <th>9</th>\n",
              "      <td>0.024934</td>\n",
              "      <td>0.004886</td>\n",
              "      <td>0.000665</td>\n",
              "      <td>4.702465e-04</td>\n",
              "      <td>9</td>\n",
              "      <td>multiplicative</td>\n",
              "      <td>True</td>\n",
              "      <td>False</td>\n",
              "      <td>24</td>\n",
              "      <td>23</td>\n",
              "      <td>{'degree': 9, 'deseasonal_model': 'multiplicat...</td>\n",
              "      <td>0.486621</td>\n",
              "      <td>0.356463</td>\n",
              "      <td>0.286245</td>\n",
              "      <td>0.376443</td>\n",
              "      <td>0.083014</td>\n",
              "      <td>7</td>\n",
              "    </tr>\n",
              "  </tbody>\n",
              "</table>\n",
              "</div>"
            ],
            "text/plain": [
              "   mean_fit_time  std_fit_time  mean_score_time  std_score_time param_degree  \\\n",
              "0       0.028259      0.008238         0.000665    4.704714e-04            7   \n",
              "1       0.021943      0.000002         0.000665    4.700779e-04            5   \n",
              "2       0.021943      0.003549         0.000665    4.701355e-04            8   \n",
              "3       0.020278      0.000469         0.000998    2.247832e-07            6   \n",
              "4       0.027924      0.004532         0.000332    4.697969e-04            2   \n",
              "5       0.046210      0.000939         0.000665    4.700217e-04            6   \n",
              "6       0.018949      0.001411         0.000333    4.702464e-04            3   \n",
              "7       0.029920      0.009872         0.000664    4.694603e-04            3   \n",
              "8       0.023935      0.006360         0.000665    4.703029e-04            7   \n",
              "9       0.024934      0.004886         0.000665    4.702465e-04            9   \n",
              "\n",
              "  param_deseasonal_model param_regressor__fit_intercept  \\\n",
              "0         multiplicative                           True   \n",
              "1               additive                          False   \n",
              "2               additive                          False   \n",
              "3               additive                          False   \n",
              "4         multiplicative                          False   \n",
              "5               additive                          False   \n",
              "6         multiplicative                           True   \n",
              "7               additive                           True   \n",
              "8         multiplicative                          False   \n",
              "9         multiplicative                           True   \n",
              "\n",
              "  param_regressor__normalize param_sp param_window_length  \\\n",
              "0                       True       12                  19   \n",
              "1                       True       12                  22   \n",
              "2                      False       24                  14   \n",
              "3                      False       24                  17   \n",
              "4                       True       12                  23   \n",
              "5                       True       12                  22   \n",
              "6                      False       24                  20   \n",
              "7                       True       12                  20   \n",
              "8                       True       24                  13   \n",
              "9                      False       24                  23   \n",
              "\n",
              "                                              params  split0_test_smape  \\\n",
              "0  {'degree': 7, 'deseasonal_model': 'multiplicat...           0.346732   \n",
              "1  {'degree': 5, 'deseasonal_model': 'additive', ...           0.128711   \n",
              "2  {'degree': 8, 'deseasonal_model': 'additive', ...           1.588286   \n",
              "3  {'degree': 6, 'deseasonal_model': 'additive', ...           0.878957   \n",
              "4  {'degree': 2, 'deseasonal_model': 'multiplicat...           0.023537   \n",
              "5  {'degree': 6, 'deseasonal_model': 'additive', ...           0.465248   \n",
              "6  {'degree': 3, 'deseasonal_model': 'multiplicat...           0.013970   \n",
              "7  {'degree': 3, 'deseasonal_model': 'additive', ...           0.025654   \n",
              "8  {'degree': 7, 'deseasonal_model': 'multiplicat...           1.187042   \n",
              "9  {'degree': 9, 'deseasonal_model': 'multiplicat...           0.486621   \n",
              "\n",
              "   split1_test_smape  split2_test_smape  mean_test_smape  std_test_smape  \\\n",
              "0           0.136618           0.058968         0.180773        0.121557   \n",
              "1           0.090898           0.276334         0.165315        0.080006   \n",
              "2           0.285090           0.212746         0.695374        0.632074   \n",
              "3           0.395390           0.332348         0.535565        0.244175   \n",
              "4           0.079412           0.032535         0.045161        0.024496   \n",
              "5           0.122866           0.169187         0.252434        0.151666   \n",
              "6           0.088033           0.058526         0.053510        0.030443   \n",
              "7           0.094477           0.056408         0.058846        0.028150   \n",
              "8           0.547762           0.345976         0.693593        0.358514   \n",
              "9           0.356463           0.286245         0.376443        0.083014   \n",
              "\n",
              "   rank_test_smape  \n",
              "0                5  \n",
              "1                4  \n",
              "2               10  \n",
              "3                8  \n",
              "4                1  \n",
              "5                6  \n",
              "6                2  \n",
              "7                3  \n",
              "8                9  \n",
              "9                7  "
            ]
          },
          "execution_count": 18,
          "metadata": {},
          "output_type": "execute_result"
        }
      ],
      "source": [
        "pd.DataFrame(tuner.cv_results_)"
      ]
    }
  ],
  "metadata": {
    "colab": {
      "authorship_tag": "ABX9TyPJtFfOYN4T4R5Hlb5eAION",
      "name": "Copy of Untitled0.ipynb",
      "provenance": []
    },
    "kernelspec": {
      "display_name": "Python 3",
      "name": "python3"
    },
    "language_info": {
      "codemirror_mode": {
        "name": "ipython",
        "version": 3
      },
      "file_extension": ".py",
      "mimetype": "text/x-python",
      "name": "python",
      "nbconvert_exporter": "python",
      "pygments_lexer": "ipython3",
      "version": "3.8.12"
    },
    "widgets": {
      "application/vnd.jupyter.widget-state+json": {
        "52a6cd0b2d6e47da8f6380c71a2da659": {
          "model_module": "@jupyter-widgets/controls",
          "model_module_version": "1.5.0",
          "model_name": "IntProgressModel",
          "state": {
            "_dom_classes": [],
            "_model_module": "@jupyter-widgets/controls",
            "_model_module_version": "1.5.0",
            "_model_name": "IntProgressModel",
            "_view_count": null,
            "_view_module": "@jupyter-widgets/controls",
            "_view_module_version": "1.5.0",
            "_view_name": "ProgressView",
            "bar_style": "",
            "description": "Processing: ",
            "description_tooltip": null,
            "layout": "IPY_MODEL_cd34c156684747b19010fd4d4f41fd3a",
            "max": 139,
            "min": 0,
            "orientation": "horizontal",
            "style": "IPY_MODEL_5c2aac9ff2a34991a13c8be699b301a7",
            "value": 134
          }
        },
        "5c2aac9ff2a34991a13c8be699b301a7": {
          "model_module": "@jupyter-widgets/controls",
          "model_module_version": "1.5.0",
          "model_name": "ProgressStyleModel",
          "state": {
            "_model_module": "@jupyter-widgets/controls",
            "_model_module_version": "1.5.0",
            "_model_name": "ProgressStyleModel",
            "_view_count": null,
            "_view_module": "@jupyter-widgets/base",
            "_view_module_version": "1.2.0",
            "_view_name": "StyleView",
            "bar_color": null,
            "description_width": ""
          }
        },
        "623796bf3be44d30bc93902db1f4d71c": {
          "model_module": "@jupyter-widgets/controls",
          "model_module_version": "1.5.0",
          "model_name": "IntProgressModel",
          "state": {
            "_dom_classes": [],
            "_model_module": "@jupyter-widgets/controls",
            "_model_module_version": "1.5.0",
            "_model_name": "IntProgressModel",
            "_view_count": null,
            "_view_module": "@jupyter-widgets/controls",
            "_view_module_version": "1.5.0",
            "_view_name": "ProgressView",
            "bar_style": "",
            "description": "Processing: ",
            "description_tooltip": null,
            "layout": "IPY_MODEL_afd85029fd804d7ba2fd3731f3bed4b6",
            "max": 4,
            "min": 0,
            "orientation": "horizontal",
            "style": "IPY_MODEL_9edd650654f8454e9e166bf49434db30",
            "value": 4
          }
        },
        "6b98328c45b14636bfeea7eae5c579f4": {
          "model_module": "@jupyter-widgets/controls",
          "model_module_version": "1.5.0",
          "model_name": "ProgressStyleModel",
          "state": {
            "_model_module": "@jupyter-widgets/controls",
            "_model_module_version": "1.5.0",
            "_model_name": "ProgressStyleModel",
            "_view_count": null,
            "_view_module": "@jupyter-widgets/base",
            "_view_module_version": "1.2.0",
            "_view_name": "StyleView",
            "bar_color": null,
            "description_width": ""
          }
        },
        "82c6e8188aa64af49694b5cdb62f5f1a": {
          "model_module": "@jupyter-widgets/base",
          "model_module_version": "1.2.0",
          "model_name": "LayoutModel",
          "state": {
            "_model_module": "@jupyter-widgets/base",
            "_model_module_version": "1.2.0",
            "_model_name": "LayoutModel",
            "_view_count": null,
            "_view_module": "@jupyter-widgets/base",
            "_view_module_version": "1.2.0",
            "_view_name": "LayoutView",
            "align_content": null,
            "align_items": null,
            "align_self": null,
            "border": null,
            "bottom": null,
            "display": null,
            "flex": null,
            "flex_flow": null,
            "grid_area": null,
            "grid_auto_columns": null,
            "grid_auto_flow": null,
            "grid_auto_rows": null,
            "grid_column": null,
            "grid_gap": null,
            "grid_row": null,
            "grid_template_areas": null,
            "grid_template_columns": null,
            "grid_template_rows": null,
            "height": null,
            "justify_content": null,
            "justify_items": null,
            "left": null,
            "margin": null,
            "max_height": null,
            "max_width": null,
            "min_height": null,
            "min_width": null,
            "object_fit": null,
            "object_position": null,
            "order": null,
            "overflow": null,
            "overflow_x": null,
            "overflow_y": null,
            "padding": null,
            "right": null,
            "top": null,
            "visibility": null,
            "width": null
          }
        },
        "9edd650654f8454e9e166bf49434db30": {
          "model_module": "@jupyter-widgets/controls",
          "model_module_version": "1.5.0",
          "model_name": "ProgressStyleModel",
          "state": {
            "_model_module": "@jupyter-widgets/controls",
            "_model_module_version": "1.5.0",
            "_model_name": "ProgressStyleModel",
            "_view_count": null,
            "_view_module": "@jupyter-widgets/base",
            "_view_module_version": "1.2.0",
            "_view_name": "StyleView",
            "bar_color": null,
            "description_width": ""
          }
        },
        "afd85029fd804d7ba2fd3731f3bed4b6": {
          "model_module": "@jupyter-widgets/base",
          "model_module_version": "1.2.0",
          "model_name": "LayoutModel",
          "state": {
            "_model_module": "@jupyter-widgets/base",
            "_model_module_version": "1.2.0",
            "_model_name": "LayoutModel",
            "_view_count": null,
            "_view_module": "@jupyter-widgets/base",
            "_view_module_version": "1.2.0",
            "_view_name": "LayoutView",
            "align_content": null,
            "align_items": null,
            "align_self": null,
            "border": null,
            "bottom": null,
            "display": null,
            "flex": null,
            "flex_flow": null,
            "grid_area": null,
            "grid_auto_columns": null,
            "grid_auto_flow": null,
            "grid_auto_rows": null,
            "grid_column": null,
            "grid_gap": null,
            "grid_row": null,
            "grid_template_areas": null,
            "grid_template_columns": null,
            "grid_template_rows": null,
            "height": null,
            "justify_content": null,
            "justify_items": null,
            "left": null,
            "margin": null,
            "max_height": null,
            "max_width": null,
            "min_height": null,
            "min_width": null,
            "object_fit": null,
            "object_position": null,
            "order": null,
            "overflow": null,
            "overflow_x": null,
            "overflow_y": null,
            "padding": null,
            "right": null,
            "top": null,
            "visibility": null,
            "width": null
          }
        },
        "cd34c156684747b19010fd4d4f41fd3a": {
          "model_module": "@jupyter-widgets/base",
          "model_module_version": "1.2.0",
          "model_name": "LayoutModel",
          "state": {
            "_model_module": "@jupyter-widgets/base",
            "_model_module_version": "1.2.0",
            "_model_name": "LayoutModel",
            "_view_count": null,
            "_view_module": "@jupyter-widgets/base",
            "_view_module_version": "1.2.0",
            "_view_name": "LayoutView",
            "align_content": null,
            "align_items": null,
            "align_self": null,
            "border": null,
            "bottom": null,
            "display": null,
            "flex": null,
            "flex_flow": null,
            "grid_area": null,
            "grid_auto_columns": null,
            "grid_auto_flow": null,
            "grid_auto_rows": null,
            "grid_column": null,
            "grid_gap": null,
            "grid_row": null,
            "grid_template_areas": null,
            "grid_template_columns": null,
            "grid_template_rows": null,
            "height": null,
            "justify_content": null,
            "justify_items": null,
            "left": null,
            "margin": null,
            "max_height": null,
            "max_width": null,
            "min_height": null,
            "min_width": null,
            "object_fit": null,
            "object_position": null,
            "order": null,
            "overflow": null,
            "overflow_x": null,
            "overflow_y": null,
            "padding": null,
            "right": null,
            "top": null,
            "visibility": null,
            "width": null
          }
        },
        "eae4f4129e924fe3be54af7d5ad744fa": {
          "model_module": "@jupyter-widgets/controls",
          "model_module_version": "1.5.0",
          "model_name": "IntProgressModel",
          "state": {
            "_dom_classes": [],
            "_model_module": "@jupyter-widgets/controls",
            "_model_module_version": "1.5.0",
            "_model_name": "IntProgressModel",
            "_view_count": null,
            "_view_module": "@jupyter-widgets/controls",
            "_view_module_version": "1.5.0",
            "_view_name": "ProgressView",
            "bar_style": "",
            "description": "Processing: ",
            "description_tooltip": null,
            "layout": "IPY_MODEL_82c6e8188aa64af49694b5cdb62f5f1a",
            "max": 3,
            "min": 0,
            "orientation": "horizontal",
            "style": "IPY_MODEL_6b98328c45b14636bfeea7eae5c579f4",
            "value": 3
          }
        }
      }
    }
  },
  "nbformat": 4,
  "nbformat_minor": 0
}
