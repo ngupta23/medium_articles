{
  "nbformat": 4,
  "nbformat_minor": 0,
  "metadata": {
    "colab": {
      "name": "pycaret_ts_arima_000_0000.ipynb",
      "provenance": [],
      "collapsed_sections": [
        "-yWrHe9TZ7eu"
      ],
      "toc_visible": true,
      "authorship_tag": "ABX9TyNALqq24qZdiayimzHj23FN",
      "include_colab_link": true
    },
    "kernelspec": {
      "name": "python3",
      "display_name": "Python 3"
    },
    "language_info": {
      "name": "python"
    },
    "widgets": {
      "application/vnd.jupyter.widget-state+json": {
        "62a233260f4f4cc8900c6d8f6f6e07bb": {
          "model_module": "@jupyter-widgets/controls",
          "model_name": "IntProgressModel",
          "model_module_version": "1.5.0",
          "state": {
            "_view_name": "ProgressView",
            "style": "IPY_MODEL_cd1da4252a75440e87729155c8b41a90",
            "_dom_classes": [],
            "description": "Processing: ",
            "_model_name": "IntProgressModel",
            "bar_style": "",
            "max": 4,
            "_view_module": "@jupyter-widgets/controls",
            "_model_module_version": "1.5.0",
            "value": 4,
            "_view_count": null,
            "_view_module_version": "1.5.0",
            "orientation": "horizontal",
            "min": 0,
            "description_tooltip": null,
            "_model_module": "@jupyter-widgets/controls",
            "layout": "IPY_MODEL_01b999f133a24a56803acdfab725a519"
          }
        },
        "cd1da4252a75440e87729155c8b41a90": {
          "model_module": "@jupyter-widgets/controls",
          "model_name": "ProgressStyleModel",
          "model_module_version": "1.5.0",
          "state": {
            "_view_name": "StyleView",
            "_model_name": "ProgressStyleModel",
            "description_width": "",
            "_view_module": "@jupyter-widgets/base",
            "_model_module_version": "1.5.0",
            "_view_count": null,
            "_view_module_version": "1.2.0",
            "bar_color": null,
            "_model_module": "@jupyter-widgets/controls"
          }
        },
        "01b999f133a24a56803acdfab725a519": {
          "model_module": "@jupyter-widgets/base",
          "model_name": "LayoutModel",
          "model_module_version": "1.2.0",
          "state": {
            "_view_name": "LayoutView",
            "grid_template_rows": null,
            "right": null,
            "justify_content": null,
            "_view_module": "@jupyter-widgets/base",
            "overflow": null,
            "_model_module_version": "1.2.0",
            "_view_count": null,
            "flex_flow": null,
            "width": null,
            "min_width": null,
            "border": null,
            "align_items": null,
            "bottom": null,
            "_model_module": "@jupyter-widgets/base",
            "top": null,
            "grid_column": null,
            "overflow_y": null,
            "overflow_x": null,
            "grid_auto_flow": null,
            "grid_area": null,
            "grid_template_columns": null,
            "flex": null,
            "_model_name": "LayoutModel",
            "justify_items": null,
            "grid_row": null,
            "max_height": null,
            "align_content": null,
            "visibility": null,
            "align_self": null,
            "height": null,
            "min_height": null,
            "padding": null,
            "grid_auto_rows": null,
            "grid_gap": null,
            "max_width": null,
            "order": null,
            "_view_module_version": "1.2.0",
            "grid_template_areas": null,
            "object_position": null,
            "object_fit": null,
            "grid_auto_columns": null,
            "margin": null,
            "display": null,
            "left": null
          }
        }
      }
    }
  },
  "cells": [
    {
      "cell_type": "markdown",
      "metadata": {
        "id": "view-in-github",
        "colab_type": "text"
      },
      "source": [
        "<a href=\"https://colab.research.google.com/github/ngupta23/medium_articles/blob/main/time_series/pycaret/pycaret_ts_arima_000_0000.ipynb\" target=\"_parent\"><img src=\"https://colab.research.google.com/assets/colab-badge.svg\" alt=\"Open In Colab\"/></a>"
      ]
    },
    {
      "cell_type": "markdown",
      "metadata": {
        "id": "mIy1nR_4a4o6"
      },
      "source": [
        "## Install & Import Library"
      ]
    },
    {
      "cell_type": "code",
      "metadata": {
        "id": "GztWpgv-A-WB"
      },
      "source": [
        "try:\n",
        "  import pycaret\n",
        "except:\n",
        "  !pip install pycaret-ts-alpha"
      ],
      "execution_count": 1,
      "outputs": []
    },
    {
      "cell_type": "code",
      "metadata": {
        "id": "oxHdtDM6BBYQ",
        "colab": {
          "base_uri": "https://localhost:8080/"
        },
        "outputId": "793967fc-f590-474f-b409-ab06858fd880"
      },
      "source": [
        "import numpy as np\n",
        "import pandas as pd\n",
        "import seaborn as sns\n",
        "from pycaret.datasets import get_data\n",
        "from pycaret.internal.pycaret_experiment import TimeSeriesExperiment"
      ],
      "execution_count": 2,
      "outputs": [
        {
          "output_type": "stream",
          "name": "stderr",
          "text": [
            "/usr/local/lib/python3.7/dist-packages/distributed/config.py:20: YAMLLoadWarning: calling yaml.load() without Loader=... is deprecated, as the default Loader is unsafe. Please read https://msg.pyyaml.org/load for full details.\n",
            "  defaults = yaml.load(f)\n"
          ]
        }
      ]
    },
    {
      "cell_type": "markdown",
      "metadata": {
        "id": "WXG1Wm3ubE9I"
      },
      "source": [
        "## Get Data and Setup PyCaret Experiment"
      ]
    },
    {
      "cell_type": "code",
      "metadata": {
        "colab": {
          "base_uri": "https://localhost:8080/",
          "height": 206
        },
        "id": "-ml7pgT9BIB4",
        "outputId": "31aee195-14fd-4c1c-f740-35dae801c952"
      },
      "source": [
        "#### Get data from data playground ----\n",
        "y = get_data(\"1\", folder=\"time_series/white_noise\")"
      ],
      "execution_count": 3,
      "outputs": [
        {
          "output_type": "display_data",
          "data": {
            "text/html": [
              "<div>\n",
              "<style scoped>\n",
              "    .dataframe tbody tr th:only-of-type {\n",
              "        vertical-align: middle;\n",
              "    }\n",
              "\n",
              "    .dataframe tbody tr th {\n",
              "        vertical-align: top;\n",
              "    }\n",
              "\n",
              "    .dataframe thead th {\n",
              "        text-align: right;\n",
              "    }\n",
              "</style>\n",
              "<table border=\"1\" class=\"dataframe\">\n",
              "  <thead>\n",
              "    <tr style=\"text-align: right;\">\n",
              "      <th></th>\n",
              "      <th>x</th>\n",
              "    </tr>\n",
              "  </thead>\n",
              "  <tbody>\n",
              "    <tr>\n",
              "      <th>0</th>\n",
              "      <td>175.379633</td>\n",
              "    </tr>\n",
              "    <tr>\n",
              "      <th>1</th>\n",
              "      <td>176.042116</td>\n",
              "    </tr>\n",
              "    <tr>\n",
              "      <th>2</th>\n",
              "      <td>175.089078</td>\n",
              "    </tr>\n",
              "    <tr>\n",
              "      <th>3</th>\n",
              "      <td>176.158029</td>\n",
              "    </tr>\n",
              "    <tr>\n",
              "      <th>4</th>\n",
              "      <td>175.345415</td>\n",
              "    </tr>\n",
              "  </tbody>\n",
              "</table>\n",
              "</div>"
            ],
            "text/plain": [
              "            x\n",
              "0  175.379633\n",
              "1  176.042116\n",
              "2  175.089078\n",
              "3  176.158029\n",
              "4  175.345415"
            ]
          },
          "metadata": {}
        }
      ]
    },
    {
      "cell_type": "code",
      "metadata": {
        "colab": {
          "base_uri": "https://localhost:8080/",
          "height": 695
        },
        "id": "PcmSPlr5BS9m",
        "outputId": "2581ee40-4f33-4412-d3d3-a5e627d571cd"
      },
      "source": [
        "exp = TimeSeriesExperiment()\n",
        "exp.setup(data=y, seasonal_period=1, fh=30, session_id=42)"
      ],
      "execution_count": 4,
      "outputs": [
        {
          "output_type": "display_data",
          "data": {
            "text/html": [
              "<div>\n",
              "<style scoped>\n",
              "    .dataframe tbody tr th:only-of-type {\n",
              "        vertical-align: middle;\n",
              "    }\n",
              "\n",
              "    .dataframe tbody tr th {\n",
              "        vertical-align: top;\n",
              "    }\n",
              "\n",
              "    .dataframe thead th {\n",
              "        text-align: right;\n",
              "    }\n",
              "</style>\n",
              "<table border=\"1\" class=\"dataframe\">\n",
              "  <thead>\n",
              "    <tr style=\"text-align: right;\">\n",
              "      <th></th>\n",
              "      <th>Description</th>\n",
              "      <th>Value</th>\n",
              "    </tr>\n",
              "  </thead>\n",
              "  <tbody>\n",
              "    <tr>\n",
              "      <th>0</th>\n",
              "      <td>session_id</td>\n",
              "      <td>42</td>\n",
              "    </tr>\n",
              "    <tr>\n",
              "      <th>1</th>\n",
              "      <td>Original Data</td>\n",
              "      <td>(340, 1)</td>\n",
              "    </tr>\n",
              "    <tr>\n",
              "      <th>2</th>\n",
              "      <td>Missing Values</td>\n",
              "      <td>False</td>\n",
              "    </tr>\n",
              "    <tr>\n",
              "      <th>3</th>\n",
              "      <td>Transformed Train Set</td>\n",
              "      <td>(310,)</td>\n",
              "    </tr>\n",
              "    <tr>\n",
              "      <th>4</th>\n",
              "      <td>Transformed Test Set</td>\n",
              "      <td>(30,)</td>\n",
              "    </tr>\n",
              "    <tr>\n",
              "      <th>5</th>\n",
              "      <td>Fold Generator</td>\n",
              "      <td>ExpandingWindowSplitter</td>\n",
              "    </tr>\n",
              "    <tr>\n",
              "      <th>6</th>\n",
              "      <td>Fold Number</td>\n",
              "      <td>3</td>\n",
              "    </tr>\n",
              "    <tr>\n",
              "      <th>7</th>\n",
              "      <td>Enforce Prediction Interval</td>\n",
              "      <td>False</td>\n",
              "    </tr>\n",
              "    <tr>\n",
              "      <th>8</th>\n",
              "      <td>Seasonal Period Tested</td>\n",
              "      <td>1</td>\n",
              "    </tr>\n",
              "    <tr>\n",
              "      <th>9</th>\n",
              "      <td>Seasonality Detected</td>\n",
              "      <td>False</td>\n",
              "    </tr>\n",
              "    <tr>\n",
              "      <th>10</th>\n",
              "      <td>Target Strictly Positive</td>\n",
              "      <td>True</td>\n",
              "    </tr>\n",
              "    <tr>\n",
              "      <th>11</th>\n",
              "      <td>Target White Noise</td>\n",
              "      <td>Yes</td>\n",
              "    </tr>\n",
              "    <tr>\n",
              "      <th>12</th>\n",
              "      <td>Recommended d</td>\n",
              "      <td>0</td>\n",
              "    </tr>\n",
              "    <tr>\n",
              "      <th>13</th>\n",
              "      <td>Recommended Seasonal D</td>\n",
              "      <td>0</td>\n",
              "    </tr>\n",
              "    <tr>\n",
              "      <th>14</th>\n",
              "      <td>CPU Jobs</td>\n",
              "      <td>-1</td>\n",
              "    </tr>\n",
              "    <tr>\n",
              "      <th>15</th>\n",
              "      <td>Use GPU</td>\n",
              "      <td>False</td>\n",
              "    </tr>\n",
              "    <tr>\n",
              "      <th>16</th>\n",
              "      <td>Log Experiment</td>\n",
              "      <td>False</td>\n",
              "    </tr>\n",
              "    <tr>\n",
              "      <th>17</th>\n",
              "      <td>Experiment Name</td>\n",
              "      <td>ts-default-name</td>\n",
              "    </tr>\n",
              "    <tr>\n",
              "      <th>18</th>\n",
              "      <td>USI</td>\n",
              "      <td>12e7</td>\n",
              "    </tr>\n",
              "    <tr>\n",
              "      <th>19</th>\n",
              "      <td>Imputation Type</td>\n",
              "      <td>simple</td>\n",
              "    </tr>\n",
              "  </tbody>\n",
              "</table>\n",
              "</div>"
            ],
            "text/plain": [
              "                    Description                    Value\n",
              "0                    session_id                       42\n",
              "1                 Original Data                 (340, 1)\n",
              "2                Missing Values                    False\n",
              "3         Transformed Train Set                   (310,)\n",
              "4          Transformed Test Set                    (30,)\n",
              "5                Fold Generator  ExpandingWindowSplitter\n",
              "6                   Fold Number                        3\n",
              "7   Enforce Prediction Interval                    False\n",
              "8        Seasonal Period Tested                        1\n",
              "9          Seasonality Detected                    False\n",
              "10     Target Strictly Positive                     True\n",
              "11           Target White Noise                      Yes\n",
              "12                Recommended d                        0\n",
              "13       Recommended Seasonal D                        0\n",
              "14                     CPU Jobs                       -1\n",
              "15                      Use GPU                    False\n",
              "16               Log Experiment                    False\n",
              "17              Experiment Name          ts-default-name\n",
              "18                          USI                     12e7\n",
              "19              Imputation Type                   simple"
            ]
          },
          "metadata": {}
        },
        {
          "output_type": "execute_result",
          "data": {
            "text/plain": [
              "<pycaret.internal.pycaret_experiment.time_series_experiment.TimeSeriesExperiment at 0x7fae8924ae50>"
            ]
          },
          "metadata": {},
          "execution_count": 4
        }
      ]
    },
    {
      "cell_type": "markdown",
      "metadata": {
        "id": "BBRB3SWobKaN"
      },
      "source": [
        "## EDA"
      ]
    },
    {
      "cell_type": "code",
      "metadata": {
        "colab": {
          "base_uri": "https://localhost:8080/",
          "height": 542
        },
        "id": "YGtgBDxFBWyg",
        "outputId": "a59498de-8415-4be6-dca2-015493cc7510"
      },
      "source": [
        "exp.plot_model()"
      ],
      "execution_count": 5,
      "outputs": [
        {
          "output_type": "display_data",
          "data": {
            "text/html": [
              "<html>\n",
              "<head><meta charset=\"utf-8\" /></head>\n",
              "<body>\n",
              "    <div>            <script src=\"https://cdnjs.cloudflare.com/ajax/libs/mathjax/2.7.5/MathJax.js?config=TeX-AMS-MML_SVG\"></script><script type=\"text/javascript\">if (window.MathJax) {MathJax.Hub.Config({SVG: {font: \"STIX-Web\"}});}</script>                <script type=\"text/javascript\">window.PlotlyConfig = {MathJaxConfig: 'local'};</script>\n",
              "        <script src=\"https://cdn.plot.ly/plotly-2.4.2.min.js\"></script>                <div id=\"525859de-f4ae-41ae-959b-2585759ec2c1\" class=\"plotly-graph-div\" style=\"height:525px; width:100%;\"></div>            <script type=\"text/javascript\">                                    window.PLOTLYENV=window.PLOTLYENV || {};                                    if (document.getElementById(\"525859de-f4ae-41ae-959b-2585759ec2c1\")) {                    Plotly.newPlot(                        \"525859de-f4ae-41ae-959b-2585759ec2c1\",                        [{\"marker\":{\"color\":\"#3f3f3f\",\"size\":5},\"mode\":\"lines+markers\",\"name\":\"Time Series\",\"showlegend\":true,\"type\":\"scatter\",\"x\":[0,1,2,3,4,5,6,7,8,9,10,11,12,13,14,15,16,17,18,19,20,21,22,23,24,25,26,27,28,29,30,31,32,33,34,35,36,37,38,39,40,41,42,43,44,45,46,47,48,49,50,51,52,53,54,55,56,57,58,59,60,61,62,63,64,65,66,67,68,69,70,71,72,73,74,75,76,77,78,79,80,81,82,83,84,85,86,87,88,89,90,91,92,93,94,95,96,97,98,99,100,101,102,103,104,105,106,107,108,109,110,111,112,113,114,115,116,117,118,119,120,121,122,123,124,125,126,127,128,129,130,131,132,133,134,135,136,137,138,139,140,141,142,143,144,145,146,147,148,149,150,151,152,153,154,155,156,157,158,159,160,161,162,163,164,165,166,167,168,169,170,171,172,173,174,175,176,177,178,179,180,181,182,183,184,185,186,187,188,189,190,191,192,193,194,195,196,197,198,199,200,201,202,203,204,205,206,207,208,209,210,211,212,213,214,215,216,217,218,219,220,221,222,223,224,225,226,227,228,229,230,231,232,233,234,235,236,237,238,239,240,241,242,243,244,245,246,247,248,249,250,251,252,253,254,255,256,257,258,259,260,261,262,263,264,265,266,267,268,269,270,271,272,273,274,275,276,277,278,279,280,281,282,283,284,285,286,287,288,289,290,291,292,293,294,295,296,297,298,299,300,301,302,303,304,305,306,307,308,309,310,311,312,313,314,315,316,317,318,319,320,321,322,323,324,325,326,327,328,329,330,331,332,333,334,335,336,337,338,339],\"y\":[175.379633322776,176.04211587314398,175.089078351448,176.15802877240398,175.34541535608102,177.767287269373,176.716707476017,176.910174229495,176.384185357826,177.68217608051899,175.36426354605098,175.53835526963903,177.43228223854197,175.34930364668998,175.792619256398,175.607192070558,175.680007131452,175.72088669702302,176.494188331268,175.82266951773,175.494042537886,177.34303882516997,175.785420591453,175.820443469957,175.899809258786,176.71266630705102,175.92643559587398,175.962365828533,175.318339521244,175.67572972775397,176.060160440435,175.41110551374,176.53149619263303,174.481605918213,176.30655786078998,174.46355017646198,175.699023873163,175.471720095555,175.347905219319,175.943103222153,174.08564057432,177.176583312019,174.335027563788,175.536469598528,174.884079894957,175.249180998807,178.087166545628,176.017395619693,174.713699469566,174.359394465581,176.450187101273,175.981440167285,175.681931625456,175.070637852546,174.512539689859,174.924807703384,177.000028803714,175.378733305203,174.615573152615,177.86929062242402,176.42510037737202,175.761352899087,177.05848304870898,176.886422651375,175.380756951769,178.20610246453998,175.74497296985902,174.575505349787,175.855600398046,176.20753833923197,178.30797839905898,176.10580236789397,176.456998805423,175.92284706464298,175.66599915763302,175.965273971689,176.78763960563,178.075245008652,177.027392438764,177.207908398387,174.768676578442,176.983895570053,176.219924803661,174.53274997090801,176.521022742648,175.841245395284,177.46458731196998,175.23391800039502,175.56978824607103,175.073890502623,175.82289603856302,176.402011779486,175.26825182688,176.83037316798197,174.791917213696,174.952015587192,177.441157706844,174.98415253469503,176.411974712318,175.618923948891,176.409401839651,177.688873286204,177.586588433442,175.66909219931702,173.714764464708,178.497661589834,176.66706616676498,176.541327335964,175.986600476854,176.51010842295298,175.83562416823003,176.42069464325502,175.59975325602198,174.629792122453,176.98783826745498,177.5197450255,175.691259430774,174.746710244392,176.642241305678,175.955290863106,174.266781593175,176.00213185968002,175.369699666072,175.65903142014,174.84342763736402,177.803141907917,175.66886796360902,174.394486587747,176.19719343873902,176.263175646405,175.014173299591,173.11107932832002,175.359518297435,176.57050763592,175.940276723957,175.90182125599497,176.56082072862,174.81354136142102,177.09677704427398,175.99465597172198,176.707310667398,177.034107734737,176.223480414915,175.12129238713402,177.162964555967,173.999835055215,175.455209259998,175.744329290843,175.833878963235,177.020463908784,176.136221893103,176.407167603424,175.930345186987,175.752335658381,176.69555080662,177.146228357216,173.596903785108,176.57273955524602,176.374724406779,175.57473227844397,176.95101280757703,175.610762818282,175.7156693382,176.85740977807998,177.71962729912102,176.270054900937,175.57781599021197,174.81088670514,175.66896702112098,175.06017067348998,175.74106741688098,176.394379168222,175.148142907976,178.649166881095,176.156011675665,177.13020726745498,173.71087602016001,176.741001157195,174.683754839548,176.919803677609,176.398130155452,175.59247142073002,177.324258630177,175.29876833075298,175.41938569575902,174.99892781897498,175.331821393247,176.945184953373,176.43370214954498,177.005159217677,175.609881335946,176.376370291775,176.244164924486,174.573742657617,177.778429287475,176.134447660934,176.765598999158,176.95513667690898,175.949434298558,175.694184580233,176.89367370242599,174.95270185093898,177.97133738622398,175.616367893712,177.654145302275,177.512212693951,176.082965733586,176.567220914852,174.975451520466,176.32300650302201,177.04361245835602,176.099078486897,175.54586309084598,175.34421814755,175.96407757737703,177.06916146067698,175.51602506969897,175.87898988867298,174.70585999617902,176.494312836015,177.30790152011397,177.497041009403,176.81470273089698,174.13021120979698,176.482029504124,176.45613560330102,175.64659971417,176.17048947094798,175.13596404587298,176.679230774016,175.672898985347,174.430917814856,175.63254924383,177.36443492906997,175.665718635269,176.732750042209,176.94658564019798,176.00439870432598,175.64767769445,175.470304490866,176.739589225575,174.93654258451699,176.246210843536,175.710500633436,173.735110643512,174.591149543927,176.916019328793,175.808721049465,176.803283216134,177.887474463309,177.47388118110902,176.677268492313,176.379962686567,175.807201573543,177.577891794904,176.596234109318,174.82642305912898,175.84435746511002,174.08109017972998,175.804741153889,173.40767233005403,177.314002167198,175.36445699896802,175.570021161306,175.83068166769797,176.612218173989,176.67834017722302,176.567951972472,175.42745739607398,174.636708743722,175.611277755662,176.27791413245097,175.176918878428,175.931159065522,174.83233767387,175.991690985784,176.12885540159698,175.854124371539,175.836089043264,177.763552002785,176.76258651241798,177.11143108073102,175.07679304716999,176.16434183842802,177.154825187097,175.94347857547402,173.870639351765,176.344845762099,174.095044554414,175.18882984686002,177.3240043213,176.61563684930303,177.091668955535,176.30660486151402,175.889841237517,175.07568722687301,177.592913753719,176.045010598122,175.284871599332,176.86522309971699,177.07444095827802,177.895654774199,175.397002696395,175.609132179277,175.58377796847,175.62434257718002,175.633369054298,175.704322547299,177.4418204102,175.302461708087,175.611832494079,176.652536452172,177.124772446535,175.227889196976,175.491913783862,176.523620590498,177.01775422653802,175.748835411912,174.570006552611,177.709121032101,177.43506957231202,175.28962885415,175.934932426344,174.24053126463403,176.569722971819,177.61234679820203,174.362719352895,175.220431486798,175.35882306624902,175.318868606429,173.96671440438203,176.50096355924802,174.468201860034,175.97500236072202,176.592984721025,175.801804578515,176.892008392474,175.974284929082,175.35233954941398,176.64635941503502]}],                        {\"showlegend\":true,\"template\":{\"data\":{\"bar\":[{\"error_x\":{\"color\":\"rgb(51,51,51)\"},\"error_y\":{\"color\":\"rgb(51,51,51)\"},\"marker\":{\"line\":{\"color\":\"rgb(237,237,237)\",\"width\":0.5},\"pattern\":{\"fillmode\":\"overlay\",\"size\":10,\"solidity\":0.2}},\"type\":\"bar\"}],\"barpolar\":[{\"marker\":{\"line\":{\"color\":\"rgb(237,237,237)\",\"width\":0.5},\"pattern\":{\"fillmode\":\"overlay\",\"size\":10,\"solidity\":0.2}},\"type\":\"barpolar\"}],\"carpet\":[{\"aaxis\":{\"endlinecolor\":\"rgb(51,51,51)\",\"gridcolor\":\"white\",\"linecolor\":\"white\",\"minorgridcolor\":\"white\",\"startlinecolor\":\"rgb(51,51,51)\"},\"baxis\":{\"endlinecolor\":\"rgb(51,51,51)\",\"gridcolor\":\"white\",\"linecolor\":\"white\",\"minorgridcolor\":\"white\",\"startlinecolor\":\"rgb(51,51,51)\"},\"type\":\"carpet\"}],\"choropleth\":[{\"colorbar\":{\"outlinewidth\":0,\"tickcolor\":\"rgb(237,237,237)\",\"ticklen\":6,\"ticks\":\"inside\"},\"type\":\"choropleth\"}],\"contour\":[{\"colorbar\":{\"outlinewidth\":0,\"tickcolor\":\"rgb(237,237,237)\",\"ticklen\":6,\"ticks\":\"inside\"},\"colorscale\":[[0,\"rgb(20,44,66)\"],[1,\"rgb(90,179,244)\"]],\"type\":\"contour\"}],\"contourcarpet\":[{\"colorbar\":{\"outlinewidth\":0,\"tickcolor\":\"rgb(237,237,237)\",\"ticklen\":6,\"ticks\":\"inside\"},\"type\":\"contourcarpet\"}],\"heatmap\":[{\"colorbar\":{\"outlinewidth\":0,\"tickcolor\":\"rgb(237,237,237)\",\"ticklen\":6,\"ticks\":\"inside\"},\"colorscale\":[[0,\"rgb(20,44,66)\"],[1,\"rgb(90,179,244)\"]],\"type\":\"heatmap\"}],\"heatmapgl\":[{\"colorbar\":{\"outlinewidth\":0,\"tickcolor\":\"rgb(237,237,237)\",\"ticklen\":6,\"ticks\":\"inside\"},\"colorscale\":[[0,\"rgb(20,44,66)\"],[1,\"rgb(90,179,244)\"]],\"type\":\"heatmapgl\"}],\"histogram\":[{\"marker\":{\"pattern\":{\"fillmode\":\"overlay\",\"size\":10,\"solidity\":0.2}},\"type\":\"histogram\"}],\"histogram2d\":[{\"colorbar\":{\"outlinewidth\":0,\"tickcolor\":\"rgb(237,237,237)\",\"ticklen\":6,\"ticks\":\"inside\"},\"colorscale\":[[0,\"rgb(20,44,66)\"],[1,\"rgb(90,179,244)\"]],\"type\":\"histogram2d\"}],\"histogram2dcontour\":[{\"colorbar\":{\"outlinewidth\":0,\"tickcolor\":\"rgb(237,237,237)\",\"ticklen\":6,\"ticks\":\"inside\"},\"colorscale\":[[0,\"rgb(20,44,66)\"],[1,\"rgb(90,179,244)\"]],\"type\":\"histogram2dcontour\"}],\"mesh3d\":[{\"colorbar\":{\"outlinewidth\":0,\"tickcolor\":\"rgb(237,237,237)\",\"ticklen\":6,\"ticks\":\"inside\"},\"type\":\"mesh3d\"}],\"parcoords\":[{\"line\":{\"colorbar\":{\"outlinewidth\":0,\"tickcolor\":\"rgb(237,237,237)\",\"ticklen\":6,\"ticks\":\"inside\"}},\"type\":\"parcoords\"}],\"pie\":[{\"automargin\":true,\"type\":\"pie\"}],\"scatter\":[{\"marker\":{\"colorbar\":{\"outlinewidth\":0,\"tickcolor\":\"rgb(237,237,237)\",\"ticklen\":6,\"ticks\":\"inside\"}},\"type\":\"scatter\"}],\"scatter3d\":[{\"line\":{\"colorbar\":{\"outlinewidth\":0,\"tickcolor\":\"rgb(237,237,237)\",\"ticklen\":6,\"ticks\":\"inside\"}},\"marker\":{\"colorbar\":{\"outlinewidth\":0,\"tickcolor\":\"rgb(237,237,237)\",\"ticklen\":6,\"ticks\":\"inside\"}},\"type\":\"scatter3d\"}],\"scattercarpet\":[{\"marker\":{\"colorbar\":{\"outlinewidth\":0,\"tickcolor\":\"rgb(237,237,237)\",\"ticklen\":6,\"ticks\":\"inside\"}},\"type\":\"scattercarpet\"}],\"scattergeo\":[{\"marker\":{\"colorbar\":{\"outlinewidth\":0,\"tickcolor\":\"rgb(237,237,237)\",\"ticklen\":6,\"ticks\":\"inside\"}},\"type\":\"scattergeo\"}],\"scattergl\":[{\"marker\":{\"colorbar\":{\"outlinewidth\":0,\"tickcolor\":\"rgb(237,237,237)\",\"ticklen\":6,\"ticks\":\"inside\"}},\"type\":\"scattergl\"}],\"scattermapbox\":[{\"marker\":{\"colorbar\":{\"outlinewidth\":0,\"tickcolor\":\"rgb(237,237,237)\",\"ticklen\":6,\"ticks\":\"inside\"}},\"type\":\"scattermapbox\"}],\"scatterpolar\":[{\"marker\":{\"colorbar\":{\"outlinewidth\":0,\"tickcolor\":\"rgb(237,237,237)\",\"ticklen\":6,\"ticks\":\"inside\"}},\"type\":\"scatterpolar\"}],\"scatterpolargl\":[{\"marker\":{\"colorbar\":{\"outlinewidth\":0,\"tickcolor\":\"rgb(237,237,237)\",\"ticklen\":6,\"ticks\":\"inside\"}},\"type\":\"scatterpolargl\"}],\"scatterternary\":[{\"marker\":{\"colorbar\":{\"outlinewidth\":0,\"tickcolor\":\"rgb(237,237,237)\",\"ticklen\":6,\"ticks\":\"inside\"}},\"type\":\"scatterternary\"}],\"surface\":[{\"colorbar\":{\"outlinewidth\":0,\"tickcolor\":\"rgb(237,237,237)\",\"ticklen\":6,\"ticks\":\"inside\"},\"colorscale\":[[0,\"rgb(20,44,66)\"],[1,\"rgb(90,179,244)\"]],\"type\":\"surface\"}],\"table\":[{\"cells\":{\"fill\":{\"color\":\"rgb(237,237,237)\"},\"line\":{\"color\":\"white\"}},\"header\":{\"fill\":{\"color\":\"rgb(217,217,217)\"},\"line\":{\"color\":\"white\"}},\"type\":\"table\"}]},\"layout\":{\"annotationdefaults\":{\"arrowhead\":0,\"arrowwidth\":1},\"autotypenumbers\":\"strict\",\"coloraxis\":{\"colorbar\":{\"outlinewidth\":0,\"tickcolor\":\"rgb(237,237,237)\",\"ticklen\":6,\"ticks\":\"inside\"}},\"colorscale\":{\"sequential\":[[0,\"rgb(20,44,66)\"],[1,\"rgb(90,179,244)\"]],\"sequentialminus\":[[0,\"rgb(20,44,66)\"],[1,\"rgb(90,179,244)\"]]},\"colorway\":[\"#F8766D\",\"#A3A500\",\"#00BF7D\",\"#00B0F6\",\"#E76BF3\"],\"font\":{\"color\":\"rgb(51,51,51)\"},\"geo\":{\"bgcolor\":\"white\",\"lakecolor\":\"white\",\"landcolor\":\"rgb(237,237,237)\",\"showlakes\":true,\"showland\":true,\"subunitcolor\":\"white\"},\"hoverlabel\":{\"align\":\"left\"},\"hovermode\":\"closest\",\"paper_bgcolor\":\"white\",\"plot_bgcolor\":\"rgb(237,237,237)\",\"polar\":{\"angularaxis\":{\"gridcolor\":\"white\",\"linecolor\":\"white\",\"showgrid\":true,\"tickcolor\":\"rgb(51,51,51)\",\"ticks\":\"outside\"},\"bgcolor\":\"rgb(237,237,237)\",\"radialaxis\":{\"gridcolor\":\"white\",\"linecolor\":\"white\",\"showgrid\":true,\"tickcolor\":\"rgb(51,51,51)\",\"ticks\":\"outside\"}},\"scene\":{\"xaxis\":{\"backgroundcolor\":\"rgb(237,237,237)\",\"gridcolor\":\"white\",\"gridwidth\":2,\"linecolor\":\"white\",\"showbackground\":true,\"showgrid\":true,\"tickcolor\":\"rgb(51,51,51)\",\"ticks\":\"outside\",\"zerolinecolor\":\"white\"},\"yaxis\":{\"backgroundcolor\":\"rgb(237,237,237)\",\"gridcolor\":\"white\",\"gridwidth\":2,\"linecolor\":\"white\",\"showbackground\":true,\"showgrid\":true,\"tickcolor\":\"rgb(51,51,51)\",\"ticks\":\"outside\",\"zerolinecolor\":\"white\"},\"zaxis\":{\"backgroundcolor\":\"rgb(237,237,237)\",\"gridcolor\":\"white\",\"gridwidth\":2,\"linecolor\":\"white\",\"showbackground\":true,\"showgrid\":true,\"tickcolor\":\"rgb(51,51,51)\",\"ticks\":\"outside\",\"zerolinecolor\":\"white\"}},\"shapedefaults\":{\"fillcolor\":\"black\",\"line\":{\"width\":0},\"opacity\":0.3},\"ternary\":{\"aaxis\":{\"gridcolor\":\"white\",\"linecolor\":\"white\",\"showgrid\":true,\"tickcolor\":\"rgb(51,51,51)\",\"ticks\":\"outside\"},\"baxis\":{\"gridcolor\":\"white\",\"linecolor\":\"white\",\"showgrid\":true,\"tickcolor\":\"rgb(51,51,51)\",\"ticks\":\"outside\"},\"bgcolor\":\"rgb(237,237,237)\",\"caxis\":{\"gridcolor\":\"white\",\"linecolor\":\"white\",\"showgrid\":true,\"tickcolor\":\"rgb(51,51,51)\",\"ticks\":\"outside\"}},\"xaxis\":{\"automargin\":true,\"gridcolor\":\"white\",\"linecolor\":\"white\",\"showgrid\":true,\"tickcolor\":\"rgb(51,51,51)\",\"ticks\":\"outside\",\"title\":{\"standoff\":15},\"zerolinecolor\":\"white\"},\"yaxis\":{\"automargin\":true,\"gridcolor\":\"white\",\"linecolor\":\"white\",\"showgrid\":true,\"tickcolor\":\"rgb(51,51,51)\",\"ticks\":\"outside\",\"title\":{\"standoff\":15},\"zerolinecolor\":\"white\"}}},\"title\":{\"text\":\"Time Series | x\"},\"xaxis\":{\"title\":{\"text\":\"Time\"}},\"yaxis\":{\"title\":{\"text\":\"Values\"}}},                        {\"responsive\": true}                    ).then(function(){\n",
              "                            \n",
              "var gd = document.getElementById('525859de-f4ae-41ae-959b-2585759ec2c1');\n",
              "var x = new MutationObserver(function (mutations, observer) {{\n",
              "        var display = window.getComputedStyle(gd).display;\n",
              "        if (!display || display === 'none') {{\n",
              "            console.log([gd, 'removed!']);\n",
              "            Plotly.purge(gd);\n",
              "            observer.disconnect();\n",
              "        }}\n",
              "}});\n",
              "\n",
              "// Listen for the removal of the full notebook cells\n",
              "var notebookContainer = gd.closest('#notebook-container');\n",
              "if (notebookContainer) {{\n",
              "    x.observe(notebookContainer, {childList: true});\n",
              "}}\n",
              "\n",
              "// Listen for the clearing of the current output cell\n",
              "var outputEl = gd.closest('.output');\n",
              "if (outputEl) {{\n",
              "    x.observe(outputEl, {childList: true});\n",
              "}}\n",
              "\n",
              "                        })                };                            </script>        </div>\n",
              "</body>\n",
              "</html>"
            ]
          },
          "metadata": {}
        }
      ]
    },
    {
      "cell_type": "code",
      "metadata": {
        "colab": {
          "base_uri": "https://localhost:8080/",
          "height": 1000
        },
        "id": "AyFD4VcLBnm9",
        "outputId": "3d77e6c3-9127-48ff-edb1-502d47aaee56"
      },
      "source": [
        "exp.plot_model(plot=\"acf\")\n",
        "exp.plot_model(plot=\"pacf\")"
      ],
      "execution_count": 6,
      "outputs": [
        {
          "output_type": "display_data",
          "data": {
            "text/html": [
              "<html>\n",
              "<head><meta charset=\"utf-8\" /></head>\n",
              "<body>\n",
              "    <div>            <script src=\"https://cdnjs.cloudflare.com/ajax/libs/mathjax/2.7.5/MathJax.js?config=TeX-AMS-MML_SVG\"></script><script type=\"text/javascript\">if (window.MathJax) {MathJax.Hub.Config({SVG: {font: \"STIX-Web\"}});}</script>                <script type=\"text/javascript\">window.PlotlyConfig = {MathJaxConfig: 'local'};</script>\n",
              "        <script src=\"https://cdn.plot.ly/plotly-2.4.2.min.js\"></script>                <div id=\"93b853f7-3d42-415d-b793-fad8b783e422\" class=\"plotly-graph-div\" style=\"height:525px; width:100%;\"></div>            <script type=\"text/javascript\">                                    window.PLOTLYENV=window.PLOTLYENV || {};                                    if (document.getElementById(\"93b853f7-3d42-415d-b793-fad8b783e422\")) {                    Plotly.newPlot(                        \"93b853f7-3d42-415d-b793-fad8b783e422\",                        [{\"marker\":{\"color\":\"#1f77b4\",\"size\":10},\"mode\":\"markers\",\"name\":\"ACF\",\"showlegend\":false,\"type\":\"scatter\",\"x\":[0,1,2,3,4,5,6,7,8,9,10,11,12,13,14,15,16,17,18,19,20,21,22,23,24,25,26,27,28,29,30,31,32,33,34,35,36,37,38,39,40],\"y\":[1.0,-0.05628270935347099,-0.0060027379006488205,0.007437715886878771,0.01024979283295341,0.04466256407463339,-0.05467123124190985,-0.0026797822246868255,-0.08640510061434512,0.10840483284491924,-0.047818171268789886,-0.03536029117589795,-0.040924392441450935,0.018497849460273583,0.10413755507035537,0.05880331866480451,0.10129134427200256,-0.02994668557216727,-0.048554976614039964,0.004161339438088093,-0.0013059103479027515,-0.09414732140256957,-0.08834863066131218,-0.031320854925952046,-0.012004602319246131,0.06505255573961233,-0.06741660093807626,-0.04555787860924247,-0.01948375102574125,0.046386869137690724,-0.001828340809920181,0.0009257050159589381,-0.0010659214581280694,0.025000831714665085,-0.1096549219800864,0.021115739724390802,-0.06686745054797637,-0.032950393268748476,-0.028750876575911244,-0.024091131689575024,0.06838648105636082]},{\"line\":{\"color\":\"#3f3f3f\"},\"mode\":\"lines\",\"name\":\"Lag1\",\"showlegend\":false,\"type\":\"scatter\",\"x\":[0,0],\"y\":[0,1.0]},{\"line\":{\"color\":\"#3f3f3f\"},\"mode\":\"lines\",\"name\":\"Lag2\",\"showlegend\":false,\"type\":\"scatter\",\"x\":[1,1],\"y\":[0,-0.05628270935347099]},{\"line\":{\"color\":\"#3f3f3f\"},\"mode\":\"lines\",\"name\":\"Lag3\",\"showlegend\":false,\"type\":\"scatter\",\"x\":[2,2],\"y\":[0,-0.0060027379006488205]},{\"line\":{\"color\":\"#3f3f3f\"},\"mode\":\"lines\",\"name\":\"Lag4\",\"showlegend\":false,\"type\":\"scatter\",\"x\":[3,3],\"y\":[0,0.007437715886878771]},{\"line\":{\"color\":\"#3f3f3f\"},\"mode\":\"lines\",\"name\":\"Lag5\",\"showlegend\":false,\"type\":\"scatter\",\"x\":[4,4],\"y\":[0,0.01024979283295341]},{\"line\":{\"color\":\"#3f3f3f\"},\"mode\":\"lines\",\"name\":\"Lag6\",\"showlegend\":false,\"type\":\"scatter\",\"x\":[5,5],\"y\":[0,0.04466256407463339]},{\"line\":{\"color\":\"#3f3f3f\"},\"mode\":\"lines\",\"name\":\"Lag7\",\"showlegend\":false,\"type\":\"scatter\",\"x\":[6,6],\"y\":[0,-0.05467123124190985]},{\"line\":{\"color\":\"#3f3f3f\"},\"mode\":\"lines\",\"name\":\"Lag8\",\"showlegend\":false,\"type\":\"scatter\",\"x\":[7,7],\"y\":[0,-0.0026797822246868255]},{\"line\":{\"color\":\"#3f3f3f\"},\"mode\":\"lines\",\"name\":\"Lag9\",\"showlegend\":false,\"type\":\"scatter\",\"x\":[8,8],\"y\":[0,-0.08640510061434512]},{\"line\":{\"color\":\"#3f3f3f\"},\"mode\":\"lines\",\"name\":\"Lag10\",\"showlegend\":false,\"type\":\"scatter\",\"x\":[9,9],\"y\":[0,0.10840483284491924]},{\"line\":{\"color\":\"#3f3f3f\"},\"mode\":\"lines\",\"name\":\"Lag11\",\"showlegend\":false,\"type\":\"scatter\",\"x\":[10,10],\"y\":[0,-0.047818171268789886]},{\"line\":{\"color\":\"#3f3f3f\"},\"mode\":\"lines\",\"name\":\"Lag12\",\"showlegend\":false,\"type\":\"scatter\",\"x\":[11,11],\"y\":[0,-0.03536029117589795]},{\"line\":{\"color\":\"#3f3f3f\"},\"mode\":\"lines\",\"name\":\"Lag13\",\"showlegend\":false,\"type\":\"scatter\",\"x\":[12,12],\"y\":[0,-0.040924392441450935]},{\"line\":{\"color\":\"#3f3f3f\"},\"mode\":\"lines\",\"name\":\"Lag14\",\"showlegend\":false,\"type\":\"scatter\",\"x\":[13,13],\"y\":[0,0.018497849460273583]},{\"line\":{\"color\":\"#3f3f3f\"},\"mode\":\"lines\",\"name\":\"Lag15\",\"showlegend\":false,\"type\":\"scatter\",\"x\":[14,14],\"y\":[0,0.10413755507035537]},{\"line\":{\"color\":\"#3f3f3f\"},\"mode\":\"lines\",\"name\":\"Lag16\",\"showlegend\":false,\"type\":\"scatter\",\"x\":[15,15],\"y\":[0,0.05880331866480451]},{\"line\":{\"color\":\"#3f3f3f\"},\"mode\":\"lines\",\"name\":\"Lag17\",\"showlegend\":false,\"type\":\"scatter\",\"x\":[16,16],\"y\":[0,0.10129134427200256]},{\"line\":{\"color\":\"#3f3f3f\"},\"mode\":\"lines\",\"name\":\"Lag18\",\"showlegend\":false,\"type\":\"scatter\",\"x\":[17,17],\"y\":[0,-0.02994668557216727]},{\"line\":{\"color\":\"#3f3f3f\"},\"mode\":\"lines\",\"name\":\"Lag19\",\"showlegend\":false,\"type\":\"scatter\",\"x\":[18,18],\"y\":[0,-0.048554976614039964]},{\"line\":{\"color\":\"#3f3f3f\"},\"mode\":\"lines\",\"name\":\"Lag20\",\"showlegend\":false,\"type\":\"scatter\",\"x\":[19,19],\"y\":[0,0.004161339438088093]},{\"line\":{\"color\":\"#3f3f3f\"},\"mode\":\"lines\",\"name\":\"Lag21\",\"showlegend\":false,\"type\":\"scatter\",\"x\":[20,20],\"y\":[0,-0.0013059103479027515]},{\"line\":{\"color\":\"#3f3f3f\"},\"mode\":\"lines\",\"name\":\"Lag22\",\"showlegend\":false,\"type\":\"scatter\",\"x\":[21,21],\"y\":[0,-0.09414732140256957]},{\"line\":{\"color\":\"#3f3f3f\"},\"mode\":\"lines\",\"name\":\"Lag23\",\"showlegend\":false,\"type\":\"scatter\",\"x\":[22,22],\"y\":[0,-0.08834863066131218]},{\"line\":{\"color\":\"#3f3f3f\"},\"mode\":\"lines\",\"name\":\"Lag24\",\"showlegend\":false,\"type\":\"scatter\",\"x\":[23,23],\"y\":[0,-0.031320854925952046]},{\"line\":{\"color\":\"#3f3f3f\"},\"mode\":\"lines\",\"name\":\"Lag25\",\"showlegend\":false,\"type\":\"scatter\",\"x\":[24,24],\"y\":[0,-0.012004602319246131]},{\"line\":{\"color\":\"#3f3f3f\"},\"mode\":\"lines\",\"name\":\"Lag26\",\"showlegend\":false,\"type\":\"scatter\",\"x\":[25,25],\"y\":[0,0.06505255573961233]},{\"line\":{\"color\":\"#3f3f3f\"},\"mode\":\"lines\",\"name\":\"Lag27\",\"showlegend\":false,\"type\":\"scatter\",\"x\":[26,26],\"y\":[0,-0.06741660093807626]},{\"line\":{\"color\":\"#3f3f3f\"},\"mode\":\"lines\",\"name\":\"Lag28\",\"showlegend\":false,\"type\":\"scatter\",\"x\":[27,27],\"y\":[0,-0.04555787860924247]},{\"line\":{\"color\":\"#3f3f3f\"},\"mode\":\"lines\",\"name\":\"Lag29\",\"showlegend\":false,\"type\":\"scatter\",\"x\":[28,28],\"y\":[0,-0.01948375102574125]},{\"line\":{\"color\":\"#3f3f3f\"},\"mode\":\"lines\",\"name\":\"Lag30\",\"showlegend\":false,\"type\":\"scatter\",\"x\":[29,29],\"y\":[0,0.046386869137690724]},{\"line\":{\"color\":\"#3f3f3f\"},\"mode\":\"lines\",\"name\":\"Lag31\",\"showlegend\":false,\"type\":\"scatter\",\"x\":[30,30],\"y\":[0,-0.001828340809920181]},{\"line\":{\"color\":\"#3f3f3f\"},\"mode\":\"lines\",\"name\":\"Lag32\",\"showlegend\":false,\"type\":\"scatter\",\"x\":[31,31],\"y\":[0,0.0009257050159589381]},{\"line\":{\"color\":\"#3f3f3f\"},\"mode\":\"lines\",\"name\":\"Lag33\",\"showlegend\":false,\"type\":\"scatter\",\"x\":[32,32],\"y\":[0,-0.0010659214581280694]},{\"line\":{\"color\":\"#3f3f3f\"},\"mode\":\"lines\",\"name\":\"Lag34\",\"showlegend\":false,\"type\":\"scatter\",\"x\":[33,33],\"y\":[0,0.025000831714665085]},{\"line\":{\"color\":\"#3f3f3f\"},\"mode\":\"lines\",\"name\":\"Lag35\",\"showlegend\":false,\"type\":\"scatter\",\"x\":[34,34],\"y\":[0,-0.1096549219800864]},{\"line\":{\"color\":\"#3f3f3f\"},\"mode\":\"lines\",\"name\":\"Lag36\",\"showlegend\":false,\"type\":\"scatter\",\"x\":[35,35],\"y\":[0,0.021115739724390802]},{\"line\":{\"color\":\"#3f3f3f\"},\"mode\":\"lines\",\"name\":\"Lag37\",\"showlegend\":false,\"type\":\"scatter\",\"x\":[36,36],\"y\":[0,-0.06686745054797637]},{\"line\":{\"color\":\"#3f3f3f\"},\"mode\":\"lines\",\"name\":\"Lag38\",\"showlegend\":false,\"type\":\"scatter\",\"x\":[37,37],\"y\":[0,-0.032950393268748476]},{\"line\":{\"color\":\"#3f3f3f\"},\"mode\":\"lines\",\"name\":\"Lag39\",\"showlegend\":false,\"type\":\"scatter\",\"x\":[38,38],\"y\":[0,-0.028750876575911244]},{\"line\":{\"color\":\"#3f3f3f\"},\"mode\":\"lines\",\"name\":\"Lag40\",\"showlegend\":false,\"type\":\"scatter\",\"x\":[39,39],\"y\":[0,-0.024091131689575024]},{\"line\":{\"color\":\"#3f3f3f\"},\"mode\":\"lines\",\"name\":\"Lag41\",\"showlegend\":false,\"type\":\"scatter\",\"x\":[40,40],\"y\":[0,0.06838648105636082]},{\"line\":{\"color\":\"rgba(255,255,255,0)\"},\"mode\":\"lines\",\"name\":\"UC\",\"showlegend\":false,\"type\":\"scatter\",\"x\":[0,1,2,3,4,5,6,7,8,9,10,11,12,13,14,15,16,17,18,19,20,21,22,23,24,25,26,27,28,29,30,31,32,33,34,35,36,37,38,39,40],\"y\":[0.0,0.10629397111858786,0.10663015151518629,0.10663396944750939,0.10663983067965525,0.10665096094017515,0.10686207160638934,0.10717762339527663,0.10717838042095802,0.10796253738569621,0.10918543128330269,0.10942178840153968,0.10955081793832998,0.10972341132425945,0.10975863954690691,0.11086935139526388,0.1112211717056896,0.11225858959214731,0.11234881331015575,0.11258565532555115,0.11258739311492788,0.1125875642558619,0.11347357153943802,0.1142481091751068,0.11434508225420752,0.11435932088699957,0.11477665386857311,0.11522318673486956,0.11542652603698861,0.11546367843878222,0.11567404008482393,0.11567436659374672,0.11567445029369926,0.11567456126994341,0.11573559554037344,0.11690353613306544,0.1169466207459779,0.11737780136967994,0.11748226359871618,0.11756173306165628,0.11761749818889673]},{\"fill\":\"tonexty\",\"fillcolor\":\"rgba(32, 146, 230,0.3)\",\"line\":{\"color\":\"rgba(255,255,255,0)\"},\"mode\":\"lines\",\"name\":\"LC\",\"showlegend\":false,\"type\":\"scatter\",\"x\":[0,1,2,3,4,5,6,7,8,9,10,11,12,13,14,15,16,17,18,19,20,21,22,23,24,25,26,27,28,29,30,31,32,33,34,35,36,37,38,39,40],\"y\":[0.0,-0.10629397111858788,-0.10663015151518632,-0.10663396944750939,-0.10663983067965525,-0.10665096094017516,-0.10686207160638936,-0.10717762339527663,-0.10717838042095804,-0.10796253738569621,-0.10918543128330267,-0.10942178840153968,-0.10955081793832996,-0.10972341132425945,-0.1097586395469069,-0.11086935139526388,-0.11122117170568958,-0.11225858959214731,-0.11234881331015575,-0.11258565532555115,-0.11258739311492788,-0.11258756425586189,-0.11347357153943802,-0.1142481091751068,-0.1143450822542075,-0.11435932088699959,-0.11477665386857312,-0.11522318673486955,-0.1154265260369886,-0.11546367843878222,-0.11567404008482393,-0.11567436659374672,-0.11567445029369926,-0.11567456126994338,-0.11573559554037345,-0.11690353613306545,-0.1169466207459779,-0.11737780136967994,-0.11748226359871616,-0.11756173306165627,-0.11761749818889673]},{\"line\":{\"color\":\"#3f3f3f\"},\"mode\":\"lines\",\"name\":\"\",\"showlegend\":false,\"type\":\"scatter\",\"x\":[0,41],\"y\":[0,0]}],                        {\"template\":{\"data\":{\"bar\":[{\"error_x\":{\"color\":\"rgb(51,51,51)\"},\"error_y\":{\"color\":\"rgb(51,51,51)\"},\"marker\":{\"line\":{\"color\":\"rgb(237,237,237)\",\"width\":0.5},\"pattern\":{\"fillmode\":\"overlay\",\"size\":10,\"solidity\":0.2}},\"type\":\"bar\"}],\"barpolar\":[{\"marker\":{\"line\":{\"color\":\"rgb(237,237,237)\",\"width\":0.5},\"pattern\":{\"fillmode\":\"overlay\",\"size\":10,\"solidity\":0.2}},\"type\":\"barpolar\"}],\"carpet\":[{\"aaxis\":{\"endlinecolor\":\"rgb(51,51,51)\",\"gridcolor\":\"white\",\"linecolor\":\"white\",\"minorgridcolor\":\"white\",\"startlinecolor\":\"rgb(51,51,51)\"},\"baxis\":{\"endlinecolor\":\"rgb(51,51,51)\",\"gridcolor\":\"white\",\"linecolor\":\"white\",\"minorgridcolor\":\"white\",\"startlinecolor\":\"rgb(51,51,51)\"},\"type\":\"carpet\"}],\"choropleth\":[{\"colorbar\":{\"outlinewidth\":0,\"tickcolor\":\"rgb(237,237,237)\",\"ticklen\":6,\"ticks\":\"inside\"},\"type\":\"choropleth\"}],\"contour\":[{\"colorbar\":{\"outlinewidth\":0,\"tickcolor\":\"rgb(237,237,237)\",\"ticklen\":6,\"ticks\":\"inside\"},\"colorscale\":[[0,\"rgb(20,44,66)\"],[1,\"rgb(90,179,244)\"]],\"type\":\"contour\"}],\"contourcarpet\":[{\"colorbar\":{\"outlinewidth\":0,\"tickcolor\":\"rgb(237,237,237)\",\"ticklen\":6,\"ticks\":\"inside\"},\"type\":\"contourcarpet\"}],\"heatmap\":[{\"colorbar\":{\"outlinewidth\":0,\"tickcolor\":\"rgb(237,237,237)\",\"ticklen\":6,\"ticks\":\"inside\"},\"colorscale\":[[0,\"rgb(20,44,66)\"],[1,\"rgb(90,179,244)\"]],\"type\":\"heatmap\"}],\"heatmapgl\":[{\"colorbar\":{\"outlinewidth\":0,\"tickcolor\":\"rgb(237,237,237)\",\"ticklen\":6,\"ticks\":\"inside\"},\"colorscale\":[[0,\"rgb(20,44,66)\"],[1,\"rgb(90,179,244)\"]],\"type\":\"heatmapgl\"}],\"histogram\":[{\"marker\":{\"pattern\":{\"fillmode\":\"overlay\",\"size\":10,\"solidity\":0.2}},\"type\":\"histogram\"}],\"histogram2d\":[{\"colorbar\":{\"outlinewidth\":0,\"tickcolor\":\"rgb(237,237,237)\",\"ticklen\":6,\"ticks\":\"inside\"},\"colorscale\":[[0,\"rgb(20,44,66)\"],[1,\"rgb(90,179,244)\"]],\"type\":\"histogram2d\"}],\"histogram2dcontour\":[{\"colorbar\":{\"outlinewidth\":0,\"tickcolor\":\"rgb(237,237,237)\",\"ticklen\":6,\"ticks\":\"inside\"},\"colorscale\":[[0,\"rgb(20,44,66)\"],[1,\"rgb(90,179,244)\"]],\"type\":\"histogram2dcontour\"}],\"mesh3d\":[{\"colorbar\":{\"outlinewidth\":0,\"tickcolor\":\"rgb(237,237,237)\",\"ticklen\":6,\"ticks\":\"inside\"},\"type\":\"mesh3d\"}],\"parcoords\":[{\"line\":{\"colorbar\":{\"outlinewidth\":0,\"tickcolor\":\"rgb(237,237,237)\",\"ticklen\":6,\"ticks\":\"inside\"}},\"type\":\"parcoords\"}],\"pie\":[{\"automargin\":true,\"type\":\"pie\"}],\"scatter\":[{\"marker\":{\"colorbar\":{\"outlinewidth\":0,\"tickcolor\":\"rgb(237,237,237)\",\"ticklen\":6,\"ticks\":\"inside\"}},\"type\":\"scatter\"}],\"scatter3d\":[{\"line\":{\"colorbar\":{\"outlinewidth\":0,\"tickcolor\":\"rgb(237,237,237)\",\"ticklen\":6,\"ticks\":\"inside\"}},\"marker\":{\"colorbar\":{\"outlinewidth\":0,\"tickcolor\":\"rgb(237,237,237)\",\"ticklen\":6,\"ticks\":\"inside\"}},\"type\":\"scatter3d\"}],\"scattercarpet\":[{\"marker\":{\"colorbar\":{\"outlinewidth\":0,\"tickcolor\":\"rgb(237,237,237)\",\"ticklen\":6,\"ticks\":\"inside\"}},\"type\":\"scattercarpet\"}],\"scattergeo\":[{\"marker\":{\"colorbar\":{\"outlinewidth\":0,\"tickcolor\":\"rgb(237,237,237)\",\"ticklen\":6,\"ticks\":\"inside\"}},\"type\":\"scattergeo\"}],\"scattergl\":[{\"marker\":{\"colorbar\":{\"outlinewidth\":0,\"tickcolor\":\"rgb(237,237,237)\",\"ticklen\":6,\"ticks\":\"inside\"}},\"type\":\"scattergl\"}],\"scattermapbox\":[{\"marker\":{\"colorbar\":{\"outlinewidth\":0,\"tickcolor\":\"rgb(237,237,237)\",\"ticklen\":6,\"ticks\":\"inside\"}},\"type\":\"scattermapbox\"}],\"scatterpolar\":[{\"marker\":{\"colorbar\":{\"outlinewidth\":0,\"tickcolor\":\"rgb(237,237,237)\",\"ticklen\":6,\"ticks\":\"inside\"}},\"type\":\"scatterpolar\"}],\"scatterpolargl\":[{\"marker\":{\"colorbar\":{\"outlinewidth\":0,\"tickcolor\":\"rgb(237,237,237)\",\"ticklen\":6,\"ticks\":\"inside\"}},\"type\":\"scatterpolargl\"}],\"scatterternary\":[{\"marker\":{\"colorbar\":{\"outlinewidth\":0,\"tickcolor\":\"rgb(237,237,237)\",\"ticklen\":6,\"ticks\":\"inside\"}},\"type\":\"scatterternary\"}],\"surface\":[{\"colorbar\":{\"outlinewidth\":0,\"tickcolor\":\"rgb(237,237,237)\",\"ticklen\":6,\"ticks\":\"inside\"},\"colorscale\":[[0,\"rgb(20,44,66)\"],[1,\"rgb(90,179,244)\"]],\"type\":\"surface\"}],\"table\":[{\"cells\":{\"fill\":{\"color\":\"rgb(237,237,237)\"},\"line\":{\"color\":\"white\"}},\"header\":{\"fill\":{\"color\":\"rgb(217,217,217)\"},\"line\":{\"color\":\"white\"}},\"type\":\"table\"}]},\"layout\":{\"annotationdefaults\":{\"arrowhead\":0,\"arrowwidth\":1},\"autotypenumbers\":\"strict\",\"coloraxis\":{\"colorbar\":{\"outlinewidth\":0,\"tickcolor\":\"rgb(237,237,237)\",\"ticklen\":6,\"ticks\":\"inside\"}},\"colorscale\":{\"sequential\":[[0,\"rgb(20,44,66)\"],[1,\"rgb(90,179,244)\"]],\"sequentialminus\":[[0,\"rgb(20,44,66)\"],[1,\"rgb(90,179,244)\"]]},\"colorway\":[\"#F8766D\",\"#A3A500\",\"#00BF7D\",\"#00B0F6\",\"#E76BF3\"],\"font\":{\"color\":\"rgb(51,51,51)\"},\"geo\":{\"bgcolor\":\"white\",\"lakecolor\":\"white\",\"landcolor\":\"rgb(237,237,237)\",\"showlakes\":true,\"showland\":true,\"subunitcolor\":\"white\"},\"hoverlabel\":{\"align\":\"left\"},\"hovermode\":\"closest\",\"paper_bgcolor\":\"white\",\"plot_bgcolor\":\"rgb(237,237,237)\",\"polar\":{\"angularaxis\":{\"gridcolor\":\"white\",\"linecolor\":\"white\",\"showgrid\":true,\"tickcolor\":\"rgb(51,51,51)\",\"ticks\":\"outside\"},\"bgcolor\":\"rgb(237,237,237)\",\"radialaxis\":{\"gridcolor\":\"white\",\"linecolor\":\"white\",\"showgrid\":true,\"tickcolor\":\"rgb(51,51,51)\",\"ticks\":\"outside\"}},\"scene\":{\"xaxis\":{\"backgroundcolor\":\"rgb(237,237,237)\",\"gridcolor\":\"white\",\"gridwidth\":2,\"linecolor\":\"white\",\"showbackground\":true,\"showgrid\":true,\"tickcolor\":\"rgb(51,51,51)\",\"ticks\":\"outside\",\"zerolinecolor\":\"white\"},\"yaxis\":{\"backgroundcolor\":\"rgb(237,237,237)\",\"gridcolor\":\"white\",\"gridwidth\":2,\"linecolor\":\"white\",\"showbackground\":true,\"showgrid\":true,\"tickcolor\":\"rgb(51,51,51)\",\"ticks\":\"outside\",\"zerolinecolor\":\"white\"},\"zaxis\":{\"backgroundcolor\":\"rgb(237,237,237)\",\"gridcolor\":\"white\",\"gridwidth\":2,\"linecolor\":\"white\",\"showbackground\":true,\"showgrid\":true,\"tickcolor\":\"rgb(51,51,51)\",\"ticks\":\"outside\",\"zerolinecolor\":\"white\"}},\"shapedefaults\":{\"fillcolor\":\"black\",\"line\":{\"width\":0},\"opacity\":0.3},\"ternary\":{\"aaxis\":{\"gridcolor\":\"white\",\"linecolor\":\"white\",\"showgrid\":true,\"tickcolor\":\"rgb(51,51,51)\",\"ticks\":\"outside\"},\"baxis\":{\"gridcolor\":\"white\",\"linecolor\":\"white\",\"showgrid\":true,\"tickcolor\":\"rgb(51,51,51)\",\"ticks\":\"outside\"},\"bgcolor\":\"rgb(237,237,237)\",\"caxis\":{\"gridcolor\":\"white\",\"linecolor\":\"white\",\"showgrid\":true,\"tickcolor\":\"rgb(51,51,51)\",\"ticks\":\"outside\"}},\"xaxis\":{\"automargin\":true,\"gridcolor\":\"white\",\"linecolor\":\"white\",\"showgrid\":true,\"tickcolor\":\"rgb(51,51,51)\",\"ticks\":\"outside\",\"title\":{\"standoff\":15},\"zerolinecolor\":\"white\"},\"yaxis\":{\"automargin\":true,\"gridcolor\":\"white\",\"linecolor\":\"white\",\"showgrid\":true,\"tickcolor\":\"rgb(51,51,51)\",\"ticks\":\"outside\",\"title\":{\"standoff\":15},\"zerolinecolor\":\"white\"}}},\"title\":{\"text\":\"Autocorrelation (ACF) | x\"},\"xaxis\":{\"range\":[-1,42]},\"yaxis\":{\"zerolinecolor\":\"#000000\"}},                        {\"responsive\": true}                    ).then(function(){\n",
              "                            \n",
              "var gd = document.getElementById('93b853f7-3d42-415d-b793-fad8b783e422');\n",
              "var x = new MutationObserver(function (mutations, observer) {{\n",
              "        var display = window.getComputedStyle(gd).display;\n",
              "        if (!display || display === 'none') {{\n",
              "            console.log([gd, 'removed!']);\n",
              "            Plotly.purge(gd);\n",
              "            observer.disconnect();\n",
              "        }}\n",
              "}});\n",
              "\n",
              "// Listen for the removal of the full notebook cells\n",
              "var notebookContainer = gd.closest('#notebook-container');\n",
              "if (notebookContainer) {{\n",
              "    x.observe(notebookContainer, {childList: true});\n",
              "}}\n",
              "\n",
              "// Listen for the clearing of the current output cell\n",
              "var outputEl = gd.closest('.output');\n",
              "if (outputEl) {{\n",
              "    x.observe(outputEl, {childList: true});\n",
              "}}\n",
              "\n",
              "                        })                };                            </script>        </div>\n",
              "</body>\n",
              "</html>"
            ]
          },
          "metadata": {}
        },
        {
          "output_type": "display_data",
          "data": {
            "text/html": [
              "<html>\n",
              "<head><meta charset=\"utf-8\" /></head>\n",
              "<body>\n",
              "    <div>            <script src=\"https://cdnjs.cloudflare.com/ajax/libs/mathjax/2.7.5/MathJax.js?config=TeX-AMS-MML_SVG\"></script><script type=\"text/javascript\">if (window.MathJax) {MathJax.Hub.Config({SVG: {font: \"STIX-Web\"}});}</script>                <script type=\"text/javascript\">window.PlotlyConfig = {MathJaxConfig: 'local'};</script>\n",
              "        <script src=\"https://cdn.plot.ly/plotly-2.4.2.min.js\"></script>                <div id=\"2bec306c-a261-457d-934e-e714017dedf2\" class=\"plotly-graph-div\" style=\"height:525px; width:100%;\"></div>            <script type=\"text/javascript\">                                    window.PLOTLYENV=window.PLOTLYENV || {};                                    if (document.getElementById(\"2bec306c-a261-457d-934e-e714017dedf2\")) {                    Plotly.newPlot(                        \"2bec306c-a261-457d-934e-e714017dedf2\",                        [{\"marker\":{\"color\":\"#1f77b4\",\"size\":10},\"mode\":\"markers\",\"name\":\"PACF\",\"showlegend\":false,\"type\":\"scatter\",\"x\":[0,1,2,3,4,5,6,7,8,9,10,11,12,13,14,15,16,17,18,19,20,21,22,23,24,25,26,27,28,29,30,31,32,33,34,35,36,37,38,39,40],\"y\":[1.0,-0.05644873504477918,-0.009254204898835997,0.006659320706250702,0.011158181542857687,0.046821028043841875,-0.05056785472244768,-0.008264254985289826,-0.09145547364455439,0.10273087857716559,-0.0415887002419371,-0.03247636995227528,-0.051225174146786026,0.021251638128871802,0.09534405933600051,0.09129524364759005,0.11325893745967416,-0.00415666484066778,-0.08651464753468008,-0.015821489621883143,-0.003047941035285215,-0.09200203258986696,-0.09083392280978285,-0.05842585557928622,-0.015264290613223631,0.07214848226409656,-0.031038769475214677,-0.03214582258121048,-0.05314487992047461,-0.00028063706699726676,-0.03168751701503312,0.007205694764487686,-0.009348408767218652,0.03448439337688197,-0.15247540295880038,0.04711723878720242,-0.04565798844447127,0.02005369750870798,-0.04478153443360985,-0.03575998133802812,0.04968181416146913]},{\"line\":{\"color\":\"#3f3f3f\"},\"mode\":\"lines\",\"name\":\"Lag1\",\"showlegend\":false,\"type\":\"scatter\",\"x\":[0,0],\"y\":[0,1.0]},{\"line\":{\"color\":\"#3f3f3f\"},\"mode\":\"lines\",\"name\":\"Lag2\",\"showlegend\":false,\"type\":\"scatter\",\"x\":[1,1],\"y\":[0,-0.05644873504477918]},{\"line\":{\"color\":\"#3f3f3f\"},\"mode\":\"lines\",\"name\":\"Lag3\",\"showlegend\":false,\"type\":\"scatter\",\"x\":[2,2],\"y\":[0,-0.009254204898835997]},{\"line\":{\"color\":\"#3f3f3f\"},\"mode\":\"lines\",\"name\":\"Lag4\",\"showlegend\":false,\"type\":\"scatter\",\"x\":[3,3],\"y\":[0,0.006659320706250702]},{\"line\":{\"color\":\"#3f3f3f\"},\"mode\":\"lines\",\"name\":\"Lag5\",\"showlegend\":false,\"type\":\"scatter\",\"x\":[4,4],\"y\":[0,0.011158181542857687]},{\"line\":{\"color\":\"#3f3f3f\"},\"mode\":\"lines\",\"name\":\"Lag6\",\"showlegend\":false,\"type\":\"scatter\",\"x\":[5,5],\"y\":[0,0.046821028043841875]},{\"line\":{\"color\":\"#3f3f3f\"},\"mode\":\"lines\",\"name\":\"Lag7\",\"showlegend\":false,\"type\":\"scatter\",\"x\":[6,6],\"y\":[0,-0.05056785472244768]},{\"line\":{\"color\":\"#3f3f3f\"},\"mode\":\"lines\",\"name\":\"Lag8\",\"showlegend\":false,\"type\":\"scatter\",\"x\":[7,7],\"y\":[0,-0.008264254985289826]},{\"line\":{\"color\":\"#3f3f3f\"},\"mode\":\"lines\",\"name\":\"Lag9\",\"showlegend\":false,\"type\":\"scatter\",\"x\":[8,8],\"y\":[0,-0.09145547364455439]},{\"line\":{\"color\":\"#3f3f3f\"},\"mode\":\"lines\",\"name\":\"Lag10\",\"showlegend\":false,\"type\":\"scatter\",\"x\":[9,9],\"y\":[0,0.10273087857716559]},{\"line\":{\"color\":\"#3f3f3f\"},\"mode\":\"lines\",\"name\":\"Lag11\",\"showlegend\":false,\"type\":\"scatter\",\"x\":[10,10],\"y\":[0,-0.0415887002419371]},{\"line\":{\"color\":\"#3f3f3f\"},\"mode\":\"lines\",\"name\":\"Lag12\",\"showlegend\":false,\"type\":\"scatter\",\"x\":[11,11],\"y\":[0,-0.03247636995227528]},{\"line\":{\"color\":\"#3f3f3f\"},\"mode\":\"lines\",\"name\":\"Lag13\",\"showlegend\":false,\"type\":\"scatter\",\"x\":[12,12],\"y\":[0,-0.051225174146786026]},{\"line\":{\"color\":\"#3f3f3f\"},\"mode\":\"lines\",\"name\":\"Lag14\",\"showlegend\":false,\"type\":\"scatter\",\"x\":[13,13],\"y\":[0,0.021251638128871802]},{\"line\":{\"color\":\"#3f3f3f\"},\"mode\":\"lines\",\"name\":\"Lag15\",\"showlegend\":false,\"type\":\"scatter\",\"x\":[14,14],\"y\":[0,0.09534405933600051]},{\"line\":{\"color\":\"#3f3f3f\"},\"mode\":\"lines\",\"name\":\"Lag16\",\"showlegend\":false,\"type\":\"scatter\",\"x\":[15,15],\"y\":[0,0.09129524364759005]},{\"line\":{\"color\":\"#3f3f3f\"},\"mode\":\"lines\",\"name\":\"Lag17\",\"showlegend\":false,\"type\":\"scatter\",\"x\":[16,16],\"y\":[0,0.11325893745967416]},{\"line\":{\"color\":\"#3f3f3f\"},\"mode\":\"lines\",\"name\":\"Lag18\",\"showlegend\":false,\"type\":\"scatter\",\"x\":[17,17],\"y\":[0,-0.00415666484066778]},{\"line\":{\"color\":\"#3f3f3f\"},\"mode\":\"lines\",\"name\":\"Lag19\",\"showlegend\":false,\"type\":\"scatter\",\"x\":[18,18],\"y\":[0,-0.08651464753468008]},{\"line\":{\"color\":\"#3f3f3f\"},\"mode\":\"lines\",\"name\":\"Lag20\",\"showlegend\":false,\"type\":\"scatter\",\"x\":[19,19],\"y\":[0,-0.015821489621883143]},{\"line\":{\"color\":\"#3f3f3f\"},\"mode\":\"lines\",\"name\":\"Lag21\",\"showlegend\":false,\"type\":\"scatter\",\"x\":[20,20],\"y\":[0,-0.003047941035285215]},{\"line\":{\"color\":\"#3f3f3f\"},\"mode\":\"lines\",\"name\":\"Lag22\",\"showlegend\":false,\"type\":\"scatter\",\"x\":[21,21],\"y\":[0,-0.09200203258986696]},{\"line\":{\"color\":\"#3f3f3f\"},\"mode\":\"lines\",\"name\":\"Lag23\",\"showlegend\":false,\"type\":\"scatter\",\"x\":[22,22],\"y\":[0,-0.09083392280978285]},{\"line\":{\"color\":\"#3f3f3f\"},\"mode\":\"lines\",\"name\":\"Lag24\",\"showlegend\":false,\"type\":\"scatter\",\"x\":[23,23],\"y\":[0,-0.05842585557928622]},{\"line\":{\"color\":\"#3f3f3f\"},\"mode\":\"lines\",\"name\":\"Lag25\",\"showlegend\":false,\"type\":\"scatter\",\"x\":[24,24],\"y\":[0,-0.015264290613223631]},{\"line\":{\"color\":\"#3f3f3f\"},\"mode\":\"lines\",\"name\":\"Lag26\",\"showlegend\":false,\"type\":\"scatter\",\"x\":[25,25],\"y\":[0,0.07214848226409656]},{\"line\":{\"color\":\"#3f3f3f\"},\"mode\":\"lines\",\"name\":\"Lag27\",\"showlegend\":false,\"type\":\"scatter\",\"x\":[26,26],\"y\":[0,-0.031038769475214677]},{\"line\":{\"color\":\"#3f3f3f\"},\"mode\":\"lines\",\"name\":\"Lag28\",\"showlegend\":false,\"type\":\"scatter\",\"x\":[27,27],\"y\":[0,-0.03214582258121048]},{\"line\":{\"color\":\"#3f3f3f\"},\"mode\":\"lines\",\"name\":\"Lag29\",\"showlegend\":false,\"type\":\"scatter\",\"x\":[28,28],\"y\":[0,-0.05314487992047461]},{\"line\":{\"color\":\"#3f3f3f\"},\"mode\":\"lines\",\"name\":\"Lag30\",\"showlegend\":false,\"type\":\"scatter\",\"x\":[29,29],\"y\":[0,-0.00028063706699726676]},{\"line\":{\"color\":\"#3f3f3f\"},\"mode\":\"lines\",\"name\":\"Lag31\",\"showlegend\":false,\"type\":\"scatter\",\"x\":[30,30],\"y\":[0,-0.03168751701503312]},{\"line\":{\"color\":\"#3f3f3f\"},\"mode\":\"lines\",\"name\":\"Lag32\",\"showlegend\":false,\"type\":\"scatter\",\"x\":[31,31],\"y\":[0,0.007205694764487686]},{\"line\":{\"color\":\"#3f3f3f\"},\"mode\":\"lines\",\"name\":\"Lag33\",\"showlegend\":false,\"type\":\"scatter\",\"x\":[32,32],\"y\":[0,-0.009348408767218652]},{\"line\":{\"color\":\"#3f3f3f\"},\"mode\":\"lines\",\"name\":\"Lag34\",\"showlegend\":false,\"type\":\"scatter\",\"x\":[33,33],\"y\":[0,0.03448439337688197]},{\"line\":{\"color\":\"#3f3f3f\"},\"mode\":\"lines\",\"name\":\"Lag35\",\"showlegend\":false,\"type\":\"scatter\",\"x\":[34,34],\"y\":[0,-0.15247540295880038]},{\"line\":{\"color\":\"#3f3f3f\"},\"mode\":\"lines\",\"name\":\"Lag36\",\"showlegend\":false,\"type\":\"scatter\",\"x\":[35,35],\"y\":[0,0.04711723878720242]},{\"line\":{\"color\":\"#3f3f3f\"},\"mode\":\"lines\",\"name\":\"Lag37\",\"showlegend\":false,\"type\":\"scatter\",\"x\":[36,36],\"y\":[0,-0.04565798844447127]},{\"line\":{\"color\":\"#3f3f3f\"},\"mode\":\"lines\",\"name\":\"Lag38\",\"showlegend\":false,\"type\":\"scatter\",\"x\":[37,37],\"y\":[0,0.02005369750870798]},{\"line\":{\"color\":\"#3f3f3f\"},\"mode\":\"lines\",\"name\":\"Lag39\",\"showlegend\":false,\"type\":\"scatter\",\"x\":[38,38],\"y\":[0,-0.04478153443360985]},{\"line\":{\"color\":\"#3f3f3f\"},\"mode\":\"lines\",\"name\":\"Lag40\",\"showlegend\":false,\"type\":\"scatter\",\"x\":[39,39],\"y\":[0,-0.03575998133802812]},{\"line\":{\"color\":\"#3f3f3f\"},\"mode\":\"lines\",\"name\":\"Lag41\",\"showlegend\":false,\"type\":\"scatter\",\"x\":[40,40],\"y\":[0,0.04968181416146913]},{\"line\":{\"color\":\"rgba(255,255,255,0)\"},\"mode\":\"lines\",\"name\":\"UC\",\"showlegend\":false,\"type\":\"scatter\",\"x\":[0,1,2,3,4,5,6,7,8,9,10,11,12,13,14,15,16,17,18,19,20,21,22,23,24,25,26,27,28,29,30,31,32,33,34,35,36,37,38,39,40],\"y\":[0.0,0.10629397111858786,0.10629397111858786,0.10629397111858786,0.10629397111858786,0.10629397111858786,0.10629397111858786,0.10629397111858786,0.10629397111858786,0.10629397111858788,0.10629397111858786,0.10629397111858786,0.10629397111858786,0.10629397111858786,0.10629397111858788,0.10629397111858786,0.10629397111858788,0.10629397111858786,0.10629397111858786,0.10629397111858788,0.10629397111858786,0.10629397111858786,0.10629397111858786,0.10629397111858786,0.10629397111858785,0.10629397111858788,0.10629397111858786,0.10629397111858788,0.10629397111858786,0.10629397111858786,0.10629397111858785,0.10629397111858786,0.10629397111858786,0.10629397111858785,0.10629397111858786,0.10629397111858785,0.10629397111858786,0.10629397111858788,0.10629397111858786,0.10629397111858788,0.10629397111858785]},{\"fill\":\"tonexty\",\"fillcolor\":\"rgba(32, 146, 230,0.3)\",\"line\":{\"color\":\"rgba(255,255,255,0)\"},\"mode\":\"lines\",\"name\":\"LC\",\"showlegend\":false,\"type\":\"scatter\",\"x\":[0,1,2,3,4,5,6,7,8,9,10,11,12,13,14,15,16,17,18,19,20,21,22,23,24,25,26,27,28,29,30,31,32,33,34,35,36,37,38,39,40],\"y\":[0.0,-0.10629397111858788,-0.10629397111858786,-0.10629397111858786,-0.10629397111858786,-0.10629397111858786,-0.10629397111858785,-0.10629397111858786,-0.10629397111858788,-0.10629397111858786,-0.10629397111858786,-0.10629397111858786,-0.10629397111858786,-0.10629397111858786,-0.10629397111858786,-0.10629397111858786,-0.10629397111858786,-0.10629397111858786,-0.10629397111858785,-0.10629397111858785,-0.10629397111858786,-0.10629397111858786,-0.10629397111858786,-0.10629397111858785,-0.10629397111858788,-0.10629397111858786,-0.10629397111858786,-0.10629397111858785,-0.10629397111858785,-0.10629397111858786,-0.10629397111858788,-0.10629397111858786,-0.10629397111858786,-0.10629397111858786,-0.10629397111858788,-0.10629397111858786,-0.10629397111858785,-0.10629397111858785,-0.10629397111858785,-0.10629397111858785,-0.10629397111858786]},{\"line\":{\"color\":\"#3f3f3f\"},\"mode\":\"lines\",\"name\":\"\",\"showlegend\":false,\"type\":\"scatter\",\"x\":[0,41],\"y\":[0,0]}],                        {\"template\":{\"data\":{\"bar\":[{\"error_x\":{\"color\":\"rgb(51,51,51)\"},\"error_y\":{\"color\":\"rgb(51,51,51)\"},\"marker\":{\"line\":{\"color\":\"rgb(237,237,237)\",\"width\":0.5},\"pattern\":{\"fillmode\":\"overlay\",\"size\":10,\"solidity\":0.2}},\"type\":\"bar\"}],\"barpolar\":[{\"marker\":{\"line\":{\"color\":\"rgb(237,237,237)\",\"width\":0.5},\"pattern\":{\"fillmode\":\"overlay\",\"size\":10,\"solidity\":0.2}},\"type\":\"barpolar\"}],\"carpet\":[{\"aaxis\":{\"endlinecolor\":\"rgb(51,51,51)\",\"gridcolor\":\"white\",\"linecolor\":\"white\",\"minorgridcolor\":\"white\",\"startlinecolor\":\"rgb(51,51,51)\"},\"baxis\":{\"endlinecolor\":\"rgb(51,51,51)\",\"gridcolor\":\"white\",\"linecolor\":\"white\",\"minorgridcolor\":\"white\",\"startlinecolor\":\"rgb(51,51,51)\"},\"type\":\"carpet\"}],\"choropleth\":[{\"colorbar\":{\"outlinewidth\":0,\"tickcolor\":\"rgb(237,237,237)\",\"ticklen\":6,\"ticks\":\"inside\"},\"type\":\"choropleth\"}],\"contour\":[{\"colorbar\":{\"outlinewidth\":0,\"tickcolor\":\"rgb(237,237,237)\",\"ticklen\":6,\"ticks\":\"inside\"},\"colorscale\":[[0,\"rgb(20,44,66)\"],[1,\"rgb(90,179,244)\"]],\"type\":\"contour\"}],\"contourcarpet\":[{\"colorbar\":{\"outlinewidth\":0,\"tickcolor\":\"rgb(237,237,237)\",\"ticklen\":6,\"ticks\":\"inside\"},\"type\":\"contourcarpet\"}],\"heatmap\":[{\"colorbar\":{\"outlinewidth\":0,\"tickcolor\":\"rgb(237,237,237)\",\"ticklen\":6,\"ticks\":\"inside\"},\"colorscale\":[[0,\"rgb(20,44,66)\"],[1,\"rgb(90,179,244)\"]],\"type\":\"heatmap\"}],\"heatmapgl\":[{\"colorbar\":{\"outlinewidth\":0,\"tickcolor\":\"rgb(237,237,237)\",\"ticklen\":6,\"ticks\":\"inside\"},\"colorscale\":[[0,\"rgb(20,44,66)\"],[1,\"rgb(90,179,244)\"]],\"type\":\"heatmapgl\"}],\"histogram\":[{\"marker\":{\"pattern\":{\"fillmode\":\"overlay\",\"size\":10,\"solidity\":0.2}},\"type\":\"histogram\"}],\"histogram2d\":[{\"colorbar\":{\"outlinewidth\":0,\"tickcolor\":\"rgb(237,237,237)\",\"ticklen\":6,\"ticks\":\"inside\"},\"colorscale\":[[0,\"rgb(20,44,66)\"],[1,\"rgb(90,179,244)\"]],\"type\":\"histogram2d\"}],\"histogram2dcontour\":[{\"colorbar\":{\"outlinewidth\":0,\"tickcolor\":\"rgb(237,237,237)\",\"ticklen\":6,\"ticks\":\"inside\"},\"colorscale\":[[0,\"rgb(20,44,66)\"],[1,\"rgb(90,179,244)\"]],\"type\":\"histogram2dcontour\"}],\"mesh3d\":[{\"colorbar\":{\"outlinewidth\":0,\"tickcolor\":\"rgb(237,237,237)\",\"ticklen\":6,\"ticks\":\"inside\"},\"type\":\"mesh3d\"}],\"parcoords\":[{\"line\":{\"colorbar\":{\"outlinewidth\":0,\"tickcolor\":\"rgb(237,237,237)\",\"ticklen\":6,\"ticks\":\"inside\"}},\"type\":\"parcoords\"}],\"pie\":[{\"automargin\":true,\"type\":\"pie\"}],\"scatter\":[{\"marker\":{\"colorbar\":{\"outlinewidth\":0,\"tickcolor\":\"rgb(237,237,237)\",\"ticklen\":6,\"ticks\":\"inside\"}},\"type\":\"scatter\"}],\"scatter3d\":[{\"line\":{\"colorbar\":{\"outlinewidth\":0,\"tickcolor\":\"rgb(237,237,237)\",\"ticklen\":6,\"ticks\":\"inside\"}},\"marker\":{\"colorbar\":{\"outlinewidth\":0,\"tickcolor\":\"rgb(237,237,237)\",\"ticklen\":6,\"ticks\":\"inside\"}},\"type\":\"scatter3d\"}],\"scattercarpet\":[{\"marker\":{\"colorbar\":{\"outlinewidth\":0,\"tickcolor\":\"rgb(237,237,237)\",\"ticklen\":6,\"ticks\":\"inside\"}},\"type\":\"scattercarpet\"}],\"scattergeo\":[{\"marker\":{\"colorbar\":{\"outlinewidth\":0,\"tickcolor\":\"rgb(237,237,237)\",\"ticklen\":6,\"ticks\":\"inside\"}},\"type\":\"scattergeo\"}],\"scattergl\":[{\"marker\":{\"colorbar\":{\"outlinewidth\":0,\"tickcolor\":\"rgb(237,237,237)\",\"ticklen\":6,\"ticks\":\"inside\"}},\"type\":\"scattergl\"}],\"scattermapbox\":[{\"marker\":{\"colorbar\":{\"outlinewidth\":0,\"tickcolor\":\"rgb(237,237,237)\",\"ticklen\":6,\"ticks\":\"inside\"}},\"type\":\"scattermapbox\"}],\"scatterpolar\":[{\"marker\":{\"colorbar\":{\"outlinewidth\":0,\"tickcolor\":\"rgb(237,237,237)\",\"ticklen\":6,\"ticks\":\"inside\"}},\"type\":\"scatterpolar\"}],\"scatterpolargl\":[{\"marker\":{\"colorbar\":{\"outlinewidth\":0,\"tickcolor\":\"rgb(237,237,237)\",\"ticklen\":6,\"ticks\":\"inside\"}},\"type\":\"scatterpolargl\"}],\"scatterternary\":[{\"marker\":{\"colorbar\":{\"outlinewidth\":0,\"tickcolor\":\"rgb(237,237,237)\",\"ticklen\":6,\"ticks\":\"inside\"}},\"type\":\"scatterternary\"}],\"surface\":[{\"colorbar\":{\"outlinewidth\":0,\"tickcolor\":\"rgb(237,237,237)\",\"ticklen\":6,\"ticks\":\"inside\"},\"colorscale\":[[0,\"rgb(20,44,66)\"],[1,\"rgb(90,179,244)\"]],\"type\":\"surface\"}],\"table\":[{\"cells\":{\"fill\":{\"color\":\"rgb(237,237,237)\"},\"line\":{\"color\":\"white\"}},\"header\":{\"fill\":{\"color\":\"rgb(217,217,217)\"},\"line\":{\"color\":\"white\"}},\"type\":\"table\"}]},\"layout\":{\"annotationdefaults\":{\"arrowhead\":0,\"arrowwidth\":1},\"autotypenumbers\":\"strict\",\"coloraxis\":{\"colorbar\":{\"outlinewidth\":0,\"tickcolor\":\"rgb(237,237,237)\",\"ticklen\":6,\"ticks\":\"inside\"}},\"colorscale\":{\"sequential\":[[0,\"rgb(20,44,66)\"],[1,\"rgb(90,179,244)\"]],\"sequentialminus\":[[0,\"rgb(20,44,66)\"],[1,\"rgb(90,179,244)\"]]},\"colorway\":[\"#F8766D\",\"#A3A500\",\"#00BF7D\",\"#00B0F6\",\"#E76BF3\"],\"font\":{\"color\":\"rgb(51,51,51)\"},\"geo\":{\"bgcolor\":\"white\",\"lakecolor\":\"white\",\"landcolor\":\"rgb(237,237,237)\",\"showlakes\":true,\"showland\":true,\"subunitcolor\":\"white\"},\"hoverlabel\":{\"align\":\"left\"},\"hovermode\":\"closest\",\"paper_bgcolor\":\"white\",\"plot_bgcolor\":\"rgb(237,237,237)\",\"polar\":{\"angularaxis\":{\"gridcolor\":\"white\",\"linecolor\":\"white\",\"showgrid\":true,\"tickcolor\":\"rgb(51,51,51)\",\"ticks\":\"outside\"},\"bgcolor\":\"rgb(237,237,237)\",\"radialaxis\":{\"gridcolor\":\"white\",\"linecolor\":\"white\",\"showgrid\":true,\"tickcolor\":\"rgb(51,51,51)\",\"ticks\":\"outside\"}},\"scene\":{\"xaxis\":{\"backgroundcolor\":\"rgb(237,237,237)\",\"gridcolor\":\"white\",\"gridwidth\":2,\"linecolor\":\"white\",\"showbackground\":true,\"showgrid\":true,\"tickcolor\":\"rgb(51,51,51)\",\"ticks\":\"outside\",\"zerolinecolor\":\"white\"},\"yaxis\":{\"backgroundcolor\":\"rgb(237,237,237)\",\"gridcolor\":\"white\",\"gridwidth\":2,\"linecolor\":\"white\",\"showbackground\":true,\"showgrid\":true,\"tickcolor\":\"rgb(51,51,51)\",\"ticks\":\"outside\",\"zerolinecolor\":\"white\"},\"zaxis\":{\"backgroundcolor\":\"rgb(237,237,237)\",\"gridcolor\":\"white\",\"gridwidth\":2,\"linecolor\":\"white\",\"showbackground\":true,\"showgrid\":true,\"tickcolor\":\"rgb(51,51,51)\",\"ticks\":\"outside\",\"zerolinecolor\":\"white\"}},\"shapedefaults\":{\"fillcolor\":\"black\",\"line\":{\"width\":0},\"opacity\":0.3},\"ternary\":{\"aaxis\":{\"gridcolor\":\"white\",\"linecolor\":\"white\",\"showgrid\":true,\"tickcolor\":\"rgb(51,51,51)\",\"ticks\":\"outside\"},\"baxis\":{\"gridcolor\":\"white\",\"linecolor\":\"white\",\"showgrid\":true,\"tickcolor\":\"rgb(51,51,51)\",\"ticks\":\"outside\"},\"bgcolor\":\"rgb(237,237,237)\",\"caxis\":{\"gridcolor\":\"white\",\"linecolor\":\"white\",\"showgrid\":true,\"tickcolor\":\"rgb(51,51,51)\",\"ticks\":\"outside\"}},\"xaxis\":{\"automargin\":true,\"gridcolor\":\"white\",\"linecolor\":\"white\",\"showgrid\":true,\"tickcolor\":\"rgb(51,51,51)\",\"ticks\":\"outside\",\"title\":{\"standoff\":15},\"zerolinecolor\":\"white\"},\"yaxis\":{\"automargin\":true,\"gridcolor\":\"white\",\"linecolor\":\"white\",\"showgrid\":true,\"tickcolor\":\"rgb(51,51,51)\",\"ticks\":\"outside\",\"title\":{\"standoff\":15},\"zerolinecolor\":\"white\"}}},\"title\":{\"text\":\"Partial Autocorrelation (PACF) | x\"},\"xaxis\":{\"range\":[-1,42]},\"yaxis\":{\"zerolinecolor\":\"#000000\"}},                        {\"responsive\": true}                    ).then(function(){\n",
              "                            \n",
              "var gd = document.getElementById('2bec306c-a261-457d-934e-e714017dedf2');\n",
              "var x = new MutationObserver(function (mutations, observer) {{\n",
              "        var display = window.getComputedStyle(gd).display;\n",
              "        if (!display || display === 'none') {{\n",
              "            console.log([gd, 'removed!']);\n",
              "            Plotly.purge(gd);\n",
              "            observer.disconnect();\n",
              "        }}\n",
              "}});\n",
              "\n",
              "// Listen for the removal of the full notebook cells\n",
              "var notebookContainer = gd.closest('#notebook-container');\n",
              "if (notebookContainer) {{\n",
              "    x.observe(notebookContainer, {childList: true});\n",
              "}}\n",
              "\n",
              "// Listen for the clearing of the current output cell\n",
              "var outputEl = gd.closest('.output');\n",
              "if (outputEl) {{\n",
              "    x.observe(outputEl, {childList: true});\n",
              "}}\n",
              "\n",
              "                        })                };                            </script>        </div>\n",
              "</body>\n",
              "</html>"
            ]
          },
          "metadata": {}
        }
      ]
    },
    {
      "cell_type": "markdown",
      "metadata": {
        "id": "-yWrHe9TZ7eu"
      },
      "source": [
        "## Helper functions using PyCaret's Time Series Module"
      ]
    },
    {
      "cell_type": "code",
      "metadata": {
        "id": "t2TsBQscQ7fx"
      },
      "source": [
        "def summarize_model(model):\n",
        "  \"\"\"\n",
        "  Provides statistical summary for some statistical models\n",
        "  \"\"\"\n",
        "  # Statistical Summary Table\n",
        "  try:\n",
        "    print(model.summary())\n",
        "  except:\n",
        "    print(\"Summary does not exist for this model.\")"
      ],
      "execution_count": 7,
      "outputs": []
    },
    {
      "cell_type": "code",
      "metadata": {
        "id": "8zRGEYiaRCde"
      },
      "source": [
        "def get_residual_properties(model):\n",
        "  \"\"\"\n",
        "  Plots and displays variance of residuals\n",
        "  \"\"\"\n",
        "  #### Residuals ----\n",
        "  try:\n",
        "    plot_data = exp.plot_model(model, plot=\"residuals\", return_data=True)\n",
        "    residuals = plot_data['data']\n",
        "    residuals_var = residuals.std(ddof=0)**2\n",
        "    print(f\"Variance of Residuals: {residuals_var}\")\n",
        "  except:\n",
        "    print(\"Residuals can not be extracted for this model.\")\n"
      ],
      "execution_count": 8,
      "outputs": []
    },
    {
      "cell_type": "code",
      "metadata": {
        "id": "33R_UJh7CWaO"
      },
      "source": [
        "def plot_predictions(model):\n",
        "  \"\"\"\n",
        "  Plots out-of-sample and in-sample predictions\n",
        "  \"\"\"\n",
        "  # Out-of-Sample Forecast\n",
        "  exp.plot_model(model)\n",
        "  \n",
        "  # In-Sample Forecast\n",
        "  exp.plot_model(model, plot=\"insample\")"
      ],
      "execution_count": 9,
      "outputs": []
    },
    {
      "cell_type": "markdown",
      "metadata": {
        "id": "Vi-_SHRUaQj-"
      },
      "source": [
        "## Train & Test Data Properties"
      ]
    },
    {
      "cell_type": "code",
      "metadata": {
        "colab": {
          "base_uri": "https://localhost:8080/"
        },
        "id": "QXpkH_LSSEUS",
        "outputId": "0651b872-f245-41e2-c55f-cbe979b8bf0e"
      },
      "source": [
        "# Get Train Data Properties\n",
        "y_train = exp.get_config(\"y_train\")\n",
        "print(f\"Train Start Index: {y_train.index.min()}\\nTrain End Index: {y_train.index.max()}\")\n",
        "\n",
        "# Get Test Data Properties\n",
        "y_test = exp.get_config(\"y_test\")\n",
        "print(f\"Test Start Index: {y_test.index.min()}\\nTest End Index: {y_test.index.max()}\")"
      ],
      "execution_count": 10,
      "outputs": [
        {
          "output_type": "stream",
          "name": "stdout",
          "text": [
            "Train Start Index: 0\n",
            "Train End Index: 309\n",
            "Test Start Index: 310\n",
            "Test End Index: 339\n"
          ]
        }
      ]
    },
    {
      "cell_type": "markdown",
      "metadata": {
        "id": "-vkKbCmgSMEh"
      },
      "source": [
        "## ARIMA Model (Overview)"
      ]
    },
    {
      "cell_type": "code",
      "metadata": {
        "id": "gLyIpp1fSN_N"
      },
      "source": [
        "# Talk about hyperparameters (p, d, q) x (P, D, Q, S)\n",
        "# Talk about include_intercept\n",
        "model_class = exp.models(internal=True).loc[\"arima\"][\"Class\"]\n",
        "\n",
        "## Get help on model parameters (important ones summarized below)\n",
        "# ?model_class"
      ],
      "execution_count": 11,
      "outputs": []
    },
    {
      "cell_type": "markdown",
      "metadata": {
        "id": "a1QkoIr0cemo"
      },
      "source": [
        "**order:** iterable or array-like, shape=(3,), optional (default=(1, 0, 0))\n",
        "    The (p,d,q) order of the model for the number of AR parameters,\n",
        "    differences, and MA parameters to use.\n",
        "\n",
        "**seasonal_order:** array-like, shape=(4,), optional (default=(0, 0, 0, 0))\n",
        "    The (P,D,Q,s) order of the seasonal component of the model for the\n",
        "    AR parameters, differences, MA parameters, and periodicity.\n",
        "\n",
        "**with_intercept:** bool, optional (default=True)\n",
        "    Whether to include an intercept term. Default is True."
      ]
    },
    {
      "cell_type": "markdown",
      "metadata": {
        "id": "huqLAy1nSIhi"
      },
      "source": [
        "## Baseline ARIMA Model"
      ]
    },
    {
      "cell_type": "markdown",
      "metadata": {
        "id": "hwD-e_MDX9Bw"
      },
      "source": [
        "### Theoretical Calculations"
      ]
    },
    {
      "cell_type": "code",
      "metadata": {
        "colab": {
          "base_uri": "https://localhost:8080/"
        },
        "id": "-VUY7nZISez4",
        "outputId": "50d3ba19-7ef4-4660-9a69-54a1468ed13d"
      },
      "source": [
        "train_data = pd.DataFrame({\"y\":y_train})\n",
        "train_data['preds'] = y_train.mean()\n",
        "train_data['split'] = \"Train\"\n",
        "\n",
        "test_data = pd.DataFrame({'y': y_test})\n",
        "test_data['preds'] = y_train.mean()\n",
        "test_data['split'] = \"Test\"\n",
        "\n",
        "data = pd.concat([train_data, test_data])\n",
        "data['residuals'] = data['y'] - data['preds']\n",
        "data.reset_index(inplace=True)\n",
        "\n",
        "data.info()"
      ],
      "execution_count": 12,
      "outputs": [
        {
          "output_type": "stream",
          "name": "stdout",
          "text": [
            "<class 'pandas.core.frame.DataFrame'>\n",
            "RangeIndex: 340 entries, 0 to 339\n",
            "Data columns (total 5 columns):\n",
            " #   Column     Non-Null Count  Dtype  \n",
            "---  ------     --------------  -----  \n",
            " 0   index      340 non-null    int64  \n",
            " 1   y          340 non-null    float64\n",
            " 2   preds      340 non-null    float64\n",
            " 3   split      340 non-null    object \n",
            " 4   residuals  340 non-null    float64\n",
            "dtypes: float64(3), int64(1), object(1)\n",
            "memory usage: 13.4+ KB\n"
          ]
        }
      ]
    },
    {
      "cell_type": "code",
      "metadata": {
        "colab": {
          "base_uri": "https://localhost:8080/"
        },
        "id": "00r5OHbj98OG",
        "outputId": "9dbacbe8-309f-4f3b-dd43-2f65af07d285"
      },
      "source": [
        "y_train_mean = data.query(\"split=='Train'\")['y'].mean()\n",
        "resid_std = data.query(\"split=='Train'\")['residuals'].std(ddof=0)\n",
        "resid_var = resid_std**2\n",
        "\n",
        "print(f\"Mean of Training Data: {y_train_mean}\")\n",
        "print(f\"Std Dev of Residuals: {resid_std}\")\n",
        "print(f\"Variance of Residuals: {resid_var}\")"
      ],
      "execution_count": 13,
      "outputs": [
        {
          "output_type": "stream",
          "name": "stdout",
          "text": [
            "Mean of Training Data: 176.01810663414085\n",
            "Std Dev of Residuals: 0.9884112461876059\n",
            "Variance of Residuals: 0.976956791590136\n"
          ]
        }
      ]
    },
    {
      "cell_type": "code",
      "metadata": {
        "colab": {
          "base_uri": "https://localhost:8080/",
          "height": 313
        },
        "id": "IqpoGXw5UJwz",
        "outputId": "b9c61c4c-cf47-41f3-bc81-2db8333ebc09"
      },
      "source": [
        "sns.lineplot(data=data, x=\"index\", y=\"preds\", hue=\"split\").set(title=\"Theoretical Predictions\")"
      ],
      "execution_count": 14,
      "outputs": [
        {
          "output_type": "execute_result",
          "data": {
            "text/plain": [
              "[Text(0.5, 1.0, 'Theoretical Predictions')]"
            ]
          },
          "metadata": {},
          "execution_count": 14
        },
        {
          "output_type": "display_data",
          "data": {
            "image/png": "[encoded data removed]",
            "text/plain": [
              "<Figure size 432x288 with 1 Axes>"
            ]
          },
          "metadata": {
            "needs_background": "light"
          }
        }
      ]
    },
    {
      "cell_type": "markdown",
      "metadata": {
        "id": "n4LHZqRBWX2Q"
      },
      "source": [
        "But what about the confidence intervals?\n",
        "95% Prediction Intervals Multiplier = 1.96 \n",
        "\n",
        "**Confidence interval = Mean +/- 1.96 * Std of Residuals**            "
      ]
    },
    {
      "cell_type": "code",
      "metadata": {
        "colab": {
          "base_uri": "https://localhost:8080/"
        },
        "id": "e8ln4NniIZW5",
        "outputId": "96bbc6ac-3a88-4eea-d406-7ebc7ec9e151"
      },
      "source": [
        "import scipy.stats as st\n",
        "alpha = 0.05\n",
        "\n",
        "# 2 sided multiplier\n",
        "multiplier = st.norm.ppf(1-alpha/2)\n",
        "\n",
        "lower_interval = np.round(y_train_mean - multiplier * resid_std, 2)\n",
        "upper_interval = np.round(y_train_mean + multiplier * resid_std, 2)\n",
        "print(f\"Prediction Interval: {lower_interval} - {upper_interval}\")"
      ],
      "execution_count": 15,
      "outputs": [
        {
          "output_type": "stream",
          "name": "stdout",
          "text": [
            "Prediction Interval: 174.08 - 177.96\n"
          ]
        }
      ]
    },
    {
      "cell_type": "markdown",
      "metadata": {
        "id": "6KSqI1FWYiIu"
      },
      "source": [
        "### Now let's build this model & compate to Theory"
      ]
    },
    {
      "cell_type": "code",
      "metadata": {
        "colab": {
          "base_uri": "https://localhost:8080/",
          "height": 206,
          "referenced_widgets": [
            "62a233260f4f4cc8900c6d8f6f6e07bb",
            "cd1da4252a75440e87729155c8b41a90",
            "01b999f133a24a56803acdfab725a519"
          ]
        },
        "id": "PH21LeTgX6xP",
        "outputId": "84456763-f9a9-46c6-ef8e-252e1ca579d0"
      },
      "source": [
        "model1 = exp.create_model(\"arima\", order=(0, 0, 0), seasonal_order=(0, 0, 0, 0))"
      ],
      "execution_count": 16,
      "outputs": [
        {
          "output_type": "display_data",
          "data": {
            "text/html": [
              "<div>\n",
              "<style scoped>\n",
              "    .dataframe tbody tr th:only-of-type {\n",
              "        vertical-align: middle;\n",
              "    }\n",
              "\n",
              "    .dataframe tbody tr th {\n",
              "        vertical-align: top;\n",
              "    }\n",
              "\n",
              "    .dataframe thead th {\n",
              "        text-align: right;\n",
              "    }\n",
              "</style>\n",
              "<table border=\"1\" class=\"dataframe\">\n",
              "  <thead>\n",
              "    <tr style=\"text-align: right;\">\n",
              "      <th></th>\n",
              "      <th>cutoff</th>\n",
              "      <th>MAE</th>\n",
              "      <th>RMSE</th>\n",
              "      <th>MAPE</th>\n",
              "      <th>SMAPE</th>\n",
              "      <th>R2</th>\n",
              "    </tr>\n",
              "  </thead>\n",
              "  <tbody>\n",
              "    <tr>\n",
              "      <th>0</th>\n",
              "      <td>219.0</td>\n",
              "      <td>0.8275</td>\n",
              "      <td>1.0069</td>\n",
              "      <td>0.0047</td>\n",
              "      <td>0.0047</td>\n",
              "      <td>-0.0007</td>\n",
              "    </tr>\n",
              "    <tr>\n",
              "      <th>1</th>\n",
              "      <td>249.0</td>\n",
              "      <td>0.7442</td>\n",
              "      <td>0.9785</td>\n",
              "      <td>0.0042</td>\n",
              "      <td>0.0042</td>\n",
              "      <td>-0.0084</td>\n",
              "    </tr>\n",
              "    <tr>\n",
              "      <th>2</th>\n",
              "      <td>279.0</td>\n",
              "      <td>0.8170</td>\n",
              "      <td>0.9894</td>\n",
              "      <td>0.0046</td>\n",
              "      <td>0.0046</td>\n",
              "      <td>-0.0090</td>\n",
              "    </tr>\n",
              "    <tr>\n",
              "      <th>Mean</th>\n",
              "      <td>NaN</td>\n",
              "      <td>0.7962</td>\n",
              "      <td>0.9916</td>\n",
              "      <td>0.0045</td>\n",
              "      <td>0.0045</td>\n",
              "      <td>-0.0060</td>\n",
              "    </tr>\n",
              "    <tr>\n",
              "      <th>SD</th>\n",
              "      <td>NaN</td>\n",
              "      <td>0.0371</td>\n",
              "      <td>0.0117</td>\n",
              "      <td>0.0002</td>\n",
              "      <td>0.0002</td>\n",
              "      <td>0.0038</td>\n",
              "    </tr>\n",
              "  </tbody>\n",
              "</table>\n",
              "</div>"
            ],
            "text/plain": [
              "      cutoff     MAE    RMSE    MAPE   SMAPE      R2\n",
              "0      219.0  0.8275  1.0069  0.0047  0.0047 -0.0007\n",
              "1      249.0  0.7442  0.9785  0.0042  0.0042 -0.0084\n",
              "2      279.0  0.8170  0.9894  0.0046  0.0046 -0.0090\n",
              "Mean     NaN  0.7962  0.9916  0.0045  0.0045 -0.0060\n",
              "SD       NaN  0.0371  0.0117  0.0002  0.0002  0.0038"
            ]
          },
          "metadata": {}
        }
      ]
    },
    {
      "cell_type": "code",
      "metadata": {
        "colab": {
          "base_uri": "https://localhost:8080/",
          "height": 983
        },
        "id": "gK2cZP07C9ei",
        "outputId": "a62d499c-040b-4dd5-d085-d5b63bb62920"
      },
      "source": [
        "summarize_model(model1)\n",
        "get_residual_properties(model1)"
      ],
      "execution_count": 17,
      "outputs": [
        {
          "output_type": "stream",
          "name": "stdout",
          "text": [
            "                               SARIMAX Results                                \n",
            "==============================================================================\n",
            "Dep. Variable:                      y   No. Observations:                  310\n",
            "Model:                        SARIMAX   Log Likelihood                -436.257\n",
            "Date:                Sun, 14 Nov 2021   AIC                            876.515\n",
            "Time:                        18:09:56   BIC                            883.988\n",
            "Sample:                             0   HQIC                           879.502\n",
            "                                - 310                                         \n",
            "Covariance Type:                  opg                                         \n",
            "==============================================================================\n",
            "                 coef    std err          z      P>|z|      [0.025      0.975]\n",
            "------------------------------------------------------------------------------\n",
            "intercept    176.0181      0.056   3134.299      0.000     175.908     176.128\n",
            "sigma2         0.9770      0.080     12.235      0.000       0.820       1.133\n",
            "===================================================================================\n",
            "Ljung-Box (L1) (Q):                   0.99   Jarque-Bera (JB):                 0.13\n",
            "Prob(Q):                              0.32   Prob(JB):                         0.94\n",
            "Heteroskedasticity (H):               0.98   Skew:                            -0.04\n",
            "Prob(H) (two-sided):                  0.93   Kurtosis:                         2.93\n",
            "===================================================================================\n",
            "\n",
            "Warnings:\n",
            "[1] Covariance matrix calculated using the outer product of gradients (complex-step).\n"
          ]
        },
        {
          "output_type": "display_data",
          "data": {
            "text/html": [
              "<html>\n",
              "<head><meta charset=\"utf-8\" /></head>\n",
              "<body>\n",
              "    <div>            <script src=\"https://cdnjs.cloudflare.com/ajax/libs/mathjax/2.7.5/MathJax.js?config=TeX-AMS-MML_SVG\"></script><script type=\"text/javascript\">if (window.MathJax) {MathJax.Hub.Config({SVG: {font: \"STIX-Web\"}});}</script>                <script type=\"text/javascript\">window.PlotlyConfig = {MathJaxConfig: 'local'};</script>\n",
              "        <script src=\"https://cdn.plot.ly/plotly-2.4.2.min.js\"></script>                <div id=\"38711a1b-1284-4499-95e1-829b57243b48\" class=\"plotly-graph-div\" style=\"height:525px; width:100%;\"></div>            <script type=\"text/javascript\">                                    window.PLOTLYENV=window.PLOTLYENV || {};                                    if (document.getElementById(\"38711a1b-1284-4499-95e1-829b57243b48\")) {                    Plotly.newPlot(                        \"38711a1b-1284-4499-95e1-829b57243b48\",                        [{\"marker\":{\"color\":\"#3f3f3f\",\"size\":5},\"mode\":\"lines+markers\",\"name\":\"Residuals | ARIMA\",\"showlegend\":true,\"type\":\"scatter\",\"x\":[0,1,2,3,4,5,6,7,8,9,10,11,12,13,14,15,16,17,18,19,20,21,22,23,24,25,26,27,28,29,30,31,32,33,34,35,36,37,38,39,40,41,42,43,44,45,46,47,48,49,50,51,52,53,54,55,56,57,58,59,60,61,62,63,64,65,66,67,68,69,70,71,72,73,74,75,76,77,78,79,80,81,82,83,84,85,86,87,88,89,90,91,92,93,94,95,96,97,98,99,100,101,102,103,104,105,106,107,108,109,110,111,112,113,114,115,116,117,118,119,120,121,122,123,124,125,126,127,128,129,130,131,132,133,134,135,136,137,138,139,140,141,142,143,144,145,146,147,148,149,150,151,152,153,154,155,156,157,158,159,160,161,162,163,164,165,166,167,168,169,170,171,172,173,174,175,176,177,178,179,180,181,182,183,184,185,186,187,188,189,190,191,192,193,194,195,196,197,198,199,200,201,202,203,204,205,206,207,208,209,210,211,212,213,214,215,216,217,218,219,220,221,222,223,224,225,226,227,228,229,230,231,232,233,234,235,236,237,238,239,240,241,242,243,244,245,246,247,248,249,250,251,252,253,254,255,256,257,258,259,260,261,262,263,264,265,266,267,268,269,270,271,272,273,274,275,276,277,278,279,280,281,282,283,284,285,286,287,288,289,290,291,292,293,294,295,296,297,298,299,300,301,302,303,304,305,306,307,308,309],\"y\":[-0.6384733071230926,0.02400924324490461,-0.929028278451085,0.13992214250490065,-0.6726912738180602,1.7491806394739342,0.6986008461179267,0.8920675995959186,0.36607872792691865,1.6640694506199054,-0.653843083848102,-0.47975136026005316,1.4141756086428927,-0.6688029832091047,-0.22548737350106762,-0.4109145593410801,-0.3380994984470931,-0.29721993287606097,0.47608170136891204,-0.19543711216908832,-0.5240640920130772,1.3249321952708897,-0.23268603844607583,-0.19766315994206707,-0.11829737111307281,0.6945596771519433,-0.09167103402509724,-0.055740801366084725,-0.6997671086550667,-0.3423769021451051,0.0420538105359185,-0.6070011161590685,0.5133895627339484,-1.5365007116860738,0.2884512308908995,-1.554556453437101,-0.3190827567360941,-0.5463865343440659,-0.6702014105800913,-0.07500340774606684,-1.9324660555790842,1.1584766821199253,-1.6830790661110768,-0.48163703137109337,-1.1340267349420685,-0.7689256310920882,2.0690599157289284,-0.0007110102060892132,-1.304407160333085,-1.658712164318075,0.43208047137392214,-0.03666646261407891,-0.3361750044430778,-0.9474687773530661,-1.5055669400400689,-1.0932989265150752,0.9819221738149224,-0.6393733246960664,-1.4025334772840665,1.8511839925249376,0.4069937474729386,-0.2567537308120791,1.040376418809899,0.8683160214759198,-0.6373496781300787,2.187995834640901,-0.27313366004005957,-1.4426012801120862,-0.16250623185308655,0.18943170933289366,2.2898717691599018,0.08769573799489194,0.43889217552393234,-0.09525956525610013,-0.35210747226605577,-0.052832658210093086,0.7695329757309253,2.05713837875291,1.0092858088649166,1.1898017684879107,-1.2494300514570682,0.9657889401539137,0.20181817376192157,-1.4853566589910656,0.5029161127489203,-0.17686123461507464,1.4464806820708986,-0.7841886295040581,-0.44831838382805245,-0.9442161272760927,-0.195210591336064,0.3839051495869228,-0.7498548030190761,0.8122665380828948,-1.2261894162030842,-1.066091042707086,1.4230510769449154,-1.0339540952040522,0.39386808241891913,-0.3991826810080852,0.3912952097519167,1.6707666563049202,1.568481803542909,-0.3490144305820593,-2.303342165191083,2.479554959934916,0.6489595368659025,0.523220706064933,-0.031506153045086194,0.4920017930539018,-0.18248246166905346,0.4025880133559383,-0.41835337387709615,-1.3883145074460685,0.9697316375558955,1.5016383956009065,-0.3268471991250692,-1.2713963855070745,0.6241346757789188,-0.06281576679307932,-1.7513250367240687,-0.01597477021906002,-0.6484069638270853,-0.3590752097590837,-1.174678992535064,1.785035278017915,-0.34923866629006284,-1.6236200421520834,0.17908680883994066,0.24506901650590862,-1.0039333303080866,-2.9070273015790633,-0.6585883324640918,0.552401006020915,-0.07782990594208172,-0.11628537390410543,0.5427140987209214,-1.2045652684780634,1.0786704143748977,-0.02345065817709724,0.6892040374989108,1.016001104837926,0.2053737850159223,-0.8968142427650605,1.144857926067914,-2.0182715746840927,-0.5628973699010658,-0.2737773390560676,-0.18422766666407142,1.002357278884915,0.11811526320391863,0.38906097352492,-0.08776144291206833,-0.26577097151806583,0.6774441767209112,1.128121727316909,-2.4212028447910825,0.5546329253469366,0.356617776879915,-0.4433743514551054,0.9329061776779497,-0.4073438116170678,-0.3024372916990785,0.8393031481809032,1.7015206692219351,0.25194827103791795,-0.440290639687106,-1.2072199247590731,-0.3491396087781027,-0.9579359564091021,-0.2770392130180994,0.3762725383229224,-0.8699637219230851,2.631060251195919,0.1379050457659332,1.1121006375558977,-2.307230609739065,0.7228945272959209,-1.3343517903510929,0.9016970477099164,0.38002352555292873,-0.4256352091690587,1.3061520002779332,-0.7193382991461021,-0.5987209341400614,-1.0191788109241031,-0.6862852366520826,0.9270783234739213,0.4155955196459047,0.9870525877779244,-0.4082252939530804,0.35826366187592384,0.22605829458692028,-1.4443639722820762,1.7603226575759265,0.11634103103492066,0.7474923692589073,0.9370300470098982,-0.06867233134107664,-0.3239220496660664,0.8755670725269056,-1.0654047789601009,1.9532307563248992,-0.40173873618707034,1.6360386723759177,1.4941060640519197,0.06485910368692771,0.5491142849529069,-1.0426551094330705,0.30489987312293465,1.025505828456943,0.08097185699793386,-0.47224353905309613,-0.6738884823490707,-0.054029052522054144,1.0510548307779004,-0.5020815602001107,-0.13911674122610407,-1.312246633720065,0.4762062061159327,1.2897948902148926,1.4789343795039258,0.7965961009979026,-1.8878954201020974,0.4639228742249202,0.43802897340194136,-0.37150691572907135,0.15238284104890454,-0.8821425840260986,0.6611241441169113,-0.3452076445520902,-1.5871888150430777,-0.3855573860690811,1.3463282991708923,-0.3523879946300781,0.7146434123099255,0.9284790102989007,-0.013707925573100965,-0.37042893544906974,-0.547802139033081,0.7214825956759228,-1.0815640453820947,0.22810421363692512,-0.3076059964630815,-2.2829959863870783,-1.4269570859720773,0.8979126988939186,-0.20938558043408761,0.7851765862349112,1.8693678334099104,1.4557745512099416,0.6591618624139244,0.3618560566679321,-0.2109050563560686,1.5597851650049108,0.5781274794189244,-1.1916835707700955,-0.17374916478905789,-1.9370164501690965,-0.21336547601006828,-2.6104342998450534,1.295895537298918,-0.6536496309310564,-0.4480854685930922,-0.18742496220110638,0.5941115440899125,0.6602335473239407,0.5498453425729224,-0.5906492338251041,-1.3813978861770693,-0.40682887423707825,0.2598075025518938,-0.8411877514710682,-0.08694756437708406,-1.1857689560290794,-0.02641564411507602,0.11074877169789943,-0.16398225836007896,-0.18201758663508372,1.7454453728859107,0.7444798825189025,1.0933244508319433,-0.9413135827290944,0.14623520852893535,1.1367185571979235,-0.07462805442506237,-2.147467278134087,0.32673913219991846,-1.9230620754850918,-0.829276783039063,1.3058976914009293,0.59753021940395,1.073562325635919,0.2884982316149376,-0.12826539238207602,-0.9424194030260651,1.5748071238199088,0.026903968222910635,-0.733235030567073,0.8471164698179052,1.056334328378938,1.877548144299908,-0.621103933504088,-0.4089744506220825,-0.43432866142907756,-0.3937640527190638,-0.38473757560109334,-0.31378408260007973,1.4237137803009148,-0.7156449218120713]}],                        {\"showlegend\":true,\"template\":{\"data\":{\"bar\":[{\"error_x\":{\"color\":\"rgb(51,51,51)\"},\"error_y\":{\"color\":\"rgb(51,51,51)\"},\"marker\":{\"line\":{\"color\":\"rgb(237,237,237)\",\"width\":0.5},\"pattern\":{\"fillmode\":\"overlay\",\"size\":10,\"solidity\":0.2}},\"type\":\"bar\"}],\"barpolar\":[{\"marker\":{\"line\":{\"color\":\"rgb(237,237,237)\",\"width\":0.5},\"pattern\":{\"fillmode\":\"overlay\",\"size\":10,\"solidity\":0.2}},\"type\":\"barpolar\"}],\"carpet\":[{\"aaxis\":{\"endlinecolor\":\"rgb(51,51,51)\",\"gridcolor\":\"white\",\"linecolor\":\"white\",\"minorgridcolor\":\"white\",\"startlinecolor\":\"rgb(51,51,51)\"},\"baxis\":{\"endlinecolor\":\"rgb(51,51,51)\",\"gridcolor\":\"white\",\"linecolor\":\"white\",\"minorgridcolor\":\"white\",\"startlinecolor\":\"rgb(51,51,51)\"},\"type\":\"carpet\"}],\"choropleth\":[{\"colorbar\":{\"outlinewidth\":0,\"tickcolor\":\"rgb(237,237,237)\",\"ticklen\":6,\"ticks\":\"inside\"},\"type\":\"choropleth\"}],\"contour\":[{\"colorbar\":{\"outlinewidth\":0,\"tickcolor\":\"rgb(237,237,237)\",\"ticklen\":6,\"ticks\":\"inside\"},\"colorscale\":[[0,\"rgb(20,44,66)\"],[1,\"rgb(90,179,244)\"]],\"type\":\"contour\"}],\"contourcarpet\":[{\"colorbar\":{\"outlinewidth\":0,\"tickcolor\":\"rgb(237,237,237)\",\"ticklen\":6,\"ticks\":\"inside\"},\"type\":\"contourcarpet\"}],\"heatmap\":[{\"colorbar\":{\"outlinewidth\":0,\"tickcolor\":\"rgb(237,237,237)\",\"ticklen\":6,\"ticks\":\"inside\"},\"colorscale\":[[0,\"rgb(20,44,66)\"],[1,\"rgb(90,179,244)\"]],\"type\":\"heatmap\"}],\"heatmapgl\":[{\"colorbar\":{\"outlinewidth\":0,\"tickcolor\":\"rgb(237,237,237)\",\"ticklen\":6,\"ticks\":\"inside\"},\"colorscale\":[[0,\"rgb(20,44,66)\"],[1,\"rgb(90,179,244)\"]],\"type\":\"heatmapgl\"}],\"histogram\":[{\"marker\":{\"pattern\":{\"fillmode\":\"overlay\",\"size\":10,\"solidity\":0.2}},\"type\":\"histogram\"}],\"histogram2d\":[{\"colorbar\":{\"outlinewidth\":0,\"tickcolor\":\"rgb(237,237,237)\",\"ticklen\":6,\"ticks\":\"inside\"},\"colorscale\":[[0,\"rgb(20,44,66)\"],[1,\"rgb(90,179,244)\"]],\"type\":\"histogram2d\"}],\"histogram2dcontour\":[{\"colorbar\":{\"outlinewidth\":0,\"tickcolor\":\"rgb(237,237,237)\",\"ticklen\":6,\"ticks\":\"inside\"},\"colorscale\":[[0,\"rgb(20,44,66)\"],[1,\"rgb(90,179,244)\"]],\"type\":\"histogram2dcontour\"}],\"mesh3d\":[{\"colorbar\":{\"outlinewidth\":0,\"tickcolor\":\"rgb(237,237,237)\",\"ticklen\":6,\"ticks\":\"inside\"},\"type\":\"mesh3d\"}],\"parcoords\":[{\"line\":{\"colorbar\":{\"outlinewidth\":0,\"tickcolor\":\"rgb(237,237,237)\",\"ticklen\":6,\"ticks\":\"inside\"}},\"type\":\"parcoords\"}],\"pie\":[{\"automargin\":true,\"type\":\"pie\"}],\"scatter\":[{\"marker\":{\"colorbar\":{\"outlinewidth\":0,\"tickcolor\":\"rgb(237,237,237)\",\"ticklen\":6,\"ticks\":\"inside\"}},\"type\":\"scatter\"}],\"scatter3d\":[{\"line\":{\"colorbar\":{\"outlinewidth\":0,\"tickcolor\":\"rgb(237,237,237)\",\"ticklen\":6,\"ticks\":\"inside\"}},\"marker\":{\"colorbar\":{\"outlinewidth\":0,\"tickcolor\":\"rgb(237,237,237)\",\"ticklen\":6,\"ticks\":\"inside\"}},\"type\":\"scatter3d\"}],\"scattercarpet\":[{\"marker\":{\"colorbar\":{\"outlinewidth\":0,\"tickcolor\":\"rgb(237,237,237)\",\"ticklen\":6,\"ticks\":\"inside\"}},\"type\":\"scattercarpet\"}],\"scattergeo\":[{\"marker\":{\"colorbar\":{\"outlinewidth\":0,\"tickcolor\":\"rgb(237,237,237)\",\"ticklen\":6,\"ticks\":\"inside\"}},\"type\":\"scattergeo\"}],\"scattergl\":[{\"marker\":{\"colorbar\":{\"outlinewidth\":0,\"tickcolor\":\"rgb(237,237,237)\",\"ticklen\":6,\"ticks\":\"inside\"}},\"type\":\"scattergl\"}],\"scattermapbox\":[{\"marker\":{\"colorbar\":{\"outlinewidth\":0,\"tickcolor\":\"rgb(237,237,237)\",\"ticklen\":6,\"ticks\":\"inside\"}},\"type\":\"scattermapbox\"}],\"scatterpolar\":[{\"marker\":{\"colorbar\":{\"outlinewidth\":0,\"tickcolor\":\"rgb(237,237,237)\",\"ticklen\":6,\"ticks\":\"inside\"}},\"type\":\"scatterpolar\"}],\"scatterpolargl\":[{\"marker\":{\"colorbar\":{\"outlinewidth\":0,\"tickcolor\":\"rgb(237,237,237)\",\"ticklen\":6,\"ticks\":\"inside\"}},\"type\":\"scatterpolargl\"}],\"scatterternary\":[{\"marker\":{\"colorbar\":{\"outlinewidth\":0,\"tickcolor\":\"rgb(237,237,237)\",\"ticklen\":6,\"ticks\":\"inside\"}},\"type\":\"scatterternary\"}],\"surface\":[{\"colorbar\":{\"outlinewidth\":0,\"tickcolor\":\"rgb(237,237,237)\",\"ticklen\":6,\"ticks\":\"inside\"},\"colorscale\":[[0,\"rgb(20,44,66)\"],[1,\"rgb(90,179,244)\"]],\"type\":\"surface\"}],\"table\":[{\"cells\":{\"fill\":{\"color\":\"rgb(237,237,237)\"},\"line\":{\"color\":\"white\"}},\"header\":{\"fill\":{\"color\":\"rgb(217,217,217)\"},\"line\":{\"color\":\"white\"}},\"type\":\"table\"}]},\"layout\":{\"annotationdefaults\":{\"arrowhead\":0,\"arrowwidth\":1},\"autotypenumbers\":\"strict\",\"coloraxis\":{\"colorbar\":{\"outlinewidth\":0,\"tickcolor\":\"rgb(237,237,237)\",\"ticklen\":6,\"ticks\":\"inside\"}},\"colorscale\":{\"sequential\":[[0,\"rgb(20,44,66)\"],[1,\"rgb(90,179,244)\"]],\"sequentialminus\":[[0,\"rgb(20,44,66)\"],[1,\"rgb(90,179,244)\"]]},\"colorway\":[\"#F8766D\",\"#A3A500\",\"#00BF7D\",\"#00B0F6\",\"#E76BF3\"],\"font\":{\"color\":\"rgb(51,51,51)\"},\"geo\":{\"bgcolor\":\"white\",\"lakecolor\":\"white\",\"landcolor\":\"rgb(237,237,237)\",\"showlakes\":true,\"showland\":true,\"subunitcolor\":\"white\"},\"hoverlabel\":{\"align\":\"left\"},\"hovermode\":\"closest\",\"paper_bgcolor\":\"white\",\"plot_bgcolor\":\"rgb(237,237,237)\",\"polar\":{\"angularaxis\":{\"gridcolor\":\"white\",\"linecolor\":\"white\",\"showgrid\":true,\"tickcolor\":\"rgb(51,51,51)\",\"ticks\":\"outside\"},\"bgcolor\":\"rgb(237,237,237)\",\"radialaxis\":{\"gridcolor\":\"white\",\"linecolor\":\"white\",\"showgrid\":true,\"tickcolor\":\"rgb(51,51,51)\",\"ticks\":\"outside\"}},\"scene\":{\"xaxis\":{\"backgroundcolor\":\"rgb(237,237,237)\",\"gridcolor\":\"white\",\"gridwidth\":2,\"linecolor\":\"white\",\"showbackground\":true,\"showgrid\":true,\"tickcolor\":\"rgb(51,51,51)\",\"ticks\":\"outside\",\"zerolinecolor\":\"white\"},\"yaxis\":{\"backgroundcolor\":\"rgb(237,237,237)\",\"gridcolor\":\"white\",\"gridwidth\":2,\"linecolor\":\"white\",\"showbackground\":true,\"showgrid\":true,\"tickcolor\":\"rgb(51,51,51)\",\"ticks\":\"outside\",\"zerolinecolor\":\"white\"},\"zaxis\":{\"backgroundcolor\":\"rgb(237,237,237)\",\"gridcolor\":\"white\",\"gridwidth\":2,\"linecolor\":\"white\",\"showbackground\":true,\"showgrid\":true,\"tickcolor\":\"rgb(51,51,51)\",\"ticks\":\"outside\",\"zerolinecolor\":\"white\"}},\"shapedefaults\":{\"fillcolor\":\"black\",\"line\":{\"width\":0},\"opacity\":0.3},\"ternary\":{\"aaxis\":{\"gridcolor\":\"white\",\"linecolor\":\"white\",\"showgrid\":true,\"tickcolor\":\"rgb(51,51,51)\",\"ticks\":\"outside\"},\"baxis\":{\"gridcolor\":\"white\",\"linecolor\":\"white\",\"showgrid\":true,\"tickcolor\":\"rgb(51,51,51)\",\"ticks\":\"outside\"},\"bgcolor\":\"rgb(237,237,237)\",\"caxis\":{\"gridcolor\":\"white\",\"linecolor\":\"white\",\"showgrid\":true,\"tickcolor\":\"rgb(51,51,51)\",\"ticks\":\"outside\"}},\"xaxis\":{\"automargin\":true,\"gridcolor\":\"white\",\"linecolor\":\"white\",\"showgrid\":true,\"tickcolor\":\"rgb(51,51,51)\",\"ticks\":\"outside\",\"title\":{\"standoff\":15},\"zerolinecolor\":\"white\"},\"yaxis\":{\"automargin\":true,\"gridcolor\":\"white\",\"linecolor\":\"white\",\"showgrid\":true,\"tickcolor\":\"rgb(51,51,51)\",\"ticks\":\"outside\",\"title\":{\"standoff\":15},\"zerolinecolor\":\"white\"}}},\"title\":{\"text\":\"Residuals\"},\"xaxis\":{\"title\":{\"text\":\"Time\"}},\"yaxis\":{\"title\":{\"text\":\"Values\"}}},                        {\"responsive\": true}                    ).then(function(){\n",
              "                            \n",
              "var gd = document.getElementById('38711a1b-1284-4499-95e1-829b57243b48');\n",
              "var x = new MutationObserver(function (mutations, observer) {{\n",
              "        var display = window.getComputedStyle(gd).display;\n",
              "        if (!display || display === 'none') {{\n",
              "            console.log([gd, 'removed!']);\n",
              "            Plotly.purge(gd);\n",
              "            observer.disconnect();\n",
              "        }}\n",
              "}});\n",
              "\n",
              "// Listen for the removal of the full notebook cells\n",
              "var notebookContainer = gd.closest('#notebook-container');\n",
              "if (notebookContainer) {{\n",
              "    x.observe(notebookContainer, {childList: true});\n",
              "}}\n",
              "\n",
              "// Listen for the clearing of the current output cell\n",
              "var outputEl = gd.closest('.output');\n",
              "if (outputEl) {{\n",
              "    x.observe(outputEl, {childList: true});\n",
              "}}\n",
              "\n",
              "                        })                };                            </script>        </div>\n",
              "</body>\n",
              "</html>"
            ]
          },
          "metadata": {}
        },
        {
          "output_type": "stream",
          "name": "stdout",
          "text": [
            "Variance of Residuals: 0.976956791590136\n"
          ]
        }
      ]
    },
    {
      "cell_type": "markdown",
      "metadata": {
        "id": "DW32vxOAZAKs"
      },
      "source": [
        "**So the intercept in the model summary represents the Mean of the training data in this case and the sigma2 represents the variance of the model residuals.**"
      ]
    },
    {
      "cell_type": "markdown",
      "metadata": {
        "id": "bbVW8kjqZGgH"
      },
      "source": [
        "What about the model predictions?"
      ]
    },
    {
      "cell_type": "code",
      "metadata": {
        "colab": {
          "base_uri": "https://localhost:8080/",
          "height": 1000
        },
        "id": "C1LQ3sQcYp2m",
        "outputId": "1700d2b5-3e2f-4338-cbe6-a22d1b3ac2a5"
      },
      "source": [
        "plot_predictions(model1)"
      ],
      "execution_count": 18,
      "outputs": [
        {
          "output_type": "display_data",
          "data": {
            "text/html": [
              "<html>\n",
              "<head><meta charset=\"utf-8\" /></head>\n",
              "<body>\n",
              "    <div>            <script src=\"https://cdnjs.cloudflare.com/ajax/libs/mathjax/2.7.5/MathJax.js?config=TeX-AMS-MML_SVG\"></script><script type=\"text/javascript\">if (window.MathJax) {MathJax.Hub.Config({SVG: {font: \"STIX-Web\"}});}</script>                <script type=\"text/javascript\">window.PlotlyConfig = {MathJaxConfig: 'local'};</script>\n",
              "        <script src=\"https://cdn.plot.ly/plotly-2.4.2.min.js\"></script>                <div id=\"fad16554-0d61-4dca-b8d7-25a71d37749a\" class=\"plotly-graph-div\" style=\"height:525px; width:100%;\"></div>            <script type=\"text/javascript\">                                    window.PLOTLYENV=window.PLOTLYENV || {};                                    if (document.getElementById(\"fad16554-0d61-4dca-b8d7-25a71d37749a\")) {                    Plotly.newPlot(                        \"fad16554-0d61-4dca-b8d7-25a71d37749a\",                        [{\"line\":{\"color\":\"#1f77b4\"},\"marker\":{\"size\":5},\"mode\":\"lines+markers\",\"name\":\"Forecast | ARIMA\",\"showlegend\":true,\"type\":\"scatter\",\"x\":[310,311,312,313,314,315,316,317,318,319,320,321,322,323,324,325,326,327,328,329,330,331,332,333,334,335,336,337,338,339],\"y\":[176.0181,176.0181,176.0181,176.0181,176.0181,176.0181,176.0181,176.0181,176.0181,176.0181,176.0181,176.0181,176.0181,176.0181,176.0181,176.0181,176.0181,176.0181,176.0181,176.0181,176.0181,176.0181,176.0181,176.0181,176.0181,176.0181,176.0181,176.0181,176.0181,176.0181]},{\"line\":{\"width\":0},\"marker\":{\"color\":\"#68BBE3\"},\"mode\":\"lines\",\"name\":\"Lower Interval\",\"showlegend\":false,\"type\":\"scatter\",\"x\":[310,311,312,313,314,315,316,317,318,319,320,321,322,323,324,325,326,327,328,329,330,331,332,333,334,335,336,337,338,339],\"y\":[174.0809,174.0809,174.0809,174.0809,174.0809,174.0809,174.0809,174.0809,174.0809,174.0809,174.0809,174.0809,174.0809,174.0809,174.0809,174.0809,174.0809,174.0809,174.0809,174.0809,174.0809,174.0809,174.0809,174.0809,174.0809,174.0809,174.0809,174.0809,174.0809,174.0809]},{\"fill\":\"tonexty\",\"fillcolor\":\"rgba(104,187,227,0.5)\",\"line\":{\"width\":0},\"marker\":{\"color\":\"#68BBE3\"},\"mode\":\"lines\",\"name\":\"Prediction Interval | ARIMA\",\"showlegend\":true,\"type\":\"scatter\",\"x\":[310,311,312,313,314,315,316,317,318,319,320,321,322,323,324,325,326,327,328,329,330,331,332,333,334,335,336,337,338,339],\"y\":[177.9554,177.9554,177.9554,177.9554,177.9554,177.9554,177.9554,177.9554,177.9554,177.9554,177.9554,177.9554,177.9554,177.9554,177.9554,177.9554,177.9554,177.9554,177.9554,177.9554,177.9554,177.9554,177.9554,177.9554,177.9554,177.9554,177.9554,177.9554,177.9554,177.9554]},{\"marker\":{\"color\":\"#3f3f3f\",\"size\":5},\"mode\":\"lines+markers\",\"name\":\"Original\",\"showlegend\":true,\"type\":\"scatter\",\"x\":[0,1,2,3,4,5,6,7,8,9,10,11,12,13,14,15,16,17,18,19,20,21,22,23,24,25,26,27,28,29,30,31,32,33,34,35,36,37,38,39,40,41,42,43,44,45,46,47,48,49,50,51,52,53,54,55,56,57,58,59,60,61,62,63,64,65,66,67,68,69,70,71,72,73,74,75,76,77,78,79,80,81,82,83,84,85,86,87,88,89,90,91,92,93,94,95,96,97,98,99,100,101,102,103,104,105,106,107,108,109,110,111,112,113,114,115,116,117,118,119,120,121,122,123,124,125,126,127,128,129,130,131,132,133,134,135,136,137,138,139,140,141,142,143,144,145,146,147,148,149,150,151,152,153,154,155,156,157,158,159,160,161,162,163,164,165,166,167,168,169,170,171,172,173,174,175,176,177,178,179,180,181,182,183,184,185,186,187,188,189,190,191,192,193,194,195,196,197,198,199,200,201,202,203,204,205,206,207,208,209,210,211,212,213,214,215,216,217,218,219,220,221,222,223,224,225,226,227,228,229,230,231,232,233,234,235,236,237,238,239,240,241,242,243,244,245,246,247,248,249,250,251,252,253,254,255,256,257,258,259,260,261,262,263,264,265,266,267,268,269,270,271,272,273,274,275,276,277,278,279,280,281,282,283,284,285,286,287,288,289,290,291,292,293,294,295,296,297,298,299,300,301,302,303,304,305,306,307,308,309,310,311,312,313,314,315,316,317,318,319,320,321,322,323,324,325,326,327,328,329,330,331,332,333,334,335,336,337,338,339],\"y\":[175.379633322776,176.04211587314398,175.089078351448,176.15802877240398,175.34541535608102,177.767287269373,176.716707476017,176.910174229495,176.384185357826,177.68217608051899,175.36426354605098,175.53835526963903,177.43228223854197,175.34930364668998,175.792619256398,175.607192070558,175.680007131452,175.72088669702302,176.494188331268,175.82266951773,175.494042537886,177.34303882516997,175.785420591453,175.820443469957,175.899809258786,176.71266630705102,175.92643559587398,175.962365828533,175.318339521244,175.67572972775397,176.060160440435,175.41110551374,176.53149619263303,174.481605918213,176.30655786078998,174.46355017646198,175.699023873163,175.471720095555,175.347905219319,175.943103222153,174.08564057432,177.176583312019,174.335027563788,175.536469598528,174.884079894957,175.249180998807,178.087166545628,176.017395619693,174.713699469566,174.359394465581,176.450187101273,175.981440167285,175.681931625456,175.070637852546,174.512539689859,174.924807703384,177.000028803714,175.378733305203,174.615573152615,177.86929062242402,176.42510037737202,175.761352899087,177.05848304870898,176.886422651375,175.380756951769,178.20610246453998,175.74497296985902,174.575505349787,175.855600398046,176.20753833923197,178.30797839905898,176.10580236789397,176.456998805423,175.92284706464298,175.66599915763302,175.965273971689,176.78763960563,178.075245008652,177.027392438764,177.207908398387,174.768676578442,176.983895570053,176.219924803661,174.53274997090801,176.521022742648,175.841245395284,177.46458731196998,175.23391800039502,175.56978824607103,175.073890502623,175.82289603856302,176.402011779486,175.26825182688,176.83037316798197,174.791917213696,174.952015587192,177.441157706844,174.98415253469503,176.411974712318,175.618923948891,176.409401839651,177.688873286204,177.586588433442,175.66909219931702,173.714764464708,178.497661589834,176.66706616676498,176.541327335964,175.986600476854,176.51010842295298,175.83562416823003,176.42069464325502,175.59975325602198,174.629792122453,176.98783826745498,177.5197450255,175.691259430774,174.746710244392,176.642241305678,175.955290863106,174.266781593175,176.00213185968002,175.369699666072,175.65903142014,174.84342763736402,177.803141907917,175.66886796360902,174.394486587747,176.19719343873902,176.263175646405,175.014173299591,173.11107932832002,175.359518297435,176.57050763592,175.940276723957,175.90182125599497,176.56082072862,174.81354136142102,177.09677704427398,175.99465597172198,176.707310667398,177.034107734737,176.223480414915,175.12129238713402,177.162964555967,173.999835055215,175.455209259998,175.744329290843,175.833878963235,177.020463908784,176.136221893103,176.407167603424,175.930345186987,175.752335658381,176.69555080662,177.146228357216,173.596903785108,176.57273955524602,176.374724406779,175.57473227844397,176.95101280757703,175.610762818282,175.7156693382,176.85740977807998,177.71962729912102,176.270054900937,175.57781599021197,174.81088670514,175.66896702112098,175.06017067348998,175.74106741688098,176.394379168222,175.148142907976,178.649166881095,176.156011675665,177.13020726745498,173.71087602016001,176.741001157195,174.683754839548,176.919803677609,176.398130155452,175.59247142073002,177.324258630177,175.29876833075298,175.41938569575902,174.99892781897498,175.331821393247,176.945184953373,176.43370214954498,177.005159217677,175.609881335946,176.376370291775,176.244164924486,174.573742657617,177.778429287475,176.134447660934,176.765598999158,176.95513667690898,175.949434298558,175.694184580233,176.89367370242599,174.95270185093898,177.97133738622398,175.616367893712,177.654145302275,177.512212693951,176.082965733586,176.567220914852,174.975451520466,176.32300650302201,177.04361245835602,176.099078486897,175.54586309084598,175.34421814755,175.96407757737703,177.06916146067698,175.51602506969897,175.87898988867298,174.70585999617902,176.494312836015,177.30790152011397,177.497041009403,176.81470273089698,174.13021120979698,176.482029504124,176.45613560330102,175.64659971417,176.17048947094798,175.13596404587298,176.679230774016,175.672898985347,174.430917814856,175.63254924383,177.36443492906997,175.665718635269,176.732750042209,176.94658564019798,176.00439870432598,175.64767769445,175.470304490866,176.739589225575,174.93654258451699,176.246210843536,175.710500633436,173.735110643512,174.591149543927,176.916019328793,175.808721049465,176.803283216134,177.887474463309,177.47388118110902,176.677268492313,176.379962686567,175.807201573543,177.577891794904,176.596234109318,174.82642305912898,175.84435746511002,174.08109017972998,175.804741153889,173.40767233005403,177.314002167198,175.36445699896802,175.570021161306,175.83068166769797,176.612218173989,176.67834017722302,176.567951972472,175.42745739607398,174.636708743722,175.611277755662,176.27791413245097,175.176918878428,175.931159065522,174.83233767387,175.991690985784,176.12885540159698,175.854124371539,175.836089043264,177.763552002785,176.76258651241798,177.11143108073102,175.07679304716999,176.16434183842802,177.154825187097,175.94347857547402,173.870639351765,176.344845762099,174.095044554414,175.18882984686002,177.3240043213,176.61563684930303,177.091668955535,176.30660486151402,175.889841237517,175.07568722687301,177.592913753719,176.045010598122,175.284871599332,176.86522309971699,177.07444095827802,177.895654774199,175.397002696395,175.609132179277,175.58377796847,175.62434257718002,175.633369054298,175.704322547299,177.4418204102,175.302461708087,175.611832494079,176.652536452172,177.124772446535,175.227889196976,175.491913783862,176.523620590498,177.01775422653802,175.748835411912,174.570006552611,177.709121032101,177.43506957231202,175.28962885415,175.934932426344,174.24053126463403,176.569722971819,177.61234679820203,174.362719352895,175.220431486798,175.35882306624902,175.318868606429,173.96671440438203,176.50096355924802,174.468201860034,175.97500236072202,176.592984721025,175.801804578515,176.892008392474,175.974284929082,175.35233954941398,176.64635941503502]}],                        {\"showlegend\":true,\"template\":{\"data\":{\"bar\":[{\"error_x\":{\"color\":\"rgb(51,51,51)\"},\"error_y\":{\"color\":\"rgb(51,51,51)\"},\"marker\":{\"line\":{\"color\":\"rgb(237,237,237)\",\"width\":0.5},\"pattern\":{\"fillmode\":\"overlay\",\"size\":10,\"solidity\":0.2}},\"type\":\"bar\"}],\"barpolar\":[{\"marker\":{\"line\":{\"color\":\"rgb(237,237,237)\",\"width\":0.5},\"pattern\":{\"fillmode\":\"overlay\",\"size\":10,\"solidity\":0.2}},\"type\":\"barpolar\"}],\"carpet\":[{\"aaxis\":{\"endlinecolor\":\"rgb(51,51,51)\",\"gridcolor\":\"white\",\"linecolor\":\"white\",\"minorgridcolor\":\"white\",\"startlinecolor\":\"rgb(51,51,51)\"},\"baxis\":{\"endlinecolor\":\"rgb(51,51,51)\",\"gridcolor\":\"white\",\"linecolor\":\"white\",\"minorgridcolor\":\"white\",\"startlinecolor\":\"rgb(51,51,51)\"},\"type\":\"carpet\"}],\"choropleth\":[{\"colorbar\":{\"outlinewidth\":0,\"tickcolor\":\"rgb(237,237,237)\",\"ticklen\":6,\"ticks\":\"inside\"},\"type\":\"choropleth\"}],\"contour\":[{\"colorbar\":{\"outlinewidth\":0,\"tickcolor\":\"rgb(237,237,237)\",\"ticklen\":6,\"ticks\":\"inside\"},\"colorscale\":[[0,\"rgb(20,44,66)\"],[1,\"rgb(90,179,244)\"]],\"type\":\"contour\"}],\"contourcarpet\":[{\"colorbar\":{\"outlinewidth\":0,\"tickcolor\":\"rgb(237,237,237)\",\"ticklen\":6,\"ticks\":\"inside\"},\"type\":\"contourcarpet\"}],\"heatmap\":[{\"colorbar\":{\"outlinewidth\":0,\"tickcolor\":\"rgb(237,237,237)\",\"ticklen\":6,\"ticks\":\"inside\"},\"colorscale\":[[0,\"rgb(20,44,66)\"],[1,\"rgb(90,179,244)\"]],\"type\":\"heatmap\"}],\"heatmapgl\":[{\"colorbar\":{\"outlinewidth\":0,\"tickcolor\":\"rgb(237,237,237)\",\"ticklen\":6,\"ticks\":\"inside\"},\"colorscale\":[[0,\"rgb(20,44,66)\"],[1,\"rgb(90,179,244)\"]],\"type\":\"heatmapgl\"}],\"histogram\":[{\"marker\":{\"pattern\":{\"fillmode\":\"overlay\",\"size\":10,\"solidity\":0.2}},\"type\":\"histogram\"}],\"histogram2d\":[{\"colorbar\":{\"outlinewidth\":0,\"tickcolor\":\"rgb(237,237,237)\",\"ticklen\":6,\"ticks\":\"inside\"},\"colorscale\":[[0,\"rgb(20,44,66)\"],[1,\"rgb(90,179,244)\"]],\"type\":\"histogram2d\"}],\"histogram2dcontour\":[{\"colorbar\":{\"outlinewidth\":0,\"tickcolor\":\"rgb(237,237,237)\",\"ticklen\":6,\"ticks\":\"inside\"},\"colorscale\":[[0,\"rgb(20,44,66)\"],[1,\"rgb(90,179,244)\"]],\"type\":\"histogram2dcontour\"}],\"mesh3d\":[{\"colorbar\":{\"outlinewidth\":0,\"tickcolor\":\"rgb(237,237,237)\",\"ticklen\":6,\"ticks\":\"inside\"},\"type\":\"mesh3d\"}],\"parcoords\":[{\"line\":{\"colorbar\":{\"outlinewidth\":0,\"tickcolor\":\"rgb(237,237,237)\",\"ticklen\":6,\"ticks\":\"inside\"}},\"type\":\"parcoords\"}],\"pie\":[{\"automargin\":true,\"type\":\"pie\"}],\"scatter\":[{\"marker\":{\"colorbar\":{\"outlinewidth\":0,\"tickcolor\":\"rgb(237,237,237)\",\"ticklen\":6,\"ticks\":\"inside\"}},\"type\":\"scatter\"}],\"scatter3d\":[{\"line\":{\"colorbar\":{\"outlinewidth\":0,\"tickcolor\":\"rgb(237,237,237)\",\"ticklen\":6,\"ticks\":\"inside\"}},\"marker\":{\"colorbar\":{\"outlinewidth\":0,\"tickcolor\":\"rgb(237,237,237)\",\"ticklen\":6,\"ticks\":\"inside\"}},\"type\":\"scatter3d\"}],\"scattercarpet\":[{\"marker\":{\"colorbar\":{\"outlinewidth\":0,\"tickcolor\":\"rgb(237,237,237)\",\"ticklen\":6,\"ticks\":\"inside\"}},\"type\":\"scattercarpet\"}],\"scattergeo\":[{\"marker\":{\"colorbar\":{\"outlinewidth\":0,\"tickcolor\":\"rgb(237,237,237)\",\"ticklen\":6,\"ticks\":\"inside\"}},\"type\":\"scattergeo\"}],\"scattergl\":[{\"marker\":{\"colorbar\":{\"outlinewidth\":0,\"tickcolor\":\"rgb(237,237,237)\",\"ticklen\":6,\"ticks\":\"inside\"}},\"type\":\"scattergl\"}],\"scattermapbox\":[{\"marker\":{\"colorbar\":{\"outlinewidth\":0,\"tickcolor\":\"rgb(237,237,237)\",\"ticklen\":6,\"ticks\":\"inside\"}},\"type\":\"scattermapbox\"}],\"scatterpolar\":[{\"marker\":{\"colorbar\":{\"outlinewidth\":0,\"tickcolor\":\"rgb(237,237,237)\",\"ticklen\":6,\"ticks\":\"inside\"}},\"type\":\"scatterpolar\"}],\"scatterpolargl\":[{\"marker\":{\"colorbar\":{\"outlinewidth\":0,\"tickcolor\":\"rgb(237,237,237)\",\"ticklen\":6,\"ticks\":\"inside\"}},\"type\":\"scatterpolargl\"}],\"scatterternary\":[{\"marker\":{\"colorbar\":{\"outlinewidth\":0,\"tickcolor\":\"rgb(237,237,237)\",\"ticklen\":6,\"ticks\":\"inside\"}},\"type\":\"scatterternary\"}],\"surface\":[{\"colorbar\":{\"outlinewidth\":0,\"tickcolor\":\"rgb(237,237,237)\",\"ticklen\":6,\"ticks\":\"inside\"},\"colorscale\":[[0,\"rgb(20,44,66)\"],[1,\"rgb(90,179,244)\"]],\"type\":\"surface\"}],\"table\":[{\"cells\":{\"fill\":{\"color\":\"rgb(237,237,237)\"},\"line\":{\"color\":\"white\"}},\"header\":{\"fill\":{\"color\":\"rgb(217,217,217)\"},\"line\":{\"color\":\"white\"}},\"type\":\"table\"}]},\"layout\":{\"annotationdefaults\":{\"arrowhead\":0,\"arrowwidth\":1},\"autotypenumbers\":\"strict\",\"coloraxis\":{\"colorbar\":{\"outlinewidth\":0,\"tickcolor\":\"rgb(237,237,237)\",\"ticklen\":6,\"ticks\":\"inside\"}},\"colorscale\":{\"sequential\":[[0,\"rgb(20,44,66)\"],[1,\"rgb(90,179,244)\"]],\"sequentialminus\":[[0,\"rgb(20,44,66)\"],[1,\"rgb(90,179,244)\"]]},\"colorway\":[\"#F8766D\",\"#A3A500\",\"#00BF7D\",\"#00B0F6\",\"#E76BF3\"],\"font\":{\"color\":\"rgb(51,51,51)\"},\"geo\":{\"bgcolor\":\"white\",\"lakecolor\":\"white\",\"landcolor\":\"rgb(237,237,237)\",\"showlakes\":true,\"showland\":true,\"subunitcolor\":\"white\"},\"hoverlabel\":{\"align\":\"left\"},\"hovermode\":\"closest\",\"paper_bgcolor\":\"white\",\"plot_bgcolor\":\"rgb(237,237,237)\",\"polar\":{\"angularaxis\":{\"gridcolor\":\"white\",\"linecolor\":\"white\",\"showgrid\":true,\"tickcolor\":\"rgb(51,51,51)\",\"ticks\":\"outside\"},\"bgcolor\":\"rgb(237,237,237)\",\"radialaxis\":{\"gridcolor\":\"white\",\"linecolor\":\"white\",\"showgrid\":true,\"tickcolor\":\"rgb(51,51,51)\",\"ticks\":\"outside\"}},\"scene\":{\"xaxis\":{\"backgroundcolor\":\"rgb(237,237,237)\",\"gridcolor\":\"white\",\"gridwidth\":2,\"linecolor\":\"white\",\"showbackground\":true,\"showgrid\":true,\"tickcolor\":\"rgb(51,51,51)\",\"ticks\":\"outside\",\"zerolinecolor\":\"white\"},\"yaxis\":{\"backgroundcolor\":\"rgb(237,237,237)\",\"gridcolor\":\"white\",\"gridwidth\":2,\"linecolor\":\"white\",\"showbackground\":true,\"showgrid\":true,\"tickcolor\":\"rgb(51,51,51)\",\"ticks\":\"outside\",\"zerolinecolor\":\"white\"},\"zaxis\":{\"backgroundcolor\":\"rgb(237,237,237)\",\"gridcolor\":\"white\",\"gridwidth\":2,\"linecolor\":\"white\",\"showbackground\":true,\"showgrid\":true,\"tickcolor\":\"rgb(51,51,51)\",\"ticks\":\"outside\",\"zerolinecolor\":\"white\"}},\"shapedefaults\":{\"fillcolor\":\"black\",\"line\":{\"width\":0},\"opacity\":0.3},\"ternary\":{\"aaxis\":{\"gridcolor\":\"white\",\"linecolor\":\"white\",\"showgrid\":true,\"tickcolor\":\"rgb(51,51,51)\",\"ticks\":\"outside\"},\"baxis\":{\"gridcolor\":\"white\",\"linecolor\":\"white\",\"showgrid\":true,\"tickcolor\":\"rgb(51,51,51)\",\"ticks\":\"outside\"},\"bgcolor\":\"rgb(237,237,237)\",\"caxis\":{\"gridcolor\":\"white\",\"linecolor\":\"white\",\"showgrid\":true,\"tickcolor\":\"rgb(51,51,51)\",\"ticks\":\"outside\"}},\"xaxis\":{\"automargin\":true,\"gridcolor\":\"white\",\"linecolor\":\"white\",\"showgrid\":true,\"tickcolor\":\"rgb(51,51,51)\",\"ticks\":\"outside\",\"title\":{\"standoff\":15},\"zerolinecolor\":\"white\"},\"yaxis\":{\"automargin\":true,\"gridcolor\":\"white\",\"linecolor\":\"white\",\"showgrid\":true,\"tickcolor\":\"rgb(51,51,51)\",\"ticks\":\"outside\",\"title\":{\"standoff\":15},\"zerolinecolor\":\"white\"}}},\"title\":{\"text\":\"Actual vs. 'Out-of-Sample' Forecast | x\"},\"xaxis\":{\"title\":{\"text\":\"Time\"}},\"yaxis\":{\"title\":{\"text\":\"Values\"}}},                        {\"responsive\": true}                    ).then(function(){\n",
              "                            \n",
              "var gd = document.getElementById('fad16554-0d61-4dca-b8d7-25a71d37749a');\n",
              "var x = new MutationObserver(function (mutations, observer) {{\n",
              "        var display = window.getComputedStyle(gd).display;\n",
              "        if (!display || display === 'none') {{\n",
              "            console.log([gd, 'removed!']);\n",
              "            Plotly.purge(gd);\n",
              "            observer.disconnect();\n",
              "        }}\n",
              "}});\n",
              "\n",
              "// Listen for the removal of the full notebook cells\n",
              "var notebookContainer = gd.closest('#notebook-container');\n",
              "if (notebookContainer) {{\n",
              "    x.observe(notebookContainer, {childList: true});\n",
              "}}\n",
              "\n",
              "// Listen for the clearing of the current output cell\n",
              "var outputEl = gd.closest('.output');\n",
              "if (outputEl) {{\n",
              "    x.observe(outputEl, {childList: true});\n",
              "}}\n",
              "\n",
              "                        })                };                            </script>        </div>\n",
              "</body>\n",
              "</html>"
            ]
          },
          "metadata": {}
        },
        {
          "output_type": "display_data",
          "data": {
            "text/html": [
              "<html>\n",
              "<head><meta charset=\"utf-8\" /></head>\n",
              "<body>\n",
              "    <div>            <script src=\"https://cdnjs.cloudflare.com/ajax/libs/mathjax/2.7.5/MathJax.js?config=TeX-AMS-MML_SVG\"></script><script type=\"text/javascript\">if (window.MathJax) {MathJax.Hub.Config({SVG: {font: \"STIX-Web\"}});}</script>                <script type=\"text/javascript\">window.PlotlyConfig = {MathJaxConfig: 'local'};</script>\n",
              "        <script src=\"https://cdn.plot.ly/plotly-2.4.2.min.js\"></script>                <div id=\"15c05926-afd7-4a98-952b-e5e2d0378392\" class=\"plotly-graph-div\" style=\"height:525px; width:100%;\"></div>            <script type=\"text/javascript\">                                    window.PLOTLYENV=window.PLOTLYENV || {};                                    if (document.getElementById(\"15c05926-afd7-4a98-952b-e5e2d0378392\")) {                    Plotly.newPlot(                        \"15c05926-afd7-4a98-952b-e5e2d0378392\",                        [{\"line\":{\"color\":\"#1f77b4\"},\"marker\":{\"size\":5},\"mode\":\"lines+markers\",\"name\":\"Forecast | ARIMA\",\"showlegend\":true,\"type\":\"scatter\",\"x\":[0,1,2,3,4,5,6,7,8,9,10,11,12,13,14,15,16,17,18,19,20,21,22,23,24,25,26,27,28,29,30,31,32,33,34,35,36,37,38,39,40,41,42,43,44,45,46,47,48,49,50,51,52,53,54,55,56,57,58,59,60,61,62,63,64,65,66,67,68,69,70,71,72,73,74,75,76,77,78,79,80,81,82,83,84,85,86,87,88,89,90,91,92,93,94,95,96,97,98,99,100,101,102,103,104,105,106,107,108,109,110,111,112,113,114,115,116,117,118,119,120,121,122,123,124,125,126,127,128,129,130,131,132,133,134,135,136,137,138,139,140,141,142,143,144,145,146,147,148,149,150,151,152,153,154,155,156,157,158,159,160,161,162,163,164,165,166,167,168,169,170,171,172,173,174,175,176,177,178,179,180,181,182,183,184,185,186,187,188,189,190,191,192,193,194,195,196,197,198,199,200,201,202,203,204,205,206,207,208,209,210,211,212,213,214,215,216,217,218,219,220,221,222,223,224,225,226,227,228,229,230,231,232,233,234,235,236,237,238,239,240,241,242,243,244,245,246,247,248,249,250,251,252,253,254,255,256,257,258,259,260,261,262,263,264,265,266,267,268,269,270,271,272,273,274,275,276,277,278,279,280,281,282,283,284,285,286,287,288,289,290,291,292,293,294,295,296,297,298,299,300,301,302,303,304,305,306,307,308,309],\"y\":[176.0181,176.0181,176.0181,176.0181,176.0181,176.0181,176.0181,176.0181,176.0181,176.0181,176.0181,176.0181,176.0181,176.0181,176.0181,176.0181,176.0181,176.0181,176.0181,176.0181,176.0181,176.0181,176.0181,176.0181,176.0181,176.0181,176.0181,176.0181,176.0181,176.0181,176.0181,176.0181,176.0181,176.0181,176.0181,176.0181,176.0181,176.0181,176.0181,176.0181,176.0181,176.0181,176.0181,176.0181,176.0181,176.0181,176.0181,176.0181,176.0181,176.0181,176.0181,176.0181,176.0181,176.0181,176.0181,176.0181,176.0181,176.0181,176.0181,176.0181,176.0181,176.0181,176.0181,176.0181,176.0181,176.0181,176.0181,176.0181,176.0181,176.0181,176.0181,176.0181,176.0181,176.0181,176.0181,176.0181,176.0181,176.0181,176.0181,176.0181,176.0181,176.0181,176.0181,176.0181,176.0181,176.0181,176.0181,176.0181,176.0181,176.0181,176.0181,176.0181,176.0181,176.0181,176.0181,176.0181,176.0181,176.0181,176.0181,176.0181,176.0181,176.0181,176.0181,176.0181,176.0181,176.0181,176.0181,176.0181,176.0181,176.0181,176.0181,176.0181,176.0181,176.0181,176.0181,176.0181,176.0181,176.0181,176.0181,176.0181,176.0181,176.0181,176.0181,176.0181,176.0181,176.0181,176.0181,176.0181,176.0181,176.0181,176.0181,176.0181,176.0181,176.0181,176.0181,176.0181,176.0181,176.0181,176.0181,176.0181,176.0181,176.0181,176.0181,176.0181,176.0181,176.0181,176.0181,176.0181,176.0181,176.0181,176.0181,176.0181,176.0181,176.0181,176.0181,176.0181,176.0181,176.0181,176.0181,176.0181,176.0181,176.0181,176.0181,176.0181,176.0181,176.0181,176.0181,176.0181,176.0181,176.0181,176.0181,176.0181,176.0181,176.0181,176.0181,176.0181,176.0181,176.0181,176.0181,176.0181,176.0181,176.0181,176.0181,176.0181,176.0181,176.0181,176.0181,176.0181,176.0181,176.0181,176.0181,176.0181,176.0181,176.0181,176.0181,176.0181,176.0181,176.0181,176.0181,176.0181,176.0181,176.0181,176.0181,176.0181,176.0181,176.0181,176.0181,176.0181,176.0181,176.0181,176.0181,176.0181,176.0181,176.0181,176.0181,176.0181,176.0181,176.0181,176.0181,176.0181,176.0181,176.0181,176.0181,176.0181,176.0181,176.0181,176.0181,176.0181,176.0181,176.0181,176.0181,176.0181,176.0181,176.0181,176.0181,176.0181,176.0181,176.0181,176.0181,176.0181,176.0181,176.0181,176.0181,176.0181,176.0181,176.0181,176.0181,176.0181,176.0181,176.0181,176.0181,176.0181,176.0181,176.0181,176.0181,176.0181,176.0181,176.0181,176.0181,176.0181,176.0181,176.0181,176.0181,176.0181,176.0181,176.0181,176.0181,176.0181,176.0181,176.0181,176.0181,176.0181,176.0181,176.0181,176.0181,176.0181,176.0181,176.0181,176.0181,176.0181,176.0181,176.0181,176.0181,176.0181,176.0181,176.0181,176.0181,176.0181,176.0181,176.0181,176.0181,176.0181,176.0181,176.0181,176.0181,176.0181,176.0181,176.0181,176.0181,176.0181,176.0181,176.0181,176.0181,176.0181,176.0181,176.0181,176.0181,176.0181,176.0181,176.0181]},{\"marker\":{\"color\":\"#3f3f3f\",\"size\":5},\"mode\":\"lines+markers\",\"name\":\"Original\",\"showlegend\":true,\"type\":\"scatter\",\"x\":[0,1,2,3,4,5,6,7,8,9,10,11,12,13,14,15,16,17,18,19,20,21,22,23,24,25,26,27,28,29,30,31,32,33,34,35,36,37,38,39,40,41,42,43,44,45,46,47,48,49,50,51,52,53,54,55,56,57,58,59,60,61,62,63,64,65,66,67,68,69,70,71,72,73,74,75,76,77,78,79,80,81,82,83,84,85,86,87,88,89,90,91,92,93,94,95,96,97,98,99,100,101,102,103,104,105,106,107,108,109,110,111,112,113,114,115,116,117,118,119,120,121,122,123,124,125,126,127,128,129,130,131,132,133,134,135,136,137,138,139,140,141,142,143,144,145,146,147,148,149,150,151,152,153,154,155,156,157,158,159,160,161,162,163,164,165,166,167,168,169,170,171,172,173,174,175,176,177,178,179,180,181,182,183,184,185,186,187,188,189,190,191,192,193,194,195,196,197,198,199,200,201,202,203,204,205,206,207,208,209,210,211,212,213,214,215,216,217,218,219,220,221,222,223,224,225,226,227,228,229,230,231,232,233,234,235,236,237,238,239,240,241,242,243,244,245,246,247,248,249,250,251,252,253,254,255,256,257,258,259,260,261,262,263,264,265,266,267,268,269,270,271,272,273,274,275,276,277,278,279,280,281,282,283,284,285,286,287,288,289,290,291,292,293,294,295,296,297,298,299,300,301,302,303,304,305,306,307,308,309,310,311,312,313,314,315,316,317,318,319,320,321,322,323,324,325,326,327,328,329,330,331,332,333,334,335,336,337,338,339],\"y\":[175.379633322776,176.04211587314398,175.089078351448,176.15802877240398,175.34541535608102,177.767287269373,176.716707476017,176.910174229495,176.384185357826,177.68217608051899,175.36426354605098,175.53835526963903,177.43228223854197,175.34930364668998,175.792619256398,175.607192070558,175.680007131452,175.72088669702302,176.494188331268,175.82266951773,175.494042537886,177.34303882516997,175.785420591453,175.820443469957,175.899809258786,176.71266630705102,175.92643559587398,175.962365828533,175.318339521244,175.67572972775397,176.060160440435,175.41110551374,176.53149619263303,174.481605918213,176.30655786078998,174.46355017646198,175.699023873163,175.471720095555,175.347905219319,175.943103222153,174.08564057432,177.176583312019,174.335027563788,175.536469598528,174.884079894957,175.249180998807,178.087166545628,176.017395619693,174.713699469566,174.359394465581,176.450187101273,175.981440167285,175.681931625456,175.070637852546,174.512539689859,174.924807703384,177.000028803714,175.378733305203,174.615573152615,177.86929062242402,176.42510037737202,175.761352899087,177.05848304870898,176.886422651375,175.380756951769,178.20610246453998,175.74497296985902,174.575505349787,175.855600398046,176.20753833923197,178.30797839905898,176.10580236789397,176.456998805423,175.92284706464298,175.66599915763302,175.965273971689,176.78763960563,178.075245008652,177.027392438764,177.207908398387,174.768676578442,176.983895570053,176.219924803661,174.53274997090801,176.521022742648,175.841245395284,177.46458731196998,175.23391800039502,175.56978824607103,175.073890502623,175.82289603856302,176.402011779486,175.26825182688,176.83037316798197,174.791917213696,174.952015587192,177.441157706844,174.98415253469503,176.411974712318,175.618923948891,176.409401839651,177.688873286204,177.586588433442,175.66909219931702,173.714764464708,178.497661589834,176.66706616676498,176.541327335964,175.986600476854,176.51010842295298,175.83562416823003,176.42069464325502,175.59975325602198,174.629792122453,176.98783826745498,177.5197450255,175.691259430774,174.746710244392,176.642241305678,175.955290863106,174.266781593175,176.00213185968002,175.369699666072,175.65903142014,174.84342763736402,177.803141907917,175.66886796360902,174.394486587747,176.19719343873902,176.263175646405,175.014173299591,173.11107932832002,175.359518297435,176.57050763592,175.940276723957,175.90182125599497,176.56082072862,174.81354136142102,177.09677704427398,175.99465597172198,176.707310667398,177.034107734737,176.223480414915,175.12129238713402,177.162964555967,173.999835055215,175.455209259998,175.744329290843,175.833878963235,177.020463908784,176.136221893103,176.407167603424,175.930345186987,175.752335658381,176.69555080662,177.146228357216,173.596903785108,176.57273955524602,176.374724406779,175.57473227844397,176.95101280757703,175.610762818282,175.7156693382,176.85740977807998,177.71962729912102,176.270054900937,175.57781599021197,174.81088670514,175.66896702112098,175.06017067348998,175.74106741688098,176.394379168222,175.148142907976,178.649166881095,176.156011675665,177.13020726745498,173.71087602016001,176.741001157195,174.683754839548,176.919803677609,176.398130155452,175.59247142073002,177.324258630177,175.29876833075298,175.41938569575902,174.99892781897498,175.331821393247,176.945184953373,176.43370214954498,177.005159217677,175.609881335946,176.376370291775,176.244164924486,174.573742657617,177.778429287475,176.134447660934,176.765598999158,176.95513667690898,175.949434298558,175.694184580233,176.89367370242599,174.95270185093898,177.97133738622398,175.616367893712,177.654145302275,177.512212693951,176.082965733586,176.567220914852,174.975451520466,176.32300650302201,177.04361245835602,176.099078486897,175.54586309084598,175.34421814755,175.96407757737703,177.06916146067698,175.51602506969897,175.87898988867298,174.70585999617902,176.494312836015,177.30790152011397,177.497041009403,176.81470273089698,174.13021120979698,176.482029504124,176.45613560330102,175.64659971417,176.17048947094798,175.13596404587298,176.679230774016,175.672898985347,174.430917814856,175.63254924383,177.36443492906997,175.665718635269,176.732750042209,176.94658564019798,176.00439870432598,175.64767769445,175.470304490866,176.739589225575,174.93654258451699,176.246210843536,175.710500633436,173.735110643512,174.591149543927,176.916019328793,175.808721049465,176.803283216134,177.887474463309,177.47388118110902,176.677268492313,176.379962686567,175.807201573543,177.577891794904,176.596234109318,174.82642305912898,175.84435746511002,174.08109017972998,175.804741153889,173.40767233005403,177.314002167198,175.36445699896802,175.570021161306,175.83068166769797,176.612218173989,176.67834017722302,176.567951972472,175.42745739607398,174.636708743722,175.611277755662,176.27791413245097,175.176918878428,175.931159065522,174.83233767387,175.991690985784,176.12885540159698,175.854124371539,175.836089043264,177.763552002785,176.76258651241798,177.11143108073102,175.07679304716999,176.16434183842802,177.154825187097,175.94347857547402,173.870639351765,176.344845762099,174.095044554414,175.18882984686002,177.3240043213,176.61563684930303,177.091668955535,176.30660486151402,175.889841237517,175.07568722687301,177.592913753719,176.045010598122,175.284871599332,176.86522309971699,177.07444095827802,177.895654774199,175.397002696395,175.609132179277,175.58377796847,175.62434257718002,175.633369054298,175.704322547299,177.4418204102,175.302461708087,175.611832494079,176.652536452172,177.124772446535,175.227889196976,175.491913783862,176.523620590498,177.01775422653802,175.748835411912,174.570006552611,177.709121032101,177.43506957231202,175.28962885415,175.934932426344,174.24053126463403,176.569722971819,177.61234679820203,174.362719352895,175.220431486798,175.35882306624902,175.318868606429,173.96671440438203,176.50096355924802,174.468201860034,175.97500236072202,176.592984721025,175.801804578515,176.892008392474,175.974284929082,175.35233954941398,176.64635941503502]}],                        {\"showlegend\":true,\"template\":{\"data\":{\"bar\":[{\"error_x\":{\"color\":\"rgb(51,51,51)\"},\"error_y\":{\"color\":\"rgb(51,51,51)\"},\"marker\":{\"line\":{\"color\":\"rgb(237,237,237)\",\"width\":0.5},\"pattern\":{\"fillmode\":\"overlay\",\"size\":10,\"solidity\":0.2}},\"type\":\"bar\"}],\"barpolar\":[{\"marker\":{\"line\":{\"color\":\"rgb(237,237,237)\",\"width\":0.5},\"pattern\":{\"fillmode\":\"overlay\",\"size\":10,\"solidity\":0.2}},\"type\":\"barpolar\"}],\"carpet\":[{\"aaxis\":{\"endlinecolor\":\"rgb(51,51,51)\",\"gridcolor\":\"white\",\"linecolor\":\"white\",\"minorgridcolor\":\"white\",\"startlinecolor\":\"rgb(51,51,51)\"},\"baxis\":{\"endlinecolor\":\"rgb(51,51,51)\",\"gridcolor\":\"white\",\"linecolor\":\"white\",\"minorgridcolor\":\"white\",\"startlinecolor\":\"rgb(51,51,51)\"},\"type\":\"carpet\"}],\"choropleth\":[{\"colorbar\":{\"outlinewidth\":0,\"tickcolor\":\"rgb(237,237,237)\",\"ticklen\":6,\"ticks\":\"inside\"},\"type\":\"choropleth\"}],\"contour\":[{\"colorbar\":{\"outlinewidth\":0,\"tickcolor\":\"rgb(237,237,237)\",\"ticklen\":6,\"ticks\":\"inside\"},\"colorscale\":[[0,\"rgb(20,44,66)\"],[1,\"rgb(90,179,244)\"]],\"type\":\"contour\"}],\"contourcarpet\":[{\"colorbar\":{\"outlinewidth\":0,\"tickcolor\":\"rgb(237,237,237)\",\"ticklen\":6,\"ticks\":\"inside\"},\"type\":\"contourcarpet\"}],\"heatmap\":[{\"colorbar\":{\"outlinewidth\":0,\"tickcolor\":\"rgb(237,237,237)\",\"ticklen\":6,\"ticks\":\"inside\"},\"colorscale\":[[0,\"rgb(20,44,66)\"],[1,\"rgb(90,179,244)\"]],\"type\":\"heatmap\"}],\"heatmapgl\":[{\"colorbar\":{\"outlinewidth\":0,\"tickcolor\":\"rgb(237,237,237)\",\"ticklen\":6,\"ticks\":\"inside\"},\"colorscale\":[[0,\"rgb(20,44,66)\"],[1,\"rgb(90,179,244)\"]],\"type\":\"heatmapgl\"}],\"histogram\":[{\"marker\":{\"pattern\":{\"fillmode\":\"overlay\",\"size\":10,\"solidity\":0.2}},\"type\":\"histogram\"}],\"histogram2d\":[{\"colorbar\":{\"outlinewidth\":0,\"tickcolor\":\"rgb(237,237,237)\",\"ticklen\":6,\"ticks\":\"inside\"},\"colorscale\":[[0,\"rgb(20,44,66)\"],[1,\"rgb(90,179,244)\"]],\"type\":\"histogram2d\"}],\"histogram2dcontour\":[{\"colorbar\":{\"outlinewidth\":0,\"tickcolor\":\"rgb(237,237,237)\",\"ticklen\":6,\"ticks\":\"inside\"},\"colorscale\":[[0,\"rgb(20,44,66)\"],[1,\"rgb(90,179,244)\"]],\"type\":\"histogram2dcontour\"}],\"mesh3d\":[{\"colorbar\":{\"outlinewidth\":0,\"tickcolor\":\"rgb(237,237,237)\",\"ticklen\":6,\"ticks\":\"inside\"},\"type\":\"mesh3d\"}],\"parcoords\":[{\"line\":{\"colorbar\":{\"outlinewidth\":0,\"tickcolor\":\"rgb(237,237,237)\",\"ticklen\":6,\"ticks\":\"inside\"}},\"type\":\"parcoords\"}],\"pie\":[{\"automargin\":true,\"type\":\"pie\"}],\"scatter\":[{\"marker\":{\"colorbar\":{\"outlinewidth\":0,\"tickcolor\":\"rgb(237,237,237)\",\"ticklen\":6,\"ticks\":\"inside\"}},\"type\":\"scatter\"}],\"scatter3d\":[{\"line\":{\"colorbar\":{\"outlinewidth\":0,\"tickcolor\":\"rgb(237,237,237)\",\"ticklen\":6,\"ticks\":\"inside\"}},\"marker\":{\"colorbar\":{\"outlinewidth\":0,\"tickcolor\":\"rgb(237,237,237)\",\"ticklen\":6,\"ticks\":\"inside\"}},\"type\":\"scatter3d\"}],\"scattercarpet\":[{\"marker\":{\"colorbar\":{\"outlinewidth\":0,\"tickcolor\":\"rgb(237,237,237)\",\"ticklen\":6,\"ticks\":\"inside\"}},\"type\":\"scattercarpet\"}],\"scattergeo\":[{\"marker\":{\"colorbar\":{\"outlinewidth\":0,\"tickcolor\":\"rgb(237,237,237)\",\"ticklen\":6,\"ticks\":\"inside\"}},\"type\":\"scattergeo\"}],\"scattergl\":[{\"marker\":{\"colorbar\":{\"outlinewidth\":0,\"tickcolor\":\"rgb(237,237,237)\",\"ticklen\":6,\"ticks\":\"inside\"}},\"type\":\"scattergl\"}],\"scattermapbox\":[{\"marker\":{\"colorbar\":{\"outlinewidth\":0,\"tickcolor\":\"rgb(237,237,237)\",\"ticklen\":6,\"ticks\":\"inside\"}},\"type\":\"scattermapbox\"}],\"scatterpolar\":[{\"marker\":{\"colorbar\":{\"outlinewidth\":0,\"tickcolor\":\"rgb(237,237,237)\",\"ticklen\":6,\"ticks\":\"inside\"}},\"type\":\"scatterpolar\"}],\"scatterpolargl\":[{\"marker\":{\"colorbar\":{\"outlinewidth\":0,\"tickcolor\":\"rgb(237,237,237)\",\"ticklen\":6,\"ticks\":\"inside\"}},\"type\":\"scatterpolargl\"}],\"scatterternary\":[{\"marker\":{\"colorbar\":{\"outlinewidth\":0,\"tickcolor\":\"rgb(237,237,237)\",\"ticklen\":6,\"ticks\":\"inside\"}},\"type\":\"scatterternary\"}],\"surface\":[{\"colorbar\":{\"outlinewidth\":0,\"tickcolor\":\"rgb(237,237,237)\",\"ticklen\":6,\"ticks\":\"inside\"},\"colorscale\":[[0,\"rgb(20,44,66)\"],[1,\"rgb(90,179,244)\"]],\"type\":\"surface\"}],\"table\":[{\"cells\":{\"fill\":{\"color\":\"rgb(237,237,237)\"},\"line\":{\"color\":\"white\"}},\"header\":{\"fill\":{\"color\":\"rgb(217,217,217)\"},\"line\":{\"color\":\"white\"}},\"type\":\"table\"}]},\"layout\":{\"annotationdefaults\":{\"arrowhead\":0,\"arrowwidth\":1},\"autotypenumbers\":\"strict\",\"coloraxis\":{\"colorbar\":{\"outlinewidth\":0,\"tickcolor\":\"rgb(237,237,237)\",\"ticklen\":6,\"ticks\":\"inside\"}},\"colorscale\":{\"sequential\":[[0,\"rgb(20,44,66)\"],[1,\"rgb(90,179,244)\"]],\"sequentialminus\":[[0,\"rgb(20,44,66)\"],[1,\"rgb(90,179,244)\"]]},\"colorway\":[\"#F8766D\",\"#A3A500\",\"#00BF7D\",\"#00B0F6\",\"#E76BF3\"],\"font\":{\"color\":\"rgb(51,51,51)\"},\"geo\":{\"bgcolor\":\"white\",\"lakecolor\":\"white\",\"landcolor\":\"rgb(237,237,237)\",\"showlakes\":true,\"showland\":true,\"subunitcolor\":\"white\"},\"hoverlabel\":{\"align\":\"left\"},\"hovermode\":\"closest\",\"paper_bgcolor\":\"white\",\"plot_bgcolor\":\"rgb(237,237,237)\",\"polar\":{\"angularaxis\":{\"gridcolor\":\"white\",\"linecolor\":\"white\",\"showgrid\":true,\"tickcolor\":\"rgb(51,51,51)\",\"ticks\":\"outside\"},\"bgcolor\":\"rgb(237,237,237)\",\"radialaxis\":{\"gridcolor\":\"white\",\"linecolor\":\"white\",\"showgrid\":true,\"tickcolor\":\"rgb(51,51,51)\",\"ticks\":\"outside\"}},\"scene\":{\"xaxis\":{\"backgroundcolor\":\"rgb(237,237,237)\",\"gridcolor\":\"white\",\"gridwidth\":2,\"linecolor\":\"white\",\"showbackground\":true,\"showgrid\":true,\"tickcolor\":\"rgb(51,51,51)\",\"ticks\":\"outside\",\"zerolinecolor\":\"white\"},\"yaxis\":{\"backgroundcolor\":\"rgb(237,237,237)\",\"gridcolor\":\"white\",\"gridwidth\":2,\"linecolor\":\"white\",\"showbackground\":true,\"showgrid\":true,\"tickcolor\":\"rgb(51,51,51)\",\"ticks\":\"outside\",\"zerolinecolor\":\"white\"},\"zaxis\":{\"backgroundcolor\":\"rgb(237,237,237)\",\"gridcolor\":\"white\",\"gridwidth\":2,\"linecolor\":\"white\",\"showbackground\":true,\"showgrid\":true,\"tickcolor\":\"rgb(51,51,51)\",\"ticks\":\"outside\",\"zerolinecolor\":\"white\"}},\"shapedefaults\":{\"fillcolor\":\"black\",\"line\":{\"width\":0},\"opacity\":0.3},\"ternary\":{\"aaxis\":{\"gridcolor\":\"white\",\"linecolor\":\"white\",\"showgrid\":true,\"tickcolor\":\"rgb(51,51,51)\",\"ticks\":\"outside\"},\"baxis\":{\"gridcolor\":\"white\",\"linecolor\":\"white\",\"showgrid\":true,\"tickcolor\":\"rgb(51,51,51)\",\"ticks\":\"outside\"},\"bgcolor\":\"rgb(237,237,237)\",\"caxis\":{\"gridcolor\":\"white\",\"linecolor\":\"white\",\"showgrid\":true,\"tickcolor\":\"rgb(51,51,51)\",\"ticks\":\"outside\"}},\"xaxis\":{\"automargin\":true,\"gridcolor\":\"white\",\"linecolor\":\"white\",\"showgrid\":true,\"tickcolor\":\"rgb(51,51,51)\",\"ticks\":\"outside\",\"title\":{\"standoff\":15},\"zerolinecolor\":\"white\"},\"yaxis\":{\"automargin\":true,\"gridcolor\":\"white\",\"linecolor\":\"white\",\"showgrid\":true,\"tickcolor\":\"rgb(51,51,51)\",\"ticks\":\"outside\",\"title\":{\"standoff\":15},\"zerolinecolor\":\"white\"}}},\"title\":{\"text\":\"Actual vs. 'In-Sample' Forecast | x\"},\"xaxis\":{\"title\":{\"text\":\"Time\"}},\"yaxis\":{\"title\":{\"text\":\"Values\"}}},                        {\"responsive\": true}                    ).then(function(){\n",
              "                            \n",
              "var gd = document.getElementById('15c05926-afd7-4a98-952b-e5e2d0378392');\n",
              "var x = new MutationObserver(function (mutations, observer) {{\n",
              "        var display = window.getComputedStyle(gd).display;\n",
              "        if (!display || display === 'none') {{\n",
              "            console.log([gd, 'removed!']);\n",
              "            Plotly.purge(gd);\n",
              "            observer.disconnect();\n",
              "        }}\n",
              "}});\n",
              "\n",
              "// Listen for the removal of the full notebook cells\n",
              "var notebookContainer = gd.closest('#notebook-container');\n",
              "if (notebookContainer) {{\n",
              "    x.observe(notebookContainer, {childList: true});\n",
              "}}\n",
              "\n",
              "// Listen for the clearing of the current output cell\n",
              "var outputEl = gd.closest('.output');\n",
              "if (outputEl) {{\n",
              "    x.observe(outputEl, {childList: true});\n",
              "}}\n",
              "\n",
              "                        })                };                            </script>        </div>\n",
              "</body>\n",
              "</html>"
            ]
          },
          "metadata": {}
        }
      ]
    },
    {
      "cell_type": "markdown",
      "metadata": {
        "id": "mGd35RlDZQCw"
      },
      "source": [
        "**The calculations match exactly with the theoretical calculations.** Hopefully this model has given us a good starting point to understand the inner workings of an ARIMA model. In the next set of FAQ's we will start covering the other parameters one by one and see the impact that they have on the model's behavior."
      ]
    }
  ]
}