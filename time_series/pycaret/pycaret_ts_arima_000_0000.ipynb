{
  "nbformat": 4,
  "nbformat_minor": 0,
  "metadata": {
    "colab": {
      "name": "pycaret_ts_arima_000_0000.ipynb",
      "provenance": [],
      "collapsed_sections": [
        "mIy1nR_4a4o6",
        "WXG1Wm3ubE9I",
        "BBRB3SWobKaN",
        "-yWrHe9TZ7eu",
        "Vi-_SHRUaQj-",
        "huqLAy1nSIhi",
        "hwD-e_MDX9Bw",
        "6KSqI1FWYiIu"
      ],
      "toc_visible": true,
      "authorship_tag": "ABX9TyNcZIP7jm8qi/ZjHHn+3uCT",
      "include_colab_link": true
    },
    "kernelspec": {
      "name": "python3",
      "display_name": "Python 3"
    },
    "language_info": {
      "name": "python"
    },
    "widgets": {
      "application/vnd.jupyter.widget-state+json": {
        "cb943682431843fda21644fd218393ac": {
          "model_module": "@jupyter-widgets/controls",
          "model_name": "IntProgressModel",
          "model_module_version": "1.5.0",
          "state": {
            "_view_name": "ProgressView",
            "style": "IPY_MODEL_d03809f097ab4fa2a0dfa0da8bbb26ab",
            "_dom_classes": [],
            "description": "Processing: ",
            "_model_name": "IntProgressModel",
            "bar_style": "",
            "max": 4,
            "_view_module": "@jupyter-widgets/controls",
            "_model_module_version": "1.5.0",
            "value": 4,
            "_view_count": null,
            "_view_module_version": "1.5.0",
            "orientation": "horizontal",
            "min": 0,
            "description_tooltip": null,
            "_model_module": "@jupyter-widgets/controls",
            "layout": "IPY_MODEL_b6e75dcdfebc421ca0adcedf5808d3f0"
          }
        },
        "d03809f097ab4fa2a0dfa0da8bbb26ab": {
          "model_module": "@jupyter-widgets/controls",
          "model_name": "ProgressStyleModel",
          "model_module_version": "1.5.0",
          "state": {
            "_view_name": "StyleView",
            "_model_name": "ProgressStyleModel",
            "description_width": "",
            "_view_module": "@jupyter-widgets/base",
            "_model_module_version": "1.5.0",
            "_view_count": null,
            "_view_module_version": "1.2.0",
            "bar_color": null,
            "_model_module": "@jupyter-widgets/controls"
          }
        },
        "b6e75dcdfebc421ca0adcedf5808d3f0": {
          "model_module": "@jupyter-widgets/base",
          "model_name": "LayoutModel",
          "model_module_version": "1.2.0",
          "state": {
            "_view_name": "LayoutView",
            "grid_template_rows": null,
            "right": null,
            "justify_content": null,
            "_view_module": "@jupyter-widgets/base",
            "overflow": null,
            "_model_module_version": "1.2.0",
            "_view_count": null,
            "flex_flow": null,
            "width": null,
            "min_width": null,
            "border": null,
            "align_items": null,
            "bottom": null,
            "_model_module": "@jupyter-widgets/base",
            "top": null,
            "grid_column": null,
            "overflow_y": null,
            "overflow_x": null,
            "grid_auto_flow": null,
            "grid_area": null,
            "grid_template_columns": null,
            "flex": null,
            "_model_name": "LayoutModel",
            "justify_items": null,
            "grid_row": null,
            "max_height": null,
            "align_content": null,
            "visibility": null,
            "align_self": null,
            "height": null,
            "min_height": null,
            "padding": null,
            "grid_auto_rows": null,
            "grid_gap": null,
            "max_width": null,
            "order": null,
            "_view_module_version": "1.2.0",
            "grid_template_areas": null,
            "object_position": null,
            "object_fit": null,
            "grid_auto_columns": null,
            "margin": null,
            "display": null,
            "left": null
          }
        }
      }
    }
  },
  "cells": [
    {
      "cell_type": "markdown",
      "metadata": {
        "id": "view-in-github",
        "colab_type": "text"
      },
      "source": [
        "<a href=\"https://colab.research.google.com/github/ngupta23/medium_articles/blob/main/time_series/pycaret/pycaret_ts_arima_000_0000.ipynb\" target=\"_parent\"><img src=\"https://colab.research.google.com/assets/colab-badge.svg\" alt=\"Open In Colab\"/></a>"
      ]
    },
    {
      "cell_type": "markdown",
      "metadata": {
        "id": "mIy1nR_4a4o6"
      },
      "source": [
        "## Install & Import Library"
      ]
    },
    {
      "cell_type": "code",
      "metadata": {
        "id": "GztWpgv-A-WB"
      },
      "source": [
        "!pip install pycaret-ts-alpha"
      ],
      "execution_count": 17,
      "outputs": []
    },
    {
      "cell_type": "code",
      "metadata": {
        "colab": {
          "base_uri": "https://localhost:8080/"
        },
        "id": "oxHdtDM6BBYQ",
        "outputId": "7aa2b1c4-0c5f-4587-cb4d-92abf4b6aa2c"
      },
      "source": [
        "import pandas as pd\n",
        "import seaborn as sns\n",
        "from pycaret.datasets import get_data\n",
        "from pycaret.internal.pycaret_experiment import TimeSeriesExperiment"
      ],
      "execution_count": 2,
      "outputs": [
        {
          "output_type": "stream",
          "name": "stderr",
          "text": [
            "/usr/local/lib/python3.7/dist-packages/distributed/config.py:20: YAMLLoadWarning: calling yaml.load() without Loader=... is deprecated, as the default Loader is unsafe. Please read https://msg.pyyaml.org/load for full details.\n",
            "  defaults = yaml.load(f)\n"
          ]
        }
      ]
    },
    {
      "cell_type": "markdown",
      "metadata": {
        "id": "WXG1Wm3ubE9I"
      },
      "source": [
        "## Get Data and Setup PyCaret Experiment"
      ]
    },
    {
      "cell_type": "code",
      "metadata": {
        "id": "-ml7pgT9BIB4"
      },
      "source": [
        "#### Get data ----\n",
        "y = get_data(\"1\", folder=\"time_series/random_walk\", verbose=False)"
      ],
      "execution_count": 3,
      "outputs": []
    },
    {
      "cell_type": "code",
      "metadata": {
        "colab": {
          "base_uri": "https://localhost:8080/",
          "height": 695
        },
        "id": "PcmSPlr5BS9m",
        "outputId": "9f315ad7-7992-4547-b115-856be578f391"
      },
      "source": [
        "exp = TimeSeriesExperiment()\n",
        "exp.setup(data=y, seasonal_period=1, fh=30, session_id=42)"
      ],
      "execution_count": 4,
      "outputs": [
        {
          "output_type": "display_data",
          "data": {
            "text/html": [
              "<div>\n",
              "<style scoped>\n",
              "    .dataframe tbody tr th:only-of-type {\n",
              "        vertical-align: middle;\n",
              "    }\n",
              "\n",
              "    .dataframe tbody tr th {\n",
              "        vertical-align: top;\n",
              "    }\n",
              "\n",
              "    .dataframe thead th {\n",
              "        text-align: right;\n",
              "    }\n",
              "</style>\n",
              "<table border=\"1\" class=\"dataframe\">\n",
              "  <thead>\n",
              "    <tr style=\"text-align: right;\">\n",
              "      <th></th>\n",
              "      <th>Description</th>\n",
              "      <th>Value</th>\n",
              "    </tr>\n",
              "  </thead>\n",
              "  <tbody>\n",
              "    <tr>\n",
              "      <th>0</th>\n",
              "      <td>session_id</td>\n",
              "      <td>42</td>\n",
              "    </tr>\n",
              "    <tr>\n",
              "      <th>1</th>\n",
              "      <td>Original Data</td>\n",
              "      <td>(340, 1)</td>\n",
              "    </tr>\n",
              "    <tr>\n",
              "      <th>2</th>\n",
              "      <td>Missing Values</td>\n",
              "      <td>False</td>\n",
              "    </tr>\n",
              "    <tr>\n",
              "      <th>3</th>\n",
              "      <td>Transformed Train Set</td>\n",
              "      <td>(310,)</td>\n",
              "    </tr>\n",
              "    <tr>\n",
              "      <th>4</th>\n",
              "      <td>Transformed Test Set</td>\n",
              "      <td>(30,)</td>\n",
              "    </tr>\n",
              "    <tr>\n",
              "      <th>5</th>\n",
              "      <td>Fold Generator</td>\n",
              "      <td>ExpandingWindowSplitter</td>\n",
              "    </tr>\n",
              "    <tr>\n",
              "      <th>6</th>\n",
              "      <td>Fold Number</td>\n",
              "      <td>3</td>\n",
              "    </tr>\n",
              "    <tr>\n",
              "      <th>7</th>\n",
              "      <td>Enforce Prediction Interval</td>\n",
              "      <td>False</td>\n",
              "    </tr>\n",
              "    <tr>\n",
              "      <th>8</th>\n",
              "      <td>Seasonal Period Tested</td>\n",
              "      <td>1</td>\n",
              "    </tr>\n",
              "    <tr>\n",
              "      <th>9</th>\n",
              "      <td>Seasonality Detected</td>\n",
              "      <td>False</td>\n",
              "    </tr>\n",
              "    <tr>\n",
              "      <th>10</th>\n",
              "      <td>Target Strictly Positive</td>\n",
              "      <td>True</td>\n",
              "    </tr>\n",
              "    <tr>\n",
              "      <th>11</th>\n",
              "      <td>Target White Noise</td>\n",
              "      <td>No</td>\n",
              "    </tr>\n",
              "    <tr>\n",
              "      <th>12</th>\n",
              "      <td>Recommended d</td>\n",
              "      <td>1</td>\n",
              "    </tr>\n",
              "    <tr>\n",
              "      <th>13</th>\n",
              "      <td>Recommended Seasonal D</td>\n",
              "      <td>0</td>\n",
              "    </tr>\n",
              "    <tr>\n",
              "      <th>14</th>\n",
              "      <td>CPU Jobs</td>\n",
              "      <td>-1</td>\n",
              "    </tr>\n",
              "    <tr>\n",
              "      <th>15</th>\n",
              "      <td>Use GPU</td>\n",
              "      <td>False</td>\n",
              "    </tr>\n",
              "    <tr>\n",
              "      <th>16</th>\n",
              "      <td>Log Experiment</td>\n",
              "      <td>False</td>\n",
              "    </tr>\n",
              "    <tr>\n",
              "      <th>17</th>\n",
              "      <td>Experiment Name</td>\n",
              "      <td>ts-default-name</td>\n",
              "    </tr>\n",
              "    <tr>\n",
              "      <th>18</th>\n",
              "      <td>USI</td>\n",
              "      <td>6716</td>\n",
              "    </tr>\n",
              "    <tr>\n",
              "      <th>19</th>\n",
              "      <td>Imputation Type</td>\n",
              "      <td>simple</td>\n",
              "    </tr>\n",
              "  </tbody>\n",
              "</table>\n",
              "</div>"
            ],
            "text/plain": [
              "                    Description                    Value\n",
              "0                    session_id                       42\n",
              "1                 Original Data                 (340, 1)\n",
              "2                Missing Values                    False\n",
              "3         Transformed Train Set                   (310,)\n",
              "4          Transformed Test Set                    (30,)\n",
              "5                Fold Generator  ExpandingWindowSplitter\n",
              "6                   Fold Number                        3\n",
              "7   Enforce Prediction Interval                    False\n",
              "8        Seasonal Period Tested                        1\n",
              "9          Seasonality Detected                    False\n",
              "10     Target Strictly Positive                     True\n",
              "11           Target White Noise                       No\n",
              "12                Recommended d                        1\n",
              "13       Recommended Seasonal D                        0\n",
              "14                     CPU Jobs                       -1\n",
              "15                      Use GPU                    False\n",
              "16               Log Experiment                    False\n",
              "17              Experiment Name          ts-default-name\n",
              "18                          USI                     6716\n",
              "19              Imputation Type                   simple"
            ]
          },
          "metadata": {}
        },
        {
          "output_type": "execute_result",
          "data": {
            "text/plain": [
              "<pycaret.internal.pycaret_experiment.time_series_experiment.TimeSeriesExperiment at 0x7fa6a0a4d990>"
            ]
          },
          "metadata": {},
          "execution_count": 4
        }
      ]
    },
    {
      "cell_type": "markdown",
      "metadata": {
        "id": "BBRB3SWobKaN"
      },
      "source": [
        "## EDA"
      ]
    },
    {
      "cell_type": "code",
      "metadata": {
        "colab": {
          "base_uri": "https://localhost:8080/",
          "height": 542
        },
        "id": "YGtgBDxFBWyg",
        "outputId": "e67b9ccf-73f0-4028-efbd-18f1c339bcec"
      },
      "source": [
        "exp.plot_model()"
      ],
      "execution_count": 5,
      "outputs": [
        {
          "output_type": "display_data",
          "data": {
            "text/html": [
              "<html>\n",
              "<head><meta charset=\"utf-8\" /></head>\n",
              "<body>\n",
              "    <div>            <script src=\"https://cdnjs.cloudflare.com/ajax/libs/mathjax/2.7.5/MathJax.js?config=TeX-AMS-MML_SVG\"></script><script type=\"text/javascript\">if (window.MathJax) {MathJax.Hub.Config({SVG: {font: \"STIX-Web\"}});}</script>                <script type=\"text/javascript\">window.PlotlyConfig = {MathJaxConfig: 'local'};</script>\n",
              "        <script src=\"https://cdn.plot.ly/plotly-2.4.2.min.js\"></script>                <div id=\"e881efa1-5527-4d15-9bcf-38a2ab74b60a\" class=\"plotly-graph-div\" style=\"height:525px; width:100%;\"></div>            <script type=\"text/javascript\">                                    window.PLOTLYENV=window.PLOTLYENV || {};                                    if (document.getElementById(\"e881efa1-5527-4d15-9bcf-38a2ab74b60a\")) {                    Plotly.newPlot(                        \"e881efa1-5527-4d15-9bcf-38a2ab74b60a\",                        [{\"marker\":{\"color\":\"#3f3f3f\",\"size\":5},\"mode\":\"lines+markers\",\"name\":\"Time Series\",\"showlegend\":true,\"type\":\"scatter\",\"x\":[0,1,2,3,4,5,6,7,8,9,10,11,12,13,14,15,16,17,18,19,20,21,22,23,24,25,26,27,28,29,30,31,32,33,34,35,36,37,38,39,40,41,42,43,44,45,46,47,48,49,50,51,52,53,54,55,56,57,58,59,60,61,62,63,64,65,66,67,68,69,70,71,72,73,74,75,76,77,78,79,80,81,82,83,84,85,86,87,88,89,90,91,92,93,94,95,96,97,98,99,100,101,102,103,104,105,106,107,108,109,110,111,112,113,114,115,116,117,118,119,120,121,122,123,124,125,126,127,128,129,130,131,132,133,134,135,136,137,138,139,140,141,142,143,144,145,146,147,148,149,150,151,152,153,154,155,156,157,158,159,160,161,162,163,164,165,166,167,168,169,170,171,172,173,174,175,176,177,178,179,180,181,182,183,184,185,186,187,188,189,190,191,192,193,194,195,196,197,198,199,200,201,202,203,204,205,206,207,208,209,210,211,212,213,214,215,216,217,218,219,220,221,222,223,224,225,226,227,228,229,230,231,232,233,234,235,236,237,238,239,240,241,242,243,244,245,246,247,248,249,250,251,252,253,254,255,256,257,258,259,260,261,262,263,264,265,266,267,268,269,270,271,272,273,274,275,276,277,278,279,280,281,282,283,284,285,286,287,288,289,290,291,292,293,294,295,296,297,298,299,300,301,302,303,304,305,306,307,308,309,310,311,312,313,314,315,316,317,318,319,320,321,322,323,324,325,326,327,328,329,330,331,332,333,334,335,336,337,338,339],\"y\":[186.268370014241,186.31048588738602,185.399564238833,185.557593011237,184.903008367318,186.670295636691,187.38700311270802,188.29717734220299,188.68136270003004,190.36353878054902,189.7278023266,189.26615759624,190.698439834781,190.04774348147097,189.840362737869,189.44755480842701,189.127561939879,188.84844863690202,189.34263696817,189.1653064859,188.659349023786,190.002387848956,189.78780844041,189.608251910366,189.508061169153,190.220727476204,190.14716307207803,190.109528900611,189.427868421855,189.10359814960898,189.163758590043,188.574864103783,189.10636029641603,187.58796621462898,187.894524075419,186.358074251881,186.057098125045,185.52881822060002,184.876723439919,184.819826662071,182.905467236391,184.08205054841,182.417078112198,181.953547710726,180.837627605683,180.086808604489,182.173975150118,182.191370769811,180.90507023937698,179.264464704958,179.714651806231,179.69609197351602,179.37802359897202,178.44866145151798,176.961201141377,175.88600884476102,176.886037648475,176.264770953678,174.880344106294,176.749634728717,177.17473510608997,176.936088005177,177.994571053886,178.880993705261,178.26175065702998,180.46785312157,180.21282609142898,178.788331441216,178.643931839262,178.851470178494,181.159448577554,181.265250945448,181.72224975087101,181.645096815514,181.311095973148,181.276369944837,182.064009550467,184.139254559119,185.166646997883,186.37455539626998,185.143231974711,186.12712754476502,186.34705234842602,184.879802319333,185.400825061981,185.24207045726502,186.706657769235,185.940575769631,185.510364015702,184.584254518325,184.407150556888,184.80916233637402,184.077414163255,184.907787331236,183.699704544932,182.65172013212398,184.092877838968,183.07703037366403,183.48900508598098,183.10792903487203,183.517330874523,185.206204160727,186.79279259416901,186.461884793487,184.176649258194,186.674310848028,187.341377014794,187.88270435075802,187.869304827612,188.379413250565,188.21503741879502,188.635732062049,188.23548531807202,186.86527744052398,187.85311570797901,189.372860733479,189.064120164253,187.810830408645,188.45307171432302,188.40836257742902,186.67514417060397,186.677276030285,186.046975696357,185.706007116496,184.54943475386003,186.352576661778,186.021444625386,184.415931213133,184.61312465187302,184.876300298278,183.890473597869,181.00155292619,180.361071223624,180.93157885954497,180.871855583502,180.773676839497,181.334497568117,180.148038929538,181.244815973812,181.23947194553398,181.94678261293203,182.980890347669,183.204370762585,182.32566314971902,183.48862770568599,181.4884627609,180.94367202089902,180.68800131174197,180.521880274977,181.54234418376097,181.678566076864,182.085733680287,182.016078867275,181.76841452565498,182.463965332275,183.610193689491,181.207097474599,181.779837029845,182.154561436623,181.72929371506697,182.680306522644,182.29106934092601,182.00673867912602,182.864148457206,184.58377575632701,184.85383065726398,184.43164664747601,183.242533352617,182.911500373737,181.97167104722698,181.712738464109,182.10711763233002,181.255260540306,183.90442742140098,184.060439097066,185.190646364521,182.90152238468102,183.64252354187698,182.32627838142503,183.246082059034,183.644212214486,183.236683635216,184.56094226539398,183.859710596147,183.279096291906,182.278024110881,181.609845504127,182.5550304575,182.98873260704602,183.99389182472302,183.603773160669,183.980143452444,184.22430837693,182.798051034548,184.576480322023,184.710927982957,185.476526982115,186.431663659024,186.38109795758098,186.075282537814,186.96895624023998,185.921658091179,187.892995477403,187.509363371114,189.163508673389,190.67572136733997,190.758687100926,191.325908015777,190.30135953624298,190.62436603926497,191.667978497622,191.767056984519,191.312920075364,190.657138222914,190.621215800291,191.690377260968,191.206402330667,191.08539221933898,189.791252215519,190.285565051534,191.59346657164798,193.09050758105,193.90521031194803,192.035421521745,192.51745102586898,192.97358662917,192.62018634334,192.790675814288,191.92663986016103,192.60587063417702,192.278769619524,190.70968743438,190.342236678209,191.70667160727902,191.372390242548,192.105140284757,193.05172592495498,193.05612462928102,192.703802323732,192.17410681459802,192.913696040173,191.85023862468998,192.096449468226,191.80695010166198,189.54206074517398,188.133210289101,189.04922961789399,188.857950667358,189.661233883492,191.548708346801,193.02258952791001,193.69985802022302,194.079820706789,193.887022280332,195.464914075237,196.061148184555,194.887571243684,194.731928708793,192.81301888852298,192.61776004241298,190.025432372467,191.339434539665,190.703891538633,190.273912699939,190.104594367637,190.716812541626,191.395152718848,191.96310469132,191.390562087394,190.027270831116,189.638548586778,189.91646271922798,189.093381597656,189.024540663178,187.856878337048,187.848569322832,187.97742472443,187.831549095969,187.66763813923302,189.431190142018,190.193776654436,191.30520773516702,190.382000782337,190.546342620765,191.70116780786202,191.64464638333598,189.515285735101,189.8601314972,187.95517605161498,187.144005898475,188.46801021977402,189.083647069077,190.17531602461202,190.48192088612598,190.371762123643,189.44744935051602,191.040363104235,191.08537370235697,190.37024530168898,191.235468401406,192.30990935968399,194.20556413388303,193.602566830277,193.211699009554,192.795476978024,192.41981955520401,192.053188609501,191.7575111568,193.199331567,192.501793275087,192.113625769166,192.76616222133703,193.890934667873,193.11882386484902,192.61073764871003,193.13435823920798,194.152112465746,193.900947877658,192.47095443027,194.18007546237098,195.615145034682,194.904773888832,194.839706315177,193.08023757981098,193.64996055163002,195.262307349832,193.625026702727,192.845458189525,192.204281255775,191.523149862204,189.489864266586,189.990827825834,188.459029685868,188.43403204659,189.027016767615,188.82882134612998,189.720829738604,189.695114667686,189.04745421709998,189.693813632135]}],                        {\"showlegend\":true,\"template\":{\"data\":{\"bar\":[{\"error_x\":{\"color\":\"rgb(51,51,51)\"},\"error_y\":{\"color\":\"rgb(51,51,51)\"},\"marker\":{\"line\":{\"color\":\"rgb(237,237,237)\",\"width\":0.5},\"pattern\":{\"fillmode\":\"overlay\",\"size\":10,\"solidity\":0.2}},\"type\":\"bar\"}],\"barpolar\":[{\"marker\":{\"line\":{\"color\":\"rgb(237,237,237)\",\"width\":0.5},\"pattern\":{\"fillmode\":\"overlay\",\"size\":10,\"solidity\":0.2}},\"type\":\"barpolar\"}],\"carpet\":[{\"aaxis\":{\"endlinecolor\":\"rgb(51,51,51)\",\"gridcolor\":\"white\",\"linecolor\":\"white\",\"minorgridcolor\":\"white\",\"startlinecolor\":\"rgb(51,51,51)\"},\"baxis\":{\"endlinecolor\":\"rgb(51,51,51)\",\"gridcolor\":\"white\",\"linecolor\":\"white\",\"minorgridcolor\":\"white\",\"startlinecolor\":\"rgb(51,51,51)\"},\"type\":\"carpet\"}],\"choropleth\":[{\"colorbar\":{\"outlinewidth\":0,\"tickcolor\":\"rgb(237,237,237)\",\"ticklen\":6,\"ticks\":\"inside\"},\"type\":\"choropleth\"}],\"contour\":[{\"colorbar\":{\"outlinewidth\":0,\"tickcolor\":\"rgb(237,237,237)\",\"ticklen\":6,\"ticks\":\"inside\"},\"colorscale\":[[0,\"rgb(20,44,66)\"],[1,\"rgb(90,179,244)\"]],\"type\":\"contour\"}],\"contourcarpet\":[{\"colorbar\":{\"outlinewidth\":0,\"tickcolor\":\"rgb(237,237,237)\",\"ticklen\":6,\"ticks\":\"inside\"},\"type\":\"contourcarpet\"}],\"heatmap\":[{\"colorbar\":{\"outlinewidth\":0,\"tickcolor\":\"rgb(237,237,237)\",\"ticklen\":6,\"ticks\":\"inside\"},\"colorscale\":[[0,\"rgb(20,44,66)\"],[1,\"rgb(90,179,244)\"]],\"type\":\"heatmap\"}],\"heatmapgl\":[{\"colorbar\":{\"outlinewidth\":0,\"tickcolor\":\"rgb(237,237,237)\",\"ticklen\":6,\"ticks\":\"inside\"},\"colorscale\":[[0,\"rgb(20,44,66)\"],[1,\"rgb(90,179,244)\"]],\"type\":\"heatmapgl\"}],\"histogram\":[{\"marker\":{\"pattern\":{\"fillmode\":\"overlay\",\"size\":10,\"solidity\":0.2}},\"type\":\"histogram\"}],\"histogram2d\":[{\"colorbar\":{\"outlinewidth\":0,\"tickcolor\":\"rgb(237,237,237)\",\"ticklen\":6,\"ticks\":\"inside\"},\"colorscale\":[[0,\"rgb(20,44,66)\"],[1,\"rgb(90,179,244)\"]],\"type\":\"histogram2d\"}],\"histogram2dcontour\":[{\"colorbar\":{\"outlinewidth\":0,\"tickcolor\":\"rgb(237,237,237)\",\"ticklen\":6,\"ticks\":\"inside\"},\"colorscale\":[[0,\"rgb(20,44,66)\"],[1,\"rgb(90,179,244)\"]],\"type\":\"histogram2dcontour\"}],\"mesh3d\":[{\"colorbar\":{\"outlinewidth\":0,\"tickcolor\":\"rgb(237,237,237)\",\"ticklen\":6,\"ticks\":\"inside\"},\"type\":\"mesh3d\"}],\"parcoords\":[{\"line\":{\"colorbar\":{\"outlinewidth\":0,\"tickcolor\":\"rgb(237,237,237)\",\"ticklen\":6,\"ticks\":\"inside\"}},\"type\":\"parcoords\"}],\"pie\":[{\"automargin\":true,\"type\":\"pie\"}],\"scatter\":[{\"marker\":{\"colorbar\":{\"outlinewidth\":0,\"tickcolor\":\"rgb(237,237,237)\",\"ticklen\":6,\"ticks\":\"inside\"}},\"type\":\"scatter\"}],\"scatter3d\":[{\"line\":{\"colorbar\":{\"outlinewidth\":0,\"tickcolor\":\"rgb(237,237,237)\",\"ticklen\":6,\"ticks\":\"inside\"}},\"marker\":{\"colorbar\":{\"outlinewidth\":0,\"tickcolor\":\"rgb(237,237,237)\",\"ticklen\":6,\"ticks\":\"inside\"}},\"type\":\"scatter3d\"}],\"scattercarpet\":[{\"marker\":{\"colorbar\":{\"outlinewidth\":0,\"tickcolor\":\"rgb(237,237,237)\",\"ticklen\":6,\"ticks\":\"inside\"}},\"type\":\"scattercarpet\"}],\"scattergeo\":[{\"marker\":{\"colorbar\":{\"outlinewidth\":0,\"tickcolor\":\"rgb(237,237,237)\",\"ticklen\":6,\"ticks\":\"inside\"}},\"type\":\"scattergeo\"}],\"scattergl\":[{\"marker\":{\"colorbar\":{\"outlinewidth\":0,\"tickcolor\":\"rgb(237,237,237)\",\"ticklen\":6,\"ticks\":\"inside\"}},\"type\":\"scattergl\"}],\"scattermapbox\":[{\"marker\":{\"colorbar\":{\"outlinewidth\":0,\"tickcolor\":\"rgb(237,237,237)\",\"ticklen\":6,\"ticks\":\"inside\"}},\"type\":\"scattermapbox\"}],\"scatterpolar\":[{\"marker\":{\"colorbar\":{\"outlinewidth\":0,\"tickcolor\":\"rgb(237,237,237)\",\"ticklen\":6,\"ticks\":\"inside\"}},\"type\":\"scatterpolar\"}],\"scatterpolargl\":[{\"marker\":{\"colorbar\":{\"outlinewidth\":0,\"tickcolor\":\"rgb(237,237,237)\",\"ticklen\":6,\"ticks\":\"inside\"}},\"type\":\"scatterpolargl\"}],\"scatterternary\":[{\"marker\":{\"colorbar\":{\"outlinewidth\":0,\"tickcolor\":\"rgb(237,237,237)\",\"ticklen\":6,\"ticks\":\"inside\"}},\"type\":\"scatterternary\"}],\"surface\":[{\"colorbar\":{\"outlinewidth\":0,\"tickcolor\":\"rgb(237,237,237)\",\"ticklen\":6,\"ticks\":\"inside\"},\"colorscale\":[[0,\"rgb(20,44,66)\"],[1,\"rgb(90,179,244)\"]],\"type\":\"surface\"}],\"table\":[{\"cells\":{\"fill\":{\"color\":\"rgb(237,237,237)\"},\"line\":{\"color\":\"white\"}},\"header\":{\"fill\":{\"color\":\"rgb(217,217,217)\"},\"line\":{\"color\":\"white\"}},\"type\":\"table\"}]},\"layout\":{\"annotationdefaults\":{\"arrowhead\":0,\"arrowwidth\":1},\"autotypenumbers\":\"strict\",\"coloraxis\":{\"colorbar\":{\"outlinewidth\":0,\"tickcolor\":\"rgb(237,237,237)\",\"ticklen\":6,\"ticks\":\"inside\"}},\"colorscale\":{\"sequential\":[[0,\"rgb(20,44,66)\"],[1,\"rgb(90,179,244)\"]],\"sequentialminus\":[[0,\"rgb(20,44,66)\"],[1,\"rgb(90,179,244)\"]]},\"colorway\":[\"#F8766D\",\"#A3A500\",\"#00BF7D\",\"#00B0F6\",\"#E76BF3\"],\"font\":{\"color\":\"rgb(51,51,51)\"},\"geo\":{\"bgcolor\":\"white\",\"lakecolor\":\"white\",\"landcolor\":\"rgb(237,237,237)\",\"showlakes\":true,\"showland\":true,\"subunitcolor\":\"white\"},\"hoverlabel\":{\"align\":\"left\"},\"hovermode\":\"closest\",\"paper_bgcolor\":\"white\",\"plot_bgcolor\":\"rgb(237,237,237)\",\"polar\":{\"angularaxis\":{\"gridcolor\":\"white\",\"linecolor\":\"white\",\"showgrid\":true,\"tickcolor\":\"rgb(51,51,51)\",\"ticks\":\"outside\"},\"bgcolor\":\"rgb(237,237,237)\",\"radialaxis\":{\"gridcolor\":\"white\",\"linecolor\":\"white\",\"showgrid\":true,\"tickcolor\":\"rgb(51,51,51)\",\"ticks\":\"outside\"}},\"scene\":{\"xaxis\":{\"backgroundcolor\":\"rgb(237,237,237)\",\"gridcolor\":\"white\",\"gridwidth\":2,\"linecolor\":\"white\",\"showbackground\":true,\"showgrid\":true,\"tickcolor\":\"rgb(51,51,51)\",\"ticks\":\"outside\",\"zerolinecolor\":\"white\"},\"yaxis\":{\"backgroundcolor\":\"rgb(237,237,237)\",\"gridcolor\":\"white\",\"gridwidth\":2,\"linecolor\":\"white\",\"showbackground\":true,\"showgrid\":true,\"tickcolor\":\"rgb(51,51,51)\",\"ticks\":\"outside\",\"zerolinecolor\":\"white\"},\"zaxis\":{\"backgroundcolor\":\"rgb(237,237,237)\",\"gridcolor\":\"white\",\"gridwidth\":2,\"linecolor\":\"white\",\"showbackground\":true,\"showgrid\":true,\"tickcolor\":\"rgb(51,51,51)\",\"ticks\":\"outside\",\"zerolinecolor\":\"white\"}},\"shapedefaults\":{\"fillcolor\":\"black\",\"line\":{\"width\":0},\"opacity\":0.3},\"ternary\":{\"aaxis\":{\"gridcolor\":\"white\",\"linecolor\":\"white\",\"showgrid\":true,\"tickcolor\":\"rgb(51,51,51)\",\"ticks\":\"outside\"},\"baxis\":{\"gridcolor\":\"white\",\"linecolor\":\"white\",\"showgrid\":true,\"tickcolor\":\"rgb(51,51,51)\",\"ticks\":\"outside\"},\"bgcolor\":\"rgb(237,237,237)\",\"caxis\":{\"gridcolor\":\"white\",\"linecolor\":\"white\",\"showgrid\":true,\"tickcolor\":\"rgb(51,51,51)\",\"ticks\":\"outside\"}},\"xaxis\":{\"automargin\":true,\"gridcolor\":\"white\",\"linecolor\":\"white\",\"showgrid\":true,\"tickcolor\":\"rgb(51,51,51)\",\"ticks\":\"outside\",\"title\":{\"standoff\":15},\"zerolinecolor\":\"white\"},\"yaxis\":{\"automargin\":true,\"gridcolor\":\"white\",\"linecolor\":\"white\",\"showgrid\":true,\"tickcolor\":\"rgb(51,51,51)\",\"ticks\":\"outside\",\"title\":{\"standoff\":15},\"zerolinecolor\":\"white\"}}},\"title\":{\"text\":\"Time Series | x\"},\"xaxis\":{\"title\":{\"text\":\"Time\"}},\"yaxis\":{\"title\":{\"text\":\"Values\"}}},                        {\"responsive\": true}                    ).then(function(){\n",
              "                            \n",
              "var gd = document.getElementById('e881efa1-5527-4d15-9bcf-38a2ab74b60a');\n",
              "var x = new MutationObserver(function (mutations, observer) {{\n",
              "        var display = window.getComputedStyle(gd).display;\n",
              "        if (!display || display === 'none') {{\n",
              "            console.log([gd, 'removed!']);\n",
              "            Plotly.purge(gd);\n",
              "            observer.disconnect();\n",
              "        }}\n",
              "}});\n",
              "\n",
              "// Listen for the removal of the full notebook cells\n",
              "var notebookContainer = gd.closest('#notebook-container');\n",
              "if (notebookContainer) {{\n",
              "    x.observe(notebookContainer, {childList: true});\n",
              "}}\n",
              "\n",
              "// Listen for the clearing of the current output cell\n",
              "var outputEl = gd.closest('.output');\n",
              "if (outputEl) {{\n",
              "    x.observe(outputEl, {childList: true});\n",
              "}}\n",
              "\n",
              "                        })                };                            </script>        </div>\n",
              "</body>\n",
              "</html>"
            ]
          },
          "metadata": {}
        }
      ]
    },
    {
      "cell_type": "code",
      "metadata": {
        "colab": {
          "base_uri": "https://localhost:8080/",
          "height": 1000
        },
        "id": "AyFD4VcLBnm9",
        "outputId": "512aa705-fa87-46ad-a11a-90a94c7a8c45"
      },
      "source": [
        "exp.plot_model(plot=\"acf\")\n",
        "exp.plot_model(plot=\"pacf\")"
      ],
      "execution_count": 6,
      "outputs": [
        {
          "output_type": "display_data",
          "data": {
            "text/html": [
              "<html>\n",
              "<head><meta charset=\"utf-8\" /></head>\n",
              "<body>\n",
              "    <div>            <script src=\"https://cdnjs.cloudflare.com/ajax/libs/mathjax/2.7.5/MathJax.js?config=TeX-AMS-MML_SVG\"></script><script type=\"text/javascript\">if (window.MathJax) {MathJax.Hub.Config({SVG: {font: \"STIX-Web\"}});}</script>                <script type=\"text/javascript\">window.PlotlyConfig = {MathJaxConfig: 'local'};</script>\n",
              "        <script src=\"https://cdn.plot.ly/plotly-2.4.2.min.js\"></script>                <div id=\"33df050f-fccc-4802-abb8-4aed246e74a8\" class=\"plotly-graph-div\" style=\"height:525px; width:100%;\"></div>            <script type=\"text/javascript\">                                    window.PLOTLYENV=window.PLOTLYENV || {};                                    if (document.getElementById(\"33df050f-fccc-4802-abb8-4aed246e74a8\")) {                    Plotly.newPlot(                        \"33df050f-fccc-4802-abb8-4aed246e74a8\",                        [{\"marker\":{\"color\":\"#1f77b4\",\"size\":10},\"mode\":\"markers\",\"name\":\"ACF\",\"showlegend\":false,\"type\":\"scatter\",\"x\":[0,1,2,3,4,5,6,7,8,9,10,11,12,13,14,15,16,17,18,19,20,21,22,23,24,25,26,27,28,29,30,31,32,33,34,35,36,37,38,39,40],\"y\":[1.0,0.9760738123639786,0.9550197685198596,0.9339807044210725,0.9125829441425408,0.891011106424407,0.8673166813277078,0.8464185607526664,0.8256599634508985,0.8083953070452141,0.7862799424412148,0.7656397248321665,0.7463906631407391,0.7288577260129966,0.7101508772430196,0.6859521165532124,0.6595753292927652,0.6286492044389367,0.5984657227180906,0.5705392782024733,0.5421447963033574,0.5143188706749346,0.4915629125762743,0.472410553108233,0.45462326641382017,0.4377651279412417,0.41806682210020807,0.40133487917459376,0.38644822276460544,0.3728657590135482,0.35733754609186286,0.3417498437254146,0.32584182518512755,0.31052349009260205,0.29388072877440186,0.2822430731543513,0.26943087204023997,0.25958224693332166,0.2511105455002192,0.24373647182139696,0.2381766777624215]},{\"line\":{\"color\":\"#3f3f3f\"},\"mode\":\"lines\",\"name\":\"Lag1\",\"showlegend\":false,\"type\":\"scatter\",\"x\":[0,0],\"y\":[0,1.0]},{\"line\":{\"color\":\"#3f3f3f\"},\"mode\":\"lines\",\"name\":\"Lag2\",\"showlegend\":false,\"type\":\"scatter\",\"x\":[1,1],\"y\":[0,0.9760738123639786]},{\"line\":{\"color\":\"#3f3f3f\"},\"mode\":\"lines\",\"name\":\"Lag3\",\"showlegend\":false,\"type\":\"scatter\",\"x\":[2,2],\"y\":[0,0.9550197685198596]},{\"line\":{\"color\":\"#3f3f3f\"},\"mode\":\"lines\",\"name\":\"Lag4\",\"showlegend\":false,\"type\":\"scatter\",\"x\":[3,3],\"y\":[0,0.9339807044210725]},{\"line\":{\"color\":\"#3f3f3f\"},\"mode\":\"lines\",\"name\":\"Lag5\",\"showlegend\":false,\"type\":\"scatter\",\"x\":[4,4],\"y\":[0,0.9125829441425408]},{\"line\":{\"color\":\"#3f3f3f\"},\"mode\":\"lines\",\"name\":\"Lag6\",\"showlegend\":false,\"type\":\"scatter\",\"x\":[5,5],\"y\":[0,0.891011106424407]},{\"line\":{\"color\":\"#3f3f3f\"},\"mode\":\"lines\",\"name\":\"Lag7\",\"showlegend\":false,\"type\":\"scatter\",\"x\":[6,6],\"y\":[0,0.8673166813277078]},{\"line\":{\"color\":\"#3f3f3f\"},\"mode\":\"lines\",\"name\":\"Lag8\",\"showlegend\":false,\"type\":\"scatter\",\"x\":[7,7],\"y\":[0,0.8464185607526664]},{\"line\":{\"color\":\"#3f3f3f\"},\"mode\":\"lines\",\"name\":\"Lag9\",\"showlegend\":false,\"type\":\"scatter\",\"x\":[8,8],\"y\":[0,0.8256599634508985]},{\"line\":{\"color\":\"#3f3f3f\"},\"mode\":\"lines\",\"name\":\"Lag10\",\"showlegend\":false,\"type\":\"scatter\",\"x\":[9,9],\"y\":[0,0.8083953070452141]},{\"line\":{\"color\":\"#3f3f3f\"},\"mode\":\"lines\",\"name\":\"Lag11\",\"showlegend\":false,\"type\":\"scatter\",\"x\":[10,10],\"y\":[0,0.7862799424412148]},{\"line\":{\"color\":\"#3f3f3f\"},\"mode\":\"lines\",\"name\":\"Lag12\",\"showlegend\":false,\"type\":\"scatter\",\"x\":[11,11],\"y\":[0,0.7656397248321665]},{\"line\":{\"color\":\"#3f3f3f\"},\"mode\":\"lines\",\"name\":\"Lag13\",\"showlegend\":false,\"type\":\"scatter\",\"x\":[12,12],\"y\":[0,0.7463906631407391]},{\"line\":{\"color\":\"#3f3f3f\"},\"mode\":\"lines\",\"name\":\"Lag14\",\"showlegend\":false,\"type\":\"scatter\",\"x\":[13,13],\"y\":[0,0.7288577260129966]},{\"line\":{\"color\":\"#3f3f3f\"},\"mode\":\"lines\",\"name\":\"Lag15\",\"showlegend\":false,\"type\":\"scatter\",\"x\":[14,14],\"y\":[0,0.7101508772430196]},{\"line\":{\"color\":\"#3f3f3f\"},\"mode\":\"lines\",\"name\":\"Lag16\",\"showlegend\":false,\"type\":\"scatter\",\"x\":[15,15],\"y\":[0,0.6859521165532124]},{\"line\":{\"color\":\"#3f3f3f\"},\"mode\":\"lines\",\"name\":\"Lag17\",\"showlegend\":false,\"type\":\"scatter\",\"x\":[16,16],\"y\":[0,0.6595753292927652]},{\"line\":{\"color\":\"#3f3f3f\"},\"mode\":\"lines\",\"name\":\"Lag18\",\"showlegend\":false,\"type\":\"scatter\",\"x\":[17,17],\"y\":[0,0.6286492044389367]},{\"line\":{\"color\":\"#3f3f3f\"},\"mode\":\"lines\",\"name\":\"Lag19\",\"showlegend\":false,\"type\":\"scatter\",\"x\":[18,18],\"y\":[0,0.5984657227180906]},{\"line\":{\"color\":\"#3f3f3f\"},\"mode\":\"lines\",\"name\":\"Lag20\",\"showlegend\":false,\"type\":\"scatter\",\"x\":[19,19],\"y\":[0,0.5705392782024733]},{\"line\":{\"color\":\"#3f3f3f\"},\"mode\":\"lines\",\"name\":\"Lag21\",\"showlegend\":false,\"type\":\"scatter\",\"x\":[20,20],\"y\":[0,0.5421447963033574]},{\"line\":{\"color\":\"#3f3f3f\"},\"mode\":\"lines\",\"name\":\"Lag22\",\"showlegend\":false,\"type\":\"scatter\",\"x\":[21,21],\"y\":[0,0.5143188706749346]},{\"line\":{\"color\":\"#3f3f3f\"},\"mode\":\"lines\",\"name\":\"Lag23\",\"showlegend\":false,\"type\":\"scatter\",\"x\":[22,22],\"y\":[0,0.4915629125762743]},{\"line\":{\"color\":\"#3f3f3f\"},\"mode\":\"lines\",\"name\":\"Lag24\",\"showlegend\":false,\"type\":\"scatter\",\"x\":[23,23],\"y\":[0,0.472410553108233]},{\"line\":{\"color\":\"#3f3f3f\"},\"mode\":\"lines\",\"name\":\"Lag25\",\"showlegend\":false,\"type\":\"scatter\",\"x\":[24,24],\"y\":[0,0.45462326641382017]},{\"line\":{\"color\":\"#3f3f3f\"},\"mode\":\"lines\",\"name\":\"Lag26\",\"showlegend\":false,\"type\":\"scatter\",\"x\":[25,25],\"y\":[0,0.4377651279412417]},{\"line\":{\"color\":\"#3f3f3f\"},\"mode\":\"lines\",\"name\":\"Lag27\",\"showlegend\":false,\"type\":\"scatter\",\"x\":[26,26],\"y\":[0,0.41806682210020807]},{\"line\":{\"color\":\"#3f3f3f\"},\"mode\":\"lines\",\"name\":\"Lag28\",\"showlegend\":false,\"type\":\"scatter\",\"x\":[27,27],\"y\":[0,0.40133487917459376]},{\"line\":{\"color\":\"#3f3f3f\"},\"mode\":\"lines\",\"name\":\"Lag29\",\"showlegend\":false,\"type\":\"scatter\",\"x\":[28,28],\"y\":[0,0.38644822276460544]},{\"line\":{\"color\":\"#3f3f3f\"},\"mode\":\"lines\",\"name\":\"Lag30\",\"showlegend\":false,\"type\":\"scatter\",\"x\":[29,29],\"y\":[0,0.3728657590135482]},{\"line\":{\"color\":\"#3f3f3f\"},\"mode\":\"lines\",\"name\":\"Lag31\",\"showlegend\":false,\"type\":\"scatter\",\"x\":[30,30],\"y\":[0,0.35733754609186286]},{\"line\":{\"color\":\"#3f3f3f\"},\"mode\":\"lines\",\"name\":\"Lag32\",\"showlegend\":false,\"type\":\"scatter\",\"x\":[31,31],\"y\":[0,0.3417498437254146]},{\"line\":{\"color\":\"#3f3f3f\"},\"mode\":\"lines\",\"name\":\"Lag33\",\"showlegend\":false,\"type\":\"scatter\",\"x\":[32,32],\"y\":[0,0.32584182518512755]},{\"line\":{\"color\":\"#3f3f3f\"},\"mode\":\"lines\",\"name\":\"Lag34\",\"showlegend\":false,\"type\":\"scatter\",\"x\":[33,33],\"y\":[0,0.31052349009260205]},{\"line\":{\"color\":\"#3f3f3f\"},\"mode\":\"lines\",\"name\":\"Lag35\",\"showlegend\":false,\"type\":\"scatter\",\"x\":[34,34],\"y\":[0,0.29388072877440186]},{\"line\":{\"color\":\"#3f3f3f\"},\"mode\":\"lines\",\"name\":\"Lag36\",\"showlegend\":false,\"type\":\"scatter\",\"x\":[35,35],\"y\":[0,0.2822430731543513]},{\"line\":{\"color\":\"#3f3f3f\"},\"mode\":\"lines\",\"name\":\"Lag37\",\"showlegend\":false,\"type\":\"scatter\",\"x\":[36,36],\"y\":[0,0.26943087204023997]},{\"line\":{\"color\":\"#3f3f3f\"},\"mode\":\"lines\",\"name\":\"Lag38\",\"showlegend\":false,\"type\":\"scatter\",\"x\":[37,37],\"y\":[0,0.25958224693332166]},{\"line\":{\"color\":\"#3f3f3f\"},\"mode\":\"lines\",\"name\":\"Lag39\",\"showlegend\":false,\"type\":\"scatter\",\"x\":[38,38],\"y\":[0,0.2511105455002192]},{\"line\":{\"color\":\"#3f3f3f\"},\"mode\":\"lines\",\"name\":\"Lag40\",\"showlegend\":false,\"type\":\"scatter\",\"x\":[39,39],\"y\":[0,0.24373647182139696]},{\"line\":{\"color\":\"#3f3f3f\"},\"mode\":\"lines\",\"name\":\"Lag41\",\"showlegend\":false,\"type\":\"scatter\",\"x\":[40,40],\"y\":[0,0.2381766777624215]},{\"line\":{\"color\":\"rgba(255,255,255,0)\"},\"mode\":\"lines\",\"name\":\"UC\",\"showlegend\":false,\"type\":\"scatter\",\"x\":[0,1,2,3,4,5,6,7,8,9,10,11,12,13,14,15,16,17,18,19,20,21,22,23,24,25,26,27,28,29,30,31,32,33,34,35,36,37,38,39,40],\"y\":[0.0,0.10629397111858785,0.18118181302229375,0.23116350109655037,0.2704592729044122,0.30326064626063476,0.33152171897867877,0.3562370550274947,0.378277344935545,0.3981184803513398,0.41625162006688843,0.432707268315216,0.44775208383674636,0.4615957029745593,0.474420468453121,0.48628250833883657,0.49709472431994917,0.5068862548319273,0.5156199503879287,0.5234092439626329,0.5303893296009354,0.536613938913082,0.542154883317439,0.5471673225602642,0.5517563316761447,0.5559724920311186,0.5598533982893101,0.5633695911135612,0.566590644405164,0.5695608986604517,0.5723121763995997,0.5748274676103021,0.577118503011463,0.5791933493700405,0.5810712781849058,0.5827481654571398,0.5842906064559854,0.5856926526620212,0.5869910760692667,0.5882035359358,0.5893435495015766]},{\"fill\":\"tonexty\",\"fillcolor\":\"rgba(32, 146, 230,0.3)\",\"line\":{\"color\":\"rgba(255,255,255,0)\"},\"mode\":\"lines\",\"name\":\"LC\",\"showlegend\":false,\"type\":\"scatter\",\"x\":[0,1,2,3,4,5,6,7,8,9,10,11,12,13,14,15,16,17,18,19,20,21,22,23,24,25,26,27,28,29,30,31,32,33,34,35,36,37,38,39,40],\"y\":[0.0,-0.10629397111858785,-0.18118181302229375,-0.23116350109655037,-0.2704592729044122,-0.30326064626063476,-0.33152171897867877,-0.3562370550274947,-0.37827734493554493,-0.3981184803513398,-0.4162516200668885,-0.4327072683152159,-0.4477520838367463,-0.46159570297455926,-0.47442046845312097,-0.4862825083388366,-0.49709472431994906,-0.5068862548319272,-0.5156199503879287,-0.5234092439626329,-0.5303893296009354,-0.5366139389130818,-0.5421548833174391,-0.5471673225602641,-0.5517563316761446,-0.5559724920311186,-0.5598533982893101,-0.5633695911135612,-0.566590644405164,-0.5695608986604518,-0.5723121763995997,-0.5748274676103021,-0.577118503011463,-0.5791933493700405,-0.5810712781849058,-0.5827481654571398,-0.5842906064559854,-0.5856926526620212,-0.5869910760692667,-0.5882035359358001,-0.5893435495015766]},{\"line\":{\"color\":\"#3f3f3f\"},\"mode\":\"lines\",\"name\":\"\",\"showlegend\":false,\"type\":\"scatter\",\"x\":[0,41],\"y\":[0,0]}],                        {\"template\":{\"data\":{\"bar\":[{\"error_x\":{\"color\":\"rgb(51,51,51)\"},\"error_y\":{\"color\":\"rgb(51,51,51)\"},\"marker\":{\"line\":{\"color\":\"rgb(237,237,237)\",\"width\":0.5},\"pattern\":{\"fillmode\":\"overlay\",\"size\":10,\"solidity\":0.2}},\"type\":\"bar\"}],\"barpolar\":[{\"marker\":{\"line\":{\"color\":\"rgb(237,237,237)\",\"width\":0.5},\"pattern\":{\"fillmode\":\"overlay\",\"size\":10,\"solidity\":0.2}},\"type\":\"barpolar\"}],\"carpet\":[{\"aaxis\":{\"endlinecolor\":\"rgb(51,51,51)\",\"gridcolor\":\"white\",\"linecolor\":\"white\",\"minorgridcolor\":\"white\",\"startlinecolor\":\"rgb(51,51,51)\"},\"baxis\":{\"endlinecolor\":\"rgb(51,51,51)\",\"gridcolor\":\"white\",\"linecolor\":\"white\",\"minorgridcolor\":\"white\",\"startlinecolor\":\"rgb(51,51,51)\"},\"type\":\"carpet\"}],\"choropleth\":[{\"colorbar\":{\"outlinewidth\":0,\"tickcolor\":\"rgb(237,237,237)\",\"ticklen\":6,\"ticks\":\"inside\"},\"type\":\"choropleth\"}],\"contour\":[{\"colorbar\":{\"outlinewidth\":0,\"tickcolor\":\"rgb(237,237,237)\",\"ticklen\":6,\"ticks\":\"inside\"},\"colorscale\":[[0,\"rgb(20,44,66)\"],[1,\"rgb(90,179,244)\"]],\"type\":\"contour\"}],\"contourcarpet\":[{\"colorbar\":{\"outlinewidth\":0,\"tickcolor\":\"rgb(237,237,237)\",\"ticklen\":6,\"ticks\":\"inside\"},\"type\":\"contourcarpet\"}],\"heatmap\":[{\"colorbar\":{\"outlinewidth\":0,\"tickcolor\":\"rgb(237,237,237)\",\"ticklen\":6,\"ticks\":\"inside\"},\"colorscale\":[[0,\"rgb(20,44,66)\"],[1,\"rgb(90,179,244)\"]],\"type\":\"heatmap\"}],\"heatmapgl\":[{\"colorbar\":{\"outlinewidth\":0,\"tickcolor\":\"rgb(237,237,237)\",\"ticklen\":6,\"ticks\":\"inside\"},\"colorscale\":[[0,\"rgb(20,44,66)\"],[1,\"rgb(90,179,244)\"]],\"type\":\"heatmapgl\"}],\"histogram\":[{\"marker\":{\"pattern\":{\"fillmode\":\"overlay\",\"size\":10,\"solidity\":0.2}},\"type\":\"histogram\"}],\"histogram2d\":[{\"colorbar\":{\"outlinewidth\":0,\"tickcolor\":\"rgb(237,237,237)\",\"ticklen\":6,\"ticks\":\"inside\"},\"colorscale\":[[0,\"rgb(20,44,66)\"],[1,\"rgb(90,179,244)\"]],\"type\":\"histogram2d\"}],\"histogram2dcontour\":[{\"colorbar\":{\"outlinewidth\":0,\"tickcolor\":\"rgb(237,237,237)\",\"ticklen\":6,\"ticks\":\"inside\"},\"colorscale\":[[0,\"rgb(20,44,66)\"],[1,\"rgb(90,179,244)\"]],\"type\":\"histogram2dcontour\"}],\"mesh3d\":[{\"colorbar\":{\"outlinewidth\":0,\"tickcolor\":\"rgb(237,237,237)\",\"ticklen\":6,\"ticks\":\"inside\"},\"type\":\"mesh3d\"}],\"parcoords\":[{\"line\":{\"colorbar\":{\"outlinewidth\":0,\"tickcolor\":\"rgb(237,237,237)\",\"ticklen\":6,\"ticks\":\"inside\"}},\"type\":\"parcoords\"}],\"pie\":[{\"automargin\":true,\"type\":\"pie\"}],\"scatter\":[{\"marker\":{\"colorbar\":{\"outlinewidth\":0,\"tickcolor\":\"rgb(237,237,237)\",\"ticklen\":6,\"ticks\":\"inside\"}},\"type\":\"scatter\"}],\"scatter3d\":[{\"line\":{\"colorbar\":{\"outlinewidth\":0,\"tickcolor\":\"rgb(237,237,237)\",\"ticklen\":6,\"ticks\":\"inside\"}},\"marker\":{\"colorbar\":{\"outlinewidth\":0,\"tickcolor\":\"rgb(237,237,237)\",\"ticklen\":6,\"ticks\":\"inside\"}},\"type\":\"scatter3d\"}],\"scattercarpet\":[{\"marker\":{\"colorbar\":{\"outlinewidth\":0,\"tickcolor\":\"rgb(237,237,237)\",\"ticklen\":6,\"ticks\":\"inside\"}},\"type\":\"scattercarpet\"}],\"scattergeo\":[{\"marker\":{\"colorbar\":{\"outlinewidth\":0,\"tickcolor\":\"rgb(237,237,237)\",\"ticklen\":6,\"ticks\":\"inside\"}},\"type\":\"scattergeo\"}],\"scattergl\":[{\"marker\":{\"colorbar\":{\"outlinewidth\":0,\"tickcolor\":\"rgb(237,237,237)\",\"ticklen\":6,\"ticks\":\"inside\"}},\"type\":\"scattergl\"}],\"scattermapbox\":[{\"marker\":{\"colorbar\":{\"outlinewidth\":0,\"tickcolor\":\"rgb(237,237,237)\",\"ticklen\":6,\"ticks\":\"inside\"}},\"type\":\"scattermapbox\"}],\"scatterpolar\":[{\"marker\":{\"colorbar\":{\"outlinewidth\":0,\"tickcolor\":\"rgb(237,237,237)\",\"ticklen\":6,\"ticks\":\"inside\"}},\"type\":\"scatterpolar\"}],\"scatterpolargl\":[{\"marker\":{\"colorbar\":{\"outlinewidth\":0,\"tickcolor\":\"rgb(237,237,237)\",\"ticklen\":6,\"ticks\":\"inside\"}},\"type\":\"scatterpolargl\"}],\"scatterternary\":[{\"marker\":{\"colorbar\":{\"outlinewidth\":0,\"tickcolor\":\"rgb(237,237,237)\",\"ticklen\":6,\"ticks\":\"inside\"}},\"type\":\"scatterternary\"}],\"surface\":[{\"colorbar\":{\"outlinewidth\":0,\"tickcolor\":\"rgb(237,237,237)\",\"ticklen\":6,\"ticks\":\"inside\"},\"colorscale\":[[0,\"rgb(20,44,66)\"],[1,\"rgb(90,179,244)\"]],\"type\":\"surface\"}],\"table\":[{\"cells\":{\"fill\":{\"color\":\"rgb(237,237,237)\"},\"line\":{\"color\":\"white\"}},\"header\":{\"fill\":{\"color\":\"rgb(217,217,217)\"},\"line\":{\"color\":\"white\"}},\"type\":\"table\"}]},\"layout\":{\"annotationdefaults\":{\"arrowhead\":0,\"arrowwidth\":1},\"autotypenumbers\":\"strict\",\"coloraxis\":{\"colorbar\":{\"outlinewidth\":0,\"tickcolor\":\"rgb(237,237,237)\",\"ticklen\":6,\"ticks\":\"inside\"}},\"colorscale\":{\"sequential\":[[0,\"rgb(20,44,66)\"],[1,\"rgb(90,179,244)\"]],\"sequentialminus\":[[0,\"rgb(20,44,66)\"],[1,\"rgb(90,179,244)\"]]},\"colorway\":[\"#F8766D\",\"#A3A500\",\"#00BF7D\",\"#00B0F6\",\"#E76BF3\"],\"font\":{\"color\":\"rgb(51,51,51)\"},\"geo\":{\"bgcolor\":\"white\",\"lakecolor\":\"white\",\"landcolor\":\"rgb(237,237,237)\",\"showlakes\":true,\"showland\":true,\"subunitcolor\":\"white\"},\"hoverlabel\":{\"align\":\"left\"},\"hovermode\":\"closest\",\"paper_bgcolor\":\"white\",\"plot_bgcolor\":\"rgb(237,237,237)\",\"polar\":{\"angularaxis\":{\"gridcolor\":\"white\",\"linecolor\":\"white\",\"showgrid\":true,\"tickcolor\":\"rgb(51,51,51)\",\"ticks\":\"outside\"},\"bgcolor\":\"rgb(237,237,237)\",\"radialaxis\":{\"gridcolor\":\"white\",\"linecolor\":\"white\",\"showgrid\":true,\"tickcolor\":\"rgb(51,51,51)\",\"ticks\":\"outside\"}},\"scene\":{\"xaxis\":{\"backgroundcolor\":\"rgb(237,237,237)\",\"gridcolor\":\"white\",\"gridwidth\":2,\"linecolor\":\"white\",\"showbackground\":true,\"showgrid\":true,\"tickcolor\":\"rgb(51,51,51)\",\"ticks\":\"outside\",\"zerolinecolor\":\"white\"},\"yaxis\":{\"backgroundcolor\":\"rgb(237,237,237)\",\"gridcolor\":\"white\",\"gridwidth\":2,\"linecolor\":\"white\",\"showbackground\":true,\"showgrid\":true,\"tickcolor\":\"rgb(51,51,51)\",\"ticks\":\"outside\",\"zerolinecolor\":\"white\"},\"zaxis\":{\"backgroundcolor\":\"rgb(237,237,237)\",\"gridcolor\":\"white\",\"gridwidth\":2,\"linecolor\":\"white\",\"showbackground\":true,\"showgrid\":true,\"tickcolor\":\"rgb(51,51,51)\",\"ticks\":\"outside\",\"zerolinecolor\":\"white\"}},\"shapedefaults\":{\"fillcolor\":\"black\",\"line\":{\"width\":0},\"opacity\":0.3},\"ternary\":{\"aaxis\":{\"gridcolor\":\"white\",\"linecolor\":\"white\",\"showgrid\":true,\"tickcolor\":\"rgb(51,51,51)\",\"ticks\":\"outside\"},\"baxis\":{\"gridcolor\":\"white\",\"linecolor\":\"white\",\"showgrid\":true,\"tickcolor\":\"rgb(51,51,51)\",\"ticks\":\"outside\"},\"bgcolor\":\"rgb(237,237,237)\",\"caxis\":{\"gridcolor\":\"white\",\"linecolor\":\"white\",\"showgrid\":true,\"tickcolor\":\"rgb(51,51,51)\",\"ticks\":\"outside\"}},\"xaxis\":{\"automargin\":true,\"gridcolor\":\"white\",\"linecolor\":\"white\",\"showgrid\":true,\"tickcolor\":\"rgb(51,51,51)\",\"ticks\":\"outside\",\"title\":{\"standoff\":15},\"zerolinecolor\":\"white\"},\"yaxis\":{\"automargin\":true,\"gridcolor\":\"white\",\"linecolor\":\"white\",\"showgrid\":true,\"tickcolor\":\"rgb(51,51,51)\",\"ticks\":\"outside\",\"title\":{\"standoff\":15},\"zerolinecolor\":\"white\"}}},\"title\":{\"text\":\"Autocorrelation (ACF) | x\"},\"xaxis\":{\"range\":[-1,42]},\"yaxis\":{\"zerolinecolor\":\"#000000\"}},                        {\"responsive\": true}                    ).then(function(){\n",
              "                            \n",
              "var gd = document.getElementById('33df050f-fccc-4802-abb8-4aed246e74a8');\n",
              "var x = new MutationObserver(function (mutations, observer) {{\n",
              "        var display = window.getComputedStyle(gd).display;\n",
              "        if (!display || display === 'none') {{\n",
              "            console.log([gd, 'removed!']);\n",
              "            Plotly.purge(gd);\n",
              "            observer.disconnect();\n",
              "        }}\n",
              "}});\n",
              "\n",
              "// Listen for the removal of the full notebook cells\n",
              "var notebookContainer = gd.closest('#notebook-container');\n",
              "if (notebookContainer) {{\n",
              "    x.observe(notebookContainer, {childList: true});\n",
              "}}\n",
              "\n",
              "// Listen for the clearing of the current output cell\n",
              "var outputEl = gd.closest('.output');\n",
              "if (outputEl) {{\n",
              "    x.observe(outputEl, {childList: true});\n",
              "}}\n",
              "\n",
              "                        })                };                            </script>        </div>\n",
              "</body>\n",
              "</html>"
            ]
          },
          "metadata": {}
        },
        {
          "output_type": "display_data",
          "data": {
            "text/html": [
              "<html>\n",
              "<head><meta charset=\"utf-8\" /></head>\n",
              "<body>\n",
              "    <div>            <script src=\"https://cdnjs.cloudflare.com/ajax/libs/mathjax/2.7.5/MathJax.js?config=TeX-AMS-MML_SVG\"></script><script type=\"text/javascript\">if (window.MathJax) {MathJax.Hub.Config({SVG: {font: \"STIX-Web\"}});}</script>                <script type=\"text/javascript\">window.PlotlyConfig = {MathJaxConfig: 'local'};</script>\n",
              "        <script src=\"https://cdn.plot.ly/plotly-2.4.2.min.js\"></script>                <div id=\"9f00fbc2-26ca-4ca8-8db1-9df2daa2d1ed\" class=\"plotly-graph-div\" style=\"height:525px; width:100%;\"></div>            <script type=\"text/javascript\">                                    window.PLOTLYENV=window.PLOTLYENV || {};                                    if (document.getElementById(\"9f00fbc2-26ca-4ca8-8db1-9df2daa2d1ed\")) {                    Plotly.newPlot(                        \"9f00fbc2-26ca-4ca8-8db1-9df2daa2d1ed\",                        [{\"marker\":{\"color\":\"#1f77b4\",\"size\":10},\"mode\":\"markers\",\"name\":\"PACF\",\"showlegend\":false,\"type\":\"scatter\",\"x\":[0,1,2,3,4,5,6,7,8,9,10,11,12,13,14,15,16,17,18,19,20,21,22,23,24,25,26,27,28,29,30,31,32,33,34,35,36,37,38,39,40],\"y\":[1.0,0.9789530861467635,0.05574022872147745,-0.007288425961196295,-0.02084587537358008,-0.018243440077958806,-0.06588743971983588,0.047459646781659974,-0.0011141787738740054,0.07617743493036808,-0.12232949014385072,0.011149665733499575,0.015188516525449863,0.04118679846760389,-0.044358589668865564,-0.13722652739234711,-0.10988466547584674,-0.14564931282719593,-0.03740029002140385,0.06873063438689189,-0.007599546830395844,-0.01502402836131332,0.09934151532652331,0.07666445448036582,0.05498396424840536,0.018519596931707284,-0.08747032418999937,0.018513394184567704,0.021873577250010986,0.06328255388498032,-0.0027786508302442524,0.01791211665912136,-0.03316590843387887,0.00848299364361215,-0.05406206053701728,0.14916965881636376,-0.08188239506088478,0.02235983880330245,-0.06043086163134434,0.025633636559635763,0.04787901789154522]},{\"line\":{\"color\":\"#3f3f3f\"},\"mode\":\"lines\",\"name\":\"Lag1\",\"showlegend\":false,\"type\":\"scatter\",\"x\":[0,0],\"y\":[0,1.0]},{\"line\":{\"color\":\"#3f3f3f\"},\"mode\":\"lines\",\"name\":\"Lag2\",\"showlegend\":false,\"type\":\"scatter\",\"x\":[1,1],\"y\":[0,0.9789530861467635]},{\"line\":{\"color\":\"#3f3f3f\"},\"mode\":\"lines\",\"name\":\"Lag3\",\"showlegend\":false,\"type\":\"scatter\",\"x\":[2,2],\"y\":[0,0.05574022872147745]},{\"line\":{\"color\":\"#3f3f3f\"},\"mode\":\"lines\",\"name\":\"Lag4\",\"showlegend\":false,\"type\":\"scatter\",\"x\":[3,3],\"y\":[0,-0.007288425961196295]},{\"line\":{\"color\":\"#3f3f3f\"},\"mode\":\"lines\",\"name\":\"Lag5\",\"showlegend\":false,\"type\":\"scatter\",\"x\":[4,4],\"y\":[0,-0.02084587537358008]},{\"line\":{\"color\":\"#3f3f3f\"},\"mode\":\"lines\",\"name\":\"Lag6\",\"showlegend\":false,\"type\":\"scatter\",\"x\":[5,5],\"y\":[0,-0.018243440077958806]},{\"line\":{\"color\":\"#3f3f3f\"},\"mode\":\"lines\",\"name\":\"Lag7\",\"showlegend\":false,\"type\":\"scatter\",\"x\":[6,6],\"y\":[0,-0.06588743971983588]},{\"line\":{\"color\":\"#3f3f3f\"},\"mode\":\"lines\",\"name\":\"Lag8\",\"showlegend\":false,\"type\":\"scatter\",\"x\":[7,7],\"y\":[0,0.047459646781659974]},{\"line\":{\"color\":\"#3f3f3f\"},\"mode\":\"lines\",\"name\":\"Lag9\",\"showlegend\":false,\"type\":\"scatter\",\"x\":[8,8],\"y\":[0,-0.0011141787738740054]},{\"line\":{\"color\":\"#3f3f3f\"},\"mode\":\"lines\",\"name\":\"Lag10\",\"showlegend\":false,\"type\":\"scatter\",\"x\":[9,9],\"y\":[0,0.07617743493036808]},{\"line\":{\"color\":\"#3f3f3f\"},\"mode\":\"lines\",\"name\":\"Lag11\",\"showlegend\":false,\"type\":\"scatter\",\"x\":[10,10],\"y\":[0,-0.12232949014385072]},{\"line\":{\"color\":\"#3f3f3f\"},\"mode\":\"lines\",\"name\":\"Lag12\",\"showlegend\":false,\"type\":\"scatter\",\"x\":[11,11],\"y\":[0,0.011149665733499575]},{\"line\":{\"color\":\"#3f3f3f\"},\"mode\":\"lines\",\"name\":\"Lag13\",\"showlegend\":false,\"type\":\"scatter\",\"x\":[12,12],\"y\":[0,0.015188516525449863]},{\"line\":{\"color\":\"#3f3f3f\"},\"mode\":\"lines\",\"name\":\"Lag14\",\"showlegend\":false,\"type\":\"scatter\",\"x\":[13,13],\"y\":[0,0.04118679846760389]},{\"line\":{\"color\":\"#3f3f3f\"},\"mode\":\"lines\",\"name\":\"Lag15\",\"showlegend\":false,\"type\":\"scatter\",\"x\":[14,14],\"y\":[0,-0.044358589668865564]},{\"line\":{\"color\":\"#3f3f3f\"},\"mode\":\"lines\",\"name\":\"Lag16\",\"showlegend\":false,\"type\":\"scatter\",\"x\":[15,15],\"y\":[0,-0.13722652739234711]},{\"line\":{\"color\":\"#3f3f3f\"},\"mode\":\"lines\",\"name\":\"Lag17\",\"showlegend\":false,\"type\":\"scatter\",\"x\":[16,16],\"y\":[0,-0.10988466547584674]},{\"line\":{\"color\":\"#3f3f3f\"},\"mode\":\"lines\",\"name\":\"Lag18\",\"showlegend\":false,\"type\":\"scatter\",\"x\":[17,17],\"y\":[0,-0.14564931282719593]},{\"line\":{\"color\":\"#3f3f3f\"},\"mode\":\"lines\",\"name\":\"Lag19\",\"showlegend\":false,\"type\":\"scatter\",\"x\":[18,18],\"y\":[0,-0.03740029002140385]},{\"line\":{\"color\":\"#3f3f3f\"},\"mode\":\"lines\",\"name\":\"Lag20\",\"showlegend\":false,\"type\":\"scatter\",\"x\":[19,19],\"y\":[0,0.06873063438689189]},{\"line\":{\"color\":\"#3f3f3f\"},\"mode\":\"lines\",\"name\":\"Lag21\",\"showlegend\":false,\"type\":\"scatter\",\"x\":[20,20],\"y\":[0,-0.007599546830395844]},{\"line\":{\"color\":\"#3f3f3f\"},\"mode\":\"lines\",\"name\":\"Lag22\",\"showlegend\":false,\"type\":\"scatter\",\"x\":[21,21],\"y\":[0,-0.01502402836131332]},{\"line\":{\"color\":\"#3f3f3f\"},\"mode\":\"lines\",\"name\":\"Lag23\",\"showlegend\":false,\"type\":\"scatter\",\"x\":[22,22],\"y\":[0,0.09934151532652331]},{\"line\":{\"color\":\"#3f3f3f\"},\"mode\":\"lines\",\"name\":\"Lag24\",\"showlegend\":false,\"type\":\"scatter\",\"x\":[23,23],\"y\":[0,0.07666445448036582]},{\"line\":{\"color\":\"#3f3f3f\"},\"mode\":\"lines\",\"name\":\"Lag25\",\"showlegend\":false,\"type\":\"scatter\",\"x\":[24,24],\"y\":[0,0.05498396424840536]},{\"line\":{\"color\":\"#3f3f3f\"},\"mode\":\"lines\",\"name\":\"Lag26\",\"showlegend\":false,\"type\":\"scatter\",\"x\":[25,25],\"y\":[0,0.018519596931707284]},{\"line\":{\"color\":\"#3f3f3f\"},\"mode\":\"lines\",\"name\":\"Lag27\",\"showlegend\":false,\"type\":\"scatter\",\"x\":[26,26],\"y\":[0,-0.08747032418999937]},{\"line\":{\"color\":\"#3f3f3f\"},\"mode\":\"lines\",\"name\":\"Lag28\",\"showlegend\":false,\"type\":\"scatter\",\"x\":[27,27],\"y\":[0,0.018513394184567704]},{\"line\":{\"color\":\"#3f3f3f\"},\"mode\":\"lines\",\"name\":\"Lag29\",\"showlegend\":false,\"type\":\"scatter\",\"x\":[28,28],\"y\":[0,0.021873577250010986]},{\"line\":{\"color\":\"#3f3f3f\"},\"mode\":\"lines\",\"name\":\"Lag30\",\"showlegend\":false,\"type\":\"scatter\",\"x\":[29,29],\"y\":[0,0.06328255388498032]},{\"line\":{\"color\":\"#3f3f3f\"},\"mode\":\"lines\",\"name\":\"Lag31\",\"showlegend\":false,\"type\":\"scatter\",\"x\":[30,30],\"y\":[0,-0.0027786508302442524]},{\"line\":{\"color\":\"#3f3f3f\"},\"mode\":\"lines\",\"name\":\"Lag32\",\"showlegend\":false,\"type\":\"scatter\",\"x\":[31,31],\"y\":[0,0.01791211665912136]},{\"line\":{\"color\":\"#3f3f3f\"},\"mode\":\"lines\",\"name\":\"Lag33\",\"showlegend\":false,\"type\":\"scatter\",\"x\":[32,32],\"y\":[0,-0.03316590843387887]},{\"line\":{\"color\":\"#3f3f3f\"},\"mode\":\"lines\",\"name\":\"Lag34\",\"showlegend\":false,\"type\":\"scatter\",\"x\":[33,33],\"y\":[0,0.00848299364361215]},{\"line\":{\"color\":\"#3f3f3f\"},\"mode\":\"lines\",\"name\":\"Lag35\",\"showlegend\":false,\"type\":\"scatter\",\"x\":[34,34],\"y\":[0,-0.05406206053701728]},{\"line\":{\"color\":\"#3f3f3f\"},\"mode\":\"lines\",\"name\":\"Lag36\",\"showlegend\":false,\"type\":\"scatter\",\"x\":[35,35],\"y\":[0,0.14916965881636376]},{\"line\":{\"color\":\"#3f3f3f\"},\"mode\":\"lines\",\"name\":\"Lag37\",\"showlegend\":false,\"type\":\"scatter\",\"x\":[36,36],\"y\":[0,-0.08188239506088478]},{\"line\":{\"color\":\"#3f3f3f\"},\"mode\":\"lines\",\"name\":\"Lag38\",\"showlegend\":false,\"type\":\"scatter\",\"x\":[37,37],\"y\":[0,0.02235983880330245]},{\"line\":{\"color\":\"#3f3f3f\"},\"mode\":\"lines\",\"name\":\"Lag39\",\"showlegend\":false,\"type\":\"scatter\",\"x\":[38,38],\"y\":[0,-0.06043086163134434]},{\"line\":{\"color\":\"#3f3f3f\"},\"mode\":\"lines\",\"name\":\"Lag40\",\"showlegend\":false,\"type\":\"scatter\",\"x\":[39,39],\"y\":[0,0.025633636559635763]},{\"line\":{\"color\":\"#3f3f3f\"},\"mode\":\"lines\",\"name\":\"Lag41\",\"showlegend\":false,\"type\":\"scatter\",\"x\":[40,40],\"y\":[0,0.04787901789154522]},{\"line\":{\"color\":\"rgba(255,255,255,0)\"},\"mode\":\"lines\",\"name\":\"UC\",\"showlegend\":false,\"type\":\"scatter\",\"x\":[0,1,2,3,4,5,6,7,8,9,10,11,12,13,14,15,16,17,18,19,20,21,22,23,24,25,26,27,28,29,30,31,32,33,34,35,36,37,38,39,40],\"y\":[0.0,0.10629397111858796,0.10629397111858786,0.10629397111858786,0.10629397111858786,0.10629397111858786,0.10629397111858786,0.10629397111858785,0.10629397111858786,0.10629397111858788,0.10629397111858786,0.10629397111858786,0.10629397111858786,0.10629397111858785,0.10629397111858786,0.10629397111858786,0.10629397111858786,0.10629397111858786,0.10629397111858788,0.10629397111858788,0.10629397111858786,0.10629397111858786,0.10629397111858786,0.10629397111858788,0.10629397111858786,0.10629397111858786,0.10629397111858786,0.10629397111858785,0.10629397111858785,0.10629397111858786,0.10629397111858786,0.10629397111858786,0.10629397111858786,0.10629397111858785,0.10629397111858786,0.10629397111858788,0.10629397111858786,0.10629397111858788,0.10629397111858786,0.10629397111858785,0.10629397111858788]},{\"fill\":\"tonexty\",\"fillcolor\":\"rgba(32, 146, 230,0.3)\",\"line\":{\"color\":\"rgba(255,255,255,0)\"},\"mode\":\"lines\",\"name\":\"LC\",\"showlegend\":false,\"type\":\"scatter\",\"x\":[0,1,2,3,4,5,6,7,8,9,10,11,12,13,14,15,16,17,18,19,20,21,22,23,24,25,26,27,28,29,30,31,32,33,34,35,36,37,38,39,40],\"y\":[0.0,-0.10629397111858785,-0.10629397111858786,-0.10629397111858786,-0.10629397111858786,-0.10629397111858786,-0.10629397111858788,-0.10629397111858786,-0.10629397111858786,-0.10629397111858786,-0.10629397111858788,-0.10629397111858786,-0.10629397111858786,-0.10629397111858788,-0.10629397111858786,-0.10629397111858788,-0.10629397111858785,-0.10629397111858788,-0.10629397111858785,-0.10629397111858786,-0.10629397111858786,-0.10629397111858786,-0.10629397111858786,-0.10629397111858786,-0.10629397111858786,-0.10629397111858786,-0.10629397111858788,-0.10629397111858788,-0.10629397111858786,-0.10629397111858786,-0.10629397111858786,-0.10629397111858786,-0.10629397111858788,-0.10629397111858788,-0.10629397111858785,-0.10629397111858786,-0.10629397111858786,-0.10629397111858786,-0.10629397111858788,-0.10629397111858788,-0.10629397111858786]},{\"line\":{\"color\":\"#3f3f3f\"},\"mode\":\"lines\",\"name\":\"\",\"showlegend\":false,\"type\":\"scatter\",\"x\":[0,41],\"y\":[0,0]}],                        {\"template\":{\"data\":{\"bar\":[{\"error_x\":{\"color\":\"rgb(51,51,51)\"},\"error_y\":{\"color\":\"rgb(51,51,51)\"},\"marker\":{\"line\":{\"color\":\"rgb(237,237,237)\",\"width\":0.5},\"pattern\":{\"fillmode\":\"overlay\",\"size\":10,\"solidity\":0.2}},\"type\":\"bar\"}],\"barpolar\":[{\"marker\":{\"line\":{\"color\":\"rgb(237,237,237)\",\"width\":0.5},\"pattern\":{\"fillmode\":\"overlay\",\"size\":10,\"solidity\":0.2}},\"type\":\"barpolar\"}],\"carpet\":[{\"aaxis\":{\"endlinecolor\":\"rgb(51,51,51)\",\"gridcolor\":\"white\",\"linecolor\":\"white\",\"minorgridcolor\":\"white\",\"startlinecolor\":\"rgb(51,51,51)\"},\"baxis\":{\"endlinecolor\":\"rgb(51,51,51)\",\"gridcolor\":\"white\",\"linecolor\":\"white\",\"minorgridcolor\":\"white\",\"startlinecolor\":\"rgb(51,51,51)\"},\"type\":\"carpet\"}],\"choropleth\":[{\"colorbar\":{\"outlinewidth\":0,\"tickcolor\":\"rgb(237,237,237)\",\"ticklen\":6,\"ticks\":\"inside\"},\"type\":\"choropleth\"}],\"contour\":[{\"colorbar\":{\"outlinewidth\":0,\"tickcolor\":\"rgb(237,237,237)\",\"ticklen\":6,\"ticks\":\"inside\"},\"colorscale\":[[0,\"rgb(20,44,66)\"],[1,\"rgb(90,179,244)\"]],\"type\":\"contour\"}],\"contourcarpet\":[{\"colorbar\":{\"outlinewidth\":0,\"tickcolor\":\"rgb(237,237,237)\",\"ticklen\":6,\"ticks\":\"inside\"},\"type\":\"contourcarpet\"}],\"heatmap\":[{\"colorbar\":{\"outlinewidth\":0,\"tickcolor\":\"rgb(237,237,237)\",\"ticklen\":6,\"ticks\":\"inside\"},\"colorscale\":[[0,\"rgb(20,44,66)\"],[1,\"rgb(90,179,244)\"]],\"type\":\"heatmap\"}],\"heatmapgl\":[{\"colorbar\":{\"outlinewidth\":0,\"tickcolor\":\"rgb(237,237,237)\",\"ticklen\":6,\"ticks\":\"inside\"},\"colorscale\":[[0,\"rgb(20,44,66)\"],[1,\"rgb(90,179,244)\"]],\"type\":\"heatmapgl\"}],\"histogram\":[{\"marker\":{\"pattern\":{\"fillmode\":\"overlay\",\"size\":10,\"solidity\":0.2}},\"type\":\"histogram\"}],\"histogram2d\":[{\"colorbar\":{\"outlinewidth\":0,\"tickcolor\":\"rgb(237,237,237)\",\"ticklen\":6,\"ticks\":\"inside\"},\"colorscale\":[[0,\"rgb(20,44,66)\"],[1,\"rgb(90,179,244)\"]],\"type\":\"histogram2d\"}],\"histogram2dcontour\":[{\"colorbar\":{\"outlinewidth\":0,\"tickcolor\":\"rgb(237,237,237)\",\"ticklen\":6,\"ticks\":\"inside\"},\"colorscale\":[[0,\"rgb(20,44,66)\"],[1,\"rgb(90,179,244)\"]],\"type\":\"histogram2dcontour\"}],\"mesh3d\":[{\"colorbar\":{\"outlinewidth\":0,\"tickcolor\":\"rgb(237,237,237)\",\"ticklen\":6,\"ticks\":\"inside\"},\"type\":\"mesh3d\"}],\"parcoords\":[{\"line\":{\"colorbar\":{\"outlinewidth\":0,\"tickcolor\":\"rgb(237,237,237)\",\"ticklen\":6,\"ticks\":\"inside\"}},\"type\":\"parcoords\"}],\"pie\":[{\"automargin\":true,\"type\":\"pie\"}],\"scatter\":[{\"marker\":{\"colorbar\":{\"outlinewidth\":0,\"tickcolor\":\"rgb(237,237,237)\",\"ticklen\":6,\"ticks\":\"inside\"}},\"type\":\"scatter\"}],\"scatter3d\":[{\"line\":{\"colorbar\":{\"outlinewidth\":0,\"tickcolor\":\"rgb(237,237,237)\",\"ticklen\":6,\"ticks\":\"inside\"}},\"marker\":{\"colorbar\":{\"outlinewidth\":0,\"tickcolor\":\"rgb(237,237,237)\",\"ticklen\":6,\"ticks\":\"inside\"}},\"type\":\"scatter3d\"}],\"scattercarpet\":[{\"marker\":{\"colorbar\":{\"outlinewidth\":0,\"tickcolor\":\"rgb(237,237,237)\",\"ticklen\":6,\"ticks\":\"inside\"}},\"type\":\"scattercarpet\"}],\"scattergeo\":[{\"marker\":{\"colorbar\":{\"outlinewidth\":0,\"tickcolor\":\"rgb(237,237,237)\",\"ticklen\":6,\"ticks\":\"inside\"}},\"type\":\"scattergeo\"}],\"scattergl\":[{\"marker\":{\"colorbar\":{\"outlinewidth\":0,\"tickcolor\":\"rgb(237,237,237)\",\"ticklen\":6,\"ticks\":\"inside\"}},\"type\":\"scattergl\"}],\"scattermapbox\":[{\"marker\":{\"colorbar\":{\"outlinewidth\":0,\"tickcolor\":\"rgb(237,237,237)\",\"ticklen\":6,\"ticks\":\"inside\"}},\"type\":\"scattermapbox\"}],\"scatterpolar\":[{\"marker\":{\"colorbar\":{\"outlinewidth\":0,\"tickcolor\":\"rgb(237,237,237)\",\"ticklen\":6,\"ticks\":\"inside\"}},\"type\":\"scatterpolar\"}],\"scatterpolargl\":[{\"marker\":{\"colorbar\":{\"outlinewidth\":0,\"tickcolor\":\"rgb(237,237,237)\",\"ticklen\":6,\"ticks\":\"inside\"}},\"type\":\"scatterpolargl\"}],\"scatterternary\":[{\"marker\":{\"colorbar\":{\"outlinewidth\":0,\"tickcolor\":\"rgb(237,237,237)\",\"ticklen\":6,\"ticks\":\"inside\"}},\"type\":\"scatterternary\"}],\"surface\":[{\"colorbar\":{\"outlinewidth\":0,\"tickcolor\":\"rgb(237,237,237)\",\"ticklen\":6,\"ticks\":\"inside\"},\"colorscale\":[[0,\"rgb(20,44,66)\"],[1,\"rgb(90,179,244)\"]],\"type\":\"surface\"}],\"table\":[{\"cells\":{\"fill\":{\"color\":\"rgb(237,237,237)\"},\"line\":{\"color\":\"white\"}},\"header\":{\"fill\":{\"color\":\"rgb(217,217,217)\"},\"line\":{\"color\":\"white\"}},\"type\":\"table\"}]},\"layout\":{\"annotationdefaults\":{\"arrowhead\":0,\"arrowwidth\":1},\"autotypenumbers\":\"strict\",\"coloraxis\":{\"colorbar\":{\"outlinewidth\":0,\"tickcolor\":\"rgb(237,237,237)\",\"ticklen\":6,\"ticks\":\"inside\"}},\"colorscale\":{\"sequential\":[[0,\"rgb(20,44,66)\"],[1,\"rgb(90,179,244)\"]],\"sequentialminus\":[[0,\"rgb(20,44,66)\"],[1,\"rgb(90,179,244)\"]]},\"colorway\":[\"#F8766D\",\"#A3A500\",\"#00BF7D\",\"#00B0F6\",\"#E76BF3\"],\"font\":{\"color\":\"rgb(51,51,51)\"},\"geo\":{\"bgcolor\":\"white\",\"lakecolor\":\"white\",\"landcolor\":\"rgb(237,237,237)\",\"showlakes\":true,\"showland\":true,\"subunitcolor\":\"white\"},\"hoverlabel\":{\"align\":\"left\"},\"hovermode\":\"closest\",\"paper_bgcolor\":\"white\",\"plot_bgcolor\":\"rgb(237,237,237)\",\"polar\":{\"angularaxis\":{\"gridcolor\":\"white\",\"linecolor\":\"white\",\"showgrid\":true,\"tickcolor\":\"rgb(51,51,51)\",\"ticks\":\"outside\"},\"bgcolor\":\"rgb(237,237,237)\",\"radialaxis\":{\"gridcolor\":\"white\",\"linecolor\":\"white\",\"showgrid\":true,\"tickcolor\":\"rgb(51,51,51)\",\"ticks\":\"outside\"}},\"scene\":{\"xaxis\":{\"backgroundcolor\":\"rgb(237,237,237)\",\"gridcolor\":\"white\",\"gridwidth\":2,\"linecolor\":\"white\",\"showbackground\":true,\"showgrid\":true,\"tickcolor\":\"rgb(51,51,51)\",\"ticks\":\"outside\",\"zerolinecolor\":\"white\"},\"yaxis\":{\"backgroundcolor\":\"rgb(237,237,237)\",\"gridcolor\":\"white\",\"gridwidth\":2,\"linecolor\":\"white\",\"showbackground\":true,\"showgrid\":true,\"tickcolor\":\"rgb(51,51,51)\",\"ticks\":\"outside\",\"zerolinecolor\":\"white\"},\"zaxis\":{\"backgroundcolor\":\"rgb(237,237,237)\",\"gridcolor\":\"white\",\"gridwidth\":2,\"linecolor\":\"white\",\"showbackground\":true,\"showgrid\":true,\"tickcolor\":\"rgb(51,51,51)\",\"ticks\":\"outside\",\"zerolinecolor\":\"white\"}},\"shapedefaults\":{\"fillcolor\":\"black\",\"line\":{\"width\":0},\"opacity\":0.3},\"ternary\":{\"aaxis\":{\"gridcolor\":\"white\",\"linecolor\":\"white\",\"showgrid\":true,\"tickcolor\":\"rgb(51,51,51)\",\"ticks\":\"outside\"},\"baxis\":{\"gridcolor\":\"white\",\"linecolor\":\"white\",\"showgrid\":true,\"tickcolor\":\"rgb(51,51,51)\",\"ticks\":\"outside\"},\"bgcolor\":\"rgb(237,237,237)\",\"caxis\":{\"gridcolor\":\"white\",\"linecolor\":\"white\",\"showgrid\":true,\"tickcolor\":\"rgb(51,51,51)\",\"ticks\":\"outside\"}},\"xaxis\":{\"automargin\":true,\"gridcolor\":\"white\",\"linecolor\":\"white\",\"showgrid\":true,\"tickcolor\":\"rgb(51,51,51)\",\"ticks\":\"outside\",\"title\":{\"standoff\":15},\"zerolinecolor\":\"white\"},\"yaxis\":{\"automargin\":true,\"gridcolor\":\"white\",\"linecolor\":\"white\",\"showgrid\":true,\"tickcolor\":\"rgb(51,51,51)\",\"ticks\":\"outside\",\"title\":{\"standoff\":15},\"zerolinecolor\":\"white\"}}},\"title\":{\"text\":\"Partial Autocorrelation (PACF) | x\"},\"xaxis\":{\"range\":[-1,42]},\"yaxis\":{\"zerolinecolor\":\"#000000\"}},                        {\"responsive\": true}                    ).then(function(){\n",
              "                            \n",
              "var gd = document.getElementById('9f00fbc2-26ca-4ca8-8db1-9df2daa2d1ed');\n",
              "var x = new MutationObserver(function (mutations, observer) {{\n",
              "        var display = window.getComputedStyle(gd).display;\n",
              "        if (!display || display === 'none') {{\n",
              "            console.log([gd, 'removed!']);\n",
              "            Plotly.purge(gd);\n",
              "            observer.disconnect();\n",
              "        }}\n",
              "}});\n",
              "\n",
              "// Listen for the removal of the full notebook cells\n",
              "var notebookContainer = gd.closest('#notebook-container');\n",
              "if (notebookContainer) {{\n",
              "    x.observe(notebookContainer, {childList: true});\n",
              "}}\n",
              "\n",
              "// Listen for the clearing of the current output cell\n",
              "var outputEl = gd.closest('.output');\n",
              "if (outputEl) {{\n",
              "    x.observe(outputEl, {childList: true});\n",
              "}}\n",
              "\n",
              "                        })                };                            </script>        </div>\n",
              "</body>\n",
              "</html>"
            ]
          },
          "metadata": {}
        }
      ]
    },
    {
      "cell_type": "markdown",
      "metadata": {
        "id": "-yWrHe9TZ7eu"
      },
      "source": [
        "## Helper functions using PyCaret's Time Series Module"
      ]
    },
    {
      "cell_type": "code",
      "metadata": {
        "id": "t2TsBQscQ7fx"
      },
      "source": [
        "def summarize_model(model):\n",
        "  \"\"\"\n",
        "  Provides statistical summary for some statistical models\n",
        "  \"\"\"\n",
        "  # Statistical Summary Table\n",
        "  try:\n",
        "    print(model.summary())\n",
        "  except:\n",
        "    print(\"Summary does not exist for this model.\")"
      ],
      "execution_count": 7,
      "outputs": []
    },
    {
      "cell_type": "code",
      "metadata": {
        "id": "8zRGEYiaRCde"
      },
      "source": [
        "def get_residual_properties(model):\n",
        "  \"\"\"\n",
        "  Plots and displays variance of residuals\n",
        "  \"\"\"\n",
        "  #### Residuals ----\n",
        "  try:\n",
        "    plot_data = exp.plot_model(model, plot=\"residuals\", return_data=True)\n",
        "    residuals = plot_data['data']\n",
        "    residuals_var = residuals.std(ddof=0)**2\n",
        "    print(f\"Variance of Residuals: {residuals_var}\")\n",
        "  except:\n",
        "    print(\"Residuals can not be extracted for this model.\")\n"
      ],
      "execution_count": 8,
      "outputs": []
    },
    {
      "cell_type": "code",
      "metadata": {
        "id": "33R_UJh7CWaO"
      },
      "source": [
        "def plot_predictions(model):\n",
        "  \"\"\"\n",
        "  Plots out-of-sample and in-sample predictions\n",
        "  \"\"\"\n",
        "  # Out-of-Sample Forecast\n",
        "  exp.plot_model(model)\n",
        "  \n",
        "  # In-Sample Forecast\n",
        "  exp.plot_model(model, plot=\"insample\")"
      ],
      "execution_count": 9,
      "outputs": []
    },
    {
      "cell_type": "markdown",
      "metadata": {
        "id": "Vi-_SHRUaQj-"
      },
      "source": [
        "## Train & Test Data Properties"
      ]
    },
    {
      "cell_type": "code",
      "metadata": {
        "colab": {
          "base_uri": "https://localhost:8080/"
        },
        "id": "QXpkH_LSSEUS",
        "outputId": "89f3cfca-f7c0-444b-988a-02f1ad942e7c"
      },
      "source": [
        "# Get Train Data Properties\n",
        "y_train = exp.get_config(\"y_train\")\n",
        "print(f\"Train Start Index: {y_train.index.min()}\\nTrain End Index: {y_train.index.max()}\")\n",
        "print(f\"Mean Value of Training Dataset: {y_train.mean()}\")\n",
        "\n",
        "# Get Test Data Properties\n",
        "y_test = exp.get_config(\"y_test\")\n",
        "print(f\"Test Start Index: {y_test.index.min()}\\nTest End Index: {y_test.index.max()}\")"
      ],
      "execution_count": 10,
      "outputs": [
        {
          "output_type": "stream",
          "name": "stdout",
          "text": [
            "Train Start Index: 0\n",
            "Train End Index: 309\n",
            "Mean Value of Training Dataset: 186.59657396255017\n",
            "Test Start Index: 310\n",
            "Test End Index: 339\n"
          ]
        }
      ]
    },
    {
      "cell_type": "markdown",
      "metadata": {
        "id": "-vkKbCmgSMEh"
      },
      "source": [
        "## ARIMA Model (Overview)"
      ]
    },
    {
      "cell_type": "code",
      "metadata": {
        "id": "gLyIpp1fSN_N"
      },
      "source": [
        "# Talk about hyperparameters (p, d, q) x (P, D, Q, S)\n",
        "# Talk about include_intercept\n",
        "model_class = exp.models(internal=True).loc[\"arima\"][\"Class\"]\n",
        "\n",
        "## Get help on model parameters (important ones summarized below)\n",
        "# ?model_class"
      ],
      "execution_count": 11,
      "outputs": []
    },
    {
      "cell_type": "markdown",
      "metadata": {
        "id": "a1QkoIr0cemo"
      },
      "source": [
        "**order:** iterable or array-like, shape=(3,), optional (default=(1, 0, 0))\n",
        "    The (p,d,q) order of the model for the number of AR parameters,\n",
        "    differences, and MA parameters to use.\n",
        "\n",
        "**seasonal_order:** array-like, shape=(4,), optional (default=(0, 0, 0, 0))\n",
        "    The (P,D,Q,s) order of the seasonal component of the model for the\n",
        "    AR parameters, differences, MA parameters, and periodicity.\n",
        "\n",
        "**with_intercept:** bool, optional (default=True)\n",
        "    Whether to include an intercept term. Default is True."
      ]
    },
    {
      "cell_type": "markdown",
      "metadata": {
        "id": "huqLAy1nSIhi"
      },
      "source": [
        "## Baseline Model (Grand Means)"
      ]
    },
    {
      "cell_type": "markdown",
      "metadata": {
        "id": "hwD-e_MDX9Bw"
      },
      "source": [
        "### Theoretical Calculations"
      ]
    },
    {
      "cell_type": "code",
      "metadata": {
        "id": "-VUY7nZISez4"
      },
      "source": [
        "train_data = pd.DataFrame({\"y\":y_train})\n",
        "train_data['preds'] = y_train.mean()\n",
        "train_data['split'] = \"Train\"\n",
        "\n",
        "test_data = pd.DataFrame({'y': y_test})\n",
        "test_data['preds'] = y_train.mean()\n",
        "test_data['split'] = \"Test\"\n",
        "\n",
        "data = pd.concat([train_data, test_data])\n",
        "data.reset_index(inplace=True)"
      ],
      "execution_count": 12,
      "outputs": []
    },
    {
      "cell_type": "code",
      "metadata": {
        "colab": {
          "base_uri": "https://localhost:8080/",
          "height": 313
        },
        "id": "IqpoGXw5UJwz",
        "outputId": "5e78ed25-8ba7-4f43-b42c-cd7c96f94379"
      },
      "source": [
        "sns.lineplot(data=data, x=\"index\", y=\"preds\", hue=\"split\").set(title=\"Theoretical Predictions\")"
      ],
      "execution_count": 13,
      "outputs": [
        {
          "output_type": "execute_result",
          "data": {
            "text/plain": [
              "[Text(0.5, 1.0, 'Theoretical Predictions')]"
            ]
          },
          "metadata": {},
          "execution_count": 13
        },
        {
          "output_type": "display_data",
          "data": {
            "image/png": "[encoded data removed]",
            "text/plain": [
              "<Figure size 432x288 with 1 Axes>"
            ]
          },
          "metadata": {
            "needs_background": "light"
          }
        }
      ]
    },
    {
      "cell_type": "markdown",
      "metadata": {
        "id": "n4LHZqRBWX2Q"
      },
      "source": [
        "But what about the confidence intervals?\n",
        "95% Prediction Intervals Multiplier = 1.96 \n",
        "\n",
        "**Confidence interval**\n",
        "\n",
        "    = Mean +/- 1.96 * Std of Residuals\n",
        "    = 186.6 +/- 1.96 * sqrt(19.84)\n",
        "    = 186.6 +/- 8.73\n",
        "    = 177.87 to 195.33          "
      ]
    },
    {
      "cell_type": "markdown",
      "metadata": {
        "id": "6KSqI1FWYiIu"
      },
      "source": [
        "### Now let's build this model & compate to Theory"
      ]
    },
    {
      "cell_type": "code",
      "metadata": {
        "colab": {
          "base_uri": "https://localhost:8080/",
          "height": 206,
          "referenced_widgets": [
            "cb943682431843fda21644fd218393ac",
            "d03809f097ab4fa2a0dfa0da8bbb26ab",
            "b6e75dcdfebc421ca0adcedf5808d3f0"
          ]
        },
        "id": "PH21LeTgX6xP",
        "outputId": "36e0e38b-8e43-4906-fabb-a636c396c572"
      },
      "source": [
        "model1 = exp.create_model(\"arima\", order=(0, 0, 0), seasonal_order=(0, 0, 0, 0))"
      ],
      "execution_count": 14,
      "outputs": [
        {
          "output_type": "display_data",
          "data": {
            "text/html": [
              "<div>\n",
              "<style scoped>\n",
              "    .dataframe tbody tr th:only-of-type {\n",
              "        vertical-align: middle;\n",
              "    }\n",
              "\n",
              "    .dataframe tbody tr th {\n",
              "        vertical-align: top;\n",
              "    }\n",
              "\n",
              "    .dataframe thead th {\n",
              "        text-align: right;\n",
              "    }\n",
              "</style>\n",
              "<table border=\"1\" class=\"dataframe\">\n",
              "  <thead>\n",
              "    <tr style=\"text-align: right;\">\n",
              "      <th></th>\n",
              "      <th>cutoff</th>\n",
              "      <th>MAE</th>\n",
              "      <th>RMSE</th>\n",
              "      <th>MAPE</th>\n",
              "      <th>SMAPE</th>\n",
              "      <th>R2</th>\n",
              "    </tr>\n",
              "  </thead>\n",
              "  <tbody>\n",
              "    <tr>\n",
              "      <th>0</th>\n",
              "      <td>219.0</td>\n",
              "      <td>7.0263</td>\n",
              "      <td>7.1643</td>\n",
              "      <td>0.0366</td>\n",
              "      <td>0.0373</td>\n",
              "      <td>-25.1990</td>\n",
              "    </tr>\n",
              "    <tr>\n",
              "      <th>1</th>\n",
              "      <td>249.0</td>\n",
              "      <td>5.6655</td>\n",
              "      <td>6.1631</td>\n",
              "      <td>0.0295</td>\n",
              "      <td>0.0300</td>\n",
              "      <td>-5.4542</td>\n",
              "    </tr>\n",
              "    <tr>\n",
              "      <th>2</th>\n",
              "      <td>279.0</td>\n",
              "      <td>4.8776</td>\n",
              "      <td>5.1497</td>\n",
              "      <td>0.0255</td>\n",
              "      <td>0.0258</td>\n",
              "      <td>-8.7198</td>\n",
              "    </tr>\n",
              "    <tr>\n",
              "      <th>Mean</th>\n",
              "      <td>NaN</td>\n",
              "      <td>5.8565</td>\n",
              "      <td>6.1590</td>\n",
              "      <td>0.0305</td>\n",
              "      <td>0.0310</td>\n",
              "      <td>-13.1243</td>\n",
              "    </tr>\n",
              "    <tr>\n",
              "      <th>SD</th>\n",
              "      <td>NaN</td>\n",
              "      <td>0.8875</td>\n",
              "      <td>0.8225</td>\n",
              "      <td>0.0046</td>\n",
              "      <td>0.0047</td>\n",
              "      <td>8.6415</td>\n",
              "    </tr>\n",
              "  </tbody>\n",
              "</table>\n",
              "</div>"
            ],
            "text/plain": [
              "      cutoff     MAE    RMSE    MAPE   SMAPE       R2\n",
              "0      219.0  7.0263  7.1643  0.0366  0.0373 -25.1990\n",
              "1      249.0  5.6655  6.1631  0.0295  0.0300  -5.4542\n",
              "2      279.0  4.8776  5.1497  0.0255  0.0258  -8.7198\n",
              "Mean     NaN  5.8565  6.1590  0.0305  0.0310 -13.1243\n",
              "SD       NaN  0.8875  0.8225  0.0046  0.0047   8.6415"
            ]
          },
          "metadata": {}
        }
      ]
    },
    {
      "cell_type": "code",
      "metadata": {
        "colab": {
          "base_uri": "https://localhost:8080/",
          "height": 983
        },
        "id": "gK2cZP07C9ei",
        "outputId": "e8bb4b43-de96-4543-e703-e27cf1464ee5"
      },
      "source": [
        "summarize_model(model1)\n",
        "get_residual_properties(model1)"
      ],
      "execution_count": 15,
      "outputs": [
        {
          "output_type": "stream",
          "name": "stdout",
          "text": [
            "                               SARIMAX Results                                \n",
            "==============================================================================\n",
            "Dep. Variable:                      y   No. Observations:                  310\n",
            "Model:                        SARIMAX   Log Likelihood                -902.949\n",
            "Date:                Sun, 14 Nov 2021   AIC                           1809.898\n",
            "Time:                        13:54:54   BIC                           1817.371\n",
            "Sample:                             0   HQIC                          1812.885\n",
            "                                - 310                                         \n",
            "Covariance Type:                  opg                                         \n",
            "==============================================================================\n",
            "                 coef    std err          z      P>|z|      [0.025      0.975]\n",
            "------------------------------------------------------------------------------\n",
            "intercept    186.5966      0.258    722.443      0.000     186.090     187.103\n",
            "sigma2        19.8380      2.113      9.386      0.000      15.696      23.980\n",
            "===================================================================================\n",
            "Ljung-Box (L1) (Q):                 296.06   Jarque-Bera (JB):                11.07\n",
            "Prob(Q):                              0.00   Prob(JB):                         0.00\n",
            "Heteroskedasticity (H):               1.11   Skew:                            -0.22\n",
            "Prob(H) (two-sided):                  0.59   Kurtosis:                         2.19\n",
            "===================================================================================\n",
            "\n",
            "Warnings:\n",
            "[1] Covariance matrix calculated using the outer product of gradients (complex-step).\n"
          ]
        },
        {
          "output_type": "display_data",
          "data": {
            "text/html": [
              "<html>\n",
              "<head><meta charset=\"utf-8\" /></head>\n",
              "<body>\n",
              "    <div>            <script src=\"https://cdnjs.cloudflare.com/ajax/libs/mathjax/2.7.5/MathJax.js?config=TeX-AMS-MML_SVG\"></script><script type=\"text/javascript\">if (window.MathJax) {MathJax.Hub.Config({SVG: {font: \"STIX-Web\"}});}</script>                <script type=\"text/javascript\">window.PlotlyConfig = {MathJaxConfig: 'local'};</script>\n",
              "        <script src=\"https://cdn.plot.ly/plotly-2.4.2.min.js\"></script>                <div id=\"8e48b4e9-57e3-4983-9463-6b8223d9ff9a\" class=\"plotly-graph-div\" style=\"height:525px; width:100%;\"></div>            <script type=\"text/javascript\">                                    window.PLOTLYENV=window.PLOTLYENV || {};                                    if (document.getElementById(\"8e48b4e9-57e3-4983-9463-6b8223d9ff9a\")) {                    Plotly.newPlot(                        \"8e48b4e9-57e3-4983-9463-6b8223d9ff9a\",                        [{\"marker\":{\"color\":\"#3f3f3f\",\"size\":5},\"mode\":\"lines+markers\",\"name\":\"Residuals | ARIMA\",\"showlegend\":true,\"type\":\"scatter\",\"x\":[0,1,2,3,4,5,6,7,8,9,10,11,12,13,14,15,16,17,18,19,20,21,22,23,24,25,26,27,28,29,30,31,32,33,34,35,36,37,38,39,40,41,42,43,44,45,46,47,48,49,50,51,52,53,54,55,56,57,58,59,60,61,62,63,64,65,66,67,68,69,70,71,72,73,74,75,76,77,78,79,80,81,82,83,84,85,86,87,88,89,90,91,92,93,94,95,96,97,98,99,100,101,102,103,104,105,106,107,108,109,110,111,112,113,114,115,116,117,118,119,120,121,122,123,124,125,126,127,128,129,130,131,132,133,134,135,136,137,138,139,140,141,142,143,144,145,146,147,148,149,150,151,152,153,154,155,156,157,158,159,160,161,162,163,164,165,166,167,168,169,170,171,172,173,174,175,176,177,178,179,180,181,182,183,184,185,186,187,188,189,190,191,192,193,194,195,196,197,198,199,200,201,202,203,204,205,206,207,208,209,210,211,212,213,214,215,216,217,218,219,220,221,222,223,224,225,226,227,228,229,230,231,232,233,234,235,236,237,238,239,240,241,242,243,244,245,246,247,248,249,250,251,252,253,254,255,256,257,258,259,260,261,262,263,264,265,266,267,268,269,270,271,272,273,274,275,276,277,278,279,280,281,282,283,284,285,286,287,288,289,290,291,292,293,294,295,296,297,298,299,300,301,302,303,304,305,306,307,308,309],\"y\":[-0.328203948309266,-0.28608807516422985,-1.1970097237172581,-1.038980951313249,-1.6935655952322577,0.07372167414075648,0.7904291501577632,1.7006033796527333,2.0847887374797835,3.766964817998769,3.131228364049747,2.66958363368974,4.101865872230746,3.4511695189207217,3.243788775318734,2.8509808458767623,2.530987977328749,2.251874674351768,2.74606300561976,2.5687325233497518,2.0627750612357545,3.4058138864057526,3.1912344778597515,3.011677947815741,2.911487206602743,3.624153513653738,3.5505891095277775,3.5129549380607443,2.8312944593047575,2.5070241870587324,2.567184627492736,1.9782901412327476,2.509786333865776,0.9913922520787253,1.2979501128687616,-0.23849971066925946,-0.5394758375052504,-1.0677557419502364,-1.7198505226312477,-1.7767473004792578,-3.691106726159262,-2.514523414140257,-4.179495850352254,-4.643026251824239,-5.758946356867256,-6.509765358061259,-4.4225988124322555,-4.405203192739265,-5.69150372317327,-7.332109257592265,-6.881922156319263,-6.900481989034233,-7.218550363578231,-8.147912511032274,-9.635372821173263,-10.71056511778923,-9.710536314075256,-10.331803008872242,-11.716229856256263,-9.84693923383324,-9.421838856460283,-9.660485957373254,-8.602002908664247,-7.715580257289247,-8.334823305520274,-6.1287208409802645,-6.3837478711212725,-7.80824252133425,-7.952642123288257,-7.745103784056255,-5.43712538499625,-5.33132301710225,-4.874324211679237,-4.9514771470362575,-5.285477989402239,-5.320204017713252,-4.5325644120832465,-2.4573194034312564,-1.4299269646672599,-0.22201856628026917,-1.4533419878392522,-0.4694464177852353,-0.2495216141242338,-1.7167716432172426,-1.1957489005692423,-1.354503505285237,0.1100838066847416,-0.6559981929192418,-1.0862099468482427,-2.0123194442252554,-2.1894234056622395,-1.7874116261762367,-2.519159799295238,-1.688786631314258,-2.8968694176182623,-3.9448538304262684,-2.5036961235822446,-3.519543588886222,-3.1075688765692746,-3.488644927678223,-3.0792430880272548,-1.3903698018232546,0.19621863161876263,-0.13468916906325035,-2.419924704356248,0.07773688547774782,0.7448030522437534,1.2861303882077664,1.2727308650617601,1.782839288014742,1.6184634562447684,2.039158099498735,1.6389113555217705,0.2687034779737303,1.2565417454287626,2.776286770928749,2.46754620170276,1.214256446094737,1.856497751772764,1.8117886148787647,0.07857020805371917,0.08070206773473387,-0.549598266193243,-0.8905668460542415,-2.0471392086902256,-0.24399730077226423,-0.5751293371642419,-2.1806427494172453,-1.98344931067723,-1.7202736642722414,-2.706100364681248,-5.595021036360265,-6.235502738926243,-5.664995103005282,-5.724718379048255,-5.822897123053252,-5.262076394433251,-6.448535033012263,-5.351757988738257,-5.357102017016274,-4.649791349618226,-3.615683614881249,-3.3922031999652518,-4.270910812831232,-3.107946256864267,-5.108111201650246,-5.652901941651237,-5.908572650808281,-6.0746936875732445,-5.054229778789278,-4.918007885686251,-4.510840282263246,-4.580495095275239,-4.828159436895277,-4.132608630275257,-2.9863802730592397,-5.389476487951242,-4.816736932705254,-4.442012525927254,-4.867280247483279,-3.9162674399062496,-4.305504621624237,-4.589835283424236,-3.7324255053442528,-2.0127982062232377,-1.7427433052862682,-2.1649273150742374,-3.3540406099332642,-3.6850735888132533,-4.6249029153232755,-4.883835498441243,-4.489456330220236,-5.341313422244241,-2.6921465411492704,-2.5361348654842573,-1.4059275980292512,-3.6950515778692363,-2.954050420673269,-4.270295581125225,-3.3504919035162573,-2.9523617480642486,-3.3598903273342557,-2.0356316971562762,-2.7368633664032416,-3.3174776706442515,-4.318549851669246,-4.986728458423244,-4.041543505050242,-3.6078413555042346,-2.6026821378272302,-2.992800801881259,-2.6164305101062553,-2.372265585620255,-3.7985229280022565,-2.02009364052725,-1.8856459795932494,-1.1200469804352622,-0.16491030352625557,-0.21547600496927544,-0.5212914247362619,0.37238227768972365,-0.6749158713712404,1.2964215148527387,0.9127894085637536,2.5669347108387512,4.0791474047897225,4.162113138375759,4.729334053226751,3.7047855736927318,4.027792076714718,5.071404535071736,5.170483021968749,4.7163461128137385,4.060564260363748,4.024641837740745,5.093803298417754,4.609828368116752,4.488818256788733,3.1946782529687425,3.688991088983755,4.996892609097728,6.493933618499739,7.308636349397773,5.438847559194755,5.920877063318727,6.377012666619748,6.023612380789757,6.1941018517377415,5.33006589761078,6.009296671626771,5.682195656973761,4.113113471829735,3.7456627156587388,5.110097644728768,4.775816279997741,5.508566322206747,6.455151962404727,6.459550666730763,6.10722836118174,5.577532852047767,6.3171220776227415,5.253664662139727,5.49987550567576,5.21037613911173,2.945486782623732,1.5366363265507346,2.452655655343733,2.261376704807759,3.06465992094175,4.952134384250741,6.426015565359762,7.1032840576727665,7.483246744238755,7.290448317781738,8.868340112686752,9.464574222004757,8.290997281133741,8.13535474624274,6.2164449259727235,6.02118607986273,3.4288584099167565,4.7428605771147545,4.10731757608275,3.6773387373887374,3.5080204050867394,4.12023857907576,4.798578756297758,5.36653072876976,4.793988124843736,3.4306968685657466,3.0419746242277483,3.3198887566777273,2.496807635105739,2.427966700627735,1.2603043744977356,1.2519953602817395,1.380850761879742,1.234975133418743,1.0710641766827678,2.8346161794677585,3.597202691885741,4.708633772616764,3.7854268197867498,3.9497686582147367,5.1045938453117685,5.048072420785729,2.9187117725507505,3.263557534649749,1.358602089064732,0.5474319359247488,1.8714362572237633,2.4870731065267364,3.578742062061764,3.8853469235757245,3.775188161092757,2.850875387965772,4.443789141684761,4.488799739806723,3.7736713391387298,4.638894438855743,5.713335397133733,7.608990171332778,7.0059928677267465,6.615125047003744,6.198903015473746,5.8232455926537625,5.456614646950754,5.160937194249755,6.602757604449749,5.905219312536758]}],                        {\"showlegend\":true,\"template\":{\"data\":{\"bar\":[{\"error_x\":{\"color\":\"rgb(51,51,51)\"},\"error_y\":{\"color\":\"rgb(51,51,51)\"},\"marker\":{\"line\":{\"color\":\"rgb(237,237,237)\",\"width\":0.5},\"pattern\":{\"fillmode\":\"overlay\",\"size\":10,\"solidity\":0.2}},\"type\":\"bar\"}],\"barpolar\":[{\"marker\":{\"line\":{\"color\":\"rgb(237,237,237)\",\"width\":0.5},\"pattern\":{\"fillmode\":\"overlay\",\"size\":10,\"solidity\":0.2}},\"type\":\"barpolar\"}],\"carpet\":[{\"aaxis\":{\"endlinecolor\":\"rgb(51,51,51)\",\"gridcolor\":\"white\",\"linecolor\":\"white\",\"minorgridcolor\":\"white\",\"startlinecolor\":\"rgb(51,51,51)\"},\"baxis\":{\"endlinecolor\":\"rgb(51,51,51)\",\"gridcolor\":\"white\",\"linecolor\":\"white\",\"minorgridcolor\":\"white\",\"startlinecolor\":\"rgb(51,51,51)\"},\"type\":\"carpet\"}],\"choropleth\":[{\"colorbar\":{\"outlinewidth\":0,\"tickcolor\":\"rgb(237,237,237)\",\"ticklen\":6,\"ticks\":\"inside\"},\"type\":\"choropleth\"}],\"contour\":[{\"colorbar\":{\"outlinewidth\":0,\"tickcolor\":\"rgb(237,237,237)\",\"ticklen\":6,\"ticks\":\"inside\"},\"colorscale\":[[0,\"rgb(20,44,66)\"],[1,\"rgb(90,179,244)\"]],\"type\":\"contour\"}],\"contourcarpet\":[{\"colorbar\":{\"outlinewidth\":0,\"tickcolor\":\"rgb(237,237,237)\",\"ticklen\":6,\"ticks\":\"inside\"},\"type\":\"contourcarpet\"}],\"heatmap\":[{\"colorbar\":{\"outlinewidth\":0,\"tickcolor\":\"rgb(237,237,237)\",\"ticklen\":6,\"ticks\":\"inside\"},\"colorscale\":[[0,\"rgb(20,44,66)\"],[1,\"rgb(90,179,244)\"]],\"type\":\"heatmap\"}],\"heatmapgl\":[{\"colorbar\":{\"outlinewidth\":0,\"tickcolor\":\"rgb(237,237,237)\",\"ticklen\":6,\"ticks\":\"inside\"},\"colorscale\":[[0,\"rgb(20,44,66)\"],[1,\"rgb(90,179,244)\"]],\"type\":\"heatmapgl\"}],\"histogram\":[{\"marker\":{\"pattern\":{\"fillmode\":\"overlay\",\"size\":10,\"solidity\":0.2}},\"type\":\"histogram\"}],\"histogram2d\":[{\"colorbar\":{\"outlinewidth\":0,\"tickcolor\":\"rgb(237,237,237)\",\"ticklen\":6,\"ticks\":\"inside\"},\"colorscale\":[[0,\"rgb(20,44,66)\"],[1,\"rgb(90,179,244)\"]],\"type\":\"histogram2d\"}],\"histogram2dcontour\":[{\"colorbar\":{\"outlinewidth\":0,\"tickcolor\":\"rgb(237,237,237)\",\"ticklen\":6,\"ticks\":\"inside\"},\"colorscale\":[[0,\"rgb(20,44,66)\"],[1,\"rgb(90,179,244)\"]],\"type\":\"histogram2dcontour\"}],\"mesh3d\":[{\"colorbar\":{\"outlinewidth\":0,\"tickcolor\":\"rgb(237,237,237)\",\"ticklen\":6,\"ticks\":\"inside\"},\"type\":\"mesh3d\"}],\"parcoords\":[{\"line\":{\"colorbar\":{\"outlinewidth\":0,\"tickcolor\":\"rgb(237,237,237)\",\"ticklen\":6,\"ticks\":\"inside\"}},\"type\":\"parcoords\"}],\"pie\":[{\"automargin\":true,\"type\":\"pie\"}],\"scatter\":[{\"marker\":{\"colorbar\":{\"outlinewidth\":0,\"tickcolor\":\"rgb(237,237,237)\",\"ticklen\":6,\"ticks\":\"inside\"}},\"type\":\"scatter\"}],\"scatter3d\":[{\"line\":{\"colorbar\":{\"outlinewidth\":0,\"tickcolor\":\"rgb(237,237,237)\",\"ticklen\":6,\"ticks\":\"inside\"}},\"marker\":{\"colorbar\":{\"outlinewidth\":0,\"tickcolor\":\"rgb(237,237,237)\",\"ticklen\":6,\"ticks\":\"inside\"}},\"type\":\"scatter3d\"}],\"scattercarpet\":[{\"marker\":{\"colorbar\":{\"outlinewidth\":0,\"tickcolor\":\"rgb(237,237,237)\",\"ticklen\":6,\"ticks\":\"inside\"}},\"type\":\"scattercarpet\"}],\"scattergeo\":[{\"marker\":{\"colorbar\":{\"outlinewidth\":0,\"tickcolor\":\"rgb(237,237,237)\",\"ticklen\":6,\"ticks\":\"inside\"}},\"type\":\"scattergeo\"}],\"scattergl\":[{\"marker\":{\"colorbar\":{\"outlinewidth\":0,\"tickcolor\":\"rgb(237,237,237)\",\"ticklen\":6,\"ticks\":\"inside\"}},\"type\":\"scattergl\"}],\"scattermapbox\":[{\"marker\":{\"colorbar\":{\"outlinewidth\":0,\"tickcolor\":\"rgb(237,237,237)\",\"ticklen\":6,\"ticks\":\"inside\"}},\"type\":\"scattermapbox\"}],\"scatterpolar\":[{\"marker\":{\"colorbar\":{\"outlinewidth\":0,\"tickcolor\":\"rgb(237,237,237)\",\"ticklen\":6,\"ticks\":\"inside\"}},\"type\":\"scatterpolar\"}],\"scatterpolargl\":[{\"marker\":{\"colorbar\":{\"outlinewidth\":0,\"tickcolor\":\"rgb(237,237,237)\",\"ticklen\":6,\"ticks\":\"inside\"}},\"type\":\"scatterpolargl\"}],\"scatterternary\":[{\"marker\":{\"colorbar\":{\"outlinewidth\":0,\"tickcolor\":\"rgb(237,237,237)\",\"ticklen\":6,\"ticks\":\"inside\"}},\"type\":\"scatterternary\"}],\"surface\":[{\"colorbar\":{\"outlinewidth\":0,\"tickcolor\":\"rgb(237,237,237)\",\"ticklen\":6,\"ticks\":\"inside\"},\"colorscale\":[[0,\"rgb(20,44,66)\"],[1,\"rgb(90,179,244)\"]],\"type\":\"surface\"}],\"table\":[{\"cells\":{\"fill\":{\"color\":\"rgb(237,237,237)\"},\"line\":{\"color\":\"white\"}},\"header\":{\"fill\":{\"color\":\"rgb(217,217,217)\"},\"line\":{\"color\":\"white\"}},\"type\":\"table\"}]},\"layout\":{\"annotationdefaults\":{\"arrowhead\":0,\"arrowwidth\":1},\"autotypenumbers\":\"strict\",\"coloraxis\":{\"colorbar\":{\"outlinewidth\":0,\"tickcolor\":\"rgb(237,237,237)\",\"ticklen\":6,\"ticks\":\"inside\"}},\"colorscale\":{\"sequential\":[[0,\"rgb(20,44,66)\"],[1,\"rgb(90,179,244)\"]],\"sequentialminus\":[[0,\"rgb(20,44,66)\"],[1,\"rgb(90,179,244)\"]]},\"colorway\":[\"#F8766D\",\"#A3A500\",\"#00BF7D\",\"#00B0F6\",\"#E76BF3\"],\"font\":{\"color\":\"rgb(51,51,51)\"},\"geo\":{\"bgcolor\":\"white\",\"lakecolor\":\"white\",\"landcolor\":\"rgb(237,237,237)\",\"showlakes\":true,\"showland\":true,\"subunitcolor\":\"white\"},\"hoverlabel\":{\"align\":\"left\"},\"hovermode\":\"closest\",\"paper_bgcolor\":\"white\",\"plot_bgcolor\":\"rgb(237,237,237)\",\"polar\":{\"angularaxis\":{\"gridcolor\":\"white\",\"linecolor\":\"white\",\"showgrid\":true,\"tickcolor\":\"rgb(51,51,51)\",\"ticks\":\"outside\"},\"bgcolor\":\"rgb(237,237,237)\",\"radialaxis\":{\"gridcolor\":\"white\",\"linecolor\":\"white\",\"showgrid\":true,\"tickcolor\":\"rgb(51,51,51)\",\"ticks\":\"outside\"}},\"scene\":{\"xaxis\":{\"backgroundcolor\":\"rgb(237,237,237)\",\"gridcolor\":\"white\",\"gridwidth\":2,\"linecolor\":\"white\",\"showbackground\":true,\"showgrid\":true,\"tickcolor\":\"rgb(51,51,51)\",\"ticks\":\"outside\",\"zerolinecolor\":\"white\"},\"yaxis\":{\"backgroundcolor\":\"rgb(237,237,237)\",\"gridcolor\":\"white\",\"gridwidth\":2,\"linecolor\":\"white\",\"showbackground\":true,\"showgrid\":true,\"tickcolor\":\"rgb(51,51,51)\",\"ticks\":\"outside\",\"zerolinecolor\":\"white\"},\"zaxis\":{\"backgroundcolor\":\"rgb(237,237,237)\",\"gridcolor\":\"white\",\"gridwidth\":2,\"linecolor\":\"white\",\"showbackground\":true,\"showgrid\":true,\"tickcolor\":\"rgb(51,51,51)\",\"ticks\":\"outside\",\"zerolinecolor\":\"white\"}},\"shapedefaults\":{\"fillcolor\":\"black\",\"line\":{\"width\":0},\"opacity\":0.3},\"ternary\":{\"aaxis\":{\"gridcolor\":\"white\",\"linecolor\":\"white\",\"showgrid\":true,\"tickcolor\":\"rgb(51,51,51)\",\"ticks\":\"outside\"},\"baxis\":{\"gridcolor\":\"white\",\"linecolor\":\"white\",\"showgrid\":true,\"tickcolor\":\"rgb(51,51,51)\",\"ticks\":\"outside\"},\"bgcolor\":\"rgb(237,237,237)\",\"caxis\":{\"gridcolor\":\"white\",\"linecolor\":\"white\",\"showgrid\":true,\"tickcolor\":\"rgb(51,51,51)\",\"ticks\":\"outside\"}},\"xaxis\":{\"automargin\":true,\"gridcolor\":\"white\",\"linecolor\":\"white\",\"showgrid\":true,\"tickcolor\":\"rgb(51,51,51)\",\"ticks\":\"outside\",\"title\":{\"standoff\":15},\"zerolinecolor\":\"white\"},\"yaxis\":{\"automargin\":true,\"gridcolor\":\"white\",\"linecolor\":\"white\",\"showgrid\":true,\"tickcolor\":\"rgb(51,51,51)\",\"ticks\":\"outside\",\"title\":{\"standoff\":15},\"zerolinecolor\":\"white\"}}},\"title\":{\"text\":\"Residuals\"},\"xaxis\":{\"title\":{\"text\":\"Time\"}},\"yaxis\":{\"title\":{\"text\":\"Values\"}}},                        {\"responsive\": true}                    ).then(function(){\n",
              "                            \n",
              "var gd = document.getElementById('8e48b4e9-57e3-4983-9463-6b8223d9ff9a');\n",
              "var x = new MutationObserver(function (mutations, observer) {{\n",
              "        var display = window.getComputedStyle(gd).display;\n",
              "        if (!display || display === 'none') {{\n",
              "            console.log([gd, 'removed!']);\n",
              "            Plotly.purge(gd);\n",
              "            observer.disconnect();\n",
              "        }}\n",
              "}});\n",
              "\n",
              "// Listen for the removal of the full notebook cells\n",
              "var notebookContainer = gd.closest('#notebook-container');\n",
              "if (notebookContainer) {{\n",
              "    x.observe(notebookContainer, {childList: true});\n",
              "}}\n",
              "\n",
              "// Listen for the clearing of the current output cell\n",
              "var outputEl = gd.closest('.output');\n",
              "if (outputEl) {{\n",
              "    x.observe(outputEl, {childList: true});\n",
              "}}\n",
              "\n",
              "                        })                };                            </script>        </div>\n",
              "</body>\n",
              "</html>"
            ]
          },
          "metadata": {}
        },
        {
          "output_type": "stream",
          "name": "stdout",
          "text": [
            "Variance of Residuals: 19.838012211345678\n"
          ]
        }
      ]
    },
    {
      "cell_type": "markdown",
      "metadata": {
        "id": "DW32vxOAZAKs"
      },
      "source": [
        "**So the intercept in the model summary represents the Mean of the training data in this case and the sigma2 represents the variance of the model residuals.**"
      ]
    },
    {
      "cell_type": "markdown",
      "metadata": {
        "id": "bbVW8kjqZGgH"
      },
      "source": [
        "What about the model predictions?"
      ]
    },
    {
      "cell_type": "code",
      "metadata": {
        "colab": {
          "base_uri": "https://localhost:8080/",
          "height": 1000
        },
        "id": "C1LQ3sQcYp2m",
        "outputId": "8b13a6ca-2244-4b1d-c4db-f6582503387d"
      },
      "source": [
        "plot_predictions(model1)"
      ],
      "execution_count": 16,
      "outputs": [
        {
          "output_type": "display_data",
          "data": {
            "text/html": [
              "<html>\n",
              "<head><meta charset=\"utf-8\" /></head>\n",
              "<body>\n",
              "    <div>            <script src=\"https://cdnjs.cloudflare.com/ajax/libs/mathjax/2.7.5/MathJax.js?config=TeX-AMS-MML_SVG\"></script><script type=\"text/javascript\">if (window.MathJax) {MathJax.Hub.Config({SVG: {font: \"STIX-Web\"}});}</script>                <script type=\"text/javascript\">window.PlotlyConfig = {MathJaxConfig: 'local'};</script>\n",
              "        <script src=\"https://cdn.plot.ly/plotly-2.4.2.min.js\"></script>                <div id=\"65bc8f06-6a1f-4b66-9e77-dd003d2905d2\" class=\"plotly-graph-div\" style=\"height:525px; width:100%;\"></div>            <script type=\"text/javascript\">                                    window.PLOTLYENV=window.PLOTLYENV || {};                                    if (document.getElementById(\"65bc8f06-6a1f-4b66-9e77-dd003d2905d2\")) {                    Plotly.newPlot(                        \"65bc8f06-6a1f-4b66-9e77-dd003d2905d2\",                        [{\"line\":{\"color\":\"#1f77b4\"},\"marker\":{\"size\":5},\"mode\":\"lines+markers\",\"name\":\"Forecast | ARIMA\",\"showlegend\":true,\"type\":\"scatter\",\"x\":[310,311,312,313,314,315,316,317,318,319,320,321,322,323,324,325,326,327,328,329,330,331,332,333,334,335,336,337,338,339],\"y\":[186.5966,186.5966,186.5966,186.5966,186.5966,186.5966,186.5966,186.5966,186.5966,186.5966,186.5966,186.5966,186.5966,186.5966,186.5966,186.5966,186.5966,186.5966,186.5966,186.5966,186.5966,186.5966,186.5966,186.5966,186.5966,186.5966,186.5966,186.5966,186.5966,186.5966]},{\"line\":{\"width\":0},\"marker\":{\"color\":\"#68BBE3\"},\"mode\":\"lines\",\"name\":\"Lower Interval\",\"showlegend\":false,\"type\":\"scatter\",\"x\":[310,311,312,313,314,315,316,317,318,319,320,321,322,323,324,325,326,327,328,329,330,331,332,333,334,335,336,337,338,339],\"y\":[177.8669,177.8669,177.8669,177.8669,177.8669,177.8669,177.8669,177.8669,177.8669,177.8669,177.8669,177.8669,177.8669,177.8669,177.8669,177.8669,177.8669,177.8669,177.8669,177.8669,177.8669,177.8669,177.8669,177.8669,177.8669,177.8669,177.8669,177.8669,177.8669,177.8669]},{\"fill\":\"tonexty\",\"fillcolor\":\"rgba(104,187,227,0.5)\",\"line\":{\"width\":0},\"marker\":{\"color\":\"#68BBE3\"},\"mode\":\"lines\",\"name\":\"Prediction Interval | ARIMA\",\"showlegend\":true,\"type\":\"scatter\",\"x\":[310,311,312,313,314,315,316,317,318,319,320,321,322,323,324,325,326,327,328,329,330,331,332,333,334,335,336,337,338,339],\"y\":[195.3262,195.3262,195.3262,195.3262,195.3262,195.3262,195.3262,195.3262,195.3262,195.3262,195.3262,195.3262,195.3262,195.3262,195.3262,195.3262,195.3262,195.3262,195.3262,195.3262,195.3262,195.3262,195.3262,195.3262,195.3262,195.3262,195.3262,195.3262,195.3262,195.3262]},{\"marker\":{\"color\":\"#3f3f3f\",\"size\":5},\"mode\":\"lines+markers\",\"name\":\"Original\",\"showlegend\":true,\"type\":\"scatter\",\"x\":[0,1,2,3,4,5,6,7,8,9,10,11,12,13,14,15,16,17,18,19,20,21,22,23,24,25,26,27,28,29,30,31,32,33,34,35,36,37,38,39,40,41,42,43,44,45,46,47,48,49,50,51,52,53,54,55,56,57,58,59,60,61,62,63,64,65,66,67,68,69,70,71,72,73,74,75,76,77,78,79,80,81,82,83,84,85,86,87,88,89,90,91,92,93,94,95,96,97,98,99,100,101,102,103,104,105,106,107,108,109,110,111,112,113,114,115,116,117,118,119,120,121,122,123,124,125,126,127,128,129,130,131,132,133,134,135,136,137,138,139,140,141,142,143,144,145,146,147,148,149,150,151,152,153,154,155,156,157,158,159,160,161,162,163,164,165,166,167,168,169,170,171,172,173,174,175,176,177,178,179,180,181,182,183,184,185,186,187,188,189,190,191,192,193,194,195,196,197,198,199,200,201,202,203,204,205,206,207,208,209,210,211,212,213,214,215,216,217,218,219,220,221,222,223,224,225,226,227,228,229,230,231,232,233,234,235,236,237,238,239,240,241,242,243,244,245,246,247,248,249,250,251,252,253,254,255,256,257,258,259,260,261,262,263,264,265,266,267,268,269,270,271,272,273,274,275,276,277,278,279,280,281,282,283,284,285,286,287,288,289,290,291,292,293,294,295,296,297,298,299,300,301,302,303,304,305,306,307,308,309,310,311,312,313,314,315,316,317,318,319,320,321,322,323,324,325,326,327,328,329,330,331,332,333,334,335,336,337,338,339],\"y\":[186.268370014241,186.31048588738602,185.399564238833,185.557593011237,184.903008367318,186.670295636691,187.38700311270802,188.29717734220299,188.68136270003004,190.36353878054902,189.7278023266,189.26615759624,190.698439834781,190.04774348147097,189.840362737869,189.44755480842701,189.127561939879,188.84844863690202,189.34263696817,189.1653064859,188.659349023786,190.002387848956,189.78780844041,189.608251910366,189.508061169153,190.220727476204,190.14716307207803,190.109528900611,189.427868421855,189.10359814960898,189.163758590043,188.574864103783,189.10636029641603,187.58796621462898,187.894524075419,186.358074251881,186.057098125045,185.52881822060002,184.876723439919,184.819826662071,182.905467236391,184.08205054841,182.417078112198,181.953547710726,180.837627605683,180.086808604489,182.173975150118,182.191370769811,180.90507023937698,179.264464704958,179.714651806231,179.69609197351602,179.37802359897202,178.44866145151798,176.961201141377,175.88600884476102,176.886037648475,176.264770953678,174.880344106294,176.749634728717,177.17473510608997,176.936088005177,177.994571053886,178.880993705261,178.26175065702998,180.46785312157,180.21282609142898,178.788331441216,178.643931839262,178.851470178494,181.159448577554,181.265250945448,181.72224975087101,181.645096815514,181.311095973148,181.276369944837,182.064009550467,184.139254559119,185.166646997883,186.37455539626998,185.143231974711,186.12712754476502,186.34705234842602,184.879802319333,185.400825061981,185.24207045726502,186.706657769235,185.940575769631,185.510364015702,184.584254518325,184.407150556888,184.80916233637402,184.077414163255,184.907787331236,183.699704544932,182.65172013212398,184.092877838968,183.07703037366403,183.48900508598098,183.10792903487203,183.517330874523,185.206204160727,186.79279259416901,186.461884793487,184.176649258194,186.674310848028,187.341377014794,187.88270435075802,187.869304827612,188.379413250565,188.21503741879502,188.635732062049,188.23548531807202,186.86527744052398,187.85311570797901,189.372860733479,189.064120164253,187.810830408645,188.45307171432302,188.40836257742902,186.67514417060397,186.677276030285,186.046975696357,185.706007116496,184.54943475386003,186.352576661778,186.021444625386,184.415931213133,184.61312465187302,184.876300298278,183.890473597869,181.00155292619,180.361071223624,180.93157885954497,180.871855583502,180.773676839497,181.334497568117,180.148038929538,181.244815973812,181.23947194553398,181.94678261293203,182.980890347669,183.204370762585,182.32566314971902,183.48862770568599,181.4884627609,180.94367202089902,180.68800131174197,180.521880274977,181.54234418376097,181.678566076864,182.085733680287,182.016078867275,181.76841452565498,182.463965332275,183.610193689491,181.207097474599,181.779837029845,182.154561436623,181.72929371506697,182.680306522644,182.29106934092601,182.00673867912602,182.864148457206,184.58377575632701,184.85383065726398,184.43164664747601,183.242533352617,182.911500373737,181.97167104722698,181.712738464109,182.10711763233002,181.255260540306,183.90442742140098,184.060439097066,185.190646364521,182.90152238468102,183.64252354187698,182.32627838142503,183.246082059034,183.644212214486,183.236683635216,184.56094226539398,183.859710596147,183.279096291906,182.278024110881,181.609845504127,182.5550304575,182.98873260704602,183.99389182472302,183.603773160669,183.980143452444,184.22430837693,182.798051034548,184.576480322023,184.710927982957,185.476526982115,186.431663659024,186.38109795758098,186.075282537814,186.96895624023998,185.921658091179,187.892995477403,187.509363371114,189.163508673389,190.67572136733997,190.758687100926,191.325908015777,190.30135953624298,190.62436603926497,191.667978497622,191.767056984519,191.312920075364,190.657138222914,190.621215800291,191.690377260968,191.206402330667,191.08539221933898,189.791252215519,190.285565051534,191.59346657164798,193.09050758105,193.90521031194803,192.035421521745,192.51745102586898,192.97358662917,192.62018634334,192.790675814288,191.92663986016103,192.60587063417702,192.278769619524,190.70968743438,190.342236678209,191.70667160727902,191.372390242548,192.105140284757,193.05172592495498,193.05612462928102,192.703802323732,192.17410681459802,192.913696040173,191.85023862468998,192.096449468226,191.80695010166198,189.54206074517398,188.133210289101,189.04922961789399,188.857950667358,189.661233883492,191.548708346801,193.02258952791001,193.69985802022302,194.079820706789,193.887022280332,195.464914075237,196.061148184555,194.887571243684,194.731928708793,192.81301888852298,192.61776004241298,190.025432372467,191.339434539665,190.703891538633,190.273912699939,190.104594367637,190.716812541626,191.395152718848,191.96310469132,191.390562087394,190.027270831116,189.638548586778,189.91646271922798,189.093381597656,189.024540663178,187.856878337048,187.848569322832,187.97742472443,187.831549095969,187.66763813923302,189.431190142018,190.193776654436,191.30520773516702,190.382000782337,190.546342620765,191.70116780786202,191.64464638333598,189.515285735101,189.8601314972,187.95517605161498,187.144005898475,188.46801021977402,189.083647069077,190.17531602461202,190.48192088612598,190.371762123643,189.44744935051602,191.040363104235,191.08537370235697,190.37024530168898,191.235468401406,192.30990935968399,194.20556413388303,193.602566830277,193.211699009554,192.795476978024,192.41981955520401,192.053188609501,191.7575111568,193.199331567,192.501793275087,192.113625769166,192.76616222133703,193.890934667873,193.11882386484902,192.61073764871003,193.13435823920798,194.152112465746,193.900947877658,192.47095443027,194.18007546237098,195.615145034682,194.904773888832,194.839706315177,193.08023757981098,193.64996055163002,195.262307349832,193.625026702727,192.845458189525,192.204281255775,191.523149862204,189.489864266586,189.990827825834,188.459029685868,188.43403204659,189.027016767615,188.82882134612998,189.720829738604,189.695114667686,189.04745421709998,189.693813632135]}],                        {\"showlegend\":true,\"template\":{\"data\":{\"bar\":[{\"error_x\":{\"color\":\"rgb(51,51,51)\"},\"error_y\":{\"color\":\"rgb(51,51,51)\"},\"marker\":{\"line\":{\"color\":\"rgb(237,237,237)\",\"width\":0.5},\"pattern\":{\"fillmode\":\"overlay\",\"size\":10,\"solidity\":0.2}},\"type\":\"bar\"}],\"barpolar\":[{\"marker\":{\"line\":{\"color\":\"rgb(237,237,237)\",\"width\":0.5},\"pattern\":{\"fillmode\":\"overlay\",\"size\":10,\"solidity\":0.2}},\"type\":\"barpolar\"}],\"carpet\":[{\"aaxis\":{\"endlinecolor\":\"rgb(51,51,51)\",\"gridcolor\":\"white\",\"linecolor\":\"white\",\"minorgridcolor\":\"white\",\"startlinecolor\":\"rgb(51,51,51)\"},\"baxis\":{\"endlinecolor\":\"rgb(51,51,51)\",\"gridcolor\":\"white\",\"linecolor\":\"white\",\"minorgridcolor\":\"white\",\"startlinecolor\":\"rgb(51,51,51)\"},\"type\":\"carpet\"}],\"choropleth\":[{\"colorbar\":{\"outlinewidth\":0,\"tickcolor\":\"rgb(237,237,237)\",\"ticklen\":6,\"ticks\":\"inside\"},\"type\":\"choropleth\"}],\"contour\":[{\"colorbar\":{\"outlinewidth\":0,\"tickcolor\":\"rgb(237,237,237)\",\"ticklen\":6,\"ticks\":\"inside\"},\"colorscale\":[[0,\"rgb(20,44,66)\"],[1,\"rgb(90,179,244)\"]],\"type\":\"contour\"}],\"contourcarpet\":[{\"colorbar\":{\"outlinewidth\":0,\"tickcolor\":\"rgb(237,237,237)\",\"ticklen\":6,\"ticks\":\"inside\"},\"type\":\"contourcarpet\"}],\"heatmap\":[{\"colorbar\":{\"outlinewidth\":0,\"tickcolor\":\"rgb(237,237,237)\",\"ticklen\":6,\"ticks\":\"inside\"},\"colorscale\":[[0,\"rgb(20,44,66)\"],[1,\"rgb(90,179,244)\"]],\"type\":\"heatmap\"}],\"heatmapgl\":[{\"colorbar\":{\"outlinewidth\":0,\"tickcolor\":\"rgb(237,237,237)\",\"ticklen\":6,\"ticks\":\"inside\"},\"colorscale\":[[0,\"rgb(20,44,66)\"],[1,\"rgb(90,179,244)\"]],\"type\":\"heatmapgl\"}],\"histogram\":[{\"marker\":{\"pattern\":{\"fillmode\":\"overlay\",\"size\":10,\"solidity\":0.2}},\"type\":\"histogram\"}],\"histogram2d\":[{\"colorbar\":{\"outlinewidth\":0,\"tickcolor\":\"rgb(237,237,237)\",\"ticklen\":6,\"ticks\":\"inside\"},\"colorscale\":[[0,\"rgb(20,44,66)\"],[1,\"rgb(90,179,244)\"]],\"type\":\"histogram2d\"}],\"histogram2dcontour\":[{\"colorbar\":{\"outlinewidth\":0,\"tickcolor\":\"rgb(237,237,237)\",\"ticklen\":6,\"ticks\":\"inside\"},\"colorscale\":[[0,\"rgb(20,44,66)\"],[1,\"rgb(90,179,244)\"]],\"type\":\"histogram2dcontour\"}],\"mesh3d\":[{\"colorbar\":{\"outlinewidth\":0,\"tickcolor\":\"rgb(237,237,237)\",\"ticklen\":6,\"ticks\":\"inside\"},\"type\":\"mesh3d\"}],\"parcoords\":[{\"line\":{\"colorbar\":{\"outlinewidth\":0,\"tickcolor\":\"rgb(237,237,237)\",\"ticklen\":6,\"ticks\":\"inside\"}},\"type\":\"parcoords\"}],\"pie\":[{\"automargin\":true,\"type\":\"pie\"}],\"scatter\":[{\"marker\":{\"colorbar\":{\"outlinewidth\":0,\"tickcolor\":\"rgb(237,237,237)\",\"ticklen\":6,\"ticks\":\"inside\"}},\"type\":\"scatter\"}],\"scatter3d\":[{\"line\":{\"colorbar\":{\"outlinewidth\":0,\"tickcolor\":\"rgb(237,237,237)\",\"ticklen\":6,\"ticks\":\"inside\"}},\"marker\":{\"colorbar\":{\"outlinewidth\":0,\"tickcolor\":\"rgb(237,237,237)\",\"ticklen\":6,\"ticks\":\"inside\"}},\"type\":\"scatter3d\"}],\"scattercarpet\":[{\"marker\":{\"colorbar\":{\"outlinewidth\":0,\"tickcolor\":\"rgb(237,237,237)\",\"ticklen\":6,\"ticks\":\"inside\"}},\"type\":\"scattercarpet\"}],\"scattergeo\":[{\"marker\":{\"colorbar\":{\"outlinewidth\":0,\"tickcolor\":\"rgb(237,237,237)\",\"ticklen\":6,\"ticks\":\"inside\"}},\"type\":\"scattergeo\"}],\"scattergl\":[{\"marker\":{\"colorbar\":{\"outlinewidth\":0,\"tickcolor\":\"rgb(237,237,237)\",\"ticklen\":6,\"ticks\":\"inside\"}},\"type\":\"scattergl\"}],\"scattermapbox\":[{\"marker\":{\"colorbar\":{\"outlinewidth\":0,\"tickcolor\":\"rgb(237,237,237)\",\"ticklen\":6,\"ticks\":\"inside\"}},\"type\":\"scattermapbox\"}],\"scatterpolar\":[{\"marker\":{\"colorbar\":{\"outlinewidth\":0,\"tickcolor\":\"rgb(237,237,237)\",\"ticklen\":6,\"ticks\":\"inside\"}},\"type\":\"scatterpolar\"}],\"scatterpolargl\":[{\"marker\":{\"colorbar\":{\"outlinewidth\":0,\"tickcolor\":\"rgb(237,237,237)\",\"ticklen\":6,\"ticks\":\"inside\"}},\"type\":\"scatterpolargl\"}],\"scatterternary\":[{\"marker\":{\"colorbar\":{\"outlinewidth\":0,\"tickcolor\":\"rgb(237,237,237)\",\"ticklen\":6,\"ticks\":\"inside\"}},\"type\":\"scatterternary\"}],\"surface\":[{\"colorbar\":{\"outlinewidth\":0,\"tickcolor\":\"rgb(237,237,237)\",\"ticklen\":6,\"ticks\":\"inside\"},\"colorscale\":[[0,\"rgb(20,44,66)\"],[1,\"rgb(90,179,244)\"]],\"type\":\"surface\"}],\"table\":[{\"cells\":{\"fill\":{\"color\":\"rgb(237,237,237)\"},\"line\":{\"color\":\"white\"}},\"header\":{\"fill\":{\"color\":\"rgb(217,217,217)\"},\"line\":{\"color\":\"white\"}},\"type\":\"table\"}]},\"layout\":{\"annotationdefaults\":{\"arrowhead\":0,\"arrowwidth\":1},\"autotypenumbers\":\"strict\",\"coloraxis\":{\"colorbar\":{\"outlinewidth\":0,\"tickcolor\":\"rgb(237,237,237)\",\"ticklen\":6,\"ticks\":\"inside\"}},\"colorscale\":{\"sequential\":[[0,\"rgb(20,44,66)\"],[1,\"rgb(90,179,244)\"]],\"sequentialminus\":[[0,\"rgb(20,44,66)\"],[1,\"rgb(90,179,244)\"]]},\"colorway\":[\"#F8766D\",\"#A3A500\",\"#00BF7D\",\"#00B0F6\",\"#E76BF3\"],\"font\":{\"color\":\"rgb(51,51,51)\"},\"geo\":{\"bgcolor\":\"white\",\"lakecolor\":\"white\",\"landcolor\":\"rgb(237,237,237)\",\"showlakes\":true,\"showland\":true,\"subunitcolor\":\"white\"},\"hoverlabel\":{\"align\":\"left\"},\"hovermode\":\"closest\",\"paper_bgcolor\":\"white\",\"plot_bgcolor\":\"rgb(237,237,237)\",\"polar\":{\"angularaxis\":{\"gridcolor\":\"white\",\"linecolor\":\"white\",\"showgrid\":true,\"tickcolor\":\"rgb(51,51,51)\",\"ticks\":\"outside\"},\"bgcolor\":\"rgb(237,237,237)\",\"radialaxis\":{\"gridcolor\":\"white\",\"linecolor\":\"white\",\"showgrid\":true,\"tickcolor\":\"rgb(51,51,51)\",\"ticks\":\"outside\"}},\"scene\":{\"xaxis\":{\"backgroundcolor\":\"rgb(237,237,237)\",\"gridcolor\":\"white\",\"gridwidth\":2,\"linecolor\":\"white\",\"showbackground\":true,\"showgrid\":true,\"tickcolor\":\"rgb(51,51,51)\",\"ticks\":\"outside\",\"zerolinecolor\":\"white\"},\"yaxis\":{\"backgroundcolor\":\"rgb(237,237,237)\",\"gridcolor\":\"white\",\"gridwidth\":2,\"linecolor\":\"white\",\"showbackground\":true,\"showgrid\":true,\"tickcolor\":\"rgb(51,51,51)\",\"ticks\":\"outside\",\"zerolinecolor\":\"white\"},\"zaxis\":{\"backgroundcolor\":\"rgb(237,237,237)\",\"gridcolor\":\"white\",\"gridwidth\":2,\"linecolor\":\"white\",\"showbackground\":true,\"showgrid\":true,\"tickcolor\":\"rgb(51,51,51)\",\"ticks\":\"outside\",\"zerolinecolor\":\"white\"}},\"shapedefaults\":{\"fillcolor\":\"black\",\"line\":{\"width\":0},\"opacity\":0.3},\"ternary\":{\"aaxis\":{\"gridcolor\":\"white\",\"linecolor\":\"white\",\"showgrid\":true,\"tickcolor\":\"rgb(51,51,51)\",\"ticks\":\"outside\"},\"baxis\":{\"gridcolor\":\"white\",\"linecolor\":\"white\",\"showgrid\":true,\"tickcolor\":\"rgb(51,51,51)\",\"ticks\":\"outside\"},\"bgcolor\":\"rgb(237,237,237)\",\"caxis\":{\"gridcolor\":\"white\",\"linecolor\":\"white\",\"showgrid\":true,\"tickcolor\":\"rgb(51,51,51)\",\"ticks\":\"outside\"}},\"xaxis\":{\"automargin\":true,\"gridcolor\":\"white\",\"linecolor\":\"white\",\"showgrid\":true,\"tickcolor\":\"rgb(51,51,51)\",\"ticks\":\"outside\",\"title\":{\"standoff\":15},\"zerolinecolor\":\"white\"},\"yaxis\":{\"automargin\":true,\"gridcolor\":\"white\",\"linecolor\":\"white\",\"showgrid\":true,\"tickcolor\":\"rgb(51,51,51)\",\"ticks\":\"outside\",\"title\":{\"standoff\":15},\"zerolinecolor\":\"white\"}}},\"title\":{\"text\":\"Actual vs. 'Out-of-Sample' Forecast | x\"},\"xaxis\":{\"title\":{\"text\":\"Time\"}},\"yaxis\":{\"title\":{\"text\":\"Values\"}}},                        {\"responsive\": true}                    ).then(function(){\n",
              "                            \n",
              "var gd = document.getElementById('65bc8f06-6a1f-4b66-9e77-dd003d2905d2');\n",
              "var x = new MutationObserver(function (mutations, observer) {{\n",
              "        var display = window.getComputedStyle(gd).display;\n",
              "        if (!display || display === 'none') {{\n",
              "            console.log([gd, 'removed!']);\n",
              "            Plotly.purge(gd);\n",
              "            observer.disconnect();\n",
              "        }}\n",
              "}});\n",
              "\n",
              "// Listen for the removal of the full notebook cells\n",
              "var notebookContainer = gd.closest('#notebook-container');\n",
              "if (notebookContainer) {{\n",
              "    x.observe(notebookContainer, {childList: true});\n",
              "}}\n",
              "\n",
              "// Listen for the clearing of the current output cell\n",
              "var outputEl = gd.closest('.output');\n",
              "if (outputEl) {{\n",
              "    x.observe(outputEl, {childList: true});\n",
              "}}\n",
              "\n",
              "                        })                };                            </script>        </div>\n",
              "</body>\n",
              "</html>"
            ]
          },
          "metadata": {}
        },
        {
          "output_type": "display_data",
          "data": {
            "text/html": [
              "<html>\n",
              "<head><meta charset=\"utf-8\" /></head>\n",
              "<body>\n",
              "    <div>            <script src=\"https://cdnjs.cloudflare.com/ajax/libs/mathjax/2.7.5/MathJax.js?config=TeX-AMS-MML_SVG\"></script><script type=\"text/javascript\">if (window.MathJax) {MathJax.Hub.Config({SVG: {font: \"STIX-Web\"}});}</script>                <script type=\"text/javascript\">window.PlotlyConfig = {MathJaxConfig: 'local'};</script>\n",
              "        <script src=\"https://cdn.plot.ly/plotly-2.4.2.min.js\"></script>                <div id=\"a65b9fec-4a63-4121-ad0a-9566a0f9da78\" class=\"plotly-graph-div\" style=\"height:525px; width:100%;\"></div>            <script type=\"text/javascript\">                                    window.PLOTLYENV=window.PLOTLYENV || {};                                    if (document.getElementById(\"a65b9fec-4a63-4121-ad0a-9566a0f9da78\")) {                    Plotly.newPlot(                        \"a65b9fec-4a63-4121-ad0a-9566a0f9da78\",                        [{\"line\":{\"color\":\"#1f77b4\"},\"marker\":{\"size\":5},\"mode\":\"lines+markers\",\"name\":\"Forecast | ARIMA\",\"showlegend\":true,\"type\":\"scatter\",\"x\":[0,1,2,3,4,5,6,7,8,9,10,11,12,13,14,15,16,17,18,19,20,21,22,23,24,25,26,27,28,29,30,31,32,33,34,35,36,37,38,39,40,41,42,43,44,45,46,47,48,49,50,51,52,53,54,55,56,57,58,59,60,61,62,63,64,65,66,67,68,69,70,71,72,73,74,75,76,77,78,79,80,81,82,83,84,85,86,87,88,89,90,91,92,93,94,95,96,97,98,99,100,101,102,103,104,105,106,107,108,109,110,111,112,113,114,115,116,117,118,119,120,121,122,123,124,125,126,127,128,129,130,131,132,133,134,135,136,137,138,139,140,141,142,143,144,145,146,147,148,149,150,151,152,153,154,155,156,157,158,159,160,161,162,163,164,165,166,167,168,169,170,171,172,173,174,175,176,177,178,179,180,181,182,183,184,185,186,187,188,189,190,191,192,193,194,195,196,197,198,199,200,201,202,203,204,205,206,207,208,209,210,211,212,213,214,215,216,217,218,219,220,221,222,223,224,225,226,227,228,229,230,231,232,233,234,235,236,237,238,239,240,241,242,243,244,245,246,247,248,249,250,251,252,253,254,255,256,257,258,259,260,261,262,263,264,265,266,267,268,269,270,271,272,273,274,275,276,277,278,279,280,281,282,283,284,285,286,287,288,289,290,291,292,293,294,295,296,297,298,299,300,301,302,303,304,305,306,307,308,309],\"y\":[186.5966,186.5966,186.5966,186.5966,186.5966,186.5966,186.5966,186.5966,186.5966,186.5966,186.5966,186.5966,186.5966,186.5966,186.5966,186.5966,186.5966,186.5966,186.5966,186.5966,186.5966,186.5966,186.5966,186.5966,186.5966,186.5966,186.5966,186.5966,186.5966,186.5966,186.5966,186.5966,186.5966,186.5966,186.5966,186.5966,186.5966,186.5966,186.5966,186.5966,186.5966,186.5966,186.5966,186.5966,186.5966,186.5966,186.5966,186.5966,186.5966,186.5966,186.5966,186.5966,186.5966,186.5966,186.5966,186.5966,186.5966,186.5966,186.5966,186.5966,186.5966,186.5966,186.5966,186.5966,186.5966,186.5966,186.5966,186.5966,186.5966,186.5966,186.5966,186.5966,186.5966,186.5966,186.5966,186.5966,186.5966,186.5966,186.5966,186.5966,186.5966,186.5966,186.5966,186.5966,186.5966,186.5966,186.5966,186.5966,186.5966,186.5966,186.5966,186.5966,186.5966,186.5966,186.5966,186.5966,186.5966,186.5966,186.5966,186.5966,186.5966,186.5966,186.5966,186.5966,186.5966,186.5966,186.5966,186.5966,186.5966,186.5966,186.5966,186.5966,186.5966,186.5966,186.5966,186.5966,186.5966,186.5966,186.5966,186.5966,186.5966,186.5966,186.5966,186.5966,186.5966,186.5966,186.5966,186.5966,186.5966,186.5966,186.5966,186.5966,186.5966,186.5966,186.5966,186.5966,186.5966,186.5966,186.5966,186.5966,186.5966,186.5966,186.5966,186.5966,186.5966,186.5966,186.5966,186.5966,186.5966,186.5966,186.5966,186.5966,186.5966,186.5966,186.5966,186.5966,186.5966,186.5966,186.5966,186.5966,186.5966,186.5966,186.5966,186.5966,186.5966,186.5966,186.5966,186.5966,186.5966,186.5966,186.5966,186.5966,186.5966,186.5966,186.5966,186.5966,186.5966,186.5966,186.5966,186.5966,186.5966,186.5966,186.5966,186.5966,186.5966,186.5966,186.5966,186.5966,186.5966,186.5966,186.5966,186.5966,186.5966,186.5966,186.5966,186.5966,186.5966,186.5966,186.5966,186.5966,186.5966,186.5966,186.5966,186.5966,186.5966,186.5966,186.5966,186.5966,186.5966,186.5966,186.5966,186.5966,186.5966,186.5966,186.5966,186.5966,186.5966,186.5966,186.5966,186.5966,186.5966,186.5966,186.5966,186.5966,186.5966,186.5966,186.5966,186.5966,186.5966,186.5966,186.5966,186.5966,186.5966,186.5966,186.5966,186.5966,186.5966,186.5966,186.5966,186.5966,186.5966,186.5966,186.5966,186.5966,186.5966,186.5966,186.5966,186.5966,186.5966,186.5966,186.5966,186.5966,186.5966,186.5966,186.5966,186.5966,186.5966,186.5966,186.5966,186.5966,186.5966,186.5966,186.5966,186.5966,186.5966,186.5966,186.5966,186.5966,186.5966,186.5966,186.5966,186.5966,186.5966,186.5966,186.5966,186.5966,186.5966,186.5966,186.5966,186.5966,186.5966,186.5966,186.5966,186.5966,186.5966,186.5966,186.5966,186.5966,186.5966,186.5966,186.5966,186.5966,186.5966,186.5966,186.5966,186.5966,186.5966,186.5966,186.5966,186.5966,186.5966,186.5966,186.5966,186.5966,186.5966,186.5966,186.5966,186.5966,186.5966,186.5966]},{\"marker\":{\"color\":\"#3f3f3f\",\"size\":5},\"mode\":\"lines+markers\",\"name\":\"Original\",\"showlegend\":true,\"type\":\"scatter\",\"x\":[0,1,2,3,4,5,6,7,8,9,10,11,12,13,14,15,16,17,18,19,20,21,22,23,24,25,26,27,28,29,30,31,32,33,34,35,36,37,38,39,40,41,42,43,44,45,46,47,48,49,50,51,52,53,54,55,56,57,58,59,60,61,62,63,64,65,66,67,68,69,70,71,72,73,74,75,76,77,78,79,80,81,82,83,84,85,86,87,88,89,90,91,92,93,94,95,96,97,98,99,100,101,102,103,104,105,106,107,108,109,110,111,112,113,114,115,116,117,118,119,120,121,122,123,124,125,126,127,128,129,130,131,132,133,134,135,136,137,138,139,140,141,142,143,144,145,146,147,148,149,150,151,152,153,154,155,156,157,158,159,160,161,162,163,164,165,166,167,168,169,170,171,172,173,174,175,176,177,178,179,180,181,182,183,184,185,186,187,188,189,190,191,192,193,194,195,196,197,198,199,200,201,202,203,204,205,206,207,208,209,210,211,212,213,214,215,216,217,218,219,220,221,222,223,224,225,226,227,228,229,230,231,232,233,234,235,236,237,238,239,240,241,242,243,244,245,246,247,248,249,250,251,252,253,254,255,256,257,258,259,260,261,262,263,264,265,266,267,268,269,270,271,272,273,274,275,276,277,278,279,280,281,282,283,284,285,286,287,288,289,290,291,292,293,294,295,296,297,298,299,300,301,302,303,304,305,306,307,308,309,310,311,312,313,314,315,316,317,318,319,320,321,322,323,324,325,326,327,328,329,330,331,332,333,334,335,336,337,338,339],\"y\":[186.268370014241,186.31048588738602,185.399564238833,185.557593011237,184.903008367318,186.670295636691,187.38700311270802,188.29717734220299,188.68136270003004,190.36353878054902,189.7278023266,189.26615759624,190.698439834781,190.04774348147097,189.840362737869,189.44755480842701,189.127561939879,188.84844863690202,189.34263696817,189.1653064859,188.659349023786,190.002387848956,189.78780844041,189.608251910366,189.508061169153,190.220727476204,190.14716307207803,190.109528900611,189.427868421855,189.10359814960898,189.163758590043,188.574864103783,189.10636029641603,187.58796621462898,187.894524075419,186.358074251881,186.057098125045,185.52881822060002,184.876723439919,184.819826662071,182.905467236391,184.08205054841,182.417078112198,181.953547710726,180.837627605683,180.086808604489,182.173975150118,182.191370769811,180.90507023937698,179.264464704958,179.714651806231,179.69609197351602,179.37802359897202,178.44866145151798,176.961201141377,175.88600884476102,176.886037648475,176.264770953678,174.880344106294,176.749634728717,177.17473510608997,176.936088005177,177.994571053886,178.880993705261,178.26175065702998,180.46785312157,180.21282609142898,178.788331441216,178.643931839262,178.851470178494,181.159448577554,181.265250945448,181.72224975087101,181.645096815514,181.311095973148,181.276369944837,182.064009550467,184.139254559119,185.166646997883,186.37455539626998,185.143231974711,186.12712754476502,186.34705234842602,184.879802319333,185.400825061981,185.24207045726502,186.706657769235,185.940575769631,185.510364015702,184.584254518325,184.407150556888,184.80916233637402,184.077414163255,184.907787331236,183.699704544932,182.65172013212398,184.092877838968,183.07703037366403,183.48900508598098,183.10792903487203,183.517330874523,185.206204160727,186.79279259416901,186.461884793487,184.176649258194,186.674310848028,187.341377014794,187.88270435075802,187.869304827612,188.379413250565,188.21503741879502,188.635732062049,188.23548531807202,186.86527744052398,187.85311570797901,189.372860733479,189.064120164253,187.810830408645,188.45307171432302,188.40836257742902,186.67514417060397,186.677276030285,186.046975696357,185.706007116496,184.54943475386003,186.352576661778,186.021444625386,184.415931213133,184.61312465187302,184.876300298278,183.890473597869,181.00155292619,180.361071223624,180.93157885954497,180.871855583502,180.773676839497,181.334497568117,180.148038929538,181.244815973812,181.23947194553398,181.94678261293203,182.980890347669,183.204370762585,182.32566314971902,183.48862770568599,181.4884627609,180.94367202089902,180.68800131174197,180.521880274977,181.54234418376097,181.678566076864,182.085733680287,182.016078867275,181.76841452565498,182.463965332275,183.610193689491,181.207097474599,181.779837029845,182.154561436623,181.72929371506697,182.680306522644,182.29106934092601,182.00673867912602,182.864148457206,184.58377575632701,184.85383065726398,184.43164664747601,183.242533352617,182.911500373737,181.97167104722698,181.712738464109,182.10711763233002,181.255260540306,183.90442742140098,184.060439097066,185.190646364521,182.90152238468102,183.64252354187698,182.32627838142503,183.246082059034,183.644212214486,183.236683635216,184.56094226539398,183.859710596147,183.279096291906,182.278024110881,181.609845504127,182.5550304575,182.98873260704602,183.99389182472302,183.603773160669,183.980143452444,184.22430837693,182.798051034548,184.576480322023,184.710927982957,185.476526982115,186.431663659024,186.38109795758098,186.075282537814,186.96895624023998,185.921658091179,187.892995477403,187.509363371114,189.163508673389,190.67572136733997,190.758687100926,191.325908015777,190.30135953624298,190.62436603926497,191.667978497622,191.767056984519,191.312920075364,190.657138222914,190.621215800291,191.690377260968,191.206402330667,191.08539221933898,189.791252215519,190.285565051534,191.59346657164798,193.09050758105,193.90521031194803,192.035421521745,192.51745102586898,192.97358662917,192.62018634334,192.790675814288,191.92663986016103,192.60587063417702,192.278769619524,190.70968743438,190.342236678209,191.70667160727902,191.372390242548,192.105140284757,193.05172592495498,193.05612462928102,192.703802323732,192.17410681459802,192.913696040173,191.85023862468998,192.096449468226,191.80695010166198,189.54206074517398,188.133210289101,189.04922961789399,188.857950667358,189.661233883492,191.548708346801,193.02258952791001,193.69985802022302,194.079820706789,193.887022280332,195.464914075237,196.061148184555,194.887571243684,194.731928708793,192.81301888852298,192.61776004241298,190.025432372467,191.339434539665,190.703891538633,190.273912699939,190.104594367637,190.716812541626,191.395152718848,191.96310469132,191.390562087394,190.027270831116,189.638548586778,189.91646271922798,189.093381597656,189.024540663178,187.856878337048,187.848569322832,187.97742472443,187.831549095969,187.66763813923302,189.431190142018,190.193776654436,191.30520773516702,190.382000782337,190.546342620765,191.70116780786202,191.64464638333598,189.515285735101,189.8601314972,187.95517605161498,187.144005898475,188.46801021977402,189.083647069077,190.17531602461202,190.48192088612598,190.371762123643,189.44744935051602,191.040363104235,191.08537370235697,190.37024530168898,191.235468401406,192.30990935968399,194.20556413388303,193.602566830277,193.211699009554,192.795476978024,192.41981955520401,192.053188609501,191.7575111568,193.199331567,192.501793275087,192.113625769166,192.76616222133703,193.890934667873,193.11882386484902,192.61073764871003,193.13435823920798,194.152112465746,193.900947877658,192.47095443027,194.18007546237098,195.615145034682,194.904773888832,194.839706315177,193.08023757981098,193.64996055163002,195.262307349832,193.625026702727,192.845458189525,192.204281255775,191.523149862204,189.489864266586,189.990827825834,188.459029685868,188.43403204659,189.027016767615,188.82882134612998,189.720829738604,189.695114667686,189.04745421709998,189.693813632135]}],                        {\"showlegend\":true,\"template\":{\"data\":{\"bar\":[{\"error_x\":{\"color\":\"rgb(51,51,51)\"},\"error_y\":{\"color\":\"rgb(51,51,51)\"},\"marker\":{\"line\":{\"color\":\"rgb(237,237,237)\",\"width\":0.5},\"pattern\":{\"fillmode\":\"overlay\",\"size\":10,\"solidity\":0.2}},\"type\":\"bar\"}],\"barpolar\":[{\"marker\":{\"line\":{\"color\":\"rgb(237,237,237)\",\"width\":0.5},\"pattern\":{\"fillmode\":\"overlay\",\"size\":10,\"solidity\":0.2}},\"type\":\"barpolar\"}],\"carpet\":[{\"aaxis\":{\"endlinecolor\":\"rgb(51,51,51)\",\"gridcolor\":\"white\",\"linecolor\":\"white\",\"minorgridcolor\":\"white\",\"startlinecolor\":\"rgb(51,51,51)\"},\"baxis\":{\"endlinecolor\":\"rgb(51,51,51)\",\"gridcolor\":\"white\",\"linecolor\":\"white\",\"minorgridcolor\":\"white\",\"startlinecolor\":\"rgb(51,51,51)\"},\"type\":\"carpet\"}],\"choropleth\":[{\"colorbar\":{\"outlinewidth\":0,\"tickcolor\":\"rgb(237,237,237)\",\"ticklen\":6,\"ticks\":\"inside\"},\"type\":\"choropleth\"}],\"contour\":[{\"colorbar\":{\"outlinewidth\":0,\"tickcolor\":\"rgb(237,237,237)\",\"ticklen\":6,\"ticks\":\"inside\"},\"colorscale\":[[0,\"rgb(20,44,66)\"],[1,\"rgb(90,179,244)\"]],\"type\":\"contour\"}],\"contourcarpet\":[{\"colorbar\":{\"outlinewidth\":0,\"tickcolor\":\"rgb(237,237,237)\",\"ticklen\":6,\"ticks\":\"inside\"},\"type\":\"contourcarpet\"}],\"heatmap\":[{\"colorbar\":{\"outlinewidth\":0,\"tickcolor\":\"rgb(237,237,237)\",\"ticklen\":6,\"ticks\":\"inside\"},\"colorscale\":[[0,\"rgb(20,44,66)\"],[1,\"rgb(90,179,244)\"]],\"type\":\"heatmap\"}],\"heatmapgl\":[{\"colorbar\":{\"outlinewidth\":0,\"tickcolor\":\"rgb(237,237,237)\",\"ticklen\":6,\"ticks\":\"inside\"},\"colorscale\":[[0,\"rgb(20,44,66)\"],[1,\"rgb(90,179,244)\"]],\"type\":\"heatmapgl\"}],\"histogram\":[{\"marker\":{\"pattern\":{\"fillmode\":\"overlay\",\"size\":10,\"solidity\":0.2}},\"type\":\"histogram\"}],\"histogram2d\":[{\"colorbar\":{\"outlinewidth\":0,\"tickcolor\":\"rgb(237,237,237)\",\"ticklen\":6,\"ticks\":\"inside\"},\"colorscale\":[[0,\"rgb(20,44,66)\"],[1,\"rgb(90,179,244)\"]],\"type\":\"histogram2d\"}],\"histogram2dcontour\":[{\"colorbar\":{\"outlinewidth\":0,\"tickcolor\":\"rgb(237,237,237)\",\"ticklen\":6,\"ticks\":\"inside\"},\"colorscale\":[[0,\"rgb(20,44,66)\"],[1,\"rgb(90,179,244)\"]],\"type\":\"histogram2dcontour\"}],\"mesh3d\":[{\"colorbar\":{\"outlinewidth\":0,\"tickcolor\":\"rgb(237,237,237)\",\"ticklen\":6,\"ticks\":\"inside\"},\"type\":\"mesh3d\"}],\"parcoords\":[{\"line\":{\"colorbar\":{\"outlinewidth\":0,\"tickcolor\":\"rgb(237,237,237)\",\"ticklen\":6,\"ticks\":\"inside\"}},\"type\":\"parcoords\"}],\"pie\":[{\"automargin\":true,\"type\":\"pie\"}],\"scatter\":[{\"marker\":{\"colorbar\":{\"outlinewidth\":0,\"tickcolor\":\"rgb(237,237,237)\",\"ticklen\":6,\"ticks\":\"inside\"}},\"type\":\"scatter\"}],\"scatter3d\":[{\"line\":{\"colorbar\":{\"outlinewidth\":0,\"tickcolor\":\"rgb(237,237,237)\",\"ticklen\":6,\"ticks\":\"inside\"}},\"marker\":{\"colorbar\":{\"outlinewidth\":0,\"tickcolor\":\"rgb(237,237,237)\",\"ticklen\":6,\"ticks\":\"inside\"}},\"type\":\"scatter3d\"}],\"scattercarpet\":[{\"marker\":{\"colorbar\":{\"outlinewidth\":0,\"tickcolor\":\"rgb(237,237,237)\",\"ticklen\":6,\"ticks\":\"inside\"}},\"type\":\"scattercarpet\"}],\"scattergeo\":[{\"marker\":{\"colorbar\":{\"outlinewidth\":0,\"tickcolor\":\"rgb(237,237,237)\",\"ticklen\":6,\"ticks\":\"inside\"}},\"type\":\"scattergeo\"}],\"scattergl\":[{\"marker\":{\"colorbar\":{\"outlinewidth\":0,\"tickcolor\":\"rgb(237,237,237)\",\"ticklen\":6,\"ticks\":\"inside\"}},\"type\":\"scattergl\"}],\"scattermapbox\":[{\"marker\":{\"colorbar\":{\"outlinewidth\":0,\"tickcolor\":\"rgb(237,237,237)\",\"ticklen\":6,\"ticks\":\"inside\"}},\"type\":\"scattermapbox\"}],\"scatterpolar\":[{\"marker\":{\"colorbar\":{\"outlinewidth\":0,\"tickcolor\":\"rgb(237,237,237)\",\"ticklen\":6,\"ticks\":\"inside\"}},\"type\":\"scatterpolar\"}],\"scatterpolargl\":[{\"marker\":{\"colorbar\":{\"outlinewidth\":0,\"tickcolor\":\"rgb(237,237,237)\",\"ticklen\":6,\"ticks\":\"inside\"}},\"type\":\"scatterpolargl\"}],\"scatterternary\":[{\"marker\":{\"colorbar\":{\"outlinewidth\":0,\"tickcolor\":\"rgb(237,237,237)\",\"ticklen\":6,\"ticks\":\"inside\"}},\"type\":\"scatterternary\"}],\"surface\":[{\"colorbar\":{\"outlinewidth\":0,\"tickcolor\":\"rgb(237,237,237)\",\"ticklen\":6,\"ticks\":\"inside\"},\"colorscale\":[[0,\"rgb(20,44,66)\"],[1,\"rgb(90,179,244)\"]],\"type\":\"surface\"}],\"table\":[{\"cells\":{\"fill\":{\"color\":\"rgb(237,237,237)\"},\"line\":{\"color\":\"white\"}},\"header\":{\"fill\":{\"color\":\"rgb(217,217,217)\"},\"line\":{\"color\":\"white\"}},\"type\":\"table\"}]},\"layout\":{\"annotationdefaults\":{\"arrowhead\":0,\"arrowwidth\":1},\"autotypenumbers\":\"strict\",\"coloraxis\":{\"colorbar\":{\"outlinewidth\":0,\"tickcolor\":\"rgb(237,237,237)\",\"ticklen\":6,\"ticks\":\"inside\"}},\"colorscale\":{\"sequential\":[[0,\"rgb(20,44,66)\"],[1,\"rgb(90,179,244)\"]],\"sequentialminus\":[[0,\"rgb(20,44,66)\"],[1,\"rgb(90,179,244)\"]]},\"colorway\":[\"#F8766D\",\"#A3A500\",\"#00BF7D\",\"#00B0F6\",\"#E76BF3\"],\"font\":{\"color\":\"rgb(51,51,51)\"},\"geo\":{\"bgcolor\":\"white\",\"lakecolor\":\"white\",\"landcolor\":\"rgb(237,237,237)\",\"showlakes\":true,\"showland\":true,\"subunitcolor\":\"white\"},\"hoverlabel\":{\"align\":\"left\"},\"hovermode\":\"closest\",\"paper_bgcolor\":\"white\",\"plot_bgcolor\":\"rgb(237,237,237)\",\"polar\":{\"angularaxis\":{\"gridcolor\":\"white\",\"linecolor\":\"white\",\"showgrid\":true,\"tickcolor\":\"rgb(51,51,51)\",\"ticks\":\"outside\"},\"bgcolor\":\"rgb(237,237,237)\",\"radialaxis\":{\"gridcolor\":\"white\",\"linecolor\":\"white\",\"showgrid\":true,\"tickcolor\":\"rgb(51,51,51)\",\"ticks\":\"outside\"}},\"scene\":{\"xaxis\":{\"backgroundcolor\":\"rgb(237,237,237)\",\"gridcolor\":\"white\",\"gridwidth\":2,\"linecolor\":\"white\",\"showbackground\":true,\"showgrid\":true,\"tickcolor\":\"rgb(51,51,51)\",\"ticks\":\"outside\",\"zerolinecolor\":\"white\"},\"yaxis\":{\"backgroundcolor\":\"rgb(237,237,237)\",\"gridcolor\":\"white\",\"gridwidth\":2,\"linecolor\":\"white\",\"showbackground\":true,\"showgrid\":true,\"tickcolor\":\"rgb(51,51,51)\",\"ticks\":\"outside\",\"zerolinecolor\":\"white\"},\"zaxis\":{\"backgroundcolor\":\"rgb(237,237,237)\",\"gridcolor\":\"white\",\"gridwidth\":2,\"linecolor\":\"white\",\"showbackground\":true,\"showgrid\":true,\"tickcolor\":\"rgb(51,51,51)\",\"ticks\":\"outside\",\"zerolinecolor\":\"white\"}},\"shapedefaults\":{\"fillcolor\":\"black\",\"line\":{\"width\":0},\"opacity\":0.3},\"ternary\":{\"aaxis\":{\"gridcolor\":\"white\",\"linecolor\":\"white\",\"showgrid\":true,\"tickcolor\":\"rgb(51,51,51)\",\"ticks\":\"outside\"},\"baxis\":{\"gridcolor\":\"white\",\"linecolor\":\"white\",\"showgrid\":true,\"tickcolor\":\"rgb(51,51,51)\",\"ticks\":\"outside\"},\"bgcolor\":\"rgb(237,237,237)\",\"caxis\":{\"gridcolor\":\"white\",\"linecolor\":\"white\",\"showgrid\":true,\"tickcolor\":\"rgb(51,51,51)\",\"ticks\":\"outside\"}},\"xaxis\":{\"automargin\":true,\"gridcolor\":\"white\",\"linecolor\":\"white\",\"showgrid\":true,\"tickcolor\":\"rgb(51,51,51)\",\"ticks\":\"outside\",\"title\":{\"standoff\":15},\"zerolinecolor\":\"white\"},\"yaxis\":{\"automargin\":true,\"gridcolor\":\"white\",\"linecolor\":\"white\",\"showgrid\":true,\"tickcolor\":\"rgb(51,51,51)\",\"ticks\":\"outside\",\"title\":{\"standoff\":15},\"zerolinecolor\":\"white\"}}},\"title\":{\"text\":\"Actual vs. 'In-Sample' Forecast | x\"},\"xaxis\":{\"title\":{\"text\":\"Time\"}},\"yaxis\":{\"title\":{\"text\":\"Values\"}}},                        {\"responsive\": true}                    ).then(function(){\n",
              "                            \n",
              "var gd = document.getElementById('a65b9fec-4a63-4121-ad0a-9566a0f9da78');\n",
              "var x = new MutationObserver(function (mutations, observer) {{\n",
              "        var display = window.getComputedStyle(gd).display;\n",
              "        if (!display || display === 'none') {{\n",
              "            console.log([gd, 'removed!']);\n",
              "            Plotly.purge(gd);\n",
              "            observer.disconnect();\n",
              "        }}\n",
              "}});\n",
              "\n",
              "// Listen for the removal of the full notebook cells\n",
              "var notebookContainer = gd.closest('#notebook-container');\n",
              "if (notebookContainer) {{\n",
              "    x.observe(notebookContainer, {childList: true});\n",
              "}}\n",
              "\n",
              "// Listen for the clearing of the current output cell\n",
              "var outputEl = gd.closest('.output');\n",
              "if (outputEl) {{\n",
              "    x.observe(outputEl, {childList: true});\n",
              "}}\n",
              "\n",
              "                        })                };                            </script>        </div>\n",
              "</body>\n",
              "</html>"
            ]
          },
          "metadata": {}
        }
      ]
    },
    {
      "cell_type": "markdown",
      "metadata": {
        "id": "mGd35RlDZQCw"
      },
      "source": [
        "**The calculations match exactly with the theoretical calculations.** Hopefully this model has given us a good starting point to understand the inner workings of an ARIMA model. In the next set of FAQ's we will start covering the other parameters one by one and see the impact that they have on the model's behavior."
      ]
    }
  ]
}